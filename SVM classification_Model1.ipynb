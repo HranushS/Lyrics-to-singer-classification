{
 "cells": [
  {
   "cell_type": "code",
   "execution_count": 40,
   "id": "92858459",
   "metadata": {},
   "outputs": [],
   "source": [
    "import pandas as pd\n",
    "from sklearn.preprocessing import LabelEncoder\n",
    "import nltk\n",
    "from nltk.corpus import stopwords\n",
    "from nltk.tokenize import word_tokenize\n",
    "import string\n",
    "from sklearn.model_selection import train_test_split\n",
    "from sklearn.feature_extraction.text import TfidfTransformer, CountVectorizer, TfidfVectorizer\n",
    "from sklearn.svm import LinearSVC\n",
    "import numpy as np"
   ]
  },
  {
   "cell_type": "code",
   "execution_count": 41,
   "id": "fe521063",
   "metadata": {},
   "outputs": [],
   "source": [
    "df=pd.read_csv(\"translated.csv\")"
   ]
  },
  {
   "cell_type": "code",
   "execution_count": 42,
   "id": "5402914a",
   "metadata": {},
   "outputs": [
    {
     "data": {
      "text/html": [
       "<div>\n",
       "<style scoped>\n",
       "    .dataframe tbody tr th:only-of-type {\n",
       "        vertical-align: middle;\n",
       "    }\n",
       "\n",
       "    .dataframe tbody tr th {\n",
       "        vertical-align: top;\n",
       "    }\n",
       "\n",
       "    .dataframe thead th {\n",
       "        text-align: right;\n",
       "    }\n",
       "</style>\n",
       "<table border=\"1\" class=\"dataframe\">\n",
       "  <thead>\n",
       "    <tr style=\"text-align: right;\">\n",
       "      <th></th>\n",
       "      <th>Artist</th>\n",
       "      <th>Song</th>\n",
       "      <th>Translated_Lyrics</th>\n",
       "    </tr>\n",
       "  </thead>\n",
       "  <tbody>\n",
       "    <tr>\n",
       "      <th>0</th>\n",
       "      <td>ԱՐԹՈՒՐ ՄԵՍՉՅԱՆ</td>\n",
       "      <td>ԱՀԱ ԵՎ ՎԵՐՋ</td>\n",
       "      <td>Here is an end\\n\\r\\nEnd of paragraphs and last...</td>\n",
       "    </tr>\n",
       "    <tr>\n",
       "      <th>1</th>\n",
       "      <td>ԱՐԹՈՒՐ ՄԵՍՉՅԱՆ</td>\n",
       "      <td>ԱՄԵՆԸ ՁԵԶ</td>\n",
       "      <td>Large-scale and wonderful temples\\n\\r\\nAnd the...</td>\n",
       "    </tr>\n",
       "    <tr>\n",
       "      <th>2</th>\n",
       "      <td>ԱՐԹՈՒՐ ՄԵՍՉՅԱՆ</td>\n",
       "      <td>ԱՆԱՌԱԿ ՈՐԴՈՒ ՎԵՐԱԴԱՐՁԸ</td>\n",
       "      <td>When like a prodigal son\\n\\r\\nBecome your own ...</td>\n",
       "    </tr>\n",
       "    <tr>\n",
       "      <th>3</th>\n",
       "      <td>ԱՐԹՈՒՐ ՄԵՍՉՅԱՆ</td>\n",
       "      <td>ԱՇԽԱՐՀԻ ՑԱՎՈՎ</td>\n",
       "      <td>My heart with Kariy's world pain\\n\\r\\nHow much...</td>\n",
       "    </tr>\n",
       "    <tr>\n",
       "      <th>4</th>\n",
       "      <td>ԱՐԹՈՒՐ ՄԵՍՉՅԱՆ</td>\n",
       "      <td>ԱՌԱՋ ԳԻՏԵԻ</td>\n",
       "      <td>I was known before\\n\\r\\nWhat people would be a...</td>\n",
       "    </tr>\n",
       "  </tbody>\n",
       "</table>\n",
       "</div>"
      ],
      "text/plain": [
       "           Artist                    Song  \\\n",
       "0  ԱՐԹՈՒՐ ՄԵՍՉՅԱՆ             ԱՀԱ ԵՎ ՎԵՐՋ   \n",
       "1  ԱՐԹՈՒՐ ՄԵՍՉՅԱՆ               ԱՄԵՆԸ ՁԵԶ   \n",
       "2  ԱՐԹՈՒՐ ՄԵՍՉՅԱՆ  ԱՆԱՌԱԿ ՈՐԴՈՒ ՎԵՐԱԴԱՐՁԸ   \n",
       "3  ԱՐԹՈՒՐ ՄԵՍՉՅԱՆ           ԱՇԽԱՐՀԻ ՑԱՎՈՎ   \n",
       "4  ԱՐԹՈՒՐ ՄԵՍՉՅԱՆ              ԱՌԱՋ ԳԻՏԵԻ   \n",
       "\n",
       "                                   Translated_Lyrics  \n",
       "0  Here is an end\\n\\r\\nEnd of paragraphs and last...  \n",
       "1  Large-scale and wonderful temples\\n\\r\\nAnd the...  \n",
       "2  When like a prodigal son\\n\\r\\nBecome your own ...  \n",
       "3  My heart with Kariy's world pain\\n\\r\\nHow much...  \n",
       "4  I was known before\\n\\r\\nWhat people would be a...  "
      ]
     },
     "execution_count": 42,
     "metadata": {},
     "output_type": "execute_result"
    }
   ],
   "source": [
    "df.head()"
   ]
  },
  {
   "cell_type": "code",
   "execution_count": 43,
   "id": "9e16020a",
   "metadata": {
    "scrolled": true
   },
   "outputs": [
    {
     "data": {
      "text/plain": [
       "ՌՈՒԲԵՆ ՀԱԽՎԵՐԴՅԱՆ     85\n",
       "ԿՈՄԻՏԱՍ               64\n",
       "ԱՐԹՈՒՐ ՄԵՍՉՅԱՆ        50\n",
       "Harout Pamboukjian    40\n",
       "Misho                 29\n",
       "Լիլիթ Հովհաննիսյան    27\n",
       "Սիրուշո               27\n",
       "Հայկ Հակոբյան         25\n",
       "Arsen Safaryan        24\n",
       "Razmik Amyan          23\n",
       "Silva Hakobyan        20\n",
       "Միհրան Ծառուկյան      19\n",
       "Aram MP3              18\n",
       "HT Hayko              16\n",
       "ՍԱՅԱԹ-ՆՈՎԱ            16\n",
       "Mi Qani Hogi          16\n",
       "Անդրե                 12\n",
       "Empyray               11\n",
       "Arame                 11\n",
       " Lav Eli              10\n",
       "Name: Artist, dtype: int64"
      ]
     },
     "execution_count": 43,
     "metadata": {},
     "output_type": "execute_result"
    }
   ],
   "source": [
    "df[\"Artist\"].value_counts()"
   ]
  },
  {
   "cell_type": "code",
   "execution_count": 45,
   "id": "93166759",
   "metadata": {},
   "outputs": [],
   "source": [
    "df=df.dropna()"
   ]
  },
  {
   "cell_type": "code",
   "execution_count": 8,
   "id": "4ebe88b4",
   "metadata": {},
   "outputs": [
    {
     "data": {
      "text/plain": [
       "(506, 3)"
      ]
     },
     "execution_count": 8,
     "metadata": {},
     "output_type": "execute_result"
    }
   ],
   "source": [
    "df.shape"
   ]
  },
  {
   "cell_type": "code",
   "execution_count": 46,
   "id": "49418bd7",
   "metadata": {},
   "outputs": [
    {
     "data": {
      "text/plain": [
       "ՌՈՒԲԵՆ ՀԱԽՎԵՐԴՅԱՆ     81\n",
       "ԿՈՄԻՏԱՍ               62\n",
       "ԱՐԹՈՒՐ ՄԵՍՉՅԱՆ        50\n",
       "Harout Pamboukjian    32\n",
       "Misho                 26\n",
       "Սիրուշո               25\n",
       "Լիլիթ Հովհաննիսյան    24\n",
       "Հայկ Հակոբյան         23\n",
       "Arsen Safaryan        23\n",
       "Silva Hakobyan        20\n",
       "Միհրան Ծառուկյան      18\n",
       "Razmik Amyan          18\n",
       "Aram MP3              17\n",
       "HT Hayko              16\n",
       "ՍԱՅԱԹ-ՆՈՎԱ            16\n",
       "Mi Qani Hogi          15\n",
       "Անդրե                 12\n",
       "Empyray               10\n",
       " Lav Eli               9\n",
       "Arame                  9\n",
       "Name: Artist, dtype: int64"
      ]
     },
     "execution_count": 46,
     "metadata": {},
     "output_type": "execute_result"
    }
   ],
   "source": [
    "df[\"Artist\"].value_counts()"
   ]
  },
  {
   "cell_type": "code",
   "execution_count": 47,
   "id": "c5160341",
   "metadata": {},
   "outputs": [],
   "source": [
    "df['Translated_Lyrics'] = df['Translated_Lyrics'].astype(str)"
   ]
  },
  {
   "cell_type": "code",
   "execution_count": 48,
   "id": "eea4393f",
   "metadata": {},
   "outputs": [
    {
     "name": "stdout",
     "output_type": "stream",
     "text": [
      "Number of english songs: 503\n",
      "Number of non-english songs: 3\n"
     ]
    }
   ],
   "source": [
    "from langdetect import detect_langs\n",
    "\n",
    "def get_eng_prob(text):\n",
    "    detections = detect_langs(text)\n",
    "    for detection in detections:\n",
    "        if detection.lang == 'en':\n",
    "            return detection.prob\n",
    "    return 0\n",
    "\n",
    "df['en_prob'] = df['Translated_Lyrics'].map(get_eng_prob)\n",
    "\n",
    "print('Number of english songs: {}'.format(sum(df['en_prob'] >= 0.5)))\n",
    "print('Number of non-english songs: {}'.format(sum(df['en_prob'] < 0.5)))"
   ]
  },
  {
   "cell_type": "code",
   "execution_count": 49,
   "id": "902355f5",
   "metadata": {},
   "outputs": [],
   "source": [
    "df = df.loc[df['en_prob'] >= 0.5]"
   ]
  },
  {
   "cell_type": "code",
   "execution_count": 52,
   "id": "1178facf",
   "metadata": {},
   "outputs": [
    {
     "name": "stdout",
     "output_type": "stream",
     "text": [
      "['Here', 'is', 'an', 'end', 'End', 'of', 'paragraphs', 'and', 'lasting', 'As', 'a', 'last', 'closed', 'page', 'And', 'no', 'return', 'already', 'Oh', 'native', 'bugs', 'You', 'my', 'last', 'Last', 'Prayer', 'Suburbs', 'of', 'prison', 'psyche', 'Chain', 'and', 'solo', 'Here', 'And', 'the', 'end', 'In', 'the', 'heart', 'of', 'a', 'powerless', 'cry', 'Oh', 'unfinished', 'my', 'song', 'You', 'my', 'last', 'capital', 'Now', 'we', 'believe', 'Where', 'is', 'the', 'Spirit', 's', 'Church', 'We', 'won', 'the', 'war', 'But', 'it', 'turns', 'out', 'that', 'we', 'lost', 'Here', 'And', 'the', 'end', 'Tell', 'me', 'a', 'voice', 'from', 'the', 'depth', 'Is', 'the', 'mask', 'of', 'the', 'mask', 'now', 'speaks', 'Which', 'puppet', 'is', 'the', 'crowd', 'The', 'song', 'is', 'the', 'arrow', 'of', 'freedom', 'And', 'the', 'spear', 'of', 'myth', 'Bel', 'Joschin', 'Hayk', 'won', 'Or', 'the', 'opposite', 'of', 'probably', 'And', 'the', 'pages', 'close', 'the', 'myth', 'tired', 'Stone', 'Statue', 'History', 'Forgotten', 'There', 'is', 'no', 'start', 'and', 'finish', 'for', 'this', 'eternal', 'struggle', 'Your', 'Type', 'of', 'Elimination', 'is', 'delivered', 'to', 'Bell', 'Here', 'And', 'the', 'end', 'Hayk', 'lost', 'to', 'Bell', 'Here', 'And', 'the', 'end', 'I', 'lost', 'in', 'a', 'terrible', 'battle', 'The', 'song', 'was', 'hit', 'by', 'my', 'unfinished', 'But', 'why', 'not', 'end', 'Oh', 'native', 'bugs', 'You', 'my', 'last', 'Last', 'Prayer', 'Printed', 'Hoku', 'suburbs', 'Chain', 'and', 'solo', 'Here', 'And', 'the', 'end', 'In', 'the', 'heart', 'of', 'a', 'powerless', 'cry', 'Oh', 'unfinished', 'my', 'song', 'You', 'my', 'last', 'capital', 'Now', 'we', 'believe', 'Where', 'is', 'the', 'Spirit', 's', 'Church', 'We', 'won', 'the', 'war', 'But', 'it', 'turns', 'out', 'that', 'we', 'lost', 'And', 'the', 'pages', 'close', 'the', 'myth', 'tired', 'Stone', 'Statue', 'History', 'Forgotten', 'There', 'is', 'no', 'start', 'and', 'finish', 'for', 'this', 'eternal', 'struggle', 'The', 'abolished', 'type', 'is', 'losing', 'Bell', 'Here', 'And', 'the', 'end', 'Hayk', 'lost', 'to', 'Bell']\n"
     ]
    }
   ],
   "source": [
    "tokenizer = nltk.tokenize.RegexpTokenizer(r'\\w+')\n",
    "df['tokens'] = df['Translated_Lyrics'].map(tokenizer.tokenize)\n",
    "\n",
    "print(df['tokens'].iloc[0])"
   ]
  },
  {
   "cell_type": "code",
   "execution_count": 54,
   "id": "9c4a4a3d",
   "metadata": {},
   "outputs": [],
   "source": [
    "stemmer = nltk.stem.porter.PorterStemmer()"
   ]
  },
  {
   "cell_type": "code",
   "execution_count": 74,
   "id": "11319f12",
   "metadata": {
    "scrolled": true
   },
   "outputs": [
    {
     "name": "stdout",
     "output_type": "stream",
     "text": [
      "# of words: 89357\n",
      "# of unique words: 8809\n",
      "# of unique word roots: 5811\n"
     ]
    }
   ],
   "source": [
    "a= {}\n",
    "token_count = 0\n",
    "for lst in df['tokens']:\n",
    "    # iterate through all tokens of song\n",
    "    for token in lst:\n",
    "        token_count += 1\n",
    "        # check if token is in dictionary\n",
    "        if token not in a:\n",
    "            # add token to dictionary\n",
    "            a[token] = stemmer.stem(token)\n",
    "            \n",
    "df['Ergi Barer'] = df['tokens'].map(lambda lst: [a[token] for token in lst])\n",
    "\n",
    "print('# of words: {}'.format(token_count))\n",
    "print('# of unique words: {}'.format(len(a.keys())))\n",
    "print('# of unique word roots: {}'.format(len(set(a.values()))))"
   ]
  },
  {
   "cell_type": "code",
   "execution_count": 58,
   "id": "505b64c5",
   "metadata": {},
   "outputs": [
    {
     "data": {
      "text/html": [
       "<div>\n",
       "<style scoped>\n",
       "    .dataframe tbody tr th:only-of-type {\n",
       "        vertical-align: middle;\n",
       "    }\n",
       "\n",
       "    .dataframe tbody tr th {\n",
       "        vertical-align: top;\n",
       "    }\n",
       "\n",
       "    .dataframe thead th {\n",
       "        text-align: right;\n",
       "    }\n",
       "</style>\n",
       "<table border=\"1\" class=\"dataframe\">\n",
       "  <thead>\n",
       "    <tr style=\"text-align: right;\">\n",
       "      <th></th>\n",
       "      <th>Artist</th>\n",
       "      <th>Song</th>\n",
       "      <th>Translated_Lyrics</th>\n",
       "      <th>en_prob</th>\n",
       "      <th>tokens</th>\n",
       "      <th>ErgiBarer</th>\n",
       "      <th>Ergi Barer</th>\n",
       "    </tr>\n",
       "  </thead>\n",
       "  <tbody>\n",
       "    <tr>\n",
       "      <th>0</th>\n",
       "      <td>ԱՐԹՈՒՐ ՄԵՍՉՅԱՆ</td>\n",
       "      <td>ԱՀԱ ԵՎ ՎԵՐՋ</td>\n",
       "      <td>Here is an end\\n\\r\\nEnd of paragraphs and last...</td>\n",
       "      <td>0.999994</td>\n",
       "      <td>[Here, is, an, end, End, of, paragraphs, and, ...</td>\n",
       "      <td>[here, is, an, end, end, of, paragraph, and, l...</td>\n",
       "      <td>[here, is, an, end, end, of, paragraph, and, l...</td>\n",
       "    </tr>\n",
       "    <tr>\n",
       "      <th>1</th>\n",
       "      <td>ԱՐԹՈՒՐ ՄԵՍՉՅԱՆ</td>\n",
       "      <td>ԱՄԵՆԸ ՁԵԶ</td>\n",
       "      <td>Large-scale and wonderful temples\\n\\r\\nAnd the...</td>\n",
       "      <td>0.999997</td>\n",
       "      <td>[Large, scale, and, wonderful, temples, And, t...</td>\n",
       "      <td>[larg, scale, and, wonder, templ, and, the, pr...</td>\n",
       "      <td>[larg, scale, and, wonder, templ, and, the, pr...</td>\n",
       "    </tr>\n",
       "    <tr>\n",
       "      <th>2</th>\n",
       "      <td>ԱՐԹՈՒՐ ՄԵՍՉՅԱՆ</td>\n",
       "      <td>ԱՆԱՌԱԿ ՈՐԴՈՒ ՎԵՐԱԴԱՐՁԸ</td>\n",
       "      <td>When like a prodigal son\\n\\r\\nBecome your own ...</td>\n",
       "      <td>0.999997</td>\n",
       "      <td>[When, like, a, prodigal, son, Become, your, o...</td>\n",
       "      <td>[when, like, a, prodig, son, becom, your, own,...</td>\n",
       "      <td>[when, like, a, prodig, son, becom, your, own,...</td>\n",
       "    </tr>\n",
       "    <tr>\n",
       "      <th>3</th>\n",
       "      <td>ԱՐԹՈՒՐ ՄԵՍՉՅԱՆ</td>\n",
       "      <td>ԱՇԽԱՐՀԻ ՑԱՎՈՎ</td>\n",
       "      <td>My heart with Kariy's world pain\\n\\r\\nHow much...</td>\n",
       "      <td>0.999997</td>\n",
       "      <td>[My, heart, with, Kariy, s, world, pain, How, ...</td>\n",
       "      <td>[my, heart, with, kariy, s, world, pain, how, ...</td>\n",
       "      <td>[my, heart, with, kariy, s, world, pain, how, ...</td>\n",
       "    </tr>\n",
       "    <tr>\n",
       "      <th>4</th>\n",
       "      <td>ԱՐԹՈՒՐ ՄԵՍՉՅԱՆ</td>\n",
       "      <td>ԱՌԱՋ ԳԻՏԵԻ</td>\n",
       "      <td>I was known before\\n\\r\\nWhat people would be a...</td>\n",
       "      <td>0.999996</td>\n",
       "      <td>[I, was, known, before, What, people, would, b...</td>\n",
       "      <td>[i, wa, known, befor, what, peopl, would, be, ...</td>\n",
       "      <td>[i, wa, known, befor, what, peopl, would, be, ...</td>\n",
       "    </tr>\n",
       "    <tr>\n",
       "      <th>...</th>\n",
       "      <td>...</td>\n",
       "      <td>...</td>\n",
       "      <td>...</td>\n",
       "      <td>...</td>\n",
       "      <td>...</td>\n",
       "      <td>...</td>\n",
       "      <td>...</td>\n",
       "    </tr>\n",
       "    <tr>\n",
       "      <th>537</th>\n",
       "      <td>Mi Qani Hogi</td>\n",
       "      <td>Chanapar</td>\n",
       "      <td>Several people\\n\\n\\n\\n\\nWHAT WILL THIS WAY TO ...</td>\n",
       "      <td>0.999997</td>\n",
       "      <td>[Several, people, WHAT, WILL, THIS, WAY, TO, Y...</td>\n",
       "      <td>[sever, peopl, what, will, thi, way, to, you, ...</td>\n",
       "      <td>[sever, peopl, what, will, thi, way, to, you, ...</td>\n",
       "    </tr>\n",
       "    <tr>\n",
       "      <th>538</th>\n",
       "      <td>Mi Qani Hogi</td>\n",
       "      <td>Es Pahin</td>\n",
       "      <td>It seems to us seems to be\\n\\nThat one is watc...</td>\n",
       "      <td>0.999998</td>\n",
       "      <td>[It, seems, to, us, seems, to, be, That, one, ...</td>\n",
       "      <td>[it, seem, to, us, seem, to, be, that, one, is...</td>\n",
       "      <td>[it, seem, to, us, seem, to, be, that, one, is...</td>\n",
       "    </tr>\n",
       "    <tr>\n",
       "      <th>539</th>\n",
       "      <td>Mi Qani Hogi</td>\n",
       "      <td>Rhyme</td>\n",
       "      <td>Several people\\n\\nICF:\\n\\n\\n\\n\\nDid you find a...</td>\n",
       "      <td>0.999997</td>\n",
       "      <td>[Several, people, ICF, Did, you, find, a, wave...</td>\n",
       "      <td>[sever, peopl, icf, did, you, find, a, wave, o...</td>\n",
       "      <td>[sever, peopl, icf, did, you, find, a, wave, o...</td>\n",
       "    </tr>\n",
       "    <tr>\n",
       "      <th>541</th>\n",
       "      <td>Mi Qani Hogi</td>\n",
       "      <td>Yes Qo Nmanei</td>\n",
       "      <td>one\\n\\nLike:\\n\\nOne one\\n\\n        \\n\\n     al...</td>\n",
       "      <td>0.999997</td>\n",
       "      <td>[one, Like, One, one, all, One, one, holiday, ...</td>\n",
       "      <td>[one, like, one, one, all, one, one, holiday, ...</td>\n",
       "      <td>[one, like, one, one, all, one, one, holiday, ...</td>\n",
       "    </tr>\n",
       "    <tr>\n",
       "      <th>542</th>\n",
       "      <td>Mi Qani Hogi</td>\n",
       "      <td>Lav Jamanak</td>\n",
       "      <td>Refresh you, you are lucky enough to be with y...</td>\n",
       "      <td>0.999997</td>\n",
       "      <td>[Refresh, you, you, are, lucky, enough, to, be...</td>\n",
       "      <td>[refresh, you, you, are, lucki, enough, to, be...</td>\n",
       "      <td>[refresh, you, you, are, lucki, enough, to, be...</td>\n",
       "    </tr>\n",
       "  </tbody>\n",
       "</table>\n",
       "<p>503 rows × 7 columns</p>\n",
       "</div>"
      ],
      "text/plain": [
       "             Artist                    Song  \\\n",
       "0    ԱՐԹՈՒՐ ՄԵՍՉՅԱՆ             ԱՀԱ ԵՎ ՎԵՐՋ   \n",
       "1    ԱՐԹՈՒՐ ՄԵՍՉՅԱՆ               ԱՄԵՆԸ ՁԵԶ   \n",
       "2    ԱՐԹՈՒՐ ՄԵՍՉՅԱՆ  ԱՆԱՌԱԿ ՈՐԴՈՒ ՎԵՐԱԴԱՐՁԸ   \n",
       "3    ԱՐԹՈՒՐ ՄԵՍՉՅԱՆ           ԱՇԽԱՐՀԻ ՑԱՎՈՎ   \n",
       "4    ԱՐԹՈՒՐ ՄԵՍՉՅԱՆ              ԱՌԱՋ ԳԻՏԵԻ   \n",
       "..              ...                     ...   \n",
       "537    Mi Qani Hogi                Chanapar   \n",
       "538    Mi Qani Hogi                Es Pahin   \n",
       "539    Mi Qani Hogi                   Rhyme   \n",
       "541    Mi Qani Hogi           Yes Qo Nmanei   \n",
       "542    Mi Qani Hogi             Lav Jamanak   \n",
       "\n",
       "                                     Translated_Lyrics   en_prob  \\\n",
       "0    Here is an end\\n\\r\\nEnd of paragraphs and last...  0.999994   \n",
       "1    Large-scale and wonderful temples\\n\\r\\nAnd the...  0.999997   \n",
       "2    When like a prodigal son\\n\\r\\nBecome your own ...  0.999997   \n",
       "3    My heart with Kariy's world pain\\n\\r\\nHow much...  0.999997   \n",
       "4    I was known before\\n\\r\\nWhat people would be a...  0.999996   \n",
       "..                                                 ...       ...   \n",
       "537  Several people\\n\\n\\n\\n\\nWHAT WILL THIS WAY TO ...  0.999997   \n",
       "538  It seems to us seems to be\\n\\nThat one is watc...  0.999998   \n",
       "539  Several people\\n\\nICF:\\n\\n\\n\\n\\nDid you find a...  0.999997   \n",
       "541  one\\n\\nLike:\\n\\nOne one\\n\\n        \\n\\n     al...  0.999997   \n",
       "542  Refresh you, you are lucky enough to be with y...  0.999997   \n",
       "\n",
       "                                                tokens  \\\n",
       "0    [Here, is, an, end, End, of, paragraphs, and, ...   \n",
       "1    [Large, scale, and, wonderful, temples, And, t...   \n",
       "2    [When, like, a, prodigal, son, Become, your, o...   \n",
       "3    [My, heart, with, Kariy, s, world, pain, How, ...   \n",
       "4    [I, was, known, before, What, people, would, b...   \n",
       "..                                                 ...   \n",
       "537  [Several, people, WHAT, WILL, THIS, WAY, TO, Y...   \n",
       "538  [It, seems, to, us, seems, to, be, That, one, ...   \n",
       "539  [Several, people, ICF, Did, you, find, a, wave...   \n",
       "541  [one, Like, One, one, all, One, one, holiday, ...   \n",
       "542  [Refresh, you, you, are, lucky, enough, to, be...   \n",
       "\n",
       "                                             ErgiBarer  \\\n",
       "0    [here, is, an, end, end, of, paragraph, and, l...   \n",
       "1    [larg, scale, and, wonder, templ, and, the, pr...   \n",
       "2    [when, like, a, prodig, son, becom, your, own,...   \n",
       "3    [my, heart, with, kariy, s, world, pain, how, ...   \n",
       "4    [i, wa, known, befor, what, peopl, would, be, ...   \n",
       "..                                                 ...   \n",
       "537  [sever, peopl, what, will, thi, way, to, you, ...   \n",
       "538  [it, seem, to, us, seem, to, be, that, one, is...   \n",
       "539  [sever, peopl, icf, did, you, find, a, wave, o...   \n",
       "541  [one, like, one, one, all, one, one, holiday, ...   \n",
       "542  [refresh, you, you, are, lucki, enough, to, be...   \n",
       "\n",
       "                                            Ergi Barer  \n",
       "0    [here, is, an, end, end, of, paragraph, and, l...  \n",
       "1    [larg, scale, and, wonder, templ, and, the, pr...  \n",
       "2    [when, like, a, prodig, son, becom, your, own,...  \n",
       "3    [my, heart, with, kariy, s, world, pain, how, ...  \n",
       "4    [i, wa, known, befor, what, peopl, would, be, ...  \n",
       "..                                                 ...  \n",
       "537  [sever, peopl, what, will, thi, way, to, you, ...  \n",
       "538  [it, seem, to, us, seem, to, be, that, one, is...  \n",
       "539  [sever, peopl, icf, did, you, find, a, wave, o...  \n",
       "541  [one, like, one, one, all, one, one, holiday, ...  \n",
       "542  [refresh, you, you, are, lucki, enough, to, be...  \n",
       "\n",
       "[503 rows x 7 columns]"
      ]
     },
     "execution_count": 58,
     "metadata": {},
     "output_type": "execute_result"
    }
   ],
   "source": [
    "df"
   ]
  },
  {
   "cell_type": "code",
   "execution_count": 62,
   "id": "d7960bbb",
   "metadata": {},
   "outputs": [],
   "source": [
    "Bararan = set(word for lyric in df['Ergi Barer'] for word in lyric)"
   ]
  },
  {
   "cell_type": "code",
   "execution_count": 63,
   "id": "c72c50cf",
   "metadata": {},
   "outputs": [],
   "source": [
    "vectorizer = TfidfVectorizer(vocabulary=Bararan)\n",
    "X = vectorizer.fit_transform([' '.join(lyric) for lyric in df['Ergi Barer']])\n"
   ]
  },
  {
   "cell_type": "code",
   "execution_count": 64,
   "id": "f9ae89cd",
   "metadata": {},
   "outputs": [],
   "source": [
    "encoder = LabelEncoder()\n",
    "y = encoder.fit_transform(df['Artist'])"
   ]
  },
  {
   "cell_type": "code",
   "execution_count": 69,
   "id": "93e94258",
   "metadata": {},
   "outputs": [],
   "source": [
    "X_train, X_test, y_train, y_test = train_test_split(X, y, test_size=0.30, random_state=42)"
   ]
  },
  {
   "cell_type": "code",
   "execution_count": 70,
   "id": "8455ba86",
   "metadata": {},
   "outputs": [
    {
     "name": "stdout",
     "output_type": "stream",
     "text": [
      "Accuracy: 49.00662251655629%\n"
     ]
    }
   ],
   "source": [
    "model = LinearSVC(class_weight='balanced')\n",
    "model.fit(X_train, y_train)\n",
    "\n",
    "\n",
    "accuracy = model.score(X_test, y_test)\n",
    "print(f'Accuracy: {accuracy * 100}%')"
   ]
  },
  {
   "cell_type": "code",
   "execution_count": 72,
   "id": "5b15d8e3",
   "metadata": {},
   "outputs": [
    {
     "data": {
      "image/png": "[encoded data removed]",
      "text/plain": [
       "<Figure size 720x720 with 2 Axes>"
      ]
     },
     "metadata": {
      "needs_background": "light"
     },
     "output_type": "display_data"
    }
   ],
   "source": [
    "from sklearn.metrics import confusion_matrix\n",
    "import seaborn as sns\n",
    "import matplotlib.pyplot as plt\n",
    "\n",
    "\n",
    "y_pred = model.predict(X_test)\n",
    "\n",
    "\n",
    "y_test_artist = encoder.inverse_transform(y_test)\n",
    "y_pred_artist = encoder.inverse_transform(y_pred)\n",
    "\n",
    "\n",
    "conf_matrix = confusion_matrix(y_test_artist, y_pred_artist)\n",
    "plt.figure(figsize=(10,10))\n",
    "sns.heatmap(conf_matrix, annot=True, fmt=\"d\",\n",
    "            xticklabels=encoder.classes_, \n",
    "            yticklabels=encoder.classes_)\n",
    "plt.ylabel(\"Actual\")\n",
    "plt.xlabel(\"Predicted\")\n",
    "plt.title(\" DIAGONALS  show the correctly classified Artists with SVM\")\n",
    "plt.show()"
   ]
  },
  {
   "cell_type": "code",
   "execution_count": null,
   "id": "a1d95b3c",
   "metadata": {},
   "outputs": [],
   "source": []
  },
  {
   "cell_type": "code",
   "execution_count": null,
   "id": "7f7f1ba5",
   "metadata": {},
   "outputs": [],
   "source": []
  },
  {
   "cell_type": "code",
   "execution_count": null,
   "id": "f2d7f613",
   "metadata": {},
   "outputs": [],
   "source": []
  },
  {
   "cell_type": "code",
   "execution_count": null,
   "id": "71d77d80",
   "metadata": {},
   "outputs": [],
   "source": []
  },
  {
   "cell_type": "code",
   "execution_count": null,
   "id": "1b67c847",
   "metadata": {},
   "outputs": [],
   "source": []
  },
  {
   "cell_type": "code",
   "execution_count": null,
   "id": "46d5db05",
   "metadata": {},
   "outputs": [],
   "source": []
  },
  {
   "cell_type": "code",
   "execution_count": null,
   "id": "4b054150",
   "metadata": {},
   "outputs": [],
   "source": []
  }
 ],
 "metadata": {
  "kernelspec": {
   "display_name": "Python 3 (ipykernel)",
   "language": "python",
   "name": "python3"
  },
  "language_info": {
   "codemirror_mode": {
    "name": "ipython",
    "version": 3
   },
   "file_extension": ".py",
   "mimetype": "text/x-python",
   "name": "python",
   "nbconvert_exporter": "python",
   "pygments_lexer": "ipython3",
   "version": "3.9.12"
  }
 },
 "nbformat": 4,
 "nbformat_minor": 5
}
