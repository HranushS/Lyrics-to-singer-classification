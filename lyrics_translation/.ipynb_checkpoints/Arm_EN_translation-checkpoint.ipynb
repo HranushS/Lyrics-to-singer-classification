{
 "cells": [
  {
   "cell_type": "code",
   "execution_count": 40,
   "id": "91301962",
   "metadata": {},
   "outputs": [],
   "source": [
    "import pandas as pd\n",
    "from langdetect import detect_langs\n",
    "from googletrans import Translator"
   ]
  },
  {
   "cell_type": "code",
   "execution_count": 41,
   "id": "c9258ced",
   "metadata": {},
   "outputs": [
    {
     "name": "stdout",
     "output_type": "stream",
     "text": [
      "             Artist                    Song  \\\n",
      "0    ԱՐԹՈՒՐ ՄԵՍՉՅԱՆ             ԱՀԱ ԵՎ ՎԵՐՋ   \n",
      "1    ԱՐԹՈՒՐ ՄԵՍՉՅԱՆ               ԱՄԵՆԸ ՁԵԶ   \n",
      "2    ԱՐԹՈՒՐ ՄԵՍՉՅԱՆ  ԱՆԱՌԱԿ ՈՐԴՈՒ ՎԵՐԱԴԱՐՁԸ   \n",
      "3    ԱՐԹՈՒՐ ՄԵՍՉՅԱՆ           ԱՇԽԱՐՀԻ ՑԱՎՈՎ   \n",
      "4    ԱՐԹՈՒՐ ՄԵՍՉՅԱՆ              ԱՌԱՋ ԳԻՏԵԻ   \n",
      "..              ...                     ...   \n",
      "538    Mi Qani Hogi                Es Pahin   \n",
      "539    Mi Qani Hogi                   Rhyme   \n",
      "540    Mi Qani Hogi                   Toxer   \n",
      "541    Mi Qani Hogi           Yes Qo Nmanei   \n",
      "542    Mi Qani Hogi             Lav Jamanak   \n",
      "\n",
      "                                                Lyrics  \n",
      "0    \\r\\n\\tԱհա և վերջ\\n\\r\\n\\tՎերջ հարաժամ և հարատև\\...  \n",
      "1    \\r\\n\\tՄեծածավալ և հիասքանչ տաճարների\\n\\r\\n\\tԵվ...  \n",
      "2    \\r\\n\\tԵրբ անառակ որդու նման\\n\\r\\n\\tԴառնաս թողա...  \n",
      "3    \\r\\n\\tՍիրտս կարյունի աշխարհի ցավով\\n\\r\\n\\tՈրքա...  \n",
      "4    \\r\\n\\tԱռաջ գիտեի\\n\\r\\n\\tԹե մարդիկ ինչու կգային...  \n",
      "..                                                 ...  \n",
      "538  \\n\\n\\nՄեզ թվումա որ մեզ թվումա\\n\\nՈր մեկը մեզ ...  \n",
      "539  \\n\\n\\nՄի Քանի Հոգի\\n\\nՄՔՀ\\n\\n\\n\\n\\nԳտածդ ալիք ...  \n",
      "540  \\n\\n\\nԷրեգ սկիզբն էր վաղը վերջն ա մոտենում\\n\\n...  \n",
      "541  \\n\\n\\n  մեկը   \\n\\nԴուրը     տեղը  \\n\\nՄեկը  մ...  \n",
      "542  \\n\\n\\n\\n\\nԹարմացրու քեզ դու իմացի բախտը քո կող...  \n",
      "\n",
      "[543 rows x 3 columns]\n"
     ]
    }
   ],
   "source": [
    "df=pd.read_csv('cleanedData.csv')\n",
    "print(df)"
   ]
  },
  {
   "cell_type": "code",
   "execution_count": 42,
   "id": "d0c10ef9",
   "metadata": {},
   "outputs": [
    {
     "name": "stdout",
     "output_type": "stream",
     "text": [
      "ՌՈՒԲԵՆ ՀԱԽՎԵՐԴՅԱՆ     85\n",
      "ԿՈՄԻՏԱՍ               64\n",
      "ԱՐԹՈՒՐ ՄԵՍՉՅԱՆ        50\n",
      "Harout Pamboukjian    40\n",
      "Misho                 29\n",
      "Լիլիթ Հովհաննիսյան    27\n",
      "Սիրուշո               27\n",
      "Հայկ Հակոբյան         25\n",
      "Arsen Safaryan        24\n",
      "Razmik Amyan          23\n",
      "Silva Hakobyan        20\n",
      "Միհրան Ծառուկյան      19\n",
      "Aram MP3              18\n",
      "HT Hayko              16\n",
      "ՍԱՅԱԹ-ՆՈՎԱ            16\n",
      "Mi Qani Hogi          16\n",
      "Անդրե                 12\n",
      "Empyray               11\n",
      "Arame                 11\n",
      " Lav Eli              10\n",
      "Name: Artist, dtype: int64\n"
     ]
    }
   ],
   "source": [
    "song_counts = df['Artist'].value_counts()\n",
    "\n",
    "print(song_counts)"
   ]
  },
  {
   "cell_type": "code",
   "execution_count": 43,
   "id": "acc6eccb",
   "metadata": {},
   "outputs": [],
   "source": [
    "#df['Lyrics'] = df['Lyrics'].str.replace(r'\\n|\\r|\\t', '', regex=True)\n",
    "#print (df)"
   ]
  },
  {
   "cell_type": "code",
   "execution_count": 44,
   "id": "6c409d5c",
   "metadata": {},
   "outputs": [
    {
     "name": "stdout",
     "output_type": "stream",
     "text": [
      "Number of english songs: 0\n",
      "Number of non-english songs: 543\n"
     ]
    }
   ],
   "source": [
    "def get_eng_prob(Lyrics):\n",
    "    detections = detect_langs(Lyrics)\n",
    "    for detection in detections:\n",
    "        if detection.lang == 'en':\n",
    "            return detection.prob\n",
    "    return 0\n",
    "\n",
    "df['en_prob'] = df['Lyrics'].map(get_eng_prob)\n",
    "\n",
    "print('Number of english songs: {}'.format(sum(df['en_prob'] >= 0.5)))\n",
    "print('Number of non-english songs: {}'.format(sum(df['en_prob'] < 0.5)))"
   ]
  },
  {
   "cell_type": "code",
   "execution_count": 45,
   "id": "de10d1e2",
   "metadata": {},
   "outputs": [
    {
     "name": "stdout",
     "output_type": "stream",
     "text": [
      "Number of missing values in Lyrics column: 0\n"
     ]
    }
   ],
   "source": [
    "missing_values = df['Lyrics'].isnull().sum()\n",
    "print('Number of missing values in Lyrics column: {}'.format(missing_values))"
   ]
  },
  {
   "cell_type": "code",
   "execution_count": null,
   "id": "a91a7504",
   "metadata": {},
   "outputs": [],
   "source": [
    "translator = Translator()\n",
    "error_indices = []\n",
    "\n",
    "def get_eng_prob(lyrics):\n",
    "    detections = detect_langs(lyrics)\n",
    "    for detection in detections:\n",
    "        if detection.lang == 'en':\n",
    "            return detection.prob\n",
    "    return 0\n",
    "\n",
    "def translate_to_english(text):\n",
    "    if text is not None:\n",
    "        try:\n",
    "            translation = translator.translate(text, dest='en')\n",
    "            return translation.text\n",
    "        except Exception as e:\n",
    "            print(f\"Translation error: {e}\")\n",
    "    return ''\n",
    "\n",
    "\n",
    "df['Translated_Lyrics'] = df['Lyrics'].apply(translate_to_english)"
   ]
  },
  {
   "cell_type": "code",
   "execution_count": 59,
   "id": "0aa04cff",
   "metadata": {},
   "outputs": [
    {
     "name": "stdout",
     "output_type": "stream",
     "text": [
      "             Artist                    Song  \\\n",
      "0    ԱՐԹՈՒՐ ՄԵՍՉՅԱՆ             ԱՀԱ ԵՎ ՎԵՐՋ   \n",
      "1    ԱՐԹՈՒՐ ՄԵՍՉՅԱՆ               ԱՄԵՆԸ ՁԵԶ   \n",
      "2    ԱՐԹՈՒՐ ՄԵՍՉՅԱՆ  ԱՆԱՌԱԿ ՈՐԴՈՒ ՎԵՐԱԴԱՐՁԸ   \n",
      "3    ԱՐԹՈՒՐ ՄԵՍՉՅԱՆ           ԱՇԽԱՐՀԻ ՑԱՎՈՎ   \n",
      "4    ԱՐԹՈՒՐ ՄԵՍՉՅԱՆ              ԱՌԱՋ ԳԻՏԵԻ   \n",
      "..              ...                     ...   \n",
      "538    Mi Qani Hogi                Es Pahin   \n",
      "539    Mi Qani Hogi                   Rhyme   \n",
      "540    Mi Qani Hogi                   Toxer   \n",
      "541    Mi Qani Hogi           Yes Qo Nmanei   \n",
      "542    Mi Qani Hogi             Lav Jamanak   \n",
      "\n",
      "                                     Translated_Lyrics  \n",
      "0    Here is an end\\n\\r\\nEnd of paragraphs and last...  \n",
      "1    Large-scale and wonderful temples\\n\\r\\nAnd the...  \n",
      "2    When like a prodigal son\\n\\r\\nBecome your own ...  \n",
      "3    My heart with Kariy's world pain\\n\\r\\nHow much...  \n",
      "4    I was known before\\n\\r\\nWhat people would be a...  \n",
      "..                                                 ...  \n",
      "538  It seems to us seems to be\\n\\nThat one is watc...  \n",
      "539  Several people\\n\\nICF:\\n\\n\\n\\n\\nDid you find a...  \n",
      "540                                                     \n",
      "541  one\\n\\nLike:\\n\\nOne one\\n\\n        \\n\\n     al...  \n",
      "542  Refresh you, you are lucky enough to be with y...  \n",
      "\n",
      "[543 rows x 3 columns]\n"
     ]
    }
   ],
   "source": [
    "new_df=df[['Artist', 'Song', 'Translated_Lyrics']]\n",
    "print(new_df)"
   ]
  },
  {
   "cell_type": "code",
   "execution_count": 61,
   "id": "eaf30de1",
   "metadata": {},
   "outputs": [],
   "source": [
    "new_df.to_csv('translated.csv', index=False)"
   ]
  }
 ],
 "metadata": {
  "kernelspec": {
   "display_name": "Python 3 (ipykernel)",
   "language": "python",
   "name": "python3"
  },
  "language_info": {
   "codemirror_mode": {
    "name": "ipython",
    "version": 3
   },
   "file_extension": ".py",
   "mimetype": "text/x-python",
   "name": "python",
   "nbconvert_exporter": "python",
   "pygments_lexer": "ipython3",
   "version": "3.9.13"
  }
 },
 "nbformat": 4,
 "nbformat_minor": 5
}
