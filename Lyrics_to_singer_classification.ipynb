{
 "cells": [
  {
   "cell_type": "markdown",
   "metadata": {
    "id": "cMNXmcIt2Lm0"
   },
   "source": [
    "**<h1>Group Project</h1>**\n",
    "\n",
    "**<h1>Lyrics to singer classification</h1>**\n",
    "---\n",
    "\n",
    "> \n",
    "\n",
    "   **<h2>Մասնակիցներ</h2>**\n",
    "\n",
    "\n",
    "*   Հրանուշ Սահրադյան\n",
    "*   Հասմիկ Մնացականյան\n",
    "*   Մերի Վարդանյան\n",
    "*   Արմեն Մանուկյան\n",
    "\n",
    "\n",
    ">\n",
    "\n",
    "\n",
    "\n",
    "\n",
    "\n",
    "\n",
    "**<h2>Purpose of the project</h2>**\n",
    "\n",
    "Նախագծի նպատակն է համացանցից հավաքել (web scraping-ի միջոցով) 20 տարբեր հայ երգիչների երգերի բառեր, դրանք մշակելով ստանալ տվյալների բազմություն, բաժանել մի քանի մասի (train, val, test) և այդ տվյալների բազմության վրա ստանալ այնպիսի մոդել, որի միջոցով հնարավոր կլինի ինչ֊որ ճշտությամբ գուշակել, թե որ երգիչներին են պատկանում մոդելի կողմից չտեսնված երգերի բառերը։\n",
    "\n",
    "\n",
    "\n",
    "\n",
    "\n",
    "\n",
    "\n",
    "\n",
    "\n"
   ]
  },
  {
   "cell_type": "markdown",
   "metadata": {
    "id": "56qMrdER-wb7"
   },
   "source": [
    "**<h2>Contents</h2>**\n",
    "\n",
    "\n",
    "1.   [Data Cleaning and Preprocessing](#preproc)\n",
    "3.   [Feature Selection/Extraction](#fenigine)\n",
    "4.   [EDA](#eda)\n"
   ]
  },
  {
   "cell_type": "markdown",
   "metadata": {},
   "source": [
    "**Note**: Data collection part you can see in the notebook \"Data collection\""
   ]
  },
  {
   "cell_type": "code",
   "execution_count": 1,
   "metadata": {
    "id": "MK5kRFNWAnVh"
   },
   "outputs": [],
   "source": [
    "import pandas as pd\n",
    "import plotly.express as px\n",
    "import plotly.graph_objects as go\n",
    "import numpy as np\n",
    "import re\n",
    "import random\n",
    "import nltk\n",
    "from scipy import sparse\n",
    "from scipy.sparse import csr_matrix, vstack\n",
    "from textblob import TextBlob\n",
    "import pickle\n",
    "from datetime import datetime\n",
    "\n",
    "from sklearn.feature_extraction.text import TfidfTransformer, CountVectorizer\n",
    "from sklearn.metrics.pairwise import cosine_similarity\n",
    "from sklearn.linear_model import LogisticRegression\n",
    "from sklearn.metrics import accuracy_score, confusion_matrix\n",
    "from sklearn.pipeline import Pipeline\n",
    "from sklearn.preprocessing import StandardScaler\n",
    "import time \n",
    "import glob\n",
    "import requests\n",
    "import nltk\n",
    "from langdetect import detect_langs"
   ]
  },
  {
   "cell_type": "code",
   "execution_count": 2,
   "metadata": {},
   "outputs": [
    {
     "name": "stderr",
     "output_type": "stream",
     "text": [
      "[nltk_data] Downloading package stopwords to\n",
      "[nltk_data]     C:\\Users\\User\\AppData\\Roaming\\nltk_data...\n",
      "[nltk_data]   Package stopwords is already up-to-date!\n"
     ]
    }
   ],
   "source": [
    "import sys\n",
    "sys.path.append('Data preprocessing')  # Add the folder to the Python module search path\n",
    "import simple_feature_engineering as sf"
   ]
  },
  {
   "cell_type": "markdown",
   "metadata": {
    "id": "euCqqVsB9HjK"
   },
   "source": [
    " <a name=\"preproc\"></a>\n",
    "\n",
    "## Data Cleaning and Preprocessing"
   ]
  },
  {
   "cell_type": "markdown",
   "metadata": {
    "id": "GxQFNB_b9Hxc"
   },
   "source": [
    "Data cleaning and preprocessing for a dataset on Armenian artists and their song lyrics typically involve several steps to ensure the data is accurate, consistent, and ready for analysis or modeling. Here's an overview of the potential steps involved:\n",
    "\n",
    "**Handling Missing Values:** Identify any missing values in the dataset, such as empty cells or null values. Depending on the context, you can choose to either remove rows or columns with missing values, or impute the missing values using techniques like mean, median, or mode imputation. Consider the impact of missing values on variables like artist names, song titles, and lyrics, and handle them accordingly.\n",
    "\n",
    "**Removing Duplicate Entries:** Check for and remove any duplicate entries in the dataset. Duplicates can arise from data collection or merging processes and can introduce bias or affect analysis results. Identify duplicate rows or combinations of variables and remove them to maintain data integrity.\n",
    "\n",
    "**Cleaning and Standardizing Textual Data:** Perform text cleaning and preprocessing on variables like artist names, song titles, and lyrics. This may involve steps such as removing special characters, punctuation, or unnecessary whitespace, converting text to lowercase or uppercase consistently, and handling encoding issues if any.\n",
    "\n",
    "**Language Detection:** Since you are interested in Armenian lyrics, you can apply language detection techniques to identify whether the lyrics are in Armenian or another language. This step ensures that you are working with the desired language and can filter out any non-Armenian lyrics if needed.\n",
    "\n",
    "**Dealing with Stop Words and Noise:** In the lyrics column, consider removing common stop words (e.g., \"the,\" \"and,\" \"is\") that do not carry substantial meaning. Additionally, address any noise or irrelevant text that may be present in the lyrics, such as ad-libs or non-lyrical portions.\n",
    "\n",
    "**Tokenization and Lemmatization:** Split the lyrics into individual words or tokens using tokenization techniques. This allows for further analysis or modeling on a word-level basis. Additionally, consider applying lemmatization to reduce words to their base or root form, improving consistency and reducing dimensionality.\n",
    "\n",
    "**Handling Non-Textual Data:** If your dataset contains non-textual data, such as artist metadata or genre information, ensure appropriate cleaning and preprocessing. This may involve transforming categorical variables using techniques like one-hot encoding or label encoding to make them compatible with analysis or modeling techniques.\n",
    "\n",
    "**Data Validation and Sanity Checks:** Validate the dataset against predefined constraints or business rules to ensure data integrity. Perform sanity checks to identify any inconsistencies, outliers, or unexpected patterns. This step helps ensure the dataset aligns with domain knowledge and meets your expectations.\n"
   ]
  },
  {
   "cell_type": "code",
   "execution_count": 17,
   "metadata": {
    "id": "xFJ2ODlSKdFV"
   },
   "outputs": [],
   "source": [
    "df=pd.read_csv(\"Datasets/FinalData.csv\")"
   ]
  },
  {
   "cell_type": "markdown",
   "metadata": {
    "id": "OooW7rnGSH--"
   },
   "source": [
    "Let's see what we have in our dataset."
   ]
  },
  {
   "cell_type": "code",
   "execution_count": 18,
   "metadata": {
    "colab": {
     "base_uri": "https://localhost:8080/"
    },
    "id": "rHlFW94Auxfg",
    "outputId": "0dd5e174-f2a1-4fe3-98e6-938ca1e64813"
   },
   "outputs": [
    {
     "data": {
      "text/plain": [
       "(1038, 3)"
      ]
     },
     "execution_count": 18,
     "metadata": {},
     "output_type": "execute_result"
    }
   ],
   "source": [
    "df.shape"
   ]
  },
  {
   "cell_type": "code",
   "execution_count": 19,
   "metadata": {
    "colab": {
     "base_uri": "https://localhost:8080/",
     "height": 833
    },
    "id": "i8pyTVmjKdOH",
    "outputId": "f39f14e8-f2ca-41a1-a2b5-dc7da591cfa9"
   },
   "outputs": [
    {
     "data": {
      "text/html": [
       "<div>\n",
       "<style scoped>\n",
       "    .dataframe tbody tr th:only-of-type {\n",
       "        vertical-align: middle;\n",
       "    }\n",
       "\n",
       "    .dataframe tbody tr th {\n",
       "        vertical-align: top;\n",
       "    }\n",
       "\n",
       "    .dataframe thead th {\n",
       "        text-align: right;\n",
       "    }\n",
       "</style>\n",
       "<table border=\"1\" class=\"dataframe\">\n",
       "  <thead>\n",
       "    <tr style=\"text-align: right;\">\n",
       "      <th></th>\n",
       "      <th>Song</th>\n",
       "      <th>Lyrics</th>\n",
       "    </tr>\n",
       "    <tr>\n",
       "      <th>Artist</th>\n",
       "      <th></th>\n",
       "      <th></th>\n",
       "    </tr>\n",
       "  </thead>\n",
       "  <tbody>\n",
       "    <tr>\n",
       "      <th>Armenchik</th>\n",
       "      <td>26</td>\n",
       "      <td>26</td>\n",
       "    </tr>\n",
       "    <tr>\n",
       "      <th>Lav Eli</th>\n",
       "      <td>20</td>\n",
       "      <td>20</td>\n",
       "    </tr>\n",
       "    <tr>\n",
       "      <th>Aram MP3</th>\n",
       "      <td>32</td>\n",
       "      <td>32</td>\n",
       "    </tr>\n",
       "    <tr>\n",
       "      <th>Arame</th>\n",
       "      <td>38</td>\n",
       "      <td>38</td>\n",
       "    </tr>\n",
       "    <tr>\n",
       "      <th>Arsen Safaryan</th>\n",
       "      <td>28</td>\n",
       "      <td>28</td>\n",
       "    </tr>\n",
       "    <tr>\n",
       "      <th>Empyray</th>\n",
       "      <td>22</td>\n",
       "      <td>22</td>\n",
       "    </tr>\n",
       "    <tr>\n",
       "      <th>Forsh</th>\n",
       "      <td>22</td>\n",
       "      <td>22</td>\n",
       "    </tr>\n",
       "    <tr>\n",
       "      <th>Gor Sujyan</th>\n",
       "      <td>10</td>\n",
       "      <td>10</td>\n",
       "    </tr>\n",
       "    <tr>\n",
       "      <th>HT Hayko</th>\n",
       "      <td>32</td>\n",
       "      <td>32</td>\n",
       "    </tr>\n",
       "    <tr>\n",
       "      <th>Harout Pamboukjian</th>\n",
       "      <td>135</td>\n",
       "      <td>135</td>\n",
       "    </tr>\n",
       "    <tr>\n",
       "      <th>Mi Qani Hogi</th>\n",
       "      <td>16</td>\n",
       "      <td>16</td>\n",
       "    </tr>\n",
       "    <tr>\n",
       "      <th>Misho</th>\n",
       "      <td>32</td>\n",
       "      <td>32</td>\n",
       "    </tr>\n",
       "    <tr>\n",
       "      <th>Razmik Amyan</th>\n",
       "      <td>46</td>\n",
       "      <td>46</td>\n",
       "    </tr>\n",
       "    <tr>\n",
       "      <th>Silva Hakobyan</th>\n",
       "      <td>48</td>\n",
       "      <td>48</td>\n",
       "    </tr>\n",
       "    <tr>\n",
       "      <th>ԱՐԹՈՒՐ ՄԵՍՉՅԱՆ</th>\n",
       "      <td>50</td>\n",
       "      <td>50</td>\n",
       "    </tr>\n",
       "    <tr>\n",
       "      <th>Անդրե</th>\n",
       "      <td>28</td>\n",
       "      <td>28</td>\n",
       "    </tr>\n",
       "    <tr>\n",
       "      <th>Լիլիթ Հովհաննիսյան</th>\n",
       "      <td>62</td>\n",
       "      <td>62</td>\n",
       "    </tr>\n",
       "    <tr>\n",
       "      <th>ԿՈՄԻՏԱՍ</th>\n",
       "      <td>64</td>\n",
       "      <td>64</td>\n",
       "    </tr>\n",
       "    <tr>\n",
       "      <th>Հայկ Հակոբյան</th>\n",
       "      <td>71</td>\n",
       "      <td>71</td>\n",
       "    </tr>\n",
       "    <tr>\n",
       "      <th>Միհրան Ծառուկյան</th>\n",
       "      <td>60</td>\n",
       "      <td>60</td>\n",
       "    </tr>\n",
       "    <tr>\n",
       "      <th>Ներսիկ Իսպիրյան</th>\n",
       "      <td>14</td>\n",
       "      <td>14</td>\n",
       "    </tr>\n",
       "    <tr>\n",
       "      <th>ՌՈՒԲԵՆ ՀԱԽՎԵՐԴՅԱՆ</th>\n",
       "      <td>86</td>\n",
       "      <td>86</td>\n",
       "    </tr>\n",
       "    <tr>\n",
       "      <th>ՍԱՅԱԹ-ՆՈՎԱ</th>\n",
       "      <td>16</td>\n",
       "      <td>16</td>\n",
       "    </tr>\n",
       "    <tr>\n",
       "      <th>Սիրուշո</th>\n",
       "      <td>80</td>\n",
       "      <td>80</td>\n",
       "    </tr>\n",
       "  </tbody>\n",
       "</table>\n",
       "</div>"
      ],
      "text/plain": [
       "                    Song  Lyrics\n",
       "Artist                          \n",
       " Armenchik            26      26\n",
       " Lav Eli              20      20\n",
       "Aram MP3              32      32\n",
       "Arame                 38      38\n",
       "Arsen Safaryan        28      28\n",
       "Empyray               22      22\n",
       "Forsh                 22      22\n",
       "Gor Sujyan            10      10\n",
       "HT Hayko              32      32\n",
       "Harout Pamboukjian   135     135\n",
       "Mi Qani Hogi          16      16\n",
       "Misho                 32      32\n",
       "Razmik Amyan          46      46\n",
       "Silva Hakobyan        48      48\n",
       "ԱՐԹՈՒՐ ՄԵՍՉՅԱՆ        50      50\n",
       "Անդրե                 28      28\n",
       "Լիլիթ Հովհաննիսյան    62      62\n",
       "ԿՈՄԻՏԱՍ               64      64\n",
       "Հայկ Հակոբյան         71      71\n",
       "Միհրան Ծառուկյան      60      60\n",
       "Ներսիկ Իսպիրյան       14      14\n",
       "ՌՈՒԲԵՆ ՀԱԽՎԵՐԴՅԱՆ     86      86\n",
       "ՍԱՅԱԹ-ՆՈՎԱ            16      16\n",
       "Սիրուշո               80      80"
      ]
     },
     "execution_count": 19,
     "metadata": {},
     "output_type": "execute_result"
    }
   ],
   "source": [
    "df.groupby('Artist').count()"
   ]
  },
  {
   "cell_type": "code",
   "execution_count": 20,
   "metadata": {
    "colab": {
     "base_uri": "https://localhost:8080/"
    },
    "id": "0BAttwQ7fqfX",
    "outputId": "cec4a489-8142-481e-87ab-bfc65e8463c2"
   },
   "outputs": [
    {
     "name": "stdout",
     "output_type": "stream",
     "text": [
      "\n",
      "[Verse 1: Ֆելո (3.33)]\n",
      "\n",
      "Մեզ թվումա, որ մեզ թվումա\n",
      "\n",
      "Որ մեկը մեզ հետևումա, մեկը մեր հետևումա\n",
      "\n",
      "Մեր մտքերը գողանումա, տանում\n",
      "\n",
      "Ես լավանում եմ, դու՝ վատանում\n",
      "\n",
      "Մենք որոշում ենք, հետո փոշմանում\n",
      "\n",
      "Ասում ենք երկար ու երկար չենք անում\n",
      "\n",
      "Ու եթե մի 10 հոգի էս պահին ներս գային\n",
      "\n",
      "Լավ կլիներ մեր ռիթմերը զգային\n",
      "\n",
      "Էս պահին, տես գահին\n",
      "\n",
      "Մեջը կորած ասեղ, եթե գտնես քեզ պահի\n",
      "\n",
      "Մատդ ծակի կասես, հանրագիտարանը բաց\n",
      "\n",
      "Ու «Ա» տառից սկսի էս պահին\n",
      "\n",
      "Ինչ կա շատ, հավասար կիսի\n",
      "\n",
      "Անցնում էր լիմուզինը, դե սպանի\n",
      "\n",
      "Մի գնդակով 2 ճագար չես սպանի\n",
      "\n",
      "Ու եթե հոգի կա օդում մի քանի\n",
      "\n",
      "Ուրեմն Էս պահին արթնացի մի քնի\n",
      "\n",
      "\n",
      "[Hook: Ռոլանդ (Ռեինկարնացիա)]\n",
      "\n",
      "Էս պահին չեմ ուզում էլ նայեմ ժամին\n",
      "\n",
      "Ինձ թողեք մենակ ես սիրում եմ քամին\n",
      "\n",
      "Ու ոչ մեկ չգիտի, որ քամին գույն ունի\n",
      "\n",
      "Ու նայում է հեռվից էս պահին\n",
      "\n",
      "Էս պահին չեմ ուզում էլ նայեմ ժամին\n",
      "\n",
      "Ինձ թողեք մենակ ես սիրում եմ քամին\n",
      "\n",
      "Ու ոչ մեկ չգիտի, որ քամին գույն ունի\n",
      "\n",
      "Ու նայում է հեռվից էս պահին\n",
      "\n"
     ]
    }
   ],
   "source": [
    "print(df['Lyrics'].iloc[1033])"
   ]
  },
  {
   "cell_type": "markdown",
   "metadata": {
    "id": "6c7gWk9x08gJ"
   },
   "source": [
    "It looks like the texts are formated in different styles: the first example includes text in round brackets which says how often parts of the text shall be repeated e.g. \"(repeat previous line 3 times)\"."
   ]
  },
  {
   "cell_type": "markdown",
   "metadata": {
    "id": "xqhniKfP0xlk"
   },
   "source": [
    "Looks like the text in round brackets does mostly not belong to the lyrics of the song and should be removed."
   ]
  },
  {
   "cell_type": "code",
   "execution_count": 21,
   "metadata": {
    "colab": {
     "base_uri": "https://localhost:8080/"
    },
    "id": "OZQtthPWzus4",
    "outputId": "ae4ff33c-dc42-41ad-eae7-d4e3c4cfdf9f"
   },
   "outputs": [
    {
     "name": "stdout",
     "output_type": "stream",
     "text": [
      "Number of round brackets: 1177\n"
     ]
    }
   ],
   "source": [
    "text_in_round_brackets = sum(list(df['Lyrics'].map(lambda s: re.findall(r'\\((.*?)\\)',s))), [])\n",
    "print('Number of round brackets: {}'.format(len(text_in_round_brackets)))"
   ]
  },
  {
   "cell_type": "code",
   "execution_count": 22,
   "metadata": {
    "colab": {
     "base_uri": "https://localhost:8080/"
    },
    "id": "MHO6zjRVz50M",
    "outputId": "8cf23069-d2b1-45f9-c41c-9182c2c241ac"
   },
   "outputs": [
    {
     "data": {
      "text/plain": [
       "['Տուն 2',\n",
       " 'Կրկներգ',\n",
       " 'Կրկներգ',\n",
       " 'Անցում',\n",
       " '3',\n",
       " 'Կրկներգ',\n",
       " 'Անցում',\n",
       " 'Կրկներգ',\n",
       " 'Տուն 1',\n",
       " 'Աշխարհից քեզ թաքցրել է',\n",
       " 'x2',\n",
       " 'Բարև',\n",
       " 'Կրկներգ',\n",
       " 'Կրկներգ',\n",
       " 'Ser',\n",
       " 'Տուն 1',\n",
       " 'x2',\n",
       " '2x',\n",
       " 'Куплет 1',\n",
       " 'Տուն 1']"
      ]
     },
     "execution_count": 22,
     "metadata": {},
     "output_type": "execute_result"
    }
   ],
   "source": [
    "random.seed(0)\n",
    "random.choices(text_in_round_brackets, k=20)"
   ]
  },
  {
   "cell_type": "markdown",
   "metadata": {
    "id": "TKVwQT8uldZp"
   },
   "source": [
    "Removeing round/square brackest and text within."
   ]
  },
  {
   "cell_type": "code",
   "execution_count": 23,
   "metadata": {
    "id": "I51y84vjlSjk"
   },
   "outputs": [],
   "source": [
    "df['Lyrics'] = df['Lyrics'].map(lambda s: re.sub(r'\\((.*?)\\)', '', s))\n",
    "df['Lyrics'] = df['Lyrics'].map(lambda s: re.sub(r'\\[(.*?)\\]', '', s))"
   ]
  },
  {
   "cell_type": "markdown",
   "metadata": {
    "id": "ECmQ9H47nab8"
   },
   "source": [
    "As we can see all the songs written in Armenian within our dataset, so let's just remove any non-Armenian words present in the lyrics."
   ]
  },
  {
   "cell_type": "code",
   "execution_count": 24,
   "metadata": {
    "id": "uRIstfOEWENW"
   },
   "outputs": [],
   "source": [
    "armenian_pattern = re.compile(r'[Ա-Ֆա-ֆև\\s]+')\n",
    "df['Lyrics'] = df['Lyrics'].apply(lambda x: ''.join(armenian_pattern.findall(x)))\n",
    "\n",
    "df = df[df['Lyrics'].str.strip().astype(bool)]\n",
    "\n",
    "df.reset_index(drop=True, inplace=True)\n"
   ]
  },
  {
   "cell_type": "markdown",
   "metadata": {
    "id": "LR8VycalnzyE"
   },
   "source": [
    "Let's get rid of duplicate songs too."
   ]
  },
  {
   "cell_type": "code",
   "execution_count": 25,
   "metadata": {
    "colab": {
     "base_uri": "https://localhost:8080/"
    },
    "id": "2a19an9qKdIF",
    "outputId": "72115eb0-6eba-4359-a199-f862b1be251c"
   },
   "outputs": [
    {
     "name": "stdout",
     "output_type": "stream",
     "text": [
      "Duplicate values removed.\n"
     ]
    }
   ],
   "source": [
    "duplicates = df.duplicated(subset='Song')\n",
    "\n",
    "# Check if there are any duplicates\n",
    "if duplicates.any():\n",
    "    # Remove the duplicate rows from the DataFrame\n",
    "    df = df.drop_duplicates(subset='Song', keep='first').reset_index(drop=True)\n",
    "    print(\"Duplicate values removed.\")\n",
    "else:\n",
    "    print(\"No duplicate values found in the 'Song' column.\")\n"
   ]
  },
  {
   "cell_type": "markdown",
   "metadata": {
    "id": "iwWnp8wWn9Dq"
   },
   "source": [
    "In order to classify the 20 Armenian artists with the most songs in our dataset, we will keep only the records of those 20 artists in our dataframe."
   ]
  },
  {
   "cell_type": "code",
   "execution_count": 26,
   "metadata": {
    "id": "gOeOYV4e3Wc5"
   },
   "outputs": [],
   "source": [
    "artist_counts = df.groupby('Artist').count()\n",
    "top_artists = artist_counts.nlargest(20, 'Song').index\n",
    "df = df[df['Artist'].isin(top_artists)].reset_index(drop=True)"
   ]
  },
  {
   "cell_type": "markdown",
   "metadata": {
    "id": "_PckSVoGYxHX"
   },
   "source": [
    "What we have after removing non armenian and duplicate songs for top 20 Artists in our dataset."
   ]
  },
  {
   "cell_type": "code",
   "execution_count": 28,
   "metadata": {
    "colab": {
     "base_uri": "https://localhost:8080/",
     "height": 708
    },
    "id": "zx-A3ZGEWFlf",
    "outputId": "661f22fd-ea77-4d45-e296-7e250d68efa5"
   },
   "outputs": [
    {
     "data": {
      "text/html": [
       "<div>\n",
       "<style scoped>\n",
       "    .dataframe tbody tr th:only-of-type {\n",
       "        vertical-align: middle;\n",
       "    }\n",
       "\n",
       "    .dataframe tbody tr th {\n",
       "        vertical-align: top;\n",
       "    }\n",
       "\n",
       "    .dataframe thead th {\n",
       "        text-align: right;\n",
       "    }\n",
       "</style>\n",
       "<table border=\"1\" class=\"dataframe\">\n",
       "  <thead>\n",
       "    <tr style=\"text-align: right;\">\n",
       "      <th></th>\n",
       "      <th>Song</th>\n",
       "      <th>Lyrics</th>\n",
       "    </tr>\n",
       "    <tr>\n",
       "      <th>Artist</th>\n",
       "      <th></th>\n",
       "      <th></th>\n",
       "    </tr>\n",
       "  </thead>\n",
       "  <tbody>\n",
       "    <tr>\n",
       "      <th>Lav Eli</th>\n",
       "      <td>10</td>\n",
       "      <td>10</td>\n",
       "    </tr>\n",
       "    <tr>\n",
       "      <th>Aram MP3</th>\n",
       "      <td>18</td>\n",
       "      <td>18</td>\n",
       "    </tr>\n",
       "    <tr>\n",
       "      <th>Arame</th>\n",
       "      <td>11</td>\n",
       "      <td>11</td>\n",
       "    </tr>\n",
       "    <tr>\n",
       "      <th>Arsen Safaryan</th>\n",
       "      <td>24</td>\n",
       "      <td>24</td>\n",
       "    </tr>\n",
       "    <tr>\n",
       "      <th>Empyray</th>\n",
       "      <td>11</td>\n",
       "      <td>11</td>\n",
       "    </tr>\n",
       "    <tr>\n",
       "      <th>HT Hayko</th>\n",
       "      <td>16</td>\n",
       "      <td>16</td>\n",
       "    </tr>\n",
       "    <tr>\n",
       "      <th>Harout Pamboukjian</th>\n",
       "      <td>40</td>\n",
       "      <td>40</td>\n",
       "    </tr>\n",
       "    <tr>\n",
       "      <th>Mi Qani Hogi</th>\n",
       "      <td>16</td>\n",
       "      <td>16</td>\n",
       "    </tr>\n",
       "    <tr>\n",
       "      <th>Misho</th>\n",
       "      <td>29</td>\n",
       "      <td>29</td>\n",
       "    </tr>\n",
       "    <tr>\n",
       "      <th>Razmik Amyan</th>\n",
       "      <td>23</td>\n",
       "      <td>23</td>\n",
       "    </tr>\n",
       "    <tr>\n",
       "      <th>Silva Hakobyan</th>\n",
       "      <td>20</td>\n",
       "      <td>20</td>\n",
       "    </tr>\n",
       "    <tr>\n",
       "      <th>ԱՐԹՈՒՐ ՄԵՍՉՅԱՆ</th>\n",
       "      <td>50</td>\n",
       "      <td>50</td>\n",
       "    </tr>\n",
       "    <tr>\n",
       "      <th>Անդրե</th>\n",
       "      <td>12</td>\n",
       "      <td>12</td>\n",
       "    </tr>\n",
       "    <tr>\n",
       "      <th>Լիլիթ Հովհաննիսյան</th>\n",
       "      <td>27</td>\n",
       "      <td>27</td>\n",
       "    </tr>\n",
       "    <tr>\n",
       "      <th>ԿՈՄԻՏԱՍ</th>\n",
       "      <td>64</td>\n",
       "      <td>64</td>\n",
       "    </tr>\n",
       "    <tr>\n",
       "      <th>Հայկ Հակոբյան</th>\n",
       "      <td>25</td>\n",
       "      <td>25</td>\n",
       "    </tr>\n",
       "    <tr>\n",
       "      <th>Միհրան Ծառուկյան</th>\n",
       "      <td>19</td>\n",
       "      <td>19</td>\n",
       "    </tr>\n",
       "    <tr>\n",
       "      <th>ՌՈՒԲԵՆ ՀԱԽՎԵՐԴՅԱՆ</th>\n",
       "      <td>85</td>\n",
       "      <td>85</td>\n",
       "    </tr>\n",
       "    <tr>\n",
       "      <th>ՍԱՅԱԹ-ՆՈՎԱ</th>\n",
       "      <td>16</td>\n",
       "      <td>16</td>\n",
       "    </tr>\n",
       "    <tr>\n",
       "      <th>Սիրուշո</th>\n",
       "      <td>27</td>\n",
       "      <td>27</td>\n",
       "    </tr>\n",
       "  </tbody>\n",
       "</table>\n",
       "</div>"
      ],
      "text/plain": [
       "                    Song  Lyrics\n",
       "Artist                          \n",
       " Lav Eli              10      10\n",
       "Aram MP3              18      18\n",
       "Arame                 11      11\n",
       "Arsen Safaryan        24      24\n",
       "Empyray               11      11\n",
       "HT Hayko              16      16\n",
       "Harout Pamboukjian    40      40\n",
       "Mi Qani Hogi          16      16\n",
       "Misho                 29      29\n",
       "Razmik Amyan          23      23\n",
       "Silva Hakobyan        20      20\n",
       "ԱՐԹՈՒՐ ՄԵՍՉՅԱՆ        50      50\n",
       "Անդրե                 12      12\n",
       "Լիլիթ Հովհաննիսյան    27      27\n",
       "ԿՈՄԻՏԱՍ               64      64\n",
       "Հայկ Հակոբյան         25      25\n",
       "Միհրան Ծառուկյան      19      19\n",
       "ՌՈՒԲԵՆ ՀԱԽՎԵՐԴՅԱՆ     85      85\n",
       "ՍԱՅԱԹ-ՆՈՎԱ            16      16\n",
       "Սիրուշո               27      27"
      ]
     },
     "execution_count": 28,
     "metadata": {},
     "output_type": "execute_result"
    }
   ],
   "source": [
    "df.groupby('Artist').count()"
   ]
  },
  {
   "cell_type": "code",
   "execution_count": 29,
   "metadata": {
    "colab": {
     "base_uri": "https://localhost:8080/"
    },
    "id": "u_EFY3F-r54B",
    "outputId": "f89eda89-f84a-4367-b1b2-80ad96716fc9"
   },
   "outputs": [
    {
     "data": {
      "text/plain": [
       "(543, 3)"
      ]
     },
     "execution_count": 29,
     "metadata": {},
     "output_type": "execute_result"
    }
   ],
   "source": [
    "df.shape"
   ]
  },
  {
   "cell_type": "markdown",
   "metadata": {
    "id": "k7a8h45ySael"
   },
   "source": [
    "<a name=\"fenigine\"> </a>\n",
    "\n",
    "## Feature Selection/Extraction\n",
    "\n",
    "### Translating the obtained data to English "
   ]
  },
  {
   "cell_type": "code",
   "execution_count": 3,
   "metadata": {
    "id": "BC3-0LEFgCrk"
   },
   "outputs": [],
   "source": [
    "df=pd.read_csv(\"Datasets/FinalData1.csv\")"
   ]
  },
  {
   "cell_type": "code",
   "execution_count": 4,
   "metadata": {
    "id": "oJ0GmlcUigNN"
   },
   "outputs": [],
   "source": [
    "df=df.dropna()"
   ]
  },
  {
   "cell_type": "code",
   "execution_count": 5,
   "metadata": {},
   "outputs": [],
   "source": [
    "df,ruben_songs=sf.delete_songs_by_artist(df,\"ՌՈՒԲԵՆ ՀԱԽՎԵՐԴՅԱՆ\",30)\n",
    "df,komitas_songs=sf.delete_songs_by_artist(df,\"ԿՈՄԻՏԱՍ\",15)"
   ]
  },
  {
   "cell_type": "code",
   "execution_count": 6,
   "metadata": {
    "colab": {
     "base_uri": "https://localhost:8080/",
     "height": 708
    },
    "id": "9U1j7FRUi2fM",
    "outputId": "f7b76e9c-1785-4184-93bb-8a5d22dc2a10",
    "scrolled": true
   },
   "outputs": [
    {
     "data": {
      "text/html": [
       "<div>\n",
       "<style scoped>\n",
       "    .dataframe tbody tr th:only-of-type {\n",
       "        vertical-align: middle;\n",
       "    }\n",
       "\n",
       "    .dataframe tbody tr th {\n",
       "        vertical-align: top;\n",
       "    }\n",
       "\n",
       "    .dataframe thead th {\n",
       "        text-align: right;\n",
       "    }\n",
       "</style>\n",
       "<table border=\"1\" class=\"dataframe\">\n",
       "  <thead>\n",
       "    <tr style=\"text-align: right;\">\n",
       "      <th></th>\n",
       "      <th>Song</th>\n",
       "      <th>Lyrics</th>\n",
       "      <th>Translated_Lyrics</th>\n",
       "    </tr>\n",
       "    <tr>\n",
       "      <th>Artist</th>\n",
       "      <th></th>\n",
       "      <th></th>\n",
       "      <th></th>\n",
       "    </tr>\n",
       "  </thead>\n",
       "  <tbody>\n",
       "    <tr>\n",
       "      <th>Lav Eli</th>\n",
       "      <td>9</td>\n",
       "      <td>9</td>\n",
       "      <td>9</td>\n",
       "    </tr>\n",
       "    <tr>\n",
       "      <th>Aram MP3</th>\n",
       "      <td>17</td>\n",
       "      <td>17</td>\n",
       "      <td>17</td>\n",
       "    </tr>\n",
       "    <tr>\n",
       "      <th>Arame</th>\n",
       "      <td>9</td>\n",
       "      <td>9</td>\n",
       "      <td>9</td>\n",
       "    </tr>\n",
       "    <tr>\n",
       "      <th>Arsen Safaryan</th>\n",
       "      <td>23</td>\n",
       "      <td>23</td>\n",
       "      <td>23</td>\n",
       "    </tr>\n",
       "    <tr>\n",
       "      <th>Empyray</th>\n",
       "      <td>10</td>\n",
       "      <td>10</td>\n",
       "      <td>10</td>\n",
       "    </tr>\n",
       "    <tr>\n",
       "      <th>HT Hayko</th>\n",
       "      <td>16</td>\n",
       "      <td>16</td>\n",
       "      <td>16</td>\n",
       "    </tr>\n",
       "    <tr>\n",
       "      <th>Harout Pamboukjian</th>\n",
       "      <td>32</td>\n",
       "      <td>32</td>\n",
       "      <td>32</td>\n",
       "    </tr>\n",
       "    <tr>\n",
       "      <th>Mi Qani Hogi</th>\n",
       "      <td>15</td>\n",
       "      <td>15</td>\n",
       "      <td>15</td>\n",
       "    </tr>\n",
       "    <tr>\n",
       "      <th>Misho</th>\n",
       "      <td>26</td>\n",
       "      <td>26</td>\n",
       "      <td>26</td>\n",
       "    </tr>\n",
       "    <tr>\n",
       "      <th>Razmik Amyan</th>\n",
       "      <td>18</td>\n",
       "      <td>18</td>\n",
       "      <td>18</td>\n",
       "    </tr>\n",
       "    <tr>\n",
       "      <th>Silva Hakobyan</th>\n",
       "      <td>20</td>\n",
       "      <td>20</td>\n",
       "      <td>20</td>\n",
       "    </tr>\n",
       "    <tr>\n",
       "      <th>ԱՐԹՈՒՐ ՄԵՍՉՅԱՆ</th>\n",
       "      <td>50</td>\n",
       "      <td>50</td>\n",
       "      <td>50</td>\n",
       "    </tr>\n",
       "    <tr>\n",
       "      <th>Անդրե</th>\n",
       "      <td>12</td>\n",
       "      <td>12</td>\n",
       "      <td>12</td>\n",
       "    </tr>\n",
       "    <tr>\n",
       "      <th>Լիլիթ Հովհաննիսյան</th>\n",
       "      <td>24</td>\n",
       "      <td>24</td>\n",
       "      <td>24</td>\n",
       "    </tr>\n",
       "    <tr>\n",
       "      <th>ԿՈՄԻՏԱՍ</th>\n",
       "      <td>47</td>\n",
       "      <td>47</td>\n",
       "      <td>47</td>\n",
       "    </tr>\n",
       "    <tr>\n",
       "      <th>Հայկ Հակոբյան</th>\n",
       "      <td>23</td>\n",
       "      <td>23</td>\n",
       "      <td>23</td>\n",
       "    </tr>\n",
       "    <tr>\n",
       "      <th>Միհրան Ծառուկյան</th>\n",
       "      <td>18</td>\n",
       "      <td>18</td>\n",
       "      <td>18</td>\n",
       "    </tr>\n",
       "    <tr>\n",
       "      <th>ՌՈՒԲԵՆ ՀԱԽՎԵՐԴՅԱՆ</th>\n",
       "      <td>51</td>\n",
       "      <td>51</td>\n",
       "      <td>51</td>\n",
       "    </tr>\n",
       "    <tr>\n",
       "      <th>ՍԱՅԱԹ-ՆՈՎԱ</th>\n",
       "      <td>16</td>\n",
       "      <td>16</td>\n",
       "      <td>16</td>\n",
       "    </tr>\n",
       "    <tr>\n",
       "      <th>Սիրուշո</th>\n",
       "      <td>25</td>\n",
       "      <td>25</td>\n",
       "      <td>25</td>\n",
       "    </tr>\n",
       "  </tbody>\n",
       "</table>\n",
       "</div>"
      ],
      "text/plain": [
       "                    Song  Lyrics  Translated_Lyrics\n",
       "Artist                                             \n",
       " Lav Eli               9       9                  9\n",
       "Aram MP3              17      17                 17\n",
       "Arame                  9       9                  9\n",
       "Arsen Safaryan        23      23                 23\n",
       "Empyray               10      10                 10\n",
       "HT Hayko              16      16                 16\n",
       "Harout Pamboukjian    32      32                 32\n",
       "Mi Qani Hogi          15      15                 15\n",
       "Misho                 26      26                 26\n",
       "Razmik Amyan          18      18                 18\n",
       "Silva Hakobyan        20      20                 20\n",
       "ԱՐԹՈՒՐ ՄԵՍՉՅԱՆ        50      50                 50\n",
       "Անդրե                 12      12                 12\n",
       "Լիլիթ Հովհաննիսյան    24      24                 24\n",
       "ԿՈՄԻՏԱՍ               47      47                 47\n",
       "Հայկ Հակոբյան         23      23                 23\n",
       "Միհրան Ծառուկյան      18      18                 18\n",
       "ՌՈՒԲԵՆ ՀԱԽՎԵՐԴՅԱՆ     51      51                 51\n",
       "ՍԱՅԱԹ-ՆՈՎԱ            16      16                 16\n",
       "Սիրուշո               25      25                 25"
      ]
     },
     "execution_count": 6,
     "metadata": {},
     "output_type": "execute_result"
    }
   ],
   "source": [
    "df.groupby('Artist').count()"
   ]
  },
  {
   "cell_type": "code",
   "execution_count": 74,
   "metadata": {
    "id": "wwhOqePX8H3C"
   },
   "outputs": [
    {
     "data": {
      "text/html": [
       "<div>\n",
       "<style scoped>\n",
       "    .dataframe tbody tr th:only-of-type {\n",
       "        vertical-align: middle;\n",
       "    }\n",
       "\n",
       "    .dataframe tbody tr th {\n",
       "        vertical-align: top;\n",
       "    }\n",
       "\n",
       "    .dataframe thead th {\n",
       "        text-align: right;\n",
       "    }\n",
       "</style>\n",
       "<table border=\"1\" class=\"dataframe\">\n",
       "  <thead>\n",
       "    <tr style=\"text-align: right;\">\n",
       "      <th></th>\n",
       "      <th>lines</th>\n",
       "      <th>Lyrics</th>\n",
       "    </tr>\n",
       "  </thead>\n",
       "  <tbody>\n",
       "    <tr>\n",
       "      <th>0</th>\n",
       "      <td>104</td>\n",
       "      <td>\\r\\n\\tԱհա և վերջ\\n\\r\\n\\tՎերջ հարաժամ և հարատև\\...</td>\n",
       "    </tr>\n",
       "    <tr>\n",
       "      <th>1</th>\n",
       "      <td>68</td>\n",
       "      <td>\\r\\n\\tՄեծածավալ և հիասքանչ տաճարների\\n\\r\\n\\tԵվ...</td>\n",
       "    </tr>\n",
       "    <tr>\n",
       "      <th>2</th>\n",
       "      <td>78</td>\n",
       "      <td>\\r\\n\\tԵրբ անառակ որդու նման\\n\\r\\n\\tԴառնաս թողա...</td>\n",
       "    </tr>\n",
       "    <tr>\n",
       "      <th>3</th>\n",
       "      <td>48</td>\n",
       "      <td>\\r\\n\\tՍիրտս կարյունի աշխարհի ցավով\\n\\r\\n\\tՈրքա...</td>\n",
       "    </tr>\n",
       "    <tr>\n",
       "      <th>4</th>\n",
       "      <td>54</td>\n",
       "      <td>\\r\\n\\tԱռաջ գիտեի\\n\\r\\n\\tԹե մարդիկ ինչու կգային...</td>\n",
       "    </tr>\n",
       "    <tr>\n",
       "      <th>...</th>\n",
       "      <td>...</td>\n",
       "      <td>...</td>\n",
       "    </tr>\n",
       "    <tr>\n",
       "      <th>537</th>\n",
       "      <td>74</td>\n",
       "      <td>\\n\\n\\nՄի Քանի Հոգի\\n\\n\\n\\n\\nՔեզ տանող այս ճանա...</td>\n",
       "    </tr>\n",
       "    <tr>\n",
       "      <th>538</th>\n",
       "      <td>55</td>\n",
       "      <td>\\n\\n\\nՄեզ թվումա որ մեզ թվումա\\n\\nՈր մեկը մեզ ...</td>\n",
       "    </tr>\n",
       "    <tr>\n",
       "      <th>539</th>\n",
       "      <td>53</td>\n",
       "      <td>\\n\\n\\nՄի Քանի Հոգի\\n\\nՄՔՀ\\n\\n\\n\\n\\nԳտածդ ալիք ...</td>\n",
       "    </tr>\n",
       "    <tr>\n",
       "      <th>541</th>\n",
       "      <td>82</td>\n",
       "      <td>\\n\\n\\n  մեկը   \\n\\nԴուրը     տեղը  \\n\\nՄեկը  մ...</td>\n",
       "    </tr>\n",
       "    <tr>\n",
       "      <th>542</th>\n",
       "      <td>66</td>\n",
       "      <td>\\n\\n\\n\\n\\nԹարմացրու քեզ դու իմացի բախտը քո կող...</td>\n",
       "    </tr>\n",
       "  </tbody>\n",
       "</table>\n",
       "<p>456 rows × 2 columns</p>\n",
       "</div>"
      ],
      "text/plain": [
       "     lines                                             Lyrics\n",
       "0      104  \\r\\n\\tԱհա և վերջ\\n\\r\\n\\tՎերջ հարաժամ և հարատև\\...\n",
       "1       68  \\r\\n\\tՄեծածավալ և հիասքանչ տաճարների\\n\\r\\n\\tԵվ...\n",
       "2       78  \\r\\n\\tԵրբ անառակ որդու նման\\n\\r\\n\\tԴառնաս թողա...\n",
       "3       48  \\r\\n\\tՍիրտս կարյունի աշխարհի ցավով\\n\\r\\n\\tՈրքա...\n",
       "4       54  \\r\\n\\tԱռաջ գիտեի\\n\\r\\n\\tԹե մարդիկ ինչու կգային...\n",
       "..     ...                                                ...\n",
       "537     74  \\n\\n\\nՄի Քանի Հոգի\\n\\n\\n\\n\\nՔեզ տանող այս ճանա...\n",
       "538     55  \\n\\n\\nՄեզ թվումա որ մեզ թվումա\\n\\nՈր մեկը մեզ ...\n",
       "539     53  \\n\\n\\nՄի Քանի Հոգի\\n\\nՄՔՀ\\n\\n\\n\\n\\nԳտածդ ալիք ...\n",
       "541     82  \\n\\n\\n  մեկը   \\n\\nԴուրը     տեղը  \\n\\nՄեկը  մ...\n",
       "542     66  \\n\\n\\n\\n\\nԹարմացրու քեզ դու իմացի բախտը քո կող...\n",
       "\n",
       "[456 rows x 2 columns]"
      ]
     },
     "execution_count": 74,
     "metadata": {},
     "output_type": "execute_result"
    }
   ],
   "source": [
    "df=sf.number_of_lines(df,'Lyrics')\n",
    "df=sf.remove_new_lines(df,'Translated_Lyrics')\n",
    "df=sf.remove_new_lines(df,'Translated_Lyrics')\n",
    "df[['lines','Lyrics']]"
   ]
  },
  {
   "cell_type": "markdown",
   "metadata": {
    "id": "5XABV65kqzWx"
   },
   "source": [
    "#### Tokenization\n",
    "A very common way to analyse text is to seperate it into a list of words which makes it much easier to do further analysis. I'm using nltk.tokenize to do that. Furthermore, all punctuations are removed as well. Below is an example how the text is converted."
   ]
  },
  {
   "cell_type": "code",
   "execution_count": 75,
   "metadata": {
    "id": "3RKhJ5ti64eC"
   },
   "outputs": [
    {
     "data": {
      "text/html": [
       "<div>\n",
       "<style scoped>\n",
       "    .dataframe tbody tr th:only-of-type {\n",
       "        vertical-align: middle;\n",
       "    }\n",
       "\n",
       "    .dataframe tbody tr th {\n",
       "        vertical-align: top;\n",
       "    }\n",
       "\n",
       "    .dataframe thead th {\n",
       "        text-align: right;\n",
       "    }\n",
       "</style>\n",
       "<table border=\"1\" class=\"dataframe\">\n",
       "  <thead>\n",
       "    <tr style=\"text-align: right;\">\n",
       "      <th></th>\n",
       "      <th>Song</th>\n",
       "      <th>tokens_hy</th>\n",
       "    </tr>\n",
       "  </thead>\n",
       "  <tbody>\n",
       "    <tr>\n",
       "      <th>0</th>\n",
       "      <td>ԱՀԱ ԵՎ ՎԵՐՋ</td>\n",
       "      <td>[Ահա, և, վերջ, Վերջ, հարաժամ, և, հարատև, Իբրև,...</td>\n",
       "    </tr>\n",
       "    <tr>\n",
       "      <th>1</th>\n",
       "      <td>ԱՄԵՆԸ ՁԵԶ</td>\n",
       "      <td>[Մեծածավալ, և, հիասքանչ, տաճարների, Եվ, ոսկեզա...</td>\n",
       "    </tr>\n",
       "    <tr>\n",
       "      <th>2</th>\n",
       "      <td>ԱՆԱՌԱԿ ՈՐԴՈՒ ՎԵՐԱԴԱՐՁԸ</td>\n",
       "      <td>[Երբ, անառակ, որդու, նման, Դառնաս, թողած, քաղա...</td>\n",
       "    </tr>\n",
       "    <tr>\n",
       "      <th>3</th>\n",
       "      <td>ԱՇԽԱՐՀԻ ՑԱՎՈՎ</td>\n",
       "      <td>[Սիրտս, կարյունի, աշխարհի, ցավով, Որքան, տառապ...</td>\n",
       "    </tr>\n",
       "    <tr>\n",
       "      <th>4</th>\n",
       "      <td>ԱՌԱՋ ԳԻՏԵԻ</td>\n",
       "      <td>[Առաջ, գիտեի, Թե, մարդիկ, ինչու, կգային, աշխար...</td>\n",
       "    </tr>\n",
       "    <tr>\n",
       "      <th>...</th>\n",
       "      <td>...</td>\n",
       "      <td>...</td>\n",
       "    </tr>\n",
       "    <tr>\n",
       "      <th>537</th>\n",
       "      <td>Chanapar</td>\n",
       "      <td>[Մի, Քանի, Հոգի, Քեզ, տանող, այս, ճանապարհը, ո...</td>\n",
       "    </tr>\n",
       "    <tr>\n",
       "      <th>538</th>\n",
       "      <td>Es Pahin</td>\n",
       "      <td>[Մեզ, թվումա, որ, մեզ, թվումա, Որ, մեկը, մեզ, ...</td>\n",
       "    </tr>\n",
       "    <tr>\n",
       "      <th>539</th>\n",
       "      <td>Rhyme</td>\n",
       "      <td>[Մի, Քանի, Հոգի, ՄՔՀ, Գտածդ, ալիք, էր, ծովը, չ...</td>\n",
       "    </tr>\n",
       "    <tr>\n",
       "      <th>541</th>\n",
       "      <td>Yes Qo Nmanei</td>\n",
       "      <td>[մեկը, Դուրը, տեղը, Մեկը, մեկը, բոլորը, Մեկը, ...</td>\n",
       "    </tr>\n",
       "    <tr>\n",
       "      <th>542</th>\n",
       "      <td>Lav Jamanak</td>\n",
       "      <td>[Թարմացրու, քեզ, դու, իմացի, բախտը, քո, կողքին...</td>\n",
       "    </tr>\n",
       "  </tbody>\n",
       "</table>\n",
       "<p>456 rows × 2 columns</p>\n",
       "</div>"
      ],
      "text/plain": [
       "                       Song                                          tokens_hy\n",
       "0               ԱՀԱ ԵՎ ՎԵՐՋ  [Ահա, և, վերջ, Վերջ, հարաժամ, և, հարատև, Իբրև,...\n",
       "1                 ԱՄԵՆԸ ՁԵԶ  [Մեծածավալ, և, հիասքանչ, տաճարների, Եվ, ոսկեզա...\n",
       "2    ԱՆԱՌԱԿ ՈՐԴՈՒ ՎԵՐԱԴԱՐՁԸ  [Երբ, անառակ, որդու, նման, Դառնաս, թողած, քաղա...\n",
       "3             ԱՇԽԱՐՀԻ ՑԱՎՈՎ  [Սիրտս, կարյունի, աշխարհի, ցավով, Որքան, տառապ...\n",
       "4                ԱՌԱՋ ԳԻՏԵԻ  [Առաջ, գիտեի, Թե, մարդիկ, ինչու, կգային, աշխար...\n",
       "..                      ...                                                ...\n",
       "537                Chanapar  [Մի, Քանի, Հոգի, Քեզ, տանող, այս, ճանապարհը, ո...\n",
       "538                Es Pahin  [Մեզ, թվումա, որ, մեզ, թվումա, Որ, մեկը, մեզ, ...\n",
       "539                   Rhyme  [Մի, Քանի, Հոգի, ՄՔՀ, Գտածդ, ալիք, էր, ծովը, չ...\n",
       "541           Yes Qo Nmanei  [մեկը, Դուրը, տեղը, Մեկը, մեկը, բոլորը, Մեկը, ...\n",
       "542             Lav Jamanak  [Թարմացրու, քեզ, դու, իմացի, բախտը, քո, կողքին...\n",
       "\n",
       "[456 rows x 2 columns]"
      ]
     },
     "execution_count": 75,
     "metadata": {},
     "output_type": "execute_result"
    }
   ],
   "source": [
    "df=sf.tokenize_column(df,'Lyrics','hy')\n",
    "df=sf.tokenize_column(df,'Translated_Lyrics')\n",
    "df[['Song','tokens_hy']]"
   ]
  },
  {
   "cell_type": "code",
   "execution_count": 76,
   "metadata": {},
   "outputs": [
    {
     "data": {
      "text/html": [
       "<div>\n",
       "<style scoped>\n",
       "    .dataframe tbody tr th:only-of-type {\n",
       "        vertical-align: middle;\n",
       "    }\n",
       "\n",
       "    .dataframe tbody tr th {\n",
       "        vertical-align: top;\n",
       "    }\n",
       "\n",
       "    .dataframe thead th {\n",
       "        text-align: right;\n",
       "    }\n",
       "</style>\n",
       "<table border=\"1\" class=\"dataframe\">\n",
       "  <thead>\n",
       "    <tr style=\"text-align: right;\">\n",
       "      <th></th>\n",
       "      <th>tokens_hy</th>\n",
       "      <th>tokens_en</th>\n",
       "    </tr>\n",
       "  </thead>\n",
       "  <tbody>\n",
       "    <tr>\n",
       "      <th>0</th>\n",
       "      <td>[ահա, և, վերջ, վերջ, հարաժամ, և, հարատև, իբրև,...</td>\n",
       "      <td>[here, is, an, end, end, of, paragraphs, and, ...</td>\n",
       "    </tr>\n",
       "    <tr>\n",
       "      <th>1</th>\n",
       "      <td>[մեծածավալ, և, հիասքանչ, տաճարների, եվ, ոսկեզա...</td>\n",
       "      <td>[large, scale, and, wonderful, temples, and, t...</td>\n",
       "    </tr>\n",
       "    <tr>\n",
       "      <th>2</th>\n",
       "      <td>[երբ, անառակ, որդու, նման, դառնաս, թողած, քաղա...</td>\n",
       "      <td>[when, like, a, prodigal, son, become, your, o...</td>\n",
       "    </tr>\n",
       "    <tr>\n",
       "      <th>3</th>\n",
       "      <td>[սիրտս, կարյունի, աշխարհի, ցավով, որքան, տառապ...</td>\n",
       "      <td>[my, heart, with, kariy, s, world, pain, how, ...</td>\n",
       "    </tr>\n",
       "    <tr>\n",
       "      <th>4</th>\n",
       "      <td>[առաջ, գիտեի, թե, մարդիկ, ինչու, կգային, աշխար...</td>\n",
       "      <td>[i, was, known, before, what, people, would, b...</td>\n",
       "    </tr>\n",
       "    <tr>\n",
       "      <th>...</th>\n",
       "      <td>...</td>\n",
       "      <td>...</td>\n",
       "    </tr>\n",
       "    <tr>\n",
       "      <th>537</th>\n",
       "      <td>[մի, քանի, հոգի, քեզ, տանող, այս, ճանապարհը, ո...</td>\n",
       "      <td>[several, people, what, will, this, way, to, y...</td>\n",
       "    </tr>\n",
       "    <tr>\n",
       "      <th>538</th>\n",
       "      <td>[մեզ, թվումա, որ, մեզ, թվումա, որ, մեկը, մեզ, ...</td>\n",
       "      <td>[it, seems, to, us, seems, to, be, that, one, ...</td>\n",
       "    </tr>\n",
       "    <tr>\n",
       "      <th>539</th>\n",
       "      <td>[մի, քանի, հոգի, մքհ, գտածդ, ալիք, էր, ծովը, չ...</td>\n",
       "      <td>[several, people, icf, did, you, find, a, wave...</td>\n",
       "    </tr>\n",
       "    <tr>\n",
       "      <th>541</th>\n",
       "      <td>[մեկը, դուրը, տեղը, մեկը, մեկը, բոլորը, մեկը, ...</td>\n",
       "      <td>[one, like, one, one, all, one, one, holiday, ...</td>\n",
       "    </tr>\n",
       "    <tr>\n",
       "      <th>542</th>\n",
       "      <td>[թարմացրու, քեզ, դու, իմացի, բախտը, քո, կողքին...</td>\n",
       "      <td>[refresh, you, you, are, lucky, enough, to, be...</td>\n",
       "    </tr>\n",
       "  </tbody>\n",
       "</table>\n",
       "<p>456 rows × 2 columns</p>\n",
       "</div>"
      ],
      "text/plain": [
       "                                             tokens_hy  \\\n",
       "0    [ահա, և, վերջ, վերջ, հարաժամ, և, հարատև, իբրև,...   \n",
       "1    [մեծածավալ, և, հիասքանչ, տաճարների, եվ, ոսկեզա...   \n",
       "2    [երբ, անառակ, որդու, նման, դառնաս, թողած, քաղա...   \n",
       "3    [սիրտս, կարյունի, աշխարհի, ցավով, որքան, տառապ...   \n",
       "4    [առաջ, գիտեի, թե, մարդիկ, ինչու, կգային, աշխար...   \n",
       "..                                                 ...   \n",
       "537  [մի, քանի, հոգի, քեզ, տանող, այս, ճանապարհը, ո...   \n",
       "538  [մեզ, թվումա, որ, մեզ, թվումա, որ, մեկը, մեզ, ...   \n",
       "539  [մի, քանի, հոգի, մքհ, գտածդ, ալիք, էր, ծովը, չ...   \n",
       "541  [մեկը, դուրը, տեղը, մեկը, մեկը, բոլորը, մեկը, ...   \n",
       "542  [թարմացրու, քեզ, դու, իմացի, բախտը, քո, կողքին...   \n",
       "\n",
       "                                             tokens_en  \n",
       "0    [here, is, an, end, end, of, paragraphs, and, ...  \n",
       "1    [large, scale, and, wonderful, temples, and, t...  \n",
       "2    [when, like, a, prodigal, son, become, your, o...  \n",
       "3    [my, heart, with, kariy, s, world, pain, how, ...  \n",
       "4    [i, was, known, before, what, people, would, b...  \n",
       "..                                                 ...  \n",
       "537  [several, people, what, will, this, way, to, y...  \n",
       "538  [it, seems, to, us, seems, to, be, that, one, ...  \n",
       "539  [several, people, icf, did, you, find, a, wave...  \n",
       "541  [one, like, one, one, all, one, one, holiday, ...  \n",
       "542  [refresh, you, you, are, lucky, enough, to, be...  \n",
       "\n",
       "[456 rows x 2 columns]"
      ]
     },
     "execution_count": 76,
     "metadata": {},
     "output_type": "execute_result"
    }
   ],
   "source": [
    "sf.lowercase_column(df,'tokens_hy')\n",
    "sf.lowercase_column(df,'tokens_en')\n",
    "\n",
    "df[['tokens_hy','tokens_en']]"
   ]
  },
  {
   "cell_type": "markdown",
   "metadata": {},
   "source": [
    "Now we can remove stop words from tokens."
   ]
  },
  {
   "cell_type": "code",
   "execution_count": 77,
   "metadata": {
    "scrolled": true
   },
   "outputs": [
    {
     "name": "stdout",
     "output_type": "stream",
     "text": [
      "                       Song                                          tokens_en\n",
      "0               ԱՀԱ ԵՎ ՎԵՐՋ  [end, end, paragraphs, lasting, last, closed, ...\n",
      "1                 ԱՄԵՆԸ ՁԵԶ  [large, scale, wonderful, temples, prayer, gol...\n",
      "2    ԱՆԱՌԱԿ ՈՐԴՈՒ ՎԵՐԱԴԱՐՁԸ  [like, prodigal, son, become, city, seek, door...\n",
      "3             ԱՇԽԱՐՀԻ ՑԱՎՈՎ  [heart, kariy, world, pain, much, suffering, g...\n",
      "4                ԱՌԱՋ ԳԻՏԵԻ  [known, people, would, world, sun, would, pour...\n",
      "..                      ...                                                ...\n",
      "537                Chanapar  [several, people, way, perhaps, ask, one, day,...\n",
      "538                Es Pahin  [seems, us, seems, one, watching, us, one, tho...\n",
      "539                   Rhyme  [several, people, icf, find, wave, sea, scream...\n",
      "541           Yes Qo Nmanei  [one, like, one, one, one, one, holiday, home,...\n",
      "542             Lav Jamanak  [refresh, lucky, enough, side, employe, well, ...\n",
      "\n",
      "[456 rows x 2 columns]\n"
     ]
    }
   ],
   "source": [
    "sf.remove_stopwords(df,'tokens_en')\n",
    "print(df[['Song','tokens_en']])"
   ]
  },
  {
   "cell_type": "code",
   "execution_count": 78,
   "metadata": {},
   "outputs": [
    {
     "name": "stdout",
     "output_type": "stream",
     "text": [
      "                       Song                                          tokens_hy\n",
      "0               ԱՀԱ ԵՎ ՎԵՐՋ  [վերջ, վերջ, հարաժամ, հարատև, իբրև, վերջին, փա...\n",
      "1                 ԱՄԵՆԸ ՁԵԶ  [մեծածավալ, հիասքանչ, տաճարների, եվ, ոսկեզարդ,...\n",
      "2    ԱՆԱՌԱԿ ՈՐԴՈՒ ՎԵՐԱԴԱՐՁԸ  [երբ, անառակ, որդու, նման, դառնաս, թողած, քաղա...\n",
      "3             ԱՇԽԱՐՀԻ ՑԱՎՈՎ  [սիրտս, կարյունի, աշխարհի, ցավով, որքան, տառապ...\n",
      "4                ԱՌԱՋ ԳԻՏԵԻ  [առաջ, գիտեի, մարդիկ, ինչու, կգային, աշխարհ, ա...\n",
      "..                      ...                                                ...\n",
      "537                Chanapar  [քանի, հոգի, քեզ, տանող, ճանապարհը, ուր, կհասց...\n",
      "538                Es Pahin  [մեզ, թվումա, մեզ, թվումա, մեկը, մեզ, հետևումա...\n",
      "539                   Rhyme  [քանի, հոգի, մքհ, գտածդ, ալիք, էր, ծովը, չար, ...\n",
      "541           Yes Qo Nmanei  [մեկը, դուրը, տեղը, մեկը, մեկը, բոլորը, մեկը, ...\n",
      "542             Lav Jamanak  [թարմացրու, քեզ, իմացի, բախտը, քո, կողքինա, էղ...\n",
      "\n",
      "[456 rows x 2 columns]\n"
     ]
    }
   ],
   "source": [
    "sf.remove_stopwords(df,'tokens_hy','hy')\n",
    "print(df[['Song','tokens_hy']])"
   ]
  },
  {
   "cell_type": "markdown",
   "metadata": {
    "id": "CWOV7rTUrOB5"
   },
   "source": [
    "#### Stemming\n",
    "Stemming is a simple method to convert words to a common base form. For example converting plural to singular or past tense to present tense. This helps to treat words with the same meaning in the same way.\n",
    "\n",
    "In contrast to lemmatization it uses a very simple method and does not always find the grammatically correct from. However, as stemming is much faster than lemmatization I'm using it here.\n",
    "\n",
    "Below is an example how different forms of the word \"make\" are converted. In this case stemming failes to correctly convert the past tense."
   ]
  },
  {
   "cell_type": "code",
   "execution_count": 79,
   "metadata": {
    "colab": {
     "base_uri": "https://localhost:8080/"
    },
    "id": "xuh4Ym9fw3t9",
    "outputId": "f6563d4e-44f8-4014-b133-4e0b4e6f632e"
   },
   "outputs": [],
   "source": [
    "df=sf.map_tokens_to_stems(df,'tokens_en')"
   ]
  },
  {
   "cell_type": "code",
   "execution_count": 80,
   "metadata": {
    "id": "0mUPYy7kxEG_",
    "scrolled": true
   },
   "outputs": [
    {
     "name": "stdout",
     "output_type": "stream",
     "text": [
      "                       Song  \\\n",
      "0               ԱՀԱ ԵՎ ՎԵՐՋ   \n",
      "1                 ԱՄԵՆԸ ՁԵԶ   \n",
      "2    ԱՆԱՌԱԿ ՈՐԴՈՒ ՎԵՐԱԴԱՐՁԸ   \n",
      "3             ԱՇԽԱՐՀԻ ՑԱՎՈՎ   \n",
      "4                ԱՌԱՋ ԳԻՏԵԻ   \n",
      "..                      ...   \n",
      "537                Chanapar   \n",
      "538                Es Pahin   \n",
      "539                   Rhyme   \n",
      "541           Yes Qo Nmanei   \n",
      "542             Lav Jamanak   \n",
      "\n",
      "                                              stems_en  n_stems_en  \n",
      "0    [end, end, paragraph, last, last, close, page,...         128  \n",
      "1    [larg, scale, wonder, templ, prayer, golden, t...          84  \n",
      "2    [like, prodig, son, becom, citi, seek, door, w...          76  \n",
      "3    [heart, kariy, world, pain, much, suffer, god,...          71  \n",
      "4    [known, peopl, would, world, sun, would, pour,...          69  \n",
      "..                                                 ...         ...  \n",
      "537  [sever, peopl, way, perhap, ask, one, day, ele...         100  \n",
      "538  [seem, us, seem, one, watch, us, one, thought,...          81  \n",
      "539  [sever, peopl, icf, find, wave, sea, scream, p...          85  \n",
      "541  [one, like, one, one, one, one, holiday, home,...          34  \n",
      "542  [refresh, lucki, enough, side, employ, well, a...          76  \n",
      "\n",
      "[456 rows x 3 columns]\n"
     ]
    }
   ],
   "source": [
    "df=sf.calculate_stem_word_count(df,'stems_en')\n",
    "print(df[['Song','stems_en','n_stems_en']])"
   ]
  },
  {
   "cell_type": "code",
   "execution_count": 81,
   "metadata": {},
   "outputs": [],
   "source": [
    "df['n_tokens_hy'] = df['tokens_hy'].map(len)"
   ]
  },
  {
   "cell_type": "markdown",
   "metadata": {},
   "source": [
    "In this section we have used TFIDF to analyse word frequencies in more detail. TFIDF means term frequency - inverse document frequency. Term frequency means how often a word appears in a specific text (in this case song lyrics). Inverse document frequency is the inverse frequency of the same word in the whole document (in this case all song lyrics).\n",
    "\n",
    "The idea of TFIDF is to find out if a specific word appears unusually often in the text. If this is the case, this word gets a high value, if the word appears more often in other texts, its value will be low.\n",
    "\n",
    "This method is very common to cluster texts with similar topics."
   ]
  },
  {
   "cell_type": "code",
   "execution_count": 82,
   "metadata": {},
   "outputs": [
    {
     "data": {
      "text/plain": [
       "TfidfTransformer()"
      ]
     },
     "execution_count": 82,
     "metadata": {},
     "output_type": "execute_result"
    }
   ],
   "source": [
    "cv = CountVectorizer()\n",
    "\n",
    "# generate word counts\n",
    "df['stems_en_str'] = df['stems_en'].apply(lambda tokens: ' '.join(tokens))\n",
    "stem_count_vector = cv.fit_transform(df['stems_en_str'])\n",
    "\n",
    "# compute idf\n",
    "tfidf_transformer=TfidfTransformer(smooth_idf=True,use_idf=True)\n",
    "tfidf_transformer.fit(stem_count_vector)"
   ]
  },
  {
   "cell_type": "markdown",
   "metadata": {},
   "source": [
    "Below are the words with the lowest values. These words apear many times in almost each song. Thus, these words are not usefull to characterise a song."
   ]
  },
  {
   "cell_type": "code",
   "execution_count": 83,
   "metadata": {},
   "outputs": [
    {
     "name": "stderr",
     "output_type": "stream",
     "text": [
      "C:\\Users\\User\\anaconda3\\lib\\site-packages\\sklearn\\utils\\deprecation.py:87: FutureWarning:\n",
      "\n",
      "Function get_feature_names is deprecated; get_feature_names is deprecated in 1.0 and will be removed in 1.2. Please use get_feature_names_out instead.\n",
      "\n"
     ]
    },
    {
     "data": {
      "text/html": [
       "<div>\n",
       "<style scoped>\n",
       "    .dataframe tbody tr th:only-of-type {\n",
       "        vertical-align: middle;\n",
       "    }\n",
       "\n",
       "    .dataframe tbody tr th {\n",
       "        vertical-align: top;\n",
       "    }\n",
       "\n",
       "    .dataframe thead th {\n",
       "        text-align: right;\n",
       "    }\n",
       "</style>\n",
       "<table border=\"1\" class=\"dataframe\">\n",
       "  <thead>\n",
       "    <tr style=\"text-align: right;\">\n",
       "      <th></th>\n",
       "      <th>stem</th>\n",
       "      <th>weight</th>\n",
       "    </tr>\n",
       "  </thead>\n",
       "  <tbody>\n",
       "    <tr>\n",
       "      <th>2798</th>\n",
       "      <td>love</td>\n",
       "      <td>1.607230</td>\n",
       "    </tr>\n",
       "    <tr>\n",
       "      <th>2035</th>\n",
       "      <td>heart</td>\n",
       "      <td>1.826366</td>\n",
       "    </tr>\n",
       "    <tr>\n",
       "      <th>2717</th>\n",
       "      <td>life</td>\n",
       "      <td>1.959897</td>\n",
       "    </tr>\n",
       "    <tr>\n",
       "      <th>3354</th>\n",
       "      <td>one</td>\n",
       "      <td>2.037087</td>\n",
       "    </tr>\n",
       "    <tr>\n",
       "      <th>2727</th>\n",
       "      <td>like</td>\n",
       "      <td>2.043279</td>\n",
       "    </tr>\n",
       "  </tbody>\n",
       "</table>\n",
       "</div>"
      ],
      "text/plain": [
       "       stem    weight\n",
       "2798   love  1.607230\n",
       "2035  heart  1.826366\n",
       "2717   life  1.959897\n",
       "3354    one  2.037087\n",
       "2727   like  2.043279"
      ]
     },
     "execution_count": 83,
     "metadata": {},
     "output_type": "execute_result"
    }
   ],
   "source": [
    "tfidf_df = pd.DataFrame({'stem': cv.get_feature_names(), 'weight': tfidf_transformer.idf_})\n",
    " \n",
    "# get lowest weights\n",
    "tfidf_df.sort_values('weight').head()"
   ]
  },
  {
   "cell_type": "code",
   "execution_count": 84,
   "metadata": {},
   "outputs": [
    {
     "data": {
      "text/html": [
       "<div>\n",
       "<style scoped>\n",
       "    .dataframe tbody tr th:only-of-type {\n",
       "        vertical-align: middle;\n",
       "    }\n",
       "\n",
       "    .dataframe tbody tr th {\n",
       "        vertical-align: top;\n",
       "    }\n",
       "\n",
       "    .dataframe thead th {\n",
       "        text-align: right;\n",
       "    }\n",
       "</style>\n",
       "<table border=\"1\" class=\"dataframe\">\n",
       "  <thead>\n",
       "    <tr style=\"text-align: right;\">\n",
       "      <th></th>\n",
       "      <th>stem</th>\n",
       "      <th>weight</th>\n",
       "    </tr>\n",
       "  </thead>\n",
       "  <tbody>\n",
       "    <tr>\n",
       "      <th>0</th>\n",
       "      <td>aa</td>\n",
       "      <td>6.431536</td>\n",
       "    </tr>\n",
       "    <tr>\n",
       "      <th>3085</th>\n",
       "      <td>monday</td>\n",
       "      <td>6.431536</td>\n",
       "    </tr>\n",
       "    <tr>\n",
       "      <th>3063</th>\n",
       "      <td>miz</td>\n",
       "      <td>6.431536</td>\n",
       "    </tr>\n",
       "    <tr>\n",
       "      <th>3064</th>\n",
       "      <td>mke</td>\n",
       "      <td>6.431536</td>\n",
       "    </tr>\n",
       "    <tr>\n",
       "      <th>3065</th>\n",
       "      <td>mko</td>\n",
       "      <td>6.431536</td>\n",
       "    </tr>\n",
       "  </tbody>\n",
       "</table>\n",
       "</div>"
      ],
      "text/plain": [
       "        stem    weight\n",
       "0         aa  6.431536\n",
       "3085  monday  6.431536\n",
       "3063     miz  6.431536\n",
       "3064     mke  6.431536\n",
       "3065     mko  6.431536"
      ]
     },
     "execution_count": 84,
     "metadata": {},
     "output_type": "execute_result"
    }
   ],
   "source": [
    "# get highest weights\n",
    "tfidf_df.sort_values('weight', ascending=False).head()"
   ]
  },
  {
   "cell_type": "markdown",
   "metadata": {},
   "source": [
    "On the other hand, these are words with the highest values.\n",
    "\n",
    "Next we calculate an TFIDF vector for each song. Every element of this vector represents one word. Its value is calculated by multiplying its frequency with the corresponding weight which was calculated above. This value is normalised by the total number of words of the song. Words which don't appear in the text get a value of 0.\n",
    "\n",
    "The TFIDF score is the sum of the TFIDF vector elements. The higher the score the more unusal the words of this song are compared to other songs."
   ]
  },
  {
   "cell_type": "code",
   "execution_count": 85,
   "metadata": {},
   "outputs": [],
   "source": [
    "# assign tf idf scores to each song\n",
    "tf_idf_vector = tfidf_transformer.transform(stem_count_vector)\n",
    "\n",
    "# attach count vectors to dataframe\n",
    "tf_idf_vector_lst = [-1] * len(df)\n",
    "for i in range(len(df)):\n",
    "    tf_idf_vector_lst[i] = tf_idf_vector[i]\n",
    "df['tf_idf_vector'] = tf_idf_vector_lst    \n",
    "\n",
    "df['tf_idf_score'] = df['tf_idf_vector'].map(lambda vec: np.sum(vec.todense()))"
   ]
  },
  {
   "cell_type": "code",
   "execution_count": 86,
   "metadata": {},
   "outputs": [
    {
     "data": {
      "text/html": [
       "<div>\n",
       "<style scoped>\n",
       "    .dataframe tbody tr th:only-of-type {\n",
       "        vertical-align: middle;\n",
       "    }\n",
       "\n",
       "    .dataframe tbody tr th {\n",
       "        vertical-align: top;\n",
       "    }\n",
       "\n",
       "    .dataframe thead th {\n",
       "        text-align: right;\n",
       "    }\n",
       "</style>\n",
       "<table border=\"1\" class=\"dataframe\">\n",
       "  <thead>\n",
       "    <tr style=\"text-align: right;\">\n",
       "      <th></th>\n",
       "      <th>Song</th>\n",
       "      <th>tf_idf_score</th>\n",
       "    </tr>\n",
       "  </thead>\n",
       "  <tbody>\n",
       "    <tr>\n",
       "      <th>0</th>\n",
       "      <td>ԱՀԱ ԵՎ ՎԵՐՋ</td>\n",
       "      <td>6.881928</td>\n",
       "    </tr>\n",
       "    <tr>\n",
       "      <th>1</th>\n",
       "      <td>ԱՄԵՆԸ ՁԵԶ</td>\n",
       "      <td>6.928256</td>\n",
       "    </tr>\n",
       "    <tr>\n",
       "      <th>2</th>\n",
       "      <td>ԱՆԱՌԱԿ ՈՐԴՈՒ ՎԵՐԱԴԱՐՁԸ</td>\n",
       "      <td>5.222807</td>\n",
       "    </tr>\n",
       "    <tr>\n",
       "      <th>3</th>\n",
       "      <td>ԱՇԽԱՐՀԻ ՑԱՎՈՎ</td>\n",
       "      <td>7.544911</td>\n",
       "    </tr>\n",
       "    <tr>\n",
       "      <th>4</th>\n",
       "      <td>ԱՌԱՋ ԳԻՏԵԻ</td>\n",
       "      <td>5.694038</td>\n",
       "    </tr>\n",
       "    <tr>\n",
       "      <th>...</th>\n",
       "      <td>...</td>\n",
       "      <td>...</td>\n",
       "    </tr>\n",
       "    <tr>\n",
       "      <th>537</th>\n",
       "      <td>Chanapar</td>\n",
       "      <td>6.015289</td>\n",
       "    </tr>\n",
       "    <tr>\n",
       "      <th>538</th>\n",
       "      <td>Es Pahin</td>\n",
       "      <td>5.527543</td>\n",
       "    </tr>\n",
       "    <tr>\n",
       "      <th>539</th>\n",
       "      <td>Rhyme</td>\n",
       "      <td>7.093200</td>\n",
       "    </tr>\n",
       "    <tr>\n",
       "      <th>541</th>\n",
       "      <td>Yes Qo Nmanei</td>\n",
       "      <td>3.614634</td>\n",
       "    </tr>\n",
       "    <tr>\n",
       "      <th>542</th>\n",
       "      <td>Lav Jamanak</td>\n",
       "      <td>5.785265</td>\n",
       "    </tr>\n",
       "  </tbody>\n",
       "</table>\n",
       "<p>456 rows × 2 columns</p>\n",
       "</div>"
      ],
      "text/plain": [
       "                       Song  tf_idf_score\n",
       "0               ԱՀԱ ԵՎ ՎԵՐՋ      6.881928\n",
       "1                 ԱՄԵՆԸ ՁԵԶ      6.928256\n",
       "2    ԱՆԱՌԱԿ ՈՐԴՈՒ ՎԵՐԱԴԱՐՁԸ      5.222807\n",
       "3             ԱՇԽԱՐՀԻ ՑԱՎՈՎ      7.544911\n",
       "4                ԱՌԱՋ ԳԻՏԵԻ      5.694038\n",
       "..                      ...           ...\n",
       "537                Chanapar      6.015289\n",
       "538                Es Pahin      5.527543\n",
       "539                   Rhyme      7.093200\n",
       "541           Yes Qo Nmanei      3.614634\n",
       "542             Lav Jamanak      5.785265\n",
       "\n",
       "[456 rows x 2 columns]"
      ]
     },
     "execution_count": 86,
     "metadata": {},
     "output_type": "execute_result"
    }
   ],
   "source": [
    "df[['Song','tf_idf_score']]"
   ]
  },
  {
   "cell_type": "code",
   "execution_count": 87,
   "metadata": {},
   "outputs": [
    {
     "data": {
      "application/vnd.plotly.v1+json": {
       "config": {
        "plotlyServerURL": "https://plot.ly"
       },
       "data": [
        {
         "alignmentgroup": "True",
         "hovertemplate": "Artist=%{x}<br>tf_idf_score=%{y}<extra></extra>",
         "legendgroup": "",
         "marker": {
          "color": "#636efa"
         },
         "name": "",
         "notched": false,
         "offsetgroup": "",
         "orientation": "v",
         "showlegend": false,
         "type": "box",
         "x": [
          "ԱՐԹՈՒՐ ՄԵՍՉՅԱՆ",
          "ԱՐԹՈՒՐ ՄԵՍՉՅԱՆ",
          "ԱՐԹՈՒՐ ՄԵՍՉՅԱՆ",
          "ԱՐԹՈՒՐ ՄԵՍՉՅԱՆ",
          "ԱՐԹՈՒՐ ՄԵՍՉՅԱՆ",
          "ԱՐԹՈՒՐ ՄԵՍՉՅԱՆ",
          "ԱՐԹՈՒՐ ՄԵՍՉՅԱՆ",
          "ԱՐԹՈՒՐ ՄԵՍՉՅԱՆ",
          "ԱՐԹՈՒՐ ՄԵՍՉՅԱՆ",
          "ԱՐԹՈՒՐ ՄԵՍՉՅԱՆ",
          "ԱՐԹՈՒՐ ՄԵՍՉՅԱՆ",
          "ԱՐԹՈՒՐ ՄԵՍՉՅԱՆ",
          "ԱՐԹՈՒՐ ՄԵՍՉՅԱՆ",
          "ԱՐԹՈՒՐ ՄԵՍՉՅԱՆ",
          "ԱՐԹՈՒՐ ՄԵՍՉՅԱՆ",
          "ԱՐԹՈՒՐ ՄԵՍՉՅԱՆ",
          "ԱՐԹՈՒՐ ՄԵՍՉՅԱՆ",
          "ԱՐԹՈՒՐ ՄԵՍՉՅԱՆ",
          "ԱՐԹՈՒՐ ՄԵՍՉՅԱՆ",
          "ԱՐԹՈՒՐ ՄԵՍՉՅԱՆ",
          "ԱՐԹՈՒՐ ՄԵՍՉՅԱՆ",
          "ԱՐԹՈՒՐ ՄԵՍՉՅԱՆ",
          "ԱՐԹՈՒՐ ՄԵՍՉՅԱՆ",
          "ԱՐԹՈՒՐ ՄԵՍՉՅԱՆ",
          "ԱՐԹՈՒՐ ՄԵՍՉՅԱՆ",
          "ԱՐԹՈՒՐ ՄԵՍՉՅԱՆ",
          "ԱՐԹՈՒՐ ՄԵՍՉՅԱՆ",
          "ԱՐԹՈՒՐ ՄԵՍՉՅԱՆ",
          "ԱՐԹՈՒՐ ՄԵՍՉՅԱՆ",
          "ԱՐԹՈՒՐ ՄԵՍՉՅԱՆ",
          "ԱՐԹՈՒՐ ՄԵՍՉՅԱՆ",
          "ԱՐԹՈՒՐ ՄԵՍՉՅԱՆ",
          "ԱՐԹՈՒՐ ՄԵՍՉՅԱՆ",
          "ԱՐԹՈՒՐ ՄԵՍՉՅԱՆ",
          "ԱՐԹՈՒՐ ՄԵՍՉՅԱՆ",
          "ԱՐԹՈՒՐ ՄԵՍՉՅԱՆ",
          "ԱՐԹՈՒՐ ՄԵՍՉՅԱՆ",
          "ԱՐԹՈՒՐ ՄԵՍՉՅԱՆ",
          "ԱՐԹՈՒՐ ՄԵՍՉՅԱՆ",
          "ԱՐԹՈՒՐ ՄԵՍՉՅԱՆ",
          "ԱՐԹՈՒՐ ՄԵՍՉՅԱՆ",
          "ԱՐԹՈՒՐ ՄԵՍՉՅԱՆ",
          "ԱՐԹՈՒՐ ՄԵՍՉՅԱՆ",
          "ԱՐԹՈՒՐ ՄԵՍՉՅԱՆ",
          "ԱՐԹՈՒՐ ՄԵՍՉՅԱՆ",
          "ԱՐԹՈՒՐ ՄԵՍՉՅԱՆ",
          "ԱՐԹՈՒՐ ՄԵՍՉՅԱՆ",
          "ԱՐԹՈՒՐ ՄԵՍՉՅԱՆ",
          "ԱՐԹՈՒՐ ՄԵՍՉՅԱՆ",
          "ԱՐԹՈՒՐ ՄԵՍՉՅԱՆ",
          "ՌՈՒԲԵՆ ՀԱԽՎԵՐԴՅԱՆ",
          "ՌՈՒԲԵՆ ՀԱԽՎԵՐԴՅԱՆ",
          "ՌՈՒԲԵՆ ՀԱԽՎԵՐԴՅԱՆ",
          "ՌՈՒԲԵՆ ՀԱԽՎԵՐԴՅԱՆ",
          "ՌՈՒԲԵՆ ՀԱԽՎԵՐԴՅԱՆ",
          "ՌՈՒԲԵՆ ՀԱԽՎԵՐԴՅԱՆ",
          "ՌՈՒԲԵՆ ՀԱԽՎԵՐԴՅԱՆ",
          "ՌՈՒԲԵՆ ՀԱԽՎԵՐԴՅԱՆ",
          "ՌՈՒԲԵՆ ՀԱԽՎԵՐԴՅԱՆ",
          "ՌՈՒԲԵՆ ՀԱԽՎԵՐԴՅԱՆ",
          "ՌՈՒԲԵՆ ՀԱԽՎԵՐԴՅԱՆ",
          "ՌՈՒԲԵՆ ՀԱԽՎԵՐԴՅԱՆ",
          "ՌՈՒԲԵՆ ՀԱԽՎԵՐԴՅԱՆ",
          "ՌՈՒԲԵՆ ՀԱԽՎԵՐԴՅԱՆ",
          "ՌՈՒԲԵՆ ՀԱԽՎԵՐԴՅԱՆ",
          "ՌՈՒԲԵՆ ՀԱԽՎԵՐԴՅԱՆ",
          "ՌՈՒԲԵՆ ՀԱԽՎԵՐԴՅԱՆ",
          "ՌՈՒԲԵՆ ՀԱԽՎԵՐԴՅԱՆ",
          "ՌՈՒԲԵՆ ՀԱԽՎԵՐԴՅԱՆ",
          "ՌՈՒԲԵՆ ՀԱԽՎԵՐԴՅԱՆ",
          "ՌՈՒԲԵՆ ՀԱԽՎԵՐԴՅԱՆ",
          "ՌՈՒԲԵՆ ՀԱԽՎԵՐԴՅԱՆ",
          "ՌՈՒԲԵՆ ՀԱԽՎԵՐԴՅԱՆ",
          "ՌՈՒԲԵՆ ՀԱԽՎԵՐԴՅԱՆ",
          "ՌՈՒԲԵՆ ՀԱԽՎԵՐԴՅԱՆ",
          "ՌՈՒԲԵՆ ՀԱԽՎԵՐԴՅԱՆ",
          "ՌՈՒԲԵՆ ՀԱԽՎԵՐԴՅԱՆ",
          "ՌՈՒԲԵՆ ՀԱԽՎԵՐԴՅԱՆ",
          "ՌՈՒԲԵՆ ՀԱԽՎԵՐԴՅԱՆ",
          "ՌՈՒԲԵՆ ՀԱԽՎԵՐԴՅԱՆ",
          "ՌՈՒԲԵՆ ՀԱԽՎԵՐԴՅԱՆ",
          "ՌՈՒԲԵՆ ՀԱԽՎԵՐԴՅԱՆ",
          "ՌՈՒԲԵՆ ՀԱԽՎԵՐԴՅԱՆ",
          "ՌՈՒԲԵՆ ՀԱԽՎԵՐԴՅԱՆ",
          "ՌՈՒԲԵՆ ՀԱԽՎԵՐԴՅԱՆ",
          "ՌՈՒԲԵՆ ՀԱԽՎԵՐԴՅԱՆ",
          "ՌՈՒԲԵՆ ՀԱԽՎԵՐԴՅԱՆ",
          "ՌՈՒԲԵՆ ՀԱԽՎԵՐԴՅԱՆ",
          "ՌՈՒԲԵՆ ՀԱԽՎԵՐԴՅԱՆ",
          "ՌՈՒԲԵՆ ՀԱԽՎԵՐԴՅԱՆ",
          "ՌՈՒԲԵՆ ՀԱԽՎԵՐԴՅԱՆ",
          "ՌՈՒԲԵՆ ՀԱԽՎԵՐԴՅԱՆ",
          "ՌՈՒԲԵՆ ՀԱԽՎԵՐԴՅԱՆ",
          "ՌՈՒԲԵՆ ՀԱԽՎԵՐԴՅԱՆ",
          "ՌՈՒԲԵՆ ՀԱԽՎԵՐԴՅԱՆ",
          "ՌՈՒԲԵՆ ՀԱԽՎԵՐԴՅԱՆ",
          "ՌՈՒԲԵՆ ՀԱԽՎԵՐԴՅԱՆ",
          "ՌՈՒԲԵՆ ՀԱԽՎԵՐԴՅԱՆ",
          "ՌՈՒԲԵՆ ՀԱԽՎԵՐԴՅԱՆ",
          "ՌՈՒԲԵՆ ՀԱԽՎԵՐԴՅԱՆ",
          "ՌՈՒԲԵՆ ՀԱԽՎԵՐԴՅԱՆ",
          "ՍԱՅԱԹ-ՆՈՎԱ",
          "ՍԱՅԱԹ-ՆՈՎԱ",
          "ՍԱՅԱԹ-ՆՈՎԱ",
          "ՍԱՅԱԹ-ՆՈՎԱ",
          "ՍԱՅԱԹ-ՆՈՎԱ",
          "ՍԱՅԱԹ-ՆՈՎԱ",
          "ՍԱՅԱԹ-ՆՈՎԱ",
          "ՍԱՅԱԹ-ՆՈՎԱ",
          "ՍԱՅԱԹ-ՆՈՎԱ",
          "ՍԱՅԱԹ-ՆՈՎԱ",
          "ՍԱՅԱԹ-ՆՈՎԱ",
          "ՍԱՅԱԹ-ՆՈՎԱ",
          "ՍԱՅԱԹ-ՆՈՎԱ",
          "ՍԱՅԱԹ-ՆՈՎԱ",
          "ՍԱՅԱԹ-ՆՈՎԱ",
          "ՍԱՅԱԹ-ՆՈՎԱ",
          "ԿՈՄԻՏԱՍ",
          "ԿՈՄԻՏԱՍ",
          "ԿՈՄԻՏԱՍ",
          "ԿՈՄԻՏԱՍ",
          "ԿՈՄԻՏԱՍ",
          "ԿՈՄԻՏԱՍ",
          "ԿՈՄԻՏԱՍ",
          "ԿՈՄԻՏԱՍ",
          "ԿՈՄԻՏԱՍ",
          "ԿՈՄԻՏԱՍ",
          "ԿՈՄԻՏԱՍ",
          "ԿՈՄԻՏԱՍ",
          "ԿՈՄԻՏԱՍ",
          "ԿՈՄԻՏԱՍ",
          "ԿՈՄԻՏԱՍ",
          "ԿՈՄԻՏԱՍ",
          "ԿՈՄԻՏԱՍ",
          "ԿՈՄԻՏԱՍ",
          "ԿՈՄԻՏԱՍ",
          "ԿՈՄԻՏԱՍ",
          "ԿՈՄԻՏԱՍ",
          "ԿՈՄԻՏԱՍ",
          "ԿՈՄԻՏԱՍ",
          "ԿՈՄԻՏԱՍ",
          "ԿՈՄԻՏԱՍ",
          "ԿՈՄԻՏԱՍ",
          "ԿՈՄԻՏԱՍ",
          "ԿՈՄԻՏԱՍ",
          "ԿՈՄԻՏԱՍ",
          "ԿՈՄԻՏԱՍ",
          "ԿՈՄԻՏԱՍ",
          "ԿՈՄԻՏԱՍ",
          "ԿՈՄԻՏԱՍ",
          "ԿՈՄԻՏԱՍ",
          "ԿՈՄԻՏԱՍ",
          "ԿՈՄԻՏԱՍ",
          "ԿՈՄԻՏԱՍ",
          "ԿՈՄԻՏԱՍ",
          "ԿՈՄԻՏԱՍ",
          "ԿՈՄԻՏԱՍ",
          "ԿՈՄԻՏԱՍ",
          "ԿՈՄԻՏԱՍ",
          "HT Hayko",
          "HT Hayko",
          "HT Hayko",
          "HT Hayko",
          "HT Hayko",
          "HT Hayko",
          "HT Hayko",
          "HT Hayko",
          "HT Hayko",
          "HT Hayko",
          "HT Hayko",
          "HT Hayko",
          "HT Hayko",
          "HT Hayko",
          "HT Hayko",
          "HT Hayko",
          "Empyray",
          "Empyray",
          "Empyray",
          "Empyray",
          "Empyray",
          "Empyray",
          "Empyray",
          "Empyray",
          "Empyray",
          "Empyray",
          " Lav Eli",
          " Lav Eli",
          " Lav Eli",
          " Lav Eli",
          " Lav Eli",
          " Lav Eli",
          " Lav Eli",
          " Lav Eli",
          " Lav Eli",
          "Silva Hakobyan",
          "Silva Hakobyan",
          "Silva Hakobyan",
          "Silva Hakobyan",
          "Silva Hakobyan",
          "Silva Hakobyan",
          "Silva Hakobyan",
          "Silva Hakobyan",
          "Silva Hakobyan",
          "Silva Hakobyan",
          "Silva Hakobyan",
          "Silva Hakobyan",
          "Silva Hakobyan",
          "Silva Hakobyan",
          "Silva Hakobyan",
          "Silva Hakobyan",
          "Silva Hakobyan",
          "Silva Hakobyan",
          "Silva Hakobyan",
          "Silva Hakobyan",
          "Անդրե",
          "Անդրե",
          "Անդրե",
          "Անդրե",
          "Անդրե",
          "Անդրե",
          "Անդրե",
          "Անդրե",
          "Անդրե",
          "Անդրե",
          "Անդրե",
          "Անդրե",
          "Լիլիթ Հովհաննիսյան",
          "Լիլիթ Հովհաննիսյան",
          "Լիլիթ Հովհաննիսյան",
          "Լիլիթ Հովհաննիսյան",
          "Լիլիթ Հովհաննիսյան",
          "Լիլիթ Հովհաննիսյան",
          "Լիլիթ Հովհաննիսյան",
          "Լիլիթ Հովհաննիսյան",
          "Լիլիթ Հովհաննիսյան",
          "Լիլիթ Հովհաննիսյան",
          "Լիլիթ Հովհաննիսյան",
          "Լիլիթ Հովհաննիսյան",
          "Լիլիթ Հովհաննիսյան",
          "Լիլիթ Հովհաննիսյան",
          "Լիլիթ Հովհաննիսյան",
          "Լիլիթ Հովհաննիսյան",
          "Լիլիթ Հովհաննիսյան",
          "Լիլիթ Հովհաննիսյան",
          "Լիլիթ Հովհաննիսյան",
          "Լիլիթ Հովհաննիսյան",
          "Լիլիթ Հովհաննիսյան",
          "Լիլիթ Հովհաննիսյան",
          "Լիլիթ Հովհաննիսյան",
          "Լիլիթ Հովհաննիսյան",
          "Սիրուշո",
          "Սիրուշո",
          "Սիրուշո",
          "Սիրուշո",
          "Սիրուշո",
          "Սիրուշո",
          "Սիրուշո",
          "Սիրուշո",
          "Սիրուշո",
          "Սիրուշո",
          "Սիրուշո",
          "Սիրուշո",
          "Սիրուշո",
          "Սիրուշո",
          "Սիրուշո",
          "Սիրուշո",
          "Սիրուշո",
          "Սիրուշո",
          "Սիրուշո",
          "Սիրուշո",
          "Սիրուշո",
          "Սիրուշո",
          "Սիրուշո",
          "Սիրուշո",
          "Սիրուշո",
          "Միհրան Ծառուկյան",
          "Միհրան Ծառուկյան",
          "Միհրան Ծառուկյան",
          "Միհրան Ծառուկյան",
          "Միհրան Ծառուկյան",
          "Միհրան Ծառուկյան",
          "Միհրան Ծառուկյան",
          "Միհրան Ծառուկյան",
          "Միհրան Ծառուկյան",
          "Միհրան Ծառուկյան",
          "Միհրան Ծառուկյան",
          "Միհրան Ծառուկյան",
          "Միհրան Ծառուկյան",
          "Միհրան Ծառուկյան",
          "Միհրան Ծառուկյան",
          "Միհրան Ծառուկյան",
          "Միհրան Ծառուկյան",
          "Միհրան Ծառուկյան",
          "Arame",
          "Arame",
          "Arame",
          "Arame",
          "Arame",
          "Arame",
          "Arame",
          "Arame",
          "Arame",
          "Razmik Amyan",
          "Razmik Amyan",
          "Razmik Amyan",
          "Razmik Amyan",
          "Razmik Amyan",
          "Razmik Amyan",
          "Razmik Amyan",
          "Razmik Amyan",
          "Razmik Amyan",
          "Razmik Amyan",
          "Razmik Amyan",
          "Razmik Amyan",
          "Razmik Amyan",
          "Razmik Amyan",
          "Razmik Amyan",
          "Razmik Amyan",
          "Razmik Amyan",
          "Razmik Amyan",
          "Harout Pamboukjian",
          "Harout Pamboukjian",
          "Harout Pamboukjian",
          "Harout Pamboukjian",
          "Harout Pamboukjian",
          "Harout Pamboukjian",
          "Harout Pamboukjian",
          "Harout Pamboukjian",
          "Harout Pamboukjian",
          "Harout Pamboukjian",
          "Harout Pamboukjian",
          "Harout Pamboukjian",
          "Harout Pamboukjian",
          "Harout Pamboukjian",
          "Harout Pamboukjian",
          "Harout Pamboukjian",
          "Harout Pamboukjian",
          "Harout Pamboukjian",
          "Harout Pamboukjian",
          "Harout Pamboukjian",
          "Harout Pamboukjian",
          "Harout Pamboukjian",
          "Harout Pamboukjian",
          "Harout Pamboukjian",
          "Harout Pamboukjian",
          "Harout Pamboukjian",
          "Harout Pamboukjian",
          "Harout Pamboukjian",
          "Harout Pamboukjian",
          "Harout Pamboukjian",
          "Harout Pamboukjian",
          "Harout Pamboukjian",
          "Հայկ Հակոբյան",
          "Հայկ Հակոբյան",
          "Հայկ Հակոբյան",
          "Հայկ Հակոբյան",
          "Հայկ Հակոբյան",
          "Հայկ Հակոբյան",
          "Հայկ Հակոբյան",
          "Հայկ Հակոբյան",
          "Հայկ Հակոբյան",
          "Հայկ Հակոբյան",
          "Հայկ Հակոբյան",
          "Հայկ Հակոբյան",
          "Հայկ Հակոբյան",
          "Հայկ Հակոբյան",
          "Հայկ Հակոբյան",
          "Հայկ Հակոբյան",
          "Հայկ Հակոբյան",
          "Հայկ Հակոբյան",
          "Հայկ Հակոբյան",
          "Հայկ Հակոբյան",
          "Հայկ Հակոբյան",
          "Հայկ Հակոբյան",
          "Հայկ Հակոբյան",
          "Aram MP3",
          "Aram MP3",
          "Arsen Safaryan",
          "Arsen Safaryan",
          "Arsen Safaryan",
          "Arsen Safaryan",
          "Arsen Safaryan",
          "Arsen Safaryan",
          "Arsen Safaryan",
          "Arsen Safaryan",
          "Arsen Safaryan",
          "Arsen Safaryan",
          "Arsen Safaryan",
          "Arsen Safaryan",
          "Arsen Safaryan",
          "Arsen Safaryan",
          "Arsen Safaryan",
          "Arsen Safaryan",
          "Arsen Safaryan",
          "Arsen Safaryan",
          "Arsen Safaryan",
          "Arsen Safaryan",
          "Arsen Safaryan",
          "Arsen Safaryan",
          "Arsen Safaryan",
          "Aram MP3",
          "Aram MP3",
          "Aram MP3",
          "Aram MP3",
          "Aram MP3",
          "Aram MP3",
          "Aram MP3",
          "Aram MP3",
          "Aram MP3",
          "Aram MP3",
          "Aram MP3",
          "Aram MP3",
          "Aram MP3",
          "Aram MP3",
          "Aram MP3",
          "Misho",
          "Misho",
          "Misho",
          "Misho",
          "Misho",
          "Misho",
          "Misho",
          "Misho",
          "Misho",
          "Misho",
          "Misho",
          "Misho",
          "Misho",
          "Misho",
          "Misho",
          "Misho",
          "Misho",
          "Misho",
          "Misho",
          "Misho",
          "Misho",
          "Misho",
          "Misho",
          "Misho",
          "Misho",
          "Misho",
          "Mi Qani Hogi",
          "Mi Qani Hogi",
          "Mi Qani Hogi",
          "Mi Qani Hogi",
          "Mi Qani Hogi",
          "Mi Qani Hogi",
          "Mi Qani Hogi",
          "Mi Qani Hogi",
          "Mi Qani Hogi",
          "Mi Qani Hogi",
          "Mi Qani Hogi",
          "Mi Qani Hogi",
          "Mi Qani Hogi",
          "Mi Qani Hogi",
          "Mi Qani Hogi"
         ],
         "x0": " ",
         "xaxis": "x",
         "y": [
          6.881928268789849,
          6.928256098977258,
          5.222806520903264,
          7.544911457231681,
          5.694037868244571,
          4.7406317711958454,
          4.867596043723707,
          6.366882695577026,
          6.3190671058058,
          6.6656420324086385,
          5.369440576257228,
          5.8832964474253515,
          5.966993371934877,
          6.9521992724262835,
          5.0439960325534114,
          5.387288140032638,
          6.4010466599601195,
          6.475147713314953,
          7.68228138101583,
          7.438564398721793,
          8.019431916177751,
          7.048421001085163,
          9.71053315383547,
          8.631963108187069,
          6.331602320772204,
          6.445892755141828,
          6.95992708810074,
          8.2615046667112,
          6.245466152394136,
          8.823507384158072,
          6.187063295982006,
          7.118652190558231,
          5.706704076041421,
          7.714446255352771,
          4.162190832463507,
          5.870934724859645,
          8.586812793494492,
          4.859581192477859,
          2.6781134887842555,
          5.689525160868702,
          7.516783086331099,
          8.29502580189371,
          7.284357577219687,
          6.131625278182437,
          6.824562639354291,
          5.136618387989228,
          6.562922319786206,
          8.362551502061493,
          7.686543679737496,
          6.972603857371583,
          8.233726046345772,
          4.596750921682566,
          5.454337904947413,
          8.462344521241992,
          7.739144710146421,
          4.734558205293692,
          3.5905429917934266,
          7.569733780942481,
          5.692926935918663,
          7.553965464178472,
          4.930415658350611,
          6.113020831810296,
          6.11151889810866,
          4.172081912842016,
          5.966616082720142,
          5.074044031408281,
          7.264753295116118,
          4.466061278576461,
          6.506489542649967,
          6.1090905106737585,
          6.519126629328687,
          4.39801266532403,
          4.1719369626449385,
          5.7685366223387184,
          5.6339213041681075,
          5.080287276153982,
          5.945936670839255,
          4.5879847155347155,
          5.814645164810777,
          6.975752821812815,
          6.381343852582445,
          5.800889380044698,
          5.497758266616173,
          5.287008638614809,
          5.790363745226916,
          6.427270699062794,
          8.021594026216558,
          5.810687381409764,
          5.173732598807371,
          4.834433528699378,
          6.299593165783802,
          4.915777753253129,
          9.126573407897286,
          7.782749097484309,
          3.9209752524463024,
          5.595361035452436,
          5.810052269678743,
          3.834468967892297,
          4.481860106525268,
          5.647883326380489,
          5.412051854168807,
          7.137595942467518,
          9.270083614017675,
          8.151684653109964,
          8.3451909221557,
          9.023852440021322,
          6.847547304922145,
          8.60962607446418,
          7.641671561459061,
          7.107026536446777,
          7.3070725433110635,
          9.35991133732767,
          4.281646077551628,
          9.160165861047426,
          7.7050586804817005,
          8.585532158737553,
          4.8216696571962006,
          3.738742295779243,
          3.27737130204841,
          3.068862500596809,
          6.197595876535958,
          2.9426544159952526,
          2.284887261888542,
          6.165981256858357,
          3.4272130416084496,
          2.735766508888629,
          2.953816818179157,
          3.292737987699578,
          3.6937760654440077,
          3.4100575150577583,
          4.12016356857448,
          3.3634171049780353,
          4.702420975681466,
          5.216149665435939,
          4.394366806581551,
          3.4882365452698907,
          4.582242492902719,
          4.230307031981335,
          2.871460390377165,
          4.695147415703801,
          4.080832921121221,
          3.7610377762760177,
          3.5203707271192966,
          5.144202322918986,
          3.510592038715298,
          3.9233314010078018,
          5.3498496084483715,
          4.055640539300873,
          4.161211101096109,
          4.00654029171433,
          3.6831812124408323,
          3.0073603009055097,
          3.3462576469321847,
          4.369265580528975,
          4.966232753319111,
          5.097568292971826,
          5.379871525852115,
          3.02167350778221,
          6.8352243640052155,
          9.924022867607452,
          7.225879699988562,
          8.228440243222304,
          4.794313739503982,
          8.090278920816713,
          10.675484544883425,
          10.37497311483715,
          10.128186138510323,
          12.512059959987763,
          8.290282224883313,
          8.924108878246923,
          7.340227803384914,
          7.4095941246224335,
          7.822823611717081,
          4.028595529352633,
          4.554199475309605,
          4.93142641859197,
          6.660474612049546,
          4.451231464665112,
          4.817074314048856,
          4.708840389512548,
          5.6127642978524,
          6.14839984521538,
          4.903916297000986,
          4.139377457151726,
          4.302422550687922,
          3.7461536734174534,
          6.043735900476162,
          9.36964726242612,
          5.560090554799886,
          2.53233313658488,
          6.955450805092754,
          4.621666657005977,
          4.596380069941661,
          4.158988163388818,
          4.95610656489195,
          4.465339241916628,
          5.877671625004881,
          5.616396831162415,
          5.292693097553922,
          4.897925956352472,
          4.65552029326736,
          4.324312684813648,
          6.0499018510518985,
          6.394488996291438,
          5.25502326302737,
          6.124896807691532,
          5.61851466121491,
          5.616396831162415,
          5.25376196470039,
          5.019569795693874,
          3.5410391791539695,
          5.597186323283356,
          5.302795020726495,
          6.056082505995014,
          4.116586751280348,
          5.441116470290734,
          4.374614977652495,
          4.522526851934833,
          5.512473882138606,
          6.047435686235824,
          3.5400980419969468,
          4.056633053511785,
          4.759851974214458,
          4.446966442268887,
          6.660006282127995,
          6.106686693727024,
          5.929318152948895,
          5.56911863407437,
          4.6673023491252135,
          4.488027729516473,
          6.261022860313257,
          7.070225084428393,
          4.911976653743572,
          5.854061211643969,
          5.929535761103406,
          6.266359863131296,
          6.567645818482257,
          3.7977110933017695,
          2.50635374197657,
          7.249191211555855,
          5.15849863075168,
          6.496234350337319,
          4.274875499543641,
          4.006856614153019,
          3.7926090052756516,
          4.464071024116165,
          5.484931619430915,
          5.854323540308496,
          5.310804384387984,
          4.437978154125018,
          5.223158996936569,
          4.007095001928292,
          1.7184631854863348,
          3.7003880089038494,
          3.0078262184523026,
          5.431678901388688,
          6.415474218218943,
          6.99977281762293,
          4.726916577156507,
          1.5576635838661812,
          4.327180498121021,
          3.3931911035584967,
          4.949674222471122,
          5.383610467350074,
          4.336976166872623,
          3.3084138149505145,
          4.860731974204269,
          4.935746018480005,
          3.521728136325584,
          5.6626716179163585,
          5.552517865140046,
          6.7022194472880825,
          3.695744339544308,
          4.374714032689045,
          2.659843138523649,
          4.892229434790963,
          4.725441405067706,
          3.647621344757119,
          5.285263986208135,
          4.24758093062238,
          6.01264573209117,
          5.059902322533184,
          4.84760160068933,
          4.904265568185388,
          5.681826466077901,
          5.3625450906521035,
          3.725612139836919,
          4.761469251516157,
          6.1886061080894095,
          5.618503091034642,
          5.968360669394189,
          7.26239843666867,
          5.375531855070136,
          4.286823059159378,
          4.791599970137133,
          3.837640101834744,
          5.9645955441749985,
          4.821197470540971,
          6.260566228969311,
          4.694478550258766,
          5.761357058829169,
          2.2586325032418753,
          4.497538525090816,
          5.055846677538105,
          5.975541053907405,
          4.694056412218988,
          4.7244166788110284,
          6.6440997940370305,
          5.155734488650656,
          5.781202539529043,
          4.545206118813051,
          5.748474316430379,
          2.144719721556013,
          5.1589848712588084,
          4.459344786155636,
          5.673339648697666,
          5.498633187402342,
          4.489239785133957,
          4.856523816660067,
          5.271520824190988,
          5.009768017000505,
          6.328428421598693,
          4.761438982522343,
          3.994812142606778,
          2.8673146382878705,
          3.779515599264785,
          3.11118506389945,
          5.206916551397681,
          6.588854317847769,
          3.7047952871250005,
          6.055455587030997,
          2.7556957341867627,
          2.8051884116481167,
          5.631236767694578,
          4.181481632563981,
          6.8935233460950265,
          4.810765451505063,
          6.843173812484938,
          5.282997103080477,
          7.8918263499331,
          6.939898733523664,
          3.04782847886729,
          5.403232109983459,
          7.348153888340755,
          5.222155089596518,
          8.142715325950448,
          5.143400301229459,
          7.0336972824022705,
          6.0970912690028385,
          5.207535747801062,
          5.782554050822332,
          7.0745339481068115,
          2.4652967406817585,
          4.817920770377757,
          5.478153620853233,
          4.945083364199186,
          5.808350887721572,
          6.127762922110382,
          4.681517769831066,
          5.811976112769065,
          6.55350210480567,
          6.312584232926197,
          4.825130407123455,
          5.306827293522015,
          2.5952349401359984,
          6.437804421785495,
          3.7055073606485096,
          3.743882367485578,
          4.625390443635102,
          5.307168378513359,
          5.302096037729836,
          5.5238970569136265,
          5.544741452853904,
          4.833992410985595,
          6.204457692902311,
          6.430002888814507,
          4.335828604003301,
          6.7344232898744,
          6.094975737361871,
          7.132942505407932,
          5.407499512870375,
          7.2220178205836065,
          4.067320306575624,
          4.75637342519149,
          6.195288277695643,
          6.826027004688937,
          6.329647997777869,
          5.3880451013792445,
          6.819926838410651,
          7.29292804114011,
          6.510261027859055,
          3.941874785272672,
          4.769385827902955,
          4.233950070950265,
          6.4584992642486085,
          5.582256265462531,
          5.731949657217825,
          4.175899403015328,
          6.780697787961271,
          6.0656311469068,
          3.905931782641985,
          1.7994563336778788,
          5.015631233093064,
          3.4006562247673022,
          3.769440513482917,
          5.288037000482782,
          5.624362980650743,
          6.31089321027236,
          3.208817696627108,
          5.267880347897093,
          4.134111994025209,
          4.8205435883935355,
          3.8460450985329686,
          2.9933590959783203,
          5.541095890511568,
          5.28452465470229,
          6.67335122815318,
          6.611816539749978,
          9.774625303349213,
          10.669580157768692,
          6.673301201144158,
          1.7086011921693256,
          6.26825884060781,
          6.60200758009367,
          7.595416924353836,
          9.28483944555396,
          7.736724149489444,
          8.648817018985046,
          4.2381114636541355,
          9.222072827298899,
          2.798873900865847,
          8.63463016092487,
          8.34963056369018,
          7.013192114812089,
          7.510714994058814,
          5.4016447898209305,
          8.760576112479274,
          3.901899378408659,
          4.948059475311462,
          9.007312220599639,
          7.463441461739617,
          6.277737847297425,
          6.743875505913719,
          6.488490829325762,
          7.546229608921909,
          6.335704066267981,
          7.856762259931358,
          6.6828457089777045,
          6.6679039812755985,
          4.327326064402333,
          5.741416277015036,
          6.015288688116261,
          5.527542877845489,
          7.0931998493101,
          3.6146342990808313,
          5.785265157427599
         ],
         "y0": " ",
         "yaxis": "y"
        }
       ],
       "layout": {
        "boxmode": "group",
        "legend": {
         "tracegroupgap": 0
        },
        "template": {
         "data": {
          "bar": [
           {
            "error_x": {
             "color": "#2a3f5f"
            },
            "error_y": {
             "color": "#2a3f5f"
            },
            "marker": {
             "line": {
              "color": "#E5ECF6",
              "width": 0.5
             },
             "pattern": {
              "fillmode": "overlay",
              "size": 10,
              "solidity": 0.2
             }
            },
            "type": "bar"
           }
          ],
          "barpolar": [
           {
            "marker": {
             "line": {
              "color": "#E5ECF6",
              "width": 0.5
             },
             "pattern": {
              "fillmode": "overlay",
              "size": 10,
              "solidity": 0.2
             }
            },
            "type": "barpolar"
           }
          ],
          "carpet": [
           {
            "aaxis": {
             "endlinecolor": "#2a3f5f",
             "gridcolor": "white",
             "linecolor": "white",
             "minorgridcolor": "white",
             "startlinecolor": "#2a3f5f"
            },
            "baxis": {
             "endlinecolor": "#2a3f5f",
             "gridcolor": "white",
             "linecolor": "white",
             "minorgridcolor": "white",
             "startlinecolor": "#2a3f5f"
            },
            "type": "carpet"
           }
          ],
          "choropleth": [
           {
            "colorbar": {
             "outlinewidth": 0,
             "ticks": ""
            },
            "type": "choropleth"
           }
          ],
          "contour": [
           {
            "colorbar": {
             "outlinewidth": 0,
             "ticks": ""
            },
            "colorscale": [
             [
              0,
              "#0d0887"
             ],
             [
              0.1111111111111111,
              "#46039f"
             ],
             [
              0.2222222222222222,
              "#7201a8"
             ],
             [
              0.3333333333333333,
              "#9c179e"
             ],
             [
              0.4444444444444444,
              "#bd3786"
             ],
             [
              0.5555555555555556,
              "#d8576b"
             ],
             [
              0.6666666666666666,
              "#ed7953"
             ],
             [
              0.7777777777777778,
              "#fb9f3a"
             ],
             [
              0.8888888888888888,
              "#fdca26"
             ],
             [
              1,
              "#f0f921"
             ]
            ],
            "type": "contour"
           }
          ],
          "contourcarpet": [
           {
            "colorbar": {
             "outlinewidth": 0,
             "ticks": ""
            },
            "type": "contourcarpet"
           }
          ],
          "heatmap": [
           {
            "colorbar": {
             "outlinewidth": 0,
             "ticks": ""
            },
            "colorscale": [
             [
              0,
              "#0d0887"
             ],
             [
              0.1111111111111111,
              "#46039f"
             ],
             [
              0.2222222222222222,
              "#7201a8"
             ],
             [
              0.3333333333333333,
              "#9c179e"
             ],
             [
              0.4444444444444444,
              "#bd3786"
             ],
             [
              0.5555555555555556,
              "#d8576b"
             ],
             [
              0.6666666666666666,
              "#ed7953"
             ],
             [
              0.7777777777777778,
              "#fb9f3a"
             ],
             [
              0.8888888888888888,
              "#fdca26"
             ],
             [
              1,
              "#f0f921"
             ]
            ],
            "type": "heatmap"
           }
          ],
          "heatmapgl": [
           {
            "colorbar": {
             "outlinewidth": 0,
             "ticks": ""
            },
            "colorscale": [
             [
              0,
              "#0d0887"
             ],
             [
              0.1111111111111111,
              "#46039f"
             ],
             [
              0.2222222222222222,
              "#7201a8"
             ],
             [
              0.3333333333333333,
              "#9c179e"
             ],
             [
              0.4444444444444444,
              "#bd3786"
             ],
             [
              0.5555555555555556,
              "#d8576b"
             ],
             [
              0.6666666666666666,
              "#ed7953"
             ],
             [
              0.7777777777777778,
              "#fb9f3a"
             ],
             [
              0.8888888888888888,
              "#fdca26"
             ],
             [
              1,
              "#f0f921"
             ]
            ],
            "type": "heatmapgl"
           }
          ],
          "histogram": [
           {
            "marker": {
             "pattern": {
              "fillmode": "overlay",
              "size": 10,
              "solidity": 0.2
             }
            },
            "type": "histogram"
           }
          ],
          "histogram2d": [
           {
            "colorbar": {
             "outlinewidth": 0,
             "ticks": ""
            },
            "colorscale": [
             [
              0,
              "#0d0887"
             ],
             [
              0.1111111111111111,
              "#46039f"
             ],
             [
              0.2222222222222222,
              "#7201a8"
             ],
             [
              0.3333333333333333,
              "#9c179e"
             ],
             [
              0.4444444444444444,
              "#bd3786"
             ],
             [
              0.5555555555555556,
              "#d8576b"
             ],
             [
              0.6666666666666666,
              "#ed7953"
             ],
             [
              0.7777777777777778,
              "#fb9f3a"
             ],
             [
              0.8888888888888888,
              "#fdca26"
             ],
             [
              1,
              "#f0f921"
             ]
            ],
            "type": "histogram2d"
           }
          ],
          "histogram2dcontour": [
           {
            "colorbar": {
             "outlinewidth": 0,
             "ticks": ""
            },
            "colorscale": [
             [
              0,
              "#0d0887"
             ],
             [
              0.1111111111111111,
              "#46039f"
             ],
             [
              0.2222222222222222,
              "#7201a8"
             ],
             [
              0.3333333333333333,
              "#9c179e"
             ],
             [
              0.4444444444444444,
              "#bd3786"
             ],
             [
              0.5555555555555556,
              "#d8576b"
             ],
             [
              0.6666666666666666,
              "#ed7953"
             ],
             [
              0.7777777777777778,
              "#fb9f3a"
             ],
             [
              0.8888888888888888,
              "#fdca26"
             ],
             [
              1,
              "#f0f921"
             ]
            ],
            "type": "histogram2dcontour"
           }
          ],
          "mesh3d": [
           {
            "colorbar": {
             "outlinewidth": 0,
             "ticks": ""
            },
            "type": "mesh3d"
           }
          ],
          "parcoords": [
           {
            "line": {
             "colorbar": {
              "outlinewidth": 0,
              "ticks": ""
             }
            },
            "type": "parcoords"
           }
          ],
          "pie": [
           {
            "automargin": true,
            "type": "pie"
           }
          ],
          "scatter": [
           {
            "fillpattern": {
             "fillmode": "overlay",
             "size": 10,
             "solidity": 0.2
            },
            "type": "scatter"
           }
          ],
          "scatter3d": [
           {
            "line": {
             "colorbar": {
              "outlinewidth": 0,
              "ticks": ""
             }
            },
            "marker": {
             "colorbar": {
              "outlinewidth": 0,
              "ticks": ""
             }
            },
            "type": "scatter3d"
           }
          ],
          "scattercarpet": [
           {
            "marker": {
             "colorbar": {
              "outlinewidth": 0,
              "ticks": ""
             }
            },
            "type": "scattercarpet"
           }
          ],
          "scattergeo": [
           {
            "marker": {
             "colorbar": {
              "outlinewidth": 0,
              "ticks": ""
             }
            },
            "type": "scattergeo"
           }
          ],
          "scattergl": [
           {
            "marker": {
             "colorbar": {
              "outlinewidth": 0,
              "ticks": ""
             }
            },
            "type": "scattergl"
           }
          ],
          "scattermapbox": [
           {
            "marker": {
             "colorbar": {
              "outlinewidth": 0,
              "ticks": ""
             }
            },
            "type": "scattermapbox"
           }
          ],
          "scatterpolar": [
           {
            "marker": {
             "colorbar": {
              "outlinewidth": 0,
              "ticks": ""
             }
            },
            "type": "scatterpolar"
           }
          ],
          "scatterpolargl": [
           {
            "marker": {
             "colorbar": {
              "outlinewidth": 0,
              "ticks": ""
             }
            },
            "type": "scatterpolargl"
           }
          ],
          "scatterternary": [
           {
            "marker": {
             "colorbar": {
              "outlinewidth": 0,
              "ticks": ""
             }
            },
            "type": "scatterternary"
           }
          ],
          "surface": [
           {
            "colorbar": {
             "outlinewidth": 0,
             "ticks": ""
            },
            "colorscale": [
             [
              0,
              "#0d0887"
             ],
             [
              0.1111111111111111,
              "#46039f"
             ],
             [
              0.2222222222222222,
              "#7201a8"
             ],
             [
              0.3333333333333333,
              "#9c179e"
             ],
             [
              0.4444444444444444,
              "#bd3786"
             ],
             [
              0.5555555555555556,
              "#d8576b"
             ],
             [
              0.6666666666666666,
              "#ed7953"
             ],
             [
              0.7777777777777778,
              "#fb9f3a"
             ],
             [
              0.8888888888888888,
              "#fdca26"
             ],
             [
              1,
              "#f0f921"
             ]
            ],
            "type": "surface"
           }
          ],
          "table": [
           {
            "cells": {
             "fill": {
              "color": "#EBF0F8"
             },
             "line": {
              "color": "white"
             }
            },
            "header": {
             "fill": {
              "color": "#C8D4E3"
             },
             "line": {
              "color": "white"
             }
            },
            "type": "table"
           }
          ]
         },
         "layout": {
          "annotationdefaults": {
           "arrowcolor": "#2a3f5f",
           "arrowhead": 0,
           "arrowwidth": 1
          },
          "autotypenumbers": "strict",
          "coloraxis": {
           "colorbar": {
            "outlinewidth": 0,
            "ticks": ""
           }
          },
          "colorscale": {
           "diverging": [
            [
             0,
             "#8e0152"
            ],
            [
             0.1,
             "#c51b7d"
            ],
            [
             0.2,
             "#de77ae"
            ],
            [
             0.3,
             "#f1b6da"
            ],
            [
             0.4,
             "#fde0ef"
            ],
            [
             0.5,
             "#f7f7f7"
            ],
            [
             0.6,
             "#e6f5d0"
            ],
            [
             0.7,
             "#b8e186"
            ],
            [
             0.8,
             "#7fbc41"
            ],
            [
             0.9,
             "#4d9221"
            ],
            [
             1,
             "#276419"
            ]
           ],
           "sequential": [
            [
             0,
             "#0d0887"
            ],
            [
             0.1111111111111111,
             "#46039f"
            ],
            [
             0.2222222222222222,
             "#7201a8"
            ],
            [
             0.3333333333333333,
             "#9c179e"
            ],
            [
             0.4444444444444444,
             "#bd3786"
            ],
            [
             0.5555555555555556,
             "#d8576b"
            ],
            [
             0.6666666666666666,
             "#ed7953"
            ],
            [
             0.7777777777777778,
             "#fb9f3a"
            ],
            [
             0.8888888888888888,
             "#fdca26"
            ],
            [
             1,
             "#f0f921"
            ]
           ],
           "sequentialminus": [
            [
             0,
             "#0d0887"
            ],
            [
             0.1111111111111111,
             "#46039f"
            ],
            [
             0.2222222222222222,
             "#7201a8"
            ],
            [
             0.3333333333333333,
             "#9c179e"
            ],
            [
             0.4444444444444444,
             "#bd3786"
            ],
            [
             0.5555555555555556,
             "#d8576b"
            ],
            [
             0.6666666666666666,
             "#ed7953"
            ],
            [
             0.7777777777777778,
             "#fb9f3a"
            ],
            [
             0.8888888888888888,
             "#fdca26"
            ],
            [
             1,
             "#f0f921"
            ]
           ]
          },
          "colorway": [
           "#636efa",
           "#EF553B",
           "#00cc96",
           "#ab63fa",
           "#FFA15A",
           "#19d3f3",
           "#FF6692",
           "#B6E880",
           "#FF97FF",
           "#FECB52"
          ],
          "font": {
           "color": "#2a3f5f"
          },
          "geo": {
           "bgcolor": "white",
           "lakecolor": "white",
           "landcolor": "#E5ECF6",
           "showlakes": true,
           "showland": true,
           "subunitcolor": "white"
          },
          "hoverlabel": {
           "align": "left"
          },
          "hovermode": "closest",
          "mapbox": {
           "style": "light"
          },
          "paper_bgcolor": "white",
          "plot_bgcolor": "#E5ECF6",
          "polar": {
           "angularaxis": {
            "gridcolor": "white",
            "linecolor": "white",
            "ticks": ""
           },
           "bgcolor": "#E5ECF6",
           "radialaxis": {
            "gridcolor": "white",
            "linecolor": "white",
            "ticks": ""
           }
          },
          "scene": {
           "xaxis": {
            "backgroundcolor": "#E5ECF6",
            "gridcolor": "white",
            "gridwidth": 2,
            "linecolor": "white",
            "showbackground": true,
            "ticks": "",
            "zerolinecolor": "white"
           },
           "yaxis": {
            "backgroundcolor": "#E5ECF6",
            "gridcolor": "white",
            "gridwidth": 2,
            "linecolor": "white",
            "showbackground": true,
            "ticks": "",
            "zerolinecolor": "white"
           },
           "zaxis": {
            "backgroundcolor": "#E5ECF6",
            "gridcolor": "white",
            "gridwidth": 2,
            "linecolor": "white",
            "showbackground": true,
            "ticks": "",
            "zerolinecolor": "white"
           }
          },
          "shapedefaults": {
           "line": {
            "color": "#2a3f5f"
           }
          },
          "ternary": {
           "aaxis": {
            "gridcolor": "white",
            "linecolor": "white",
            "ticks": ""
           },
           "baxis": {
            "gridcolor": "white",
            "linecolor": "white",
            "ticks": ""
           },
           "bgcolor": "#E5ECF6",
           "caxis": {
            "gridcolor": "white",
            "linecolor": "white",
            "ticks": ""
           }
          },
          "title": {
           "x": 0.05
          },
          "xaxis": {
           "automargin": true,
           "gridcolor": "white",
           "linecolor": "white",
           "ticks": "",
           "title": {
            "standoff": 15
           },
           "zerolinecolor": "white",
           "zerolinewidth": 2
          },
          "yaxis": {
           "automargin": true,
           "gridcolor": "white",
           "linecolor": "white",
           "ticks": "",
           "title": {
            "standoff": 15
           },
           "zerolinecolor": "white",
           "zerolinewidth": 2
          }
         }
        },
        "title": {
         "text": "TFIDF scores of songs per artist"
        },
        "xaxis": {
         "anchor": "y",
         "domain": [
          0,
          1
         ],
         "title": {
          "text": "Artist"
         }
        },
        "yaxis": {
         "anchor": "x",
         "domain": [
          0,
          1
         ],
         "title": {
          "text": "tf_idf_score"
         }
        }
       }
      },
      "text/html": [
       "<div>                            <div id=\"125e4706-20aa-431a-bdfd-6c426d186919\" class=\"plotly-graph-div\" style=\"height:525px; width:100%;\"></div>            <script type=\"text/javascript\">                require([\"plotly\"], function(Plotly) {                    window.PLOTLYENV=window.PLOTLYENV || {};                                    if (document.getElementById(\"125e4706-20aa-431a-bdfd-6c426d186919\")) {                    Plotly.newPlot(                        \"125e4706-20aa-431a-bdfd-6c426d186919\",                        [{\"alignmentgroup\":\"True\",\"hovertemplate\":\"Artist=%{x}<br>tf_idf_score=%{y}<extra></extra>\",\"legendgroup\":\"\",\"marker\":{\"color\":\"#636efa\"},\"name\":\"\",\"notched\":false,\"offsetgroup\":\"\",\"orientation\":\"v\",\"showlegend\":false,\"x\":[\"\\u0531\\u0550\\u0539\\u0548\\u0552\\u0550 \\u0544\\u0535\\u054d\\u0549\\u0545\\u0531\\u0546\",\"\\u0531\\u0550\\u0539\\u0548\\u0552\\u0550 \\u0544\\u0535\\u054d\\u0549\\u0545\\u0531\\u0546\",\"\\u0531\\u0550\\u0539\\u0548\\u0552\\u0550 \\u0544\\u0535\\u054d\\u0549\\u0545\\u0531\\u0546\",\"\\u0531\\u0550\\u0539\\u0548\\u0552\\u0550 \\u0544\\u0535\\u054d\\u0549\\u0545\\u0531\\u0546\",\"\\u0531\\u0550\\u0539\\u0548\\u0552\\u0550 \\u0544\\u0535\\u054d\\u0549\\u0545\\u0531\\u0546\",\"\\u0531\\u0550\\u0539\\u0548\\u0552\\u0550 \\u0544\\u0535\\u054d\\u0549\\u0545\\u0531\\u0546\",\"\\u0531\\u0550\\u0539\\u0548\\u0552\\u0550 \\u0544\\u0535\\u054d\\u0549\\u0545\\u0531\\u0546\",\"\\u0531\\u0550\\u0539\\u0548\\u0552\\u0550 \\u0544\\u0535\\u054d\\u0549\\u0545\\u0531\\u0546\",\"\\u0531\\u0550\\u0539\\u0548\\u0552\\u0550 \\u0544\\u0535\\u054d\\u0549\\u0545\\u0531\\u0546\",\"\\u0531\\u0550\\u0539\\u0548\\u0552\\u0550 \\u0544\\u0535\\u054d\\u0549\\u0545\\u0531\\u0546\",\"\\u0531\\u0550\\u0539\\u0548\\u0552\\u0550 \\u0544\\u0535\\u054d\\u0549\\u0545\\u0531\\u0546\",\"\\u0531\\u0550\\u0539\\u0548\\u0552\\u0550 \\u0544\\u0535\\u054d\\u0549\\u0545\\u0531\\u0546\",\"\\u0531\\u0550\\u0539\\u0548\\u0552\\u0550 \\u0544\\u0535\\u054d\\u0549\\u0545\\u0531\\u0546\",\"\\u0531\\u0550\\u0539\\u0548\\u0552\\u0550 \\u0544\\u0535\\u054d\\u0549\\u0545\\u0531\\u0546\",\"\\u0531\\u0550\\u0539\\u0548\\u0552\\u0550 \\u0544\\u0535\\u054d\\u0549\\u0545\\u0531\\u0546\",\"\\u0531\\u0550\\u0539\\u0548\\u0552\\u0550 \\u0544\\u0535\\u054d\\u0549\\u0545\\u0531\\u0546\",\"\\u0531\\u0550\\u0539\\u0548\\u0552\\u0550 \\u0544\\u0535\\u054d\\u0549\\u0545\\u0531\\u0546\",\"\\u0531\\u0550\\u0539\\u0548\\u0552\\u0550 \\u0544\\u0535\\u054d\\u0549\\u0545\\u0531\\u0546\",\"\\u0531\\u0550\\u0539\\u0548\\u0552\\u0550 \\u0544\\u0535\\u054d\\u0549\\u0545\\u0531\\u0546\",\"\\u0531\\u0550\\u0539\\u0548\\u0552\\u0550 \\u0544\\u0535\\u054d\\u0549\\u0545\\u0531\\u0546\",\"\\u0531\\u0550\\u0539\\u0548\\u0552\\u0550 \\u0544\\u0535\\u054d\\u0549\\u0545\\u0531\\u0546\",\"\\u0531\\u0550\\u0539\\u0548\\u0552\\u0550 \\u0544\\u0535\\u054d\\u0549\\u0545\\u0531\\u0546\",\"\\u0531\\u0550\\u0539\\u0548\\u0552\\u0550 \\u0544\\u0535\\u054d\\u0549\\u0545\\u0531\\u0546\",\"\\u0531\\u0550\\u0539\\u0548\\u0552\\u0550 \\u0544\\u0535\\u054d\\u0549\\u0545\\u0531\\u0546\",\"\\u0531\\u0550\\u0539\\u0548\\u0552\\u0550 \\u0544\\u0535\\u054d\\u0549\\u0545\\u0531\\u0546\",\"\\u0531\\u0550\\u0539\\u0548\\u0552\\u0550 \\u0544\\u0535\\u054d\\u0549\\u0545\\u0531\\u0546\",\"\\u0531\\u0550\\u0539\\u0548\\u0552\\u0550 \\u0544\\u0535\\u054d\\u0549\\u0545\\u0531\\u0546\",\"\\u0531\\u0550\\u0539\\u0548\\u0552\\u0550 \\u0544\\u0535\\u054d\\u0549\\u0545\\u0531\\u0546\",\"\\u0531\\u0550\\u0539\\u0548\\u0552\\u0550 \\u0544\\u0535\\u054d\\u0549\\u0545\\u0531\\u0546\",\"\\u0531\\u0550\\u0539\\u0548\\u0552\\u0550 \\u0544\\u0535\\u054d\\u0549\\u0545\\u0531\\u0546\",\"\\u0531\\u0550\\u0539\\u0548\\u0552\\u0550 \\u0544\\u0535\\u054d\\u0549\\u0545\\u0531\\u0546\",\"\\u0531\\u0550\\u0539\\u0548\\u0552\\u0550 \\u0544\\u0535\\u054d\\u0549\\u0545\\u0531\\u0546\",\"\\u0531\\u0550\\u0539\\u0548\\u0552\\u0550 \\u0544\\u0535\\u054d\\u0549\\u0545\\u0531\\u0546\",\"\\u0531\\u0550\\u0539\\u0548\\u0552\\u0550 \\u0544\\u0535\\u054d\\u0549\\u0545\\u0531\\u0546\",\"\\u0531\\u0550\\u0539\\u0548\\u0552\\u0550 \\u0544\\u0535\\u054d\\u0549\\u0545\\u0531\\u0546\",\"\\u0531\\u0550\\u0539\\u0548\\u0552\\u0550 \\u0544\\u0535\\u054d\\u0549\\u0545\\u0531\\u0546\",\"\\u0531\\u0550\\u0539\\u0548\\u0552\\u0550 \\u0544\\u0535\\u054d\\u0549\\u0545\\u0531\\u0546\",\"\\u0531\\u0550\\u0539\\u0548\\u0552\\u0550 \\u0544\\u0535\\u054d\\u0549\\u0545\\u0531\\u0546\",\"\\u0531\\u0550\\u0539\\u0548\\u0552\\u0550 \\u0544\\u0535\\u054d\\u0549\\u0545\\u0531\\u0546\",\"\\u0531\\u0550\\u0539\\u0548\\u0552\\u0550 \\u0544\\u0535\\u054d\\u0549\\u0545\\u0531\\u0546\",\"\\u0531\\u0550\\u0539\\u0548\\u0552\\u0550 \\u0544\\u0535\\u054d\\u0549\\u0545\\u0531\\u0546\",\"\\u0531\\u0550\\u0539\\u0548\\u0552\\u0550 \\u0544\\u0535\\u054d\\u0549\\u0545\\u0531\\u0546\",\"\\u0531\\u0550\\u0539\\u0548\\u0552\\u0550 \\u0544\\u0535\\u054d\\u0549\\u0545\\u0531\\u0546\",\"\\u0531\\u0550\\u0539\\u0548\\u0552\\u0550 \\u0544\\u0535\\u054d\\u0549\\u0545\\u0531\\u0546\",\"\\u0531\\u0550\\u0539\\u0548\\u0552\\u0550 \\u0544\\u0535\\u054d\\u0549\\u0545\\u0531\\u0546\",\"\\u0531\\u0550\\u0539\\u0548\\u0552\\u0550 \\u0544\\u0535\\u054d\\u0549\\u0545\\u0531\\u0546\",\"\\u0531\\u0550\\u0539\\u0548\\u0552\\u0550 \\u0544\\u0535\\u054d\\u0549\\u0545\\u0531\\u0546\",\"\\u0531\\u0550\\u0539\\u0548\\u0552\\u0550 \\u0544\\u0535\\u054d\\u0549\\u0545\\u0531\\u0546\",\"\\u0531\\u0550\\u0539\\u0548\\u0552\\u0550 \\u0544\\u0535\\u054d\\u0549\\u0545\\u0531\\u0546\",\"\\u0531\\u0550\\u0539\\u0548\\u0552\\u0550 \\u0544\\u0535\\u054d\\u0549\\u0545\\u0531\\u0546\",\"\\u054c\\u0548\\u0552\\u0532\\u0535\\u0546 \\u0540\\u0531\\u053d\\u054e\\u0535\\u0550\\u0534\\u0545\\u0531\\u0546\",\"\\u054c\\u0548\\u0552\\u0532\\u0535\\u0546 \\u0540\\u0531\\u053d\\u054e\\u0535\\u0550\\u0534\\u0545\\u0531\\u0546\",\"\\u054c\\u0548\\u0552\\u0532\\u0535\\u0546 \\u0540\\u0531\\u053d\\u054e\\u0535\\u0550\\u0534\\u0545\\u0531\\u0546\",\"\\u054c\\u0548\\u0552\\u0532\\u0535\\u0546 \\u0540\\u0531\\u053d\\u054e\\u0535\\u0550\\u0534\\u0545\\u0531\\u0546\",\"\\u054c\\u0548\\u0552\\u0532\\u0535\\u0546 \\u0540\\u0531\\u053d\\u054e\\u0535\\u0550\\u0534\\u0545\\u0531\\u0546\",\"\\u054c\\u0548\\u0552\\u0532\\u0535\\u0546 \\u0540\\u0531\\u053d\\u054e\\u0535\\u0550\\u0534\\u0545\\u0531\\u0546\",\"\\u054c\\u0548\\u0552\\u0532\\u0535\\u0546 \\u0540\\u0531\\u053d\\u054e\\u0535\\u0550\\u0534\\u0545\\u0531\\u0546\",\"\\u054c\\u0548\\u0552\\u0532\\u0535\\u0546 \\u0540\\u0531\\u053d\\u054e\\u0535\\u0550\\u0534\\u0545\\u0531\\u0546\",\"\\u054c\\u0548\\u0552\\u0532\\u0535\\u0546 \\u0540\\u0531\\u053d\\u054e\\u0535\\u0550\\u0534\\u0545\\u0531\\u0546\",\"\\u054c\\u0548\\u0552\\u0532\\u0535\\u0546 \\u0540\\u0531\\u053d\\u054e\\u0535\\u0550\\u0534\\u0545\\u0531\\u0546\",\"\\u054c\\u0548\\u0552\\u0532\\u0535\\u0546 \\u0540\\u0531\\u053d\\u054e\\u0535\\u0550\\u0534\\u0545\\u0531\\u0546\",\"\\u054c\\u0548\\u0552\\u0532\\u0535\\u0546 \\u0540\\u0531\\u053d\\u054e\\u0535\\u0550\\u0534\\u0545\\u0531\\u0546\",\"\\u054c\\u0548\\u0552\\u0532\\u0535\\u0546 \\u0540\\u0531\\u053d\\u054e\\u0535\\u0550\\u0534\\u0545\\u0531\\u0546\",\"\\u054c\\u0548\\u0552\\u0532\\u0535\\u0546 \\u0540\\u0531\\u053d\\u054e\\u0535\\u0550\\u0534\\u0545\\u0531\\u0546\",\"\\u054c\\u0548\\u0552\\u0532\\u0535\\u0546 \\u0540\\u0531\\u053d\\u054e\\u0535\\u0550\\u0534\\u0545\\u0531\\u0546\",\"\\u054c\\u0548\\u0552\\u0532\\u0535\\u0546 \\u0540\\u0531\\u053d\\u054e\\u0535\\u0550\\u0534\\u0545\\u0531\\u0546\",\"\\u054c\\u0548\\u0552\\u0532\\u0535\\u0546 \\u0540\\u0531\\u053d\\u054e\\u0535\\u0550\\u0534\\u0545\\u0531\\u0546\",\"\\u054c\\u0548\\u0552\\u0532\\u0535\\u0546 \\u0540\\u0531\\u053d\\u054e\\u0535\\u0550\\u0534\\u0545\\u0531\\u0546\",\"\\u054c\\u0548\\u0552\\u0532\\u0535\\u0546 \\u0540\\u0531\\u053d\\u054e\\u0535\\u0550\\u0534\\u0545\\u0531\\u0546\",\"\\u054c\\u0548\\u0552\\u0532\\u0535\\u0546 \\u0540\\u0531\\u053d\\u054e\\u0535\\u0550\\u0534\\u0545\\u0531\\u0546\",\"\\u054c\\u0548\\u0552\\u0532\\u0535\\u0546 \\u0540\\u0531\\u053d\\u054e\\u0535\\u0550\\u0534\\u0545\\u0531\\u0546\",\"\\u054c\\u0548\\u0552\\u0532\\u0535\\u0546 \\u0540\\u0531\\u053d\\u054e\\u0535\\u0550\\u0534\\u0545\\u0531\\u0546\",\"\\u054c\\u0548\\u0552\\u0532\\u0535\\u0546 \\u0540\\u0531\\u053d\\u054e\\u0535\\u0550\\u0534\\u0545\\u0531\\u0546\",\"\\u054c\\u0548\\u0552\\u0532\\u0535\\u0546 \\u0540\\u0531\\u053d\\u054e\\u0535\\u0550\\u0534\\u0545\\u0531\\u0546\",\"\\u054c\\u0548\\u0552\\u0532\\u0535\\u0546 \\u0540\\u0531\\u053d\\u054e\\u0535\\u0550\\u0534\\u0545\\u0531\\u0546\",\"\\u054c\\u0548\\u0552\\u0532\\u0535\\u0546 \\u0540\\u0531\\u053d\\u054e\\u0535\\u0550\\u0534\\u0545\\u0531\\u0546\",\"\\u054c\\u0548\\u0552\\u0532\\u0535\\u0546 \\u0540\\u0531\\u053d\\u054e\\u0535\\u0550\\u0534\\u0545\\u0531\\u0546\",\"\\u054c\\u0548\\u0552\\u0532\\u0535\\u0546 \\u0540\\u0531\\u053d\\u054e\\u0535\\u0550\\u0534\\u0545\\u0531\\u0546\",\"\\u054c\\u0548\\u0552\\u0532\\u0535\\u0546 \\u0540\\u0531\\u053d\\u054e\\u0535\\u0550\\u0534\\u0545\\u0531\\u0546\",\"\\u054c\\u0548\\u0552\\u0532\\u0535\\u0546 \\u0540\\u0531\\u053d\\u054e\\u0535\\u0550\\u0534\\u0545\\u0531\\u0546\",\"\\u054c\\u0548\\u0552\\u0532\\u0535\\u0546 \\u0540\\u0531\\u053d\\u054e\\u0535\\u0550\\u0534\\u0545\\u0531\\u0546\",\"\\u054c\\u0548\\u0552\\u0532\\u0535\\u0546 \\u0540\\u0531\\u053d\\u054e\\u0535\\u0550\\u0534\\u0545\\u0531\\u0546\",\"\\u054c\\u0548\\u0552\\u0532\\u0535\\u0546 \\u0540\\u0531\\u053d\\u054e\\u0535\\u0550\\u0534\\u0545\\u0531\\u0546\",\"\\u054c\\u0548\\u0552\\u0532\\u0535\\u0546 \\u0540\\u0531\\u053d\\u054e\\u0535\\u0550\\u0534\\u0545\\u0531\\u0546\",\"\\u054c\\u0548\\u0552\\u0532\\u0535\\u0546 \\u0540\\u0531\\u053d\\u054e\\u0535\\u0550\\u0534\\u0545\\u0531\\u0546\",\"\\u054c\\u0548\\u0552\\u0532\\u0535\\u0546 \\u0540\\u0531\\u053d\\u054e\\u0535\\u0550\\u0534\\u0545\\u0531\\u0546\",\"\\u054c\\u0548\\u0552\\u0532\\u0535\\u0546 \\u0540\\u0531\\u053d\\u054e\\u0535\\u0550\\u0534\\u0545\\u0531\\u0546\",\"\\u054c\\u0548\\u0552\\u0532\\u0535\\u0546 \\u0540\\u0531\\u053d\\u054e\\u0535\\u0550\\u0534\\u0545\\u0531\\u0546\",\"\\u054c\\u0548\\u0552\\u0532\\u0535\\u0546 \\u0540\\u0531\\u053d\\u054e\\u0535\\u0550\\u0534\\u0545\\u0531\\u0546\",\"\\u054c\\u0548\\u0552\\u0532\\u0535\\u0546 \\u0540\\u0531\\u053d\\u054e\\u0535\\u0550\\u0534\\u0545\\u0531\\u0546\",\"\\u054c\\u0548\\u0552\\u0532\\u0535\\u0546 \\u0540\\u0531\\u053d\\u054e\\u0535\\u0550\\u0534\\u0545\\u0531\\u0546\",\"\\u054c\\u0548\\u0552\\u0532\\u0535\\u0546 \\u0540\\u0531\\u053d\\u054e\\u0535\\u0550\\u0534\\u0545\\u0531\\u0546\",\"\\u054c\\u0548\\u0552\\u0532\\u0535\\u0546 \\u0540\\u0531\\u053d\\u054e\\u0535\\u0550\\u0534\\u0545\\u0531\\u0546\",\"\\u054c\\u0548\\u0552\\u0532\\u0535\\u0546 \\u0540\\u0531\\u053d\\u054e\\u0535\\u0550\\u0534\\u0545\\u0531\\u0546\",\"\\u054c\\u0548\\u0552\\u0532\\u0535\\u0546 \\u0540\\u0531\\u053d\\u054e\\u0535\\u0550\\u0534\\u0545\\u0531\\u0546\",\"\\u054c\\u0548\\u0552\\u0532\\u0535\\u0546 \\u0540\\u0531\\u053d\\u054e\\u0535\\u0550\\u0534\\u0545\\u0531\\u0546\",\"\\u054c\\u0548\\u0552\\u0532\\u0535\\u0546 \\u0540\\u0531\\u053d\\u054e\\u0535\\u0550\\u0534\\u0545\\u0531\\u0546\",\"\\u054c\\u0548\\u0552\\u0532\\u0535\\u0546 \\u0540\\u0531\\u053d\\u054e\\u0535\\u0550\\u0534\\u0545\\u0531\\u0546\",\"\\u054c\\u0548\\u0552\\u0532\\u0535\\u0546 \\u0540\\u0531\\u053d\\u054e\\u0535\\u0550\\u0534\\u0545\\u0531\\u0546\",\"\\u054c\\u0548\\u0552\\u0532\\u0535\\u0546 \\u0540\\u0531\\u053d\\u054e\\u0535\\u0550\\u0534\\u0545\\u0531\\u0546\",\"\\u054c\\u0548\\u0552\\u0532\\u0535\\u0546 \\u0540\\u0531\\u053d\\u054e\\u0535\\u0550\\u0534\\u0545\\u0531\\u0546\",\"\\u054d\\u0531\\u0545\\u0531\\u0539-\\u0546\\u0548\\u054e\\u0531\",\"\\u054d\\u0531\\u0545\\u0531\\u0539-\\u0546\\u0548\\u054e\\u0531\",\"\\u054d\\u0531\\u0545\\u0531\\u0539-\\u0546\\u0548\\u054e\\u0531\",\"\\u054d\\u0531\\u0545\\u0531\\u0539-\\u0546\\u0548\\u054e\\u0531\",\"\\u054d\\u0531\\u0545\\u0531\\u0539-\\u0546\\u0548\\u054e\\u0531\",\"\\u054d\\u0531\\u0545\\u0531\\u0539-\\u0546\\u0548\\u054e\\u0531\",\"\\u054d\\u0531\\u0545\\u0531\\u0539-\\u0546\\u0548\\u054e\\u0531\",\"\\u054d\\u0531\\u0545\\u0531\\u0539-\\u0546\\u0548\\u054e\\u0531\",\"\\u054d\\u0531\\u0545\\u0531\\u0539-\\u0546\\u0548\\u054e\\u0531\",\"\\u054d\\u0531\\u0545\\u0531\\u0539-\\u0546\\u0548\\u054e\\u0531\",\"\\u054d\\u0531\\u0545\\u0531\\u0539-\\u0546\\u0548\\u054e\\u0531\",\"\\u054d\\u0531\\u0545\\u0531\\u0539-\\u0546\\u0548\\u054e\\u0531\",\"\\u054d\\u0531\\u0545\\u0531\\u0539-\\u0546\\u0548\\u054e\\u0531\",\"\\u054d\\u0531\\u0545\\u0531\\u0539-\\u0546\\u0548\\u054e\\u0531\",\"\\u054d\\u0531\\u0545\\u0531\\u0539-\\u0546\\u0548\\u054e\\u0531\",\"\\u054d\\u0531\\u0545\\u0531\\u0539-\\u0546\\u0548\\u054e\\u0531\",\"\\u053f\\u0548\\u0544\\u053b\\u054f\\u0531\\u054d\",\"\\u053f\\u0548\\u0544\\u053b\\u054f\\u0531\\u054d\",\"\\u053f\\u0548\\u0544\\u053b\\u054f\\u0531\\u054d\",\"\\u053f\\u0548\\u0544\\u053b\\u054f\\u0531\\u054d\",\"\\u053f\\u0548\\u0544\\u053b\\u054f\\u0531\\u054d\",\"\\u053f\\u0548\\u0544\\u053b\\u054f\\u0531\\u054d\",\"\\u053f\\u0548\\u0544\\u053b\\u054f\\u0531\\u054d\",\"\\u053f\\u0548\\u0544\\u053b\\u054f\\u0531\\u054d\",\"\\u053f\\u0548\\u0544\\u053b\\u054f\\u0531\\u054d\",\"\\u053f\\u0548\\u0544\\u053b\\u054f\\u0531\\u054d\",\"\\u053f\\u0548\\u0544\\u053b\\u054f\\u0531\\u054d\",\"\\u053f\\u0548\\u0544\\u053b\\u054f\\u0531\\u054d\",\"\\u053f\\u0548\\u0544\\u053b\\u054f\\u0531\\u054d\",\"\\u053f\\u0548\\u0544\\u053b\\u054f\\u0531\\u054d\",\"\\u053f\\u0548\\u0544\\u053b\\u054f\\u0531\\u054d\",\"\\u053f\\u0548\\u0544\\u053b\\u054f\\u0531\\u054d\",\"\\u053f\\u0548\\u0544\\u053b\\u054f\\u0531\\u054d\",\"\\u053f\\u0548\\u0544\\u053b\\u054f\\u0531\\u054d\",\"\\u053f\\u0548\\u0544\\u053b\\u054f\\u0531\\u054d\",\"\\u053f\\u0548\\u0544\\u053b\\u054f\\u0531\\u054d\",\"\\u053f\\u0548\\u0544\\u053b\\u054f\\u0531\\u054d\",\"\\u053f\\u0548\\u0544\\u053b\\u054f\\u0531\\u054d\",\"\\u053f\\u0548\\u0544\\u053b\\u054f\\u0531\\u054d\",\"\\u053f\\u0548\\u0544\\u053b\\u054f\\u0531\\u054d\",\"\\u053f\\u0548\\u0544\\u053b\\u054f\\u0531\\u054d\",\"\\u053f\\u0548\\u0544\\u053b\\u054f\\u0531\\u054d\",\"\\u053f\\u0548\\u0544\\u053b\\u054f\\u0531\\u054d\",\"\\u053f\\u0548\\u0544\\u053b\\u054f\\u0531\\u054d\",\"\\u053f\\u0548\\u0544\\u053b\\u054f\\u0531\\u054d\",\"\\u053f\\u0548\\u0544\\u053b\\u054f\\u0531\\u054d\",\"\\u053f\\u0548\\u0544\\u053b\\u054f\\u0531\\u054d\",\"\\u053f\\u0548\\u0544\\u053b\\u054f\\u0531\\u054d\",\"\\u053f\\u0548\\u0544\\u053b\\u054f\\u0531\\u054d\",\"\\u053f\\u0548\\u0544\\u053b\\u054f\\u0531\\u054d\",\"\\u053f\\u0548\\u0544\\u053b\\u054f\\u0531\\u054d\",\"\\u053f\\u0548\\u0544\\u053b\\u054f\\u0531\\u054d\",\"\\u053f\\u0548\\u0544\\u053b\\u054f\\u0531\\u054d\",\"\\u053f\\u0548\\u0544\\u053b\\u054f\\u0531\\u054d\",\"\\u053f\\u0548\\u0544\\u053b\\u054f\\u0531\\u054d\",\"\\u053f\\u0548\\u0544\\u053b\\u054f\\u0531\\u054d\",\"\\u053f\\u0548\\u0544\\u053b\\u054f\\u0531\\u054d\",\"\\u053f\\u0548\\u0544\\u053b\\u054f\\u0531\\u054d\",\"HT Hayko\",\"HT Hayko\",\"HT Hayko\",\"HT Hayko\",\"HT Hayko\",\"HT Hayko\",\"HT Hayko\",\"HT Hayko\",\"HT Hayko\",\"HT Hayko\",\"HT Hayko\",\"HT Hayko\",\"HT Hayko\",\"HT Hayko\",\"HT Hayko\",\"HT Hayko\",\"Empyray\",\"Empyray\",\"Empyray\",\"Empyray\",\"Empyray\",\"Empyray\",\"Empyray\",\"Empyray\",\"Empyray\",\"Empyray\",\" Lav Eli\",\" Lav Eli\",\" Lav Eli\",\" Lav Eli\",\" Lav Eli\",\" Lav Eli\",\" Lav Eli\",\" Lav Eli\",\" Lav Eli\",\"Silva Hakobyan\",\"Silva Hakobyan\",\"Silva Hakobyan\",\"Silva Hakobyan\",\"Silva Hakobyan\",\"Silva Hakobyan\",\"Silva Hakobyan\",\"Silva Hakobyan\",\"Silva Hakobyan\",\"Silva Hakobyan\",\"Silva Hakobyan\",\"Silva Hakobyan\",\"Silva Hakobyan\",\"Silva Hakobyan\",\"Silva Hakobyan\",\"Silva Hakobyan\",\"Silva Hakobyan\",\"Silva Hakobyan\",\"Silva Hakobyan\",\"Silva Hakobyan\",\"\\u0531\\u0576\\u0564\\u0580\\u0565\",\"\\u0531\\u0576\\u0564\\u0580\\u0565\",\"\\u0531\\u0576\\u0564\\u0580\\u0565\",\"\\u0531\\u0576\\u0564\\u0580\\u0565\",\"\\u0531\\u0576\\u0564\\u0580\\u0565\",\"\\u0531\\u0576\\u0564\\u0580\\u0565\",\"\\u0531\\u0576\\u0564\\u0580\\u0565\",\"\\u0531\\u0576\\u0564\\u0580\\u0565\",\"\\u0531\\u0576\\u0564\\u0580\\u0565\",\"\\u0531\\u0576\\u0564\\u0580\\u0565\",\"\\u0531\\u0576\\u0564\\u0580\\u0565\",\"\\u0531\\u0576\\u0564\\u0580\\u0565\",\"\\u053c\\u056b\\u056c\\u056b\\u0569 \\u0540\\u0578\\u057e\\u0570\\u0561\\u0576\\u0576\\u056b\\u057d\\u0575\\u0561\\u0576\",\"\\u053c\\u056b\\u056c\\u056b\\u0569 \\u0540\\u0578\\u057e\\u0570\\u0561\\u0576\\u0576\\u056b\\u057d\\u0575\\u0561\\u0576\",\"\\u053c\\u056b\\u056c\\u056b\\u0569 \\u0540\\u0578\\u057e\\u0570\\u0561\\u0576\\u0576\\u056b\\u057d\\u0575\\u0561\\u0576\",\"\\u053c\\u056b\\u056c\\u056b\\u0569 \\u0540\\u0578\\u057e\\u0570\\u0561\\u0576\\u0576\\u056b\\u057d\\u0575\\u0561\\u0576\",\"\\u053c\\u056b\\u056c\\u056b\\u0569 \\u0540\\u0578\\u057e\\u0570\\u0561\\u0576\\u0576\\u056b\\u057d\\u0575\\u0561\\u0576\",\"\\u053c\\u056b\\u056c\\u056b\\u0569 \\u0540\\u0578\\u057e\\u0570\\u0561\\u0576\\u0576\\u056b\\u057d\\u0575\\u0561\\u0576\",\"\\u053c\\u056b\\u056c\\u056b\\u0569 \\u0540\\u0578\\u057e\\u0570\\u0561\\u0576\\u0576\\u056b\\u057d\\u0575\\u0561\\u0576\",\"\\u053c\\u056b\\u056c\\u056b\\u0569 \\u0540\\u0578\\u057e\\u0570\\u0561\\u0576\\u0576\\u056b\\u057d\\u0575\\u0561\\u0576\",\"\\u053c\\u056b\\u056c\\u056b\\u0569 \\u0540\\u0578\\u057e\\u0570\\u0561\\u0576\\u0576\\u056b\\u057d\\u0575\\u0561\\u0576\",\"\\u053c\\u056b\\u056c\\u056b\\u0569 \\u0540\\u0578\\u057e\\u0570\\u0561\\u0576\\u0576\\u056b\\u057d\\u0575\\u0561\\u0576\",\"\\u053c\\u056b\\u056c\\u056b\\u0569 \\u0540\\u0578\\u057e\\u0570\\u0561\\u0576\\u0576\\u056b\\u057d\\u0575\\u0561\\u0576\",\"\\u053c\\u056b\\u056c\\u056b\\u0569 \\u0540\\u0578\\u057e\\u0570\\u0561\\u0576\\u0576\\u056b\\u057d\\u0575\\u0561\\u0576\",\"\\u053c\\u056b\\u056c\\u056b\\u0569 \\u0540\\u0578\\u057e\\u0570\\u0561\\u0576\\u0576\\u056b\\u057d\\u0575\\u0561\\u0576\",\"\\u053c\\u056b\\u056c\\u056b\\u0569 \\u0540\\u0578\\u057e\\u0570\\u0561\\u0576\\u0576\\u056b\\u057d\\u0575\\u0561\\u0576\",\"\\u053c\\u056b\\u056c\\u056b\\u0569 \\u0540\\u0578\\u057e\\u0570\\u0561\\u0576\\u0576\\u056b\\u057d\\u0575\\u0561\\u0576\",\"\\u053c\\u056b\\u056c\\u056b\\u0569 \\u0540\\u0578\\u057e\\u0570\\u0561\\u0576\\u0576\\u056b\\u057d\\u0575\\u0561\\u0576\",\"\\u053c\\u056b\\u056c\\u056b\\u0569 \\u0540\\u0578\\u057e\\u0570\\u0561\\u0576\\u0576\\u056b\\u057d\\u0575\\u0561\\u0576\",\"\\u053c\\u056b\\u056c\\u056b\\u0569 \\u0540\\u0578\\u057e\\u0570\\u0561\\u0576\\u0576\\u056b\\u057d\\u0575\\u0561\\u0576\",\"\\u053c\\u056b\\u056c\\u056b\\u0569 \\u0540\\u0578\\u057e\\u0570\\u0561\\u0576\\u0576\\u056b\\u057d\\u0575\\u0561\\u0576\",\"\\u053c\\u056b\\u056c\\u056b\\u0569 \\u0540\\u0578\\u057e\\u0570\\u0561\\u0576\\u0576\\u056b\\u057d\\u0575\\u0561\\u0576\",\"\\u053c\\u056b\\u056c\\u056b\\u0569 \\u0540\\u0578\\u057e\\u0570\\u0561\\u0576\\u0576\\u056b\\u057d\\u0575\\u0561\\u0576\",\"\\u053c\\u056b\\u056c\\u056b\\u0569 \\u0540\\u0578\\u057e\\u0570\\u0561\\u0576\\u0576\\u056b\\u057d\\u0575\\u0561\\u0576\",\"\\u053c\\u056b\\u056c\\u056b\\u0569 \\u0540\\u0578\\u057e\\u0570\\u0561\\u0576\\u0576\\u056b\\u057d\\u0575\\u0561\\u0576\",\"\\u053c\\u056b\\u056c\\u056b\\u0569 \\u0540\\u0578\\u057e\\u0570\\u0561\\u0576\\u0576\\u056b\\u057d\\u0575\\u0561\\u0576\",\"\\u054d\\u056b\\u0580\\u0578\\u0582\\u0577\\u0578\",\"\\u054d\\u056b\\u0580\\u0578\\u0582\\u0577\\u0578\",\"\\u054d\\u056b\\u0580\\u0578\\u0582\\u0577\\u0578\",\"\\u054d\\u056b\\u0580\\u0578\\u0582\\u0577\\u0578\",\"\\u054d\\u056b\\u0580\\u0578\\u0582\\u0577\\u0578\",\"\\u054d\\u056b\\u0580\\u0578\\u0582\\u0577\\u0578\",\"\\u054d\\u056b\\u0580\\u0578\\u0582\\u0577\\u0578\",\"\\u054d\\u056b\\u0580\\u0578\\u0582\\u0577\\u0578\",\"\\u054d\\u056b\\u0580\\u0578\\u0582\\u0577\\u0578\",\"\\u054d\\u056b\\u0580\\u0578\\u0582\\u0577\\u0578\",\"\\u054d\\u056b\\u0580\\u0578\\u0582\\u0577\\u0578\",\"\\u054d\\u056b\\u0580\\u0578\\u0582\\u0577\\u0578\",\"\\u054d\\u056b\\u0580\\u0578\\u0582\\u0577\\u0578\",\"\\u054d\\u056b\\u0580\\u0578\\u0582\\u0577\\u0578\",\"\\u054d\\u056b\\u0580\\u0578\\u0582\\u0577\\u0578\",\"\\u054d\\u056b\\u0580\\u0578\\u0582\\u0577\\u0578\",\"\\u054d\\u056b\\u0580\\u0578\\u0582\\u0577\\u0578\",\"\\u054d\\u056b\\u0580\\u0578\\u0582\\u0577\\u0578\",\"\\u054d\\u056b\\u0580\\u0578\\u0582\\u0577\\u0578\",\"\\u054d\\u056b\\u0580\\u0578\\u0582\\u0577\\u0578\",\"\\u054d\\u056b\\u0580\\u0578\\u0582\\u0577\\u0578\",\"\\u054d\\u056b\\u0580\\u0578\\u0582\\u0577\\u0578\",\"\\u054d\\u056b\\u0580\\u0578\\u0582\\u0577\\u0578\",\"\\u054d\\u056b\\u0580\\u0578\\u0582\\u0577\\u0578\",\"\\u054d\\u056b\\u0580\\u0578\\u0582\\u0577\\u0578\",\"\\u0544\\u056b\\u0570\\u0580\\u0561\\u0576 \\u053e\\u0561\\u057c\\u0578\\u0582\\u056f\\u0575\\u0561\\u0576\",\"\\u0544\\u056b\\u0570\\u0580\\u0561\\u0576 \\u053e\\u0561\\u057c\\u0578\\u0582\\u056f\\u0575\\u0561\\u0576\",\"\\u0544\\u056b\\u0570\\u0580\\u0561\\u0576 \\u053e\\u0561\\u057c\\u0578\\u0582\\u056f\\u0575\\u0561\\u0576\",\"\\u0544\\u056b\\u0570\\u0580\\u0561\\u0576 \\u053e\\u0561\\u057c\\u0578\\u0582\\u056f\\u0575\\u0561\\u0576\",\"\\u0544\\u056b\\u0570\\u0580\\u0561\\u0576 \\u053e\\u0561\\u057c\\u0578\\u0582\\u056f\\u0575\\u0561\\u0576\",\"\\u0544\\u056b\\u0570\\u0580\\u0561\\u0576 \\u053e\\u0561\\u057c\\u0578\\u0582\\u056f\\u0575\\u0561\\u0576\",\"\\u0544\\u056b\\u0570\\u0580\\u0561\\u0576 \\u053e\\u0561\\u057c\\u0578\\u0582\\u056f\\u0575\\u0561\\u0576\",\"\\u0544\\u056b\\u0570\\u0580\\u0561\\u0576 \\u053e\\u0561\\u057c\\u0578\\u0582\\u056f\\u0575\\u0561\\u0576\",\"\\u0544\\u056b\\u0570\\u0580\\u0561\\u0576 \\u053e\\u0561\\u057c\\u0578\\u0582\\u056f\\u0575\\u0561\\u0576\",\"\\u0544\\u056b\\u0570\\u0580\\u0561\\u0576 \\u053e\\u0561\\u057c\\u0578\\u0582\\u056f\\u0575\\u0561\\u0576\",\"\\u0544\\u056b\\u0570\\u0580\\u0561\\u0576 \\u053e\\u0561\\u057c\\u0578\\u0582\\u056f\\u0575\\u0561\\u0576\",\"\\u0544\\u056b\\u0570\\u0580\\u0561\\u0576 \\u053e\\u0561\\u057c\\u0578\\u0582\\u056f\\u0575\\u0561\\u0576\",\"\\u0544\\u056b\\u0570\\u0580\\u0561\\u0576 \\u053e\\u0561\\u057c\\u0578\\u0582\\u056f\\u0575\\u0561\\u0576\",\"\\u0544\\u056b\\u0570\\u0580\\u0561\\u0576 \\u053e\\u0561\\u057c\\u0578\\u0582\\u056f\\u0575\\u0561\\u0576\",\"\\u0544\\u056b\\u0570\\u0580\\u0561\\u0576 \\u053e\\u0561\\u057c\\u0578\\u0582\\u056f\\u0575\\u0561\\u0576\",\"\\u0544\\u056b\\u0570\\u0580\\u0561\\u0576 \\u053e\\u0561\\u057c\\u0578\\u0582\\u056f\\u0575\\u0561\\u0576\",\"\\u0544\\u056b\\u0570\\u0580\\u0561\\u0576 \\u053e\\u0561\\u057c\\u0578\\u0582\\u056f\\u0575\\u0561\\u0576\",\"\\u0544\\u056b\\u0570\\u0580\\u0561\\u0576 \\u053e\\u0561\\u057c\\u0578\\u0582\\u056f\\u0575\\u0561\\u0576\",\"Arame\",\"Arame\",\"Arame\",\"Arame\",\"Arame\",\"Arame\",\"Arame\",\"Arame\",\"Arame\",\"Razmik Amyan\",\"Razmik Amyan\",\"Razmik Amyan\",\"Razmik Amyan\",\"Razmik Amyan\",\"Razmik Amyan\",\"Razmik Amyan\",\"Razmik Amyan\",\"Razmik Amyan\",\"Razmik Amyan\",\"Razmik Amyan\",\"Razmik Amyan\",\"Razmik Amyan\",\"Razmik Amyan\",\"Razmik Amyan\",\"Razmik Amyan\",\"Razmik Amyan\",\"Razmik Amyan\",\"Harout Pamboukjian\",\"Harout Pamboukjian\",\"Harout Pamboukjian\",\"Harout Pamboukjian\",\"Harout Pamboukjian\",\"Harout Pamboukjian\",\"Harout Pamboukjian\",\"Harout Pamboukjian\",\"Harout Pamboukjian\",\"Harout Pamboukjian\",\"Harout Pamboukjian\",\"Harout Pamboukjian\",\"Harout Pamboukjian\",\"Harout Pamboukjian\",\"Harout Pamboukjian\",\"Harout Pamboukjian\",\"Harout Pamboukjian\",\"Harout Pamboukjian\",\"Harout Pamboukjian\",\"Harout Pamboukjian\",\"Harout Pamboukjian\",\"Harout Pamboukjian\",\"Harout Pamboukjian\",\"Harout Pamboukjian\",\"Harout Pamboukjian\",\"Harout Pamboukjian\",\"Harout Pamboukjian\",\"Harout Pamboukjian\",\"Harout Pamboukjian\",\"Harout Pamboukjian\",\"Harout Pamboukjian\",\"Harout Pamboukjian\",\"\\u0540\\u0561\\u0575\\u056f \\u0540\\u0561\\u056f\\u0578\\u0562\\u0575\\u0561\\u0576\",\"\\u0540\\u0561\\u0575\\u056f \\u0540\\u0561\\u056f\\u0578\\u0562\\u0575\\u0561\\u0576\",\"\\u0540\\u0561\\u0575\\u056f \\u0540\\u0561\\u056f\\u0578\\u0562\\u0575\\u0561\\u0576\",\"\\u0540\\u0561\\u0575\\u056f \\u0540\\u0561\\u056f\\u0578\\u0562\\u0575\\u0561\\u0576\",\"\\u0540\\u0561\\u0575\\u056f \\u0540\\u0561\\u056f\\u0578\\u0562\\u0575\\u0561\\u0576\",\"\\u0540\\u0561\\u0575\\u056f \\u0540\\u0561\\u056f\\u0578\\u0562\\u0575\\u0561\\u0576\",\"\\u0540\\u0561\\u0575\\u056f \\u0540\\u0561\\u056f\\u0578\\u0562\\u0575\\u0561\\u0576\",\"\\u0540\\u0561\\u0575\\u056f \\u0540\\u0561\\u056f\\u0578\\u0562\\u0575\\u0561\\u0576\",\"\\u0540\\u0561\\u0575\\u056f \\u0540\\u0561\\u056f\\u0578\\u0562\\u0575\\u0561\\u0576\",\"\\u0540\\u0561\\u0575\\u056f \\u0540\\u0561\\u056f\\u0578\\u0562\\u0575\\u0561\\u0576\",\"\\u0540\\u0561\\u0575\\u056f \\u0540\\u0561\\u056f\\u0578\\u0562\\u0575\\u0561\\u0576\",\"\\u0540\\u0561\\u0575\\u056f \\u0540\\u0561\\u056f\\u0578\\u0562\\u0575\\u0561\\u0576\",\"\\u0540\\u0561\\u0575\\u056f \\u0540\\u0561\\u056f\\u0578\\u0562\\u0575\\u0561\\u0576\",\"\\u0540\\u0561\\u0575\\u056f \\u0540\\u0561\\u056f\\u0578\\u0562\\u0575\\u0561\\u0576\",\"\\u0540\\u0561\\u0575\\u056f \\u0540\\u0561\\u056f\\u0578\\u0562\\u0575\\u0561\\u0576\",\"\\u0540\\u0561\\u0575\\u056f \\u0540\\u0561\\u056f\\u0578\\u0562\\u0575\\u0561\\u0576\",\"\\u0540\\u0561\\u0575\\u056f \\u0540\\u0561\\u056f\\u0578\\u0562\\u0575\\u0561\\u0576\",\"\\u0540\\u0561\\u0575\\u056f \\u0540\\u0561\\u056f\\u0578\\u0562\\u0575\\u0561\\u0576\",\"\\u0540\\u0561\\u0575\\u056f \\u0540\\u0561\\u056f\\u0578\\u0562\\u0575\\u0561\\u0576\",\"\\u0540\\u0561\\u0575\\u056f \\u0540\\u0561\\u056f\\u0578\\u0562\\u0575\\u0561\\u0576\",\"\\u0540\\u0561\\u0575\\u056f \\u0540\\u0561\\u056f\\u0578\\u0562\\u0575\\u0561\\u0576\",\"\\u0540\\u0561\\u0575\\u056f \\u0540\\u0561\\u056f\\u0578\\u0562\\u0575\\u0561\\u0576\",\"\\u0540\\u0561\\u0575\\u056f \\u0540\\u0561\\u056f\\u0578\\u0562\\u0575\\u0561\\u0576\",\"Aram MP3\",\"Aram MP3\",\"Arsen Safaryan\",\"Arsen Safaryan\",\"Arsen Safaryan\",\"Arsen Safaryan\",\"Arsen Safaryan\",\"Arsen Safaryan\",\"Arsen Safaryan\",\"Arsen Safaryan\",\"Arsen Safaryan\",\"Arsen Safaryan\",\"Arsen Safaryan\",\"Arsen Safaryan\",\"Arsen Safaryan\",\"Arsen Safaryan\",\"Arsen Safaryan\",\"Arsen Safaryan\",\"Arsen Safaryan\",\"Arsen Safaryan\",\"Arsen Safaryan\",\"Arsen Safaryan\",\"Arsen Safaryan\",\"Arsen Safaryan\",\"Arsen Safaryan\",\"Aram MP3\",\"Aram MP3\",\"Aram MP3\",\"Aram MP3\",\"Aram MP3\",\"Aram MP3\",\"Aram MP3\",\"Aram MP3\",\"Aram MP3\",\"Aram MP3\",\"Aram MP3\",\"Aram MP3\",\"Aram MP3\",\"Aram MP3\",\"Aram MP3\",\"Misho\",\"Misho\",\"Misho\",\"Misho\",\"Misho\",\"Misho\",\"Misho\",\"Misho\",\"Misho\",\"Misho\",\"Misho\",\"Misho\",\"Misho\",\"Misho\",\"Misho\",\"Misho\",\"Misho\",\"Misho\",\"Misho\",\"Misho\",\"Misho\",\"Misho\",\"Misho\",\"Misho\",\"Misho\",\"Misho\",\"Mi Qani Hogi\",\"Mi Qani Hogi\",\"Mi Qani Hogi\",\"Mi Qani Hogi\",\"Mi Qani Hogi\",\"Mi Qani Hogi\",\"Mi Qani Hogi\",\"Mi Qani Hogi\",\"Mi Qani Hogi\",\"Mi Qani Hogi\",\"Mi Qani Hogi\",\"Mi Qani Hogi\",\"Mi Qani Hogi\",\"Mi Qani Hogi\",\"Mi Qani Hogi\"],\"x0\":\" \",\"xaxis\":\"x\",\"y\":[6.881928268789849,6.928256098977258,5.222806520903264,7.544911457231681,5.694037868244571,4.7406317711958454,4.867596043723707,6.366882695577026,6.3190671058058,6.6656420324086385,5.369440576257228,5.8832964474253515,5.966993371934877,6.9521992724262835,5.0439960325534114,5.387288140032638,6.4010466599601195,6.475147713314953,7.68228138101583,7.438564398721793,8.019431916177751,7.048421001085163,9.71053315383547,8.631963108187069,6.331602320772204,6.445892755141828,6.95992708810074,8.2615046667112,6.245466152394136,8.823507384158072,6.187063295982006,7.118652190558231,5.706704076041421,7.714446255352771,4.162190832463507,5.870934724859645,8.586812793494492,4.859581192477859,2.6781134887842555,5.689525160868702,7.516783086331099,8.29502580189371,7.284357577219687,6.131625278182437,6.824562639354291,5.136618387989228,6.562922319786206,8.362551502061493,7.686543679737496,6.972603857371583,8.233726046345772,4.596750921682566,5.454337904947413,8.462344521241992,7.739144710146421,4.734558205293692,3.5905429917934266,7.569733780942481,5.692926935918663,7.553965464178472,4.930415658350611,6.113020831810296,6.11151889810866,4.172081912842016,5.966616082720142,5.074044031408281,7.264753295116118,4.466061278576461,6.506489542649967,6.1090905106737585,6.519126629328687,4.39801266532403,4.1719369626449385,5.7685366223387184,5.6339213041681075,5.080287276153982,5.945936670839255,4.5879847155347155,5.814645164810777,6.975752821812815,6.381343852582445,5.800889380044698,5.497758266616173,5.287008638614809,5.790363745226916,6.427270699062794,8.021594026216558,5.810687381409764,5.173732598807371,4.834433528699378,6.299593165783802,4.915777753253129,9.126573407897286,7.782749097484309,3.9209752524463024,5.595361035452436,5.810052269678743,3.834468967892297,4.481860106525268,5.647883326380489,5.412051854168807,7.137595942467518,9.270083614017675,8.151684653109964,8.3451909221557,9.023852440021322,6.847547304922145,8.60962607446418,7.641671561459061,7.107026536446777,7.3070725433110635,9.35991133732767,4.281646077551628,9.160165861047426,7.7050586804817005,8.585532158737553,4.8216696571962006,3.738742295779243,3.27737130204841,3.068862500596809,6.197595876535958,2.9426544159952526,2.284887261888542,6.165981256858357,3.4272130416084496,2.735766508888629,2.953816818179157,3.292737987699578,3.6937760654440077,3.4100575150577583,4.12016356857448,3.3634171049780353,4.702420975681466,5.216149665435939,4.394366806581551,3.4882365452698907,4.582242492902719,4.230307031981335,2.871460390377165,4.695147415703801,4.080832921121221,3.7610377762760177,3.5203707271192966,5.144202322918986,3.510592038715298,3.9233314010078018,5.3498496084483715,4.055640539300873,4.161211101096109,4.00654029171433,3.6831812124408323,3.0073603009055097,3.3462576469321847,4.369265580528975,4.966232753319111,5.097568292971826,5.379871525852115,3.02167350778221,6.8352243640052155,9.924022867607452,7.225879699988562,8.228440243222304,4.794313739503982,8.090278920816713,10.675484544883425,10.37497311483715,10.128186138510323,12.512059959987763,8.290282224883313,8.924108878246923,7.340227803384914,7.4095941246224335,7.822823611717081,4.028595529352633,4.554199475309605,4.93142641859197,6.660474612049546,4.451231464665112,4.817074314048856,4.708840389512548,5.6127642978524,6.14839984521538,4.903916297000986,4.139377457151726,4.302422550687922,3.7461536734174534,6.043735900476162,9.36964726242612,5.560090554799886,2.53233313658488,6.955450805092754,4.621666657005977,4.596380069941661,4.158988163388818,4.95610656489195,4.465339241916628,5.877671625004881,5.616396831162415,5.292693097553922,4.897925956352472,4.65552029326736,4.324312684813648,6.0499018510518985,6.394488996291438,5.25502326302737,6.124896807691532,5.61851466121491,5.616396831162415,5.25376196470039,5.019569795693874,3.5410391791539695,5.597186323283356,5.302795020726495,6.056082505995014,4.116586751280348,5.441116470290734,4.374614977652495,4.522526851934833,5.512473882138606,6.047435686235824,3.5400980419969468,4.056633053511785,4.759851974214458,4.446966442268887,6.660006282127995,6.106686693727024,5.929318152948895,5.56911863407437,4.6673023491252135,4.488027729516473,6.261022860313257,7.070225084428393,4.911976653743572,5.854061211643969,5.929535761103406,6.266359863131296,6.567645818482257,3.7977110933017695,2.50635374197657,7.249191211555855,5.15849863075168,6.496234350337319,4.274875499543641,4.006856614153019,3.7926090052756516,4.464071024116165,5.484931619430915,5.854323540308496,5.310804384387984,4.437978154125018,5.223158996936569,4.007095001928292,1.7184631854863348,3.7003880089038494,3.0078262184523026,5.431678901388688,6.415474218218943,6.99977281762293,4.726916577156507,1.5576635838661812,4.327180498121021,3.3931911035584967,4.949674222471122,5.383610467350074,4.336976166872623,3.3084138149505145,4.860731974204269,4.935746018480005,3.521728136325584,5.6626716179163585,5.552517865140046,6.7022194472880825,3.695744339544308,4.374714032689045,2.659843138523649,4.892229434790963,4.725441405067706,3.647621344757119,5.285263986208135,4.24758093062238,6.01264573209117,5.059902322533184,4.84760160068933,4.904265568185388,5.681826466077901,5.3625450906521035,3.725612139836919,4.761469251516157,6.1886061080894095,5.618503091034642,5.968360669394189,7.26239843666867,5.375531855070136,4.286823059159378,4.791599970137133,3.837640101834744,5.9645955441749985,4.821197470540971,6.260566228969311,4.694478550258766,5.761357058829169,2.2586325032418753,4.497538525090816,5.055846677538105,5.975541053907405,4.694056412218988,4.7244166788110284,6.6440997940370305,5.155734488650656,5.781202539529043,4.545206118813051,5.748474316430379,2.144719721556013,5.1589848712588084,4.459344786155636,5.673339648697666,5.498633187402342,4.489239785133957,4.856523816660067,5.271520824190988,5.009768017000505,6.328428421598693,4.761438982522343,3.994812142606778,2.8673146382878705,3.779515599264785,3.11118506389945,5.206916551397681,6.588854317847769,3.7047952871250005,6.055455587030997,2.7556957341867627,2.8051884116481167,5.631236767694578,4.181481632563981,6.8935233460950265,4.810765451505063,6.843173812484938,5.282997103080477,7.8918263499331,6.939898733523664,3.04782847886729,5.403232109983459,7.348153888340755,5.222155089596518,8.142715325950448,5.143400301229459,7.0336972824022705,6.0970912690028385,5.207535747801062,5.782554050822332,7.0745339481068115,2.4652967406817585,4.817920770377757,5.478153620853233,4.945083364199186,5.808350887721572,6.127762922110382,4.681517769831066,5.811976112769065,6.55350210480567,6.312584232926197,4.825130407123455,5.306827293522015,2.5952349401359984,6.437804421785495,3.7055073606485096,3.743882367485578,4.625390443635102,5.307168378513359,5.302096037729836,5.5238970569136265,5.544741452853904,4.833992410985595,6.204457692902311,6.430002888814507,4.335828604003301,6.7344232898744,6.094975737361871,7.132942505407932,5.407499512870375,7.2220178205836065,4.067320306575624,4.75637342519149,6.195288277695643,6.826027004688937,6.329647997777869,5.3880451013792445,6.819926838410651,7.29292804114011,6.510261027859055,3.941874785272672,4.769385827902955,4.233950070950265,6.4584992642486085,5.582256265462531,5.731949657217825,4.175899403015328,6.780697787961271,6.0656311469068,3.905931782641985,1.7994563336778788,5.015631233093064,3.4006562247673022,3.769440513482917,5.288037000482782,5.624362980650743,6.31089321027236,3.208817696627108,5.267880347897093,4.134111994025209,4.8205435883935355,3.8460450985329686,2.9933590959783203,5.541095890511568,5.28452465470229,6.67335122815318,6.611816539749978,9.774625303349213,10.669580157768692,6.673301201144158,1.7086011921693256,6.26825884060781,6.60200758009367,7.595416924353836,9.28483944555396,7.736724149489444,8.648817018985046,4.2381114636541355,9.222072827298899,2.798873900865847,8.63463016092487,8.34963056369018,7.013192114812089,7.510714994058814,5.4016447898209305,8.760576112479274,3.901899378408659,4.948059475311462,9.007312220599639,7.463441461739617,6.277737847297425,6.743875505913719,6.488490829325762,7.546229608921909,6.335704066267981,7.856762259931358,6.6828457089777045,6.6679039812755985,4.327326064402333,5.741416277015036,6.015288688116261,5.527542877845489,7.0931998493101,3.6146342990808313,5.785265157427599],\"y0\":\" \",\"yaxis\":\"y\",\"type\":\"box\"}],                        {\"template\":{\"data\":{\"histogram2dcontour\":[{\"type\":\"histogram2dcontour\",\"colorbar\":{\"outlinewidth\":0,\"ticks\":\"\"},\"colorscale\":[[0.0,\"#0d0887\"],[0.1111111111111111,\"#46039f\"],[0.2222222222222222,\"#7201a8\"],[0.3333333333333333,\"#9c179e\"],[0.4444444444444444,\"#bd3786\"],[0.5555555555555556,\"#d8576b\"],[0.6666666666666666,\"#ed7953\"],[0.7777777777777778,\"#fb9f3a\"],[0.8888888888888888,\"#fdca26\"],[1.0,\"#f0f921\"]]}],\"choropleth\":[{\"type\":\"choropleth\",\"colorbar\":{\"outlinewidth\":0,\"ticks\":\"\"}}],\"histogram2d\":[{\"type\":\"histogram2d\",\"colorbar\":{\"outlinewidth\":0,\"ticks\":\"\"},\"colorscale\":[[0.0,\"#0d0887\"],[0.1111111111111111,\"#46039f\"],[0.2222222222222222,\"#7201a8\"],[0.3333333333333333,\"#9c179e\"],[0.4444444444444444,\"#bd3786\"],[0.5555555555555556,\"#d8576b\"],[0.6666666666666666,\"#ed7953\"],[0.7777777777777778,\"#fb9f3a\"],[0.8888888888888888,\"#fdca26\"],[1.0,\"#f0f921\"]]}],\"heatmap\":[{\"type\":\"heatmap\",\"colorbar\":{\"outlinewidth\":0,\"ticks\":\"\"},\"colorscale\":[[0.0,\"#0d0887\"],[0.1111111111111111,\"#46039f\"],[0.2222222222222222,\"#7201a8\"],[0.3333333333333333,\"#9c179e\"],[0.4444444444444444,\"#bd3786\"],[0.5555555555555556,\"#d8576b\"],[0.6666666666666666,\"#ed7953\"],[0.7777777777777778,\"#fb9f3a\"],[0.8888888888888888,\"#fdca26\"],[1.0,\"#f0f921\"]]}],\"heatmapgl\":[{\"type\":\"heatmapgl\",\"colorbar\":{\"outlinewidth\":0,\"ticks\":\"\"},\"colorscale\":[[0.0,\"#0d0887\"],[0.1111111111111111,\"#46039f\"],[0.2222222222222222,\"#7201a8\"],[0.3333333333333333,\"#9c179e\"],[0.4444444444444444,\"#bd3786\"],[0.5555555555555556,\"#d8576b\"],[0.6666666666666666,\"#ed7953\"],[0.7777777777777778,\"#fb9f3a\"],[0.8888888888888888,\"#fdca26\"],[1.0,\"#f0f921\"]]}],\"contourcarpet\":[{\"type\":\"contourcarpet\",\"colorbar\":{\"outlinewidth\":0,\"ticks\":\"\"}}],\"contour\":[{\"type\":\"contour\",\"colorbar\":{\"outlinewidth\":0,\"ticks\":\"\"},\"colorscale\":[[0.0,\"#0d0887\"],[0.1111111111111111,\"#46039f\"],[0.2222222222222222,\"#7201a8\"],[0.3333333333333333,\"#9c179e\"],[0.4444444444444444,\"#bd3786\"],[0.5555555555555556,\"#d8576b\"],[0.6666666666666666,\"#ed7953\"],[0.7777777777777778,\"#fb9f3a\"],[0.8888888888888888,\"#fdca26\"],[1.0,\"#f0f921\"]]}],\"surface\":[{\"type\":\"surface\",\"colorbar\":{\"outlinewidth\":0,\"ticks\":\"\"},\"colorscale\":[[0.0,\"#0d0887\"],[0.1111111111111111,\"#46039f\"],[0.2222222222222222,\"#7201a8\"],[0.3333333333333333,\"#9c179e\"],[0.4444444444444444,\"#bd3786\"],[0.5555555555555556,\"#d8576b\"],[0.6666666666666666,\"#ed7953\"],[0.7777777777777778,\"#fb9f3a\"],[0.8888888888888888,\"#fdca26\"],[1.0,\"#f0f921\"]]}],\"mesh3d\":[{\"type\":\"mesh3d\",\"colorbar\":{\"outlinewidth\":0,\"ticks\":\"\"}}],\"scatter\":[{\"fillpattern\":{\"fillmode\":\"overlay\",\"size\":10,\"solidity\":0.2},\"type\":\"scatter\"}],\"parcoords\":[{\"type\":\"parcoords\",\"line\":{\"colorbar\":{\"outlinewidth\":0,\"ticks\":\"\"}}}],\"scatterpolargl\":[{\"type\":\"scatterpolargl\",\"marker\":{\"colorbar\":{\"outlinewidth\":0,\"ticks\":\"\"}}}],\"bar\":[{\"error_x\":{\"color\":\"#2a3f5f\"},\"error_y\":{\"color\":\"#2a3f5f\"},\"marker\":{\"line\":{\"color\":\"#E5ECF6\",\"width\":0.5},\"pattern\":{\"fillmode\":\"overlay\",\"size\":10,\"solidity\":0.2}},\"type\":\"bar\"}],\"scattergeo\":[{\"type\":\"scattergeo\",\"marker\":{\"colorbar\":{\"outlinewidth\":0,\"ticks\":\"\"}}}],\"scatterpolar\":[{\"type\":\"scatterpolar\",\"marker\":{\"colorbar\":{\"outlinewidth\":0,\"ticks\":\"\"}}}],\"histogram\":[{\"marker\":{\"pattern\":{\"fillmode\":\"overlay\",\"size\":10,\"solidity\":0.2}},\"type\":\"histogram\"}],\"scattergl\":[{\"type\":\"scattergl\",\"marker\":{\"colorbar\":{\"outlinewidth\":0,\"ticks\":\"\"}}}],\"scatter3d\":[{\"type\":\"scatter3d\",\"line\":{\"colorbar\":{\"outlinewidth\":0,\"ticks\":\"\"}},\"marker\":{\"colorbar\":{\"outlinewidth\":0,\"ticks\":\"\"}}}],\"scattermapbox\":[{\"type\":\"scattermapbox\",\"marker\":{\"colorbar\":{\"outlinewidth\":0,\"ticks\":\"\"}}}],\"scatterternary\":[{\"type\":\"scatterternary\",\"marker\":{\"colorbar\":{\"outlinewidth\":0,\"ticks\":\"\"}}}],\"scattercarpet\":[{\"type\":\"scattercarpet\",\"marker\":{\"colorbar\":{\"outlinewidth\":0,\"ticks\":\"\"}}}],\"carpet\":[{\"aaxis\":{\"endlinecolor\":\"#2a3f5f\",\"gridcolor\":\"white\",\"linecolor\":\"white\",\"minorgridcolor\":\"white\",\"startlinecolor\":\"#2a3f5f\"},\"baxis\":{\"endlinecolor\":\"#2a3f5f\",\"gridcolor\":\"white\",\"linecolor\":\"white\",\"minorgridcolor\":\"white\",\"startlinecolor\":\"#2a3f5f\"},\"type\":\"carpet\"}],\"table\":[{\"cells\":{\"fill\":{\"color\":\"#EBF0F8\"},\"line\":{\"color\":\"white\"}},\"header\":{\"fill\":{\"color\":\"#C8D4E3\"},\"line\":{\"color\":\"white\"}},\"type\":\"table\"}],\"barpolar\":[{\"marker\":{\"line\":{\"color\":\"#E5ECF6\",\"width\":0.5},\"pattern\":{\"fillmode\":\"overlay\",\"size\":10,\"solidity\":0.2}},\"type\":\"barpolar\"}],\"pie\":[{\"automargin\":true,\"type\":\"pie\"}]},\"layout\":{\"autotypenumbers\":\"strict\",\"colorway\":[\"#636efa\",\"#EF553B\",\"#00cc96\",\"#ab63fa\",\"#FFA15A\",\"#19d3f3\",\"#FF6692\",\"#B6E880\",\"#FF97FF\",\"#FECB52\"],\"font\":{\"color\":\"#2a3f5f\"},\"hovermode\":\"closest\",\"hoverlabel\":{\"align\":\"left\"},\"paper_bgcolor\":\"white\",\"plot_bgcolor\":\"#E5ECF6\",\"polar\":{\"bgcolor\":\"#E5ECF6\",\"angularaxis\":{\"gridcolor\":\"white\",\"linecolor\":\"white\",\"ticks\":\"\"},\"radialaxis\":{\"gridcolor\":\"white\",\"linecolor\":\"white\",\"ticks\":\"\"}},\"ternary\":{\"bgcolor\":\"#E5ECF6\",\"aaxis\":{\"gridcolor\":\"white\",\"linecolor\":\"white\",\"ticks\":\"\"},\"baxis\":{\"gridcolor\":\"white\",\"linecolor\":\"white\",\"ticks\":\"\"},\"caxis\":{\"gridcolor\":\"white\",\"linecolor\":\"white\",\"ticks\":\"\"}},\"coloraxis\":{\"colorbar\":{\"outlinewidth\":0,\"ticks\":\"\"}},\"colorscale\":{\"sequential\":[[0.0,\"#0d0887\"],[0.1111111111111111,\"#46039f\"],[0.2222222222222222,\"#7201a8\"],[0.3333333333333333,\"#9c179e\"],[0.4444444444444444,\"#bd3786\"],[0.5555555555555556,\"#d8576b\"],[0.6666666666666666,\"#ed7953\"],[0.7777777777777778,\"#fb9f3a\"],[0.8888888888888888,\"#fdca26\"],[1.0,\"#f0f921\"]],\"sequentialminus\":[[0.0,\"#0d0887\"],[0.1111111111111111,\"#46039f\"],[0.2222222222222222,\"#7201a8\"],[0.3333333333333333,\"#9c179e\"],[0.4444444444444444,\"#bd3786\"],[0.5555555555555556,\"#d8576b\"],[0.6666666666666666,\"#ed7953\"],[0.7777777777777778,\"#fb9f3a\"],[0.8888888888888888,\"#fdca26\"],[1.0,\"#f0f921\"]],\"diverging\":[[0,\"#8e0152\"],[0.1,\"#c51b7d\"],[0.2,\"#de77ae\"],[0.3,\"#f1b6da\"],[0.4,\"#fde0ef\"],[0.5,\"#f7f7f7\"],[0.6,\"#e6f5d0\"],[0.7,\"#b8e186\"],[0.8,\"#7fbc41\"],[0.9,\"#4d9221\"],[1,\"#276419\"]]},\"xaxis\":{\"gridcolor\":\"white\",\"linecolor\":\"white\",\"ticks\":\"\",\"title\":{\"standoff\":15},\"zerolinecolor\":\"white\",\"automargin\":true,\"zerolinewidth\":2},\"yaxis\":{\"gridcolor\":\"white\",\"linecolor\":\"white\",\"ticks\":\"\",\"title\":{\"standoff\":15},\"zerolinecolor\":\"white\",\"automargin\":true,\"zerolinewidth\":2},\"scene\":{\"xaxis\":{\"backgroundcolor\":\"#E5ECF6\",\"gridcolor\":\"white\",\"linecolor\":\"white\",\"showbackground\":true,\"ticks\":\"\",\"zerolinecolor\":\"white\",\"gridwidth\":2},\"yaxis\":{\"backgroundcolor\":\"#E5ECF6\",\"gridcolor\":\"white\",\"linecolor\":\"white\",\"showbackground\":true,\"ticks\":\"\",\"zerolinecolor\":\"white\",\"gridwidth\":2},\"zaxis\":{\"backgroundcolor\":\"#E5ECF6\",\"gridcolor\":\"white\",\"linecolor\":\"white\",\"showbackground\":true,\"ticks\":\"\",\"zerolinecolor\":\"white\",\"gridwidth\":2}},\"shapedefaults\":{\"line\":{\"color\":\"#2a3f5f\"}},\"annotationdefaults\":{\"arrowcolor\":\"#2a3f5f\",\"arrowhead\":0,\"arrowwidth\":1},\"geo\":{\"bgcolor\":\"white\",\"landcolor\":\"#E5ECF6\",\"subunitcolor\":\"white\",\"showland\":true,\"showlakes\":true,\"lakecolor\":\"white\"},\"title\":{\"x\":0.05},\"mapbox\":{\"style\":\"light\"}}},\"xaxis\":{\"anchor\":\"y\",\"domain\":[0.0,1.0],\"title\":{\"text\":\"Artist\"}},\"yaxis\":{\"anchor\":\"x\",\"domain\":[0.0,1.0],\"title\":{\"text\":\"tf_idf_score\"}},\"legend\":{\"tracegroupgap\":0},\"title\":{\"text\":\"TFIDF scores of songs per artist\"},\"boxmode\":\"group\"},                        {\"responsive\": true}                    ).then(function(){\n",
       "                            \n",
       "var gd = document.getElementById('125e4706-20aa-431a-bdfd-6c426d186919');\n",
       "var x = new MutationObserver(function (mutations, observer) {{\n",
       "        var display = window.getComputedStyle(gd).display;\n",
       "        if (!display || display === 'none') {{\n",
       "            console.log([gd, 'removed!']);\n",
       "            Plotly.purge(gd);\n",
       "            observer.disconnect();\n",
       "        }}\n",
       "}});\n",
       "\n",
       "// Listen for the removal of the full notebook cells\n",
       "var notebookContainer = gd.closest('#notebook-container');\n",
       "if (notebookContainer) {{\n",
       "    x.observe(notebookContainer, {childList: true});\n",
       "}}\n",
       "\n",
       "// Listen for the clearing of the current output cell\n",
       "var outputEl = gd.closest('.output');\n",
       "if (outputEl) {{\n",
       "    x.observe(outputEl, {childList: true});\n",
       "}}\n",
       "\n",
       "                        })                };                });            </script>        </div>"
      ]
     },
     "metadata": {},
     "output_type": "display_data"
    }
   ],
   "source": [
    "fig = px.box(df, x='Artist', y='tf_idf_score', title='TFIDF scores of songs per artist')\n",
    "fig.show()"
   ]
  },
  {
   "cell_type": "code",
   "execution_count": 88,
   "metadata": {},
   "outputs": [],
   "source": [
    "from sklearn.feature_extraction.text import TfidfVectorizer\n",
    "\n",
    "def calculate_tf_idf(df, column_name, artist_column):\n",
    "    vectorizer = TfidfVectorizer()\n",
    "    tfidf_matrix = vectorizer.fit_transform(df[column_name].apply(' '.join))\n",
    "    feature_names = vectorizer.get_feature_names_out()\n",
    "    scores = tfidf_matrix.toarray()\n",
    "    artists = df[artist_column]\n",
    "    data = {'Word': [], 'Artist': [], 'TF-IDF': []}\n",
    "    for i, word in enumerate(feature_names):\n",
    "        for j, artist in enumerate(artists):\n",
    "            data['Word'].append(word)\n",
    "            data['Artist'].append(artist)\n",
    "            data['TF-IDF'].append(scores[j][i])\n",
    "    return pd.DataFrame(data)\n",
    "tf_idf_data = calculate_tf_idf(df, 'stems_en', 'Artist')\n"
   ]
  },
  {
   "cell_type": "code",
   "execution_count": 89,
   "metadata": {},
   "outputs": [
    {
     "data": {
      "text/html": [
       "<div>\n",
       "<style scoped>\n",
       "    .dataframe tbody tr th:only-of-type {\n",
       "        vertical-align: middle;\n",
       "    }\n",
       "\n",
       "    .dataframe tbody tr th {\n",
       "        vertical-align: top;\n",
       "    }\n",
       "\n",
       "    .dataframe thead th {\n",
       "        text-align: right;\n",
       "    }\n",
       "</style>\n",
       "<table border=\"1\" class=\"dataframe\">\n",
       "  <thead>\n",
       "    <tr style=\"text-align: right;\">\n",
       "      <th></th>\n",
       "      <th>Word</th>\n",
       "      <th>Artist</th>\n",
       "      <th>TF-IDF</th>\n",
       "    </tr>\n",
       "  </thead>\n",
       "  <tbody>\n",
       "    <tr>\n",
       "      <th>0</th>\n",
       "      <td>aa</td>\n",
       "      <td>ԱՐԹՈՒՐ ՄԵՍՉՅԱՆ</td>\n",
       "      <td>0.0</td>\n",
       "    </tr>\n",
       "    <tr>\n",
       "      <th>1</th>\n",
       "      <td>aa</td>\n",
       "      <td>ԱՐԹՈՒՐ ՄԵՍՉՅԱՆ</td>\n",
       "      <td>0.0</td>\n",
       "    </tr>\n",
       "    <tr>\n",
       "      <th>2</th>\n",
       "      <td>aa</td>\n",
       "      <td>ԱՐԹՈՒՐ ՄԵՍՉՅԱՆ</td>\n",
       "      <td>0.0</td>\n",
       "    </tr>\n",
       "    <tr>\n",
       "      <th>3</th>\n",
       "      <td>aa</td>\n",
       "      <td>ԱՐԹՈՒՐ ՄԵՍՉՅԱՆ</td>\n",
       "      <td>0.0</td>\n",
       "    </tr>\n",
       "    <tr>\n",
       "      <th>4</th>\n",
       "      <td>aa</td>\n",
       "      <td>ԱՐԹՈՒՐ ՄԵՍՉՅԱՆ</td>\n",
       "      <td>0.0</td>\n",
       "    </tr>\n",
       "    <tr>\n",
       "      <th>...</th>\n",
       "      <td>...</td>\n",
       "      <td>...</td>\n",
       "      <td>...</td>\n",
       "    </tr>\n",
       "    <tr>\n",
       "      <th>2436859</th>\n",
       "      <td>zurna</td>\n",
       "      <td>Mi Qani Hogi</td>\n",
       "      <td>0.0</td>\n",
       "    </tr>\n",
       "    <tr>\n",
       "      <th>2436860</th>\n",
       "      <td>zurna</td>\n",
       "      <td>Mi Qani Hogi</td>\n",
       "      <td>0.0</td>\n",
       "    </tr>\n",
       "    <tr>\n",
       "      <th>2436861</th>\n",
       "      <td>zurna</td>\n",
       "      <td>Mi Qani Hogi</td>\n",
       "      <td>0.0</td>\n",
       "    </tr>\n",
       "    <tr>\n",
       "      <th>2436862</th>\n",
       "      <td>zurna</td>\n",
       "      <td>Mi Qani Hogi</td>\n",
       "      <td>0.0</td>\n",
       "    </tr>\n",
       "    <tr>\n",
       "      <th>2436863</th>\n",
       "      <td>zurna</td>\n",
       "      <td>Mi Qani Hogi</td>\n",
       "      <td>0.0</td>\n",
       "    </tr>\n",
       "  </tbody>\n",
       "</table>\n",
       "<p>2436864 rows × 3 columns</p>\n",
       "</div>"
      ],
      "text/plain": [
       "          Word          Artist  TF-IDF\n",
       "0           aa  ԱՐԹՈՒՐ ՄԵՍՉՅԱՆ     0.0\n",
       "1           aa  ԱՐԹՈՒՐ ՄԵՍՉՅԱՆ     0.0\n",
       "2           aa  ԱՐԹՈՒՐ ՄԵՍՉՅԱՆ     0.0\n",
       "3           aa  ԱՐԹՈՒՐ ՄԵՍՉՅԱՆ     0.0\n",
       "4           aa  ԱՐԹՈՒՐ ՄԵՍՉՅԱՆ     0.0\n",
       "...        ...             ...     ...\n",
       "2436859  zurna    Mi Qani Hogi     0.0\n",
       "2436860  zurna    Mi Qani Hogi     0.0\n",
       "2436861  zurna    Mi Qani Hogi     0.0\n",
       "2436862  zurna    Mi Qani Hogi     0.0\n",
       "2436863  zurna    Mi Qani Hogi     0.0\n",
       "\n",
       "[2436864 rows x 3 columns]"
      ]
     },
     "execution_count": 89,
     "metadata": {},
     "output_type": "execute_result"
    }
   ],
   "source": [
    "tf_idf_data"
   ]
  },
  {
   "cell_type": "code",
   "execution_count": 90,
   "metadata": {},
   "outputs": [
    {
     "data": {
      "text/plain": [
       "0      [end, end, paragraph, last, last, close, page,...\n",
       "1      [larg, scale, wonder, templ, prayer, golden, t...\n",
       "2      [like, prodig, son, becom, citi, seek, door, w...\n",
       "3      [heart, kariy, world, pain, much, suffer, god,...\n",
       "4      [known, peopl, would, world, sun, would, pour,...\n",
       "                             ...                        \n",
       "537    [sever, peopl, way, perhap, ask, one, day, ele...\n",
       "538    [seem, us, seem, one, watch, us, one, thought,...\n",
       "539    [sever, peopl, icf, find, wave, sea, scream, p...\n",
       "541    [one, like, one, one, one, one, holiday, home,...\n",
       "542    [refresh, lucki, enough, side, employ, well, a...\n",
       "Name: stems_en, Length: 456, dtype: object"
      ]
     },
     "execution_count": 90,
     "metadata": {},
     "output_type": "execute_result"
    }
   ],
   "source": [
    "df.stems_en"
   ]
  },
  {
   "cell_type": "code",
   "execution_count": 91,
   "metadata": {},
   "outputs": [],
   "source": [
    "# caclculate mean vector\n",
    "def get_mean_vector(vec_lst):\n",
    "    return csr_matrix(vstack(vec_lst).mean(axis=0))"
   ]
  },
  {
   "cell_type": "code",
   "execution_count": 92,
   "metadata": {},
   "outputs": [],
   "source": [
    "# calculate mean vector over all songs of same artist\n",
    "artist_df = df.groupby('Artist').agg({'tf_idf_vector': get_mean_vector, 'Song': len}).reset_index()\\\n",
    "                   .rename(columns={'Song': 'songs'})\n",
    "\n",
    "# get selected artists\n",
    "artist_filter_df = artist_df.loc[artist_df['Artist'].isin(df['Artist'])]"
   ]
  },
  {
   "cell_type": "code",
   "execution_count": 93,
   "metadata": {},
   "outputs": [
    {
     "data": {
      "application/vnd.plotly.v1+json": {
       "config": {
        "plotlyServerURL": "https://plot.ly"
       },
       "data": [
        {
         "colorscale": [
          [
           0,
           "rgb(23, 28, 66)"
          ],
          [
           0.09090909090909091,
           "rgb(41, 58, 143)"
          ],
          [
           0.18181818181818182,
           "rgb(11, 102, 189)"
          ],
          [
           0.2727272727272727,
           "rgb(69, 144, 185)"
          ],
          [
           0.36363636363636365,
           "rgb(142, 181, 194)"
          ],
          [
           0.45454545454545453,
           "rgb(210, 216, 219)"
          ],
          [
           0.5454545454545454,
           "rgb(230, 210, 204)"
          ],
          [
           0.6363636363636364,
           "rgb(213, 157, 137)"
          ],
          [
           0.7272727272727273,
           "rgb(196, 101, 72)"
          ],
          [
           0.8181818181818182,
           "rgb(172, 43, 36)"
          ],
          [
           0.9090909090909091,
           "rgb(120, 14, 40)"
          ],
          [
           1,
           "rgb(60, 9, 17)"
          ]
         ],
         "type": "heatmap",
         "x": [
          " Lav Eli",
          "Aram MP3",
          "Arame",
          "Arsen Safaryan",
          "Empyray",
          "HT Hayko",
          "Harout Pamboukjian",
          "Mi Qani Hogi",
          "Misho",
          "Razmik Amyan",
          "Silva Hakobyan",
          "ԱՐԹՈՒՐ ՄԵՍՉՅԱՆ",
          "Անդրե",
          "Լիլիթ Հովհաննիսյան",
          "ԿՈՄԻՏԱՍ",
          "Հայկ Հակոբյան",
          "Միհրան Ծառուկյան",
          "ՌՈՒԲԵՆ ՀԱԽՎԵՐԴՅԱՆ",
          "ՍԱՅԱԹ-ՆՈՎԱ",
          "Սիրուշո"
         ],
         "y": [
          "Սիրուշո",
          "ՍԱՅԱԹ-ՆՈՎԱ",
          "ՌՈՒԲԵՆ ՀԱԽՎԵՐԴՅԱՆ",
          "Միհրան Ծառուկյան",
          "Հայկ Հակոբյան",
          "ԿՈՄԻՏԱՍ",
          "Լիլիթ Հովհաննիսյան",
          "Անդրե",
          "ԱՐԹՈՒՐ ՄԵՍՉՅԱՆ",
          "Silva Hakobyan",
          "Razmik Amyan",
          "Misho",
          "Mi Qani Hogi",
          "Harout Pamboukjian",
          "HT Hayko",
          "Empyray",
          "Arsen Safaryan",
          "Arame",
          "Aram MP3",
          " Lav Eli"
         ],
         "z": [
          [
           0.2176764747055223,
           0.3534608778452501,
           0.3875555544735401,
           0.491137514814642,
           0.27079834940393493,
           0.35177279411353024,
           0.38126506298556445,
           0.30400309592804914,
           0.3055373615215472,
           0.4728398736891759,
           0.425550773738584,
           0.41528879587427486,
           0.41408302310106176,
           0.44256249400024883,
           0.2512321421694818,
           0.47848746869829734,
           0.497986439060724,
           0.4358560663800052,
           0.17126111461053137,
           0.9999999999999992
          ],
          [
           0.132881867339249,
           0.15830868997598216,
           0.17121930771055419,
           0.1856345865685108,
           0.10528335518019434,
           0.14970243876832393,
           0.18916943278444104,
           0.1399004691532488,
           0.15742922345361307,
           0.21803181408447578,
           0.1684861499037986,
           0.16226074093093093,
           0.15163501251102637,
           0.1722797398578669,
           0.2106106340037596,
           0.19764605372136784,
           0.19061443435599382,
           0.1656870970352292,
           1.0000000000000002,
           0.17126111461053137
          ],
          [
           0.32996734464121136,
           0.43333185929420553,
           0.3634708124971888,
           0.5443566797367106,
           0.3516923600213496,
           0.44830234988432,
           0.40186590636803077,
           0.4018277069242673,
           0.4130464008165809,
           0.4710256296650917,
           0.43303109014267915,
           0.5419737240323996,
           0.3880321184001729,
           0.47253865229992026,
           0.2326517468043966,
           0.4639941775201887,
           0.47376935843118057,
           1.0000000000000004,
           0.1656870970352292,
           0.4358560663800052
          ],
          [
           0.26973019649269303,
           0.43758341869397344,
           0.5228043163425797,
           0.632077087239045,
           0.297385448368602,
           0.37235500940940464,
           0.4160384746638439,
           0.3163509720216123,
           0.3232891904603603,
           0.643726707805373,
           0.5154493437650319,
           0.4001777504328898,
           0.5011511152728111,
           0.5579026435851636,
           0.22547776373763834,
           0.6499131420963057,
           0.9999999999999992,
           0.47376935843118057,
           0.19061443435599382,
           0.497986439060724
          ],
          [
           0.24680474233523325,
           0.4565822086662757,
           0.5512042636172599,
           0.6951894278719214,
           0.3472115752980589,
           0.37952769200493214,
           0.4329464430002093,
           0.3063332802482825,
           0.32700917318316985,
           0.736344964811111,
           0.5531289743809397,
           0.43630289364375363,
           0.5277570950001892,
           0.5849755447014742,
           0.21187214057145468,
           1.000000000000001,
           0.6499131420963057,
           0.4639941775201887,
           0.19764605372136784,
           0.47848746869829734
          ],
          [
           0.13900520563757343,
           0.26153336071121985,
           0.33348597177937533,
           0.20984752667434314,
           0.1101396581173096,
           0.16928696826146716,
           0.34814977771482164,
           0.18325124570087595,
           0.18268753314858543,
           0.22743617300779068,
           0.2518213485943561,
           0.18054834570678366,
           0.24241246492072485,
           0.26121624761462914,
           1.0000000000000004,
           0.21187214057145468,
           0.22547776373763834,
           0.2326517468043966,
           0.2106106340037596,
           0.2512321421694818
          ],
          [
           0.29184487185190366,
           0.45103581904753615,
           0.4605611898853787,
           0.5587844447646334,
           0.3234210309032023,
           0.421140634610942,
           0.4148768324651661,
           0.3905809185238619,
           0.39723245320032585,
           0.5819772130053337,
           0.5720032706111984,
           0.4037982969081138,
           0.4190773793610838,
           1.0000000000000002,
           0.26121624761462914,
           0.5849755447014742,
           0.5579026435851636,
           0.47253865229992026,
           0.1722797398578669,
           0.44256249400024883
          ],
          [
           0.1942734829414628,
           0.32259587204983625,
           0.4040056377141495,
           0.48981331694052277,
           0.2344352117787675,
           0.29648649226255314,
           0.3971161439894771,
           0.26615553405583353,
           0.25200277183616737,
           0.49834323423352556,
           0.40364758840687265,
           0.35311088386674033,
           0.999999999999999,
           0.4190773793610838,
           0.24241246492072485,
           0.5277570950001892,
           0.5011511152728111,
           0.3880321184001729,
           0.15163501251102637,
           0.41408302310106176
          ],
          [
           0.32866414813850325,
           0.3438690162574196,
           0.36856361025114937,
           0.4917455252972271,
           0.39402182635162836,
           0.3965454198913597,
           0.3643922093200296,
           0.3748638840821765,
           0.387953140504959,
           0.41117946116269494,
           0.41296941194199155,
           0.9999999999999973,
           0.35311088386674033,
           0.4037982969081138,
           0.18054834570678366,
           0.43630289364375363,
           0.4001777504328898,
           0.5419737240323996,
           0.16226074093093093,
           0.41528879587427486
          ],
          [
           0.2363875778343503,
           0.40209783967811463,
           0.44604325585698373,
           0.5534948364506502,
           0.24592997145090262,
           0.3524266435825166,
           0.4043680440577672,
           0.3325624267478203,
           0.3602126042076274,
           0.566860895467993,
           0.9999999999999996,
           0.41296941194199155,
           0.40364758840687265,
           0.5720032706111984,
           0.2518213485943561,
           0.5531289743809397,
           0.5154493437650319,
           0.43303109014267915,
           0.1684861499037986,
           0.425550773738584
          ],
          [
           0.2369472964040295,
           0.45926366709326943,
           0.5528555650708777,
           0.6796543522238832,
           0.3252182042711118,
           0.39065364858601803,
           0.436958326426284,
           0.335747535970233,
           0.349122556502506,
           0.9999999999999991,
           0.566860895467993,
           0.41117946116269494,
           0.49834323423352556,
           0.5819772130053337,
           0.22743617300779068,
           0.736344964811111,
           0.643726707805373,
           0.4710256296650917,
           0.21803181408447578,
           0.4728398736891759
          ],
          [
           0.25671109944999304,
           0.327144859166717,
           0.2392422147323535,
           0.334202721479116,
           0.24624280268437887,
           0.4690523427936078,
           0.259013146352505,
           0.46677635710234344,
           0.9999999999999989,
           0.349122556502506,
           0.3602126042076274,
           0.387953140504959,
           0.25200277183616737,
           0.39723245320032585,
           0.18268753314858543,
           0.32700917318316985,
           0.3232891904603603,
           0.4130464008165809,
           0.15742922345361307,
           0.3055373615215472
          ],
          [
           0.24841338025202803,
           0.3165024943417035,
           0.25343709269681597,
           0.33583669193001164,
           0.25293033743845866,
           0.4745500764509026,
           0.27454095965661085,
           1.0000000000000002,
           0.46677635710234344,
           0.335747535970233,
           0.3325624267478203,
           0.3748638840821765,
           0.26615553405583353,
           0.3905809185238619,
           0.18325124570087595,
           0.3063332802482825,
           0.3163509720216123,
           0.4018277069242673,
           0.1399004691532488,
           0.30400309592804914
          ],
          [
           0.24018572846994912,
           0.35044231557742295,
           0.39060243497326275,
           0.4446732423299396,
           0.23629584911209903,
           0.31385442461935364,
           0.9999999999999986,
           0.27454095965661085,
           0.259013146352505,
           0.436958326426284,
           0.4043680440577672,
           0.3643922093200296,
           0.3971161439894771,
           0.4148768324651661,
           0.34814977771482164,
           0.4329464430002093,
           0.4160384746638439,
           0.40186590636803077,
           0.18916943278444104,
           0.38126506298556445
          ],
          [
           0.3034278834096534,
           0.34694976173833875,
           0.2877738413347309,
           0.3901395944214898,
           0.25254914353506785,
           0.9999999999999977,
           0.31385442461935364,
           0.4745500764509026,
           0.4690523427936078,
           0.39065364858601803,
           0.3524266435825166,
           0.3965454198913597,
           0.29648649226255314,
           0.421140634610942,
           0.16928696826146716,
           0.37952769200493214,
           0.37235500940940464,
           0.44830234988432,
           0.14970243876832393,
           0.35177279411353024
          ],
          [
           0.20746187789632053,
           0.22720483272799097,
           0.2051959188550585,
           0.37346755844162627,
           0.9999999999999994,
           0.25254914353506785,
           0.23629584911209903,
           0.25293033743845866,
           0.24624280268437887,
           0.3252182042711118,
           0.24592997145090262,
           0.39402182635162836,
           0.2344352117787675,
           0.3234210309032023,
           0.1101396581173096,
           0.3472115752980589,
           0.297385448368602,
           0.3516923600213496,
           0.10528335518019434,
           0.27079834940393493
          ],
          [
           0.24725577095261492,
           0.46105272390705576,
           0.5008475977354554,
           1.000000000000001,
           0.37346755844162627,
           0.3901395944214898,
           0.4446732423299396,
           0.33583669193001164,
           0.334202721479116,
           0.6796543522238832,
           0.5534948364506502,
           0.4917455252972271,
           0.48981331694052277,
           0.5587844447646334,
           0.20984752667434314,
           0.6951894278719214,
           0.632077087239045,
           0.5443566797367106,
           0.1856345865685108,
           0.491137514814642
          ],
          [
           0.23782660574993242,
           0.34598355425778665,
           1.0000000000000004,
           0.5008475977354554,
           0.2051959188550585,
           0.2877738413347309,
           0.39060243497326275,
           0.25343709269681597,
           0.2392422147323535,
           0.5528555650708777,
           0.44604325585698373,
           0.36856361025114937,
           0.4040056377141495,
           0.4605611898853787,
           0.33348597177937533,
           0.5512042636172599,
           0.5228043163425797,
           0.3634708124971888,
           0.17121930771055419,
           0.3875555544735401
          ],
          [
           0.2353312715330229,
           1.000000000000001,
           0.34598355425778665,
           0.46105272390705576,
           0.22720483272799097,
           0.34694976173833875,
           0.35044231557742295,
           0.3165024943417035,
           0.327144859166717,
           0.45926366709326943,
           0.40209783967811463,
           0.3438690162574196,
           0.32259587204983625,
           0.45103581904753615,
           0.26153336071121985,
           0.4565822086662757,
           0.43758341869397344,
           0.43333185929420553,
           0.15830868997598216,
           0.3534608778452501
          ],
          [
           0.9999999999999994,
           0.2353312715330229,
           0.23782660574993242,
           0.24725577095261492,
           0.20746187789632053,
           0.3034278834096534,
           0.24018572846994912,
           0.24841338025202803,
           0.25671109944999304,
           0.2369472964040295,
           0.2363875778343503,
           0.32866414813850325,
           0.1942734829414628,
           0.29184487185190366,
           0.13900520563757343,
           0.24680474233523325,
           0.26973019649269303,
           0.32996734464121136,
           0.132881867339249,
           0.2176764747055223
          ]
         ],
         "zmax": 1.1,
         "zmin": 0.5
        }
       ],
       "layout": {
        "template": {
         "data": {
          "bar": [
           {
            "error_x": {
             "color": "#2a3f5f"
            },
            "error_y": {
             "color": "#2a3f5f"
            },
            "marker": {
             "line": {
              "color": "#E5ECF6",
              "width": 0.5
             },
             "pattern": {
              "fillmode": "overlay",
              "size": 10,
              "solidity": 0.2
             }
            },
            "type": "bar"
           }
          ],
          "barpolar": [
           {
            "marker": {
             "line": {
              "color": "#E5ECF6",
              "width": 0.5
             },
             "pattern": {
              "fillmode": "overlay",
              "size": 10,
              "solidity": 0.2
             }
            },
            "type": "barpolar"
           }
          ],
          "carpet": [
           {
            "aaxis": {
             "endlinecolor": "#2a3f5f",
             "gridcolor": "white",
             "linecolor": "white",
             "minorgridcolor": "white",
             "startlinecolor": "#2a3f5f"
            },
            "baxis": {
             "endlinecolor": "#2a3f5f",
             "gridcolor": "white",
             "linecolor": "white",
             "minorgridcolor": "white",
             "startlinecolor": "#2a3f5f"
            },
            "type": "carpet"
           }
          ],
          "choropleth": [
           {
            "colorbar": {
             "outlinewidth": 0,
             "ticks": ""
            },
            "type": "choropleth"
           }
          ],
          "contour": [
           {
            "colorbar": {
             "outlinewidth": 0,
             "ticks": ""
            },
            "colorscale": [
             [
              0,
              "#0d0887"
             ],
             [
              0.1111111111111111,
              "#46039f"
             ],
             [
              0.2222222222222222,
              "#7201a8"
             ],
             [
              0.3333333333333333,
              "#9c179e"
             ],
             [
              0.4444444444444444,
              "#bd3786"
             ],
             [
              0.5555555555555556,
              "#d8576b"
             ],
             [
              0.6666666666666666,
              "#ed7953"
             ],
             [
              0.7777777777777778,
              "#fb9f3a"
             ],
             [
              0.8888888888888888,
              "#fdca26"
             ],
             [
              1,
              "#f0f921"
             ]
            ],
            "type": "contour"
           }
          ],
          "contourcarpet": [
           {
            "colorbar": {
             "outlinewidth": 0,
             "ticks": ""
            },
            "type": "contourcarpet"
           }
          ],
          "heatmap": [
           {
            "colorbar": {
             "outlinewidth": 0,
             "ticks": ""
            },
            "colorscale": [
             [
              0,
              "#0d0887"
             ],
             [
              0.1111111111111111,
              "#46039f"
             ],
             [
              0.2222222222222222,
              "#7201a8"
             ],
             [
              0.3333333333333333,
              "#9c179e"
             ],
             [
              0.4444444444444444,
              "#bd3786"
             ],
             [
              0.5555555555555556,
              "#d8576b"
             ],
             [
              0.6666666666666666,
              "#ed7953"
             ],
             [
              0.7777777777777778,
              "#fb9f3a"
             ],
             [
              0.8888888888888888,
              "#fdca26"
             ],
             [
              1,
              "#f0f921"
             ]
            ],
            "type": "heatmap"
           }
          ],
          "heatmapgl": [
           {
            "colorbar": {
             "outlinewidth": 0,
             "ticks": ""
            },
            "colorscale": [
             [
              0,
              "#0d0887"
             ],
             [
              0.1111111111111111,
              "#46039f"
             ],
             [
              0.2222222222222222,
              "#7201a8"
             ],
             [
              0.3333333333333333,
              "#9c179e"
             ],
             [
              0.4444444444444444,
              "#bd3786"
             ],
             [
              0.5555555555555556,
              "#d8576b"
             ],
             [
              0.6666666666666666,
              "#ed7953"
             ],
             [
              0.7777777777777778,
              "#fb9f3a"
             ],
             [
              0.8888888888888888,
              "#fdca26"
             ],
             [
              1,
              "#f0f921"
             ]
            ],
            "type": "heatmapgl"
           }
          ],
          "histogram": [
           {
            "marker": {
             "pattern": {
              "fillmode": "overlay",
              "size": 10,
              "solidity": 0.2
             }
            },
            "type": "histogram"
           }
          ],
          "histogram2d": [
           {
            "colorbar": {
             "outlinewidth": 0,
             "ticks": ""
            },
            "colorscale": [
             [
              0,
              "#0d0887"
             ],
             [
              0.1111111111111111,
              "#46039f"
             ],
             [
              0.2222222222222222,
              "#7201a8"
             ],
             [
              0.3333333333333333,
              "#9c179e"
             ],
             [
              0.4444444444444444,
              "#bd3786"
             ],
             [
              0.5555555555555556,
              "#d8576b"
             ],
             [
              0.6666666666666666,
              "#ed7953"
             ],
             [
              0.7777777777777778,
              "#fb9f3a"
             ],
             [
              0.8888888888888888,
              "#fdca26"
             ],
             [
              1,
              "#f0f921"
             ]
            ],
            "type": "histogram2d"
           }
          ],
          "histogram2dcontour": [
           {
            "colorbar": {
             "outlinewidth": 0,
             "ticks": ""
            },
            "colorscale": [
             [
              0,
              "#0d0887"
             ],
             [
              0.1111111111111111,
              "#46039f"
             ],
             [
              0.2222222222222222,
              "#7201a8"
             ],
             [
              0.3333333333333333,
              "#9c179e"
             ],
             [
              0.4444444444444444,
              "#bd3786"
             ],
             [
              0.5555555555555556,
              "#d8576b"
             ],
             [
              0.6666666666666666,
              "#ed7953"
             ],
             [
              0.7777777777777778,
              "#fb9f3a"
             ],
             [
              0.8888888888888888,
              "#fdca26"
             ],
             [
              1,
              "#f0f921"
             ]
            ],
            "type": "histogram2dcontour"
           }
          ],
          "mesh3d": [
           {
            "colorbar": {
             "outlinewidth": 0,
             "ticks": ""
            },
            "type": "mesh3d"
           }
          ],
          "parcoords": [
           {
            "line": {
             "colorbar": {
              "outlinewidth": 0,
              "ticks": ""
             }
            },
            "type": "parcoords"
           }
          ],
          "pie": [
           {
            "automargin": true,
            "type": "pie"
           }
          ],
          "scatter": [
           {
            "fillpattern": {
             "fillmode": "overlay",
             "size": 10,
             "solidity": 0.2
            },
            "type": "scatter"
           }
          ],
          "scatter3d": [
           {
            "line": {
             "colorbar": {
              "outlinewidth": 0,
              "ticks": ""
             }
            },
            "marker": {
             "colorbar": {
              "outlinewidth": 0,
              "ticks": ""
             }
            },
            "type": "scatter3d"
           }
          ],
          "scattercarpet": [
           {
            "marker": {
             "colorbar": {
              "outlinewidth": 0,
              "ticks": ""
             }
            },
            "type": "scattercarpet"
           }
          ],
          "scattergeo": [
           {
            "marker": {
             "colorbar": {
              "outlinewidth": 0,
              "ticks": ""
             }
            },
            "type": "scattergeo"
           }
          ],
          "scattergl": [
           {
            "marker": {
             "colorbar": {
              "outlinewidth": 0,
              "ticks": ""
             }
            },
            "type": "scattergl"
           }
          ],
          "scattermapbox": [
           {
            "marker": {
             "colorbar": {
              "outlinewidth": 0,
              "ticks": ""
             }
            },
            "type": "scattermapbox"
           }
          ],
          "scatterpolar": [
           {
            "marker": {
             "colorbar": {
              "outlinewidth": 0,
              "ticks": ""
             }
            },
            "type": "scatterpolar"
           }
          ],
          "scatterpolargl": [
           {
            "marker": {
             "colorbar": {
              "outlinewidth": 0,
              "ticks": ""
             }
            },
            "type": "scatterpolargl"
           }
          ],
          "scatterternary": [
           {
            "marker": {
             "colorbar": {
              "outlinewidth": 0,
              "ticks": ""
             }
            },
            "type": "scatterternary"
           }
          ],
          "surface": [
           {
            "colorbar": {
             "outlinewidth": 0,
             "ticks": ""
            },
            "colorscale": [
             [
              0,
              "#0d0887"
             ],
             [
              0.1111111111111111,
              "#46039f"
             ],
             [
              0.2222222222222222,
              "#7201a8"
             ],
             [
              0.3333333333333333,
              "#9c179e"
             ],
             [
              0.4444444444444444,
              "#bd3786"
             ],
             [
              0.5555555555555556,
              "#d8576b"
             ],
             [
              0.6666666666666666,
              "#ed7953"
             ],
             [
              0.7777777777777778,
              "#fb9f3a"
             ],
             [
              0.8888888888888888,
              "#fdca26"
             ],
             [
              1,
              "#f0f921"
             ]
            ],
            "type": "surface"
           }
          ],
          "table": [
           {
            "cells": {
             "fill": {
              "color": "#EBF0F8"
             },
             "line": {
              "color": "white"
             }
            },
            "header": {
             "fill": {
              "color": "#C8D4E3"
             },
             "line": {
              "color": "white"
             }
            },
            "type": "table"
           }
          ]
         },
         "layout": {
          "annotationdefaults": {
           "arrowcolor": "#2a3f5f",
           "arrowhead": 0,
           "arrowwidth": 1
          },
          "autotypenumbers": "strict",
          "coloraxis": {
           "colorbar": {
            "outlinewidth": 0,
            "ticks": ""
           }
          },
          "colorscale": {
           "diverging": [
            [
             0,
             "#8e0152"
            ],
            [
             0.1,
             "#c51b7d"
            ],
            [
             0.2,
             "#de77ae"
            ],
            [
             0.3,
             "#f1b6da"
            ],
            [
             0.4,
             "#fde0ef"
            ],
            [
             0.5,
             "#f7f7f7"
            ],
            [
             0.6,
             "#e6f5d0"
            ],
            [
             0.7,
             "#b8e186"
            ],
            [
             0.8,
             "#7fbc41"
            ],
            [
             0.9,
             "#4d9221"
            ],
            [
             1,
             "#276419"
            ]
           ],
           "sequential": [
            [
             0,
             "#0d0887"
            ],
            [
             0.1111111111111111,
             "#46039f"
            ],
            [
             0.2222222222222222,
             "#7201a8"
            ],
            [
             0.3333333333333333,
             "#9c179e"
            ],
            [
             0.4444444444444444,
             "#bd3786"
            ],
            [
             0.5555555555555556,
             "#d8576b"
            ],
            [
             0.6666666666666666,
             "#ed7953"
            ],
            [
             0.7777777777777778,
             "#fb9f3a"
            ],
            [
             0.8888888888888888,
             "#fdca26"
            ],
            [
             1,
             "#f0f921"
            ]
           ],
           "sequentialminus": [
            [
             0,
             "#0d0887"
            ],
            [
             0.1111111111111111,
             "#46039f"
            ],
            [
             0.2222222222222222,
             "#7201a8"
            ],
            [
             0.3333333333333333,
             "#9c179e"
            ],
            [
             0.4444444444444444,
             "#bd3786"
            ],
            [
             0.5555555555555556,
             "#d8576b"
            ],
            [
             0.6666666666666666,
             "#ed7953"
            ],
            [
             0.7777777777777778,
             "#fb9f3a"
            ],
            [
             0.8888888888888888,
             "#fdca26"
            ],
            [
             1,
             "#f0f921"
            ]
           ]
          },
          "colorway": [
           "#636efa",
           "#EF553B",
           "#00cc96",
           "#ab63fa",
           "#FFA15A",
           "#19d3f3",
           "#FF6692",
           "#B6E880",
           "#FF97FF",
           "#FECB52"
          ],
          "font": {
           "color": "#2a3f5f"
          },
          "geo": {
           "bgcolor": "white",
           "lakecolor": "white",
           "landcolor": "#E5ECF6",
           "showlakes": true,
           "showland": true,
           "subunitcolor": "white"
          },
          "hoverlabel": {
           "align": "left"
          },
          "hovermode": "closest",
          "mapbox": {
           "style": "light"
          },
          "paper_bgcolor": "white",
          "plot_bgcolor": "#E5ECF6",
          "polar": {
           "angularaxis": {
            "gridcolor": "white",
            "linecolor": "white",
            "ticks": ""
           },
           "bgcolor": "#E5ECF6",
           "radialaxis": {
            "gridcolor": "white",
            "linecolor": "white",
            "ticks": ""
           }
          },
          "scene": {
           "xaxis": {
            "backgroundcolor": "#E5ECF6",
            "gridcolor": "white",
            "gridwidth": 2,
            "linecolor": "white",
            "showbackground": true,
            "ticks": "",
            "zerolinecolor": "white"
           },
           "yaxis": {
            "backgroundcolor": "#E5ECF6",
            "gridcolor": "white",
            "gridwidth": 2,
            "linecolor": "white",
            "showbackground": true,
            "ticks": "",
            "zerolinecolor": "white"
           },
           "zaxis": {
            "backgroundcolor": "#E5ECF6",
            "gridcolor": "white",
            "gridwidth": 2,
            "linecolor": "white",
            "showbackground": true,
            "ticks": "",
            "zerolinecolor": "white"
           }
          },
          "shapedefaults": {
           "line": {
            "color": "#2a3f5f"
           }
          },
          "ternary": {
           "aaxis": {
            "gridcolor": "white",
            "linecolor": "white",
            "ticks": ""
           },
           "baxis": {
            "gridcolor": "white",
            "linecolor": "white",
            "ticks": ""
           },
           "bgcolor": "#E5ECF6",
           "caxis": {
            "gridcolor": "white",
            "linecolor": "white",
            "ticks": ""
           }
          },
          "title": {
           "x": 0.05
          },
          "xaxis": {
           "automargin": true,
           "gridcolor": "white",
           "linecolor": "white",
           "ticks": "",
           "title": {
            "standoff": 15
           },
           "zerolinecolor": "white",
           "zerolinewidth": 2
          },
          "yaxis": {
           "automargin": true,
           "gridcolor": "white",
           "linecolor": "white",
           "ticks": "",
           "title": {
            "standoff": 15
           },
           "zerolinecolor": "white",
           "zerolinewidth": 2
          }
         }
        }
       }
      },
      "text/html": [
       "<div>                            <div id=\"52a6fdbe-5918-428e-a9c7-ed5522c654f3\" class=\"plotly-graph-div\" style=\"height:525px; width:100%;\"></div>            <script type=\"text/javascript\">                require([\"plotly\"], function(Plotly) {                    window.PLOTLYENV=window.PLOTLYENV || {};                                    if (document.getElementById(\"52a6fdbe-5918-428e-a9c7-ed5522c654f3\")) {                    Plotly.newPlot(                        \"52a6fdbe-5918-428e-a9c7-ed5522c654f3\",                        [{\"colorscale\":[[0.0,\"rgb(23, 28, 66)\"],[0.09090909090909091,\"rgb(41, 58, 143)\"],[0.18181818181818182,\"rgb(11, 102, 189)\"],[0.2727272727272727,\"rgb(69, 144, 185)\"],[0.36363636363636365,\"rgb(142, 181, 194)\"],[0.45454545454545453,\"rgb(210, 216, 219)\"],[0.5454545454545454,\"rgb(230, 210, 204)\"],[0.6363636363636364,\"rgb(213, 157, 137)\"],[0.7272727272727273,\"rgb(196, 101, 72)\"],[0.8181818181818182,\"rgb(172, 43, 36)\"],[0.9090909090909091,\"rgb(120, 14, 40)\"],[1.0,\"rgb(60, 9, 17)\"]],\"x\":[\" Lav Eli\",\"Aram MP3\",\"Arame\",\"Arsen Safaryan\",\"Empyray\",\"HT Hayko\",\"Harout Pamboukjian\",\"Mi Qani Hogi\",\"Misho\",\"Razmik Amyan\",\"Silva Hakobyan\",\"\\u0531\\u0550\\u0539\\u0548\\u0552\\u0550 \\u0544\\u0535\\u054d\\u0549\\u0545\\u0531\\u0546\",\"\\u0531\\u0576\\u0564\\u0580\\u0565\",\"\\u053c\\u056b\\u056c\\u056b\\u0569 \\u0540\\u0578\\u057e\\u0570\\u0561\\u0576\\u0576\\u056b\\u057d\\u0575\\u0561\\u0576\",\"\\u053f\\u0548\\u0544\\u053b\\u054f\\u0531\\u054d\",\"\\u0540\\u0561\\u0575\\u056f \\u0540\\u0561\\u056f\\u0578\\u0562\\u0575\\u0561\\u0576\",\"\\u0544\\u056b\\u0570\\u0580\\u0561\\u0576 \\u053e\\u0561\\u057c\\u0578\\u0582\\u056f\\u0575\\u0561\\u0576\",\"\\u054c\\u0548\\u0552\\u0532\\u0535\\u0546 \\u0540\\u0531\\u053d\\u054e\\u0535\\u0550\\u0534\\u0545\\u0531\\u0546\",\"\\u054d\\u0531\\u0545\\u0531\\u0539-\\u0546\\u0548\\u054e\\u0531\",\"\\u054d\\u056b\\u0580\\u0578\\u0582\\u0577\\u0578\"],\"y\":[\"\\u054d\\u056b\\u0580\\u0578\\u0582\\u0577\\u0578\",\"\\u054d\\u0531\\u0545\\u0531\\u0539-\\u0546\\u0548\\u054e\\u0531\",\"\\u054c\\u0548\\u0552\\u0532\\u0535\\u0546 \\u0540\\u0531\\u053d\\u054e\\u0535\\u0550\\u0534\\u0545\\u0531\\u0546\",\"\\u0544\\u056b\\u0570\\u0580\\u0561\\u0576 \\u053e\\u0561\\u057c\\u0578\\u0582\\u056f\\u0575\\u0561\\u0576\",\"\\u0540\\u0561\\u0575\\u056f \\u0540\\u0561\\u056f\\u0578\\u0562\\u0575\\u0561\\u0576\",\"\\u053f\\u0548\\u0544\\u053b\\u054f\\u0531\\u054d\",\"\\u053c\\u056b\\u056c\\u056b\\u0569 \\u0540\\u0578\\u057e\\u0570\\u0561\\u0576\\u0576\\u056b\\u057d\\u0575\\u0561\\u0576\",\"\\u0531\\u0576\\u0564\\u0580\\u0565\",\"\\u0531\\u0550\\u0539\\u0548\\u0552\\u0550 \\u0544\\u0535\\u054d\\u0549\\u0545\\u0531\\u0546\",\"Silva Hakobyan\",\"Razmik Amyan\",\"Misho\",\"Mi Qani Hogi\",\"Harout Pamboukjian\",\"HT Hayko\",\"Empyray\",\"Arsen Safaryan\",\"Arame\",\"Aram MP3\",\" Lav Eli\"],\"z\":[[0.2176764747055223,0.3534608778452501,0.3875555544735401,0.491137514814642,0.27079834940393493,0.35177279411353024,0.38126506298556445,0.30400309592804914,0.3055373615215472,0.4728398736891759,0.425550773738584,0.41528879587427486,0.41408302310106176,0.44256249400024883,0.2512321421694818,0.47848746869829734,0.497986439060724,0.4358560663800052,0.17126111461053137,0.9999999999999992],[0.132881867339249,0.15830868997598216,0.17121930771055419,0.1856345865685108,0.10528335518019434,0.14970243876832393,0.18916943278444104,0.1399004691532488,0.15742922345361307,0.21803181408447578,0.1684861499037986,0.16226074093093093,0.15163501251102637,0.1722797398578669,0.2106106340037596,0.19764605372136784,0.19061443435599382,0.1656870970352292,1.0000000000000002,0.17126111461053137],[0.32996734464121136,0.43333185929420553,0.3634708124971888,0.5443566797367106,0.3516923600213496,0.44830234988432,0.40186590636803077,0.4018277069242673,0.4130464008165809,0.4710256296650917,0.43303109014267915,0.5419737240323996,0.3880321184001729,0.47253865229992026,0.2326517468043966,0.4639941775201887,0.47376935843118057,1.0000000000000004,0.1656870970352292,0.4358560663800052],[0.26973019649269303,0.43758341869397344,0.5228043163425797,0.632077087239045,0.297385448368602,0.37235500940940464,0.4160384746638439,0.3163509720216123,0.3232891904603603,0.643726707805373,0.5154493437650319,0.4001777504328898,0.5011511152728111,0.5579026435851636,0.22547776373763834,0.6499131420963057,0.9999999999999992,0.47376935843118057,0.19061443435599382,0.497986439060724],[0.24680474233523325,0.4565822086662757,0.5512042636172599,0.6951894278719214,0.3472115752980589,0.37952769200493214,0.4329464430002093,0.3063332802482825,0.32700917318316985,0.736344964811111,0.5531289743809397,0.43630289364375363,0.5277570950001892,0.5849755447014742,0.21187214057145468,1.000000000000001,0.6499131420963057,0.4639941775201887,0.19764605372136784,0.47848746869829734],[0.13900520563757343,0.26153336071121985,0.33348597177937533,0.20984752667434314,0.1101396581173096,0.16928696826146716,0.34814977771482164,0.18325124570087595,0.18268753314858543,0.22743617300779068,0.2518213485943561,0.18054834570678366,0.24241246492072485,0.26121624761462914,1.0000000000000004,0.21187214057145468,0.22547776373763834,0.2326517468043966,0.2106106340037596,0.2512321421694818],[0.29184487185190366,0.45103581904753615,0.4605611898853787,0.5587844447646334,0.3234210309032023,0.421140634610942,0.4148768324651661,0.3905809185238619,0.39723245320032585,0.5819772130053337,0.5720032706111984,0.4037982969081138,0.4190773793610838,1.0000000000000002,0.26121624761462914,0.5849755447014742,0.5579026435851636,0.47253865229992026,0.1722797398578669,0.44256249400024883],[0.1942734829414628,0.32259587204983625,0.4040056377141495,0.48981331694052277,0.2344352117787675,0.29648649226255314,0.3971161439894771,0.26615553405583353,0.25200277183616737,0.49834323423352556,0.40364758840687265,0.35311088386674033,0.999999999999999,0.4190773793610838,0.24241246492072485,0.5277570950001892,0.5011511152728111,0.3880321184001729,0.15163501251102637,0.41408302310106176],[0.32866414813850325,0.3438690162574196,0.36856361025114937,0.4917455252972271,0.39402182635162836,0.3965454198913597,0.3643922093200296,0.3748638840821765,0.387953140504959,0.41117946116269494,0.41296941194199155,0.9999999999999973,0.35311088386674033,0.4037982969081138,0.18054834570678366,0.43630289364375363,0.4001777504328898,0.5419737240323996,0.16226074093093093,0.41528879587427486],[0.2363875778343503,0.40209783967811463,0.44604325585698373,0.5534948364506502,0.24592997145090262,0.3524266435825166,0.4043680440577672,0.3325624267478203,0.3602126042076274,0.566860895467993,0.9999999999999996,0.41296941194199155,0.40364758840687265,0.5720032706111984,0.2518213485943561,0.5531289743809397,0.5154493437650319,0.43303109014267915,0.1684861499037986,0.425550773738584],[0.2369472964040295,0.45926366709326943,0.5528555650708777,0.6796543522238832,0.3252182042711118,0.39065364858601803,0.436958326426284,0.335747535970233,0.349122556502506,0.9999999999999991,0.566860895467993,0.41117946116269494,0.49834323423352556,0.5819772130053337,0.22743617300779068,0.736344964811111,0.643726707805373,0.4710256296650917,0.21803181408447578,0.4728398736891759],[0.25671109944999304,0.327144859166717,0.2392422147323535,0.334202721479116,0.24624280268437887,0.4690523427936078,0.259013146352505,0.46677635710234344,0.9999999999999989,0.349122556502506,0.3602126042076274,0.387953140504959,0.25200277183616737,0.39723245320032585,0.18268753314858543,0.32700917318316985,0.3232891904603603,0.4130464008165809,0.15742922345361307,0.3055373615215472],[0.24841338025202803,0.3165024943417035,0.25343709269681597,0.33583669193001164,0.25293033743845866,0.4745500764509026,0.27454095965661085,1.0000000000000002,0.46677635710234344,0.335747535970233,0.3325624267478203,0.3748638840821765,0.26615553405583353,0.3905809185238619,0.18325124570087595,0.3063332802482825,0.3163509720216123,0.4018277069242673,0.1399004691532488,0.30400309592804914],[0.24018572846994912,0.35044231557742295,0.39060243497326275,0.4446732423299396,0.23629584911209903,0.31385442461935364,0.9999999999999986,0.27454095965661085,0.259013146352505,0.436958326426284,0.4043680440577672,0.3643922093200296,0.3971161439894771,0.4148768324651661,0.34814977771482164,0.4329464430002093,0.4160384746638439,0.40186590636803077,0.18916943278444104,0.38126506298556445],[0.3034278834096534,0.34694976173833875,0.2877738413347309,0.3901395944214898,0.25254914353506785,0.9999999999999977,0.31385442461935364,0.4745500764509026,0.4690523427936078,0.39065364858601803,0.3524266435825166,0.3965454198913597,0.29648649226255314,0.421140634610942,0.16928696826146716,0.37952769200493214,0.37235500940940464,0.44830234988432,0.14970243876832393,0.35177279411353024],[0.20746187789632053,0.22720483272799097,0.2051959188550585,0.37346755844162627,0.9999999999999994,0.25254914353506785,0.23629584911209903,0.25293033743845866,0.24624280268437887,0.3252182042711118,0.24592997145090262,0.39402182635162836,0.2344352117787675,0.3234210309032023,0.1101396581173096,0.3472115752980589,0.297385448368602,0.3516923600213496,0.10528335518019434,0.27079834940393493],[0.24725577095261492,0.46105272390705576,0.5008475977354554,1.000000000000001,0.37346755844162627,0.3901395944214898,0.4446732423299396,0.33583669193001164,0.334202721479116,0.6796543522238832,0.5534948364506502,0.4917455252972271,0.48981331694052277,0.5587844447646334,0.20984752667434314,0.6951894278719214,0.632077087239045,0.5443566797367106,0.1856345865685108,0.491137514814642],[0.23782660574993242,0.34598355425778665,1.0000000000000004,0.5008475977354554,0.2051959188550585,0.2877738413347309,0.39060243497326275,0.25343709269681597,0.2392422147323535,0.5528555650708777,0.44604325585698373,0.36856361025114937,0.4040056377141495,0.4605611898853787,0.33348597177937533,0.5512042636172599,0.5228043163425797,0.3634708124971888,0.17121930771055419,0.3875555544735401],[0.2353312715330229,1.000000000000001,0.34598355425778665,0.46105272390705576,0.22720483272799097,0.34694976173833875,0.35044231557742295,0.3165024943417035,0.327144859166717,0.45926366709326943,0.40209783967811463,0.3438690162574196,0.32259587204983625,0.45103581904753615,0.26153336071121985,0.4565822086662757,0.43758341869397344,0.43333185929420553,0.15830868997598216,0.3534608778452501],[0.9999999999999994,0.2353312715330229,0.23782660574993242,0.24725577095261492,0.20746187789632053,0.3034278834096534,0.24018572846994912,0.24841338025202803,0.25671109944999304,0.2369472964040295,0.2363875778343503,0.32866414813850325,0.1942734829414628,0.29184487185190366,0.13900520563757343,0.24680474233523325,0.26973019649269303,0.32996734464121136,0.132881867339249,0.2176764747055223]],\"zmax\":1.1,\"zmin\":0.5,\"type\":\"heatmap\"}],                        {\"template\":{\"data\":{\"histogram2dcontour\":[{\"type\":\"histogram2dcontour\",\"colorbar\":{\"outlinewidth\":0,\"ticks\":\"\"},\"colorscale\":[[0.0,\"#0d0887\"],[0.1111111111111111,\"#46039f\"],[0.2222222222222222,\"#7201a8\"],[0.3333333333333333,\"#9c179e\"],[0.4444444444444444,\"#bd3786\"],[0.5555555555555556,\"#d8576b\"],[0.6666666666666666,\"#ed7953\"],[0.7777777777777778,\"#fb9f3a\"],[0.8888888888888888,\"#fdca26\"],[1.0,\"#f0f921\"]]}],\"choropleth\":[{\"type\":\"choropleth\",\"colorbar\":{\"outlinewidth\":0,\"ticks\":\"\"}}],\"histogram2d\":[{\"type\":\"histogram2d\",\"colorbar\":{\"outlinewidth\":0,\"ticks\":\"\"},\"colorscale\":[[0.0,\"#0d0887\"],[0.1111111111111111,\"#46039f\"],[0.2222222222222222,\"#7201a8\"],[0.3333333333333333,\"#9c179e\"],[0.4444444444444444,\"#bd3786\"],[0.5555555555555556,\"#d8576b\"],[0.6666666666666666,\"#ed7953\"],[0.7777777777777778,\"#fb9f3a\"],[0.8888888888888888,\"#fdca26\"],[1.0,\"#f0f921\"]]}],\"heatmap\":[{\"type\":\"heatmap\",\"colorbar\":{\"outlinewidth\":0,\"ticks\":\"\"},\"colorscale\":[[0.0,\"#0d0887\"],[0.1111111111111111,\"#46039f\"],[0.2222222222222222,\"#7201a8\"],[0.3333333333333333,\"#9c179e\"],[0.4444444444444444,\"#bd3786\"],[0.5555555555555556,\"#d8576b\"],[0.6666666666666666,\"#ed7953\"],[0.7777777777777778,\"#fb9f3a\"],[0.8888888888888888,\"#fdca26\"],[1.0,\"#f0f921\"]]}],\"heatmapgl\":[{\"type\":\"heatmapgl\",\"colorbar\":{\"outlinewidth\":0,\"ticks\":\"\"},\"colorscale\":[[0.0,\"#0d0887\"],[0.1111111111111111,\"#46039f\"],[0.2222222222222222,\"#7201a8\"],[0.3333333333333333,\"#9c179e\"],[0.4444444444444444,\"#bd3786\"],[0.5555555555555556,\"#d8576b\"],[0.6666666666666666,\"#ed7953\"],[0.7777777777777778,\"#fb9f3a\"],[0.8888888888888888,\"#fdca26\"],[1.0,\"#f0f921\"]]}],\"contourcarpet\":[{\"type\":\"contourcarpet\",\"colorbar\":{\"outlinewidth\":0,\"ticks\":\"\"}}],\"contour\":[{\"type\":\"contour\",\"colorbar\":{\"outlinewidth\":0,\"ticks\":\"\"},\"colorscale\":[[0.0,\"#0d0887\"],[0.1111111111111111,\"#46039f\"],[0.2222222222222222,\"#7201a8\"],[0.3333333333333333,\"#9c179e\"],[0.4444444444444444,\"#bd3786\"],[0.5555555555555556,\"#d8576b\"],[0.6666666666666666,\"#ed7953\"],[0.7777777777777778,\"#fb9f3a\"],[0.8888888888888888,\"#fdca26\"],[1.0,\"#f0f921\"]]}],\"surface\":[{\"type\":\"surface\",\"colorbar\":{\"outlinewidth\":0,\"ticks\":\"\"},\"colorscale\":[[0.0,\"#0d0887\"],[0.1111111111111111,\"#46039f\"],[0.2222222222222222,\"#7201a8\"],[0.3333333333333333,\"#9c179e\"],[0.4444444444444444,\"#bd3786\"],[0.5555555555555556,\"#d8576b\"],[0.6666666666666666,\"#ed7953\"],[0.7777777777777778,\"#fb9f3a\"],[0.8888888888888888,\"#fdca26\"],[1.0,\"#f0f921\"]]}],\"mesh3d\":[{\"type\":\"mesh3d\",\"colorbar\":{\"outlinewidth\":0,\"ticks\":\"\"}}],\"scatter\":[{\"fillpattern\":{\"fillmode\":\"overlay\",\"size\":10,\"solidity\":0.2},\"type\":\"scatter\"}],\"parcoords\":[{\"type\":\"parcoords\",\"line\":{\"colorbar\":{\"outlinewidth\":0,\"ticks\":\"\"}}}],\"scatterpolargl\":[{\"type\":\"scatterpolargl\",\"marker\":{\"colorbar\":{\"outlinewidth\":0,\"ticks\":\"\"}}}],\"bar\":[{\"error_x\":{\"color\":\"#2a3f5f\"},\"error_y\":{\"color\":\"#2a3f5f\"},\"marker\":{\"line\":{\"color\":\"#E5ECF6\",\"width\":0.5},\"pattern\":{\"fillmode\":\"overlay\",\"size\":10,\"solidity\":0.2}},\"type\":\"bar\"}],\"scattergeo\":[{\"type\":\"scattergeo\",\"marker\":{\"colorbar\":{\"outlinewidth\":0,\"ticks\":\"\"}}}],\"scatterpolar\":[{\"type\":\"scatterpolar\",\"marker\":{\"colorbar\":{\"outlinewidth\":0,\"ticks\":\"\"}}}],\"histogram\":[{\"marker\":{\"pattern\":{\"fillmode\":\"overlay\",\"size\":10,\"solidity\":0.2}},\"type\":\"histogram\"}],\"scattergl\":[{\"type\":\"scattergl\",\"marker\":{\"colorbar\":{\"outlinewidth\":0,\"ticks\":\"\"}}}],\"scatter3d\":[{\"type\":\"scatter3d\",\"line\":{\"colorbar\":{\"outlinewidth\":0,\"ticks\":\"\"}},\"marker\":{\"colorbar\":{\"outlinewidth\":0,\"ticks\":\"\"}}}],\"scattermapbox\":[{\"type\":\"scattermapbox\",\"marker\":{\"colorbar\":{\"outlinewidth\":0,\"ticks\":\"\"}}}],\"scatterternary\":[{\"type\":\"scatterternary\",\"marker\":{\"colorbar\":{\"outlinewidth\":0,\"ticks\":\"\"}}}],\"scattercarpet\":[{\"type\":\"scattercarpet\",\"marker\":{\"colorbar\":{\"outlinewidth\":0,\"ticks\":\"\"}}}],\"carpet\":[{\"aaxis\":{\"endlinecolor\":\"#2a3f5f\",\"gridcolor\":\"white\",\"linecolor\":\"white\",\"minorgridcolor\":\"white\",\"startlinecolor\":\"#2a3f5f\"},\"baxis\":{\"endlinecolor\":\"#2a3f5f\",\"gridcolor\":\"white\",\"linecolor\":\"white\",\"minorgridcolor\":\"white\",\"startlinecolor\":\"#2a3f5f\"},\"type\":\"carpet\"}],\"table\":[{\"cells\":{\"fill\":{\"color\":\"#EBF0F8\"},\"line\":{\"color\":\"white\"}},\"header\":{\"fill\":{\"color\":\"#C8D4E3\"},\"line\":{\"color\":\"white\"}},\"type\":\"table\"}],\"barpolar\":[{\"marker\":{\"line\":{\"color\":\"#E5ECF6\",\"width\":0.5},\"pattern\":{\"fillmode\":\"overlay\",\"size\":10,\"solidity\":0.2}},\"type\":\"barpolar\"}],\"pie\":[{\"automargin\":true,\"type\":\"pie\"}]},\"layout\":{\"autotypenumbers\":\"strict\",\"colorway\":[\"#636efa\",\"#EF553B\",\"#00cc96\",\"#ab63fa\",\"#FFA15A\",\"#19d3f3\",\"#FF6692\",\"#B6E880\",\"#FF97FF\",\"#FECB52\"],\"font\":{\"color\":\"#2a3f5f\"},\"hovermode\":\"closest\",\"hoverlabel\":{\"align\":\"left\"},\"paper_bgcolor\":\"white\",\"plot_bgcolor\":\"#E5ECF6\",\"polar\":{\"bgcolor\":\"#E5ECF6\",\"angularaxis\":{\"gridcolor\":\"white\",\"linecolor\":\"white\",\"ticks\":\"\"},\"radialaxis\":{\"gridcolor\":\"white\",\"linecolor\":\"white\",\"ticks\":\"\"}},\"ternary\":{\"bgcolor\":\"#E5ECF6\",\"aaxis\":{\"gridcolor\":\"white\",\"linecolor\":\"white\",\"ticks\":\"\"},\"baxis\":{\"gridcolor\":\"white\",\"linecolor\":\"white\",\"ticks\":\"\"},\"caxis\":{\"gridcolor\":\"white\",\"linecolor\":\"white\",\"ticks\":\"\"}},\"coloraxis\":{\"colorbar\":{\"outlinewidth\":0,\"ticks\":\"\"}},\"colorscale\":{\"sequential\":[[0.0,\"#0d0887\"],[0.1111111111111111,\"#46039f\"],[0.2222222222222222,\"#7201a8\"],[0.3333333333333333,\"#9c179e\"],[0.4444444444444444,\"#bd3786\"],[0.5555555555555556,\"#d8576b\"],[0.6666666666666666,\"#ed7953\"],[0.7777777777777778,\"#fb9f3a\"],[0.8888888888888888,\"#fdca26\"],[1.0,\"#f0f921\"]],\"sequentialminus\":[[0.0,\"#0d0887\"],[0.1111111111111111,\"#46039f\"],[0.2222222222222222,\"#7201a8\"],[0.3333333333333333,\"#9c179e\"],[0.4444444444444444,\"#bd3786\"],[0.5555555555555556,\"#d8576b\"],[0.6666666666666666,\"#ed7953\"],[0.7777777777777778,\"#fb9f3a\"],[0.8888888888888888,\"#fdca26\"],[1.0,\"#f0f921\"]],\"diverging\":[[0,\"#8e0152\"],[0.1,\"#c51b7d\"],[0.2,\"#de77ae\"],[0.3,\"#f1b6da\"],[0.4,\"#fde0ef\"],[0.5,\"#f7f7f7\"],[0.6,\"#e6f5d0\"],[0.7,\"#b8e186\"],[0.8,\"#7fbc41\"],[0.9,\"#4d9221\"],[1,\"#276419\"]]},\"xaxis\":{\"gridcolor\":\"white\",\"linecolor\":\"white\",\"ticks\":\"\",\"title\":{\"standoff\":15},\"zerolinecolor\":\"white\",\"automargin\":true,\"zerolinewidth\":2},\"yaxis\":{\"gridcolor\":\"white\",\"linecolor\":\"white\",\"ticks\":\"\",\"title\":{\"standoff\":15},\"zerolinecolor\":\"white\",\"automargin\":true,\"zerolinewidth\":2},\"scene\":{\"xaxis\":{\"backgroundcolor\":\"#E5ECF6\",\"gridcolor\":\"white\",\"linecolor\":\"white\",\"showbackground\":true,\"ticks\":\"\",\"zerolinecolor\":\"white\",\"gridwidth\":2},\"yaxis\":{\"backgroundcolor\":\"#E5ECF6\",\"gridcolor\":\"white\",\"linecolor\":\"white\",\"showbackground\":true,\"ticks\":\"\",\"zerolinecolor\":\"white\",\"gridwidth\":2},\"zaxis\":{\"backgroundcolor\":\"#E5ECF6\",\"gridcolor\":\"white\",\"linecolor\":\"white\",\"showbackground\":true,\"ticks\":\"\",\"zerolinecolor\":\"white\",\"gridwidth\":2}},\"shapedefaults\":{\"line\":{\"color\":\"#2a3f5f\"}},\"annotationdefaults\":{\"arrowcolor\":\"#2a3f5f\",\"arrowhead\":0,\"arrowwidth\":1},\"geo\":{\"bgcolor\":\"white\",\"landcolor\":\"#E5ECF6\",\"subunitcolor\":\"white\",\"showland\":true,\"showlakes\":true,\"lakecolor\":\"white\"},\"title\":{\"x\":0.05},\"mapbox\":{\"style\":\"light\"}}}},                        {\"responsive\": true}                    ).then(function(){\n",
       "                            \n",
       "var gd = document.getElementById('52a6fdbe-5918-428e-a9c7-ed5522c654f3');\n",
       "var x = new MutationObserver(function (mutations, observer) {{\n",
       "        var display = window.getComputedStyle(gd).display;\n",
       "        if (!display || display === 'none') {{\n",
       "            console.log([gd, 'removed!']);\n",
       "            Plotly.purge(gd);\n",
       "            observer.disconnect();\n",
       "        }}\n",
       "}});\n",
       "\n",
       "// Listen for the removal of the full notebook cells\n",
       "var notebookContainer = gd.closest('#notebook-container');\n",
       "if (notebookContainer) {{\n",
       "    x.observe(notebookContainer, {childList: true});\n",
       "}}\n",
       "\n",
       "// Listen for the clearing of the current output cell\n",
       "var outputEl = gd.closest('.output');\n",
       "if (outputEl) {{\n",
       "    x.observe(outputEl, {childList: true});\n",
       "}}\n",
       "\n",
       "                        })                };                });            </script>        </div>"
      ]
     },
     "metadata": {},
     "output_type": "display_data"
    }
   ],
   "source": [
    "similarity_matrix = cosine_similarity(vstack(artist_filter_df['tf_idf_vector']), \n",
    "                                      vstack(artist_filter_df['tf_idf_vector']))\n",
    "artist_names = artist_filter_df['Artist'].tolist()\n",
    "fig = go.Figure(data=go.Heatmap(z=np.flipud(similarity_matrix), x=artist_names, y=list(reversed(artist_names)), \n",
    "                                colorscale='balance', zmin=0.5, zmax=1.1))\n",
    "fig.show()"
   ]
  },
  {
   "cell_type": "markdown",
   "metadata": {},
   "source": [
    "This matrix visualises the similarity between TFIDF artist vectors. Again, a value of 1 (red) means that the vectors are identical which only appears when comparing vectors of the same artist. "
   ]
  },
  {
   "cell_type": "code",
   "execution_count": 94,
   "metadata": {},
   "outputs": [],
   "source": [
    "artist_song_filter_df = pd.merge(artist_filter_df[['Artist', 'tf_idf_vector', 'songs']].assign(key = 0), \n",
    "                                 df[['Artist', 'tf_idf_vector', 'Song']].assign(key = 0), on='key', \n",
    "                                 suffixes=['_artist', '_song']).drop('key', axis=1).reset_index(drop=True)\n",
    "artist_song_filter_df['same_artist'] = artist_song_filter_df['Artist_artist'] == artist_song_filter_df['Artist_song']"
   ]
  },
  {
   "cell_type": "code",
   "execution_count": 95,
   "metadata": {},
   "outputs": [
    {
     "ename": "NameError",
     "evalue": "name 'tf_idf_vector_similarity' is not defined",
     "output_type": "error",
     "traceback": [
      "\u001b[1;31m---------------------------------------------------------------------------\u001b[0m",
      "\u001b[1;31mNameError\u001b[0m                                 Traceback (most recent call last)",
      "\u001b[1;32m~\\AppData\\Local\\Temp\\ipykernel_12304\\4210322840.py\u001b[0m in \u001b[0;36m<module>\u001b[1;34m\u001b[0m\n\u001b[0;32m      1\u001b[0m \u001b[0martist_song_filter_df\u001b[0m\u001b[1;33m[\u001b[0m\u001b[1;34m'vector_similarity'\u001b[0m\u001b[1;33m]\u001b[0m \u001b[1;33m=\u001b[0m\u001b[0;31m \u001b[0m\u001b[0;31m\\\u001b[0m\u001b[1;33m\u001b[0m\u001b[1;33m\u001b[0m\u001b[0m\n\u001b[1;32m----> 2\u001b[1;33m     artist_song_filter_df.apply(lambda row: tf_idf_vector_similarity(row['tf_idf_vector_artist'], \n\u001b[0m\u001b[0;32m      3\u001b[0m                                                                      \u001b[0mrow\u001b[0m\u001b[1;33m[\u001b[0m\u001b[1;34m'tf_idf_vector_song'\u001b[0m\u001b[1;33m]\u001b[0m\u001b[1;33m,\u001b[0m\u001b[1;33m\u001b[0m\u001b[1;33m\u001b[0m\u001b[0m\n\u001b[0;32m      4\u001b[0m                                                                      row['songs'], row['same_artist']), axis=1)\n",
      "\u001b[1;32m~\\anaconda3\\lib\\site-packages\\pandas\\core\\frame.py\u001b[0m in \u001b[0;36mapply\u001b[1;34m(self, func, axis, raw, result_type, args, **kwargs)\u001b[0m\n\u001b[0;32m   8846\u001b[0m             \u001b[0mkwargs\u001b[0m\u001b[1;33m=\u001b[0m\u001b[0mkwargs\u001b[0m\u001b[1;33m,\u001b[0m\u001b[1;33m\u001b[0m\u001b[1;33m\u001b[0m\u001b[0m\n\u001b[0;32m   8847\u001b[0m         )\n\u001b[1;32m-> 8848\u001b[1;33m         \u001b[1;32mreturn\u001b[0m \u001b[0mop\u001b[0m\u001b[1;33m.\u001b[0m\u001b[0mapply\u001b[0m\u001b[1;33m(\u001b[0m\u001b[1;33m)\u001b[0m\u001b[1;33m.\u001b[0m\u001b[0m__finalize__\u001b[0m\u001b[1;33m(\u001b[0m\u001b[0mself\u001b[0m\u001b[1;33m,\u001b[0m \u001b[0mmethod\u001b[0m\u001b[1;33m=\u001b[0m\u001b[1;34m\"apply\"\u001b[0m\u001b[1;33m)\u001b[0m\u001b[1;33m\u001b[0m\u001b[1;33m\u001b[0m\u001b[0m\n\u001b[0m\u001b[0;32m   8849\u001b[0m \u001b[1;33m\u001b[0m\u001b[0m\n\u001b[0;32m   8850\u001b[0m     def applymap(\n",
      "\u001b[1;32m~\\anaconda3\\lib\\site-packages\\pandas\\core\\apply.py\u001b[0m in \u001b[0;36mapply\u001b[1;34m(self)\u001b[0m\n\u001b[0;32m    731\u001b[0m             \u001b[1;32mreturn\u001b[0m \u001b[0mself\u001b[0m\u001b[1;33m.\u001b[0m\u001b[0mapply_raw\u001b[0m\u001b[1;33m(\u001b[0m\u001b[1;33m)\u001b[0m\u001b[1;33m\u001b[0m\u001b[1;33m\u001b[0m\u001b[0m\n\u001b[0;32m    732\u001b[0m \u001b[1;33m\u001b[0m\u001b[0m\n\u001b[1;32m--> 733\u001b[1;33m         \u001b[1;32mreturn\u001b[0m \u001b[0mself\u001b[0m\u001b[1;33m.\u001b[0m\u001b[0mapply_standard\u001b[0m\u001b[1;33m(\u001b[0m\u001b[1;33m)\u001b[0m\u001b[1;33m\u001b[0m\u001b[1;33m\u001b[0m\u001b[0m\n\u001b[0m\u001b[0;32m    734\u001b[0m \u001b[1;33m\u001b[0m\u001b[0m\n\u001b[0;32m    735\u001b[0m     \u001b[1;32mdef\u001b[0m \u001b[0magg\u001b[0m\u001b[1;33m(\u001b[0m\u001b[0mself\u001b[0m\u001b[1;33m)\u001b[0m\u001b[1;33m:\u001b[0m\u001b[1;33m\u001b[0m\u001b[1;33m\u001b[0m\u001b[0m\n",
      "\u001b[1;32m~\\anaconda3\\lib\\site-packages\\pandas\\core\\apply.py\u001b[0m in \u001b[0;36mapply_standard\u001b[1;34m(self)\u001b[0m\n\u001b[0;32m    855\u001b[0m \u001b[1;33m\u001b[0m\u001b[0m\n\u001b[0;32m    856\u001b[0m     \u001b[1;32mdef\u001b[0m \u001b[0mapply_standard\u001b[0m\u001b[1;33m(\u001b[0m\u001b[0mself\u001b[0m\u001b[1;33m)\u001b[0m\u001b[1;33m:\u001b[0m\u001b[1;33m\u001b[0m\u001b[1;33m\u001b[0m\u001b[0m\n\u001b[1;32m--> 857\u001b[1;33m         \u001b[0mresults\u001b[0m\u001b[1;33m,\u001b[0m \u001b[0mres_index\u001b[0m \u001b[1;33m=\u001b[0m \u001b[0mself\u001b[0m\u001b[1;33m.\u001b[0m\u001b[0mapply_series_generator\u001b[0m\u001b[1;33m(\u001b[0m\u001b[1;33m)\u001b[0m\u001b[1;33m\u001b[0m\u001b[1;33m\u001b[0m\u001b[0m\n\u001b[0m\u001b[0;32m    858\u001b[0m \u001b[1;33m\u001b[0m\u001b[0m\n\u001b[0;32m    859\u001b[0m         \u001b[1;31m# wrap results\u001b[0m\u001b[1;33m\u001b[0m\u001b[1;33m\u001b[0m\u001b[0m\n",
      "\u001b[1;32m~\\anaconda3\\lib\\site-packages\\pandas\\core\\apply.py\u001b[0m in \u001b[0;36mapply_series_generator\u001b[1;34m(self)\u001b[0m\n\u001b[0;32m    871\u001b[0m             \u001b[1;32mfor\u001b[0m \u001b[0mi\u001b[0m\u001b[1;33m,\u001b[0m \u001b[0mv\u001b[0m \u001b[1;32min\u001b[0m \u001b[0menumerate\u001b[0m\u001b[1;33m(\u001b[0m\u001b[0mseries_gen\u001b[0m\u001b[1;33m)\u001b[0m\u001b[1;33m:\u001b[0m\u001b[1;33m\u001b[0m\u001b[1;33m\u001b[0m\u001b[0m\n\u001b[0;32m    872\u001b[0m                 \u001b[1;31m# ignore SettingWithCopy here in case the user mutates\u001b[0m\u001b[1;33m\u001b[0m\u001b[1;33m\u001b[0m\u001b[0m\n\u001b[1;32m--> 873\u001b[1;33m                 \u001b[0mresults\u001b[0m\u001b[1;33m[\u001b[0m\u001b[0mi\u001b[0m\u001b[1;33m]\u001b[0m \u001b[1;33m=\u001b[0m \u001b[0mself\u001b[0m\u001b[1;33m.\u001b[0m\u001b[0mf\u001b[0m\u001b[1;33m(\u001b[0m\u001b[0mv\u001b[0m\u001b[1;33m)\u001b[0m\u001b[1;33m\u001b[0m\u001b[1;33m\u001b[0m\u001b[0m\n\u001b[0m\u001b[0;32m    874\u001b[0m                 \u001b[1;32mif\u001b[0m \u001b[0misinstance\u001b[0m\u001b[1;33m(\u001b[0m\u001b[0mresults\u001b[0m\u001b[1;33m[\u001b[0m\u001b[0mi\u001b[0m\u001b[1;33m]\u001b[0m\u001b[1;33m,\u001b[0m \u001b[0mABCSeries\u001b[0m\u001b[1;33m)\u001b[0m\u001b[1;33m:\u001b[0m\u001b[1;33m\u001b[0m\u001b[1;33m\u001b[0m\u001b[0m\n\u001b[0;32m    875\u001b[0m                     \u001b[1;31m# If we have a view on v, we need to make a copy because\u001b[0m\u001b[1;33m\u001b[0m\u001b[1;33m\u001b[0m\u001b[0m\n",
      "\u001b[1;32m~\\AppData\\Local\\Temp\\ipykernel_12304\\4210322840.py\u001b[0m in \u001b[0;36m<lambda>\u001b[1;34m(row)\u001b[0m\n\u001b[0;32m      1\u001b[0m \u001b[0martist_song_filter_df\u001b[0m\u001b[1;33m[\u001b[0m\u001b[1;34m'vector_similarity'\u001b[0m\u001b[1;33m]\u001b[0m \u001b[1;33m=\u001b[0m\u001b[0;31m \u001b[0m\u001b[0;31m\\\u001b[0m\u001b[1;33m\u001b[0m\u001b[1;33m\u001b[0m\u001b[0m\n\u001b[1;32m----> 2\u001b[1;33m     artist_song_filter_df.apply(lambda row: tf_idf_vector_similarity(row['tf_idf_vector_artist'], \n\u001b[0m\u001b[0;32m      3\u001b[0m                                                                      \u001b[0mrow\u001b[0m\u001b[1;33m[\u001b[0m\u001b[1;34m'tf_idf_vector_song'\u001b[0m\u001b[1;33m]\u001b[0m\u001b[1;33m,\u001b[0m\u001b[1;33m\u001b[0m\u001b[1;33m\u001b[0m\u001b[0m\n\u001b[0;32m      4\u001b[0m                                                                      row['songs'], row['same_artist']), axis=1)\n",
      "\u001b[1;31mNameError\u001b[0m: name 'tf_idf_vector_similarity' is not defined"
     ]
    }
   ],
   "source": [
    "artist_song_filter_df['vector_similarity'] = \\\n",
    "    artist_song_filter_df.apply(lambda row: tf_idf_vector_similarity(row['tf_idf_vector_artist'], \n",
    "                                                                     row['tf_idf_vector_song'], \n",
    "                                                                     row['songs'], row['same_artist']), axis=1)"
   ]
  },
  {
   "cell_type": "code",
   "execution_count": 96,
   "metadata": {},
   "outputs": [],
   "source": [
    "# calculate similarity of artist tf idf vector and song vector\n",
    "def tf_idf_vector_similarity(artist_vector, song_vector, songs, same_artist):\n",
    "    # check if song is from same artist\n",
    "    if same_artist:\n",
    "        # deduct song vector from artist vector\n",
    "        artist_vector = (songs * artist_vector - song_vector) / (songs - 1)\n",
    "    # calculate similarity\n",
    "    return cosine_similarity(artist_vector, song_vector)[0][0]"
   ]
  },
  {
   "cell_type": "code",
   "execution_count": 97,
   "metadata": {},
   "outputs": [
    {
     "data": {
      "text/html": [
       "<div>\n",
       "<style scoped>\n",
       "    .dataframe tbody tr th:only-of-type {\n",
       "        vertical-align: middle;\n",
       "    }\n",
       "\n",
       "    .dataframe tbody tr th {\n",
       "        vertical-align: top;\n",
       "    }\n",
       "\n",
       "    .dataframe thead th {\n",
       "        text-align: right;\n",
       "    }\n",
       "</style>\n",
       "<table border=\"1\" class=\"dataframe\">\n",
       "  <thead>\n",
       "    <tr style=\"text-align: right;\">\n",
       "      <th></th>\n",
       "      <th>Artist_artist</th>\n",
       "      <th>tf_idf_vector_artist</th>\n",
       "      <th>songs</th>\n",
       "      <th>Artist_song</th>\n",
       "      <th>tf_idf_vector_song</th>\n",
       "      <th>Song</th>\n",
       "      <th>same_artist</th>\n",
       "    </tr>\n",
       "  </thead>\n",
       "  <tbody>\n",
       "    <tr>\n",
       "      <th>0</th>\n",
       "      <td>Lav Eli</td>\n",
       "      <td>(0, 12)\\t0.007865804986752812\\n  (0, 32)\\t0....</td>\n",
       "      <td>9</td>\n",
       "      <td>ԱՐԹՈՒՐ ՄԵՍՉՅԱՆ</td>\n",
       "      <td>(0, 5123)\\t0.11227978102984074\\n  (0, 5087)\\...</td>\n",
       "      <td>ԱՀԱ ԵՎ ՎԵՐՋ</td>\n",
       "      <td>False</td>\n",
       "    </tr>\n",
       "    <tr>\n",
       "      <th>1</th>\n",
       "      <td>Lav Eli</td>\n",
       "      <td>(0, 12)\\t0.007865804986752812\\n  (0, 32)\\t0....</td>\n",
       "      <td>9</td>\n",
       "      <td>ԱՐԹՈՒՐ ՄԵՍՉՅԱՆ</td>\n",
       "      <td>(0, 5246)\\t0.4412385242123455\\n  (0, 5236)\\t...</td>\n",
       "      <td>ԱՄԵՆԸ ՁԵԶ</td>\n",
       "      <td>False</td>\n",
       "    </tr>\n",
       "    <tr>\n",
       "      <th>2</th>\n",
       "      <td>Lav Eli</td>\n",
       "      <td>(0, 12)\\t0.007865804986752812\\n  (0, 32)\\t0....</td>\n",
       "      <td>9</td>\n",
       "      <td>ԱՐԹՈՒՐ ՄԵՍՉՅԱՆ</td>\n",
       "      <td>(0, 5230)\\t0.04574269091145943\\n  (0, 5199)\\...</td>\n",
       "      <td>ԱՆԱՌԱԿ ՈՐԴՈՒ ՎԵՐԱԴԱՐՁԸ</td>\n",
       "      <td>False</td>\n",
       "    </tr>\n",
       "    <tr>\n",
       "      <th>3</th>\n",
       "      <td>Lav Eli</td>\n",
       "      <td>(0, 12)\\t0.007865804986752812\\n  (0, 32)\\t0....</td>\n",
       "      <td>9</td>\n",
       "      <td>ԱՐԹՈՒՐ ՄԵՍՉՅԱՆ</td>\n",
       "      <td>(0, 5236)\\t0.12427558296283031\\n  (0, 5234)\\...</td>\n",
       "      <td>ԱՇԽԱՐՀԻ ՑԱՎՈՎ</td>\n",
       "      <td>False</td>\n",
       "    </tr>\n",
       "    <tr>\n",
       "      <th>4</th>\n",
       "      <td>Lav Eli</td>\n",
       "      <td>(0, 12)\\t0.007865804986752812\\n  (0, 32)\\t0....</td>\n",
       "      <td>9</td>\n",
       "      <td>ԱՐԹՈՒՐ ՄԵՍՉՅԱՆ</td>\n",
       "      <td>(0, 5244)\\t0.31779844055718776\\n  (0, 5236)\\...</td>\n",
       "      <td>ԱՌԱՋ ԳԻՏԵԻ</td>\n",
       "      <td>False</td>\n",
       "    </tr>\n",
       "    <tr>\n",
       "      <th>...</th>\n",
       "      <td>...</td>\n",
       "      <td>...</td>\n",
       "      <td>...</td>\n",
       "      <td>...</td>\n",
       "      <td>...</td>\n",
       "      <td>...</td>\n",
       "      <td>...</td>\n",
       "    </tr>\n",
       "    <tr>\n",
       "      <th>9115</th>\n",
       "      <td>Սիրուշո</td>\n",
       "      <td>(0, 15)\\t0.009929488432933562\\n  (0, 18)\\t0....</td>\n",
       "      <td>25</td>\n",
       "      <td>Mi Qani Hogi</td>\n",
       "      <td>(0, 5230)\\t0.12717770501276457\\n  (0, 5215)\\...</td>\n",
       "      <td>Chanapar</td>\n",
       "      <td>False</td>\n",
       "    </tr>\n",
       "    <tr>\n",
       "      <th>9116</th>\n",
       "      <td>Սիրուշո</td>\n",
       "      <td>(0, 15)\\t0.009929488432933562\\n  (0, 18)\\t0....</td>\n",
       "      <td>25</td>\n",
       "      <td>Mi Qani Hogi</td>\n",
       "      <td>(0, 5244)\\t0.05969598557033705\\n  (0, 5239)\\...</td>\n",
       "      <td>Es Pahin</td>\n",
       "      <td>False</td>\n",
       "    </tr>\n",
       "    <tr>\n",
       "      <th>9117</th>\n",
       "      <td>Սիրուշո</td>\n",
       "      <td>(0, 15)\\t0.009929488432933562\\n  (0, 18)\\t0....</td>\n",
       "      <td>25</td>\n",
       "      <td>Mi Qani Hogi</td>\n",
       "      <td>(0, 5216)\\t0.061932050332675265\\n  (0, 5179)...</td>\n",
       "      <td>Rhyme</td>\n",
       "      <td>False</td>\n",
       "    </tr>\n",
       "    <tr>\n",
       "      <th>9118</th>\n",
       "      <td>Սիրուշո</td>\n",
       "      <td>(0, 15)\\t0.009929488432933562\\n  (0, 18)\\t0....</td>\n",
       "      <td>25</td>\n",
       "      <td>Mi Qani Hogi</td>\n",
       "      <td>(0, 5223)\\t0.3019773221844423\\n  (0, 4658)\\t...</td>\n",
       "      <td>Yes Qo Nmanei</td>\n",
       "      <td>False</td>\n",
       "    </tr>\n",
       "    <tr>\n",
       "      <th>9119</th>\n",
       "      <td>Սիրուշո</td>\n",
       "      <td>(0, 15)\\t0.009929488432933562\\n  (0, 18)\\t0....</td>\n",
       "      <td>25</td>\n",
       "      <td>Mi Qani Hogi</td>\n",
       "      <td>(0, 5218)\\t0.09373622014995521\\n  (0, 5196)\\...</td>\n",
       "      <td>Lav Jamanak</td>\n",
       "      <td>False</td>\n",
       "    </tr>\n",
       "  </tbody>\n",
       "</table>\n",
       "<p>9120 rows × 7 columns</p>\n",
       "</div>"
      ],
      "text/plain": [
       "     Artist_artist                               tf_idf_vector_artist  songs  \\\n",
       "0          Lav Eli    (0, 12)\\t0.007865804986752812\\n  (0, 32)\\t0....      9   \n",
       "1          Lav Eli    (0, 12)\\t0.007865804986752812\\n  (0, 32)\\t0....      9   \n",
       "2          Lav Eli    (0, 12)\\t0.007865804986752812\\n  (0, 32)\\t0....      9   \n",
       "3          Lav Eli    (0, 12)\\t0.007865804986752812\\n  (0, 32)\\t0....      9   \n",
       "4          Lav Eli    (0, 12)\\t0.007865804986752812\\n  (0, 32)\\t0....      9   \n",
       "...            ...                                                ...    ...   \n",
       "9115       Սիրուշո    (0, 15)\\t0.009929488432933562\\n  (0, 18)\\t0....     25   \n",
       "9116       Սիրուշո    (0, 15)\\t0.009929488432933562\\n  (0, 18)\\t0....     25   \n",
       "9117       Սիրուշո    (0, 15)\\t0.009929488432933562\\n  (0, 18)\\t0....     25   \n",
       "9118       Սիրուշո    (0, 15)\\t0.009929488432933562\\n  (0, 18)\\t0....     25   \n",
       "9119       Սիրուշո    (0, 15)\\t0.009929488432933562\\n  (0, 18)\\t0....     25   \n",
       "\n",
       "         Artist_song                                 tf_idf_vector_song  \\\n",
       "0     ԱՐԹՈՒՐ ՄԵՍՉՅԱՆ    (0, 5123)\\t0.11227978102984074\\n  (0, 5087)\\...   \n",
       "1     ԱՐԹՈՒՐ ՄԵՍՉՅԱՆ    (0, 5246)\\t0.4412385242123455\\n  (0, 5236)\\t...   \n",
       "2     ԱՐԹՈՒՐ ՄԵՍՉՅԱՆ    (0, 5230)\\t0.04574269091145943\\n  (0, 5199)\\...   \n",
       "3     ԱՐԹՈՒՐ ՄԵՍՉՅԱՆ    (0, 5236)\\t0.12427558296283031\\n  (0, 5234)\\...   \n",
       "4     ԱՐԹՈՒՐ ՄԵՍՉՅԱՆ    (0, 5244)\\t0.31779844055718776\\n  (0, 5236)\\...   \n",
       "...              ...                                                ...   \n",
       "9115    Mi Qani Hogi    (0, 5230)\\t0.12717770501276457\\n  (0, 5215)\\...   \n",
       "9116    Mi Qani Hogi    (0, 5244)\\t0.05969598557033705\\n  (0, 5239)\\...   \n",
       "9117    Mi Qani Hogi    (0, 5216)\\t0.061932050332675265\\n  (0, 5179)...   \n",
       "9118    Mi Qani Hogi    (0, 5223)\\t0.3019773221844423\\n  (0, 4658)\\t...   \n",
       "9119    Mi Qani Hogi    (0, 5218)\\t0.09373622014995521\\n  (0, 5196)\\...   \n",
       "\n",
       "                        Song  same_artist  \n",
       "0                ԱՀԱ ԵՎ ՎԵՐՋ        False  \n",
       "1                  ԱՄԵՆԸ ՁԵԶ        False  \n",
       "2     ԱՆԱՌԱԿ ՈՐԴՈՒ ՎԵՐԱԴԱՐՁԸ        False  \n",
       "3              ԱՇԽԱՐՀԻ ՑԱՎՈՎ        False  \n",
       "4                 ԱՌԱՋ ԳԻՏԵԻ        False  \n",
       "...                      ...          ...  \n",
       "9115                Chanapar        False  \n",
       "9116                Es Pahin        False  \n",
       "9117                   Rhyme        False  \n",
       "9118           Yes Qo Nmanei        False  \n",
       "9119             Lav Jamanak        False  \n",
       "\n",
       "[9120 rows x 7 columns]"
      ]
     },
     "execution_count": 97,
     "metadata": {},
     "output_type": "execute_result"
    }
   ],
   "source": [
    "artist_song_filter_df"
   ]
  },
  {
   "cell_type": "code",
   "execution_count": 26,
   "metadata": {
    "colab": {
     "base_uri": "https://localhost:8080/"
    },
    "id": "Wfj7k7_CxSCU",
    "outputId": "850b73b7-326c-45d6-d9b6-cd3a6879c898"
   },
   "outputs": [
    {
     "name": "stdout",
     "output_type": "stream",
     "text": [
      "<class 'pandas.core.frame.DataFrame'>\n",
      "Int64Index: 506 entries, 0 to 542\n",
      "Data columns (total 13 columns):\n",
      " #   Column             Non-Null Count  Dtype  \n",
      "---  ------             --------------  -----  \n",
      " 0   Artist             506 non-null    object \n",
      " 1   Song               506 non-null    object \n",
      " 2   Lyrics             506 non-null    object \n",
      " 3   Translated_Lyrics  506 non-null    object \n",
      " 4   lines              506 non-null    int64  \n",
      " 5   tokens_hy          506 non-null    object \n",
      " 6   tokens_en          506 non-null    object \n",
      " 7   stems_en           506 non-null    object \n",
      " 8   n_stems_en         506 non-null    int64  \n",
      " 9   n_tokens_hy        506 non-null    int64  \n",
      " 10  stems_en_str       506 non-null    object \n",
      " 11  tf_idf_vector      506 non-null    object \n",
      " 12  tf_idf_score       506 non-null    float64\n",
      "dtypes: float64(1), int64(3), object(9)\n",
      "memory usage: 55.3+ KB\n"
     ]
    }
   ],
   "source": [
    "df.info()"
   ]
  },
  {
   "cell_type": "markdown",
   "metadata": {
    "id": "X86IVikPxSUS"
   },
   "source": [
    "<a name=\"eda\"></a>\n",
    "# EDA\n",
    "#### Number of songs, artists, and words"
   ]
  },
  {
   "cell_type": "code",
   "execution_count": 27,
   "metadata": {
    "colab": {
     "base_uri": "https://localhost:8080/",
     "height": 542
    },
    "id": "H4tHDeHSxWby",
    "outputId": "a7d1c8e1-9184-43e8-9b10-5bb00bed14a5"
   },
   "outputs": [
    {
     "data": {
      "application/vnd.plotly.v1+json": {
       "config": {
        "plotlyServerURL": "https://plot.ly"
       },
       "data": [
        {
         "alignmentgroup": "True",
         "bingroup": "x",
         "hovertemplate": "Songs=%{x}<br>count=%{y}<extra></extra>",
         "legendgroup": "",
         "marker": {
          "color": "#636efa",
          "pattern": {
           "shape": ""
          }
         },
         "name": "",
         "offsetgroup": "",
         "orientation": "v",
         "showlegend": false,
         "type": "histogram",
         "x": [
          9,
          17,
          9,
          23,
          10,
          16,
          32,
          15,
          26,
          18,
          20,
          50,
          12,
          24,
          62,
          23,
          18,
          81,
          16,
          25
         ],
         "xaxis": "x",
         "yaxis": "y"
        }
       ],
       "layout": {
        "barmode": "relative",
        "legend": {
         "tracegroupgap": 0
        },
        "template": {
         "data": {
          "bar": [
           {
            "error_x": {
             "color": "#2a3f5f"
            },
            "error_y": {
             "color": "#2a3f5f"
            },
            "marker": {
             "line": {
              "color": "#E5ECF6",
              "width": 0.5
             },
             "pattern": {
              "fillmode": "overlay",
              "size": 10,
              "solidity": 0.2
             }
            },
            "type": "bar"
           }
          ],
          "barpolar": [
           {
            "marker": {
             "line": {
              "color": "#E5ECF6",
              "width": 0.5
             },
             "pattern": {
              "fillmode": "overlay",
              "size": 10,
              "solidity": 0.2
             }
            },
            "type": "barpolar"
           }
          ],
          "carpet": [
           {
            "aaxis": {
             "endlinecolor": "#2a3f5f",
             "gridcolor": "white",
             "linecolor": "white",
             "minorgridcolor": "white",
             "startlinecolor": "#2a3f5f"
            },
            "baxis": {
             "endlinecolor": "#2a3f5f",
             "gridcolor": "white",
             "linecolor": "white",
             "minorgridcolor": "white",
             "startlinecolor": "#2a3f5f"
            },
            "type": "carpet"
           }
          ],
          "choropleth": [
           {
            "colorbar": {
             "outlinewidth": 0,
             "ticks": ""
            },
            "type": "choropleth"
           }
          ],
          "contour": [
           {
            "colorbar": {
             "outlinewidth": 0,
             "ticks": ""
            },
            "colorscale": [
             [
              0,
              "#0d0887"
             ],
             [
              0.1111111111111111,
              "#46039f"
             ],
             [
              0.2222222222222222,
              "#7201a8"
             ],
             [
              0.3333333333333333,
              "#9c179e"
             ],
             [
              0.4444444444444444,
              "#bd3786"
             ],
             [
              0.5555555555555556,
              "#d8576b"
             ],
             [
              0.6666666666666666,
              "#ed7953"
             ],
             [
              0.7777777777777778,
              "#fb9f3a"
             ],
             [
              0.8888888888888888,
              "#fdca26"
             ],
             [
              1,
              "#f0f921"
             ]
            ],
            "type": "contour"
           }
          ],
          "contourcarpet": [
           {
            "colorbar": {
             "outlinewidth": 0,
             "ticks": ""
            },
            "type": "contourcarpet"
           }
          ],
          "heatmap": [
           {
            "colorbar": {
             "outlinewidth": 0,
             "ticks": ""
            },
            "colorscale": [
             [
              0,
              "#0d0887"
             ],
             [
              0.1111111111111111,
              "#46039f"
             ],
             [
              0.2222222222222222,
              "#7201a8"
             ],
             [
              0.3333333333333333,
              "#9c179e"
             ],
             [
              0.4444444444444444,
              "#bd3786"
             ],
             [
              0.5555555555555556,
              "#d8576b"
             ],
             [
              0.6666666666666666,
              "#ed7953"
             ],
             [
              0.7777777777777778,
              "#fb9f3a"
             ],
             [
              0.8888888888888888,
              "#fdca26"
             ],
             [
              1,
              "#f0f921"
             ]
            ],
            "type": "heatmap"
           }
          ],
          "heatmapgl": [
           {
            "colorbar": {
             "outlinewidth": 0,
             "ticks": ""
            },
            "colorscale": [
             [
              0,
              "#0d0887"
             ],
             [
              0.1111111111111111,
              "#46039f"
             ],
             [
              0.2222222222222222,
              "#7201a8"
             ],
             [
              0.3333333333333333,
              "#9c179e"
             ],
             [
              0.4444444444444444,
              "#bd3786"
             ],
             [
              0.5555555555555556,
              "#d8576b"
             ],
             [
              0.6666666666666666,
              "#ed7953"
             ],
             [
              0.7777777777777778,
              "#fb9f3a"
             ],
             [
              0.8888888888888888,
              "#fdca26"
             ],
             [
              1,
              "#f0f921"
             ]
            ],
            "type": "heatmapgl"
           }
          ],
          "histogram": [
           {
            "marker": {
             "pattern": {
              "fillmode": "overlay",
              "size": 10,
              "solidity": 0.2
             }
            },
            "type": "histogram"
           }
          ],
          "histogram2d": [
           {
            "colorbar": {
             "outlinewidth": 0,
             "ticks": ""
            },
            "colorscale": [
             [
              0,
              "#0d0887"
             ],
             [
              0.1111111111111111,
              "#46039f"
             ],
             [
              0.2222222222222222,
              "#7201a8"
             ],
             [
              0.3333333333333333,
              "#9c179e"
             ],
             [
              0.4444444444444444,
              "#bd3786"
             ],
             [
              0.5555555555555556,
              "#d8576b"
             ],
             [
              0.6666666666666666,
              "#ed7953"
             ],
             [
              0.7777777777777778,
              "#fb9f3a"
             ],
             [
              0.8888888888888888,
              "#fdca26"
             ],
             [
              1,
              "#f0f921"
             ]
            ],
            "type": "histogram2d"
           }
          ],
          "histogram2dcontour": [
           {
            "colorbar": {
             "outlinewidth": 0,
             "ticks": ""
            },
            "colorscale": [
             [
              0,
              "#0d0887"
             ],
             [
              0.1111111111111111,
              "#46039f"
             ],
             [
              0.2222222222222222,
              "#7201a8"
             ],
             [
              0.3333333333333333,
              "#9c179e"
             ],
             [
              0.4444444444444444,
              "#bd3786"
             ],
             [
              0.5555555555555556,
              "#d8576b"
             ],
             [
              0.6666666666666666,
              "#ed7953"
             ],
             [
              0.7777777777777778,
              "#fb9f3a"
             ],
             [
              0.8888888888888888,
              "#fdca26"
             ],
             [
              1,
              "#f0f921"
             ]
            ],
            "type": "histogram2dcontour"
           }
          ],
          "mesh3d": [
           {
            "colorbar": {
             "outlinewidth": 0,
             "ticks": ""
            },
            "type": "mesh3d"
           }
          ],
          "parcoords": [
           {
            "line": {
             "colorbar": {
              "outlinewidth": 0,
              "ticks": ""
             }
            },
            "type": "parcoords"
           }
          ],
          "pie": [
           {
            "automargin": true,
            "type": "pie"
           }
          ],
          "scatter": [
           {
            "fillpattern": {
             "fillmode": "overlay",
             "size": 10,
             "solidity": 0.2
            },
            "type": "scatter"
           }
          ],
          "scatter3d": [
           {
            "line": {
             "colorbar": {
              "outlinewidth": 0,
              "ticks": ""
             }
            },
            "marker": {
             "colorbar": {
              "outlinewidth": 0,
              "ticks": ""
             }
            },
            "type": "scatter3d"
           }
          ],
          "scattercarpet": [
           {
            "marker": {
             "colorbar": {
              "outlinewidth": 0,
              "ticks": ""
             }
            },
            "type": "scattercarpet"
           }
          ],
          "scattergeo": [
           {
            "marker": {
             "colorbar": {
              "outlinewidth": 0,
              "ticks": ""
             }
            },
            "type": "scattergeo"
           }
          ],
          "scattergl": [
           {
            "marker": {
             "colorbar": {
              "outlinewidth": 0,
              "ticks": ""
             }
            },
            "type": "scattergl"
           }
          ],
          "scattermapbox": [
           {
            "marker": {
             "colorbar": {
              "outlinewidth": 0,
              "ticks": ""
             }
            },
            "type": "scattermapbox"
           }
          ],
          "scatterpolar": [
           {
            "marker": {
             "colorbar": {
              "outlinewidth": 0,
              "ticks": ""
             }
            },
            "type": "scatterpolar"
           }
          ],
          "scatterpolargl": [
           {
            "marker": {
             "colorbar": {
              "outlinewidth": 0,
              "ticks": ""
             }
            },
            "type": "scatterpolargl"
           }
          ],
          "scatterternary": [
           {
            "marker": {
             "colorbar": {
              "outlinewidth": 0,
              "ticks": ""
             }
            },
            "type": "scatterternary"
           }
          ],
          "surface": [
           {
            "colorbar": {
             "outlinewidth": 0,
             "ticks": ""
            },
            "colorscale": [
             [
              0,
              "#0d0887"
             ],
             [
              0.1111111111111111,
              "#46039f"
             ],
             [
              0.2222222222222222,
              "#7201a8"
             ],
             [
              0.3333333333333333,
              "#9c179e"
             ],
             [
              0.4444444444444444,
              "#bd3786"
             ],
             [
              0.5555555555555556,
              "#d8576b"
             ],
             [
              0.6666666666666666,
              "#ed7953"
             ],
             [
              0.7777777777777778,
              "#fb9f3a"
             ],
             [
              0.8888888888888888,
              "#fdca26"
             ],
             [
              1,
              "#f0f921"
             ]
            ],
            "type": "surface"
           }
          ],
          "table": [
           {
            "cells": {
             "fill": {
              "color": "#EBF0F8"
             },
             "line": {
              "color": "white"
             }
            },
            "header": {
             "fill": {
              "color": "#C8D4E3"
             },
             "line": {
              "color": "white"
             }
            },
            "type": "table"
           }
          ]
         },
         "layout": {
          "annotationdefaults": {
           "arrowcolor": "#2a3f5f",
           "arrowhead": 0,
           "arrowwidth": 1
          },
          "autotypenumbers": "strict",
          "coloraxis": {
           "colorbar": {
            "outlinewidth": 0,
            "ticks": ""
           }
          },
          "colorscale": {
           "diverging": [
            [
             0,
             "#8e0152"
            ],
            [
             0.1,
             "#c51b7d"
            ],
            [
             0.2,
             "#de77ae"
            ],
            [
             0.3,
             "#f1b6da"
            ],
            [
             0.4,
             "#fde0ef"
            ],
            [
             0.5,
             "#f7f7f7"
            ],
            [
             0.6,
             "#e6f5d0"
            ],
            [
             0.7,
             "#b8e186"
            ],
            [
             0.8,
             "#7fbc41"
            ],
            [
             0.9,
             "#4d9221"
            ],
            [
             1,
             "#276419"
            ]
           ],
           "sequential": [
            [
             0,
             "#0d0887"
            ],
            [
             0.1111111111111111,
             "#46039f"
            ],
            [
             0.2222222222222222,
             "#7201a8"
            ],
            [
             0.3333333333333333,
             "#9c179e"
            ],
            [
             0.4444444444444444,
             "#bd3786"
            ],
            [
             0.5555555555555556,
             "#d8576b"
            ],
            [
             0.6666666666666666,
             "#ed7953"
            ],
            [
             0.7777777777777778,
             "#fb9f3a"
            ],
            [
             0.8888888888888888,
             "#fdca26"
            ],
            [
             1,
             "#f0f921"
            ]
           ],
           "sequentialminus": [
            [
             0,
             "#0d0887"
            ],
            [
             0.1111111111111111,
             "#46039f"
            ],
            [
             0.2222222222222222,
             "#7201a8"
            ],
            [
             0.3333333333333333,
             "#9c179e"
            ],
            [
             0.4444444444444444,
             "#bd3786"
            ],
            [
             0.5555555555555556,
             "#d8576b"
            ],
            [
             0.6666666666666666,
             "#ed7953"
            ],
            [
             0.7777777777777778,
             "#fb9f3a"
            ],
            [
             0.8888888888888888,
             "#fdca26"
            ],
            [
             1,
             "#f0f921"
            ]
           ]
          },
          "colorway": [
           "#636efa",
           "#EF553B",
           "#00cc96",
           "#ab63fa",
           "#FFA15A",
           "#19d3f3",
           "#FF6692",
           "#B6E880",
           "#FF97FF",
           "#FECB52"
          ],
          "font": {
           "color": "#2a3f5f"
          },
          "geo": {
           "bgcolor": "white",
           "lakecolor": "white",
           "landcolor": "#E5ECF6",
           "showlakes": true,
           "showland": true,
           "subunitcolor": "white"
          },
          "hoverlabel": {
           "align": "left"
          },
          "hovermode": "closest",
          "mapbox": {
           "style": "light"
          },
          "paper_bgcolor": "white",
          "plot_bgcolor": "#E5ECF6",
          "polar": {
           "angularaxis": {
            "gridcolor": "white",
            "linecolor": "white",
            "ticks": ""
           },
           "bgcolor": "#E5ECF6",
           "radialaxis": {
            "gridcolor": "white",
            "linecolor": "white",
            "ticks": ""
           }
          },
          "scene": {
           "xaxis": {
            "backgroundcolor": "#E5ECF6",
            "gridcolor": "white",
            "gridwidth": 2,
            "linecolor": "white",
            "showbackground": true,
            "ticks": "",
            "zerolinecolor": "white"
           },
           "yaxis": {
            "backgroundcolor": "#E5ECF6",
            "gridcolor": "white",
            "gridwidth": 2,
            "linecolor": "white",
            "showbackground": true,
            "ticks": "",
            "zerolinecolor": "white"
           },
           "zaxis": {
            "backgroundcolor": "#E5ECF6",
            "gridcolor": "white",
            "gridwidth": 2,
            "linecolor": "white",
            "showbackground": true,
            "ticks": "",
            "zerolinecolor": "white"
           }
          },
          "shapedefaults": {
           "line": {
            "color": "#2a3f5f"
           }
          },
          "ternary": {
           "aaxis": {
            "gridcolor": "white",
            "linecolor": "white",
            "ticks": ""
           },
           "baxis": {
            "gridcolor": "white",
            "linecolor": "white",
            "ticks": ""
           },
           "bgcolor": "#E5ECF6",
           "caxis": {
            "gridcolor": "white",
            "linecolor": "white",
            "ticks": ""
           }
          },
          "title": {
           "x": 0.05
          },
          "xaxis": {
           "automargin": true,
           "gridcolor": "white",
           "linecolor": "white",
           "ticks": "",
           "title": {
            "standoff": 15
           },
           "zerolinecolor": "white",
           "zerolinewidth": 2
          },
          "yaxis": {
           "automargin": true,
           "gridcolor": "white",
           "linecolor": "white",
           "ticks": "",
           "title": {
            "standoff": 15
           },
           "zerolinecolor": "white",
           "zerolinewidth": 2
          }
         }
        },
        "title": {
         "text": "Songs per artist"
        },
        "xaxis": {
         "anchor": "y",
         "domain": [
          0,
          1
         ],
         "title": {
          "text": "Songs"
         }
        },
        "yaxis": {
         "anchor": "x",
         "domain": [
          0,
          1
         ],
         "title": {
          "text": "count"
         }
        }
       }
      },
      "text/html": [
       "<div>                            <div id=\"2da45a2b-74a5-4259-ab81-959801e9a234\" class=\"plotly-graph-div\" style=\"height:525px; width:100%;\"></div>            <script type=\"text/javascript\">                require([\"plotly\"], function(Plotly) {                    window.PLOTLYENV=window.PLOTLYENV || {};                                    if (document.getElementById(\"2da45a2b-74a5-4259-ab81-959801e9a234\")) {                    Plotly.newPlot(                        \"2da45a2b-74a5-4259-ab81-959801e9a234\",                        [{\"alignmentgroup\":\"True\",\"bingroup\":\"x\",\"hovertemplate\":\"Songs=%{x}<br>count=%{y}<extra></extra>\",\"legendgroup\":\"\",\"marker\":{\"color\":\"#636efa\",\"pattern\":{\"shape\":\"\"}},\"name\":\"\",\"offsetgroup\":\"\",\"orientation\":\"v\",\"showlegend\":false,\"x\":[9,17,9,23,10,16,32,15,26,18,20,50,12,24,62,23,18,81,16,25],\"xaxis\":\"x\",\"yaxis\":\"y\",\"type\":\"histogram\"}],                        {\"template\":{\"data\":{\"histogram2dcontour\":[{\"type\":\"histogram2dcontour\",\"colorbar\":{\"outlinewidth\":0,\"ticks\":\"\"},\"colorscale\":[[0.0,\"#0d0887\"],[0.1111111111111111,\"#46039f\"],[0.2222222222222222,\"#7201a8\"],[0.3333333333333333,\"#9c179e\"],[0.4444444444444444,\"#bd3786\"],[0.5555555555555556,\"#d8576b\"],[0.6666666666666666,\"#ed7953\"],[0.7777777777777778,\"#fb9f3a\"],[0.8888888888888888,\"#fdca26\"],[1.0,\"#f0f921\"]]}],\"choropleth\":[{\"type\":\"choropleth\",\"colorbar\":{\"outlinewidth\":0,\"ticks\":\"\"}}],\"histogram2d\":[{\"type\":\"histogram2d\",\"colorbar\":{\"outlinewidth\":0,\"ticks\":\"\"},\"colorscale\":[[0.0,\"#0d0887\"],[0.1111111111111111,\"#46039f\"],[0.2222222222222222,\"#7201a8\"],[0.3333333333333333,\"#9c179e\"],[0.4444444444444444,\"#bd3786\"],[0.5555555555555556,\"#d8576b\"],[0.6666666666666666,\"#ed7953\"],[0.7777777777777778,\"#fb9f3a\"],[0.8888888888888888,\"#fdca26\"],[1.0,\"#f0f921\"]]}],\"heatmap\":[{\"type\":\"heatmap\",\"colorbar\":{\"outlinewidth\":0,\"ticks\":\"\"},\"colorscale\":[[0.0,\"#0d0887\"],[0.1111111111111111,\"#46039f\"],[0.2222222222222222,\"#7201a8\"],[0.3333333333333333,\"#9c179e\"],[0.4444444444444444,\"#bd3786\"],[0.5555555555555556,\"#d8576b\"],[0.6666666666666666,\"#ed7953\"],[0.7777777777777778,\"#fb9f3a\"],[0.8888888888888888,\"#fdca26\"],[1.0,\"#f0f921\"]]}],\"heatmapgl\":[{\"type\":\"heatmapgl\",\"colorbar\":{\"outlinewidth\":0,\"ticks\":\"\"},\"colorscale\":[[0.0,\"#0d0887\"],[0.1111111111111111,\"#46039f\"],[0.2222222222222222,\"#7201a8\"],[0.3333333333333333,\"#9c179e\"],[0.4444444444444444,\"#bd3786\"],[0.5555555555555556,\"#d8576b\"],[0.6666666666666666,\"#ed7953\"],[0.7777777777777778,\"#fb9f3a\"],[0.8888888888888888,\"#fdca26\"],[1.0,\"#f0f921\"]]}],\"contourcarpet\":[{\"type\":\"contourcarpet\",\"colorbar\":{\"outlinewidth\":0,\"ticks\":\"\"}}],\"contour\":[{\"type\":\"contour\",\"colorbar\":{\"outlinewidth\":0,\"ticks\":\"\"},\"colorscale\":[[0.0,\"#0d0887\"],[0.1111111111111111,\"#46039f\"],[0.2222222222222222,\"#7201a8\"],[0.3333333333333333,\"#9c179e\"],[0.4444444444444444,\"#bd3786\"],[0.5555555555555556,\"#d8576b\"],[0.6666666666666666,\"#ed7953\"],[0.7777777777777778,\"#fb9f3a\"],[0.8888888888888888,\"#fdca26\"],[1.0,\"#f0f921\"]]}],\"surface\":[{\"type\":\"surface\",\"colorbar\":{\"outlinewidth\":0,\"ticks\":\"\"},\"colorscale\":[[0.0,\"#0d0887\"],[0.1111111111111111,\"#46039f\"],[0.2222222222222222,\"#7201a8\"],[0.3333333333333333,\"#9c179e\"],[0.4444444444444444,\"#bd3786\"],[0.5555555555555556,\"#d8576b\"],[0.6666666666666666,\"#ed7953\"],[0.7777777777777778,\"#fb9f3a\"],[0.8888888888888888,\"#fdca26\"],[1.0,\"#f0f921\"]]}],\"mesh3d\":[{\"type\":\"mesh3d\",\"colorbar\":{\"outlinewidth\":0,\"ticks\":\"\"}}],\"scatter\":[{\"fillpattern\":{\"fillmode\":\"overlay\",\"size\":10,\"solidity\":0.2},\"type\":\"scatter\"}],\"parcoords\":[{\"type\":\"parcoords\",\"line\":{\"colorbar\":{\"outlinewidth\":0,\"ticks\":\"\"}}}],\"scatterpolargl\":[{\"type\":\"scatterpolargl\",\"marker\":{\"colorbar\":{\"outlinewidth\":0,\"ticks\":\"\"}}}],\"bar\":[{\"error_x\":{\"color\":\"#2a3f5f\"},\"error_y\":{\"color\":\"#2a3f5f\"},\"marker\":{\"line\":{\"color\":\"#E5ECF6\",\"width\":0.5},\"pattern\":{\"fillmode\":\"overlay\",\"size\":10,\"solidity\":0.2}},\"type\":\"bar\"}],\"scattergeo\":[{\"type\":\"scattergeo\",\"marker\":{\"colorbar\":{\"outlinewidth\":0,\"ticks\":\"\"}}}],\"scatterpolar\":[{\"type\":\"scatterpolar\",\"marker\":{\"colorbar\":{\"outlinewidth\":0,\"ticks\":\"\"}}}],\"histogram\":[{\"marker\":{\"pattern\":{\"fillmode\":\"overlay\",\"size\":10,\"solidity\":0.2}},\"type\":\"histogram\"}],\"scattergl\":[{\"type\":\"scattergl\",\"marker\":{\"colorbar\":{\"outlinewidth\":0,\"ticks\":\"\"}}}],\"scatter3d\":[{\"type\":\"scatter3d\",\"line\":{\"colorbar\":{\"outlinewidth\":0,\"ticks\":\"\"}},\"marker\":{\"colorbar\":{\"outlinewidth\":0,\"ticks\":\"\"}}}],\"scattermapbox\":[{\"type\":\"scattermapbox\",\"marker\":{\"colorbar\":{\"outlinewidth\":0,\"ticks\":\"\"}}}],\"scatterternary\":[{\"type\":\"scatterternary\",\"marker\":{\"colorbar\":{\"outlinewidth\":0,\"ticks\":\"\"}}}],\"scattercarpet\":[{\"type\":\"scattercarpet\",\"marker\":{\"colorbar\":{\"outlinewidth\":0,\"ticks\":\"\"}}}],\"carpet\":[{\"aaxis\":{\"endlinecolor\":\"#2a3f5f\",\"gridcolor\":\"white\",\"linecolor\":\"white\",\"minorgridcolor\":\"white\",\"startlinecolor\":\"#2a3f5f\"},\"baxis\":{\"endlinecolor\":\"#2a3f5f\",\"gridcolor\":\"white\",\"linecolor\":\"white\",\"minorgridcolor\":\"white\",\"startlinecolor\":\"#2a3f5f\"},\"type\":\"carpet\"}],\"table\":[{\"cells\":{\"fill\":{\"color\":\"#EBF0F8\"},\"line\":{\"color\":\"white\"}},\"header\":{\"fill\":{\"color\":\"#C8D4E3\"},\"line\":{\"color\":\"white\"}},\"type\":\"table\"}],\"barpolar\":[{\"marker\":{\"line\":{\"color\":\"#E5ECF6\",\"width\":0.5},\"pattern\":{\"fillmode\":\"overlay\",\"size\":10,\"solidity\":0.2}},\"type\":\"barpolar\"}],\"pie\":[{\"automargin\":true,\"type\":\"pie\"}]},\"layout\":{\"autotypenumbers\":\"strict\",\"colorway\":[\"#636efa\",\"#EF553B\",\"#00cc96\",\"#ab63fa\",\"#FFA15A\",\"#19d3f3\",\"#FF6692\",\"#B6E880\",\"#FF97FF\",\"#FECB52\"],\"font\":{\"color\":\"#2a3f5f\"},\"hovermode\":\"closest\",\"hoverlabel\":{\"align\":\"left\"},\"paper_bgcolor\":\"white\",\"plot_bgcolor\":\"#E5ECF6\",\"polar\":{\"bgcolor\":\"#E5ECF6\",\"angularaxis\":{\"gridcolor\":\"white\",\"linecolor\":\"white\",\"ticks\":\"\"},\"radialaxis\":{\"gridcolor\":\"white\",\"linecolor\":\"white\",\"ticks\":\"\"}},\"ternary\":{\"bgcolor\":\"#E5ECF6\",\"aaxis\":{\"gridcolor\":\"white\",\"linecolor\":\"white\",\"ticks\":\"\"},\"baxis\":{\"gridcolor\":\"white\",\"linecolor\":\"white\",\"ticks\":\"\"},\"caxis\":{\"gridcolor\":\"white\",\"linecolor\":\"white\",\"ticks\":\"\"}},\"coloraxis\":{\"colorbar\":{\"outlinewidth\":0,\"ticks\":\"\"}},\"colorscale\":{\"sequential\":[[0.0,\"#0d0887\"],[0.1111111111111111,\"#46039f\"],[0.2222222222222222,\"#7201a8\"],[0.3333333333333333,\"#9c179e\"],[0.4444444444444444,\"#bd3786\"],[0.5555555555555556,\"#d8576b\"],[0.6666666666666666,\"#ed7953\"],[0.7777777777777778,\"#fb9f3a\"],[0.8888888888888888,\"#fdca26\"],[1.0,\"#f0f921\"]],\"sequentialminus\":[[0.0,\"#0d0887\"],[0.1111111111111111,\"#46039f\"],[0.2222222222222222,\"#7201a8\"],[0.3333333333333333,\"#9c179e\"],[0.4444444444444444,\"#bd3786\"],[0.5555555555555556,\"#d8576b\"],[0.6666666666666666,\"#ed7953\"],[0.7777777777777778,\"#fb9f3a\"],[0.8888888888888888,\"#fdca26\"],[1.0,\"#f0f921\"]],\"diverging\":[[0,\"#8e0152\"],[0.1,\"#c51b7d\"],[0.2,\"#de77ae\"],[0.3,\"#f1b6da\"],[0.4,\"#fde0ef\"],[0.5,\"#f7f7f7\"],[0.6,\"#e6f5d0\"],[0.7,\"#b8e186\"],[0.8,\"#7fbc41\"],[0.9,\"#4d9221\"],[1,\"#276419\"]]},\"xaxis\":{\"gridcolor\":\"white\",\"linecolor\":\"white\",\"ticks\":\"\",\"title\":{\"standoff\":15},\"zerolinecolor\":\"white\",\"automargin\":true,\"zerolinewidth\":2},\"yaxis\":{\"gridcolor\":\"white\",\"linecolor\":\"white\",\"ticks\":\"\",\"title\":{\"standoff\":15},\"zerolinecolor\":\"white\",\"automargin\":true,\"zerolinewidth\":2},\"scene\":{\"xaxis\":{\"backgroundcolor\":\"#E5ECF6\",\"gridcolor\":\"white\",\"linecolor\":\"white\",\"showbackground\":true,\"ticks\":\"\",\"zerolinecolor\":\"white\",\"gridwidth\":2},\"yaxis\":{\"backgroundcolor\":\"#E5ECF6\",\"gridcolor\":\"white\",\"linecolor\":\"white\",\"showbackground\":true,\"ticks\":\"\",\"zerolinecolor\":\"white\",\"gridwidth\":2},\"zaxis\":{\"backgroundcolor\":\"#E5ECF6\",\"gridcolor\":\"white\",\"linecolor\":\"white\",\"showbackground\":true,\"ticks\":\"\",\"zerolinecolor\":\"white\",\"gridwidth\":2}},\"shapedefaults\":{\"line\":{\"color\":\"#2a3f5f\"}},\"annotationdefaults\":{\"arrowcolor\":\"#2a3f5f\",\"arrowhead\":0,\"arrowwidth\":1},\"geo\":{\"bgcolor\":\"white\",\"landcolor\":\"#E5ECF6\",\"subunitcolor\":\"white\",\"showland\":true,\"showlakes\":true,\"lakecolor\":\"white\"},\"title\":{\"x\":0.05},\"mapbox\":{\"style\":\"light\"}}},\"xaxis\":{\"anchor\":\"y\",\"domain\":[0.0,1.0],\"title\":{\"text\":\"Songs\"}},\"yaxis\":{\"anchor\":\"x\",\"domain\":[0.0,1.0],\"title\":{\"text\":\"count\"}},\"legend\":{\"tracegroupgap\":0},\"title\":{\"text\":\"Songs per artist\"},\"barmode\":\"relative\"},                        {\"responsive\": true}                    ).then(function(){\n",
       "                            \n",
       "var gd = document.getElementById('2da45a2b-74a5-4259-ab81-959801e9a234');\n",
       "var x = new MutationObserver(function (mutations, observer) {{\n",
       "        var display = window.getComputedStyle(gd).display;\n",
       "        if (!display || display === 'none') {{\n",
       "            console.log([gd, 'removed!']);\n",
       "            Plotly.purge(gd);\n",
       "            observer.disconnect();\n",
       "        }}\n",
       "}});\n",
       "\n",
       "// Listen for the removal of the full notebook cells\n",
       "var notebookContainer = gd.closest('#notebook-container');\n",
       "if (notebookContainer) {{\n",
       "    x.observe(notebookContainer, {childList: true});\n",
       "}}\n",
       "\n",
       "// Listen for the clearing of the current output cell\n",
       "var outputEl = gd.closest('.output');\n",
       "if (outputEl) {{\n",
       "    x.observe(outputEl, {childList: true});\n",
       "}}\n",
       "\n",
       "                        })                };                });            </script>        </div>"
      ]
     },
     "metadata": {},
     "output_type": "display_data"
    }
   ],
   "source": [
    "song_count_df = df.groupby('Artist')[['Song']].count()\n",
    "fig = px.histogram(song_count_df, x='Song', title='Songs per artist', labels={'Song': 'Songs'})\n",
    "fig.show()"
   ]
  },
  {
   "cell_type": "code",
   "execution_count": 28,
   "metadata": {
    "colab": {
     "base_uri": "https://localhost:8080/",
     "height": 542
    },
    "id": "N8YAT_jBxrLk",
    "outputId": "32046b0f-82cf-4017-fc3a-73ae8295ee71"
   },
   "outputs": [
    {
     "data": {
      "application/vnd.plotly.v1+json": {
       "config": {
        "plotlyServerURL": "https://plot.ly"
       },
       "data": [
        {
         "alignmentgroup": "True",
         "bingroup": "x",
         "hovertemplate": "n_stems_en=%{x}<br>count=%{y}<extra></extra>",
         "legendgroup": "",
         "marker": {
          "color": "#636efa",
          "pattern": {
           "shape": ""
          }
         },
         "name": "",
         "offsetgroup": "",
         "orientation": "v",
         "showlegend": false,
         "type": "histogram",
         "x": [
          128,
          84,
          76,
          71,
          69,
          44,
          60,
          132,
          44,
          105,
          41,
          62,
          91,
          111,
          52,
          58,
          64,
          95,
          106,
          88,
          106,
          57,
          130,
          149,
          55,
          84,
          95,
          182,
          199,
          116,
          108,
          113,
          52,
          118,
          20,
          73,
          108,
          61,
          69,
          58,
          99,
          89,
          138,
          85,
          69,
          84,
          70,
          161,
          195,
          61,
          124,
          78,
          113,
          94,
          156,
          120,
          64,
          57,
          54,
          68,
          103,
          53,
          146,
          135,
          91,
          118,
          95,
          105,
          28,
          60,
          63,
          66,
          90,
          58,
          105,
          92,
          64,
          64,
          113,
          56,
          54,
          94,
          89,
          68,
          79,
          77,
          112,
          99,
          153,
          113,
          116,
          54,
          60,
          124,
          55,
          50,
          148,
          113,
          67,
          109,
          83,
          67,
          93,
          96,
          50,
          68,
          80,
          124,
          84,
          44,
          54,
          115,
          88,
          172,
          117,
          134,
          139,
          64,
          104,
          44,
          59,
          22,
          18,
          19,
          34,
          25,
          25,
          48,
          46,
          92,
          67,
          123,
          108,
          102,
          95,
          103,
          53,
          100,
          114,
          64,
          89,
          118,
          34,
          104,
          77,
          89,
          65,
          79,
          61,
          42,
          69,
          73,
          43,
          65,
          76,
          54,
          43,
          87,
          64,
          148,
          63,
          70,
          47,
          53,
          42,
          46,
          35,
          37,
          47,
          38,
          93,
          64,
          35,
          70,
          72,
          59,
          45,
          96,
          58,
          35,
          26,
          47,
          31,
          42,
          54,
          43,
          45,
          93,
          72,
          52,
          38,
          36,
          37,
          45,
          33,
          60,
          40,
          53,
          49,
          35,
          60,
          48,
          62,
          88,
          55,
          60,
          40,
          68,
          99,
          271,
          210,
          244,
          175,
          138,
          297,
          278,
          269,
          275,
          151,
          224,
          117,
          151,
          162,
          110,
          91,
          103,
          54,
          79,
          78,
          71,
          93,
          75,
          51,
          48,
          61,
          73,
          94,
          167,
          63,
          8,
          67,
          64,
          77,
          94,
          79,
          175,
          119,
          85,
          86,
          88,
          52,
          105,
          51,
          50,
          38,
          74,
          66,
          85,
          93,
          67,
          111,
          72,
          57,
          67,
          154,
          81,
          38,
          78,
          60,
          135,
          34,
          140,
          52,
          49,
          114,
          74,
          116,
          100,
          78,
          114,
          140,
          126,
          120,
          66,
          134,
          86,
          85,
          137,
          12,
          91,
          43,
          142,
          92,
          136,
          46,
          131,
          111,
          43,
          97,
          105,
          90,
          57,
          79,
          118,
          30,
          95,
          79,
          81,
          67,
          4,
          67,
          174,
          62,
          107,
          40,
          47,
          76,
          117,
          90,
          65,
          84,
          89,
          68,
          59,
          13,
          171,
          93,
          122,
          81,
          76,
          126,
          170,
          124,
          99,
          166,
          115,
          97,
          66,
          74,
          74,
          72,
          85,
          141,
          112,
          80,
          155,
          57,
          134,
          114,
          76,
          67,
          136,
          54,
          99,
          121,
          65,
          42,
          110,
          73,
          102,
          73,
          79,
          152,
          58,
          65,
          50,
          90,
          45,
          60,
          129,
          71,
          67,
          90,
          67,
          76,
          39,
          113,
          34,
          139,
          31,
          91,
          38,
          62,
          62,
          136,
          101,
          63,
          95,
          82,
          107,
          68,
          30,
          49,
          108,
          31,
          145,
          114,
          73,
          65,
          64,
          76,
          83,
          7,
          37,
          46,
          37,
          65,
          62,
          54,
          77,
          61,
          72,
          62,
          48,
          42,
          67,
          35,
          71,
          68,
          58,
          57,
          77,
          47,
          50,
          70,
          115,
          114,
          84,
          74,
          91,
          54,
          100,
          47,
          74,
          96,
          81,
          72,
          40,
          82,
          107,
          70,
          59,
          122,
          44,
          62,
          72,
          73,
          35,
          66,
          78,
          183,
          84,
          88,
          71,
          142,
          151,
          93,
          60,
          147,
          105,
          88,
          140,
          69,
          94,
          55,
          137,
          78,
          61,
          129,
          164,
          66,
          6,
          48,
          73,
          68,
          96,
          77,
          111,
          71,
          119,
          110,
          109,
          108,
          88,
          92,
          69,
          147,
          94,
          87,
          174,
          70,
          44,
          89,
          64,
          99,
          84,
          105,
          103,
          60,
          102,
          75,
          100,
          81,
          85,
          34,
          76
         ],
         "xaxis": "x",
         "yaxis": "y"
        }
       ],
       "layout": {
        "barmode": "relative",
        "legend": {
         "tracegroupgap": 0
        },
        "template": {
         "data": {
          "bar": [
           {
            "error_x": {
             "color": "#2a3f5f"
            },
            "error_y": {
             "color": "#2a3f5f"
            },
            "marker": {
             "line": {
              "color": "#E5ECF6",
              "width": 0.5
             },
             "pattern": {
              "fillmode": "overlay",
              "size": 10,
              "solidity": 0.2
             }
            },
            "type": "bar"
           }
          ],
          "barpolar": [
           {
            "marker": {
             "line": {
              "color": "#E5ECF6",
              "width": 0.5
             },
             "pattern": {
              "fillmode": "overlay",
              "size": 10,
              "solidity": 0.2
             }
            },
            "type": "barpolar"
           }
          ],
          "carpet": [
           {
            "aaxis": {
             "endlinecolor": "#2a3f5f",
             "gridcolor": "white",
             "linecolor": "white",
             "minorgridcolor": "white",
             "startlinecolor": "#2a3f5f"
            },
            "baxis": {
             "endlinecolor": "#2a3f5f",
             "gridcolor": "white",
             "linecolor": "white",
             "minorgridcolor": "white",
             "startlinecolor": "#2a3f5f"
            },
            "type": "carpet"
           }
          ],
          "choropleth": [
           {
            "colorbar": {
             "outlinewidth": 0,
             "ticks": ""
            },
            "type": "choropleth"
           }
          ],
          "contour": [
           {
            "colorbar": {
             "outlinewidth": 0,
             "ticks": ""
            },
            "colorscale": [
             [
              0,
              "#0d0887"
             ],
             [
              0.1111111111111111,
              "#46039f"
             ],
             [
              0.2222222222222222,
              "#7201a8"
             ],
             [
              0.3333333333333333,
              "#9c179e"
             ],
             [
              0.4444444444444444,
              "#bd3786"
             ],
             [
              0.5555555555555556,
              "#d8576b"
             ],
             [
              0.6666666666666666,
              "#ed7953"
             ],
             [
              0.7777777777777778,
              "#fb9f3a"
             ],
             [
              0.8888888888888888,
              "#fdca26"
             ],
             [
              1,
              "#f0f921"
             ]
            ],
            "type": "contour"
           }
          ],
          "contourcarpet": [
           {
            "colorbar": {
             "outlinewidth": 0,
             "ticks": ""
            },
            "type": "contourcarpet"
           }
          ],
          "heatmap": [
           {
            "colorbar": {
             "outlinewidth": 0,
             "ticks": ""
            },
            "colorscale": [
             [
              0,
              "#0d0887"
             ],
             [
              0.1111111111111111,
              "#46039f"
             ],
             [
              0.2222222222222222,
              "#7201a8"
             ],
             [
              0.3333333333333333,
              "#9c179e"
             ],
             [
              0.4444444444444444,
              "#bd3786"
             ],
             [
              0.5555555555555556,
              "#d8576b"
             ],
             [
              0.6666666666666666,
              "#ed7953"
             ],
             [
              0.7777777777777778,
              "#fb9f3a"
             ],
             [
              0.8888888888888888,
              "#fdca26"
             ],
             [
              1,
              "#f0f921"
             ]
            ],
            "type": "heatmap"
           }
          ],
          "heatmapgl": [
           {
            "colorbar": {
             "outlinewidth": 0,
             "ticks": ""
            },
            "colorscale": [
             [
              0,
              "#0d0887"
             ],
             [
              0.1111111111111111,
              "#46039f"
             ],
             [
              0.2222222222222222,
              "#7201a8"
             ],
             [
              0.3333333333333333,
              "#9c179e"
             ],
             [
              0.4444444444444444,
              "#bd3786"
             ],
             [
              0.5555555555555556,
              "#d8576b"
             ],
             [
              0.6666666666666666,
              "#ed7953"
             ],
             [
              0.7777777777777778,
              "#fb9f3a"
             ],
             [
              0.8888888888888888,
              "#fdca26"
             ],
             [
              1,
              "#f0f921"
             ]
            ],
            "type": "heatmapgl"
           }
          ],
          "histogram": [
           {
            "marker": {
             "pattern": {
              "fillmode": "overlay",
              "size": 10,
              "solidity": 0.2
             }
            },
            "type": "histogram"
           }
          ],
          "histogram2d": [
           {
            "colorbar": {
             "outlinewidth": 0,
             "ticks": ""
            },
            "colorscale": [
             [
              0,
              "#0d0887"
             ],
             [
              0.1111111111111111,
              "#46039f"
             ],
             [
              0.2222222222222222,
              "#7201a8"
             ],
             [
              0.3333333333333333,
              "#9c179e"
             ],
             [
              0.4444444444444444,
              "#bd3786"
             ],
             [
              0.5555555555555556,
              "#d8576b"
             ],
             [
              0.6666666666666666,
              "#ed7953"
             ],
             [
              0.7777777777777778,
              "#fb9f3a"
             ],
             [
              0.8888888888888888,
              "#fdca26"
             ],
             [
              1,
              "#f0f921"
             ]
            ],
            "type": "histogram2d"
           }
          ],
          "histogram2dcontour": [
           {
            "colorbar": {
             "outlinewidth": 0,
             "ticks": ""
            },
            "colorscale": [
             [
              0,
              "#0d0887"
             ],
             [
              0.1111111111111111,
              "#46039f"
             ],
             [
              0.2222222222222222,
              "#7201a8"
             ],
             [
              0.3333333333333333,
              "#9c179e"
             ],
             [
              0.4444444444444444,
              "#bd3786"
             ],
             [
              0.5555555555555556,
              "#d8576b"
             ],
             [
              0.6666666666666666,
              "#ed7953"
             ],
             [
              0.7777777777777778,
              "#fb9f3a"
             ],
             [
              0.8888888888888888,
              "#fdca26"
             ],
             [
              1,
              "#f0f921"
             ]
            ],
            "type": "histogram2dcontour"
           }
          ],
          "mesh3d": [
           {
            "colorbar": {
             "outlinewidth": 0,
             "ticks": ""
            },
            "type": "mesh3d"
           }
          ],
          "parcoords": [
           {
            "line": {
             "colorbar": {
              "outlinewidth": 0,
              "ticks": ""
             }
            },
            "type": "parcoords"
           }
          ],
          "pie": [
           {
            "automargin": true,
            "type": "pie"
           }
          ],
          "scatter": [
           {
            "fillpattern": {
             "fillmode": "overlay",
             "size": 10,
             "solidity": 0.2
            },
            "type": "scatter"
           }
          ],
          "scatter3d": [
           {
            "line": {
             "colorbar": {
              "outlinewidth": 0,
              "ticks": ""
             }
            },
            "marker": {
             "colorbar": {
              "outlinewidth": 0,
              "ticks": ""
             }
            },
            "type": "scatter3d"
           }
          ],
          "scattercarpet": [
           {
            "marker": {
             "colorbar": {
              "outlinewidth": 0,
              "ticks": ""
             }
            },
            "type": "scattercarpet"
           }
          ],
          "scattergeo": [
           {
            "marker": {
             "colorbar": {
              "outlinewidth": 0,
              "ticks": ""
             }
            },
            "type": "scattergeo"
           }
          ],
          "scattergl": [
           {
            "marker": {
             "colorbar": {
              "outlinewidth": 0,
              "ticks": ""
             }
            },
            "type": "scattergl"
           }
          ],
          "scattermapbox": [
           {
            "marker": {
             "colorbar": {
              "outlinewidth": 0,
              "ticks": ""
             }
            },
            "type": "scattermapbox"
           }
          ],
          "scatterpolar": [
           {
            "marker": {
             "colorbar": {
              "outlinewidth": 0,
              "ticks": ""
             }
            },
            "type": "scatterpolar"
           }
          ],
          "scatterpolargl": [
           {
            "marker": {
             "colorbar": {
              "outlinewidth": 0,
              "ticks": ""
             }
            },
            "type": "scatterpolargl"
           }
          ],
          "scatterternary": [
           {
            "marker": {
             "colorbar": {
              "outlinewidth": 0,
              "ticks": ""
             }
            },
            "type": "scatterternary"
           }
          ],
          "surface": [
           {
            "colorbar": {
             "outlinewidth": 0,
             "ticks": ""
            },
            "colorscale": [
             [
              0,
              "#0d0887"
             ],
             [
              0.1111111111111111,
              "#46039f"
             ],
             [
              0.2222222222222222,
              "#7201a8"
             ],
             [
              0.3333333333333333,
              "#9c179e"
             ],
             [
              0.4444444444444444,
              "#bd3786"
             ],
             [
              0.5555555555555556,
              "#d8576b"
             ],
             [
              0.6666666666666666,
              "#ed7953"
             ],
             [
              0.7777777777777778,
              "#fb9f3a"
             ],
             [
              0.8888888888888888,
              "#fdca26"
             ],
             [
              1,
              "#f0f921"
             ]
            ],
            "type": "surface"
           }
          ],
          "table": [
           {
            "cells": {
             "fill": {
              "color": "#EBF0F8"
             },
             "line": {
              "color": "white"
             }
            },
            "header": {
             "fill": {
              "color": "#C8D4E3"
             },
             "line": {
              "color": "white"
             }
            },
            "type": "table"
           }
          ]
         },
         "layout": {
          "annotationdefaults": {
           "arrowcolor": "#2a3f5f",
           "arrowhead": 0,
           "arrowwidth": 1
          },
          "autotypenumbers": "strict",
          "coloraxis": {
           "colorbar": {
            "outlinewidth": 0,
            "ticks": ""
           }
          },
          "colorscale": {
           "diverging": [
            [
             0,
             "#8e0152"
            ],
            [
             0.1,
             "#c51b7d"
            ],
            [
             0.2,
             "#de77ae"
            ],
            [
             0.3,
             "#f1b6da"
            ],
            [
             0.4,
             "#fde0ef"
            ],
            [
             0.5,
             "#f7f7f7"
            ],
            [
             0.6,
             "#e6f5d0"
            ],
            [
             0.7,
             "#b8e186"
            ],
            [
             0.8,
             "#7fbc41"
            ],
            [
             0.9,
             "#4d9221"
            ],
            [
             1,
             "#276419"
            ]
           ],
           "sequential": [
            [
             0,
             "#0d0887"
            ],
            [
             0.1111111111111111,
             "#46039f"
            ],
            [
             0.2222222222222222,
             "#7201a8"
            ],
            [
             0.3333333333333333,
             "#9c179e"
            ],
            [
             0.4444444444444444,
             "#bd3786"
            ],
            [
             0.5555555555555556,
             "#d8576b"
            ],
            [
             0.6666666666666666,
             "#ed7953"
            ],
            [
             0.7777777777777778,
             "#fb9f3a"
            ],
            [
             0.8888888888888888,
             "#fdca26"
            ],
            [
             1,
             "#f0f921"
            ]
           ],
           "sequentialminus": [
            [
             0,
             "#0d0887"
            ],
            [
             0.1111111111111111,
             "#46039f"
            ],
            [
             0.2222222222222222,
             "#7201a8"
            ],
            [
             0.3333333333333333,
             "#9c179e"
            ],
            [
             0.4444444444444444,
             "#bd3786"
            ],
            [
             0.5555555555555556,
             "#d8576b"
            ],
            [
             0.6666666666666666,
             "#ed7953"
            ],
            [
             0.7777777777777778,
             "#fb9f3a"
            ],
            [
             0.8888888888888888,
             "#fdca26"
            ],
            [
             1,
             "#f0f921"
            ]
           ]
          },
          "colorway": [
           "#636efa",
           "#EF553B",
           "#00cc96",
           "#ab63fa",
           "#FFA15A",
           "#19d3f3",
           "#FF6692",
           "#B6E880",
           "#FF97FF",
           "#FECB52"
          ],
          "font": {
           "color": "#2a3f5f"
          },
          "geo": {
           "bgcolor": "white",
           "lakecolor": "white",
           "landcolor": "#E5ECF6",
           "showlakes": true,
           "showland": true,
           "subunitcolor": "white"
          },
          "hoverlabel": {
           "align": "left"
          },
          "hovermode": "closest",
          "mapbox": {
           "style": "light"
          },
          "paper_bgcolor": "white",
          "plot_bgcolor": "#E5ECF6",
          "polar": {
           "angularaxis": {
            "gridcolor": "white",
            "linecolor": "white",
            "ticks": ""
           },
           "bgcolor": "#E5ECF6",
           "radialaxis": {
            "gridcolor": "white",
            "linecolor": "white",
            "ticks": ""
           }
          },
          "scene": {
           "xaxis": {
            "backgroundcolor": "#E5ECF6",
            "gridcolor": "white",
            "gridwidth": 2,
            "linecolor": "white",
            "showbackground": true,
            "ticks": "",
            "zerolinecolor": "white"
           },
           "yaxis": {
            "backgroundcolor": "#E5ECF6",
            "gridcolor": "white",
            "gridwidth": 2,
            "linecolor": "white",
            "showbackground": true,
            "ticks": "",
            "zerolinecolor": "white"
           },
           "zaxis": {
            "backgroundcolor": "#E5ECF6",
            "gridcolor": "white",
            "gridwidth": 2,
            "linecolor": "white",
            "showbackground": true,
            "ticks": "",
            "zerolinecolor": "white"
           }
          },
          "shapedefaults": {
           "line": {
            "color": "#2a3f5f"
           }
          },
          "ternary": {
           "aaxis": {
            "gridcolor": "white",
            "linecolor": "white",
            "ticks": ""
           },
           "baxis": {
            "gridcolor": "white",
            "linecolor": "white",
            "ticks": ""
           },
           "bgcolor": "#E5ECF6",
           "caxis": {
            "gridcolor": "white",
            "linecolor": "white",
            "ticks": ""
           }
          },
          "title": {
           "x": 0.05
          },
          "xaxis": {
           "automargin": true,
           "gridcolor": "white",
           "linecolor": "white",
           "ticks": "",
           "title": {
            "standoff": 15
           },
           "zerolinecolor": "white",
           "zerolinewidth": 2
          },
          "yaxis": {
           "automargin": true,
           "gridcolor": "white",
           "linecolor": "white",
           "ticks": "",
           "title": {
            "standoff": 15
           },
           "zerolinecolor": "white",
           "zerolinewidth": 2
          }
         }
        },
        "title": {
         "text": "Words per song"
        },
        "xaxis": {
         "anchor": "y",
         "domain": [
          0,
          1
         ],
         "title": {
          "text": "n_stems_en"
         }
        },
        "yaxis": {
         "anchor": "x",
         "domain": [
          0,
          1
         ],
         "title": {
          "text": "count"
         }
        }
       }
      },
      "text/html": [
       "<div>                            <div id=\"cbda358e-b249-48ad-b82e-540ffdfee979\" class=\"plotly-graph-div\" style=\"height:525px; width:100%;\"></div>            <script type=\"text/javascript\">                require([\"plotly\"], function(Plotly) {                    window.PLOTLYENV=window.PLOTLYENV || {};                                    if (document.getElementById(\"cbda358e-b249-48ad-b82e-540ffdfee979\")) {                    Plotly.newPlot(                        \"cbda358e-b249-48ad-b82e-540ffdfee979\",                        [{\"alignmentgroup\":\"True\",\"bingroup\":\"x\",\"hovertemplate\":\"n_stems_en=%{x}<br>count=%{y}<extra></extra>\",\"legendgroup\":\"\",\"marker\":{\"color\":\"#636efa\",\"pattern\":{\"shape\":\"\"}},\"name\":\"\",\"offsetgroup\":\"\",\"orientation\":\"v\",\"showlegend\":false,\"x\":[128,84,76,71,69,44,60,132,44,105,41,62,91,111,52,58,64,95,106,88,106,57,130,149,55,84,95,182,199,116,108,113,52,118,20,73,108,61,69,58,99,89,138,85,69,84,70,161,195,61,124,78,113,94,156,120,64,57,54,68,103,53,146,135,91,118,95,105,28,60,63,66,90,58,105,92,64,64,113,56,54,94,89,68,79,77,112,99,153,113,116,54,60,124,55,50,148,113,67,109,83,67,93,96,50,68,80,124,84,44,54,115,88,172,117,134,139,64,104,44,59,22,18,19,34,25,25,48,46,92,67,123,108,102,95,103,53,100,114,64,89,118,34,104,77,89,65,79,61,42,69,73,43,65,76,54,43,87,64,148,63,70,47,53,42,46,35,37,47,38,93,64,35,70,72,59,45,96,58,35,26,47,31,42,54,43,45,93,72,52,38,36,37,45,33,60,40,53,49,35,60,48,62,88,55,60,40,68,99,271,210,244,175,138,297,278,269,275,151,224,117,151,162,110,91,103,54,79,78,71,93,75,51,48,61,73,94,167,63,8,67,64,77,94,79,175,119,85,86,88,52,105,51,50,38,74,66,85,93,67,111,72,57,67,154,81,38,78,60,135,34,140,52,49,114,74,116,100,78,114,140,126,120,66,134,86,85,137,12,91,43,142,92,136,46,131,111,43,97,105,90,57,79,118,30,95,79,81,67,4,67,174,62,107,40,47,76,117,90,65,84,89,68,59,13,171,93,122,81,76,126,170,124,99,166,115,97,66,74,74,72,85,141,112,80,155,57,134,114,76,67,136,54,99,121,65,42,110,73,102,73,79,152,58,65,50,90,45,60,129,71,67,90,67,76,39,113,34,139,31,91,38,62,62,136,101,63,95,82,107,68,30,49,108,31,145,114,73,65,64,76,83,7,37,46,37,65,62,54,77,61,72,62,48,42,67,35,71,68,58,57,77,47,50,70,115,114,84,74,91,54,100,47,74,96,81,72,40,82,107,70,59,122,44,62,72,73,35,66,78,183,84,88,71,142,151,93,60,147,105,88,140,69,94,55,137,78,61,129,164,66,6,48,73,68,96,77,111,71,119,110,109,108,88,92,69,147,94,87,174,70,44,89,64,99,84,105,103,60,102,75,100,81,85,34,76],\"xaxis\":\"x\",\"yaxis\":\"y\",\"type\":\"histogram\"}],                        {\"template\":{\"data\":{\"histogram2dcontour\":[{\"type\":\"histogram2dcontour\",\"colorbar\":{\"outlinewidth\":0,\"ticks\":\"\"},\"colorscale\":[[0.0,\"#0d0887\"],[0.1111111111111111,\"#46039f\"],[0.2222222222222222,\"#7201a8\"],[0.3333333333333333,\"#9c179e\"],[0.4444444444444444,\"#bd3786\"],[0.5555555555555556,\"#d8576b\"],[0.6666666666666666,\"#ed7953\"],[0.7777777777777778,\"#fb9f3a\"],[0.8888888888888888,\"#fdca26\"],[1.0,\"#f0f921\"]]}],\"choropleth\":[{\"type\":\"choropleth\",\"colorbar\":{\"outlinewidth\":0,\"ticks\":\"\"}}],\"histogram2d\":[{\"type\":\"histogram2d\",\"colorbar\":{\"outlinewidth\":0,\"ticks\":\"\"},\"colorscale\":[[0.0,\"#0d0887\"],[0.1111111111111111,\"#46039f\"],[0.2222222222222222,\"#7201a8\"],[0.3333333333333333,\"#9c179e\"],[0.4444444444444444,\"#bd3786\"],[0.5555555555555556,\"#d8576b\"],[0.6666666666666666,\"#ed7953\"],[0.7777777777777778,\"#fb9f3a\"],[0.8888888888888888,\"#fdca26\"],[1.0,\"#f0f921\"]]}],\"heatmap\":[{\"type\":\"heatmap\",\"colorbar\":{\"outlinewidth\":0,\"ticks\":\"\"},\"colorscale\":[[0.0,\"#0d0887\"],[0.1111111111111111,\"#46039f\"],[0.2222222222222222,\"#7201a8\"],[0.3333333333333333,\"#9c179e\"],[0.4444444444444444,\"#bd3786\"],[0.5555555555555556,\"#d8576b\"],[0.6666666666666666,\"#ed7953\"],[0.7777777777777778,\"#fb9f3a\"],[0.8888888888888888,\"#fdca26\"],[1.0,\"#f0f921\"]]}],\"heatmapgl\":[{\"type\":\"heatmapgl\",\"colorbar\":{\"outlinewidth\":0,\"ticks\":\"\"},\"colorscale\":[[0.0,\"#0d0887\"],[0.1111111111111111,\"#46039f\"],[0.2222222222222222,\"#7201a8\"],[0.3333333333333333,\"#9c179e\"],[0.4444444444444444,\"#bd3786\"],[0.5555555555555556,\"#d8576b\"],[0.6666666666666666,\"#ed7953\"],[0.7777777777777778,\"#fb9f3a\"],[0.8888888888888888,\"#fdca26\"],[1.0,\"#f0f921\"]]}],\"contourcarpet\":[{\"type\":\"contourcarpet\",\"colorbar\":{\"outlinewidth\":0,\"ticks\":\"\"}}],\"contour\":[{\"type\":\"contour\",\"colorbar\":{\"outlinewidth\":0,\"ticks\":\"\"},\"colorscale\":[[0.0,\"#0d0887\"],[0.1111111111111111,\"#46039f\"],[0.2222222222222222,\"#7201a8\"],[0.3333333333333333,\"#9c179e\"],[0.4444444444444444,\"#bd3786\"],[0.5555555555555556,\"#d8576b\"],[0.6666666666666666,\"#ed7953\"],[0.7777777777777778,\"#fb9f3a\"],[0.8888888888888888,\"#fdca26\"],[1.0,\"#f0f921\"]]}],\"surface\":[{\"type\":\"surface\",\"colorbar\":{\"outlinewidth\":0,\"ticks\":\"\"},\"colorscale\":[[0.0,\"#0d0887\"],[0.1111111111111111,\"#46039f\"],[0.2222222222222222,\"#7201a8\"],[0.3333333333333333,\"#9c179e\"],[0.4444444444444444,\"#bd3786\"],[0.5555555555555556,\"#d8576b\"],[0.6666666666666666,\"#ed7953\"],[0.7777777777777778,\"#fb9f3a\"],[0.8888888888888888,\"#fdca26\"],[1.0,\"#f0f921\"]]}],\"mesh3d\":[{\"type\":\"mesh3d\",\"colorbar\":{\"outlinewidth\":0,\"ticks\":\"\"}}],\"scatter\":[{\"fillpattern\":{\"fillmode\":\"overlay\",\"size\":10,\"solidity\":0.2},\"type\":\"scatter\"}],\"parcoords\":[{\"type\":\"parcoords\",\"line\":{\"colorbar\":{\"outlinewidth\":0,\"ticks\":\"\"}}}],\"scatterpolargl\":[{\"type\":\"scatterpolargl\",\"marker\":{\"colorbar\":{\"outlinewidth\":0,\"ticks\":\"\"}}}],\"bar\":[{\"error_x\":{\"color\":\"#2a3f5f\"},\"error_y\":{\"color\":\"#2a3f5f\"},\"marker\":{\"line\":{\"color\":\"#E5ECF6\",\"width\":0.5},\"pattern\":{\"fillmode\":\"overlay\",\"size\":10,\"solidity\":0.2}},\"type\":\"bar\"}],\"scattergeo\":[{\"type\":\"scattergeo\",\"marker\":{\"colorbar\":{\"outlinewidth\":0,\"ticks\":\"\"}}}],\"scatterpolar\":[{\"type\":\"scatterpolar\",\"marker\":{\"colorbar\":{\"outlinewidth\":0,\"ticks\":\"\"}}}],\"histogram\":[{\"marker\":{\"pattern\":{\"fillmode\":\"overlay\",\"size\":10,\"solidity\":0.2}},\"type\":\"histogram\"}],\"scattergl\":[{\"type\":\"scattergl\",\"marker\":{\"colorbar\":{\"outlinewidth\":0,\"ticks\":\"\"}}}],\"scatter3d\":[{\"type\":\"scatter3d\",\"line\":{\"colorbar\":{\"outlinewidth\":0,\"ticks\":\"\"}},\"marker\":{\"colorbar\":{\"outlinewidth\":0,\"ticks\":\"\"}}}],\"scattermapbox\":[{\"type\":\"scattermapbox\",\"marker\":{\"colorbar\":{\"outlinewidth\":0,\"ticks\":\"\"}}}],\"scatterternary\":[{\"type\":\"scatterternary\",\"marker\":{\"colorbar\":{\"outlinewidth\":0,\"ticks\":\"\"}}}],\"scattercarpet\":[{\"type\":\"scattercarpet\",\"marker\":{\"colorbar\":{\"outlinewidth\":0,\"ticks\":\"\"}}}],\"carpet\":[{\"aaxis\":{\"endlinecolor\":\"#2a3f5f\",\"gridcolor\":\"white\",\"linecolor\":\"white\",\"minorgridcolor\":\"white\",\"startlinecolor\":\"#2a3f5f\"},\"baxis\":{\"endlinecolor\":\"#2a3f5f\",\"gridcolor\":\"white\",\"linecolor\":\"white\",\"minorgridcolor\":\"white\",\"startlinecolor\":\"#2a3f5f\"},\"type\":\"carpet\"}],\"table\":[{\"cells\":{\"fill\":{\"color\":\"#EBF0F8\"},\"line\":{\"color\":\"white\"}},\"header\":{\"fill\":{\"color\":\"#C8D4E3\"},\"line\":{\"color\":\"white\"}},\"type\":\"table\"}],\"barpolar\":[{\"marker\":{\"line\":{\"color\":\"#E5ECF6\",\"width\":0.5},\"pattern\":{\"fillmode\":\"overlay\",\"size\":10,\"solidity\":0.2}},\"type\":\"barpolar\"}],\"pie\":[{\"automargin\":true,\"type\":\"pie\"}]},\"layout\":{\"autotypenumbers\":\"strict\",\"colorway\":[\"#636efa\",\"#EF553B\",\"#00cc96\",\"#ab63fa\",\"#FFA15A\",\"#19d3f3\",\"#FF6692\",\"#B6E880\",\"#FF97FF\",\"#FECB52\"],\"font\":{\"color\":\"#2a3f5f\"},\"hovermode\":\"closest\",\"hoverlabel\":{\"align\":\"left\"},\"paper_bgcolor\":\"white\",\"plot_bgcolor\":\"#E5ECF6\",\"polar\":{\"bgcolor\":\"#E5ECF6\",\"angularaxis\":{\"gridcolor\":\"white\",\"linecolor\":\"white\",\"ticks\":\"\"},\"radialaxis\":{\"gridcolor\":\"white\",\"linecolor\":\"white\",\"ticks\":\"\"}},\"ternary\":{\"bgcolor\":\"#E5ECF6\",\"aaxis\":{\"gridcolor\":\"white\",\"linecolor\":\"white\",\"ticks\":\"\"},\"baxis\":{\"gridcolor\":\"white\",\"linecolor\":\"white\",\"ticks\":\"\"},\"caxis\":{\"gridcolor\":\"white\",\"linecolor\":\"white\",\"ticks\":\"\"}},\"coloraxis\":{\"colorbar\":{\"outlinewidth\":0,\"ticks\":\"\"}},\"colorscale\":{\"sequential\":[[0.0,\"#0d0887\"],[0.1111111111111111,\"#46039f\"],[0.2222222222222222,\"#7201a8\"],[0.3333333333333333,\"#9c179e\"],[0.4444444444444444,\"#bd3786\"],[0.5555555555555556,\"#d8576b\"],[0.6666666666666666,\"#ed7953\"],[0.7777777777777778,\"#fb9f3a\"],[0.8888888888888888,\"#fdca26\"],[1.0,\"#f0f921\"]],\"sequentialminus\":[[0.0,\"#0d0887\"],[0.1111111111111111,\"#46039f\"],[0.2222222222222222,\"#7201a8\"],[0.3333333333333333,\"#9c179e\"],[0.4444444444444444,\"#bd3786\"],[0.5555555555555556,\"#d8576b\"],[0.6666666666666666,\"#ed7953\"],[0.7777777777777778,\"#fb9f3a\"],[0.8888888888888888,\"#fdca26\"],[1.0,\"#f0f921\"]],\"diverging\":[[0,\"#8e0152\"],[0.1,\"#c51b7d\"],[0.2,\"#de77ae\"],[0.3,\"#f1b6da\"],[0.4,\"#fde0ef\"],[0.5,\"#f7f7f7\"],[0.6,\"#e6f5d0\"],[0.7,\"#b8e186\"],[0.8,\"#7fbc41\"],[0.9,\"#4d9221\"],[1,\"#276419\"]]},\"xaxis\":{\"gridcolor\":\"white\",\"linecolor\":\"white\",\"ticks\":\"\",\"title\":{\"standoff\":15},\"zerolinecolor\":\"white\",\"automargin\":true,\"zerolinewidth\":2},\"yaxis\":{\"gridcolor\":\"white\",\"linecolor\":\"white\",\"ticks\":\"\",\"title\":{\"standoff\":15},\"zerolinecolor\":\"white\",\"automargin\":true,\"zerolinewidth\":2},\"scene\":{\"xaxis\":{\"backgroundcolor\":\"#E5ECF6\",\"gridcolor\":\"white\",\"linecolor\":\"white\",\"showbackground\":true,\"ticks\":\"\",\"zerolinecolor\":\"white\",\"gridwidth\":2},\"yaxis\":{\"backgroundcolor\":\"#E5ECF6\",\"gridcolor\":\"white\",\"linecolor\":\"white\",\"showbackground\":true,\"ticks\":\"\",\"zerolinecolor\":\"white\",\"gridwidth\":2},\"zaxis\":{\"backgroundcolor\":\"#E5ECF6\",\"gridcolor\":\"white\",\"linecolor\":\"white\",\"showbackground\":true,\"ticks\":\"\",\"zerolinecolor\":\"white\",\"gridwidth\":2}},\"shapedefaults\":{\"line\":{\"color\":\"#2a3f5f\"}},\"annotationdefaults\":{\"arrowcolor\":\"#2a3f5f\",\"arrowhead\":0,\"arrowwidth\":1},\"geo\":{\"bgcolor\":\"white\",\"landcolor\":\"#E5ECF6\",\"subunitcolor\":\"white\",\"showland\":true,\"showlakes\":true,\"lakecolor\":\"white\"},\"title\":{\"x\":0.05},\"mapbox\":{\"style\":\"light\"}}},\"xaxis\":{\"anchor\":\"y\",\"domain\":[0.0,1.0],\"title\":{\"text\":\"n_stems_en\"}},\"yaxis\":{\"anchor\":\"x\",\"domain\":[0.0,1.0],\"title\":{\"text\":\"count\"}},\"legend\":{\"tracegroupgap\":0},\"title\":{\"text\":\"Words per song\"},\"barmode\":\"relative\"},                        {\"responsive\": true}                    ).then(function(){\n",
       "                            \n",
       "var gd = document.getElementById('cbda358e-b249-48ad-b82e-540ffdfee979');\n",
       "var x = new MutationObserver(function (mutations, observer) {{\n",
       "        var display = window.getComputedStyle(gd).display;\n",
       "        if (!display || display === 'none') {{\n",
       "            console.log([gd, 'removed!']);\n",
       "            Plotly.purge(gd);\n",
       "            observer.disconnect();\n",
       "        }}\n",
       "}});\n",
       "\n",
       "// Listen for the removal of the full notebook cells\n",
       "var notebookContainer = gd.closest('#notebook-container');\n",
       "if (notebookContainer) {{\n",
       "    x.observe(notebookContainer, {childList: true});\n",
       "}}\n",
       "\n",
       "// Listen for the clearing of the current output cell\n",
       "var outputEl = gd.closest('.output');\n",
       "if (outputEl) {{\n",
       "    x.observe(outputEl, {childList: true});\n",
       "}}\n",
       "\n",
       "                        })                };                });            </script>        </div>"
      ]
     },
     "metadata": {},
     "output_type": "display_data"
    }
   ],
   "source": [
    "# words per song\n",
    "fig = px.histogram(df, x='n_stems_en', title='Words per song')\n",
    "fig.show()"
   ]
  },
  {
   "cell_type": "code",
   "execution_count": 29,
   "metadata": {
    "colab": {
     "base_uri": "https://localhost:8080/",
     "height": 542
    },
    "id": "wWHivYRwyJ30",
    "outputId": "5224fc3a-9bd8-4981-ba0f-d81fa8169cae"
   },
   "outputs": [
    {
     "data": {
      "application/vnd.plotly.v1+json": {
       "config": {
        "plotlyServerURL": "https://plot.ly"
       },
       "data": [
        {
         "name": "English",
         "nbinsx": 20,
         "type": "histogram",
         "x": [
          128,
          84,
          76,
          71,
          69,
          44,
          60,
          132,
          44,
          105,
          41,
          62,
          91,
          111,
          52,
          58,
          64,
          95,
          106,
          88,
          106,
          57,
          130,
          149,
          55,
          84,
          95,
          182,
          199,
          116,
          108,
          113,
          52,
          118,
          20,
          73,
          108,
          61,
          69,
          58,
          99,
          89,
          138,
          85,
          69,
          84,
          70,
          161,
          195,
          61,
          124,
          78,
          113,
          94,
          156,
          120,
          64,
          57,
          54,
          68,
          103,
          53,
          146,
          135,
          91,
          118,
          95,
          105,
          28,
          60,
          63,
          66,
          90,
          58,
          105,
          92,
          64,
          64,
          113,
          56,
          54,
          94,
          89,
          68,
          79,
          77,
          112,
          99,
          153,
          113,
          116,
          54,
          60,
          124,
          55,
          50,
          148,
          113,
          67,
          109,
          83,
          67,
          93,
          96,
          50,
          68,
          80,
          124,
          84,
          44,
          54,
          115,
          88,
          172,
          117,
          134,
          139,
          64,
          104,
          44,
          59,
          22,
          18,
          19,
          34,
          25,
          25,
          48,
          46,
          92,
          67,
          123,
          108,
          102,
          95,
          103,
          53,
          100,
          114,
          64,
          89,
          118,
          34,
          104,
          77,
          89,
          65,
          79,
          61,
          42,
          69,
          73,
          43,
          65,
          76,
          54,
          43,
          87,
          64,
          148,
          63,
          70,
          47,
          53,
          42,
          46,
          35,
          37,
          47,
          38,
          93,
          64,
          35,
          70,
          72,
          59,
          45,
          96,
          58,
          35,
          26,
          47,
          31,
          42,
          54,
          43,
          45,
          93,
          72,
          52,
          38,
          36,
          37,
          45,
          33,
          60,
          40,
          53,
          49,
          35,
          60,
          48,
          62,
          88,
          55,
          60,
          40,
          68,
          99,
          271,
          210,
          244,
          175,
          138,
          297,
          278,
          269,
          275,
          151,
          224,
          117,
          151,
          162,
          110,
          91,
          103,
          54,
          79,
          78,
          71,
          93,
          75,
          51,
          48,
          61,
          73,
          94,
          167,
          63,
          8,
          67,
          64,
          77,
          94,
          79,
          175,
          119,
          85,
          86,
          88,
          52,
          105,
          51,
          50,
          38,
          74,
          66,
          85,
          93,
          67,
          111,
          72,
          57,
          67,
          154,
          81,
          38,
          78,
          60,
          135,
          34,
          140,
          52,
          49,
          114,
          74,
          116,
          100,
          78,
          114,
          140,
          126,
          120,
          66,
          134,
          86,
          85,
          137,
          12,
          91,
          43,
          142,
          92,
          136,
          46,
          131,
          111,
          43,
          97,
          105,
          90,
          57,
          79,
          118,
          30,
          95,
          79,
          81,
          67,
          4,
          67,
          174,
          62,
          107,
          40,
          47,
          76,
          117,
          90,
          65,
          84,
          89,
          68,
          59,
          13,
          171,
          93,
          122,
          81,
          76,
          126,
          170,
          124,
          99,
          166,
          115,
          97,
          66,
          74,
          74,
          72,
          85,
          141,
          112,
          80,
          155,
          57,
          134,
          114,
          76,
          67,
          136,
          54,
          99,
          121,
          65,
          42,
          110,
          73,
          102,
          73,
          79,
          152,
          58,
          65,
          50,
          90,
          45,
          60,
          129,
          71,
          67,
          90,
          67,
          76,
          39,
          113,
          34,
          139,
          31,
          91,
          38,
          62,
          62,
          136,
          101,
          63,
          95,
          82,
          107,
          68,
          30,
          49,
          108,
          31,
          145,
          114,
          73,
          65,
          64,
          76,
          83,
          7,
          37,
          46,
          37,
          65,
          62,
          54,
          77,
          61,
          72,
          62,
          48,
          42,
          67,
          35,
          71,
          68,
          58,
          57,
          77,
          47,
          50,
          70,
          115,
          114,
          84,
          74,
          91,
          54,
          100,
          47,
          74,
          96,
          81,
          72,
          40,
          82,
          107,
          70,
          59,
          122,
          44,
          62,
          72,
          73,
          35,
          66,
          78,
          183,
          84,
          88,
          71,
          142,
          151,
          93,
          60,
          147,
          105,
          88,
          140,
          69,
          94,
          55,
          137,
          78,
          61,
          129,
          164,
          66,
          6,
          48,
          73,
          68,
          96,
          77,
          111,
          71,
          119,
          110,
          109,
          108,
          88,
          92,
          69,
          147,
          94,
          87,
          174,
          70,
          44,
          89,
          64,
          99,
          84,
          105,
          103,
          60,
          102,
          75,
          100,
          81,
          85,
          34,
          76
         ],
         "xaxis": "x",
         "yaxis": "y"
        },
        {
         "name": "Armenian",
         "nbinsx": 20,
         "type": "histogram",
         "x": [
          170,
          130,
          97,
          90,
          92,
          52,
          71,
          162,
          55,
          134,
          53,
          90,
          109,
          141,
          74,
          70,
          86,
          134,
          166,
          123,
          141,
          93,
          170,
          180,
          85,
          117,
          113,
          258,
          290,
          157,
          129,
          154,
          72,
          150,
          24,
          97,
          140,
          79,
          100,
          69,
          141,
          135,
          177,
          116,
          90,
          114,
          96,
          227,
          233,
          80,
          164,
          102,
          136,
          127,
          203,
          150,
          94,
          98,
          72,
          101,
          145,
          86,
          174,
          181,
          117,
          127,
          136,
          150,
          39,
          79,
          82,
          99,
          118,
          88,
          145,
          131,
          101,
          94,
          136,
          72,
          85,
          113,
          138,
          111,
          90,
          118,
          153,
          136,
          232,
          129,
          165,
          70,
          79,
          176,
          92,
          77,
          227,
          169,
          106,
          148,
          114,
          88,
          126,
          136,
          70,
          110,
          109,
          174,
          137,
          66,
          70,
          152,
          135,
          240,
          164,
          182,
          183,
          74,
          121,
          52,
          66,
          21,
          25,
          22,
          39,
          37,
          28,
          62,
          53,
          132,
          77,
          154,
          166,
          159,
          144,
          158,
          72,
          155,
          166,
          94,
          115,
          167,
          44,
          178,
          109,
          109,
          94,
          103,
          99,
          58,
          77,
          92,
          56,
          67,
          93,
          62,
          49,
          113,
          70,
          195,
          91,
          96,
          56,
          62,
          60,
          61,
          51,
          58,
          55,
          51,
          115,
          77,
          50,
          79,
          92,
          74,
          67,
          118,
          74,
          39,
          34,
          59,
          44,
          50,
          92,
          53,
          61,
          122,
          105,
          60,
          63,
          45,
          52,
          61,
          45,
          90,
          48,
          70,
          65,
          62,
          93,
          58,
          87,
          99,
          75,
          74,
          59,
          90,
          132,
          409,
          310,
          348,
          288,
          211,
          486,
          427,
          383,
          425,
          241,
          386,
          167,
          271,
          239,
          178,
          156,
          137,
          68,
          94,
          107,
          111,
          132,
          88,
          66,
          68,
          70,
          125,
          147,
          219,
          90,
          8,
          110,
          104,
          97,
          151,
          110,
          190,
          174,
          113,
          106,
          132,
          69,
          124,
          66,
          81,
          63,
          115,
          111,
          113,
          120,
          102,
          152,
          106,
          76,
          131,
          233,
          118,
          51,
          125,
          84,
          179,
          44,
          146,
          77,
          72,
          164,
          105,
          191,
          156,
          141,
          214,
          210,
          180,
          203,
          135,
          194,
          140,
          138,
          186,
          26,
          174,
          56,
          215,
          127,
          171,
          138,
          184,
          177,
          69,
          173,
          185,
          105,
          90,
          97,
          133,
          40,
          114,
          106,
          107,
          73,
          6,
          118,
          225,
          102,
          140,
          48,
          72,
          125,
          138,
          131,
          88,
          112,
          126,
          80,
          91,
          18,
          265,
          135,
          173,
          101,
          99,
          177,
          227,
          181,
          149,
          223,
          165,
          164,
          78,
          115,
          104,
          85,
          107,
          214,
          162,
          117,
          273,
          75,
          166,
          170,
          111,
          104,
          175,
          108,
          163,
          198,
          78,
          72,
          148,
          96,
          156,
          90,
          135,
          182,
          91,
          91,
          73,
          128,
          82,
          113,
          170,
          91,
          79,
          105,
          91,
          103,
          58,
          154,
          49,
          153,
          40,
          114,
          54,
          67,
          82,
          153,
          114,
          105,
          117,
          117,
          149,
          82,
          58,
          71,
          158,
          39,
          188,
          165,
          88,
          92,
          73,
          116,
          105,
          8,
          55,
          65,
          56,
          103,
          73,
          69,
          117,
          79,
          103,
          86,
          65,
          54,
          75,
          50,
          93,
          100,
          85,
          86,
          96,
          70,
          75,
          95,
          149,
          139,
          119,
          100,
          129,
          75,
          149,
          72,
          89,
          163,
          114,
          103,
          61,
          125,
          149,
          118,
          100,
          215,
          70,
          95,
          97,
          107,
          48,
          111,
          88,
          212,
          97,
          134,
          105,
          196,
          208,
          128,
          88,
          184,
          136,
          108,
          183,
          108,
          109,
          80,
          211,
          131,
          100,
          208,
          254,
          105,
          6,
          81,
          107,
          127,
          140,
          120,
          185,
          124,
          176,
          181,
          161,
          177,
          130,
          144,
          89,
          255,
          143,
          139,
          254,
          149,
          68,
          153,
          110,
          155,
          137,
          141,
          163,
          89,
          181,
          114,
          145,
          115,
          137,
          52,
          104
         ],
         "xaxis": "x2",
         "yaxis": "y2"
        }
       ],
       "layout": {
        "barmode": "overlay",
        "template": {
         "data": {
          "bar": [
           {
            "error_x": {
             "color": "#2a3f5f"
            },
            "error_y": {
             "color": "#2a3f5f"
            },
            "marker": {
             "line": {
              "color": "#E5ECF6",
              "width": 0.5
             },
             "pattern": {
              "fillmode": "overlay",
              "size": 10,
              "solidity": 0.2
             }
            },
            "type": "bar"
           }
          ],
          "barpolar": [
           {
            "marker": {
             "line": {
              "color": "#E5ECF6",
              "width": 0.5
             },
             "pattern": {
              "fillmode": "overlay",
              "size": 10,
              "solidity": 0.2
             }
            },
            "type": "barpolar"
           }
          ],
          "carpet": [
           {
            "aaxis": {
             "endlinecolor": "#2a3f5f",
             "gridcolor": "white",
             "linecolor": "white",
             "minorgridcolor": "white",
             "startlinecolor": "#2a3f5f"
            },
            "baxis": {
             "endlinecolor": "#2a3f5f",
             "gridcolor": "white",
             "linecolor": "white",
             "minorgridcolor": "white",
             "startlinecolor": "#2a3f5f"
            },
            "type": "carpet"
           }
          ],
          "choropleth": [
           {
            "colorbar": {
             "outlinewidth": 0,
             "ticks": ""
            },
            "type": "choropleth"
           }
          ],
          "contour": [
           {
            "colorbar": {
             "outlinewidth": 0,
             "ticks": ""
            },
            "colorscale": [
             [
              0,
              "#0d0887"
             ],
             [
              0.1111111111111111,
              "#46039f"
             ],
             [
              0.2222222222222222,
              "#7201a8"
             ],
             [
              0.3333333333333333,
              "#9c179e"
             ],
             [
              0.4444444444444444,
              "#bd3786"
             ],
             [
              0.5555555555555556,
              "#d8576b"
             ],
             [
              0.6666666666666666,
              "#ed7953"
             ],
             [
              0.7777777777777778,
              "#fb9f3a"
             ],
             [
              0.8888888888888888,
              "#fdca26"
             ],
             [
              1,
              "#f0f921"
             ]
            ],
            "type": "contour"
           }
          ],
          "contourcarpet": [
           {
            "colorbar": {
             "outlinewidth": 0,
             "ticks": ""
            },
            "type": "contourcarpet"
           }
          ],
          "heatmap": [
           {
            "colorbar": {
             "outlinewidth": 0,
             "ticks": ""
            },
            "colorscale": [
             [
              0,
              "#0d0887"
             ],
             [
              0.1111111111111111,
              "#46039f"
             ],
             [
              0.2222222222222222,
              "#7201a8"
             ],
             [
              0.3333333333333333,
              "#9c179e"
             ],
             [
              0.4444444444444444,
              "#bd3786"
             ],
             [
              0.5555555555555556,
              "#d8576b"
             ],
             [
              0.6666666666666666,
              "#ed7953"
             ],
             [
              0.7777777777777778,
              "#fb9f3a"
             ],
             [
              0.8888888888888888,
              "#fdca26"
             ],
             [
              1,
              "#f0f921"
             ]
            ],
            "type": "heatmap"
           }
          ],
          "heatmapgl": [
           {
            "colorbar": {
             "outlinewidth": 0,
             "ticks": ""
            },
            "colorscale": [
             [
              0,
              "#0d0887"
             ],
             [
              0.1111111111111111,
              "#46039f"
             ],
             [
              0.2222222222222222,
              "#7201a8"
             ],
             [
              0.3333333333333333,
              "#9c179e"
             ],
             [
              0.4444444444444444,
              "#bd3786"
             ],
             [
              0.5555555555555556,
              "#d8576b"
             ],
             [
              0.6666666666666666,
              "#ed7953"
             ],
             [
              0.7777777777777778,
              "#fb9f3a"
             ],
             [
              0.8888888888888888,
              "#fdca26"
             ],
             [
              1,
              "#f0f921"
             ]
            ],
            "type": "heatmapgl"
           }
          ],
          "histogram": [
           {
            "marker": {
             "pattern": {
              "fillmode": "overlay",
              "size": 10,
              "solidity": 0.2
             }
            },
            "type": "histogram"
           }
          ],
          "histogram2d": [
           {
            "colorbar": {
             "outlinewidth": 0,
             "ticks": ""
            },
            "colorscale": [
             [
              0,
              "#0d0887"
             ],
             [
              0.1111111111111111,
              "#46039f"
             ],
             [
              0.2222222222222222,
              "#7201a8"
             ],
             [
              0.3333333333333333,
              "#9c179e"
             ],
             [
              0.4444444444444444,
              "#bd3786"
             ],
             [
              0.5555555555555556,
              "#d8576b"
             ],
             [
              0.6666666666666666,
              "#ed7953"
             ],
             [
              0.7777777777777778,
              "#fb9f3a"
             ],
             [
              0.8888888888888888,
              "#fdca26"
             ],
             [
              1,
              "#f0f921"
             ]
            ],
            "type": "histogram2d"
           }
          ],
          "histogram2dcontour": [
           {
            "colorbar": {
             "outlinewidth": 0,
             "ticks": ""
            },
            "colorscale": [
             [
              0,
              "#0d0887"
             ],
             [
              0.1111111111111111,
              "#46039f"
             ],
             [
              0.2222222222222222,
              "#7201a8"
             ],
             [
              0.3333333333333333,
              "#9c179e"
             ],
             [
              0.4444444444444444,
              "#bd3786"
             ],
             [
              0.5555555555555556,
              "#d8576b"
             ],
             [
              0.6666666666666666,
              "#ed7953"
             ],
             [
              0.7777777777777778,
              "#fb9f3a"
             ],
             [
              0.8888888888888888,
              "#fdca26"
             ],
             [
              1,
              "#f0f921"
             ]
            ],
            "type": "histogram2dcontour"
           }
          ],
          "mesh3d": [
           {
            "colorbar": {
             "outlinewidth": 0,
             "ticks": ""
            },
            "type": "mesh3d"
           }
          ],
          "parcoords": [
           {
            "line": {
             "colorbar": {
              "outlinewidth": 0,
              "ticks": ""
             }
            },
            "type": "parcoords"
           }
          ],
          "pie": [
           {
            "automargin": true,
            "type": "pie"
           }
          ],
          "scatter": [
           {
            "fillpattern": {
             "fillmode": "overlay",
             "size": 10,
             "solidity": 0.2
            },
            "type": "scatter"
           }
          ],
          "scatter3d": [
           {
            "line": {
             "colorbar": {
              "outlinewidth": 0,
              "ticks": ""
             }
            },
            "marker": {
             "colorbar": {
              "outlinewidth": 0,
              "ticks": ""
             }
            },
            "type": "scatter3d"
           }
          ],
          "scattercarpet": [
           {
            "marker": {
             "colorbar": {
              "outlinewidth": 0,
              "ticks": ""
             }
            },
            "type": "scattercarpet"
           }
          ],
          "scattergeo": [
           {
            "marker": {
             "colorbar": {
              "outlinewidth": 0,
              "ticks": ""
             }
            },
            "type": "scattergeo"
           }
          ],
          "scattergl": [
           {
            "marker": {
             "colorbar": {
              "outlinewidth": 0,
              "ticks": ""
             }
            },
            "type": "scattergl"
           }
          ],
          "scattermapbox": [
           {
            "marker": {
             "colorbar": {
              "outlinewidth": 0,
              "ticks": ""
             }
            },
            "type": "scattermapbox"
           }
          ],
          "scatterpolar": [
           {
            "marker": {
             "colorbar": {
              "outlinewidth": 0,
              "ticks": ""
             }
            },
            "type": "scatterpolar"
           }
          ],
          "scatterpolargl": [
           {
            "marker": {
             "colorbar": {
              "outlinewidth": 0,
              "ticks": ""
             }
            },
            "type": "scatterpolargl"
           }
          ],
          "scatterternary": [
           {
            "marker": {
             "colorbar": {
              "outlinewidth": 0,
              "ticks": ""
             }
            },
            "type": "scatterternary"
           }
          ],
          "surface": [
           {
            "colorbar": {
             "outlinewidth": 0,
             "ticks": ""
            },
            "colorscale": [
             [
              0,
              "#0d0887"
             ],
             [
              0.1111111111111111,
              "#46039f"
             ],
             [
              0.2222222222222222,
              "#7201a8"
             ],
             [
              0.3333333333333333,
              "#9c179e"
             ],
             [
              0.4444444444444444,
              "#bd3786"
             ],
             [
              0.5555555555555556,
              "#d8576b"
             ],
             [
              0.6666666666666666,
              "#ed7953"
             ],
             [
              0.7777777777777778,
              "#fb9f3a"
             ],
             [
              0.8888888888888888,
              "#fdca26"
             ],
             [
              1,
              "#f0f921"
             ]
            ],
            "type": "surface"
           }
          ],
          "table": [
           {
            "cells": {
             "fill": {
              "color": "#EBF0F8"
             },
             "line": {
              "color": "white"
             }
            },
            "header": {
             "fill": {
              "color": "#C8D4E3"
             },
             "line": {
              "color": "white"
             }
            },
            "type": "table"
           }
          ]
         },
         "layout": {
          "annotationdefaults": {
           "arrowcolor": "#2a3f5f",
           "arrowhead": 0,
           "arrowwidth": 1
          },
          "autotypenumbers": "strict",
          "coloraxis": {
           "colorbar": {
            "outlinewidth": 0,
            "ticks": ""
           }
          },
          "colorscale": {
           "diverging": [
            [
             0,
             "#8e0152"
            ],
            [
             0.1,
             "#c51b7d"
            ],
            [
             0.2,
             "#de77ae"
            ],
            [
             0.3,
             "#f1b6da"
            ],
            [
             0.4,
             "#fde0ef"
            ],
            [
             0.5,
             "#f7f7f7"
            ],
            [
             0.6,
             "#e6f5d0"
            ],
            [
             0.7,
             "#b8e186"
            ],
            [
             0.8,
             "#7fbc41"
            ],
            [
             0.9,
             "#4d9221"
            ],
            [
             1,
             "#276419"
            ]
           ],
           "sequential": [
            [
             0,
             "#0d0887"
            ],
            [
             0.1111111111111111,
             "#46039f"
            ],
            [
             0.2222222222222222,
             "#7201a8"
            ],
            [
             0.3333333333333333,
             "#9c179e"
            ],
            [
             0.4444444444444444,
             "#bd3786"
            ],
            [
             0.5555555555555556,
             "#d8576b"
            ],
            [
             0.6666666666666666,
             "#ed7953"
            ],
            [
             0.7777777777777778,
             "#fb9f3a"
            ],
            [
             0.8888888888888888,
             "#fdca26"
            ],
            [
             1,
             "#f0f921"
            ]
           ],
           "sequentialminus": [
            [
             0,
             "#0d0887"
            ],
            [
             0.1111111111111111,
             "#46039f"
            ],
            [
             0.2222222222222222,
             "#7201a8"
            ],
            [
             0.3333333333333333,
             "#9c179e"
            ],
            [
             0.4444444444444444,
             "#bd3786"
            ],
            [
             0.5555555555555556,
             "#d8576b"
            ],
            [
             0.6666666666666666,
             "#ed7953"
            ],
            [
             0.7777777777777778,
             "#fb9f3a"
            ],
            [
             0.8888888888888888,
             "#fdca26"
            ],
            [
             1,
             "#f0f921"
            ]
           ]
          },
          "colorway": [
           "#636efa",
           "#EF553B",
           "#00cc96",
           "#ab63fa",
           "#FFA15A",
           "#19d3f3",
           "#FF6692",
           "#B6E880",
           "#FF97FF",
           "#FECB52"
          ],
          "font": {
           "color": "#2a3f5f"
          },
          "geo": {
           "bgcolor": "white",
           "lakecolor": "white",
           "landcolor": "#E5ECF6",
           "showlakes": true,
           "showland": true,
           "subunitcolor": "white"
          },
          "hoverlabel": {
           "align": "left"
          },
          "hovermode": "closest",
          "mapbox": {
           "style": "light"
          },
          "paper_bgcolor": "white",
          "plot_bgcolor": "#E5ECF6",
          "polar": {
           "angularaxis": {
            "gridcolor": "white",
            "linecolor": "white",
            "ticks": ""
           },
           "bgcolor": "#E5ECF6",
           "radialaxis": {
            "gridcolor": "white",
            "linecolor": "white",
            "ticks": ""
           }
          },
          "scene": {
           "xaxis": {
            "backgroundcolor": "#E5ECF6",
            "gridcolor": "white",
            "gridwidth": 2,
            "linecolor": "white",
            "showbackground": true,
            "ticks": "",
            "zerolinecolor": "white"
           },
           "yaxis": {
            "backgroundcolor": "#E5ECF6",
            "gridcolor": "white",
            "gridwidth": 2,
            "linecolor": "white",
            "showbackground": true,
            "ticks": "",
            "zerolinecolor": "white"
           },
           "zaxis": {
            "backgroundcolor": "#E5ECF6",
            "gridcolor": "white",
            "gridwidth": 2,
            "linecolor": "white",
            "showbackground": true,
            "ticks": "",
            "zerolinecolor": "white"
           }
          },
          "shapedefaults": {
           "line": {
            "color": "#2a3f5f"
           }
          },
          "ternary": {
           "aaxis": {
            "gridcolor": "white",
            "linecolor": "white",
            "ticks": ""
           },
           "baxis": {
            "gridcolor": "white",
            "linecolor": "white",
            "ticks": ""
           },
           "bgcolor": "#E5ECF6",
           "caxis": {
            "gridcolor": "white",
            "linecolor": "white",
            "ticks": ""
           }
          },
          "title": {
           "x": 0.05
          },
          "xaxis": {
           "automargin": true,
           "gridcolor": "white",
           "linecolor": "white",
           "ticks": "",
           "title": {
            "standoff": 15
           },
           "zerolinecolor": "white",
           "zerolinewidth": 2
          },
          "yaxis": {
           "automargin": true,
           "gridcolor": "white",
           "linecolor": "white",
           "ticks": "",
           "title": {
            "standoff": 15
           },
           "zerolinecolor": "white",
           "zerolinewidth": 2
          }
         }
        },
        "title": {
         "text": "Words per Song"
        },
        "xaxis": {
         "anchor": "y",
         "domain": [
          0,
          0.45
         ],
         "title": {
          "text": "Number of Words"
         }
        },
        "xaxis2": {
         "anchor": "y2",
         "domain": [
          0.55,
          1
         ]
        },
        "yaxis": {
         "anchor": "x",
         "domain": [
          0,
          1
         ],
         "title": {
          "text": "Count"
         }
        },
        "yaxis2": {
         "anchor": "x2",
         "domain": [
          0,
          1
         ]
        }
       }
      },
      "text/html": [
       "<div>                            <div id=\"05679ff7-bd0e-47ba-9e70-dda75ecad156\" class=\"plotly-graph-div\" style=\"height:525px; width:100%;\"></div>            <script type=\"text/javascript\">                require([\"plotly\"], function(Plotly) {                    window.PLOTLYENV=window.PLOTLYENV || {};                                    if (document.getElementById(\"05679ff7-bd0e-47ba-9e70-dda75ecad156\")) {                    Plotly.newPlot(                        \"05679ff7-bd0e-47ba-9e70-dda75ecad156\",                        [{\"name\":\"English\",\"nbinsx\":20,\"x\":[128,84,76,71,69,44,60,132,44,105,41,62,91,111,52,58,64,95,106,88,106,57,130,149,55,84,95,182,199,116,108,113,52,118,20,73,108,61,69,58,99,89,138,85,69,84,70,161,195,61,124,78,113,94,156,120,64,57,54,68,103,53,146,135,91,118,95,105,28,60,63,66,90,58,105,92,64,64,113,56,54,94,89,68,79,77,112,99,153,113,116,54,60,124,55,50,148,113,67,109,83,67,93,96,50,68,80,124,84,44,54,115,88,172,117,134,139,64,104,44,59,22,18,19,34,25,25,48,46,92,67,123,108,102,95,103,53,100,114,64,89,118,34,104,77,89,65,79,61,42,69,73,43,65,76,54,43,87,64,148,63,70,47,53,42,46,35,37,47,38,93,64,35,70,72,59,45,96,58,35,26,47,31,42,54,43,45,93,72,52,38,36,37,45,33,60,40,53,49,35,60,48,62,88,55,60,40,68,99,271,210,244,175,138,297,278,269,275,151,224,117,151,162,110,91,103,54,79,78,71,93,75,51,48,61,73,94,167,63,8,67,64,77,94,79,175,119,85,86,88,52,105,51,50,38,74,66,85,93,67,111,72,57,67,154,81,38,78,60,135,34,140,52,49,114,74,116,100,78,114,140,126,120,66,134,86,85,137,12,91,43,142,92,136,46,131,111,43,97,105,90,57,79,118,30,95,79,81,67,4,67,174,62,107,40,47,76,117,90,65,84,89,68,59,13,171,93,122,81,76,126,170,124,99,166,115,97,66,74,74,72,85,141,112,80,155,57,134,114,76,67,136,54,99,121,65,42,110,73,102,73,79,152,58,65,50,90,45,60,129,71,67,90,67,76,39,113,34,139,31,91,38,62,62,136,101,63,95,82,107,68,30,49,108,31,145,114,73,65,64,76,83,7,37,46,37,65,62,54,77,61,72,62,48,42,67,35,71,68,58,57,77,47,50,70,115,114,84,74,91,54,100,47,74,96,81,72,40,82,107,70,59,122,44,62,72,73,35,66,78,183,84,88,71,142,151,93,60,147,105,88,140,69,94,55,137,78,61,129,164,66,6,48,73,68,96,77,111,71,119,110,109,108,88,92,69,147,94,87,174,70,44,89,64,99,84,105,103,60,102,75,100,81,85,34,76],\"type\":\"histogram\",\"xaxis\":\"x\",\"yaxis\":\"y\"},{\"name\":\"Armenian\",\"nbinsx\":20,\"x\":[170,130,97,90,92,52,71,162,55,134,53,90,109,141,74,70,86,134,166,123,141,93,170,180,85,117,113,258,290,157,129,154,72,150,24,97,140,79,100,69,141,135,177,116,90,114,96,227,233,80,164,102,136,127,203,150,94,98,72,101,145,86,174,181,117,127,136,150,39,79,82,99,118,88,145,131,101,94,136,72,85,113,138,111,90,118,153,136,232,129,165,70,79,176,92,77,227,169,106,148,114,88,126,136,70,110,109,174,137,66,70,152,135,240,164,182,183,74,121,52,66,21,25,22,39,37,28,62,53,132,77,154,166,159,144,158,72,155,166,94,115,167,44,178,109,109,94,103,99,58,77,92,56,67,93,62,49,113,70,195,91,96,56,62,60,61,51,58,55,51,115,77,50,79,92,74,67,118,74,39,34,59,44,50,92,53,61,122,105,60,63,45,52,61,45,90,48,70,65,62,93,58,87,99,75,74,59,90,132,409,310,348,288,211,486,427,383,425,241,386,167,271,239,178,156,137,68,94,107,111,132,88,66,68,70,125,147,219,90,8,110,104,97,151,110,190,174,113,106,132,69,124,66,81,63,115,111,113,120,102,152,106,76,131,233,118,51,125,84,179,44,146,77,72,164,105,191,156,141,214,210,180,203,135,194,140,138,186,26,174,56,215,127,171,138,184,177,69,173,185,105,90,97,133,40,114,106,107,73,6,118,225,102,140,48,72,125,138,131,88,112,126,80,91,18,265,135,173,101,99,177,227,181,149,223,165,164,78,115,104,85,107,214,162,117,273,75,166,170,111,104,175,108,163,198,78,72,148,96,156,90,135,182,91,91,73,128,82,113,170,91,79,105,91,103,58,154,49,153,40,114,54,67,82,153,114,105,117,117,149,82,58,71,158,39,188,165,88,92,73,116,105,8,55,65,56,103,73,69,117,79,103,86,65,54,75,50,93,100,85,86,96,70,75,95,149,139,119,100,129,75,149,72,89,163,114,103,61,125,149,118,100,215,70,95,97,107,48,111,88,212,97,134,105,196,208,128,88,184,136,108,183,108,109,80,211,131,100,208,254,105,6,81,107,127,140,120,185,124,176,181,161,177,130,144,89,255,143,139,254,149,68,153,110,155,137,141,163,89,181,114,145,115,137,52,104],\"type\":\"histogram\",\"xaxis\":\"x2\",\"yaxis\":\"y2\"}],                        {\"template\":{\"data\":{\"histogram2dcontour\":[{\"type\":\"histogram2dcontour\",\"colorbar\":{\"outlinewidth\":0,\"ticks\":\"\"},\"colorscale\":[[0.0,\"#0d0887\"],[0.1111111111111111,\"#46039f\"],[0.2222222222222222,\"#7201a8\"],[0.3333333333333333,\"#9c179e\"],[0.4444444444444444,\"#bd3786\"],[0.5555555555555556,\"#d8576b\"],[0.6666666666666666,\"#ed7953\"],[0.7777777777777778,\"#fb9f3a\"],[0.8888888888888888,\"#fdca26\"],[1.0,\"#f0f921\"]]}],\"choropleth\":[{\"type\":\"choropleth\",\"colorbar\":{\"outlinewidth\":0,\"ticks\":\"\"}}],\"histogram2d\":[{\"type\":\"histogram2d\",\"colorbar\":{\"outlinewidth\":0,\"ticks\":\"\"},\"colorscale\":[[0.0,\"#0d0887\"],[0.1111111111111111,\"#46039f\"],[0.2222222222222222,\"#7201a8\"],[0.3333333333333333,\"#9c179e\"],[0.4444444444444444,\"#bd3786\"],[0.5555555555555556,\"#d8576b\"],[0.6666666666666666,\"#ed7953\"],[0.7777777777777778,\"#fb9f3a\"],[0.8888888888888888,\"#fdca26\"],[1.0,\"#f0f921\"]]}],\"heatmap\":[{\"type\":\"heatmap\",\"colorbar\":{\"outlinewidth\":0,\"ticks\":\"\"},\"colorscale\":[[0.0,\"#0d0887\"],[0.1111111111111111,\"#46039f\"],[0.2222222222222222,\"#7201a8\"],[0.3333333333333333,\"#9c179e\"],[0.4444444444444444,\"#bd3786\"],[0.5555555555555556,\"#d8576b\"],[0.6666666666666666,\"#ed7953\"],[0.7777777777777778,\"#fb9f3a\"],[0.8888888888888888,\"#fdca26\"],[1.0,\"#f0f921\"]]}],\"heatmapgl\":[{\"type\":\"heatmapgl\",\"colorbar\":{\"outlinewidth\":0,\"ticks\":\"\"},\"colorscale\":[[0.0,\"#0d0887\"],[0.1111111111111111,\"#46039f\"],[0.2222222222222222,\"#7201a8\"],[0.3333333333333333,\"#9c179e\"],[0.4444444444444444,\"#bd3786\"],[0.5555555555555556,\"#d8576b\"],[0.6666666666666666,\"#ed7953\"],[0.7777777777777778,\"#fb9f3a\"],[0.8888888888888888,\"#fdca26\"],[1.0,\"#f0f921\"]]}],\"contourcarpet\":[{\"type\":\"contourcarpet\",\"colorbar\":{\"outlinewidth\":0,\"ticks\":\"\"}}],\"contour\":[{\"type\":\"contour\",\"colorbar\":{\"outlinewidth\":0,\"ticks\":\"\"},\"colorscale\":[[0.0,\"#0d0887\"],[0.1111111111111111,\"#46039f\"],[0.2222222222222222,\"#7201a8\"],[0.3333333333333333,\"#9c179e\"],[0.4444444444444444,\"#bd3786\"],[0.5555555555555556,\"#d8576b\"],[0.6666666666666666,\"#ed7953\"],[0.7777777777777778,\"#fb9f3a\"],[0.8888888888888888,\"#fdca26\"],[1.0,\"#f0f921\"]]}],\"surface\":[{\"type\":\"surface\",\"colorbar\":{\"outlinewidth\":0,\"ticks\":\"\"},\"colorscale\":[[0.0,\"#0d0887\"],[0.1111111111111111,\"#46039f\"],[0.2222222222222222,\"#7201a8\"],[0.3333333333333333,\"#9c179e\"],[0.4444444444444444,\"#bd3786\"],[0.5555555555555556,\"#d8576b\"],[0.6666666666666666,\"#ed7953\"],[0.7777777777777778,\"#fb9f3a\"],[0.8888888888888888,\"#fdca26\"],[1.0,\"#f0f921\"]]}],\"mesh3d\":[{\"type\":\"mesh3d\",\"colorbar\":{\"outlinewidth\":0,\"ticks\":\"\"}}],\"scatter\":[{\"fillpattern\":{\"fillmode\":\"overlay\",\"size\":10,\"solidity\":0.2},\"type\":\"scatter\"}],\"parcoords\":[{\"type\":\"parcoords\",\"line\":{\"colorbar\":{\"outlinewidth\":0,\"ticks\":\"\"}}}],\"scatterpolargl\":[{\"type\":\"scatterpolargl\",\"marker\":{\"colorbar\":{\"outlinewidth\":0,\"ticks\":\"\"}}}],\"bar\":[{\"error_x\":{\"color\":\"#2a3f5f\"},\"error_y\":{\"color\":\"#2a3f5f\"},\"marker\":{\"line\":{\"color\":\"#E5ECF6\",\"width\":0.5},\"pattern\":{\"fillmode\":\"overlay\",\"size\":10,\"solidity\":0.2}},\"type\":\"bar\"}],\"scattergeo\":[{\"type\":\"scattergeo\",\"marker\":{\"colorbar\":{\"outlinewidth\":0,\"ticks\":\"\"}}}],\"scatterpolar\":[{\"type\":\"scatterpolar\",\"marker\":{\"colorbar\":{\"outlinewidth\":0,\"ticks\":\"\"}}}],\"histogram\":[{\"marker\":{\"pattern\":{\"fillmode\":\"overlay\",\"size\":10,\"solidity\":0.2}},\"type\":\"histogram\"}],\"scattergl\":[{\"type\":\"scattergl\",\"marker\":{\"colorbar\":{\"outlinewidth\":0,\"ticks\":\"\"}}}],\"scatter3d\":[{\"type\":\"scatter3d\",\"line\":{\"colorbar\":{\"outlinewidth\":0,\"ticks\":\"\"}},\"marker\":{\"colorbar\":{\"outlinewidth\":0,\"ticks\":\"\"}}}],\"scattermapbox\":[{\"type\":\"scattermapbox\",\"marker\":{\"colorbar\":{\"outlinewidth\":0,\"ticks\":\"\"}}}],\"scatterternary\":[{\"type\":\"scatterternary\",\"marker\":{\"colorbar\":{\"outlinewidth\":0,\"ticks\":\"\"}}}],\"scattercarpet\":[{\"type\":\"scattercarpet\",\"marker\":{\"colorbar\":{\"outlinewidth\":0,\"ticks\":\"\"}}}],\"carpet\":[{\"aaxis\":{\"endlinecolor\":\"#2a3f5f\",\"gridcolor\":\"white\",\"linecolor\":\"white\",\"minorgridcolor\":\"white\",\"startlinecolor\":\"#2a3f5f\"},\"baxis\":{\"endlinecolor\":\"#2a3f5f\",\"gridcolor\":\"white\",\"linecolor\":\"white\",\"minorgridcolor\":\"white\",\"startlinecolor\":\"#2a3f5f\"},\"type\":\"carpet\"}],\"table\":[{\"cells\":{\"fill\":{\"color\":\"#EBF0F8\"},\"line\":{\"color\":\"white\"}},\"header\":{\"fill\":{\"color\":\"#C8D4E3\"},\"line\":{\"color\":\"white\"}},\"type\":\"table\"}],\"barpolar\":[{\"marker\":{\"line\":{\"color\":\"#E5ECF6\",\"width\":0.5},\"pattern\":{\"fillmode\":\"overlay\",\"size\":10,\"solidity\":0.2}},\"type\":\"barpolar\"}],\"pie\":[{\"automargin\":true,\"type\":\"pie\"}]},\"layout\":{\"autotypenumbers\":\"strict\",\"colorway\":[\"#636efa\",\"#EF553B\",\"#00cc96\",\"#ab63fa\",\"#FFA15A\",\"#19d3f3\",\"#FF6692\",\"#B6E880\",\"#FF97FF\",\"#FECB52\"],\"font\":{\"color\":\"#2a3f5f\"},\"hovermode\":\"closest\",\"hoverlabel\":{\"align\":\"left\"},\"paper_bgcolor\":\"white\",\"plot_bgcolor\":\"#E5ECF6\",\"polar\":{\"bgcolor\":\"#E5ECF6\",\"angularaxis\":{\"gridcolor\":\"white\",\"linecolor\":\"white\",\"ticks\":\"\"},\"radialaxis\":{\"gridcolor\":\"white\",\"linecolor\":\"white\",\"ticks\":\"\"}},\"ternary\":{\"bgcolor\":\"#E5ECF6\",\"aaxis\":{\"gridcolor\":\"white\",\"linecolor\":\"white\",\"ticks\":\"\"},\"baxis\":{\"gridcolor\":\"white\",\"linecolor\":\"white\",\"ticks\":\"\"},\"caxis\":{\"gridcolor\":\"white\",\"linecolor\":\"white\",\"ticks\":\"\"}},\"coloraxis\":{\"colorbar\":{\"outlinewidth\":0,\"ticks\":\"\"}},\"colorscale\":{\"sequential\":[[0.0,\"#0d0887\"],[0.1111111111111111,\"#46039f\"],[0.2222222222222222,\"#7201a8\"],[0.3333333333333333,\"#9c179e\"],[0.4444444444444444,\"#bd3786\"],[0.5555555555555556,\"#d8576b\"],[0.6666666666666666,\"#ed7953\"],[0.7777777777777778,\"#fb9f3a\"],[0.8888888888888888,\"#fdca26\"],[1.0,\"#f0f921\"]],\"sequentialminus\":[[0.0,\"#0d0887\"],[0.1111111111111111,\"#46039f\"],[0.2222222222222222,\"#7201a8\"],[0.3333333333333333,\"#9c179e\"],[0.4444444444444444,\"#bd3786\"],[0.5555555555555556,\"#d8576b\"],[0.6666666666666666,\"#ed7953\"],[0.7777777777777778,\"#fb9f3a\"],[0.8888888888888888,\"#fdca26\"],[1.0,\"#f0f921\"]],\"diverging\":[[0,\"#8e0152\"],[0.1,\"#c51b7d\"],[0.2,\"#de77ae\"],[0.3,\"#f1b6da\"],[0.4,\"#fde0ef\"],[0.5,\"#f7f7f7\"],[0.6,\"#e6f5d0\"],[0.7,\"#b8e186\"],[0.8,\"#7fbc41\"],[0.9,\"#4d9221\"],[1,\"#276419\"]]},\"xaxis\":{\"gridcolor\":\"white\",\"linecolor\":\"white\",\"ticks\":\"\",\"title\":{\"standoff\":15},\"zerolinecolor\":\"white\",\"automargin\":true,\"zerolinewidth\":2},\"yaxis\":{\"gridcolor\":\"white\",\"linecolor\":\"white\",\"ticks\":\"\",\"title\":{\"standoff\":15},\"zerolinecolor\":\"white\",\"automargin\":true,\"zerolinewidth\":2},\"scene\":{\"xaxis\":{\"backgroundcolor\":\"#E5ECF6\",\"gridcolor\":\"white\",\"linecolor\":\"white\",\"showbackground\":true,\"ticks\":\"\",\"zerolinecolor\":\"white\",\"gridwidth\":2},\"yaxis\":{\"backgroundcolor\":\"#E5ECF6\",\"gridcolor\":\"white\",\"linecolor\":\"white\",\"showbackground\":true,\"ticks\":\"\",\"zerolinecolor\":\"white\",\"gridwidth\":2},\"zaxis\":{\"backgroundcolor\":\"#E5ECF6\",\"gridcolor\":\"white\",\"linecolor\":\"white\",\"showbackground\":true,\"ticks\":\"\",\"zerolinecolor\":\"white\",\"gridwidth\":2}},\"shapedefaults\":{\"line\":{\"color\":\"#2a3f5f\"}},\"annotationdefaults\":{\"arrowcolor\":\"#2a3f5f\",\"arrowhead\":0,\"arrowwidth\":1},\"geo\":{\"bgcolor\":\"white\",\"landcolor\":\"#E5ECF6\",\"subunitcolor\":\"white\",\"showland\":true,\"showlakes\":true,\"lakecolor\":\"white\"},\"title\":{\"x\":0.05},\"mapbox\":{\"style\":\"light\"}}},\"xaxis\":{\"anchor\":\"y\",\"domain\":[0.0,0.45],\"title\":{\"text\":\"Number of Words\"}},\"yaxis\":{\"anchor\":\"x\",\"domain\":[0.0,1.0],\"title\":{\"text\":\"Count\"}},\"xaxis2\":{\"anchor\":\"y2\",\"domain\":[0.55,1.0]},\"yaxis2\":{\"anchor\":\"x2\",\"domain\":[0.0,1.0]},\"title\":{\"text\":\"Words per Song\"},\"barmode\":\"overlay\"},                        {\"responsive\": true}                    ).then(function(){\n",
       "                            \n",
       "var gd = document.getElementById('05679ff7-bd0e-47ba-9e70-dda75ecad156');\n",
       "var x = new MutationObserver(function (mutations, observer) {{\n",
       "        var display = window.getComputedStyle(gd).display;\n",
       "        if (!display || display === 'none') {{\n",
       "            console.log([gd, 'removed!']);\n",
       "            Plotly.purge(gd);\n",
       "            observer.disconnect();\n",
       "        }}\n",
       "}});\n",
       "\n",
       "// Listen for the removal of the full notebook cells\n",
       "var notebookContainer = gd.closest('#notebook-container');\n",
       "if (notebookContainer) {{\n",
       "    x.observe(notebookContainer, {childList: true});\n",
       "}}\n",
       "\n",
       "// Listen for the clearing of the current output cell\n",
       "var outputEl = gd.closest('.output');\n",
       "if (outputEl) {{\n",
       "    x.observe(outputEl, {childList: true});\n",
       "}}\n",
       "\n",
       "                        })                };                });            </script>        </div>"
      ]
     },
     "metadata": {},
     "output_type": "display_data"
    }
   ],
   "source": [
    "from plotly.subplots import make_subplots\n",
    "\n",
    "# Create two subplots\n",
    "fig = make_subplots(rows=1, cols=2)\n",
    "\n",
    "# Plot for n_tokens_en\n",
    "fig.add_trace(\n",
    "    go.Histogram(x=df['n_stems_en'], nbinsx=20, name='English'),\n",
    "    row=1, col=1\n",
    ")\n",
    "\n",
    "# Plot for n_tokens_hy\n",
    "fig.add_trace(\n",
    "    go.Histogram(x=df['n_tokens_hy'], nbinsx=20, name='Armenian'),\n",
    "    row=1, col=2\n",
    ")\n",
    "\n",
    "# Update layout\n",
    "fig.update_layout(\n",
    "    title='Words per Song',\n",
    "    xaxis=dict(title='Number of Words'),\n",
    "    yaxis=dict(title='Count'),\n",
    "    barmode='overlay'\n",
    ")\n",
    "\n",
    "# Show the plot\n",
    "fig.show()\n"
   ]
  },
  {
   "cell_type": "code",
   "execution_count": 30,
   "metadata": {},
   "outputs": [
    {
     "data": {
      "application/vnd.plotly.v1+json": {
       "config": {
        "plotlyServerURL": "https://plot.ly"
       },
       "data": [
        {
         "alignmentgroup": "True",
         "hovertemplate": "Artist=%{x}<br>n_tokens_hy=%{y}<extra></extra>",
         "legendgroup": "",
         "marker": {
          "color": "#636efa"
         },
         "name": "",
         "notched": false,
         "offsetgroup": "",
         "orientation": "v",
         "showlegend": false,
         "type": "box",
         "x": [
          "ԱՐԹՈՒՐ ՄԵՍՉՅԱՆ",
          "ԱՐԹՈՒՐ ՄԵՍՉՅԱՆ",
          "ԱՐԹՈՒՐ ՄԵՍՉՅԱՆ",
          "ԱՐԹՈՒՐ ՄԵՍՉՅԱՆ",
          "ԱՐԹՈՒՐ ՄԵՍՉՅԱՆ",
          "ԱՐԹՈՒՐ ՄԵՍՉՅԱՆ",
          "ԱՐԹՈՒՐ ՄԵՍՉՅԱՆ",
          "ԱՐԹՈՒՐ ՄԵՍՉՅԱՆ",
          "ԱՐԹՈՒՐ ՄԵՍՉՅԱՆ",
          "ԱՐԹՈՒՐ ՄԵՍՉՅԱՆ",
          "ԱՐԹՈՒՐ ՄԵՍՉՅԱՆ",
          "ԱՐԹՈՒՐ ՄԵՍՉՅԱՆ",
          "ԱՐԹՈՒՐ ՄԵՍՉՅԱՆ",
          "ԱՐԹՈՒՐ ՄԵՍՉՅԱՆ",
          "ԱՐԹՈՒՐ ՄԵՍՉՅԱՆ",
          "ԱՐԹՈՒՐ ՄԵՍՉՅԱՆ",
          "ԱՐԹՈՒՐ ՄԵՍՉՅԱՆ",
          "ԱՐԹՈՒՐ ՄԵՍՉՅԱՆ",
          "ԱՐԹՈՒՐ ՄԵՍՉՅԱՆ",
          "ԱՐԹՈՒՐ ՄԵՍՉՅԱՆ",
          "ԱՐԹՈՒՐ ՄԵՍՉՅԱՆ",
          "ԱՐԹՈՒՐ ՄԵՍՉՅԱՆ",
          "ԱՐԹՈՒՐ ՄԵՍՉՅԱՆ",
          "ԱՐԹՈՒՐ ՄԵՍՉՅԱՆ",
          "ԱՐԹՈՒՐ ՄԵՍՉՅԱՆ",
          "ԱՐԹՈՒՐ ՄԵՍՉՅԱՆ",
          "ԱՐԹՈՒՐ ՄԵՍՉՅԱՆ",
          "ԱՐԹՈՒՐ ՄԵՍՉՅԱՆ",
          "ԱՐԹՈՒՐ ՄԵՍՉՅԱՆ",
          "ԱՐԹՈՒՐ ՄԵՍՉՅԱՆ",
          "ԱՐԹՈՒՐ ՄԵՍՉՅԱՆ",
          "ԱՐԹՈՒՐ ՄԵՍՉՅԱՆ",
          "ԱՐԹՈՒՐ ՄԵՍՉՅԱՆ",
          "ԱՐԹՈՒՐ ՄԵՍՉՅԱՆ",
          "ԱՐԹՈՒՐ ՄԵՍՉՅԱՆ",
          "ԱՐԹՈՒՐ ՄԵՍՉՅԱՆ",
          "ԱՐԹՈՒՐ ՄԵՍՉՅԱՆ",
          "ԱՐԹՈՒՐ ՄԵՍՉՅԱՆ",
          "ԱՐԹՈՒՐ ՄԵՍՉՅԱՆ",
          "ԱՐԹՈՒՐ ՄԵՍՉՅԱՆ",
          "ԱՐԹՈՒՐ ՄԵՍՉՅԱՆ",
          "ԱՐԹՈՒՐ ՄԵՍՉՅԱՆ",
          "ԱՐԹՈՒՐ ՄԵՍՉՅԱՆ",
          "ԱՐԹՈՒՐ ՄԵՍՉՅԱՆ",
          "ԱՐԹՈՒՐ ՄԵՍՉՅԱՆ",
          "ԱՐԹՈՒՐ ՄԵՍՉՅԱՆ",
          "ԱՐԹՈՒՐ ՄԵՍՉՅԱՆ",
          "ԱՐԹՈՒՐ ՄԵՍՉՅԱՆ",
          "ԱՐԹՈՒՐ ՄԵՍՉՅԱՆ",
          "ԱՐԹՈՒՐ ՄԵՍՉՅԱՆ",
          "ՌՈՒԲԵՆ ՀԱԽՎԵՐԴՅԱՆ",
          "ՌՈՒԲԵՆ ՀԱԽՎԵՐԴՅԱՆ",
          "ՌՈՒԲԵՆ ՀԱԽՎԵՐԴՅԱՆ",
          "ՌՈՒԲԵՆ ՀԱԽՎԵՐԴՅԱՆ",
          "ՌՈՒԲԵՆ ՀԱԽՎԵՐԴՅԱՆ",
          "ՌՈՒԲԵՆ ՀԱԽՎԵՐԴՅԱՆ",
          "ՌՈՒԲԵՆ ՀԱԽՎԵՐԴՅԱՆ",
          "ՌՈՒԲԵՆ ՀԱԽՎԵՐԴՅԱՆ",
          "ՌՈՒԲԵՆ ՀԱԽՎԵՐԴՅԱՆ",
          "ՌՈՒԲԵՆ ՀԱԽՎԵՐԴՅԱՆ",
          "ՌՈՒԲԵՆ ՀԱԽՎԵՐԴՅԱՆ",
          "ՌՈՒԲԵՆ ՀԱԽՎԵՐԴՅԱՆ",
          "ՌՈՒԲԵՆ ՀԱԽՎԵՐԴՅԱՆ",
          "ՌՈՒԲԵՆ ՀԱԽՎԵՐԴՅԱՆ",
          "ՌՈՒԲԵՆ ՀԱԽՎԵՐԴՅԱՆ",
          "ՌՈՒԲԵՆ ՀԱԽՎԵՐԴՅԱՆ",
          "ՌՈՒԲԵՆ ՀԱԽՎԵՐԴՅԱՆ",
          "ՌՈՒԲԵՆ ՀԱԽՎԵՐԴՅԱՆ",
          "ՌՈՒԲԵՆ ՀԱԽՎԵՐԴՅԱՆ",
          "ՌՈՒԲԵՆ ՀԱԽՎԵՐԴՅԱՆ",
          "ՌՈՒԲԵՆ ՀԱԽՎԵՐԴՅԱՆ",
          "ՌՈՒԲԵՆ ՀԱԽՎԵՐԴՅԱՆ",
          "ՌՈՒԲԵՆ ՀԱԽՎԵՐԴՅԱՆ",
          "ՌՈՒԲԵՆ ՀԱԽՎԵՐԴՅԱՆ",
          "ՌՈՒԲԵՆ ՀԱԽՎԵՐԴՅԱՆ",
          "ՌՈՒԲԵՆ ՀԱԽՎԵՐԴՅԱՆ",
          "ՌՈՒԲԵՆ ՀԱԽՎԵՐԴՅԱՆ",
          "ՌՈՒԲԵՆ ՀԱԽՎԵՐԴՅԱՆ",
          "ՌՈՒԲԵՆ ՀԱԽՎԵՐԴՅԱՆ",
          "ՌՈՒԲԵՆ ՀԱԽՎԵՐԴՅԱՆ",
          "ՌՈՒԲԵՆ ՀԱԽՎԵՐԴՅԱՆ",
          "ՌՈՒԲԵՆ ՀԱԽՎԵՐԴՅԱՆ",
          "ՌՈՒԲԵՆ ՀԱԽՎԵՐԴՅԱՆ",
          "ՌՈՒԲԵՆ ՀԱԽՎԵՐԴՅԱՆ",
          "ՌՈՒԲԵՆ ՀԱԽՎԵՐԴՅԱՆ",
          "ՌՈՒԲԵՆ ՀԱԽՎԵՐԴՅԱՆ",
          "ՌՈՒԲԵՆ ՀԱԽՎԵՐԴՅԱՆ",
          "ՌՈՒԲԵՆ ՀԱԽՎԵՐԴՅԱՆ",
          "ՌՈՒԲԵՆ ՀԱԽՎԵՐԴՅԱՆ",
          "ՌՈՒԲԵՆ ՀԱԽՎԵՐԴՅԱՆ",
          "ՌՈՒԲԵՆ ՀԱԽՎԵՐԴՅԱՆ",
          "ՌՈՒԲԵՆ ՀԱԽՎԵՐԴՅԱՆ",
          "ՌՈՒԲԵՆ ՀԱԽՎԵՐԴՅԱՆ",
          "ՌՈՒԲԵՆ ՀԱԽՎԵՐԴՅԱՆ",
          "ՌՈՒԲԵՆ ՀԱԽՎԵՐԴՅԱՆ",
          "ՌՈՒԲԵՆ ՀԱԽՎԵՐԴՅԱՆ",
          "ՌՈՒԲԵՆ ՀԱԽՎԵՐԴՅԱՆ",
          "ՌՈՒԲԵՆ ՀԱԽՎԵՐԴՅԱՆ",
          "ՌՈՒԲԵՆ ՀԱԽՎԵՐԴՅԱՆ",
          "ՌՈՒԲԵՆ ՀԱԽՎԵՐԴՅԱՆ",
          "ՌՈՒԲԵՆ ՀԱԽՎԵՐԴՅԱՆ",
          "ՌՈՒԲԵՆ ՀԱԽՎԵՐԴՅԱՆ",
          "ՌՈՒԲԵՆ ՀԱԽՎԵՐԴՅԱՆ",
          "ՌՈՒԲԵՆ ՀԱԽՎԵՐԴՅԱՆ",
          "ՌՈՒԲԵՆ ՀԱԽՎԵՐԴՅԱՆ",
          "ՌՈՒԲԵՆ ՀԱԽՎԵՐԴՅԱՆ",
          "ՌՈՒԲԵՆ ՀԱԽՎԵՐԴՅԱՆ",
          "ՌՈՒԲԵՆ ՀԱԽՎԵՐԴՅԱՆ",
          "ՌՈՒԲԵՆ ՀԱԽՎԵՐԴՅԱՆ",
          "ՌՈՒԲԵՆ ՀԱԽՎԵՐԴՅԱՆ",
          "ՌՈՒԲԵՆ ՀԱԽՎԵՐԴՅԱՆ",
          "ՌՈՒԲԵՆ ՀԱԽՎԵՐԴՅԱՆ",
          "ՌՈՒԲԵՆ ՀԱԽՎԵՐԴՅԱՆ",
          "ՌՈՒԲԵՆ ՀԱԽՎԵՐԴՅԱՆ",
          "ՌՈՒԲԵՆ ՀԱԽՎԵՐԴՅԱՆ",
          "ՌՈՒԲԵՆ ՀԱԽՎԵՐԴՅԱՆ",
          "ՌՈՒԲԵՆ ՀԱԽՎԵՐԴՅԱՆ",
          "ՌՈՒԲԵՆ ՀԱԽՎԵՐԴՅԱՆ",
          "ՌՈՒԲԵՆ ՀԱԽՎԵՐԴՅԱՆ",
          "ՌՈՒԲԵՆ ՀԱԽՎԵՐԴՅԱՆ",
          "ՌՈՒԲԵՆ ՀԱԽՎԵՐԴՅԱՆ",
          "ՌՈՒԲԵՆ ՀԱԽՎԵՐԴՅԱՆ",
          "ՌՈՒԲԵՆ ՀԱԽՎԵՐԴՅԱՆ",
          "ՌՈՒԲԵՆ ՀԱԽՎԵՐԴՅԱՆ",
          "ՌՈՒԲԵՆ ՀԱԽՎԵՐԴՅԱՆ",
          "ՌՈՒԲԵՆ ՀԱԽՎԵՐԴՅԱՆ",
          "ՌՈՒԲԵՆ ՀԱԽՎԵՐԴՅԱՆ",
          "ՌՈՒԲԵՆ ՀԱԽՎԵՐԴՅԱՆ",
          "ՌՈՒԲԵՆ ՀԱԽՎԵՐԴՅԱՆ",
          "ՌՈՒԲԵՆ ՀԱԽՎԵՐԴՅԱՆ",
          "ՌՈՒԲԵՆ ՀԱԽՎԵՐԴՅԱՆ",
          "ՍԱՅԱԹ-ՆՈՎԱ",
          "ՍԱՅԱԹ-ՆՈՎԱ",
          "ՍԱՅԱԹ-ՆՈՎԱ",
          "ՍԱՅԱԹ-ՆՈՎԱ",
          "ՍԱՅԱԹ-ՆՈՎԱ",
          "ՍԱՅԱԹ-ՆՈՎԱ",
          "ՍԱՅԱԹ-ՆՈՎԱ",
          "ՍԱՅԱԹ-ՆՈՎԱ",
          "ՍԱՅԱԹ-ՆՈՎԱ",
          "ՍԱՅԱԹ-ՆՈՎԱ",
          "ՍԱՅԱԹ-ՆՈՎԱ",
          "ՍԱՅԱԹ-ՆՈՎԱ",
          "ՍԱՅԱԹ-ՆՈՎԱ",
          "ՍԱՅԱԹ-ՆՈՎԱ",
          "ՍԱՅԱԹ-ՆՈՎԱ",
          "ՍԱՅԱԹ-ՆՈՎԱ",
          "ԿՈՄԻՏԱՍ",
          "ԿՈՄԻՏԱՍ",
          "ԿՈՄԻՏԱՍ",
          "ԿՈՄԻՏԱՍ",
          "ԿՈՄԻՏԱՍ",
          "ԿՈՄԻՏԱՍ",
          "ԿՈՄԻՏԱՍ",
          "ԿՈՄԻՏԱՍ",
          "ԿՈՄԻՏԱՍ",
          "ԿՈՄԻՏԱՍ",
          "ԿՈՄԻՏԱՍ",
          "ԿՈՄԻՏԱՍ",
          "ԿՈՄԻՏԱՍ",
          "ԿՈՄԻՏԱՍ",
          "ԿՈՄԻՏԱՍ",
          "ԿՈՄԻՏԱՍ",
          "ԿՈՄԻՏԱՍ",
          "ԿՈՄԻՏԱՍ",
          "ԿՈՄԻՏԱՍ",
          "ԿՈՄԻՏԱՍ",
          "ԿՈՄԻՏԱՍ",
          "ԿՈՄԻՏԱՍ",
          "ԿՈՄԻՏԱՍ",
          "ԿՈՄԻՏԱՍ",
          "ԿՈՄԻՏԱՍ",
          "ԿՈՄԻՏԱՍ",
          "ԿՈՄԻՏԱՍ",
          "ԿՈՄԻՏԱՍ",
          "ԿՈՄԻՏԱՍ",
          "ԿՈՄԻՏԱՍ",
          "ԿՈՄԻՏԱՍ",
          "ԿՈՄԻՏԱՍ",
          "ԿՈՄԻՏԱՍ",
          "ԿՈՄԻՏԱՍ",
          "ԿՈՄԻՏԱՍ",
          "ԿՈՄԻՏԱՍ",
          "ԿՈՄԻՏԱՍ",
          "ԿՈՄԻՏԱՍ",
          "ԿՈՄԻՏԱՍ",
          "ԿՈՄԻՏԱՍ",
          "ԿՈՄԻՏԱՍ",
          "ԿՈՄԻՏԱՍ",
          "ԿՈՄԻՏԱՍ",
          "ԿՈՄԻՏԱՍ",
          "ԿՈՄԻՏԱՍ",
          "ԿՈՄԻՏԱՍ",
          "ԿՈՄԻՏԱՍ",
          "ԿՈՄԻՏԱՍ",
          "ԿՈՄԻՏԱՍ",
          "ԿՈՄԻՏԱՍ",
          "ԿՈՄԻՏԱՍ",
          "ԿՈՄԻՏԱՍ",
          "ԿՈՄԻՏԱՍ",
          "ԿՈՄԻՏԱՍ",
          "ԿՈՄԻՏԱՍ",
          "ԿՈՄԻՏԱՍ",
          "ԿՈՄԻՏԱՍ",
          "ԿՈՄԻՏԱՍ",
          "ԿՈՄԻՏԱՍ",
          "ԿՈՄԻՏԱՍ",
          "ԿՈՄԻՏԱՍ",
          "ԿՈՄԻՏԱՍ",
          "HT Hayko",
          "HT Hayko",
          "HT Hayko",
          "HT Hayko",
          "HT Hayko",
          "HT Hayko",
          "HT Hayko",
          "HT Hayko",
          "HT Hayko",
          "HT Hayko",
          "HT Hayko",
          "HT Hayko",
          "HT Hayko",
          "HT Hayko",
          "HT Hayko",
          "HT Hayko",
          "Empyray",
          "Empyray",
          "Empyray",
          "Empyray",
          "Empyray",
          "Empyray",
          "Empyray",
          "Empyray",
          "Empyray",
          "Empyray",
          " Lav Eli",
          " Lav Eli",
          " Lav Eli",
          " Lav Eli",
          " Lav Eli",
          " Lav Eli",
          " Lav Eli",
          " Lav Eli",
          " Lav Eli",
          "Silva Hakobyan",
          "Silva Hakobyan",
          "Silva Hakobyan",
          "Silva Hakobyan",
          "Silva Hakobyan",
          "Silva Hakobyan",
          "Silva Hakobyan",
          "Silva Hakobyan",
          "Silva Hakobyan",
          "Silva Hakobyan",
          "Silva Hakobyan",
          "Silva Hakobyan",
          "Silva Hakobyan",
          "Silva Hakobyan",
          "Silva Hakobyan",
          "Silva Hakobyan",
          "Silva Hakobyan",
          "Silva Hakobyan",
          "Silva Hakobyan",
          "Silva Hakobyan",
          "Անդրե",
          "Անդրե",
          "Անդրե",
          "Անդրե",
          "Անդրե",
          "Անդրե",
          "Անդրե",
          "Անդրե",
          "Անդրե",
          "Անդրե",
          "Անդրե",
          "Անդրե",
          "Լիլիթ Հովհաննիսյան",
          "Լիլիթ Հովհաննիսյան",
          "Լիլիթ Հովհաննիսյան",
          "Լիլիթ Հովհաննիսյան",
          "Լիլիթ Հովհաննիսյան",
          "Լիլիթ Հովհաննիսյան",
          "Լիլիթ Հովհաննիսյան",
          "Լիլիթ Հովհաննիսյան",
          "Լիլիթ Հովհաննիսյան",
          "Լիլիթ Հովհաննիսյան",
          "Լիլիթ Հովհաննիսյան",
          "Լիլիթ Հովհաննիսյան",
          "Լիլիթ Հովհաննիսյան",
          "Լիլիթ Հովհաննիսյան",
          "Լիլիթ Հովհաննիսյան",
          "Լիլիթ Հովհաննիսյան",
          "Լիլիթ Հովհաննիսյան",
          "Լիլիթ Հովհաննիսյան",
          "Լիլիթ Հովհաննիսյան",
          "Լիլիթ Հովհաննիսյան",
          "Լիլիթ Հովհաննիսյան",
          "Լիլիթ Հովհաննիսյան",
          "Լիլիթ Հովհաննիսյան",
          "Լիլիթ Հովհաննիսյան",
          "Սիրուշո",
          "Սիրուշո",
          "Սիրուշո",
          "Սիրուշո",
          "Սիրուշո",
          "Սիրուշո",
          "Սիրուշո",
          "Սիրուշո",
          "Սիրուշո",
          "Սիրուշո",
          "Սիրուշո",
          "Սիրուշո",
          "Սիրուշո",
          "Սիրուշո",
          "Սիրուշո",
          "Սիրուշո",
          "Սիրուշո",
          "Սիրուշո",
          "Սիրուշո",
          "Սիրուշո",
          "Սիրուշո",
          "Սիրուշո",
          "Սիրուշո",
          "Սիրուշո",
          "Սիրուշո",
          "Միհրան Ծառուկյան",
          "Միհրան Ծառուկյան",
          "Միհրան Ծառուկյան",
          "Միհրան Ծառուկյան",
          "Միհրան Ծառուկյան",
          "Միհրան Ծառուկյան",
          "Միհրան Ծառուկյան",
          "Միհրան Ծառուկյան",
          "Միհրան Ծառուկյան",
          "Միհրան Ծառուկյան",
          "Միհրան Ծառուկյան",
          "Միհրան Ծառուկյան",
          "Միհրան Ծառուկյան",
          "Միհրան Ծառուկյան",
          "Միհրան Ծառուկյան",
          "Միհրան Ծառուկյան",
          "Միհրան Ծառուկյան",
          "Միհրան Ծառուկյան",
          "Arame",
          "Arame",
          "Arame",
          "Arame",
          "Arame",
          "Arame",
          "Arame",
          "Arame",
          "Arame",
          "Razmik Amyan",
          "Razmik Amyan",
          "Razmik Amyan",
          "Razmik Amyan",
          "Razmik Amyan",
          "Razmik Amyan",
          "Razmik Amyan",
          "Razmik Amyan",
          "Razmik Amyan",
          "Razmik Amyan",
          "Razmik Amyan",
          "Razmik Amyan",
          "Razmik Amyan",
          "Razmik Amyan",
          "Razmik Amyan",
          "Razmik Amyan",
          "Razmik Amyan",
          "Razmik Amyan",
          "Harout Pamboukjian",
          "Harout Pamboukjian",
          "Harout Pamboukjian",
          "Harout Pamboukjian",
          "Harout Pamboukjian",
          "Harout Pamboukjian",
          "Harout Pamboukjian",
          "Harout Pamboukjian",
          "Harout Pamboukjian",
          "Harout Pamboukjian",
          "Harout Pamboukjian",
          "Harout Pamboukjian",
          "Harout Pamboukjian",
          "Harout Pamboukjian",
          "Harout Pamboukjian",
          "Harout Pamboukjian",
          "Harout Pamboukjian",
          "Harout Pamboukjian",
          "Harout Pamboukjian",
          "Harout Pamboukjian",
          "Harout Pamboukjian",
          "Harout Pamboukjian",
          "Harout Pamboukjian",
          "Harout Pamboukjian",
          "Harout Pamboukjian",
          "Harout Pamboukjian",
          "Harout Pamboukjian",
          "Harout Pamboukjian",
          "Harout Pamboukjian",
          "Harout Pamboukjian",
          "Harout Pamboukjian",
          "Harout Pamboukjian",
          "Հայկ Հակոբյան",
          "Հայկ Հակոբյան",
          "Հայկ Հակոբյան",
          "Հայկ Հակոբյան",
          "Հայկ Հակոբյան",
          "Հայկ Հակոբյան",
          "Հայկ Հակոբյան",
          "Հայկ Հակոբյան",
          "Հայկ Հակոբյան",
          "Հայկ Հակոբյան",
          "Հայկ Հակոբյան",
          "Հայկ Հակոբյան",
          "Հայկ Հակոբյան",
          "Հայկ Հակոբյան",
          "Հայկ Հակոբյան",
          "Հայկ Հակոբյան",
          "Հայկ Հակոբյան",
          "Հայկ Հակոբյան",
          "Հայկ Հակոբյան",
          "Հայկ Հակոբյան",
          "Հայկ Հակոբյան",
          "Հայկ Հակոբյան",
          "Հայկ Հակոբյան",
          "Aram MP3",
          "Aram MP3",
          "Arsen Safaryan",
          "Arsen Safaryan",
          "Arsen Safaryan",
          "Arsen Safaryan",
          "Arsen Safaryan",
          "Arsen Safaryan",
          "Arsen Safaryan",
          "Arsen Safaryan",
          "Arsen Safaryan",
          "Arsen Safaryan",
          "Arsen Safaryan",
          "Arsen Safaryan",
          "Arsen Safaryan",
          "Arsen Safaryan",
          "Arsen Safaryan",
          "Arsen Safaryan",
          "Arsen Safaryan",
          "Arsen Safaryan",
          "Arsen Safaryan",
          "Arsen Safaryan",
          "Arsen Safaryan",
          "Arsen Safaryan",
          "Arsen Safaryan",
          "Aram MP3",
          "Aram MP3",
          "Aram MP3",
          "Aram MP3",
          "Aram MP3",
          "Aram MP3",
          "Aram MP3",
          "Aram MP3",
          "Aram MP3",
          "Aram MP3",
          "Aram MP3",
          "Aram MP3",
          "Aram MP3",
          "Aram MP3",
          "Aram MP3",
          "Misho",
          "Misho",
          "Misho",
          "Misho",
          "Misho",
          "Misho",
          "Misho",
          "Misho",
          "Misho",
          "Misho",
          "Misho",
          "Misho",
          "Misho",
          "Misho",
          "Misho",
          "Misho",
          "Misho",
          "Misho",
          "Misho",
          "Misho",
          "Misho",
          "Misho",
          "Misho",
          "Misho",
          "Misho",
          "Misho",
          "Mi Qani Hogi",
          "Mi Qani Hogi",
          "Mi Qani Hogi",
          "Mi Qani Hogi",
          "Mi Qani Hogi",
          "Mi Qani Hogi",
          "Mi Qani Hogi",
          "Mi Qani Hogi",
          "Mi Qani Hogi",
          "Mi Qani Hogi",
          "Mi Qani Hogi",
          "Mi Qani Hogi",
          "Mi Qani Hogi",
          "Mi Qani Hogi",
          "Mi Qani Hogi"
         ],
         "x0": " ",
         "xaxis": "x",
         "y": [
          170,
          130,
          97,
          90,
          92,
          52,
          71,
          162,
          55,
          134,
          53,
          90,
          109,
          141,
          74,
          70,
          86,
          134,
          166,
          123,
          141,
          93,
          170,
          180,
          85,
          117,
          113,
          258,
          290,
          157,
          129,
          154,
          72,
          150,
          24,
          97,
          140,
          79,
          100,
          69,
          141,
          135,
          177,
          116,
          90,
          114,
          96,
          227,
          233,
          80,
          164,
          102,
          136,
          127,
          203,
          150,
          94,
          98,
          72,
          101,
          145,
          86,
          174,
          181,
          117,
          127,
          136,
          150,
          39,
          79,
          82,
          99,
          118,
          88,
          145,
          131,
          101,
          94,
          136,
          72,
          85,
          113,
          138,
          111,
          90,
          118,
          153,
          136,
          232,
          129,
          165,
          70,
          79,
          176,
          92,
          77,
          227,
          169,
          106,
          148,
          114,
          88,
          126,
          136,
          70,
          110,
          109,
          174,
          137,
          66,
          70,
          152,
          135,
          240,
          164,
          182,
          183,
          74,
          121,
          52,
          66,
          21,
          25,
          22,
          39,
          37,
          28,
          62,
          53,
          132,
          77,
          154,
          166,
          159,
          144,
          158,
          72,
          155,
          166,
          94,
          115,
          167,
          44,
          178,
          109,
          109,
          94,
          103,
          99,
          58,
          77,
          92,
          56,
          67,
          93,
          62,
          49,
          113,
          70,
          195,
          91,
          96,
          56,
          62,
          60,
          61,
          51,
          58,
          55,
          51,
          115,
          77,
          50,
          79,
          92,
          74,
          67,
          118,
          74,
          39,
          34,
          59,
          44,
          50,
          92,
          53,
          61,
          122,
          105,
          60,
          63,
          45,
          52,
          61,
          45,
          90,
          48,
          70,
          65,
          62,
          93,
          58,
          87,
          99,
          75,
          74,
          59,
          90,
          132,
          409,
          310,
          348,
          288,
          211,
          486,
          427,
          383,
          425,
          241,
          386,
          167,
          271,
          239,
          178,
          156,
          137,
          68,
          94,
          107,
          111,
          132,
          88,
          66,
          68,
          70,
          125,
          147,
          219,
          90,
          8,
          110,
          104,
          97,
          151,
          110,
          190,
          174,
          113,
          106,
          132,
          69,
          124,
          66,
          81,
          63,
          115,
          111,
          113,
          120,
          102,
          152,
          106,
          76,
          131,
          233,
          118,
          51,
          125,
          84,
          179,
          44,
          146,
          77,
          72,
          164,
          105,
          191,
          156,
          141,
          214,
          210,
          180,
          203,
          135,
          194,
          140,
          138,
          186,
          26,
          174,
          56,
          215,
          127,
          171,
          138,
          184,
          177,
          69,
          173,
          185,
          105,
          90,
          97,
          133,
          40,
          114,
          106,
          107,
          73,
          6,
          118,
          225,
          102,
          140,
          48,
          72,
          125,
          138,
          131,
          88,
          112,
          126,
          80,
          91,
          18,
          265,
          135,
          173,
          101,
          99,
          177,
          227,
          181,
          149,
          223,
          165,
          164,
          78,
          115,
          104,
          85,
          107,
          214,
          162,
          117,
          273,
          75,
          166,
          170,
          111,
          104,
          175,
          108,
          163,
          198,
          78,
          72,
          148,
          96,
          156,
          90,
          135,
          182,
          91,
          91,
          73,
          128,
          82,
          113,
          170,
          91,
          79,
          105,
          91,
          103,
          58,
          154,
          49,
          153,
          40,
          114,
          54,
          67,
          82,
          153,
          114,
          105,
          117,
          117,
          149,
          82,
          58,
          71,
          158,
          39,
          188,
          165,
          88,
          92,
          73,
          116,
          105,
          8,
          55,
          65,
          56,
          103,
          73,
          69,
          117,
          79,
          103,
          86,
          65,
          54,
          75,
          50,
          93,
          100,
          85,
          86,
          96,
          70,
          75,
          95,
          149,
          139,
          119,
          100,
          129,
          75,
          149,
          72,
          89,
          163,
          114,
          103,
          61,
          125,
          149,
          118,
          100,
          215,
          70,
          95,
          97,
          107,
          48,
          111,
          88,
          212,
          97,
          134,
          105,
          196,
          208,
          128,
          88,
          184,
          136,
          108,
          183,
          108,
          109,
          80,
          211,
          131,
          100,
          208,
          254,
          105,
          6,
          81,
          107,
          127,
          140,
          120,
          185,
          124,
          176,
          181,
          161,
          177,
          130,
          144,
          89,
          255,
          143,
          139,
          254,
          149,
          68,
          153,
          110,
          155,
          137,
          141,
          163,
          89,
          181,
          114,
          145,
          115,
          137,
          52,
          104
         ],
         "y0": " ",
         "yaxis": "y"
        }
       ],
       "layout": {
        "boxmode": "group",
        "legend": {
         "tracegroupgap": 0
        },
        "template": {
         "data": {
          "bar": [
           {
            "error_x": {
             "color": "#2a3f5f"
            },
            "error_y": {
             "color": "#2a3f5f"
            },
            "marker": {
             "line": {
              "color": "#E5ECF6",
              "width": 0.5
             },
             "pattern": {
              "fillmode": "overlay",
              "size": 10,
              "solidity": 0.2
             }
            },
            "type": "bar"
           }
          ],
          "barpolar": [
           {
            "marker": {
             "line": {
              "color": "#E5ECF6",
              "width": 0.5
             },
             "pattern": {
              "fillmode": "overlay",
              "size": 10,
              "solidity": 0.2
             }
            },
            "type": "barpolar"
           }
          ],
          "carpet": [
           {
            "aaxis": {
             "endlinecolor": "#2a3f5f",
             "gridcolor": "white",
             "linecolor": "white",
             "minorgridcolor": "white",
             "startlinecolor": "#2a3f5f"
            },
            "baxis": {
             "endlinecolor": "#2a3f5f",
             "gridcolor": "white",
             "linecolor": "white",
             "minorgridcolor": "white",
             "startlinecolor": "#2a3f5f"
            },
            "type": "carpet"
           }
          ],
          "choropleth": [
           {
            "colorbar": {
             "outlinewidth": 0,
             "ticks": ""
            },
            "type": "choropleth"
           }
          ],
          "contour": [
           {
            "colorbar": {
             "outlinewidth": 0,
             "ticks": ""
            },
            "colorscale": [
             [
              0,
              "#0d0887"
             ],
             [
              0.1111111111111111,
              "#46039f"
             ],
             [
              0.2222222222222222,
              "#7201a8"
             ],
             [
              0.3333333333333333,
              "#9c179e"
             ],
             [
              0.4444444444444444,
              "#bd3786"
             ],
             [
              0.5555555555555556,
              "#d8576b"
             ],
             [
              0.6666666666666666,
              "#ed7953"
             ],
             [
              0.7777777777777778,
              "#fb9f3a"
             ],
             [
              0.8888888888888888,
              "#fdca26"
             ],
             [
              1,
              "#f0f921"
             ]
            ],
            "type": "contour"
           }
          ],
          "contourcarpet": [
           {
            "colorbar": {
             "outlinewidth": 0,
             "ticks": ""
            },
            "type": "contourcarpet"
           }
          ],
          "heatmap": [
           {
            "colorbar": {
             "outlinewidth": 0,
             "ticks": ""
            },
            "colorscale": [
             [
              0,
              "#0d0887"
             ],
             [
              0.1111111111111111,
              "#46039f"
             ],
             [
              0.2222222222222222,
              "#7201a8"
             ],
             [
              0.3333333333333333,
              "#9c179e"
             ],
             [
              0.4444444444444444,
              "#bd3786"
             ],
             [
              0.5555555555555556,
              "#d8576b"
             ],
             [
              0.6666666666666666,
              "#ed7953"
             ],
             [
              0.7777777777777778,
              "#fb9f3a"
             ],
             [
              0.8888888888888888,
              "#fdca26"
             ],
             [
              1,
              "#f0f921"
             ]
            ],
            "type": "heatmap"
           }
          ],
          "heatmapgl": [
           {
            "colorbar": {
             "outlinewidth": 0,
             "ticks": ""
            },
            "colorscale": [
             [
              0,
              "#0d0887"
             ],
             [
              0.1111111111111111,
              "#46039f"
             ],
             [
              0.2222222222222222,
              "#7201a8"
             ],
             [
              0.3333333333333333,
              "#9c179e"
             ],
             [
              0.4444444444444444,
              "#bd3786"
             ],
             [
              0.5555555555555556,
              "#d8576b"
             ],
             [
              0.6666666666666666,
              "#ed7953"
             ],
             [
              0.7777777777777778,
              "#fb9f3a"
             ],
             [
              0.8888888888888888,
              "#fdca26"
             ],
             [
              1,
              "#f0f921"
             ]
            ],
            "type": "heatmapgl"
           }
          ],
          "histogram": [
           {
            "marker": {
             "pattern": {
              "fillmode": "overlay",
              "size": 10,
              "solidity": 0.2
             }
            },
            "type": "histogram"
           }
          ],
          "histogram2d": [
           {
            "colorbar": {
             "outlinewidth": 0,
             "ticks": ""
            },
            "colorscale": [
             [
              0,
              "#0d0887"
             ],
             [
              0.1111111111111111,
              "#46039f"
             ],
             [
              0.2222222222222222,
              "#7201a8"
             ],
             [
              0.3333333333333333,
              "#9c179e"
             ],
             [
              0.4444444444444444,
              "#bd3786"
             ],
             [
              0.5555555555555556,
              "#d8576b"
             ],
             [
              0.6666666666666666,
              "#ed7953"
             ],
             [
              0.7777777777777778,
              "#fb9f3a"
             ],
             [
              0.8888888888888888,
              "#fdca26"
             ],
             [
              1,
              "#f0f921"
             ]
            ],
            "type": "histogram2d"
           }
          ],
          "histogram2dcontour": [
           {
            "colorbar": {
             "outlinewidth": 0,
             "ticks": ""
            },
            "colorscale": [
             [
              0,
              "#0d0887"
             ],
             [
              0.1111111111111111,
              "#46039f"
             ],
             [
              0.2222222222222222,
              "#7201a8"
             ],
             [
              0.3333333333333333,
              "#9c179e"
             ],
             [
              0.4444444444444444,
              "#bd3786"
             ],
             [
              0.5555555555555556,
              "#d8576b"
             ],
             [
              0.6666666666666666,
              "#ed7953"
             ],
             [
              0.7777777777777778,
              "#fb9f3a"
             ],
             [
              0.8888888888888888,
              "#fdca26"
             ],
             [
              1,
              "#f0f921"
             ]
            ],
            "type": "histogram2dcontour"
           }
          ],
          "mesh3d": [
           {
            "colorbar": {
             "outlinewidth": 0,
             "ticks": ""
            },
            "type": "mesh3d"
           }
          ],
          "parcoords": [
           {
            "line": {
             "colorbar": {
              "outlinewidth": 0,
              "ticks": ""
             }
            },
            "type": "parcoords"
           }
          ],
          "pie": [
           {
            "automargin": true,
            "type": "pie"
           }
          ],
          "scatter": [
           {
            "fillpattern": {
             "fillmode": "overlay",
             "size": 10,
             "solidity": 0.2
            },
            "type": "scatter"
           }
          ],
          "scatter3d": [
           {
            "line": {
             "colorbar": {
              "outlinewidth": 0,
              "ticks": ""
             }
            },
            "marker": {
             "colorbar": {
              "outlinewidth": 0,
              "ticks": ""
             }
            },
            "type": "scatter3d"
           }
          ],
          "scattercarpet": [
           {
            "marker": {
             "colorbar": {
              "outlinewidth": 0,
              "ticks": ""
             }
            },
            "type": "scattercarpet"
           }
          ],
          "scattergeo": [
           {
            "marker": {
             "colorbar": {
              "outlinewidth": 0,
              "ticks": ""
             }
            },
            "type": "scattergeo"
           }
          ],
          "scattergl": [
           {
            "marker": {
             "colorbar": {
              "outlinewidth": 0,
              "ticks": ""
             }
            },
            "type": "scattergl"
           }
          ],
          "scattermapbox": [
           {
            "marker": {
             "colorbar": {
              "outlinewidth": 0,
              "ticks": ""
             }
            },
            "type": "scattermapbox"
           }
          ],
          "scatterpolar": [
           {
            "marker": {
             "colorbar": {
              "outlinewidth": 0,
              "ticks": ""
             }
            },
            "type": "scatterpolar"
           }
          ],
          "scatterpolargl": [
           {
            "marker": {
             "colorbar": {
              "outlinewidth": 0,
              "ticks": ""
             }
            },
            "type": "scatterpolargl"
           }
          ],
          "scatterternary": [
           {
            "marker": {
             "colorbar": {
              "outlinewidth": 0,
              "ticks": ""
             }
            },
            "type": "scatterternary"
           }
          ],
          "surface": [
           {
            "colorbar": {
             "outlinewidth": 0,
             "ticks": ""
            },
            "colorscale": [
             [
              0,
              "#0d0887"
             ],
             [
              0.1111111111111111,
              "#46039f"
             ],
             [
              0.2222222222222222,
              "#7201a8"
             ],
             [
              0.3333333333333333,
              "#9c179e"
             ],
             [
              0.4444444444444444,
              "#bd3786"
             ],
             [
              0.5555555555555556,
              "#d8576b"
             ],
             [
              0.6666666666666666,
              "#ed7953"
             ],
             [
              0.7777777777777778,
              "#fb9f3a"
             ],
             [
              0.8888888888888888,
              "#fdca26"
             ],
             [
              1,
              "#f0f921"
             ]
            ],
            "type": "surface"
           }
          ],
          "table": [
           {
            "cells": {
             "fill": {
              "color": "#EBF0F8"
             },
             "line": {
              "color": "white"
             }
            },
            "header": {
             "fill": {
              "color": "#C8D4E3"
             },
             "line": {
              "color": "white"
             }
            },
            "type": "table"
           }
          ]
         },
         "layout": {
          "annotationdefaults": {
           "arrowcolor": "#2a3f5f",
           "arrowhead": 0,
           "arrowwidth": 1
          },
          "autotypenumbers": "strict",
          "coloraxis": {
           "colorbar": {
            "outlinewidth": 0,
            "ticks": ""
           }
          },
          "colorscale": {
           "diverging": [
            [
             0,
             "#8e0152"
            ],
            [
             0.1,
             "#c51b7d"
            ],
            [
             0.2,
             "#de77ae"
            ],
            [
             0.3,
             "#f1b6da"
            ],
            [
             0.4,
             "#fde0ef"
            ],
            [
             0.5,
             "#f7f7f7"
            ],
            [
             0.6,
             "#e6f5d0"
            ],
            [
             0.7,
             "#b8e186"
            ],
            [
             0.8,
             "#7fbc41"
            ],
            [
             0.9,
             "#4d9221"
            ],
            [
             1,
             "#276419"
            ]
           ],
           "sequential": [
            [
             0,
             "#0d0887"
            ],
            [
             0.1111111111111111,
             "#46039f"
            ],
            [
             0.2222222222222222,
             "#7201a8"
            ],
            [
             0.3333333333333333,
             "#9c179e"
            ],
            [
             0.4444444444444444,
             "#bd3786"
            ],
            [
             0.5555555555555556,
             "#d8576b"
            ],
            [
             0.6666666666666666,
             "#ed7953"
            ],
            [
             0.7777777777777778,
             "#fb9f3a"
            ],
            [
             0.8888888888888888,
             "#fdca26"
            ],
            [
             1,
             "#f0f921"
            ]
           ],
           "sequentialminus": [
            [
             0,
             "#0d0887"
            ],
            [
             0.1111111111111111,
             "#46039f"
            ],
            [
             0.2222222222222222,
             "#7201a8"
            ],
            [
             0.3333333333333333,
             "#9c179e"
            ],
            [
             0.4444444444444444,
             "#bd3786"
            ],
            [
             0.5555555555555556,
             "#d8576b"
            ],
            [
             0.6666666666666666,
             "#ed7953"
            ],
            [
             0.7777777777777778,
             "#fb9f3a"
            ],
            [
             0.8888888888888888,
             "#fdca26"
            ],
            [
             1,
             "#f0f921"
            ]
           ]
          },
          "colorway": [
           "#636efa",
           "#EF553B",
           "#00cc96",
           "#ab63fa",
           "#FFA15A",
           "#19d3f3",
           "#FF6692",
           "#B6E880",
           "#FF97FF",
           "#FECB52"
          ],
          "font": {
           "color": "#2a3f5f"
          },
          "geo": {
           "bgcolor": "white",
           "lakecolor": "white",
           "landcolor": "#E5ECF6",
           "showlakes": true,
           "showland": true,
           "subunitcolor": "white"
          },
          "hoverlabel": {
           "align": "left"
          },
          "hovermode": "closest",
          "mapbox": {
           "style": "light"
          },
          "paper_bgcolor": "white",
          "plot_bgcolor": "#E5ECF6",
          "polar": {
           "angularaxis": {
            "gridcolor": "white",
            "linecolor": "white",
            "ticks": ""
           },
           "bgcolor": "#E5ECF6",
           "radialaxis": {
            "gridcolor": "white",
            "linecolor": "white",
            "ticks": ""
           }
          },
          "scene": {
           "xaxis": {
            "backgroundcolor": "#E5ECF6",
            "gridcolor": "white",
            "gridwidth": 2,
            "linecolor": "white",
            "showbackground": true,
            "ticks": "",
            "zerolinecolor": "white"
           },
           "yaxis": {
            "backgroundcolor": "#E5ECF6",
            "gridcolor": "white",
            "gridwidth": 2,
            "linecolor": "white",
            "showbackground": true,
            "ticks": "",
            "zerolinecolor": "white"
           },
           "zaxis": {
            "backgroundcolor": "#E5ECF6",
            "gridcolor": "white",
            "gridwidth": 2,
            "linecolor": "white",
            "showbackground": true,
            "ticks": "",
            "zerolinecolor": "white"
           }
          },
          "shapedefaults": {
           "line": {
            "color": "#2a3f5f"
           }
          },
          "ternary": {
           "aaxis": {
            "gridcolor": "white",
            "linecolor": "white",
            "ticks": ""
           },
           "baxis": {
            "gridcolor": "white",
            "linecolor": "white",
            "ticks": ""
           },
           "bgcolor": "#E5ECF6",
           "caxis": {
            "gridcolor": "white",
            "linecolor": "white",
            "ticks": ""
           }
          },
          "title": {
           "x": 0.05
          },
          "xaxis": {
           "automargin": true,
           "gridcolor": "white",
           "linecolor": "white",
           "ticks": "",
           "title": {
            "standoff": 15
           },
           "zerolinecolor": "white",
           "zerolinewidth": 2
          },
          "yaxis": {
           "automargin": true,
           "gridcolor": "white",
           "linecolor": "white",
           "ticks": "",
           "title": {
            "standoff": 15
           },
           "zerolinecolor": "white",
           "zerolinewidth": 2
          }
         }
        },
        "title": {
         "text": "Word count(hy) per song by artist"
        },
        "xaxis": {
         "anchor": "y",
         "domain": [
          0,
          1
         ],
         "title": {
          "text": "Artist"
         }
        },
        "yaxis": {
         "anchor": "x",
         "domain": [
          0,
          1
         ],
         "title": {
          "text": "n_tokens_hy"
         }
        }
       }
      },
      "text/html": [
       "<div>                            <div id=\"4b1f183a-b84b-41ea-b0a9-aa53f99b1ea9\" class=\"plotly-graph-div\" style=\"height:525px; width:100%;\"></div>            <script type=\"text/javascript\">                require([\"plotly\"], function(Plotly) {                    window.PLOTLYENV=window.PLOTLYENV || {};                                    if (document.getElementById(\"4b1f183a-b84b-41ea-b0a9-aa53f99b1ea9\")) {                    Plotly.newPlot(                        \"4b1f183a-b84b-41ea-b0a9-aa53f99b1ea9\",                        [{\"alignmentgroup\":\"True\",\"hovertemplate\":\"Artist=%{x}<br>n_tokens_hy=%{y}<extra></extra>\",\"legendgroup\":\"\",\"marker\":{\"color\":\"#636efa\"},\"name\":\"\",\"notched\":false,\"offsetgroup\":\"\",\"orientation\":\"v\",\"showlegend\":false,\"x\":[\"\\u0531\\u0550\\u0539\\u0548\\u0552\\u0550 \\u0544\\u0535\\u054d\\u0549\\u0545\\u0531\\u0546\",\"\\u0531\\u0550\\u0539\\u0548\\u0552\\u0550 \\u0544\\u0535\\u054d\\u0549\\u0545\\u0531\\u0546\",\"\\u0531\\u0550\\u0539\\u0548\\u0552\\u0550 \\u0544\\u0535\\u054d\\u0549\\u0545\\u0531\\u0546\",\"\\u0531\\u0550\\u0539\\u0548\\u0552\\u0550 \\u0544\\u0535\\u054d\\u0549\\u0545\\u0531\\u0546\",\"\\u0531\\u0550\\u0539\\u0548\\u0552\\u0550 \\u0544\\u0535\\u054d\\u0549\\u0545\\u0531\\u0546\",\"\\u0531\\u0550\\u0539\\u0548\\u0552\\u0550 \\u0544\\u0535\\u054d\\u0549\\u0545\\u0531\\u0546\",\"\\u0531\\u0550\\u0539\\u0548\\u0552\\u0550 \\u0544\\u0535\\u054d\\u0549\\u0545\\u0531\\u0546\",\"\\u0531\\u0550\\u0539\\u0548\\u0552\\u0550 \\u0544\\u0535\\u054d\\u0549\\u0545\\u0531\\u0546\",\"\\u0531\\u0550\\u0539\\u0548\\u0552\\u0550 \\u0544\\u0535\\u054d\\u0549\\u0545\\u0531\\u0546\",\"\\u0531\\u0550\\u0539\\u0548\\u0552\\u0550 \\u0544\\u0535\\u054d\\u0549\\u0545\\u0531\\u0546\",\"\\u0531\\u0550\\u0539\\u0548\\u0552\\u0550 \\u0544\\u0535\\u054d\\u0549\\u0545\\u0531\\u0546\",\"\\u0531\\u0550\\u0539\\u0548\\u0552\\u0550 \\u0544\\u0535\\u054d\\u0549\\u0545\\u0531\\u0546\",\"\\u0531\\u0550\\u0539\\u0548\\u0552\\u0550 \\u0544\\u0535\\u054d\\u0549\\u0545\\u0531\\u0546\",\"\\u0531\\u0550\\u0539\\u0548\\u0552\\u0550 \\u0544\\u0535\\u054d\\u0549\\u0545\\u0531\\u0546\",\"\\u0531\\u0550\\u0539\\u0548\\u0552\\u0550 \\u0544\\u0535\\u054d\\u0549\\u0545\\u0531\\u0546\",\"\\u0531\\u0550\\u0539\\u0548\\u0552\\u0550 \\u0544\\u0535\\u054d\\u0549\\u0545\\u0531\\u0546\",\"\\u0531\\u0550\\u0539\\u0548\\u0552\\u0550 \\u0544\\u0535\\u054d\\u0549\\u0545\\u0531\\u0546\",\"\\u0531\\u0550\\u0539\\u0548\\u0552\\u0550 \\u0544\\u0535\\u054d\\u0549\\u0545\\u0531\\u0546\",\"\\u0531\\u0550\\u0539\\u0548\\u0552\\u0550 \\u0544\\u0535\\u054d\\u0549\\u0545\\u0531\\u0546\",\"\\u0531\\u0550\\u0539\\u0548\\u0552\\u0550 \\u0544\\u0535\\u054d\\u0549\\u0545\\u0531\\u0546\",\"\\u0531\\u0550\\u0539\\u0548\\u0552\\u0550 \\u0544\\u0535\\u054d\\u0549\\u0545\\u0531\\u0546\",\"\\u0531\\u0550\\u0539\\u0548\\u0552\\u0550 \\u0544\\u0535\\u054d\\u0549\\u0545\\u0531\\u0546\",\"\\u0531\\u0550\\u0539\\u0548\\u0552\\u0550 \\u0544\\u0535\\u054d\\u0549\\u0545\\u0531\\u0546\",\"\\u0531\\u0550\\u0539\\u0548\\u0552\\u0550 \\u0544\\u0535\\u054d\\u0549\\u0545\\u0531\\u0546\",\"\\u0531\\u0550\\u0539\\u0548\\u0552\\u0550 \\u0544\\u0535\\u054d\\u0549\\u0545\\u0531\\u0546\",\"\\u0531\\u0550\\u0539\\u0548\\u0552\\u0550 \\u0544\\u0535\\u054d\\u0549\\u0545\\u0531\\u0546\",\"\\u0531\\u0550\\u0539\\u0548\\u0552\\u0550 \\u0544\\u0535\\u054d\\u0549\\u0545\\u0531\\u0546\",\"\\u0531\\u0550\\u0539\\u0548\\u0552\\u0550 \\u0544\\u0535\\u054d\\u0549\\u0545\\u0531\\u0546\",\"\\u0531\\u0550\\u0539\\u0548\\u0552\\u0550 \\u0544\\u0535\\u054d\\u0549\\u0545\\u0531\\u0546\",\"\\u0531\\u0550\\u0539\\u0548\\u0552\\u0550 \\u0544\\u0535\\u054d\\u0549\\u0545\\u0531\\u0546\",\"\\u0531\\u0550\\u0539\\u0548\\u0552\\u0550 \\u0544\\u0535\\u054d\\u0549\\u0545\\u0531\\u0546\",\"\\u0531\\u0550\\u0539\\u0548\\u0552\\u0550 \\u0544\\u0535\\u054d\\u0549\\u0545\\u0531\\u0546\",\"\\u0531\\u0550\\u0539\\u0548\\u0552\\u0550 \\u0544\\u0535\\u054d\\u0549\\u0545\\u0531\\u0546\",\"\\u0531\\u0550\\u0539\\u0548\\u0552\\u0550 \\u0544\\u0535\\u054d\\u0549\\u0545\\u0531\\u0546\",\"\\u0531\\u0550\\u0539\\u0548\\u0552\\u0550 \\u0544\\u0535\\u054d\\u0549\\u0545\\u0531\\u0546\",\"\\u0531\\u0550\\u0539\\u0548\\u0552\\u0550 \\u0544\\u0535\\u054d\\u0549\\u0545\\u0531\\u0546\",\"\\u0531\\u0550\\u0539\\u0548\\u0552\\u0550 \\u0544\\u0535\\u054d\\u0549\\u0545\\u0531\\u0546\",\"\\u0531\\u0550\\u0539\\u0548\\u0552\\u0550 \\u0544\\u0535\\u054d\\u0549\\u0545\\u0531\\u0546\",\"\\u0531\\u0550\\u0539\\u0548\\u0552\\u0550 \\u0544\\u0535\\u054d\\u0549\\u0545\\u0531\\u0546\",\"\\u0531\\u0550\\u0539\\u0548\\u0552\\u0550 \\u0544\\u0535\\u054d\\u0549\\u0545\\u0531\\u0546\",\"\\u0531\\u0550\\u0539\\u0548\\u0552\\u0550 \\u0544\\u0535\\u054d\\u0549\\u0545\\u0531\\u0546\",\"\\u0531\\u0550\\u0539\\u0548\\u0552\\u0550 \\u0544\\u0535\\u054d\\u0549\\u0545\\u0531\\u0546\",\"\\u0531\\u0550\\u0539\\u0548\\u0552\\u0550 \\u0544\\u0535\\u054d\\u0549\\u0545\\u0531\\u0546\",\"\\u0531\\u0550\\u0539\\u0548\\u0552\\u0550 \\u0544\\u0535\\u054d\\u0549\\u0545\\u0531\\u0546\",\"\\u0531\\u0550\\u0539\\u0548\\u0552\\u0550 \\u0544\\u0535\\u054d\\u0549\\u0545\\u0531\\u0546\",\"\\u0531\\u0550\\u0539\\u0548\\u0552\\u0550 \\u0544\\u0535\\u054d\\u0549\\u0545\\u0531\\u0546\",\"\\u0531\\u0550\\u0539\\u0548\\u0552\\u0550 \\u0544\\u0535\\u054d\\u0549\\u0545\\u0531\\u0546\",\"\\u0531\\u0550\\u0539\\u0548\\u0552\\u0550 \\u0544\\u0535\\u054d\\u0549\\u0545\\u0531\\u0546\",\"\\u0531\\u0550\\u0539\\u0548\\u0552\\u0550 \\u0544\\u0535\\u054d\\u0549\\u0545\\u0531\\u0546\",\"\\u0531\\u0550\\u0539\\u0548\\u0552\\u0550 \\u0544\\u0535\\u054d\\u0549\\u0545\\u0531\\u0546\",\"\\u054c\\u0548\\u0552\\u0532\\u0535\\u0546 \\u0540\\u0531\\u053d\\u054e\\u0535\\u0550\\u0534\\u0545\\u0531\\u0546\",\"\\u054c\\u0548\\u0552\\u0532\\u0535\\u0546 \\u0540\\u0531\\u053d\\u054e\\u0535\\u0550\\u0534\\u0545\\u0531\\u0546\",\"\\u054c\\u0548\\u0552\\u0532\\u0535\\u0546 \\u0540\\u0531\\u053d\\u054e\\u0535\\u0550\\u0534\\u0545\\u0531\\u0546\",\"\\u054c\\u0548\\u0552\\u0532\\u0535\\u0546 \\u0540\\u0531\\u053d\\u054e\\u0535\\u0550\\u0534\\u0545\\u0531\\u0546\",\"\\u054c\\u0548\\u0552\\u0532\\u0535\\u0546 \\u0540\\u0531\\u053d\\u054e\\u0535\\u0550\\u0534\\u0545\\u0531\\u0546\",\"\\u054c\\u0548\\u0552\\u0532\\u0535\\u0546 \\u0540\\u0531\\u053d\\u054e\\u0535\\u0550\\u0534\\u0545\\u0531\\u0546\",\"\\u054c\\u0548\\u0552\\u0532\\u0535\\u0546 \\u0540\\u0531\\u053d\\u054e\\u0535\\u0550\\u0534\\u0545\\u0531\\u0546\",\"\\u054c\\u0548\\u0552\\u0532\\u0535\\u0546 \\u0540\\u0531\\u053d\\u054e\\u0535\\u0550\\u0534\\u0545\\u0531\\u0546\",\"\\u054c\\u0548\\u0552\\u0532\\u0535\\u0546 \\u0540\\u0531\\u053d\\u054e\\u0535\\u0550\\u0534\\u0545\\u0531\\u0546\",\"\\u054c\\u0548\\u0552\\u0532\\u0535\\u0546 \\u0540\\u0531\\u053d\\u054e\\u0535\\u0550\\u0534\\u0545\\u0531\\u0546\",\"\\u054c\\u0548\\u0552\\u0532\\u0535\\u0546 \\u0540\\u0531\\u053d\\u054e\\u0535\\u0550\\u0534\\u0545\\u0531\\u0546\",\"\\u054c\\u0548\\u0552\\u0532\\u0535\\u0546 \\u0540\\u0531\\u053d\\u054e\\u0535\\u0550\\u0534\\u0545\\u0531\\u0546\",\"\\u054c\\u0548\\u0552\\u0532\\u0535\\u0546 \\u0540\\u0531\\u053d\\u054e\\u0535\\u0550\\u0534\\u0545\\u0531\\u0546\",\"\\u054c\\u0548\\u0552\\u0532\\u0535\\u0546 \\u0540\\u0531\\u053d\\u054e\\u0535\\u0550\\u0534\\u0545\\u0531\\u0546\",\"\\u054c\\u0548\\u0552\\u0532\\u0535\\u0546 \\u0540\\u0531\\u053d\\u054e\\u0535\\u0550\\u0534\\u0545\\u0531\\u0546\",\"\\u054c\\u0548\\u0552\\u0532\\u0535\\u0546 \\u0540\\u0531\\u053d\\u054e\\u0535\\u0550\\u0534\\u0545\\u0531\\u0546\",\"\\u054c\\u0548\\u0552\\u0532\\u0535\\u0546 \\u0540\\u0531\\u053d\\u054e\\u0535\\u0550\\u0534\\u0545\\u0531\\u0546\",\"\\u054c\\u0548\\u0552\\u0532\\u0535\\u0546 \\u0540\\u0531\\u053d\\u054e\\u0535\\u0550\\u0534\\u0545\\u0531\\u0546\",\"\\u054c\\u0548\\u0552\\u0532\\u0535\\u0546 \\u0540\\u0531\\u053d\\u054e\\u0535\\u0550\\u0534\\u0545\\u0531\\u0546\",\"\\u054c\\u0548\\u0552\\u0532\\u0535\\u0546 \\u0540\\u0531\\u053d\\u054e\\u0535\\u0550\\u0534\\u0545\\u0531\\u0546\",\"\\u054c\\u0548\\u0552\\u0532\\u0535\\u0546 \\u0540\\u0531\\u053d\\u054e\\u0535\\u0550\\u0534\\u0545\\u0531\\u0546\",\"\\u054c\\u0548\\u0552\\u0532\\u0535\\u0546 \\u0540\\u0531\\u053d\\u054e\\u0535\\u0550\\u0534\\u0545\\u0531\\u0546\",\"\\u054c\\u0548\\u0552\\u0532\\u0535\\u0546 \\u0540\\u0531\\u053d\\u054e\\u0535\\u0550\\u0534\\u0545\\u0531\\u0546\",\"\\u054c\\u0548\\u0552\\u0532\\u0535\\u0546 \\u0540\\u0531\\u053d\\u054e\\u0535\\u0550\\u0534\\u0545\\u0531\\u0546\",\"\\u054c\\u0548\\u0552\\u0532\\u0535\\u0546 \\u0540\\u0531\\u053d\\u054e\\u0535\\u0550\\u0534\\u0545\\u0531\\u0546\",\"\\u054c\\u0548\\u0552\\u0532\\u0535\\u0546 \\u0540\\u0531\\u053d\\u054e\\u0535\\u0550\\u0534\\u0545\\u0531\\u0546\",\"\\u054c\\u0548\\u0552\\u0532\\u0535\\u0546 \\u0540\\u0531\\u053d\\u054e\\u0535\\u0550\\u0534\\u0545\\u0531\\u0546\",\"\\u054c\\u0548\\u0552\\u0532\\u0535\\u0546 \\u0540\\u0531\\u053d\\u054e\\u0535\\u0550\\u0534\\u0545\\u0531\\u0546\",\"\\u054c\\u0548\\u0552\\u0532\\u0535\\u0546 \\u0540\\u0531\\u053d\\u054e\\u0535\\u0550\\u0534\\u0545\\u0531\\u0546\",\"\\u054c\\u0548\\u0552\\u0532\\u0535\\u0546 \\u0540\\u0531\\u053d\\u054e\\u0535\\u0550\\u0534\\u0545\\u0531\\u0546\",\"\\u054c\\u0548\\u0552\\u0532\\u0535\\u0546 \\u0540\\u0531\\u053d\\u054e\\u0535\\u0550\\u0534\\u0545\\u0531\\u0546\",\"\\u054c\\u0548\\u0552\\u0532\\u0535\\u0546 \\u0540\\u0531\\u053d\\u054e\\u0535\\u0550\\u0534\\u0545\\u0531\\u0546\",\"\\u054c\\u0548\\u0552\\u0532\\u0535\\u0546 \\u0540\\u0531\\u053d\\u054e\\u0535\\u0550\\u0534\\u0545\\u0531\\u0546\",\"\\u054c\\u0548\\u0552\\u0532\\u0535\\u0546 \\u0540\\u0531\\u053d\\u054e\\u0535\\u0550\\u0534\\u0545\\u0531\\u0546\",\"\\u054c\\u0548\\u0552\\u0532\\u0535\\u0546 \\u0540\\u0531\\u053d\\u054e\\u0535\\u0550\\u0534\\u0545\\u0531\\u0546\",\"\\u054c\\u0548\\u0552\\u0532\\u0535\\u0546 \\u0540\\u0531\\u053d\\u054e\\u0535\\u0550\\u0534\\u0545\\u0531\\u0546\",\"\\u054c\\u0548\\u0552\\u0532\\u0535\\u0546 \\u0540\\u0531\\u053d\\u054e\\u0535\\u0550\\u0534\\u0545\\u0531\\u0546\",\"\\u054c\\u0548\\u0552\\u0532\\u0535\\u0546 \\u0540\\u0531\\u053d\\u054e\\u0535\\u0550\\u0534\\u0545\\u0531\\u0546\",\"\\u054c\\u0548\\u0552\\u0532\\u0535\\u0546 \\u0540\\u0531\\u053d\\u054e\\u0535\\u0550\\u0534\\u0545\\u0531\\u0546\",\"\\u054c\\u0548\\u0552\\u0532\\u0535\\u0546 \\u0540\\u0531\\u053d\\u054e\\u0535\\u0550\\u0534\\u0545\\u0531\\u0546\",\"\\u054c\\u0548\\u0552\\u0532\\u0535\\u0546 \\u0540\\u0531\\u053d\\u054e\\u0535\\u0550\\u0534\\u0545\\u0531\\u0546\",\"\\u054c\\u0548\\u0552\\u0532\\u0535\\u0546 \\u0540\\u0531\\u053d\\u054e\\u0535\\u0550\\u0534\\u0545\\u0531\\u0546\",\"\\u054c\\u0548\\u0552\\u0532\\u0535\\u0546 \\u0540\\u0531\\u053d\\u054e\\u0535\\u0550\\u0534\\u0545\\u0531\\u0546\",\"\\u054c\\u0548\\u0552\\u0532\\u0535\\u0546 \\u0540\\u0531\\u053d\\u054e\\u0535\\u0550\\u0534\\u0545\\u0531\\u0546\",\"\\u054c\\u0548\\u0552\\u0532\\u0535\\u0546 \\u0540\\u0531\\u053d\\u054e\\u0535\\u0550\\u0534\\u0545\\u0531\\u0546\",\"\\u054c\\u0548\\u0552\\u0532\\u0535\\u0546 \\u0540\\u0531\\u053d\\u054e\\u0535\\u0550\\u0534\\u0545\\u0531\\u0546\",\"\\u054c\\u0548\\u0552\\u0532\\u0535\\u0546 \\u0540\\u0531\\u053d\\u054e\\u0535\\u0550\\u0534\\u0545\\u0531\\u0546\",\"\\u054c\\u0548\\u0552\\u0532\\u0535\\u0546 \\u0540\\u0531\\u053d\\u054e\\u0535\\u0550\\u0534\\u0545\\u0531\\u0546\",\"\\u054c\\u0548\\u0552\\u0532\\u0535\\u0546 \\u0540\\u0531\\u053d\\u054e\\u0535\\u0550\\u0534\\u0545\\u0531\\u0546\",\"\\u054c\\u0548\\u0552\\u0532\\u0535\\u0546 \\u0540\\u0531\\u053d\\u054e\\u0535\\u0550\\u0534\\u0545\\u0531\\u0546\",\"\\u054c\\u0548\\u0552\\u0532\\u0535\\u0546 \\u0540\\u0531\\u053d\\u054e\\u0535\\u0550\\u0534\\u0545\\u0531\\u0546\",\"\\u054c\\u0548\\u0552\\u0532\\u0535\\u0546 \\u0540\\u0531\\u053d\\u054e\\u0535\\u0550\\u0534\\u0545\\u0531\\u0546\",\"\\u054c\\u0548\\u0552\\u0532\\u0535\\u0546 \\u0540\\u0531\\u053d\\u054e\\u0535\\u0550\\u0534\\u0545\\u0531\\u0546\",\"\\u054c\\u0548\\u0552\\u0532\\u0535\\u0546 \\u0540\\u0531\\u053d\\u054e\\u0535\\u0550\\u0534\\u0545\\u0531\\u0546\",\"\\u054c\\u0548\\u0552\\u0532\\u0535\\u0546 \\u0540\\u0531\\u053d\\u054e\\u0535\\u0550\\u0534\\u0545\\u0531\\u0546\",\"\\u054c\\u0548\\u0552\\u0532\\u0535\\u0546 \\u0540\\u0531\\u053d\\u054e\\u0535\\u0550\\u0534\\u0545\\u0531\\u0546\",\"\\u054c\\u0548\\u0552\\u0532\\u0535\\u0546 \\u0540\\u0531\\u053d\\u054e\\u0535\\u0550\\u0534\\u0545\\u0531\\u0546\",\"\\u054c\\u0548\\u0552\\u0532\\u0535\\u0546 \\u0540\\u0531\\u053d\\u054e\\u0535\\u0550\\u0534\\u0545\\u0531\\u0546\",\"\\u054c\\u0548\\u0552\\u0532\\u0535\\u0546 \\u0540\\u0531\\u053d\\u054e\\u0535\\u0550\\u0534\\u0545\\u0531\\u0546\",\"\\u054c\\u0548\\u0552\\u0532\\u0535\\u0546 \\u0540\\u0531\\u053d\\u054e\\u0535\\u0550\\u0534\\u0545\\u0531\\u0546\",\"\\u054c\\u0548\\u0552\\u0532\\u0535\\u0546 \\u0540\\u0531\\u053d\\u054e\\u0535\\u0550\\u0534\\u0545\\u0531\\u0546\",\"\\u054c\\u0548\\u0552\\u0532\\u0535\\u0546 \\u0540\\u0531\\u053d\\u054e\\u0535\\u0550\\u0534\\u0545\\u0531\\u0546\",\"\\u054c\\u0548\\u0552\\u0532\\u0535\\u0546 \\u0540\\u0531\\u053d\\u054e\\u0535\\u0550\\u0534\\u0545\\u0531\\u0546\",\"\\u054c\\u0548\\u0552\\u0532\\u0535\\u0546 \\u0540\\u0531\\u053d\\u054e\\u0535\\u0550\\u0534\\u0545\\u0531\\u0546\",\"\\u054c\\u0548\\u0552\\u0532\\u0535\\u0546 \\u0540\\u0531\\u053d\\u054e\\u0535\\u0550\\u0534\\u0545\\u0531\\u0546\",\"\\u054c\\u0548\\u0552\\u0532\\u0535\\u0546 \\u0540\\u0531\\u053d\\u054e\\u0535\\u0550\\u0534\\u0545\\u0531\\u0546\",\"\\u054c\\u0548\\u0552\\u0532\\u0535\\u0546 \\u0540\\u0531\\u053d\\u054e\\u0535\\u0550\\u0534\\u0545\\u0531\\u0546\",\"\\u054c\\u0548\\u0552\\u0532\\u0535\\u0546 \\u0540\\u0531\\u053d\\u054e\\u0535\\u0550\\u0534\\u0545\\u0531\\u0546\",\"\\u054c\\u0548\\u0552\\u0532\\u0535\\u0546 \\u0540\\u0531\\u053d\\u054e\\u0535\\u0550\\u0534\\u0545\\u0531\\u0546\",\"\\u054c\\u0548\\u0552\\u0532\\u0535\\u0546 \\u0540\\u0531\\u053d\\u054e\\u0535\\u0550\\u0534\\u0545\\u0531\\u0546\",\"\\u054c\\u0548\\u0552\\u0532\\u0535\\u0546 \\u0540\\u0531\\u053d\\u054e\\u0535\\u0550\\u0534\\u0545\\u0531\\u0546\",\"\\u054c\\u0548\\u0552\\u0532\\u0535\\u0546 \\u0540\\u0531\\u053d\\u054e\\u0535\\u0550\\u0534\\u0545\\u0531\\u0546\",\"\\u054c\\u0548\\u0552\\u0532\\u0535\\u0546 \\u0540\\u0531\\u053d\\u054e\\u0535\\u0550\\u0534\\u0545\\u0531\\u0546\",\"\\u054c\\u0548\\u0552\\u0532\\u0535\\u0546 \\u0540\\u0531\\u053d\\u054e\\u0535\\u0550\\u0534\\u0545\\u0531\\u0546\",\"\\u054c\\u0548\\u0552\\u0532\\u0535\\u0546 \\u0540\\u0531\\u053d\\u054e\\u0535\\u0550\\u0534\\u0545\\u0531\\u0546\",\"\\u054c\\u0548\\u0552\\u0532\\u0535\\u0546 \\u0540\\u0531\\u053d\\u054e\\u0535\\u0550\\u0534\\u0545\\u0531\\u0546\",\"\\u054c\\u0548\\u0552\\u0532\\u0535\\u0546 \\u0540\\u0531\\u053d\\u054e\\u0535\\u0550\\u0534\\u0545\\u0531\\u0546\",\"\\u054c\\u0548\\u0552\\u0532\\u0535\\u0546 \\u0540\\u0531\\u053d\\u054e\\u0535\\u0550\\u0534\\u0545\\u0531\\u0546\",\"\\u054c\\u0548\\u0552\\u0532\\u0535\\u0546 \\u0540\\u0531\\u053d\\u054e\\u0535\\u0550\\u0534\\u0545\\u0531\\u0546\",\"\\u054c\\u0548\\u0552\\u0532\\u0535\\u0546 \\u0540\\u0531\\u053d\\u054e\\u0535\\u0550\\u0534\\u0545\\u0531\\u0546\",\"\\u054c\\u0548\\u0552\\u0532\\u0535\\u0546 \\u0540\\u0531\\u053d\\u054e\\u0535\\u0550\\u0534\\u0545\\u0531\\u0546\",\"\\u054d\\u0531\\u0545\\u0531\\u0539-\\u0546\\u0548\\u054e\\u0531\",\"\\u054d\\u0531\\u0545\\u0531\\u0539-\\u0546\\u0548\\u054e\\u0531\",\"\\u054d\\u0531\\u0545\\u0531\\u0539-\\u0546\\u0548\\u054e\\u0531\",\"\\u054d\\u0531\\u0545\\u0531\\u0539-\\u0546\\u0548\\u054e\\u0531\",\"\\u054d\\u0531\\u0545\\u0531\\u0539-\\u0546\\u0548\\u054e\\u0531\",\"\\u054d\\u0531\\u0545\\u0531\\u0539-\\u0546\\u0548\\u054e\\u0531\",\"\\u054d\\u0531\\u0545\\u0531\\u0539-\\u0546\\u0548\\u054e\\u0531\",\"\\u054d\\u0531\\u0545\\u0531\\u0539-\\u0546\\u0548\\u054e\\u0531\",\"\\u054d\\u0531\\u0545\\u0531\\u0539-\\u0546\\u0548\\u054e\\u0531\",\"\\u054d\\u0531\\u0545\\u0531\\u0539-\\u0546\\u0548\\u054e\\u0531\",\"\\u054d\\u0531\\u0545\\u0531\\u0539-\\u0546\\u0548\\u054e\\u0531\",\"\\u054d\\u0531\\u0545\\u0531\\u0539-\\u0546\\u0548\\u054e\\u0531\",\"\\u054d\\u0531\\u0545\\u0531\\u0539-\\u0546\\u0548\\u054e\\u0531\",\"\\u054d\\u0531\\u0545\\u0531\\u0539-\\u0546\\u0548\\u054e\\u0531\",\"\\u054d\\u0531\\u0545\\u0531\\u0539-\\u0546\\u0548\\u054e\\u0531\",\"\\u054d\\u0531\\u0545\\u0531\\u0539-\\u0546\\u0548\\u054e\\u0531\",\"\\u053f\\u0548\\u0544\\u053b\\u054f\\u0531\\u054d\",\"\\u053f\\u0548\\u0544\\u053b\\u054f\\u0531\\u054d\",\"\\u053f\\u0548\\u0544\\u053b\\u054f\\u0531\\u054d\",\"\\u053f\\u0548\\u0544\\u053b\\u054f\\u0531\\u054d\",\"\\u053f\\u0548\\u0544\\u053b\\u054f\\u0531\\u054d\",\"\\u053f\\u0548\\u0544\\u053b\\u054f\\u0531\\u054d\",\"\\u053f\\u0548\\u0544\\u053b\\u054f\\u0531\\u054d\",\"\\u053f\\u0548\\u0544\\u053b\\u054f\\u0531\\u054d\",\"\\u053f\\u0548\\u0544\\u053b\\u054f\\u0531\\u054d\",\"\\u053f\\u0548\\u0544\\u053b\\u054f\\u0531\\u054d\",\"\\u053f\\u0548\\u0544\\u053b\\u054f\\u0531\\u054d\",\"\\u053f\\u0548\\u0544\\u053b\\u054f\\u0531\\u054d\",\"\\u053f\\u0548\\u0544\\u053b\\u054f\\u0531\\u054d\",\"\\u053f\\u0548\\u0544\\u053b\\u054f\\u0531\\u054d\",\"\\u053f\\u0548\\u0544\\u053b\\u054f\\u0531\\u054d\",\"\\u053f\\u0548\\u0544\\u053b\\u054f\\u0531\\u054d\",\"\\u053f\\u0548\\u0544\\u053b\\u054f\\u0531\\u054d\",\"\\u053f\\u0548\\u0544\\u053b\\u054f\\u0531\\u054d\",\"\\u053f\\u0548\\u0544\\u053b\\u054f\\u0531\\u054d\",\"\\u053f\\u0548\\u0544\\u053b\\u054f\\u0531\\u054d\",\"\\u053f\\u0548\\u0544\\u053b\\u054f\\u0531\\u054d\",\"\\u053f\\u0548\\u0544\\u053b\\u054f\\u0531\\u054d\",\"\\u053f\\u0548\\u0544\\u053b\\u054f\\u0531\\u054d\",\"\\u053f\\u0548\\u0544\\u053b\\u054f\\u0531\\u054d\",\"\\u053f\\u0548\\u0544\\u053b\\u054f\\u0531\\u054d\",\"\\u053f\\u0548\\u0544\\u053b\\u054f\\u0531\\u054d\",\"\\u053f\\u0548\\u0544\\u053b\\u054f\\u0531\\u054d\",\"\\u053f\\u0548\\u0544\\u053b\\u054f\\u0531\\u054d\",\"\\u053f\\u0548\\u0544\\u053b\\u054f\\u0531\\u054d\",\"\\u053f\\u0548\\u0544\\u053b\\u054f\\u0531\\u054d\",\"\\u053f\\u0548\\u0544\\u053b\\u054f\\u0531\\u054d\",\"\\u053f\\u0548\\u0544\\u053b\\u054f\\u0531\\u054d\",\"\\u053f\\u0548\\u0544\\u053b\\u054f\\u0531\\u054d\",\"\\u053f\\u0548\\u0544\\u053b\\u054f\\u0531\\u054d\",\"\\u053f\\u0548\\u0544\\u053b\\u054f\\u0531\\u054d\",\"\\u053f\\u0548\\u0544\\u053b\\u054f\\u0531\\u054d\",\"\\u053f\\u0548\\u0544\\u053b\\u054f\\u0531\\u054d\",\"\\u053f\\u0548\\u0544\\u053b\\u054f\\u0531\\u054d\",\"\\u053f\\u0548\\u0544\\u053b\\u054f\\u0531\\u054d\",\"\\u053f\\u0548\\u0544\\u053b\\u054f\\u0531\\u054d\",\"\\u053f\\u0548\\u0544\\u053b\\u054f\\u0531\\u054d\",\"\\u053f\\u0548\\u0544\\u053b\\u054f\\u0531\\u054d\",\"\\u053f\\u0548\\u0544\\u053b\\u054f\\u0531\\u054d\",\"\\u053f\\u0548\\u0544\\u053b\\u054f\\u0531\\u054d\",\"\\u053f\\u0548\\u0544\\u053b\\u054f\\u0531\\u054d\",\"\\u053f\\u0548\\u0544\\u053b\\u054f\\u0531\\u054d\",\"\\u053f\\u0548\\u0544\\u053b\\u054f\\u0531\\u054d\",\"\\u053f\\u0548\\u0544\\u053b\\u054f\\u0531\\u054d\",\"\\u053f\\u0548\\u0544\\u053b\\u054f\\u0531\\u054d\",\"\\u053f\\u0548\\u0544\\u053b\\u054f\\u0531\\u054d\",\"\\u053f\\u0548\\u0544\\u053b\\u054f\\u0531\\u054d\",\"\\u053f\\u0548\\u0544\\u053b\\u054f\\u0531\\u054d\",\"\\u053f\\u0548\\u0544\\u053b\\u054f\\u0531\\u054d\",\"\\u053f\\u0548\\u0544\\u053b\\u054f\\u0531\\u054d\",\"\\u053f\\u0548\\u0544\\u053b\\u054f\\u0531\\u054d\",\"\\u053f\\u0548\\u0544\\u053b\\u054f\\u0531\\u054d\",\"\\u053f\\u0548\\u0544\\u053b\\u054f\\u0531\\u054d\",\"\\u053f\\u0548\\u0544\\u053b\\u054f\\u0531\\u054d\",\"\\u053f\\u0548\\u0544\\u053b\\u054f\\u0531\\u054d\",\"\\u053f\\u0548\\u0544\\u053b\\u054f\\u0531\\u054d\",\"\\u053f\\u0548\\u0544\\u053b\\u054f\\u0531\\u054d\",\"\\u053f\\u0548\\u0544\\u053b\\u054f\\u0531\\u054d\",\"HT Hayko\",\"HT Hayko\",\"HT Hayko\",\"HT Hayko\",\"HT Hayko\",\"HT Hayko\",\"HT Hayko\",\"HT Hayko\",\"HT Hayko\",\"HT Hayko\",\"HT Hayko\",\"HT Hayko\",\"HT Hayko\",\"HT Hayko\",\"HT Hayko\",\"HT Hayko\",\"Empyray\",\"Empyray\",\"Empyray\",\"Empyray\",\"Empyray\",\"Empyray\",\"Empyray\",\"Empyray\",\"Empyray\",\"Empyray\",\" Lav Eli\",\" Lav Eli\",\" Lav Eli\",\" Lav Eli\",\" Lav Eli\",\" Lav Eli\",\" Lav Eli\",\" Lav Eli\",\" Lav Eli\",\"Silva Hakobyan\",\"Silva Hakobyan\",\"Silva Hakobyan\",\"Silva Hakobyan\",\"Silva Hakobyan\",\"Silva Hakobyan\",\"Silva Hakobyan\",\"Silva Hakobyan\",\"Silva Hakobyan\",\"Silva Hakobyan\",\"Silva Hakobyan\",\"Silva Hakobyan\",\"Silva Hakobyan\",\"Silva Hakobyan\",\"Silva Hakobyan\",\"Silva Hakobyan\",\"Silva Hakobyan\",\"Silva Hakobyan\",\"Silva Hakobyan\",\"Silva Hakobyan\",\"\\u0531\\u0576\\u0564\\u0580\\u0565\",\"\\u0531\\u0576\\u0564\\u0580\\u0565\",\"\\u0531\\u0576\\u0564\\u0580\\u0565\",\"\\u0531\\u0576\\u0564\\u0580\\u0565\",\"\\u0531\\u0576\\u0564\\u0580\\u0565\",\"\\u0531\\u0576\\u0564\\u0580\\u0565\",\"\\u0531\\u0576\\u0564\\u0580\\u0565\",\"\\u0531\\u0576\\u0564\\u0580\\u0565\",\"\\u0531\\u0576\\u0564\\u0580\\u0565\",\"\\u0531\\u0576\\u0564\\u0580\\u0565\",\"\\u0531\\u0576\\u0564\\u0580\\u0565\",\"\\u0531\\u0576\\u0564\\u0580\\u0565\",\"\\u053c\\u056b\\u056c\\u056b\\u0569 \\u0540\\u0578\\u057e\\u0570\\u0561\\u0576\\u0576\\u056b\\u057d\\u0575\\u0561\\u0576\",\"\\u053c\\u056b\\u056c\\u056b\\u0569 \\u0540\\u0578\\u057e\\u0570\\u0561\\u0576\\u0576\\u056b\\u057d\\u0575\\u0561\\u0576\",\"\\u053c\\u056b\\u056c\\u056b\\u0569 \\u0540\\u0578\\u057e\\u0570\\u0561\\u0576\\u0576\\u056b\\u057d\\u0575\\u0561\\u0576\",\"\\u053c\\u056b\\u056c\\u056b\\u0569 \\u0540\\u0578\\u057e\\u0570\\u0561\\u0576\\u0576\\u056b\\u057d\\u0575\\u0561\\u0576\",\"\\u053c\\u056b\\u056c\\u056b\\u0569 \\u0540\\u0578\\u057e\\u0570\\u0561\\u0576\\u0576\\u056b\\u057d\\u0575\\u0561\\u0576\",\"\\u053c\\u056b\\u056c\\u056b\\u0569 \\u0540\\u0578\\u057e\\u0570\\u0561\\u0576\\u0576\\u056b\\u057d\\u0575\\u0561\\u0576\",\"\\u053c\\u056b\\u056c\\u056b\\u0569 \\u0540\\u0578\\u057e\\u0570\\u0561\\u0576\\u0576\\u056b\\u057d\\u0575\\u0561\\u0576\",\"\\u053c\\u056b\\u056c\\u056b\\u0569 \\u0540\\u0578\\u057e\\u0570\\u0561\\u0576\\u0576\\u056b\\u057d\\u0575\\u0561\\u0576\",\"\\u053c\\u056b\\u056c\\u056b\\u0569 \\u0540\\u0578\\u057e\\u0570\\u0561\\u0576\\u0576\\u056b\\u057d\\u0575\\u0561\\u0576\",\"\\u053c\\u056b\\u056c\\u056b\\u0569 \\u0540\\u0578\\u057e\\u0570\\u0561\\u0576\\u0576\\u056b\\u057d\\u0575\\u0561\\u0576\",\"\\u053c\\u056b\\u056c\\u056b\\u0569 \\u0540\\u0578\\u057e\\u0570\\u0561\\u0576\\u0576\\u056b\\u057d\\u0575\\u0561\\u0576\",\"\\u053c\\u056b\\u056c\\u056b\\u0569 \\u0540\\u0578\\u057e\\u0570\\u0561\\u0576\\u0576\\u056b\\u057d\\u0575\\u0561\\u0576\",\"\\u053c\\u056b\\u056c\\u056b\\u0569 \\u0540\\u0578\\u057e\\u0570\\u0561\\u0576\\u0576\\u056b\\u057d\\u0575\\u0561\\u0576\",\"\\u053c\\u056b\\u056c\\u056b\\u0569 \\u0540\\u0578\\u057e\\u0570\\u0561\\u0576\\u0576\\u056b\\u057d\\u0575\\u0561\\u0576\",\"\\u053c\\u056b\\u056c\\u056b\\u0569 \\u0540\\u0578\\u057e\\u0570\\u0561\\u0576\\u0576\\u056b\\u057d\\u0575\\u0561\\u0576\",\"\\u053c\\u056b\\u056c\\u056b\\u0569 \\u0540\\u0578\\u057e\\u0570\\u0561\\u0576\\u0576\\u056b\\u057d\\u0575\\u0561\\u0576\",\"\\u053c\\u056b\\u056c\\u056b\\u0569 \\u0540\\u0578\\u057e\\u0570\\u0561\\u0576\\u0576\\u056b\\u057d\\u0575\\u0561\\u0576\",\"\\u053c\\u056b\\u056c\\u056b\\u0569 \\u0540\\u0578\\u057e\\u0570\\u0561\\u0576\\u0576\\u056b\\u057d\\u0575\\u0561\\u0576\",\"\\u053c\\u056b\\u056c\\u056b\\u0569 \\u0540\\u0578\\u057e\\u0570\\u0561\\u0576\\u0576\\u056b\\u057d\\u0575\\u0561\\u0576\",\"\\u053c\\u056b\\u056c\\u056b\\u0569 \\u0540\\u0578\\u057e\\u0570\\u0561\\u0576\\u0576\\u056b\\u057d\\u0575\\u0561\\u0576\",\"\\u053c\\u056b\\u056c\\u056b\\u0569 \\u0540\\u0578\\u057e\\u0570\\u0561\\u0576\\u0576\\u056b\\u057d\\u0575\\u0561\\u0576\",\"\\u053c\\u056b\\u056c\\u056b\\u0569 \\u0540\\u0578\\u057e\\u0570\\u0561\\u0576\\u0576\\u056b\\u057d\\u0575\\u0561\\u0576\",\"\\u053c\\u056b\\u056c\\u056b\\u0569 \\u0540\\u0578\\u057e\\u0570\\u0561\\u0576\\u0576\\u056b\\u057d\\u0575\\u0561\\u0576\",\"\\u053c\\u056b\\u056c\\u056b\\u0569 \\u0540\\u0578\\u057e\\u0570\\u0561\\u0576\\u0576\\u056b\\u057d\\u0575\\u0561\\u0576\",\"\\u054d\\u056b\\u0580\\u0578\\u0582\\u0577\\u0578\",\"\\u054d\\u056b\\u0580\\u0578\\u0582\\u0577\\u0578\",\"\\u054d\\u056b\\u0580\\u0578\\u0582\\u0577\\u0578\",\"\\u054d\\u056b\\u0580\\u0578\\u0582\\u0577\\u0578\",\"\\u054d\\u056b\\u0580\\u0578\\u0582\\u0577\\u0578\",\"\\u054d\\u056b\\u0580\\u0578\\u0582\\u0577\\u0578\",\"\\u054d\\u056b\\u0580\\u0578\\u0582\\u0577\\u0578\",\"\\u054d\\u056b\\u0580\\u0578\\u0582\\u0577\\u0578\",\"\\u054d\\u056b\\u0580\\u0578\\u0582\\u0577\\u0578\",\"\\u054d\\u056b\\u0580\\u0578\\u0582\\u0577\\u0578\",\"\\u054d\\u056b\\u0580\\u0578\\u0582\\u0577\\u0578\",\"\\u054d\\u056b\\u0580\\u0578\\u0582\\u0577\\u0578\",\"\\u054d\\u056b\\u0580\\u0578\\u0582\\u0577\\u0578\",\"\\u054d\\u056b\\u0580\\u0578\\u0582\\u0577\\u0578\",\"\\u054d\\u056b\\u0580\\u0578\\u0582\\u0577\\u0578\",\"\\u054d\\u056b\\u0580\\u0578\\u0582\\u0577\\u0578\",\"\\u054d\\u056b\\u0580\\u0578\\u0582\\u0577\\u0578\",\"\\u054d\\u056b\\u0580\\u0578\\u0582\\u0577\\u0578\",\"\\u054d\\u056b\\u0580\\u0578\\u0582\\u0577\\u0578\",\"\\u054d\\u056b\\u0580\\u0578\\u0582\\u0577\\u0578\",\"\\u054d\\u056b\\u0580\\u0578\\u0582\\u0577\\u0578\",\"\\u054d\\u056b\\u0580\\u0578\\u0582\\u0577\\u0578\",\"\\u054d\\u056b\\u0580\\u0578\\u0582\\u0577\\u0578\",\"\\u054d\\u056b\\u0580\\u0578\\u0582\\u0577\\u0578\",\"\\u054d\\u056b\\u0580\\u0578\\u0582\\u0577\\u0578\",\"\\u0544\\u056b\\u0570\\u0580\\u0561\\u0576 \\u053e\\u0561\\u057c\\u0578\\u0582\\u056f\\u0575\\u0561\\u0576\",\"\\u0544\\u056b\\u0570\\u0580\\u0561\\u0576 \\u053e\\u0561\\u057c\\u0578\\u0582\\u056f\\u0575\\u0561\\u0576\",\"\\u0544\\u056b\\u0570\\u0580\\u0561\\u0576 \\u053e\\u0561\\u057c\\u0578\\u0582\\u056f\\u0575\\u0561\\u0576\",\"\\u0544\\u056b\\u0570\\u0580\\u0561\\u0576 \\u053e\\u0561\\u057c\\u0578\\u0582\\u056f\\u0575\\u0561\\u0576\",\"\\u0544\\u056b\\u0570\\u0580\\u0561\\u0576 \\u053e\\u0561\\u057c\\u0578\\u0582\\u056f\\u0575\\u0561\\u0576\",\"\\u0544\\u056b\\u0570\\u0580\\u0561\\u0576 \\u053e\\u0561\\u057c\\u0578\\u0582\\u056f\\u0575\\u0561\\u0576\",\"\\u0544\\u056b\\u0570\\u0580\\u0561\\u0576 \\u053e\\u0561\\u057c\\u0578\\u0582\\u056f\\u0575\\u0561\\u0576\",\"\\u0544\\u056b\\u0570\\u0580\\u0561\\u0576 \\u053e\\u0561\\u057c\\u0578\\u0582\\u056f\\u0575\\u0561\\u0576\",\"\\u0544\\u056b\\u0570\\u0580\\u0561\\u0576 \\u053e\\u0561\\u057c\\u0578\\u0582\\u056f\\u0575\\u0561\\u0576\",\"\\u0544\\u056b\\u0570\\u0580\\u0561\\u0576 \\u053e\\u0561\\u057c\\u0578\\u0582\\u056f\\u0575\\u0561\\u0576\",\"\\u0544\\u056b\\u0570\\u0580\\u0561\\u0576 \\u053e\\u0561\\u057c\\u0578\\u0582\\u056f\\u0575\\u0561\\u0576\",\"\\u0544\\u056b\\u0570\\u0580\\u0561\\u0576 \\u053e\\u0561\\u057c\\u0578\\u0582\\u056f\\u0575\\u0561\\u0576\",\"\\u0544\\u056b\\u0570\\u0580\\u0561\\u0576 \\u053e\\u0561\\u057c\\u0578\\u0582\\u056f\\u0575\\u0561\\u0576\",\"\\u0544\\u056b\\u0570\\u0580\\u0561\\u0576 \\u053e\\u0561\\u057c\\u0578\\u0582\\u056f\\u0575\\u0561\\u0576\",\"\\u0544\\u056b\\u0570\\u0580\\u0561\\u0576 \\u053e\\u0561\\u057c\\u0578\\u0582\\u056f\\u0575\\u0561\\u0576\",\"\\u0544\\u056b\\u0570\\u0580\\u0561\\u0576 \\u053e\\u0561\\u057c\\u0578\\u0582\\u056f\\u0575\\u0561\\u0576\",\"\\u0544\\u056b\\u0570\\u0580\\u0561\\u0576 \\u053e\\u0561\\u057c\\u0578\\u0582\\u056f\\u0575\\u0561\\u0576\",\"\\u0544\\u056b\\u0570\\u0580\\u0561\\u0576 \\u053e\\u0561\\u057c\\u0578\\u0582\\u056f\\u0575\\u0561\\u0576\",\"Arame\",\"Arame\",\"Arame\",\"Arame\",\"Arame\",\"Arame\",\"Arame\",\"Arame\",\"Arame\",\"Razmik Amyan\",\"Razmik Amyan\",\"Razmik Amyan\",\"Razmik Amyan\",\"Razmik Amyan\",\"Razmik Amyan\",\"Razmik Amyan\",\"Razmik Amyan\",\"Razmik Amyan\",\"Razmik Amyan\",\"Razmik Amyan\",\"Razmik Amyan\",\"Razmik Amyan\",\"Razmik Amyan\",\"Razmik Amyan\",\"Razmik Amyan\",\"Razmik Amyan\",\"Razmik Amyan\",\"Harout Pamboukjian\",\"Harout Pamboukjian\",\"Harout Pamboukjian\",\"Harout Pamboukjian\",\"Harout Pamboukjian\",\"Harout Pamboukjian\",\"Harout Pamboukjian\",\"Harout Pamboukjian\",\"Harout Pamboukjian\",\"Harout Pamboukjian\",\"Harout Pamboukjian\",\"Harout Pamboukjian\",\"Harout Pamboukjian\",\"Harout Pamboukjian\",\"Harout Pamboukjian\",\"Harout Pamboukjian\",\"Harout Pamboukjian\",\"Harout Pamboukjian\",\"Harout Pamboukjian\",\"Harout Pamboukjian\",\"Harout Pamboukjian\",\"Harout Pamboukjian\",\"Harout Pamboukjian\",\"Harout Pamboukjian\",\"Harout Pamboukjian\",\"Harout Pamboukjian\",\"Harout Pamboukjian\",\"Harout Pamboukjian\",\"Harout Pamboukjian\",\"Harout Pamboukjian\",\"Harout Pamboukjian\",\"Harout Pamboukjian\",\"\\u0540\\u0561\\u0575\\u056f \\u0540\\u0561\\u056f\\u0578\\u0562\\u0575\\u0561\\u0576\",\"\\u0540\\u0561\\u0575\\u056f \\u0540\\u0561\\u056f\\u0578\\u0562\\u0575\\u0561\\u0576\",\"\\u0540\\u0561\\u0575\\u056f \\u0540\\u0561\\u056f\\u0578\\u0562\\u0575\\u0561\\u0576\",\"\\u0540\\u0561\\u0575\\u056f \\u0540\\u0561\\u056f\\u0578\\u0562\\u0575\\u0561\\u0576\",\"\\u0540\\u0561\\u0575\\u056f \\u0540\\u0561\\u056f\\u0578\\u0562\\u0575\\u0561\\u0576\",\"\\u0540\\u0561\\u0575\\u056f \\u0540\\u0561\\u056f\\u0578\\u0562\\u0575\\u0561\\u0576\",\"\\u0540\\u0561\\u0575\\u056f \\u0540\\u0561\\u056f\\u0578\\u0562\\u0575\\u0561\\u0576\",\"\\u0540\\u0561\\u0575\\u056f \\u0540\\u0561\\u056f\\u0578\\u0562\\u0575\\u0561\\u0576\",\"\\u0540\\u0561\\u0575\\u056f \\u0540\\u0561\\u056f\\u0578\\u0562\\u0575\\u0561\\u0576\",\"\\u0540\\u0561\\u0575\\u056f \\u0540\\u0561\\u056f\\u0578\\u0562\\u0575\\u0561\\u0576\",\"\\u0540\\u0561\\u0575\\u056f \\u0540\\u0561\\u056f\\u0578\\u0562\\u0575\\u0561\\u0576\",\"\\u0540\\u0561\\u0575\\u056f \\u0540\\u0561\\u056f\\u0578\\u0562\\u0575\\u0561\\u0576\",\"\\u0540\\u0561\\u0575\\u056f \\u0540\\u0561\\u056f\\u0578\\u0562\\u0575\\u0561\\u0576\",\"\\u0540\\u0561\\u0575\\u056f \\u0540\\u0561\\u056f\\u0578\\u0562\\u0575\\u0561\\u0576\",\"\\u0540\\u0561\\u0575\\u056f \\u0540\\u0561\\u056f\\u0578\\u0562\\u0575\\u0561\\u0576\",\"\\u0540\\u0561\\u0575\\u056f \\u0540\\u0561\\u056f\\u0578\\u0562\\u0575\\u0561\\u0576\",\"\\u0540\\u0561\\u0575\\u056f \\u0540\\u0561\\u056f\\u0578\\u0562\\u0575\\u0561\\u0576\",\"\\u0540\\u0561\\u0575\\u056f \\u0540\\u0561\\u056f\\u0578\\u0562\\u0575\\u0561\\u0576\",\"\\u0540\\u0561\\u0575\\u056f \\u0540\\u0561\\u056f\\u0578\\u0562\\u0575\\u0561\\u0576\",\"\\u0540\\u0561\\u0575\\u056f \\u0540\\u0561\\u056f\\u0578\\u0562\\u0575\\u0561\\u0576\",\"\\u0540\\u0561\\u0575\\u056f \\u0540\\u0561\\u056f\\u0578\\u0562\\u0575\\u0561\\u0576\",\"\\u0540\\u0561\\u0575\\u056f \\u0540\\u0561\\u056f\\u0578\\u0562\\u0575\\u0561\\u0576\",\"\\u0540\\u0561\\u0575\\u056f \\u0540\\u0561\\u056f\\u0578\\u0562\\u0575\\u0561\\u0576\",\"Aram MP3\",\"Aram MP3\",\"Arsen Safaryan\",\"Arsen Safaryan\",\"Arsen Safaryan\",\"Arsen Safaryan\",\"Arsen Safaryan\",\"Arsen Safaryan\",\"Arsen Safaryan\",\"Arsen Safaryan\",\"Arsen Safaryan\",\"Arsen Safaryan\",\"Arsen Safaryan\",\"Arsen Safaryan\",\"Arsen Safaryan\",\"Arsen Safaryan\",\"Arsen Safaryan\",\"Arsen Safaryan\",\"Arsen Safaryan\",\"Arsen Safaryan\",\"Arsen Safaryan\",\"Arsen Safaryan\",\"Arsen Safaryan\",\"Arsen Safaryan\",\"Arsen Safaryan\",\"Aram MP3\",\"Aram MP3\",\"Aram MP3\",\"Aram MP3\",\"Aram MP3\",\"Aram MP3\",\"Aram MP3\",\"Aram MP3\",\"Aram MP3\",\"Aram MP3\",\"Aram MP3\",\"Aram MP3\",\"Aram MP3\",\"Aram MP3\",\"Aram MP3\",\"Misho\",\"Misho\",\"Misho\",\"Misho\",\"Misho\",\"Misho\",\"Misho\",\"Misho\",\"Misho\",\"Misho\",\"Misho\",\"Misho\",\"Misho\",\"Misho\",\"Misho\",\"Misho\",\"Misho\",\"Misho\",\"Misho\",\"Misho\",\"Misho\",\"Misho\",\"Misho\",\"Misho\",\"Misho\",\"Misho\",\"Mi Qani Hogi\",\"Mi Qani Hogi\",\"Mi Qani Hogi\",\"Mi Qani Hogi\",\"Mi Qani Hogi\",\"Mi Qani Hogi\",\"Mi Qani Hogi\",\"Mi Qani Hogi\",\"Mi Qani Hogi\",\"Mi Qani Hogi\",\"Mi Qani Hogi\",\"Mi Qani Hogi\",\"Mi Qani Hogi\",\"Mi Qani Hogi\",\"Mi Qani Hogi\"],\"x0\":\" \",\"xaxis\":\"x\",\"y\":[170,130,97,90,92,52,71,162,55,134,53,90,109,141,74,70,86,134,166,123,141,93,170,180,85,117,113,258,290,157,129,154,72,150,24,97,140,79,100,69,141,135,177,116,90,114,96,227,233,80,164,102,136,127,203,150,94,98,72,101,145,86,174,181,117,127,136,150,39,79,82,99,118,88,145,131,101,94,136,72,85,113,138,111,90,118,153,136,232,129,165,70,79,176,92,77,227,169,106,148,114,88,126,136,70,110,109,174,137,66,70,152,135,240,164,182,183,74,121,52,66,21,25,22,39,37,28,62,53,132,77,154,166,159,144,158,72,155,166,94,115,167,44,178,109,109,94,103,99,58,77,92,56,67,93,62,49,113,70,195,91,96,56,62,60,61,51,58,55,51,115,77,50,79,92,74,67,118,74,39,34,59,44,50,92,53,61,122,105,60,63,45,52,61,45,90,48,70,65,62,93,58,87,99,75,74,59,90,132,409,310,348,288,211,486,427,383,425,241,386,167,271,239,178,156,137,68,94,107,111,132,88,66,68,70,125,147,219,90,8,110,104,97,151,110,190,174,113,106,132,69,124,66,81,63,115,111,113,120,102,152,106,76,131,233,118,51,125,84,179,44,146,77,72,164,105,191,156,141,214,210,180,203,135,194,140,138,186,26,174,56,215,127,171,138,184,177,69,173,185,105,90,97,133,40,114,106,107,73,6,118,225,102,140,48,72,125,138,131,88,112,126,80,91,18,265,135,173,101,99,177,227,181,149,223,165,164,78,115,104,85,107,214,162,117,273,75,166,170,111,104,175,108,163,198,78,72,148,96,156,90,135,182,91,91,73,128,82,113,170,91,79,105,91,103,58,154,49,153,40,114,54,67,82,153,114,105,117,117,149,82,58,71,158,39,188,165,88,92,73,116,105,8,55,65,56,103,73,69,117,79,103,86,65,54,75,50,93,100,85,86,96,70,75,95,149,139,119,100,129,75,149,72,89,163,114,103,61,125,149,118,100,215,70,95,97,107,48,111,88,212,97,134,105,196,208,128,88,184,136,108,183,108,109,80,211,131,100,208,254,105,6,81,107,127,140,120,185,124,176,181,161,177,130,144,89,255,143,139,254,149,68,153,110,155,137,141,163,89,181,114,145,115,137,52,104],\"y0\":\" \",\"yaxis\":\"y\",\"type\":\"box\"}],                        {\"template\":{\"data\":{\"histogram2dcontour\":[{\"type\":\"histogram2dcontour\",\"colorbar\":{\"outlinewidth\":0,\"ticks\":\"\"},\"colorscale\":[[0.0,\"#0d0887\"],[0.1111111111111111,\"#46039f\"],[0.2222222222222222,\"#7201a8\"],[0.3333333333333333,\"#9c179e\"],[0.4444444444444444,\"#bd3786\"],[0.5555555555555556,\"#d8576b\"],[0.6666666666666666,\"#ed7953\"],[0.7777777777777778,\"#fb9f3a\"],[0.8888888888888888,\"#fdca26\"],[1.0,\"#f0f921\"]]}],\"choropleth\":[{\"type\":\"choropleth\",\"colorbar\":{\"outlinewidth\":0,\"ticks\":\"\"}}],\"histogram2d\":[{\"type\":\"histogram2d\",\"colorbar\":{\"outlinewidth\":0,\"ticks\":\"\"},\"colorscale\":[[0.0,\"#0d0887\"],[0.1111111111111111,\"#46039f\"],[0.2222222222222222,\"#7201a8\"],[0.3333333333333333,\"#9c179e\"],[0.4444444444444444,\"#bd3786\"],[0.5555555555555556,\"#d8576b\"],[0.6666666666666666,\"#ed7953\"],[0.7777777777777778,\"#fb9f3a\"],[0.8888888888888888,\"#fdca26\"],[1.0,\"#f0f921\"]]}],\"heatmap\":[{\"type\":\"heatmap\",\"colorbar\":{\"outlinewidth\":0,\"ticks\":\"\"},\"colorscale\":[[0.0,\"#0d0887\"],[0.1111111111111111,\"#46039f\"],[0.2222222222222222,\"#7201a8\"],[0.3333333333333333,\"#9c179e\"],[0.4444444444444444,\"#bd3786\"],[0.5555555555555556,\"#d8576b\"],[0.6666666666666666,\"#ed7953\"],[0.7777777777777778,\"#fb9f3a\"],[0.8888888888888888,\"#fdca26\"],[1.0,\"#f0f921\"]]}],\"heatmapgl\":[{\"type\":\"heatmapgl\",\"colorbar\":{\"outlinewidth\":0,\"ticks\":\"\"},\"colorscale\":[[0.0,\"#0d0887\"],[0.1111111111111111,\"#46039f\"],[0.2222222222222222,\"#7201a8\"],[0.3333333333333333,\"#9c179e\"],[0.4444444444444444,\"#bd3786\"],[0.5555555555555556,\"#d8576b\"],[0.6666666666666666,\"#ed7953\"],[0.7777777777777778,\"#fb9f3a\"],[0.8888888888888888,\"#fdca26\"],[1.0,\"#f0f921\"]]}],\"contourcarpet\":[{\"type\":\"contourcarpet\",\"colorbar\":{\"outlinewidth\":0,\"ticks\":\"\"}}],\"contour\":[{\"type\":\"contour\",\"colorbar\":{\"outlinewidth\":0,\"ticks\":\"\"},\"colorscale\":[[0.0,\"#0d0887\"],[0.1111111111111111,\"#46039f\"],[0.2222222222222222,\"#7201a8\"],[0.3333333333333333,\"#9c179e\"],[0.4444444444444444,\"#bd3786\"],[0.5555555555555556,\"#d8576b\"],[0.6666666666666666,\"#ed7953\"],[0.7777777777777778,\"#fb9f3a\"],[0.8888888888888888,\"#fdca26\"],[1.0,\"#f0f921\"]]}],\"surface\":[{\"type\":\"surface\",\"colorbar\":{\"outlinewidth\":0,\"ticks\":\"\"},\"colorscale\":[[0.0,\"#0d0887\"],[0.1111111111111111,\"#46039f\"],[0.2222222222222222,\"#7201a8\"],[0.3333333333333333,\"#9c179e\"],[0.4444444444444444,\"#bd3786\"],[0.5555555555555556,\"#d8576b\"],[0.6666666666666666,\"#ed7953\"],[0.7777777777777778,\"#fb9f3a\"],[0.8888888888888888,\"#fdca26\"],[1.0,\"#f0f921\"]]}],\"mesh3d\":[{\"type\":\"mesh3d\",\"colorbar\":{\"outlinewidth\":0,\"ticks\":\"\"}}],\"scatter\":[{\"fillpattern\":{\"fillmode\":\"overlay\",\"size\":10,\"solidity\":0.2},\"type\":\"scatter\"}],\"parcoords\":[{\"type\":\"parcoords\",\"line\":{\"colorbar\":{\"outlinewidth\":0,\"ticks\":\"\"}}}],\"scatterpolargl\":[{\"type\":\"scatterpolargl\",\"marker\":{\"colorbar\":{\"outlinewidth\":0,\"ticks\":\"\"}}}],\"bar\":[{\"error_x\":{\"color\":\"#2a3f5f\"},\"error_y\":{\"color\":\"#2a3f5f\"},\"marker\":{\"line\":{\"color\":\"#E5ECF6\",\"width\":0.5},\"pattern\":{\"fillmode\":\"overlay\",\"size\":10,\"solidity\":0.2}},\"type\":\"bar\"}],\"scattergeo\":[{\"type\":\"scattergeo\",\"marker\":{\"colorbar\":{\"outlinewidth\":0,\"ticks\":\"\"}}}],\"scatterpolar\":[{\"type\":\"scatterpolar\",\"marker\":{\"colorbar\":{\"outlinewidth\":0,\"ticks\":\"\"}}}],\"histogram\":[{\"marker\":{\"pattern\":{\"fillmode\":\"overlay\",\"size\":10,\"solidity\":0.2}},\"type\":\"histogram\"}],\"scattergl\":[{\"type\":\"scattergl\",\"marker\":{\"colorbar\":{\"outlinewidth\":0,\"ticks\":\"\"}}}],\"scatter3d\":[{\"type\":\"scatter3d\",\"line\":{\"colorbar\":{\"outlinewidth\":0,\"ticks\":\"\"}},\"marker\":{\"colorbar\":{\"outlinewidth\":0,\"ticks\":\"\"}}}],\"scattermapbox\":[{\"type\":\"scattermapbox\",\"marker\":{\"colorbar\":{\"outlinewidth\":0,\"ticks\":\"\"}}}],\"scatterternary\":[{\"type\":\"scatterternary\",\"marker\":{\"colorbar\":{\"outlinewidth\":0,\"ticks\":\"\"}}}],\"scattercarpet\":[{\"type\":\"scattercarpet\",\"marker\":{\"colorbar\":{\"outlinewidth\":0,\"ticks\":\"\"}}}],\"carpet\":[{\"aaxis\":{\"endlinecolor\":\"#2a3f5f\",\"gridcolor\":\"white\",\"linecolor\":\"white\",\"minorgridcolor\":\"white\",\"startlinecolor\":\"#2a3f5f\"},\"baxis\":{\"endlinecolor\":\"#2a3f5f\",\"gridcolor\":\"white\",\"linecolor\":\"white\",\"minorgridcolor\":\"white\",\"startlinecolor\":\"#2a3f5f\"},\"type\":\"carpet\"}],\"table\":[{\"cells\":{\"fill\":{\"color\":\"#EBF0F8\"},\"line\":{\"color\":\"white\"}},\"header\":{\"fill\":{\"color\":\"#C8D4E3\"},\"line\":{\"color\":\"white\"}},\"type\":\"table\"}],\"barpolar\":[{\"marker\":{\"line\":{\"color\":\"#E5ECF6\",\"width\":0.5},\"pattern\":{\"fillmode\":\"overlay\",\"size\":10,\"solidity\":0.2}},\"type\":\"barpolar\"}],\"pie\":[{\"automargin\":true,\"type\":\"pie\"}]},\"layout\":{\"autotypenumbers\":\"strict\",\"colorway\":[\"#636efa\",\"#EF553B\",\"#00cc96\",\"#ab63fa\",\"#FFA15A\",\"#19d3f3\",\"#FF6692\",\"#B6E880\",\"#FF97FF\",\"#FECB52\"],\"font\":{\"color\":\"#2a3f5f\"},\"hovermode\":\"closest\",\"hoverlabel\":{\"align\":\"left\"},\"paper_bgcolor\":\"white\",\"plot_bgcolor\":\"#E5ECF6\",\"polar\":{\"bgcolor\":\"#E5ECF6\",\"angularaxis\":{\"gridcolor\":\"white\",\"linecolor\":\"white\",\"ticks\":\"\"},\"radialaxis\":{\"gridcolor\":\"white\",\"linecolor\":\"white\",\"ticks\":\"\"}},\"ternary\":{\"bgcolor\":\"#E5ECF6\",\"aaxis\":{\"gridcolor\":\"white\",\"linecolor\":\"white\",\"ticks\":\"\"},\"baxis\":{\"gridcolor\":\"white\",\"linecolor\":\"white\",\"ticks\":\"\"},\"caxis\":{\"gridcolor\":\"white\",\"linecolor\":\"white\",\"ticks\":\"\"}},\"coloraxis\":{\"colorbar\":{\"outlinewidth\":0,\"ticks\":\"\"}},\"colorscale\":{\"sequential\":[[0.0,\"#0d0887\"],[0.1111111111111111,\"#46039f\"],[0.2222222222222222,\"#7201a8\"],[0.3333333333333333,\"#9c179e\"],[0.4444444444444444,\"#bd3786\"],[0.5555555555555556,\"#d8576b\"],[0.6666666666666666,\"#ed7953\"],[0.7777777777777778,\"#fb9f3a\"],[0.8888888888888888,\"#fdca26\"],[1.0,\"#f0f921\"]],\"sequentialminus\":[[0.0,\"#0d0887\"],[0.1111111111111111,\"#46039f\"],[0.2222222222222222,\"#7201a8\"],[0.3333333333333333,\"#9c179e\"],[0.4444444444444444,\"#bd3786\"],[0.5555555555555556,\"#d8576b\"],[0.6666666666666666,\"#ed7953\"],[0.7777777777777778,\"#fb9f3a\"],[0.8888888888888888,\"#fdca26\"],[1.0,\"#f0f921\"]],\"diverging\":[[0,\"#8e0152\"],[0.1,\"#c51b7d\"],[0.2,\"#de77ae\"],[0.3,\"#f1b6da\"],[0.4,\"#fde0ef\"],[0.5,\"#f7f7f7\"],[0.6,\"#e6f5d0\"],[0.7,\"#b8e186\"],[0.8,\"#7fbc41\"],[0.9,\"#4d9221\"],[1,\"#276419\"]]},\"xaxis\":{\"gridcolor\":\"white\",\"linecolor\":\"white\",\"ticks\":\"\",\"title\":{\"standoff\":15},\"zerolinecolor\":\"white\",\"automargin\":true,\"zerolinewidth\":2},\"yaxis\":{\"gridcolor\":\"white\",\"linecolor\":\"white\",\"ticks\":\"\",\"title\":{\"standoff\":15},\"zerolinecolor\":\"white\",\"automargin\":true,\"zerolinewidth\":2},\"scene\":{\"xaxis\":{\"backgroundcolor\":\"#E5ECF6\",\"gridcolor\":\"white\",\"linecolor\":\"white\",\"showbackground\":true,\"ticks\":\"\",\"zerolinecolor\":\"white\",\"gridwidth\":2},\"yaxis\":{\"backgroundcolor\":\"#E5ECF6\",\"gridcolor\":\"white\",\"linecolor\":\"white\",\"showbackground\":true,\"ticks\":\"\",\"zerolinecolor\":\"white\",\"gridwidth\":2},\"zaxis\":{\"backgroundcolor\":\"#E5ECF6\",\"gridcolor\":\"white\",\"linecolor\":\"white\",\"showbackground\":true,\"ticks\":\"\",\"zerolinecolor\":\"white\",\"gridwidth\":2}},\"shapedefaults\":{\"line\":{\"color\":\"#2a3f5f\"}},\"annotationdefaults\":{\"arrowcolor\":\"#2a3f5f\",\"arrowhead\":0,\"arrowwidth\":1},\"geo\":{\"bgcolor\":\"white\",\"landcolor\":\"#E5ECF6\",\"subunitcolor\":\"white\",\"showland\":true,\"showlakes\":true,\"lakecolor\":\"white\"},\"title\":{\"x\":0.05},\"mapbox\":{\"style\":\"light\"}}},\"xaxis\":{\"anchor\":\"y\",\"domain\":[0.0,1.0],\"title\":{\"text\":\"Artist\"}},\"yaxis\":{\"anchor\":\"x\",\"domain\":[0.0,1.0],\"title\":{\"text\":\"n_tokens_hy\"}},\"legend\":{\"tracegroupgap\":0},\"title\":{\"text\":\"Word count(hy) per song by artist\"},\"boxmode\":\"group\"},                        {\"responsive\": true}                    ).then(function(){\n",
       "                            \n",
       "var gd = document.getElementById('4b1f183a-b84b-41ea-b0a9-aa53f99b1ea9');\n",
       "var x = new MutationObserver(function (mutations, observer) {{\n",
       "        var display = window.getComputedStyle(gd).display;\n",
       "        if (!display || display === 'none') {{\n",
       "            console.log([gd, 'removed!']);\n",
       "            Plotly.purge(gd);\n",
       "            observer.disconnect();\n",
       "        }}\n",
       "}});\n",
       "\n",
       "// Listen for the removal of the full notebook cells\n",
       "var notebookContainer = gd.closest('#notebook-container');\n",
       "if (notebookContainer) {{\n",
       "    x.observe(notebookContainer, {childList: true});\n",
       "}}\n",
       "\n",
       "// Listen for the clearing of the current output cell\n",
       "var outputEl = gd.closest('.output');\n",
       "if (outputEl) {{\n",
       "    x.observe(outputEl, {childList: true});\n",
       "}}\n",
       "\n",
       "                        })                };                });            </script>        </div>"
      ]
     },
     "metadata": {},
     "output_type": "display_data"
    }
   ],
   "source": [
    "fig = px.box(df, x='Artist', y='n_tokens_hy', title='Word count(hy) per song by artist')\n",
    "fig.show()"
   ]
  },
  {
   "cell_type": "markdown",
   "metadata": {
    "id": "Twxi2kLuztNX"
   },
   "source": [
    "Next I check the ratio of unique words over all words. This ratio is 1 if all words of a song are different, the more repeated words appearing in a song the lower this ratio becomes."
   ]
  },
  {
   "cell_type": "code",
   "execution_count": 31,
   "metadata": {
    "id": "eAtq2Howyg55"
   },
   "outputs": [],
   "source": [
    "df['n_unique_stems_en'] = df['stems_en'].map(lambda lst: len(set(lst)))\n",
    "\n",
    "df['unique_stems_ratio_en'] = df['n_unique_stems_en'] / df['n_stems_en']\n",
    "\n",
    "df['n_unique_tokens_hy'] = df['tokens_hy'].map(lambda lst: len(set(lst)))\n",
    "\n",
    "df['unique_tokens_ratio_hy'] = df['n_unique_tokens_hy'] / df['n_tokens_hy']"
   ]
  },
  {
   "cell_type": "code",
   "execution_count": 32,
   "metadata": {
    "id": "ai-Wumds16Uc"
   },
   "outputs": [
    {
     "data": {
      "application/vnd.plotly.v1+json": {
       "config": {
        "plotlyServerURL": "https://plot.ly"
       },
       "data": [
        {
         "alignmentgroup": "True",
         "hovertemplate": "Artist=%{x}<br>unique_stems_ratio_en=%{y}<extra></extra>",
         "legendgroup": "",
         "marker": {
          "color": "#636efa"
         },
         "name": "",
         "notched": false,
         "offsetgroup": "",
         "orientation": "v",
         "showlegend": false,
         "type": "box",
         "x": [
          "ԱՐԹՈՒՐ ՄԵՍՉՅԱՆ",
          "ԱՐԹՈՒՐ ՄԵՍՉՅԱՆ",
          "ԱՐԹՈՒՐ ՄԵՍՉՅԱՆ",
          "ԱՐԹՈՒՐ ՄԵՍՉՅԱՆ",
          "ԱՐԹՈՒՐ ՄԵՍՉՅԱՆ",
          "ԱՐԹՈՒՐ ՄԵՍՉՅԱՆ",
          "ԱՐԹՈՒՐ ՄԵՍՉՅԱՆ",
          "ԱՐԹՈՒՐ ՄԵՍՉՅԱՆ",
          "ԱՐԹՈՒՐ ՄԵՍՉՅԱՆ",
          "ԱՐԹՈՒՐ ՄԵՍՉՅԱՆ",
          "ԱՐԹՈՒՐ ՄԵՍՉՅԱՆ",
          "ԱՐԹՈՒՐ ՄԵՍՉՅԱՆ",
          "ԱՐԹՈՒՐ ՄԵՍՉՅԱՆ",
          "ԱՐԹՈՒՐ ՄԵՍՉՅԱՆ",
          "ԱՐԹՈՒՐ ՄԵՍՉՅԱՆ",
          "ԱՐԹՈՒՐ ՄԵՍՉՅԱՆ",
          "ԱՐԹՈՒՐ ՄԵՍՉՅԱՆ",
          "ԱՐԹՈՒՐ ՄԵՍՉՅԱՆ",
          "ԱՐԹՈՒՐ ՄԵՍՉՅԱՆ",
          "ԱՐԹՈՒՐ ՄԵՍՉՅԱՆ",
          "ԱՐԹՈՒՐ ՄԵՍՉՅԱՆ",
          "ԱՐԹՈՒՐ ՄԵՍՉՅԱՆ",
          "ԱՐԹՈՒՐ ՄԵՍՉՅԱՆ",
          "ԱՐԹՈՒՐ ՄԵՍՉՅԱՆ",
          "ԱՐԹՈՒՐ ՄԵՍՉՅԱՆ",
          "ԱՐԹՈՒՐ ՄԵՍՉՅԱՆ",
          "ԱՐԹՈՒՐ ՄԵՍՉՅԱՆ",
          "ԱՐԹՈՒՐ ՄԵՍՉՅԱՆ",
          "ԱՐԹՈՒՐ ՄԵՍՉՅԱՆ",
          "ԱՐԹՈՒՐ ՄԵՍՉՅԱՆ",
          "ԱՐԹՈՒՐ ՄԵՍՉՅԱՆ",
          "ԱՐԹՈՒՐ ՄԵՍՉՅԱՆ",
          "ԱՐԹՈՒՐ ՄԵՍՉՅԱՆ",
          "ԱՐԹՈՒՐ ՄԵՍՉՅԱՆ",
          "ԱՐԹՈՒՐ ՄԵՍՉՅԱՆ",
          "ԱՐԹՈՒՐ ՄԵՍՉՅԱՆ",
          "ԱՐԹՈՒՐ ՄԵՍՉՅԱՆ",
          "ԱՐԹՈՒՐ ՄԵՍՉՅԱՆ",
          "ԱՐԹՈՒՐ ՄԵՍՉՅԱՆ",
          "ԱՐԹՈՒՐ ՄԵՍՉՅԱՆ",
          "ԱՐԹՈՒՐ ՄԵՍՉՅԱՆ",
          "ԱՐԹՈՒՐ ՄԵՍՉՅԱՆ",
          "ԱՐԹՈՒՐ ՄԵՍՉՅԱՆ",
          "ԱՐԹՈՒՐ ՄԵՍՉՅԱՆ",
          "ԱՐԹՈՒՐ ՄԵՍՉՅԱՆ",
          "ԱՐԹՈՒՐ ՄԵՍՉՅԱՆ",
          "ԱՐԹՈՒՐ ՄԵՍՉՅԱՆ",
          "ԱՐԹՈՒՐ ՄԵՍՉՅԱՆ",
          "ԱՐԹՈՒՐ ՄԵՍՉՅԱՆ",
          "ԱՐԹՈՒՐ ՄԵՍՉՅԱՆ",
          "ՌՈՒԲԵՆ ՀԱԽՎԵՐԴՅԱՆ",
          "ՌՈՒԲԵՆ ՀԱԽՎԵՐԴՅԱՆ",
          "ՌՈՒԲԵՆ ՀԱԽՎԵՐԴՅԱՆ",
          "ՌՈՒԲԵՆ ՀԱԽՎԵՐԴՅԱՆ",
          "ՌՈՒԲԵՆ ՀԱԽՎԵՐԴՅԱՆ",
          "ՌՈՒԲԵՆ ՀԱԽՎԵՐԴՅԱՆ",
          "ՌՈՒԲԵՆ ՀԱԽՎԵՐԴՅԱՆ",
          "ՌՈՒԲԵՆ ՀԱԽՎԵՐԴՅԱՆ",
          "ՌՈՒԲԵՆ ՀԱԽՎԵՐԴՅԱՆ",
          "ՌՈՒԲԵՆ ՀԱԽՎԵՐԴՅԱՆ",
          "ՌՈՒԲԵՆ ՀԱԽՎԵՐԴՅԱՆ",
          "ՌՈՒԲԵՆ ՀԱԽՎԵՐԴՅԱՆ",
          "ՌՈՒԲԵՆ ՀԱԽՎԵՐԴՅԱՆ",
          "ՌՈՒԲԵՆ ՀԱԽՎԵՐԴՅԱՆ",
          "ՌՈՒԲԵՆ ՀԱԽՎԵՐԴՅԱՆ",
          "ՌՈՒԲԵՆ ՀԱԽՎԵՐԴՅԱՆ",
          "ՌՈՒԲԵՆ ՀԱԽՎԵՐԴՅԱՆ",
          "ՌՈՒԲԵՆ ՀԱԽՎԵՐԴՅԱՆ",
          "ՌՈՒԲԵՆ ՀԱԽՎԵՐԴՅԱՆ",
          "ՌՈՒԲԵՆ ՀԱԽՎԵՐԴՅԱՆ",
          "ՌՈՒԲԵՆ ՀԱԽՎԵՐԴՅԱՆ",
          "ՌՈՒԲԵՆ ՀԱԽՎԵՐԴՅԱՆ",
          "ՌՈՒԲԵՆ ՀԱԽՎԵՐԴՅԱՆ",
          "ՌՈՒԲԵՆ ՀԱԽՎԵՐԴՅԱՆ",
          "ՌՈՒԲԵՆ ՀԱԽՎԵՐԴՅԱՆ",
          "ՌՈՒԲԵՆ ՀԱԽՎԵՐԴՅԱՆ",
          "ՌՈՒԲԵՆ ՀԱԽՎԵՐԴՅԱՆ",
          "ՌՈՒԲԵՆ ՀԱԽՎԵՐԴՅԱՆ",
          "ՌՈՒԲԵՆ ՀԱԽՎԵՐԴՅԱՆ",
          "ՌՈՒԲԵՆ ՀԱԽՎԵՐԴՅԱՆ",
          "ՌՈՒԲԵՆ ՀԱԽՎԵՐԴՅԱՆ",
          "ՌՈՒԲԵՆ ՀԱԽՎԵՐԴՅԱՆ",
          "ՌՈՒԲԵՆ ՀԱԽՎԵՐԴՅԱՆ",
          "ՌՈՒԲԵՆ ՀԱԽՎԵՐԴՅԱՆ",
          "ՌՈՒԲԵՆ ՀԱԽՎԵՐԴՅԱՆ",
          "ՌՈՒԲԵՆ ՀԱԽՎԵՐԴՅԱՆ",
          "ՌՈՒԲԵՆ ՀԱԽՎԵՐԴՅԱՆ",
          "ՌՈՒԲԵՆ ՀԱԽՎԵՐԴՅԱՆ",
          "ՌՈՒԲԵՆ ՀԱԽՎԵՐԴՅԱՆ",
          "ՌՈՒԲԵՆ ՀԱԽՎԵՐԴՅԱՆ",
          "ՌՈՒԲԵՆ ՀԱԽՎԵՐԴՅԱՆ",
          "ՌՈՒԲԵՆ ՀԱԽՎԵՐԴՅԱՆ",
          "ՌՈՒԲԵՆ ՀԱԽՎԵՐԴՅԱՆ",
          "ՌՈՒԲԵՆ ՀԱԽՎԵՐԴՅԱՆ",
          "ՌՈՒԲԵՆ ՀԱԽՎԵՐԴՅԱՆ",
          "ՌՈՒԲԵՆ ՀԱԽՎԵՐԴՅԱՆ",
          "ՌՈՒԲԵՆ ՀԱԽՎԵՐԴՅԱՆ",
          "ՌՈՒԲԵՆ ՀԱԽՎԵՐԴՅԱՆ",
          "ՌՈՒԲԵՆ ՀԱԽՎԵՐԴՅԱՆ",
          "ՌՈՒԲԵՆ ՀԱԽՎԵՐԴՅԱՆ",
          "ՌՈՒԲԵՆ ՀԱԽՎԵՐԴՅԱՆ",
          "ՌՈՒԲԵՆ ՀԱԽՎԵՐԴՅԱՆ",
          "ՌՈՒԲԵՆ ՀԱԽՎԵՐԴՅԱՆ",
          "ՌՈՒԲԵՆ ՀԱԽՎԵՐԴՅԱՆ",
          "ՌՈՒԲԵՆ ՀԱԽՎԵՐԴՅԱՆ",
          "ՌՈՒԲԵՆ ՀԱԽՎԵՐԴՅԱՆ",
          "ՌՈՒԲԵՆ ՀԱԽՎԵՐԴՅԱՆ",
          "ՌՈՒԲԵՆ ՀԱԽՎԵՐԴՅԱՆ",
          "ՌՈՒԲԵՆ ՀԱԽՎԵՐԴՅԱՆ",
          "ՌՈՒԲԵՆ ՀԱԽՎԵՐԴՅԱՆ",
          "ՌՈՒԲԵՆ ՀԱԽՎԵՐԴՅԱՆ",
          "ՌՈՒԲԵՆ ՀԱԽՎԵՐԴՅԱՆ",
          "ՌՈՒԲԵՆ ՀԱԽՎԵՐԴՅԱՆ",
          "ՌՈՒԲԵՆ ՀԱԽՎԵՐԴՅԱՆ",
          "ՌՈՒԲԵՆ ՀԱԽՎԵՐԴՅԱՆ",
          "ՌՈՒԲԵՆ ՀԱԽՎԵՐԴՅԱՆ",
          "ՌՈՒԲԵՆ ՀԱԽՎԵՐԴՅԱՆ",
          "ՌՈՒԲԵՆ ՀԱԽՎԵՐԴՅԱՆ",
          "ՌՈՒԲԵՆ ՀԱԽՎԵՐԴՅԱՆ",
          "ՌՈՒԲԵՆ ՀԱԽՎԵՐԴՅԱՆ",
          "ՌՈՒԲԵՆ ՀԱԽՎԵՐԴՅԱՆ",
          "ՌՈՒԲԵՆ ՀԱԽՎԵՐԴՅԱՆ",
          "ՌՈՒԲԵՆ ՀԱԽՎԵՐԴՅԱՆ",
          "ՌՈՒԲԵՆ ՀԱԽՎԵՐԴՅԱՆ",
          "ՌՈՒԲԵՆ ՀԱԽՎԵՐԴՅԱՆ",
          "ՌՈՒԲԵՆ ՀԱԽՎԵՐԴՅԱՆ",
          "ՌՈՒԲԵՆ ՀԱԽՎԵՐԴՅԱՆ",
          "ՌՈՒԲԵՆ ՀԱԽՎԵՐԴՅԱՆ",
          "ՌՈՒԲԵՆ ՀԱԽՎԵՐԴՅԱՆ",
          "ՌՈՒԲԵՆ ՀԱԽՎԵՐԴՅԱՆ",
          "ՌՈՒԲԵՆ ՀԱԽՎԵՐԴՅԱՆ",
          "ՍԱՅԱԹ-ՆՈՎԱ",
          "ՍԱՅԱԹ-ՆՈՎԱ",
          "ՍԱՅԱԹ-ՆՈՎԱ",
          "ՍԱՅԱԹ-ՆՈՎԱ",
          "ՍԱՅԱԹ-ՆՈՎԱ",
          "ՍԱՅԱԹ-ՆՈՎԱ",
          "ՍԱՅԱԹ-ՆՈՎԱ",
          "ՍԱՅԱԹ-ՆՈՎԱ",
          "ՍԱՅԱԹ-ՆՈՎԱ",
          "ՍԱՅԱԹ-ՆՈՎԱ",
          "ՍԱՅԱԹ-ՆՈՎԱ",
          "ՍԱՅԱԹ-ՆՈՎԱ",
          "ՍԱՅԱԹ-ՆՈՎԱ",
          "ՍԱՅԱԹ-ՆՈՎԱ",
          "ՍԱՅԱԹ-ՆՈՎԱ",
          "ՍԱՅԱԹ-ՆՈՎԱ",
          "ԿՈՄԻՏԱՍ",
          "ԿՈՄԻՏԱՍ",
          "ԿՈՄԻՏԱՍ",
          "ԿՈՄԻՏԱՍ",
          "ԿՈՄԻՏԱՍ",
          "ԿՈՄԻՏԱՍ",
          "ԿՈՄԻՏԱՍ",
          "ԿՈՄԻՏԱՍ",
          "ԿՈՄԻՏԱՍ",
          "ԿՈՄԻՏԱՍ",
          "ԿՈՄԻՏԱՍ",
          "ԿՈՄԻՏԱՍ",
          "ԿՈՄԻՏԱՍ",
          "ԿՈՄԻՏԱՍ",
          "ԿՈՄԻՏԱՍ",
          "ԿՈՄԻՏԱՍ",
          "ԿՈՄԻՏԱՍ",
          "ԿՈՄԻՏԱՍ",
          "ԿՈՄԻՏԱՍ",
          "ԿՈՄԻՏԱՍ",
          "ԿՈՄԻՏԱՍ",
          "ԿՈՄԻՏԱՍ",
          "ԿՈՄԻՏԱՍ",
          "ԿՈՄԻՏԱՍ",
          "ԿՈՄԻՏԱՍ",
          "ԿՈՄԻՏԱՍ",
          "ԿՈՄԻՏԱՍ",
          "ԿՈՄԻՏԱՍ",
          "ԿՈՄԻՏԱՍ",
          "ԿՈՄԻՏԱՍ",
          "ԿՈՄԻՏԱՍ",
          "ԿՈՄԻՏԱՍ",
          "ԿՈՄԻՏԱՍ",
          "ԿՈՄԻՏԱՍ",
          "ԿՈՄԻՏԱՍ",
          "ԿՈՄԻՏԱՍ",
          "ԿՈՄԻՏԱՍ",
          "ԿՈՄԻՏԱՍ",
          "ԿՈՄԻՏԱՍ",
          "ԿՈՄԻՏԱՍ",
          "ԿՈՄԻՏԱՍ",
          "ԿՈՄԻՏԱՍ",
          "ԿՈՄԻՏԱՍ",
          "ԿՈՄԻՏԱՍ",
          "ԿՈՄԻՏԱՍ",
          "ԿՈՄԻՏԱՍ",
          "ԿՈՄԻՏԱՍ",
          "ԿՈՄԻՏԱՍ",
          "ԿՈՄԻՏԱՍ",
          "ԿՈՄԻՏԱՍ",
          "ԿՈՄԻՏԱՍ",
          "ԿՈՄԻՏԱՍ",
          "ԿՈՄԻՏԱՍ",
          "ԿՈՄԻՏԱՍ",
          "ԿՈՄԻՏԱՍ",
          "ԿՈՄԻՏԱՍ",
          "ԿՈՄԻՏԱՍ",
          "ԿՈՄԻՏԱՍ",
          "ԿՈՄԻՏԱՍ",
          "ԿՈՄԻՏԱՍ",
          "ԿՈՄԻՏԱՍ",
          "ԿՈՄԻՏԱՍ",
          "HT Hayko",
          "HT Hayko",
          "HT Hayko",
          "HT Hayko",
          "HT Hayko",
          "HT Hayko",
          "HT Hayko",
          "HT Hayko",
          "HT Hayko",
          "HT Hayko",
          "HT Hayko",
          "HT Hayko",
          "HT Hayko",
          "HT Hayko",
          "HT Hayko",
          "HT Hayko",
          "Empyray",
          "Empyray",
          "Empyray",
          "Empyray",
          "Empyray",
          "Empyray",
          "Empyray",
          "Empyray",
          "Empyray",
          "Empyray",
          " Lav Eli",
          " Lav Eli",
          " Lav Eli",
          " Lav Eli",
          " Lav Eli",
          " Lav Eli",
          " Lav Eli",
          " Lav Eli",
          " Lav Eli",
          "Silva Hakobyan",
          "Silva Hakobyan",
          "Silva Hakobyan",
          "Silva Hakobyan",
          "Silva Hakobyan",
          "Silva Hakobyan",
          "Silva Hakobyan",
          "Silva Hakobyan",
          "Silva Hakobyan",
          "Silva Hakobyan",
          "Silva Hakobyan",
          "Silva Hakobyan",
          "Silva Hakobyan",
          "Silva Hakobyan",
          "Silva Hakobyan",
          "Silva Hakobyan",
          "Silva Hakobyan",
          "Silva Hakobyan",
          "Silva Hakobyan",
          "Silva Hakobyan",
          "Անդրե",
          "Անդրե",
          "Անդրե",
          "Անդրե",
          "Անդրե",
          "Անդրե",
          "Անդրե",
          "Անդրե",
          "Անդրե",
          "Անդրե",
          "Անդրե",
          "Անդրե",
          "Լիլիթ Հովհաննիսյան",
          "Լիլիթ Հովհաննիսյան",
          "Լիլիթ Հովհաննիսյան",
          "Լիլիթ Հովհաննիսյան",
          "Լիլիթ Հովհաննիսյան",
          "Լիլիթ Հովհաննիսյան",
          "Լիլիթ Հովհաննիսյան",
          "Լիլիթ Հովհաննիսյան",
          "Լիլիթ Հովհաննիսյան",
          "Լիլիթ Հովհաննիսյան",
          "Լիլիթ Հովհաննիսյան",
          "Լիլիթ Հովհաննիսյան",
          "Լիլիթ Հովհաննիսյան",
          "Լիլիթ Հովհաննիսյան",
          "Լիլիթ Հովհաննիսյան",
          "Լիլիթ Հովհաննիսյան",
          "Լիլիթ Հովհաննիսյան",
          "Լիլիթ Հովհաննիսյան",
          "Լիլիթ Հովհաննիսյան",
          "Լիլիթ Հովհաննիսյան",
          "Լիլիթ Հովհաննիսյան",
          "Լիլիթ Հովհաննիսյան",
          "Լիլիթ Հովհաննիսյան",
          "Լիլիթ Հովհաննիսյան",
          "Սիրուշո",
          "Սիրուշո",
          "Սիրուշո",
          "Սիրուշո",
          "Սիրուշո",
          "Սիրուշո",
          "Սիրուշո",
          "Սիրուշո",
          "Սիրուշո",
          "Սիրուշո",
          "Սիրուշո",
          "Սիրուշո",
          "Սիրուշո",
          "Սիրուշո",
          "Սիրուշո",
          "Սիրուշո",
          "Սիրուշո",
          "Սիրուշո",
          "Սիրուշո",
          "Սիրուշո",
          "Սիրուշո",
          "Սիրուշո",
          "Սիրուշո",
          "Սիրուշո",
          "Սիրուշո",
          "Միհրան Ծառուկյան",
          "Միհրան Ծառուկյան",
          "Միհրան Ծառուկյան",
          "Միհրան Ծառուկյան",
          "Միհրան Ծառուկյան",
          "Միհրան Ծառուկյան",
          "Միհրան Ծառուկյան",
          "Միհրան Ծառուկյան",
          "Միհրան Ծառուկյան",
          "Միհրան Ծառուկյան",
          "Միհրան Ծառուկյան",
          "Միհրան Ծառուկյան",
          "Միհրան Ծառուկյան",
          "Միհրան Ծառուկյան",
          "Միհրան Ծառուկյան",
          "Միհրան Ծառուկյան",
          "Միհրան Ծառուկյան",
          "Միհրան Ծառուկյան",
          "Arame",
          "Arame",
          "Arame",
          "Arame",
          "Arame",
          "Arame",
          "Arame",
          "Arame",
          "Arame",
          "Razmik Amyan",
          "Razmik Amyan",
          "Razmik Amyan",
          "Razmik Amyan",
          "Razmik Amyan",
          "Razmik Amyan",
          "Razmik Amyan",
          "Razmik Amyan",
          "Razmik Amyan",
          "Razmik Amyan",
          "Razmik Amyan",
          "Razmik Amyan",
          "Razmik Amyan",
          "Razmik Amyan",
          "Razmik Amyan",
          "Razmik Amyan",
          "Razmik Amyan",
          "Razmik Amyan",
          "Harout Pamboukjian",
          "Harout Pamboukjian",
          "Harout Pamboukjian",
          "Harout Pamboukjian",
          "Harout Pamboukjian",
          "Harout Pamboukjian",
          "Harout Pamboukjian",
          "Harout Pamboukjian",
          "Harout Pamboukjian",
          "Harout Pamboukjian",
          "Harout Pamboukjian",
          "Harout Pamboukjian",
          "Harout Pamboukjian",
          "Harout Pamboukjian",
          "Harout Pamboukjian",
          "Harout Pamboukjian",
          "Harout Pamboukjian",
          "Harout Pamboukjian",
          "Harout Pamboukjian",
          "Harout Pamboukjian",
          "Harout Pamboukjian",
          "Harout Pamboukjian",
          "Harout Pamboukjian",
          "Harout Pamboukjian",
          "Harout Pamboukjian",
          "Harout Pamboukjian",
          "Harout Pamboukjian",
          "Harout Pamboukjian",
          "Harout Pamboukjian",
          "Harout Pamboukjian",
          "Harout Pamboukjian",
          "Harout Pamboukjian",
          "Հայկ Հակոբյան",
          "Հայկ Հակոբյան",
          "Հայկ Հակոբյան",
          "Հայկ Հակոբյան",
          "Հայկ Հակոբյան",
          "Հայկ Հակոբյան",
          "Հայկ Հակոբյան",
          "Հայկ Հակոբյան",
          "Հայկ Հակոբյան",
          "Հայկ Հակոբյան",
          "Հայկ Հակոբյան",
          "Հայկ Հակոբյան",
          "Հայկ Հակոբյան",
          "Հայկ Հակոբյան",
          "Հայկ Հակոբյան",
          "Հայկ Հակոբյան",
          "Հայկ Հակոբյան",
          "Հայկ Հակոբյան",
          "Հայկ Հակոբյան",
          "Հայկ Հակոբյան",
          "Հայկ Հակոբյան",
          "Հայկ Հակոբյան",
          "Հայկ Հակոբյան",
          "Aram MP3",
          "Aram MP3",
          "Arsen Safaryan",
          "Arsen Safaryan",
          "Arsen Safaryan",
          "Arsen Safaryan",
          "Arsen Safaryan",
          "Arsen Safaryan",
          "Arsen Safaryan",
          "Arsen Safaryan",
          "Arsen Safaryan",
          "Arsen Safaryan",
          "Arsen Safaryan",
          "Arsen Safaryan",
          "Arsen Safaryan",
          "Arsen Safaryan",
          "Arsen Safaryan",
          "Arsen Safaryan",
          "Arsen Safaryan",
          "Arsen Safaryan",
          "Arsen Safaryan",
          "Arsen Safaryan",
          "Arsen Safaryan",
          "Arsen Safaryan",
          "Arsen Safaryan",
          "Aram MP3",
          "Aram MP3",
          "Aram MP3",
          "Aram MP3",
          "Aram MP3",
          "Aram MP3",
          "Aram MP3",
          "Aram MP3",
          "Aram MP3",
          "Aram MP3",
          "Aram MP3",
          "Aram MP3",
          "Aram MP3",
          "Aram MP3",
          "Aram MP3",
          "Misho",
          "Misho",
          "Misho",
          "Misho",
          "Misho",
          "Misho",
          "Misho",
          "Misho",
          "Misho",
          "Misho",
          "Misho",
          "Misho",
          "Misho",
          "Misho",
          "Misho",
          "Misho",
          "Misho",
          "Misho",
          "Misho",
          "Misho",
          "Misho",
          "Misho",
          "Misho",
          "Misho",
          "Misho",
          "Misho",
          "Mi Qani Hogi",
          "Mi Qani Hogi",
          "Mi Qani Hogi",
          "Mi Qani Hogi",
          "Mi Qani Hogi",
          "Mi Qani Hogi",
          "Mi Qani Hogi",
          "Mi Qani Hogi",
          "Mi Qani Hogi",
          "Mi Qani Hogi",
          "Mi Qani Hogi",
          "Mi Qani Hogi",
          "Mi Qani Hogi",
          "Mi Qani Hogi",
          "Mi Qani Hogi"
         ],
         "x0": " ",
         "xaxis": "x",
         "y": [
          0.5,
          0.7380952380952381,
          0.6578947368421053,
          0.9014084507042254,
          0.7246376811594203,
          0.7045454545454546,
          0.6833333333333333,
          0.6287878787878788,
          0.9772727272727273,
          0.580952380952381,
          0.8536585365853658,
          0.7096774193548387,
          0.5384615384615384,
          0.7747747747747747,
          0.7692307692307693,
          0.6896551724137931,
          0.8125,
          0.7684210526315789,
          0.7264150943396226,
          0.7840909090909091,
          0.8018867924528302,
          0.9298245614035088,
          0.8461538461538461,
          0.7651006711409396,
          0.8909090909090909,
          0.6547619047619048,
          0.6526315789473685,
          0.5274725274725275,
          0.2914572864321608,
          0.8362068965517241,
          0.6574074074074074,
          0.6371681415929203,
          0.8076923076923077,
          0.6101694915254238,
          0.95,
          0.7123287671232876,
          0.8055555555555556,
          0.639344262295082,
          0.5217391304347826,
          0.6896551724137931,
          0.696969696969697,
          0.8539325842696629,
          0.6376811594202898,
          0.5647058823529412,
          0.7971014492753623,
          0.6309523809523809,
          0.7714285714285715,
          0.6521739130434783,
          0.6153846153846154,
          0.8852459016393442,
          0.782258064516129,
          0.5,
          0.831858407079646,
          0.6808510638297872,
          0.7051282051282052,
          0.6916666666666667,
          0.640625,
          0.543859649122807,
          0.5555555555555556,
          0.5441176470588235,
          0.6893203883495146,
          0.7735849056603774,
          0.7191780821917808,
          0.5407407407407407,
          0.5274725274725275,
          0.4576271186440678,
          0.6105263157894737,
          0.580952380952381,
          0.75,
          0.7666666666666667,
          0.6825396825396826,
          0.7272727272727273,
          0.7222222222222222,
          0.5689655172413793,
          0.7142857142857143,
          0.5869565217391305,
          0.734375,
          0.796875,
          0.7168141592920354,
          0.4642857142857143,
          0.4074074074074074,
          0.46808510638297873,
          0.5393258426966292,
          0.5588235294117647,
          0.4936708860759494,
          0.5454545454545454,
          0.6875,
          0.46464646464646464,
          0.6666666666666666,
          0.48672566371681414,
          0.7155172413793104,
          0.5925925925925926,
          0.43333333333333335,
          0.5645161290322581,
          0.6909090909090909,
          0.8,
          0.5337837837837838,
          0.6460176991150443,
          0.7164179104477612,
          0.5229357798165137,
          0.4457831325301205,
          0.6119402985074627,
          0.6989247311827957,
          0.5625,
          0.66,
          0.7058823529411765,
          0.625,
          0.7258064516129032,
          0.6547619047619048,
          0.7954545454545454,
          0.7222222222222222,
          0.6086956521739131,
          0.7613636363636364,
          0.47093023255813954,
          0.8376068376068376,
          0.5447761194029851,
          0.6906474820143885,
          0.515625,
          0.5576923076923077,
          0.8636363636363636,
          0.5254237288135594,
          0.6818181818181818,
          0.9444444444444444,
          0.8947368421052632,
          0.7647058823529411,
          0.88,
          0.4,
          0.8125,
          0.7391304347826086,
          0.5760869565217391,
          0.6119402985074627,
          0.6991869918699187,
          0.8888888888888888,
          0.9117647058823529,
          0.8631578947368421,
          0.8543689320388349,
          0.9622641509433962,
          0.91,
          0.7105263157894737,
          0.859375,
          0.7415730337078652,
          0.8559322033898306,
          0.6470588235294118,
          0.8557692307692307,
          0.8831168831168831,
          0.9325842696629213,
          0.6307692307692307,
          0.6582278481012658,
          0.6721311475409836,
          0.8095238095238095,
          0.4492753623188406,
          0.863013698630137,
          0.8837209302325582,
          0.36923076923076925,
          0.7894736842105263,
          0.8518518518518519,
          0.5116279069767442,
          0.2988505747126437,
          0.53125,
          0.4391891891891892,
          0.746031746031746,
          0.4857142857142857,
          0.3617021276595745,
          0.5849056603773585,
          0.5,
          0.6304347826086957,
          0.6,
          0.6216216216216216,
          0.48936170212765956,
          0.7368421052631579,
          0.6559139784946236,
          0.734375,
          0.8571428571428571,
          0.7142857142857143,
          0.4583333333333333,
          0.4915254237288136,
          0.6444444444444445,
          0.4479166666666667,
          0.5172413793103449,
          0.7714285714285715,
          0.7692307692307693,
          0.6808510638297872,
          0.7741935483870968,
          0.8095238095238095,
          0.7037037037037037,
          0.7441860465116279,
          0.4666666666666667,
          0.8817204301075269,
          0.5833333333333334,
          0.8269230769230769,
          0.5526315789473685,
          0.7222222222222222,
          0.7297297297297297,
          0.5111111111111111,
          0.48484848484848486,
          0.6166666666666667,
          0.7,
          0.5094339622641509,
          0.6938775510204082,
          0.8857142857142857,
          0.55,
          0.75,
          0.43548387096774194,
          0.75,
          0.6363636363636364,
          0.38333333333333336,
          0.6,
          0.4264705882352941,
          0.7070707070707071,
          0.6051660516605166,
          0.6285714285714286,
          0.7295081967213115,
          0.56,
          0.7028985507246377,
          0.6363636363636364,
          0.6438848920863309,
          0.6505576208178439,
          0.7527272727272727,
          0.6490066225165563,
          0.6830357142857143,
          0.5982905982905983,
          0.6158940397350994,
          0.5679012345679012,
          0.5181818181818182,
          0.3956043956043956,
          0.4368932038834951,
          0.9444444444444444,
          0.3924050632911392,
          0.38461538461538464,
          0.43661971830985913,
          0.5053763440860215,
          0.7066666666666667,
          0.6862745098039216,
          0.4791666666666667,
          0.5573770491803278,
          0.4657534246575342,
          0.6063829787234043,
          0.7485029940119761,
          0.6666666666666666,
          0.875,
          0.8507462686567164,
          0.453125,
          0.7532467532467533,
          0.4148936170212766,
          0.5443037974683544,
          0.32571428571428573,
          0.5042016806722689,
          0.47058823529411764,
          0.47674418604651164,
          0.45454545454545453,
          0.5576923076923077,
          0.38095238095238093,
          0.803921568627451,
          0.92,
          0.868421052631579,
          0.6756756756756757,
          0.6060606060606061,
          0.47058823529411764,
          0.4838709677419355,
          0.5223880597014925,
          0.3963963963963964,
          0.5972222222222222,
          0.7368421052631579,
          0.6716417910447762,
          0.2922077922077922,
          0.4567901234567901,
          0.6052631578947368,
          0.48717948717948717,
          0.7166666666666667,
          0.45185185185185184,
          0.4411764705882353,
          0.22857142857142856,
          0.5961538461538461,
          0.5102040816326531,
          0.6228070175438597,
          0.6216216216216216,
          0.49137931034482757,
          0.45,
          0.38461538461538464,
          0.2982456140350877,
          0.45,
          0.5555555555555556,
          0.375,
          0.6818181818181818,
          0.44776119402985076,
          0.5697674418604651,
          0.6352941176470588,
          0.24817518248175183,
          0.75,
          0.7252747252747253,
          0.7209302325581395,
          0.4295774647887324,
          0.391304347826087,
          0.3235294117647059,
          0.43478260869565216,
          0.3511450381679389,
          0.4594594594594595,
          0.8837209302325582,
          0.4845360824742268,
          0.37142857142857144,
          0.6222222222222222,
          0.5614035087719298,
          0.16455696202531644,
          0.4067796610169492,
          0.36666666666666664,
          0.5368421052631579,
          0.6329113924050633,
          0.7283950617283951,
          0.582089552238806,
          0.75,
          0.4925373134328358,
          0.27011494252873564,
          0.5806451612903226,
          0.4766355140186916,
          0.8,
          0.2978723404255319,
          0.4473684210526316,
          0.3418803418803419,
          0.32222222222222224,
          0.6153846153846154,
          0.47619047619047616,
          0.651685393258427,
          0.39705882352941174,
          0.4915254237288136,
          0.6153846153846154,
          0.32748538011695905,
          0.44086021505376344,
          0.26229508196721313,
          0.49382716049382713,
          0.3815789473684211,
          0.42063492063492064,
          0.3235294117647059,
          0.3387096774193548,
          0.3838383838383838,
          0.24096385542168675,
          0.4434782608695652,
          0.29896907216494845,
          0.6060606060606061,
          0.6891891891891891,
          0.6351351351351351,
          0.6388888888888888,
          0.7647058823529411,
          0.3404255319148936,
          0.2857142857142857,
          0.425,
          0.33548387096774196,
          0.8245614035087719,
          0.3582089552238806,
          0.4649122807017544,
          0.39473684210526316,
          0.6417910447761194,
          0.34558823529411764,
          0.5555555555555556,
          0.42424242424242425,
          0.5206611570247934,
          0.5230769230769231,
          0.6904761904761905,
          0.5727272727272728,
          0.4931506849315068,
          0.49019607843137253,
          0.4520547945205479,
          0.5443037974683544,
          0.19736842105263158,
          0.5862068965517241,
          0.47692307692307695,
          0.76,
          0.4666666666666667,
          0.5777777777777777,
          0.5333333333333333,
          0.3798449612403101,
          0.4647887323943662,
          0.7611940298507462,
          0.5555555555555556,
          0.31343283582089554,
          0.3815789473684211,
          0.48717948717948717,
          0.24778761061946902,
          0.8823529411764706,
          0.5683453237410072,
          0.6129032258064516,
          0.6263736263736264,
          0.3157894736842105,
          0.27419354838709675,
          0.7258064516129032,
          0.3014705882352941,
          0.6633663366336634,
          0.5714285714285714,
          0.6210526315789474,
          0.47560975609756095,
          0.7289719626168224,
          0.8382352941176471,
          0.5333333333333333,
          0.7551020408163265,
          0.7037037037037037,
          0.967741935483871,
          0.6206896551724138,
          0.5701754385964912,
          0.8493150684931506,
          0.8153846153846154,
          0.671875,
          0.5657894736842105,
          0.7349397590361446,
          1,
          0.7567567567567568,
          0.782608695652174,
          0.7837837837837838,
          0.6615384615384615,
          0.7096774193548387,
          0.5740740740740741,
          0.6493506493506493,
          0.8360655737704918,
          0.7222222222222222,
          0.5806451612903226,
          0.7916666666666666,
          0.3333333333333333,
          0.746268656716418,
          0.6857142857142857,
          0.5915492957746479,
          0.5735294117647058,
          0.6724137931034483,
          0.5964912280701754,
          0.5454545454545454,
          0.8085106382978723,
          0.6,
          0.7571428571428571,
          0.5130434782608696,
          0.39473684210526316,
          0.7142857142857143,
          0.7837837837837838,
          0.7142857142857143,
          0.8333333333333334,
          0.66,
          0.7872340425531915,
          0.581081081081081,
          0.5625,
          0.6666666666666666,
          0.6944444444444444,
          0.825,
          0.7682926829268293,
          0.6822429906542056,
          0.7142857142857143,
          0.4406779661016949,
          0.3770491803278688,
          0.5454545454545454,
          0.7580645161290323,
          0.6111111111111112,
          0.547945205479452,
          0.6285714285714286,
          0.803030303030303,
          0.6282051282051282,
          0.25136612021857924,
          0.2261904761904762,
          0.48863636363636365,
          0.5633802816901409,
          0.2676056338028169,
          0.39072847682119205,
          0.46236559139784944,
          0.7666666666666667,
          0.2585034013605442,
          0.4857142857142857,
          0.4659090909090909,
          0.39285714285714285,
          0.391304347826087,
          0.26595744680851063,
          0.6727272727272727,
          0.7007299270072993,
          0.7307692307692307,
          0.8852459016393442,
          0.8217054263565892,
          0.8353658536585366,
          0.8484848484848485,
          0.5,
          0.9166666666666666,
          0.726027397260274,
          0.9264705882352942,
          0.9583333333333334,
          0.9090909090909091,
          0.8558558558558559,
          0.5633802816901409,
          0.8235294117647058,
          0.5454545454545454,
          0.8623853211009175,
          0.7870370370370371,
          0.8181818181818182,
          0.7717391304347826,
          0.7246376811594203,
          0.7074829931972789,
          0.6170212765957447,
          0.5632183908045977,
          0.7988505747126436,
          0.8857142857142857,
          0.9772727272727273,
          0.6741573033707865,
          0.796875,
          0.7474747474747475,
          0.7619047619047619,
          0.7428571428571429,
          0.5922330097087378,
          0.85,
          0.5784313725490197,
          0.68,
          0.51,
          0.5925925925925926,
          0.7529411764705882,
          0.47058823529411764,
          0.6052631578947368
         ],
         "y0": " ",
         "yaxis": "y"
        }
       ],
       "layout": {
        "boxmode": "group",
        "legend": {
         "tracegroupgap": 0
        },
        "template": {
         "data": {
          "bar": [
           {
            "error_x": {
             "color": "#2a3f5f"
            },
            "error_y": {
             "color": "#2a3f5f"
            },
            "marker": {
             "line": {
              "color": "#E5ECF6",
              "width": 0.5
             },
             "pattern": {
              "fillmode": "overlay",
              "size": 10,
              "solidity": 0.2
             }
            },
            "type": "bar"
           }
          ],
          "barpolar": [
           {
            "marker": {
             "line": {
              "color": "#E5ECF6",
              "width": 0.5
             },
             "pattern": {
              "fillmode": "overlay",
              "size": 10,
              "solidity": 0.2
             }
            },
            "type": "barpolar"
           }
          ],
          "carpet": [
           {
            "aaxis": {
             "endlinecolor": "#2a3f5f",
             "gridcolor": "white",
             "linecolor": "white",
             "minorgridcolor": "white",
             "startlinecolor": "#2a3f5f"
            },
            "baxis": {
             "endlinecolor": "#2a3f5f",
             "gridcolor": "white",
             "linecolor": "white",
             "minorgridcolor": "white",
             "startlinecolor": "#2a3f5f"
            },
            "type": "carpet"
           }
          ],
          "choropleth": [
           {
            "colorbar": {
             "outlinewidth": 0,
             "ticks": ""
            },
            "type": "choropleth"
           }
          ],
          "contour": [
           {
            "colorbar": {
             "outlinewidth": 0,
             "ticks": ""
            },
            "colorscale": [
             [
              0,
              "#0d0887"
             ],
             [
              0.1111111111111111,
              "#46039f"
             ],
             [
              0.2222222222222222,
              "#7201a8"
             ],
             [
              0.3333333333333333,
              "#9c179e"
             ],
             [
              0.4444444444444444,
              "#bd3786"
             ],
             [
              0.5555555555555556,
              "#d8576b"
             ],
             [
              0.6666666666666666,
              "#ed7953"
             ],
             [
              0.7777777777777778,
              "#fb9f3a"
             ],
             [
              0.8888888888888888,
              "#fdca26"
             ],
             [
              1,
              "#f0f921"
             ]
            ],
            "type": "contour"
           }
          ],
          "contourcarpet": [
           {
            "colorbar": {
             "outlinewidth": 0,
             "ticks": ""
            },
            "type": "contourcarpet"
           }
          ],
          "heatmap": [
           {
            "colorbar": {
             "outlinewidth": 0,
             "ticks": ""
            },
            "colorscale": [
             [
              0,
              "#0d0887"
             ],
             [
              0.1111111111111111,
              "#46039f"
             ],
             [
              0.2222222222222222,
              "#7201a8"
             ],
             [
              0.3333333333333333,
              "#9c179e"
             ],
             [
              0.4444444444444444,
              "#bd3786"
             ],
             [
              0.5555555555555556,
              "#d8576b"
             ],
             [
              0.6666666666666666,
              "#ed7953"
             ],
             [
              0.7777777777777778,
              "#fb9f3a"
             ],
             [
              0.8888888888888888,
              "#fdca26"
             ],
             [
              1,
              "#f0f921"
             ]
            ],
            "type": "heatmap"
           }
          ],
          "heatmapgl": [
           {
            "colorbar": {
             "outlinewidth": 0,
             "ticks": ""
            },
            "colorscale": [
             [
              0,
              "#0d0887"
             ],
             [
              0.1111111111111111,
              "#46039f"
             ],
             [
              0.2222222222222222,
              "#7201a8"
             ],
             [
              0.3333333333333333,
              "#9c179e"
             ],
             [
              0.4444444444444444,
              "#bd3786"
             ],
             [
              0.5555555555555556,
              "#d8576b"
             ],
             [
              0.6666666666666666,
              "#ed7953"
             ],
             [
              0.7777777777777778,
              "#fb9f3a"
             ],
             [
              0.8888888888888888,
              "#fdca26"
             ],
             [
              1,
              "#f0f921"
             ]
            ],
            "type": "heatmapgl"
           }
          ],
          "histogram": [
           {
            "marker": {
             "pattern": {
              "fillmode": "overlay",
              "size": 10,
              "solidity": 0.2
             }
            },
            "type": "histogram"
           }
          ],
          "histogram2d": [
           {
            "colorbar": {
             "outlinewidth": 0,
             "ticks": ""
            },
            "colorscale": [
             [
              0,
              "#0d0887"
             ],
             [
              0.1111111111111111,
              "#46039f"
             ],
             [
              0.2222222222222222,
              "#7201a8"
             ],
             [
              0.3333333333333333,
              "#9c179e"
             ],
             [
              0.4444444444444444,
              "#bd3786"
             ],
             [
              0.5555555555555556,
              "#d8576b"
             ],
             [
              0.6666666666666666,
              "#ed7953"
             ],
             [
              0.7777777777777778,
              "#fb9f3a"
             ],
             [
              0.8888888888888888,
              "#fdca26"
             ],
             [
              1,
              "#f0f921"
             ]
            ],
            "type": "histogram2d"
           }
          ],
          "histogram2dcontour": [
           {
            "colorbar": {
             "outlinewidth": 0,
             "ticks": ""
            },
            "colorscale": [
             [
              0,
              "#0d0887"
             ],
             [
              0.1111111111111111,
              "#46039f"
             ],
             [
              0.2222222222222222,
              "#7201a8"
             ],
             [
              0.3333333333333333,
              "#9c179e"
             ],
             [
              0.4444444444444444,
              "#bd3786"
             ],
             [
              0.5555555555555556,
              "#d8576b"
             ],
             [
              0.6666666666666666,
              "#ed7953"
             ],
             [
              0.7777777777777778,
              "#fb9f3a"
             ],
             [
              0.8888888888888888,
              "#fdca26"
             ],
             [
              1,
              "#f0f921"
             ]
            ],
            "type": "histogram2dcontour"
           }
          ],
          "mesh3d": [
           {
            "colorbar": {
             "outlinewidth": 0,
             "ticks": ""
            },
            "type": "mesh3d"
           }
          ],
          "parcoords": [
           {
            "line": {
             "colorbar": {
              "outlinewidth": 0,
              "ticks": ""
             }
            },
            "type": "parcoords"
           }
          ],
          "pie": [
           {
            "automargin": true,
            "type": "pie"
           }
          ],
          "scatter": [
           {
            "fillpattern": {
             "fillmode": "overlay",
             "size": 10,
             "solidity": 0.2
            },
            "type": "scatter"
           }
          ],
          "scatter3d": [
           {
            "line": {
             "colorbar": {
              "outlinewidth": 0,
              "ticks": ""
             }
            },
            "marker": {
             "colorbar": {
              "outlinewidth": 0,
              "ticks": ""
             }
            },
            "type": "scatter3d"
           }
          ],
          "scattercarpet": [
           {
            "marker": {
             "colorbar": {
              "outlinewidth": 0,
              "ticks": ""
             }
            },
            "type": "scattercarpet"
           }
          ],
          "scattergeo": [
           {
            "marker": {
             "colorbar": {
              "outlinewidth": 0,
              "ticks": ""
             }
            },
            "type": "scattergeo"
           }
          ],
          "scattergl": [
           {
            "marker": {
             "colorbar": {
              "outlinewidth": 0,
              "ticks": ""
             }
            },
            "type": "scattergl"
           }
          ],
          "scattermapbox": [
           {
            "marker": {
             "colorbar": {
              "outlinewidth": 0,
              "ticks": ""
             }
            },
            "type": "scattermapbox"
           }
          ],
          "scatterpolar": [
           {
            "marker": {
             "colorbar": {
              "outlinewidth": 0,
              "ticks": ""
             }
            },
            "type": "scatterpolar"
           }
          ],
          "scatterpolargl": [
           {
            "marker": {
             "colorbar": {
              "outlinewidth": 0,
              "ticks": ""
             }
            },
            "type": "scatterpolargl"
           }
          ],
          "scatterternary": [
           {
            "marker": {
             "colorbar": {
              "outlinewidth": 0,
              "ticks": ""
             }
            },
            "type": "scatterternary"
           }
          ],
          "surface": [
           {
            "colorbar": {
             "outlinewidth": 0,
             "ticks": ""
            },
            "colorscale": [
             [
              0,
              "#0d0887"
             ],
             [
              0.1111111111111111,
              "#46039f"
             ],
             [
              0.2222222222222222,
              "#7201a8"
             ],
             [
              0.3333333333333333,
              "#9c179e"
             ],
             [
              0.4444444444444444,
              "#bd3786"
             ],
             [
              0.5555555555555556,
              "#d8576b"
             ],
             [
              0.6666666666666666,
              "#ed7953"
             ],
             [
              0.7777777777777778,
              "#fb9f3a"
             ],
             [
              0.8888888888888888,
              "#fdca26"
             ],
             [
              1,
              "#f0f921"
             ]
            ],
            "type": "surface"
           }
          ],
          "table": [
           {
            "cells": {
             "fill": {
              "color": "#EBF0F8"
             },
             "line": {
              "color": "white"
             }
            },
            "header": {
             "fill": {
              "color": "#C8D4E3"
             },
             "line": {
              "color": "white"
             }
            },
            "type": "table"
           }
          ]
         },
         "layout": {
          "annotationdefaults": {
           "arrowcolor": "#2a3f5f",
           "arrowhead": 0,
           "arrowwidth": 1
          },
          "autotypenumbers": "strict",
          "coloraxis": {
           "colorbar": {
            "outlinewidth": 0,
            "ticks": ""
           }
          },
          "colorscale": {
           "diverging": [
            [
             0,
             "#8e0152"
            ],
            [
             0.1,
             "#c51b7d"
            ],
            [
             0.2,
             "#de77ae"
            ],
            [
             0.3,
             "#f1b6da"
            ],
            [
             0.4,
             "#fde0ef"
            ],
            [
             0.5,
             "#f7f7f7"
            ],
            [
             0.6,
             "#e6f5d0"
            ],
            [
             0.7,
             "#b8e186"
            ],
            [
             0.8,
             "#7fbc41"
            ],
            [
             0.9,
             "#4d9221"
            ],
            [
             1,
             "#276419"
            ]
           ],
           "sequential": [
            [
             0,
             "#0d0887"
            ],
            [
             0.1111111111111111,
             "#46039f"
            ],
            [
             0.2222222222222222,
             "#7201a8"
            ],
            [
             0.3333333333333333,
             "#9c179e"
            ],
            [
             0.4444444444444444,
             "#bd3786"
            ],
            [
             0.5555555555555556,
             "#d8576b"
            ],
            [
             0.6666666666666666,
             "#ed7953"
            ],
            [
             0.7777777777777778,
             "#fb9f3a"
            ],
            [
             0.8888888888888888,
             "#fdca26"
            ],
            [
             1,
             "#f0f921"
            ]
           ],
           "sequentialminus": [
            [
             0,
             "#0d0887"
            ],
            [
             0.1111111111111111,
             "#46039f"
            ],
            [
             0.2222222222222222,
             "#7201a8"
            ],
            [
             0.3333333333333333,
             "#9c179e"
            ],
            [
             0.4444444444444444,
             "#bd3786"
            ],
            [
             0.5555555555555556,
             "#d8576b"
            ],
            [
             0.6666666666666666,
             "#ed7953"
            ],
            [
             0.7777777777777778,
             "#fb9f3a"
            ],
            [
             0.8888888888888888,
             "#fdca26"
            ],
            [
             1,
             "#f0f921"
            ]
           ]
          },
          "colorway": [
           "#636efa",
           "#EF553B",
           "#00cc96",
           "#ab63fa",
           "#FFA15A",
           "#19d3f3",
           "#FF6692",
           "#B6E880",
           "#FF97FF",
           "#FECB52"
          ],
          "font": {
           "color": "#2a3f5f"
          },
          "geo": {
           "bgcolor": "white",
           "lakecolor": "white",
           "landcolor": "#E5ECF6",
           "showlakes": true,
           "showland": true,
           "subunitcolor": "white"
          },
          "hoverlabel": {
           "align": "left"
          },
          "hovermode": "closest",
          "mapbox": {
           "style": "light"
          },
          "paper_bgcolor": "white",
          "plot_bgcolor": "#E5ECF6",
          "polar": {
           "angularaxis": {
            "gridcolor": "white",
            "linecolor": "white",
            "ticks": ""
           },
           "bgcolor": "#E5ECF6",
           "radialaxis": {
            "gridcolor": "white",
            "linecolor": "white",
            "ticks": ""
           }
          },
          "scene": {
           "xaxis": {
            "backgroundcolor": "#E5ECF6",
            "gridcolor": "white",
            "gridwidth": 2,
            "linecolor": "white",
            "showbackground": true,
            "ticks": "",
            "zerolinecolor": "white"
           },
           "yaxis": {
            "backgroundcolor": "#E5ECF6",
            "gridcolor": "white",
            "gridwidth": 2,
            "linecolor": "white",
            "showbackground": true,
            "ticks": "",
            "zerolinecolor": "white"
           },
           "zaxis": {
            "backgroundcolor": "#E5ECF6",
            "gridcolor": "white",
            "gridwidth": 2,
            "linecolor": "white",
            "showbackground": true,
            "ticks": "",
            "zerolinecolor": "white"
           }
          },
          "shapedefaults": {
           "line": {
            "color": "#2a3f5f"
           }
          },
          "ternary": {
           "aaxis": {
            "gridcolor": "white",
            "linecolor": "white",
            "ticks": ""
           },
           "baxis": {
            "gridcolor": "white",
            "linecolor": "white",
            "ticks": ""
           },
           "bgcolor": "#E5ECF6",
           "caxis": {
            "gridcolor": "white",
            "linecolor": "white",
            "ticks": ""
           }
          },
          "title": {
           "x": 0.05
          },
          "xaxis": {
           "automargin": true,
           "gridcolor": "white",
           "linecolor": "white",
           "ticks": "",
           "title": {
            "standoff": 15
           },
           "zerolinecolor": "white",
           "zerolinewidth": 2
          },
          "yaxis": {
           "automargin": true,
           "gridcolor": "white",
           "linecolor": "white",
           "ticks": "",
           "title": {
            "standoff": 15
           },
           "zerolinecolor": "white",
           "zerolinewidth": 2
          }
         }
        },
        "title": {
         "text": "Ratio of unique words to all words"
        },
        "xaxis": {
         "anchor": "y",
         "domain": [
          0,
          1
         ],
         "title": {
          "text": "Artist"
         }
        },
        "yaxis": {
         "anchor": "x",
         "domain": [
          0,
          1
         ],
         "title": {
          "text": "unique_stems_ratio_en"
         }
        }
       }
      },
      "text/html": [
       "<div>                            <div id=\"4fd0073b-ff78-4a0c-8b04-80a9587311ec\" class=\"plotly-graph-div\" style=\"height:525px; width:100%;\"></div>            <script type=\"text/javascript\">                require([\"plotly\"], function(Plotly) {                    window.PLOTLYENV=window.PLOTLYENV || {};                                    if (document.getElementById(\"4fd0073b-ff78-4a0c-8b04-80a9587311ec\")) {                    Plotly.newPlot(                        \"4fd0073b-ff78-4a0c-8b04-80a9587311ec\",                        [{\"alignmentgroup\":\"True\",\"hovertemplate\":\"Artist=%{x}<br>unique_stems_ratio_en=%{y}<extra></extra>\",\"legendgroup\":\"\",\"marker\":{\"color\":\"#636efa\"},\"name\":\"\",\"notched\":false,\"offsetgroup\":\"\",\"orientation\":\"v\",\"showlegend\":false,\"x\":[\"\\u0531\\u0550\\u0539\\u0548\\u0552\\u0550 \\u0544\\u0535\\u054d\\u0549\\u0545\\u0531\\u0546\",\"\\u0531\\u0550\\u0539\\u0548\\u0552\\u0550 \\u0544\\u0535\\u054d\\u0549\\u0545\\u0531\\u0546\",\"\\u0531\\u0550\\u0539\\u0548\\u0552\\u0550 \\u0544\\u0535\\u054d\\u0549\\u0545\\u0531\\u0546\",\"\\u0531\\u0550\\u0539\\u0548\\u0552\\u0550 \\u0544\\u0535\\u054d\\u0549\\u0545\\u0531\\u0546\",\"\\u0531\\u0550\\u0539\\u0548\\u0552\\u0550 \\u0544\\u0535\\u054d\\u0549\\u0545\\u0531\\u0546\",\"\\u0531\\u0550\\u0539\\u0548\\u0552\\u0550 \\u0544\\u0535\\u054d\\u0549\\u0545\\u0531\\u0546\",\"\\u0531\\u0550\\u0539\\u0548\\u0552\\u0550 \\u0544\\u0535\\u054d\\u0549\\u0545\\u0531\\u0546\",\"\\u0531\\u0550\\u0539\\u0548\\u0552\\u0550 \\u0544\\u0535\\u054d\\u0549\\u0545\\u0531\\u0546\",\"\\u0531\\u0550\\u0539\\u0548\\u0552\\u0550 \\u0544\\u0535\\u054d\\u0549\\u0545\\u0531\\u0546\",\"\\u0531\\u0550\\u0539\\u0548\\u0552\\u0550 \\u0544\\u0535\\u054d\\u0549\\u0545\\u0531\\u0546\",\"\\u0531\\u0550\\u0539\\u0548\\u0552\\u0550 \\u0544\\u0535\\u054d\\u0549\\u0545\\u0531\\u0546\",\"\\u0531\\u0550\\u0539\\u0548\\u0552\\u0550 \\u0544\\u0535\\u054d\\u0549\\u0545\\u0531\\u0546\",\"\\u0531\\u0550\\u0539\\u0548\\u0552\\u0550 \\u0544\\u0535\\u054d\\u0549\\u0545\\u0531\\u0546\",\"\\u0531\\u0550\\u0539\\u0548\\u0552\\u0550 \\u0544\\u0535\\u054d\\u0549\\u0545\\u0531\\u0546\",\"\\u0531\\u0550\\u0539\\u0548\\u0552\\u0550 \\u0544\\u0535\\u054d\\u0549\\u0545\\u0531\\u0546\",\"\\u0531\\u0550\\u0539\\u0548\\u0552\\u0550 \\u0544\\u0535\\u054d\\u0549\\u0545\\u0531\\u0546\",\"\\u0531\\u0550\\u0539\\u0548\\u0552\\u0550 \\u0544\\u0535\\u054d\\u0549\\u0545\\u0531\\u0546\",\"\\u0531\\u0550\\u0539\\u0548\\u0552\\u0550 \\u0544\\u0535\\u054d\\u0549\\u0545\\u0531\\u0546\",\"\\u0531\\u0550\\u0539\\u0548\\u0552\\u0550 \\u0544\\u0535\\u054d\\u0549\\u0545\\u0531\\u0546\",\"\\u0531\\u0550\\u0539\\u0548\\u0552\\u0550 \\u0544\\u0535\\u054d\\u0549\\u0545\\u0531\\u0546\",\"\\u0531\\u0550\\u0539\\u0548\\u0552\\u0550 \\u0544\\u0535\\u054d\\u0549\\u0545\\u0531\\u0546\",\"\\u0531\\u0550\\u0539\\u0548\\u0552\\u0550 \\u0544\\u0535\\u054d\\u0549\\u0545\\u0531\\u0546\",\"\\u0531\\u0550\\u0539\\u0548\\u0552\\u0550 \\u0544\\u0535\\u054d\\u0549\\u0545\\u0531\\u0546\",\"\\u0531\\u0550\\u0539\\u0548\\u0552\\u0550 \\u0544\\u0535\\u054d\\u0549\\u0545\\u0531\\u0546\",\"\\u0531\\u0550\\u0539\\u0548\\u0552\\u0550 \\u0544\\u0535\\u054d\\u0549\\u0545\\u0531\\u0546\",\"\\u0531\\u0550\\u0539\\u0548\\u0552\\u0550 \\u0544\\u0535\\u054d\\u0549\\u0545\\u0531\\u0546\",\"\\u0531\\u0550\\u0539\\u0548\\u0552\\u0550 \\u0544\\u0535\\u054d\\u0549\\u0545\\u0531\\u0546\",\"\\u0531\\u0550\\u0539\\u0548\\u0552\\u0550 \\u0544\\u0535\\u054d\\u0549\\u0545\\u0531\\u0546\",\"\\u0531\\u0550\\u0539\\u0548\\u0552\\u0550 \\u0544\\u0535\\u054d\\u0549\\u0545\\u0531\\u0546\",\"\\u0531\\u0550\\u0539\\u0548\\u0552\\u0550 \\u0544\\u0535\\u054d\\u0549\\u0545\\u0531\\u0546\",\"\\u0531\\u0550\\u0539\\u0548\\u0552\\u0550 \\u0544\\u0535\\u054d\\u0549\\u0545\\u0531\\u0546\",\"\\u0531\\u0550\\u0539\\u0548\\u0552\\u0550 \\u0544\\u0535\\u054d\\u0549\\u0545\\u0531\\u0546\",\"\\u0531\\u0550\\u0539\\u0548\\u0552\\u0550 \\u0544\\u0535\\u054d\\u0549\\u0545\\u0531\\u0546\",\"\\u0531\\u0550\\u0539\\u0548\\u0552\\u0550 \\u0544\\u0535\\u054d\\u0549\\u0545\\u0531\\u0546\",\"\\u0531\\u0550\\u0539\\u0548\\u0552\\u0550 \\u0544\\u0535\\u054d\\u0549\\u0545\\u0531\\u0546\",\"\\u0531\\u0550\\u0539\\u0548\\u0552\\u0550 \\u0544\\u0535\\u054d\\u0549\\u0545\\u0531\\u0546\",\"\\u0531\\u0550\\u0539\\u0548\\u0552\\u0550 \\u0544\\u0535\\u054d\\u0549\\u0545\\u0531\\u0546\",\"\\u0531\\u0550\\u0539\\u0548\\u0552\\u0550 \\u0544\\u0535\\u054d\\u0549\\u0545\\u0531\\u0546\",\"\\u0531\\u0550\\u0539\\u0548\\u0552\\u0550 \\u0544\\u0535\\u054d\\u0549\\u0545\\u0531\\u0546\",\"\\u0531\\u0550\\u0539\\u0548\\u0552\\u0550 \\u0544\\u0535\\u054d\\u0549\\u0545\\u0531\\u0546\",\"\\u0531\\u0550\\u0539\\u0548\\u0552\\u0550 \\u0544\\u0535\\u054d\\u0549\\u0545\\u0531\\u0546\",\"\\u0531\\u0550\\u0539\\u0548\\u0552\\u0550 \\u0544\\u0535\\u054d\\u0549\\u0545\\u0531\\u0546\",\"\\u0531\\u0550\\u0539\\u0548\\u0552\\u0550 \\u0544\\u0535\\u054d\\u0549\\u0545\\u0531\\u0546\",\"\\u0531\\u0550\\u0539\\u0548\\u0552\\u0550 \\u0544\\u0535\\u054d\\u0549\\u0545\\u0531\\u0546\",\"\\u0531\\u0550\\u0539\\u0548\\u0552\\u0550 \\u0544\\u0535\\u054d\\u0549\\u0545\\u0531\\u0546\",\"\\u0531\\u0550\\u0539\\u0548\\u0552\\u0550 \\u0544\\u0535\\u054d\\u0549\\u0545\\u0531\\u0546\",\"\\u0531\\u0550\\u0539\\u0548\\u0552\\u0550 \\u0544\\u0535\\u054d\\u0549\\u0545\\u0531\\u0546\",\"\\u0531\\u0550\\u0539\\u0548\\u0552\\u0550 \\u0544\\u0535\\u054d\\u0549\\u0545\\u0531\\u0546\",\"\\u0531\\u0550\\u0539\\u0548\\u0552\\u0550 \\u0544\\u0535\\u054d\\u0549\\u0545\\u0531\\u0546\",\"\\u0531\\u0550\\u0539\\u0548\\u0552\\u0550 \\u0544\\u0535\\u054d\\u0549\\u0545\\u0531\\u0546\",\"\\u054c\\u0548\\u0552\\u0532\\u0535\\u0546 \\u0540\\u0531\\u053d\\u054e\\u0535\\u0550\\u0534\\u0545\\u0531\\u0546\",\"\\u054c\\u0548\\u0552\\u0532\\u0535\\u0546 \\u0540\\u0531\\u053d\\u054e\\u0535\\u0550\\u0534\\u0545\\u0531\\u0546\",\"\\u054c\\u0548\\u0552\\u0532\\u0535\\u0546 \\u0540\\u0531\\u053d\\u054e\\u0535\\u0550\\u0534\\u0545\\u0531\\u0546\",\"\\u054c\\u0548\\u0552\\u0532\\u0535\\u0546 \\u0540\\u0531\\u053d\\u054e\\u0535\\u0550\\u0534\\u0545\\u0531\\u0546\",\"\\u054c\\u0548\\u0552\\u0532\\u0535\\u0546 \\u0540\\u0531\\u053d\\u054e\\u0535\\u0550\\u0534\\u0545\\u0531\\u0546\",\"\\u054c\\u0548\\u0552\\u0532\\u0535\\u0546 \\u0540\\u0531\\u053d\\u054e\\u0535\\u0550\\u0534\\u0545\\u0531\\u0546\",\"\\u054c\\u0548\\u0552\\u0532\\u0535\\u0546 \\u0540\\u0531\\u053d\\u054e\\u0535\\u0550\\u0534\\u0545\\u0531\\u0546\",\"\\u054c\\u0548\\u0552\\u0532\\u0535\\u0546 \\u0540\\u0531\\u053d\\u054e\\u0535\\u0550\\u0534\\u0545\\u0531\\u0546\",\"\\u054c\\u0548\\u0552\\u0532\\u0535\\u0546 \\u0540\\u0531\\u053d\\u054e\\u0535\\u0550\\u0534\\u0545\\u0531\\u0546\",\"\\u054c\\u0548\\u0552\\u0532\\u0535\\u0546 \\u0540\\u0531\\u053d\\u054e\\u0535\\u0550\\u0534\\u0545\\u0531\\u0546\",\"\\u054c\\u0548\\u0552\\u0532\\u0535\\u0546 \\u0540\\u0531\\u053d\\u054e\\u0535\\u0550\\u0534\\u0545\\u0531\\u0546\",\"\\u054c\\u0548\\u0552\\u0532\\u0535\\u0546 \\u0540\\u0531\\u053d\\u054e\\u0535\\u0550\\u0534\\u0545\\u0531\\u0546\",\"\\u054c\\u0548\\u0552\\u0532\\u0535\\u0546 \\u0540\\u0531\\u053d\\u054e\\u0535\\u0550\\u0534\\u0545\\u0531\\u0546\",\"\\u054c\\u0548\\u0552\\u0532\\u0535\\u0546 \\u0540\\u0531\\u053d\\u054e\\u0535\\u0550\\u0534\\u0545\\u0531\\u0546\",\"\\u054c\\u0548\\u0552\\u0532\\u0535\\u0546 \\u0540\\u0531\\u053d\\u054e\\u0535\\u0550\\u0534\\u0545\\u0531\\u0546\",\"\\u054c\\u0548\\u0552\\u0532\\u0535\\u0546 \\u0540\\u0531\\u053d\\u054e\\u0535\\u0550\\u0534\\u0545\\u0531\\u0546\",\"\\u054c\\u0548\\u0552\\u0532\\u0535\\u0546 \\u0540\\u0531\\u053d\\u054e\\u0535\\u0550\\u0534\\u0545\\u0531\\u0546\",\"\\u054c\\u0548\\u0552\\u0532\\u0535\\u0546 \\u0540\\u0531\\u053d\\u054e\\u0535\\u0550\\u0534\\u0545\\u0531\\u0546\",\"\\u054c\\u0548\\u0552\\u0532\\u0535\\u0546 \\u0540\\u0531\\u053d\\u054e\\u0535\\u0550\\u0534\\u0545\\u0531\\u0546\",\"\\u054c\\u0548\\u0552\\u0532\\u0535\\u0546 \\u0540\\u0531\\u053d\\u054e\\u0535\\u0550\\u0534\\u0545\\u0531\\u0546\",\"\\u054c\\u0548\\u0552\\u0532\\u0535\\u0546 \\u0540\\u0531\\u053d\\u054e\\u0535\\u0550\\u0534\\u0545\\u0531\\u0546\",\"\\u054c\\u0548\\u0552\\u0532\\u0535\\u0546 \\u0540\\u0531\\u053d\\u054e\\u0535\\u0550\\u0534\\u0545\\u0531\\u0546\",\"\\u054c\\u0548\\u0552\\u0532\\u0535\\u0546 \\u0540\\u0531\\u053d\\u054e\\u0535\\u0550\\u0534\\u0545\\u0531\\u0546\",\"\\u054c\\u0548\\u0552\\u0532\\u0535\\u0546 \\u0540\\u0531\\u053d\\u054e\\u0535\\u0550\\u0534\\u0545\\u0531\\u0546\",\"\\u054c\\u0548\\u0552\\u0532\\u0535\\u0546 \\u0540\\u0531\\u053d\\u054e\\u0535\\u0550\\u0534\\u0545\\u0531\\u0546\",\"\\u054c\\u0548\\u0552\\u0532\\u0535\\u0546 \\u0540\\u0531\\u053d\\u054e\\u0535\\u0550\\u0534\\u0545\\u0531\\u0546\",\"\\u054c\\u0548\\u0552\\u0532\\u0535\\u0546 \\u0540\\u0531\\u053d\\u054e\\u0535\\u0550\\u0534\\u0545\\u0531\\u0546\",\"\\u054c\\u0548\\u0552\\u0532\\u0535\\u0546 \\u0540\\u0531\\u053d\\u054e\\u0535\\u0550\\u0534\\u0545\\u0531\\u0546\",\"\\u054c\\u0548\\u0552\\u0532\\u0535\\u0546 \\u0540\\u0531\\u053d\\u054e\\u0535\\u0550\\u0534\\u0545\\u0531\\u0546\",\"\\u054c\\u0548\\u0552\\u0532\\u0535\\u0546 \\u0540\\u0531\\u053d\\u054e\\u0535\\u0550\\u0534\\u0545\\u0531\\u0546\",\"\\u054c\\u0548\\u0552\\u0532\\u0535\\u0546 \\u0540\\u0531\\u053d\\u054e\\u0535\\u0550\\u0534\\u0545\\u0531\\u0546\",\"\\u054c\\u0548\\u0552\\u0532\\u0535\\u0546 \\u0540\\u0531\\u053d\\u054e\\u0535\\u0550\\u0534\\u0545\\u0531\\u0546\",\"\\u054c\\u0548\\u0552\\u0532\\u0535\\u0546 \\u0540\\u0531\\u053d\\u054e\\u0535\\u0550\\u0534\\u0545\\u0531\\u0546\",\"\\u054c\\u0548\\u0552\\u0532\\u0535\\u0546 \\u0540\\u0531\\u053d\\u054e\\u0535\\u0550\\u0534\\u0545\\u0531\\u0546\",\"\\u054c\\u0548\\u0552\\u0532\\u0535\\u0546 \\u0540\\u0531\\u053d\\u054e\\u0535\\u0550\\u0534\\u0545\\u0531\\u0546\",\"\\u054c\\u0548\\u0552\\u0532\\u0535\\u0546 \\u0540\\u0531\\u053d\\u054e\\u0535\\u0550\\u0534\\u0545\\u0531\\u0546\",\"\\u054c\\u0548\\u0552\\u0532\\u0535\\u0546 \\u0540\\u0531\\u053d\\u054e\\u0535\\u0550\\u0534\\u0545\\u0531\\u0546\",\"\\u054c\\u0548\\u0552\\u0532\\u0535\\u0546 \\u0540\\u0531\\u053d\\u054e\\u0535\\u0550\\u0534\\u0545\\u0531\\u0546\",\"\\u054c\\u0548\\u0552\\u0532\\u0535\\u0546 \\u0540\\u0531\\u053d\\u054e\\u0535\\u0550\\u0534\\u0545\\u0531\\u0546\",\"\\u054c\\u0548\\u0552\\u0532\\u0535\\u0546 \\u0540\\u0531\\u053d\\u054e\\u0535\\u0550\\u0534\\u0545\\u0531\\u0546\",\"\\u054c\\u0548\\u0552\\u0532\\u0535\\u0546 \\u0540\\u0531\\u053d\\u054e\\u0535\\u0550\\u0534\\u0545\\u0531\\u0546\",\"\\u054c\\u0548\\u0552\\u0532\\u0535\\u0546 \\u0540\\u0531\\u053d\\u054e\\u0535\\u0550\\u0534\\u0545\\u0531\\u0546\",\"\\u054c\\u0548\\u0552\\u0532\\u0535\\u0546 \\u0540\\u0531\\u053d\\u054e\\u0535\\u0550\\u0534\\u0545\\u0531\\u0546\",\"\\u054c\\u0548\\u0552\\u0532\\u0535\\u0546 \\u0540\\u0531\\u053d\\u054e\\u0535\\u0550\\u0534\\u0545\\u0531\\u0546\",\"\\u054c\\u0548\\u0552\\u0532\\u0535\\u0546 \\u0540\\u0531\\u053d\\u054e\\u0535\\u0550\\u0534\\u0545\\u0531\\u0546\",\"\\u054c\\u0548\\u0552\\u0532\\u0535\\u0546 \\u0540\\u0531\\u053d\\u054e\\u0535\\u0550\\u0534\\u0545\\u0531\\u0546\",\"\\u054c\\u0548\\u0552\\u0532\\u0535\\u0546 \\u0540\\u0531\\u053d\\u054e\\u0535\\u0550\\u0534\\u0545\\u0531\\u0546\",\"\\u054c\\u0548\\u0552\\u0532\\u0535\\u0546 \\u0540\\u0531\\u053d\\u054e\\u0535\\u0550\\u0534\\u0545\\u0531\\u0546\",\"\\u054c\\u0548\\u0552\\u0532\\u0535\\u0546 \\u0540\\u0531\\u053d\\u054e\\u0535\\u0550\\u0534\\u0545\\u0531\\u0546\",\"\\u054c\\u0548\\u0552\\u0532\\u0535\\u0546 \\u0540\\u0531\\u053d\\u054e\\u0535\\u0550\\u0534\\u0545\\u0531\\u0546\",\"\\u054c\\u0548\\u0552\\u0532\\u0535\\u0546 \\u0540\\u0531\\u053d\\u054e\\u0535\\u0550\\u0534\\u0545\\u0531\\u0546\",\"\\u054c\\u0548\\u0552\\u0532\\u0535\\u0546 \\u0540\\u0531\\u053d\\u054e\\u0535\\u0550\\u0534\\u0545\\u0531\\u0546\",\"\\u054c\\u0548\\u0552\\u0532\\u0535\\u0546 \\u0540\\u0531\\u053d\\u054e\\u0535\\u0550\\u0534\\u0545\\u0531\\u0546\",\"\\u054c\\u0548\\u0552\\u0532\\u0535\\u0546 \\u0540\\u0531\\u053d\\u054e\\u0535\\u0550\\u0534\\u0545\\u0531\\u0546\",\"\\u054c\\u0548\\u0552\\u0532\\u0535\\u0546 \\u0540\\u0531\\u053d\\u054e\\u0535\\u0550\\u0534\\u0545\\u0531\\u0546\",\"\\u054c\\u0548\\u0552\\u0532\\u0535\\u0546 \\u0540\\u0531\\u053d\\u054e\\u0535\\u0550\\u0534\\u0545\\u0531\\u0546\",\"\\u054c\\u0548\\u0552\\u0532\\u0535\\u0546 \\u0540\\u0531\\u053d\\u054e\\u0535\\u0550\\u0534\\u0545\\u0531\\u0546\",\"\\u054c\\u0548\\u0552\\u0532\\u0535\\u0546 \\u0540\\u0531\\u053d\\u054e\\u0535\\u0550\\u0534\\u0545\\u0531\\u0546\",\"\\u054c\\u0548\\u0552\\u0532\\u0535\\u0546 \\u0540\\u0531\\u053d\\u054e\\u0535\\u0550\\u0534\\u0545\\u0531\\u0546\",\"\\u054c\\u0548\\u0552\\u0532\\u0535\\u0546 \\u0540\\u0531\\u053d\\u054e\\u0535\\u0550\\u0534\\u0545\\u0531\\u0546\",\"\\u054c\\u0548\\u0552\\u0532\\u0535\\u0546 \\u0540\\u0531\\u053d\\u054e\\u0535\\u0550\\u0534\\u0545\\u0531\\u0546\",\"\\u054c\\u0548\\u0552\\u0532\\u0535\\u0546 \\u0540\\u0531\\u053d\\u054e\\u0535\\u0550\\u0534\\u0545\\u0531\\u0546\",\"\\u054c\\u0548\\u0552\\u0532\\u0535\\u0546 \\u0540\\u0531\\u053d\\u054e\\u0535\\u0550\\u0534\\u0545\\u0531\\u0546\",\"\\u054c\\u0548\\u0552\\u0532\\u0535\\u0546 \\u0540\\u0531\\u053d\\u054e\\u0535\\u0550\\u0534\\u0545\\u0531\\u0546\",\"\\u054c\\u0548\\u0552\\u0532\\u0535\\u0546 \\u0540\\u0531\\u053d\\u054e\\u0535\\u0550\\u0534\\u0545\\u0531\\u0546\",\"\\u054c\\u0548\\u0552\\u0532\\u0535\\u0546 \\u0540\\u0531\\u053d\\u054e\\u0535\\u0550\\u0534\\u0545\\u0531\\u0546\",\"\\u054c\\u0548\\u0552\\u0532\\u0535\\u0546 \\u0540\\u0531\\u053d\\u054e\\u0535\\u0550\\u0534\\u0545\\u0531\\u0546\",\"\\u054c\\u0548\\u0552\\u0532\\u0535\\u0546 \\u0540\\u0531\\u053d\\u054e\\u0535\\u0550\\u0534\\u0545\\u0531\\u0546\",\"\\u054c\\u0548\\u0552\\u0532\\u0535\\u0546 \\u0540\\u0531\\u053d\\u054e\\u0535\\u0550\\u0534\\u0545\\u0531\\u0546\",\"\\u054c\\u0548\\u0552\\u0532\\u0535\\u0546 \\u0540\\u0531\\u053d\\u054e\\u0535\\u0550\\u0534\\u0545\\u0531\\u0546\",\"\\u054c\\u0548\\u0552\\u0532\\u0535\\u0546 \\u0540\\u0531\\u053d\\u054e\\u0535\\u0550\\u0534\\u0545\\u0531\\u0546\",\"\\u054c\\u0548\\u0552\\u0532\\u0535\\u0546 \\u0540\\u0531\\u053d\\u054e\\u0535\\u0550\\u0534\\u0545\\u0531\\u0546\",\"\\u054c\\u0548\\u0552\\u0532\\u0535\\u0546 \\u0540\\u0531\\u053d\\u054e\\u0535\\u0550\\u0534\\u0545\\u0531\\u0546\",\"\\u054c\\u0548\\u0552\\u0532\\u0535\\u0546 \\u0540\\u0531\\u053d\\u054e\\u0535\\u0550\\u0534\\u0545\\u0531\\u0546\",\"\\u054c\\u0548\\u0552\\u0532\\u0535\\u0546 \\u0540\\u0531\\u053d\\u054e\\u0535\\u0550\\u0534\\u0545\\u0531\\u0546\",\"\\u054c\\u0548\\u0552\\u0532\\u0535\\u0546 \\u0540\\u0531\\u053d\\u054e\\u0535\\u0550\\u0534\\u0545\\u0531\\u0546\",\"\\u054c\\u0548\\u0552\\u0532\\u0535\\u0546 \\u0540\\u0531\\u053d\\u054e\\u0535\\u0550\\u0534\\u0545\\u0531\\u0546\",\"\\u054c\\u0548\\u0552\\u0532\\u0535\\u0546 \\u0540\\u0531\\u053d\\u054e\\u0535\\u0550\\u0534\\u0545\\u0531\\u0546\",\"\\u054c\\u0548\\u0552\\u0532\\u0535\\u0546 \\u0540\\u0531\\u053d\\u054e\\u0535\\u0550\\u0534\\u0545\\u0531\\u0546\",\"\\u054c\\u0548\\u0552\\u0532\\u0535\\u0546 \\u0540\\u0531\\u053d\\u054e\\u0535\\u0550\\u0534\\u0545\\u0531\\u0546\",\"\\u054c\\u0548\\u0552\\u0532\\u0535\\u0546 \\u0540\\u0531\\u053d\\u054e\\u0535\\u0550\\u0534\\u0545\\u0531\\u0546\",\"\\u054d\\u0531\\u0545\\u0531\\u0539-\\u0546\\u0548\\u054e\\u0531\",\"\\u054d\\u0531\\u0545\\u0531\\u0539-\\u0546\\u0548\\u054e\\u0531\",\"\\u054d\\u0531\\u0545\\u0531\\u0539-\\u0546\\u0548\\u054e\\u0531\",\"\\u054d\\u0531\\u0545\\u0531\\u0539-\\u0546\\u0548\\u054e\\u0531\",\"\\u054d\\u0531\\u0545\\u0531\\u0539-\\u0546\\u0548\\u054e\\u0531\",\"\\u054d\\u0531\\u0545\\u0531\\u0539-\\u0546\\u0548\\u054e\\u0531\",\"\\u054d\\u0531\\u0545\\u0531\\u0539-\\u0546\\u0548\\u054e\\u0531\",\"\\u054d\\u0531\\u0545\\u0531\\u0539-\\u0546\\u0548\\u054e\\u0531\",\"\\u054d\\u0531\\u0545\\u0531\\u0539-\\u0546\\u0548\\u054e\\u0531\",\"\\u054d\\u0531\\u0545\\u0531\\u0539-\\u0546\\u0548\\u054e\\u0531\",\"\\u054d\\u0531\\u0545\\u0531\\u0539-\\u0546\\u0548\\u054e\\u0531\",\"\\u054d\\u0531\\u0545\\u0531\\u0539-\\u0546\\u0548\\u054e\\u0531\",\"\\u054d\\u0531\\u0545\\u0531\\u0539-\\u0546\\u0548\\u054e\\u0531\",\"\\u054d\\u0531\\u0545\\u0531\\u0539-\\u0546\\u0548\\u054e\\u0531\",\"\\u054d\\u0531\\u0545\\u0531\\u0539-\\u0546\\u0548\\u054e\\u0531\",\"\\u054d\\u0531\\u0545\\u0531\\u0539-\\u0546\\u0548\\u054e\\u0531\",\"\\u053f\\u0548\\u0544\\u053b\\u054f\\u0531\\u054d\",\"\\u053f\\u0548\\u0544\\u053b\\u054f\\u0531\\u054d\",\"\\u053f\\u0548\\u0544\\u053b\\u054f\\u0531\\u054d\",\"\\u053f\\u0548\\u0544\\u053b\\u054f\\u0531\\u054d\",\"\\u053f\\u0548\\u0544\\u053b\\u054f\\u0531\\u054d\",\"\\u053f\\u0548\\u0544\\u053b\\u054f\\u0531\\u054d\",\"\\u053f\\u0548\\u0544\\u053b\\u054f\\u0531\\u054d\",\"\\u053f\\u0548\\u0544\\u053b\\u054f\\u0531\\u054d\",\"\\u053f\\u0548\\u0544\\u053b\\u054f\\u0531\\u054d\",\"\\u053f\\u0548\\u0544\\u053b\\u054f\\u0531\\u054d\",\"\\u053f\\u0548\\u0544\\u053b\\u054f\\u0531\\u054d\",\"\\u053f\\u0548\\u0544\\u053b\\u054f\\u0531\\u054d\",\"\\u053f\\u0548\\u0544\\u053b\\u054f\\u0531\\u054d\",\"\\u053f\\u0548\\u0544\\u053b\\u054f\\u0531\\u054d\",\"\\u053f\\u0548\\u0544\\u053b\\u054f\\u0531\\u054d\",\"\\u053f\\u0548\\u0544\\u053b\\u054f\\u0531\\u054d\",\"\\u053f\\u0548\\u0544\\u053b\\u054f\\u0531\\u054d\",\"\\u053f\\u0548\\u0544\\u053b\\u054f\\u0531\\u054d\",\"\\u053f\\u0548\\u0544\\u053b\\u054f\\u0531\\u054d\",\"\\u053f\\u0548\\u0544\\u053b\\u054f\\u0531\\u054d\",\"\\u053f\\u0548\\u0544\\u053b\\u054f\\u0531\\u054d\",\"\\u053f\\u0548\\u0544\\u053b\\u054f\\u0531\\u054d\",\"\\u053f\\u0548\\u0544\\u053b\\u054f\\u0531\\u054d\",\"\\u053f\\u0548\\u0544\\u053b\\u054f\\u0531\\u054d\",\"\\u053f\\u0548\\u0544\\u053b\\u054f\\u0531\\u054d\",\"\\u053f\\u0548\\u0544\\u053b\\u054f\\u0531\\u054d\",\"\\u053f\\u0548\\u0544\\u053b\\u054f\\u0531\\u054d\",\"\\u053f\\u0548\\u0544\\u053b\\u054f\\u0531\\u054d\",\"\\u053f\\u0548\\u0544\\u053b\\u054f\\u0531\\u054d\",\"\\u053f\\u0548\\u0544\\u053b\\u054f\\u0531\\u054d\",\"\\u053f\\u0548\\u0544\\u053b\\u054f\\u0531\\u054d\",\"\\u053f\\u0548\\u0544\\u053b\\u054f\\u0531\\u054d\",\"\\u053f\\u0548\\u0544\\u053b\\u054f\\u0531\\u054d\",\"\\u053f\\u0548\\u0544\\u053b\\u054f\\u0531\\u054d\",\"\\u053f\\u0548\\u0544\\u053b\\u054f\\u0531\\u054d\",\"\\u053f\\u0548\\u0544\\u053b\\u054f\\u0531\\u054d\",\"\\u053f\\u0548\\u0544\\u053b\\u054f\\u0531\\u054d\",\"\\u053f\\u0548\\u0544\\u053b\\u054f\\u0531\\u054d\",\"\\u053f\\u0548\\u0544\\u053b\\u054f\\u0531\\u054d\",\"\\u053f\\u0548\\u0544\\u053b\\u054f\\u0531\\u054d\",\"\\u053f\\u0548\\u0544\\u053b\\u054f\\u0531\\u054d\",\"\\u053f\\u0548\\u0544\\u053b\\u054f\\u0531\\u054d\",\"\\u053f\\u0548\\u0544\\u053b\\u054f\\u0531\\u054d\",\"\\u053f\\u0548\\u0544\\u053b\\u054f\\u0531\\u054d\",\"\\u053f\\u0548\\u0544\\u053b\\u054f\\u0531\\u054d\",\"\\u053f\\u0548\\u0544\\u053b\\u054f\\u0531\\u054d\",\"\\u053f\\u0548\\u0544\\u053b\\u054f\\u0531\\u054d\",\"\\u053f\\u0548\\u0544\\u053b\\u054f\\u0531\\u054d\",\"\\u053f\\u0548\\u0544\\u053b\\u054f\\u0531\\u054d\",\"\\u053f\\u0548\\u0544\\u053b\\u054f\\u0531\\u054d\",\"\\u053f\\u0548\\u0544\\u053b\\u054f\\u0531\\u054d\",\"\\u053f\\u0548\\u0544\\u053b\\u054f\\u0531\\u054d\",\"\\u053f\\u0548\\u0544\\u053b\\u054f\\u0531\\u054d\",\"\\u053f\\u0548\\u0544\\u053b\\u054f\\u0531\\u054d\",\"\\u053f\\u0548\\u0544\\u053b\\u054f\\u0531\\u054d\",\"\\u053f\\u0548\\u0544\\u053b\\u054f\\u0531\\u054d\",\"\\u053f\\u0548\\u0544\\u053b\\u054f\\u0531\\u054d\",\"\\u053f\\u0548\\u0544\\u053b\\u054f\\u0531\\u054d\",\"\\u053f\\u0548\\u0544\\u053b\\u054f\\u0531\\u054d\",\"\\u053f\\u0548\\u0544\\u053b\\u054f\\u0531\\u054d\",\"\\u053f\\u0548\\u0544\\u053b\\u054f\\u0531\\u054d\",\"\\u053f\\u0548\\u0544\\u053b\\u054f\\u0531\\u054d\",\"HT Hayko\",\"HT Hayko\",\"HT Hayko\",\"HT Hayko\",\"HT Hayko\",\"HT Hayko\",\"HT Hayko\",\"HT Hayko\",\"HT Hayko\",\"HT Hayko\",\"HT Hayko\",\"HT Hayko\",\"HT Hayko\",\"HT Hayko\",\"HT Hayko\",\"HT Hayko\",\"Empyray\",\"Empyray\",\"Empyray\",\"Empyray\",\"Empyray\",\"Empyray\",\"Empyray\",\"Empyray\",\"Empyray\",\"Empyray\",\" Lav Eli\",\" Lav Eli\",\" Lav Eli\",\" Lav Eli\",\" Lav Eli\",\" Lav Eli\",\" Lav Eli\",\" Lav Eli\",\" Lav Eli\",\"Silva Hakobyan\",\"Silva Hakobyan\",\"Silva Hakobyan\",\"Silva Hakobyan\",\"Silva Hakobyan\",\"Silva Hakobyan\",\"Silva Hakobyan\",\"Silva Hakobyan\",\"Silva Hakobyan\",\"Silva Hakobyan\",\"Silva Hakobyan\",\"Silva Hakobyan\",\"Silva Hakobyan\",\"Silva Hakobyan\",\"Silva Hakobyan\",\"Silva Hakobyan\",\"Silva Hakobyan\",\"Silva Hakobyan\",\"Silva Hakobyan\",\"Silva Hakobyan\",\"\\u0531\\u0576\\u0564\\u0580\\u0565\",\"\\u0531\\u0576\\u0564\\u0580\\u0565\",\"\\u0531\\u0576\\u0564\\u0580\\u0565\",\"\\u0531\\u0576\\u0564\\u0580\\u0565\",\"\\u0531\\u0576\\u0564\\u0580\\u0565\",\"\\u0531\\u0576\\u0564\\u0580\\u0565\",\"\\u0531\\u0576\\u0564\\u0580\\u0565\",\"\\u0531\\u0576\\u0564\\u0580\\u0565\",\"\\u0531\\u0576\\u0564\\u0580\\u0565\",\"\\u0531\\u0576\\u0564\\u0580\\u0565\",\"\\u0531\\u0576\\u0564\\u0580\\u0565\",\"\\u0531\\u0576\\u0564\\u0580\\u0565\",\"\\u053c\\u056b\\u056c\\u056b\\u0569 \\u0540\\u0578\\u057e\\u0570\\u0561\\u0576\\u0576\\u056b\\u057d\\u0575\\u0561\\u0576\",\"\\u053c\\u056b\\u056c\\u056b\\u0569 \\u0540\\u0578\\u057e\\u0570\\u0561\\u0576\\u0576\\u056b\\u057d\\u0575\\u0561\\u0576\",\"\\u053c\\u056b\\u056c\\u056b\\u0569 \\u0540\\u0578\\u057e\\u0570\\u0561\\u0576\\u0576\\u056b\\u057d\\u0575\\u0561\\u0576\",\"\\u053c\\u056b\\u056c\\u056b\\u0569 \\u0540\\u0578\\u057e\\u0570\\u0561\\u0576\\u0576\\u056b\\u057d\\u0575\\u0561\\u0576\",\"\\u053c\\u056b\\u056c\\u056b\\u0569 \\u0540\\u0578\\u057e\\u0570\\u0561\\u0576\\u0576\\u056b\\u057d\\u0575\\u0561\\u0576\",\"\\u053c\\u056b\\u056c\\u056b\\u0569 \\u0540\\u0578\\u057e\\u0570\\u0561\\u0576\\u0576\\u056b\\u057d\\u0575\\u0561\\u0576\",\"\\u053c\\u056b\\u056c\\u056b\\u0569 \\u0540\\u0578\\u057e\\u0570\\u0561\\u0576\\u0576\\u056b\\u057d\\u0575\\u0561\\u0576\",\"\\u053c\\u056b\\u056c\\u056b\\u0569 \\u0540\\u0578\\u057e\\u0570\\u0561\\u0576\\u0576\\u056b\\u057d\\u0575\\u0561\\u0576\",\"\\u053c\\u056b\\u056c\\u056b\\u0569 \\u0540\\u0578\\u057e\\u0570\\u0561\\u0576\\u0576\\u056b\\u057d\\u0575\\u0561\\u0576\",\"\\u053c\\u056b\\u056c\\u056b\\u0569 \\u0540\\u0578\\u057e\\u0570\\u0561\\u0576\\u0576\\u056b\\u057d\\u0575\\u0561\\u0576\",\"\\u053c\\u056b\\u056c\\u056b\\u0569 \\u0540\\u0578\\u057e\\u0570\\u0561\\u0576\\u0576\\u056b\\u057d\\u0575\\u0561\\u0576\",\"\\u053c\\u056b\\u056c\\u056b\\u0569 \\u0540\\u0578\\u057e\\u0570\\u0561\\u0576\\u0576\\u056b\\u057d\\u0575\\u0561\\u0576\",\"\\u053c\\u056b\\u056c\\u056b\\u0569 \\u0540\\u0578\\u057e\\u0570\\u0561\\u0576\\u0576\\u056b\\u057d\\u0575\\u0561\\u0576\",\"\\u053c\\u056b\\u056c\\u056b\\u0569 \\u0540\\u0578\\u057e\\u0570\\u0561\\u0576\\u0576\\u056b\\u057d\\u0575\\u0561\\u0576\",\"\\u053c\\u056b\\u056c\\u056b\\u0569 \\u0540\\u0578\\u057e\\u0570\\u0561\\u0576\\u0576\\u056b\\u057d\\u0575\\u0561\\u0576\",\"\\u053c\\u056b\\u056c\\u056b\\u0569 \\u0540\\u0578\\u057e\\u0570\\u0561\\u0576\\u0576\\u056b\\u057d\\u0575\\u0561\\u0576\",\"\\u053c\\u056b\\u056c\\u056b\\u0569 \\u0540\\u0578\\u057e\\u0570\\u0561\\u0576\\u0576\\u056b\\u057d\\u0575\\u0561\\u0576\",\"\\u053c\\u056b\\u056c\\u056b\\u0569 \\u0540\\u0578\\u057e\\u0570\\u0561\\u0576\\u0576\\u056b\\u057d\\u0575\\u0561\\u0576\",\"\\u053c\\u056b\\u056c\\u056b\\u0569 \\u0540\\u0578\\u057e\\u0570\\u0561\\u0576\\u0576\\u056b\\u057d\\u0575\\u0561\\u0576\",\"\\u053c\\u056b\\u056c\\u056b\\u0569 \\u0540\\u0578\\u057e\\u0570\\u0561\\u0576\\u0576\\u056b\\u057d\\u0575\\u0561\\u0576\",\"\\u053c\\u056b\\u056c\\u056b\\u0569 \\u0540\\u0578\\u057e\\u0570\\u0561\\u0576\\u0576\\u056b\\u057d\\u0575\\u0561\\u0576\",\"\\u053c\\u056b\\u056c\\u056b\\u0569 \\u0540\\u0578\\u057e\\u0570\\u0561\\u0576\\u0576\\u056b\\u057d\\u0575\\u0561\\u0576\",\"\\u053c\\u056b\\u056c\\u056b\\u0569 \\u0540\\u0578\\u057e\\u0570\\u0561\\u0576\\u0576\\u056b\\u057d\\u0575\\u0561\\u0576\",\"\\u053c\\u056b\\u056c\\u056b\\u0569 \\u0540\\u0578\\u057e\\u0570\\u0561\\u0576\\u0576\\u056b\\u057d\\u0575\\u0561\\u0576\",\"\\u054d\\u056b\\u0580\\u0578\\u0582\\u0577\\u0578\",\"\\u054d\\u056b\\u0580\\u0578\\u0582\\u0577\\u0578\",\"\\u054d\\u056b\\u0580\\u0578\\u0582\\u0577\\u0578\",\"\\u054d\\u056b\\u0580\\u0578\\u0582\\u0577\\u0578\",\"\\u054d\\u056b\\u0580\\u0578\\u0582\\u0577\\u0578\",\"\\u054d\\u056b\\u0580\\u0578\\u0582\\u0577\\u0578\",\"\\u054d\\u056b\\u0580\\u0578\\u0582\\u0577\\u0578\",\"\\u054d\\u056b\\u0580\\u0578\\u0582\\u0577\\u0578\",\"\\u054d\\u056b\\u0580\\u0578\\u0582\\u0577\\u0578\",\"\\u054d\\u056b\\u0580\\u0578\\u0582\\u0577\\u0578\",\"\\u054d\\u056b\\u0580\\u0578\\u0582\\u0577\\u0578\",\"\\u054d\\u056b\\u0580\\u0578\\u0582\\u0577\\u0578\",\"\\u054d\\u056b\\u0580\\u0578\\u0582\\u0577\\u0578\",\"\\u054d\\u056b\\u0580\\u0578\\u0582\\u0577\\u0578\",\"\\u054d\\u056b\\u0580\\u0578\\u0582\\u0577\\u0578\",\"\\u054d\\u056b\\u0580\\u0578\\u0582\\u0577\\u0578\",\"\\u054d\\u056b\\u0580\\u0578\\u0582\\u0577\\u0578\",\"\\u054d\\u056b\\u0580\\u0578\\u0582\\u0577\\u0578\",\"\\u054d\\u056b\\u0580\\u0578\\u0582\\u0577\\u0578\",\"\\u054d\\u056b\\u0580\\u0578\\u0582\\u0577\\u0578\",\"\\u054d\\u056b\\u0580\\u0578\\u0582\\u0577\\u0578\",\"\\u054d\\u056b\\u0580\\u0578\\u0582\\u0577\\u0578\",\"\\u054d\\u056b\\u0580\\u0578\\u0582\\u0577\\u0578\",\"\\u054d\\u056b\\u0580\\u0578\\u0582\\u0577\\u0578\",\"\\u054d\\u056b\\u0580\\u0578\\u0582\\u0577\\u0578\",\"\\u0544\\u056b\\u0570\\u0580\\u0561\\u0576 \\u053e\\u0561\\u057c\\u0578\\u0582\\u056f\\u0575\\u0561\\u0576\",\"\\u0544\\u056b\\u0570\\u0580\\u0561\\u0576 \\u053e\\u0561\\u057c\\u0578\\u0582\\u056f\\u0575\\u0561\\u0576\",\"\\u0544\\u056b\\u0570\\u0580\\u0561\\u0576 \\u053e\\u0561\\u057c\\u0578\\u0582\\u056f\\u0575\\u0561\\u0576\",\"\\u0544\\u056b\\u0570\\u0580\\u0561\\u0576 \\u053e\\u0561\\u057c\\u0578\\u0582\\u056f\\u0575\\u0561\\u0576\",\"\\u0544\\u056b\\u0570\\u0580\\u0561\\u0576 \\u053e\\u0561\\u057c\\u0578\\u0582\\u056f\\u0575\\u0561\\u0576\",\"\\u0544\\u056b\\u0570\\u0580\\u0561\\u0576 \\u053e\\u0561\\u057c\\u0578\\u0582\\u056f\\u0575\\u0561\\u0576\",\"\\u0544\\u056b\\u0570\\u0580\\u0561\\u0576 \\u053e\\u0561\\u057c\\u0578\\u0582\\u056f\\u0575\\u0561\\u0576\",\"\\u0544\\u056b\\u0570\\u0580\\u0561\\u0576 \\u053e\\u0561\\u057c\\u0578\\u0582\\u056f\\u0575\\u0561\\u0576\",\"\\u0544\\u056b\\u0570\\u0580\\u0561\\u0576 \\u053e\\u0561\\u057c\\u0578\\u0582\\u056f\\u0575\\u0561\\u0576\",\"\\u0544\\u056b\\u0570\\u0580\\u0561\\u0576 \\u053e\\u0561\\u057c\\u0578\\u0582\\u056f\\u0575\\u0561\\u0576\",\"\\u0544\\u056b\\u0570\\u0580\\u0561\\u0576 \\u053e\\u0561\\u057c\\u0578\\u0582\\u056f\\u0575\\u0561\\u0576\",\"\\u0544\\u056b\\u0570\\u0580\\u0561\\u0576 \\u053e\\u0561\\u057c\\u0578\\u0582\\u056f\\u0575\\u0561\\u0576\",\"\\u0544\\u056b\\u0570\\u0580\\u0561\\u0576 \\u053e\\u0561\\u057c\\u0578\\u0582\\u056f\\u0575\\u0561\\u0576\",\"\\u0544\\u056b\\u0570\\u0580\\u0561\\u0576 \\u053e\\u0561\\u057c\\u0578\\u0582\\u056f\\u0575\\u0561\\u0576\",\"\\u0544\\u056b\\u0570\\u0580\\u0561\\u0576 \\u053e\\u0561\\u057c\\u0578\\u0582\\u056f\\u0575\\u0561\\u0576\",\"\\u0544\\u056b\\u0570\\u0580\\u0561\\u0576 \\u053e\\u0561\\u057c\\u0578\\u0582\\u056f\\u0575\\u0561\\u0576\",\"\\u0544\\u056b\\u0570\\u0580\\u0561\\u0576 \\u053e\\u0561\\u057c\\u0578\\u0582\\u056f\\u0575\\u0561\\u0576\",\"\\u0544\\u056b\\u0570\\u0580\\u0561\\u0576 \\u053e\\u0561\\u057c\\u0578\\u0582\\u056f\\u0575\\u0561\\u0576\",\"Arame\",\"Arame\",\"Arame\",\"Arame\",\"Arame\",\"Arame\",\"Arame\",\"Arame\",\"Arame\",\"Razmik Amyan\",\"Razmik Amyan\",\"Razmik Amyan\",\"Razmik Amyan\",\"Razmik Amyan\",\"Razmik Amyan\",\"Razmik Amyan\",\"Razmik Amyan\",\"Razmik Amyan\",\"Razmik Amyan\",\"Razmik Amyan\",\"Razmik Amyan\",\"Razmik Amyan\",\"Razmik Amyan\",\"Razmik Amyan\",\"Razmik Amyan\",\"Razmik Amyan\",\"Razmik Amyan\",\"Harout Pamboukjian\",\"Harout Pamboukjian\",\"Harout Pamboukjian\",\"Harout Pamboukjian\",\"Harout Pamboukjian\",\"Harout Pamboukjian\",\"Harout Pamboukjian\",\"Harout Pamboukjian\",\"Harout Pamboukjian\",\"Harout Pamboukjian\",\"Harout Pamboukjian\",\"Harout Pamboukjian\",\"Harout Pamboukjian\",\"Harout Pamboukjian\",\"Harout Pamboukjian\",\"Harout Pamboukjian\",\"Harout Pamboukjian\",\"Harout Pamboukjian\",\"Harout Pamboukjian\",\"Harout Pamboukjian\",\"Harout Pamboukjian\",\"Harout Pamboukjian\",\"Harout Pamboukjian\",\"Harout Pamboukjian\",\"Harout Pamboukjian\",\"Harout Pamboukjian\",\"Harout Pamboukjian\",\"Harout Pamboukjian\",\"Harout Pamboukjian\",\"Harout Pamboukjian\",\"Harout Pamboukjian\",\"Harout Pamboukjian\",\"\\u0540\\u0561\\u0575\\u056f \\u0540\\u0561\\u056f\\u0578\\u0562\\u0575\\u0561\\u0576\",\"\\u0540\\u0561\\u0575\\u056f \\u0540\\u0561\\u056f\\u0578\\u0562\\u0575\\u0561\\u0576\",\"\\u0540\\u0561\\u0575\\u056f \\u0540\\u0561\\u056f\\u0578\\u0562\\u0575\\u0561\\u0576\",\"\\u0540\\u0561\\u0575\\u056f \\u0540\\u0561\\u056f\\u0578\\u0562\\u0575\\u0561\\u0576\",\"\\u0540\\u0561\\u0575\\u056f \\u0540\\u0561\\u056f\\u0578\\u0562\\u0575\\u0561\\u0576\",\"\\u0540\\u0561\\u0575\\u056f \\u0540\\u0561\\u056f\\u0578\\u0562\\u0575\\u0561\\u0576\",\"\\u0540\\u0561\\u0575\\u056f \\u0540\\u0561\\u056f\\u0578\\u0562\\u0575\\u0561\\u0576\",\"\\u0540\\u0561\\u0575\\u056f \\u0540\\u0561\\u056f\\u0578\\u0562\\u0575\\u0561\\u0576\",\"\\u0540\\u0561\\u0575\\u056f \\u0540\\u0561\\u056f\\u0578\\u0562\\u0575\\u0561\\u0576\",\"\\u0540\\u0561\\u0575\\u056f \\u0540\\u0561\\u056f\\u0578\\u0562\\u0575\\u0561\\u0576\",\"\\u0540\\u0561\\u0575\\u056f \\u0540\\u0561\\u056f\\u0578\\u0562\\u0575\\u0561\\u0576\",\"\\u0540\\u0561\\u0575\\u056f \\u0540\\u0561\\u056f\\u0578\\u0562\\u0575\\u0561\\u0576\",\"\\u0540\\u0561\\u0575\\u056f \\u0540\\u0561\\u056f\\u0578\\u0562\\u0575\\u0561\\u0576\",\"\\u0540\\u0561\\u0575\\u056f \\u0540\\u0561\\u056f\\u0578\\u0562\\u0575\\u0561\\u0576\",\"\\u0540\\u0561\\u0575\\u056f \\u0540\\u0561\\u056f\\u0578\\u0562\\u0575\\u0561\\u0576\",\"\\u0540\\u0561\\u0575\\u056f \\u0540\\u0561\\u056f\\u0578\\u0562\\u0575\\u0561\\u0576\",\"\\u0540\\u0561\\u0575\\u056f \\u0540\\u0561\\u056f\\u0578\\u0562\\u0575\\u0561\\u0576\",\"\\u0540\\u0561\\u0575\\u056f \\u0540\\u0561\\u056f\\u0578\\u0562\\u0575\\u0561\\u0576\",\"\\u0540\\u0561\\u0575\\u056f \\u0540\\u0561\\u056f\\u0578\\u0562\\u0575\\u0561\\u0576\",\"\\u0540\\u0561\\u0575\\u056f \\u0540\\u0561\\u056f\\u0578\\u0562\\u0575\\u0561\\u0576\",\"\\u0540\\u0561\\u0575\\u056f \\u0540\\u0561\\u056f\\u0578\\u0562\\u0575\\u0561\\u0576\",\"\\u0540\\u0561\\u0575\\u056f \\u0540\\u0561\\u056f\\u0578\\u0562\\u0575\\u0561\\u0576\",\"\\u0540\\u0561\\u0575\\u056f \\u0540\\u0561\\u056f\\u0578\\u0562\\u0575\\u0561\\u0576\",\"Aram MP3\",\"Aram MP3\",\"Arsen Safaryan\",\"Arsen Safaryan\",\"Arsen Safaryan\",\"Arsen Safaryan\",\"Arsen Safaryan\",\"Arsen Safaryan\",\"Arsen Safaryan\",\"Arsen Safaryan\",\"Arsen Safaryan\",\"Arsen Safaryan\",\"Arsen Safaryan\",\"Arsen Safaryan\",\"Arsen Safaryan\",\"Arsen Safaryan\",\"Arsen Safaryan\",\"Arsen Safaryan\",\"Arsen Safaryan\",\"Arsen Safaryan\",\"Arsen Safaryan\",\"Arsen Safaryan\",\"Arsen Safaryan\",\"Arsen Safaryan\",\"Arsen Safaryan\",\"Aram MP3\",\"Aram MP3\",\"Aram MP3\",\"Aram MP3\",\"Aram MP3\",\"Aram MP3\",\"Aram MP3\",\"Aram MP3\",\"Aram MP3\",\"Aram MP3\",\"Aram MP3\",\"Aram MP3\",\"Aram MP3\",\"Aram MP3\",\"Aram MP3\",\"Misho\",\"Misho\",\"Misho\",\"Misho\",\"Misho\",\"Misho\",\"Misho\",\"Misho\",\"Misho\",\"Misho\",\"Misho\",\"Misho\",\"Misho\",\"Misho\",\"Misho\",\"Misho\",\"Misho\",\"Misho\",\"Misho\",\"Misho\",\"Misho\",\"Misho\",\"Misho\",\"Misho\",\"Misho\",\"Misho\",\"Mi Qani Hogi\",\"Mi Qani Hogi\",\"Mi Qani Hogi\",\"Mi Qani Hogi\",\"Mi Qani Hogi\",\"Mi Qani Hogi\",\"Mi Qani Hogi\",\"Mi Qani Hogi\",\"Mi Qani Hogi\",\"Mi Qani Hogi\",\"Mi Qani Hogi\",\"Mi Qani Hogi\",\"Mi Qani Hogi\",\"Mi Qani Hogi\",\"Mi Qani Hogi\"],\"x0\":\" \",\"xaxis\":\"x\",\"y\":[0.5,0.7380952380952381,0.6578947368421053,0.9014084507042254,0.7246376811594203,0.7045454545454546,0.6833333333333333,0.6287878787878788,0.9772727272727273,0.580952380952381,0.8536585365853658,0.7096774193548387,0.5384615384615384,0.7747747747747747,0.7692307692307693,0.6896551724137931,0.8125,0.7684210526315789,0.7264150943396226,0.7840909090909091,0.8018867924528302,0.9298245614035088,0.8461538461538461,0.7651006711409396,0.8909090909090909,0.6547619047619048,0.6526315789473685,0.5274725274725275,0.2914572864321608,0.8362068965517241,0.6574074074074074,0.6371681415929203,0.8076923076923077,0.6101694915254238,0.95,0.7123287671232876,0.8055555555555556,0.639344262295082,0.5217391304347826,0.6896551724137931,0.696969696969697,0.8539325842696629,0.6376811594202898,0.5647058823529412,0.7971014492753623,0.6309523809523809,0.7714285714285715,0.6521739130434783,0.6153846153846154,0.8852459016393442,0.782258064516129,0.5,0.831858407079646,0.6808510638297872,0.7051282051282052,0.6916666666666667,0.640625,0.543859649122807,0.5555555555555556,0.5441176470588235,0.6893203883495146,0.7735849056603774,0.7191780821917808,0.5407407407407407,0.5274725274725275,0.4576271186440678,0.6105263157894737,0.580952380952381,0.75,0.7666666666666667,0.6825396825396826,0.7272727272727273,0.7222222222222222,0.5689655172413793,0.7142857142857143,0.5869565217391305,0.734375,0.796875,0.7168141592920354,0.4642857142857143,0.4074074074074074,0.46808510638297873,0.5393258426966292,0.5588235294117647,0.4936708860759494,0.5454545454545454,0.6875,0.46464646464646464,0.6666666666666666,0.48672566371681414,0.7155172413793104,0.5925925925925926,0.43333333333333335,0.5645161290322581,0.6909090909090909,0.8,0.5337837837837838,0.6460176991150443,0.7164179104477612,0.5229357798165137,0.4457831325301205,0.6119402985074627,0.6989247311827957,0.5625,0.66,0.7058823529411765,0.625,0.7258064516129032,0.6547619047619048,0.7954545454545454,0.7222222222222222,0.6086956521739131,0.7613636363636364,0.47093023255813954,0.8376068376068376,0.5447761194029851,0.6906474820143885,0.515625,0.5576923076923077,0.8636363636363636,0.5254237288135594,0.6818181818181818,0.9444444444444444,0.8947368421052632,0.7647058823529411,0.88,0.4,0.8125,0.7391304347826086,0.5760869565217391,0.6119402985074627,0.6991869918699187,0.8888888888888888,0.9117647058823529,0.8631578947368421,0.8543689320388349,0.9622641509433962,0.91,0.7105263157894737,0.859375,0.7415730337078652,0.8559322033898306,0.6470588235294118,0.8557692307692307,0.8831168831168831,0.9325842696629213,0.6307692307692307,0.6582278481012658,0.6721311475409836,0.8095238095238095,0.4492753623188406,0.863013698630137,0.8837209302325582,0.36923076923076925,0.7894736842105263,0.8518518518518519,0.5116279069767442,0.2988505747126437,0.53125,0.4391891891891892,0.746031746031746,0.4857142857142857,0.3617021276595745,0.5849056603773585,0.5,0.6304347826086957,0.6,0.6216216216216216,0.48936170212765956,0.7368421052631579,0.6559139784946236,0.734375,0.8571428571428571,0.7142857142857143,0.4583333333333333,0.4915254237288136,0.6444444444444445,0.4479166666666667,0.5172413793103449,0.7714285714285715,0.7692307692307693,0.6808510638297872,0.7741935483870968,0.8095238095238095,0.7037037037037037,0.7441860465116279,0.4666666666666667,0.8817204301075269,0.5833333333333334,0.8269230769230769,0.5526315789473685,0.7222222222222222,0.7297297297297297,0.5111111111111111,0.48484848484848486,0.6166666666666667,0.7,0.5094339622641509,0.6938775510204082,0.8857142857142857,0.55,0.75,0.43548387096774194,0.75,0.6363636363636364,0.38333333333333336,0.6,0.4264705882352941,0.7070707070707071,0.6051660516605166,0.6285714285714286,0.7295081967213115,0.56,0.7028985507246377,0.6363636363636364,0.6438848920863309,0.6505576208178439,0.7527272727272727,0.6490066225165563,0.6830357142857143,0.5982905982905983,0.6158940397350994,0.5679012345679012,0.5181818181818182,0.3956043956043956,0.4368932038834951,0.9444444444444444,0.3924050632911392,0.38461538461538464,0.43661971830985913,0.5053763440860215,0.7066666666666667,0.6862745098039216,0.4791666666666667,0.5573770491803278,0.4657534246575342,0.6063829787234043,0.7485029940119761,0.6666666666666666,0.875,0.8507462686567164,0.453125,0.7532467532467533,0.4148936170212766,0.5443037974683544,0.32571428571428573,0.5042016806722689,0.47058823529411764,0.47674418604651164,0.45454545454545453,0.5576923076923077,0.38095238095238093,0.803921568627451,0.92,0.868421052631579,0.6756756756756757,0.6060606060606061,0.47058823529411764,0.4838709677419355,0.5223880597014925,0.3963963963963964,0.5972222222222222,0.7368421052631579,0.6716417910447762,0.2922077922077922,0.4567901234567901,0.6052631578947368,0.48717948717948717,0.7166666666666667,0.45185185185185184,0.4411764705882353,0.22857142857142856,0.5961538461538461,0.5102040816326531,0.6228070175438597,0.6216216216216216,0.49137931034482757,0.45,0.38461538461538464,0.2982456140350877,0.45,0.5555555555555556,0.375,0.6818181818181818,0.44776119402985076,0.5697674418604651,0.6352941176470588,0.24817518248175183,0.75,0.7252747252747253,0.7209302325581395,0.4295774647887324,0.391304347826087,0.3235294117647059,0.43478260869565216,0.3511450381679389,0.4594594594594595,0.8837209302325582,0.4845360824742268,0.37142857142857144,0.6222222222222222,0.5614035087719298,0.16455696202531644,0.4067796610169492,0.36666666666666664,0.5368421052631579,0.6329113924050633,0.7283950617283951,0.582089552238806,0.75,0.4925373134328358,0.27011494252873564,0.5806451612903226,0.4766355140186916,0.8,0.2978723404255319,0.4473684210526316,0.3418803418803419,0.32222222222222224,0.6153846153846154,0.47619047619047616,0.651685393258427,0.39705882352941174,0.4915254237288136,0.6153846153846154,0.32748538011695905,0.44086021505376344,0.26229508196721313,0.49382716049382713,0.3815789473684211,0.42063492063492064,0.3235294117647059,0.3387096774193548,0.3838383838383838,0.24096385542168675,0.4434782608695652,0.29896907216494845,0.6060606060606061,0.6891891891891891,0.6351351351351351,0.6388888888888888,0.7647058823529411,0.3404255319148936,0.2857142857142857,0.425,0.33548387096774196,0.8245614035087719,0.3582089552238806,0.4649122807017544,0.39473684210526316,0.6417910447761194,0.34558823529411764,0.5555555555555556,0.42424242424242425,0.5206611570247934,0.5230769230769231,0.6904761904761905,0.5727272727272728,0.4931506849315068,0.49019607843137253,0.4520547945205479,0.5443037974683544,0.19736842105263158,0.5862068965517241,0.47692307692307695,0.76,0.4666666666666667,0.5777777777777777,0.5333333333333333,0.3798449612403101,0.4647887323943662,0.7611940298507462,0.5555555555555556,0.31343283582089554,0.3815789473684211,0.48717948717948717,0.24778761061946902,0.8823529411764706,0.5683453237410072,0.6129032258064516,0.6263736263736264,0.3157894736842105,0.27419354838709675,0.7258064516129032,0.3014705882352941,0.6633663366336634,0.5714285714285714,0.6210526315789474,0.47560975609756095,0.7289719626168224,0.8382352941176471,0.5333333333333333,0.7551020408163265,0.7037037037037037,0.967741935483871,0.6206896551724138,0.5701754385964912,0.8493150684931506,0.8153846153846154,0.671875,0.5657894736842105,0.7349397590361446,1.0,0.7567567567567568,0.782608695652174,0.7837837837837838,0.6615384615384615,0.7096774193548387,0.5740740740740741,0.6493506493506493,0.8360655737704918,0.7222222222222222,0.5806451612903226,0.7916666666666666,0.3333333333333333,0.746268656716418,0.6857142857142857,0.5915492957746479,0.5735294117647058,0.6724137931034483,0.5964912280701754,0.5454545454545454,0.8085106382978723,0.6,0.7571428571428571,0.5130434782608696,0.39473684210526316,0.7142857142857143,0.7837837837837838,0.7142857142857143,0.8333333333333334,0.66,0.7872340425531915,0.581081081081081,0.5625,0.6666666666666666,0.6944444444444444,0.825,0.7682926829268293,0.6822429906542056,0.7142857142857143,0.4406779661016949,0.3770491803278688,0.5454545454545454,0.7580645161290323,0.6111111111111112,0.547945205479452,0.6285714285714286,0.803030303030303,0.6282051282051282,0.25136612021857924,0.2261904761904762,0.48863636363636365,0.5633802816901409,0.2676056338028169,0.39072847682119205,0.46236559139784944,0.7666666666666667,0.2585034013605442,0.4857142857142857,0.4659090909090909,0.39285714285714285,0.391304347826087,0.26595744680851063,0.6727272727272727,0.7007299270072993,0.7307692307692307,0.8852459016393442,0.8217054263565892,0.8353658536585366,0.8484848484848485,0.5,0.9166666666666666,0.726027397260274,0.9264705882352942,0.9583333333333334,0.9090909090909091,0.8558558558558559,0.5633802816901409,0.8235294117647058,0.5454545454545454,0.8623853211009175,0.7870370370370371,0.8181818181818182,0.7717391304347826,0.7246376811594203,0.7074829931972789,0.6170212765957447,0.5632183908045977,0.7988505747126436,0.8857142857142857,0.9772727272727273,0.6741573033707865,0.796875,0.7474747474747475,0.7619047619047619,0.7428571428571429,0.5922330097087378,0.85,0.5784313725490197,0.68,0.51,0.5925925925925926,0.7529411764705882,0.47058823529411764,0.6052631578947368],\"y0\":\" \",\"yaxis\":\"y\",\"type\":\"box\"}],                        {\"template\":{\"data\":{\"histogram2dcontour\":[{\"type\":\"histogram2dcontour\",\"colorbar\":{\"outlinewidth\":0,\"ticks\":\"\"},\"colorscale\":[[0.0,\"#0d0887\"],[0.1111111111111111,\"#46039f\"],[0.2222222222222222,\"#7201a8\"],[0.3333333333333333,\"#9c179e\"],[0.4444444444444444,\"#bd3786\"],[0.5555555555555556,\"#d8576b\"],[0.6666666666666666,\"#ed7953\"],[0.7777777777777778,\"#fb9f3a\"],[0.8888888888888888,\"#fdca26\"],[1.0,\"#f0f921\"]]}],\"choropleth\":[{\"type\":\"choropleth\",\"colorbar\":{\"outlinewidth\":0,\"ticks\":\"\"}}],\"histogram2d\":[{\"type\":\"histogram2d\",\"colorbar\":{\"outlinewidth\":0,\"ticks\":\"\"},\"colorscale\":[[0.0,\"#0d0887\"],[0.1111111111111111,\"#46039f\"],[0.2222222222222222,\"#7201a8\"],[0.3333333333333333,\"#9c179e\"],[0.4444444444444444,\"#bd3786\"],[0.5555555555555556,\"#d8576b\"],[0.6666666666666666,\"#ed7953\"],[0.7777777777777778,\"#fb9f3a\"],[0.8888888888888888,\"#fdca26\"],[1.0,\"#f0f921\"]]}],\"heatmap\":[{\"type\":\"heatmap\",\"colorbar\":{\"outlinewidth\":0,\"ticks\":\"\"},\"colorscale\":[[0.0,\"#0d0887\"],[0.1111111111111111,\"#46039f\"],[0.2222222222222222,\"#7201a8\"],[0.3333333333333333,\"#9c179e\"],[0.4444444444444444,\"#bd3786\"],[0.5555555555555556,\"#d8576b\"],[0.6666666666666666,\"#ed7953\"],[0.7777777777777778,\"#fb9f3a\"],[0.8888888888888888,\"#fdca26\"],[1.0,\"#f0f921\"]]}],\"heatmapgl\":[{\"type\":\"heatmapgl\",\"colorbar\":{\"outlinewidth\":0,\"ticks\":\"\"},\"colorscale\":[[0.0,\"#0d0887\"],[0.1111111111111111,\"#46039f\"],[0.2222222222222222,\"#7201a8\"],[0.3333333333333333,\"#9c179e\"],[0.4444444444444444,\"#bd3786\"],[0.5555555555555556,\"#d8576b\"],[0.6666666666666666,\"#ed7953\"],[0.7777777777777778,\"#fb9f3a\"],[0.8888888888888888,\"#fdca26\"],[1.0,\"#f0f921\"]]}],\"contourcarpet\":[{\"type\":\"contourcarpet\",\"colorbar\":{\"outlinewidth\":0,\"ticks\":\"\"}}],\"contour\":[{\"type\":\"contour\",\"colorbar\":{\"outlinewidth\":0,\"ticks\":\"\"},\"colorscale\":[[0.0,\"#0d0887\"],[0.1111111111111111,\"#46039f\"],[0.2222222222222222,\"#7201a8\"],[0.3333333333333333,\"#9c179e\"],[0.4444444444444444,\"#bd3786\"],[0.5555555555555556,\"#d8576b\"],[0.6666666666666666,\"#ed7953\"],[0.7777777777777778,\"#fb9f3a\"],[0.8888888888888888,\"#fdca26\"],[1.0,\"#f0f921\"]]}],\"surface\":[{\"type\":\"surface\",\"colorbar\":{\"outlinewidth\":0,\"ticks\":\"\"},\"colorscale\":[[0.0,\"#0d0887\"],[0.1111111111111111,\"#46039f\"],[0.2222222222222222,\"#7201a8\"],[0.3333333333333333,\"#9c179e\"],[0.4444444444444444,\"#bd3786\"],[0.5555555555555556,\"#d8576b\"],[0.6666666666666666,\"#ed7953\"],[0.7777777777777778,\"#fb9f3a\"],[0.8888888888888888,\"#fdca26\"],[1.0,\"#f0f921\"]]}],\"mesh3d\":[{\"type\":\"mesh3d\",\"colorbar\":{\"outlinewidth\":0,\"ticks\":\"\"}}],\"scatter\":[{\"fillpattern\":{\"fillmode\":\"overlay\",\"size\":10,\"solidity\":0.2},\"type\":\"scatter\"}],\"parcoords\":[{\"type\":\"parcoords\",\"line\":{\"colorbar\":{\"outlinewidth\":0,\"ticks\":\"\"}}}],\"scatterpolargl\":[{\"type\":\"scatterpolargl\",\"marker\":{\"colorbar\":{\"outlinewidth\":0,\"ticks\":\"\"}}}],\"bar\":[{\"error_x\":{\"color\":\"#2a3f5f\"},\"error_y\":{\"color\":\"#2a3f5f\"},\"marker\":{\"line\":{\"color\":\"#E5ECF6\",\"width\":0.5},\"pattern\":{\"fillmode\":\"overlay\",\"size\":10,\"solidity\":0.2}},\"type\":\"bar\"}],\"scattergeo\":[{\"type\":\"scattergeo\",\"marker\":{\"colorbar\":{\"outlinewidth\":0,\"ticks\":\"\"}}}],\"scatterpolar\":[{\"type\":\"scatterpolar\",\"marker\":{\"colorbar\":{\"outlinewidth\":0,\"ticks\":\"\"}}}],\"histogram\":[{\"marker\":{\"pattern\":{\"fillmode\":\"overlay\",\"size\":10,\"solidity\":0.2}},\"type\":\"histogram\"}],\"scattergl\":[{\"type\":\"scattergl\",\"marker\":{\"colorbar\":{\"outlinewidth\":0,\"ticks\":\"\"}}}],\"scatter3d\":[{\"type\":\"scatter3d\",\"line\":{\"colorbar\":{\"outlinewidth\":0,\"ticks\":\"\"}},\"marker\":{\"colorbar\":{\"outlinewidth\":0,\"ticks\":\"\"}}}],\"scattermapbox\":[{\"type\":\"scattermapbox\",\"marker\":{\"colorbar\":{\"outlinewidth\":0,\"ticks\":\"\"}}}],\"scatterternary\":[{\"type\":\"scatterternary\",\"marker\":{\"colorbar\":{\"outlinewidth\":0,\"ticks\":\"\"}}}],\"scattercarpet\":[{\"type\":\"scattercarpet\",\"marker\":{\"colorbar\":{\"outlinewidth\":0,\"ticks\":\"\"}}}],\"carpet\":[{\"aaxis\":{\"endlinecolor\":\"#2a3f5f\",\"gridcolor\":\"white\",\"linecolor\":\"white\",\"minorgridcolor\":\"white\",\"startlinecolor\":\"#2a3f5f\"},\"baxis\":{\"endlinecolor\":\"#2a3f5f\",\"gridcolor\":\"white\",\"linecolor\":\"white\",\"minorgridcolor\":\"white\",\"startlinecolor\":\"#2a3f5f\"},\"type\":\"carpet\"}],\"table\":[{\"cells\":{\"fill\":{\"color\":\"#EBF0F8\"},\"line\":{\"color\":\"white\"}},\"header\":{\"fill\":{\"color\":\"#C8D4E3\"},\"line\":{\"color\":\"white\"}},\"type\":\"table\"}],\"barpolar\":[{\"marker\":{\"line\":{\"color\":\"#E5ECF6\",\"width\":0.5},\"pattern\":{\"fillmode\":\"overlay\",\"size\":10,\"solidity\":0.2}},\"type\":\"barpolar\"}],\"pie\":[{\"automargin\":true,\"type\":\"pie\"}]},\"layout\":{\"autotypenumbers\":\"strict\",\"colorway\":[\"#636efa\",\"#EF553B\",\"#00cc96\",\"#ab63fa\",\"#FFA15A\",\"#19d3f3\",\"#FF6692\",\"#B6E880\",\"#FF97FF\",\"#FECB52\"],\"font\":{\"color\":\"#2a3f5f\"},\"hovermode\":\"closest\",\"hoverlabel\":{\"align\":\"left\"},\"paper_bgcolor\":\"white\",\"plot_bgcolor\":\"#E5ECF6\",\"polar\":{\"bgcolor\":\"#E5ECF6\",\"angularaxis\":{\"gridcolor\":\"white\",\"linecolor\":\"white\",\"ticks\":\"\"},\"radialaxis\":{\"gridcolor\":\"white\",\"linecolor\":\"white\",\"ticks\":\"\"}},\"ternary\":{\"bgcolor\":\"#E5ECF6\",\"aaxis\":{\"gridcolor\":\"white\",\"linecolor\":\"white\",\"ticks\":\"\"},\"baxis\":{\"gridcolor\":\"white\",\"linecolor\":\"white\",\"ticks\":\"\"},\"caxis\":{\"gridcolor\":\"white\",\"linecolor\":\"white\",\"ticks\":\"\"}},\"coloraxis\":{\"colorbar\":{\"outlinewidth\":0,\"ticks\":\"\"}},\"colorscale\":{\"sequential\":[[0.0,\"#0d0887\"],[0.1111111111111111,\"#46039f\"],[0.2222222222222222,\"#7201a8\"],[0.3333333333333333,\"#9c179e\"],[0.4444444444444444,\"#bd3786\"],[0.5555555555555556,\"#d8576b\"],[0.6666666666666666,\"#ed7953\"],[0.7777777777777778,\"#fb9f3a\"],[0.8888888888888888,\"#fdca26\"],[1.0,\"#f0f921\"]],\"sequentialminus\":[[0.0,\"#0d0887\"],[0.1111111111111111,\"#46039f\"],[0.2222222222222222,\"#7201a8\"],[0.3333333333333333,\"#9c179e\"],[0.4444444444444444,\"#bd3786\"],[0.5555555555555556,\"#d8576b\"],[0.6666666666666666,\"#ed7953\"],[0.7777777777777778,\"#fb9f3a\"],[0.8888888888888888,\"#fdca26\"],[1.0,\"#f0f921\"]],\"diverging\":[[0,\"#8e0152\"],[0.1,\"#c51b7d\"],[0.2,\"#de77ae\"],[0.3,\"#f1b6da\"],[0.4,\"#fde0ef\"],[0.5,\"#f7f7f7\"],[0.6,\"#e6f5d0\"],[0.7,\"#b8e186\"],[0.8,\"#7fbc41\"],[0.9,\"#4d9221\"],[1,\"#276419\"]]},\"xaxis\":{\"gridcolor\":\"white\",\"linecolor\":\"white\",\"ticks\":\"\",\"title\":{\"standoff\":15},\"zerolinecolor\":\"white\",\"automargin\":true,\"zerolinewidth\":2},\"yaxis\":{\"gridcolor\":\"white\",\"linecolor\":\"white\",\"ticks\":\"\",\"title\":{\"standoff\":15},\"zerolinecolor\":\"white\",\"automargin\":true,\"zerolinewidth\":2},\"scene\":{\"xaxis\":{\"backgroundcolor\":\"#E5ECF6\",\"gridcolor\":\"white\",\"linecolor\":\"white\",\"showbackground\":true,\"ticks\":\"\",\"zerolinecolor\":\"white\",\"gridwidth\":2},\"yaxis\":{\"backgroundcolor\":\"#E5ECF6\",\"gridcolor\":\"white\",\"linecolor\":\"white\",\"showbackground\":true,\"ticks\":\"\",\"zerolinecolor\":\"white\",\"gridwidth\":2},\"zaxis\":{\"backgroundcolor\":\"#E5ECF6\",\"gridcolor\":\"white\",\"linecolor\":\"white\",\"showbackground\":true,\"ticks\":\"\",\"zerolinecolor\":\"white\",\"gridwidth\":2}},\"shapedefaults\":{\"line\":{\"color\":\"#2a3f5f\"}},\"annotationdefaults\":{\"arrowcolor\":\"#2a3f5f\",\"arrowhead\":0,\"arrowwidth\":1},\"geo\":{\"bgcolor\":\"white\",\"landcolor\":\"#E5ECF6\",\"subunitcolor\":\"white\",\"showland\":true,\"showlakes\":true,\"lakecolor\":\"white\"},\"title\":{\"x\":0.05},\"mapbox\":{\"style\":\"light\"}}},\"xaxis\":{\"anchor\":\"y\",\"domain\":[0.0,1.0],\"title\":{\"text\":\"Artist\"}},\"yaxis\":{\"anchor\":\"x\",\"domain\":[0.0,1.0],\"title\":{\"text\":\"unique_stems_ratio_en\"}},\"legend\":{\"tracegroupgap\":0},\"title\":{\"text\":\"Ratio of unique words to all words\"},\"boxmode\":\"group\"},                        {\"responsive\": true}                    ).then(function(){\n",
       "                            \n",
       "var gd = document.getElementById('4fd0073b-ff78-4a0c-8b04-80a9587311ec');\n",
       "var x = new MutationObserver(function (mutations, observer) {{\n",
       "        var display = window.getComputedStyle(gd).display;\n",
       "        if (!display || display === 'none') {{\n",
       "            console.log([gd, 'removed!']);\n",
       "            Plotly.purge(gd);\n",
       "            observer.disconnect();\n",
       "        }}\n",
       "}});\n",
       "\n",
       "// Listen for the removal of the full notebook cells\n",
       "var notebookContainer = gd.closest('#notebook-container');\n",
       "if (notebookContainer) {{\n",
       "    x.observe(notebookContainer, {childList: true});\n",
       "}}\n",
       "\n",
       "// Listen for the clearing of the current output cell\n",
       "var outputEl = gd.closest('.output');\n",
       "if (outputEl) {{\n",
       "    x.observe(outputEl, {childList: true});\n",
       "}}\n",
       "\n",
       "                        })                };                });            </script>        </div>"
      ]
     },
     "metadata": {},
     "output_type": "display_data"
    }
   ],
   "source": [
    "fig = px.box(df, x='Artist', y='unique_stems_ratio_en', title='Ratio of unique words to all words')\n",
    "fig.show()"
   ]
  },
  {
   "cell_type": "code",
   "execution_count": 33,
   "metadata": {},
   "outputs": [
    {
     "data": {
      "application/vnd.plotly.v1+json": {
       "config": {
        "plotlyServerURL": "https://plot.ly"
       },
       "data": [
        {
         "alignmentgroup": "True",
         "hovertemplate": "Artist=%{x}<br>unique_tokens_ratio_hy=%{y}<extra></extra>",
         "legendgroup": "",
         "marker": {
          "color": "#636efa"
         },
         "name": "",
         "notched": false,
         "offsetgroup": "",
         "orientation": "v",
         "showlegend": false,
         "type": "box",
         "x": [
          "ԱՐԹՈՒՐ ՄԵՍՉՅԱՆ",
          "ԱՐԹՈՒՐ ՄԵՍՉՅԱՆ",
          "ԱՐԹՈՒՐ ՄԵՍՉՅԱՆ",
          "ԱՐԹՈՒՐ ՄԵՍՉՅԱՆ",
          "ԱՐԹՈՒՐ ՄԵՍՉՅԱՆ",
          "ԱՐԹՈՒՐ ՄԵՍՉՅԱՆ",
          "ԱՐԹՈՒՐ ՄԵՍՉՅԱՆ",
          "ԱՐԹՈՒՐ ՄԵՍՉՅԱՆ",
          "ԱՐԹՈՒՐ ՄԵՍՉՅԱՆ",
          "ԱՐԹՈՒՐ ՄԵՍՉՅԱՆ",
          "ԱՐԹՈՒՐ ՄԵՍՉՅԱՆ",
          "ԱՐԹՈՒՐ ՄԵՍՉՅԱՆ",
          "ԱՐԹՈՒՐ ՄԵՍՉՅԱՆ",
          "ԱՐԹՈՒՐ ՄԵՍՉՅԱՆ",
          "ԱՐԹՈՒՐ ՄԵՍՉՅԱՆ",
          "ԱՐԹՈՒՐ ՄԵՍՉՅԱՆ",
          "ԱՐԹՈՒՐ ՄԵՍՉՅԱՆ",
          "ԱՐԹՈՒՐ ՄԵՍՉՅԱՆ",
          "ԱՐԹՈՒՐ ՄԵՍՉՅԱՆ",
          "ԱՐԹՈՒՐ ՄԵՍՉՅԱՆ",
          "ԱՐԹՈՒՐ ՄԵՍՉՅԱՆ",
          "ԱՐԹՈՒՐ ՄԵՍՉՅԱՆ",
          "ԱՐԹՈՒՐ ՄԵՍՉՅԱՆ",
          "ԱՐԹՈՒՐ ՄԵՍՉՅԱՆ",
          "ԱՐԹՈՒՐ ՄԵՍՉՅԱՆ",
          "ԱՐԹՈՒՐ ՄԵՍՉՅԱՆ",
          "ԱՐԹՈՒՐ ՄԵՍՉՅԱՆ",
          "ԱՐԹՈՒՐ ՄԵՍՉՅԱՆ",
          "ԱՐԹՈՒՐ ՄԵՍՉՅԱՆ",
          "ԱՐԹՈՒՐ ՄԵՍՉՅԱՆ",
          "ԱՐԹՈՒՐ ՄԵՍՉՅԱՆ",
          "ԱՐԹՈՒՐ ՄԵՍՉՅԱՆ",
          "ԱՐԹՈՒՐ ՄԵՍՉՅԱՆ",
          "ԱՐԹՈՒՐ ՄԵՍՉՅԱՆ",
          "ԱՐԹՈՒՐ ՄԵՍՉՅԱՆ",
          "ԱՐԹՈՒՐ ՄԵՍՉՅԱՆ",
          "ԱՐԹՈՒՐ ՄԵՍՉՅԱՆ",
          "ԱՐԹՈՒՐ ՄԵՍՉՅԱՆ",
          "ԱՐԹՈՒՐ ՄԵՍՉՅԱՆ",
          "ԱՐԹՈՒՐ ՄԵՍՉՅԱՆ",
          "ԱՐԹՈՒՐ ՄԵՍՉՅԱՆ",
          "ԱՐԹՈՒՐ ՄԵՍՉՅԱՆ",
          "ԱՐԹՈՒՐ ՄԵՍՉՅԱՆ",
          "ԱՐԹՈՒՐ ՄԵՍՉՅԱՆ",
          "ԱՐԹՈՒՐ ՄԵՍՉՅԱՆ",
          "ԱՐԹՈՒՐ ՄԵՍՉՅԱՆ",
          "ԱՐԹՈՒՐ ՄԵՍՉՅԱՆ",
          "ԱՐԹՈՒՐ ՄԵՍՉՅԱՆ",
          "ԱՐԹՈՒՐ ՄԵՍՉՅԱՆ",
          "ԱՐԹՈՒՐ ՄԵՍՉՅԱՆ",
          "ՌՈՒԲԵՆ ՀԱԽՎԵՐԴՅԱՆ",
          "ՌՈՒԲԵՆ ՀԱԽՎԵՐԴՅԱՆ",
          "ՌՈՒԲԵՆ ՀԱԽՎԵՐԴՅԱՆ",
          "ՌՈՒԲԵՆ ՀԱԽՎԵՐԴՅԱՆ",
          "ՌՈՒԲԵՆ ՀԱԽՎԵՐԴՅԱՆ",
          "ՌՈՒԲԵՆ ՀԱԽՎԵՐԴՅԱՆ",
          "ՌՈՒԲԵՆ ՀԱԽՎԵՐԴՅԱՆ",
          "ՌՈՒԲԵՆ ՀԱԽՎԵՐԴՅԱՆ",
          "ՌՈՒԲԵՆ ՀԱԽՎԵՐԴՅԱՆ",
          "ՌՈՒԲԵՆ ՀԱԽՎԵՐԴՅԱՆ",
          "ՌՈՒԲԵՆ ՀԱԽՎԵՐԴՅԱՆ",
          "ՌՈՒԲԵՆ ՀԱԽՎԵՐԴՅԱՆ",
          "ՌՈՒԲԵՆ ՀԱԽՎԵՐԴՅԱՆ",
          "ՌՈՒԲԵՆ ՀԱԽՎԵՐԴՅԱՆ",
          "ՌՈՒԲԵՆ ՀԱԽՎԵՐԴՅԱՆ",
          "ՌՈՒԲԵՆ ՀԱԽՎԵՐԴՅԱՆ",
          "ՌՈՒԲԵՆ ՀԱԽՎԵՐԴՅԱՆ",
          "ՌՈՒԲԵՆ ՀԱԽՎԵՐԴՅԱՆ",
          "ՌՈՒԲԵՆ ՀԱԽՎԵՐԴՅԱՆ",
          "ՌՈՒԲԵՆ ՀԱԽՎԵՐԴՅԱՆ",
          "ՌՈՒԲԵՆ ՀԱԽՎԵՐԴՅԱՆ",
          "ՌՈՒԲԵՆ ՀԱԽՎԵՐԴՅԱՆ",
          "ՌՈՒԲԵՆ ՀԱԽՎԵՐԴՅԱՆ",
          "ՌՈՒԲԵՆ ՀԱԽՎԵՐԴՅԱՆ",
          "ՌՈՒԲԵՆ ՀԱԽՎԵՐԴՅԱՆ",
          "ՌՈՒԲԵՆ ՀԱԽՎԵՐԴՅԱՆ",
          "ՌՈՒԲԵՆ ՀԱԽՎԵՐԴՅԱՆ",
          "ՌՈՒԲԵՆ ՀԱԽՎԵՐԴՅԱՆ",
          "ՌՈՒԲԵՆ ՀԱԽՎԵՐԴՅԱՆ",
          "ՌՈՒԲԵՆ ՀԱԽՎԵՐԴՅԱՆ",
          "ՌՈՒԲԵՆ ՀԱԽՎԵՐԴՅԱՆ",
          "ՌՈՒԲԵՆ ՀԱԽՎԵՐԴՅԱՆ",
          "ՌՈՒԲԵՆ ՀԱԽՎԵՐԴՅԱՆ",
          "ՌՈՒԲԵՆ ՀԱԽՎԵՐԴՅԱՆ",
          "ՌՈՒԲԵՆ ՀԱԽՎԵՐԴՅԱՆ",
          "ՌՈՒԲԵՆ ՀԱԽՎԵՐԴՅԱՆ",
          "ՌՈՒԲԵՆ ՀԱԽՎԵՐԴՅԱՆ",
          "ՌՈՒԲԵՆ ՀԱԽՎԵՐԴՅԱՆ",
          "ՌՈՒԲԵՆ ՀԱԽՎԵՐԴՅԱՆ",
          "ՌՈՒԲԵՆ ՀԱԽՎԵՐԴՅԱՆ",
          "ՌՈՒԲԵՆ ՀԱԽՎԵՐԴՅԱՆ",
          "ՌՈՒԲԵՆ ՀԱԽՎԵՐԴՅԱՆ",
          "ՌՈՒԲԵՆ ՀԱԽՎԵՐԴՅԱՆ",
          "ՌՈՒԲԵՆ ՀԱԽՎԵՐԴՅԱՆ",
          "ՌՈՒԲԵՆ ՀԱԽՎԵՐԴՅԱՆ",
          "ՌՈՒԲԵՆ ՀԱԽՎԵՐԴՅԱՆ",
          "ՌՈՒԲԵՆ ՀԱԽՎԵՐԴՅԱՆ",
          "ՌՈՒԲԵՆ ՀԱԽՎԵՐԴՅԱՆ",
          "ՌՈՒԲԵՆ ՀԱԽՎԵՐԴՅԱՆ",
          "ՌՈՒԲԵՆ ՀԱԽՎԵՐԴՅԱՆ",
          "ՌՈՒԲԵՆ ՀԱԽՎԵՐԴՅԱՆ",
          "ՌՈՒԲԵՆ ՀԱԽՎԵՐԴՅԱՆ",
          "ՌՈՒԲԵՆ ՀԱԽՎԵՐԴՅԱՆ",
          "ՌՈՒԲԵՆ ՀԱԽՎԵՐԴՅԱՆ",
          "ՌՈՒԲԵՆ ՀԱԽՎԵՐԴՅԱՆ",
          "ՌՈՒԲԵՆ ՀԱԽՎԵՐԴՅԱՆ",
          "ՌՈՒԲԵՆ ՀԱԽՎԵՐԴՅԱՆ",
          "ՌՈՒԲԵՆ ՀԱԽՎԵՐԴՅԱՆ",
          "ՌՈՒԲԵՆ ՀԱԽՎԵՐԴՅԱՆ",
          "ՌՈՒԲԵՆ ՀԱԽՎԵՐԴՅԱՆ",
          "ՌՈՒԲԵՆ ՀԱԽՎԵՐԴՅԱՆ",
          "ՌՈՒԲԵՆ ՀԱԽՎԵՐԴՅԱՆ",
          "ՌՈՒԲԵՆ ՀԱԽՎԵՐԴՅԱՆ",
          "ՌՈՒԲԵՆ ՀԱԽՎԵՐԴՅԱՆ",
          "ՌՈՒԲԵՆ ՀԱԽՎԵՐԴՅԱՆ",
          "ՌՈՒԲԵՆ ՀԱԽՎԵՐԴՅԱՆ",
          "ՌՈՒԲԵՆ ՀԱԽՎԵՐԴՅԱՆ",
          "ՌՈՒԲԵՆ ՀԱԽՎԵՐԴՅԱՆ",
          "ՌՈՒԲԵՆ ՀԱԽՎԵՐԴՅԱՆ",
          "ՌՈՒԲԵՆ ՀԱԽՎԵՐԴՅԱՆ",
          "ՌՈՒԲԵՆ ՀԱԽՎԵՐԴՅԱՆ",
          "ՌՈՒԲԵՆ ՀԱԽՎԵՐԴՅԱՆ",
          "ՌՈՒԲԵՆ ՀԱԽՎԵՐԴՅԱՆ",
          "ՌՈՒԲԵՆ ՀԱԽՎԵՐԴՅԱՆ",
          "ՌՈՒԲԵՆ ՀԱԽՎԵՐԴՅԱՆ",
          "ՌՈՒԲԵՆ ՀԱԽՎԵՐԴՅԱՆ",
          "ՌՈՒԲԵՆ ՀԱԽՎԵՐԴՅԱՆ",
          "ՌՈՒԲԵՆ ՀԱԽՎԵՐԴՅԱՆ",
          "ՌՈՒԲԵՆ ՀԱԽՎԵՐԴՅԱՆ",
          "ՌՈՒԲԵՆ ՀԱԽՎԵՐԴՅԱՆ",
          "ՌՈՒԲԵՆ ՀԱԽՎԵՐԴՅԱՆ",
          "ՍԱՅԱԹ-ՆՈՎԱ",
          "ՍԱՅԱԹ-ՆՈՎԱ",
          "ՍԱՅԱԹ-ՆՈՎԱ",
          "ՍԱՅԱԹ-ՆՈՎԱ",
          "ՍԱՅԱԹ-ՆՈՎԱ",
          "ՍԱՅԱԹ-ՆՈՎԱ",
          "ՍԱՅԱԹ-ՆՈՎԱ",
          "ՍԱՅԱԹ-ՆՈՎԱ",
          "ՍԱՅԱԹ-ՆՈՎԱ",
          "ՍԱՅԱԹ-ՆՈՎԱ",
          "ՍԱՅԱԹ-ՆՈՎԱ",
          "ՍԱՅԱԹ-ՆՈՎԱ",
          "ՍԱՅԱԹ-ՆՈՎԱ",
          "ՍԱՅԱԹ-ՆՈՎԱ",
          "ՍԱՅԱԹ-ՆՈՎԱ",
          "ՍԱՅԱԹ-ՆՈՎԱ",
          "ԿՈՄԻՏԱՍ",
          "ԿՈՄԻՏԱՍ",
          "ԿՈՄԻՏԱՍ",
          "ԿՈՄԻՏԱՍ",
          "ԿՈՄԻՏԱՍ",
          "ԿՈՄԻՏԱՍ",
          "ԿՈՄԻՏԱՍ",
          "ԿՈՄԻՏԱՍ",
          "ԿՈՄԻՏԱՍ",
          "ԿՈՄԻՏԱՍ",
          "ԿՈՄԻՏԱՍ",
          "ԿՈՄԻՏԱՍ",
          "ԿՈՄԻՏԱՍ",
          "ԿՈՄԻՏԱՍ",
          "ԿՈՄԻՏԱՍ",
          "ԿՈՄԻՏԱՍ",
          "ԿՈՄԻՏԱՍ",
          "ԿՈՄԻՏԱՍ",
          "ԿՈՄԻՏԱՍ",
          "ԿՈՄԻՏԱՍ",
          "ԿՈՄԻՏԱՍ",
          "ԿՈՄԻՏԱՍ",
          "ԿՈՄԻՏԱՍ",
          "ԿՈՄԻՏԱՍ",
          "ԿՈՄԻՏԱՍ",
          "ԿՈՄԻՏԱՍ",
          "ԿՈՄԻՏԱՍ",
          "ԿՈՄԻՏԱՍ",
          "ԿՈՄԻՏԱՍ",
          "ԿՈՄԻՏԱՍ",
          "ԿՈՄԻՏԱՍ",
          "ԿՈՄԻՏԱՍ",
          "ԿՈՄԻՏԱՍ",
          "ԿՈՄԻՏԱՍ",
          "ԿՈՄԻՏԱՍ",
          "ԿՈՄԻՏԱՍ",
          "ԿՈՄԻՏԱՍ",
          "ԿՈՄԻՏԱՍ",
          "ԿՈՄԻՏԱՍ",
          "ԿՈՄԻՏԱՍ",
          "ԿՈՄԻՏԱՍ",
          "ԿՈՄԻՏԱՍ",
          "ԿՈՄԻՏԱՍ",
          "ԿՈՄԻՏԱՍ",
          "ԿՈՄԻՏԱՍ",
          "ԿՈՄԻՏԱՍ",
          "ԿՈՄԻՏԱՍ",
          "ԿՈՄԻՏԱՍ",
          "ԿՈՄԻՏԱՍ",
          "ԿՈՄԻՏԱՍ",
          "ԿՈՄԻՏԱՍ",
          "ԿՈՄԻՏԱՍ",
          "ԿՈՄԻՏԱՍ",
          "ԿՈՄԻՏԱՍ",
          "ԿՈՄԻՏԱՍ",
          "ԿՈՄԻՏԱՍ",
          "ԿՈՄԻՏԱՍ",
          "ԿՈՄԻՏԱՍ",
          "ԿՈՄԻՏԱՍ",
          "ԿՈՄԻՏԱՍ",
          "ԿՈՄԻՏԱՍ",
          "ԿՈՄԻՏԱՍ",
          "HT Hayko",
          "HT Hayko",
          "HT Hayko",
          "HT Hayko",
          "HT Hayko",
          "HT Hayko",
          "HT Hayko",
          "HT Hayko",
          "HT Hayko",
          "HT Hayko",
          "HT Hayko",
          "HT Hayko",
          "HT Hayko",
          "HT Hayko",
          "HT Hayko",
          "HT Hayko",
          "Empyray",
          "Empyray",
          "Empyray",
          "Empyray",
          "Empyray",
          "Empyray",
          "Empyray",
          "Empyray",
          "Empyray",
          "Empyray",
          " Lav Eli",
          " Lav Eli",
          " Lav Eli",
          " Lav Eli",
          " Lav Eli",
          " Lav Eli",
          " Lav Eli",
          " Lav Eli",
          " Lav Eli",
          "Silva Hakobyan",
          "Silva Hakobyan",
          "Silva Hakobyan",
          "Silva Hakobyan",
          "Silva Hakobyan",
          "Silva Hakobyan",
          "Silva Hakobyan",
          "Silva Hakobyan",
          "Silva Hakobyan",
          "Silva Hakobyan",
          "Silva Hakobyan",
          "Silva Hakobyan",
          "Silva Hakobyan",
          "Silva Hakobyan",
          "Silva Hakobyan",
          "Silva Hakobyan",
          "Silva Hakobyan",
          "Silva Hakobyan",
          "Silva Hakobyan",
          "Silva Hakobyan",
          "Անդրե",
          "Անդրե",
          "Անդրե",
          "Անդրե",
          "Անդրե",
          "Անդրե",
          "Անդրե",
          "Անդրե",
          "Անդրե",
          "Անդրե",
          "Անդրե",
          "Անդրե",
          "Լիլիթ Հովհաննիսյան",
          "Լիլիթ Հովհաննիսյան",
          "Լիլիթ Հովհաննիսյան",
          "Լիլիթ Հովհաննիսյան",
          "Լիլիթ Հովհաննիսյան",
          "Լիլիթ Հովհաննիսյան",
          "Լիլիթ Հովհաննիսյան",
          "Լիլիթ Հովհաննիսյան",
          "Լիլիթ Հովհաննիսյան",
          "Լիլիթ Հովհաննիսյան",
          "Լիլիթ Հովհաննիսյան",
          "Լիլիթ Հովհաննիսյան",
          "Լիլիթ Հովհաննիսյան",
          "Լիլիթ Հովհաննիսյան",
          "Լիլիթ Հովհաննիսյան",
          "Լիլիթ Հովհաննիսյան",
          "Լիլիթ Հովհաննիսյան",
          "Լիլիթ Հովհաննիսյան",
          "Լիլիթ Հովհաննիսյան",
          "Լիլիթ Հովհաննիսյան",
          "Լիլիթ Հովհաննիսյան",
          "Լիլիթ Հովհաննիսյան",
          "Լիլիթ Հովհաննիսյան",
          "Լիլիթ Հովհաննիսյան",
          "Սիրուշո",
          "Սիրուշո",
          "Սիրուշո",
          "Սիրուշո",
          "Սիրուշո",
          "Սիրուշո",
          "Սիրուշո",
          "Սիրուշո",
          "Սիրուշո",
          "Սիրուշո",
          "Սիրուշո",
          "Սիրուշո",
          "Սիրուշո",
          "Սիրուշո",
          "Սիրուշո",
          "Սիրուշո",
          "Սիրուշո",
          "Սիրուշո",
          "Սիրուշո",
          "Սիրուշո",
          "Սիրուշո",
          "Սիրուշո",
          "Սիրուշո",
          "Սիրուշո",
          "Սիրուշո",
          "Միհրան Ծառուկյան",
          "Միհրան Ծառուկյան",
          "Միհրան Ծառուկյան",
          "Միհրան Ծառուկյան",
          "Միհրան Ծառուկյան",
          "Միհրան Ծառուկյան",
          "Միհրան Ծառուկյան",
          "Միհրան Ծառուկյան",
          "Միհրան Ծառուկյան",
          "Միհրան Ծառուկյան",
          "Միհրան Ծառուկյան",
          "Միհրան Ծառուկյան",
          "Միհրան Ծառուկյան",
          "Միհրան Ծառուկյան",
          "Միհրան Ծառուկյան",
          "Միհրան Ծառուկյան",
          "Միհրան Ծառուկյան",
          "Միհրան Ծառուկյան",
          "Arame",
          "Arame",
          "Arame",
          "Arame",
          "Arame",
          "Arame",
          "Arame",
          "Arame",
          "Arame",
          "Razmik Amyan",
          "Razmik Amyan",
          "Razmik Amyan",
          "Razmik Amyan",
          "Razmik Amyan",
          "Razmik Amyan",
          "Razmik Amyan",
          "Razmik Amyan",
          "Razmik Amyan",
          "Razmik Amyan",
          "Razmik Amyan",
          "Razmik Amyan",
          "Razmik Amyan",
          "Razmik Amyan",
          "Razmik Amyan",
          "Razmik Amyan",
          "Razmik Amyan",
          "Razmik Amyan",
          "Harout Pamboukjian",
          "Harout Pamboukjian",
          "Harout Pamboukjian",
          "Harout Pamboukjian",
          "Harout Pamboukjian",
          "Harout Pamboukjian",
          "Harout Pamboukjian",
          "Harout Pamboukjian",
          "Harout Pamboukjian",
          "Harout Pamboukjian",
          "Harout Pamboukjian",
          "Harout Pamboukjian",
          "Harout Pamboukjian",
          "Harout Pamboukjian",
          "Harout Pamboukjian",
          "Harout Pamboukjian",
          "Harout Pamboukjian",
          "Harout Pamboukjian",
          "Harout Pamboukjian",
          "Harout Pamboukjian",
          "Harout Pamboukjian",
          "Harout Pamboukjian",
          "Harout Pamboukjian",
          "Harout Pamboukjian",
          "Harout Pamboukjian",
          "Harout Pamboukjian",
          "Harout Pamboukjian",
          "Harout Pamboukjian",
          "Harout Pamboukjian",
          "Harout Pamboukjian",
          "Harout Pamboukjian",
          "Harout Pamboukjian",
          "Հայկ Հակոբյան",
          "Հայկ Հակոբյան",
          "Հայկ Հակոբյան",
          "Հայկ Հակոբյան",
          "Հայկ Հակոբյան",
          "Հայկ Հակոբյան",
          "Հայկ Հակոբյան",
          "Հայկ Հակոբյան",
          "Հայկ Հակոբյան",
          "Հայկ Հակոբյան",
          "Հայկ Հակոբյան",
          "Հայկ Հակոբյան",
          "Հայկ Հակոբյան",
          "Հայկ Հակոբյան",
          "Հայկ Հակոբյան",
          "Հայկ Հակոբյան",
          "Հայկ Հակոբյան",
          "Հայկ Հակոբյան",
          "Հայկ Հակոբյան",
          "Հայկ Հակոբյան",
          "Հայկ Հակոբյան",
          "Հայկ Հակոբյան",
          "Հայկ Հակոբյան",
          "Aram MP3",
          "Aram MP3",
          "Arsen Safaryan",
          "Arsen Safaryan",
          "Arsen Safaryan",
          "Arsen Safaryan",
          "Arsen Safaryan",
          "Arsen Safaryan",
          "Arsen Safaryan",
          "Arsen Safaryan",
          "Arsen Safaryan",
          "Arsen Safaryan",
          "Arsen Safaryan",
          "Arsen Safaryan",
          "Arsen Safaryan",
          "Arsen Safaryan",
          "Arsen Safaryan",
          "Arsen Safaryan",
          "Arsen Safaryan",
          "Arsen Safaryan",
          "Arsen Safaryan",
          "Arsen Safaryan",
          "Arsen Safaryan",
          "Arsen Safaryan",
          "Arsen Safaryan",
          "Aram MP3",
          "Aram MP3",
          "Aram MP3",
          "Aram MP3",
          "Aram MP3",
          "Aram MP3",
          "Aram MP3",
          "Aram MP3",
          "Aram MP3",
          "Aram MP3",
          "Aram MP3",
          "Aram MP3",
          "Aram MP3",
          "Aram MP3",
          "Aram MP3",
          "Misho",
          "Misho",
          "Misho",
          "Misho",
          "Misho",
          "Misho",
          "Misho",
          "Misho",
          "Misho",
          "Misho",
          "Misho",
          "Misho",
          "Misho",
          "Misho",
          "Misho",
          "Misho",
          "Misho",
          "Misho",
          "Misho",
          "Misho",
          "Misho",
          "Misho",
          "Misho",
          "Misho",
          "Misho",
          "Misho",
          "Mi Qani Hogi",
          "Mi Qani Hogi",
          "Mi Qani Hogi",
          "Mi Qani Hogi",
          "Mi Qani Hogi",
          "Mi Qani Hogi",
          "Mi Qani Hogi",
          "Mi Qani Hogi",
          "Mi Qani Hogi",
          "Mi Qani Hogi",
          "Mi Qani Hogi",
          "Mi Qani Hogi",
          "Mi Qani Hogi",
          "Mi Qani Hogi",
          "Mi Qani Hogi"
         ],
         "x0": " ",
         "xaxis": "x",
         "y": [
          0.5,
          0.6384615384615384,
          0.711340206185567,
          0.8777777777777778,
          0.6956521739130435,
          0.8653846153846154,
          0.6901408450704225,
          0.6604938271604939,
          0.9636363636363636,
          0.5895522388059702,
          0.8679245283018868,
          0.6222222222222222,
          0.5321100917431193,
          0.8156028368794326,
          0.8243243243243243,
          0.7142857142857143,
          0.7674418604651163,
          0.8283582089552238,
          0.6445783132530121,
          0.7073170731707317,
          0.8368794326241135,
          0.8064516129032258,
          0.8470588235294118,
          0.8111111111111111,
          0.8,
          0.6581196581196581,
          0.6814159292035398,
          0.49224806201550386,
          0.2793103448275862,
          0.7898089171974523,
          0.6356589147286822,
          0.6558441558441559,
          0.7222222222222222,
          0.66,
          1,
          0.7010309278350515,
          0.8071428571428572,
          0.6708860759493671,
          0.37,
          0.6666666666666666,
          0.7092198581560284,
          0.837037037037037,
          0.632768361581921,
          0.5258620689655172,
          0.8333333333333334,
          0.6228070175438597,
          0.7083333333333334,
          0.6519823788546255,
          0.6952789699570815,
          0.9,
          0.7804878048780488,
          0.5392156862745098,
          0.8455882352941176,
          0.6850393700787402,
          0.6502463054187192,
          0.76,
          0.6595744680851063,
          0.4897959183673469,
          0.5416666666666666,
          0.46534653465346537,
          0.7103448275862069,
          0.6744186046511628,
          0.8103448275862069,
          0.585635359116022,
          0.5641025641025641,
          0.5433070866141733,
          0.5661764705882353,
          0.58,
          0.7948717948717948,
          0.810126582278481,
          0.6829268292682927,
          0.6868686868686869,
          0.7542372881355932,
          0.4772727272727273,
          0.6206896551724138,
          0.5725190839694656,
          0.6237623762376238,
          0.723404255319149,
          0.75,
          0.5,
          0.35294117647058826,
          0.5486725663716814,
          0.5217391304347826,
          0.5135135135135135,
          0.5666666666666667,
          0.5932203389830508,
          0.6797385620915033,
          0.4485294117647059,
          0.6810344827586207,
          0.5581395348837209,
          0.6484848484848484,
          0.6142857142857143,
          0.5316455696202531,
          0.5568181818181818,
          0.5543478260869565,
          0.7662337662337663,
          0.5022026431718062,
          0.6272189349112426,
          0.6037735849056604,
          0.5,
          0.45614035087719296,
          0.7272727272727273,
          0.7222222222222222,
          0.5588235294117647,
          0.6428571428571429,
          0.5727272727272728,
          0.6330275229357798,
          0.7471264367816092,
          0.635036496350365,
          0.7878787878787878,
          0.7428571428571429,
          0.618421052631579,
          0.7037037037037037,
          0.4583333333333333,
          0.8109756097560976,
          0.6208791208791209,
          0.8142076502732241,
          0.5945945945945946,
          0.6363636363636364,
          0.9038461538461539,
          0.5303030303030303,
          0.8095238095238095,
          0.88,
          0.9545454545454546,
          0.7692307692307693,
          0.8378378378378378,
          0.4642857142857143,
          0.7741935483870968,
          0.7547169811320755,
          0.5606060606060606,
          0.6233766233766234,
          0.6688311688311688,
          0.7771084337349398,
          0.7484276729559748,
          0.7777777777777778,
          0.7531645569620253,
          0.8194444444444444,
          0.7935483870967742,
          0.536144578313253,
          0.6170212765957447,
          0.7478260869565218,
          0.7604790419161677,
          0.5454545454545454,
          0.7134831460674157,
          0.7706422018348624,
          0.7981651376146789,
          0.5425531914893617,
          0.6407766990291263,
          0.6868686868686869,
          0.8793103448275862,
          0.4675324675324675,
          0.9782608695652174,
          0.7678571428571429,
          0.31343283582089554,
          0.8709677419354839,
          0.9032258064516129,
          0.4489795918367347,
          0.3274336283185841,
          0.6,
          0.3230769230769231,
          0.7362637362637363,
          0.4166666666666667,
          0.42857142857142855,
          0.5645161290322581,
          0.36666666666666664,
          0.639344262295082,
          0.5490196078431373,
          0.5172413793103449,
          0.6,
          0.7254901960784313,
          0.6086956521739131,
          0.8181818181818182,
          0.78,
          0.6582278481012658,
          0.44565217391304346,
          0.4864864864864865,
          0.5373134328358209,
          0.4322033898305085,
          0.4864864864864865,
          0.8717948717948718,
          0.6176470588235294,
          0.6779661016949152,
          0.7045454545454546,
          0.82,
          0.6413043478260869,
          0.7547169811320755,
          0.39344262295081966,
          0.7622950819672131,
          0.580952380952381,
          0.8166666666666667,
          0.4444444444444444,
          0.8,
          0.7307692307692307,
          0.6065573770491803,
          0.4888888888888889,
          0.5666666666666667,
          0.6666666666666666,
          0.4857142857142857,
          0.6615384615384615,
          0.6935483870967742,
          0.3655913978494624,
          0.7241379310344828,
          0.42528735632183906,
          0.7474747474747475,
          0.44,
          0.3783783783783784,
          0.4745762711864407,
          0.4222222222222222,
          0.7121212121212122,
          0.6136919315403423,
          0.6096774193548387,
          0.7557471264367817,
          0.46875,
          0.6919431279620853,
          0.5679012345679012,
          0.5597189695550351,
          0.6240208877284595,
          0.6705882352941176,
          0.5850622406639004,
          0.5544041450777202,
          0.6287425149700598,
          0.5129151291512916,
          0.5983263598326359,
          0.4943820224719101,
          0.391025641025641,
          0.40145985401459855,
          0.8529411764705882,
          0.35106382978723405,
          0.37383177570093457,
          0.3963963963963964,
          0.5,
          0.6818181818181818,
          0.7272727272727273,
          0.4264705882352941,
          0.5285714285714286,
          0.44,
          0.48299319727891155,
          0.726027397260274,
          0.6777777777777778,
          1,
          0.7454545454545455,
          0.46153846153846156,
          0.6804123711340206,
          0.37748344370860926,
          0.5727272727272728,
          0.3157894736842105,
          0.45977011494252873,
          0.4424778761061947,
          0.5094339622641509,
          0.4393939393939394,
          0.5652173913043478,
          0.3951612903225806,
          0.8939393939393939,
          0.8395061728395061,
          0.7777777777777778,
          0.6608695652173913,
          0.5405405405405406,
          0.4424778761061947,
          0.45,
          0.5294117647058824,
          0.4342105263157895,
          0.5660377358490566,
          0.7631578947368421,
          0.5419847328244275,
          0.2446351931330472,
          0.4491525423728814,
          0.6470588235294118,
          0.392,
          0.75,
          0.4860335195530726,
          0.4090909090909091,
          0.2328767123287671,
          0.6623376623376623,
          0.6666666666666666,
          0.5487804878048781,
          0.6095238095238096,
          0.450261780104712,
          0.41025641025641024,
          0.3404255319148936,
          0.24766355140186916,
          0.38095238095238093,
          0.45555555555555555,
          0.3842364532019704,
          0.5333333333333333,
          0.4020618556701031,
          0.55,
          0.6086956521739131,
          0.24193548387096775,
          0.6153846153846154,
          0.764367816091954,
          0.6785714285714286,
          0.4325581395348837,
          0.41732283464566927,
          0.3333333333333333,
          0.18115942028985507,
          0.2717391304347826,
          0.4350282485875706,
          0.8115942028985508,
          0.3930635838150289,
          0.35135135135135137,
          0.6095238095238096,
          0.5222222222222223,
          0.15463917525773196,
          0.40601503759398494,
          0.4,
          0.5526315789473685,
          0.6320754716981132,
          0.7289719626168224,
          0.6027397260273972,
          0.6666666666666666,
          0.4745762711864407,
          0.20444444444444446,
          0.6176470588235294,
          0.4714285714285714,
          0.8958333333333334,
          0.2638888888888889,
          0.464,
          0.3115942028985507,
          0.3053435114503817,
          0.6363636363636364,
          0.4375,
          0.5238095238095238,
          0.425,
          0.4945054945054945,
          0.6111111111111112,
          0.32452830188679244,
          0.5037037037037037,
          0.24855491329479767,
          0.5148514851485149,
          0.3838383838383838,
          0.4519774011299435,
          0.3303964757709251,
          0.3867403314917127,
          0.3624161073825503,
          0.27802690582959644,
          0.4727272727272727,
          0.2865853658536585,
          0.6025641025641025,
          0.6695652173913044,
          0.6826923076923077,
          0.7529411764705882,
          0.8037383177570093,
          0.32242990654205606,
          0.2839506172839506,
          0.48717948717948717,
          0.304029304029304,
          0.8933333333333333,
          0.3855421686746988,
          0.43529411764705883,
          0.4144144144144144,
          0.5576923076923077,
          0.3314285714285714,
          0.5185185185185185,
          0.4601226993865031,
          0.4696969696969697,
          0.5897435897435898,
          0.5972222222222222,
          0.6013513513513513,
          0.6145833333333334,
          0.5064102564102564,
          0.5,
          0.4888888888888889,
          0.19230769230769232,
          0.5604395604395604,
          0.6043956043956044,
          0.8493150684931506,
          0.5078125,
          0.45121951219512196,
          0.4778761061946903,
          0.4,
          0.5164835164835165,
          0.8354430379746836,
          0.6095238095238096,
          0.31868131868131866,
          0.46601941747572817,
          0.4827586206896552,
          0.2597402597402597,
          0.9387755102040817,
          0.6209150326797386,
          0.65,
          0.6052631578947368,
          0.3148148148148148,
          0.29850746268656714,
          0.6219512195121951,
          0.3006535947712418,
          0.7017543859649122,
          0.5523809523809524,
          0.6666666666666666,
          0.48717948717948717,
          0.7449664429530202,
          0.9146341463414634,
          0.5172413793103449,
          0.7323943661971831,
          0.7025316455696202,
          0.8974358974358975,
          0.6968085106382979,
          0.5515151515151515,
          0.9431818181818182,
          0.8369565217391305,
          0.6986301369863014,
          0.5086206896551724,
          0.8095238095238095,
          1,
          0.7454545454545455,
          0.8461538461538461,
          0.8035714285714286,
          0.7281553398058253,
          0.7808219178082192,
          0.6811594202898551,
          0.6495726495726496,
          0.8227848101265823,
          0.7864077669902912,
          0.5930232558139535,
          0.8,
          0.4074074074074074,
          0.8266666666666667,
          0.68,
          0.7096774193548387,
          0.6,
          0.6941176470588235,
          0.5930232558139535,
          0.53125,
          0.8,
          0.7733333333333333,
          0.7368421052631579,
          0.4966442953020134,
          0.37410071942446044,
          0.6722689075630253,
          0.75,
          0.6511627906976745,
          0.8133333333333334,
          0.5637583892617449,
          0.7638888888888888,
          0.5955056179775281,
          0.4049079754601227,
          0.6578947368421053,
          0.7669902912621359,
          0.8032786885245902,
          0.816,
          0.5906040268456376,
          0.6440677966101694,
          0.4,
          0.3209302325581395,
          0.5857142857142857,
          0.7789473684210526,
          0.6804123711340206,
          0.5887850467289719,
          0.7291666666666666,
          0.7567567567567568,
          0.7045454545454546,
          0.33962264150943394,
          0.27835051546391754,
          0.4253731343283582,
          0.6857142857142857,
          0.23979591836734693,
          0.4230769230769231,
          0.4765625,
          0.7386363636363636,
          0.33152173913043476,
          0.5294117647058824,
          0.4722222222222222,
          0.41530054644808745,
          0.42592592592592593,
          0.30275229357798167,
          0.675,
          0.5924170616113744,
          0.7251908396946565,
          0.86,
          0.7932692307692307,
          0.7637795275590551,
          0.7714285714285715,
          0.5,
          0.9012345679012346,
          0.6822429906542056,
          0.889763779527559,
          0.7857142857142857,
          0.8416666666666667,
          0.7837837837837838,
          0.5403225806451613,
          0.7727272727272727,
          0.4696132596685083,
          0.8509316770186336,
          0.7288135593220338,
          0.7076923076923077,
          0.6597222222222222,
          0.7752808988764045,
          0.6392156862745098,
          0.5594405594405595,
          0.5683453237410072,
          0.7992125984251969,
          0.6442953020134228,
          0.9411764705882353,
          0.5882352941176471,
          0.7454545454545455,
          0.7032258064516129,
          0.7299270072992701,
          0.7659574468085106,
          0.6380368098159509,
          0.7752808988764045,
          0.56353591160221,
          0.6578947368421053,
          0.4689655172413793,
          0.6608695652173913,
          0.6788321167883211,
          0.4807692307692308,
          0.6634615384615384
         ],
         "y0": " ",
         "yaxis": "y"
        }
       ],
       "layout": {
        "boxmode": "group",
        "legend": {
         "tracegroupgap": 0
        },
        "template": {
         "data": {
          "bar": [
           {
            "error_x": {
             "color": "#2a3f5f"
            },
            "error_y": {
             "color": "#2a3f5f"
            },
            "marker": {
             "line": {
              "color": "#E5ECF6",
              "width": 0.5
             },
             "pattern": {
              "fillmode": "overlay",
              "size": 10,
              "solidity": 0.2
             }
            },
            "type": "bar"
           }
          ],
          "barpolar": [
           {
            "marker": {
             "line": {
              "color": "#E5ECF6",
              "width": 0.5
             },
             "pattern": {
              "fillmode": "overlay",
              "size": 10,
              "solidity": 0.2
             }
            },
            "type": "barpolar"
           }
          ],
          "carpet": [
           {
            "aaxis": {
             "endlinecolor": "#2a3f5f",
             "gridcolor": "white",
             "linecolor": "white",
             "minorgridcolor": "white",
             "startlinecolor": "#2a3f5f"
            },
            "baxis": {
             "endlinecolor": "#2a3f5f",
             "gridcolor": "white",
             "linecolor": "white",
             "minorgridcolor": "white",
             "startlinecolor": "#2a3f5f"
            },
            "type": "carpet"
           }
          ],
          "choropleth": [
           {
            "colorbar": {
             "outlinewidth": 0,
             "ticks": ""
            },
            "type": "choropleth"
           }
          ],
          "contour": [
           {
            "colorbar": {
             "outlinewidth": 0,
             "ticks": ""
            },
            "colorscale": [
             [
              0,
              "#0d0887"
             ],
             [
              0.1111111111111111,
              "#46039f"
             ],
             [
              0.2222222222222222,
              "#7201a8"
             ],
             [
              0.3333333333333333,
              "#9c179e"
             ],
             [
              0.4444444444444444,
              "#bd3786"
             ],
             [
              0.5555555555555556,
              "#d8576b"
             ],
             [
              0.6666666666666666,
              "#ed7953"
             ],
             [
              0.7777777777777778,
              "#fb9f3a"
             ],
             [
              0.8888888888888888,
              "#fdca26"
             ],
             [
              1,
              "#f0f921"
             ]
            ],
            "type": "contour"
           }
          ],
          "contourcarpet": [
           {
            "colorbar": {
             "outlinewidth": 0,
             "ticks": ""
            },
            "type": "contourcarpet"
           }
          ],
          "heatmap": [
           {
            "colorbar": {
             "outlinewidth": 0,
             "ticks": ""
            },
            "colorscale": [
             [
              0,
              "#0d0887"
             ],
             [
              0.1111111111111111,
              "#46039f"
             ],
             [
              0.2222222222222222,
              "#7201a8"
             ],
             [
              0.3333333333333333,
              "#9c179e"
             ],
             [
              0.4444444444444444,
              "#bd3786"
             ],
             [
              0.5555555555555556,
              "#d8576b"
             ],
             [
              0.6666666666666666,
              "#ed7953"
             ],
             [
              0.7777777777777778,
              "#fb9f3a"
             ],
             [
              0.8888888888888888,
              "#fdca26"
             ],
             [
              1,
              "#f0f921"
             ]
            ],
            "type": "heatmap"
           }
          ],
          "heatmapgl": [
           {
            "colorbar": {
             "outlinewidth": 0,
             "ticks": ""
            },
            "colorscale": [
             [
              0,
              "#0d0887"
             ],
             [
              0.1111111111111111,
              "#46039f"
             ],
             [
              0.2222222222222222,
              "#7201a8"
             ],
             [
              0.3333333333333333,
              "#9c179e"
             ],
             [
              0.4444444444444444,
              "#bd3786"
             ],
             [
              0.5555555555555556,
              "#d8576b"
             ],
             [
              0.6666666666666666,
              "#ed7953"
             ],
             [
              0.7777777777777778,
              "#fb9f3a"
             ],
             [
              0.8888888888888888,
              "#fdca26"
             ],
             [
              1,
              "#f0f921"
             ]
            ],
            "type": "heatmapgl"
           }
          ],
          "histogram": [
           {
            "marker": {
             "pattern": {
              "fillmode": "overlay",
              "size": 10,
              "solidity": 0.2
             }
            },
            "type": "histogram"
           }
          ],
          "histogram2d": [
           {
            "colorbar": {
             "outlinewidth": 0,
             "ticks": ""
            },
            "colorscale": [
             [
              0,
              "#0d0887"
             ],
             [
              0.1111111111111111,
              "#46039f"
             ],
             [
              0.2222222222222222,
              "#7201a8"
             ],
             [
              0.3333333333333333,
              "#9c179e"
             ],
             [
              0.4444444444444444,
              "#bd3786"
             ],
             [
              0.5555555555555556,
              "#d8576b"
             ],
             [
              0.6666666666666666,
              "#ed7953"
             ],
             [
              0.7777777777777778,
              "#fb9f3a"
             ],
             [
              0.8888888888888888,
              "#fdca26"
             ],
             [
              1,
              "#f0f921"
             ]
            ],
            "type": "histogram2d"
           }
          ],
          "histogram2dcontour": [
           {
            "colorbar": {
             "outlinewidth": 0,
             "ticks": ""
            },
            "colorscale": [
             [
              0,
              "#0d0887"
             ],
             [
              0.1111111111111111,
              "#46039f"
             ],
             [
              0.2222222222222222,
              "#7201a8"
             ],
             [
              0.3333333333333333,
              "#9c179e"
             ],
             [
              0.4444444444444444,
              "#bd3786"
             ],
             [
              0.5555555555555556,
              "#d8576b"
             ],
             [
              0.6666666666666666,
              "#ed7953"
             ],
             [
              0.7777777777777778,
              "#fb9f3a"
             ],
             [
              0.8888888888888888,
              "#fdca26"
             ],
             [
              1,
              "#f0f921"
             ]
            ],
            "type": "histogram2dcontour"
           }
          ],
          "mesh3d": [
           {
            "colorbar": {
             "outlinewidth": 0,
             "ticks": ""
            },
            "type": "mesh3d"
           }
          ],
          "parcoords": [
           {
            "line": {
             "colorbar": {
              "outlinewidth": 0,
              "ticks": ""
             }
            },
            "type": "parcoords"
           }
          ],
          "pie": [
           {
            "automargin": true,
            "type": "pie"
           }
          ],
          "scatter": [
           {
            "fillpattern": {
             "fillmode": "overlay",
             "size": 10,
             "solidity": 0.2
            },
            "type": "scatter"
           }
          ],
          "scatter3d": [
           {
            "line": {
             "colorbar": {
              "outlinewidth": 0,
              "ticks": ""
             }
            },
            "marker": {
             "colorbar": {
              "outlinewidth": 0,
              "ticks": ""
             }
            },
            "type": "scatter3d"
           }
          ],
          "scattercarpet": [
           {
            "marker": {
             "colorbar": {
              "outlinewidth": 0,
              "ticks": ""
             }
            },
            "type": "scattercarpet"
           }
          ],
          "scattergeo": [
           {
            "marker": {
             "colorbar": {
              "outlinewidth": 0,
              "ticks": ""
             }
            },
            "type": "scattergeo"
           }
          ],
          "scattergl": [
           {
            "marker": {
             "colorbar": {
              "outlinewidth": 0,
              "ticks": ""
             }
            },
            "type": "scattergl"
           }
          ],
          "scattermapbox": [
           {
            "marker": {
             "colorbar": {
              "outlinewidth": 0,
              "ticks": ""
             }
            },
            "type": "scattermapbox"
           }
          ],
          "scatterpolar": [
           {
            "marker": {
             "colorbar": {
              "outlinewidth": 0,
              "ticks": ""
             }
            },
            "type": "scatterpolar"
           }
          ],
          "scatterpolargl": [
           {
            "marker": {
             "colorbar": {
              "outlinewidth": 0,
              "ticks": ""
             }
            },
            "type": "scatterpolargl"
           }
          ],
          "scatterternary": [
           {
            "marker": {
             "colorbar": {
              "outlinewidth": 0,
              "ticks": ""
             }
            },
            "type": "scatterternary"
           }
          ],
          "surface": [
           {
            "colorbar": {
             "outlinewidth": 0,
             "ticks": ""
            },
            "colorscale": [
             [
              0,
              "#0d0887"
             ],
             [
              0.1111111111111111,
              "#46039f"
             ],
             [
              0.2222222222222222,
              "#7201a8"
             ],
             [
              0.3333333333333333,
              "#9c179e"
             ],
             [
              0.4444444444444444,
              "#bd3786"
             ],
             [
              0.5555555555555556,
              "#d8576b"
             ],
             [
              0.6666666666666666,
              "#ed7953"
             ],
             [
              0.7777777777777778,
              "#fb9f3a"
             ],
             [
              0.8888888888888888,
              "#fdca26"
             ],
             [
              1,
              "#f0f921"
             ]
            ],
            "type": "surface"
           }
          ],
          "table": [
           {
            "cells": {
             "fill": {
              "color": "#EBF0F8"
             },
             "line": {
              "color": "white"
             }
            },
            "header": {
             "fill": {
              "color": "#C8D4E3"
             },
             "line": {
              "color": "white"
             }
            },
            "type": "table"
           }
          ]
         },
         "layout": {
          "annotationdefaults": {
           "arrowcolor": "#2a3f5f",
           "arrowhead": 0,
           "arrowwidth": 1
          },
          "autotypenumbers": "strict",
          "coloraxis": {
           "colorbar": {
            "outlinewidth": 0,
            "ticks": ""
           }
          },
          "colorscale": {
           "diverging": [
            [
             0,
             "#8e0152"
            ],
            [
             0.1,
             "#c51b7d"
            ],
            [
             0.2,
             "#de77ae"
            ],
            [
             0.3,
             "#f1b6da"
            ],
            [
             0.4,
             "#fde0ef"
            ],
            [
             0.5,
             "#f7f7f7"
            ],
            [
             0.6,
             "#e6f5d0"
            ],
            [
             0.7,
             "#b8e186"
            ],
            [
             0.8,
             "#7fbc41"
            ],
            [
             0.9,
             "#4d9221"
            ],
            [
             1,
             "#276419"
            ]
           ],
           "sequential": [
            [
             0,
             "#0d0887"
            ],
            [
             0.1111111111111111,
             "#46039f"
            ],
            [
             0.2222222222222222,
             "#7201a8"
            ],
            [
             0.3333333333333333,
             "#9c179e"
            ],
            [
             0.4444444444444444,
             "#bd3786"
            ],
            [
             0.5555555555555556,
             "#d8576b"
            ],
            [
             0.6666666666666666,
             "#ed7953"
            ],
            [
             0.7777777777777778,
             "#fb9f3a"
            ],
            [
             0.8888888888888888,
             "#fdca26"
            ],
            [
             1,
             "#f0f921"
            ]
           ],
           "sequentialminus": [
            [
             0,
             "#0d0887"
            ],
            [
             0.1111111111111111,
             "#46039f"
            ],
            [
             0.2222222222222222,
             "#7201a8"
            ],
            [
             0.3333333333333333,
             "#9c179e"
            ],
            [
             0.4444444444444444,
             "#bd3786"
            ],
            [
             0.5555555555555556,
             "#d8576b"
            ],
            [
             0.6666666666666666,
             "#ed7953"
            ],
            [
             0.7777777777777778,
             "#fb9f3a"
            ],
            [
             0.8888888888888888,
             "#fdca26"
            ],
            [
             1,
             "#f0f921"
            ]
           ]
          },
          "colorway": [
           "#636efa",
           "#EF553B",
           "#00cc96",
           "#ab63fa",
           "#FFA15A",
           "#19d3f3",
           "#FF6692",
           "#B6E880",
           "#FF97FF",
           "#FECB52"
          ],
          "font": {
           "color": "#2a3f5f"
          },
          "geo": {
           "bgcolor": "white",
           "lakecolor": "white",
           "landcolor": "#E5ECF6",
           "showlakes": true,
           "showland": true,
           "subunitcolor": "white"
          },
          "hoverlabel": {
           "align": "left"
          },
          "hovermode": "closest",
          "mapbox": {
           "style": "light"
          },
          "paper_bgcolor": "white",
          "plot_bgcolor": "#E5ECF6",
          "polar": {
           "angularaxis": {
            "gridcolor": "white",
            "linecolor": "white",
            "ticks": ""
           },
           "bgcolor": "#E5ECF6",
           "radialaxis": {
            "gridcolor": "white",
            "linecolor": "white",
            "ticks": ""
           }
          },
          "scene": {
           "xaxis": {
            "backgroundcolor": "#E5ECF6",
            "gridcolor": "white",
            "gridwidth": 2,
            "linecolor": "white",
            "showbackground": true,
            "ticks": "",
            "zerolinecolor": "white"
           },
           "yaxis": {
            "backgroundcolor": "#E5ECF6",
            "gridcolor": "white",
            "gridwidth": 2,
            "linecolor": "white",
            "showbackground": true,
            "ticks": "",
            "zerolinecolor": "white"
           },
           "zaxis": {
            "backgroundcolor": "#E5ECF6",
            "gridcolor": "white",
            "gridwidth": 2,
            "linecolor": "white",
            "showbackground": true,
            "ticks": "",
            "zerolinecolor": "white"
           }
          },
          "shapedefaults": {
           "line": {
            "color": "#2a3f5f"
           }
          },
          "ternary": {
           "aaxis": {
            "gridcolor": "white",
            "linecolor": "white",
            "ticks": ""
           },
           "baxis": {
            "gridcolor": "white",
            "linecolor": "white",
            "ticks": ""
           },
           "bgcolor": "#E5ECF6",
           "caxis": {
            "gridcolor": "white",
            "linecolor": "white",
            "ticks": ""
           }
          },
          "title": {
           "x": 0.05
          },
          "xaxis": {
           "automargin": true,
           "gridcolor": "white",
           "linecolor": "white",
           "ticks": "",
           "title": {
            "standoff": 15
           },
           "zerolinecolor": "white",
           "zerolinewidth": 2
          },
          "yaxis": {
           "automargin": true,
           "gridcolor": "white",
           "linecolor": "white",
           "ticks": "",
           "title": {
            "standoff": 15
           },
           "zerolinecolor": "white",
           "zerolinewidth": 2
          }
         }
        },
        "title": {
         "text": "Ratio of unique words to all words(hy)"
        },
        "xaxis": {
         "anchor": "y",
         "domain": [
          0,
          1
         ],
         "title": {
          "text": "Artist"
         }
        },
        "yaxis": {
         "anchor": "x",
         "domain": [
          0,
          1
         ],
         "title": {
          "text": "unique_tokens_ratio_hy"
         }
        }
       }
      },
      "text/html": [
       "<div>                            <div id=\"a101c034-7335-47ba-9698-67d91952d665\" class=\"plotly-graph-div\" style=\"height:525px; width:100%;\"></div>            <script type=\"text/javascript\">                require([\"plotly\"], function(Plotly) {                    window.PLOTLYENV=window.PLOTLYENV || {};                                    if (document.getElementById(\"a101c034-7335-47ba-9698-67d91952d665\")) {                    Plotly.newPlot(                        \"a101c034-7335-47ba-9698-67d91952d665\",                        [{\"alignmentgroup\":\"True\",\"hovertemplate\":\"Artist=%{x}<br>unique_tokens_ratio_hy=%{y}<extra></extra>\",\"legendgroup\":\"\",\"marker\":{\"color\":\"#636efa\"},\"name\":\"\",\"notched\":false,\"offsetgroup\":\"\",\"orientation\":\"v\",\"showlegend\":false,\"x\":[\"\\u0531\\u0550\\u0539\\u0548\\u0552\\u0550 \\u0544\\u0535\\u054d\\u0549\\u0545\\u0531\\u0546\",\"\\u0531\\u0550\\u0539\\u0548\\u0552\\u0550 \\u0544\\u0535\\u054d\\u0549\\u0545\\u0531\\u0546\",\"\\u0531\\u0550\\u0539\\u0548\\u0552\\u0550 \\u0544\\u0535\\u054d\\u0549\\u0545\\u0531\\u0546\",\"\\u0531\\u0550\\u0539\\u0548\\u0552\\u0550 \\u0544\\u0535\\u054d\\u0549\\u0545\\u0531\\u0546\",\"\\u0531\\u0550\\u0539\\u0548\\u0552\\u0550 \\u0544\\u0535\\u054d\\u0549\\u0545\\u0531\\u0546\",\"\\u0531\\u0550\\u0539\\u0548\\u0552\\u0550 \\u0544\\u0535\\u054d\\u0549\\u0545\\u0531\\u0546\",\"\\u0531\\u0550\\u0539\\u0548\\u0552\\u0550 \\u0544\\u0535\\u054d\\u0549\\u0545\\u0531\\u0546\",\"\\u0531\\u0550\\u0539\\u0548\\u0552\\u0550 \\u0544\\u0535\\u054d\\u0549\\u0545\\u0531\\u0546\",\"\\u0531\\u0550\\u0539\\u0548\\u0552\\u0550 \\u0544\\u0535\\u054d\\u0549\\u0545\\u0531\\u0546\",\"\\u0531\\u0550\\u0539\\u0548\\u0552\\u0550 \\u0544\\u0535\\u054d\\u0549\\u0545\\u0531\\u0546\",\"\\u0531\\u0550\\u0539\\u0548\\u0552\\u0550 \\u0544\\u0535\\u054d\\u0549\\u0545\\u0531\\u0546\",\"\\u0531\\u0550\\u0539\\u0548\\u0552\\u0550 \\u0544\\u0535\\u054d\\u0549\\u0545\\u0531\\u0546\",\"\\u0531\\u0550\\u0539\\u0548\\u0552\\u0550 \\u0544\\u0535\\u054d\\u0549\\u0545\\u0531\\u0546\",\"\\u0531\\u0550\\u0539\\u0548\\u0552\\u0550 \\u0544\\u0535\\u054d\\u0549\\u0545\\u0531\\u0546\",\"\\u0531\\u0550\\u0539\\u0548\\u0552\\u0550 \\u0544\\u0535\\u054d\\u0549\\u0545\\u0531\\u0546\",\"\\u0531\\u0550\\u0539\\u0548\\u0552\\u0550 \\u0544\\u0535\\u054d\\u0549\\u0545\\u0531\\u0546\",\"\\u0531\\u0550\\u0539\\u0548\\u0552\\u0550 \\u0544\\u0535\\u054d\\u0549\\u0545\\u0531\\u0546\",\"\\u0531\\u0550\\u0539\\u0548\\u0552\\u0550 \\u0544\\u0535\\u054d\\u0549\\u0545\\u0531\\u0546\",\"\\u0531\\u0550\\u0539\\u0548\\u0552\\u0550 \\u0544\\u0535\\u054d\\u0549\\u0545\\u0531\\u0546\",\"\\u0531\\u0550\\u0539\\u0548\\u0552\\u0550 \\u0544\\u0535\\u054d\\u0549\\u0545\\u0531\\u0546\",\"\\u0531\\u0550\\u0539\\u0548\\u0552\\u0550 \\u0544\\u0535\\u054d\\u0549\\u0545\\u0531\\u0546\",\"\\u0531\\u0550\\u0539\\u0548\\u0552\\u0550 \\u0544\\u0535\\u054d\\u0549\\u0545\\u0531\\u0546\",\"\\u0531\\u0550\\u0539\\u0548\\u0552\\u0550 \\u0544\\u0535\\u054d\\u0549\\u0545\\u0531\\u0546\",\"\\u0531\\u0550\\u0539\\u0548\\u0552\\u0550 \\u0544\\u0535\\u054d\\u0549\\u0545\\u0531\\u0546\",\"\\u0531\\u0550\\u0539\\u0548\\u0552\\u0550 \\u0544\\u0535\\u054d\\u0549\\u0545\\u0531\\u0546\",\"\\u0531\\u0550\\u0539\\u0548\\u0552\\u0550 \\u0544\\u0535\\u054d\\u0549\\u0545\\u0531\\u0546\",\"\\u0531\\u0550\\u0539\\u0548\\u0552\\u0550 \\u0544\\u0535\\u054d\\u0549\\u0545\\u0531\\u0546\",\"\\u0531\\u0550\\u0539\\u0548\\u0552\\u0550 \\u0544\\u0535\\u054d\\u0549\\u0545\\u0531\\u0546\",\"\\u0531\\u0550\\u0539\\u0548\\u0552\\u0550 \\u0544\\u0535\\u054d\\u0549\\u0545\\u0531\\u0546\",\"\\u0531\\u0550\\u0539\\u0548\\u0552\\u0550 \\u0544\\u0535\\u054d\\u0549\\u0545\\u0531\\u0546\",\"\\u0531\\u0550\\u0539\\u0548\\u0552\\u0550 \\u0544\\u0535\\u054d\\u0549\\u0545\\u0531\\u0546\",\"\\u0531\\u0550\\u0539\\u0548\\u0552\\u0550 \\u0544\\u0535\\u054d\\u0549\\u0545\\u0531\\u0546\",\"\\u0531\\u0550\\u0539\\u0548\\u0552\\u0550 \\u0544\\u0535\\u054d\\u0549\\u0545\\u0531\\u0546\",\"\\u0531\\u0550\\u0539\\u0548\\u0552\\u0550 \\u0544\\u0535\\u054d\\u0549\\u0545\\u0531\\u0546\",\"\\u0531\\u0550\\u0539\\u0548\\u0552\\u0550 \\u0544\\u0535\\u054d\\u0549\\u0545\\u0531\\u0546\",\"\\u0531\\u0550\\u0539\\u0548\\u0552\\u0550 \\u0544\\u0535\\u054d\\u0549\\u0545\\u0531\\u0546\",\"\\u0531\\u0550\\u0539\\u0548\\u0552\\u0550 \\u0544\\u0535\\u054d\\u0549\\u0545\\u0531\\u0546\",\"\\u0531\\u0550\\u0539\\u0548\\u0552\\u0550 \\u0544\\u0535\\u054d\\u0549\\u0545\\u0531\\u0546\",\"\\u0531\\u0550\\u0539\\u0548\\u0552\\u0550 \\u0544\\u0535\\u054d\\u0549\\u0545\\u0531\\u0546\",\"\\u0531\\u0550\\u0539\\u0548\\u0552\\u0550 \\u0544\\u0535\\u054d\\u0549\\u0545\\u0531\\u0546\",\"\\u0531\\u0550\\u0539\\u0548\\u0552\\u0550 \\u0544\\u0535\\u054d\\u0549\\u0545\\u0531\\u0546\",\"\\u0531\\u0550\\u0539\\u0548\\u0552\\u0550 \\u0544\\u0535\\u054d\\u0549\\u0545\\u0531\\u0546\",\"\\u0531\\u0550\\u0539\\u0548\\u0552\\u0550 \\u0544\\u0535\\u054d\\u0549\\u0545\\u0531\\u0546\",\"\\u0531\\u0550\\u0539\\u0548\\u0552\\u0550 \\u0544\\u0535\\u054d\\u0549\\u0545\\u0531\\u0546\",\"\\u0531\\u0550\\u0539\\u0548\\u0552\\u0550 \\u0544\\u0535\\u054d\\u0549\\u0545\\u0531\\u0546\",\"\\u0531\\u0550\\u0539\\u0548\\u0552\\u0550 \\u0544\\u0535\\u054d\\u0549\\u0545\\u0531\\u0546\",\"\\u0531\\u0550\\u0539\\u0548\\u0552\\u0550 \\u0544\\u0535\\u054d\\u0549\\u0545\\u0531\\u0546\",\"\\u0531\\u0550\\u0539\\u0548\\u0552\\u0550 \\u0544\\u0535\\u054d\\u0549\\u0545\\u0531\\u0546\",\"\\u0531\\u0550\\u0539\\u0548\\u0552\\u0550 \\u0544\\u0535\\u054d\\u0549\\u0545\\u0531\\u0546\",\"\\u0531\\u0550\\u0539\\u0548\\u0552\\u0550 \\u0544\\u0535\\u054d\\u0549\\u0545\\u0531\\u0546\",\"\\u054c\\u0548\\u0552\\u0532\\u0535\\u0546 \\u0540\\u0531\\u053d\\u054e\\u0535\\u0550\\u0534\\u0545\\u0531\\u0546\",\"\\u054c\\u0548\\u0552\\u0532\\u0535\\u0546 \\u0540\\u0531\\u053d\\u054e\\u0535\\u0550\\u0534\\u0545\\u0531\\u0546\",\"\\u054c\\u0548\\u0552\\u0532\\u0535\\u0546 \\u0540\\u0531\\u053d\\u054e\\u0535\\u0550\\u0534\\u0545\\u0531\\u0546\",\"\\u054c\\u0548\\u0552\\u0532\\u0535\\u0546 \\u0540\\u0531\\u053d\\u054e\\u0535\\u0550\\u0534\\u0545\\u0531\\u0546\",\"\\u054c\\u0548\\u0552\\u0532\\u0535\\u0546 \\u0540\\u0531\\u053d\\u054e\\u0535\\u0550\\u0534\\u0545\\u0531\\u0546\",\"\\u054c\\u0548\\u0552\\u0532\\u0535\\u0546 \\u0540\\u0531\\u053d\\u054e\\u0535\\u0550\\u0534\\u0545\\u0531\\u0546\",\"\\u054c\\u0548\\u0552\\u0532\\u0535\\u0546 \\u0540\\u0531\\u053d\\u054e\\u0535\\u0550\\u0534\\u0545\\u0531\\u0546\",\"\\u054c\\u0548\\u0552\\u0532\\u0535\\u0546 \\u0540\\u0531\\u053d\\u054e\\u0535\\u0550\\u0534\\u0545\\u0531\\u0546\",\"\\u054c\\u0548\\u0552\\u0532\\u0535\\u0546 \\u0540\\u0531\\u053d\\u054e\\u0535\\u0550\\u0534\\u0545\\u0531\\u0546\",\"\\u054c\\u0548\\u0552\\u0532\\u0535\\u0546 \\u0540\\u0531\\u053d\\u054e\\u0535\\u0550\\u0534\\u0545\\u0531\\u0546\",\"\\u054c\\u0548\\u0552\\u0532\\u0535\\u0546 \\u0540\\u0531\\u053d\\u054e\\u0535\\u0550\\u0534\\u0545\\u0531\\u0546\",\"\\u054c\\u0548\\u0552\\u0532\\u0535\\u0546 \\u0540\\u0531\\u053d\\u054e\\u0535\\u0550\\u0534\\u0545\\u0531\\u0546\",\"\\u054c\\u0548\\u0552\\u0532\\u0535\\u0546 \\u0540\\u0531\\u053d\\u054e\\u0535\\u0550\\u0534\\u0545\\u0531\\u0546\",\"\\u054c\\u0548\\u0552\\u0532\\u0535\\u0546 \\u0540\\u0531\\u053d\\u054e\\u0535\\u0550\\u0534\\u0545\\u0531\\u0546\",\"\\u054c\\u0548\\u0552\\u0532\\u0535\\u0546 \\u0540\\u0531\\u053d\\u054e\\u0535\\u0550\\u0534\\u0545\\u0531\\u0546\",\"\\u054c\\u0548\\u0552\\u0532\\u0535\\u0546 \\u0540\\u0531\\u053d\\u054e\\u0535\\u0550\\u0534\\u0545\\u0531\\u0546\",\"\\u054c\\u0548\\u0552\\u0532\\u0535\\u0546 \\u0540\\u0531\\u053d\\u054e\\u0535\\u0550\\u0534\\u0545\\u0531\\u0546\",\"\\u054c\\u0548\\u0552\\u0532\\u0535\\u0546 \\u0540\\u0531\\u053d\\u054e\\u0535\\u0550\\u0534\\u0545\\u0531\\u0546\",\"\\u054c\\u0548\\u0552\\u0532\\u0535\\u0546 \\u0540\\u0531\\u053d\\u054e\\u0535\\u0550\\u0534\\u0545\\u0531\\u0546\",\"\\u054c\\u0548\\u0552\\u0532\\u0535\\u0546 \\u0540\\u0531\\u053d\\u054e\\u0535\\u0550\\u0534\\u0545\\u0531\\u0546\",\"\\u054c\\u0548\\u0552\\u0532\\u0535\\u0546 \\u0540\\u0531\\u053d\\u054e\\u0535\\u0550\\u0534\\u0545\\u0531\\u0546\",\"\\u054c\\u0548\\u0552\\u0532\\u0535\\u0546 \\u0540\\u0531\\u053d\\u054e\\u0535\\u0550\\u0534\\u0545\\u0531\\u0546\",\"\\u054c\\u0548\\u0552\\u0532\\u0535\\u0546 \\u0540\\u0531\\u053d\\u054e\\u0535\\u0550\\u0534\\u0545\\u0531\\u0546\",\"\\u054c\\u0548\\u0552\\u0532\\u0535\\u0546 \\u0540\\u0531\\u053d\\u054e\\u0535\\u0550\\u0534\\u0545\\u0531\\u0546\",\"\\u054c\\u0548\\u0552\\u0532\\u0535\\u0546 \\u0540\\u0531\\u053d\\u054e\\u0535\\u0550\\u0534\\u0545\\u0531\\u0546\",\"\\u054c\\u0548\\u0552\\u0532\\u0535\\u0546 \\u0540\\u0531\\u053d\\u054e\\u0535\\u0550\\u0534\\u0545\\u0531\\u0546\",\"\\u054c\\u0548\\u0552\\u0532\\u0535\\u0546 \\u0540\\u0531\\u053d\\u054e\\u0535\\u0550\\u0534\\u0545\\u0531\\u0546\",\"\\u054c\\u0548\\u0552\\u0532\\u0535\\u0546 \\u0540\\u0531\\u053d\\u054e\\u0535\\u0550\\u0534\\u0545\\u0531\\u0546\",\"\\u054c\\u0548\\u0552\\u0532\\u0535\\u0546 \\u0540\\u0531\\u053d\\u054e\\u0535\\u0550\\u0534\\u0545\\u0531\\u0546\",\"\\u054c\\u0548\\u0552\\u0532\\u0535\\u0546 \\u0540\\u0531\\u053d\\u054e\\u0535\\u0550\\u0534\\u0545\\u0531\\u0546\",\"\\u054c\\u0548\\u0552\\u0532\\u0535\\u0546 \\u0540\\u0531\\u053d\\u054e\\u0535\\u0550\\u0534\\u0545\\u0531\\u0546\",\"\\u054c\\u0548\\u0552\\u0532\\u0535\\u0546 \\u0540\\u0531\\u053d\\u054e\\u0535\\u0550\\u0534\\u0545\\u0531\\u0546\",\"\\u054c\\u0548\\u0552\\u0532\\u0535\\u0546 \\u0540\\u0531\\u053d\\u054e\\u0535\\u0550\\u0534\\u0545\\u0531\\u0546\",\"\\u054c\\u0548\\u0552\\u0532\\u0535\\u0546 \\u0540\\u0531\\u053d\\u054e\\u0535\\u0550\\u0534\\u0545\\u0531\\u0546\",\"\\u054c\\u0548\\u0552\\u0532\\u0535\\u0546 \\u0540\\u0531\\u053d\\u054e\\u0535\\u0550\\u0534\\u0545\\u0531\\u0546\",\"\\u054c\\u0548\\u0552\\u0532\\u0535\\u0546 \\u0540\\u0531\\u053d\\u054e\\u0535\\u0550\\u0534\\u0545\\u0531\\u0546\",\"\\u054c\\u0548\\u0552\\u0532\\u0535\\u0546 \\u0540\\u0531\\u053d\\u054e\\u0535\\u0550\\u0534\\u0545\\u0531\\u0546\",\"\\u054c\\u0548\\u0552\\u0532\\u0535\\u0546 \\u0540\\u0531\\u053d\\u054e\\u0535\\u0550\\u0534\\u0545\\u0531\\u0546\",\"\\u054c\\u0548\\u0552\\u0532\\u0535\\u0546 \\u0540\\u0531\\u053d\\u054e\\u0535\\u0550\\u0534\\u0545\\u0531\\u0546\",\"\\u054c\\u0548\\u0552\\u0532\\u0535\\u0546 \\u0540\\u0531\\u053d\\u054e\\u0535\\u0550\\u0534\\u0545\\u0531\\u0546\",\"\\u054c\\u0548\\u0552\\u0532\\u0535\\u0546 \\u0540\\u0531\\u053d\\u054e\\u0535\\u0550\\u0534\\u0545\\u0531\\u0546\",\"\\u054c\\u0548\\u0552\\u0532\\u0535\\u0546 \\u0540\\u0531\\u053d\\u054e\\u0535\\u0550\\u0534\\u0545\\u0531\\u0546\",\"\\u054c\\u0548\\u0552\\u0532\\u0535\\u0546 \\u0540\\u0531\\u053d\\u054e\\u0535\\u0550\\u0534\\u0545\\u0531\\u0546\",\"\\u054c\\u0548\\u0552\\u0532\\u0535\\u0546 \\u0540\\u0531\\u053d\\u054e\\u0535\\u0550\\u0534\\u0545\\u0531\\u0546\",\"\\u054c\\u0548\\u0552\\u0532\\u0535\\u0546 \\u0540\\u0531\\u053d\\u054e\\u0535\\u0550\\u0534\\u0545\\u0531\\u0546\",\"\\u054c\\u0548\\u0552\\u0532\\u0535\\u0546 \\u0540\\u0531\\u053d\\u054e\\u0535\\u0550\\u0534\\u0545\\u0531\\u0546\",\"\\u054c\\u0548\\u0552\\u0532\\u0535\\u0546 \\u0540\\u0531\\u053d\\u054e\\u0535\\u0550\\u0534\\u0545\\u0531\\u0546\",\"\\u054c\\u0548\\u0552\\u0532\\u0535\\u0546 \\u0540\\u0531\\u053d\\u054e\\u0535\\u0550\\u0534\\u0545\\u0531\\u0546\",\"\\u054c\\u0548\\u0552\\u0532\\u0535\\u0546 \\u0540\\u0531\\u053d\\u054e\\u0535\\u0550\\u0534\\u0545\\u0531\\u0546\",\"\\u054c\\u0548\\u0552\\u0532\\u0535\\u0546 \\u0540\\u0531\\u053d\\u054e\\u0535\\u0550\\u0534\\u0545\\u0531\\u0546\",\"\\u054c\\u0548\\u0552\\u0532\\u0535\\u0546 \\u0540\\u0531\\u053d\\u054e\\u0535\\u0550\\u0534\\u0545\\u0531\\u0546\",\"\\u054c\\u0548\\u0552\\u0532\\u0535\\u0546 \\u0540\\u0531\\u053d\\u054e\\u0535\\u0550\\u0534\\u0545\\u0531\\u0546\",\"\\u054c\\u0548\\u0552\\u0532\\u0535\\u0546 \\u0540\\u0531\\u053d\\u054e\\u0535\\u0550\\u0534\\u0545\\u0531\\u0546\",\"\\u054c\\u0548\\u0552\\u0532\\u0535\\u0546 \\u0540\\u0531\\u053d\\u054e\\u0535\\u0550\\u0534\\u0545\\u0531\\u0546\",\"\\u054c\\u0548\\u0552\\u0532\\u0535\\u0546 \\u0540\\u0531\\u053d\\u054e\\u0535\\u0550\\u0534\\u0545\\u0531\\u0546\",\"\\u054c\\u0548\\u0552\\u0532\\u0535\\u0546 \\u0540\\u0531\\u053d\\u054e\\u0535\\u0550\\u0534\\u0545\\u0531\\u0546\",\"\\u054c\\u0548\\u0552\\u0532\\u0535\\u0546 \\u0540\\u0531\\u053d\\u054e\\u0535\\u0550\\u0534\\u0545\\u0531\\u0546\",\"\\u054c\\u0548\\u0552\\u0532\\u0535\\u0546 \\u0540\\u0531\\u053d\\u054e\\u0535\\u0550\\u0534\\u0545\\u0531\\u0546\",\"\\u054c\\u0548\\u0552\\u0532\\u0535\\u0546 \\u0540\\u0531\\u053d\\u054e\\u0535\\u0550\\u0534\\u0545\\u0531\\u0546\",\"\\u054c\\u0548\\u0552\\u0532\\u0535\\u0546 \\u0540\\u0531\\u053d\\u054e\\u0535\\u0550\\u0534\\u0545\\u0531\\u0546\",\"\\u054c\\u0548\\u0552\\u0532\\u0535\\u0546 \\u0540\\u0531\\u053d\\u054e\\u0535\\u0550\\u0534\\u0545\\u0531\\u0546\",\"\\u054c\\u0548\\u0552\\u0532\\u0535\\u0546 \\u0540\\u0531\\u053d\\u054e\\u0535\\u0550\\u0534\\u0545\\u0531\\u0546\",\"\\u054c\\u0548\\u0552\\u0532\\u0535\\u0546 \\u0540\\u0531\\u053d\\u054e\\u0535\\u0550\\u0534\\u0545\\u0531\\u0546\",\"\\u054c\\u0548\\u0552\\u0532\\u0535\\u0546 \\u0540\\u0531\\u053d\\u054e\\u0535\\u0550\\u0534\\u0545\\u0531\\u0546\",\"\\u054c\\u0548\\u0552\\u0532\\u0535\\u0546 \\u0540\\u0531\\u053d\\u054e\\u0535\\u0550\\u0534\\u0545\\u0531\\u0546\",\"\\u054c\\u0548\\u0552\\u0532\\u0535\\u0546 \\u0540\\u0531\\u053d\\u054e\\u0535\\u0550\\u0534\\u0545\\u0531\\u0546\",\"\\u054c\\u0548\\u0552\\u0532\\u0535\\u0546 \\u0540\\u0531\\u053d\\u054e\\u0535\\u0550\\u0534\\u0545\\u0531\\u0546\",\"\\u054c\\u0548\\u0552\\u0532\\u0535\\u0546 \\u0540\\u0531\\u053d\\u054e\\u0535\\u0550\\u0534\\u0545\\u0531\\u0546\",\"\\u054c\\u0548\\u0552\\u0532\\u0535\\u0546 \\u0540\\u0531\\u053d\\u054e\\u0535\\u0550\\u0534\\u0545\\u0531\\u0546\",\"\\u054c\\u0548\\u0552\\u0532\\u0535\\u0546 \\u0540\\u0531\\u053d\\u054e\\u0535\\u0550\\u0534\\u0545\\u0531\\u0546\",\"\\u054c\\u0548\\u0552\\u0532\\u0535\\u0546 \\u0540\\u0531\\u053d\\u054e\\u0535\\u0550\\u0534\\u0545\\u0531\\u0546\",\"\\u054c\\u0548\\u0552\\u0532\\u0535\\u0546 \\u0540\\u0531\\u053d\\u054e\\u0535\\u0550\\u0534\\u0545\\u0531\\u0546\",\"\\u054c\\u0548\\u0552\\u0532\\u0535\\u0546 \\u0540\\u0531\\u053d\\u054e\\u0535\\u0550\\u0534\\u0545\\u0531\\u0546\",\"\\u054c\\u0548\\u0552\\u0532\\u0535\\u0546 \\u0540\\u0531\\u053d\\u054e\\u0535\\u0550\\u0534\\u0545\\u0531\\u0546\",\"\\u054c\\u0548\\u0552\\u0532\\u0535\\u0546 \\u0540\\u0531\\u053d\\u054e\\u0535\\u0550\\u0534\\u0545\\u0531\\u0546\",\"\\u054c\\u0548\\u0552\\u0532\\u0535\\u0546 \\u0540\\u0531\\u053d\\u054e\\u0535\\u0550\\u0534\\u0545\\u0531\\u0546\",\"\\u054c\\u0548\\u0552\\u0532\\u0535\\u0546 \\u0540\\u0531\\u053d\\u054e\\u0535\\u0550\\u0534\\u0545\\u0531\\u0546\",\"\\u054c\\u0548\\u0552\\u0532\\u0535\\u0546 \\u0540\\u0531\\u053d\\u054e\\u0535\\u0550\\u0534\\u0545\\u0531\\u0546\",\"\\u054c\\u0548\\u0552\\u0532\\u0535\\u0546 \\u0540\\u0531\\u053d\\u054e\\u0535\\u0550\\u0534\\u0545\\u0531\\u0546\",\"\\u054c\\u0548\\u0552\\u0532\\u0535\\u0546 \\u0540\\u0531\\u053d\\u054e\\u0535\\u0550\\u0534\\u0545\\u0531\\u0546\",\"\\u054c\\u0548\\u0552\\u0532\\u0535\\u0546 \\u0540\\u0531\\u053d\\u054e\\u0535\\u0550\\u0534\\u0545\\u0531\\u0546\",\"\\u054d\\u0531\\u0545\\u0531\\u0539-\\u0546\\u0548\\u054e\\u0531\",\"\\u054d\\u0531\\u0545\\u0531\\u0539-\\u0546\\u0548\\u054e\\u0531\",\"\\u054d\\u0531\\u0545\\u0531\\u0539-\\u0546\\u0548\\u054e\\u0531\",\"\\u054d\\u0531\\u0545\\u0531\\u0539-\\u0546\\u0548\\u054e\\u0531\",\"\\u054d\\u0531\\u0545\\u0531\\u0539-\\u0546\\u0548\\u054e\\u0531\",\"\\u054d\\u0531\\u0545\\u0531\\u0539-\\u0546\\u0548\\u054e\\u0531\",\"\\u054d\\u0531\\u0545\\u0531\\u0539-\\u0546\\u0548\\u054e\\u0531\",\"\\u054d\\u0531\\u0545\\u0531\\u0539-\\u0546\\u0548\\u054e\\u0531\",\"\\u054d\\u0531\\u0545\\u0531\\u0539-\\u0546\\u0548\\u054e\\u0531\",\"\\u054d\\u0531\\u0545\\u0531\\u0539-\\u0546\\u0548\\u054e\\u0531\",\"\\u054d\\u0531\\u0545\\u0531\\u0539-\\u0546\\u0548\\u054e\\u0531\",\"\\u054d\\u0531\\u0545\\u0531\\u0539-\\u0546\\u0548\\u054e\\u0531\",\"\\u054d\\u0531\\u0545\\u0531\\u0539-\\u0546\\u0548\\u054e\\u0531\",\"\\u054d\\u0531\\u0545\\u0531\\u0539-\\u0546\\u0548\\u054e\\u0531\",\"\\u054d\\u0531\\u0545\\u0531\\u0539-\\u0546\\u0548\\u054e\\u0531\",\"\\u054d\\u0531\\u0545\\u0531\\u0539-\\u0546\\u0548\\u054e\\u0531\",\"\\u053f\\u0548\\u0544\\u053b\\u054f\\u0531\\u054d\",\"\\u053f\\u0548\\u0544\\u053b\\u054f\\u0531\\u054d\",\"\\u053f\\u0548\\u0544\\u053b\\u054f\\u0531\\u054d\",\"\\u053f\\u0548\\u0544\\u053b\\u054f\\u0531\\u054d\",\"\\u053f\\u0548\\u0544\\u053b\\u054f\\u0531\\u054d\",\"\\u053f\\u0548\\u0544\\u053b\\u054f\\u0531\\u054d\",\"\\u053f\\u0548\\u0544\\u053b\\u054f\\u0531\\u054d\",\"\\u053f\\u0548\\u0544\\u053b\\u054f\\u0531\\u054d\",\"\\u053f\\u0548\\u0544\\u053b\\u054f\\u0531\\u054d\",\"\\u053f\\u0548\\u0544\\u053b\\u054f\\u0531\\u054d\",\"\\u053f\\u0548\\u0544\\u053b\\u054f\\u0531\\u054d\",\"\\u053f\\u0548\\u0544\\u053b\\u054f\\u0531\\u054d\",\"\\u053f\\u0548\\u0544\\u053b\\u054f\\u0531\\u054d\",\"\\u053f\\u0548\\u0544\\u053b\\u054f\\u0531\\u054d\",\"\\u053f\\u0548\\u0544\\u053b\\u054f\\u0531\\u054d\",\"\\u053f\\u0548\\u0544\\u053b\\u054f\\u0531\\u054d\",\"\\u053f\\u0548\\u0544\\u053b\\u054f\\u0531\\u054d\",\"\\u053f\\u0548\\u0544\\u053b\\u054f\\u0531\\u054d\",\"\\u053f\\u0548\\u0544\\u053b\\u054f\\u0531\\u054d\",\"\\u053f\\u0548\\u0544\\u053b\\u054f\\u0531\\u054d\",\"\\u053f\\u0548\\u0544\\u053b\\u054f\\u0531\\u054d\",\"\\u053f\\u0548\\u0544\\u053b\\u054f\\u0531\\u054d\",\"\\u053f\\u0548\\u0544\\u053b\\u054f\\u0531\\u054d\",\"\\u053f\\u0548\\u0544\\u053b\\u054f\\u0531\\u054d\",\"\\u053f\\u0548\\u0544\\u053b\\u054f\\u0531\\u054d\",\"\\u053f\\u0548\\u0544\\u053b\\u054f\\u0531\\u054d\",\"\\u053f\\u0548\\u0544\\u053b\\u054f\\u0531\\u054d\",\"\\u053f\\u0548\\u0544\\u053b\\u054f\\u0531\\u054d\",\"\\u053f\\u0548\\u0544\\u053b\\u054f\\u0531\\u054d\",\"\\u053f\\u0548\\u0544\\u053b\\u054f\\u0531\\u054d\",\"\\u053f\\u0548\\u0544\\u053b\\u054f\\u0531\\u054d\",\"\\u053f\\u0548\\u0544\\u053b\\u054f\\u0531\\u054d\",\"\\u053f\\u0548\\u0544\\u053b\\u054f\\u0531\\u054d\",\"\\u053f\\u0548\\u0544\\u053b\\u054f\\u0531\\u054d\",\"\\u053f\\u0548\\u0544\\u053b\\u054f\\u0531\\u054d\",\"\\u053f\\u0548\\u0544\\u053b\\u054f\\u0531\\u054d\",\"\\u053f\\u0548\\u0544\\u053b\\u054f\\u0531\\u054d\",\"\\u053f\\u0548\\u0544\\u053b\\u054f\\u0531\\u054d\",\"\\u053f\\u0548\\u0544\\u053b\\u054f\\u0531\\u054d\",\"\\u053f\\u0548\\u0544\\u053b\\u054f\\u0531\\u054d\",\"\\u053f\\u0548\\u0544\\u053b\\u054f\\u0531\\u054d\",\"\\u053f\\u0548\\u0544\\u053b\\u054f\\u0531\\u054d\",\"\\u053f\\u0548\\u0544\\u053b\\u054f\\u0531\\u054d\",\"\\u053f\\u0548\\u0544\\u053b\\u054f\\u0531\\u054d\",\"\\u053f\\u0548\\u0544\\u053b\\u054f\\u0531\\u054d\",\"\\u053f\\u0548\\u0544\\u053b\\u054f\\u0531\\u054d\",\"\\u053f\\u0548\\u0544\\u053b\\u054f\\u0531\\u054d\",\"\\u053f\\u0548\\u0544\\u053b\\u054f\\u0531\\u054d\",\"\\u053f\\u0548\\u0544\\u053b\\u054f\\u0531\\u054d\",\"\\u053f\\u0548\\u0544\\u053b\\u054f\\u0531\\u054d\",\"\\u053f\\u0548\\u0544\\u053b\\u054f\\u0531\\u054d\",\"\\u053f\\u0548\\u0544\\u053b\\u054f\\u0531\\u054d\",\"\\u053f\\u0548\\u0544\\u053b\\u054f\\u0531\\u054d\",\"\\u053f\\u0548\\u0544\\u053b\\u054f\\u0531\\u054d\",\"\\u053f\\u0548\\u0544\\u053b\\u054f\\u0531\\u054d\",\"\\u053f\\u0548\\u0544\\u053b\\u054f\\u0531\\u054d\",\"\\u053f\\u0548\\u0544\\u053b\\u054f\\u0531\\u054d\",\"\\u053f\\u0548\\u0544\\u053b\\u054f\\u0531\\u054d\",\"\\u053f\\u0548\\u0544\\u053b\\u054f\\u0531\\u054d\",\"\\u053f\\u0548\\u0544\\u053b\\u054f\\u0531\\u054d\",\"\\u053f\\u0548\\u0544\\u053b\\u054f\\u0531\\u054d\",\"\\u053f\\u0548\\u0544\\u053b\\u054f\\u0531\\u054d\",\"HT Hayko\",\"HT Hayko\",\"HT Hayko\",\"HT Hayko\",\"HT Hayko\",\"HT Hayko\",\"HT Hayko\",\"HT Hayko\",\"HT Hayko\",\"HT Hayko\",\"HT Hayko\",\"HT Hayko\",\"HT Hayko\",\"HT Hayko\",\"HT Hayko\",\"HT Hayko\",\"Empyray\",\"Empyray\",\"Empyray\",\"Empyray\",\"Empyray\",\"Empyray\",\"Empyray\",\"Empyray\",\"Empyray\",\"Empyray\",\" Lav Eli\",\" Lav Eli\",\" Lav Eli\",\" Lav Eli\",\" Lav Eli\",\" Lav Eli\",\" Lav Eli\",\" Lav Eli\",\" Lav Eli\",\"Silva Hakobyan\",\"Silva Hakobyan\",\"Silva Hakobyan\",\"Silva Hakobyan\",\"Silva Hakobyan\",\"Silva Hakobyan\",\"Silva Hakobyan\",\"Silva Hakobyan\",\"Silva Hakobyan\",\"Silva Hakobyan\",\"Silva Hakobyan\",\"Silva Hakobyan\",\"Silva Hakobyan\",\"Silva Hakobyan\",\"Silva Hakobyan\",\"Silva Hakobyan\",\"Silva Hakobyan\",\"Silva Hakobyan\",\"Silva Hakobyan\",\"Silva Hakobyan\",\"\\u0531\\u0576\\u0564\\u0580\\u0565\",\"\\u0531\\u0576\\u0564\\u0580\\u0565\",\"\\u0531\\u0576\\u0564\\u0580\\u0565\",\"\\u0531\\u0576\\u0564\\u0580\\u0565\",\"\\u0531\\u0576\\u0564\\u0580\\u0565\",\"\\u0531\\u0576\\u0564\\u0580\\u0565\",\"\\u0531\\u0576\\u0564\\u0580\\u0565\",\"\\u0531\\u0576\\u0564\\u0580\\u0565\",\"\\u0531\\u0576\\u0564\\u0580\\u0565\",\"\\u0531\\u0576\\u0564\\u0580\\u0565\",\"\\u0531\\u0576\\u0564\\u0580\\u0565\",\"\\u0531\\u0576\\u0564\\u0580\\u0565\",\"\\u053c\\u056b\\u056c\\u056b\\u0569 \\u0540\\u0578\\u057e\\u0570\\u0561\\u0576\\u0576\\u056b\\u057d\\u0575\\u0561\\u0576\",\"\\u053c\\u056b\\u056c\\u056b\\u0569 \\u0540\\u0578\\u057e\\u0570\\u0561\\u0576\\u0576\\u056b\\u057d\\u0575\\u0561\\u0576\",\"\\u053c\\u056b\\u056c\\u056b\\u0569 \\u0540\\u0578\\u057e\\u0570\\u0561\\u0576\\u0576\\u056b\\u057d\\u0575\\u0561\\u0576\",\"\\u053c\\u056b\\u056c\\u056b\\u0569 \\u0540\\u0578\\u057e\\u0570\\u0561\\u0576\\u0576\\u056b\\u057d\\u0575\\u0561\\u0576\",\"\\u053c\\u056b\\u056c\\u056b\\u0569 \\u0540\\u0578\\u057e\\u0570\\u0561\\u0576\\u0576\\u056b\\u057d\\u0575\\u0561\\u0576\",\"\\u053c\\u056b\\u056c\\u056b\\u0569 \\u0540\\u0578\\u057e\\u0570\\u0561\\u0576\\u0576\\u056b\\u057d\\u0575\\u0561\\u0576\",\"\\u053c\\u056b\\u056c\\u056b\\u0569 \\u0540\\u0578\\u057e\\u0570\\u0561\\u0576\\u0576\\u056b\\u057d\\u0575\\u0561\\u0576\",\"\\u053c\\u056b\\u056c\\u056b\\u0569 \\u0540\\u0578\\u057e\\u0570\\u0561\\u0576\\u0576\\u056b\\u057d\\u0575\\u0561\\u0576\",\"\\u053c\\u056b\\u056c\\u056b\\u0569 \\u0540\\u0578\\u057e\\u0570\\u0561\\u0576\\u0576\\u056b\\u057d\\u0575\\u0561\\u0576\",\"\\u053c\\u056b\\u056c\\u056b\\u0569 \\u0540\\u0578\\u057e\\u0570\\u0561\\u0576\\u0576\\u056b\\u057d\\u0575\\u0561\\u0576\",\"\\u053c\\u056b\\u056c\\u056b\\u0569 \\u0540\\u0578\\u057e\\u0570\\u0561\\u0576\\u0576\\u056b\\u057d\\u0575\\u0561\\u0576\",\"\\u053c\\u056b\\u056c\\u056b\\u0569 \\u0540\\u0578\\u057e\\u0570\\u0561\\u0576\\u0576\\u056b\\u057d\\u0575\\u0561\\u0576\",\"\\u053c\\u056b\\u056c\\u056b\\u0569 \\u0540\\u0578\\u057e\\u0570\\u0561\\u0576\\u0576\\u056b\\u057d\\u0575\\u0561\\u0576\",\"\\u053c\\u056b\\u056c\\u056b\\u0569 \\u0540\\u0578\\u057e\\u0570\\u0561\\u0576\\u0576\\u056b\\u057d\\u0575\\u0561\\u0576\",\"\\u053c\\u056b\\u056c\\u056b\\u0569 \\u0540\\u0578\\u057e\\u0570\\u0561\\u0576\\u0576\\u056b\\u057d\\u0575\\u0561\\u0576\",\"\\u053c\\u056b\\u056c\\u056b\\u0569 \\u0540\\u0578\\u057e\\u0570\\u0561\\u0576\\u0576\\u056b\\u057d\\u0575\\u0561\\u0576\",\"\\u053c\\u056b\\u056c\\u056b\\u0569 \\u0540\\u0578\\u057e\\u0570\\u0561\\u0576\\u0576\\u056b\\u057d\\u0575\\u0561\\u0576\",\"\\u053c\\u056b\\u056c\\u056b\\u0569 \\u0540\\u0578\\u057e\\u0570\\u0561\\u0576\\u0576\\u056b\\u057d\\u0575\\u0561\\u0576\",\"\\u053c\\u056b\\u056c\\u056b\\u0569 \\u0540\\u0578\\u057e\\u0570\\u0561\\u0576\\u0576\\u056b\\u057d\\u0575\\u0561\\u0576\",\"\\u053c\\u056b\\u056c\\u056b\\u0569 \\u0540\\u0578\\u057e\\u0570\\u0561\\u0576\\u0576\\u056b\\u057d\\u0575\\u0561\\u0576\",\"\\u053c\\u056b\\u056c\\u056b\\u0569 \\u0540\\u0578\\u057e\\u0570\\u0561\\u0576\\u0576\\u056b\\u057d\\u0575\\u0561\\u0576\",\"\\u053c\\u056b\\u056c\\u056b\\u0569 \\u0540\\u0578\\u057e\\u0570\\u0561\\u0576\\u0576\\u056b\\u057d\\u0575\\u0561\\u0576\",\"\\u053c\\u056b\\u056c\\u056b\\u0569 \\u0540\\u0578\\u057e\\u0570\\u0561\\u0576\\u0576\\u056b\\u057d\\u0575\\u0561\\u0576\",\"\\u053c\\u056b\\u056c\\u056b\\u0569 \\u0540\\u0578\\u057e\\u0570\\u0561\\u0576\\u0576\\u056b\\u057d\\u0575\\u0561\\u0576\",\"\\u054d\\u056b\\u0580\\u0578\\u0582\\u0577\\u0578\",\"\\u054d\\u056b\\u0580\\u0578\\u0582\\u0577\\u0578\",\"\\u054d\\u056b\\u0580\\u0578\\u0582\\u0577\\u0578\",\"\\u054d\\u056b\\u0580\\u0578\\u0582\\u0577\\u0578\",\"\\u054d\\u056b\\u0580\\u0578\\u0582\\u0577\\u0578\",\"\\u054d\\u056b\\u0580\\u0578\\u0582\\u0577\\u0578\",\"\\u054d\\u056b\\u0580\\u0578\\u0582\\u0577\\u0578\",\"\\u054d\\u056b\\u0580\\u0578\\u0582\\u0577\\u0578\",\"\\u054d\\u056b\\u0580\\u0578\\u0582\\u0577\\u0578\",\"\\u054d\\u056b\\u0580\\u0578\\u0582\\u0577\\u0578\",\"\\u054d\\u056b\\u0580\\u0578\\u0582\\u0577\\u0578\",\"\\u054d\\u056b\\u0580\\u0578\\u0582\\u0577\\u0578\",\"\\u054d\\u056b\\u0580\\u0578\\u0582\\u0577\\u0578\",\"\\u054d\\u056b\\u0580\\u0578\\u0582\\u0577\\u0578\",\"\\u054d\\u056b\\u0580\\u0578\\u0582\\u0577\\u0578\",\"\\u054d\\u056b\\u0580\\u0578\\u0582\\u0577\\u0578\",\"\\u054d\\u056b\\u0580\\u0578\\u0582\\u0577\\u0578\",\"\\u054d\\u056b\\u0580\\u0578\\u0582\\u0577\\u0578\",\"\\u054d\\u056b\\u0580\\u0578\\u0582\\u0577\\u0578\",\"\\u054d\\u056b\\u0580\\u0578\\u0582\\u0577\\u0578\",\"\\u054d\\u056b\\u0580\\u0578\\u0582\\u0577\\u0578\",\"\\u054d\\u056b\\u0580\\u0578\\u0582\\u0577\\u0578\",\"\\u054d\\u056b\\u0580\\u0578\\u0582\\u0577\\u0578\",\"\\u054d\\u056b\\u0580\\u0578\\u0582\\u0577\\u0578\",\"\\u054d\\u056b\\u0580\\u0578\\u0582\\u0577\\u0578\",\"\\u0544\\u056b\\u0570\\u0580\\u0561\\u0576 \\u053e\\u0561\\u057c\\u0578\\u0582\\u056f\\u0575\\u0561\\u0576\",\"\\u0544\\u056b\\u0570\\u0580\\u0561\\u0576 \\u053e\\u0561\\u057c\\u0578\\u0582\\u056f\\u0575\\u0561\\u0576\",\"\\u0544\\u056b\\u0570\\u0580\\u0561\\u0576 \\u053e\\u0561\\u057c\\u0578\\u0582\\u056f\\u0575\\u0561\\u0576\",\"\\u0544\\u056b\\u0570\\u0580\\u0561\\u0576 \\u053e\\u0561\\u057c\\u0578\\u0582\\u056f\\u0575\\u0561\\u0576\",\"\\u0544\\u056b\\u0570\\u0580\\u0561\\u0576 \\u053e\\u0561\\u057c\\u0578\\u0582\\u056f\\u0575\\u0561\\u0576\",\"\\u0544\\u056b\\u0570\\u0580\\u0561\\u0576 \\u053e\\u0561\\u057c\\u0578\\u0582\\u056f\\u0575\\u0561\\u0576\",\"\\u0544\\u056b\\u0570\\u0580\\u0561\\u0576 \\u053e\\u0561\\u057c\\u0578\\u0582\\u056f\\u0575\\u0561\\u0576\",\"\\u0544\\u056b\\u0570\\u0580\\u0561\\u0576 \\u053e\\u0561\\u057c\\u0578\\u0582\\u056f\\u0575\\u0561\\u0576\",\"\\u0544\\u056b\\u0570\\u0580\\u0561\\u0576 \\u053e\\u0561\\u057c\\u0578\\u0582\\u056f\\u0575\\u0561\\u0576\",\"\\u0544\\u056b\\u0570\\u0580\\u0561\\u0576 \\u053e\\u0561\\u057c\\u0578\\u0582\\u056f\\u0575\\u0561\\u0576\",\"\\u0544\\u056b\\u0570\\u0580\\u0561\\u0576 \\u053e\\u0561\\u057c\\u0578\\u0582\\u056f\\u0575\\u0561\\u0576\",\"\\u0544\\u056b\\u0570\\u0580\\u0561\\u0576 \\u053e\\u0561\\u057c\\u0578\\u0582\\u056f\\u0575\\u0561\\u0576\",\"\\u0544\\u056b\\u0570\\u0580\\u0561\\u0576 \\u053e\\u0561\\u057c\\u0578\\u0582\\u056f\\u0575\\u0561\\u0576\",\"\\u0544\\u056b\\u0570\\u0580\\u0561\\u0576 \\u053e\\u0561\\u057c\\u0578\\u0582\\u056f\\u0575\\u0561\\u0576\",\"\\u0544\\u056b\\u0570\\u0580\\u0561\\u0576 \\u053e\\u0561\\u057c\\u0578\\u0582\\u056f\\u0575\\u0561\\u0576\",\"\\u0544\\u056b\\u0570\\u0580\\u0561\\u0576 \\u053e\\u0561\\u057c\\u0578\\u0582\\u056f\\u0575\\u0561\\u0576\",\"\\u0544\\u056b\\u0570\\u0580\\u0561\\u0576 \\u053e\\u0561\\u057c\\u0578\\u0582\\u056f\\u0575\\u0561\\u0576\",\"\\u0544\\u056b\\u0570\\u0580\\u0561\\u0576 \\u053e\\u0561\\u057c\\u0578\\u0582\\u056f\\u0575\\u0561\\u0576\",\"Arame\",\"Arame\",\"Arame\",\"Arame\",\"Arame\",\"Arame\",\"Arame\",\"Arame\",\"Arame\",\"Razmik Amyan\",\"Razmik Amyan\",\"Razmik Amyan\",\"Razmik Amyan\",\"Razmik Amyan\",\"Razmik Amyan\",\"Razmik Amyan\",\"Razmik Amyan\",\"Razmik Amyan\",\"Razmik Amyan\",\"Razmik Amyan\",\"Razmik Amyan\",\"Razmik Amyan\",\"Razmik Amyan\",\"Razmik Amyan\",\"Razmik Amyan\",\"Razmik Amyan\",\"Razmik Amyan\",\"Harout Pamboukjian\",\"Harout Pamboukjian\",\"Harout Pamboukjian\",\"Harout Pamboukjian\",\"Harout Pamboukjian\",\"Harout Pamboukjian\",\"Harout Pamboukjian\",\"Harout Pamboukjian\",\"Harout Pamboukjian\",\"Harout Pamboukjian\",\"Harout Pamboukjian\",\"Harout Pamboukjian\",\"Harout Pamboukjian\",\"Harout Pamboukjian\",\"Harout Pamboukjian\",\"Harout Pamboukjian\",\"Harout Pamboukjian\",\"Harout Pamboukjian\",\"Harout Pamboukjian\",\"Harout Pamboukjian\",\"Harout Pamboukjian\",\"Harout Pamboukjian\",\"Harout Pamboukjian\",\"Harout Pamboukjian\",\"Harout Pamboukjian\",\"Harout Pamboukjian\",\"Harout Pamboukjian\",\"Harout Pamboukjian\",\"Harout Pamboukjian\",\"Harout Pamboukjian\",\"Harout Pamboukjian\",\"Harout Pamboukjian\",\"\\u0540\\u0561\\u0575\\u056f \\u0540\\u0561\\u056f\\u0578\\u0562\\u0575\\u0561\\u0576\",\"\\u0540\\u0561\\u0575\\u056f \\u0540\\u0561\\u056f\\u0578\\u0562\\u0575\\u0561\\u0576\",\"\\u0540\\u0561\\u0575\\u056f \\u0540\\u0561\\u056f\\u0578\\u0562\\u0575\\u0561\\u0576\",\"\\u0540\\u0561\\u0575\\u056f \\u0540\\u0561\\u056f\\u0578\\u0562\\u0575\\u0561\\u0576\",\"\\u0540\\u0561\\u0575\\u056f \\u0540\\u0561\\u056f\\u0578\\u0562\\u0575\\u0561\\u0576\",\"\\u0540\\u0561\\u0575\\u056f \\u0540\\u0561\\u056f\\u0578\\u0562\\u0575\\u0561\\u0576\",\"\\u0540\\u0561\\u0575\\u056f \\u0540\\u0561\\u056f\\u0578\\u0562\\u0575\\u0561\\u0576\",\"\\u0540\\u0561\\u0575\\u056f \\u0540\\u0561\\u056f\\u0578\\u0562\\u0575\\u0561\\u0576\",\"\\u0540\\u0561\\u0575\\u056f \\u0540\\u0561\\u056f\\u0578\\u0562\\u0575\\u0561\\u0576\",\"\\u0540\\u0561\\u0575\\u056f \\u0540\\u0561\\u056f\\u0578\\u0562\\u0575\\u0561\\u0576\",\"\\u0540\\u0561\\u0575\\u056f \\u0540\\u0561\\u056f\\u0578\\u0562\\u0575\\u0561\\u0576\",\"\\u0540\\u0561\\u0575\\u056f \\u0540\\u0561\\u056f\\u0578\\u0562\\u0575\\u0561\\u0576\",\"\\u0540\\u0561\\u0575\\u056f \\u0540\\u0561\\u056f\\u0578\\u0562\\u0575\\u0561\\u0576\",\"\\u0540\\u0561\\u0575\\u056f \\u0540\\u0561\\u056f\\u0578\\u0562\\u0575\\u0561\\u0576\",\"\\u0540\\u0561\\u0575\\u056f \\u0540\\u0561\\u056f\\u0578\\u0562\\u0575\\u0561\\u0576\",\"\\u0540\\u0561\\u0575\\u056f \\u0540\\u0561\\u056f\\u0578\\u0562\\u0575\\u0561\\u0576\",\"\\u0540\\u0561\\u0575\\u056f \\u0540\\u0561\\u056f\\u0578\\u0562\\u0575\\u0561\\u0576\",\"\\u0540\\u0561\\u0575\\u056f \\u0540\\u0561\\u056f\\u0578\\u0562\\u0575\\u0561\\u0576\",\"\\u0540\\u0561\\u0575\\u056f \\u0540\\u0561\\u056f\\u0578\\u0562\\u0575\\u0561\\u0576\",\"\\u0540\\u0561\\u0575\\u056f \\u0540\\u0561\\u056f\\u0578\\u0562\\u0575\\u0561\\u0576\",\"\\u0540\\u0561\\u0575\\u056f \\u0540\\u0561\\u056f\\u0578\\u0562\\u0575\\u0561\\u0576\",\"\\u0540\\u0561\\u0575\\u056f \\u0540\\u0561\\u056f\\u0578\\u0562\\u0575\\u0561\\u0576\",\"\\u0540\\u0561\\u0575\\u056f \\u0540\\u0561\\u056f\\u0578\\u0562\\u0575\\u0561\\u0576\",\"Aram MP3\",\"Aram MP3\",\"Arsen Safaryan\",\"Arsen Safaryan\",\"Arsen Safaryan\",\"Arsen Safaryan\",\"Arsen Safaryan\",\"Arsen Safaryan\",\"Arsen Safaryan\",\"Arsen Safaryan\",\"Arsen Safaryan\",\"Arsen Safaryan\",\"Arsen Safaryan\",\"Arsen Safaryan\",\"Arsen Safaryan\",\"Arsen Safaryan\",\"Arsen Safaryan\",\"Arsen Safaryan\",\"Arsen Safaryan\",\"Arsen Safaryan\",\"Arsen Safaryan\",\"Arsen Safaryan\",\"Arsen Safaryan\",\"Arsen Safaryan\",\"Arsen Safaryan\",\"Aram MP3\",\"Aram MP3\",\"Aram MP3\",\"Aram MP3\",\"Aram MP3\",\"Aram MP3\",\"Aram MP3\",\"Aram MP3\",\"Aram MP3\",\"Aram MP3\",\"Aram MP3\",\"Aram MP3\",\"Aram MP3\",\"Aram MP3\",\"Aram MP3\",\"Misho\",\"Misho\",\"Misho\",\"Misho\",\"Misho\",\"Misho\",\"Misho\",\"Misho\",\"Misho\",\"Misho\",\"Misho\",\"Misho\",\"Misho\",\"Misho\",\"Misho\",\"Misho\",\"Misho\",\"Misho\",\"Misho\",\"Misho\",\"Misho\",\"Misho\",\"Misho\",\"Misho\",\"Misho\",\"Misho\",\"Mi Qani Hogi\",\"Mi Qani Hogi\",\"Mi Qani Hogi\",\"Mi Qani Hogi\",\"Mi Qani Hogi\",\"Mi Qani Hogi\",\"Mi Qani Hogi\",\"Mi Qani Hogi\",\"Mi Qani Hogi\",\"Mi Qani Hogi\",\"Mi Qani Hogi\",\"Mi Qani Hogi\",\"Mi Qani Hogi\",\"Mi Qani Hogi\",\"Mi Qani Hogi\"],\"x0\":\" \",\"xaxis\":\"x\",\"y\":[0.5,0.6384615384615384,0.711340206185567,0.8777777777777778,0.6956521739130435,0.8653846153846154,0.6901408450704225,0.6604938271604939,0.9636363636363636,0.5895522388059702,0.8679245283018868,0.6222222222222222,0.5321100917431193,0.8156028368794326,0.8243243243243243,0.7142857142857143,0.7674418604651163,0.8283582089552238,0.6445783132530121,0.7073170731707317,0.8368794326241135,0.8064516129032258,0.8470588235294118,0.8111111111111111,0.8,0.6581196581196581,0.6814159292035398,0.49224806201550386,0.2793103448275862,0.7898089171974523,0.6356589147286822,0.6558441558441559,0.7222222222222222,0.66,1.0,0.7010309278350515,0.8071428571428572,0.6708860759493671,0.37,0.6666666666666666,0.7092198581560284,0.837037037037037,0.632768361581921,0.5258620689655172,0.8333333333333334,0.6228070175438597,0.7083333333333334,0.6519823788546255,0.6952789699570815,0.9,0.7804878048780488,0.5392156862745098,0.8455882352941176,0.6850393700787402,0.6502463054187192,0.76,0.6595744680851063,0.4897959183673469,0.5416666666666666,0.46534653465346537,0.7103448275862069,0.6744186046511628,0.8103448275862069,0.585635359116022,0.5641025641025641,0.5433070866141733,0.5661764705882353,0.58,0.7948717948717948,0.810126582278481,0.6829268292682927,0.6868686868686869,0.7542372881355932,0.4772727272727273,0.6206896551724138,0.5725190839694656,0.6237623762376238,0.723404255319149,0.75,0.5,0.35294117647058826,0.5486725663716814,0.5217391304347826,0.5135135135135135,0.5666666666666667,0.5932203389830508,0.6797385620915033,0.4485294117647059,0.6810344827586207,0.5581395348837209,0.6484848484848484,0.6142857142857143,0.5316455696202531,0.5568181818181818,0.5543478260869565,0.7662337662337663,0.5022026431718062,0.6272189349112426,0.6037735849056604,0.5,0.45614035087719296,0.7272727272727273,0.7222222222222222,0.5588235294117647,0.6428571428571429,0.5727272727272728,0.6330275229357798,0.7471264367816092,0.635036496350365,0.7878787878787878,0.7428571428571429,0.618421052631579,0.7037037037037037,0.4583333333333333,0.8109756097560976,0.6208791208791209,0.8142076502732241,0.5945945945945946,0.6363636363636364,0.9038461538461539,0.5303030303030303,0.8095238095238095,0.88,0.9545454545454546,0.7692307692307693,0.8378378378378378,0.4642857142857143,0.7741935483870968,0.7547169811320755,0.5606060606060606,0.6233766233766234,0.6688311688311688,0.7771084337349398,0.7484276729559748,0.7777777777777778,0.7531645569620253,0.8194444444444444,0.7935483870967742,0.536144578313253,0.6170212765957447,0.7478260869565218,0.7604790419161677,0.5454545454545454,0.7134831460674157,0.7706422018348624,0.7981651376146789,0.5425531914893617,0.6407766990291263,0.6868686868686869,0.8793103448275862,0.4675324675324675,0.9782608695652174,0.7678571428571429,0.31343283582089554,0.8709677419354839,0.9032258064516129,0.4489795918367347,0.3274336283185841,0.6,0.3230769230769231,0.7362637362637363,0.4166666666666667,0.42857142857142855,0.5645161290322581,0.36666666666666664,0.639344262295082,0.5490196078431373,0.5172413793103449,0.6,0.7254901960784313,0.6086956521739131,0.8181818181818182,0.78,0.6582278481012658,0.44565217391304346,0.4864864864864865,0.5373134328358209,0.4322033898305085,0.4864864864864865,0.8717948717948718,0.6176470588235294,0.6779661016949152,0.7045454545454546,0.82,0.6413043478260869,0.7547169811320755,0.39344262295081966,0.7622950819672131,0.580952380952381,0.8166666666666667,0.4444444444444444,0.8,0.7307692307692307,0.6065573770491803,0.4888888888888889,0.5666666666666667,0.6666666666666666,0.4857142857142857,0.6615384615384615,0.6935483870967742,0.3655913978494624,0.7241379310344828,0.42528735632183906,0.7474747474747475,0.44,0.3783783783783784,0.4745762711864407,0.4222222222222222,0.7121212121212122,0.6136919315403423,0.6096774193548387,0.7557471264367817,0.46875,0.6919431279620853,0.5679012345679012,0.5597189695550351,0.6240208877284595,0.6705882352941176,0.5850622406639004,0.5544041450777202,0.6287425149700598,0.5129151291512916,0.5983263598326359,0.4943820224719101,0.391025641025641,0.40145985401459855,0.8529411764705882,0.35106382978723405,0.37383177570093457,0.3963963963963964,0.5,0.6818181818181818,0.7272727272727273,0.4264705882352941,0.5285714285714286,0.44,0.48299319727891155,0.726027397260274,0.6777777777777778,1.0,0.7454545454545455,0.46153846153846156,0.6804123711340206,0.37748344370860926,0.5727272727272728,0.3157894736842105,0.45977011494252873,0.4424778761061947,0.5094339622641509,0.4393939393939394,0.5652173913043478,0.3951612903225806,0.8939393939393939,0.8395061728395061,0.7777777777777778,0.6608695652173913,0.5405405405405406,0.4424778761061947,0.45,0.5294117647058824,0.4342105263157895,0.5660377358490566,0.7631578947368421,0.5419847328244275,0.2446351931330472,0.4491525423728814,0.6470588235294118,0.392,0.75,0.4860335195530726,0.4090909090909091,0.2328767123287671,0.6623376623376623,0.6666666666666666,0.5487804878048781,0.6095238095238096,0.450261780104712,0.41025641025641024,0.3404255319148936,0.24766355140186916,0.38095238095238093,0.45555555555555555,0.3842364532019704,0.5333333333333333,0.4020618556701031,0.55,0.6086956521739131,0.24193548387096775,0.6153846153846154,0.764367816091954,0.6785714285714286,0.4325581395348837,0.41732283464566927,0.3333333333333333,0.18115942028985507,0.2717391304347826,0.4350282485875706,0.8115942028985508,0.3930635838150289,0.35135135135135137,0.6095238095238096,0.5222222222222223,0.15463917525773196,0.40601503759398494,0.4,0.5526315789473685,0.6320754716981132,0.7289719626168224,0.6027397260273972,0.6666666666666666,0.4745762711864407,0.20444444444444446,0.6176470588235294,0.4714285714285714,0.8958333333333334,0.2638888888888889,0.464,0.3115942028985507,0.3053435114503817,0.6363636363636364,0.4375,0.5238095238095238,0.425,0.4945054945054945,0.6111111111111112,0.32452830188679244,0.5037037037037037,0.24855491329479767,0.5148514851485149,0.3838383838383838,0.4519774011299435,0.3303964757709251,0.3867403314917127,0.3624161073825503,0.27802690582959644,0.4727272727272727,0.2865853658536585,0.6025641025641025,0.6695652173913044,0.6826923076923077,0.7529411764705882,0.8037383177570093,0.32242990654205606,0.2839506172839506,0.48717948717948717,0.304029304029304,0.8933333333333333,0.3855421686746988,0.43529411764705883,0.4144144144144144,0.5576923076923077,0.3314285714285714,0.5185185185185185,0.4601226993865031,0.4696969696969697,0.5897435897435898,0.5972222222222222,0.6013513513513513,0.6145833333333334,0.5064102564102564,0.5,0.4888888888888889,0.19230769230769232,0.5604395604395604,0.6043956043956044,0.8493150684931506,0.5078125,0.45121951219512196,0.4778761061946903,0.4,0.5164835164835165,0.8354430379746836,0.6095238095238096,0.31868131868131866,0.46601941747572817,0.4827586206896552,0.2597402597402597,0.9387755102040817,0.6209150326797386,0.65,0.6052631578947368,0.3148148148148148,0.29850746268656714,0.6219512195121951,0.3006535947712418,0.7017543859649122,0.5523809523809524,0.6666666666666666,0.48717948717948717,0.7449664429530202,0.9146341463414634,0.5172413793103449,0.7323943661971831,0.7025316455696202,0.8974358974358975,0.6968085106382979,0.5515151515151515,0.9431818181818182,0.8369565217391305,0.6986301369863014,0.5086206896551724,0.8095238095238095,1.0,0.7454545454545455,0.8461538461538461,0.8035714285714286,0.7281553398058253,0.7808219178082192,0.6811594202898551,0.6495726495726496,0.8227848101265823,0.7864077669902912,0.5930232558139535,0.8,0.4074074074074074,0.8266666666666667,0.68,0.7096774193548387,0.6,0.6941176470588235,0.5930232558139535,0.53125,0.8,0.7733333333333333,0.7368421052631579,0.4966442953020134,0.37410071942446044,0.6722689075630253,0.75,0.6511627906976745,0.8133333333333334,0.5637583892617449,0.7638888888888888,0.5955056179775281,0.4049079754601227,0.6578947368421053,0.7669902912621359,0.8032786885245902,0.816,0.5906040268456376,0.6440677966101694,0.4,0.3209302325581395,0.5857142857142857,0.7789473684210526,0.6804123711340206,0.5887850467289719,0.7291666666666666,0.7567567567567568,0.7045454545454546,0.33962264150943394,0.27835051546391754,0.4253731343283582,0.6857142857142857,0.23979591836734693,0.4230769230769231,0.4765625,0.7386363636363636,0.33152173913043476,0.5294117647058824,0.4722222222222222,0.41530054644808745,0.42592592592592593,0.30275229357798167,0.675,0.5924170616113744,0.7251908396946565,0.86,0.7932692307692307,0.7637795275590551,0.7714285714285715,0.5,0.9012345679012346,0.6822429906542056,0.889763779527559,0.7857142857142857,0.8416666666666667,0.7837837837837838,0.5403225806451613,0.7727272727272727,0.4696132596685083,0.8509316770186336,0.7288135593220338,0.7076923076923077,0.6597222222222222,0.7752808988764045,0.6392156862745098,0.5594405594405595,0.5683453237410072,0.7992125984251969,0.6442953020134228,0.9411764705882353,0.5882352941176471,0.7454545454545455,0.7032258064516129,0.7299270072992701,0.7659574468085106,0.6380368098159509,0.7752808988764045,0.56353591160221,0.6578947368421053,0.4689655172413793,0.6608695652173913,0.6788321167883211,0.4807692307692308,0.6634615384615384],\"y0\":\" \",\"yaxis\":\"y\",\"type\":\"box\"}],                        {\"template\":{\"data\":{\"histogram2dcontour\":[{\"type\":\"histogram2dcontour\",\"colorbar\":{\"outlinewidth\":0,\"ticks\":\"\"},\"colorscale\":[[0.0,\"#0d0887\"],[0.1111111111111111,\"#46039f\"],[0.2222222222222222,\"#7201a8\"],[0.3333333333333333,\"#9c179e\"],[0.4444444444444444,\"#bd3786\"],[0.5555555555555556,\"#d8576b\"],[0.6666666666666666,\"#ed7953\"],[0.7777777777777778,\"#fb9f3a\"],[0.8888888888888888,\"#fdca26\"],[1.0,\"#f0f921\"]]}],\"choropleth\":[{\"type\":\"choropleth\",\"colorbar\":{\"outlinewidth\":0,\"ticks\":\"\"}}],\"histogram2d\":[{\"type\":\"histogram2d\",\"colorbar\":{\"outlinewidth\":0,\"ticks\":\"\"},\"colorscale\":[[0.0,\"#0d0887\"],[0.1111111111111111,\"#46039f\"],[0.2222222222222222,\"#7201a8\"],[0.3333333333333333,\"#9c179e\"],[0.4444444444444444,\"#bd3786\"],[0.5555555555555556,\"#d8576b\"],[0.6666666666666666,\"#ed7953\"],[0.7777777777777778,\"#fb9f3a\"],[0.8888888888888888,\"#fdca26\"],[1.0,\"#f0f921\"]]}],\"heatmap\":[{\"type\":\"heatmap\",\"colorbar\":{\"outlinewidth\":0,\"ticks\":\"\"},\"colorscale\":[[0.0,\"#0d0887\"],[0.1111111111111111,\"#46039f\"],[0.2222222222222222,\"#7201a8\"],[0.3333333333333333,\"#9c179e\"],[0.4444444444444444,\"#bd3786\"],[0.5555555555555556,\"#d8576b\"],[0.6666666666666666,\"#ed7953\"],[0.7777777777777778,\"#fb9f3a\"],[0.8888888888888888,\"#fdca26\"],[1.0,\"#f0f921\"]]}],\"heatmapgl\":[{\"type\":\"heatmapgl\",\"colorbar\":{\"outlinewidth\":0,\"ticks\":\"\"},\"colorscale\":[[0.0,\"#0d0887\"],[0.1111111111111111,\"#46039f\"],[0.2222222222222222,\"#7201a8\"],[0.3333333333333333,\"#9c179e\"],[0.4444444444444444,\"#bd3786\"],[0.5555555555555556,\"#d8576b\"],[0.6666666666666666,\"#ed7953\"],[0.7777777777777778,\"#fb9f3a\"],[0.8888888888888888,\"#fdca26\"],[1.0,\"#f0f921\"]]}],\"contourcarpet\":[{\"type\":\"contourcarpet\",\"colorbar\":{\"outlinewidth\":0,\"ticks\":\"\"}}],\"contour\":[{\"type\":\"contour\",\"colorbar\":{\"outlinewidth\":0,\"ticks\":\"\"},\"colorscale\":[[0.0,\"#0d0887\"],[0.1111111111111111,\"#46039f\"],[0.2222222222222222,\"#7201a8\"],[0.3333333333333333,\"#9c179e\"],[0.4444444444444444,\"#bd3786\"],[0.5555555555555556,\"#d8576b\"],[0.6666666666666666,\"#ed7953\"],[0.7777777777777778,\"#fb9f3a\"],[0.8888888888888888,\"#fdca26\"],[1.0,\"#f0f921\"]]}],\"surface\":[{\"type\":\"surface\",\"colorbar\":{\"outlinewidth\":0,\"ticks\":\"\"},\"colorscale\":[[0.0,\"#0d0887\"],[0.1111111111111111,\"#46039f\"],[0.2222222222222222,\"#7201a8\"],[0.3333333333333333,\"#9c179e\"],[0.4444444444444444,\"#bd3786\"],[0.5555555555555556,\"#d8576b\"],[0.6666666666666666,\"#ed7953\"],[0.7777777777777778,\"#fb9f3a\"],[0.8888888888888888,\"#fdca26\"],[1.0,\"#f0f921\"]]}],\"mesh3d\":[{\"type\":\"mesh3d\",\"colorbar\":{\"outlinewidth\":0,\"ticks\":\"\"}}],\"scatter\":[{\"fillpattern\":{\"fillmode\":\"overlay\",\"size\":10,\"solidity\":0.2},\"type\":\"scatter\"}],\"parcoords\":[{\"type\":\"parcoords\",\"line\":{\"colorbar\":{\"outlinewidth\":0,\"ticks\":\"\"}}}],\"scatterpolargl\":[{\"type\":\"scatterpolargl\",\"marker\":{\"colorbar\":{\"outlinewidth\":0,\"ticks\":\"\"}}}],\"bar\":[{\"error_x\":{\"color\":\"#2a3f5f\"},\"error_y\":{\"color\":\"#2a3f5f\"},\"marker\":{\"line\":{\"color\":\"#E5ECF6\",\"width\":0.5},\"pattern\":{\"fillmode\":\"overlay\",\"size\":10,\"solidity\":0.2}},\"type\":\"bar\"}],\"scattergeo\":[{\"type\":\"scattergeo\",\"marker\":{\"colorbar\":{\"outlinewidth\":0,\"ticks\":\"\"}}}],\"scatterpolar\":[{\"type\":\"scatterpolar\",\"marker\":{\"colorbar\":{\"outlinewidth\":0,\"ticks\":\"\"}}}],\"histogram\":[{\"marker\":{\"pattern\":{\"fillmode\":\"overlay\",\"size\":10,\"solidity\":0.2}},\"type\":\"histogram\"}],\"scattergl\":[{\"type\":\"scattergl\",\"marker\":{\"colorbar\":{\"outlinewidth\":0,\"ticks\":\"\"}}}],\"scatter3d\":[{\"type\":\"scatter3d\",\"line\":{\"colorbar\":{\"outlinewidth\":0,\"ticks\":\"\"}},\"marker\":{\"colorbar\":{\"outlinewidth\":0,\"ticks\":\"\"}}}],\"scattermapbox\":[{\"type\":\"scattermapbox\",\"marker\":{\"colorbar\":{\"outlinewidth\":0,\"ticks\":\"\"}}}],\"scatterternary\":[{\"type\":\"scatterternary\",\"marker\":{\"colorbar\":{\"outlinewidth\":0,\"ticks\":\"\"}}}],\"scattercarpet\":[{\"type\":\"scattercarpet\",\"marker\":{\"colorbar\":{\"outlinewidth\":0,\"ticks\":\"\"}}}],\"carpet\":[{\"aaxis\":{\"endlinecolor\":\"#2a3f5f\",\"gridcolor\":\"white\",\"linecolor\":\"white\",\"minorgridcolor\":\"white\",\"startlinecolor\":\"#2a3f5f\"},\"baxis\":{\"endlinecolor\":\"#2a3f5f\",\"gridcolor\":\"white\",\"linecolor\":\"white\",\"minorgridcolor\":\"white\",\"startlinecolor\":\"#2a3f5f\"},\"type\":\"carpet\"}],\"table\":[{\"cells\":{\"fill\":{\"color\":\"#EBF0F8\"},\"line\":{\"color\":\"white\"}},\"header\":{\"fill\":{\"color\":\"#C8D4E3\"},\"line\":{\"color\":\"white\"}},\"type\":\"table\"}],\"barpolar\":[{\"marker\":{\"line\":{\"color\":\"#E5ECF6\",\"width\":0.5},\"pattern\":{\"fillmode\":\"overlay\",\"size\":10,\"solidity\":0.2}},\"type\":\"barpolar\"}],\"pie\":[{\"automargin\":true,\"type\":\"pie\"}]},\"layout\":{\"autotypenumbers\":\"strict\",\"colorway\":[\"#636efa\",\"#EF553B\",\"#00cc96\",\"#ab63fa\",\"#FFA15A\",\"#19d3f3\",\"#FF6692\",\"#B6E880\",\"#FF97FF\",\"#FECB52\"],\"font\":{\"color\":\"#2a3f5f\"},\"hovermode\":\"closest\",\"hoverlabel\":{\"align\":\"left\"},\"paper_bgcolor\":\"white\",\"plot_bgcolor\":\"#E5ECF6\",\"polar\":{\"bgcolor\":\"#E5ECF6\",\"angularaxis\":{\"gridcolor\":\"white\",\"linecolor\":\"white\",\"ticks\":\"\"},\"radialaxis\":{\"gridcolor\":\"white\",\"linecolor\":\"white\",\"ticks\":\"\"}},\"ternary\":{\"bgcolor\":\"#E5ECF6\",\"aaxis\":{\"gridcolor\":\"white\",\"linecolor\":\"white\",\"ticks\":\"\"},\"baxis\":{\"gridcolor\":\"white\",\"linecolor\":\"white\",\"ticks\":\"\"},\"caxis\":{\"gridcolor\":\"white\",\"linecolor\":\"white\",\"ticks\":\"\"}},\"coloraxis\":{\"colorbar\":{\"outlinewidth\":0,\"ticks\":\"\"}},\"colorscale\":{\"sequential\":[[0.0,\"#0d0887\"],[0.1111111111111111,\"#46039f\"],[0.2222222222222222,\"#7201a8\"],[0.3333333333333333,\"#9c179e\"],[0.4444444444444444,\"#bd3786\"],[0.5555555555555556,\"#d8576b\"],[0.6666666666666666,\"#ed7953\"],[0.7777777777777778,\"#fb9f3a\"],[0.8888888888888888,\"#fdca26\"],[1.0,\"#f0f921\"]],\"sequentialminus\":[[0.0,\"#0d0887\"],[0.1111111111111111,\"#46039f\"],[0.2222222222222222,\"#7201a8\"],[0.3333333333333333,\"#9c179e\"],[0.4444444444444444,\"#bd3786\"],[0.5555555555555556,\"#d8576b\"],[0.6666666666666666,\"#ed7953\"],[0.7777777777777778,\"#fb9f3a\"],[0.8888888888888888,\"#fdca26\"],[1.0,\"#f0f921\"]],\"diverging\":[[0,\"#8e0152\"],[0.1,\"#c51b7d\"],[0.2,\"#de77ae\"],[0.3,\"#f1b6da\"],[0.4,\"#fde0ef\"],[0.5,\"#f7f7f7\"],[0.6,\"#e6f5d0\"],[0.7,\"#b8e186\"],[0.8,\"#7fbc41\"],[0.9,\"#4d9221\"],[1,\"#276419\"]]},\"xaxis\":{\"gridcolor\":\"white\",\"linecolor\":\"white\",\"ticks\":\"\",\"title\":{\"standoff\":15},\"zerolinecolor\":\"white\",\"automargin\":true,\"zerolinewidth\":2},\"yaxis\":{\"gridcolor\":\"white\",\"linecolor\":\"white\",\"ticks\":\"\",\"title\":{\"standoff\":15},\"zerolinecolor\":\"white\",\"automargin\":true,\"zerolinewidth\":2},\"scene\":{\"xaxis\":{\"backgroundcolor\":\"#E5ECF6\",\"gridcolor\":\"white\",\"linecolor\":\"white\",\"showbackground\":true,\"ticks\":\"\",\"zerolinecolor\":\"white\",\"gridwidth\":2},\"yaxis\":{\"backgroundcolor\":\"#E5ECF6\",\"gridcolor\":\"white\",\"linecolor\":\"white\",\"showbackground\":true,\"ticks\":\"\",\"zerolinecolor\":\"white\",\"gridwidth\":2},\"zaxis\":{\"backgroundcolor\":\"#E5ECF6\",\"gridcolor\":\"white\",\"linecolor\":\"white\",\"showbackground\":true,\"ticks\":\"\",\"zerolinecolor\":\"white\",\"gridwidth\":2}},\"shapedefaults\":{\"line\":{\"color\":\"#2a3f5f\"}},\"annotationdefaults\":{\"arrowcolor\":\"#2a3f5f\",\"arrowhead\":0,\"arrowwidth\":1},\"geo\":{\"bgcolor\":\"white\",\"landcolor\":\"#E5ECF6\",\"subunitcolor\":\"white\",\"showland\":true,\"showlakes\":true,\"lakecolor\":\"white\"},\"title\":{\"x\":0.05},\"mapbox\":{\"style\":\"light\"}}},\"xaxis\":{\"anchor\":\"y\",\"domain\":[0.0,1.0],\"title\":{\"text\":\"Artist\"}},\"yaxis\":{\"anchor\":\"x\",\"domain\":[0.0,1.0],\"title\":{\"text\":\"unique_tokens_ratio_hy\"}},\"legend\":{\"tracegroupgap\":0},\"title\":{\"text\":\"Ratio of unique words to all words(hy)\"},\"boxmode\":\"group\"},                        {\"responsive\": true}                    ).then(function(){\n",
       "                            \n",
       "var gd = document.getElementById('a101c034-7335-47ba-9698-67d91952d665');\n",
       "var x = new MutationObserver(function (mutations, observer) {{\n",
       "        var display = window.getComputedStyle(gd).display;\n",
       "        if (!display || display === 'none') {{\n",
       "            console.log([gd, 'removed!']);\n",
       "            Plotly.purge(gd);\n",
       "            observer.disconnect();\n",
       "        }}\n",
       "}});\n",
       "\n",
       "// Listen for the removal of the full notebook cells\n",
       "var notebookContainer = gd.closest('#notebook-container');\n",
       "if (notebookContainer) {{\n",
       "    x.observe(notebookContainer, {childList: true});\n",
       "}}\n",
       "\n",
       "// Listen for the clearing of the current output cell\n",
       "var outputEl = gd.closest('.output');\n",
       "if (outputEl) {{\n",
       "    x.observe(outputEl, {childList: true});\n",
       "}}\n",
       "\n",
       "                        })                };                });            </script>        </div>"
      ]
     },
     "metadata": {},
     "output_type": "display_data"
    }
   ],
   "source": [
    "fig = px.box(df, x='Artist', y='unique_tokens_ratio_hy', title='Ratio of unique words to all words(hy)')\n",
    "fig.show()"
   ]
  },
  {
   "cell_type": "markdown",
   "metadata": {
    "id": "cFIMWVoq1_E_"
   },
   "source": [
    "Adding sentiment of each song as new feature.\n",
    "The TextBlob library is used to calculate the sentiment polarity of each song's translated lyrics. The sentiment polarity ranges from -1 to 1, where values closer to 1 indicate a positive sentiment and values closer to -1 indicate a negative sentiment."
   ]
  },
  {
   "cell_type": "code",
   "execution_count": 34,
   "metadata": {
    "id": "_HiNyzcW16j-"
   },
   "outputs": [
    {
     "name": "stdout",
     "output_type": "stream",
     "text": [
      "                       Song  sentiment\n",
      "0               ԱՀԱ ԵՎ ՎԵՐՋ  -0.193333\n",
      "1                 ԱՄԵՆԸ ՁԵԶ   0.258333\n",
      "2    ԱՆԱՌԱԿ ՈՐԴՈՒ ՎԵՐԱԴԱՐՁԸ  -0.012500\n",
      "3             ԱՇԽԱՐՀԻ ՑԱՎՈՎ   0.060173\n",
      "4                ԱՌԱՋ ԳԻՏԵԻ   0.118182\n",
      "..                      ...        ...\n",
      "537                Chanapar  -0.016875\n",
      "538                Es Pahin   0.133333\n",
      "539                   Rhyme   0.060014\n",
      "541           Yes Qo Nmanei  -0.187500\n",
      "542             Lav Jamanak   0.306000\n",
      "\n",
      "[506 rows x 2 columns]\n"
     ]
    }
   ],
   "source": [
    "df['sentiment'] = df['Translated_Lyrics'].apply(lambda text: TextBlob(text).sentiment.polarity)\n",
    "\n",
    "\n",
    "print(df[['Song','sentiment']])"
   ]
  },
  {
   "cell_type": "code",
   "execution_count": 35,
   "metadata": {
    "id": "8KtYPOuR16qO"
   },
   "outputs": [
    {
     "data": {
      "application/vnd.plotly.v1+json": {
       "config": {
        "plotlyServerURL": "https://plot.ly"
       },
       "data": [
        {
         "alignmentgroup": "True",
         "hovertemplate": "Artist=%{x}<br>sentiment=%{y}<extra></extra>",
         "legendgroup": "",
         "marker": {
          "color": "#636efa"
         },
         "name": "",
         "notched": false,
         "offsetgroup": "",
         "orientation": "v",
         "showlegend": false,
         "type": "box",
         "x": [
          "ԱՐԹՈՒՐ ՄԵՍՉՅԱՆ",
          "ԱՐԹՈՒՐ ՄԵՍՉՅԱՆ",
          "ԱՐԹՈՒՐ ՄԵՍՉՅԱՆ",
          "ԱՐԹՈՒՐ ՄԵՍՉՅԱՆ",
          "ԱՐԹՈՒՐ ՄԵՍՉՅԱՆ",
          "ԱՐԹՈՒՐ ՄԵՍՉՅԱՆ",
          "ԱՐԹՈՒՐ ՄԵՍՉՅԱՆ",
          "ԱՐԹՈՒՐ ՄԵՍՉՅԱՆ",
          "ԱՐԹՈՒՐ ՄԵՍՉՅԱՆ",
          "ԱՐԹՈՒՐ ՄԵՍՉՅԱՆ",
          "ԱՐԹՈՒՐ ՄԵՍՉՅԱՆ",
          "ԱՐԹՈՒՐ ՄԵՍՉՅԱՆ",
          "ԱՐԹՈՒՐ ՄԵՍՉՅԱՆ",
          "ԱՐԹՈՒՐ ՄԵՍՉՅԱՆ",
          "ԱՐԹՈՒՐ ՄԵՍՉՅԱՆ",
          "ԱՐԹՈՒՐ ՄԵՍՉՅԱՆ",
          "ԱՐԹՈՒՐ ՄԵՍՉՅԱՆ",
          "ԱՐԹՈՒՐ ՄԵՍՉՅԱՆ",
          "ԱՐԹՈՒՐ ՄԵՍՉՅԱՆ",
          "ԱՐԹՈՒՐ ՄԵՍՉՅԱՆ",
          "ԱՐԹՈՒՐ ՄԵՍՉՅԱՆ",
          "ԱՐԹՈՒՐ ՄԵՍՉՅԱՆ",
          "ԱՐԹՈՒՐ ՄԵՍՉՅԱՆ",
          "ԱՐԹՈՒՐ ՄԵՍՉՅԱՆ",
          "ԱՐԹՈՒՐ ՄԵՍՉՅԱՆ",
          "ԱՐԹՈՒՐ ՄԵՍՉՅԱՆ",
          "ԱՐԹՈՒՐ ՄԵՍՉՅԱՆ",
          "ԱՐԹՈՒՐ ՄԵՍՉՅԱՆ",
          "ԱՐԹՈՒՐ ՄԵՍՉՅԱՆ",
          "ԱՐԹՈՒՐ ՄԵՍՉՅԱՆ",
          "ԱՐԹՈՒՐ ՄԵՍՉՅԱՆ",
          "ԱՐԹՈՒՐ ՄԵՍՉՅԱՆ",
          "ԱՐԹՈՒՐ ՄԵՍՉՅԱՆ",
          "ԱՐԹՈՒՐ ՄԵՍՉՅԱՆ",
          "ԱՐԹՈՒՐ ՄԵՍՉՅԱՆ",
          "ԱՐԹՈՒՐ ՄԵՍՉՅԱՆ",
          "ԱՐԹՈՒՐ ՄԵՍՉՅԱՆ",
          "ԱՐԹՈՒՐ ՄԵՍՉՅԱՆ",
          "ԱՐԹՈՒՐ ՄԵՍՉՅԱՆ",
          "ԱՐԹՈՒՐ ՄԵՍՉՅԱՆ",
          "ԱՐԹՈՒՐ ՄԵՍՉՅԱՆ",
          "ԱՐԹՈՒՐ ՄԵՍՉՅԱՆ",
          "ԱՐԹՈՒՐ ՄԵՍՉՅԱՆ",
          "ԱՐԹՈՒՐ ՄԵՍՉՅԱՆ",
          "ԱՐԹՈՒՐ ՄԵՍՉՅԱՆ",
          "ԱՐԹՈՒՐ ՄԵՍՉՅԱՆ",
          "ԱՐԹՈՒՐ ՄԵՍՉՅԱՆ",
          "ԱՐԹՈՒՐ ՄԵՍՉՅԱՆ",
          "ԱՐԹՈՒՐ ՄԵՍՉՅԱՆ",
          "ԱՐԹՈՒՐ ՄԵՍՉՅԱՆ",
          "ՌՈՒԲԵՆ ՀԱԽՎԵՐԴՅԱՆ",
          "ՌՈՒԲԵՆ ՀԱԽՎԵՐԴՅԱՆ",
          "ՌՈՒԲԵՆ ՀԱԽՎԵՐԴՅԱՆ",
          "ՌՈՒԲԵՆ ՀԱԽՎԵՐԴՅԱՆ",
          "ՌՈՒԲԵՆ ՀԱԽՎԵՐԴՅԱՆ",
          "ՌՈՒԲԵՆ ՀԱԽՎԵՐԴՅԱՆ",
          "ՌՈՒԲԵՆ ՀԱԽՎԵՐԴՅԱՆ",
          "ՌՈՒԲԵՆ ՀԱԽՎԵՐԴՅԱՆ",
          "ՌՈՒԲԵՆ ՀԱԽՎԵՐԴՅԱՆ",
          "ՌՈՒԲԵՆ ՀԱԽՎԵՐԴՅԱՆ",
          "ՌՈՒԲԵՆ ՀԱԽՎԵՐԴՅԱՆ",
          "ՌՈՒԲԵՆ ՀԱԽՎԵՐԴՅԱՆ",
          "ՌՈՒԲԵՆ ՀԱԽՎԵՐԴՅԱՆ",
          "ՌՈՒԲԵՆ ՀԱԽՎԵՐԴՅԱՆ",
          "ՌՈՒԲԵՆ ՀԱԽՎԵՐԴՅԱՆ",
          "ՌՈՒԲԵՆ ՀԱԽՎԵՐԴՅԱՆ",
          "ՌՈՒԲԵՆ ՀԱԽՎԵՐԴՅԱՆ",
          "ՌՈՒԲԵՆ ՀԱԽՎԵՐԴՅԱՆ",
          "ՌՈՒԲԵՆ ՀԱԽՎԵՐԴՅԱՆ",
          "ՌՈՒԲԵՆ ՀԱԽՎԵՐԴՅԱՆ",
          "ՌՈՒԲԵՆ ՀԱԽՎԵՐԴՅԱՆ",
          "ՌՈՒԲԵՆ ՀԱԽՎԵՐԴՅԱՆ",
          "ՌՈՒԲԵՆ ՀԱԽՎԵՐԴՅԱՆ",
          "ՌՈՒԲԵՆ ՀԱԽՎԵՐԴՅԱՆ",
          "ՌՈՒԲԵՆ ՀԱԽՎԵՐԴՅԱՆ",
          "ՌՈՒԲԵՆ ՀԱԽՎԵՐԴՅԱՆ",
          "ՌՈՒԲԵՆ ՀԱԽՎԵՐԴՅԱՆ",
          "ՌՈՒԲԵՆ ՀԱԽՎԵՐԴՅԱՆ",
          "ՌՈՒԲԵՆ ՀԱԽՎԵՐԴՅԱՆ",
          "ՌՈՒԲԵՆ ՀԱԽՎԵՐԴՅԱՆ",
          "ՌՈՒԲԵՆ ՀԱԽՎԵՐԴՅԱՆ",
          "ՌՈՒԲԵՆ ՀԱԽՎԵՐԴՅԱՆ",
          "ՌՈՒԲԵՆ ՀԱԽՎԵՐԴՅԱՆ",
          "ՌՈՒԲԵՆ ՀԱԽՎԵՐԴՅԱՆ",
          "ՌՈՒԲԵՆ ՀԱԽՎԵՐԴՅԱՆ",
          "ՌՈՒԲԵՆ ՀԱԽՎԵՐԴՅԱՆ",
          "ՌՈՒԲԵՆ ՀԱԽՎԵՐԴՅԱՆ",
          "ՌՈՒԲԵՆ ՀԱԽՎԵՐԴՅԱՆ",
          "ՌՈՒԲԵՆ ՀԱԽՎԵՐԴՅԱՆ",
          "ՌՈՒԲԵՆ ՀԱԽՎԵՐԴՅԱՆ",
          "ՌՈՒԲԵՆ ՀԱԽՎԵՐԴՅԱՆ",
          "ՌՈՒԲԵՆ ՀԱԽՎԵՐԴՅԱՆ",
          "ՌՈՒԲԵՆ ՀԱԽՎԵՐԴՅԱՆ",
          "ՌՈՒԲԵՆ ՀԱԽՎԵՐԴՅԱՆ",
          "ՌՈՒԲԵՆ ՀԱԽՎԵՐԴՅԱՆ",
          "ՌՈՒԲԵՆ ՀԱԽՎԵՐԴՅԱՆ",
          "ՌՈՒԲԵՆ ՀԱԽՎԵՐԴՅԱՆ",
          "ՌՈՒԲԵՆ ՀԱԽՎԵՐԴՅԱՆ",
          "ՌՈՒԲԵՆ ՀԱԽՎԵՐԴՅԱՆ",
          "ՌՈՒԲԵՆ ՀԱԽՎԵՐԴՅԱՆ",
          "ՌՈՒԲԵՆ ՀԱԽՎԵՐԴՅԱՆ",
          "ՌՈՒԲԵՆ ՀԱԽՎԵՐԴՅԱՆ",
          "ՌՈՒԲԵՆ ՀԱԽՎԵՐԴՅԱՆ",
          "ՌՈՒԲԵՆ ՀԱԽՎԵՐԴՅԱՆ",
          "ՌՈՒԲԵՆ ՀԱԽՎԵՐԴՅԱՆ",
          "ՌՈՒԲԵՆ ՀԱԽՎԵՐԴՅԱՆ",
          "ՌՈՒԲԵՆ ՀԱԽՎԵՐԴՅԱՆ",
          "ՌՈՒԲԵՆ ՀԱԽՎԵՐԴՅԱՆ",
          "ՌՈՒԲԵՆ ՀԱԽՎԵՐԴՅԱՆ",
          "ՌՈՒԲԵՆ ՀԱԽՎԵՐԴՅԱՆ",
          "ՌՈՒԲԵՆ ՀԱԽՎԵՐԴՅԱՆ",
          "ՌՈՒԲԵՆ ՀԱԽՎԵՐԴՅԱՆ",
          "ՌՈՒԲԵՆ ՀԱԽՎԵՐԴՅԱՆ",
          "ՌՈՒԲԵՆ ՀԱԽՎԵՐԴՅԱՆ",
          "ՌՈՒԲԵՆ ՀԱԽՎԵՐԴՅԱՆ",
          "ՌՈՒԲԵՆ ՀԱԽՎԵՐԴՅԱՆ",
          "ՌՈՒԲԵՆ ՀԱԽՎԵՐԴՅԱՆ",
          "ՌՈՒԲԵՆ ՀԱԽՎԵՐԴՅԱՆ",
          "ՌՈՒԲԵՆ ՀԱԽՎԵՐԴՅԱՆ",
          "ՌՈՒԲԵՆ ՀԱԽՎԵՐԴՅԱՆ",
          "ՌՈՒԲԵՆ ՀԱԽՎԵՐԴՅԱՆ",
          "ՌՈՒԲԵՆ ՀԱԽՎԵՐԴՅԱՆ",
          "ՌՈՒԲԵՆ ՀԱԽՎԵՐԴՅԱՆ",
          "ՌՈՒԲԵՆ ՀԱԽՎԵՐԴՅԱՆ",
          "ՌՈՒԲԵՆ ՀԱԽՎԵՐԴՅԱՆ",
          "ՌՈՒԲԵՆ ՀԱԽՎԵՐԴՅԱՆ",
          "ՌՈՒԲԵՆ ՀԱԽՎԵՐԴՅԱՆ",
          "ՌՈՒԲԵՆ ՀԱԽՎԵՐԴՅԱՆ",
          "ՌՈՒԲԵՆ ՀԱԽՎԵՐԴՅԱՆ",
          "ՌՈՒԲԵՆ ՀԱԽՎԵՐԴՅԱՆ",
          "ՌՈՒԲԵՆ ՀԱԽՎԵՐԴՅԱՆ",
          "ՍԱՅԱԹ-ՆՈՎԱ",
          "ՍԱՅԱԹ-ՆՈՎԱ",
          "ՍԱՅԱԹ-ՆՈՎԱ",
          "ՍԱՅԱԹ-ՆՈՎԱ",
          "ՍԱՅԱԹ-ՆՈՎԱ",
          "ՍԱՅԱԹ-ՆՈՎԱ",
          "ՍԱՅԱԹ-ՆՈՎԱ",
          "ՍԱՅԱԹ-ՆՈՎԱ",
          "ՍԱՅԱԹ-ՆՈՎԱ",
          "ՍԱՅԱԹ-ՆՈՎԱ",
          "ՍԱՅԱԹ-ՆՈՎԱ",
          "ՍԱՅԱԹ-ՆՈՎԱ",
          "ՍԱՅԱԹ-ՆՈՎԱ",
          "ՍԱՅԱԹ-ՆՈՎԱ",
          "ՍԱՅԱԹ-ՆՈՎԱ",
          "ՍԱՅԱԹ-ՆՈՎԱ",
          "ԿՈՄԻՏԱՍ",
          "ԿՈՄԻՏԱՍ",
          "ԿՈՄԻՏԱՍ",
          "ԿՈՄԻՏԱՍ",
          "ԿՈՄԻՏԱՍ",
          "ԿՈՄԻՏԱՍ",
          "ԿՈՄԻՏԱՍ",
          "ԿՈՄԻՏԱՍ",
          "ԿՈՄԻՏԱՍ",
          "ԿՈՄԻՏԱՍ",
          "ԿՈՄԻՏԱՍ",
          "ԿՈՄԻՏԱՍ",
          "ԿՈՄԻՏԱՍ",
          "ԿՈՄԻՏԱՍ",
          "ԿՈՄԻՏԱՍ",
          "ԿՈՄԻՏԱՍ",
          "ԿՈՄԻՏԱՍ",
          "ԿՈՄԻՏԱՍ",
          "ԿՈՄԻՏԱՍ",
          "ԿՈՄԻՏԱՍ",
          "ԿՈՄԻՏԱՍ",
          "ԿՈՄԻՏԱՍ",
          "ԿՈՄԻՏԱՍ",
          "ԿՈՄԻՏԱՍ",
          "ԿՈՄԻՏԱՍ",
          "ԿՈՄԻՏԱՍ",
          "ԿՈՄԻՏԱՍ",
          "ԿՈՄԻՏԱՍ",
          "ԿՈՄԻՏԱՍ",
          "ԿՈՄԻՏԱՍ",
          "ԿՈՄԻՏԱՍ",
          "ԿՈՄԻՏԱՍ",
          "ԿՈՄԻՏԱՍ",
          "ԿՈՄԻՏԱՍ",
          "ԿՈՄԻՏԱՍ",
          "ԿՈՄԻՏԱՍ",
          "ԿՈՄԻՏԱՍ",
          "ԿՈՄԻՏԱՍ",
          "ԿՈՄԻՏԱՍ",
          "ԿՈՄԻՏԱՍ",
          "ԿՈՄԻՏԱՍ",
          "ԿՈՄԻՏԱՍ",
          "ԿՈՄԻՏԱՍ",
          "ԿՈՄԻՏԱՍ",
          "ԿՈՄԻՏԱՍ",
          "ԿՈՄԻՏԱՍ",
          "ԿՈՄԻՏԱՍ",
          "ԿՈՄԻՏԱՍ",
          "ԿՈՄԻՏԱՍ",
          "ԿՈՄԻՏԱՍ",
          "ԿՈՄԻՏԱՍ",
          "ԿՈՄԻՏԱՍ",
          "ԿՈՄԻՏԱՍ",
          "ԿՈՄԻՏԱՍ",
          "ԿՈՄԻՏԱՍ",
          "ԿՈՄԻՏԱՍ",
          "ԿՈՄԻՏԱՍ",
          "ԿՈՄԻՏԱՍ",
          "ԿՈՄԻՏԱՍ",
          "ԿՈՄԻՏԱՍ",
          "ԿՈՄԻՏԱՍ",
          "ԿՈՄԻՏԱՍ",
          "HT Hayko",
          "HT Hayko",
          "HT Hayko",
          "HT Hayko",
          "HT Hayko",
          "HT Hayko",
          "HT Hayko",
          "HT Hayko",
          "HT Hayko",
          "HT Hayko",
          "HT Hayko",
          "HT Hayko",
          "HT Hayko",
          "HT Hayko",
          "HT Hayko",
          "HT Hayko",
          "Empyray",
          "Empyray",
          "Empyray",
          "Empyray",
          "Empyray",
          "Empyray",
          "Empyray",
          "Empyray",
          "Empyray",
          "Empyray",
          " Lav Eli",
          " Lav Eli",
          " Lav Eli",
          " Lav Eli",
          " Lav Eli",
          " Lav Eli",
          " Lav Eli",
          " Lav Eli",
          " Lav Eli",
          "Silva Hakobyan",
          "Silva Hakobyan",
          "Silva Hakobyan",
          "Silva Hakobyan",
          "Silva Hakobyan",
          "Silva Hakobyan",
          "Silva Hakobyan",
          "Silva Hakobyan",
          "Silva Hakobyan",
          "Silva Hakobyan",
          "Silva Hakobyan",
          "Silva Hakobyan",
          "Silva Hakobyan",
          "Silva Hakobyan",
          "Silva Hakobyan",
          "Silva Hakobyan",
          "Silva Hakobyan",
          "Silva Hakobyan",
          "Silva Hakobyan",
          "Silva Hakobyan",
          "Անդրե",
          "Անդրե",
          "Անդրե",
          "Անդրե",
          "Անդրե",
          "Անդրե",
          "Անդրե",
          "Անդրե",
          "Անդրե",
          "Անդրե",
          "Անդրե",
          "Անդրե",
          "Լիլիթ Հովհաննիսյան",
          "Լիլիթ Հովհաննիսյան",
          "Լիլիթ Հովհաննիսյան",
          "Լիլիթ Հովհաննիսյան",
          "Լիլիթ Հովհաննիսյան",
          "Լիլիթ Հովհաննիսյան",
          "Լիլիթ Հովհաննիսյան",
          "Լիլիթ Հովհաննիսյան",
          "Լիլիթ Հովհաննիսյան",
          "Լիլիթ Հովհաննիսյան",
          "Լիլիթ Հովհաննիսյան",
          "Լիլիթ Հովհաննիսյան",
          "Լիլիթ Հովհաննիսյան",
          "Լիլիթ Հովհաննիսյան",
          "Լիլիթ Հովհաննիսյան",
          "Լիլիթ Հովհաննիսյան",
          "Լիլիթ Հովհաննիսյան",
          "Լիլիթ Հովհաննիսյան",
          "Լիլիթ Հովհաննիսյան",
          "Լիլիթ Հովհաննիսյան",
          "Լիլիթ Հովհաննիսյան",
          "Լիլիթ Հովհաննիսյան",
          "Լիլիթ Հովհաննիսյան",
          "Լիլիթ Հովհաննիսյան",
          "Սիրուշո",
          "Սիրուշո",
          "Սիրուշո",
          "Սիրուշո",
          "Սիրուշո",
          "Սիրուշո",
          "Սիրուշո",
          "Սիրուշո",
          "Սիրուշո",
          "Սիրուշո",
          "Սիրուշո",
          "Սիրուշո",
          "Սիրուշո",
          "Սիրուշո",
          "Սիրուշո",
          "Սիրուշո",
          "Սիրուշո",
          "Սիրուշո",
          "Սիրուշո",
          "Սիրուշո",
          "Սիրուշո",
          "Սիրուշո",
          "Սիրուշո",
          "Սիրուշո",
          "Սիրուշո",
          "Միհրան Ծառուկյան",
          "Միհրան Ծառուկյան",
          "Միհրան Ծառուկյան",
          "Միհրան Ծառուկյան",
          "Միհրան Ծառուկյան",
          "Միհրան Ծառուկյան",
          "Միհրան Ծառուկյան",
          "Միհրան Ծառուկյան",
          "Միհրան Ծառուկյան",
          "Միհրան Ծառուկյան",
          "Միհրան Ծառուկյան",
          "Միհրան Ծառուկյան",
          "Միհրան Ծառուկյան",
          "Միհրան Ծառուկյան",
          "Միհրան Ծառուկյան",
          "Միհրան Ծառուկյան",
          "Միհրան Ծառուկյան",
          "Միհրան Ծառուկյան",
          "Arame",
          "Arame",
          "Arame",
          "Arame",
          "Arame",
          "Arame",
          "Arame",
          "Arame",
          "Arame",
          "Razmik Amyan",
          "Razmik Amyan",
          "Razmik Amyan",
          "Razmik Amyan",
          "Razmik Amyan",
          "Razmik Amyan",
          "Razmik Amyan",
          "Razmik Amyan",
          "Razmik Amyan",
          "Razmik Amyan",
          "Razmik Amyan",
          "Razmik Amyan",
          "Razmik Amyan",
          "Razmik Amyan",
          "Razmik Amyan",
          "Razmik Amyan",
          "Razmik Amyan",
          "Razmik Amyan",
          "Harout Pamboukjian",
          "Harout Pamboukjian",
          "Harout Pamboukjian",
          "Harout Pamboukjian",
          "Harout Pamboukjian",
          "Harout Pamboukjian",
          "Harout Pamboukjian",
          "Harout Pamboukjian",
          "Harout Pamboukjian",
          "Harout Pamboukjian",
          "Harout Pamboukjian",
          "Harout Pamboukjian",
          "Harout Pamboukjian",
          "Harout Pamboukjian",
          "Harout Pamboukjian",
          "Harout Pamboukjian",
          "Harout Pamboukjian",
          "Harout Pamboukjian",
          "Harout Pamboukjian",
          "Harout Pamboukjian",
          "Harout Pamboukjian",
          "Harout Pamboukjian",
          "Harout Pamboukjian",
          "Harout Pamboukjian",
          "Harout Pamboukjian",
          "Harout Pamboukjian",
          "Harout Pamboukjian",
          "Harout Pamboukjian",
          "Harout Pamboukjian",
          "Harout Pamboukjian",
          "Harout Pamboukjian",
          "Harout Pamboukjian",
          "Հայկ Հակոբյան",
          "Հայկ Հակոբյան",
          "Հայկ Հակոբյան",
          "Հայկ Հակոբյան",
          "Հայկ Հակոբյան",
          "Հայկ Հակոբյան",
          "Հայկ Հակոբյան",
          "Հայկ Հակոբյան",
          "Հայկ Հակոբյան",
          "Հայկ Հակոբյան",
          "Հայկ Հակոբյան",
          "Հայկ Հակոբյան",
          "Հայկ Հակոբյան",
          "Հայկ Հակոբյան",
          "Հայկ Հակոբյան",
          "Հայկ Հակոբյան",
          "Հայկ Հակոբյան",
          "Հայկ Հակոբյան",
          "Հայկ Հակոբյան",
          "Հայկ Հակոբյան",
          "Հայկ Հակոբյան",
          "Հայկ Հակոբյան",
          "Հայկ Հակոբյան",
          "Aram MP3",
          "Aram MP3",
          "Arsen Safaryan",
          "Arsen Safaryan",
          "Arsen Safaryan",
          "Arsen Safaryan",
          "Arsen Safaryan",
          "Arsen Safaryan",
          "Arsen Safaryan",
          "Arsen Safaryan",
          "Arsen Safaryan",
          "Arsen Safaryan",
          "Arsen Safaryan",
          "Arsen Safaryan",
          "Arsen Safaryan",
          "Arsen Safaryan",
          "Arsen Safaryan",
          "Arsen Safaryan",
          "Arsen Safaryan",
          "Arsen Safaryan",
          "Arsen Safaryan",
          "Arsen Safaryan",
          "Arsen Safaryan",
          "Arsen Safaryan",
          "Arsen Safaryan",
          "Aram MP3",
          "Aram MP3",
          "Aram MP3",
          "Aram MP3",
          "Aram MP3",
          "Aram MP3",
          "Aram MP3",
          "Aram MP3",
          "Aram MP3",
          "Aram MP3",
          "Aram MP3",
          "Aram MP3",
          "Aram MP3",
          "Aram MP3",
          "Aram MP3",
          "Misho",
          "Misho",
          "Misho",
          "Misho",
          "Misho",
          "Misho",
          "Misho",
          "Misho",
          "Misho",
          "Misho",
          "Misho",
          "Misho",
          "Misho",
          "Misho",
          "Misho",
          "Misho",
          "Misho",
          "Misho",
          "Misho",
          "Misho",
          "Misho",
          "Misho",
          "Misho",
          "Misho",
          "Misho",
          "Misho",
          "Mi Qani Hogi",
          "Mi Qani Hogi",
          "Mi Qani Hogi",
          "Mi Qani Hogi",
          "Mi Qani Hogi",
          "Mi Qani Hogi",
          "Mi Qani Hogi",
          "Mi Qani Hogi",
          "Mi Qani Hogi",
          "Mi Qani Hogi",
          "Mi Qani Hogi",
          "Mi Qani Hogi",
          "Mi Qani Hogi",
          "Mi Qani Hogi",
          "Mi Qani Hogi"
         ],
         "x0": " ",
         "xaxis": "x",
         "y": [
          -0.19333333333333333,
          0.25833333333333336,
          -0.012500000000000006,
          0.060173160173160184,
          0.11818181818181821,
          0.028571428571428577,
          0.17363636363636362,
          0.19094460227272725,
          0.08996212121212122,
          -0.2026315789473684,
          0.23333333333333336,
          -0.43333333333333335,
          0.034375,
          -0.23641304347826086,
          -0.4263888888888889,
          -0.056730769230769224,
          0.16152597402597402,
          0.07433035714285714,
          0.05733333333333333,
          -0.14660339660339664,
          0.03201714110805021,
          -0.15,
          -0.09528985507246378,
          -0.1386868686868687,
          0.03928571428571429,
          -0.08676470588235295,
          -0.17,
          -0.04738562091503269,
          -0.0818181818181818,
          -0.016488413547237082,
          0.0553030303030303,
          -0.1700292397660819,
          -0.003921568627450976,
          -0.0794871794871795,
          -0.16666666666666666,
          0.03916666666666667,
          -0.30757575757575756,
          0.13409090909090907,
          -0.06764705882352941,
          0.06666666666666667,
          -0.14017649017649017,
          0.04199735449735449,
          -0.10476190476190476,
          0.4558823529411765,
          -0.10555555555555556,
          0.16022727272727275,
          -0.23166666666666666,
          -0.11466666666666667,
          0.0776199494949495,
          -0.041666666666666664,
          0.13864594218042495,
          0.18333333333333335,
          0.10701010101010101,
          -0.07719298245614035,
          -0.006208333333333338,
          0.005050505050505045,
          -0.18333333333333332,
          0.09,
          -0.21145833333333333,
          -0.0025000000000000187,
          0.1157863636363636,
          0.08538720538720536,
          -0.08834776334776333,
          -0.03861111111111111,
          0.004999999999999993,
          -0.03139393939393941,
          0.10392156862745097,
          -0.015316962730755845,
          0.38,
          -0.03611111111111114,
          0.02962962962962963,
          0.1417989417989418,
          0.2147727272727273,
          0.18580246913580248,
          0.20315789473684212,
          -0.049999999999999996,
          0.02622549019607843,
          0.15052083333333335,
          -0.026543898809523805,
          0.3350000000000001,
          0.35000000000000003,
          -0.0030303030303030234,
          0.012500000000000008,
          0.07306547619047618,
          -0.052213064713064715,
          -0.06845238095238096,
          0.11651515151515152,
          0.23939393939393944,
          0.053574203574203574,
          0.1275862068965517,
          0.13000000000000003,
          0.030000000000000006,
          -0.01111111111111111,
          -0.05457589285714286,
          0.0915909090909091,
          0.12499999999999999,
          0.05068870523415978,
          -0.19409523809523813,
          -0.08666666666666667,
          0.15823863636363636,
          0.16153846153846152,
          0.041540404040404044,
          -0.15497685185185187,
          0.003454715219421096,
          0.15999999999999998,
          -0.1541005291005291,
          0.06952720482132246,
          -0.09591489428445951,
          -0.012500000000000004,
          0.11608391608391609,
          0.23839285714285716,
          -0.00749999999999999,
          -0.010030864197530855,
          0.3427272727272727,
          0.030782312925170047,
          -0.03558201058201059,
          -0.0859848484848485,
          0.33254545454545464,
          0.11511656746031747,
          0.06344696969696971,
          0.01875,
          -0.11111111111111112,
          0,
          0.41,
          0.13333333333333333,
          0.1,
          0.5833333333333334,
          0.10988636363636364,
          0.21515151515151512,
          -0.013333333333333338,
          0.4693993506493507,
          0.02272727272727272,
          0.375,
          -0.07500000000000001,
          0.12065527065527062,
          0.5041666666666667,
          0.2,
          0.004761904761904761,
          0.31666666666666665,
          -0.05,
          0.35882352941176465,
          0.017592592592592587,
          0,
          0.17230392156862745,
          0.1375,
          0.06999999999999999,
          0.007142857142857125,
          0.3446363636363637,
          0.07777777777777779,
          0.075,
          0.175,
          -0.010858585858585864,
          0.12200000000000003,
          0.25,
          0.2431372549019608,
          0.13263888888888892,
          0.4083333333333333,
          0.3611111111111111,
          0.5681818181818181,
          0.19814814814814813,
          -0.032407407407407406,
          0.425,
          0.85,
          0.35625,
          0.033333333333333326,
          0.18333333333333335,
          -0.4,
          0.35833333333333334,
          0.09999999999999999,
          0.425,
          0.29074074074074074,
          0.22307692307692312,
          0.04000000000000001,
          -0.07142857142857142,
          0.2125,
          0.03308080808080809,
          0.15666666666666668,
          0,
          0.005555555555555551,
          0.42083333333333334,
          0,
          0.36666666666666664,
          0,
          0.06666666666666668,
          -0.05111111111111111,
          0.18095238095238095,
          0.39999999999999997,
          -0.012500000000000011,
          0,
          0.175,
          0.05238095238095238,
          0.2636363636363636,
          -0.06666666666666668,
          0.4555555555555555,
          -0.009259259259259259,
          -0.007499999999999995,
          0.025,
          0.6,
          -0.25,
          0.3111111111111111,
          -0.30000000000000004,
          0.28863636363636364,
          0.3,
          0.33251748251748253,
          -0.08095238095238094,
          0.09999999999999998,
          0.3,
          0.03444444444444443,
          0.13932291666666669,
          -0.0922997835497836,
          0.03280228758169934,
          0.01587388801674515,
          -0.18411564625850335,
          0.16063041125541125,
          0.05241649690179101,
          -0.02876984126984128,
          0.059819549663299665,
          0.1628257575757576,
          0.1678030303030303,
          0.030369543650793644,
          0.06355194805194804,
          0.11674025974025977,
          0.0920386904761905,
          -0.16336580086580085,
          -0.03752164502164504,
          -0.027160493827160504,
          -0.015384615384615392,
          0.118,
          0.11428571428571425,
          -0.08484848484848485,
          0.026818181818181817,
          -0.038095238095238085,
          0.135,
          0.28113636363636363,
          0.19583333333333333,
          -0.15634502923976606,
          -0.09795918367346938,
          -0.023275862068965508,
          0.23583333333333334,
          0,
          -0.06000000000000001,
          0.3928571428571429,
          0.175,
          0.22008928571428565,
          0.1485275689223058,
          -0.1380952380952381,
          0.16292929292929292,
          -0.10111111111111111,
          0.06875000000000002,
          -0.10340909090909091,
          0.36520979020979016,
          0.3743801652892561,
          0.11435574229691878,
          0.13267045454545456,
          0.042658730158730174,
          0.16027462121212122,
          0.2772727272727273,
          -0.10111111111111111,
          -0.006578947368421076,
          -0.2904306220095693,
          -0.002083333333333321,
          0.25937499999999997,
          0.32272727272727275,
          0.25055658627087196,
          0.4378378378378379,
          0.3254166666666667,
          0.35,
          0.16945454545454544,
          0.26111111111111107,
          0.13118686868686869,
          0.6,
          0.03333333333333331,
          0.40606060606060607,
          0.3785714285714286,
          0.18,
          -0.14,
          0.09578787878787878,
          0.3101449275362319,
          0.09523809523809523,
          0.33412698412698405,
          0.16954887218045114,
          -0.18583959899749372,
          0.024089635854341734,
          -0.07686868686868685,
          0.0369047619047619,
          0.01818181818181817,
          0.11888053467000835,
          0.09527914614121512,
          0,
          0.1971645021645022,
          -0.31136363636363634,
          0.36470588235294116,
          0.45909090909090905,
          -0.03492822966507177,
          0.18787878787878795,
          0.35324675324675325,
          0.26666233766233766,
          0.2527777777777778,
          0.07200000000000002,
          -0.10140291806958474,
          0.3703703703703704,
          0.12152777777777779,
          0.5,
          0.35,
          0,
          0.19515151515151516,
          0.2,
          0.2294893378226711,
          0.1215909090909091,
          0,
          -0.19999999999999998,
          -0.11111111111111116,
          0.1625,
          0.28463636363636363,
          0.4675324675324675,
          -0.1457142857142857,
          0.21555555555555553,
          0.26363636363636367,
          0.2259090909090909,
          0.014393939393939395,
          0.284090909090909,
          0.21176470588235294,
          0.24687499999999996,
          0.31242424242424244,
          0.43333333333333335,
          0.4309259259259259,
          0.08818958818958822,
          -0.2545454545454545,
          0.4811118705855548,
          0.17368421052631577,
          0.30735294117647055,
          0.46758620689655195,
          0.18741258741258743,
          0.5235294117647059,
          0.085,
          0.07723214285714286,
          0.348,
          0.28238636363636366,
          0.4451704545454545,
          0.08827160493827162,
          0.15347222222222223,
          0.3530681818181817,
          0.26831818181818184,
          0.3666666666666666,
          0.3465298142717497,
          0.020370370370370372,
          0.08240740740740742,
          -0.0625,
          0.23522727272727273,
          -0.24615384615384614,
          0.23484848484848483,
          0.3,
          0.32659932659932667,
          0.463478945297127,
          0.19193548387096773,
          0.3,
          0.2857142857142857,
          0.05519480519480519,
          0.23452380952380952,
          0.3585660660660661,
          0.03265306122448979,
          0.0840232683982684,
          0.12499999999999999,
          0.3081818181818182,
          0.18589285714285714,
          0.0803030303030303,
          -0.3097222222222222,
          0.45083333333333325,
          0.12045454545454547,
          0.1605855855855856,
          0.1875,
          0.506060606060606,
          0.7999999999999999,
          -0.18333333333333332,
          0.25416666666666665,
          0.34285714285714286,
          -0.009090909090909082,
          0.005555555555555551,
          0.2789930555555556,
          0.47000000000000003,
          0.18076923076923077,
          0.475,
          -0.28,
          0.3952380952380953,
          -0.07499999999999998,
          0.38927981109799287,
          0.028571428571428574,
          0.19000000000000003,
          0.13365384615384615,
          -0.2333874458874459,
          0.23626033057851242,
          0.3592592592592593,
          -0.15555555555555556,
          0.21368686868686868,
          0.225,
          -0.12980769230769232,
          0.03642857142857143,
          0.26354166666666673,
          0.29500000000000004,
          0.06071428571428572,
          0.04615384615384616,
          0.12954545454545455,
          0.5,
          0.21250000000000002,
          0.25833333333333336,
          0.4089285714285715,
          0.15657894736842107,
          0.10999999999999999,
          0.3147727272727273,
          0.30043859649122806,
          0.18081918081918083,
          0.22925000000000004,
          0.03888888888888889,
          0.322979797979798,
          0.3833333333333333,
          0.27556818181818177,
          0.10142045454545454,
          0.23195045695045696,
          0.280976430976431,
          0.3443333333333334,
          0.19027777777777777,
          0.2982456140350877,
          0.2152529761904762,
          0.37213695395513574,
          0.1857142857142857,
          -0.08,
          -0.125,
          0.22870370370370374,
          0.0987603305785124,
          0.1181547619047619,
          0.1948717948717949,
          0.09749999999999999,
          0.07478354978354979,
          0.048226010101010096,
          0.0775,
          0.17007575757575757,
          0.2874999999999999,
          0.06439393939393939,
          0.054000000000000006,
          0.07387766554433221,
          0.09999999999999999,
          0.22727272727272727,
          0.2556277056277057,
          0.16,
          0.03314393939393939,
          0.3464545454545454,
          0.2689393939393939,
          0.5296296296296297,
          0.26071428571428573,
          0.37,
          0.198754734848485,
          0.1787878787878788,
          0.15476190476190474,
          0.08928571428571429,
          -0.05679012345679012,
          -0.07848639455782314,
          0.11666666666666665,
          0.32689393939393935,
          0.21305785123966955,
          0.25394570707070707,
          -0.09812834224598932,
          -0.03333333333333333,
          0.4666666666666667,
          -0.00454545454545455,
          0.1480316558441558,
          0.13739669421487602,
          -0.18461538461538465,
          0.1644412878787879,
          0.24147186147186145,
          0.08125000000000002,
          0.010866477272727274,
          0,
          -0.125,
          0.06233766233766234,
          0.07074675324675325,
          0.07896825396825397,
          0.01877828054298643,
          0.060767195767195775,
          -0.10580357142857141,
          0.029707792207792214,
          0.15470328282828283,
          0.13447802197802197,
          0.01670274170274171,
          0.18000000000000002,
          -0.1499278499278499,
          0,
          -0.06043859649122806,
          -0.13703703703703704,
          0.2389610389610389,
          0.06316964285714291,
          -0.0287878787878788,
          0.14833333333333334,
          0.04047619047619047,
          0.1,
          0.060256410256410216,
          0.30892857142857144,
          0.03636363636363637,
          0.02781818181818182,
          -0.16199589883800408,
          0.02342592592592593,
          -0.5,
          -0.016874999999999998,
          0.13333333333333333,
          0.06001420454545455,
          -0.1875,
          0.306
         ],
         "y0": " ",
         "yaxis": "y"
        }
       ],
       "layout": {
        "boxmode": "group",
        "legend": {
         "tracegroupgap": 0
        },
        "template": {
         "data": {
          "bar": [
           {
            "error_x": {
             "color": "#2a3f5f"
            },
            "error_y": {
             "color": "#2a3f5f"
            },
            "marker": {
             "line": {
              "color": "#E5ECF6",
              "width": 0.5
             },
             "pattern": {
              "fillmode": "overlay",
              "size": 10,
              "solidity": 0.2
             }
            },
            "type": "bar"
           }
          ],
          "barpolar": [
           {
            "marker": {
             "line": {
              "color": "#E5ECF6",
              "width": 0.5
             },
             "pattern": {
              "fillmode": "overlay",
              "size": 10,
              "solidity": 0.2
             }
            },
            "type": "barpolar"
           }
          ],
          "carpet": [
           {
            "aaxis": {
             "endlinecolor": "#2a3f5f",
             "gridcolor": "white",
             "linecolor": "white",
             "minorgridcolor": "white",
             "startlinecolor": "#2a3f5f"
            },
            "baxis": {
             "endlinecolor": "#2a3f5f",
             "gridcolor": "white",
             "linecolor": "white",
             "minorgridcolor": "white",
             "startlinecolor": "#2a3f5f"
            },
            "type": "carpet"
           }
          ],
          "choropleth": [
           {
            "colorbar": {
             "outlinewidth": 0,
             "ticks": ""
            },
            "type": "choropleth"
           }
          ],
          "contour": [
           {
            "colorbar": {
             "outlinewidth": 0,
             "ticks": ""
            },
            "colorscale": [
             [
              0,
              "#0d0887"
             ],
             [
              0.1111111111111111,
              "#46039f"
             ],
             [
              0.2222222222222222,
              "#7201a8"
             ],
             [
              0.3333333333333333,
              "#9c179e"
             ],
             [
              0.4444444444444444,
              "#bd3786"
             ],
             [
              0.5555555555555556,
              "#d8576b"
             ],
             [
              0.6666666666666666,
              "#ed7953"
             ],
             [
              0.7777777777777778,
              "#fb9f3a"
             ],
             [
              0.8888888888888888,
              "#fdca26"
             ],
             [
              1,
              "#f0f921"
             ]
            ],
            "type": "contour"
           }
          ],
          "contourcarpet": [
           {
            "colorbar": {
             "outlinewidth": 0,
             "ticks": ""
            },
            "type": "contourcarpet"
           }
          ],
          "heatmap": [
           {
            "colorbar": {
             "outlinewidth": 0,
             "ticks": ""
            },
            "colorscale": [
             [
              0,
              "#0d0887"
             ],
             [
              0.1111111111111111,
              "#46039f"
             ],
             [
              0.2222222222222222,
              "#7201a8"
             ],
             [
              0.3333333333333333,
              "#9c179e"
             ],
             [
              0.4444444444444444,
              "#bd3786"
             ],
             [
              0.5555555555555556,
              "#d8576b"
             ],
             [
              0.6666666666666666,
              "#ed7953"
             ],
             [
              0.7777777777777778,
              "#fb9f3a"
             ],
             [
              0.8888888888888888,
              "#fdca26"
             ],
             [
              1,
              "#f0f921"
             ]
            ],
            "type": "heatmap"
           }
          ],
          "heatmapgl": [
           {
            "colorbar": {
             "outlinewidth": 0,
             "ticks": ""
            },
            "colorscale": [
             [
              0,
              "#0d0887"
             ],
             [
              0.1111111111111111,
              "#46039f"
             ],
             [
              0.2222222222222222,
              "#7201a8"
             ],
             [
              0.3333333333333333,
              "#9c179e"
             ],
             [
              0.4444444444444444,
              "#bd3786"
             ],
             [
              0.5555555555555556,
              "#d8576b"
             ],
             [
              0.6666666666666666,
              "#ed7953"
             ],
             [
              0.7777777777777778,
              "#fb9f3a"
             ],
             [
              0.8888888888888888,
              "#fdca26"
             ],
             [
              1,
              "#f0f921"
             ]
            ],
            "type": "heatmapgl"
           }
          ],
          "histogram": [
           {
            "marker": {
             "pattern": {
              "fillmode": "overlay",
              "size": 10,
              "solidity": 0.2
             }
            },
            "type": "histogram"
           }
          ],
          "histogram2d": [
           {
            "colorbar": {
             "outlinewidth": 0,
             "ticks": ""
            },
            "colorscale": [
             [
              0,
              "#0d0887"
             ],
             [
              0.1111111111111111,
              "#46039f"
             ],
             [
              0.2222222222222222,
              "#7201a8"
             ],
             [
              0.3333333333333333,
              "#9c179e"
             ],
             [
              0.4444444444444444,
              "#bd3786"
             ],
             [
              0.5555555555555556,
              "#d8576b"
             ],
             [
              0.6666666666666666,
              "#ed7953"
             ],
             [
              0.7777777777777778,
              "#fb9f3a"
             ],
             [
              0.8888888888888888,
              "#fdca26"
             ],
             [
              1,
              "#f0f921"
             ]
            ],
            "type": "histogram2d"
           }
          ],
          "histogram2dcontour": [
           {
            "colorbar": {
             "outlinewidth": 0,
             "ticks": ""
            },
            "colorscale": [
             [
              0,
              "#0d0887"
             ],
             [
              0.1111111111111111,
              "#46039f"
             ],
             [
              0.2222222222222222,
              "#7201a8"
             ],
             [
              0.3333333333333333,
              "#9c179e"
             ],
             [
              0.4444444444444444,
              "#bd3786"
             ],
             [
              0.5555555555555556,
              "#d8576b"
             ],
             [
              0.6666666666666666,
              "#ed7953"
             ],
             [
              0.7777777777777778,
              "#fb9f3a"
             ],
             [
              0.8888888888888888,
              "#fdca26"
             ],
             [
              1,
              "#f0f921"
             ]
            ],
            "type": "histogram2dcontour"
           }
          ],
          "mesh3d": [
           {
            "colorbar": {
             "outlinewidth": 0,
             "ticks": ""
            },
            "type": "mesh3d"
           }
          ],
          "parcoords": [
           {
            "line": {
             "colorbar": {
              "outlinewidth": 0,
              "ticks": ""
             }
            },
            "type": "parcoords"
           }
          ],
          "pie": [
           {
            "automargin": true,
            "type": "pie"
           }
          ],
          "scatter": [
           {
            "fillpattern": {
             "fillmode": "overlay",
             "size": 10,
             "solidity": 0.2
            },
            "type": "scatter"
           }
          ],
          "scatter3d": [
           {
            "line": {
             "colorbar": {
              "outlinewidth": 0,
              "ticks": ""
             }
            },
            "marker": {
             "colorbar": {
              "outlinewidth": 0,
              "ticks": ""
             }
            },
            "type": "scatter3d"
           }
          ],
          "scattercarpet": [
           {
            "marker": {
             "colorbar": {
              "outlinewidth": 0,
              "ticks": ""
             }
            },
            "type": "scattercarpet"
           }
          ],
          "scattergeo": [
           {
            "marker": {
             "colorbar": {
              "outlinewidth": 0,
              "ticks": ""
             }
            },
            "type": "scattergeo"
           }
          ],
          "scattergl": [
           {
            "marker": {
             "colorbar": {
              "outlinewidth": 0,
              "ticks": ""
             }
            },
            "type": "scattergl"
           }
          ],
          "scattermapbox": [
           {
            "marker": {
             "colorbar": {
              "outlinewidth": 0,
              "ticks": ""
             }
            },
            "type": "scattermapbox"
           }
          ],
          "scatterpolar": [
           {
            "marker": {
             "colorbar": {
              "outlinewidth": 0,
              "ticks": ""
             }
            },
            "type": "scatterpolar"
           }
          ],
          "scatterpolargl": [
           {
            "marker": {
             "colorbar": {
              "outlinewidth": 0,
              "ticks": ""
             }
            },
            "type": "scatterpolargl"
           }
          ],
          "scatterternary": [
           {
            "marker": {
             "colorbar": {
              "outlinewidth": 0,
              "ticks": ""
             }
            },
            "type": "scatterternary"
           }
          ],
          "surface": [
           {
            "colorbar": {
             "outlinewidth": 0,
             "ticks": ""
            },
            "colorscale": [
             [
              0,
              "#0d0887"
             ],
             [
              0.1111111111111111,
              "#46039f"
             ],
             [
              0.2222222222222222,
              "#7201a8"
             ],
             [
              0.3333333333333333,
              "#9c179e"
             ],
             [
              0.4444444444444444,
              "#bd3786"
             ],
             [
              0.5555555555555556,
              "#d8576b"
             ],
             [
              0.6666666666666666,
              "#ed7953"
             ],
             [
              0.7777777777777778,
              "#fb9f3a"
             ],
             [
              0.8888888888888888,
              "#fdca26"
             ],
             [
              1,
              "#f0f921"
             ]
            ],
            "type": "surface"
           }
          ],
          "table": [
           {
            "cells": {
             "fill": {
              "color": "#EBF0F8"
             },
             "line": {
              "color": "white"
             }
            },
            "header": {
             "fill": {
              "color": "#C8D4E3"
             },
             "line": {
              "color": "white"
             }
            },
            "type": "table"
           }
          ]
         },
         "layout": {
          "annotationdefaults": {
           "arrowcolor": "#2a3f5f",
           "arrowhead": 0,
           "arrowwidth": 1
          },
          "autotypenumbers": "strict",
          "coloraxis": {
           "colorbar": {
            "outlinewidth": 0,
            "ticks": ""
           }
          },
          "colorscale": {
           "diverging": [
            [
             0,
             "#8e0152"
            ],
            [
             0.1,
             "#c51b7d"
            ],
            [
             0.2,
             "#de77ae"
            ],
            [
             0.3,
             "#f1b6da"
            ],
            [
             0.4,
             "#fde0ef"
            ],
            [
             0.5,
             "#f7f7f7"
            ],
            [
             0.6,
             "#e6f5d0"
            ],
            [
             0.7,
             "#b8e186"
            ],
            [
             0.8,
             "#7fbc41"
            ],
            [
             0.9,
             "#4d9221"
            ],
            [
             1,
             "#276419"
            ]
           ],
           "sequential": [
            [
             0,
             "#0d0887"
            ],
            [
             0.1111111111111111,
             "#46039f"
            ],
            [
             0.2222222222222222,
             "#7201a8"
            ],
            [
             0.3333333333333333,
             "#9c179e"
            ],
            [
             0.4444444444444444,
             "#bd3786"
            ],
            [
             0.5555555555555556,
             "#d8576b"
            ],
            [
             0.6666666666666666,
             "#ed7953"
            ],
            [
             0.7777777777777778,
             "#fb9f3a"
            ],
            [
             0.8888888888888888,
             "#fdca26"
            ],
            [
             1,
             "#f0f921"
            ]
           ],
           "sequentialminus": [
            [
             0,
             "#0d0887"
            ],
            [
             0.1111111111111111,
             "#46039f"
            ],
            [
             0.2222222222222222,
             "#7201a8"
            ],
            [
             0.3333333333333333,
             "#9c179e"
            ],
            [
             0.4444444444444444,
             "#bd3786"
            ],
            [
             0.5555555555555556,
             "#d8576b"
            ],
            [
             0.6666666666666666,
             "#ed7953"
            ],
            [
             0.7777777777777778,
             "#fb9f3a"
            ],
            [
             0.8888888888888888,
             "#fdca26"
            ],
            [
             1,
             "#f0f921"
            ]
           ]
          },
          "colorway": [
           "#636efa",
           "#EF553B",
           "#00cc96",
           "#ab63fa",
           "#FFA15A",
           "#19d3f3",
           "#FF6692",
           "#B6E880",
           "#FF97FF",
           "#FECB52"
          ],
          "font": {
           "color": "#2a3f5f"
          },
          "geo": {
           "bgcolor": "white",
           "lakecolor": "white",
           "landcolor": "#E5ECF6",
           "showlakes": true,
           "showland": true,
           "subunitcolor": "white"
          },
          "hoverlabel": {
           "align": "left"
          },
          "hovermode": "closest",
          "mapbox": {
           "style": "light"
          },
          "paper_bgcolor": "white",
          "plot_bgcolor": "#E5ECF6",
          "polar": {
           "angularaxis": {
            "gridcolor": "white",
            "linecolor": "white",
            "ticks": ""
           },
           "bgcolor": "#E5ECF6",
           "radialaxis": {
            "gridcolor": "white",
            "linecolor": "white",
            "ticks": ""
           }
          },
          "scene": {
           "xaxis": {
            "backgroundcolor": "#E5ECF6",
            "gridcolor": "white",
            "gridwidth": 2,
            "linecolor": "white",
            "showbackground": true,
            "ticks": "",
            "zerolinecolor": "white"
           },
           "yaxis": {
            "backgroundcolor": "#E5ECF6",
            "gridcolor": "white",
            "gridwidth": 2,
            "linecolor": "white",
            "showbackground": true,
            "ticks": "",
            "zerolinecolor": "white"
           },
           "zaxis": {
            "backgroundcolor": "#E5ECF6",
            "gridcolor": "white",
            "gridwidth": 2,
            "linecolor": "white",
            "showbackground": true,
            "ticks": "",
            "zerolinecolor": "white"
           }
          },
          "shapedefaults": {
           "line": {
            "color": "#2a3f5f"
           }
          },
          "ternary": {
           "aaxis": {
            "gridcolor": "white",
            "linecolor": "white",
            "ticks": ""
           },
           "baxis": {
            "gridcolor": "white",
            "linecolor": "white",
            "ticks": ""
           },
           "bgcolor": "#E5ECF6",
           "caxis": {
            "gridcolor": "white",
            "linecolor": "white",
            "ticks": ""
           }
          },
          "title": {
           "x": 0.05
          },
          "xaxis": {
           "automargin": true,
           "gridcolor": "white",
           "linecolor": "white",
           "ticks": "",
           "title": {
            "standoff": 15
           },
           "zerolinecolor": "white",
           "zerolinewidth": 2
          },
          "yaxis": {
           "automargin": true,
           "gridcolor": "white",
           "linecolor": "white",
           "ticks": "",
           "title": {
            "standoff": 15
           },
           "zerolinecolor": "white",
           "zerolinewidth": 2
          }
         }
        },
        "title": {
         "text": "Sentiment by artist"
        },
        "xaxis": {
         "anchor": "y",
         "domain": [
          0,
          1
         ],
         "title": {
          "text": "Artist"
         }
        },
        "yaxis": {
         "anchor": "x",
         "domain": [
          0,
          1
         ],
         "title": {
          "text": "sentiment"
         }
        }
       }
      },
      "text/html": [
       "<div>                            <div id=\"9774123c-8e3f-41a6-bbf5-6df874c1faac\" class=\"plotly-graph-div\" style=\"height:525px; width:100%;\"></div>            <script type=\"text/javascript\">                require([\"plotly\"], function(Plotly) {                    window.PLOTLYENV=window.PLOTLYENV || {};                                    if (document.getElementById(\"9774123c-8e3f-41a6-bbf5-6df874c1faac\")) {                    Plotly.newPlot(                        \"9774123c-8e3f-41a6-bbf5-6df874c1faac\",                        [{\"alignmentgroup\":\"True\",\"hovertemplate\":\"Artist=%{x}<br>sentiment=%{y}<extra></extra>\",\"legendgroup\":\"\",\"marker\":{\"color\":\"#636efa\"},\"name\":\"\",\"notched\":false,\"offsetgroup\":\"\",\"orientation\":\"v\",\"showlegend\":false,\"x\":[\"\\u0531\\u0550\\u0539\\u0548\\u0552\\u0550 \\u0544\\u0535\\u054d\\u0549\\u0545\\u0531\\u0546\",\"\\u0531\\u0550\\u0539\\u0548\\u0552\\u0550 \\u0544\\u0535\\u054d\\u0549\\u0545\\u0531\\u0546\",\"\\u0531\\u0550\\u0539\\u0548\\u0552\\u0550 \\u0544\\u0535\\u054d\\u0549\\u0545\\u0531\\u0546\",\"\\u0531\\u0550\\u0539\\u0548\\u0552\\u0550 \\u0544\\u0535\\u054d\\u0549\\u0545\\u0531\\u0546\",\"\\u0531\\u0550\\u0539\\u0548\\u0552\\u0550 \\u0544\\u0535\\u054d\\u0549\\u0545\\u0531\\u0546\",\"\\u0531\\u0550\\u0539\\u0548\\u0552\\u0550 \\u0544\\u0535\\u054d\\u0549\\u0545\\u0531\\u0546\",\"\\u0531\\u0550\\u0539\\u0548\\u0552\\u0550 \\u0544\\u0535\\u054d\\u0549\\u0545\\u0531\\u0546\",\"\\u0531\\u0550\\u0539\\u0548\\u0552\\u0550 \\u0544\\u0535\\u054d\\u0549\\u0545\\u0531\\u0546\",\"\\u0531\\u0550\\u0539\\u0548\\u0552\\u0550 \\u0544\\u0535\\u054d\\u0549\\u0545\\u0531\\u0546\",\"\\u0531\\u0550\\u0539\\u0548\\u0552\\u0550 \\u0544\\u0535\\u054d\\u0549\\u0545\\u0531\\u0546\",\"\\u0531\\u0550\\u0539\\u0548\\u0552\\u0550 \\u0544\\u0535\\u054d\\u0549\\u0545\\u0531\\u0546\",\"\\u0531\\u0550\\u0539\\u0548\\u0552\\u0550 \\u0544\\u0535\\u054d\\u0549\\u0545\\u0531\\u0546\",\"\\u0531\\u0550\\u0539\\u0548\\u0552\\u0550 \\u0544\\u0535\\u054d\\u0549\\u0545\\u0531\\u0546\",\"\\u0531\\u0550\\u0539\\u0548\\u0552\\u0550 \\u0544\\u0535\\u054d\\u0549\\u0545\\u0531\\u0546\",\"\\u0531\\u0550\\u0539\\u0548\\u0552\\u0550 \\u0544\\u0535\\u054d\\u0549\\u0545\\u0531\\u0546\",\"\\u0531\\u0550\\u0539\\u0548\\u0552\\u0550 \\u0544\\u0535\\u054d\\u0549\\u0545\\u0531\\u0546\",\"\\u0531\\u0550\\u0539\\u0548\\u0552\\u0550 \\u0544\\u0535\\u054d\\u0549\\u0545\\u0531\\u0546\",\"\\u0531\\u0550\\u0539\\u0548\\u0552\\u0550 \\u0544\\u0535\\u054d\\u0549\\u0545\\u0531\\u0546\",\"\\u0531\\u0550\\u0539\\u0548\\u0552\\u0550 \\u0544\\u0535\\u054d\\u0549\\u0545\\u0531\\u0546\",\"\\u0531\\u0550\\u0539\\u0548\\u0552\\u0550 \\u0544\\u0535\\u054d\\u0549\\u0545\\u0531\\u0546\",\"\\u0531\\u0550\\u0539\\u0548\\u0552\\u0550 \\u0544\\u0535\\u054d\\u0549\\u0545\\u0531\\u0546\",\"\\u0531\\u0550\\u0539\\u0548\\u0552\\u0550 \\u0544\\u0535\\u054d\\u0549\\u0545\\u0531\\u0546\",\"\\u0531\\u0550\\u0539\\u0548\\u0552\\u0550 \\u0544\\u0535\\u054d\\u0549\\u0545\\u0531\\u0546\",\"\\u0531\\u0550\\u0539\\u0548\\u0552\\u0550 \\u0544\\u0535\\u054d\\u0549\\u0545\\u0531\\u0546\",\"\\u0531\\u0550\\u0539\\u0548\\u0552\\u0550 \\u0544\\u0535\\u054d\\u0549\\u0545\\u0531\\u0546\",\"\\u0531\\u0550\\u0539\\u0548\\u0552\\u0550 \\u0544\\u0535\\u054d\\u0549\\u0545\\u0531\\u0546\",\"\\u0531\\u0550\\u0539\\u0548\\u0552\\u0550 \\u0544\\u0535\\u054d\\u0549\\u0545\\u0531\\u0546\",\"\\u0531\\u0550\\u0539\\u0548\\u0552\\u0550 \\u0544\\u0535\\u054d\\u0549\\u0545\\u0531\\u0546\",\"\\u0531\\u0550\\u0539\\u0548\\u0552\\u0550 \\u0544\\u0535\\u054d\\u0549\\u0545\\u0531\\u0546\",\"\\u0531\\u0550\\u0539\\u0548\\u0552\\u0550 \\u0544\\u0535\\u054d\\u0549\\u0545\\u0531\\u0546\",\"\\u0531\\u0550\\u0539\\u0548\\u0552\\u0550 \\u0544\\u0535\\u054d\\u0549\\u0545\\u0531\\u0546\",\"\\u0531\\u0550\\u0539\\u0548\\u0552\\u0550 \\u0544\\u0535\\u054d\\u0549\\u0545\\u0531\\u0546\",\"\\u0531\\u0550\\u0539\\u0548\\u0552\\u0550 \\u0544\\u0535\\u054d\\u0549\\u0545\\u0531\\u0546\",\"\\u0531\\u0550\\u0539\\u0548\\u0552\\u0550 \\u0544\\u0535\\u054d\\u0549\\u0545\\u0531\\u0546\",\"\\u0531\\u0550\\u0539\\u0548\\u0552\\u0550 \\u0544\\u0535\\u054d\\u0549\\u0545\\u0531\\u0546\",\"\\u0531\\u0550\\u0539\\u0548\\u0552\\u0550 \\u0544\\u0535\\u054d\\u0549\\u0545\\u0531\\u0546\",\"\\u0531\\u0550\\u0539\\u0548\\u0552\\u0550 \\u0544\\u0535\\u054d\\u0549\\u0545\\u0531\\u0546\",\"\\u0531\\u0550\\u0539\\u0548\\u0552\\u0550 \\u0544\\u0535\\u054d\\u0549\\u0545\\u0531\\u0546\",\"\\u0531\\u0550\\u0539\\u0548\\u0552\\u0550 \\u0544\\u0535\\u054d\\u0549\\u0545\\u0531\\u0546\",\"\\u0531\\u0550\\u0539\\u0548\\u0552\\u0550 \\u0544\\u0535\\u054d\\u0549\\u0545\\u0531\\u0546\",\"\\u0531\\u0550\\u0539\\u0548\\u0552\\u0550 \\u0544\\u0535\\u054d\\u0549\\u0545\\u0531\\u0546\",\"\\u0531\\u0550\\u0539\\u0548\\u0552\\u0550 \\u0544\\u0535\\u054d\\u0549\\u0545\\u0531\\u0546\",\"\\u0531\\u0550\\u0539\\u0548\\u0552\\u0550 \\u0544\\u0535\\u054d\\u0549\\u0545\\u0531\\u0546\",\"\\u0531\\u0550\\u0539\\u0548\\u0552\\u0550 \\u0544\\u0535\\u054d\\u0549\\u0545\\u0531\\u0546\",\"\\u0531\\u0550\\u0539\\u0548\\u0552\\u0550 \\u0544\\u0535\\u054d\\u0549\\u0545\\u0531\\u0546\",\"\\u0531\\u0550\\u0539\\u0548\\u0552\\u0550 \\u0544\\u0535\\u054d\\u0549\\u0545\\u0531\\u0546\",\"\\u0531\\u0550\\u0539\\u0548\\u0552\\u0550 \\u0544\\u0535\\u054d\\u0549\\u0545\\u0531\\u0546\",\"\\u0531\\u0550\\u0539\\u0548\\u0552\\u0550 \\u0544\\u0535\\u054d\\u0549\\u0545\\u0531\\u0546\",\"\\u0531\\u0550\\u0539\\u0548\\u0552\\u0550 \\u0544\\u0535\\u054d\\u0549\\u0545\\u0531\\u0546\",\"\\u0531\\u0550\\u0539\\u0548\\u0552\\u0550 \\u0544\\u0535\\u054d\\u0549\\u0545\\u0531\\u0546\",\"\\u054c\\u0548\\u0552\\u0532\\u0535\\u0546 \\u0540\\u0531\\u053d\\u054e\\u0535\\u0550\\u0534\\u0545\\u0531\\u0546\",\"\\u054c\\u0548\\u0552\\u0532\\u0535\\u0546 \\u0540\\u0531\\u053d\\u054e\\u0535\\u0550\\u0534\\u0545\\u0531\\u0546\",\"\\u054c\\u0548\\u0552\\u0532\\u0535\\u0546 \\u0540\\u0531\\u053d\\u054e\\u0535\\u0550\\u0534\\u0545\\u0531\\u0546\",\"\\u054c\\u0548\\u0552\\u0532\\u0535\\u0546 \\u0540\\u0531\\u053d\\u054e\\u0535\\u0550\\u0534\\u0545\\u0531\\u0546\",\"\\u054c\\u0548\\u0552\\u0532\\u0535\\u0546 \\u0540\\u0531\\u053d\\u054e\\u0535\\u0550\\u0534\\u0545\\u0531\\u0546\",\"\\u054c\\u0548\\u0552\\u0532\\u0535\\u0546 \\u0540\\u0531\\u053d\\u054e\\u0535\\u0550\\u0534\\u0545\\u0531\\u0546\",\"\\u054c\\u0548\\u0552\\u0532\\u0535\\u0546 \\u0540\\u0531\\u053d\\u054e\\u0535\\u0550\\u0534\\u0545\\u0531\\u0546\",\"\\u054c\\u0548\\u0552\\u0532\\u0535\\u0546 \\u0540\\u0531\\u053d\\u054e\\u0535\\u0550\\u0534\\u0545\\u0531\\u0546\",\"\\u054c\\u0548\\u0552\\u0532\\u0535\\u0546 \\u0540\\u0531\\u053d\\u054e\\u0535\\u0550\\u0534\\u0545\\u0531\\u0546\",\"\\u054c\\u0548\\u0552\\u0532\\u0535\\u0546 \\u0540\\u0531\\u053d\\u054e\\u0535\\u0550\\u0534\\u0545\\u0531\\u0546\",\"\\u054c\\u0548\\u0552\\u0532\\u0535\\u0546 \\u0540\\u0531\\u053d\\u054e\\u0535\\u0550\\u0534\\u0545\\u0531\\u0546\",\"\\u054c\\u0548\\u0552\\u0532\\u0535\\u0546 \\u0540\\u0531\\u053d\\u054e\\u0535\\u0550\\u0534\\u0545\\u0531\\u0546\",\"\\u054c\\u0548\\u0552\\u0532\\u0535\\u0546 \\u0540\\u0531\\u053d\\u054e\\u0535\\u0550\\u0534\\u0545\\u0531\\u0546\",\"\\u054c\\u0548\\u0552\\u0532\\u0535\\u0546 \\u0540\\u0531\\u053d\\u054e\\u0535\\u0550\\u0534\\u0545\\u0531\\u0546\",\"\\u054c\\u0548\\u0552\\u0532\\u0535\\u0546 \\u0540\\u0531\\u053d\\u054e\\u0535\\u0550\\u0534\\u0545\\u0531\\u0546\",\"\\u054c\\u0548\\u0552\\u0532\\u0535\\u0546 \\u0540\\u0531\\u053d\\u054e\\u0535\\u0550\\u0534\\u0545\\u0531\\u0546\",\"\\u054c\\u0548\\u0552\\u0532\\u0535\\u0546 \\u0540\\u0531\\u053d\\u054e\\u0535\\u0550\\u0534\\u0545\\u0531\\u0546\",\"\\u054c\\u0548\\u0552\\u0532\\u0535\\u0546 \\u0540\\u0531\\u053d\\u054e\\u0535\\u0550\\u0534\\u0545\\u0531\\u0546\",\"\\u054c\\u0548\\u0552\\u0532\\u0535\\u0546 \\u0540\\u0531\\u053d\\u054e\\u0535\\u0550\\u0534\\u0545\\u0531\\u0546\",\"\\u054c\\u0548\\u0552\\u0532\\u0535\\u0546 \\u0540\\u0531\\u053d\\u054e\\u0535\\u0550\\u0534\\u0545\\u0531\\u0546\",\"\\u054c\\u0548\\u0552\\u0532\\u0535\\u0546 \\u0540\\u0531\\u053d\\u054e\\u0535\\u0550\\u0534\\u0545\\u0531\\u0546\",\"\\u054c\\u0548\\u0552\\u0532\\u0535\\u0546 \\u0540\\u0531\\u053d\\u054e\\u0535\\u0550\\u0534\\u0545\\u0531\\u0546\",\"\\u054c\\u0548\\u0552\\u0532\\u0535\\u0546 \\u0540\\u0531\\u053d\\u054e\\u0535\\u0550\\u0534\\u0545\\u0531\\u0546\",\"\\u054c\\u0548\\u0552\\u0532\\u0535\\u0546 \\u0540\\u0531\\u053d\\u054e\\u0535\\u0550\\u0534\\u0545\\u0531\\u0546\",\"\\u054c\\u0548\\u0552\\u0532\\u0535\\u0546 \\u0540\\u0531\\u053d\\u054e\\u0535\\u0550\\u0534\\u0545\\u0531\\u0546\",\"\\u054c\\u0548\\u0552\\u0532\\u0535\\u0546 \\u0540\\u0531\\u053d\\u054e\\u0535\\u0550\\u0534\\u0545\\u0531\\u0546\",\"\\u054c\\u0548\\u0552\\u0532\\u0535\\u0546 \\u0540\\u0531\\u053d\\u054e\\u0535\\u0550\\u0534\\u0545\\u0531\\u0546\",\"\\u054c\\u0548\\u0552\\u0532\\u0535\\u0546 \\u0540\\u0531\\u053d\\u054e\\u0535\\u0550\\u0534\\u0545\\u0531\\u0546\",\"\\u054c\\u0548\\u0552\\u0532\\u0535\\u0546 \\u0540\\u0531\\u053d\\u054e\\u0535\\u0550\\u0534\\u0545\\u0531\\u0546\",\"\\u054c\\u0548\\u0552\\u0532\\u0535\\u0546 \\u0540\\u0531\\u053d\\u054e\\u0535\\u0550\\u0534\\u0545\\u0531\\u0546\",\"\\u054c\\u0548\\u0552\\u0532\\u0535\\u0546 \\u0540\\u0531\\u053d\\u054e\\u0535\\u0550\\u0534\\u0545\\u0531\\u0546\",\"\\u054c\\u0548\\u0552\\u0532\\u0535\\u0546 \\u0540\\u0531\\u053d\\u054e\\u0535\\u0550\\u0534\\u0545\\u0531\\u0546\",\"\\u054c\\u0548\\u0552\\u0532\\u0535\\u0546 \\u0540\\u0531\\u053d\\u054e\\u0535\\u0550\\u0534\\u0545\\u0531\\u0546\",\"\\u054c\\u0548\\u0552\\u0532\\u0535\\u0546 \\u0540\\u0531\\u053d\\u054e\\u0535\\u0550\\u0534\\u0545\\u0531\\u0546\",\"\\u054c\\u0548\\u0552\\u0532\\u0535\\u0546 \\u0540\\u0531\\u053d\\u054e\\u0535\\u0550\\u0534\\u0545\\u0531\\u0546\",\"\\u054c\\u0548\\u0552\\u0532\\u0535\\u0546 \\u0540\\u0531\\u053d\\u054e\\u0535\\u0550\\u0534\\u0545\\u0531\\u0546\",\"\\u054c\\u0548\\u0552\\u0532\\u0535\\u0546 \\u0540\\u0531\\u053d\\u054e\\u0535\\u0550\\u0534\\u0545\\u0531\\u0546\",\"\\u054c\\u0548\\u0552\\u0532\\u0535\\u0546 \\u0540\\u0531\\u053d\\u054e\\u0535\\u0550\\u0534\\u0545\\u0531\\u0546\",\"\\u054c\\u0548\\u0552\\u0532\\u0535\\u0546 \\u0540\\u0531\\u053d\\u054e\\u0535\\u0550\\u0534\\u0545\\u0531\\u0546\",\"\\u054c\\u0548\\u0552\\u0532\\u0535\\u0546 \\u0540\\u0531\\u053d\\u054e\\u0535\\u0550\\u0534\\u0545\\u0531\\u0546\",\"\\u054c\\u0548\\u0552\\u0532\\u0535\\u0546 \\u0540\\u0531\\u053d\\u054e\\u0535\\u0550\\u0534\\u0545\\u0531\\u0546\",\"\\u054c\\u0548\\u0552\\u0532\\u0535\\u0546 \\u0540\\u0531\\u053d\\u054e\\u0535\\u0550\\u0534\\u0545\\u0531\\u0546\",\"\\u054c\\u0548\\u0552\\u0532\\u0535\\u0546 \\u0540\\u0531\\u053d\\u054e\\u0535\\u0550\\u0534\\u0545\\u0531\\u0546\",\"\\u054c\\u0548\\u0552\\u0532\\u0535\\u0546 \\u0540\\u0531\\u053d\\u054e\\u0535\\u0550\\u0534\\u0545\\u0531\\u0546\",\"\\u054c\\u0548\\u0552\\u0532\\u0535\\u0546 \\u0540\\u0531\\u053d\\u054e\\u0535\\u0550\\u0534\\u0545\\u0531\\u0546\",\"\\u054c\\u0548\\u0552\\u0532\\u0535\\u0546 \\u0540\\u0531\\u053d\\u054e\\u0535\\u0550\\u0534\\u0545\\u0531\\u0546\",\"\\u054c\\u0548\\u0552\\u0532\\u0535\\u0546 \\u0540\\u0531\\u053d\\u054e\\u0535\\u0550\\u0534\\u0545\\u0531\\u0546\",\"\\u054c\\u0548\\u0552\\u0532\\u0535\\u0546 \\u0540\\u0531\\u053d\\u054e\\u0535\\u0550\\u0534\\u0545\\u0531\\u0546\",\"\\u054c\\u0548\\u0552\\u0532\\u0535\\u0546 \\u0540\\u0531\\u053d\\u054e\\u0535\\u0550\\u0534\\u0545\\u0531\\u0546\",\"\\u054c\\u0548\\u0552\\u0532\\u0535\\u0546 \\u0540\\u0531\\u053d\\u054e\\u0535\\u0550\\u0534\\u0545\\u0531\\u0546\",\"\\u054c\\u0548\\u0552\\u0532\\u0535\\u0546 \\u0540\\u0531\\u053d\\u054e\\u0535\\u0550\\u0534\\u0545\\u0531\\u0546\",\"\\u054c\\u0548\\u0552\\u0532\\u0535\\u0546 \\u0540\\u0531\\u053d\\u054e\\u0535\\u0550\\u0534\\u0545\\u0531\\u0546\",\"\\u054c\\u0548\\u0552\\u0532\\u0535\\u0546 \\u0540\\u0531\\u053d\\u054e\\u0535\\u0550\\u0534\\u0545\\u0531\\u0546\",\"\\u054c\\u0548\\u0552\\u0532\\u0535\\u0546 \\u0540\\u0531\\u053d\\u054e\\u0535\\u0550\\u0534\\u0545\\u0531\\u0546\",\"\\u054c\\u0548\\u0552\\u0532\\u0535\\u0546 \\u0540\\u0531\\u053d\\u054e\\u0535\\u0550\\u0534\\u0545\\u0531\\u0546\",\"\\u054c\\u0548\\u0552\\u0532\\u0535\\u0546 \\u0540\\u0531\\u053d\\u054e\\u0535\\u0550\\u0534\\u0545\\u0531\\u0546\",\"\\u054c\\u0548\\u0552\\u0532\\u0535\\u0546 \\u0540\\u0531\\u053d\\u054e\\u0535\\u0550\\u0534\\u0545\\u0531\\u0546\",\"\\u054c\\u0548\\u0552\\u0532\\u0535\\u0546 \\u0540\\u0531\\u053d\\u054e\\u0535\\u0550\\u0534\\u0545\\u0531\\u0546\",\"\\u054c\\u0548\\u0552\\u0532\\u0535\\u0546 \\u0540\\u0531\\u053d\\u054e\\u0535\\u0550\\u0534\\u0545\\u0531\\u0546\",\"\\u054c\\u0548\\u0552\\u0532\\u0535\\u0546 \\u0540\\u0531\\u053d\\u054e\\u0535\\u0550\\u0534\\u0545\\u0531\\u0546\",\"\\u054c\\u0548\\u0552\\u0532\\u0535\\u0546 \\u0540\\u0531\\u053d\\u054e\\u0535\\u0550\\u0534\\u0545\\u0531\\u0546\",\"\\u054c\\u0548\\u0552\\u0532\\u0535\\u0546 \\u0540\\u0531\\u053d\\u054e\\u0535\\u0550\\u0534\\u0545\\u0531\\u0546\",\"\\u054c\\u0548\\u0552\\u0532\\u0535\\u0546 \\u0540\\u0531\\u053d\\u054e\\u0535\\u0550\\u0534\\u0545\\u0531\\u0546\",\"\\u054c\\u0548\\u0552\\u0532\\u0535\\u0546 \\u0540\\u0531\\u053d\\u054e\\u0535\\u0550\\u0534\\u0545\\u0531\\u0546\",\"\\u054c\\u0548\\u0552\\u0532\\u0535\\u0546 \\u0540\\u0531\\u053d\\u054e\\u0535\\u0550\\u0534\\u0545\\u0531\\u0546\",\"\\u054c\\u0548\\u0552\\u0532\\u0535\\u0546 \\u0540\\u0531\\u053d\\u054e\\u0535\\u0550\\u0534\\u0545\\u0531\\u0546\",\"\\u054c\\u0548\\u0552\\u0532\\u0535\\u0546 \\u0540\\u0531\\u053d\\u054e\\u0535\\u0550\\u0534\\u0545\\u0531\\u0546\",\"\\u054c\\u0548\\u0552\\u0532\\u0535\\u0546 \\u0540\\u0531\\u053d\\u054e\\u0535\\u0550\\u0534\\u0545\\u0531\\u0546\",\"\\u054c\\u0548\\u0552\\u0532\\u0535\\u0546 \\u0540\\u0531\\u053d\\u054e\\u0535\\u0550\\u0534\\u0545\\u0531\\u0546\",\"\\u054c\\u0548\\u0552\\u0532\\u0535\\u0546 \\u0540\\u0531\\u053d\\u054e\\u0535\\u0550\\u0534\\u0545\\u0531\\u0546\",\"\\u054c\\u0548\\u0552\\u0532\\u0535\\u0546 \\u0540\\u0531\\u053d\\u054e\\u0535\\u0550\\u0534\\u0545\\u0531\\u0546\",\"\\u054c\\u0548\\u0552\\u0532\\u0535\\u0546 \\u0540\\u0531\\u053d\\u054e\\u0535\\u0550\\u0534\\u0545\\u0531\\u0546\",\"\\u054c\\u0548\\u0552\\u0532\\u0535\\u0546 \\u0540\\u0531\\u053d\\u054e\\u0535\\u0550\\u0534\\u0545\\u0531\\u0546\",\"\\u054c\\u0548\\u0552\\u0532\\u0535\\u0546 \\u0540\\u0531\\u053d\\u054e\\u0535\\u0550\\u0534\\u0545\\u0531\\u0546\",\"\\u054c\\u0548\\u0552\\u0532\\u0535\\u0546 \\u0540\\u0531\\u053d\\u054e\\u0535\\u0550\\u0534\\u0545\\u0531\\u0546\",\"\\u054c\\u0548\\u0552\\u0532\\u0535\\u0546 \\u0540\\u0531\\u053d\\u054e\\u0535\\u0550\\u0534\\u0545\\u0531\\u0546\",\"\\u054c\\u0548\\u0552\\u0532\\u0535\\u0546 \\u0540\\u0531\\u053d\\u054e\\u0535\\u0550\\u0534\\u0545\\u0531\\u0546\",\"\\u054c\\u0548\\u0552\\u0532\\u0535\\u0546 \\u0540\\u0531\\u053d\\u054e\\u0535\\u0550\\u0534\\u0545\\u0531\\u0546\",\"\\u054c\\u0548\\u0552\\u0532\\u0535\\u0546 \\u0540\\u0531\\u053d\\u054e\\u0535\\u0550\\u0534\\u0545\\u0531\\u0546\",\"\\u054c\\u0548\\u0552\\u0532\\u0535\\u0546 \\u0540\\u0531\\u053d\\u054e\\u0535\\u0550\\u0534\\u0545\\u0531\\u0546\",\"\\u054c\\u0548\\u0552\\u0532\\u0535\\u0546 \\u0540\\u0531\\u053d\\u054e\\u0535\\u0550\\u0534\\u0545\\u0531\\u0546\",\"\\u054d\\u0531\\u0545\\u0531\\u0539-\\u0546\\u0548\\u054e\\u0531\",\"\\u054d\\u0531\\u0545\\u0531\\u0539-\\u0546\\u0548\\u054e\\u0531\",\"\\u054d\\u0531\\u0545\\u0531\\u0539-\\u0546\\u0548\\u054e\\u0531\",\"\\u054d\\u0531\\u0545\\u0531\\u0539-\\u0546\\u0548\\u054e\\u0531\",\"\\u054d\\u0531\\u0545\\u0531\\u0539-\\u0546\\u0548\\u054e\\u0531\",\"\\u054d\\u0531\\u0545\\u0531\\u0539-\\u0546\\u0548\\u054e\\u0531\",\"\\u054d\\u0531\\u0545\\u0531\\u0539-\\u0546\\u0548\\u054e\\u0531\",\"\\u054d\\u0531\\u0545\\u0531\\u0539-\\u0546\\u0548\\u054e\\u0531\",\"\\u054d\\u0531\\u0545\\u0531\\u0539-\\u0546\\u0548\\u054e\\u0531\",\"\\u054d\\u0531\\u0545\\u0531\\u0539-\\u0546\\u0548\\u054e\\u0531\",\"\\u054d\\u0531\\u0545\\u0531\\u0539-\\u0546\\u0548\\u054e\\u0531\",\"\\u054d\\u0531\\u0545\\u0531\\u0539-\\u0546\\u0548\\u054e\\u0531\",\"\\u054d\\u0531\\u0545\\u0531\\u0539-\\u0546\\u0548\\u054e\\u0531\",\"\\u054d\\u0531\\u0545\\u0531\\u0539-\\u0546\\u0548\\u054e\\u0531\",\"\\u054d\\u0531\\u0545\\u0531\\u0539-\\u0546\\u0548\\u054e\\u0531\",\"\\u054d\\u0531\\u0545\\u0531\\u0539-\\u0546\\u0548\\u054e\\u0531\",\"\\u053f\\u0548\\u0544\\u053b\\u054f\\u0531\\u054d\",\"\\u053f\\u0548\\u0544\\u053b\\u054f\\u0531\\u054d\",\"\\u053f\\u0548\\u0544\\u053b\\u054f\\u0531\\u054d\",\"\\u053f\\u0548\\u0544\\u053b\\u054f\\u0531\\u054d\",\"\\u053f\\u0548\\u0544\\u053b\\u054f\\u0531\\u054d\",\"\\u053f\\u0548\\u0544\\u053b\\u054f\\u0531\\u054d\",\"\\u053f\\u0548\\u0544\\u053b\\u054f\\u0531\\u054d\",\"\\u053f\\u0548\\u0544\\u053b\\u054f\\u0531\\u054d\",\"\\u053f\\u0548\\u0544\\u053b\\u054f\\u0531\\u054d\",\"\\u053f\\u0548\\u0544\\u053b\\u054f\\u0531\\u054d\",\"\\u053f\\u0548\\u0544\\u053b\\u054f\\u0531\\u054d\",\"\\u053f\\u0548\\u0544\\u053b\\u054f\\u0531\\u054d\",\"\\u053f\\u0548\\u0544\\u053b\\u054f\\u0531\\u054d\",\"\\u053f\\u0548\\u0544\\u053b\\u054f\\u0531\\u054d\",\"\\u053f\\u0548\\u0544\\u053b\\u054f\\u0531\\u054d\",\"\\u053f\\u0548\\u0544\\u053b\\u054f\\u0531\\u054d\",\"\\u053f\\u0548\\u0544\\u053b\\u054f\\u0531\\u054d\",\"\\u053f\\u0548\\u0544\\u053b\\u054f\\u0531\\u054d\",\"\\u053f\\u0548\\u0544\\u053b\\u054f\\u0531\\u054d\",\"\\u053f\\u0548\\u0544\\u053b\\u054f\\u0531\\u054d\",\"\\u053f\\u0548\\u0544\\u053b\\u054f\\u0531\\u054d\",\"\\u053f\\u0548\\u0544\\u053b\\u054f\\u0531\\u054d\",\"\\u053f\\u0548\\u0544\\u053b\\u054f\\u0531\\u054d\",\"\\u053f\\u0548\\u0544\\u053b\\u054f\\u0531\\u054d\",\"\\u053f\\u0548\\u0544\\u053b\\u054f\\u0531\\u054d\",\"\\u053f\\u0548\\u0544\\u053b\\u054f\\u0531\\u054d\",\"\\u053f\\u0548\\u0544\\u053b\\u054f\\u0531\\u054d\",\"\\u053f\\u0548\\u0544\\u053b\\u054f\\u0531\\u054d\",\"\\u053f\\u0548\\u0544\\u053b\\u054f\\u0531\\u054d\",\"\\u053f\\u0548\\u0544\\u053b\\u054f\\u0531\\u054d\",\"\\u053f\\u0548\\u0544\\u053b\\u054f\\u0531\\u054d\",\"\\u053f\\u0548\\u0544\\u053b\\u054f\\u0531\\u054d\",\"\\u053f\\u0548\\u0544\\u053b\\u054f\\u0531\\u054d\",\"\\u053f\\u0548\\u0544\\u053b\\u054f\\u0531\\u054d\",\"\\u053f\\u0548\\u0544\\u053b\\u054f\\u0531\\u054d\",\"\\u053f\\u0548\\u0544\\u053b\\u054f\\u0531\\u054d\",\"\\u053f\\u0548\\u0544\\u053b\\u054f\\u0531\\u054d\",\"\\u053f\\u0548\\u0544\\u053b\\u054f\\u0531\\u054d\",\"\\u053f\\u0548\\u0544\\u053b\\u054f\\u0531\\u054d\",\"\\u053f\\u0548\\u0544\\u053b\\u054f\\u0531\\u054d\",\"\\u053f\\u0548\\u0544\\u053b\\u054f\\u0531\\u054d\",\"\\u053f\\u0548\\u0544\\u053b\\u054f\\u0531\\u054d\",\"\\u053f\\u0548\\u0544\\u053b\\u054f\\u0531\\u054d\",\"\\u053f\\u0548\\u0544\\u053b\\u054f\\u0531\\u054d\",\"\\u053f\\u0548\\u0544\\u053b\\u054f\\u0531\\u054d\",\"\\u053f\\u0548\\u0544\\u053b\\u054f\\u0531\\u054d\",\"\\u053f\\u0548\\u0544\\u053b\\u054f\\u0531\\u054d\",\"\\u053f\\u0548\\u0544\\u053b\\u054f\\u0531\\u054d\",\"\\u053f\\u0548\\u0544\\u053b\\u054f\\u0531\\u054d\",\"\\u053f\\u0548\\u0544\\u053b\\u054f\\u0531\\u054d\",\"\\u053f\\u0548\\u0544\\u053b\\u054f\\u0531\\u054d\",\"\\u053f\\u0548\\u0544\\u053b\\u054f\\u0531\\u054d\",\"\\u053f\\u0548\\u0544\\u053b\\u054f\\u0531\\u054d\",\"\\u053f\\u0548\\u0544\\u053b\\u054f\\u0531\\u054d\",\"\\u053f\\u0548\\u0544\\u053b\\u054f\\u0531\\u054d\",\"\\u053f\\u0548\\u0544\\u053b\\u054f\\u0531\\u054d\",\"\\u053f\\u0548\\u0544\\u053b\\u054f\\u0531\\u054d\",\"\\u053f\\u0548\\u0544\\u053b\\u054f\\u0531\\u054d\",\"\\u053f\\u0548\\u0544\\u053b\\u054f\\u0531\\u054d\",\"\\u053f\\u0548\\u0544\\u053b\\u054f\\u0531\\u054d\",\"\\u053f\\u0548\\u0544\\u053b\\u054f\\u0531\\u054d\",\"\\u053f\\u0548\\u0544\\u053b\\u054f\\u0531\\u054d\",\"HT Hayko\",\"HT Hayko\",\"HT Hayko\",\"HT Hayko\",\"HT Hayko\",\"HT Hayko\",\"HT Hayko\",\"HT Hayko\",\"HT Hayko\",\"HT Hayko\",\"HT Hayko\",\"HT Hayko\",\"HT Hayko\",\"HT Hayko\",\"HT Hayko\",\"HT Hayko\",\"Empyray\",\"Empyray\",\"Empyray\",\"Empyray\",\"Empyray\",\"Empyray\",\"Empyray\",\"Empyray\",\"Empyray\",\"Empyray\",\" Lav Eli\",\" Lav Eli\",\" Lav Eli\",\" Lav Eli\",\" Lav Eli\",\" Lav Eli\",\" Lav Eli\",\" Lav Eli\",\" Lav Eli\",\"Silva Hakobyan\",\"Silva Hakobyan\",\"Silva Hakobyan\",\"Silva Hakobyan\",\"Silva Hakobyan\",\"Silva Hakobyan\",\"Silva Hakobyan\",\"Silva Hakobyan\",\"Silva Hakobyan\",\"Silva Hakobyan\",\"Silva Hakobyan\",\"Silva Hakobyan\",\"Silva Hakobyan\",\"Silva Hakobyan\",\"Silva Hakobyan\",\"Silva Hakobyan\",\"Silva Hakobyan\",\"Silva Hakobyan\",\"Silva Hakobyan\",\"Silva Hakobyan\",\"\\u0531\\u0576\\u0564\\u0580\\u0565\",\"\\u0531\\u0576\\u0564\\u0580\\u0565\",\"\\u0531\\u0576\\u0564\\u0580\\u0565\",\"\\u0531\\u0576\\u0564\\u0580\\u0565\",\"\\u0531\\u0576\\u0564\\u0580\\u0565\",\"\\u0531\\u0576\\u0564\\u0580\\u0565\",\"\\u0531\\u0576\\u0564\\u0580\\u0565\",\"\\u0531\\u0576\\u0564\\u0580\\u0565\",\"\\u0531\\u0576\\u0564\\u0580\\u0565\",\"\\u0531\\u0576\\u0564\\u0580\\u0565\",\"\\u0531\\u0576\\u0564\\u0580\\u0565\",\"\\u0531\\u0576\\u0564\\u0580\\u0565\",\"\\u053c\\u056b\\u056c\\u056b\\u0569 \\u0540\\u0578\\u057e\\u0570\\u0561\\u0576\\u0576\\u056b\\u057d\\u0575\\u0561\\u0576\",\"\\u053c\\u056b\\u056c\\u056b\\u0569 \\u0540\\u0578\\u057e\\u0570\\u0561\\u0576\\u0576\\u056b\\u057d\\u0575\\u0561\\u0576\",\"\\u053c\\u056b\\u056c\\u056b\\u0569 \\u0540\\u0578\\u057e\\u0570\\u0561\\u0576\\u0576\\u056b\\u057d\\u0575\\u0561\\u0576\",\"\\u053c\\u056b\\u056c\\u056b\\u0569 \\u0540\\u0578\\u057e\\u0570\\u0561\\u0576\\u0576\\u056b\\u057d\\u0575\\u0561\\u0576\",\"\\u053c\\u056b\\u056c\\u056b\\u0569 \\u0540\\u0578\\u057e\\u0570\\u0561\\u0576\\u0576\\u056b\\u057d\\u0575\\u0561\\u0576\",\"\\u053c\\u056b\\u056c\\u056b\\u0569 \\u0540\\u0578\\u057e\\u0570\\u0561\\u0576\\u0576\\u056b\\u057d\\u0575\\u0561\\u0576\",\"\\u053c\\u056b\\u056c\\u056b\\u0569 \\u0540\\u0578\\u057e\\u0570\\u0561\\u0576\\u0576\\u056b\\u057d\\u0575\\u0561\\u0576\",\"\\u053c\\u056b\\u056c\\u056b\\u0569 \\u0540\\u0578\\u057e\\u0570\\u0561\\u0576\\u0576\\u056b\\u057d\\u0575\\u0561\\u0576\",\"\\u053c\\u056b\\u056c\\u056b\\u0569 \\u0540\\u0578\\u057e\\u0570\\u0561\\u0576\\u0576\\u056b\\u057d\\u0575\\u0561\\u0576\",\"\\u053c\\u056b\\u056c\\u056b\\u0569 \\u0540\\u0578\\u057e\\u0570\\u0561\\u0576\\u0576\\u056b\\u057d\\u0575\\u0561\\u0576\",\"\\u053c\\u056b\\u056c\\u056b\\u0569 \\u0540\\u0578\\u057e\\u0570\\u0561\\u0576\\u0576\\u056b\\u057d\\u0575\\u0561\\u0576\",\"\\u053c\\u056b\\u056c\\u056b\\u0569 \\u0540\\u0578\\u057e\\u0570\\u0561\\u0576\\u0576\\u056b\\u057d\\u0575\\u0561\\u0576\",\"\\u053c\\u056b\\u056c\\u056b\\u0569 \\u0540\\u0578\\u057e\\u0570\\u0561\\u0576\\u0576\\u056b\\u057d\\u0575\\u0561\\u0576\",\"\\u053c\\u056b\\u056c\\u056b\\u0569 \\u0540\\u0578\\u057e\\u0570\\u0561\\u0576\\u0576\\u056b\\u057d\\u0575\\u0561\\u0576\",\"\\u053c\\u056b\\u056c\\u056b\\u0569 \\u0540\\u0578\\u057e\\u0570\\u0561\\u0576\\u0576\\u056b\\u057d\\u0575\\u0561\\u0576\",\"\\u053c\\u056b\\u056c\\u056b\\u0569 \\u0540\\u0578\\u057e\\u0570\\u0561\\u0576\\u0576\\u056b\\u057d\\u0575\\u0561\\u0576\",\"\\u053c\\u056b\\u056c\\u056b\\u0569 \\u0540\\u0578\\u057e\\u0570\\u0561\\u0576\\u0576\\u056b\\u057d\\u0575\\u0561\\u0576\",\"\\u053c\\u056b\\u056c\\u056b\\u0569 \\u0540\\u0578\\u057e\\u0570\\u0561\\u0576\\u0576\\u056b\\u057d\\u0575\\u0561\\u0576\",\"\\u053c\\u056b\\u056c\\u056b\\u0569 \\u0540\\u0578\\u057e\\u0570\\u0561\\u0576\\u0576\\u056b\\u057d\\u0575\\u0561\\u0576\",\"\\u053c\\u056b\\u056c\\u056b\\u0569 \\u0540\\u0578\\u057e\\u0570\\u0561\\u0576\\u0576\\u056b\\u057d\\u0575\\u0561\\u0576\",\"\\u053c\\u056b\\u056c\\u056b\\u0569 \\u0540\\u0578\\u057e\\u0570\\u0561\\u0576\\u0576\\u056b\\u057d\\u0575\\u0561\\u0576\",\"\\u053c\\u056b\\u056c\\u056b\\u0569 \\u0540\\u0578\\u057e\\u0570\\u0561\\u0576\\u0576\\u056b\\u057d\\u0575\\u0561\\u0576\",\"\\u053c\\u056b\\u056c\\u056b\\u0569 \\u0540\\u0578\\u057e\\u0570\\u0561\\u0576\\u0576\\u056b\\u057d\\u0575\\u0561\\u0576\",\"\\u053c\\u056b\\u056c\\u056b\\u0569 \\u0540\\u0578\\u057e\\u0570\\u0561\\u0576\\u0576\\u056b\\u057d\\u0575\\u0561\\u0576\",\"\\u054d\\u056b\\u0580\\u0578\\u0582\\u0577\\u0578\",\"\\u054d\\u056b\\u0580\\u0578\\u0582\\u0577\\u0578\",\"\\u054d\\u056b\\u0580\\u0578\\u0582\\u0577\\u0578\",\"\\u054d\\u056b\\u0580\\u0578\\u0582\\u0577\\u0578\",\"\\u054d\\u056b\\u0580\\u0578\\u0582\\u0577\\u0578\",\"\\u054d\\u056b\\u0580\\u0578\\u0582\\u0577\\u0578\",\"\\u054d\\u056b\\u0580\\u0578\\u0582\\u0577\\u0578\",\"\\u054d\\u056b\\u0580\\u0578\\u0582\\u0577\\u0578\",\"\\u054d\\u056b\\u0580\\u0578\\u0582\\u0577\\u0578\",\"\\u054d\\u056b\\u0580\\u0578\\u0582\\u0577\\u0578\",\"\\u054d\\u056b\\u0580\\u0578\\u0582\\u0577\\u0578\",\"\\u054d\\u056b\\u0580\\u0578\\u0582\\u0577\\u0578\",\"\\u054d\\u056b\\u0580\\u0578\\u0582\\u0577\\u0578\",\"\\u054d\\u056b\\u0580\\u0578\\u0582\\u0577\\u0578\",\"\\u054d\\u056b\\u0580\\u0578\\u0582\\u0577\\u0578\",\"\\u054d\\u056b\\u0580\\u0578\\u0582\\u0577\\u0578\",\"\\u054d\\u056b\\u0580\\u0578\\u0582\\u0577\\u0578\",\"\\u054d\\u056b\\u0580\\u0578\\u0582\\u0577\\u0578\",\"\\u054d\\u056b\\u0580\\u0578\\u0582\\u0577\\u0578\",\"\\u054d\\u056b\\u0580\\u0578\\u0582\\u0577\\u0578\",\"\\u054d\\u056b\\u0580\\u0578\\u0582\\u0577\\u0578\",\"\\u054d\\u056b\\u0580\\u0578\\u0582\\u0577\\u0578\",\"\\u054d\\u056b\\u0580\\u0578\\u0582\\u0577\\u0578\",\"\\u054d\\u056b\\u0580\\u0578\\u0582\\u0577\\u0578\",\"\\u054d\\u056b\\u0580\\u0578\\u0582\\u0577\\u0578\",\"\\u0544\\u056b\\u0570\\u0580\\u0561\\u0576 \\u053e\\u0561\\u057c\\u0578\\u0582\\u056f\\u0575\\u0561\\u0576\",\"\\u0544\\u056b\\u0570\\u0580\\u0561\\u0576 \\u053e\\u0561\\u057c\\u0578\\u0582\\u056f\\u0575\\u0561\\u0576\",\"\\u0544\\u056b\\u0570\\u0580\\u0561\\u0576 \\u053e\\u0561\\u057c\\u0578\\u0582\\u056f\\u0575\\u0561\\u0576\",\"\\u0544\\u056b\\u0570\\u0580\\u0561\\u0576 \\u053e\\u0561\\u057c\\u0578\\u0582\\u056f\\u0575\\u0561\\u0576\",\"\\u0544\\u056b\\u0570\\u0580\\u0561\\u0576 \\u053e\\u0561\\u057c\\u0578\\u0582\\u056f\\u0575\\u0561\\u0576\",\"\\u0544\\u056b\\u0570\\u0580\\u0561\\u0576 \\u053e\\u0561\\u057c\\u0578\\u0582\\u056f\\u0575\\u0561\\u0576\",\"\\u0544\\u056b\\u0570\\u0580\\u0561\\u0576 \\u053e\\u0561\\u057c\\u0578\\u0582\\u056f\\u0575\\u0561\\u0576\",\"\\u0544\\u056b\\u0570\\u0580\\u0561\\u0576 \\u053e\\u0561\\u057c\\u0578\\u0582\\u056f\\u0575\\u0561\\u0576\",\"\\u0544\\u056b\\u0570\\u0580\\u0561\\u0576 \\u053e\\u0561\\u057c\\u0578\\u0582\\u056f\\u0575\\u0561\\u0576\",\"\\u0544\\u056b\\u0570\\u0580\\u0561\\u0576 \\u053e\\u0561\\u057c\\u0578\\u0582\\u056f\\u0575\\u0561\\u0576\",\"\\u0544\\u056b\\u0570\\u0580\\u0561\\u0576 \\u053e\\u0561\\u057c\\u0578\\u0582\\u056f\\u0575\\u0561\\u0576\",\"\\u0544\\u056b\\u0570\\u0580\\u0561\\u0576 \\u053e\\u0561\\u057c\\u0578\\u0582\\u056f\\u0575\\u0561\\u0576\",\"\\u0544\\u056b\\u0570\\u0580\\u0561\\u0576 \\u053e\\u0561\\u057c\\u0578\\u0582\\u056f\\u0575\\u0561\\u0576\",\"\\u0544\\u056b\\u0570\\u0580\\u0561\\u0576 \\u053e\\u0561\\u057c\\u0578\\u0582\\u056f\\u0575\\u0561\\u0576\",\"\\u0544\\u056b\\u0570\\u0580\\u0561\\u0576 \\u053e\\u0561\\u057c\\u0578\\u0582\\u056f\\u0575\\u0561\\u0576\",\"\\u0544\\u056b\\u0570\\u0580\\u0561\\u0576 \\u053e\\u0561\\u057c\\u0578\\u0582\\u056f\\u0575\\u0561\\u0576\",\"\\u0544\\u056b\\u0570\\u0580\\u0561\\u0576 \\u053e\\u0561\\u057c\\u0578\\u0582\\u056f\\u0575\\u0561\\u0576\",\"\\u0544\\u056b\\u0570\\u0580\\u0561\\u0576 \\u053e\\u0561\\u057c\\u0578\\u0582\\u056f\\u0575\\u0561\\u0576\",\"Arame\",\"Arame\",\"Arame\",\"Arame\",\"Arame\",\"Arame\",\"Arame\",\"Arame\",\"Arame\",\"Razmik Amyan\",\"Razmik Amyan\",\"Razmik Amyan\",\"Razmik Amyan\",\"Razmik Amyan\",\"Razmik Amyan\",\"Razmik Amyan\",\"Razmik Amyan\",\"Razmik Amyan\",\"Razmik Amyan\",\"Razmik Amyan\",\"Razmik Amyan\",\"Razmik Amyan\",\"Razmik Amyan\",\"Razmik Amyan\",\"Razmik Amyan\",\"Razmik Amyan\",\"Razmik Amyan\",\"Harout Pamboukjian\",\"Harout Pamboukjian\",\"Harout Pamboukjian\",\"Harout Pamboukjian\",\"Harout Pamboukjian\",\"Harout Pamboukjian\",\"Harout Pamboukjian\",\"Harout Pamboukjian\",\"Harout Pamboukjian\",\"Harout Pamboukjian\",\"Harout Pamboukjian\",\"Harout Pamboukjian\",\"Harout Pamboukjian\",\"Harout Pamboukjian\",\"Harout Pamboukjian\",\"Harout Pamboukjian\",\"Harout Pamboukjian\",\"Harout Pamboukjian\",\"Harout Pamboukjian\",\"Harout Pamboukjian\",\"Harout Pamboukjian\",\"Harout Pamboukjian\",\"Harout Pamboukjian\",\"Harout Pamboukjian\",\"Harout Pamboukjian\",\"Harout Pamboukjian\",\"Harout Pamboukjian\",\"Harout Pamboukjian\",\"Harout Pamboukjian\",\"Harout Pamboukjian\",\"Harout Pamboukjian\",\"Harout Pamboukjian\",\"\\u0540\\u0561\\u0575\\u056f \\u0540\\u0561\\u056f\\u0578\\u0562\\u0575\\u0561\\u0576\",\"\\u0540\\u0561\\u0575\\u056f \\u0540\\u0561\\u056f\\u0578\\u0562\\u0575\\u0561\\u0576\",\"\\u0540\\u0561\\u0575\\u056f \\u0540\\u0561\\u056f\\u0578\\u0562\\u0575\\u0561\\u0576\",\"\\u0540\\u0561\\u0575\\u056f \\u0540\\u0561\\u056f\\u0578\\u0562\\u0575\\u0561\\u0576\",\"\\u0540\\u0561\\u0575\\u056f \\u0540\\u0561\\u056f\\u0578\\u0562\\u0575\\u0561\\u0576\",\"\\u0540\\u0561\\u0575\\u056f \\u0540\\u0561\\u056f\\u0578\\u0562\\u0575\\u0561\\u0576\",\"\\u0540\\u0561\\u0575\\u056f \\u0540\\u0561\\u056f\\u0578\\u0562\\u0575\\u0561\\u0576\",\"\\u0540\\u0561\\u0575\\u056f \\u0540\\u0561\\u056f\\u0578\\u0562\\u0575\\u0561\\u0576\",\"\\u0540\\u0561\\u0575\\u056f \\u0540\\u0561\\u056f\\u0578\\u0562\\u0575\\u0561\\u0576\",\"\\u0540\\u0561\\u0575\\u056f \\u0540\\u0561\\u056f\\u0578\\u0562\\u0575\\u0561\\u0576\",\"\\u0540\\u0561\\u0575\\u056f \\u0540\\u0561\\u056f\\u0578\\u0562\\u0575\\u0561\\u0576\",\"\\u0540\\u0561\\u0575\\u056f \\u0540\\u0561\\u056f\\u0578\\u0562\\u0575\\u0561\\u0576\",\"\\u0540\\u0561\\u0575\\u056f \\u0540\\u0561\\u056f\\u0578\\u0562\\u0575\\u0561\\u0576\",\"\\u0540\\u0561\\u0575\\u056f \\u0540\\u0561\\u056f\\u0578\\u0562\\u0575\\u0561\\u0576\",\"\\u0540\\u0561\\u0575\\u056f \\u0540\\u0561\\u056f\\u0578\\u0562\\u0575\\u0561\\u0576\",\"\\u0540\\u0561\\u0575\\u056f \\u0540\\u0561\\u056f\\u0578\\u0562\\u0575\\u0561\\u0576\",\"\\u0540\\u0561\\u0575\\u056f \\u0540\\u0561\\u056f\\u0578\\u0562\\u0575\\u0561\\u0576\",\"\\u0540\\u0561\\u0575\\u056f \\u0540\\u0561\\u056f\\u0578\\u0562\\u0575\\u0561\\u0576\",\"\\u0540\\u0561\\u0575\\u056f \\u0540\\u0561\\u056f\\u0578\\u0562\\u0575\\u0561\\u0576\",\"\\u0540\\u0561\\u0575\\u056f \\u0540\\u0561\\u056f\\u0578\\u0562\\u0575\\u0561\\u0576\",\"\\u0540\\u0561\\u0575\\u056f \\u0540\\u0561\\u056f\\u0578\\u0562\\u0575\\u0561\\u0576\",\"\\u0540\\u0561\\u0575\\u056f \\u0540\\u0561\\u056f\\u0578\\u0562\\u0575\\u0561\\u0576\",\"\\u0540\\u0561\\u0575\\u056f \\u0540\\u0561\\u056f\\u0578\\u0562\\u0575\\u0561\\u0576\",\"Aram MP3\",\"Aram MP3\",\"Arsen Safaryan\",\"Arsen Safaryan\",\"Arsen Safaryan\",\"Arsen Safaryan\",\"Arsen Safaryan\",\"Arsen Safaryan\",\"Arsen Safaryan\",\"Arsen Safaryan\",\"Arsen Safaryan\",\"Arsen Safaryan\",\"Arsen Safaryan\",\"Arsen Safaryan\",\"Arsen Safaryan\",\"Arsen Safaryan\",\"Arsen Safaryan\",\"Arsen Safaryan\",\"Arsen Safaryan\",\"Arsen Safaryan\",\"Arsen Safaryan\",\"Arsen Safaryan\",\"Arsen Safaryan\",\"Arsen Safaryan\",\"Arsen Safaryan\",\"Aram MP3\",\"Aram MP3\",\"Aram MP3\",\"Aram MP3\",\"Aram MP3\",\"Aram MP3\",\"Aram MP3\",\"Aram MP3\",\"Aram MP3\",\"Aram MP3\",\"Aram MP3\",\"Aram MP3\",\"Aram MP3\",\"Aram MP3\",\"Aram MP3\",\"Misho\",\"Misho\",\"Misho\",\"Misho\",\"Misho\",\"Misho\",\"Misho\",\"Misho\",\"Misho\",\"Misho\",\"Misho\",\"Misho\",\"Misho\",\"Misho\",\"Misho\",\"Misho\",\"Misho\",\"Misho\",\"Misho\",\"Misho\",\"Misho\",\"Misho\",\"Misho\",\"Misho\",\"Misho\",\"Misho\",\"Mi Qani Hogi\",\"Mi Qani Hogi\",\"Mi Qani Hogi\",\"Mi Qani Hogi\",\"Mi Qani Hogi\",\"Mi Qani Hogi\",\"Mi Qani Hogi\",\"Mi Qani Hogi\",\"Mi Qani Hogi\",\"Mi Qani Hogi\",\"Mi Qani Hogi\",\"Mi Qani Hogi\",\"Mi Qani Hogi\",\"Mi Qani Hogi\",\"Mi Qani Hogi\"],\"x0\":\" \",\"xaxis\":\"x\",\"y\":[-0.19333333333333333,0.25833333333333336,-0.012500000000000006,0.060173160173160184,0.11818181818181821,0.028571428571428577,0.17363636363636362,0.19094460227272725,0.08996212121212122,-0.2026315789473684,0.23333333333333336,-0.43333333333333335,0.034375,-0.23641304347826086,-0.4263888888888889,-0.056730769230769224,0.16152597402597402,0.07433035714285714,0.05733333333333333,-0.14660339660339664,0.03201714110805021,-0.15,-0.09528985507246378,-0.1386868686868687,0.03928571428571429,-0.08676470588235295,-0.17,-0.04738562091503269,-0.0818181818181818,-0.016488413547237082,0.0553030303030303,-0.1700292397660819,-0.003921568627450976,-0.0794871794871795,-0.16666666666666666,0.03916666666666667,-0.30757575757575756,0.13409090909090907,-0.06764705882352941,0.06666666666666667,-0.14017649017649017,0.04199735449735449,-0.10476190476190476,0.4558823529411765,-0.10555555555555556,0.16022727272727275,-0.23166666666666666,-0.11466666666666667,0.0776199494949495,-0.041666666666666664,0.13864594218042495,0.18333333333333335,0.10701010101010101,-0.07719298245614035,-0.006208333333333338,0.005050505050505045,-0.18333333333333332,0.09,-0.21145833333333333,-0.0025000000000000187,0.1157863636363636,0.08538720538720536,-0.08834776334776333,-0.03861111111111111,0.004999999999999993,-0.03139393939393941,0.10392156862745097,-0.015316962730755845,0.38,-0.03611111111111114,0.02962962962962963,0.1417989417989418,0.2147727272727273,0.18580246913580248,0.20315789473684212,-0.049999999999999996,0.02622549019607843,0.15052083333333335,-0.026543898809523805,0.3350000000000001,0.35000000000000003,-0.0030303030303030234,0.012500000000000008,0.07306547619047618,-0.052213064713064715,-0.06845238095238096,0.11651515151515152,0.23939393939393944,0.053574203574203574,0.1275862068965517,0.13000000000000003,0.030000000000000006,-0.01111111111111111,-0.05457589285714286,0.0915909090909091,0.12499999999999999,0.05068870523415978,-0.19409523809523813,-0.08666666666666667,0.15823863636363636,0.16153846153846152,0.041540404040404044,-0.15497685185185187,0.003454715219421096,0.15999999999999998,-0.1541005291005291,0.06952720482132246,-0.09591489428445951,-0.012500000000000004,0.11608391608391609,0.23839285714285716,-0.00749999999999999,-0.010030864197530855,0.3427272727272727,0.030782312925170047,-0.03558201058201059,-0.0859848484848485,0.33254545454545464,0.11511656746031747,0.06344696969696971,0.01875,-0.11111111111111112,0.0,0.41,0.13333333333333333,0.1,0.5833333333333334,0.10988636363636364,0.21515151515151512,-0.013333333333333338,0.4693993506493507,0.02272727272727272,0.375,-0.07500000000000001,0.12065527065527062,0.5041666666666667,0.2,0.004761904761904761,0.31666666666666665,-0.05,0.35882352941176465,0.017592592592592587,0.0,0.17230392156862745,0.1375,0.06999999999999999,0.007142857142857125,0.3446363636363637,0.07777777777777779,0.075,0.175,-0.010858585858585864,0.12200000000000003,0.25,0.2431372549019608,0.13263888888888892,0.4083333333333333,0.3611111111111111,0.5681818181818181,0.19814814814814813,-0.032407407407407406,0.425,0.85,0.35625,0.033333333333333326,0.18333333333333335,-0.4,0.35833333333333334,0.09999999999999999,0.425,0.29074074074074074,0.22307692307692312,0.04000000000000001,-0.07142857142857142,0.2125,0.03308080808080809,0.15666666666666668,0.0,0.005555555555555551,0.42083333333333334,0.0,0.36666666666666664,0.0,0.06666666666666668,-0.05111111111111111,0.18095238095238095,0.39999999999999997,-0.012500000000000011,0.0,0.175,0.05238095238095238,0.2636363636363636,-0.06666666666666668,0.4555555555555555,-0.009259259259259259,-0.007499999999999995,0.025,0.6,-0.25,0.3111111111111111,-0.30000000000000004,0.28863636363636364,0.3,0.33251748251748253,-0.08095238095238094,0.09999999999999998,0.3,0.03444444444444443,0.13932291666666669,-0.0922997835497836,0.03280228758169934,0.01587388801674515,-0.18411564625850335,0.16063041125541125,0.05241649690179101,-0.02876984126984128,0.059819549663299665,0.1628257575757576,0.1678030303030303,0.030369543650793644,0.06355194805194804,0.11674025974025977,0.0920386904761905,-0.16336580086580085,-0.03752164502164504,-0.027160493827160504,-0.015384615384615392,0.118,0.11428571428571425,-0.08484848484848485,0.026818181818181817,-0.038095238095238085,0.135,0.28113636363636363,0.19583333333333333,-0.15634502923976606,-0.09795918367346938,-0.023275862068965508,0.23583333333333334,0.0,-0.06000000000000001,0.3928571428571429,0.175,0.22008928571428565,0.1485275689223058,-0.1380952380952381,0.16292929292929292,-0.10111111111111111,0.06875000000000002,-0.10340909090909091,0.36520979020979016,0.3743801652892561,0.11435574229691878,0.13267045454545456,0.042658730158730174,0.16027462121212122,0.2772727272727273,-0.10111111111111111,-0.006578947368421076,-0.2904306220095693,-0.002083333333333321,0.25937499999999997,0.32272727272727275,0.25055658627087196,0.4378378378378379,0.3254166666666667,0.35,0.16945454545454544,0.26111111111111107,0.13118686868686869,0.6,0.03333333333333331,0.40606060606060607,0.3785714285714286,0.18,-0.14,0.09578787878787878,0.3101449275362319,0.09523809523809523,0.33412698412698405,0.16954887218045114,-0.18583959899749372,0.024089635854341734,-0.07686868686868685,0.0369047619047619,0.01818181818181817,0.11888053467000835,0.09527914614121512,0.0,0.1971645021645022,-0.31136363636363634,0.36470588235294116,0.45909090909090905,-0.03492822966507177,0.18787878787878795,0.35324675324675325,0.26666233766233766,0.2527777777777778,0.07200000000000002,-0.10140291806958474,0.3703703703703704,0.12152777777777779,0.5,0.35,0.0,0.19515151515151516,0.2,0.2294893378226711,0.1215909090909091,0.0,-0.19999999999999998,-0.11111111111111116,0.1625,0.28463636363636363,0.4675324675324675,-0.1457142857142857,0.21555555555555553,0.26363636363636367,0.2259090909090909,0.014393939393939395,0.284090909090909,0.21176470588235294,0.24687499999999996,0.31242424242424244,0.43333333333333335,0.4309259259259259,0.08818958818958822,-0.2545454545454545,0.4811118705855548,0.17368421052631577,0.30735294117647055,0.46758620689655195,0.18741258741258743,0.5235294117647059,0.085,0.07723214285714286,0.348,0.28238636363636366,0.4451704545454545,0.08827160493827162,0.15347222222222223,0.3530681818181817,0.26831818181818184,0.3666666666666666,0.3465298142717497,0.020370370370370372,0.08240740740740742,-0.0625,0.23522727272727273,-0.24615384615384614,0.23484848484848483,0.3,0.32659932659932667,0.463478945297127,0.19193548387096773,0.3,0.2857142857142857,0.05519480519480519,0.23452380952380952,0.3585660660660661,0.03265306122448979,0.0840232683982684,0.12499999999999999,0.3081818181818182,0.18589285714285714,0.0803030303030303,-0.3097222222222222,0.45083333333333325,0.12045454545454547,0.1605855855855856,0.1875,0.506060606060606,0.7999999999999999,-0.18333333333333332,0.25416666666666665,0.34285714285714286,-0.009090909090909082,0.005555555555555551,0.2789930555555556,0.47000000000000003,0.18076923076923077,0.475,-0.28,0.3952380952380953,-0.07499999999999998,0.38927981109799287,0.028571428571428574,0.19000000000000003,0.13365384615384615,-0.2333874458874459,0.23626033057851242,0.3592592592592593,-0.15555555555555556,0.21368686868686868,0.225,-0.12980769230769232,0.03642857142857143,0.26354166666666673,0.29500000000000004,0.06071428571428572,0.04615384615384616,0.12954545454545455,0.5,0.21250000000000002,0.25833333333333336,0.4089285714285715,0.15657894736842107,0.10999999999999999,0.3147727272727273,0.30043859649122806,0.18081918081918083,0.22925000000000004,0.03888888888888889,0.322979797979798,0.3833333333333333,0.27556818181818177,0.10142045454545454,0.23195045695045696,0.280976430976431,0.3443333333333334,0.19027777777777777,0.2982456140350877,0.2152529761904762,0.37213695395513574,0.1857142857142857,-0.08,-0.125,0.22870370370370374,0.0987603305785124,0.1181547619047619,0.1948717948717949,0.09749999999999999,0.07478354978354979,0.048226010101010096,0.0775,0.17007575757575757,0.2874999999999999,0.06439393939393939,0.054000000000000006,0.07387766554433221,0.09999999999999999,0.22727272727272727,0.2556277056277057,0.16,0.03314393939393939,0.3464545454545454,0.2689393939393939,0.5296296296296297,0.26071428571428573,0.37,0.198754734848485,0.1787878787878788,0.15476190476190474,0.08928571428571429,-0.05679012345679012,-0.07848639455782314,0.11666666666666665,0.32689393939393935,0.21305785123966955,0.25394570707070707,-0.09812834224598932,-0.03333333333333333,0.4666666666666667,-0.00454545454545455,0.1480316558441558,0.13739669421487602,-0.18461538461538465,0.1644412878787879,0.24147186147186145,0.08125000000000002,0.010866477272727274,0.0,-0.125,0.06233766233766234,0.07074675324675325,0.07896825396825397,0.01877828054298643,0.060767195767195775,-0.10580357142857141,0.029707792207792214,0.15470328282828283,0.13447802197802197,0.01670274170274171,0.18000000000000002,-0.1499278499278499,0.0,-0.06043859649122806,-0.13703703703703704,0.2389610389610389,0.06316964285714291,-0.0287878787878788,0.14833333333333334,0.04047619047619047,0.1,0.060256410256410216,0.30892857142857144,0.03636363636363637,0.02781818181818182,-0.16199589883800408,0.02342592592592593,-0.5,-0.016874999999999998,0.13333333333333333,0.06001420454545455,-0.1875,0.306],\"y0\":\" \",\"yaxis\":\"y\",\"type\":\"box\"}],                        {\"template\":{\"data\":{\"histogram2dcontour\":[{\"type\":\"histogram2dcontour\",\"colorbar\":{\"outlinewidth\":0,\"ticks\":\"\"},\"colorscale\":[[0.0,\"#0d0887\"],[0.1111111111111111,\"#46039f\"],[0.2222222222222222,\"#7201a8\"],[0.3333333333333333,\"#9c179e\"],[0.4444444444444444,\"#bd3786\"],[0.5555555555555556,\"#d8576b\"],[0.6666666666666666,\"#ed7953\"],[0.7777777777777778,\"#fb9f3a\"],[0.8888888888888888,\"#fdca26\"],[1.0,\"#f0f921\"]]}],\"choropleth\":[{\"type\":\"choropleth\",\"colorbar\":{\"outlinewidth\":0,\"ticks\":\"\"}}],\"histogram2d\":[{\"type\":\"histogram2d\",\"colorbar\":{\"outlinewidth\":0,\"ticks\":\"\"},\"colorscale\":[[0.0,\"#0d0887\"],[0.1111111111111111,\"#46039f\"],[0.2222222222222222,\"#7201a8\"],[0.3333333333333333,\"#9c179e\"],[0.4444444444444444,\"#bd3786\"],[0.5555555555555556,\"#d8576b\"],[0.6666666666666666,\"#ed7953\"],[0.7777777777777778,\"#fb9f3a\"],[0.8888888888888888,\"#fdca26\"],[1.0,\"#f0f921\"]]}],\"heatmap\":[{\"type\":\"heatmap\",\"colorbar\":{\"outlinewidth\":0,\"ticks\":\"\"},\"colorscale\":[[0.0,\"#0d0887\"],[0.1111111111111111,\"#46039f\"],[0.2222222222222222,\"#7201a8\"],[0.3333333333333333,\"#9c179e\"],[0.4444444444444444,\"#bd3786\"],[0.5555555555555556,\"#d8576b\"],[0.6666666666666666,\"#ed7953\"],[0.7777777777777778,\"#fb9f3a\"],[0.8888888888888888,\"#fdca26\"],[1.0,\"#f0f921\"]]}],\"heatmapgl\":[{\"type\":\"heatmapgl\",\"colorbar\":{\"outlinewidth\":0,\"ticks\":\"\"},\"colorscale\":[[0.0,\"#0d0887\"],[0.1111111111111111,\"#46039f\"],[0.2222222222222222,\"#7201a8\"],[0.3333333333333333,\"#9c179e\"],[0.4444444444444444,\"#bd3786\"],[0.5555555555555556,\"#d8576b\"],[0.6666666666666666,\"#ed7953\"],[0.7777777777777778,\"#fb9f3a\"],[0.8888888888888888,\"#fdca26\"],[1.0,\"#f0f921\"]]}],\"contourcarpet\":[{\"type\":\"contourcarpet\",\"colorbar\":{\"outlinewidth\":0,\"ticks\":\"\"}}],\"contour\":[{\"type\":\"contour\",\"colorbar\":{\"outlinewidth\":0,\"ticks\":\"\"},\"colorscale\":[[0.0,\"#0d0887\"],[0.1111111111111111,\"#46039f\"],[0.2222222222222222,\"#7201a8\"],[0.3333333333333333,\"#9c179e\"],[0.4444444444444444,\"#bd3786\"],[0.5555555555555556,\"#d8576b\"],[0.6666666666666666,\"#ed7953\"],[0.7777777777777778,\"#fb9f3a\"],[0.8888888888888888,\"#fdca26\"],[1.0,\"#f0f921\"]]}],\"surface\":[{\"type\":\"surface\",\"colorbar\":{\"outlinewidth\":0,\"ticks\":\"\"},\"colorscale\":[[0.0,\"#0d0887\"],[0.1111111111111111,\"#46039f\"],[0.2222222222222222,\"#7201a8\"],[0.3333333333333333,\"#9c179e\"],[0.4444444444444444,\"#bd3786\"],[0.5555555555555556,\"#d8576b\"],[0.6666666666666666,\"#ed7953\"],[0.7777777777777778,\"#fb9f3a\"],[0.8888888888888888,\"#fdca26\"],[1.0,\"#f0f921\"]]}],\"mesh3d\":[{\"type\":\"mesh3d\",\"colorbar\":{\"outlinewidth\":0,\"ticks\":\"\"}}],\"scatter\":[{\"fillpattern\":{\"fillmode\":\"overlay\",\"size\":10,\"solidity\":0.2},\"type\":\"scatter\"}],\"parcoords\":[{\"type\":\"parcoords\",\"line\":{\"colorbar\":{\"outlinewidth\":0,\"ticks\":\"\"}}}],\"scatterpolargl\":[{\"type\":\"scatterpolargl\",\"marker\":{\"colorbar\":{\"outlinewidth\":0,\"ticks\":\"\"}}}],\"bar\":[{\"error_x\":{\"color\":\"#2a3f5f\"},\"error_y\":{\"color\":\"#2a3f5f\"},\"marker\":{\"line\":{\"color\":\"#E5ECF6\",\"width\":0.5},\"pattern\":{\"fillmode\":\"overlay\",\"size\":10,\"solidity\":0.2}},\"type\":\"bar\"}],\"scattergeo\":[{\"type\":\"scattergeo\",\"marker\":{\"colorbar\":{\"outlinewidth\":0,\"ticks\":\"\"}}}],\"scatterpolar\":[{\"type\":\"scatterpolar\",\"marker\":{\"colorbar\":{\"outlinewidth\":0,\"ticks\":\"\"}}}],\"histogram\":[{\"marker\":{\"pattern\":{\"fillmode\":\"overlay\",\"size\":10,\"solidity\":0.2}},\"type\":\"histogram\"}],\"scattergl\":[{\"type\":\"scattergl\",\"marker\":{\"colorbar\":{\"outlinewidth\":0,\"ticks\":\"\"}}}],\"scatter3d\":[{\"type\":\"scatter3d\",\"line\":{\"colorbar\":{\"outlinewidth\":0,\"ticks\":\"\"}},\"marker\":{\"colorbar\":{\"outlinewidth\":0,\"ticks\":\"\"}}}],\"scattermapbox\":[{\"type\":\"scattermapbox\",\"marker\":{\"colorbar\":{\"outlinewidth\":0,\"ticks\":\"\"}}}],\"scatterternary\":[{\"type\":\"scatterternary\",\"marker\":{\"colorbar\":{\"outlinewidth\":0,\"ticks\":\"\"}}}],\"scattercarpet\":[{\"type\":\"scattercarpet\",\"marker\":{\"colorbar\":{\"outlinewidth\":0,\"ticks\":\"\"}}}],\"carpet\":[{\"aaxis\":{\"endlinecolor\":\"#2a3f5f\",\"gridcolor\":\"white\",\"linecolor\":\"white\",\"minorgridcolor\":\"white\",\"startlinecolor\":\"#2a3f5f\"},\"baxis\":{\"endlinecolor\":\"#2a3f5f\",\"gridcolor\":\"white\",\"linecolor\":\"white\",\"minorgridcolor\":\"white\",\"startlinecolor\":\"#2a3f5f\"},\"type\":\"carpet\"}],\"table\":[{\"cells\":{\"fill\":{\"color\":\"#EBF0F8\"},\"line\":{\"color\":\"white\"}},\"header\":{\"fill\":{\"color\":\"#C8D4E3\"},\"line\":{\"color\":\"white\"}},\"type\":\"table\"}],\"barpolar\":[{\"marker\":{\"line\":{\"color\":\"#E5ECF6\",\"width\":0.5},\"pattern\":{\"fillmode\":\"overlay\",\"size\":10,\"solidity\":0.2}},\"type\":\"barpolar\"}],\"pie\":[{\"automargin\":true,\"type\":\"pie\"}]},\"layout\":{\"autotypenumbers\":\"strict\",\"colorway\":[\"#636efa\",\"#EF553B\",\"#00cc96\",\"#ab63fa\",\"#FFA15A\",\"#19d3f3\",\"#FF6692\",\"#B6E880\",\"#FF97FF\",\"#FECB52\"],\"font\":{\"color\":\"#2a3f5f\"},\"hovermode\":\"closest\",\"hoverlabel\":{\"align\":\"left\"},\"paper_bgcolor\":\"white\",\"plot_bgcolor\":\"#E5ECF6\",\"polar\":{\"bgcolor\":\"#E5ECF6\",\"angularaxis\":{\"gridcolor\":\"white\",\"linecolor\":\"white\",\"ticks\":\"\"},\"radialaxis\":{\"gridcolor\":\"white\",\"linecolor\":\"white\",\"ticks\":\"\"}},\"ternary\":{\"bgcolor\":\"#E5ECF6\",\"aaxis\":{\"gridcolor\":\"white\",\"linecolor\":\"white\",\"ticks\":\"\"},\"baxis\":{\"gridcolor\":\"white\",\"linecolor\":\"white\",\"ticks\":\"\"},\"caxis\":{\"gridcolor\":\"white\",\"linecolor\":\"white\",\"ticks\":\"\"}},\"coloraxis\":{\"colorbar\":{\"outlinewidth\":0,\"ticks\":\"\"}},\"colorscale\":{\"sequential\":[[0.0,\"#0d0887\"],[0.1111111111111111,\"#46039f\"],[0.2222222222222222,\"#7201a8\"],[0.3333333333333333,\"#9c179e\"],[0.4444444444444444,\"#bd3786\"],[0.5555555555555556,\"#d8576b\"],[0.6666666666666666,\"#ed7953\"],[0.7777777777777778,\"#fb9f3a\"],[0.8888888888888888,\"#fdca26\"],[1.0,\"#f0f921\"]],\"sequentialminus\":[[0.0,\"#0d0887\"],[0.1111111111111111,\"#46039f\"],[0.2222222222222222,\"#7201a8\"],[0.3333333333333333,\"#9c179e\"],[0.4444444444444444,\"#bd3786\"],[0.5555555555555556,\"#d8576b\"],[0.6666666666666666,\"#ed7953\"],[0.7777777777777778,\"#fb9f3a\"],[0.8888888888888888,\"#fdca26\"],[1.0,\"#f0f921\"]],\"diverging\":[[0,\"#8e0152\"],[0.1,\"#c51b7d\"],[0.2,\"#de77ae\"],[0.3,\"#f1b6da\"],[0.4,\"#fde0ef\"],[0.5,\"#f7f7f7\"],[0.6,\"#e6f5d0\"],[0.7,\"#b8e186\"],[0.8,\"#7fbc41\"],[0.9,\"#4d9221\"],[1,\"#276419\"]]},\"xaxis\":{\"gridcolor\":\"white\",\"linecolor\":\"white\",\"ticks\":\"\",\"title\":{\"standoff\":15},\"zerolinecolor\":\"white\",\"automargin\":true,\"zerolinewidth\":2},\"yaxis\":{\"gridcolor\":\"white\",\"linecolor\":\"white\",\"ticks\":\"\",\"title\":{\"standoff\":15},\"zerolinecolor\":\"white\",\"automargin\":true,\"zerolinewidth\":2},\"scene\":{\"xaxis\":{\"backgroundcolor\":\"#E5ECF6\",\"gridcolor\":\"white\",\"linecolor\":\"white\",\"showbackground\":true,\"ticks\":\"\",\"zerolinecolor\":\"white\",\"gridwidth\":2},\"yaxis\":{\"backgroundcolor\":\"#E5ECF6\",\"gridcolor\":\"white\",\"linecolor\":\"white\",\"showbackground\":true,\"ticks\":\"\",\"zerolinecolor\":\"white\",\"gridwidth\":2},\"zaxis\":{\"backgroundcolor\":\"#E5ECF6\",\"gridcolor\":\"white\",\"linecolor\":\"white\",\"showbackground\":true,\"ticks\":\"\",\"zerolinecolor\":\"white\",\"gridwidth\":2}},\"shapedefaults\":{\"line\":{\"color\":\"#2a3f5f\"}},\"annotationdefaults\":{\"arrowcolor\":\"#2a3f5f\",\"arrowhead\":0,\"arrowwidth\":1},\"geo\":{\"bgcolor\":\"white\",\"landcolor\":\"#E5ECF6\",\"subunitcolor\":\"white\",\"showland\":true,\"showlakes\":true,\"lakecolor\":\"white\"},\"title\":{\"x\":0.05},\"mapbox\":{\"style\":\"light\"}}},\"xaxis\":{\"anchor\":\"y\",\"domain\":[0.0,1.0],\"title\":{\"text\":\"Artist\"}},\"yaxis\":{\"anchor\":\"x\",\"domain\":[0.0,1.0],\"title\":{\"text\":\"sentiment\"}},\"legend\":{\"tracegroupgap\":0},\"title\":{\"text\":\"Sentiment by artist\"},\"boxmode\":\"group\"},                        {\"responsive\": true}                    ).then(function(){\n",
       "                            \n",
       "var gd = document.getElementById('9774123c-8e3f-41a6-bbf5-6df874c1faac');\n",
       "var x = new MutationObserver(function (mutations, observer) {{\n",
       "        var display = window.getComputedStyle(gd).display;\n",
       "        if (!display || display === 'none') {{\n",
       "            console.log([gd, 'removed!']);\n",
       "            Plotly.purge(gd);\n",
       "            observer.disconnect();\n",
       "        }}\n",
       "}});\n",
       "\n",
       "// Listen for the removal of the full notebook cells\n",
       "var notebookContainer = gd.closest('#notebook-container');\n",
       "if (notebookContainer) {{\n",
       "    x.observe(notebookContainer, {childList: true});\n",
       "}}\n",
       "\n",
       "// Listen for the clearing of the current output cell\n",
       "var outputEl = gd.closest('.output');\n",
       "if (outputEl) {{\n",
       "    x.observe(outputEl, {childList: true});\n",
       "}}\n",
       "\n",
       "                        })                };                });            </script>        </div>"
      ]
     },
     "metadata": {},
     "output_type": "display_data"
    }
   ],
   "source": [
    "fig = px.box(df, x='Artist', y='sentiment', title='Sentiment by artist')\n",
    "fig.show()"
   ]
  },
  {
   "cell_type": "markdown",
   "metadata": {
    "id": "yi8PlNQg16s4"
   },
   "source": [
    "Now our dataset is ready for models."
   ]
  },
  {
   "cell_type": "code",
   "execution_count": 36,
   "metadata": {
    "id": "nC6E_5xP16u_",
    "scrolled": false
   },
   "outputs": [
    {
     "name": "stdout",
     "output_type": "stream",
     "text": [
      "<class 'pandas.core.frame.DataFrame'>\n",
      "Int64Index: 506 entries, 0 to 542\n",
      "Data columns (total 18 columns):\n",
      " #   Column                  Non-Null Count  Dtype  \n",
      "---  ------                  --------------  -----  \n",
      " 0   Artist                  506 non-null    object \n",
      " 1   Song                    506 non-null    object \n",
      " 2   Lyrics                  506 non-null    object \n",
      " 3   Translated_Lyrics       506 non-null    object \n",
      " 4   lines                   506 non-null    int64  \n",
      " 5   tokens_hy               506 non-null    object \n",
      " 6   tokens_en               506 non-null    object \n",
      " 7   stems_en                506 non-null    object \n",
      " 8   n_stems_en              506 non-null    int64  \n",
      " 9   n_tokens_hy             506 non-null    int64  \n",
      " 10  stems_en_str            506 non-null    object \n",
      " 11  tf_idf_vector           506 non-null    object \n",
      " 12  tf_idf_score            506 non-null    float64\n",
      " 13  n_unique_stems_en       506 non-null    int64  \n",
      " 14  unique_stems_ratio_en   506 non-null    float64\n",
      " 15  n_unique_tokens_hy      506 non-null    int64  \n",
      " 16  unique_tokens_ratio_hy  506 non-null    float64\n",
      " 17  sentiment               506 non-null    float64\n",
      "dtypes: float64(4), int64(5), object(9)\n",
      "memory usage: 75.1+ KB\n"
     ]
    }
   ],
   "source": [
    "df.info()"
   ]
  },
  {
   "cell_type": "code",
   "execution_count": null,
   "metadata": {},
   "outputs": [],
   "source": [
    "feature = ['n_stems_diff', 'n_stems_diff_std',\n",
    "       'unique_stems_ratio_diff', 'unique_stems_ratio_diff_std',\n",
    "       'stems_per_line_diff', 'stems_per_line_diff_std', 'tf_idf_score_diff',\n",
    "       'tf_idf_score_diff_std', 'polarity_diff', 'polarity_diff_std',\n",
    "       'vector_similarity']\n",
    "df_lst = []\n",
    "for f in feature:\n",
    "    df = artist_song_feature['train'][['same_artist']]\n",
    "    df['feature'] = f\n",
    "    df['value'] = artist_song_feature['train'][f]\n",
    "    df_lst.append(df)\n",
    "feature_df = pd.concat(df_lst)\n",
    "feature_df.head()"
   ]
  },
  {
   "cell_type": "markdown",
   "metadata": {},
   "source": [
    "<a name=\"models\"></a>\n",
    "\n",
    "# Models"
   ]
  },
  {
   "cell_type": "markdown",
   "metadata": {},
   "source": [
    "Train/Test split."
   ]
  },
  {
   "cell_type": "code",
   "execution_count": 37,
   "metadata": {},
   "outputs": [
    {
     "name": "stdout",
     "output_type": "stream",
     "text": [
      "Train set shape: (404, 8) (404,)\n",
      "Test set shape: (102, 8) (102,)\n"
     ]
    }
   ],
   "source": [
    "from sklearn.model_selection import train_test_split\n",
    "\n",
    "features = df[['n_stems_en', 'n_tokens_hy', 'n_unique_stems_en', 'unique_stems_ratio_en', 'n_unique_tokens_hy', 'unique_tokens_ratio_hy', 'sentiment', 'tf_idf_score']]\n",
    "target = df['Artist']\n",
    "\n",
    "# Split the data into train and test sets\n",
    "train_X, test_X, train_y, test_y = train_test_split(features, target, test_size=0.1, random_state=42)\n",
    "\n",
    "print(\"Train set shape:\", train_X.shape, train_y.shape)\n",
    "print(\"Test set shape:\", test_X.shape, test_y.shape)"
   ]
  },
  {
   "cell_type": "markdown",
   "metadata": {},
   "source": [
    "### SVM"
   ]
  },
  {
   "cell_type": "code",
   "execution_count": 40,
   "metadata": {},
   "outputs": [],
   "source": [
    "from sklearn.svm import SVC\n",
    "from sklearn.model_selection import GridSearchCV\n",
    "from sklearn.preprocessing import LabelEncoder\n",
    "from sklearn.metrics import accuracy_score, classification_report"
   ]
  },
  {
   "cell_type": "code",
   "execution_count": 41,
   "metadata": {},
   "outputs": [],
   "source": [
    "label_encoder = LabelEncoder()\n",
    "train_y_encoded = label_encoder.fit_transform(train_y)\n",
    "test_y_encoded = label_encoder.transform(test_y)"
   ]
  },
  {
   "cell_type": "markdown",
   "metadata": {},
   "source": [
    "We are going to use grid search to find best parameters for SVM classifier."
   ]
  },
  {
   "cell_type": "code",
   "execution_count": 43,
   "metadata": {},
   "outputs": [
    {
     "name": "stdout",
     "output_type": "stream",
     "text": [
      "Accuracy: 0.28431372549019607\n"
     ]
    }
   ],
   "source": [
    "# Define the SVM classifier\n",
    "svm = SVC()\n",
    "\n",
    "# Define the hyperparameters for grid search\n",
    "param_grid = {\n",
    "    'C': [0.1, 1, 10],\n",
    "    'kernel': ['linear', 'rbf','poly']    \n",
    "}\n",
    "\n",
    "grid_search = GridSearchCV(svm, param_grid, cv=5)\n",
    "grid_search.fit(train_X, train_y_encoded)\n",
    "\n",
    "best_params = grid_search.best_params_\n",
    "best_model = grid_search.best_estimator_\n",
    "\n",
    "best_model.fit(train_X, train_y_encoded)\n",
    "\n",
    "# Predict the target variable for the test set\n",
    "predictions_encoded = best_model.predict(test_X)\n",
    "predictions = label_encoder.inverse_transform(predictions_encoded)\n",
    "\n",
    "# Calculate the accuracy of the model\n",
    "accuracy = accuracy_score(test_y, predictions)\n",
    "print(\"Accuracy:\", accuracy)\n"
   ]
  },
  {
   "cell_type": "code",
   "execution_count": 44,
   "metadata": {},
   "outputs": [
    {
     "name": "stdout",
     "output_type": "stream",
     "text": [
      "Classification Report:\n",
      "                    precision    recall  f1-score     support\n",
      "Aram MP3             0.000000  0.000000  0.000000    4.000000\n",
      "Arame                0.000000  0.000000  0.000000    2.000000\n",
      "Arsen Safaryan       0.000000  0.000000  0.000000    4.000000\n",
      "Empyray              0.000000  0.000000  0.000000    2.000000\n",
      "HT Hayko             0.750000  1.000000  0.857143    3.000000\n",
      "Harout Pamboukjian   0.000000  0.000000  0.000000    8.000000\n",
      "Mi Qani Hogi         0.250000  0.200000  0.222222    5.000000\n",
      "Misho                0.666667  0.250000  0.363636    8.000000\n",
      "Razmik Amyan         0.000000  0.000000  0.000000    3.000000\n",
      "Silva Hakobyan       0.000000  0.000000  0.000000    2.000000\n",
      "ԱՐԹՈՒՐ ՄԵՍՉՅԱՆ       0.176471  0.300000  0.222222   10.000000\n",
      "Անդրե                0.000000  0.000000  0.000000    3.000000\n",
      "Լիլիթ Հովհաննիսյան   0.166667  0.333333  0.222222    3.000000\n",
      "ԿՈՄԻՏԱՍ              0.285714  0.750000  0.413793    8.000000\n",
      "Հայկ Հակոբյան        0.200000  0.166667  0.181818    6.000000\n",
      "Միհրան Ծառուկյան     0.000000  0.000000  0.000000    1.000000\n",
      "ՌՈՒԲԵՆ ՀԱԽՎԵՐԴՅԱՆ    0.294118  0.500000  0.370370   20.000000\n",
      "ՍԱՅԱԹ-ՆՈՎԱ           1.000000  0.500000  0.666667    4.000000\n",
      "Սիրուշո              0.000000  0.000000  0.000000    6.000000\n",
      "accuracy             0.284314  0.284314  0.284314    0.284314\n",
      "macro avg            0.199455  0.210526  0.185268  102.000000\n",
      "weighted avg         0.239864  0.284314  0.234861  102.000000\n"
     ]
    },
    {
     "name": "stderr",
     "output_type": "stream",
     "text": [
      "C:\\Users\\User\\anaconda3\\lib\\site-packages\\sklearn\\metrics\\_classification.py:1318: UndefinedMetricWarning:\n",
      "\n",
      "Precision and F-score are ill-defined and being set to 0.0 in labels with no predicted samples. Use `zero_division` parameter to control this behavior.\n",
      "\n",
      "C:\\Users\\User\\anaconda3\\lib\\site-packages\\sklearn\\metrics\\_classification.py:1318: UndefinedMetricWarning:\n",
      "\n",
      "Precision and F-score are ill-defined and being set to 0.0 in labels with no predicted samples. Use `zero_division` parameter to control this behavior.\n",
      "\n",
      "C:\\Users\\User\\anaconda3\\lib\\site-packages\\sklearn\\metrics\\_classification.py:1318: UndefinedMetricWarning:\n",
      "\n",
      "Precision and F-score are ill-defined and being set to 0.0 in labels with no predicted samples. Use `zero_division` parameter to control this behavior.\n",
      "\n"
     ]
    }
   ],
   "source": [
    "report = classification_report(test_y, predictions, output_dict=True)\n",
    "report_df = pd.DataFrame(report).transpose()\n",
    "print(\"Classification Report:\")\n",
    "print(report_df)"
   ]
  },
  {
   "cell_type": "code",
   "execution_count": null,
   "metadata": {},
   "outputs": [],
   "source": []
  }
 ],
 "metadata": {
  "colab": {
   "provenance": []
  },
  "kernelspec": {
   "display_name": "Python 3 (ipykernel)",
   "language": "python",
   "name": "python3"
  },
  "language_info": {
   "codemirror_mode": {
    "name": "ipython",
    "version": 3
   },
   "file_extension": ".py",
   "mimetype": "text/x-python",
   "name": "python",
   "nbconvert_exporter": "python",
   "pygments_lexer": "ipython3",
   "version": "3.9.13"
  }
 },
 "nbformat": 4,
 "nbformat_minor": 1
}
