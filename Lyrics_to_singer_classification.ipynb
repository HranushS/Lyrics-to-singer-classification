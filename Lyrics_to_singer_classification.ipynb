{
 "cells": [
  {
   "cell_type": "markdown",
   "metadata": {
    "id": "cMNXmcIt2Lm0"
   },
   "source": [
    "**<h1>Group Project</h1>**\n",
    "\n",
    "**<h1>Lyrics to singer classification</h1>**\n",
    "---\n",
    "\n",
    "> \n",
    "\n",
    "   **<h2>Մասնակիցներ</h2>**\n",
    "\n",
    "\n",
    "*   Հրանուշ Սահրադյան\n",
    "*   Հասմիկ Մնացականյան\n",
    "*   Մերի Վարդանյան\n",
    "*   Արմեն Մանուկյան\n",
    "\n",
    "\n",
    ">\n",
    "\n",
    "\n",
    "\n",
    "\n",
    "\n",
    "\n",
    "**<h2>Purpose of the project</h2>**\n",
    "\n",
    "Նախագծի նպատակն է համացանցից հավաքել (web scraping-ի միջոցով) 20 տարբեր հայ երգիչների երգերի բառեր, դրանք մշակելով ստանալ տվյալների բազմություն, բաժանել մի քանի մասի (train, val, test) և այդ տվյալների բազմության վրա ստանալ այնպիսի մոդել, որի միջոցով հնարավոր կլինի ինչ֊որ ճշտությամբ գուշակել, թե որ երգիչներին են պատկանում մոդելի կողմից չտեսնված երգերի բառերը։\n",
    "\n",
    "\n",
    "\n",
    "\n",
    "\n",
    "\n",
    "\n",
    "\n",
    "\n"
   ]
  },
  {
   "cell_type": "markdown",
   "metadata": {
    "id": "56qMrdER-wb7"
   },
   "source": [
    "**<h2>Contents</h2>**\n",
    "\n",
    "\n",
    "1.   [Data Cleaning and Preprocessing](#preproc)\n",
    "3.   [Feature Selection/Extraction](#fenigine)\n",
    "4.   [EDA](#eda)\n",
    "5.   [Model Selection](**https://**)\n",
    "6.   [Model Training/Evaluation](**https://**)\n",
    "7.   [Hyperparameter Tuning](**https://**)\n",
    "8.   [Model Validation](**https://**)\n",
    "9.   [Model Deployment and Monitoring](**https://**)"
   ]
  },
  {
   "cell_type": "markdown",
   "metadata": {},
   "source": [
    "**Note**: Data collection part you can see in the notebook \"Data collection\""
   ]
  },
  {
   "cell_type": "code",
   "execution_count": 3,
   "metadata": {
    "id": "MK5kRFNWAnVh"
   },
   "outputs": [],
   "source": [
    "import pandas as pd\n",
    "import plotly.express as px\n",
    "import plotly.graph_objects as go\n",
    "import numpy as np\n",
    "import re\n",
    "import random\n",
    "import nltk\n",
    "from scipy import sparse\n",
    "from scipy.sparse import csr_matrix, vstack\n",
    "from textblob import TextBlob\n",
    "import pickle\n",
    "from datetime import datetime\n",
    "\n",
    "from sklearn.feature_extraction.text import TfidfTransformer, CountVectorizer\n",
    "from sklearn.metrics.pairwise import cosine_similarity\n",
    "from sklearn.linear_model import LogisticRegression\n",
    "from sklearn.metrics import accuracy_score, confusion_matrix\n",
    "from sklearn.pipeline import Pipeline\n",
    "from sklearn.preprocessing import StandardScaler\n",
    "import time \n",
    "import glob\n",
    "import requests\n",
    "import nltk\n",
    "from langdetect import detect_langs"
   ]
  },
  {
   "cell_type": "markdown",
   "metadata": {
    "id": "euCqqVsB9HjK"
   },
   "source": [
    " <a name=\"preproc\"></a>\n",
    "\n",
    "## Data Cleaning and Preprocessing"
   ]
  },
  {
   "cell_type": "markdown",
   "metadata": {
    "id": "GxQFNB_b9Hxc"
   },
   "source": [
    "Data cleaning and preprocessing for a dataset on Armenian artists and their song lyrics typically involve several steps to ensure the data is accurate, consistent, and ready for analysis or modeling. Here's an overview of the potential steps involved:\n",
    "\n",
    "**Handling Missing Values:** Identify any missing values in the dataset, such as empty cells or null values. Depending on the context, you can choose to either remove rows or columns with missing values, or impute the missing values using techniques like mean, median, or mode imputation. Consider the impact of missing values on variables like artist names, song titles, and lyrics, and handle them accordingly.\n",
    "\n",
    "**Removing Duplicate Entries:** Check for and remove any duplicate entries in the dataset. Duplicates can arise from data collection or merging processes and can introduce bias or affect analysis results. Identify duplicate rows or combinations of variables and remove them to maintain data integrity.\n",
    "\n",
    "**Cleaning and Standardizing Textual Data:** Perform text cleaning and preprocessing on variables like artist names, song titles, and lyrics. This may involve steps such as removing special characters, punctuation, or unnecessary whitespace, converting text to lowercase or uppercase consistently, and handling encoding issues if any.\n",
    "\n",
    "**Language Detection:** Since you are interested in Armenian lyrics, you can apply language detection techniques to identify whether the lyrics are in Armenian or another language. This step ensures that you are working with the desired language and can filter out any non-Armenian lyrics if needed.\n",
    "\n",
    "**Dealing with Stop Words and Noise:** In the lyrics column, consider removing common stop words (e.g., \"the,\" \"and,\" \"is\") that do not carry substantial meaning. Additionally, address any noise or irrelevant text that may be present in the lyrics, such as ad-libs or non-lyrical portions.\n",
    "\n",
    "**Tokenization and Lemmatization:** Split the lyrics into individual words or tokens using tokenization techniques. This allows for further analysis or modeling on a word-level basis. Additionally, consider applying lemmatization to reduce words to their base or root form, improving consistency and reducing dimensionality.\n",
    "\n",
    "**Handling Non-Textual Data:** If your dataset contains non-textual data, such as artist metadata or genre information, ensure appropriate cleaning and preprocessing. This may involve transforming categorical variables using techniques like one-hot encoding or label encoding to make them compatible with analysis or modeling techniques.\n",
    "\n",
    "**Data Validation and Sanity Checks:** Validate the dataset against predefined constraints or business rules to ensure data integrity. Perform sanity checks to identify any inconsistencies, outliers, or unexpected patterns. This step helps ensure the dataset aligns with domain knowledge and meets your expectations.\n"
   ]
  },
  {
   "cell_type": "code",
   "execution_count": 5,
   "metadata": {
    "id": "xFJ2ODlSKdFV"
   },
   "outputs": [],
   "source": [
    "df=pd.read_csv(\"FinalData.csv\")"
   ]
  },
  {
   "cell_type": "markdown",
   "metadata": {
    "id": "OooW7rnGSH--"
   },
   "source": [
    "Let's see what we have in our dataset."
   ]
  },
  {
   "cell_type": "code",
   "execution_count": 6,
   "metadata": {
    "colab": {
     "base_uri": "https://localhost:8080/"
    },
    "id": "rHlFW94Auxfg",
    "outputId": "0dd5e174-f2a1-4fe3-98e6-938ca1e64813"
   },
   "outputs": [
    {
     "data": {
      "text/plain": [
       "(693, 3)"
      ]
     },
     "execution_count": 6,
     "metadata": {},
     "output_type": "execute_result"
    }
   ],
   "source": [
    "df.shape"
   ]
  },
  {
   "cell_type": "code",
   "execution_count": 7,
   "metadata": {
    "colab": {
     "base_uri": "https://localhost:8080/",
     "height": 833
    },
    "id": "i8pyTVmjKdOH",
    "outputId": "f39f14e8-f2ca-41a1-a2b5-dc7da591cfa9"
   },
   "outputs": [
    {
     "data": {
      "text/html": [
       "<div>\n",
       "<style scoped>\n",
       "    .dataframe tbody tr th:only-of-type {\n",
       "        vertical-align: middle;\n",
       "    }\n",
       "\n",
       "    .dataframe tbody tr th {\n",
       "        vertical-align: top;\n",
       "    }\n",
       "\n",
       "    .dataframe thead th {\n",
       "        text-align: right;\n",
       "    }\n",
       "</style>\n",
       "<table border=\"1\" class=\"dataframe\">\n",
       "  <thead>\n",
       "    <tr style=\"text-align: right;\">\n",
       "      <th></th>\n",
       "      <th>Song</th>\n",
       "      <th>Lyrics</th>\n",
       "    </tr>\n",
       "    <tr>\n",
       "      <th>Artist</th>\n",
       "      <th></th>\n",
       "      <th></th>\n",
       "    </tr>\n",
       "  </thead>\n",
       "  <tbody>\n",
       "    <tr>\n",
       "      <th>Armenchik</th>\n",
       "      <td>13</td>\n",
       "      <td>13</td>\n",
       "    </tr>\n",
       "    <tr>\n",
       "      <th>Lav Eli</th>\n",
       "      <td>10</td>\n",
       "      <td>10</td>\n",
       "    </tr>\n",
       "    <tr>\n",
       "      <th>Aram MP3</th>\n",
       "      <td>28</td>\n",
       "      <td>28</td>\n",
       "    </tr>\n",
       "    <tr>\n",
       "      <th>Arame</th>\n",
       "      <td>19</td>\n",
       "      <td>19</td>\n",
       "    </tr>\n",
       "    <tr>\n",
       "      <th>Arsen Safaryan</th>\n",
       "      <td>28</td>\n",
       "      <td>28</td>\n",
       "    </tr>\n",
       "    <tr>\n",
       "      <th>CKK</th>\n",
       "      <td>5</td>\n",
       "      <td>5</td>\n",
       "    </tr>\n",
       "    <tr>\n",
       "      <th>Cris</th>\n",
       "      <td>1</td>\n",
       "      <td>1</td>\n",
       "    </tr>\n",
       "    <tr>\n",
       "      <th>Empyray</th>\n",
       "      <td>11</td>\n",
       "      <td>11</td>\n",
       "    </tr>\n",
       "    <tr>\n",
       "      <th>Enomenal</th>\n",
       "      <td>1</td>\n",
       "      <td>1</td>\n",
       "    </tr>\n",
       "    <tr>\n",
       "      <th>Eresunmek</th>\n",
       "      <td>1</td>\n",
       "      <td>1</td>\n",
       "    </tr>\n",
       "    <tr>\n",
       "      <th>Forsh</th>\n",
       "      <td>11</td>\n",
       "      <td>11</td>\n",
       "    </tr>\n",
       "    <tr>\n",
       "      <th>Gor Sujyan</th>\n",
       "      <td>10</td>\n",
       "      <td>10</td>\n",
       "    </tr>\n",
       "    <tr>\n",
       "      <th>HT Hayko</th>\n",
       "      <td>16</td>\n",
       "      <td>16</td>\n",
       "    </tr>\n",
       "    <tr>\n",
       "      <th>Halfcastromeo</th>\n",
       "      <td>1</td>\n",
       "      <td>1</td>\n",
       "    </tr>\n",
       "    <tr>\n",
       "      <th>Harout Pamboukjian</th>\n",
       "      <td>45</td>\n",
       "      <td>45</td>\n",
       "    </tr>\n",
       "    <tr>\n",
       "      <th>JFK379</th>\n",
       "      <td>1</td>\n",
       "      <td>1</td>\n",
       "    </tr>\n",
       "    <tr>\n",
       "      <th>Majurakk, misho, mariel gesualdi</th>\n",
       "      <td>1</td>\n",
       "      <td>1</td>\n",
       "    </tr>\n",
       "    <tr>\n",
       "      <th>Mente</th>\n",
       "      <td>1</td>\n",
       "      <td>1</td>\n",
       "    </tr>\n",
       "    <tr>\n",
       "      <th>Mi Qani Hogi</th>\n",
       "      <td>13</td>\n",
       "      <td>13</td>\n",
       "    </tr>\n",
       "    <tr>\n",
       "      <th>Misho</th>\n",
       "      <td>64</td>\n",
       "      <td>64</td>\n",
       "    </tr>\n",
       "    <tr>\n",
       "      <th>Razmik Amyan</th>\n",
       "      <td>23</td>\n",
       "      <td>23</td>\n",
       "    </tr>\n",
       "    <tr>\n",
       "      <th>Scimmie Del Deserto</th>\n",
       "      <td>1</td>\n",
       "      <td>1</td>\n",
       "    </tr>\n",
       "    <tr>\n",
       "      <th>Silva Hakobyan</th>\n",
       "      <td>24</td>\n",
       "      <td>24</td>\n",
       "    </tr>\n",
       "    <tr>\n",
       "      <th>Vnasakar</th>\n",
       "      <td>1</td>\n",
       "      <td>1</td>\n",
       "    </tr>\n",
       "    <tr>\n",
       "      <th>ԱՐԹՈՒՐ ՄԵՍՉՅԱՆ</th>\n",
       "      <td>50</td>\n",
       "      <td>50</td>\n",
       "    </tr>\n",
       "    <tr>\n",
       "      <th>Անդրե</th>\n",
       "      <td>14</td>\n",
       "      <td>14</td>\n",
       "    </tr>\n",
       "    <tr>\n",
       "      <th>Լիլիթ Հովհաննիսյան</th>\n",
       "      <td>31</td>\n",
       "      <td>31</td>\n",
       "    </tr>\n",
       "    <tr>\n",
       "      <th>ԿՈՄԻՏԱՍ</th>\n",
       "      <td>64</td>\n",
       "      <td>64</td>\n",
       "    </tr>\n",
       "    <tr>\n",
       "      <th>Հայկ Հակոբյան</th>\n",
       "      <td>26</td>\n",
       "      <td>26</td>\n",
       "    </tr>\n",
       "    <tr>\n",
       "      <th>Միհրան Ծառուկյան</th>\n",
       "      <td>30</td>\n",
       "      <td>30</td>\n",
       "    </tr>\n",
       "    <tr>\n",
       "      <th>Ներսիկ Իսպիրյան</th>\n",
       "      <td>7</td>\n",
       "      <td>7</td>\n",
       "    </tr>\n",
       "    <tr>\n",
       "      <th>ՌՈՒԲԵՆ ՀԱԽՎԵՐԴՅԱՆ</th>\n",
       "      <td>86</td>\n",
       "      <td>86</td>\n",
       "    </tr>\n",
       "    <tr>\n",
       "      <th>ՍԱՅԱԹ-ՆՈՎԱ</th>\n",
       "      <td>16</td>\n",
       "      <td>16</td>\n",
       "    </tr>\n",
       "    <tr>\n",
       "      <th>Սիրուշո</th>\n",
       "      <td>40</td>\n",
       "      <td>40</td>\n",
       "    </tr>\n",
       "  </tbody>\n",
       "</table>\n",
       "</div>"
      ],
      "text/plain": [
       "                                  Song  Lyrics\n",
       "Artist                                        \n",
       " Armenchik                          13      13\n",
       " Lav Eli                            10      10\n",
       "Aram MP3                            28      28\n",
       "Arame                               19      19\n",
       "Arsen Safaryan                      28      28\n",
       "CKK                                  5       5\n",
       "Cris                                 1       1\n",
       "Empyray                             11      11\n",
       "Enomenal                             1       1\n",
       "Eresunmek                            1       1\n",
       "Forsh                               11      11\n",
       "Gor Sujyan                          10      10\n",
       "HT Hayko                            16      16\n",
       "Halfcastromeo                        1       1\n",
       "Harout Pamboukjian                  45      45\n",
       "JFK379                               1       1\n",
       "Majurakk, misho, mariel gesualdi     1       1\n",
       "Mente                                1       1\n",
       "Mi Qani Hogi                        13      13\n",
       "Misho                               64      64\n",
       "Razmik Amyan                        23      23\n",
       "Scimmie Del Deserto                  1       1\n",
       "Silva Hakobyan                      24      24\n",
       "Vnasakar                             1       1\n",
       "ԱՐԹՈՒՐ ՄԵՍՉՅԱՆ                      50      50\n",
       "Անդրե                               14      14\n",
       "Լիլիթ Հովհաննիսյան                  31      31\n",
       "ԿՈՄԻՏԱՍ                             64      64\n",
       "Հայկ Հակոբյան                       26      26\n",
       "Միհրան Ծառուկյան                    30      30\n",
       "Ներսիկ Իսպիրյան                      7       7\n",
       "ՌՈՒԲԵՆ ՀԱԽՎԵՐԴՅԱՆ                   86      86\n",
       "ՍԱՅԱԹ-ՆՈՎԱ                          16      16\n",
       "Սիրուշո                             40      40"
      ]
     },
     "execution_count": 7,
     "metadata": {},
     "output_type": "execute_result"
    }
   ],
   "source": [
    "df.groupby('Artist').count()"
   ]
  },
  {
   "cell_type": "code",
   "execution_count": null,
   "metadata": {
    "colab": {
     "base_uri": "https://localhost:8080/"
    },
    "id": "0BAttwQ7fqfX",
    "outputId": "cec4a489-8142-481e-87ab-bfc65e8463c2"
   },
   "outputs": [
    {
     "name": "stdout",
     "output_type": "stream",
     "text": [
      "   Մեզ թվումա, որ մեզ թվումա  Որ մեկը մեզ հետևումա, մեկը մեր հետևումա  Մեր մտքերը գողանումա, տանում  Ես լավանում եմ, դու՝ վատանում  Մենք որոշում ենք, հետո փոշմանում  Ասում ենք երկար ու երկար չենք անում  Ու եթե մի 10 հոգի էս պահին ներս գային  Լավ կլիներ մեր ռիթմերը զգային  Էս պահին, տես գահին  Մեջը կորած ասեղ, եթե գտնես քեզ պահի  Մատդ ծակի կասես, հանրագիտարանը բաց  Ու «Ա» տառից սկսի էս պահին  Ինչ կա շատ, հավասար կիսի  Անցնում էր լիմուզինը, դե սպանի  Մի գնդակով 2 ճագար չես սպանի  Ու եթե հոգի կա օդում մի քանի  Ուրեմն Էս պահին արթնացի մի քնի     Էս պահին չեմ ուզում էլ նայեմ ժամին  Ինձ թողեք մենակ ես սիրում եմ քամին  Ու ոչ մեկ չգիտի, որ քամին գույն ունի  Ու նայում է հեռվից էս պահին  Էս պահին չեմ ուզում էլ նայեմ ժամին  Ինձ թողեք մենակ ես սիրում եմ քամին  Ու ոչ մեկ չգիտի, որ քամին գույն ունի  Ու նայում է հեռվից էս պահին \n"
     ]
    }
   ],
   "source": [
    "print(df['Lyrics'].iloc[1033])"
   ]
  },
  {
   "cell_type": "markdown",
   "metadata": {
    "id": "6c7gWk9x08gJ"
   },
   "source": [
    "It looks like the texts are formated in different styles: the first example includes text in round brackets which says how often parts of the text shall be repeated e.g. \"(repeat previous line 3 times)\"."
   ]
  },
  {
   "cell_type": "markdown",
   "metadata": {
    "id": "xqhniKfP0xlk"
   },
   "source": [
    "Looks like the text in round brackets does mostly not belong to the lyrics of the song and should be removed."
   ]
  },
  {
   "cell_type": "code",
   "execution_count": null,
   "metadata": {
    "colab": {
     "base_uri": "https://localhost:8080/"
    },
    "id": "OZQtthPWzus4",
    "outputId": "ae4ff33c-dc42-41ad-eae7-d4e3c4cfdf9f"
   },
   "outputs": [
    {
     "name": "stdout",
     "output_type": "stream",
     "text": [
      "Number of round brackets: 14\n"
     ]
    }
   ],
   "source": [
    "text_in_round_brackets = sum(list(df['Lyrics'].map(lambda s: re.findall(r'\\((.*?)\\)',s))), [])\n",
    "print('Number of round brackets: {}'.format(len(text_in_round_brackets)))"
   ]
  },
  {
   "cell_type": "code",
   "execution_count": null,
   "metadata": {
    "colab": {
     "base_uri": "https://localhost:8080/"
    },
    "id": "MHO6zjRVz50M",
    "outputId": "8cf23069-d2b1-45f9-c41c-9182c2c241ac"
   },
   "outputs": [
    {
     "data": {
      "text/plain": [
       "[\"Put your hands up if you're here to party Have the best party, let's go\",\n",
       " 'Մրոն շամշին բացեր ա Թևաս մաներ գացեր ա',\n",
       " 'Ты моя моя, нежная моя, Ты моя, моя',\n",
       " 'Մրոն շամշին բացեր ա Թևաս մաներ գացեր ա',\n",
       " 'Զարդ ու զարդարանք, Ի՞նչ է պետք, դուն սիրուն ղուշ ես, Մարմինդ է զուգված, ալ խալերով, Դրախտի նուշ ես:  Սիրուն, սև աչերուդ, Կարմիր վարդ այտերուդ, Շանթ ունքերուդ, Շուխ մազերուդ!!! Էլ ի՞նչ սուրմա է, հարկավոր է, Աննման փերուդ:  Ափսոս ջահել ես, Նոր ես ծաղկել, փնջիկ ես գարնան, Քեզ ջան եմ տալիս, չեմ հասկանում, Անգութ հոգեհան:',\n",
       " 'Ты моя моя, нежная моя, Ты моя, моя',\n",
       " 'Մրոն շամշին բացեր ա Թևաս մաներ գացեր ա',\n",
       " \"Put your hands up if you're here to party Have the best party, let's go\",\n",
       " 'Ты моя моя, нежная моя, Ты моя, моя',\n",
       " 'Չարեգանց պզդիգ թոռը Ղուլբեն ընգել ա հորը',\n",
       " 'Ты моя моя, нежная моя, Ты моя, моя',\n",
       " 'Զարդ ու զարդարանք, Ի՞նչ է պետք, դուն սիրուն ղուշ ես, Մարմինդ է զուգված, ալ խալերով, Դրախտի նուշ ես:  Սիրուն, սև աչերուդ, Կարմիր վարդ այտերուդ, Շանթ ունքերուդ, Շուխ մազերուդ!!! Էլ ի՞նչ սուրմա է, հարկավոր է, Աննման փերուդ:  Ափսոս ջահել ես, Նոր ես ծաղկել, փնջիկ ես գարնան, Քեզ ջան եմ տալիս, չեմ հասկանում, Անգութ հոգեհան:',\n",
       " 'Մրոն շամշին բացեր ա Թևաս մաներ գացեր ա',\n",
       " 'Մրոն շամշին բացեր ա Թևաս մաներ գացեր ա',\n",
       " 'Չարեգանց պզդիգ թոռը Ղուլբեն ընգել ա հորը',\n",
       " 'Մրոն շամշին բացեր ա Թևաս մաներ գացեր ա',\n",
       " 'Ты моя моя, нежная моя, Ты моя, моя',\n",
       " 'Ты моя моя, нежная моя, Ты моя, моя',\n",
       " \"Put your hands up if you're here to party Have the best party, let's go\",\n",
       " 'Ты моя моя, нежная моя, Ты моя, моя']"
      ]
     },
     "execution_count": 162,
     "metadata": {},
     "output_type": "execute_result"
    }
   ],
   "source": [
    "random.seed(0)\n",
    "random.choices(text_in_round_brackets, k=20)"
   ]
  },
  {
   "cell_type": "markdown",
   "metadata": {
    "id": "TKVwQT8uldZp"
   },
   "source": [
    "Removeing round/square brackest and text within."
   ]
  },
  {
   "cell_type": "code",
   "execution_count": null,
   "metadata": {
    "id": "I51y84vjlSjk"
   },
   "outputs": [],
   "source": [
    "df['Lyrics'] = df['Lyrics'].map(lambda s: re.sub(r'\\((.*?)\\)', '', s))\n",
    "df['Lyrics'] = df['Lyrics'].map(lambda s: re.sub(r'\\[(.*?)\\]', '', s))"
   ]
  },
  {
   "cell_type": "markdown",
   "metadata": {
    "id": "ECmQ9H47nab8"
   },
   "source": [
    "As we can see all the songs written in Armenian within our dataset, so let's just remove any non-Armenian words present in the lyrics."
   ]
  },
  {
   "cell_type": "code",
   "execution_count": null,
   "metadata": {
    "id": "uRIstfOEWENW"
   },
   "outputs": [],
   "source": [
    "armenian_pattern = re.compile(r'[Ա-Ֆա-ֆև\\s]+')\n",
    "df['Lyrics'] = df['Lyrics'].apply(lambda x: ''.join(armenian_pattern.findall(x)))\n",
    "\n",
    "df = df[df['Lyrics'].str.strip().astype(bool)]\n",
    "\n",
    "df.reset_index(drop=True, inplace=True)\n"
   ]
  },
  {
   "cell_type": "markdown",
   "metadata": {
    "id": "LR8VycalnzyE"
   },
   "source": [
    "Let's get rid of duplicate songs too."
   ]
  },
  {
   "cell_type": "code",
   "execution_count": null,
   "metadata": {
    "colab": {
     "base_uri": "https://localhost:8080/"
    },
    "id": "2a19an9qKdIF",
    "outputId": "72115eb0-6eba-4359-a199-f862b1be251c"
   },
   "outputs": [
    {
     "name": "stdout",
     "output_type": "stream",
     "text": [
      "Duplicate values removed.\n"
     ]
    }
   ],
   "source": [
    "duplicates = df.duplicated(subset='Song')\n",
    "\n",
    "# Check if there are any duplicates\n",
    "if duplicates.any():\n",
    "    # Remove the duplicate rows from the DataFrame\n",
    "    df = df.drop_duplicates(subset='Song', keep='first').reset_index(drop=True)\n",
    "    print(\"Duplicate values removed.\")\n",
    "else:\n",
    "    print(\"No duplicate values found in the 'Song' column.\")\n"
   ]
  },
  {
   "cell_type": "markdown",
   "metadata": {
    "id": "iwWnp8wWn9Dq"
   },
   "source": [
    "In order to classify the 20 Armenian artists with the most songs in our dataset, we will keep only the records of those 20 artists in our dataframe."
   ]
  },
  {
   "cell_type": "code",
   "execution_count": null,
   "metadata": {
    "id": "gOeOYV4e3Wc5"
   },
   "outputs": [],
   "source": [
    "artist_counts = df.groupby('Artist').count()\n",
    "top_artists = artist_counts.nlargest(20, 'Song').index\n",
    "df = df[df['Artist'].isin(top_artists)].reset_index(drop=True)"
   ]
  },
  {
   "cell_type": "markdown",
   "metadata": {
    "id": "_PckSVoGYxHX"
   },
   "source": [
    "What we have after removing non armenian and duplicate songs for top 20 Artists in our dataset."
   ]
  },
  {
   "cell_type": "code",
   "execution_count": null,
   "metadata": {
    "colab": {
     "base_uri": "https://localhost:8080/",
     "height": 708
    },
    "id": "zx-A3ZGEWFlf",
    "outputId": "661f22fd-ea77-4d45-e296-7e250d68efa5"
   },
   "outputs": [
    {
     "data": {
      "text/html": [
       "\n",
       "  <div id=\"df-8c8c4db3-691a-47a9-b85f-0a7a9d31353b\">\n",
       "    <div class=\"colab-df-container\">\n",
       "      <div>\n",
       "<style scoped>\n",
       "    .dataframe tbody tr th:only-of-type {\n",
       "        vertical-align: middle;\n",
       "    }\n",
       "\n",
       "    .dataframe tbody tr th {\n",
       "        vertical-align: top;\n",
       "    }\n",
       "\n",
       "    .dataframe thead th {\n",
       "        text-align: right;\n",
       "    }\n",
       "</style>\n",
       "<table border=\"1\" class=\"dataframe\">\n",
       "  <thead>\n",
       "    <tr style=\"text-align: right;\">\n",
       "      <th></th>\n",
       "      <th>Song</th>\n",
       "      <th>Lyrics</th>\n",
       "      <th>lines</th>\n",
       "    </tr>\n",
       "    <tr>\n",
       "      <th>Artist</th>\n",
       "      <th></th>\n",
       "      <th></th>\n",
       "      <th></th>\n",
       "    </tr>\n",
       "  </thead>\n",
       "  <tbody>\n",
       "    <tr>\n",
       "      <th>Lav Eli</th>\n",
       "      <td>10</td>\n",
       "      <td>10</td>\n",
       "      <td>10</td>\n",
       "    </tr>\n",
       "    <tr>\n",
       "      <th>Aram MP3</th>\n",
       "      <td>18</td>\n",
       "      <td>18</td>\n",
       "      <td>18</td>\n",
       "    </tr>\n",
       "    <tr>\n",
       "      <th>Arame</th>\n",
       "      <td>11</td>\n",
       "      <td>11</td>\n",
       "      <td>11</td>\n",
       "    </tr>\n",
       "    <tr>\n",
       "      <th>Arsen Safaryan</th>\n",
       "      <td>24</td>\n",
       "      <td>24</td>\n",
       "      <td>24</td>\n",
       "    </tr>\n",
       "    <tr>\n",
       "      <th>Empyray</th>\n",
       "      <td>11</td>\n",
       "      <td>11</td>\n",
       "      <td>11</td>\n",
       "    </tr>\n",
       "    <tr>\n",
       "      <th>HT Hayko</th>\n",
       "      <td>16</td>\n",
       "      <td>16</td>\n",
       "      <td>16</td>\n",
       "    </tr>\n",
       "    <tr>\n",
       "      <th>Harout Pamboukjian</th>\n",
       "      <td>40</td>\n",
       "      <td>40</td>\n",
       "      <td>40</td>\n",
       "    </tr>\n",
       "    <tr>\n",
       "      <th>Mi Qani Hogi</th>\n",
       "      <td>16</td>\n",
       "      <td>16</td>\n",
       "      <td>16</td>\n",
       "    </tr>\n",
       "    <tr>\n",
       "      <th>Misho</th>\n",
       "      <td>29</td>\n",
       "      <td>29</td>\n",
       "      <td>29</td>\n",
       "    </tr>\n",
       "    <tr>\n",
       "      <th>Razmik Amyan</th>\n",
       "      <td>23</td>\n",
       "      <td>23</td>\n",
       "      <td>23</td>\n",
       "    </tr>\n",
       "    <tr>\n",
       "      <th>Silva Hakobyan</th>\n",
       "      <td>20</td>\n",
       "      <td>20</td>\n",
       "      <td>20</td>\n",
       "    </tr>\n",
       "    <tr>\n",
       "      <th>ԱՐԹՈՒՐ ՄԵՍՉՅԱՆ</th>\n",
       "      <td>50</td>\n",
       "      <td>50</td>\n",
       "      <td>50</td>\n",
       "    </tr>\n",
       "    <tr>\n",
       "      <th>Անդրե</th>\n",
       "      <td>12</td>\n",
       "      <td>12</td>\n",
       "      <td>12</td>\n",
       "    </tr>\n",
       "    <tr>\n",
       "      <th>Լիլիթ Հովհաննիսյան</th>\n",
       "      <td>27</td>\n",
       "      <td>27</td>\n",
       "      <td>27</td>\n",
       "    </tr>\n",
       "    <tr>\n",
       "      <th>ԿՈՄԻՏԱՍ</th>\n",
       "      <td>64</td>\n",
       "      <td>64</td>\n",
       "      <td>64</td>\n",
       "    </tr>\n",
       "    <tr>\n",
       "      <th>Հայկ Հակոբյան</th>\n",
       "      <td>25</td>\n",
       "      <td>25</td>\n",
       "      <td>25</td>\n",
       "    </tr>\n",
       "    <tr>\n",
       "      <th>Միհրան Ծառուկյան</th>\n",
       "      <td>19</td>\n",
       "      <td>19</td>\n",
       "      <td>19</td>\n",
       "    </tr>\n",
       "    <tr>\n",
       "      <th>ՌՈՒԲԵՆ ՀԱԽՎԵՐԴՅԱՆ</th>\n",
       "      <td>85</td>\n",
       "      <td>85</td>\n",
       "      <td>85</td>\n",
       "    </tr>\n",
       "    <tr>\n",
       "      <th>ՍԱՅԱԹ-ՆՈՎԱ</th>\n",
       "      <td>16</td>\n",
       "      <td>16</td>\n",
       "      <td>16</td>\n",
       "    </tr>\n",
       "    <tr>\n",
       "      <th>Սիրուշո</th>\n",
       "      <td>27</td>\n",
       "      <td>27</td>\n",
       "      <td>27</td>\n",
       "    </tr>\n",
       "  </tbody>\n",
       "</table>\n",
       "</div>\n",
       "      <button class=\"colab-df-convert\" onclick=\"convertToInteractive('df-8c8c4db3-691a-47a9-b85f-0a7a9d31353b')\"\n",
       "              title=\"Convert this dataframe to an interactive table.\"\n",
       "              style=\"display:none;\">\n",
       "        \n",
       "  <svg xmlns=\"http://www.w3.org/2000/svg\" height=\"24px\"viewBox=\"0 0 24 24\"\n",
       "       width=\"24px\">\n",
       "    <path d=\"M0 0h24v24H0V0z\" fill=\"none\"/>\n",
       "    <path d=\"M18.56 5.44l.94 2.06.94-2.06 2.06-.94-2.06-.94-.94-2.06-.94 2.06-2.06.94zm-11 1L8.5 8.5l.94-2.06 2.06-.94-2.06-.94L8.5 2.5l-.94 2.06-2.06.94zm10 10l.94 2.06.94-2.06 2.06-.94-2.06-.94-.94-2.06-.94 2.06-2.06.94z\"/><path d=\"M17.41 7.96l-1.37-1.37c-.4-.4-.92-.59-1.43-.59-.52 0-1.04.2-1.43.59L10.3 9.45l-7.72 7.72c-.78.78-.78 2.05 0 2.83L4 21.41c.39.39.9.59 1.41.59.51 0 1.02-.2 1.41-.59l7.78-7.78 2.81-2.81c.8-.78.8-2.07 0-2.86zM5.41 20L4 18.59l7.72-7.72 1.47 1.35L5.41 20z\"/>\n",
       "  </svg>\n",
       "      </button>\n",
       "      \n",
       "  <style>\n",
       "    .colab-df-container {\n",
       "      display:flex;\n",
       "      flex-wrap:wrap;\n",
       "      gap: 12px;\n",
       "    }\n",
       "\n",
       "    .colab-df-convert {\n",
       "      background-color: #E8F0FE;\n",
       "      border: none;\n",
       "      border-radius: 50%;\n",
       "      cursor: pointer;\n",
       "      display: none;\n",
       "      fill: #1967D2;\n",
       "      height: 32px;\n",
       "      padding: 0 0 0 0;\n",
       "      width: 32px;\n",
       "    }\n",
       "\n",
       "    .colab-df-convert:hover {\n",
       "      background-color: #E2EBFA;\n",
       "      box-shadow: 0px 1px 2px rgba(60, 64, 67, 0.3), 0px 1px 3px 1px rgba(60, 64, 67, 0.15);\n",
       "      fill: #174EA6;\n",
       "    }\n",
       "\n",
       "    [theme=dark] .colab-df-convert {\n",
       "      background-color: #3B4455;\n",
       "      fill: #D2E3FC;\n",
       "    }\n",
       "\n",
       "    [theme=dark] .colab-df-convert:hover {\n",
       "      background-color: #434B5C;\n",
       "      box-shadow: 0px 1px 3px 1px rgba(0, 0, 0, 0.15);\n",
       "      filter: drop-shadow(0px 1px 2px rgba(0, 0, 0, 0.3));\n",
       "      fill: #FFFFFF;\n",
       "    }\n",
       "  </style>\n",
       "\n",
       "      <script>\n",
       "        const buttonEl =\n",
       "          document.querySelector('#df-8c8c4db3-691a-47a9-b85f-0a7a9d31353b button.colab-df-convert');\n",
       "        buttonEl.style.display =\n",
       "          google.colab.kernel.accessAllowed ? 'block' : 'none';\n",
       "\n",
       "        async function convertToInteractive(key) {\n",
       "          const element = document.querySelector('#df-8c8c4db3-691a-47a9-b85f-0a7a9d31353b');\n",
       "          const dataTable =\n",
       "            await google.colab.kernel.invokeFunction('convertToInteractive',\n",
       "                                                     [key], {});\n",
       "          if (!dataTable) return;\n",
       "\n",
       "          const docLinkHtml = 'Like what you see? Visit the ' +\n",
       "            '<a target=\"_blank\" href=https://colab.research.google.com/notebooks/data_table.ipynb>data table notebook</a>'\n",
       "            + ' to learn more about interactive tables.';\n",
       "          element.innerHTML = '';\n",
       "          dataTable['output_type'] = 'display_data';\n",
       "          await google.colab.output.renderOutput(dataTable, element);\n",
       "          const docLink = document.createElement('div');\n",
       "          docLink.innerHTML = docLinkHtml;\n",
       "          element.appendChild(docLink);\n",
       "        }\n",
       "      </script>\n",
       "    </div>\n",
       "  </div>\n",
       "  "
      ],
      "text/plain": [
       "                    Song  Lyrics  lines\n",
       "Artist                                 \n",
       " Lav Eli              10      10     10\n",
       "Aram MP3              18      18     18\n",
       "Arame                 11      11     11\n",
       "Arsen Safaryan        24      24     24\n",
       "Empyray               11      11     11\n",
       "HT Hayko              16      16     16\n",
       "Harout Pamboukjian    40      40     40\n",
       "Mi Qani Hogi          16      16     16\n",
       "Misho                 29      29     29\n",
       "Razmik Amyan          23      23     23\n",
       "Silva Hakobyan        20      20     20\n",
       "ԱՐԹՈՒՐ ՄԵՍՉՅԱՆ        50      50     50\n",
       "Անդրե                 12      12     12\n",
       "Լիլիթ Հովհաննիսյան    27      27     27\n",
       "ԿՈՄԻՏԱՍ               64      64     64\n",
       "Հայկ Հակոբյան         25      25     25\n",
       "Միհրան Ծառուկյան      19      19     19\n",
       "ՌՈՒԲԵՆ ՀԱԽՎԵՐԴՅԱՆ     85      85     85\n",
       "ՍԱՅԱԹ-ՆՈՎԱ            16      16     16\n",
       "Սիրուշո               27      27     27"
      ]
     },
     "execution_count": 168,
     "metadata": {},
     "output_type": "execute_result"
    }
   ],
   "source": [
    "df.groupby('Artist').count()"
   ]
  },
  {
   "cell_type": "code",
   "execution_count": null,
   "metadata": {
    "colab": {
     "base_uri": "https://localhost:8080/"
    },
    "id": "u_EFY3F-r54B",
    "outputId": "f89eda89-f84a-4367-b1b2-80ad96716fc9"
   },
   "outputs": [
    {
     "data": {
      "text/plain": [
       "(543, 4)"
      ]
     },
     "execution_count": 169,
     "metadata": {},
     "output_type": "execute_result"
    }
   ],
   "source": [
    "df.shape"
   ]
  },
  {
   "cell_type": "markdown",
   "metadata": {
    "id": "k7a8h45ySael"
   },
   "source": [
    "<a name=\"fenigine\"> </a>\n",
    "\n",
    "## Feature Selection/Extraction\n",
    "\n",
    "### Translating the obtained data to English "
   ]
  },
  {
   "cell_type": "code",
   "execution_count": null,
   "metadata": {
    "colab": {
     "base_uri": "https://localhost:8080/"
    },
    "id": "6hFRda4AaXQG",
    "outputId": "0fe67320-7a95-45a2-be50-64e6fc87adfc"
   },
   "outputs": [
    {
     "name": "stdout",
     "output_type": "stream",
     "text": [
      "Looking in indexes: https://pypi.org/simple, https://us-python.pkg.dev/colab-wheels/public/simple/\n",
      "Requirement already satisfied: googletrans in /usr/local/lib/python3.10/dist-packages (3.0.0)\n",
      "Requirement already satisfied: httpx==0.13.3 in /usr/local/lib/python3.10/dist-packages (from googletrans) (0.13.3)\n",
      "Requirement already satisfied: certifi in /usr/local/lib/python3.10/dist-packages (from httpx==0.13.3->googletrans) (2022.12.7)\n",
      "Requirement already satisfied: hstspreload in /usr/local/lib/python3.10/dist-packages (from httpx==0.13.3->googletrans) (2023.1.1)\n",
      "Requirement already satisfied: sniffio in /usr/local/lib/python3.10/dist-packages (from httpx==0.13.3->googletrans) (1.3.0)\n",
      "Requirement already satisfied: chardet==3.* in /usr/local/lib/python3.10/dist-packages (from httpx==0.13.3->googletrans) (3.0.4)\n",
      "Requirement already satisfied: idna==2.* in /usr/local/lib/python3.10/dist-packages (from httpx==0.13.3->googletrans) (2.10)\n",
      "Requirement already satisfied: rfc3986<2,>=1.3 in /usr/local/lib/python3.10/dist-packages (from httpx==0.13.3->googletrans) (1.5.0)\n",
      "Requirement already satisfied: httpcore==0.9.* in /usr/local/lib/python3.10/dist-packages (from httpx==0.13.3->googletrans) (0.9.1)\n",
      "Requirement already satisfied: h11<0.10,>=0.8 in /usr/local/lib/python3.10/dist-packages (from httpcore==0.9.*->httpx==0.13.3->googletrans) (0.9.0)\n",
      "Requirement already satisfied: h2==3.* in /usr/local/lib/python3.10/dist-packages (from httpcore==0.9.*->httpx==0.13.3->googletrans) (3.2.0)\n",
      "Requirement already satisfied: hyperframe<6,>=5.2.0 in /usr/local/lib/python3.10/dist-packages (from h2==3.*->httpcore==0.9.*->httpx==0.13.3->googletrans) (5.2.0)\n",
      "Requirement already satisfied: hpack<4,>=3.0 in /usr/local/lib/python3.10/dist-packages (from h2==3.*->httpcore==0.9.*->httpx==0.13.3->googletrans) (3.0.0)\n"
     ]
    }
   ],
   "source": [
    "!pip install googletrans"
   ]
  },
  {
   "cell_type": "code",
   "execution_count": null,
   "metadata": {
    "colab": {
     "base_uri": "https://localhost:8080/",
     "height": 1000
    },
    "id": "GyieqzeCaUPp",
    "outputId": "69bf0723-9ccf-4b3e-d998-39fb81e5ae4f"
   },
   "outputs": [
    {
     "name": "stdout",
     "output_type": "stream",
     "text": [
      "Translation error: 'NoneType' object has no attribute 'group'\n",
      "Translation error: 'NoneType' object has no attribute 'group'\n",
      "Translation error: 'NoneType' object has no attribute 'group'\n",
      "Translation error: 'NoneType' object has no attribute 'group'\n",
      "Translation error: 'NoneType' object has no attribute 'group'\n",
      "Translation error: 'NoneType' object has no attribute 'group'\n",
      "Translation error: 'NoneType' object has no attribute 'group'\n",
      "Translation error: 'NoneType' object has no attribute 'group'\n",
      "Translation error: 'NoneType' object has no attribute 'group'\n",
      "Translation error: 'NoneType' object has no attribute 'group'\n",
      "Translation error: 'NoneType' object has no attribute 'group'\n",
      "Translation error: 'NoneType' object has no attribute 'group'\n",
      "Translation error: 'NoneType' object has no attribute 'group'\n",
      "Translation error: 'NoneType' object has no attribute 'group'\n",
      "Translation error: 'NoneType' object has no attribute 'group'\n",
      "Translation error: 'NoneType' object has no attribute 'group'\n",
      "Translation error: 'NoneType' object has no attribute 'group'\n",
      "Translation error: 'NoneType' object has no attribute 'group'\n",
      "Translation error: 'NoneType' object has no attribute 'group'\n",
      "Translation error: 'NoneType' object has no attribute 'group'\n",
      "Translation error: 'NoneType' object has no attribute 'group'\n",
      "Translation error: 'NoneType' object has no attribute 'group'\n",
      "Translation error: 'NoneType' object has no attribute 'group'\n",
      "Translation error: 'NoneType' object has no attribute 'group'\n",
      "Translation error: 'NoneType' object has no attribute 'group'\n",
      "Translation error: 'NoneType' object has no attribute 'group'\n",
      "Translation error: 'NoneType' object has no attribute 'group'\n",
      "Translation error: 'NoneType' object has no attribute 'group'\n",
      "Translation error: 'NoneType' object has no attribute 'group'\n",
      "Translation error: 'NoneType' object has no attribute 'group'\n",
      "Translation error: 'NoneType' object has no attribute 'group'\n",
      "Translation error: 'NoneType' object has no attribute 'group'\n",
      "Translation error: 'NoneType' object has no attribute 'group'\n",
      "Translation error: 'NoneType' object has no attribute 'group'\n",
      "Translation error: 'NoneType' object has no attribute 'group'\n",
      "Translation error: 'NoneType' object has no attribute 'group'\n",
      "Translation error: 'NoneType' object has no attribute 'group'\n",
      "Translation error: 'NoneType' object has no attribute 'group'\n",
      "Translation error: 'NoneType' object has no attribute 'group'\n",
      "Translation error: 'NoneType' object has no attribute 'group'\n",
      "Translation error: 'NoneType' object has no attribute 'group'\n",
      "Translation error: 'NoneType' object has no attribute 'group'\n"
     ]
    },
    {
     "ename": "KeyboardInterrupt",
     "evalue": "ignored",
     "output_type": "error",
     "traceback": [
      "\u001b[0;31m---------------------------------------------------------------------------\u001b[0m",
      "\u001b[0;31mKeyboardInterrupt\u001b[0m                         Traceback (most recent call last)",
      "\u001b[0;32m<ipython-input-173-6534b71e404a>\u001b[0m in \u001b[0;36m<cell line: 16>\u001b[0;34m()\u001b[0m\n\u001b[1;32m     14\u001b[0m     \u001b[0;32mreturn\u001b[0m \u001b[0;34m''\u001b[0m\u001b[0;34m\u001b[0m\u001b[0;34m\u001b[0m\u001b[0m\n\u001b[1;32m     15\u001b[0m \u001b[0;34m\u001b[0m\u001b[0m\n\u001b[0;32m---> 16\u001b[0;31m \u001b[0mdf\u001b[0m\u001b[0;34m[\u001b[0m\u001b[0;34m'Translated_Lyrics'\u001b[0m\u001b[0;34m]\u001b[0m \u001b[0;34m=\u001b[0m \u001b[0mdf\u001b[0m\u001b[0;34m[\u001b[0m\u001b[0;34m'Lyrics'\u001b[0m\u001b[0;34m]\u001b[0m\u001b[0;34m.\u001b[0m\u001b[0mapply\u001b[0m\u001b[0;34m(\u001b[0m\u001b[0mtranslate_to_english\u001b[0m\u001b[0;34m)\u001b[0m\u001b[0;34m\u001b[0m\u001b[0;34m\u001b[0m\u001b[0m\n\u001b[0m\u001b[1;32m     17\u001b[0m \u001b[0;34m\u001b[0m\u001b[0m\n\u001b[1;32m     18\u001b[0m \u001b[0mprint\u001b[0m\u001b[0;34m(\u001b[0m\u001b[0;34m'Indices of rows with translation errors: {}'\u001b[0m\u001b[0;34m.\u001b[0m\u001b[0mformat\u001b[0m\u001b[0;34m(\u001b[0m\u001b[0merror_indices\u001b[0m\u001b[0;34m)\u001b[0m\u001b[0;34m)\u001b[0m\u001b[0;34m\u001b[0m\u001b[0;34m\u001b[0m\u001b[0m\n",
      "\u001b[0;32m/usr/local/lib/python3.10/dist-packages/pandas/core/series.py\u001b[0m in \u001b[0;36mapply\u001b[0;34m(self, func, convert_dtype, args, **kwargs)\u001b[0m\n\u001b[1;32m   4769\u001b[0m         \u001b[0mdtype\u001b[0m\u001b[0;34m:\u001b[0m \u001b[0mfloat64\u001b[0m\u001b[0;34m\u001b[0m\u001b[0;34m\u001b[0m\u001b[0m\n\u001b[1;32m   4770\u001b[0m         \"\"\"\n\u001b[0;32m-> 4771\u001b[0;31m         \u001b[0;32mreturn\u001b[0m \u001b[0mSeriesApply\u001b[0m\u001b[0;34m(\u001b[0m\u001b[0mself\u001b[0m\u001b[0;34m,\u001b[0m \u001b[0mfunc\u001b[0m\u001b[0;34m,\u001b[0m \u001b[0mconvert_dtype\u001b[0m\u001b[0;34m,\u001b[0m \u001b[0margs\u001b[0m\u001b[0;34m,\u001b[0m \u001b[0mkwargs\u001b[0m\u001b[0;34m)\u001b[0m\u001b[0;34m.\u001b[0m\u001b[0mapply\u001b[0m\u001b[0;34m(\u001b[0m\u001b[0;34m)\u001b[0m\u001b[0;34m\u001b[0m\u001b[0;34m\u001b[0m\u001b[0m\n\u001b[0m\u001b[1;32m   4772\u001b[0m \u001b[0;34m\u001b[0m\u001b[0m\n\u001b[1;32m   4773\u001b[0m     def _reduce(\n",
      "\u001b[0;32m/usr/local/lib/python3.10/dist-packages/pandas/core/apply.py\u001b[0m in \u001b[0;36mapply\u001b[0;34m(self)\u001b[0m\n\u001b[1;32m   1121\u001b[0m \u001b[0;34m\u001b[0m\u001b[0m\n\u001b[1;32m   1122\u001b[0m         \u001b[0;31m# self.f is Callable\u001b[0m\u001b[0;34m\u001b[0m\u001b[0;34m\u001b[0m\u001b[0m\n\u001b[0;32m-> 1123\u001b[0;31m         \u001b[0;32mreturn\u001b[0m \u001b[0mself\u001b[0m\u001b[0;34m.\u001b[0m\u001b[0mapply_standard\u001b[0m\u001b[0;34m(\u001b[0m\u001b[0;34m)\u001b[0m\u001b[0;34m\u001b[0m\u001b[0;34m\u001b[0m\u001b[0m\n\u001b[0m\u001b[1;32m   1124\u001b[0m \u001b[0;34m\u001b[0m\u001b[0m\n\u001b[1;32m   1125\u001b[0m     \u001b[0;32mdef\u001b[0m \u001b[0magg\u001b[0m\u001b[0;34m(\u001b[0m\u001b[0mself\u001b[0m\u001b[0;34m)\u001b[0m\u001b[0;34m:\u001b[0m\u001b[0;34m\u001b[0m\u001b[0;34m\u001b[0m\u001b[0m\n",
      "\u001b[0;32m/usr/local/lib/python3.10/dist-packages/pandas/core/apply.py\u001b[0m in \u001b[0;36mapply_standard\u001b[0;34m(self)\u001b[0m\n\u001b[1;32m   1172\u001b[0m             \u001b[0;32melse\u001b[0m\u001b[0;34m:\u001b[0m\u001b[0;34m\u001b[0m\u001b[0;34m\u001b[0m\u001b[0m\n\u001b[1;32m   1173\u001b[0m                 \u001b[0mvalues\u001b[0m \u001b[0;34m=\u001b[0m \u001b[0mobj\u001b[0m\u001b[0;34m.\u001b[0m\u001b[0mastype\u001b[0m\u001b[0;34m(\u001b[0m\u001b[0mobject\u001b[0m\u001b[0;34m)\u001b[0m\u001b[0;34m.\u001b[0m\u001b[0m_values\u001b[0m\u001b[0;34m\u001b[0m\u001b[0;34m\u001b[0m\u001b[0m\n\u001b[0;32m-> 1174\u001b[0;31m                 mapped = lib.map_infer(\n\u001b[0m\u001b[1;32m   1175\u001b[0m                     \u001b[0mvalues\u001b[0m\u001b[0;34m,\u001b[0m\u001b[0;34m\u001b[0m\u001b[0;34m\u001b[0m\u001b[0m\n\u001b[1;32m   1176\u001b[0m                     \u001b[0mf\u001b[0m\u001b[0;34m,\u001b[0m\u001b[0;34m\u001b[0m\u001b[0;34m\u001b[0m\u001b[0m\n",
      "\u001b[0;32m/usr/local/lib/python3.10/dist-packages/pandas/_libs/lib.pyx\u001b[0m in \u001b[0;36mpandas._libs.lib.map_infer\u001b[0;34m()\u001b[0m\n",
      "\u001b[0;32m<ipython-input-173-6534b71e404a>\u001b[0m in \u001b[0;36mtranslate_to_english\u001b[0;34m(text)\u001b[0m\n\u001b[1;32m      7\u001b[0m     \u001b[0;32mif\u001b[0m \u001b[0mtext\u001b[0m \u001b[0;32mis\u001b[0m \u001b[0;32mnot\u001b[0m \u001b[0;32mNone\u001b[0m\u001b[0;34m:\u001b[0m\u001b[0;34m\u001b[0m\u001b[0;34m\u001b[0m\u001b[0m\n\u001b[1;32m      8\u001b[0m         \u001b[0;32mtry\u001b[0m\u001b[0;34m:\u001b[0m\u001b[0;34m\u001b[0m\u001b[0;34m\u001b[0m\u001b[0m\n\u001b[0;32m----> 9\u001b[0;31m             \u001b[0mtranslation\u001b[0m \u001b[0;34m=\u001b[0m \u001b[0mtranslator\u001b[0m\u001b[0;34m.\u001b[0m\u001b[0mtranslate\u001b[0m\u001b[0;34m(\u001b[0m\u001b[0mtext\u001b[0m\u001b[0;34m,\u001b[0m\u001b[0msrc\u001b[0m\u001b[0;34m=\u001b[0m\u001b[0;34m'hy'\u001b[0m\u001b[0;34m,\u001b[0m \u001b[0mdest\u001b[0m\u001b[0;34m=\u001b[0m\u001b[0;34m'en'\u001b[0m\u001b[0;34m)\u001b[0m\u001b[0;34m\u001b[0m\u001b[0;34m\u001b[0m\u001b[0m\n\u001b[0m\u001b[1;32m     10\u001b[0m             \u001b[0;32mreturn\u001b[0m \u001b[0mtranslation\u001b[0m\u001b[0;34m.\u001b[0m\u001b[0mtext\u001b[0m\u001b[0;34m\u001b[0m\u001b[0;34m\u001b[0m\u001b[0m\n\u001b[1;32m     11\u001b[0m         \u001b[0;32mexcept\u001b[0m \u001b[0mException\u001b[0m \u001b[0;32mas\u001b[0m \u001b[0me\u001b[0m\u001b[0;34m:\u001b[0m\u001b[0;34m\u001b[0m\u001b[0;34m\u001b[0m\u001b[0m\n",
      "\u001b[0;32m/usr/local/lib/python3.10/dist-packages/googletrans/client.py\u001b[0m in \u001b[0;36mtranslate\u001b[0;34m(self, text, dest, src, **kwargs)\u001b[0m\n\u001b[1;32m    180\u001b[0m \u001b[0;34m\u001b[0m\u001b[0m\n\u001b[1;32m    181\u001b[0m         \u001b[0morigin\u001b[0m \u001b[0;34m=\u001b[0m \u001b[0mtext\u001b[0m\u001b[0;34m\u001b[0m\u001b[0;34m\u001b[0m\u001b[0m\n\u001b[0;32m--> 182\u001b[0;31m         \u001b[0mdata\u001b[0m \u001b[0;34m=\u001b[0m \u001b[0mself\u001b[0m\u001b[0;34m.\u001b[0m\u001b[0m_translate\u001b[0m\u001b[0;34m(\u001b[0m\u001b[0mtext\u001b[0m\u001b[0;34m,\u001b[0m \u001b[0mdest\u001b[0m\u001b[0;34m,\u001b[0m \u001b[0msrc\u001b[0m\u001b[0;34m,\u001b[0m \u001b[0mkwargs\u001b[0m\u001b[0;34m)\u001b[0m\u001b[0;34m\u001b[0m\u001b[0;34m\u001b[0m\u001b[0m\n\u001b[0m\u001b[1;32m    183\u001b[0m \u001b[0;34m\u001b[0m\u001b[0m\n\u001b[1;32m    184\u001b[0m         \u001b[0;31m# this code will be updated when the format is changed.\u001b[0m\u001b[0;34m\u001b[0m\u001b[0;34m\u001b[0m\u001b[0m\n",
      "\u001b[0;32m/usr/local/lib/python3.10/dist-packages/googletrans/client.py\u001b[0m in \u001b[0;36m_translate\u001b[0;34m(self, text, dest, src, override)\u001b[0m\n\u001b[1;32m     76\u001b[0m \u001b[0;34m\u001b[0m\u001b[0m\n\u001b[1;32m     77\u001b[0m     \u001b[0;32mdef\u001b[0m \u001b[0m_translate\u001b[0m\u001b[0;34m(\u001b[0m\u001b[0mself\u001b[0m\u001b[0;34m,\u001b[0m \u001b[0mtext\u001b[0m\u001b[0;34m,\u001b[0m \u001b[0mdest\u001b[0m\u001b[0;34m,\u001b[0m \u001b[0msrc\u001b[0m\u001b[0;34m,\u001b[0m \u001b[0moverride\u001b[0m\u001b[0;34m)\u001b[0m\u001b[0;34m:\u001b[0m\u001b[0;34m\u001b[0m\u001b[0;34m\u001b[0m\u001b[0m\n\u001b[0;32m---> 78\u001b[0;31m         \u001b[0mtoken\u001b[0m \u001b[0;34m=\u001b[0m \u001b[0mself\u001b[0m\u001b[0;34m.\u001b[0m\u001b[0mtoken_acquirer\u001b[0m\u001b[0;34m.\u001b[0m\u001b[0mdo\u001b[0m\u001b[0;34m(\u001b[0m\u001b[0mtext\u001b[0m\u001b[0;34m)\u001b[0m\u001b[0;34m\u001b[0m\u001b[0;34m\u001b[0m\u001b[0m\n\u001b[0m\u001b[1;32m     79\u001b[0m         params = utils.build_params(query=text, src=src, dest=dest,\n\u001b[1;32m     80\u001b[0m                                     token=token, override=override)\n",
      "\u001b[0;32m/usr/local/lib/python3.10/dist-packages/googletrans/gtoken.py\u001b[0m in \u001b[0;36mdo\u001b[0;34m(self, text)\u001b[0m\n\u001b[1;32m    192\u001b[0m \u001b[0;34m\u001b[0m\u001b[0m\n\u001b[1;32m    193\u001b[0m     \u001b[0;32mdef\u001b[0m \u001b[0mdo\u001b[0m\u001b[0;34m(\u001b[0m\u001b[0mself\u001b[0m\u001b[0;34m,\u001b[0m \u001b[0mtext\u001b[0m\u001b[0;34m)\u001b[0m\u001b[0;34m:\u001b[0m\u001b[0;34m\u001b[0m\u001b[0;34m\u001b[0m\u001b[0m\n\u001b[0;32m--> 194\u001b[0;31m         \u001b[0mself\u001b[0m\u001b[0;34m.\u001b[0m\u001b[0m_update\u001b[0m\u001b[0;34m(\u001b[0m\u001b[0;34m)\u001b[0m\u001b[0;34m\u001b[0m\u001b[0;34m\u001b[0m\u001b[0m\n\u001b[0m\u001b[1;32m    195\u001b[0m         \u001b[0mtk\u001b[0m \u001b[0;34m=\u001b[0m \u001b[0mself\u001b[0m\u001b[0;34m.\u001b[0m\u001b[0macquire\u001b[0m\u001b[0;34m(\u001b[0m\u001b[0mtext\u001b[0m\u001b[0;34m)\u001b[0m\u001b[0;34m\u001b[0m\u001b[0;34m\u001b[0m\u001b[0m\n\u001b[1;32m    196\u001b[0m         \u001b[0;32mreturn\u001b[0m \u001b[0mtk\u001b[0m\u001b[0;34m\u001b[0m\u001b[0;34m\u001b[0m\u001b[0m\n",
      "\u001b[0;32m/usr/local/lib/python3.10/dist-packages/googletrans/gtoken.py\u001b[0m in \u001b[0;36m_update\u001b[0;34m(self)\u001b[0m\n\u001b[1;32m     52\u001b[0m             \u001b[0;32mreturn\u001b[0m\u001b[0;34m\u001b[0m\u001b[0;34m\u001b[0m\u001b[0m\n\u001b[1;32m     53\u001b[0m \u001b[0;34m\u001b[0m\u001b[0m\n\u001b[0;32m---> 54\u001b[0;31m         \u001b[0mr\u001b[0m \u001b[0;34m=\u001b[0m \u001b[0mself\u001b[0m\u001b[0;34m.\u001b[0m\u001b[0mclient\u001b[0m\u001b[0;34m.\u001b[0m\u001b[0mget\u001b[0m\u001b[0;34m(\u001b[0m\u001b[0mself\u001b[0m\u001b[0;34m.\u001b[0m\u001b[0mhost\u001b[0m\u001b[0;34m)\u001b[0m\u001b[0;34m\u001b[0m\u001b[0;34m\u001b[0m\u001b[0m\n\u001b[0m\u001b[1;32m     55\u001b[0m \u001b[0;34m\u001b[0m\u001b[0m\n\u001b[1;32m     56\u001b[0m         \u001b[0mraw_tkk\u001b[0m \u001b[0;34m=\u001b[0m \u001b[0mself\u001b[0m\u001b[0;34m.\u001b[0m\u001b[0mRE_TKK\u001b[0m\u001b[0;34m.\u001b[0m\u001b[0msearch\u001b[0m\u001b[0;34m(\u001b[0m\u001b[0mr\u001b[0m\u001b[0;34m.\u001b[0m\u001b[0mtext\u001b[0m\u001b[0;34m)\u001b[0m\u001b[0;34m\u001b[0m\u001b[0;34m\u001b[0m\u001b[0m\n",
      "\u001b[0;32m/usr/local/lib/python3.10/dist-packages/httpx/_client.py\u001b[0m in \u001b[0;36mget\u001b[0;34m(self, url, params, headers, cookies, auth, allow_redirects, timeout)\u001b[0m\n\u001b[1;32m    753\u001b[0m         \u001b[0mtimeout\u001b[0m\u001b[0;34m:\u001b[0m \u001b[0mtyping\u001b[0m\u001b[0;34m.\u001b[0m\u001b[0mUnion\u001b[0m\u001b[0;34m[\u001b[0m\u001b[0mTimeoutTypes\u001b[0m\u001b[0;34m,\u001b[0m \u001b[0mUnsetType\u001b[0m\u001b[0;34m]\u001b[0m \u001b[0;34m=\u001b[0m \u001b[0mUNSET\u001b[0m\u001b[0;34m,\u001b[0m\u001b[0;34m\u001b[0m\u001b[0;34m\u001b[0m\u001b[0m\n\u001b[1;32m    754\u001b[0m     ) -> Response:\n\u001b[0;32m--> 755\u001b[0;31m         return self.request(\n\u001b[0m\u001b[1;32m    756\u001b[0m             \u001b[0;34m\"GET\"\u001b[0m\u001b[0;34m,\u001b[0m\u001b[0;34m\u001b[0m\u001b[0;34m\u001b[0m\u001b[0m\n\u001b[1;32m    757\u001b[0m             \u001b[0murl\u001b[0m\u001b[0;34m,\u001b[0m\u001b[0;34m\u001b[0m\u001b[0;34m\u001b[0m\u001b[0m\n",
      "\u001b[0;32m/usr/local/lib/python3.10/dist-packages/httpx/_client.py\u001b[0m in \u001b[0;36mrequest\u001b[0;34m(self, method, url, data, files, json, params, headers, cookies, auth, allow_redirects, timeout)\u001b[0m\n\u001b[1;32m    598\u001b[0m             \u001b[0mcookies\u001b[0m\u001b[0;34m=\u001b[0m\u001b[0mcookies\u001b[0m\u001b[0;34m,\u001b[0m\u001b[0;34m\u001b[0m\u001b[0;34m\u001b[0m\u001b[0m\n\u001b[1;32m    599\u001b[0m         )\n\u001b[0;32m--> 600\u001b[0;31m         return self.send(\n\u001b[0m\u001b[1;32m    601\u001b[0m             \u001b[0mrequest\u001b[0m\u001b[0;34m,\u001b[0m \u001b[0mauth\u001b[0m\u001b[0;34m=\u001b[0m\u001b[0mauth\u001b[0m\u001b[0;34m,\u001b[0m \u001b[0mallow_redirects\u001b[0m\u001b[0;34m=\u001b[0m\u001b[0mallow_redirects\u001b[0m\u001b[0;34m,\u001b[0m \u001b[0mtimeout\u001b[0m\u001b[0;34m=\u001b[0m\u001b[0mtimeout\u001b[0m\u001b[0;34m,\u001b[0m\u001b[0;34m\u001b[0m\u001b[0;34m\u001b[0m\u001b[0m\n\u001b[1;32m    602\u001b[0m         )\n",
      "\u001b[0;32m/usr/local/lib/python3.10/dist-packages/httpx/_client.py\u001b[0m in \u001b[0;36msend\u001b[0;34m(self, request, stream, auth, allow_redirects, timeout)\u001b[0m\n\u001b[1;32m    618\u001b[0m         \u001b[0mauth\u001b[0m \u001b[0;34m=\u001b[0m \u001b[0mself\u001b[0m\u001b[0;34m.\u001b[0m\u001b[0mbuild_auth\u001b[0m\u001b[0;34m(\u001b[0m\u001b[0mrequest\u001b[0m\u001b[0;34m,\u001b[0m \u001b[0mauth\u001b[0m\u001b[0;34m)\u001b[0m\u001b[0;34m\u001b[0m\u001b[0;34m\u001b[0m\u001b[0m\n\u001b[1;32m    619\u001b[0m \u001b[0;34m\u001b[0m\u001b[0m\n\u001b[0;32m--> 620\u001b[0;31m         response = self.send_handling_redirects(\n\u001b[0m\u001b[1;32m    621\u001b[0m             \u001b[0mrequest\u001b[0m\u001b[0;34m,\u001b[0m \u001b[0mauth\u001b[0m\u001b[0;34m=\u001b[0m\u001b[0mauth\u001b[0m\u001b[0;34m,\u001b[0m \u001b[0mtimeout\u001b[0m\u001b[0;34m=\u001b[0m\u001b[0mtimeout\u001b[0m\u001b[0;34m,\u001b[0m \u001b[0mallow_redirects\u001b[0m\u001b[0;34m=\u001b[0m\u001b[0mallow_redirects\u001b[0m\u001b[0;34m,\u001b[0m\u001b[0;34m\u001b[0m\u001b[0;34m\u001b[0m\u001b[0m\n\u001b[1;32m    622\u001b[0m         )\n",
      "\u001b[0;32m/usr/local/lib/python3.10/dist-packages/httpx/_client.py\u001b[0m in \u001b[0;36msend_handling_redirects\u001b[0;34m(self, request, auth, timeout, allow_redirects, history)\u001b[0m\n\u001b[1;32m    645\u001b[0m                 \u001b[0;32mraise\u001b[0m \u001b[0mTooManyRedirects\u001b[0m\u001b[0;34m(\u001b[0m\u001b[0;34m)\u001b[0m\u001b[0;34m\u001b[0m\u001b[0;34m\u001b[0m\u001b[0m\n\u001b[1;32m    646\u001b[0m \u001b[0;34m\u001b[0m\u001b[0m\n\u001b[0;32m--> 647\u001b[0;31m             response = self.send_handling_auth(\n\u001b[0m\u001b[1;32m    648\u001b[0m                 \u001b[0mrequest\u001b[0m\u001b[0;34m,\u001b[0m \u001b[0mauth\u001b[0m\u001b[0;34m=\u001b[0m\u001b[0mauth\u001b[0m\u001b[0;34m,\u001b[0m \u001b[0mtimeout\u001b[0m\u001b[0;34m=\u001b[0m\u001b[0mtimeout\u001b[0m\u001b[0;34m,\u001b[0m \u001b[0mhistory\u001b[0m\u001b[0;34m=\u001b[0m\u001b[0mhistory\u001b[0m\u001b[0;34m\u001b[0m\u001b[0;34m\u001b[0m\u001b[0m\n\u001b[1;32m    649\u001b[0m             )\n",
      "\u001b[0;32m/usr/local/lib/python3.10/dist-packages/httpx/_client.py\u001b[0m in \u001b[0;36msend_handling_auth\u001b[0;34m(self, request, history, auth, timeout)\u001b[0m\n\u001b[1;32m    682\u001b[0m         \u001b[0mrequest\u001b[0m \u001b[0;34m=\u001b[0m \u001b[0mnext\u001b[0m\u001b[0;34m(\u001b[0m\u001b[0mauth_flow\u001b[0m\u001b[0;34m)\u001b[0m\u001b[0;34m\u001b[0m\u001b[0;34m\u001b[0m\u001b[0m\n\u001b[1;32m    683\u001b[0m         \u001b[0;32mwhile\u001b[0m \u001b[0;32mTrue\u001b[0m\u001b[0;34m:\u001b[0m\u001b[0;34m\u001b[0m\u001b[0;34m\u001b[0m\u001b[0m\n\u001b[0;32m--> 684\u001b[0;31m             \u001b[0mresponse\u001b[0m \u001b[0;34m=\u001b[0m \u001b[0mself\u001b[0m\u001b[0;34m.\u001b[0m\u001b[0msend_single_request\u001b[0m\u001b[0;34m(\u001b[0m\u001b[0mrequest\u001b[0m\u001b[0;34m,\u001b[0m \u001b[0mtimeout\u001b[0m\u001b[0;34m)\u001b[0m\u001b[0;34m\u001b[0m\u001b[0;34m\u001b[0m\u001b[0m\n\u001b[0m\u001b[1;32m    685\u001b[0m             \u001b[0;32mif\u001b[0m \u001b[0mauth\u001b[0m\u001b[0;34m.\u001b[0m\u001b[0mrequires_response_body\u001b[0m\u001b[0;34m:\u001b[0m\u001b[0;34m\u001b[0m\u001b[0;34m\u001b[0m\u001b[0m\n\u001b[1;32m    686\u001b[0m                 \u001b[0mresponse\u001b[0m\u001b[0;34m.\u001b[0m\u001b[0mread\u001b[0m\u001b[0;34m(\u001b[0m\u001b[0;34m)\u001b[0m\u001b[0;34m\u001b[0m\u001b[0;34m\u001b[0m\u001b[0m\n",
      "\u001b[0;32m/usr/local/lib/python3.10/dist-packages/httpx/_client.py\u001b[0m in \u001b[0;36msend_single_request\u001b[0;34m(self, request, timeout)\u001b[0m\n\u001b[1;32m    712\u001b[0m                 \u001b[0mheaders\u001b[0m\u001b[0;34m,\u001b[0m\u001b[0;34m\u001b[0m\u001b[0;34m\u001b[0m\u001b[0m\n\u001b[1;32m    713\u001b[0m                 \u001b[0mstream\u001b[0m\u001b[0;34m,\u001b[0m\u001b[0;34m\u001b[0m\u001b[0;34m\u001b[0m\u001b[0m\n\u001b[0;32m--> 714\u001b[0;31m             \u001b[0;34m)\u001b[0m \u001b[0;34m=\u001b[0m \u001b[0mtransport\u001b[0m\u001b[0;34m.\u001b[0m\u001b[0mrequest\u001b[0m\u001b[0;34m(\u001b[0m\u001b[0;34m\u001b[0m\u001b[0;34m\u001b[0m\u001b[0m\n\u001b[0m\u001b[1;32m    715\u001b[0m                 \u001b[0mrequest\u001b[0m\u001b[0;34m.\u001b[0m\u001b[0mmethod\u001b[0m\u001b[0;34m.\u001b[0m\u001b[0mencode\u001b[0m\u001b[0;34m(\u001b[0m\u001b[0;34m)\u001b[0m\u001b[0;34m,\u001b[0m\u001b[0;34m\u001b[0m\u001b[0;34m\u001b[0m\u001b[0m\n\u001b[1;32m    716\u001b[0m                 \u001b[0mrequest\u001b[0m\u001b[0;34m.\u001b[0m\u001b[0murl\u001b[0m\u001b[0;34m.\u001b[0m\u001b[0mraw\u001b[0m\u001b[0;34m,\u001b[0m\u001b[0;34m\u001b[0m\u001b[0;34m\u001b[0m\u001b[0m\n",
      "\u001b[0;32m/usr/local/lib/python3.10/dist-packages/httpcore/_sync/connection_pool.py\u001b[0m in \u001b[0;36mrequest\u001b[0;34m(self, method, url, headers, stream, timeout)\u001b[0m\n\u001b[1;32m    150\u001b[0m \u001b[0;34m\u001b[0m\u001b[0m\n\u001b[1;32m    151\u001b[0m             \u001b[0;32mtry\u001b[0m\u001b[0;34m:\u001b[0m\u001b[0;34m\u001b[0m\u001b[0;34m\u001b[0m\u001b[0m\n\u001b[0;32m--> 152\u001b[0;31m                 response = connection.request(\n\u001b[0m\u001b[1;32m    153\u001b[0m                     \u001b[0mmethod\u001b[0m\u001b[0;34m,\u001b[0m \u001b[0murl\u001b[0m\u001b[0;34m,\u001b[0m \u001b[0mheaders\u001b[0m\u001b[0;34m=\u001b[0m\u001b[0mheaders\u001b[0m\u001b[0;34m,\u001b[0m \u001b[0mstream\u001b[0m\u001b[0;34m=\u001b[0m\u001b[0mstream\u001b[0m\u001b[0;34m,\u001b[0m \u001b[0mtimeout\u001b[0m\u001b[0;34m=\u001b[0m\u001b[0mtimeout\u001b[0m\u001b[0;34m\u001b[0m\u001b[0;34m\u001b[0m\u001b[0m\n\u001b[1;32m    154\u001b[0m                 )\n",
      "\u001b[0;32m/usr/local/lib/python3.10/dist-packages/httpcore/_sync/connection.py\u001b[0m in \u001b[0;36mrequest\u001b[0;34m(self, method, url, headers, stream, timeout)\u001b[0m\n\u001b[1;32m     76\u001b[0m             \u001b[0;34m\"connection.request method=%r url=%r headers=%r\"\u001b[0m\u001b[0;34m,\u001b[0m \u001b[0mmethod\u001b[0m\u001b[0;34m,\u001b[0m \u001b[0murl\u001b[0m\u001b[0;34m,\u001b[0m \u001b[0mheaders\u001b[0m\u001b[0;34m\u001b[0m\u001b[0;34m\u001b[0m\u001b[0m\n\u001b[1;32m     77\u001b[0m         )\n\u001b[0;32m---> 78\u001b[0;31m         \u001b[0;32mreturn\u001b[0m \u001b[0mself\u001b[0m\u001b[0;34m.\u001b[0m\u001b[0mconnection\u001b[0m\u001b[0;34m.\u001b[0m\u001b[0mrequest\u001b[0m\u001b[0;34m(\u001b[0m\u001b[0mmethod\u001b[0m\u001b[0;34m,\u001b[0m \u001b[0murl\u001b[0m\u001b[0;34m,\u001b[0m \u001b[0mheaders\u001b[0m\u001b[0;34m,\u001b[0m \u001b[0mstream\u001b[0m\u001b[0;34m,\u001b[0m \u001b[0mtimeout\u001b[0m\u001b[0;34m)\u001b[0m\u001b[0;34m\u001b[0m\u001b[0;34m\u001b[0m\u001b[0m\n\u001b[0m\u001b[1;32m     79\u001b[0m \u001b[0;34m\u001b[0m\u001b[0m\n\u001b[1;32m     80\u001b[0m     \u001b[0;32mdef\u001b[0m \u001b[0m_open_socket\u001b[0m\u001b[0;34m(\u001b[0m\u001b[0mself\u001b[0m\u001b[0;34m,\u001b[0m \u001b[0mtimeout\u001b[0m\u001b[0;34m:\u001b[0m \u001b[0mTimeoutDict\u001b[0m \u001b[0;34m=\u001b[0m \u001b[0;32mNone\u001b[0m\u001b[0;34m)\u001b[0m \u001b[0;34m->\u001b[0m \u001b[0mSyncSocketStream\u001b[0m\u001b[0;34m:\u001b[0m\u001b[0;34m\u001b[0m\u001b[0;34m\u001b[0m\u001b[0m\n",
      "\u001b[0;32m/usr/local/lib/python3.10/dist-packages/httpcore/_sync/http11.py\u001b[0m in \u001b[0;36mrequest\u001b[0;34m(self, method, url, headers, stream, timeout)\u001b[0m\n\u001b[1;32m     60\u001b[0m             \u001b[0mreason_phrase\u001b[0m\u001b[0;34m,\u001b[0m\u001b[0;34m\u001b[0m\u001b[0;34m\u001b[0m\u001b[0m\n\u001b[1;32m     61\u001b[0m             \u001b[0mheaders\u001b[0m\u001b[0;34m,\u001b[0m\u001b[0;34m\u001b[0m\u001b[0;34m\u001b[0m\u001b[0m\n\u001b[0;32m---> 62\u001b[0;31m         ) = self._receive_response(timeout)\n\u001b[0m\u001b[1;32m     63\u001b[0m         stream = SyncByteStream(\n\u001b[1;32m     64\u001b[0m             \u001b[0miterator\u001b[0m\u001b[0;34m=\u001b[0m\u001b[0mself\u001b[0m\u001b[0;34m.\u001b[0m\u001b[0m_receive_response_data\u001b[0m\u001b[0;34m(\u001b[0m\u001b[0mtimeout\u001b[0m\u001b[0;34m)\u001b[0m\u001b[0;34m,\u001b[0m\u001b[0;34m\u001b[0m\u001b[0;34m\u001b[0m\u001b[0m\n",
      "\u001b[0;32m/usr/local/lib/python3.10/dist-packages/httpcore/_sync/http11.py\u001b[0m in \u001b[0;36m_receive_response\u001b[0;34m(self, timeout)\u001b[0m\n\u001b[1;32m    113\u001b[0m         \"\"\"\n\u001b[1;32m    114\u001b[0m         \u001b[0;32mwhile\u001b[0m \u001b[0;32mTrue\u001b[0m\u001b[0;34m:\u001b[0m\u001b[0;34m\u001b[0m\u001b[0;34m\u001b[0m\u001b[0m\n\u001b[0;32m--> 115\u001b[0;31m             \u001b[0mevent\u001b[0m \u001b[0;34m=\u001b[0m \u001b[0mself\u001b[0m\u001b[0;34m.\u001b[0m\u001b[0m_receive_event\u001b[0m\u001b[0;34m(\u001b[0m\u001b[0mtimeout\u001b[0m\u001b[0;34m)\u001b[0m\u001b[0;34m\u001b[0m\u001b[0;34m\u001b[0m\u001b[0m\n\u001b[0m\u001b[1;32m    116\u001b[0m             \u001b[0;32mif\u001b[0m \u001b[0misinstance\u001b[0m\u001b[0;34m(\u001b[0m\u001b[0mevent\u001b[0m\u001b[0;34m,\u001b[0m \u001b[0mh11\u001b[0m\u001b[0;34m.\u001b[0m\u001b[0mResponse\u001b[0m\u001b[0;34m)\u001b[0m\u001b[0;34m:\u001b[0m\u001b[0;34m\u001b[0m\u001b[0;34m\u001b[0m\u001b[0m\n\u001b[1;32m    117\u001b[0m                 \u001b[0;32mbreak\u001b[0m\u001b[0;34m\u001b[0m\u001b[0;34m\u001b[0m\u001b[0m\n",
      "\u001b[0;32m/usr/local/lib/python3.10/dist-packages/httpcore/_sync/http11.py\u001b[0m in \u001b[0;36m_receive_event\u001b[0;34m(self, timeout)\u001b[0m\n\u001b[1;32m    143\u001b[0m \u001b[0;34m\u001b[0m\u001b[0m\n\u001b[1;32m    144\u001b[0m             \u001b[0;32mif\u001b[0m \u001b[0mevent\u001b[0m \u001b[0;32mis\u001b[0m \u001b[0mh11\u001b[0m\u001b[0;34m.\u001b[0m\u001b[0mNEED_DATA\u001b[0m\u001b[0;34m:\u001b[0m\u001b[0;34m\u001b[0m\u001b[0;34m\u001b[0m\u001b[0m\n\u001b[0;32m--> 145\u001b[0;31m                 \u001b[0mdata\u001b[0m \u001b[0;34m=\u001b[0m \u001b[0mself\u001b[0m\u001b[0;34m.\u001b[0m\u001b[0msocket\u001b[0m\u001b[0;34m.\u001b[0m\u001b[0mread\u001b[0m\u001b[0;34m(\u001b[0m\u001b[0mself\u001b[0m\u001b[0;34m.\u001b[0m\u001b[0mREAD_NUM_BYTES\u001b[0m\u001b[0;34m,\u001b[0m \u001b[0mtimeout\u001b[0m\u001b[0;34m)\u001b[0m\u001b[0;34m\u001b[0m\u001b[0;34m\u001b[0m\u001b[0m\n\u001b[0m\u001b[1;32m    146\u001b[0m                 \u001b[0mself\u001b[0m\u001b[0;34m.\u001b[0m\u001b[0mh11_state\u001b[0m\u001b[0;34m.\u001b[0m\u001b[0mreceive_data\u001b[0m\u001b[0;34m(\u001b[0m\u001b[0mdata\u001b[0m\u001b[0;34m)\u001b[0m\u001b[0;34m\u001b[0m\u001b[0;34m\u001b[0m\u001b[0m\n\u001b[1;32m    147\u001b[0m             \u001b[0;32melse\u001b[0m\u001b[0;34m:\u001b[0m\u001b[0;34m\u001b[0m\u001b[0;34m\u001b[0m\u001b[0m\n",
      "\u001b[0;32m/usr/local/lib/python3.10/dist-packages/httpcore/_backends/sync.py\u001b[0m in \u001b[0;36mread\u001b[0;34m(self, n, timeout)\u001b[0m\n\u001b[1;32m     60\u001b[0m             \u001b[0;32mwith\u001b[0m \u001b[0mmap_exceptions\u001b[0m\u001b[0;34m(\u001b[0m\u001b[0mexc_map\u001b[0m\u001b[0;34m)\u001b[0m\u001b[0;34m:\u001b[0m\u001b[0;34m\u001b[0m\u001b[0;34m\u001b[0m\u001b[0m\n\u001b[1;32m     61\u001b[0m                 \u001b[0mself\u001b[0m\u001b[0;34m.\u001b[0m\u001b[0msock\u001b[0m\u001b[0;34m.\u001b[0m\u001b[0msettimeout\u001b[0m\u001b[0;34m(\u001b[0m\u001b[0mread_timeout\u001b[0m\u001b[0;34m)\u001b[0m\u001b[0;34m\u001b[0m\u001b[0;34m\u001b[0m\u001b[0m\n\u001b[0;32m---> 62\u001b[0;31m                 \u001b[0;32mreturn\u001b[0m \u001b[0mself\u001b[0m\u001b[0;34m.\u001b[0m\u001b[0msock\u001b[0m\u001b[0;34m.\u001b[0m\u001b[0mrecv\u001b[0m\u001b[0;34m(\u001b[0m\u001b[0mn\u001b[0m\u001b[0;34m)\u001b[0m\u001b[0;34m\u001b[0m\u001b[0;34m\u001b[0m\u001b[0m\n\u001b[0m\u001b[1;32m     63\u001b[0m \u001b[0;34m\u001b[0m\u001b[0m\n\u001b[1;32m     64\u001b[0m     \u001b[0;32mdef\u001b[0m \u001b[0mwrite\u001b[0m\u001b[0;34m(\u001b[0m\u001b[0mself\u001b[0m\u001b[0;34m,\u001b[0m \u001b[0mdata\u001b[0m\u001b[0;34m:\u001b[0m \u001b[0mbytes\u001b[0m\u001b[0;34m,\u001b[0m \u001b[0mtimeout\u001b[0m\u001b[0;34m:\u001b[0m \u001b[0mTimeoutDict\u001b[0m\u001b[0;34m)\u001b[0m \u001b[0;34m->\u001b[0m \u001b[0;32mNone\u001b[0m\u001b[0;34m:\u001b[0m\u001b[0;34m\u001b[0m\u001b[0;34m\u001b[0m\u001b[0m\n",
      "\u001b[0;32m/usr/lib/python3.10/ssl.py\u001b[0m in \u001b[0;36mrecv\u001b[0;34m(self, buflen, flags)\u001b[0m\n\u001b[1;32m   1257\u001b[0m                     \u001b[0;34m\"non-zero flags not allowed in calls to recv() on %s\"\u001b[0m \u001b[0;34m%\u001b[0m\u001b[0;34m\u001b[0m\u001b[0;34m\u001b[0m\u001b[0m\n\u001b[1;32m   1258\u001b[0m                     self.__class__)\n\u001b[0;32m-> 1259\u001b[0;31m             \u001b[0;32mreturn\u001b[0m \u001b[0mself\u001b[0m\u001b[0;34m.\u001b[0m\u001b[0mread\u001b[0m\u001b[0;34m(\u001b[0m\u001b[0mbuflen\u001b[0m\u001b[0;34m)\u001b[0m\u001b[0;34m\u001b[0m\u001b[0;34m\u001b[0m\u001b[0m\n\u001b[0m\u001b[1;32m   1260\u001b[0m         \u001b[0;32melse\u001b[0m\u001b[0;34m:\u001b[0m\u001b[0;34m\u001b[0m\u001b[0;34m\u001b[0m\u001b[0m\n\u001b[1;32m   1261\u001b[0m             \u001b[0;32mreturn\u001b[0m \u001b[0msuper\u001b[0m\u001b[0;34m(\u001b[0m\u001b[0;34m)\u001b[0m\u001b[0;34m.\u001b[0m\u001b[0mrecv\u001b[0m\u001b[0;34m(\u001b[0m\u001b[0mbuflen\u001b[0m\u001b[0;34m,\u001b[0m \u001b[0mflags\u001b[0m\u001b[0;34m)\u001b[0m\u001b[0;34m\u001b[0m\u001b[0;34m\u001b[0m\u001b[0m\n",
      "\u001b[0;32m/usr/lib/python3.10/ssl.py\u001b[0m in \u001b[0;36mread\u001b[0;34m(self, len, buffer)\u001b[0m\n\u001b[1;32m   1130\u001b[0m                 \u001b[0;32mreturn\u001b[0m \u001b[0mself\u001b[0m\u001b[0;34m.\u001b[0m\u001b[0m_sslobj\u001b[0m\u001b[0;34m.\u001b[0m\u001b[0mread\u001b[0m\u001b[0;34m(\u001b[0m\u001b[0mlen\u001b[0m\u001b[0;34m,\u001b[0m \u001b[0mbuffer\u001b[0m\u001b[0;34m)\u001b[0m\u001b[0;34m\u001b[0m\u001b[0;34m\u001b[0m\u001b[0m\n\u001b[1;32m   1131\u001b[0m             \u001b[0;32melse\u001b[0m\u001b[0;34m:\u001b[0m\u001b[0;34m\u001b[0m\u001b[0;34m\u001b[0m\u001b[0m\n\u001b[0;32m-> 1132\u001b[0;31m                 \u001b[0;32mreturn\u001b[0m \u001b[0mself\u001b[0m\u001b[0;34m.\u001b[0m\u001b[0m_sslobj\u001b[0m\u001b[0;34m.\u001b[0m\u001b[0mread\u001b[0m\u001b[0;34m(\u001b[0m\u001b[0mlen\u001b[0m\u001b[0;34m)\u001b[0m\u001b[0;34m\u001b[0m\u001b[0;34m\u001b[0m\u001b[0m\n\u001b[0m\u001b[1;32m   1133\u001b[0m         \u001b[0;32mexcept\u001b[0m \u001b[0mSSLError\u001b[0m \u001b[0;32mas\u001b[0m \u001b[0mx\u001b[0m\u001b[0;34m:\u001b[0m\u001b[0;34m\u001b[0m\u001b[0;34m\u001b[0m\u001b[0m\n\u001b[1;32m   1134\u001b[0m             \u001b[0;32mif\u001b[0m \u001b[0mx\u001b[0m\u001b[0;34m.\u001b[0m\u001b[0margs\u001b[0m\u001b[0;34m[\u001b[0m\u001b[0;36m0\u001b[0m\u001b[0;34m]\u001b[0m \u001b[0;34m==\u001b[0m \u001b[0mSSL_ERROR_EOF\u001b[0m \u001b[0;32mand\u001b[0m \u001b[0mself\u001b[0m\u001b[0;34m.\u001b[0m\u001b[0msuppress_ragged_eofs\u001b[0m\u001b[0;34m:\u001b[0m\u001b[0;34m\u001b[0m\u001b[0;34m\u001b[0m\u001b[0m\n",
      "\u001b[0;31mKeyboardInterrupt\u001b[0m: "
     ]
    }
   ],
   "source": [
    "from googletrans import Translator\n",
    "\n",
    "translator = Translator()\n",
    "error_indices = []\n",
    "\n",
    "def translate_to_english(text):\n",
    "    if text is not None:\n",
    "        try:\n",
    "            translation = translator.translate(text,src='hy', dest='en')\n",
    "            return translation.text\n",
    "        except Exception as e:\n",
    "            print(f\"Translation error: {e}\")\n",
    "            error_indices.append(df.index[df['Lyrics'] == text][0])\n",
    "    return ''\n",
    "\n",
    "df['Translated_Lyrics'] = df['Lyrics'].apply(translate_to_english)\n",
    "\n",
    "print('Indices of rows with translation errors: {}'.format(error_indices))"
   ]
  },
  {
   "cell_type": "code",
   "execution_count": null,
   "metadata": {
    "id": "BC3-0LEFgCrk"
   },
   "outputs": [],
   "source": [
    "df=pd.read_csv(\"FinalData1.csv\")"
   ]
  },
  {
   "cell_type": "code",
   "execution_count": null,
   "metadata": {
    "id": "oJ0GmlcUigNN"
   },
   "outputs": [],
   "source": [
    "df=df.dropna()"
   ]
  },
  {
   "cell_type": "code",
   "execution_count": null,
   "metadata": {
    "colab": {
     "base_uri": "https://localhost:8080/",
     "height": 708
    },
    "id": "9U1j7FRUi2fM",
    "outputId": "f7b76e9c-1785-4184-93bb-8a5d22dc2a10"
   },
   "outputs": [
    {
     "data": {
      "text/html": [
       "\n",
       "  <div id=\"df-d880dc99-a7c8-4604-8cdc-a2e01b7c1f36\">\n",
       "    <div class=\"colab-df-container\">\n",
       "      <div>\n",
       "<style scoped>\n",
       "    .dataframe tbody tr th:only-of-type {\n",
       "        vertical-align: middle;\n",
       "    }\n",
       "\n",
       "    .dataframe tbody tr th {\n",
       "        vertical-align: top;\n",
       "    }\n",
       "\n",
       "    .dataframe thead th {\n",
       "        text-align: right;\n",
       "    }\n",
       "</style>\n",
       "<table border=\"1\" class=\"dataframe\">\n",
       "  <thead>\n",
       "    <tr style=\"text-align: right;\">\n",
       "      <th></th>\n",
       "      <th>Song</th>\n",
       "      <th>Lyrics</th>\n",
       "      <th>Translated_Lyrics</th>\n",
       "    </tr>\n",
       "    <tr>\n",
       "      <th>Artist</th>\n",
       "      <th></th>\n",
       "      <th></th>\n",
       "      <th></th>\n",
       "    </tr>\n",
       "  </thead>\n",
       "  <tbody>\n",
       "    <tr>\n",
       "      <th>Lav Eli</th>\n",
       "      <td>9</td>\n",
       "      <td>9</td>\n",
       "      <td>9</td>\n",
       "    </tr>\n",
       "    <tr>\n",
       "      <th>Aram MP3</th>\n",
       "      <td>17</td>\n",
       "      <td>17</td>\n",
       "      <td>17</td>\n",
       "    </tr>\n",
       "    <tr>\n",
       "      <th>Arame</th>\n",
       "      <td>9</td>\n",
       "      <td>9</td>\n",
       "      <td>9</td>\n",
       "    </tr>\n",
       "    <tr>\n",
       "      <th>Arsen Safaryan</th>\n",
       "      <td>23</td>\n",
       "      <td>23</td>\n",
       "      <td>23</td>\n",
       "    </tr>\n",
       "    <tr>\n",
       "      <th>Empyray</th>\n",
       "      <td>10</td>\n",
       "      <td>10</td>\n",
       "      <td>10</td>\n",
       "    </tr>\n",
       "    <tr>\n",
       "      <th>HT Hayko</th>\n",
       "      <td>16</td>\n",
       "      <td>16</td>\n",
       "      <td>16</td>\n",
       "    </tr>\n",
       "    <tr>\n",
       "      <th>Harout Pamboukjian</th>\n",
       "      <td>32</td>\n",
       "      <td>32</td>\n",
       "      <td>32</td>\n",
       "    </tr>\n",
       "    <tr>\n",
       "      <th>Mi Qani Hogi</th>\n",
       "      <td>15</td>\n",
       "      <td>15</td>\n",
       "      <td>15</td>\n",
       "    </tr>\n",
       "    <tr>\n",
       "      <th>Misho</th>\n",
       "      <td>26</td>\n",
       "      <td>26</td>\n",
       "      <td>26</td>\n",
       "    </tr>\n",
       "    <tr>\n",
       "      <th>Razmik Amyan</th>\n",
       "      <td>18</td>\n",
       "      <td>18</td>\n",
       "      <td>18</td>\n",
       "    </tr>\n",
       "    <tr>\n",
       "      <th>Silva Hakobyan</th>\n",
       "      <td>20</td>\n",
       "      <td>20</td>\n",
       "      <td>20</td>\n",
       "    </tr>\n",
       "    <tr>\n",
       "      <th>ԱՐԹՈՒՐ ՄԵՍՉՅԱՆ</th>\n",
       "      <td>50</td>\n",
       "      <td>50</td>\n",
       "      <td>50</td>\n",
       "    </tr>\n",
       "    <tr>\n",
       "      <th>Անդրե</th>\n",
       "      <td>12</td>\n",
       "      <td>12</td>\n",
       "      <td>12</td>\n",
       "    </tr>\n",
       "    <tr>\n",
       "      <th>Լիլիթ Հովհաննիսյան</th>\n",
       "      <td>24</td>\n",
       "      <td>24</td>\n",
       "      <td>24</td>\n",
       "    </tr>\n",
       "    <tr>\n",
       "      <th>ԿՈՄԻՏԱՍ</th>\n",
       "      <td>62</td>\n",
       "      <td>62</td>\n",
       "      <td>62</td>\n",
       "    </tr>\n",
       "    <tr>\n",
       "      <th>Հայկ Հակոբյան</th>\n",
       "      <td>23</td>\n",
       "      <td>23</td>\n",
       "      <td>23</td>\n",
       "    </tr>\n",
       "    <tr>\n",
       "      <th>Միհրան Ծառուկյան</th>\n",
       "      <td>18</td>\n",
       "      <td>18</td>\n",
       "      <td>18</td>\n",
       "    </tr>\n",
       "    <tr>\n",
       "      <th>ՌՈՒԲԵՆ ՀԱԽՎԵՐԴՅԱՆ</th>\n",
       "      <td>81</td>\n",
       "      <td>81</td>\n",
       "      <td>81</td>\n",
       "    </tr>\n",
       "    <tr>\n",
       "      <th>ՍԱՅԱԹ-ՆՈՎԱ</th>\n",
       "      <td>16</td>\n",
       "      <td>16</td>\n",
       "      <td>16</td>\n",
       "    </tr>\n",
       "    <tr>\n",
       "      <th>Սիրուշո</th>\n",
       "      <td>25</td>\n",
       "      <td>25</td>\n",
       "      <td>25</td>\n",
       "    </tr>\n",
       "  </tbody>\n",
       "</table>\n",
       "</div>\n",
       "      <button class=\"colab-df-convert\" onclick=\"convertToInteractive('df-d880dc99-a7c8-4604-8cdc-a2e01b7c1f36')\"\n",
       "              title=\"Convert this dataframe to an interactive table.\"\n",
       "              style=\"display:none;\">\n",
       "        \n",
       "  <svg xmlns=\"http://www.w3.org/2000/svg\" height=\"24px\"viewBox=\"0 0 24 24\"\n",
       "       width=\"24px\">\n",
       "    <path d=\"M0 0h24v24H0V0z\" fill=\"none\"/>\n",
       "    <path d=\"M18.56 5.44l.94 2.06.94-2.06 2.06-.94-2.06-.94-.94-2.06-.94 2.06-2.06.94zm-11 1L8.5 8.5l.94-2.06 2.06-.94-2.06-.94L8.5 2.5l-.94 2.06-2.06.94zm10 10l.94 2.06.94-2.06 2.06-.94-2.06-.94-.94-2.06-.94 2.06-2.06.94z\"/><path d=\"M17.41 7.96l-1.37-1.37c-.4-.4-.92-.59-1.43-.59-.52 0-1.04.2-1.43.59L10.3 9.45l-7.72 7.72c-.78.78-.78 2.05 0 2.83L4 21.41c.39.39.9.59 1.41.59.51 0 1.02-.2 1.41-.59l7.78-7.78 2.81-2.81c.8-.78.8-2.07 0-2.86zM5.41 20L4 18.59l7.72-7.72 1.47 1.35L5.41 20z\"/>\n",
       "  </svg>\n",
       "      </button>\n",
       "      \n",
       "  <style>\n",
       "    .colab-df-container {\n",
       "      display:flex;\n",
       "      flex-wrap:wrap;\n",
       "      gap: 12px;\n",
       "    }\n",
       "\n",
       "    .colab-df-convert {\n",
       "      background-color: #E8F0FE;\n",
       "      border: none;\n",
       "      border-radius: 50%;\n",
       "      cursor: pointer;\n",
       "      display: none;\n",
       "      fill: #1967D2;\n",
       "      height: 32px;\n",
       "      padding: 0 0 0 0;\n",
       "      width: 32px;\n",
       "    }\n",
       "\n",
       "    .colab-df-convert:hover {\n",
       "      background-color: #E2EBFA;\n",
       "      box-shadow: 0px 1px 2px rgba(60, 64, 67, 0.3), 0px 1px 3px 1px rgba(60, 64, 67, 0.15);\n",
       "      fill: #174EA6;\n",
       "    }\n",
       "\n",
       "    [theme=dark] .colab-df-convert {\n",
       "      background-color: #3B4455;\n",
       "      fill: #D2E3FC;\n",
       "    }\n",
       "\n",
       "    [theme=dark] .colab-df-convert:hover {\n",
       "      background-color: #434B5C;\n",
       "      box-shadow: 0px 1px 3px 1px rgba(0, 0, 0, 0.15);\n",
       "      filter: drop-shadow(0px 1px 2px rgba(0, 0, 0, 0.3));\n",
       "      fill: #FFFFFF;\n",
       "    }\n",
       "  </style>\n",
       "\n",
       "      <script>\n",
       "        const buttonEl =\n",
       "          document.querySelector('#df-d880dc99-a7c8-4604-8cdc-a2e01b7c1f36 button.colab-df-convert');\n",
       "        buttonEl.style.display =\n",
       "          google.colab.kernel.accessAllowed ? 'block' : 'none';\n",
       "\n",
       "        async function convertToInteractive(key) {\n",
       "          const element = document.querySelector('#df-d880dc99-a7c8-4604-8cdc-a2e01b7c1f36');\n",
       "          const dataTable =\n",
       "            await google.colab.kernel.invokeFunction('convertToInteractive',\n",
       "                                                     [key], {});\n",
       "          if (!dataTable) return;\n",
       "\n",
       "          const docLinkHtml = 'Like what you see? Visit the ' +\n",
       "            '<a target=\"_blank\" href=https://colab.research.google.com/notebooks/data_table.ipynb>data table notebook</a>'\n",
       "            + ' to learn more about interactive tables.';\n",
       "          element.innerHTML = '';\n",
       "          dataTable['output_type'] = 'display_data';\n",
       "          await google.colab.output.renderOutput(dataTable, element);\n",
       "          const docLink = document.createElement('div');\n",
       "          docLink.innerHTML = docLinkHtml;\n",
       "          element.appendChild(docLink);\n",
       "        }\n",
       "      </script>\n",
       "    </div>\n",
       "  </div>\n",
       "  "
      ],
      "text/plain": [
       "                    Song  Lyrics  Translated_Lyrics\n",
       "Artist                                             \n",
       " Lav Eli               9       9                  9\n",
       "Aram MP3              17      17                 17\n",
       "Arame                  9       9                  9\n",
       "Arsen Safaryan        23      23                 23\n",
       "Empyray               10      10                 10\n",
       "HT Hayko              16      16                 16\n",
       "Harout Pamboukjian    32      32                 32\n",
       "Mi Qani Hogi          15      15                 15\n",
       "Misho                 26      26                 26\n",
       "Razmik Amyan          18      18                 18\n",
       "Silva Hakobyan        20      20                 20\n",
       "ԱՐԹՈՒՐ ՄԵՍՉՅԱՆ        50      50                 50\n",
       "Անդրե                 12      12                 12\n",
       "Լիլիթ Հովհաննիսյան    24      24                 24\n",
       "ԿՈՄԻՏԱՍ               62      62                 62\n",
       "Հայկ Հակոբյան         23      23                 23\n",
       "Միհրան Ծառուկյան      18      18                 18\n",
       "ՌՈՒԲԵՆ ՀԱԽՎԵՐԴՅԱՆ     81      81                 81\n",
       "ՍԱՅԱԹ-ՆՈՎԱ            16      16                 16\n",
       "Սիրուշո               25      25                 25"
      ]
     },
     "execution_count": 33,
     "metadata": {},
     "output_type": "execute_result"
    }
   ],
   "source": [
    "df.groupby('Artist').count()"
   ]
  },
  {
   "cell_type": "code",
   "execution_count": null,
   "metadata": {
    "id": "wwhOqePX8H3C"
   },
   "outputs": [],
   "source": [
    "df['lines'] = df['Lyrics'].map(lambda t: len(re.findall(r'\\n', t)))\n",
    "df['Lyrics'] = df['Lyrics'].map(lambda s: re.sub(r'\\n|\\n', ' ', s))\n",
    "df['Translated_Lyrics']=df['Translated_Lyrics'].map(lambda s: re.sub(r'\\n|\\n', ' ', s))"
   ]
  },
  {
   "cell_type": "markdown",
   "metadata": {
    "id": "5XABV65kqzWx"
   },
   "source": [
    "#### Tokenization\n",
    "A very common way to analyse text is to seperate it into a list of words which makes it much easier to do further analysis. I'm using nltk.tokenize to do that. Furthermore, all punctuations are removed as well. Below is an example how the text is converted."
   ]
  },
  {
   "cell_type": "code",
   "execution_count": null,
   "metadata": {
    "id": "3RKhJ5ti64eC"
   },
   "outputs": [],
   "source": [
    "tokenizer = nltk.tokenize.RegexpTokenizer(r'\\w+')\n",
    "df['tokens_hy'] = df['Lyrics'].map(tokenizer.tokenize)\n",
    "df['tokens_en'] = df['Translated_Lyrics'].map(tokenizer.tokenize)\n"
   ]
  },
  {
   "cell_type": "markdown",
   "metadata": {
    "id": "CWOV7rTUrOB5"
   },
   "source": [
    "#### Stemming\n",
    "Stemming is a simple method to convert words to a common base form. For example converting plural to singular or past tense to present tense. This helps to treat words with the same meaning in the same way.\n",
    "\n",
    "In contrast to lemmatization it uses a very simple method and does not always find the grammatically correct from. However, as stemming is much faster than lemmatization I'm using it here.\n",
    "\n",
    "Below is an example how different forms of the word \"make\" are converted. In this case stemming failes to correctly convert the past tense."
   ]
  },
  {
   "cell_type": "code",
   "execution_count": null,
   "metadata": {
    "id": "0gUusMiub06F"
   },
   "outputs": [],
   "source": [
    "stemmer = nltk.stem.porter.PorterStemmer()\n"
   ]
  },
  {
   "cell_type": "code",
   "execution_count": null,
   "metadata": {
    "colab": {
     "base_uri": "https://localhost:8080/"
    },
    "id": "xuh4Ym9fw3t9",
    "outputId": "f6563d4e-44f8-4014-b133-4e0b4e6f632e"
   },
   "outputs": [
    {
     "name": "stdout",
     "output_type": "stream",
     "text": [
      "Number of tokens: 89552\n",
      "Number of unique tokens: 8837\n",
      "Number of unique stems: 5833\n"
     ]
    }
   ],
   "source": [
    "# create dictionary to map tokens their stem\n",
    "token_to_stem = {}\n",
    "# initialise word count\n",
    "token_count = 0\n",
    "# iterate through all songs\n",
    "for lst in df['tokens_en']:\n",
    "    # iterate through all tokens of song\n",
    "    for token in lst:\n",
    "        token_count += 1\n",
    "        # check if token is in dictionary\n",
    "        if token not in token_to_stem:\n",
    "            # add token to dictionary\n",
    "            token_to_stem[token] = stemmer.stem(token)\n",
    "            \n",
    "df['stems_en'] = df['tokens_en'].map(lambda lst: [token_to_stem[token] for token in lst])\n",
    "\n",
    "print('Number of tokens: {}'.format(token_count))\n",
    "print('Number of unique tokens: {}'.format(len(token_to_stem.keys())))\n",
    "print('Number of unique stems: {}'.format(len(set(token_to_stem.values()))))"
   ]
  },
  {
   "cell_type": "code",
   "execution_count": null,
   "metadata": {
    "id": "0mUPYy7kxEG_"
   },
   "outputs": [],
   "source": [
    "df['n_stems_en'] = df['stems_en'].map(len)"
   ]
  },
  {
   "cell_type": "code",
   "execution_count": null,
   "metadata": {
    "id": "nRDJbPPjxR4s"
   },
   "outputs": [],
   "source": []
  },
  {
   "cell_type": "code",
   "execution_count": null,
   "metadata": {
    "id": "ER8b33gyxR-6"
   },
   "outputs": [],
   "source": []
  },
  {
   "cell_type": "code",
   "execution_count": null,
   "metadata": {
    "colab": {
     "base_uri": "https://localhost:8080/"
    },
    "id": "Wfj7k7_CxSCU",
    "outputId": "850b73b7-326c-45d6-d9b6-cd3a6879c898"
   },
   "outputs": [
    {
     "name": "stdout",
     "output_type": "stream",
     "text": [
      "<class 'pandas.core.frame.DataFrame'>\n",
      "Int64Index: 506 entries, 0 to 542\n",
      "Data columns (total 9 columns):\n",
      " #   Column             Non-Null Count  Dtype \n",
      "---  ------             --------------  ----- \n",
      " 0   Artist             506 non-null    object\n",
      " 1   Song               506 non-null    object\n",
      " 2   Lyrics             506 non-null    object\n",
      " 3   Translated_Lyrics  506 non-null    object\n",
      " 4   lines              506 non-null    int64 \n",
      " 5   tokens_hy          506 non-null    object\n",
      " 6   tokens_en          506 non-null    object\n",
      " 7   stems_en           506 non-null    object\n",
      " 8   n_stems_en         506 non-null    int64 \n",
      "dtypes: int64(2), object(7)\n",
      "memory usage: 39.5+ KB\n"
     ]
    }
   ],
   "source": [
    "df.info()"
   ]
  },
  {
   "cell_type": "markdown",
   "metadata": {
    "id": "X86IVikPxSUS"
   },
   "source": [
    "<a name=\"eda\"></a>\n",
    "# EDA\n",
    "#### Number of songs, artists, and words"
   ]
  },
  {
   "cell_type": "code",
   "execution_count": null,
   "metadata": {
    "colab": {
     "base_uri": "https://localhost:8080/",
     "height": 542
    },
    "id": "H4tHDeHSxWby",
    "outputId": "a7d1c8e1-9184-43e8-9b10-5bb00bed14a5"
   },
   "outputs": [
    {
     "data": {
      "text/html": [
       "<html>\n",
       "<head><meta charset=\"utf-8\" /></head>\n",
       "<body>\n",
       "    <div>            <script src=\"https://cdnjs.cloudflare.com/ajax/libs/mathjax/2.7.5/MathJax.js?config=TeX-AMS-MML_SVG\"></script><script type=\"text/javascript\">if (window.MathJax && window.MathJax.Hub && window.MathJax.Hub.Config) {window.MathJax.Hub.Config({SVG: {font: \"STIX-Web\"}});}</script>                <script type=\"text/javascript\">window.PlotlyConfig = {MathJaxConfig: 'local'};</script>\n",
       "        <script src=\"https://cdn.plot.ly/plotly-2.18.2.min.js\"></script>                <div id=\"7df840c1-9c12-4b4a-aa80-ead4527b3666\" class=\"plotly-graph-div\" style=\"height:525px; width:100%;\"></div>            <script type=\"text/javascript\">                                    window.PLOTLYENV=window.PLOTLYENV || {};                                    if (document.getElementById(\"7df840c1-9c12-4b4a-aa80-ead4527b3666\")) {                    Plotly.newPlot(                        \"7df840c1-9c12-4b4a-aa80-ead4527b3666\",                        [{\"alignmentgroup\":\"True\",\"bingroup\":\"x\",\"hovertemplate\":\"Songs=%{x}<br>count=%{y}<extra></extra>\",\"legendgroup\":\"\",\"marker\":{\"color\":\"#636efa\",\"pattern\":{\"shape\":\"\"}},\"name\":\"\",\"offsetgroup\":\"\",\"orientation\":\"v\",\"showlegend\":false,\"x\":[9,17,9,23,10,16,32,15,26,18,20,50,12,24,62,23,18,81,16,25],\"xaxis\":\"x\",\"yaxis\":\"y\",\"type\":\"histogram\"}],                        {\"template\":{\"data\":{\"histogram2dcontour\":[{\"type\":\"histogram2dcontour\",\"colorbar\":{\"outlinewidth\":0,\"ticks\":\"\"},\"colorscale\":[[0.0,\"#0d0887\"],[0.1111111111111111,\"#46039f\"],[0.2222222222222222,\"#7201a8\"],[0.3333333333333333,\"#9c179e\"],[0.4444444444444444,\"#bd3786\"],[0.5555555555555556,\"#d8576b\"],[0.6666666666666666,\"#ed7953\"],[0.7777777777777778,\"#fb9f3a\"],[0.8888888888888888,\"#fdca26\"],[1.0,\"#f0f921\"]]}],\"choropleth\":[{\"type\":\"choropleth\",\"colorbar\":{\"outlinewidth\":0,\"ticks\":\"\"}}],\"histogram2d\":[{\"type\":\"histogram2d\",\"colorbar\":{\"outlinewidth\":0,\"ticks\":\"\"},\"colorscale\":[[0.0,\"#0d0887\"],[0.1111111111111111,\"#46039f\"],[0.2222222222222222,\"#7201a8\"],[0.3333333333333333,\"#9c179e\"],[0.4444444444444444,\"#bd3786\"],[0.5555555555555556,\"#d8576b\"],[0.6666666666666666,\"#ed7953\"],[0.7777777777777778,\"#fb9f3a\"],[0.8888888888888888,\"#fdca26\"],[1.0,\"#f0f921\"]]}],\"heatmap\":[{\"type\":\"heatmap\",\"colorbar\":{\"outlinewidth\":0,\"ticks\":\"\"},\"colorscale\":[[0.0,\"#0d0887\"],[0.1111111111111111,\"#46039f\"],[0.2222222222222222,\"#7201a8\"],[0.3333333333333333,\"#9c179e\"],[0.4444444444444444,\"#bd3786\"],[0.5555555555555556,\"#d8576b\"],[0.6666666666666666,\"#ed7953\"],[0.7777777777777778,\"#fb9f3a\"],[0.8888888888888888,\"#fdca26\"],[1.0,\"#f0f921\"]]}],\"heatmapgl\":[{\"type\":\"heatmapgl\",\"colorbar\":{\"outlinewidth\":0,\"ticks\":\"\"},\"colorscale\":[[0.0,\"#0d0887\"],[0.1111111111111111,\"#46039f\"],[0.2222222222222222,\"#7201a8\"],[0.3333333333333333,\"#9c179e\"],[0.4444444444444444,\"#bd3786\"],[0.5555555555555556,\"#d8576b\"],[0.6666666666666666,\"#ed7953\"],[0.7777777777777778,\"#fb9f3a\"],[0.8888888888888888,\"#fdca26\"],[1.0,\"#f0f921\"]]}],\"contourcarpet\":[{\"type\":\"contourcarpet\",\"colorbar\":{\"outlinewidth\":0,\"ticks\":\"\"}}],\"contour\":[{\"type\":\"contour\",\"colorbar\":{\"outlinewidth\":0,\"ticks\":\"\"},\"colorscale\":[[0.0,\"#0d0887\"],[0.1111111111111111,\"#46039f\"],[0.2222222222222222,\"#7201a8\"],[0.3333333333333333,\"#9c179e\"],[0.4444444444444444,\"#bd3786\"],[0.5555555555555556,\"#d8576b\"],[0.6666666666666666,\"#ed7953\"],[0.7777777777777778,\"#fb9f3a\"],[0.8888888888888888,\"#fdca26\"],[1.0,\"#f0f921\"]]}],\"surface\":[{\"type\":\"surface\",\"colorbar\":{\"outlinewidth\":0,\"ticks\":\"\"},\"colorscale\":[[0.0,\"#0d0887\"],[0.1111111111111111,\"#46039f\"],[0.2222222222222222,\"#7201a8\"],[0.3333333333333333,\"#9c179e\"],[0.4444444444444444,\"#bd3786\"],[0.5555555555555556,\"#d8576b\"],[0.6666666666666666,\"#ed7953\"],[0.7777777777777778,\"#fb9f3a\"],[0.8888888888888888,\"#fdca26\"],[1.0,\"#f0f921\"]]}],\"mesh3d\":[{\"type\":\"mesh3d\",\"colorbar\":{\"outlinewidth\":0,\"ticks\":\"\"}}],\"scatter\":[{\"fillpattern\":{\"fillmode\":\"overlay\",\"size\":10,\"solidity\":0.2},\"type\":\"scatter\"}],\"parcoords\":[{\"type\":\"parcoords\",\"line\":{\"colorbar\":{\"outlinewidth\":0,\"ticks\":\"\"}}}],\"scatterpolargl\":[{\"type\":\"scatterpolargl\",\"marker\":{\"colorbar\":{\"outlinewidth\":0,\"ticks\":\"\"}}}],\"bar\":[{\"error_x\":{\"color\":\"#2a3f5f\"},\"error_y\":{\"color\":\"#2a3f5f\"},\"marker\":{\"line\":{\"color\":\"#E5ECF6\",\"width\":0.5},\"pattern\":{\"fillmode\":\"overlay\",\"size\":10,\"solidity\":0.2}},\"type\":\"bar\"}],\"scattergeo\":[{\"type\":\"scattergeo\",\"marker\":{\"colorbar\":{\"outlinewidth\":0,\"ticks\":\"\"}}}],\"scatterpolar\":[{\"type\":\"scatterpolar\",\"marker\":{\"colorbar\":{\"outlinewidth\":0,\"ticks\":\"\"}}}],\"histogram\":[{\"marker\":{\"pattern\":{\"fillmode\":\"overlay\",\"size\":10,\"solidity\":0.2}},\"type\":\"histogram\"}],\"scattergl\":[{\"type\":\"scattergl\",\"marker\":{\"colorbar\":{\"outlinewidth\":0,\"ticks\":\"\"}}}],\"scatter3d\":[{\"type\":\"scatter3d\",\"line\":{\"colorbar\":{\"outlinewidth\":0,\"ticks\":\"\"}},\"marker\":{\"colorbar\":{\"outlinewidth\":0,\"ticks\":\"\"}}}],\"scattermapbox\":[{\"type\":\"scattermapbox\",\"marker\":{\"colorbar\":{\"outlinewidth\":0,\"ticks\":\"\"}}}],\"scatterternary\":[{\"type\":\"scatterternary\",\"marker\":{\"colorbar\":{\"outlinewidth\":0,\"ticks\":\"\"}}}],\"scattercarpet\":[{\"type\":\"scattercarpet\",\"marker\":{\"colorbar\":{\"outlinewidth\":0,\"ticks\":\"\"}}}],\"carpet\":[{\"aaxis\":{\"endlinecolor\":\"#2a3f5f\",\"gridcolor\":\"white\",\"linecolor\":\"white\",\"minorgridcolor\":\"white\",\"startlinecolor\":\"#2a3f5f\"},\"baxis\":{\"endlinecolor\":\"#2a3f5f\",\"gridcolor\":\"white\",\"linecolor\":\"white\",\"minorgridcolor\":\"white\",\"startlinecolor\":\"#2a3f5f\"},\"type\":\"carpet\"}],\"table\":[{\"cells\":{\"fill\":{\"color\":\"#EBF0F8\"},\"line\":{\"color\":\"white\"}},\"header\":{\"fill\":{\"color\":\"#C8D4E3\"},\"line\":{\"color\":\"white\"}},\"type\":\"table\"}],\"barpolar\":[{\"marker\":{\"line\":{\"color\":\"#E5ECF6\",\"width\":0.5},\"pattern\":{\"fillmode\":\"overlay\",\"size\":10,\"solidity\":0.2}},\"type\":\"barpolar\"}],\"pie\":[{\"automargin\":true,\"type\":\"pie\"}]},\"layout\":{\"autotypenumbers\":\"strict\",\"colorway\":[\"#636efa\",\"#EF553B\",\"#00cc96\",\"#ab63fa\",\"#FFA15A\",\"#19d3f3\",\"#FF6692\",\"#B6E880\",\"#FF97FF\",\"#FECB52\"],\"font\":{\"color\":\"#2a3f5f\"},\"hovermode\":\"closest\",\"hoverlabel\":{\"align\":\"left\"},\"paper_bgcolor\":\"white\",\"plot_bgcolor\":\"#E5ECF6\",\"polar\":{\"bgcolor\":\"#E5ECF6\",\"angularaxis\":{\"gridcolor\":\"white\",\"linecolor\":\"white\",\"ticks\":\"\"},\"radialaxis\":{\"gridcolor\":\"white\",\"linecolor\":\"white\",\"ticks\":\"\"}},\"ternary\":{\"bgcolor\":\"#E5ECF6\",\"aaxis\":{\"gridcolor\":\"white\",\"linecolor\":\"white\",\"ticks\":\"\"},\"baxis\":{\"gridcolor\":\"white\",\"linecolor\":\"white\",\"ticks\":\"\"},\"caxis\":{\"gridcolor\":\"white\",\"linecolor\":\"white\",\"ticks\":\"\"}},\"coloraxis\":{\"colorbar\":{\"outlinewidth\":0,\"ticks\":\"\"}},\"colorscale\":{\"sequential\":[[0.0,\"#0d0887\"],[0.1111111111111111,\"#46039f\"],[0.2222222222222222,\"#7201a8\"],[0.3333333333333333,\"#9c179e\"],[0.4444444444444444,\"#bd3786\"],[0.5555555555555556,\"#d8576b\"],[0.6666666666666666,\"#ed7953\"],[0.7777777777777778,\"#fb9f3a\"],[0.8888888888888888,\"#fdca26\"],[1.0,\"#f0f921\"]],\"sequentialminus\":[[0.0,\"#0d0887\"],[0.1111111111111111,\"#46039f\"],[0.2222222222222222,\"#7201a8\"],[0.3333333333333333,\"#9c179e\"],[0.4444444444444444,\"#bd3786\"],[0.5555555555555556,\"#d8576b\"],[0.6666666666666666,\"#ed7953\"],[0.7777777777777778,\"#fb9f3a\"],[0.8888888888888888,\"#fdca26\"],[1.0,\"#f0f921\"]],\"diverging\":[[0,\"#8e0152\"],[0.1,\"#c51b7d\"],[0.2,\"#de77ae\"],[0.3,\"#f1b6da\"],[0.4,\"#fde0ef\"],[0.5,\"#f7f7f7\"],[0.6,\"#e6f5d0\"],[0.7,\"#b8e186\"],[0.8,\"#7fbc41\"],[0.9,\"#4d9221\"],[1,\"#276419\"]]},\"xaxis\":{\"gridcolor\":\"white\",\"linecolor\":\"white\",\"ticks\":\"\",\"title\":{\"standoff\":15},\"zerolinecolor\":\"white\",\"automargin\":true,\"zerolinewidth\":2},\"yaxis\":{\"gridcolor\":\"white\",\"linecolor\":\"white\",\"ticks\":\"\",\"title\":{\"standoff\":15},\"zerolinecolor\":\"white\",\"automargin\":true,\"zerolinewidth\":2},\"scene\":{\"xaxis\":{\"backgroundcolor\":\"#E5ECF6\",\"gridcolor\":\"white\",\"linecolor\":\"white\",\"showbackground\":true,\"ticks\":\"\",\"zerolinecolor\":\"white\",\"gridwidth\":2},\"yaxis\":{\"backgroundcolor\":\"#E5ECF6\",\"gridcolor\":\"white\",\"linecolor\":\"white\",\"showbackground\":true,\"ticks\":\"\",\"zerolinecolor\":\"white\",\"gridwidth\":2},\"zaxis\":{\"backgroundcolor\":\"#E5ECF6\",\"gridcolor\":\"white\",\"linecolor\":\"white\",\"showbackground\":true,\"ticks\":\"\",\"zerolinecolor\":\"white\",\"gridwidth\":2}},\"shapedefaults\":{\"line\":{\"color\":\"#2a3f5f\"}},\"annotationdefaults\":{\"arrowcolor\":\"#2a3f5f\",\"arrowhead\":0,\"arrowwidth\":1},\"geo\":{\"bgcolor\":\"white\",\"landcolor\":\"#E5ECF6\",\"subunitcolor\":\"white\",\"showland\":true,\"showlakes\":true,\"lakecolor\":\"white\"},\"title\":{\"x\":0.05},\"mapbox\":{\"style\":\"light\"}}},\"xaxis\":{\"anchor\":\"y\",\"domain\":[0.0,1.0],\"title\":{\"text\":\"Songs\"}},\"yaxis\":{\"anchor\":\"x\",\"domain\":[0.0,1.0],\"title\":{\"text\":\"count\"}},\"legend\":{\"tracegroupgap\":0},\"title\":{\"text\":\"Songs per artist\"},\"barmode\":\"relative\"},                        {\"responsive\": true}                    ).then(function(){\n",
       "                            \n",
       "var gd = document.getElementById('7df840c1-9c12-4b4a-aa80-ead4527b3666');\n",
       "var x = new MutationObserver(function (mutations, observer) {{\n",
       "        var display = window.getComputedStyle(gd).display;\n",
       "        if (!display || display === 'none') {{\n",
       "            console.log([gd, 'removed!']);\n",
       "            Plotly.purge(gd);\n",
       "            observer.disconnect();\n",
       "        }}\n",
       "}});\n",
       "\n",
       "// Listen for the removal of the full notebook cells\n",
       "var notebookContainer = gd.closest('#notebook-container');\n",
       "if (notebookContainer) {{\n",
       "    x.observe(notebookContainer, {childList: true});\n",
       "}}\n",
       "\n",
       "// Listen for the clearing of the current output cell\n",
       "var outputEl = gd.closest('.output');\n",
       "if (outputEl) {{\n",
       "    x.observe(outputEl, {childList: true});\n",
       "}}\n",
       "\n",
       "                        })                };                            </script>        </div>\n",
       "</body>\n",
       "</html>"
      ]
     },
     "metadata": {},
     "output_type": "display_data"
    }
   ],
   "source": [
    "song_count_df = df.groupby('Artist')[['Song']].count()\n",
    "fig = px.histogram(song_count_df, x='Song', title='Songs per artist', labels={'Song': 'Songs'})\n",
    "fig.show()"
   ]
  },
  {
   "cell_type": "code",
   "execution_count": null,
   "metadata": {
    "colab": {
     "base_uri": "https://localhost:8080/",
     "height": 542
    },
    "id": "N8YAT_jBxrLk",
    "outputId": "32046b0f-82cf-4017-fc3a-73ae8295ee71"
   },
   "outputs": [
    {
     "data": {
      "text/html": [
       "<html>\n",
       "<head><meta charset=\"utf-8\" /></head>\n",
       "<body>\n",
       "    <div>            <script src=\"https://cdnjs.cloudflare.com/ajax/libs/mathjax/2.7.5/MathJax.js?config=TeX-AMS-MML_SVG\"></script><script type=\"text/javascript\">if (window.MathJax && window.MathJax.Hub && window.MathJax.Hub.Config) {window.MathJax.Hub.Config({SVG: {font: \"STIX-Web\"}});}</script>                <script type=\"text/javascript\">window.PlotlyConfig = {MathJaxConfig: 'local'};</script>\n",
       "        <script src=\"https://cdn.plot.ly/plotly-2.18.2.min.js\"></script>                <div id=\"db9f809f-a3f6-440a-aec6-3e1fde9ab076\" class=\"plotly-graph-div\" style=\"height:525px; width:100%;\"></div>            <script type=\"text/javascript\">                                    window.PLOTLYENV=window.PLOTLYENV || {};                                    if (document.getElementById(\"db9f809f-a3f6-440a-aec6-3e1fde9ab076\")) {                    Plotly.newPlot(                        \"db9f809f-a3f6-440a-aec6-3e1fde9ab076\",                        [{\"alignmentgroup\":\"True\",\"bingroup\":\"x\",\"hovertemplate\":\"n_stems_en=%{x}<br>count=%{y}<extra></extra>\",\"legendgroup\":\"\",\"marker\":{\"color\":\"#636efa\",\"pattern\":{\"shape\":\"\"}},\"name\":\"\",\"offsetgroup\":\"\",\"orientation\":\"v\",\"showlegend\":false,\"x\":[263,191,152,134,149,75,113,233,96,247,83,119,195,216,111,100,120,214,235,199,202,146,259,295,143,191,168,373,442,253,183,239,126,249,42,131,217,125,172,96,212,204,236,193,154,187,137,314,335,123,264,167,213,162,340,245,151,152,102,166,247,136,274,313,182,181,219,237,65,117,111,167,181,127,217,205,166,161,227,93,163,160,205,183,117,167,224,221,345,197,229,114,121,290,136,108,328,257,155,243,163,150,183,201,115,173,176,281,214,126,110,233,179,332,222,289,286,105,183,83,109,35,26,25,48,41,38,115,69,203,110,159,172,165,173,179,76,149,147,91,130,170,49,196,113,117,120,122,138,73,96,156,83,82,134,85,60,125,85,261,122,103,62,80,70,74,74,68,73,74,154,99,70,102,102,107,79,160,101,70,35,85,46,79,95,93,73,172,158,76,76,61,71,89,59,91,56,75,94,79,130,63,128,110,77,88,59,94,173,611,452,524,468,341,701,614,572,586,361,485,272,379,343,279,230,229,129,155,172,181,214,138,103,118,132,177,246,329,132,15,194,185,152,217,185,207,241,181,135,227,113,166,109,137,104,167,159,181,216,148,214,174,114,190,323,201,90,250,107,287,66,169,134,122,170,147,319,250,228,356,306,353,313,214,338,223,257,337,41,193,96,334,182,280,95,251,266,109,246,241,145,149,95,180,62,145,185,140,90,11,193,266,99,240,68,107,230,192,232,143,175,193,123,143,30,358,220,334,172,152,287,342,307,195,360,262,229,124,177,163,130,185,319,224,177,402,124,196,267,144,167,211,158,236,325,128,135,236,151,224,137,229,224,168,118,122,202,120,162,284,133,109,127,176,133,93,243,64,196,53,163,76,107,104,185,159,153,173,162,195,112,75,114,269,59,247,209,112,128,104,160,163,11,94,99,96,160,116,127,172,131,161,130,98,79,128,92,153,163,116,138,162,111,110,144,234,209,171,161,182,121,259,99,128,216,169,159,91,186,206,194,132,314,110,134,167,160,86,168,139,328,127,222,161,317,289,212,142,290,223,206,271,146,140,111,240,212,138,286,372,160,8,114,136,157,176,168,280,169,263,229,220,228,205,207,139,378,191,241,350,181,101,222,168,257,197,212,230,130,243,182,205,199,185,63,161],\"xaxis\":\"x\",\"yaxis\":\"y\",\"type\":\"histogram\"}],                        {\"template\":{\"data\":{\"histogram2dcontour\":[{\"type\":\"histogram2dcontour\",\"colorbar\":{\"outlinewidth\":0,\"ticks\":\"\"},\"colorscale\":[[0.0,\"#0d0887\"],[0.1111111111111111,\"#46039f\"],[0.2222222222222222,\"#7201a8\"],[0.3333333333333333,\"#9c179e\"],[0.4444444444444444,\"#bd3786\"],[0.5555555555555556,\"#d8576b\"],[0.6666666666666666,\"#ed7953\"],[0.7777777777777778,\"#fb9f3a\"],[0.8888888888888888,\"#fdca26\"],[1.0,\"#f0f921\"]]}],\"choropleth\":[{\"type\":\"choropleth\",\"colorbar\":{\"outlinewidth\":0,\"ticks\":\"\"}}],\"histogram2d\":[{\"type\":\"histogram2d\",\"colorbar\":{\"outlinewidth\":0,\"ticks\":\"\"},\"colorscale\":[[0.0,\"#0d0887\"],[0.1111111111111111,\"#46039f\"],[0.2222222222222222,\"#7201a8\"],[0.3333333333333333,\"#9c179e\"],[0.4444444444444444,\"#bd3786\"],[0.5555555555555556,\"#d8576b\"],[0.6666666666666666,\"#ed7953\"],[0.7777777777777778,\"#fb9f3a\"],[0.8888888888888888,\"#fdca26\"],[1.0,\"#f0f921\"]]}],\"heatmap\":[{\"type\":\"heatmap\",\"colorbar\":{\"outlinewidth\":0,\"ticks\":\"\"},\"colorscale\":[[0.0,\"#0d0887\"],[0.1111111111111111,\"#46039f\"],[0.2222222222222222,\"#7201a8\"],[0.3333333333333333,\"#9c179e\"],[0.4444444444444444,\"#bd3786\"],[0.5555555555555556,\"#d8576b\"],[0.6666666666666666,\"#ed7953\"],[0.7777777777777778,\"#fb9f3a\"],[0.8888888888888888,\"#fdca26\"],[1.0,\"#f0f921\"]]}],\"heatmapgl\":[{\"type\":\"heatmapgl\",\"colorbar\":{\"outlinewidth\":0,\"ticks\":\"\"},\"colorscale\":[[0.0,\"#0d0887\"],[0.1111111111111111,\"#46039f\"],[0.2222222222222222,\"#7201a8\"],[0.3333333333333333,\"#9c179e\"],[0.4444444444444444,\"#bd3786\"],[0.5555555555555556,\"#d8576b\"],[0.6666666666666666,\"#ed7953\"],[0.7777777777777778,\"#fb9f3a\"],[0.8888888888888888,\"#fdca26\"],[1.0,\"#f0f921\"]]}],\"contourcarpet\":[{\"type\":\"contourcarpet\",\"colorbar\":{\"outlinewidth\":0,\"ticks\":\"\"}}],\"contour\":[{\"type\":\"contour\",\"colorbar\":{\"outlinewidth\":0,\"ticks\":\"\"},\"colorscale\":[[0.0,\"#0d0887\"],[0.1111111111111111,\"#46039f\"],[0.2222222222222222,\"#7201a8\"],[0.3333333333333333,\"#9c179e\"],[0.4444444444444444,\"#bd3786\"],[0.5555555555555556,\"#d8576b\"],[0.6666666666666666,\"#ed7953\"],[0.7777777777777778,\"#fb9f3a\"],[0.8888888888888888,\"#fdca26\"],[1.0,\"#f0f921\"]]}],\"surface\":[{\"type\":\"surface\",\"colorbar\":{\"outlinewidth\":0,\"ticks\":\"\"},\"colorscale\":[[0.0,\"#0d0887\"],[0.1111111111111111,\"#46039f\"],[0.2222222222222222,\"#7201a8\"],[0.3333333333333333,\"#9c179e\"],[0.4444444444444444,\"#bd3786\"],[0.5555555555555556,\"#d8576b\"],[0.6666666666666666,\"#ed7953\"],[0.7777777777777778,\"#fb9f3a\"],[0.8888888888888888,\"#fdca26\"],[1.0,\"#f0f921\"]]}],\"mesh3d\":[{\"type\":\"mesh3d\",\"colorbar\":{\"outlinewidth\":0,\"ticks\":\"\"}}],\"scatter\":[{\"fillpattern\":{\"fillmode\":\"overlay\",\"size\":10,\"solidity\":0.2},\"type\":\"scatter\"}],\"parcoords\":[{\"type\":\"parcoords\",\"line\":{\"colorbar\":{\"outlinewidth\":0,\"ticks\":\"\"}}}],\"scatterpolargl\":[{\"type\":\"scatterpolargl\",\"marker\":{\"colorbar\":{\"outlinewidth\":0,\"ticks\":\"\"}}}],\"bar\":[{\"error_x\":{\"color\":\"#2a3f5f\"},\"error_y\":{\"color\":\"#2a3f5f\"},\"marker\":{\"line\":{\"color\":\"#E5ECF6\",\"width\":0.5},\"pattern\":{\"fillmode\":\"overlay\",\"size\":10,\"solidity\":0.2}},\"type\":\"bar\"}],\"scattergeo\":[{\"type\":\"scattergeo\",\"marker\":{\"colorbar\":{\"outlinewidth\":0,\"ticks\":\"\"}}}],\"scatterpolar\":[{\"type\":\"scatterpolar\",\"marker\":{\"colorbar\":{\"outlinewidth\":0,\"ticks\":\"\"}}}],\"histogram\":[{\"marker\":{\"pattern\":{\"fillmode\":\"overlay\",\"size\":10,\"solidity\":0.2}},\"type\":\"histogram\"}],\"scattergl\":[{\"type\":\"scattergl\",\"marker\":{\"colorbar\":{\"outlinewidth\":0,\"ticks\":\"\"}}}],\"scatter3d\":[{\"type\":\"scatter3d\",\"line\":{\"colorbar\":{\"outlinewidth\":0,\"ticks\":\"\"}},\"marker\":{\"colorbar\":{\"outlinewidth\":0,\"ticks\":\"\"}}}],\"scattermapbox\":[{\"type\":\"scattermapbox\",\"marker\":{\"colorbar\":{\"outlinewidth\":0,\"ticks\":\"\"}}}],\"scatterternary\":[{\"type\":\"scatterternary\",\"marker\":{\"colorbar\":{\"outlinewidth\":0,\"ticks\":\"\"}}}],\"scattercarpet\":[{\"type\":\"scattercarpet\",\"marker\":{\"colorbar\":{\"outlinewidth\":0,\"ticks\":\"\"}}}],\"carpet\":[{\"aaxis\":{\"endlinecolor\":\"#2a3f5f\",\"gridcolor\":\"white\",\"linecolor\":\"white\",\"minorgridcolor\":\"white\",\"startlinecolor\":\"#2a3f5f\"},\"baxis\":{\"endlinecolor\":\"#2a3f5f\",\"gridcolor\":\"white\",\"linecolor\":\"white\",\"minorgridcolor\":\"white\",\"startlinecolor\":\"#2a3f5f\"},\"type\":\"carpet\"}],\"table\":[{\"cells\":{\"fill\":{\"color\":\"#EBF0F8\"},\"line\":{\"color\":\"white\"}},\"header\":{\"fill\":{\"color\":\"#C8D4E3\"},\"line\":{\"color\":\"white\"}},\"type\":\"table\"}],\"barpolar\":[{\"marker\":{\"line\":{\"color\":\"#E5ECF6\",\"width\":0.5},\"pattern\":{\"fillmode\":\"overlay\",\"size\":10,\"solidity\":0.2}},\"type\":\"barpolar\"}],\"pie\":[{\"automargin\":true,\"type\":\"pie\"}]},\"layout\":{\"autotypenumbers\":\"strict\",\"colorway\":[\"#636efa\",\"#EF553B\",\"#00cc96\",\"#ab63fa\",\"#FFA15A\",\"#19d3f3\",\"#FF6692\",\"#B6E880\",\"#FF97FF\",\"#FECB52\"],\"font\":{\"color\":\"#2a3f5f\"},\"hovermode\":\"closest\",\"hoverlabel\":{\"align\":\"left\"},\"paper_bgcolor\":\"white\",\"plot_bgcolor\":\"#E5ECF6\",\"polar\":{\"bgcolor\":\"#E5ECF6\",\"angularaxis\":{\"gridcolor\":\"white\",\"linecolor\":\"white\",\"ticks\":\"\"},\"radialaxis\":{\"gridcolor\":\"white\",\"linecolor\":\"white\",\"ticks\":\"\"}},\"ternary\":{\"bgcolor\":\"#E5ECF6\",\"aaxis\":{\"gridcolor\":\"white\",\"linecolor\":\"white\",\"ticks\":\"\"},\"baxis\":{\"gridcolor\":\"white\",\"linecolor\":\"white\",\"ticks\":\"\"},\"caxis\":{\"gridcolor\":\"white\",\"linecolor\":\"white\",\"ticks\":\"\"}},\"coloraxis\":{\"colorbar\":{\"outlinewidth\":0,\"ticks\":\"\"}},\"colorscale\":{\"sequential\":[[0.0,\"#0d0887\"],[0.1111111111111111,\"#46039f\"],[0.2222222222222222,\"#7201a8\"],[0.3333333333333333,\"#9c179e\"],[0.4444444444444444,\"#bd3786\"],[0.5555555555555556,\"#d8576b\"],[0.6666666666666666,\"#ed7953\"],[0.7777777777777778,\"#fb9f3a\"],[0.8888888888888888,\"#fdca26\"],[1.0,\"#f0f921\"]],\"sequentialminus\":[[0.0,\"#0d0887\"],[0.1111111111111111,\"#46039f\"],[0.2222222222222222,\"#7201a8\"],[0.3333333333333333,\"#9c179e\"],[0.4444444444444444,\"#bd3786\"],[0.5555555555555556,\"#d8576b\"],[0.6666666666666666,\"#ed7953\"],[0.7777777777777778,\"#fb9f3a\"],[0.8888888888888888,\"#fdca26\"],[1.0,\"#f0f921\"]],\"diverging\":[[0,\"#8e0152\"],[0.1,\"#c51b7d\"],[0.2,\"#de77ae\"],[0.3,\"#f1b6da\"],[0.4,\"#fde0ef\"],[0.5,\"#f7f7f7\"],[0.6,\"#e6f5d0\"],[0.7,\"#b8e186\"],[0.8,\"#7fbc41\"],[0.9,\"#4d9221\"],[1,\"#276419\"]]},\"xaxis\":{\"gridcolor\":\"white\",\"linecolor\":\"white\",\"ticks\":\"\",\"title\":{\"standoff\":15},\"zerolinecolor\":\"white\",\"automargin\":true,\"zerolinewidth\":2},\"yaxis\":{\"gridcolor\":\"white\",\"linecolor\":\"white\",\"ticks\":\"\",\"title\":{\"standoff\":15},\"zerolinecolor\":\"white\",\"automargin\":true,\"zerolinewidth\":2},\"scene\":{\"xaxis\":{\"backgroundcolor\":\"#E5ECF6\",\"gridcolor\":\"white\",\"linecolor\":\"white\",\"showbackground\":true,\"ticks\":\"\",\"zerolinecolor\":\"white\",\"gridwidth\":2},\"yaxis\":{\"backgroundcolor\":\"#E5ECF6\",\"gridcolor\":\"white\",\"linecolor\":\"white\",\"showbackground\":true,\"ticks\":\"\",\"zerolinecolor\":\"white\",\"gridwidth\":2},\"zaxis\":{\"backgroundcolor\":\"#E5ECF6\",\"gridcolor\":\"white\",\"linecolor\":\"white\",\"showbackground\":true,\"ticks\":\"\",\"zerolinecolor\":\"white\",\"gridwidth\":2}},\"shapedefaults\":{\"line\":{\"color\":\"#2a3f5f\"}},\"annotationdefaults\":{\"arrowcolor\":\"#2a3f5f\",\"arrowhead\":0,\"arrowwidth\":1},\"geo\":{\"bgcolor\":\"white\",\"landcolor\":\"#E5ECF6\",\"subunitcolor\":\"white\",\"showland\":true,\"showlakes\":true,\"lakecolor\":\"white\"},\"title\":{\"x\":0.05},\"mapbox\":{\"style\":\"light\"}}},\"xaxis\":{\"anchor\":\"y\",\"domain\":[0.0,1.0],\"title\":{\"text\":\"n_stems_en\"}},\"yaxis\":{\"anchor\":\"x\",\"domain\":[0.0,1.0],\"title\":{\"text\":\"count\"}},\"legend\":{\"tracegroupgap\":0},\"title\":{\"text\":\"Words per song\"},\"barmode\":\"relative\"},                        {\"responsive\": true}                    ).then(function(){\n",
       "                            \n",
       "var gd = document.getElementById('db9f809f-a3f6-440a-aec6-3e1fde9ab076');\n",
       "var x = new MutationObserver(function (mutations, observer) {{\n",
       "        var display = window.getComputedStyle(gd).display;\n",
       "        if (!display || display === 'none') {{\n",
       "            console.log([gd, 'removed!']);\n",
       "            Plotly.purge(gd);\n",
       "            observer.disconnect();\n",
       "        }}\n",
       "}});\n",
       "\n",
       "// Listen for the removal of the full notebook cells\n",
       "var notebookContainer = gd.closest('#notebook-container');\n",
       "if (notebookContainer) {{\n",
       "    x.observe(notebookContainer, {childList: true});\n",
       "}}\n",
       "\n",
       "// Listen for the clearing of the current output cell\n",
       "var outputEl = gd.closest('.output');\n",
       "if (outputEl) {{\n",
       "    x.observe(outputEl, {childList: true});\n",
       "}}\n",
       "\n",
       "                        })                };                            </script>        </div>\n",
       "</body>\n",
       "</html>"
      ]
     },
     "metadata": {},
     "output_type": "display_data"
    }
   ],
   "source": [
    "# words per song\n",
    "fig = px.histogram(df, x='n_stems_en', title='Words per song')\n",
    "fig.show()"
   ]
  },
  {
   "cell_type": "code",
   "execution_count": null,
   "metadata": {
    "colab": {
     "base_uri": "https://localhost:8080/",
     "height": 542
    },
    "id": "wWHivYRwyJ30",
    "outputId": "5224fc3a-9bd8-4981-ba0f-d81fa8169cae"
   },
   "outputs": [
    {
     "data": {
      "text/html": [
       "<html>\n",
       "<head><meta charset=\"utf-8\" /></head>\n",
       "<body>\n",
       "    <div>            <script src=\"https://cdnjs.cloudflare.com/ajax/libs/mathjax/2.7.5/MathJax.js?config=TeX-AMS-MML_SVG\"></script><script type=\"text/javascript\">if (window.MathJax && window.MathJax.Hub && window.MathJax.Hub.Config) {window.MathJax.Hub.Config({SVG: {font: \"STIX-Web\"}});}</script>                <script type=\"text/javascript\">window.PlotlyConfig = {MathJaxConfig: 'local'};</script>\n",
       "        <script src=\"https://cdn.plot.ly/plotly-2.18.2.min.js\"></script>                <div id=\"6b1f002d-0b18-4b50-8618-97f4ea1cc115\" class=\"plotly-graph-div\" style=\"height:525px; width:100%;\"></div>            <script type=\"text/javascript\">                                    window.PLOTLYENV=window.PLOTLYENV || {};                                    if (document.getElementById(\"6b1f002d-0b18-4b50-8618-97f4ea1cc115\")) {                    Plotly.newPlot(                        \"6b1f002d-0b18-4b50-8618-97f4ea1cc115\",                        [{\"alignmentgroup\":\"True\",\"hovertemplate\":\"Artist=%{x}<br>n_stems_en=%{y}<extra></extra>\",\"legendgroup\":\"\",\"marker\":{\"color\":\"#636efa\"},\"name\":\"\",\"notched\":false,\"offsetgroup\":\"\",\"orientation\":\"v\",\"showlegend\":false,\"x\":[\"\\u0531\\u0550\\u0539\\u0548\\u0552\\u0550 \\u0544\\u0535\\u054d\\u0549\\u0545\\u0531\\u0546\",\"\\u0531\\u0550\\u0539\\u0548\\u0552\\u0550 \\u0544\\u0535\\u054d\\u0549\\u0545\\u0531\\u0546\",\"\\u0531\\u0550\\u0539\\u0548\\u0552\\u0550 \\u0544\\u0535\\u054d\\u0549\\u0545\\u0531\\u0546\",\"\\u0531\\u0550\\u0539\\u0548\\u0552\\u0550 \\u0544\\u0535\\u054d\\u0549\\u0545\\u0531\\u0546\",\"\\u0531\\u0550\\u0539\\u0548\\u0552\\u0550 \\u0544\\u0535\\u054d\\u0549\\u0545\\u0531\\u0546\",\"\\u0531\\u0550\\u0539\\u0548\\u0552\\u0550 \\u0544\\u0535\\u054d\\u0549\\u0545\\u0531\\u0546\",\"\\u0531\\u0550\\u0539\\u0548\\u0552\\u0550 \\u0544\\u0535\\u054d\\u0549\\u0545\\u0531\\u0546\",\"\\u0531\\u0550\\u0539\\u0548\\u0552\\u0550 \\u0544\\u0535\\u054d\\u0549\\u0545\\u0531\\u0546\",\"\\u0531\\u0550\\u0539\\u0548\\u0552\\u0550 \\u0544\\u0535\\u054d\\u0549\\u0545\\u0531\\u0546\",\"\\u0531\\u0550\\u0539\\u0548\\u0552\\u0550 \\u0544\\u0535\\u054d\\u0549\\u0545\\u0531\\u0546\",\"\\u0531\\u0550\\u0539\\u0548\\u0552\\u0550 \\u0544\\u0535\\u054d\\u0549\\u0545\\u0531\\u0546\",\"\\u0531\\u0550\\u0539\\u0548\\u0552\\u0550 \\u0544\\u0535\\u054d\\u0549\\u0545\\u0531\\u0546\",\"\\u0531\\u0550\\u0539\\u0548\\u0552\\u0550 \\u0544\\u0535\\u054d\\u0549\\u0545\\u0531\\u0546\",\"\\u0531\\u0550\\u0539\\u0548\\u0552\\u0550 \\u0544\\u0535\\u054d\\u0549\\u0545\\u0531\\u0546\",\"\\u0531\\u0550\\u0539\\u0548\\u0552\\u0550 \\u0544\\u0535\\u054d\\u0549\\u0545\\u0531\\u0546\",\"\\u0531\\u0550\\u0539\\u0548\\u0552\\u0550 \\u0544\\u0535\\u054d\\u0549\\u0545\\u0531\\u0546\",\"\\u0531\\u0550\\u0539\\u0548\\u0552\\u0550 \\u0544\\u0535\\u054d\\u0549\\u0545\\u0531\\u0546\",\"\\u0531\\u0550\\u0539\\u0548\\u0552\\u0550 \\u0544\\u0535\\u054d\\u0549\\u0545\\u0531\\u0546\",\"\\u0531\\u0550\\u0539\\u0548\\u0552\\u0550 \\u0544\\u0535\\u054d\\u0549\\u0545\\u0531\\u0546\",\"\\u0531\\u0550\\u0539\\u0548\\u0552\\u0550 \\u0544\\u0535\\u054d\\u0549\\u0545\\u0531\\u0546\",\"\\u0531\\u0550\\u0539\\u0548\\u0552\\u0550 \\u0544\\u0535\\u054d\\u0549\\u0545\\u0531\\u0546\",\"\\u0531\\u0550\\u0539\\u0548\\u0552\\u0550 \\u0544\\u0535\\u054d\\u0549\\u0545\\u0531\\u0546\",\"\\u0531\\u0550\\u0539\\u0548\\u0552\\u0550 \\u0544\\u0535\\u054d\\u0549\\u0545\\u0531\\u0546\",\"\\u0531\\u0550\\u0539\\u0548\\u0552\\u0550 \\u0544\\u0535\\u054d\\u0549\\u0545\\u0531\\u0546\",\"\\u0531\\u0550\\u0539\\u0548\\u0552\\u0550 \\u0544\\u0535\\u054d\\u0549\\u0545\\u0531\\u0546\",\"\\u0531\\u0550\\u0539\\u0548\\u0552\\u0550 \\u0544\\u0535\\u054d\\u0549\\u0545\\u0531\\u0546\",\"\\u0531\\u0550\\u0539\\u0548\\u0552\\u0550 \\u0544\\u0535\\u054d\\u0549\\u0545\\u0531\\u0546\",\"\\u0531\\u0550\\u0539\\u0548\\u0552\\u0550 \\u0544\\u0535\\u054d\\u0549\\u0545\\u0531\\u0546\",\"\\u0531\\u0550\\u0539\\u0548\\u0552\\u0550 \\u0544\\u0535\\u054d\\u0549\\u0545\\u0531\\u0546\",\"\\u0531\\u0550\\u0539\\u0548\\u0552\\u0550 \\u0544\\u0535\\u054d\\u0549\\u0545\\u0531\\u0546\",\"\\u0531\\u0550\\u0539\\u0548\\u0552\\u0550 \\u0544\\u0535\\u054d\\u0549\\u0545\\u0531\\u0546\",\"\\u0531\\u0550\\u0539\\u0548\\u0552\\u0550 \\u0544\\u0535\\u054d\\u0549\\u0545\\u0531\\u0546\",\"\\u0531\\u0550\\u0539\\u0548\\u0552\\u0550 \\u0544\\u0535\\u054d\\u0549\\u0545\\u0531\\u0546\",\"\\u0531\\u0550\\u0539\\u0548\\u0552\\u0550 \\u0544\\u0535\\u054d\\u0549\\u0545\\u0531\\u0546\",\"\\u0531\\u0550\\u0539\\u0548\\u0552\\u0550 \\u0544\\u0535\\u054d\\u0549\\u0545\\u0531\\u0546\",\"\\u0531\\u0550\\u0539\\u0548\\u0552\\u0550 \\u0544\\u0535\\u054d\\u0549\\u0545\\u0531\\u0546\",\"\\u0531\\u0550\\u0539\\u0548\\u0552\\u0550 \\u0544\\u0535\\u054d\\u0549\\u0545\\u0531\\u0546\",\"\\u0531\\u0550\\u0539\\u0548\\u0552\\u0550 \\u0544\\u0535\\u054d\\u0549\\u0545\\u0531\\u0546\",\"\\u0531\\u0550\\u0539\\u0548\\u0552\\u0550 \\u0544\\u0535\\u054d\\u0549\\u0545\\u0531\\u0546\",\"\\u0531\\u0550\\u0539\\u0548\\u0552\\u0550 \\u0544\\u0535\\u054d\\u0549\\u0545\\u0531\\u0546\",\"\\u0531\\u0550\\u0539\\u0548\\u0552\\u0550 \\u0544\\u0535\\u054d\\u0549\\u0545\\u0531\\u0546\",\"\\u0531\\u0550\\u0539\\u0548\\u0552\\u0550 \\u0544\\u0535\\u054d\\u0549\\u0545\\u0531\\u0546\",\"\\u0531\\u0550\\u0539\\u0548\\u0552\\u0550 \\u0544\\u0535\\u054d\\u0549\\u0545\\u0531\\u0546\",\"\\u0531\\u0550\\u0539\\u0548\\u0552\\u0550 \\u0544\\u0535\\u054d\\u0549\\u0545\\u0531\\u0546\",\"\\u0531\\u0550\\u0539\\u0548\\u0552\\u0550 \\u0544\\u0535\\u054d\\u0549\\u0545\\u0531\\u0546\",\"\\u0531\\u0550\\u0539\\u0548\\u0552\\u0550 \\u0544\\u0535\\u054d\\u0549\\u0545\\u0531\\u0546\",\"\\u0531\\u0550\\u0539\\u0548\\u0552\\u0550 \\u0544\\u0535\\u054d\\u0549\\u0545\\u0531\\u0546\",\"\\u0531\\u0550\\u0539\\u0548\\u0552\\u0550 \\u0544\\u0535\\u054d\\u0549\\u0545\\u0531\\u0546\",\"\\u0531\\u0550\\u0539\\u0548\\u0552\\u0550 \\u0544\\u0535\\u054d\\u0549\\u0545\\u0531\\u0546\",\"\\u0531\\u0550\\u0539\\u0548\\u0552\\u0550 \\u0544\\u0535\\u054d\\u0549\\u0545\\u0531\\u0546\",\"\\u054c\\u0548\\u0552\\u0532\\u0535\\u0546 \\u0540\\u0531\\u053d\\u054e\\u0535\\u0550\\u0534\\u0545\\u0531\\u0546\",\"\\u054c\\u0548\\u0552\\u0532\\u0535\\u0546 \\u0540\\u0531\\u053d\\u054e\\u0535\\u0550\\u0534\\u0545\\u0531\\u0546\",\"\\u054c\\u0548\\u0552\\u0532\\u0535\\u0546 \\u0540\\u0531\\u053d\\u054e\\u0535\\u0550\\u0534\\u0545\\u0531\\u0546\",\"\\u054c\\u0548\\u0552\\u0532\\u0535\\u0546 \\u0540\\u0531\\u053d\\u054e\\u0535\\u0550\\u0534\\u0545\\u0531\\u0546\",\"\\u054c\\u0548\\u0552\\u0532\\u0535\\u0546 \\u0540\\u0531\\u053d\\u054e\\u0535\\u0550\\u0534\\u0545\\u0531\\u0546\",\"\\u054c\\u0548\\u0552\\u0532\\u0535\\u0546 \\u0540\\u0531\\u053d\\u054e\\u0535\\u0550\\u0534\\u0545\\u0531\\u0546\",\"\\u054c\\u0548\\u0552\\u0532\\u0535\\u0546 \\u0540\\u0531\\u053d\\u054e\\u0535\\u0550\\u0534\\u0545\\u0531\\u0546\",\"\\u054c\\u0548\\u0552\\u0532\\u0535\\u0546 \\u0540\\u0531\\u053d\\u054e\\u0535\\u0550\\u0534\\u0545\\u0531\\u0546\",\"\\u054c\\u0548\\u0552\\u0532\\u0535\\u0546 \\u0540\\u0531\\u053d\\u054e\\u0535\\u0550\\u0534\\u0545\\u0531\\u0546\",\"\\u054c\\u0548\\u0552\\u0532\\u0535\\u0546 \\u0540\\u0531\\u053d\\u054e\\u0535\\u0550\\u0534\\u0545\\u0531\\u0546\",\"\\u054c\\u0548\\u0552\\u0532\\u0535\\u0546 \\u0540\\u0531\\u053d\\u054e\\u0535\\u0550\\u0534\\u0545\\u0531\\u0546\",\"\\u054c\\u0548\\u0552\\u0532\\u0535\\u0546 \\u0540\\u0531\\u053d\\u054e\\u0535\\u0550\\u0534\\u0545\\u0531\\u0546\",\"\\u054c\\u0548\\u0552\\u0532\\u0535\\u0546 \\u0540\\u0531\\u053d\\u054e\\u0535\\u0550\\u0534\\u0545\\u0531\\u0546\",\"\\u054c\\u0548\\u0552\\u0532\\u0535\\u0546 \\u0540\\u0531\\u053d\\u054e\\u0535\\u0550\\u0534\\u0545\\u0531\\u0546\",\"\\u054c\\u0548\\u0552\\u0532\\u0535\\u0546 \\u0540\\u0531\\u053d\\u054e\\u0535\\u0550\\u0534\\u0545\\u0531\\u0546\",\"\\u054c\\u0548\\u0552\\u0532\\u0535\\u0546 \\u0540\\u0531\\u053d\\u054e\\u0535\\u0550\\u0534\\u0545\\u0531\\u0546\",\"\\u054c\\u0548\\u0552\\u0532\\u0535\\u0546 \\u0540\\u0531\\u053d\\u054e\\u0535\\u0550\\u0534\\u0545\\u0531\\u0546\",\"\\u054c\\u0548\\u0552\\u0532\\u0535\\u0546 \\u0540\\u0531\\u053d\\u054e\\u0535\\u0550\\u0534\\u0545\\u0531\\u0546\",\"\\u054c\\u0548\\u0552\\u0532\\u0535\\u0546 \\u0540\\u0531\\u053d\\u054e\\u0535\\u0550\\u0534\\u0545\\u0531\\u0546\",\"\\u054c\\u0548\\u0552\\u0532\\u0535\\u0546 \\u0540\\u0531\\u053d\\u054e\\u0535\\u0550\\u0534\\u0545\\u0531\\u0546\",\"\\u054c\\u0548\\u0552\\u0532\\u0535\\u0546 \\u0540\\u0531\\u053d\\u054e\\u0535\\u0550\\u0534\\u0545\\u0531\\u0546\",\"\\u054c\\u0548\\u0552\\u0532\\u0535\\u0546 \\u0540\\u0531\\u053d\\u054e\\u0535\\u0550\\u0534\\u0545\\u0531\\u0546\",\"\\u054c\\u0548\\u0552\\u0532\\u0535\\u0546 \\u0540\\u0531\\u053d\\u054e\\u0535\\u0550\\u0534\\u0545\\u0531\\u0546\",\"\\u054c\\u0548\\u0552\\u0532\\u0535\\u0546 \\u0540\\u0531\\u053d\\u054e\\u0535\\u0550\\u0534\\u0545\\u0531\\u0546\",\"\\u054c\\u0548\\u0552\\u0532\\u0535\\u0546 \\u0540\\u0531\\u053d\\u054e\\u0535\\u0550\\u0534\\u0545\\u0531\\u0546\",\"\\u054c\\u0548\\u0552\\u0532\\u0535\\u0546 \\u0540\\u0531\\u053d\\u054e\\u0535\\u0550\\u0534\\u0545\\u0531\\u0546\",\"\\u054c\\u0548\\u0552\\u0532\\u0535\\u0546 \\u0540\\u0531\\u053d\\u054e\\u0535\\u0550\\u0534\\u0545\\u0531\\u0546\",\"\\u054c\\u0548\\u0552\\u0532\\u0535\\u0546 \\u0540\\u0531\\u053d\\u054e\\u0535\\u0550\\u0534\\u0545\\u0531\\u0546\",\"\\u054c\\u0548\\u0552\\u0532\\u0535\\u0546 \\u0540\\u0531\\u053d\\u054e\\u0535\\u0550\\u0534\\u0545\\u0531\\u0546\",\"\\u054c\\u0548\\u0552\\u0532\\u0535\\u0546 \\u0540\\u0531\\u053d\\u054e\\u0535\\u0550\\u0534\\u0545\\u0531\\u0546\",\"\\u054c\\u0548\\u0552\\u0532\\u0535\\u0546 \\u0540\\u0531\\u053d\\u054e\\u0535\\u0550\\u0534\\u0545\\u0531\\u0546\",\"\\u054c\\u0548\\u0552\\u0532\\u0535\\u0546 \\u0540\\u0531\\u053d\\u054e\\u0535\\u0550\\u0534\\u0545\\u0531\\u0546\",\"\\u054c\\u0548\\u0552\\u0532\\u0535\\u0546 \\u0540\\u0531\\u053d\\u054e\\u0535\\u0550\\u0534\\u0545\\u0531\\u0546\",\"\\u054c\\u0548\\u0552\\u0532\\u0535\\u0546 \\u0540\\u0531\\u053d\\u054e\\u0535\\u0550\\u0534\\u0545\\u0531\\u0546\",\"\\u054c\\u0548\\u0552\\u0532\\u0535\\u0546 \\u0540\\u0531\\u053d\\u054e\\u0535\\u0550\\u0534\\u0545\\u0531\\u0546\",\"\\u054c\\u0548\\u0552\\u0532\\u0535\\u0546 \\u0540\\u0531\\u053d\\u054e\\u0535\\u0550\\u0534\\u0545\\u0531\\u0546\",\"\\u054c\\u0548\\u0552\\u0532\\u0535\\u0546 \\u0540\\u0531\\u053d\\u054e\\u0535\\u0550\\u0534\\u0545\\u0531\\u0546\",\"\\u054c\\u0548\\u0552\\u0532\\u0535\\u0546 \\u0540\\u0531\\u053d\\u054e\\u0535\\u0550\\u0534\\u0545\\u0531\\u0546\",\"\\u054c\\u0548\\u0552\\u0532\\u0535\\u0546 \\u0540\\u0531\\u053d\\u054e\\u0535\\u0550\\u0534\\u0545\\u0531\\u0546\",\"\\u054c\\u0548\\u0552\\u0532\\u0535\\u0546 \\u0540\\u0531\\u053d\\u054e\\u0535\\u0550\\u0534\\u0545\\u0531\\u0546\",\"\\u054c\\u0548\\u0552\\u0532\\u0535\\u0546 \\u0540\\u0531\\u053d\\u054e\\u0535\\u0550\\u0534\\u0545\\u0531\\u0546\",\"\\u054c\\u0548\\u0552\\u0532\\u0535\\u0546 \\u0540\\u0531\\u053d\\u054e\\u0535\\u0550\\u0534\\u0545\\u0531\\u0546\",\"\\u054c\\u0548\\u0552\\u0532\\u0535\\u0546 \\u0540\\u0531\\u053d\\u054e\\u0535\\u0550\\u0534\\u0545\\u0531\\u0546\",\"\\u054c\\u0548\\u0552\\u0532\\u0535\\u0546 \\u0540\\u0531\\u053d\\u054e\\u0535\\u0550\\u0534\\u0545\\u0531\\u0546\",\"\\u054c\\u0548\\u0552\\u0532\\u0535\\u0546 \\u0540\\u0531\\u053d\\u054e\\u0535\\u0550\\u0534\\u0545\\u0531\\u0546\",\"\\u054c\\u0548\\u0552\\u0532\\u0535\\u0546 \\u0540\\u0531\\u053d\\u054e\\u0535\\u0550\\u0534\\u0545\\u0531\\u0546\",\"\\u054c\\u0548\\u0552\\u0532\\u0535\\u0546 \\u0540\\u0531\\u053d\\u054e\\u0535\\u0550\\u0534\\u0545\\u0531\\u0546\",\"\\u054c\\u0548\\u0552\\u0532\\u0535\\u0546 \\u0540\\u0531\\u053d\\u054e\\u0535\\u0550\\u0534\\u0545\\u0531\\u0546\",\"\\u054c\\u0548\\u0552\\u0532\\u0535\\u0546 \\u0540\\u0531\\u053d\\u054e\\u0535\\u0550\\u0534\\u0545\\u0531\\u0546\",\"\\u054c\\u0548\\u0552\\u0532\\u0535\\u0546 \\u0540\\u0531\\u053d\\u054e\\u0535\\u0550\\u0534\\u0545\\u0531\\u0546\",\"\\u054c\\u0548\\u0552\\u0532\\u0535\\u0546 \\u0540\\u0531\\u053d\\u054e\\u0535\\u0550\\u0534\\u0545\\u0531\\u0546\",\"\\u054c\\u0548\\u0552\\u0532\\u0535\\u0546 \\u0540\\u0531\\u053d\\u054e\\u0535\\u0550\\u0534\\u0545\\u0531\\u0546\",\"\\u054c\\u0548\\u0552\\u0532\\u0535\\u0546 \\u0540\\u0531\\u053d\\u054e\\u0535\\u0550\\u0534\\u0545\\u0531\\u0546\",\"\\u054c\\u0548\\u0552\\u0532\\u0535\\u0546 \\u0540\\u0531\\u053d\\u054e\\u0535\\u0550\\u0534\\u0545\\u0531\\u0546\",\"\\u054c\\u0548\\u0552\\u0532\\u0535\\u0546 \\u0540\\u0531\\u053d\\u054e\\u0535\\u0550\\u0534\\u0545\\u0531\\u0546\",\"\\u054c\\u0548\\u0552\\u0532\\u0535\\u0546 \\u0540\\u0531\\u053d\\u054e\\u0535\\u0550\\u0534\\u0545\\u0531\\u0546\",\"\\u054c\\u0548\\u0552\\u0532\\u0535\\u0546 \\u0540\\u0531\\u053d\\u054e\\u0535\\u0550\\u0534\\u0545\\u0531\\u0546\",\"\\u054c\\u0548\\u0552\\u0532\\u0535\\u0546 \\u0540\\u0531\\u053d\\u054e\\u0535\\u0550\\u0534\\u0545\\u0531\\u0546\",\"\\u054c\\u0548\\u0552\\u0532\\u0535\\u0546 \\u0540\\u0531\\u053d\\u054e\\u0535\\u0550\\u0534\\u0545\\u0531\\u0546\",\"\\u054c\\u0548\\u0552\\u0532\\u0535\\u0546 \\u0540\\u0531\\u053d\\u054e\\u0535\\u0550\\u0534\\u0545\\u0531\\u0546\",\"\\u054c\\u0548\\u0552\\u0532\\u0535\\u0546 \\u0540\\u0531\\u053d\\u054e\\u0535\\u0550\\u0534\\u0545\\u0531\\u0546\",\"\\u054c\\u0548\\u0552\\u0532\\u0535\\u0546 \\u0540\\u0531\\u053d\\u054e\\u0535\\u0550\\u0534\\u0545\\u0531\\u0546\",\"\\u054c\\u0548\\u0552\\u0532\\u0535\\u0546 \\u0540\\u0531\\u053d\\u054e\\u0535\\u0550\\u0534\\u0545\\u0531\\u0546\",\"\\u054c\\u0548\\u0552\\u0532\\u0535\\u0546 \\u0540\\u0531\\u053d\\u054e\\u0535\\u0550\\u0534\\u0545\\u0531\\u0546\",\"\\u054c\\u0548\\u0552\\u0532\\u0535\\u0546 \\u0540\\u0531\\u053d\\u054e\\u0535\\u0550\\u0534\\u0545\\u0531\\u0546\",\"\\u054c\\u0548\\u0552\\u0532\\u0535\\u0546 \\u0540\\u0531\\u053d\\u054e\\u0535\\u0550\\u0534\\u0545\\u0531\\u0546\",\"\\u054c\\u0548\\u0552\\u0532\\u0535\\u0546 \\u0540\\u0531\\u053d\\u054e\\u0535\\u0550\\u0534\\u0545\\u0531\\u0546\",\"\\u054c\\u0548\\u0552\\u0532\\u0535\\u0546 \\u0540\\u0531\\u053d\\u054e\\u0535\\u0550\\u0534\\u0545\\u0531\\u0546\",\"\\u054c\\u0548\\u0552\\u0532\\u0535\\u0546 \\u0540\\u0531\\u053d\\u054e\\u0535\\u0550\\u0534\\u0545\\u0531\\u0546\",\"\\u054c\\u0548\\u0552\\u0532\\u0535\\u0546 \\u0540\\u0531\\u053d\\u054e\\u0535\\u0550\\u0534\\u0545\\u0531\\u0546\",\"\\u054c\\u0548\\u0552\\u0532\\u0535\\u0546 \\u0540\\u0531\\u053d\\u054e\\u0535\\u0550\\u0534\\u0545\\u0531\\u0546\",\"\\u054c\\u0548\\u0552\\u0532\\u0535\\u0546 \\u0540\\u0531\\u053d\\u054e\\u0535\\u0550\\u0534\\u0545\\u0531\\u0546\",\"\\u054c\\u0548\\u0552\\u0532\\u0535\\u0546 \\u0540\\u0531\\u053d\\u054e\\u0535\\u0550\\u0534\\u0545\\u0531\\u0546\",\"\\u054c\\u0548\\u0552\\u0532\\u0535\\u0546 \\u0540\\u0531\\u053d\\u054e\\u0535\\u0550\\u0534\\u0545\\u0531\\u0546\",\"\\u054c\\u0548\\u0552\\u0532\\u0535\\u0546 \\u0540\\u0531\\u053d\\u054e\\u0535\\u0550\\u0534\\u0545\\u0531\\u0546\",\"\\u054c\\u0548\\u0552\\u0532\\u0535\\u0546 \\u0540\\u0531\\u053d\\u054e\\u0535\\u0550\\u0534\\u0545\\u0531\\u0546\",\"\\u054c\\u0548\\u0552\\u0532\\u0535\\u0546 \\u0540\\u0531\\u053d\\u054e\\u0535\\u0550\\u0534\\u0545\\u0531\\u0546\",\"\\u054c\\u0548\\u0552\\u0532\\u0535\\u0546 \\u0540\\u0531\\u053d\\u054e\\u0535\\u0550\\u0534\\u0545\\u0531\\u0546\",\"\\u054c\\u0548\\u0552\\u0532\\u0535\\u0546 \\u0540\\u0531\\u053d\\u054e\\u0535\\u0550\\u0534\\u0545\\u0531\\u0546\",\"\\u054c\\u0548\\u0552\\u0532\\u0535\\u0546 \\u0540\\u0531\\u053d\\u054e\\u0535\\u0550\\u0534\\u0545\\u0531\\u0546\",\"\\u054c\\u0548\\u0552\\u0532\\u0535\\u0546 \\u0540\\u0531\\u053d\\u054e\\u0535\\u0550\\u0534\\u0545\\u0531\\u0546\",\"\\u054d\\u0531\\u0545\\u0531\\u0539-\\u0546\\u0548\\u054e\\u0531\",\"\\u054d\\u0531\\u0545\\u0531\\u0539-\\u0546\\u0548\\u054e\\u0531\",\"\\u054d\\u0531\\u0545\\u0531\\u0539-\\u0546\\u0548\\u054e\\u0531\",\"\\u054d\\u0531\\u0545\\u0531\\u0539-\\u0546\\u0548\\u054e\\u0531\",\"\\u054d\\u0531\\u0545\\u0531\\u0539-\\u0546\\u0548\\u054e\\u0531\",\"\\u054d\\u0531\\u0545\\u0531\\u0539-\\u0546\\u0548\\u054e\\u0531\",\"\\u054d\\u0531\\u0545\\u0531\\u0539-\\u0546\\u0548\\u054e\\u0531\",\"\\u054d\\u0531\\u0545\\u0531\\u0539-\\u0546\\u0548\\u054e\\u0531\",\"\\u054d\\u0531\\u0545\\u0531\\u0539-\\u0546\\u0548\\u054e\\u0531\",\"\\u054d\\u0531\\u0545\\u0531\\u0539-\\u0546\\u0548\\u054e\\u0531\",\"\\u054d\\u0531\\u0545\\u0531\\u0539-\\u0546\\u0548\\u054e\\u0531\",\"\\u054d\\u0531\\u0545\\u0531\\u0539-\\u0546\\u0548\\u054e\\u0531\",\"\\u054d\\u0531\\u0545\\u0531\\u0539-\\u0546\\u0548\\u054e\\u0531\",\"\\u054d\\u0531\\u0545\\u0531\\u0539-\\u0546\\u0548\\u054e\\u0531\",\"\\u054d\\u0531\\u0545\\u0531\\u0539-\\u0546\\u0548\\u054e\\u0531\",\"\\u054d\\u0531\\u0545\\u0531\\u0539-\\u0546\\u0548\\u054e\\u0531\",\"\\u053f\\u0548\\u0544\\u053b\\u054f\\u0531\\u054d\",\"\\u053f\\u0548\\u0544\\u053b\\u054f\\u0531\\u054d\",\"\\u053f\\u0548\\u0544\\u053b\\u054f\\u0531\\u054d\",\"\\u053f\\u0548\\u0544\\u053b\\u054f\\u0531\\u054d\",\"\\u053f\\u0548\\u0544\\u053b\\u054f\\u0531\\u054d\",\"\\u053f\\u0548\\u0544\\u053b\\u054f\\u0531\\u054d\",\"\\u053f\\u0548\\u0544\\u053b\\u054f\\u0531\\u054d\",\"\\u053f\\u0548\\u0544\\u053b\\u054f\\u0531\\u054d\",\"\\u053f\\u0548\\u0544\\u053b\\u054f\\u0531\\u054d\",\"\\u053f\\u0548\\u0544\\u053b\\u054f\\u0531\\u054d\",\"\\u053f\\u0548\\u0544\\u053b\\u054f\\u0531\\u054d\",\"\\u053f\\u0548\\u0544\\u053b\\u054f\\u0531\\u054d\",\"\\u053f\\u0548\\u0544\\u053b\\u054f\\u0531\\u054d\",\"\\u053f\\u0548\\u0544\\u053b\\u054f\\u0531\\u054d\",\"\\u053f\\u0548\\u0544\\u053b\\u054f\\u0531\\u054d\",\"\\u053f\\u0548\\u0544\\u053b\\u054f\\u0531\\u054d\",\"\\u053f\\u0548\\u0544\\u053b\\u054f\\u0531\\u054d\",\"\\u053f\\u0548\\u0544\\u053b\\u054f\\u0531\\u054d\",\"\\u053f\\u0548\\u0544\\u053b\\u054f\\u0531\\u054d\",\"\\u053f\\u0548\\u0544\\u053b\\u054f\\u0531\\u054d\",\"\\u053f\\u0548\\u0544\\u053b\\u054f\\u0531\\u054d\",\"\\u053f\\u0548\\u0544\\u053b\\u054f\\u0531\\u054d\",\"\\u053f\\u0548\\u0544\\u053b\\u054f\\u0531\\u054d\",\"\\u053f\\u0548\\u0544\\u053b\\u054f\\u0531\\u054d\",\"\\u053f\\u0548\\u0544\\u053b\\u054f\\u0531\\u054d\",\"\\u053f\\u0548\\u0544\\u053b\\u054f\\u0531\\u054d\",\"\\u053f\\u0548\\u0544\\u053b\\u054f\\u0531\\u054d\",\"\\u053f\\u0548\\u0544\\u053b\\u054f\\u0531\\u054d\",\"\\u053f\\u0548\\u0544\\u053b\\u054f\\u0531\\u054d\",\"\\u053f\\u0548\\u0544\\u053b\\u054f\\u0531\\u054d\",\"\\u053f\\u0548\\u0544\\u053b\\u054f\\u0531\\u054d\",\"\\u053f\\u0548\\u0544\\u053b\\u054f\\u0531\\u054d\",\"\\u053f\\u0548\\u0544\\u053b\\u054f\\u0531\\u054d\",\"\\u053f\\u0548\\u0544\\u053b\\u054f\\u0531\\u054d\",\"\\u053f\\u0548\\u0544\\u053b\\u054f\\u0531\\u054d\",\"\\u053f\\u0548\\u0544\\u053b\\u054f\\u0531\\u054d\",\"\\u053f\\u0548\\u0544\\u053b\\u054f\\u0531\\u054d\",\"\\u053f\\u0548\\u0544\\u053b\\u054f\\u0531\\u054d\",\"\\u053f\\u0548\\u0544\\u053b\\u054f\\u0531\\u054d\",\"\\u053f\\u0548\\u0544\\u053b\\u054f\\u0531\\u054d\",\"\\u053f\\u0548\\u0544\\u053b\\u054f\\u0531\\u054d\",\"\\u053f\\u0548\\u0544\\u053b\\u054f\\u0531\\u054d\",\"\\u053f\\u0548\\u0544\\u053b\\u054f\\u0531\\u054d\",\"\\u053f\\u0548\\u0544\\u053b\\u054f\\u0531\\u054d\",\"\\u053f\\u0548\\u0544\\u053b\\u054f\\u0531\\u054d\",\"\\u053f\\u0548\\u0544\\u053b\\u054f\\u0531\\u054d\",\"\\u053f\\u0548\\u0544\\u053b\\u054f\\u0531\\u054d\",\"\\u053f\\u0548\\u0544\\u053b\\u054f\\u0531\\u054d\",\"\\u053f\\u0548\\u0544\\u053b\\u054f\\u0531\\u054d\",\"\\u053f\\u0548\\u0544\\u053b\\u054f\\u0531\\u054d\",\"\\u053f\\u0548\\u0544\\u053b\\u054f\\u0531\\u054d\",\"\\u053f\\u0548\\u0544\\u053b\\u054f\\u0531\\u054d\",\"\\u053f\\u0548\\u0544\\u053b\\u054f\\u0531\\u054d\",\"\\u053f\\u0548\\u0544\\u053b\\u054f\\u0531\\u054d\",\"\\u053f\\u0548\\u0544\\u053b\\u054f\\u0531\\u054d\",\"\\u053f\\u0548\\u0544\\u053b\\u054f\\u0531\\u054d\",\"\\u053f\\u0548\\u0544\\u053b\\u054f\\u0531\\u054d\",\"\\u053f\\u0548\\u0544\\u053b\\u054f\\u0531\\u054d\",\"\\u053f\\u0548\\u0544\\u053b\\u054f\\u0531\\u054d\",\"\\u053f\\u0548\\u0544\\u053b\\u054f\\u0531\\u054d\",\"\\u053f\\u0548\\u0544\\u053b\\u054f\\u0531\\u054d\",\"\\u053f\\u0548\\u0544\\u053b\\u054f\\u0531\\u054d\",\"HT Hayko\",\"HT Hayko\",\"HT Hayko\",\"HT Hayko\",\"HT Hayko\",\"HT Hayko\",\"HT Hayko\",\"HT Hayko\",\"HT Hayko\",\"HT Hayko\",\"HT Hayko\",\"HT Hayko\",\"HT Hayko\",\"HT Hayko\",\"HT Hayko\",\"HT Hayko\",\"Empyray\",\"Empyray\",\"Empyray\",\"Empyray\",\"Empyray\",\"Empyray\",\"Empyray\",\"Empyray\",\"Empyray\",\"Empyray\",\" Lav Eli\",\" Lav Eli\",\" Lav Eli\",\" Lav Eli\",\" Lav Eli\",\" Lav Eli\",\" Lav Eli\",\" Lav Eli\",\" Lav Eli\",\"Silva Hakobyan\",\"Silva Hakobyan\",\"Silva Hakobyan\",\"Silva Hakobyan\",\"Silva Hakobyan\",\"Silva Hakobyan\",\"Silva Hakobyan\",\"Silva Hakobyan\",\"Silva Hakobyan\",\"Silva Hakobyan\",\"Silva Hakobyan\",\"Silva Hakobyan\",\"Silva Hakobyan\",\"Silva Hakobyan\",\"Silva Hakobyan\",\"Silva Hakobyan\",\"Silva Hakobyan\",\"Silva Hakobyan\",\"Silva Hakobyan\",\"Silva Hakobyan\",\"\\u0531\\u0576\\u0564\\u0580\\u0565\",\"\\u0531\\u0576\\u0564\\u0580\\u0565\",\"\\u0531\\u0576\\u0564\\u0580\\u0565\",\"\\u0531\\u0576\\u0564\\u0580\\u0565\",\"\\u0531\\u0576\\u0564\\u0580\\u0565\",\"\\u0531\\u0576\\u0564\\u0580\\u0565\",\"\\u0531\\u0576\\u0564\\u0580\\u0565\",\"\\u0531\\u0576\\u0564\\u0580\\u0565\",\"\\u0531\\u0576\\u0564\\u0580\\u0565\",\"\\u0531\\u0576\\u0564\\u0580\\u0565\",\"\\u0531\\u0576\\u0564\\u0580\\u0565\",\"\\u0531\\u0576\\u0564\\u0580\\u0565\",\"\\u053c\\u056b\\u056c\\u056b\\u0569 \\u0540\\u0578\\u057e\\u0570\\u0561\\u0576\\u0576\\u056b\\u057d\\u0575\\u0561\\u0576\",\"\\u053c\\u056b\\u056c\\u056b\\u0569 \\u0540\\u0578\\u057e\\u0570\\u0561\\u0576\\u0576\\u056b\\u057d\\u0575\\u0561\\u0576\",\"\\u053c\\u056b\\u056c\\u056b\\u0569 \\u0540\\u0578\\u057e\\u0570\\u0561\\u0576\\u0576\\u056b\\u057d\\u0575\\u0561\\u0576\",\"\\u053c\\u056b\\u056c\\u056b\\u0569 \\u0540\\u0578\\u057e\\u0570\\u0561\\u0576\\u0576\\u056b\\u057d\\u0575\\u0561\\u0576\",\"\\u053c\\u056b\\u056c\\u056b\\u0569 \\u0540\\u0578\\u057e\\u0570\\u0561\\u0576\\u0576\\u056b\\u057d\\u0575\\u0561\\u0576\",\"\\u053c\\u056b\\u056c\\u056b\\u0569 \\u0540\\u0578\\u057e\\u0570\\u0561\\u0576\\u0576\\u056b\\u057d\\u0575\\u0561\\u0576\",\"\\u053c\\u056b\\u056c\\u056b\\u0569 \\u0540\\u0578\\u057e\\u0570\\u0561\\u0576\\u0576\\u056b\\u057d\\u0575\\u0561\\u0576\",\"\\u053c\\u056b\\u056c\\u056b\\u0569 \\u0540\\u0578\\u057e\\u0570\\u0561\\u0576\\u0576\\u056b\\u057d\\u0575\\u0561\\u0576\",\"\\u053c\\u056b\\u056c\\u056b\\u0569 \\u0540\\u0578\\u057e\\u0570\\u0561\\u0576\\u0576\\u056b\\u057d\\u0575\\u0561\\u0576\",\"\\u053c\\u056b\\u056c\\u056b\\u0569 \\u0540\\u0578\\u057e\\u0570\\u0561\\u0576\\u0576\\u056b\\u057d\\u0575\\u0561\\u0576\",\"\\u053c\\u056b\\u056c\\u056b\\u0569 \\u0540\\u0578\\u057e\\u0570\\u0561\\u0576\\u0576\\u056b\\u057d\\u0575\\u0561\\u0576\",\"\\u053c\\u056b\\u056c\\u056b\\u0569 \\u0540\\u0578\\u057e\\u0570\\u0561\\u0576\\u0576\\u056b\\u057d\\u0575\\u0561\\u0576\",\"\\u053c\\u056b\\u056c\\u056b\\u0569 \\u0540\\u0578\\u057e\\u0570\\u0561\\u0576\\u0576\\u056b\\u057d\\u0575\\u0561\\u0576\",\"\\u053c\\u056b\\u056c\\u056b\\u0569 \\u0540\\u0578\\u057e\\u0570\\u0561\\u0576\\u0576\\u056b\\u057d\\u0575\\u0561\\u0576\",\"\\u053c\\u056b\\u056c\\u056b\\u0569 \\u0540\\u0578\\u057e\\u0570\\u0561\\u0576\\u0576\\u056b\\u057d\\u0575\\u0561\\u0576\",\"\\u053c\\u056b\\u056c\\u056b\\u0569 \\u0540\\u0578\\u057e\\u0570\\u0561\\u0576\\u0576\\u056b\\u057d\\u0575\\u0561\\u0576\",\"\\u053c\\u056b\\u056c\\u056b\\u0569 \\u0540\\u0578\\u057e\\u0570\\u0561\\u0576\\u0576\\u056b\\u057d\\u0575\\u0561\\u0576\",\"\\u053c\\u056b\\u056c\\u056b\\u0569 \\u0540\\u0578\\u057e\\u0570\\u0561\\u0576\\u0576\\u056b\\u057d\\u0575\\u0561\\u0576\",\"\\u053c\\u056b\\u056c\\u056b\\u0569 \\u0540\\u0578\\u057e\\u0570\\u0561\\u0576\\u0576\\u056b\\u057d\\u0575\\u0561\\u0576\",\"\\u053c\\u056b\\u056c\\u056b\\u0569 \\u0540\\u0578\\u057e\\u0570\\u0561\\u0576\\u0576\\u056b\\u057d\\u0575\\u0561\\u0576\",\"\\u053c\\u056b\\u056c\\u056b\\u0569 \\u0540\\u0578\\u057e\\u0570\\u0561\\u0576\\u0576\\u056b\\u057d\\u0575\\u0561\\u0576\",\"\\u053c\\u056b\\u056c\\u056b\\u0569 \\u0540\\u0578\\u057e\\u0570\\u0561\\u0576\\u0576\\u056b\\u057d\\u0575\\u0561\\u0576\",\"\\u053c\\u056b\\u056c\\u056b\\u0569 \\u0540\\u0578\\u057e\\u0570\\u0561\\u0576\\u0576\\u056b\\u057d\\u0575\\u0561\\u0576\",\"\\u053c\\u056b\\u056c\\u056b\\u0569 \\u0540\\u0578\\u057e\\u0570\\u0561\\u0576\\u0576\\u056b\\u057d\\u0575\\u0561\\u0576\",\"\\u054d\\u056b\\u0580\\u0578\\u0582\\u0577\\u0578\",\"\\u054d\\u056b\\u0580\\u0578\\u0582\\u0577\\u0578\",\"\\u054d\\u056b\\u0580\\u0578\\u0582\\u0577\\u0578\",\"\\u054d\\u056b\\u0580\\u0578\\u0582\\u0577\\u0578\",\"\\u054d\\u056b\\u0580\\u0578\\u0582\\u0577\\u0578\",\"\\u054d\\u056b\\u0580\\u0578\\u0582\\u0577\\u0578\",\"\\u054d\\u056b\\u0580\\u0578\\u0582\\u0577\\u0578\",\"\\u054d\\u056b\\u0580\\u0578\\u0582\\u0577\\u0578\",\"\\u054d\\u056b\\u0580\\u0578\\u0582\\u0577\\u0578\",\"\\u054d\\u056b\\u0580\\u0578\\u0582\\u0577\\u0578\",\"\\u054d\\u056b\\u0580\\u0578\\u0582\\u0577\\u0578\",\"\\u054d\\u056b\\u0580\\u0578\\u0582\\u0577\\u0578\",\"\\u054d\\u056b\\u0580\\u0578\\u0582\\u0577\\u0578\",\"\\u054d\\u056b\\u0580\\u0578\\u0582\\u0577\\u0578\",\"\\u054d\\u056b\\u0580\\u0578\\u0582\\u0577\\u0578\",\"\\u054d\\u056b\\u0580\\u0578\\u0582\\u0577\\u0578\",\"\\u054d\\u056b\\u0580\\u0578\\u0582\\u0577\\u0578\",\"\\u054d\\u056b\\u0580\\u0578\\u0582\\u0577\\u0578\",\"\\u054d\\u056b\\u0580\\u0578\\u0582\\u0577\\u0578\",\"\\u054d\\u056b\\u0580\\u0578\\u0582\\u0577\\u0578\",\"\\u054d\\u056b\\u0580\\u0578\\u0582\\u0577\\u0578\",\"\\u054d\\u056b\\u0580\\u0578\\u0582\\u0577\\u0578\",\"\\u054d\\u056b\\u0580\\u0578\\u0582\\u0577\\u0578\",\"\\u054d\\u056b\\u0580\\u0578\\u0582\\u0577\\u0578\",\"\\u054d\\u056b\\u0580\\u0578\\u0582\\u0577\\u0578\",\"\\u0544\\u056b\\u0570\\u0580\\u0561\\u0576 \\u053e\\u0561\\u057c\\u0578\\u0582\\u056f\\u0575\\u0561\\u0576\",\"\\u0544\\u056b\\u0570\\u0580\\u0561\\u0576 \\u053e\\u0561\\u057c\\u0578\\u0582\\u056f\\u0575\\u0561\\u0576\",\"\\u0544\\u056b\\u0570\\u0580\\u0561\\u0576 \\u053e\\u0561\\u057c\\u0578\\u0582\\u056f\\u0575\\u0561\\u0576\",\"\\u0544\\u056b\\u0570\\u0580\\u0561\\u0576 \\u053e\\u0561\\u057c\\u0578\\u0582\\u056f\\u0575\\u0561\\u0576\",\"\\u0544\\u056b\\u0570\\u0580\\u0561\\u0576 \\u053e\\u0561\\u057c\\u0578\\u0582\\u056f\\u0575\\u0561\\u0576\",\"\\u0544\\u056b\\u0570\\u0580\\u0561\\u0576 \\u053e\\u0561\\u057c\\u0578\\u0582\\u056f\\u0575\\u0561\\u0576\",\"\\u0544\\u056b\\u0570\\u0580\\u0561\\u0576 \\u053e\\u0561\\u057c\\u0578\\u0582\\u056f\\u0575\\u0561\\u0576\",\"\\u0544\\u056b\\u0570\\u0580\\u0561\\u0576 \\u053e\\u0561\\u057c\\u0578\\u0582\\u056f\\u0575\\u0561\\u0576\",\"\\u0544\\u056b\\u0570\\u0580\\u0561\\u0576 \\u053e\\u0561\\u057c\\u0578\\u0582\\u056f\\u0575\\u0561\\u0576\",\"\\u0544\\u056b\\u0570\\u0580\\u0561\\u0576 \\u053e\\u0561\\u057c\\u0578\\u0582\\u056f\\u0575\\u0561\\u0576\",\"\\u0544\\u056b\\u0570\\u0580\\u0561\\u0576 \\u053e\\u0561\\u057c\\u0578\\u0582\\u056f\\u0575\\u0561\\u0576\",\"\\u0544\\u056b\\u0570\\u0580\\u0561\\u0576 \\u053e\\u0561\\u057c\\u0578\\u0582\\u056f\\u0575\\u0561\\u0576\",\"\\u0544\\u056b\\u0570\\u0580\\u0561\\u0576 \\u053e\\u0561\\u057c\\u0578\\u0582\\u056f\\u0575\\u0561\\u0576\",\"\\u0544\\u056b\\u0570\\u0580\\u0561\\u0576 \\u053e\\u0561\\u057c\\u0578\\u0582\\u056f\\u0575\\u0561\\u0576\",\"\\u0544\\u056b\\u0570\\u0580\\u0561\\u0576 \\u053e\\u0561\\u057c\\u0578\\u0582\\u056f\\u0575\\u0561\\u0576\",\"\\u0544\\u056b\\u0570\\u0580\\u0561\\u0576 \\u053e\\u0561\\u057c\\u0578\\u0582\\u056f\\u0575\\u0561\\u0576\",\"\\u0544\\u056b\\u0570\\u0580\\u0561\\u0576 \\u053e\\u0561\\u057c\\u0578\\u0582\\u056f\\u0575\\u0561\\u0576\",\"\\u0544\\u056b\\u0570\\u0580\\u0561\\u0576 \\u053e\\u0561\\u057c\\u0578\\u0582\\u056f\\u0575\\u0561\\u0576\",\"Arame\",\"Arame\",\"Arame\",\"Arame\",\"Arame\",\"Arame\",\"Arame\",\"Arame\",\"Arame\",\"Razmik Amyan\",\"Razmik Amyan\",\"Razmik Amyan\",\"Razmik Amyan\",\"Razmik Amyan\",\"Razmik Amyan\",\"Razmik Amyan\",\"Razmik Amyan\",\"Razmik Amyan\",\"Razmik Amyan\",\"Razmik Amyan\",\"Razmik Amyan\",\"Razmik Amyan\",\"Razmik Amyan\",\"Razmik Amyan\",\"Razmik Amyan\",\"Razmik Amyan\",\"Razmik Amyan\",\"Harout Pamboukjian\",\"Harout Pamboukjian\",\"Harout Pamboukjian\",\"Harout Pamboukjian\",\"Harout Pamboukjian\",\"Harout Pamboukjian\",\"Harout Pamboukjian\",\"Harout Pamboukjian\",\"Harout Pamboukjian\",\"Harout Pamboukjian\",\"Harout Pamboukjian\",\"Harout Pamboukjian\",\"Harout Pamboukjian\",\"Harout Pamboukjian\",\"Harout Pamboukjian\",\"Harout Pamboukjian\",\"Harout Pamboukjian\",\"Harout Pamboukjian\",\"Harout Pamboukjian\",\"Harout Pamboukjian\",\"Harout Pamboukjian\",\"Harout Pamboukjian\",\"Harout Pamboukjian\",\"Harout Pamboukjian\",\"Harout Pamboukjian\",\"Harout Pamboukjian\",\"Harout Pamboukjian\",\"Harout Pamboukjian\",\"Harout Pamboukjian\",\"Harout Pamboukjian\",\"Harout Pamboukjian\",\"Harout Pamboukjian\",\"\\u0540\\u0561\\u0575\\u056f \\u0540\\u0561\\u056f\\u0578\\u0562\\u0575\\u0561\\u0576\",\"\\u0540\\u0561\\u0575\\u056f \\u0540\\u0561\\u056f\\u0578\\u0562\\u0575\\u0561\\u0576\",\"\\u0540\\u0561\\u0575\\u056f \\u0540\\u0561\\u056f\\u0578\\u0562\\u0575\\u0561\\u0576\",\"\\u0540\\u0561\\u0575\\u056f \\u0540\\u0561\\u056f\\u0578\\u0562\\u0575\\u0561\\u0576\",\"\\u0540\\u0561\\u0575\\u056f \\u0540\\u0561\\u056f\\u0578\\u0562\\u0575\\u0561\\u0576\",\"\\u0540\\u0561\\u0575\\u056f \\u0540\\u0561\\u056f\\u0578\\u0562\\u0575\\u0561\\u0576\",\"\\u0540\\u0561\\u0575\\u056f \\u0540\\u0561\\u056f\\u0578\\u0562\\u0575\\u0561\\u0576\",\"\\u0540\\u0561\\u0575\\u056f \\u0540\\u0561\\u056f\\u0578\\u0562\\u0575\\u0561\\u0576\",\"\\u0540\\u0561\\u0575\\u056f \\u0540\\u0561\\u056f\\u0578\\u0562\\u0575\\u0561\\u0576\",\"\\u0540\\u0561\\u0575\\u056f \\u0540\\u0561\\u056f\\u0578\\u0562\\u0575\\u0561\\u0576\",\"\\u0540\\u0561\\u0575\\u056f \\u0540\\u0561\\u056f\\u0578\\u0562\\u0575\\u0561\\u0576\",\"\\u0540\\u0561\\u0575\\u056f \\u0540\\u0561\\u056f\\u0578\\u0562\\u0575\\u0561\\u0576\",\"\\u0540\\u0561\\u0575\\u056f \\u0540\\u0561\\u056f\\u0578\\u0562\\u0575\\u0561\\u0576\",\"\\u0540\\u0561\\u0575\\u056f \\u0540\\u0561\\u056f\\u0578\\u0562\\u0575\\u0561\\u0576\",\"\\u0540\\u0561\\u0575\\u056f \\u0540\\u0561\\u056f\\u0578\\u0562\\u0575\\u0561\\u0576\",\"\\u0540\\u0561\\u0575\\u056f \\u0540\\u0561\\u056f\\u0578\\u0562\\u0575\\u0561\\u0576\",\"\\u0540\\u0561\\u0575\\u056f \\u0540\\u0561\\u056f\\u0578\\u0562\\u0575\\u0561\\u0576\",\"\\u0540\\u0561\\u0575\\u056f \\u0540\\u0561\\u056f\\u0578\\u0562\\u0575\\u0561\\u0576\",\"\\u0540\\u0561\\u0575\\u056f \\u0540\\u0561\\u056f\\u0578\\u0562\\u0575\\u0561\\u0576\",\"\\u0540\\u0561\\u0575\\u056f \\u0540\\u0561\\u056f\\u0578\\u0562\\u0575\\u0561\\u0576\",\"\\u0540\\u0561\\u0575\\u056f \\u0540\\u0561\\u056f\\u0578\\u0562\\u0575\\u0561\\u0576\",\"\\u0540\\u0561\\u0575\\u056f \\u0540\\u0561\\u056f\\u0578\\u0562\\u0575\\u0561\\u0576\",\"\\u0540\\u0561\\u0575\\u056f \\u0540\\u0561\\u056f\\u0578\\u0562\\u0575\\u0561\\u0576\",\"Aram MP3\",\"Aram MP3\",\"Arsen Safaryan\",\"Arsen Safaryan\",\"Arsen Safaryan\",\"Arsen Safaryan\",\"Arsen Safaryan\",\"Arsen Safaryan\",\"Arsen Safaryan\",\"Arsen Safaryan\",\"Arsen Safaryan\",\"Arsen Safaryan\",\"Arsen Safaryan\",\"Arsen Safaryan\",\"Arsen Safaryan\",\"Arsen Safaryan\",\"Arsen Safaryan\",\"Arsen Safaryan\",\"Arsen Safaryan\",\"Arsen Safaryan\",\"Arsen Safaryan\",\"Arsen Safaryan\",\"Arsen Safaryan\",\"Arsen Safaryan\",\"Arsen Safaryan\",\"Aram MP3\",\"Aram MP3\",\"Aram MP3\",\"Aram MP3\",\"Aram MP3\",\"Aram MP3\",\"Aram MP3\",\"Aram MP3\",\"Aram MP3\",\"Aram MP3\",\"Aram MP3\",\"Aram MP3\",\"Aram MP3\",\"Aram MP3\",\"Aram MP3\",\"Misho\",\"Misho\",\"Misho\",\"Misho\",\"Misho\",\"Misho\",\"Misho\",\"Misho\",\"Misho\",\"Misho\",\"Misho\",\"Misho\",\"Misho\",\"Misho\",\"Misho\",\"Misho\",\"Misho\",\"Misho\",\"Misho\",\"Misho\",\"Misho\",\"Misho\",\"Misho\",\"Misho\",\"Misho\",\"Misho\",\"Mi Qani Hogi\",\"Mi Qani Hogi\",\"Mi Qani Hogi\",\"Mi Qani Hogi\",\"Mi Qani Hogi\",\"Mi Qani Hogi\",\"Mi Qani Hogi\",\"Mi Qani Hogi\",\"Mi Qani Hogi\",\"Mi Qani Hogi\",\"Mi Qani Hogi\",\"Mi Qani Hogi\",\"Mi Qani Hogi\",\"Mi Qani Hogi\",\"Mi Qani Hogi\"],\"x0\":\" \",\"xaxis\":\"x\",\"y\":[263,191,152,134,149,75,113,233,96,247,83,119,195,216,111,100,120,214,235,199,202,146,259,295,143,191,168,373,442,253,183,239,126,249,42,131,217,125,172,96,212,204,236,193,154,187,137,314,335,123,264,167,213,162,340,245,151,152,102,166,247,136,274,313,182,181,219,237,65,117,111,167,181,127,217,205,166,161,227,93,163,160,205,183,117,167,224,221,345,197,229,114,121,290,136,108,328,257,155,243,163,150,183,201,115,173,176,281,214,126,110,233,179,332,222,289,286,105,183,83,109,35,26,25,48,41,38,115,69,203,110,159,172,165,173,179,76,149,147,91,130,170,49,196,113,117,120,122,138,73,96,156,83,82,134,85,60,125,85,261,122,103,62,80,70,74,74,68,73,74,154,99,70,102,102,107,79,160,101,70,35,85,46,79,95,93,73,172,158,76,76,61,71,89,59,91,56,75,94,79,130,63,128,110,77,88,59,94,173,611,452,524,468,341,701,614,572,586,361,485,272,379,343,279,230,229,129,155,172,181,214,138,103,118,132,177,246,329,132,15,194,185,152,217,185,207,241,181,135,227,113,166,109,137,104,167,159,181,216,148,214,174,114,190,323,201,90,250,107,287,66,169,134,122,170,147,319,250,228,356,306,353,313,214,338,223,257,337,41,193,96,334,182,280,95,251,266,109,246,241,145,149,95,180,62,145,185,140,90,11,193,266,99,240,68,107,230,192,232,143,175,193,123,143,30,358,220,334,172,152,287,342,307,195,360,262,229,124,177,163,130,185,319,224,177,402,124,196,267,144,167,211,158,236,325,128,135,236,151,224,137,229,224,168,118,122,202,120,162,284,133,109,127,176,133,93,243,64,196,53,163,76,107,104,185,159,153,173,162,195,112,75,114,269,59,247,209,112,128,104,160,163,11,94,99,96,160,116,127,172,131,161,130,98,79,128,92,153,163,116,138,162,111,110,144,234,209,171,161,182,121,259,99,128,216,169,159,91,186,206,194,132,314,110,134,167,160,86,168,139,328,127,222,161,317,289,212,142,290,223,206,271,146,140,111,240,212,138,286,372,160,8,114,136,157,176,168,280,169,263,229,220,228,205,207,139,378,191,241,350,181,101,222,168,257,197,212,230,130,243,182,205,199,185,63,161],\"y0\":\" \",\"yaxis\":\"y\",\"type\":\"box\"}],                        {\"template\":{\"data\":{\"histogram2dcontour\":[{\"type\":\"histogram2dcontour\",\"colorbar\":{\"outlinewidth\":0,\"ticks\":\"\"},\"colorscale\":[[0.0,\"#0d0887\"],[0.1111111111111111,\"#46039f\"],[0.2222222222222222,\"#7201a8\"],[0.3333333333333333,\"#9c179e\"],[0.4444444444444444,\"#bd3786\"],[0.5555555555555556,\"#d8576b\"],[0.6666666666666666,\"#ed7953\"],[0.7777777777777778,\"#fb9f3a\"],[0.8888888888888888,\"#fdca26\"],[1.0,\"#f0f921\"]]}],\"choropleth\":[{\"type\":\"choropleth\",\"colorbar\":{\"outlinewidth\":0,\"ticks\":\"\"}}],\"histogram2d\":[{\"type\":\"histogram2d\",\"colorbar\":{\"outlinewidth\":0,\"ticks\":\"\"},\"colorscale\":[[0.0,\"#0d0887\"],[0.1111111111111111,\"#46039f\"],[0.2222222222222222,\"#7201a8\"],[0.3333333333333333,\"#9c179e\"],[0.4444444444444444,\"#bd3786\"],[0.5555555555555556,\"#d8576b\"],[0.6666666666666666,\"#ed7953\"],[0.7777777777777778,\"#fb9f3a\"],[0.8888888888888888,\"#fdca26\"],[1.0,\"#f0f921\"]]}],\"heatmap\":[{\"type\":\"heatmap\",\"colorbar\":{\"outlinewidth\":0,\"ticks\":\"\"},\"colorscale\":[[0.0,\"#0d0887\"],[0.1111111111111111,\"#46039f\"],[0.2222222222222222,\"#7201a8\"],[0.3333333333333333,\"#9c179e\"],[0.4444444444444444,\"#bd3786\"],[0.5555555555555556,\"#d8576b\"],[0.6666666666666666,\"#ed7953\"],[0.7777777777777778,\"#fb9f3a\"],[0.8888888888888888,\"#fdca26\"],[1.0,\"#f0f921\"]]}],\"heatmapgl\":[{\"type\":\"heatmapgl\",\"colorbar\":{\"outlinewidth\":0,\"ticks\":\"\"},\"colorscale\":[[0.0,\"#0d0887\"],[0.1111111111111111,\"#46039f\"],[0.2222222222222222,\"#7201a8\"],[0.3333333333333333,\"#9c179e\"],[0.4444444444444444,\"#bd3786\"],[0.5555555555555556,\"#d8576b\"],[0.6666666666666666,\"#ed7953\"],[0.7777777777777778,\"#fb9f3a\"],[0.8888888888888888,\"#fdca26\"],[1.0,\"#f0f921\"]]}],\"contourcarpet\":[{\"type\":\"contourcarpet\",\"colorbar\":{\"outlinewidth\":0,\"ticks\":\"\"}}],\"contour\":[{\"type\":\"contour\",\"colorbar\":{\"outlinewidth\":0,\"ticks\":\"\"},\"colorscale\":[[0.0,\"#0d0887\"],[0.1111111111111111,\"#46039f\"],[0.2222222222222222,\"#7201a8\"],[0.3333333333333333,\"#9c179e\"],[0.4444444444444444,\"#bd3786\"],[0.5555555555555556,\"#d8576b\"],[0.6666666666666666,\"#ed7953\"],[0.7777777777777778,\"#fb9f3a\"],[0.8888888888888888,\"#fdca26\"],[1.0,\"#f0f921\"]]}],\"surface\":[{\"type\":\"surface\",\"colorbar\":{\"outlinewidth\":0,\"ticks\":\"\"},\"colorscale\":[[0.0,\"#0d0887\"],[0.1111111111111111,\"#46039f\"],[0.2222222222222222,\"#7201a8\"],[0.3333333333333333,\"#9c179e\"],[0.4444444444444444,\"#bd3786\"],[0.5555555555555556,\"#d8576b\"],[0.6666666666666666,\"#ed7953\"],[0.7777777777777778,\"#fb9f3a\"],[0.8888888888888888,\"#fdca26\"],[1.0,\"#f0f921\"]]}],\"mesh3d\":[{\"type\":\"mesh3d\",\"colorbar\":{\"outlinewidth\":0,\"ticks\":\"\"}}],\"scatter\":[{\"fillpattern\":{\"fillmode\":\"overlay\",\"size\":10,\"solidity\":0.2},\"type\":\"scatter\"}],\"parcoords\":[{\"type\":\"parcoords\",\"line\":{\"colorbar\":{\"outlinewidth\":0,\"ticks\":\"\"}}}],\"scatterpolargl\":[{\"type\":\"scatterpolargl\",\"marker\":{\"colorbar\":{\"outlinewidth\":0,\"ticks\":\"\"}}}],\"bar\":[{\"error_x\":{\"color\":\"#2a3f5f\"},\"error_y\":{\"color\":\"#2a3f5f\"},\"marker\":{\"line\":{\"color\":\"#E5ECF6\",\"width\":0.5},\"pattern\":{\"fillmode\":\"overlay\",\"size\":10,\"solidity\":0.2}},\"type\":\"bar\"}],\"scattergeo\":[{\"type\":\"scattergeo\",\"marker\":{\"colorbar\":{\"outlinewidth\":0,\"ticks\":\"\"}}}],\"scatterpolar\":[{\"type\":\"scatterpolar\",\"marker\":{\"colorbar\":{\"outlinewidth\":0,\"ticks\":\"\"}}}],\"histogram\":[{\"marker\":{\"pattern\":{\"fillmode\":\"overlay\",\"size\":10,\"solidity\":0.2}},\"type\":\"histogram\"}],\"scattergl\":[{\"type\":\"scattergl\",\"marker\":{\"colorbar\":{\"outlinewidth\":0,\"ticks\":\"\"}}}],\"scatter3d\":[{\"type\":\"scatter3d\",\"line\":{\"colorbar\":{\"outlinewidth\":0,\"ticks\":\"\"}},\"marker\":{\"colorbar\":{\"outlinewidth\":0,\"ticks\":\"\"}}}],\"scattermapbox\":[{\"type\":\"scattermapbox\",\"marker\":{\"colorbar\":{\"outlinewidth\":0,\"ticks\":\"\"}}}],\"scatterternary\":[{\"type\":\"scatterternary\",\"marker\":{\"colorbar\":{\"outlinewidth\":0,\"ticks\":\"\"}}}],\"scattercarpet\":[{\"type\":\"scattercarpet\",\"marker\":{\"colorbar\":{\"outlinewidth\":0,\"ticks\":\"\"}}}],\"carpet\":[{\"aaxis\":{\"endlinecolor\":\"#2a3f5f\",\"gridcolor\":\"white\",\"linecolor\":\"white\",\"minorgridcolor\":\"white\",\"startlinecolor\":\"#2a3f5f\"},\"baxis\":{\"endlinecolor\":\"#2a3f5f\",\"gridcolor\":\"white\",\"linecolor\":\"white\",\"minorgridcolor\":\"white\",\"startlinecolor\":\"#2a3f5f\"},\"type\":\"carpet\"}],\"table\":[{\"cells\":{\"fill\":{\"color\":\"#EBF0F8\"},\"line\":{\"color\":\"white\"}},\"header\":{\"fill\":{\"color\":\"#C8D4E3\"},\"line\":{\"color\":\"white\"}},\"type\":\"table\"}],\"barpolar\":[{\"marker\":{\"line\":{\"color\":\"#E5ECF6\",\"width\":0.5},\"pattern\":{\"fillmode\":\"overlay\",\"size\":10,\"solidity\":0.2}},\"type\":\"barpolar\"}],\"pie\":[{\"automargin\":true,\"type\":\"pie\"}]},\"layout\":{\"autotypenumbers\":\"strict\",\"colorway\":[\"#636efa\",\"#EF553B\",\"#00cc96\",\"#ab63fa\",\"#FFA15A\",\"#19d3f3\",\"#FF6692\",\"#B6E880\",\"#FF97FF\",\"#FECB52\"],\"font\":{\"color\":\"#2a3f5f\"},\"hovermode\":\"closest\",\"hoverlabel\":{\"align\":\"left\"},\"paper_bgcolor\":\"white\",\"plot_bgcolor\":\"#E5ECF6\",\"polar\":{\"bgcolor\":\"#E5ECF6\",\"angularaxis\":{\"gridcolor\":\"white\",\"linecolor\":\"white\",\"ticks\":\"\"},\"radialaxis\":{\"gridcolor\":\"white\",\"linecolor\":\"white\",\"ticks\":\"\"}},\"ternary\":{\"bgcolor\":\"#E5ECF6\",\"aaxis\":{\"gridcolor\":\"white\",\"linecolor\":\"white\",\"ticks\":\"\"},\"baxis\":{\"gridcolor\":\"white\",\"linecolor\":\"white\",\"ticks\":\"\"},\"caxis\":{\"gridcolor\":\"white\",\"linecolor\":\"white\",\"ticks\":\"\"}},\"coloraxis\":{\"colorbar\":{\"outlinewidth\":0,\"ticks\":\"\"}},\"colorscale\":{\"sequential\":[[0.0,\"#0d0887\"],[0.1111111111111111,\"#46039f\"],[0.2222222222222222,\"#7201a8\"],[0.3333333333333333,\"#9c179e\"],[0.4444444444444444,\"#bd3786\"],[0.5555555555555556,\"#d8576b\"],[0.6666666666666666,\"#ed7953\"],[0.7777777777777778,\"#fb9f3a\"],[0.8888888888888888,\"#fdca26\"],[1.0,\"#f0f921\"]],\"sequentialminus\":[[0.0,\"#0d0887\"],[0.1111111111111111,\"#46039f\"],[0.2222222222222222,\"#7201a8\"],[0.3333333333333333,\"#9c179e\"],[0.4444444444444444,\"#bd3786\"],[0.5555555555555556,\"#d8576b\"],[0.6666666666666666,\"#ed7953\"],[0.7777777777777778,\"#fb9f3a\"],[0.8888888888888888,\"#fdca26\"],[1.0,\"#f0f921\"]],\"diverging\":[[0,\"#8e0152\"],[0.1,\"#c51b7d\"],[0.2,\"#de77ae\"],[0.3,\"#f1b6da\"],[0.4,\"#fde0ef\"],[0.5,\"#f7f7f7\"],[0.6,\"#e6f5d0\"],[0.7,\"#b8e186\"],[0.8,\"#7fbc41\"],[0.9,\"#4d9221\"],[1,\"#276419\"]]},\"xaxis\":{\"gridcolor\":\"white\",\"linecolor\":\"white\",\"ticks\":\"\",\"title\":{\"standoff\":15},\"zerolinecolor\":\"white\",\"automargin\":true,\"zerolinewidth\":2},\"yaxis\":{\"gridcolor\":\"white\",\"linecolor\":\"white\",\"ticks\":\"\",\"title\":{\"standoff\":15},\"zerolinecolor\":\"white\",\"automargin\":true,\"zerolinewidth\":2},\"scene\":{\"xaxis\":{\"backgroundcolor\":\"#E5ECF6\",\"gridcolor\":\"white\",\"linecolor\":\"white\",\"showbackground\":true,\"ticks\":\"\",\"zerolinecolor\":\"white\",\"gridwidth\":2},\"yaxis\":{\"backgroundcolor\":\"#E5ECF6\",\"gridcolor\":\"white\",\"linecolor\":\"white\",\"showbackground\":true,\"ticks\":\"\",\"zerolinecolor\":\"white\",\"gridwidth\":2},\"zaxis\":{\"backgroundcolor\":\"#E5ECF6\",\"gridcolor\":\"white\",\"linecolor\":\"white\",\"showbackground\":true,\"ticks\":\"\",\"zerolinecolor\":\"white\",\"gridwidth\":2}},\"shapedefaults\":{\"line\":{\"color\":\"#2a3f5f\"}},\"annotationdefaults\":{\"arrowcolor\":\"#2a3f5f\",\"arrowhead\":0,\"arrowwidth\":1},\"geo\":{\"bgcolor\":\"white\",\"landcolor\":\"#E5ECF6\",\"subunitcolor\":\"white\",\"showland\":true,\"showlakes\":true,\"lakecolor\":\"white\"},\"title\":{\"x\":0.05},\"mapbox\":{\"style\":\"light\"}}},\"xaxis\":{\"anchor\":\"y\",\"domain\":[0.0,1.0],\"title\":{\"text\":\"Artist\"}},\"yaxis\":{\"anchor\":\"x\",\"domain\":[0.0,1.0],\"title\":{\"text\":\"n_stems_en\"}},\"legend\":{\"tracegroupgap\":0},\"title\":{\"text\":\"Word count per song by artist\"},\"boxmode\":\"group\"},                        {\"responsive\": true}                    ).then(function(){\n",
       "                            \n",
       "var gd = document.getElementById('6b1f002d-0b18-4b50-8618-97f4ea1cc115');\n",
       "var x = new MutationObserver(function (mutations, observer) {{\n",
       "        var display = window.getComputedStyle(gd).display;\n",
       "        if (!display || display === 'none') {{\n",
       "            console.log([gd, 'removed!']);\n",
       "            Plotly.purge(gd);\n",
       "            observer.disconnect();\n",
       "        }}\n",
       "}});\n",
       "\n",
       "// Listen for the removal of the full notebook cells\n",
       "var notebookContainer = gd.closest('#notebook-container');\n",
       "if (notebookContainer) {{\n",
       "    x.observe(notebookContainer, {childList: true});\n",
       "}}\n",
       "\n",
       "// Listen for the clearing of the current output cell\n",
       "var outputEl = gd.closest('.output');\n",
       "if (outputEl) {{\n",
       "    x.observe(outputEl, {childList: true});\n",
       "}}\n",
       "\n",
       "                        })                };                            </script>        </div>\n",
       "</body>\n",
       "</html>"
      ]
     },
     "metadata": {},
     "output_type": "display_data"
    }
   ],
   "source": [
    "fig = px.box(df, x='Artist', y='n_stems_en', title='Word count per song by artist')\n",
    "fig.show()"
   ]
  },
  {
   "cell_type": "markdown",
   "metadata": {
    "id": "Twxi2kLuztNX"
   },
   "source": []
  },
  {
   "cell_type": "code",
   "execution_count": null,
   "metadata": {
    "id": "eAtq2Howyg55"
   },
   "outputs": [],
   "source": [
    "# number of unique stems\n",
    "df['n_unique_stems'] = df['stems'].map(lambda lst: len(set(lst)))\n",
    "# ratio of unique stems\n",
    "song_df['unique_stems_ratio'] = song_df['n_unique_stems'] / song_df['n_stems']\n",
    "\n",
    "# attach column to selected artists\n",
    "song_filter_df = song_filter_df.join(song_df['unique_stems_ratio'])"
   ]
  },
  {
   "cell_type": "markdown",
   "metadata": {
    "id": "cFIMWVoq1_E_"
   },
   "source": []
  },
  {
   "cell_type": "code",
   "execution_count": null,
   "metadata": {
    "id": "ai-Wumds16Uc"
   },
   "outputs": [],
   "source": []
  },
  {
   "cell_type": "code",
   "execution_count": null,
   "metadata": {
    "id": "_HiNyzcW16j-"
   },
   "outputs": [],
   "source": []
  },
  {
   "cell_type": "code",
   "execution_count": null,
   "metadata": {
    "id": "8KtYPOuR16qO"
   },
   "outputs": [],
   "source": []
  },
  {
   "cell_type": "code",
   "execution_count": null,
   "metadata": {
    "id": "yi8PlNQg16s4"
   },
   "outputs": [],
   "source": []
  },
  {
   "cell_type": "code",
   "execution_count": null,
   "metadata": {
    "id": "nC6E_5xP16u_"
   },
   "outputs": [],
   "source": []
  },
  {
   "cell_type": "code",
   "execution_count": null,
   "metadata": {
    "id": "BIKrl0Ra16xS"
   },
   "outputs": [],
   "source": []
  },
  {
   "cell_type": "code",
   "execution_count": null,
   "metadata": {
    "id": "sE4VHrBW160L"
   },
   "outputs": [],
   "source": []
  },
  {
   "cell_type": "code",
   "execution_count": null,
   "metadata": {
    "id": "t_uM8Ctx162Q"
   },
   "outputs": [],
   "source": []
  },
  {
   "cell_type": "code",
   "execution_count": null,
   "metadata": {
    "id": "_fZVAAF1165q"
   },
   "outputs": [],
   "source": []
  }
 ],
 "metadata": {
  "colab": {
   "provenance": []
  },
  "kernelspec": {
   "display_name": "Python 3 (ipykernel)",
   "language": "python",
   "name": "python3"
  },
  "language_info": {
   "codemirror_mode": {
    "name": "ipython",
    "version": 3
   },
   "file_extension": ".py",
   "mimetype": "text/x-python",
   "name": "python",
   "nbconvert_exporter": "python",
   "pygments_lexer": "ipython3",
   "version": "3.9.13"
  }
 },
 "nbformat": 4,
 "nbformat_minor": 1
}
