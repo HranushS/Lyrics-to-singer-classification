{
 "cells": [
  {
   "cell_type": "code",
   "execution_count": 35,
   "id": "92858459",
   "metadata": {},
   "outputs": [],
   "source": [
    "import pandas as pd\n",
    "from sklearn.preprocessing import LabelEncoder\n",
    "import nltk\n",
    "from nltk.corpus import stopwords\n",
    "from nltk.tokenize import word_tokenize\n",
    "import string\n",
    "from sklearn.model_selection import train_test_split, GridSearchCV\n",
    "from sklearn.feature_extraction.text import TfidfTransformer, CountVectorizer, TfidfVectorizer\n",
    "from sklearn.svm import LinearSVC\n",
    "import numpy as np\n",
    "from imblearn.over_sampling import SMOTE\n",
    "from sklearn.ensemble import RandomForestClassifier\n",
    "from sklearn.metrics import accuracy_score"
   ]
  },
  {
   "cell_type": "code",
   "execution_count": 2,
   "id": "fe521063",
   "metadata": {},
   "outputs": [],
   "source": [
    "df=pd.read_csv(\"translated.csv\")"
   ]
  },
  {
   "cell_type": "code",
   "execution_count": 3,
   "id": "baf7c8c5",
   "metadata": {},
   "outputs": [
    {
     "data": {
      "text/html": [
       "<div>\n",
       "<style scoped>\n",
       "    .dataframe tbody tr th:only-of-type {\n",
       "        vertical-align: middle;\n",
       "    }\n",
       "\n",
       "    .dataframe tbody tr th {\n",
       "        vertical-align: top;\n",
       "    }\n",
       "\n",
       "    .dataframe thead th {\n",
       "        text-align: right;\n",
       "    }\n",
       "</style>\n",
       "<table border=\"1\" class=\"dataframe\">\n",
       "  <thead>\n",
       "    <tr style=\"text-align: right;\">\n",
       "      <th></th>\n",
       "      <th>Artist</th>\n",
       "      <th>Song</th>\n",
       "      <th>Translated_Lyrics</th>\n",
       "    </tr>\n",
       "  </thead>\n",
       "  <tbody>\n",
       "    <tr>\n",
       "      <th>0</th>\n",
       "      <td>ԱՐԹՈՒՐ ՄԵՍՉՅԱՆ</td>\n",
       "      <td>ԱՀԱ ԵՎ ՎԵՐՋ</td>\n",
       "      <td>Here is an end\\n\\r\\nEnd of paragraphs and last...</td>\n",
       "    </tr>\n",
       "    <tr>\n",
       "      <th>1</th>\n",
       "      <td>ԱՐԹՈՒՐ ՄԵՍՉՅԱՆ</td>\n",
       "      <td>ԱՄԵՆԸ ՁԵԶ</td>\n",
       "      <td>Large-scale and wonderful temples\\n\\r\\nAnd the...</td>\n",
       "    </tr>\n",
       "    <tr>\n",
       "      <th>2</th>\n",
       "      <td>ԱՐԹՈՒՐ ՄԵՍՉՅԱՆ</td>\n",
       "      <td>ԱՆԱՌԱԿ ՈՐԴՈՒ ՎԵՐԱԴԱՐՁԸ</td>\n",
       "      <td>When like a prodigal son\\n\\r\\nBecome your own ...</td>\n",
       "    </tr>\n",
       "    <tr>\n",
       "      <th>3</th>\n",
       "      <td>ԱՐԹՈՒՐ ՄԵՍՉՅԱՆ</td>\n",
       "      <td>ԱՇԽԱՐՀԻ ՑԱՎՈՎ</td>\n",
       "      <td>My heart with Kariy's world pain\\n\\r\\nHow much...</td>\n",
       "    </tr>\n",
       "    <tr>\n",
       "      <th>4</th>\n",
       "      <td>ԱՐԹՈՒՐ ՄԵՍՉՅԱՆ</td>\n",
       "      <td>ԱՌԱՋ ԳԻՏԵԻ</td>\n",
       "      <td>I was known before\\n\\r\\nWhat people would be a...</td>\n",
       "    </tr>\n",
       "  </tbody>\n",
       "</table>\n",
       "</div>"
      ],
      "text/plain": [
       "           Artist                    Song  \\\n",
       "0  ԱՐԹՈՒՐ ՄԵՍՉՅԱՆ             ԱՀԱ ԵՎ ՎԵՐՋ   \n",
       "1  ԱՐԹՈՒՐ ՄԵՍՉՅԱՆ               ԱՄԵՆԸ ՁԵԶ   \n",
       "2  ԱՐԹՈՒՐ ՄԵՍՉՅԱՆ  ԱՆԱՌԱԿ ՈՐԴՈՒ ՎԵՐԱԴԱՐՁԸ   \n",
       "3  ԱՐԹՈՒՐ ՄԵՍՉՅԱՆ           ԱՇԽԱՐՀԻ ՑԱՎՈՎ   \n",
       "4  ԱՐԹՈՒՐ ՄԵՍՉՅԱՆ              ԱՌԱՋ ԳԻՏԵԻ   \n",
       "\n",
       "                                   Translated_Lyrics  \n",
       "0  Here is an end\\n\\r\\nEnd of paragraphs and last...  \n",
       "1  Large-scale and wonderful temples\\n\\r\\nAnd the...  \n",
       "2  When like a prodigal son\\n\\r\\nBecome your own ...  \n",
       "3  My heart with Kariy's world pain\\n\\r\\nHow much...  \n",
       "4  I was known before\\n\\r\\nWhat people would be a...  "
      ]
     },
     "execution_count": 3,
     "metadata": {},
     "output_type": "execute_result"
    }
   ],
   "source": [
    "df.head()"
   ]
  },
  {
   "cell_type": "code",
   "execution_count": 4,
   "id": "9e16020a",
   "metadata": {
    "scrolled": true
   },
   "outputs": [
    {
     "data": {
      "text/plain": [
       "ՌՈՒԲԵՆ ՀԱԽՎԵՐԴՅԱՆ     85\n",
       "ԿՈՄԻՏԱՍ               64\n",
       "ԱՐԹՈՒՐ ՄԵՍՉՅԱՆ        50\n",
       "Harout Pamboukjian    40\n",
       "Misho                 29\n",
       "Լիլիթ Հովհաննիսյան    27\n",
       "Սիրուշո               27\n",
       "Հայկ Հակոբյան         25\n",
       "Arsen Safaryan        24\n",
       "Razmik Amyan          23\n",
       "Silva Hakobyan        20\n",
       "Միհրան Ծառուկյան      19\n",
       "Aram MP3              18\n",
       "HT Hayko              16\n",
       "ՍԱՅԱԹ-ՆՈՎԱ            16\n",
       "Mi Qani Hogi          16\n",
       "Անդրե                 12\n",
       "Empyray               11\n",
       "Arame                 11\n",
       " Lav Eli              10\n",
       "Name: Artist, dtype: int64"
      ]
     },
     "execution_count": 4,
     "metadata": {},
     "output_type": "execute_result"
    }
   ],
   "source": [
    "df[\"Artist\"].value_counts()"
   ]
  },
  {
   "cell_type": "code",
   "execution_count": 5,
   "id": "e4086ad0",
   "metadata": {},
   "outputs": [],
   "source": [
    "df=df.dropna()"
   ]
  },
  {
   "cell_type": "code",
   "execution_count": 6,
   "id": "900ab24c",
   "metadata": {},
   "outputs": [
    {
     "data": {
      "text/plain": [
       "(506, 3)"
      ]
     },
     "execution_count": 6,
     "metadata": {},
     "output_type": "execute_result"
    }
   ],
   "source": [
    "df.shape"
   ]
  },
  {
   "cell_type": "code",
   "execution_count": 7,
   "id": "c5160341",
   "metadata": {},
   "outputs": [],
   "source": [
    "df['Translated_Lyrics'] = df['Translated_Lyrics'].astype(str)"
   ]
  },
  {
   "cell_type": "code",
   "execution_count": 8,
   "id": "4ce12575",
   "metadata": {},
   "outputs": [
    {
     "name": "stdout",
     "output_type": "stream",
     "text": [
      "Number of english songs: 502\n",
      "Number of non-english songs: 4\n"
     ]
    }
   ],
   "source": [
    "from langdetect import detect_langs\n",
    "\n",
    "def get_eng_prob(text):\n",
    "    detections = detect_langs(text)\n",
    "    for detection in detections:\n",
    "        if detection.lang == 'en':\n",
    "            return detection.prob\n",
    "    return 0\n",
    "\n",
    "df['en_prob'] = df['Translated_Lyrics'].map(get_eng_prob)\n",
    "\n",
    "print('Number of english songs: {}'.format(sum(df['en_prob'] >= 0.5)))\n",
    "print('Number of non-english songs: {}'.format(sum(df['en_prob'] < 0.5)))"
   ]
  },
  {
   "cell_type": "code",
   "execution_count": 9,
   "id": "74040a9c",
   "metadata": {},
   "outputs": [],
   "source": [
    "df = df.loc[df['en_prob'] >= 0.5]"
   ]
  },
  {
   "cell_type": "code",
   "execution_count": 10,
   "id": "b610393e",
   "metadata": {},
   "outputs": [
    {
     "name": "stdout",
     "output_type": "stream",
     "text": [
      "['Here', 'is', 'an', 'end', 'End', 'of', 'paragraphs', 'and', 'lasting', 'As', 'a', 'last', 'closed', 'page', 'And', 'no', 'return', 'already', 'Oh', 'native', 'bugs', 'You', 'my', 'last', 'Last', 'Prayer', 'Suburbs', 'of', 'prison', 'psyche', 'Chain', 'and', 'solo', 'Here', 'And', 'the', 'end', 'In', 'the', 'heart', 'of', 'a', 'powerless', 'cry', 'Oh', 'unfinished', 'my', 'song', 'You', 'my', 'last', 'capital', 'Now', 'we', 'believe', 'Where', 'is', 'the', 'Spirit', 's', 'Church', 'We', 'won', 'the', 'war', 'But', 'it', 'turns', 'out', 'that', 'we', 'lost', 'Here', 'And', 'the', 'end', 'Tell', 'me', 'a', 'voice', 'from', 'the', 'depth', 'Is', 'the', 'mask', 'of', 'the', 'mask', 'now', 'speaks', 'Which', 'puppet', 'is', 'the', 'crowd', 'The', 'song', 'is', 'the', 'arrow', 'of', 'freedom', 'And', 'the', 'spear', 'of', 'myth', 'Bel', 'Joschin', 'Hayk', 'won', 'Or', 'the', 'opposite', 'of', 'probably', 'And', 'the', 'pages', 'close', 'the', 'myth', 'tired', 'Stone', 'Statue', 'History', 'Forgotten', 'There', 'is', 'no', 'start', 'and', 'finish', 'for', 'this', 'eternal', 'struggle', 'Your', 'Type', 'of', 'Elimination', 'is', 'delivered', 'to', 'Bell', 'Here', 'And', 'the', 'end', 'Hayk', 'lost', 'to', 'Bell', 'Here', 'And', 'the', 'end', 'I', 'lost', 'in', 'a', 'terrible', 'battle', 'The', 'song', 'was', 'hit', 'by', 'my', 'unfinished', 'But', 'why', 'not', 'end', 'Oh', 'native', 'bugs', 'You', 'my', 'last', 'Last', 'Prayer', 'Printed', 'Hoku', 'suburbs', 'Chain', 'and', 'solo', 'Here', 'And', 'the', 'end', 'In', 'the', 'heart', 'of', 'a', 'powerless', 'cry', 'Oh', 'unfinished', 'my', 'song', 'You', 'my', 'last', 'capital', 'Now', 'we', 'believe', 'Where', 'is', 'the', 'Spirit', 's', 'Church', 'We', 'won', 'the', 'war', 'But', 'it', 'turns', 'out', 'that', 'we', 'lost', 'And', 'the', 'pages', 'close', 'the', 'myth', 'tired', 'Stone', 'Statue', 'History', 'Forgotten', 'There', 'is', 'no', 'start', 'and', 'finish', 'for', 'this', 'eternal', 'struggle', 'The', 'abolished', 'type', 'is', 'losing', 'Bell', 'Here', 'And', 'the', 'end', 'Hayk', 'lost', 'to', 'Bell']\n"
     ]
    }
   ],
   "source": [
    "tokenizer = nltk.tokenize.RegexpTokenizer(r'\\w+')\n",
    "df['tokens'] = df['Translated_Lyrics'].map(tokenizer.tokenize)\n",
    "\n",
    "print(df['tokens'].iloc[0])"
   ]
  },
  {
   "cell_type": "code",
   "execution_count": 11,
   "id": "7172f21b",
   "metadata": {},
   "outputs": [],
   "source": [
    "stemmer = nltk.stem.porter.PorterStemmer()"
   ]
  },
  {
   "cell_type": "code",
   "execution_count": 12,
   "id": "a1343758",
   "metadata": {
    "scrolled": true
   },
   "outputs": [
    {
     "name": "stdout",
     "output_type": "stream",
     "text": [
      "# of words: 89262\n",
      "# of unique words: 8805\n",
      "# of unique word roots: 5808\n"
     ]
    }
   ],
   "source": [
    "a= {}\n",
    "token_count = 0\n",
    "for lst in df['tokens']:\n",
    "    # iterate through all tokens of song\n",
    "    for token in lst:\n",
    "        token_count += 1\n",
    "        # check if token is in dictionary\n",
    "        if token not in a:\n",
    "            # add token to dictionary\n",
    "            a[token] = stemmer.stem(token)\n",
    "            \n",
    "df['Ergi Barer'] = df['tokens'].map(lambda lst: [a[token] for token in lst])\n",
    "\n",
    "print('# of words: {}'.format(token_count))\n",
    "print('# of unique words: {}'.format(len(a.keys())))\n",
    "print('# of unique word roots: {}'.format(len(set(a.values()))))"
   ]
  },
  {
   "cell_type": "code",
   "execution_count": 13,
   "id": "630202e1",
   "metadata": {},
   "outputs": [
    {
     "data": {
      "text/html": [
       "<div>\n",
       "<style scoped>\n",
       "    .dataframe tbody tr th:only-of-type {\n",
       "        vertical-align: middle;\n",
       "    }\n",
       "\n",
       "    .dataframe tbody tr th {\n",
       "        vertical-align: top;\n",
       "    }\n",
       "\n",
       "    .dataframe thead th {\n",
       "        text-align: right;\n",
       "    }\n",
       "</style>\n",
       "<table border=\"1\" class=\"dataframe\">\n",
       "  <thead>\n",
       "    <tr style=\"text-align: right;\">\n",
       "      <th></th>\n",
       "      <th>Artist</th>\n",
       "      <th>Song</th>\n",
       "      <th>Translated_Lyrics</th>\n",
       "      <th>en_prob</th>\n",
       "      <th>tokens</th>\n",
       "      <th>Ergi Barer</th>\n",
       "    </tr>\n",
       "  </thead>\n",
       "  <tbody>\n",
       "    <tr>\n",
       "      <th>0</th>\n",
       "      <td>ԱՐԹՈՒՐ ՄԵՍՉՅԱՆ</td>\n",
       "      <td>ԱՀԱ ԵՎ ՎԵՐՋ</td>\n",
       "      <td>Here is an end\\n\\r\\nEnd of paragraphs and last...</td>\n",
       "      <td>0.999996</td>\n",
       "      <td>[Here, is, an, end, End, of, paragraphs, and, ...</td>\n",
       "      <td>[here, is, an, end, end, of, paragraph, and, l...</td>\n",
       "    </tr>\n",
       "    <tr>\n",
       "      <th>1</th>\n",
       "      <td>ԱՐԹՈՒՐ ՄԵՍՉՅԱՆ</td>\n",
       "      <td>ԱՄԵՆԸ ՁԵԶ</td>\n",
       "      <td>Large-scale and wonderful temples\\n\\r\\nAnd the...</td>\n",
       "      <td>0.999998</td>\n",
       "      <td>[Large, scale, and, wonderful, temples, And, t...</td>\n",
       "      <td>[larg, scale, and, wonder, templ, and, the, pr...</td>\n",
       "    </tr>\n",
       "    <tr>\n",
       "      <th>2</th>\n",
       "      <td>ԱՐԹՈՒՐ ՄԵՍՉՅԱՆ</td>\n",
       "      <td>ԱՆԱՌԱԿ ՈՐԴՈՒ ՎԵՐԱԴԱՐՁԸ</td>\n",
       "      <td>When like a prodigal son\\n\\r\\nBecome your own ...</td>\n",
       "      <td>0.999997</td>\n",
       "      <td>[When, like, a, prodigal, son, Become, your, o...</td>\n",
       "      <td>[when, like, a, prodig, son, becom, your, own,...</td>\n",
       "    </tr>\n",
       "    <tr>\n",
       "      <th>3</th>\n",
       "      <td>ԱՐԹՈՒՐ ՄԵՍՉՅԱՆ</td>\n",
       "      <td>ԱՇԽԱՐՀԻ ՑԱՎՈՎ</td>\n",
       "      <td>My heart with Kariy's world pain\\n\\r\\nHow much...</td>\n",
       "      <td>0.999999</td>\n",
       "      <td>[My, heart, with, Kariy, s, world, pain, How, ...</td>\n",
       "      <td>[my, heart, with, kariy, s, world, pain, how, ...</td>\n",
       "    </tr>\n",
       "    <tr>\n",
       "      <th>4</th>\n",
       "      <td>ԱՐԹՈՒՐ ՄԵՍՉՅԱՆ</td>\n",
       "      <td>ԱՌԱՋ ԳԻՏԵԻ</td>\n",
       "      <td>I was known before\\n\\r\\nWhat people would be a...</td>\n",
       "      <td>0.999997</td>\n",
       "      <td>[I, was, known, before, What, people, would, b...</td>\n",
       "      <td>[i, wa, known, befor, what, peopl, would, be, ...</td>\n",
       "    </tr>\n",
       "    <tr>\n",
       "      <th>...</th>\n",
       "      <td>...</td>\n",
       "      <td>...</td>\n",
       "      <td>...</td>\n",
       "      <td>...</td>\n",
       "      <td>...</td>\n",
       "      <td>...</td>\n",
       "    </tr>\n",
       "    <tr>\n",
       "      <th>537</th>\n",
       "      <td>Mi Qani Hogi</td>\n",
       "      <td>Chanapar</td>\n",
       "      <td>Several people\\n\\n\\n\\n\\nWHAT WILL THIS WAY TO ...</td>\n",
       "      <td>0.999997</td>\n",
       "      <td>[Several, people, WHAT, WILL, THIS, WAY, TO, Y...</td>\n",
       "      <td>[sever, peopl, what, will, thi, way, to, you, ...</td>\n",
       "    </tr>\n",
       "    <tr>\n",
       "      <th>538</th>\n",
       "      <td>Mi Qani Hogi</td>\n",
       "      <td>Es Pahin</td>\n",
       "      <td>It seems to us seems to be\\n\\nThat one is watc...</td>\n",
       "      <td>0.999997</td>\n",
       "      <td>[It, seems, to, us, seems, to, be, That, one, ...</td>\n",
       "      <td>[it, seem, to, us, seem, to, be, that, one, is...</td>\n",
       "    </tr>\n",
       "    <tr>\n",
       "      <th>539</th>\n",
       "      <td>Mi Qani Hogi</td>\n",
       "      <td>Rhyme</td>\n",
       "      <td>Several people\\n\\nICF:\\n\\n\\n\\n\\nDid you find a...</td>\n",
       "      <td>0.999995</td>\n",
       "      <td>[Several, people, ICF, Did, you, find, a, wave...</td>\n",
       "      <td>[sever, peopl, icf, did, you, find, a, wave, o...</td>\n",
       "    </tr>\n",
       "    <tr>\n",
       "      <th>541</th>\n",
       "      <td>Mi Qani Hogi</td>\n",
       "      <td>Yes Qo Nmanei</td>\n",
       "      <td>one\\n\\nLike:\\n\\nOne one\\n\\n        \\n\\n     al...</td>\n",
       "      <td>0.999997</td>\n",
       "      <td>[one, Like, One, one, all, One, one, holiday, ...</td>\n",
       "      <td>[one, like, one, one, all, one, one, holiday, ...</td>\n",
       "    </tr>\n",
       "    <tr>\n",
       "      <th>542</th>\n",
       "      <td>Mi Qani Hogi</td>\n",
       "      <td>Lav Jamanak</td>\n",
       "      <td>Refresh you, you are lucky enough to be with y...</td>\n",
       "      <td>0.999997</td>\n",
       "      <td>[Refresh, you, you, are, lucky, enough, to, be...</td>\n",
       "      <td>[refresh, you, you, are, lucki, enough, to, be...</td>\n",
       "    </tr>\n",
       "  </tbody>\n",
       "</table>\n",
       "<p>502 rows × 6 columns</p>\n",
       "</div>"
      ],
      "text/plain": [
       "             Artist                    Song  \\\n",
       "0    ԱՐԹՈՒՐ ՄԵՍՉՅԱՆ             ԱՀԱ ԵՎ ՎԵՐՋ   \n",
       "1    ԱՐԹՈՒՐ ՄԵՍՉՅԱՆ               ԱՄԵՆԸ ՁԵԶ   \n",
       "2    ԱՐԹՈՒՐ ՄԵՍՉՅԱՆ  ԱՆԱՌԱԿ ՈՐԴՈՒ ՎԵՐԱԴԱՐՁԸ   \n",
       "3    ԱՐԹՈՒՐ ՄԵՍՉՅԱՆ           ԱՇԽԱՐՀԻ ՑԱՎՈՎ   \n",
       "4    ԱՐԹՈՒՐ ՄԵՍՉՅԱՆ              ԱՌԱՋ ԳԻՏԵԻ   \n",
       "..              ...                     ...   \n",
       "537    Mi Qani Hogi                Chanapar   \n",
       "538    Mi Qani Hogi                Es Pahin   \n",
       "539    Mi Qani Hogi                   Rhyme   \n",
       "541    Mi Qani Hogi           Yes Qo Nmanei   \n",
       "542    Mi Qani Hogi             Lav Jamanak   \n",
       "\n",
       "                                     Translated_Lyrics   en_prob  \\\n",
       "0    Here is an end\\n\\r\\nEnd of paragraphs and last...  0.999996   \n",
       "1    Large-scale and wonderful temples\\n\\r\\nAnd the...  0.999998   \n",
       "2    When like a prodigal son\\n\\r\\nBecome your own ...  0.999997   \n",
       "3    My heart with Kariy's world pain\\n\\r\\nHow much...  0.999999   \n",
       "4    I was known before\\n\\r\\nWhat people would be a...  0.999997   \n",
       "..                                                 ...       ...   \n",
       "537  Several people\\n\\n\\n\\n\\nWHAT WILL THIS WAY TO ...  0.999997   \n",
       "538  It seems to us seems to be\\n\\nThat one is watc...  0.999997   \n",
       "539  Several people\\n\\nICF:\\n\\n\\n\\n\\nDid you find a...  0.999995   \n",
       "541  one\\n\\nLike:\\n\\nOne one\\n\\n        \\n\\n     al...  0.999997   \n",
       "542  Refresh you, you are lucky enough to be with y...  0.999997   \n",
       "\n",
       "                                                tokens  \\\n",
       "0    [Here, is, an, end, End, of, paragraphs, and, ...   \n",
       "1    [Large, scale, and, wonderful, temples, And, t...   \n",
       "2    [When, like, a, prodigal, son, Become, your, o...   \n",
       "3    [My, heart, with, Kariy, s, world, pain, How, ...   \n",
       "4    [I, was, known, before, What, people, would, b...   \n",
       "..                                                 ...   \n",
       "537  [Several, people, WHAT, WILL, THIS, WAY, TO, Y...   \n",
       "538  [It, seems, to, us, seems, to, be, That, one, ...   \n",
       "539  [Several, people, ICF, Did, you, find, a, wave...   \n",
       "541  [one, Like, One, one, all, One, one, holiday, ...   \n",
       "542  [Refresh, you, you, are, lucky, enough, to, be...   \n",
       "\n",
       "                                            Ergi Barer  \n",
       "0    [here, is, an, end, end, of, paragraph, and, l...  \n",
       "1    [larg, scale, and, wonder, templ, and, the, pr...  \n",
       "2    [when, like, a, prodig, son, becom, your, own,...  \n",
       "3    [my, heart, with, kariy, s, world, pain, how, ...  \n",
       "4    [i, wa, known, befor, what, peopl, would, be, ...  \n",
       "..                                                 ...  \n",
       "537  [sever, peopl, what, will, thi, way, to, you, ...  \n",
       "538  [it, seem, to, us, seem, to, be, that, one, is...  \n",
       "539  [sever, peopl, icf, did, you, find, a, wave, o...  \n",
       "541  [one, like, one, one, all, one, one, holiday, ...  \n",
       "542  [refresh, you, you, are, lucki, enough, to, be...  \n",
       "\n",
       "[502 rows x 6 columns]"
      ]
     },
     "execution_count": 13,
     "metadata": {},
     "output_type": "execute_result"
    }
   ],
   "source": [
    "df"
   ]
  },
  {
   "cell_type": "code",
   "execution_count": 14,
   "id": "dacc2260",
   "metadata": {},
   "outputs": [],
   "source": [
    "Bararan = set(word for lyric in df['Ergi Barer'] for word in lyric)"
   ]
  },
  {
   "cell_type": "code",
   "execution_count": 15,
   "id": "39b63d8d",
   "metadata": {},
   "outputs": [],
   "source": [
    "df['Ergi Barer'] = df['Ergi Barer'].apply(lambda x: ' '.join(x))"
   ]
  },
  {
   "cell_type": "code",
   "execution_count": 16,
   "id": "2bbf1afe",
   "metadata": {},
   "outputs": [],
   "source": [
    "encoder = LabelEncoder()\n",
    "y = encoder.fit_transform(df['Artist'])"
   ]
  },
  {
   "cell_type": "code",
   "execution_count": 17,
   "id": "5cb83a64",
   "metadata": {},
   "outputs": [],
   "source": [
    "X_train, X_test, y_train, y_test = train_test_split(df['Ergi Barer'], y, test_size=0.2, random_state=42)"
   ]
  },
  {
   "cell_type": "code",
   "execution_count": 18,
   "id": "a90cc79c",
   "metadata": {},
   "outputs": [],
   "source": [
    "vectorizer = TfidfVectorizer(vocabulary=Bararan)\n",
    "X_train_tfidf = vectorizer.fit_transform(X_train)\n",
    "X_test_tfidf = vectorizer.transform(X_test)\n"
   ]
  },
  {
   "cell_type": "code",
   "execution_count": 19,
   "id": "59937c2c",
   "metadata": {},
   "outputs": [],
   "source": [
    "smote = SMOTE()\n",
    "X_train_smote, y_train_smote = smote.fit_resample(X_train_tfidf, y_train)\n"
   ]
  },
  {
   "cell_type": "code",
   "execution_count": 20,
   "id": "a11a7a9d",
   "metadata": {},
   "outputs": [],
   "source": [
    "clf = RandomForestClassifier()"
   ]
  },
  {
   "cell_type": "code",
   "execution_count": 28,
   "id": "717afe74",
   "metadata": {},
   "outputs": [],
   "source": [
    "param_grid = {\n",
    "    'n_estimators': [10, 30, 70, 100],\n",
    "    'max_depth': [None, 10, 30,70, 100, 150 ],\n",
    "}"
   ]
  },
  {
   "cell_type": "code",
   "execution_count": 29,
   "id": "bb15f18c",
   "metadata": {},
   "outputs": [],
   "source": [
    "grid_search = GridSearchCV(clf, param_grid=param_grid, cv=5, scoring='accuracy')"
   ]
  },
  {
   "cell_type": "code",
   "execution_count": 30,
   "id": "0eb13243",
   "metadata": {},
   "outputs": [
    {
     "data": {
      "text/html": [
       "<style>#sk-container-id-2 {color: black;background-color: white;}#sk-container-id-2 pre{padding: 0;}#sk-container-id-2 div.sk-toggleable {background-color: white;}#sk-container-id-2 label.sk-toggleable__label {cursor: pointer;display: block;width: 100%;margin-bottom: 0;padding: 0.3em;box-sizing: border-box;text-align: center;}#sk-container-id-2 label.sk-toggleable__label-arrow:before {content: \"▸\";float: left;margin-right: 0.25em;color: #696969;}#sk-container-id-2 label.sk-toggleable__label-arrow:hover:before {color: black;}#sk-container-id-2 div.sk-estimator:hover label.sk-toggleable__label-arrow:before {color: black;}#sk-container-id-2 div.sk-toggleable__content {max-height: 0;max-width: 0;overflow: hidden;text-align: left;background-color: #f0f8ff;}#sk-container-id-2 div.sk-toggleable__content pre {margin: 0.2em;color: black;border-radius: 0.25em;background-color: #f0f8ff;}#sk-container-id-2 input.sk-toggleable__control:checked~div.sk-toggleable__content {max-height: 200px;max-width: 100%;overflow: auto;}#sk-container-id-2 input.sk-toggleable__control:checked~label.sk-toggleable__label-arrow:before {content: \"▾\";}#sk-container-id-2 div.sk-estimator input.sk-toggleable__control:checked~label.sk-toggleable__label {background-color: #d4ebff;}#sk-container-id-2 div.sk-label input.sk-toggleable__control:checked~label.sk-toggleable__label {background-color: #d4ebff;}#sk-container-id-2 input.sk-hidden--visually {border: 0;clip: rect(1px 1px 1px 1px);clip: rect(1px, 1px, 1px, 1px);height: 1px;margin: -1px;overflow: hidden;padding: 0;position: absolute;width: 1px;}#sk-container-id-2 div.sk-estimator {font-family: monospace;background-color: #f0f8ff;border: 1px dotted black;border-radius: 0.25em;box-sizing: border-box;margin-bottom: 0.5em;}#sk-container-id-2 div.sk-estimator:hover {background-color: #d4ebff;}#sk-container-id-2 div.sk-parallel-item::after {content: \"\";width: 100%;border-bottom: 1px solid gray;flex-grow: 1;}#sk-container-id-2 div.sk-label:hover label.sk-toggleable__label {background-color: #d4ebff;}#sk-container-id-2 div.sk-serial::before {content: \"\";position: absolute;border-left: 1px solid gray;box-sizing: border-box;top: 0;bottom: 0;left: 50%;z-index: 0;}#sk-container-id-2 div.sk-serial {display: flex;flex-direction: column;align-items: center;background-color: white;padding-right: 0.2em;padding-left: 0.2em;position: relative;}#sk-container-id-2 div.sk-item {position: relative;z-index: 1;}#sk-container-id-2 div.sk-parallel {display: flex;align-items: stretch;justify-content: center;background-color: white;position: relative;}#sk-container-id-2 div.sk-item::before, #sk-container-id-2 div.sk-parallel-item::before {content: \"\";position: absolute;border-left: 1px solid gray;box-sizing: border-box;top: 0;bottom: 0;left: 50%;z-index: -1;}#sk-container-id-2 div.sk-parallel-item {display: flex;flex-direction: column;z-index: 1;position: relative;background-color: white;}#sk-container-id-2 div.sk-parallel-item:first-child::after {align-self: flex-end;width: 50%;}#sk-container-id-2 div.sk-parallel-item:last-child::after {align-self: flex-start;width: 50%;}#sk-container-id-2 div.sk-parallel-item:only-child::after {width: 0;}#sk-container-id-2 div.sk-dashed-wrapped {border: 1px dashed gray;margin: 0 0.4em 0.5em 0.4em;box-sizing: border-box;padding-bottom: 0.4em;background-color: white;}#sk-container-id-2 div.sk-label label {font-family: monospace;font-weight: bold;display: inline-block;line-height: 1.2em;}#sk-container-id-2 div.sk-label-container {text-align: center;}#sk-container-id-2 div.sk-container {/* jupyter's `normalize.less` sets `[hidden] { display: none; }` but bootstrap.min.css set `[hidden] { display: none !important; }` so we also need the `!important` here to be able to override the default hidden behavior on the sphinx rendered scikit-learn.org. See: https://github.com/scikit-learn/scikit-learn/issues/21755 */display: inline-block !important;position: relative;}#sk-container-id-2 div.sk-text-repr-fallback {display: none;}</style><div id=\"sk-container-id-2\" class=\"sk-top-container\"><div class=\"sk-text-repr-fallback\"><pre>GridSearchCV(cv=5, estimator=RandomForestClassifier(),\n",
       "             param_grid={&#x27;max_depth&#x27;: [None, 10, 30, 70, 100, 150, 200],\n",
       "                         &#x27;n_estimators&#x27;: [10, 30, 70, 100]},\n",
       "             scoring=&#x27;accuracy&#x27;)</pre><b>In a Jupyter environment, please rerun this cell to show the HTML representation or trust the notebook. <br />On GitHub, the HTML representation is unable to render, please try loading this page with nbviewer.org.</b></div><div class=\"sk-container\" hidden><div class=\"sk-item sk-dashed-wrapped\"><div class=\"sk-label-container\"><div class=\"sk-label sk-toggleable\"><input class=\"sk-toggleable__control sk-hidden--visually\" id=\"sk-estimator-id-4\" type=\"checkbox\" ><label for=\"sk-estimator-id-4\" class=\"sk-toggleable__label sk-toggleable__label-arrow\">GridSearchCV</label><div class=\"sk-toggleable__content\"><pre>GridSearchCV(cv=5, estimator=RandomForestClassifier(),\n",
       "             param_grid={&#x27;max_depth&#x27;: [None, 10, 30, 70, 100, 150, 200],\n",
       "                         &#x27;n_estimators&#x27;: [10, 30, 70, 100]},\n",
       "             scoring=&#x27;accuracy&#x27;)</pre></div></div></div><div class=\"sk-parallel\"><div class=\"sk-parallel-item\"><div class=\"sk-item\"><div class=\"sk-label-container\"><div class=\"sk-label sk-toggleable\"><input class=\"sk-toggleable__control sk-hidden--visually\" id=\"sk-estimator-id-5\" type=\"checkbox\" ><label for=\"sk-estimator-id-5\" class=\"sk-toggleable__label sk-toggleable__label-arrow\">estimator: RandomForestClassifier</label><div class=\"sk-toggleable__content\"><pre>RandomForestClassifier()</pre></div></div></div><div class=\"sk-serial\"><div class=\"sk-item\"><div class=\"sk-estimator sk-toggleable\"><input class=\"sk-toggleable__control sk-hidden--visually\" id=\"sk-estimator-id-6\" type=\"checkbox\" ><label for=\"sk-estimator-id-6\" class=\"sk-toggleable__label sk-toggleable__label-arrow\">RandomForestClassifier</label><div class=\"sk-toggleable__content\"><pre>RandomForestClassifier()</pre></div></div></div></div></div></div></div></div></div></div>"
      ],
      "text/plain": [
       "GridSearchCV(cv=5, estimator=RandomForestClassifier(),\n",
       "             param_grid={'max_depth': [None, 10, 30, 70, 100, 150, 200],\n",
       "                         'n_estimators': [10, 30, 70, 100]},\n",
       "             scoring='accuracy')"
      ]
     },
     "execution_count": 30,
     "metadata": {},
     "output_type": "execute_result"
    }
   ],
   "source": [
    "grid_search.fit(X_train_smote, y_train_smote)"
   ]
  },
  {
   "cell_type": "code",
   "execution_count": 24,
   "id": "10a25873",
   "metadata": {},
   "outputs": [],
   "source": [
    "y_pred = grid_search.predict(X_test_tfidf)"
   ]
  },
  {
   "cell_type": "code",
   "execution_count": 31,
   "id": "384742b6",
   "metadata": {},
   "outputs": [
    {
     "name": "stdout",
     "output_type": "stream",
     "text": [
      "Best parameters:  {'max_depth': 70, 'n_estimators': 100}\n"
     ]
    }
   ],
   "source": [
    "print(\"Best parameters: \", grid_search.best_params_)"
   ]
  },
  {
   "cell_type": "code",
   "execution_count": 37,
   "id": "2199a499",
   "metadata": {},
   "outputs": [
    {
     "name": "stdout",
     "output_type": "stream",
     "text": [
      "Accuracy: 39.603960396039604%\n"
     ]
    }
   ],
   "source": [
    "accuracy = accuracy_score(y_test, y_pred)\n",
    "print(f'Accuracy: {accuracy * 100}%')"
   ]
  },
  {
   "cell_type": "code",
   "execution_count": 38,
   "id": "5b15d8e3",
   "metadata": {
    "scrolled": true
   },
   "outputs": [
    {
     "data": {
      "image/png": "[encoded data removed]",
      "text/plain": [
       "<Figure size 720x720 with 2 Axes>"
      ]
     },
     "metadata": {
      "needs_background": "light"
     },
     "output_type": "display_data"
    }
   ],
   "source": [
    "from sklearn.metrics import confusion_matrix\n",
    "import seaborn as sns\n",
    "import matplotlib.pyplot as plt\n",
    "\n",
    "\n",
    "\n",
    "y_test_artist = encoder.inverse_transform(y_test)\n",
    "y_pred_artist = encoder.inverse_transform(y_pred)\n",
    "\n",
    "\n",
    "conf_matrix = confusion_matrix(y_test_artist, y_pred_artist)\n",
    "plt.figure(figsize=(10,10))\n",
    "sns.heatmap(conf_matrix, annot=True, fmt=\"d\",\n",
    "            xticklabels=encoder.classes_, \n",
    "            yticklabels=encoder.classes_)\n",
    "plt.ylabel(\"Actual\")\n",
    "plt.xlabel(\"Predicted\")\n",
    "plt.title(\" DIAGONALS  show the correctly classified Artists with RandomForrestClassifier\")\n",
    "plt.show()"
   ]
  },
  {
   "cell_type": "code",
   "execution_count": null,
   "id": "b2a046d0",
   "metadata": {},
   "outputs": [],
   "source": [
    "\n"
   ]
  }
 ],
 "metadata": {
  "kernelspec": {
   "display_name": "Python 3 (ipykernel)",
   "language": "python",
   "name": "python3"
  },
  "language_info": {
   "codemirror_mode": {
    "name": "ipython",
    "version": 3
   },
   "file_extension": ".py",
   "mimetype": "text/x-python",
   "name": "python",
   "nbconvert_exporter": "python",
   "pygments_lexer": "ipython3",
   "version": "3.9.12"
  }
 },
 "nbformat": 4,
 "nbformat_minor": 5
}
