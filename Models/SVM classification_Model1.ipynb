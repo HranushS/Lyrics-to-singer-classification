{
 "cells": [
  {
   "cell_type": "code",
   "execution_count": 1,
   "id": "92858459",
   "metadata": {},
   "outputs": [],
   "source": [
    "import pandas as pd\n",
    "from sklearn.preprocessing import LabelEncoder\n",
    "from sklearn.metrics import f1_score\n",
    "import nltk\n",
    "from nltk.corpus import stopwords\n",
    "from nltk.tokenize import word_tokenize\n",
    "import string\n",
    "from sklearn.model_selection import train_test_split\n",
    "from sklearn.feature_extraction.text import TfidfTransformer, CountVectorizer, TfidfVectorizer\n",
    "from sklearn.svm import LinearSVC\n",
    "import numpy as np\n",
    "from sklearn.metrics import confusion_matrix\n",
    "import seaborn as sns\n",
    "import matplotlib.pyplot as plt\n"
   ]
  },
  {
   "cell_type": "code",
   "execution_count": 2,
   "id": "0a723a4a",
   "metadata": {},
   "outputs": [
    {
     "name": "stderr",
     "output_type": "stream",
     "text": [
      "[nltk_data] Downloading package stopwords to /Users/arm/nltk_data...\n",
      "[nltk_data]   Package stopwords is already up-to-date!\n"
     ]
    }
   ],
   "source": [
    "import sys\n",
    "sys.path.append('../Data preprocessing')  # Add the folder to the Python module search path\n",
    "import simple_feature_engineering as sf"
   ]
  },
  {
   "cell_type": "code",
   "execution_count": 3,
   "id": "fe521063",
   "metadata": {},
   "outputs": [],
   "source": [
    "df=pd.read_csv(\"../Datasets/translated.csv\")"
   ]
  },
  {
   "cell_type": "code",
   "execution_count": 4,
   "id": "5402914a",
   "metadata": {},
   "outputs": [
    {
     "data": {
      "text/html": [
       "<div>\n",
       "<style scoped>\n",
       "    .dataframe tbody tr th:only-of-type {\n",
       "        vertical-align: middle;\n",
       "    }\n",
       "\n",
       "    .dataframe tbody tr th {\n",
       "        vertical-align: top;\n",
       "    }\n",
       "\n",
       "    .dataframe thead th {\n",
       "        text-align: right;\n",
       "    }\n",
       "</style>\n",
       "<table border=\"1\" class=\"dataframe\">\n",
       "  <thead>\n",
       "    <tr style=\"text-align: right;\">\n",
       "      <th></th>\n",
       "      <th>Artist</th>\n",
       "      <th>Song</th>\n",
       "      <th>Translated_Lyrics</th>\n",
       "    </tr>\n",
       "  </thead>\n",
       "  <tbody>\n",
       "    <tr>\n",
       "      <th>0</th>\n",
       "      <td>ԱՐԹՈՒՐ ՄԵՍՉՅԱՆ</td>\n",
       "      <td>ԱՀԱ ԵՎ ՎԵՐՋ</td>\n",
       "      <td>Here is an end\\n\\nEnd of paragraphs and lastin...</td>\n",
       "    </tr>\n",
       "    <tr>\n",
       "      <th>1</th>\n",
       "      <td>ԱՐԹՈՒՐ ՄԵՍՉՅԱՆ</td>\n",
       "      <td>ԱՄԵՆԸ ՁԵԶ</td>\n",
       "      <td>Large-scale and wonderful temples\\n\\nAnd the p...</td>\n",
       "    </tr>\n",
       "    <tr>\n",
       "      <th>2</th>\n",
       "      <td>ԱՐԹՈՒՐ ՄԵՍՉՅԱՆ</td>\n",
       "      <td>ԱՆԱՌԱԿ ՈՐԴՈՒ ՎԵՐԱԴԱՐՁԸ</td>\n",
       "      <td>When like a prodigal son\\n\\nBecome your own ci...</td>\n",
       "    </tr>\n",
       "    <tr>\n",
       "      <th>3</th>\n",
       "      <td>ԱՐԹՈՒՐ ՄԵՍՉՅԱՆ</td>\n",
       "      <td>ԱՇԽԱՐՀԻ ՑԱՎՈՎ</td>\n",
       "      <td>My heart with Kariy's world pain\\n\\nHow much s...</td>\n",
       "    </tr>\n",
       "    <tr>\n",
       "      <th>4</th>\n",
       "      <td>ԱՐԹՈՒՐ ՄԵՍՉՅԱՆ</td>\n",
       "      <td>ԱՌԱՋ ԳԻՏԵԻ</td>\n",
       "      <td>I was known before\\n\\nWhat people would be a w...</td>\n",
       "    </tr>\n",
       "  </tbody>\n",
       "</table>\n",
       "</div>"
      ],
      "text/plain": [
       "           Artist                    Song  \\\n",
       "0  ԱՐԹՈՒՐ ՄԵՍՉՅԱՆ             ԱՀԱ ԵՎ ՎԵՐՋ   \n",
       "1  ԱՐԹՈՒՐ ՄԵՍՉՅԱՆ               ԱՄԵՆԸ ՁԵԶ   \n",
       "2  ԱՐԹՈՒՐ ՄԵՍՉՅԱՆ  ԱՆԱՌԱԿ ՈՐԴՈՒ ՎԵՐԱԴԱՐՁԸ   \n",
       "3  ԱՐԹՈՒՐ ՄԵՍՉՅԱՆ           ԱՇԽԱՐՀԻ ՑԱՎՈՎ   \n",
       "4  ԱՐԹՈՒՐ ՄԵՍՉՅԱՆ              ԱՌԱՋ ԳԻՏԵԻ   \n",
       "\n",
       "                                   Translated_Lyrics  \n",
       "0  Here is an end\\n\\nEnd of paragraphs and lastin...  \n",
       "1  Large-scale and wonderful temples\\n\\nAnd the p...  \n",
       "2  When like a prodigal son\\n\\nBecome your own ci...  \n",
       "3  My heart with Kariy's world pain\\n\\nHow much s...  \n",
       "4  I was known before\\n\\nWhat people would be a w...  "
      ]
     },
     "execution_count": 4,
     "metadata": {},
     "output_type": "execute_result"
    }
   ],
   "source": [
    "df.head()"
   ]
  },
  {
   "cell_type": "code",
   "execution_count": 5,
   "id": "9e16020a",
   "metadata": {
    "scrolled": true
   },
   "outputs": [
    {
     "data": {
      "text/plain": [
       "ՌՈՒԲԵՆ ՀԱԽՎԵՐԴՅԱՆ     85\n",
       "ԿՈՄԻՏԱՍ               64\n",
       "ԱՐԹՈՒՐ ՄԵՍՉՅԱՆ        50\n",
       "Harout Pamboukjian    40\n",
       "Misho                 29\n",
       "Լիլիթ Հովհաննիսյան    27\n",
       "Սիրուշո               27\n",
       "Հայկ Հակոբյան         25\n",
       "Arsen Safaryan        24\n",
       "Razmik Amyan          23\n",
       "Silva Hakobyan        20\n",
       "Միհրան Ծառուկյան      19\n",
       "Aram MP3              18\n",
       "HT Hayko              16\n",
       "ՍԱՅԱԹ-ՆՈՎԱ            16\n",
       "Mi Qani Hogi          16\n",
       "Անդրե                 12\n",
       "Empyray               11\n",
       "Arame                 11\n",
       " Lav Eli              10\n",
       "Name: Artist, dtype: int64"
      ]
     },
     "execution_count": 5,
     "metadata": {},
     "output_type": "execute_result"
    }
   ],
   "source": [
    "df[\"Artist\"].value_counts()"
   ]
  },
  {
   "cell_type": "code",
   "execution_count": 6,
   "id": "93166759",
   "metadata": {},
   "outputs": [],
   "source": [
    "df=df.dropna()"
   ]
  },
  {
   "cell_type": "code",
   "execution_count": 7,
   "id": "4ebe88b4",
   "metadata": {},
   "outputs": [
    {
     "data": {
      "text/plain": [
       "(506, 3)"
      ]
     },
     "execution_count": 7,
     "metadata": {},
     "output_type": "execute_result"
    }
   ],
   "source": [
    "df.shape"
   ]
  },
  {
   "cell_type": "code",
   "execution_count": 8,
   "id": "49418bd7",
   "metadata": {},
   "outputs": [
    {
     "data": {
      "text/plain": [
       "ՌՈՒԲԵՆ ՀԱԽՎԵՐԴՅԱՆ     81\n",
       "ԿՈՄԻՏԱՍ               62\n",
       "ԱՐԹՈՒՐ ՄԵՍՉՅԱՆ        50\n",
       "Harout Pamboukjian    32\n",
       "Misho                 26\n",
       "Սիրուշո               25\n",
       "Լիլիթ Հովհաննիսյան    24\n",
       "Հայկ Հակոբյան         23\n",
       "Arsen Safaryan        23\n",
       "Silva Hakobyan        20\n",
       "Միհրան Ծառուկյան      18\n",
       "Razmik Amyan          18\n",
       "Aram MP3              17\n",
       "HT Hayko              16\n",
       "ՍԱՅԱԹ-ՆՈՎԱ            16\n",
       "Mi Qani Hogi          15\n",
       "Անդրե                 12\n",
       "Empyray               10\n",
       " Lav Eli               9\n",
       "Arame                  9\n",
       "Name: Artist, dtype: int64"
      ]
     },
     "execution_count": 8,
     "metadata": {},
     "output_type": "execute_result"
    }
   ],
   "source": [
    "df[\"Artist\"].value_counts()"
   ]
  },
  {
   "cell_type": "code",
   "execution_count": 9,
   "id": "c5160341",
   "metadata": {},
   "outputs": [],
   "source": [
    "df['Translated_Lyrics'] = df['Translated_Lyrics'].astype(str)"
   ]
  },
  {
   "cell_type": "code",
   "execution_count": 10,
   "id": "eea4393f",
   "metadata": {},
   "outputs": [
    {
     "name": "stdout",
     "output_type": "stream",
     "text": [
      "Number of english songs: 503\n",
      "Number of non-english songs: 3\n"
     ]
    }
   ],
   "source": [
    "from langdetect import detect_langs\n",
    "\n",
    "def get_eng_prob(text):\n",
    "    detections = detect_langs(text)\n",
    "    for detection in detections:\n",
    "        if detection.lang == 'en':\n",
    "            return detection.prob\n",
    "    return 0\n",
    "\n",
    "df['en_prob'] = df['Translated_Lyrics'].map(get_eng_prob)\n",
    "\n",
    "print('Number of english songs: {}'.format(sum(df['en_prob'] >= 0.5)))\n",
    "print('Number of non-english songs: {}'.format(sum(df['en_prob'] < 0.5)))"
   ]
  },
  {
   "cell_type": "code",
   "execution_count": 11,
   "id": "902355f5",
   "metadata": {},
   "outputs": [],
   "source": [
    "df = df.loc[df['en_prob'] >= 0.5]"
   ]
  },
  {
   "cell_type": "code",
   "execution_count": 12,
   "id": "85f83814",
   "metadata": {},
   "outputs": [],
   "source": [
    "df = sf.tokenize_column(df,'Translated_Lyrics','en')"
   ]
  },
  {
   "cell_type": "code",
   "execution_count": 13,
   "id": "7bbf3cbf",
   "metadata": {},
   "outputs": [
    {
     "name": "stdout",
     "output_type": "stream",
     "text": [
      "['Here', 'is', 'an', 'end', 'End', 'of', 'paragraphs', 'and', 'lasting', 'As', 'a', 'last', 'closed', 'page', 'And', 'no', 'return', 'already', 'Oh', 'native', 'bugs', 'You', 'my', 'last', 'Last', 'Prayer', 'Suburbs', 'of', 'prison', 'psyche', 'Chain', 'and', 'solo', 'Here', 'And', 'the', 'end', 'In', 'the', 'heart', 'of', 'a', 'powerless', 'cry', 'Oh', 'unfinished', 'my', 'song', 'You', 'my', 'last', 'capital', 'Now', 'we', 'believe', 'Where', 'is', 'the', 'Spirit', 's', 'Church', 'We', 'won', 'the', 'war', 'But', 'it', 'turns', 'out', 'that', 'we', 'lost', 'Here', 'And', 'the', 'end', 'Tell', 'me', 'a', 'voice', 'from', 'the', 'depth', 'Is', 'the', 'mask', 'of', 'the', 'mask', 'now', 'speaks', 'Which', 'puppet', 'is', 'the', 'crowd', 'The', 'song', 'is', 'the', 'arrow', 'of', 'freedom', 'And', 'the', 'spear', 'of', 'myth', 'Bel', 'Joschin', 'Hayk', 'won', 'Or', 'the', 'opposite', 'of', 'probably', 'And', 'the', 'pages', 'close', 'the', 'myth', 'tired', 'Stone', 'Statue', 'History', 'Forgotten', 'There', 'is', 'no', 'start', 'and', 'finish', 'for', 'this', 'eternal', 'struggle', 'Your', 'Type', 'of', 'Elimination', 'is', 'delivered', 'to', 'Bell', 'Here', 'And', 'the', 'end', 'Hayk', 'lost', 'to', 'Bell', 'Here', 'And', 'the', 'end', 'I', 'lost', 'in', 'a', 'terrible', 'battle', 'The', 'song', 'was', 'hit', 'by', 'my', 'unfinished', 'But', 'why', 'not', 'end', 'Oh', 'native', 'bugs', 'You', 'my', 'last', 'Last', 'Prayer', 'Printed', 'Hoku', 'suburbs', 'Chain', 'and', 'solo', 'Here', 'And', 'the', 'end', 'In', 'the', 'heart', 'of', 'a', 'powerless', 'cry', 'Oh', 'unfinished', 'my', 'song', 'You', 'my', 'last', 'capital', 'Now', 'we', 'believe', 'Where', 'is', 'the', 'Spirit', 's', 'Church', 'We', 'won', 'the', 'war', 'But', 'it', 'turns', 'out', 'that', 'we', 'lost', 'And', 'the', 'pages', 'close', 'the', 'myth', 'tired', 'Stone', 'Statue', 'History', 'Forgotten', 'There', 'is', 'no', 'start', 'and', 'finish', 'for', 'this', 'eternal', 'struggle', 'The', 'abolished', 'type', 'is', 'losing', 'Bell', 'Here', 'And', 'the', 'end', 'Hayk', 'lost', 'to', 'Bell']\n"
     ]
    }
   ],
   "source": [
    "print(df['tokens_en'].iloc[0])"
   ]
  },
  {
   "cell_type": "code",
   "execution_count": 14,
   "id": "1178facf",
   "metadata": {},
   "outputs": [
    {
     "data": {
      "text/html": [
       "<div>\n",
       "<style scoped>\n",
       "    .dataframe tbody tr th:only-of-type {\n",
       "        vertical-align: middle;\n",
       "    }\n",
       "\n",
       "    .dataframe tbody tr th {\n",
       "        vertical-align: top;\n",
       "    }\n",
       "\n",
       "    .dataframe thead th {\n",
       "        text-align: right;\n",
       "    }\n",
       "</style>\n",
       "<table border=\"1\" class=\"dataframe\">\n",
       "  <thead>\n",
       "    <tr style=\"text-align: right;\">\n",
       "      <th></th>\n",
       "      <th>Artist</th>\n",
       "      <th>Song</th>\n",
       "      <th>Translated_Lyrics</th>\n",
       "      <th>en_prob</th>\n",
       "      <th>tokens_en</th>\n",
       "    </tr>\n",
       "  </thead>\n",
       "  <tbody>\n",
       "    <tr>\n",
       "      <th>0</th>\n",
       "      <td>ԱՐԹՈՒՐ ՄԵՍՉՅԱՆ</td>\n",
       "      <td>ԱՀԱ ԵՎ ՎԵՐՋ</td>\n",
       "      <td>Here is an end\\n\\nEnd of paragraphs and lastin...</td>\n",
       "      <td>0.999999</td>\n",
       "      <td>[here, is, an, end, end, of, paragraphs, and, ...</td>\n",
       "    </tr>\n",
       "    <tr>\n",
       "      <th>1</th>\n",
       "      <td>ԱՐԹՈՒՐ ՄԵՍՉՅԱՆ</td>\n",
       "      <td>ԱՄԵՆԸ ՁԵԶ</td>\n",
       "      <td>Large-scale and wonderful temples\\n\\nAnd the p...</td>\n",
       "      <td>1.000000</td>\n",
       "      <td>[large, scale, and, wonderful, temples, and, t...</td>\n",
       "    </tr>\n",
       "    <tr>\n",
       "      <th>2</th>\n",
       "      <td>ԱՐԹՈՒՐ ՄԵՍՉՅԱՆ</td>\n",
       "      <td>ԱՆԱՌԱԿ ՈՐԴՈՒ ՎԵՐԱԴԱՐՁԸ</td>\n",
       "      <td>When like a prodigal son\\n\\nBecome your own ci...</td>\n",
       "      <td>0.999998</td>\n",
       "      <td>[when, like, a, prodigal, son, become, your, o...</td>\n",
       "    </tr>\n",
       "    <tr>\n",
       "      <th>3</th>\n",
       "      <td>ԱՐԹՈՒՐ ՄԵՍՉՅԱՆ</td>\n",
       "      <td>ԱՇԽԱՐՀԻ ՑԱՎՈՎ</td>\n",
       "      <td>My heart with Kariy's world pain\\n\\nHow much s...</td>\n",
       "      <td>0.999996</td>\n",
       "      <td>[my, heart, with, kariy, s, world, pain, how, ...</td>\n",
       "    </tr>\n",
       "    <tr>\n",
       "      <th>4</th>\n",
       "      <td>ԱՐԹՈՒՐ ՄԵՍՉՅԱՆ</td>\n",
       "      <td>ԱՌԱՋ ԳԻՏԵԻ</td>\n",
       "      <td>I was known before\\n\\nWhat people would be a w...</td>\n",
       "      <td>0.999996</td>\n",
       "      <td>[i, was, known, before, what, people, would, b...</td>\n",
       "    </tr>\n",
       "    <tr>\n",
       "      <th>...</th>\n",
       "      <td>...</td>\n",
       "      <td>...</td>\n",
       "      <td>...</td>\n",
       "      <td>...</td>\n",
       "      <td>...</td>\n",
       "    </tr>\n",
       "    <tr>\n",
       "      <th>537</th>\n",
       "      <td>Mi Qani Hogi</td>\n",
       "      <td>Chanapar</td>\n",
       "      <td>Several people\\n\\n\\n\\n\\nWHAT WILL THIS WAY TO ...</td>\n",
       "      <td>0.999998</td>\n",
       "      <td>[several, people, what, will, this, way, to, y...</td>\n",
       "    </tr>\n",
       "    <tr>\n",
       "      <th>538</th>\n",
       "      <td>Mi Qani Hogi</td>\n",
       "      <td>Es Pahin</td>\n",
       "      <td>It seems to us seems to be\\n\\nThat one is watc...</td>\n",
       "      <td>0.999999</td>\n",
       "      <td>[it, seems, to, us, seems, to, be, that, one, ...</td>\n",
       "    </tr>\n",
       "    <tr>\n",
       "      <th>539</th>\n",
       "      <td>Mi Qani Hogi</td>\n",
       "      <td>Rhyme</td>\n",
       "      <td>Several people\\n\\nICF:\\n\\n\\n\\n\\nDid you find a...</td>\n",
       "      <td>0.999998</td>\n",
       "      <td>[several, people, icf, did, you, find, a, wave...</td>\n",
       "    </tr>\n",
       "    <tr>\n",
       "      <th>541</th>\n",
       "      <td>Mi Qani Hogi</td>\n",
       "      <td>Yes Qo Nmanei</td>\n",
       "      <td>one\\n\\nLike:\\n\\nOne one\\n\\n        \\n\\n     al...</td>\n",
       "      <td>0.999996</td>\n",
       "      <td>[one, like, one, one, all, one, one, holiday, ...</td>\n",
       "    </tr>\n",
       "    <tr>\n",
       "      <th>542</th>\n",
       "      <td>Mi Qani Hogi</td>\n",
       "      <td>Lav Jamanak</td>\n",
       "      <td>Refresh you, you are lucky enough to be with y...</td>\n",
       "      <td>0.999999</td>\n",
       "      <td>[refresh, you, you, are, lucky, enough, to, be...</td>\n",
       "    </tr>\n",
       "  </tbody>\n",
       "</table>\n",
       "<p>503 rows × 5 columns</p>\n",
       "</div>"
      ],
      "text/plain": [
       "             Artist                    Song  \\\n",
       "0    ԱՐԹՈՒՐ ՄԵՍՉՅԱՆ             ԱՀԱ ԵՎ ՎԵՐՋ   \n",
       "1    ԱՐԹՈՒՐ ՄԵՍՉՅԱՆ               ԱՄԵՆԸ ՁԵԶ   \n",
       "2    ԱՐԹՈՒՐ ՄԵՍՉՅԱՆ  ԱՆԱՌԱԿ ՈՐԴՈՒ ՎԵՐԱԴԱՐՁԸ   \n",
       "3    ԱՐԹՈՒՐ ՄԵՍՉՅԱՆ           ԱՇԽԱՐՀԻ ՑԱՎՈՎ   \n",
       "4    ԱՐԹՈՒՐ ՄԵՍՉՅԱՆ              ԱՌԱՋ ԳԻՏԵԻ   \n",
       "..              ...                     ...   \n",
       "537    Mi Qani Hogi                Chanapar   \n",
       "538    Mi Qani Hogi                Es Pahin   \n",
       "539    Mi Qani Hogi                   Rhyme   \n",
       "541    Mi Qani Hogi           Yes Qo Nmanei   \n",
       "542    Mi Qani Hogi             Lav Jamanak   \n",
       "\n",
       "                                     Translated_Lyrics   en_prob  \\\n",
       "0    Here is an end\\n\\nEnd of paragraphs and lastin...  0.999999   \n",
       "1    Large-scale and wonderful temples\\n\\nAnd the p...  1.000000   \n",
       "2    When like a prodigal son\\n\\nBecome your own ci...  0.999998   \n",
       "3    My heart with Kariy's world pain\\n\\nHow much s...  0.999996   \n",
       "4    I was known before\\n\\nWhat people would be a w...  0.999996   \n",
       "..                                                 ...       ...   \n",
       "537  Several people\\n\\n\\n\\n\\nWHAT WILL THIS WAY TO ...  0.999998   \n",
       "538  It seems to us seems to be\\n\\nThat one is watc...  0.999999   \n",
       "539  Several people\\n\\nICF:\\n\\n\\n\\n\\nDid you find a...  0.999998   \n",
       "541  one\\n\\nLike:\\n\\nOne one\\n\\n        \\n\\n     al...  0.999996   \n",
       "542  Refresh you, you are lucky enough to be with y...  0.999999   \n",
       "\n",
       "                                             tokens_en  \n",
       "0    [here, is, an, end, end, of, paragraphs, and, ...  \n",
       "1    [large, scale, and, wonderful, temples, and, t...  \n",
       "2    [when, like, a, prodigal, son, become, your, o...  \n",
       "3    [my, heart, with, kariy, s, world, pain, how, ...  \n",
       "4    [i, was, known, before, what, people, would, b...  \n",
       "..                                                 ...  \n",
       "537  [several, people, what, will, this, way, to, y...  \n",
       "538  [it, seems, to, us, seems, to, be, that, one, ...  \n",
       "539  [several, people, icf, did, you, find, a, wave...  \n",
       "541  [one, like, one, one, all, one, one, holiday, ...  \n",
       "542  [refresh, you, you, are, lucky, enough, to, be...  \n",
       "\n",
       "[503 rows x 5 columns]"
      ]
     },
     "execution_count": 14,
     "metadata": {},
     "output_type": "execute_result"
    }
   ],
   "source": [
    "sf.lowercase_column(df,'tokens_en')"
   ]
  },
  {
   "cell_type": "code",
   "execution_count": 15,
   "id": "df800794",
   "metadata": {
    "scrolled": true
   },
   "outputs": [
    {
     "name": "stdout",
     "output_type": "stream",
     "text": [
      "                       Song                                          tokens_en\n",
      "0               ԱՀԱ ԵՎ ՎԵՐՋ  [end, end, paragraphs, lasting, last, closed, ...\n",
      "1                 ԱՄԵՆԸ ՁԵԶ  [large, scale, wonderful, temples, prayer, gol...\n",
      "2    ԱՆԱՌԱԿ ՈՐԴՈՒ ՎԵՐԱԴԱՐՁԸ  [like, prodigal, son, become, city, seek, door...\n",
      "3             ԱՇԽԱՐՀԻ ՑԱՎՈՎ  [heart, kariy, world, pain, much, suffering, g...\n",
      "4                ԱՌԱՋ ԳԻՏԵԻ  [known, people, would, world, sun, would, pour...\n",
      "..                      ...                                                ...\n",
      "537                Chanapar  [several, people, way, perhaps, ask, one, day,...\n",
      "538                Es Pahin  [seems, us, seems, one, watching, us, one, tho...\n",
      "539                   Rhyme  [several, people, icf, find, wave, sea, scream...\n",
      "541           Yes Qo Nmanei  [one, like, one, one, one, one, holiday, home,...\n",
      "542             Lav Jamanak  [refresh, lucky, enough, side, employe, well, ...\n",
      "\n",
      "[503 rows x 2 columns]\n"
     ]
    }
   ],
   "source": [
    "sf.remove_stopwords(df,'tokens_en')\n",
    "print(df[['Song','tokens_en']])"
   ]
  },
  {
   "cell_type": "code",
   "execution_count": 16,
   "id": "15d8b723",
   "metadata": {},
   "outputs": [],
   "source": [
    "df=sf.map_tokens_to_stems(df,'tokens_en')"
   ]
  },
  {
   "cell_type": "code",
   "execution_count": 17,
   "id": "11319f12",
   "metadata": {
    "scrolled": true
   },
   "outputs": [],
   "source": [
    "df=sf.calculate_stem_word_count(df,'stems_en')"
   ]
  },
  {
   "cell_type": "code",
   "execution_count": 18,
   "id": "ffe27a30",
   "metadata": {},
   "outputs": [],
   "source": [
    "a= df[\"n_stems_en\"].max()\n",
    "b= df.iloc[df[\"n_stems_en\"].idxmax()][\"Artist\"]\n",
    "c= df.iloc[df[\"n_stems_en\"].idxmax()][\"Song\"]"
   ]
  },
  {
   "cell_type": "code",
   "execution_count": 19,
   "id": "eecbb175",
   "metadata": {},
   "outputs": [
    {
     "data": {
      "text/plain": [
       "'Max number of stems is 297 , in the song Քո ցավը տանեմ (Qo tzavy tanem) which belongs to Artist HT Hayko '"
      ]
     },
     "execution_count": 19,
     "metadata": {},
     "output_type": "execute_result"
    }
   ],
   "source": [
    "f\"Max number of stems is {a} , in the song {c} which belongs to Artist {b} \"\n"
   ]
  },
  {
   "cell_type": "code",
   "execution_count": 20,
   "id": "505b64c5",
   "metadata": {},
   "outputs": [
    {
     "data": {
      "text/html": [
       "<div>\n",
       "<style scoped>\n",
       "    .dataframe tbody tr th:only-of-type {\n",
       "        vertical-align: middle;\n",
       "    }\n",
       "\n",
       "    .dataframe tbody tr th {\n",
       "        vertical-align: top;\n",
       "    }\n",
       "\n",
       "    .dataframe thead th {\n",
       "        text-align: right;\n",
       "    }\n",
       "</style>\n",
       "<table border=\"1\" class=\"dataframe\">\n",
       "  <thead>\n",
       "    <tr style=\"text-align: right;\">\n",
       "      <th></th>\n",
       "      <th>Artist</th>\n",
       "      <th>Song</th>\n",
       "      <th>Translated_Lyrics</th>\n",
       "      <th>en_prob</th>\n",
       "      <th>tokens_en</th>\n",
       "      <th>stems_en</th>\n",
       "      <th>n_stems_en</th>\n",
       "    </tr>\n",
       "  </thead>\n",
       "  <tbody>\n",
       "    <tr>\n",
       "      <th>0</th>\n",
       "      <td>ԱՐԹՈՒՐ ՄԵՍՉՅԱՆ</td>\n",
       "      <td>ԱՀԱ ԵՎ ՎԵՐՋ</td>\n",
       "      <td>Here is an end\\n\\nEnd of paragraphs and lastin...</td>\n",
       "      <td>0.999999</td>\n",
       "      <td>[end, end, paragraphs, lasting, last, closed, ...</td>\n",
       "      <td>[end, end, paragraph, last, last, close, page,...</td>\n",
       "      <td>128</td>\n",
       "    </tr>\n",
       "    <tr>\n",
       "      <th>1</th>\n",
       "      <td>ԱՐԹՈՒՐ ՄԵՍՉՅԱՆ</td>\n",
       "      <td>ԱՄԵՆԸ ՁԵԶ</td>\n",
       "      <td>Large-scale and wonderful temples\\n\\nAnd the p...</td>\n",
       "      <td>1.000000</td>\n",
       "      <td>[large, scale, wonderful, temples, prayer, gol...</td>\n",
       "      <td>[larg, scale, wonder, templ, prayer, golden, t...</td>\n",
       "      <td>84</td>\n",
       "    </tr>\n",
       "    <tr>\n",
       "      <th>2</th>\n",
       "      <td>ԱՐԹՈՒՐ ՄԵՍՉՅԱՆ</td>\n",
       "      <td>ԱՆԱՌԱԿ ՈՐԴՈՒ ՎԵՐԱԴԱՐՁԸ</td>\n",
       "      <td>When like a prodigal son\\n\\nBecome your own ci...</td>\n",
       "      <td>0.999998</td>\n",
       "      <td>[like, prodigal, son, become, city, seek, door...</td>\n",
       "      <td>[like, prodig, son, becom, citi, seek, door, w...</td>\n",
       "      <td>76</td>\n",
       "    </tr>\n",
       "    <tr>\n",
       "      <th>3</th>\n",
       "      <td>ԱՐԹՈՒՐ ՄԵՍՉՅԱՆ</td>\n",
       "      <td>ԱՇԽԱՐՀԻ ՑԱՎՈՎ</td>\n",
       "      <td>My heart with Kariy's world pain\\n\\nHow much s...</td>\n",
       "      <td>0.999996</td>\n",
       "      <td>[heart, kariy, world, pain, much, suffering, g...</td>\n",
       "      <td>[heart, kariy, world, pain, much, suffer, god,...</td>\n",
       "      <td>71</td>\n",
       "    </tr>\n",
       "    <tr>\n",
       "      <th>4</th>\n",
       "      <td>ԱՐԹՈՒՐ ՄԵՍՉՅԱՆ</td>\n",
       "      <td>ԱՌԱՋ ԳԻՏԵԻ</td>\n",
       "      <td>I was known before\\n\\nWhat people would be a w...</td>\n",
       "      <td>0.999996</td>\n",
       "      <td>[known, people, would, world, sun, would, pour...</td>\n",
       "      <td>[known, peopl, would, world, sun, would, pour,...</td>\n",
       "      <td>69</td>\n",
       "    </tr>\n",
       "    <tr>\n",
       "      <th>...</th>\n",
       "      <td>...</td>\n",
       "      <td>...</td>\n",
       "      <td>...</td>\n",
       "      <td>...</td>\n",
       "      <td>...</td>\n",
       "      <td>...</td>\n",
       "      <td>...</td>\n",
       "    </tr>\n",
       "    <tr>\n",
       "      <th>537</th>\n",
       "      <td>Mi Qani Hogi</td>\n",
       "      <td>Chanapar</td>\n",
       "      <td>Several people\\n\\n\\n\\n\\nWHAT WILL THIS WAY TO ...</td>\n",
       "      <td>0.999998</td>\n",
       "      <td>[several, people, way, perhaps, ask, one, day,...</td>\n",
       "      <td>[sever, peopl, way, perhap, ask, one, day, ele...</td>\n",
       "      <td>100</td>\n",
       "    </tr>\n",
       "    <tr>\n",
       "      <th>538</th>\n",
       "      <td>Mi Qani Hogi</td>\n",
       "      <td>Es Pahin</td>\n",
       "      <td>It seems to us seems to be\\n\\nThat one is watc...</td>\n",
       "      <td>0.999999</td>\n",
       "      <td>[seems, us, seems, one, watching, us, one, tho...</td>\n",
       "      <td>[seem, us, seem, one, watch, us, one, thought,...</td>\n",
       "      <td>81</td>\n",
       "    </tr>\n",
       "    <tr>\n",
       "      <th>539</th>\n",
       "      <td>Mi Qani Hogi</td>\n",
       "      <td>Rhyme</td>\n",
       "      <td>Several people\\n\\nICF:\\n\\n\\n\\n\\nDid you find a...</td>\n",
       "      <td>0.999998</td>\n",
       "      <td>[several, people, icf, find, wave, sea, scream...</td>\n",
       "      <td>[sever, peopl, icf, find, wave, sea, scream, p...</td>\n",
       "      <td>85</td>\n",
       "    </tr>\n",
       "    <tr>\n",
       "      <th>541</th>\n",
       "      <td>Mi Qani Hogi</td>\n",
       "      <td>Yes Qo Nmanei</td>\n",
       "      <td>one\\n\\nLike:\\n\\nOne one\\n\\n        \\n\\n     al...</td>\n",
       "      <td>0.999996</td>\n",
       "      <td>[one, like, one, one, one, one, holiday, home,...</td>\n",
       "      <td>[one, like, one, one, one, one, holiday, home,...</td>\n",
       "      <td>34</td>\n",
       "    </tr>\n",
       "    <tr>\n",
       "      <th>542</th>\n",
       "      <td>Mi Qani Hogi</td>\n",
       "      <td>Lav Jamanak</td>\n",
       "      <td>Refresh you, you are lucky enough to be with y...</td>\n",
       "      <td>0.999999</td>\n",
       "      <td>[refresh, lucky, enough, side, employe, well, ...</td>\n",
       "      <td>[refresh, lucki, enough, side, employ, well, a...</td>\n",
       "      <td>76</td>\n",
       "    </tr>\n",
       "  </tbody>\n",
       "</table>\n",
       "<p>503 rows × 7 columns</p>\n",
       "</div>"
      ],
      "text/plain": [
       "             Artist                    Song  \\\n",
       "0    ԱՐԹՈՒՐ ՄԵՍՉՅԱՆ             ԱՀԱ ԵՎ ՎԵՐՋ   \n",
       "1    ԱՐԹՈՒՐ ՄԵՍՉՅԱՆ               ԱՄԵՆԸ ՁԵԶ   \n",
       "2    ԱՐԹՈՒՐ ՄԵՍՉՅԱՆ  ԱՆԱՌԱԿ ՈՐԴՈՒ ՎԵՐԱԴԱՐՁԸ   \n",
       "3    ԱՐԹՈՒՐ ՄԵՍՉՅԱՆ           ԱՇԽԱՐՀԻ ՑԱՎՈՎ   \n",
       "4    ԱՐԹՈՒՐ ՄԵՍՉՅԱՆ              ԱՌԱՋ ԳԻՏԵԻ   \n",
       "..              ...                     ...   \n",
       "537    Mi Qani Hogi                Chanapar   \n",
       "538    Mi Qani Hogi                Es Pahin   \n",
       "539    Mi Qani Hogi                   Rhyme   \n",
       "541    Mi Qani Hogi           Yes Qo Nmanei   \n",
       "542    Mi Qani Hogi             Lav Jamanak   \n",
       "\n",
       "                                     Translated_Lyrics   en_prob  \\\n",
       "0    Here is an end\\n\\nEnd of paragraphs and lastin...  0.999999   \n",
       "1    Large-scale and wonderful temples\\n\\nAnd the p...  1.000000   \n",
       "2    When like a prodigal son\\n\\nBecome your own ci...  0.999998   \n",
       "3    My heart with Kariy's world pain\\n\\nHow much s...  0.999996   \n",
       "4    I was known before\\n\\nWhat people would be a w...  0.999996   \n",
       "..                                                 ...       ...   \n",
       "537  Several people\\n\\n\\n\\n\\nWHAT WILL THIS WAY TO ...  0.999998   \n",
       "538  It seems to us seems to be\\n\\nThat one is watc...  0.999999   \n",
       "539  Several people\\n\\nICF:\\n\\n\\n\\n\\nDid you find a...  0.999998   \n",
       "541  one\\n\\nLike:\\n\\nOne one\\n\\n        \\n\\n     al...  0.999996   \n",
       "542  Refresh you, you are lucky enough to be with y...  0.999999   \n",
       "\n",
       "                                             tokens_en  \\\n",
       "0    [end, end, paragraphs, lasting, last, closed, ...   \n",
       "1    [large, scale, wonderful, temples, prayer, gol...   \n",
       "2    [like, prodigal, son, become, city, seek, door...   \n",
       "3    [heart, kariy, world, pain, much, suffering, g...   \n",
       "4    [known, people, would, world, sun, would, pour...   \n",
       "..                                                 ...   \n",
       "537  [several, people, way, perhaps, ask, one, day,...   \n",
       "538  [seems, us, seems, one, watching, us, one, tho...   \n",
       "539  [several, people, icf, find, wave, sea, scream...   \n",
       "541  [one, like, one, one, one, one, holiday, home,...   \n",
       "542  [refresh, lucky, enough, side, employe, well, ...   \n",
       "\n",
       "                                              stems_en  n_stems_en  \n",
       "0    [end, end, paragraph, last, last, close, page,...         128  \n",
       "1    [larg, scale, wonder, templ, prayer, golden, t...          84  \n",
       "2    [like, prodig, son, becom, citi, seek, door, w...          76  \n",
       "3    [heart, kariy, world, pain, much, suffer, god,...          71  \n",
       "4    [known, peopl, would, world, sun, would, pour,...          69  \n",
       "..                                                 ...         ...  \n",
       "537  [sever, peopl, way, perhap, ask, one, day, ele...         100  \n",
       "538  [seem, us, seem, one, watch, us, one, thought,...          81  \n",
       "539  [sever, peopl, icf, find, wave, sea, scream, p...          85  \n",
       "541  [one, like, one, one, one, one, holiday, home,...          34  \n",
       "542  [refresh, lucki, enough, side, employ, well, a...          76  \n",
       "\n",
       "[503 rows x 7 columns]"
      ]
     },
     "execution_count": 20,
     "metadata": {},
     "output_type": "execute_result"
    }
   ],
   "source": [
    "df"
   ]
  },
  {
   "cell_type": "code",
   "execution_count": 21,
   "id": "d7960bbb",
   "metadata": {},
   "outputs": [],
   "source": [
    "Bararan = set(word for lyric in df['stems_en'] for word in lyric)"
   ]
  },
  {
   "cell_type": "code",
   "execution_count": 22,
   "id": "c72c50cf",
   "metadata": {},
   "outputs": [],
   "source": [
    "vectorizer = TfidfVectorizer()#vocabulary=Bararan\n",
    "X = vectorizer.fit_transform([' '.join(lyric) for lyric in df['stems_en']])\n"
   ]
  },
  {
   "cell_type": "code",
   "execution_count": 23,
   "id": "f9ae89cd",
   "metadata": {},
   "outputs": [],
   "source": [
    "encoder = LabelEncoder()\n",
    "y = encoder.fit_transform(df['Artist'])"
   ]
  },
  {
   "cell_type": "code",
   "execution_count": 24,
   "id": "93e94258",
   "metadata": {},
   "outputs": [],
   "source": [
    "X_train, X_test, y_train, y_test = train_test_split(X, y, test_size=0.30, random_state=42)"
   ]
  },
  {
   "cell_type": "code",
   "execution_count": 25,
   "id": "8455ba86",
   "metadata": {},
   "outputs": [
    {
     "name": "stdout",
     "output_type": "stream",
     "text": [
      "Accuracy: 43.70860927152318%\n"
     ]
    }
   ],
   "source": [
    "model = LinearSVC(class_weight='balanced')\n",
    "model.fit(X_train, y_train)\n",
    "\n",
    "\n",
    "accuracy = model.score(X_test, y_test)\n",
    "print(f'Accuracy: {accuracy * 100}%')"
   ]
  },
  {
   "cell_type": "code",
   "execution_count": 26,
   "id": "5b15d8e3",
   "metadata": {},
   "outputs": [
    {
     "data": {
      "image/png": "[encoded data removed]",
      "text/plain": [
       "<Figure size 720x720 with 2 Axes>"
      ]
     },
     "metadata": {
      "needs_background": "light"
     },
     "output_type": "display_data"
    }
   ],
   "source": [
    "y_pred = model.predict(X_test)\n",
    "\n",
    "\n",
    "y_test_artist = encoder.inverse_transform(y_test)\n",
    "y_pred_artist = encoder.inverse_transform(y_pred)\n",
    "\n",
    "\n",
    "conf_matrix = confusion_matrix(y_test_artist, y_pred_artist)\n",
    "plt.figure(figsize=(10,10))\n",
    "sns.heatmap(conf_matrix, annot=True, fmt=\"d\",\n",
    "            xticklabels=encoder.classes_, \n",
    "            yticklabels=encoder.classes_)\n",
    "plt.ylabel(\"Actual\")\n",
    "plt.xlabel(\"Predicted\")\n",
    "plt.title(\" DIAGONALS  show the correctly classified Artists with SVM\")\n",
    "plt.show()"
   ]
  },
  {
   "cell_type": "code",
   "execution_count": 27,
   "id": "f2d7f613",
   "metadata": {},
   "outputs": [
    {
     "name": "stdout",
     "output_type": "stream",
     "text": [
      "F1 Score: 0.4184955482866548\n"
     ]
    }
   ],
   "source": [
    "f1 = f1_score(y_test, y_pred, average='weighted')\n",
    "\n",
    "print(f'F1 Score: {f1}')"
   ]
  }
 ],
 "metadata": {
  "kernelspec": {
   "display_name": "Python 3 (ipykernel)",
   "language": "python",
   "name": "python3"
  },
  "language_info": {
   "codemirror_mode": {
    "name": "ipython",
    "version": 3
   },
   "file_extension": ".py",
   "mimetype": "text/x-python",
   "name": "python",
   "nbconvert_exporter": "python",
   "pygments_lexer": "ipython3",
   "version": "3.9.13"
  }
 },
 "nbformat": 4,
 "nbformat_minor": 5
}
