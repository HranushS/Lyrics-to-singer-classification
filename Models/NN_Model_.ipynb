{
  "nbformat": 4,
  "nbformat_minor": 0,
  "metadata": {
    "colab": {
      "provenance": []
    },
    "kernelspec": {
      "name": "python3",
      "display_name": "Python 3"
    },
    "language_info": {
      "name": "python"
    }
  },
  "cells": [
    {
      "cell_type": "code",
      "execution_count": 1,
      "metadata": {
        "id": "-cINI-soZG6n"
      },
      "outputs": [],
      "source": [
        "# import libraries\n",
        "import plotly.express as px\n",
        "import plotly.graph_objects as go\n",
        "\n",
        "import random\n",
        "import pickle\n",
        "\n",
        "from keras.layers import TextVectorization\n",
        "from tensorflow import keras\n",
        "from keras import layers\n",
        "import tensorflow as tf\n",
        "\n",
        "from scipy import sparse\n",
        "from scipy.sparse import csr_matrix, vstack\n",
        "\n",
        "from sklearn.metrics import accuracy_score, confusion_matrix\n",
        "from sklearn.pipeline import Pipeline\n",
        "from sklearn.metrics import f1_score\n",
        "from sklearn.model_selection import train_test_split\n",
        "from sklearn.preprocessing import LabelEncoder"
      ]
    },
    {
      "cell_type": "code",
      "source": [
        "import sys\n",
        "sys.path.append('../Data preprocessing') \n",
        "import simple_feature_engineering as sf"
      ],
      "metadata": {
        "id": "IO38aoT8ox9c"
      },
      "execution_count": null,
      "outputs": []
    },
    {
      "cell_type": "code",
      "source": [
        "#Load the data\n",
        "df = pd.read_csv('../Datasets/translated.csv')\n",
        "df.head()"
      ],
      "metadata": {
        "id": "JGOQ3oCRZOYe"
      },
      "execution_count": null,
      "outputs": []
    },
    {
      "cell_type": "code",
      "source": [
        "df[\"Artist\"].value_counts()"
      ],
      "metadata": {
        "colab": {
          "base_uri": "https://localhost:8080/"
        },
        "id": "VExh4IdAo50l",
        "outputId": "7bd3cf46-bd21-4829-ce42-ebd528371ead"
      },
      "execution_count": 94,
      "outputs": [
        {
          "output_type": "execute_result",
          "data": {
            "text/plain": [
              "ՌՈՒԲԵՆ ՀԱԽՎԵՐԴՅԱՆ     85\n",
              "ԿՈՄԻՏԱՍ               64\n",
              "ԱՐԹՈՒՐ ՄԵՍՉՅԱՆ        50\n",
              "Harout Pamboukjian    40\n",
              "Misho                 29\n",
              "Լիլիթ Հովհաննիսյան    27\n",
              "Սիրուշո               27\n",
              "Հայկ Հակոբյան         25\n",
              "Arsen Safaryan        24\n",
              "Razmik Amyan          23\n",
              "Silva Hakobyan        20\n",
              "Միհրան Ծառուկյան      19\n",
              "Aram MP3              18\n",
              "HT Hayko              16\n",
              "ՍԱՅԱԹ-ՆՈՎԱ            16\n",
              "Mi Qani Hogi          16\n",
              "Անդրե                 12\n",
              "Empyray               11\n",
              "Arame                 11\n",
              " Lav Eli              10\n",
              "Name: Artist, dtype: int64"
            ]
          },
          "metadata": {},
          "execution_count": 94
        }
      ]
    },
    {
      "cell_type": "code",
      "source": [
        "def preprocessing_func(df):\n",
        "    \"\"\"\n",
        "    Perform preprocessing steps on a DataFrame.\n",
        "\n",
        "    Args:\n",
        "        df (pandas.DataFrame): The DataFrame to be preprocessed.\n",
        "\n",
        "    Returns:\n",
        "        pandas.DataFrame: The preprocessed DataFrame.\n",
        "\n",
        "    \"\"\"\n",
        "    # Drop rows with any NaN values\n",
        "    df.dropna(how='any', inplace=True)\n",
        "    df = df[df['Song'] != 'Տնից Պախել Եմ (Tnits Paxhel Em)']\n",
        "\n",
        "    # After dropping the rows, you can reset the index if needed\n",
        "    df.reset_index(drop=True, inplace=True)\n",
        "\n",
        "    # Replace newline, carriage return, and tab characters with a space\n",
        "    df['Translated_Lyrics'] = df['Translated_Lyrics'].str.replace(r'\\n|\\r|\\t', ' ', regex=True)\n",
        "    df['Translated_Lyrics'] = df['Translated_Lyrics'].astype(str)\n",
        "\n",
        "    # Rename columns\n",
        "    df.rename(columns={'Artist': 'artist', 'Translated_Lyrics': 'text', 'Song': 'song'}, inplace=True)\n",
        "\n",
        "    return df"
      ],
      "metadata": {
        "id": "QUdWhAcskAcO"
      },
      "execution_count": 224,
      "outputs": []
    },
    {
      "cell_type": "code",
      "source": [
        "def stem_from_tokens(df, column_name):\n",
        "    \"\"\"\n",
        "    Apply stemming to tokens in a DataFrame column.\n",
        "\n",
        "    Args:\n",
        "        df (pandas.DataFrame): The DataFrame containing the column with tokens.\n",
        "        column_name (str): The name of the column containing the tokens.\n",
        "\n",
        "    Returns:\n",
        "        pandas.DataFrame: The DataFrame with an additional column containing the stemmed tokens.\n",
        "\n",
        "    \"\"\"\n",
        "    # Initialize the stemmer\n",
        "    stemmer = nltk.stem.porter.PorterStemmer()\n",
        "    token_to_stem = {}\n",
        "    token_count = 0  # Initialize word count\n",
        "\n",
        "    # Iterate through all songs\n",
        "    for lst in df[column_name]:\n",
        "        # Iterate through all tokens of a song\n",
        "        for token in lst:\n",
        "            token_count += 1\n",
        "            # Check if token is in the dictionary\n",
        "            if token not in token_to_stem:\n",
        "                # Add token to the dictionary with its stem\n",
        "                token_to_stem[token] = stemmer.stem(token)\n",
        "\n",
        "    # Map the tokens to their stems in a new column\n",
        "    df['stems'] = df[column_name].map(lambda lst: [token_to_stem[token] for token in lst])\n",
        "    df['stems_str'] = df['stems'].map(lambda lst: ' '.join(lst))\n",
        "\n",
        "    return df"
      ],
      "metadata": {
        "id": "1t9ZHLXgZfkK"
      },
      "execution_count": 225,
      "outputs": []
    },
    {
      "cell_type": "code",
      "source": [
        "def encode_labels(df, label_column):\n",
        "    \"\"\"\n",
        "    Encode labels in a DataFrame column using LabelEncoder.\n",
        "\n",
        "    Args:\n",
        "        df (pandas.DataFrame): The DataFrame containing the label column.\n",
        "        label_column (str): The name of the column containing the labels.\n",
        "\n",
        "    Returns:\n",
        "        pandas.DataFrame: The DataFrame with an additional column containing the encoded labels.\n",
        "\n",
        "    \"\"\"\n",
        "    label_encoder = LabelEncoder()\n",
        "    df['target'] = label_encoder.fit_transform(df[label_column])\n",
        "    return df,label_encoder"
      ],
      "metadata": {
        "id": "PlqJNvIpaQtu"
      },
      "execution_count": 226,
      "outputs": []
    },
    {
      "cell_type": "code",
      "source": [
        "def make_bached_dataset(batch_size, df):\n",
        "    \"\"\"\n",
        "    Create batched TensorFlow datasets for training and testing.\n",
        "\n",
        "    Args:\n",
        "        batch_size (int): The batch size for the datasets.\n",
        "        df (pandas.DataFrame): The DataFrame containing the dataset.\n",
        "\n",
        "    Returns:\n",
        "        tuple: A tuple containing the training and testing datasets.\n",
        "               Each dataset is a TensorFlow dataset object.\n",
        "\n",
        "    \"\"\"\n",
        "    random.seed(42)\n",
        "    \n",
        "    targets = df['target'].to_numpy()\n",
        "\n",
        "    train_idx, valid_idx = train_test_split(\n",
        "        np.arange(len(targets)),\n",
        "        test_size=0.2,\n",
        "        shuffle=True,\n",
        "        stratify=targets\n",
        "    )\n",
        "\n",
        "    train = df.iloc[train_idx]\n",
        "    test = df.iloc[valid_idx]\n",
        "\n",
        "    X_train = train[\"stems_str\"]\n",
        "    y_train = train[\"target\"]\n",
        "    X_test = test[\"stems_str\"]\n",
        "    y_test = test[\"target\"]\n",
        "\n",
        "    # Create TensorFlow datasets from X_train and y_train\n",
        "    train_dataset = tf.data.Dataset.from_tensor_slices((X_train, y_train))\n",
        "    test_dataset = tf.data.Dataset.from_tensor_slices((X_test, y_test))\n",
        "\n",
        "    # Batch the datasets\n",
        "    train_dataset = train_dataset.batch(batch_size)\n",
        "    test_dataset = test_dataset.batch(batch_size)\n",
        "\n",
        "    return train_dataset, test_dataset, y_test"
      ],
      "metadata": {
        "id": "eaS7ws0IadK9"
      },
      "execution_count": 228,
      "outputs": []
    },
    {
      "cell_type": "code",
      "source": [
        "def make_vectorized_dataset(max_tokens, train_dataset, test_dataset):\n",
        "    \"\"\"\n",
        "    Create a vectorized dataset using TextVectorization.\n",
        "\n",
        "    Args:\n",
        "        max_tokens (int): The maximum number of tokens to consider in the vectorization process.\n",
        "        train_dataset (tf.data.Dataset): The training dataset.\n",
        "        test_dataset (tf.data.Dataset): The testing dataset.\n",
        "\n",
        "    Returns:\n",
        "        tuple: A tuple containing the vectorized training and testing datasets.\n",
        "\n",
        "    \"\"\"\n",
        "    text_vectorization = TextVectorization(\n",
        "        max_tokens=max_tokens,\n",
        "        output_mode=\"multi_hot\"\n",
        "    )\n",
        "\n",
        "    text_only_train_ds = train_dataset.map(lambda x, y: x)\n",
        "    text_vectorization.adapt(text_only_train_ds)\n",
        "\n",
        "    train_ds = train_dataset.map(\n",
        "        lambda x, y: (text_vectorization(x), y),\n",
        "        num_parallel_calls=4\n",
        "    )\n",
        "\n",
        "    test_ds = test_dataset.map(\n",
        "        lambda x, y: (text_vectorization(x), y),\n",
        "        num_parallel_calls=4\n",
        "    )\n",
        "\n",
        "    return train_ds, test_ds"
      ],
      "metadata": {
        "id": "Mr1FntYCb605"
      },
      "execution_count": 229,
      "outputs": []
    },
    {
      "cell_type": "code",
      "source": [
        "def get_model(max_tokens):\n",
        "    \"\"\"\n",
        "    Create a neural network model.\n",
        "\n",
        "    Args:\n",
        "        max_tokens (int): The number of input tokens.\n",
        "\n",
        "    Returns:\n",
        "        tensorflow.keras.Model: The compiled neural network model.\n",
        "\n",
        "    \"\"\"\n",
        "\n",
        "    random.seed(42)\n",
        "\n",
        "    # inputs = keras.Input(shape=(max_tokens,))\n",
        "    # features = layers.Dense(256, activation=\"relu\")(inputs)\n",
        "    # features = layers.Dense(256, activation=\"relu\")(features)\n",
        "    # features = layers.BatchNormalization()(features)\n",
        "    # features = layers.Dense(128, activation=\"relu\")(features)\n",
        "    # features = layers.Dense(128, activation=\"relu\")(features)\n",
        "    # features = layers.BatchNormalization()(features)\n",
        "    # features = layers.Dense(64, activation=\"relu\")(features)\n",
        "    # features = layers.BatchNormalization()(features)\n",
        "    # outputs = layers.Dense(20, activation=\"softmax\")(features)\n",
        "    # model = keras.Model(inputs=inputs, outputs=outputs)\n",
        "    inputs = keras.Input(shape=(1,max_tokens))\n",
        "    x = layers.SimpleRNN(16, return_sequences=True)(inputs)\n",
        "    x = layers.SimpleRNN(16, return_sequences=True)(x)\n",
        "    outputs = layers.SimpleRNN(20)(x)\n",
        "\n",
        "    model.compile(\n",
        "        optimizer=\"rmsprop\",\n",
        "        loss=\"sparse_categorical_crossentropy\",\n",
        "        metrics=[\"accuracy\"]\n",
        "    )\n",
        "\n",
        "    return model"
      ],
      "metadata": {
        "id": "gP7MqXHSfS3J"
      },
      "execution_count": 284,
      "outputs": []
    },
    {
      "cell_type": "code",
      "source": [
        "def model_fit(model, train_ds, test_ds, path):\n",
        "    \"\"\"\n",
        "    Fit a neural network model to the training dataset and evaluate it on the testing dataset.\n",
        "\n",
        "    Args:\n",
        "        train_ds (tf.data.Dataset): The training dataset.\n",
        "        test_ds (tf.data.Dataset): The testing dataset.\n",
        "        path (str): The path to save the best model checkpoint.\n",
        "\n",
        "    Returns:\n",
        "        tuple: A tuple containing the trained model and the accuracy string.\n",
        "\n",
        "    \"\"\"\n",
        "    \n",
        "    callbacks = [\n",
        "        keras.callbacks.ModelCheckpoint(path, save_best_only=True)\n",
        "    ]\n",
        "\n",
        "    model.fit(\n",
        "        train_ds.cache(),\n",
        "        validation_data=test_ds.cache(),\n",
        "        epochs=5,\n",
        "        callbacks=callbacks\n",
        "    )\n",
        "\n",
        "    model = keras.models.load_model(path)\n",
        "    accuracy = f\"Test acc: {model.evaluate(test_ds)[1]:.3f}\"\n",
        "    return model, accuracy"
      ],
      "metadata": {
        "id": "F_dV5lqofn6S"
      },
      "execution_count": 231,
      "outputs": []
    },
    {
      "cell_type": "code",
      "source": [
        "def model_predict(model, test_ds):\n",
        "    \"\"\"\n",
        "    Make predictions using a trained neural network model.\n",
        "\n",
        "    Args:\n",
        "        model (tensorflow.keras.Model): The trained model.\n",
        "        test_ds (tf.data.Dataset): The dataset to make predictions on.\n",
        "\n",
        "    Returns:\n",
        "        numpy.ndarray: The predicted labels.\n",
        "\n",
        "    \"\"\"\n",
        "    y_pred = np.argmax(model.predict(test_ds), axis=1)\n",
        "    return y_pred"
      ],
      "metadata": {
        "id": "glhOSjgWiKU3"
      },
      "execution_count": 233,
      "outputs": []
    },
    {
      "cell_type": "code",
      "source": [
        "#Preprocess the data\n",
        "df = preprocessing_func(df)"
      ],
      "metadata": {
        "id": "1po2h4P3NRMn"
      },
      "execution_count": null,
      "outputs": []
    },
    {
      "cell_type": "code",
      "source": [
        "#Tokenize text column\n",
        "df = tokenize_column(df, 'text' , language='en')"
      ],
      "metadata": {
        "id": "wHPbp0CwNRMo"
      },
      "execution_count": 236,
      "outputs": []
    },
    {
      "cell_type": "code",
      "source": [
        "#Stemming\n",
        "df = stem_from_tokens(df,'tokens_en')"
      ],
      "metadata": {
        "id": "hErHV3umNRMp"
      },
      "execution_count": 237,
      "outputs": []
    },
    {
      "cell_type": "code",
      "source": [
        "#Drop unnecessary columns\n",
        "df.drop([\"text\", \"tokens_en\", \"song\", \"stems\"], axis=1, inplace=True)"
      ],
      "metadata": {
        "id": "aysvGmioNRMp"
      },
      "execution_count": 238,
      "outputs": []
    },
    {
      "cell_type": "code",
      "source": [
        "#Encode the target\n",
        "df, encoder = encode_labels(df, 'artist')"
      ],
      "metadata": {
        "id": "KVVaJN4tNRMp"
      },
      "execution_count": 239,
      "outputs": []
    },
    {
      "cell_type": "code",
      "source": [
        "#Make a dataset\n",
        "batch_size = 8\n",
        "train_dataset, test_dataset, y_test = make_bached_dataset(batch_size, df)"
      ],
      "metadata": {
        "id": "bh90PL4aNRMq"
      },
      "execution_count": 271,
      "outputs": []
    },
    {
      "cell_type": "code",
      "source": [
        "#Vectorize text data\n",
        "max_tokens = 5000\n",
        "train_ds, test_ds = make_vectorized_dataset(max_tokens, train_dataset, test_dataset)"
      ],
      "metadata": {
        "id": "4hXMZaFzNRMq"
      },
      "execution_count": 272,
      "outputs": []
    },
    {
      "cell_type": "code",
      "source": [
        "#Build a model\n",
        "model = get_model(max_tokens)"
      ],
      "metadata": {
        "id": "7X4FiVshNRMq"
      },
      "execution_count": 285,
      "outputs": []
    },
    {
      "cell_type": "code",
      "source": [
        "#Fit the model to data and load the best model\n",
        "path = 'dense_layers.keras'\n",
        "best_model, accuracy = model_fit(model,train_ds, test_ds, path)"
      ],
      "metadata": {
        "id": "OavbbPHmNRMr"
      },
      "execution_count": null,
      "outputs": []
    },
    {
      "cell_type": "code",
      "source": [
        "#Make predictions\n",
        "y_pred = model_predict(best_model, test_ds)"
      ],
      "metadata": {
        "colab": {
          "base_uri": "https://localhost:8080/"
        },
        "id": "5PB4qMVQNRMr",
        "outputId": "0b9af1f8-1871-4867-f5ef-e77c7c28523c"
      },
      "execution_count": 287,
      "outputs": [
        {
          "output_type": "stream",
          "name": "stdout",
          "text": [
            "13/13 [==============================] - 0s 3ms/step\n"
          ]
        }
      ]
    },
    {
      "cell_type": "code",
      "source": [
        "#Test accuracy\n",
        "accuracy"
      ],
      "metadata": {
        "colab": {
          "base_uri": "https://localhost:8080/",
          "height": 36
        },
        "id": "IBvzWen8PWV6",
        "outputId": "ddc53321-3a14-4b16-f785-850553f22fe1"
      },
      "execution_count": 288,
      "outputs": [
        {
          "output_type": "execute_result",
          "data": {
            "text/plain": [
              "'Test acc: 0.406'"
            ],
            "application/vnd.google.colaboratory.intrinsic+json": {
              "type": "string"
            }
          },
          "metadata": {},
          "execution_count": 288
        }
      ]
    },
    {
      "cell_type": "code",
      "source": [
        "from sklearn.metrics import confusion_matrix\n",
        "import seaborn as sns\n",
        "import matplotlib.pyplot as plt\n",
        "\n",
        "# y_test1 = encoder.inverse_transform(y_test)\n",
        "# y_pred1 = encoder.inverse_transform(y_pred)\n",
        "\n",
        "\n",
        "conf_matrix = confusion_matrix(y_test, y_pred)\n",
        "plt.figure(figsize=(10,10))\n",
        "sns.heatmap(conf_matrix, annot=True, fmt=\"d\")\n",
        "\n",
        "plt.ylabel(\"Actual\")\n",
        "plt.xlabel(\"Predicted\")\n",
        "plt.show()"
      ],
      "metadata": {
        "colab": {
          "base_uri": "https://localhost:8080/",
          "height": 850
        },
        "id": "PtIwFswPNRMs",
        "outputId": "25339536-d1ee-4f85-8320-15b5bd23d2bb"
      },
      "execution_count": 289,
      "outputs": [
        {
          "output_type": "display_data",
          "data": {
            "text/plain": [
              "<Figure size 1000x1000 with 2 Axes>"
            ],
            "image/png": "[encoded data removed]"
          },
          "metadata": {}
        }
      ]
    },
    {
      "cell_type": "code",
      "source": [
        "# Compute F1 score\n",
        "f1 = f1_score(y_test, y_pred, average='weighted') \n",
        "\n",
        "print(\"F1 Score:\", f1)"
      ],
      "metadata": {
        "colab": {
          "base_uri": "https://localhost:8080/"
        },
        "id": "qiVmeHMuNRMs",
        "outputId": "545ebddc-015b-4843-b420-1dcb0b7bb51e"
      },
      "execution_count": 290,
      "outputs": [
        {
          "output_type": "stream",
          "name": "stdout",
          "text": [
            "F1 Score: 0.35855733635827436\n"
          ]
        }
      ]
    }
  ]
}