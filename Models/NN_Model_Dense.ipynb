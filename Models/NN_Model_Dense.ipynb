{
  "nbformat": 4,
  "nbformat_minor": 0,
  "metadata": {
    "colab": {
      "provenance": []
    },
    "kernelspec": {
      "name": "python3",
      "display_name": "Python 3"
    },
    "language_info": {
      "name": "python"
    }
  },
  "cells": [
    {
      "cell_type": "code",
      "execution_count": 1,
      "metadata": {
        "id": "-cINI-soZG6n"
      },
      "outputs": [],
      "source": [
        "# import libraries\n",
        "import plotly.express as px\n",
        "import plotly.graph_objects as go\n",
        "\n",
        "import random\n",
        "import pickle\n",
        "\n",
        "from keras.layers import TextVectorization\n",
        "from tensorflow import keras\n",
        "from keras import layers\n",
        "import tensorflow as tf\n",
        "\n",
        "from scipy import sparse\n",
        "from scipy.sparse import csr_matrix, vstack\n",
        "\n",
        "from sklearn.metrics import accuracy_score, confusion_matrix\n",
        "from sklearn.pipeline import Pipeline\n",
        "from sklearn.metrics import f1_score\n",
        "from sklearn.model_selection import train_test_split\n",
        "from sklearn.preprocessing import LabelEncoder"
      ]
    },
    {
      "cell_type": "code",
      "source": [
        "import pandas as pd\n",
        "import plotly.express as px\n",
        "import plotly.graph_objects as go\n",
        "import numpy as np\n",
        "import re\n",
        "import random\n",
        "import nltk\n",
        "from scipy import sparse\n",
        "from scipy.sparse import csr_matrix, vstack\n",
        "from textblob import TextBlob \n",
        "import pickle\n",
        "from datetime import datetime\n",
        "\n",
        "from sklearn.feature_extraction.text import TfidfTransformer, CountVectorizer\n",
        "from sklearn.metrics.pairwise import cosine_similarity\n",
        "from sklearn.linear_model import LogisticRegression\n",
        "from sklearn.metrics import accuracy_score, confusion_matrix\n",
        "from sklearn.pipeline import Pipeline\n",
        "from sklearn.preprocessing import StandardScaler\n",
        "from sklearn.metrics import f1_score\n",
        "from tensorflow import keras\n",
        "from keras import layers\n",
        "from keras.layers import TextVectorization\n",
        "from sklearn.model_selection import train_test_split\n",
        "import tensorflow as tf\n",
        "from sklearn.preprocessing import LabelEncoder"
      ],
      "metadata": {
        "id": "rYfX1hfKuCxs"
      },
      "execution_count": 17,
      "outputs": []
    },
    {
      "cell_type": "code",
      "source": [
        "from google.colab import drive\n",
        "drive.mount('/content/drive')"
      ],
      "metadata": {
        "colab": {
          "base_uri": "https://localhost:8080/"
        },
        "id": "gA6vQmViuE-7",
        "outputId": "ccbab5a0-d0a0-4842-9bce-e8178c7a9921"
      },
      "execution_count": 18,
      "outputs": [
        {
          "output_type": "stream",
          "name": "stdout",
          "text": [
            "Drive already mounted at /content/drive; to attempt to forcibly remount, call drive.mount(\"/content/drive\", force_remount=True).\n"
          ]
        }
      ]
    },
    {
      "cell_type": "code",
      "source": [
        "# import sys\n",
        "# sys.path.append('../Data preprocessing') \n",
        "# import simple_feature_engineering as sf"
      ],
      "metadata": {
        "id": "IO38aoT8ox9c"
      },
      "execution_count": null,
      "outputs": []
    },
    {
      "cell_type": "code",
      "source": [
        "# #Load the data\n",
        "# df = pd.read_csv('../Datasets/translated.csv')\n",
        "# df.head()"
      ],
      "metadata": {
        "id": "JGOQ3oCRZOYe"
      },
      "execution_count": null,
      "outputs": []
    },
    {
      "cell_type": "code",
      "source": [
        "#Load the data\n",
        "df = pd.read_csv('/content/drive/MyDrive/translated.csv')\n",
        "df.head()"
      ],
      "metadata": {
        "colab": {
          "base_uri": "https://localhost:8080/",
          "height": 206
        },
        "id": "XSRZHhQets2w",
        "outputId": "bea115bd-3566-4eb4-c112-bdca76e44e6f"
      },
      "execution_count": 19,
      "outputs": [
        {
          "output_type": "execute_result",
          "data": {
            "text/plain": [
              "           Artist                    Song  \\\n",
              "0  ԱՐԹՈՒՐ ՄԵՍՉՅԱՆ             ԱՀԱ ԵՎ ՎԵՐՋ   \n",
              "1  ԱՐԹՈՒՐ ՄԵՍՉՅԱՆ               ԱՄԵՆԸ ՁԵԶ   \n",
              "2  ԱՐԹՈՒՐ ՄԵՍՉՅԱՆ  ԱՆԱՌԱԿ ՈՐԴՈՒ ՎԵՐԱԴԱՐՁԸ   \n",
              "3  ԱՐԹՈՒՐ ՄԵՍՉՅԱՆ           ԱՇԽԱՐՀԻ ՑԱՎՈՎ   \n",
              "4  ԱՐԹՈՒՐ ՄԵՍՉՅԱՆ              ԱՌԱՋ ԳԻՏԵԻ   \n",
              "\n",
              "                                   Translated_Lyrics  \n",
              "0  Here is an end\\n\\r\\nEnd of paragraphs and last...  \n",
              "1  Large-scale and wonderful temples\\n\\r\\nAnd the...  \n",
              "2  When like a prodigal son\\n\\r\\nBecome your own ...  \n",
              "3  My heart with Kariy's world pain\\n\\r\\nHow much...  \n",
              "4  I was known before\\n\\r\\nWhat people would be a...  "
            ],
            "text/html": [
              "\n",
              "  <div id=\"df-a0cdc390-673c-4c83-8c1e-3a320b12bd00\">\n",
              "    <div class=\"colab-df-container\">\n",
              "      <div>\n",
              "<style scoped>\n",
              "    .dataframe tbody tr th:only-of-type {\n",
              "        vertical-align: middle;\n",
              "    }\n",
              "\n",
              "    .dataframe tbody tr th {\n",
              "        vertical-align: top;\n",
              "    }\n",
              "\n",
              "    .dataframe thead th {\n",
              "        text-align: right;\n",
              "    }\n",
              "</style>\n",
              "<table border=\"1\" class=\"dataframe\">\n",
              "  <thead>\n",
              "    <tr style=\"text-align: right;\">\n",
              "      <th></th>\n",
              "      <th>Artist</th>\n",
              "      <th>Song</th>\n",
              "      <th>Translated_Lyrics</th>\n",
              "    </tr>\n",
              "  </thead>\n",
              "  <tbody>\n",
              "    <tr>\n",
              "      <th>0</th>\n",
              "      <td>ԱՐԹՈՒՐ ՄԵՍՉՅԱՆ</td>\n",
              "      <td>ԱՀԱ ԵՎ ՎԵՐՋ</td>\n",
              "      <td>Here is an end\\n\\r\\nEnd of paragraphs and last...</td>\n",
              "    </tr>\n",
              "    <tr>\n",
              "      <th>1</th>\n",
              "      <td>ԱՐԹՈՒՐ ՄԵՍՉՅԱՆ</td>\n",
              "      <td>ԱՄԵՆԸ ՁԵԶ</td>\n",
              "      <td>Large-scale and wonderful temples\\n\\r\\nAnd the...</td>\n",
              "    </tr>\n",
              "    <tr>\n",
              "      <th>2</th>\n",
              "      <td>ԱՐԹՈՒՐ ՄԵՍՉՅԱՆ</td>\n",
              "      <td>ԱՆԱՌԱԿ ՈՐԴՈՒ ՎԵՐԱԴԱՐՁԸ</td>\n",
              "      <td>When like a prodigal son\\n\\r\\nBecome your own ...</td>\n",
              "    </tr>\n",
              "    <tr>\n",
              "      <th>3</th>\n",
              "      <td>ԱՐԹՈՒՐ ՄԵՍՉՅԱՆ</td>\n",
              "      <td>ԱՇԽԱՐՀԻ ՑԱՎՈՎ</td>\n",
              "      <td>My heart with Kariy's world pain\\n\\r\\nHow much...</td>\n",
              "    </tr>\n",
              "    <tr>\n",
              "      <th>4</th>\n",
              "      <td>ԱՐԹՈՒՐ ՄԵՍՉՅԱՆ</td>\n",
              "      <td>ԱՌԱՋ ԳԻՏԵԻ</td>\n",
              "      <td>I was known before\\n\\r\\nWhat people would be a...</td>\n",
              "    </tr>\n",
              "  </tbody>\n",
              "</table>\n",
              "</div>\n",
              "      <button class=\"colab-df-convert\" onclick=\"convertToInteractive('df-a0cdc390-673c-4c83-8c1e-3a320b12bd00')\"\n",
              "              title=\"Convert this dataframe to an interactive table.\"\n",
              "              style=\"display:none;\">\n",
              "        \n",
              "  <svg xmlns=\"http://www.w3.org/2000/svg\" height=\"24px\"viewBox=\"0 0 24 24\"\n",
              "       width=\"24px\">\n",
              "    <path d=\"M0 0h24v24H0V0z\" fill=\"none\"/>\n",
              "    <path d=\"M18.56 5.44l.94 2.06.94-2.06 2.06-.94-2.06-.94-.94-2.06-.94 2.06-2.06.94zm-11 1L8.5 8.5l.94-2.06 2.06-.94-2.06-.94L8.5 2.5l-.94 2.06-2.06.94zm10 10l.94 2.06.94-2.06 2.06-.94-2.06-.94-.94-2.06-.94 2.06-2.06.94z\"/><path d=\"M17.41 7.96l-1.37-1.37c-.4-.4-.92-.59-1.43-.59-.52 0-1.04.2-1.43.59L10.3 9.45l-7.72 7.72c-.78.78-.78 2.05 0 2.83L4 21.41c.39.39.9.59 1.41.59.51 0 1.02-.2 1.41-.59l7.78-7.78 2.81-2.81c.8-.78.8-2.07 0-2.86zM5.41 20L4 18.59l7.72-7.72 1.47 1.35L5.41 20z\"/>\n",
              "  </svg>\n",
              "      </button>\n",
              "      \n",
              "  <style>\n",
              "    .colab-df-container {\n",
              "      display:flex;\n",
              "      flex-wrap:wrap;\n",
              "      gap: 12px;\n",
              "    }\n",
              "\n",
              "    .colab-df-convert {\n",
              "      background-color: #E8F0FE;\n",
              "      border: none;\n",
              "      border-radius: 50%;\n",
              "      cursor: pointer;\n",
              "      display: none;\n",
              "      fill: #1967D2;\n",
              "      height: 32px;\n",
              "      padding: 0 0 0 0;\n",
              "      width: 32px;\n",
              "    }\n",
              "\n",
              "    .colab-df-convert:hover {\n",
              "      background-color: #E2EBFA;\n",
              "      box-shadow: 0px 1px 2px rgba(60, 64, 67, 0.3), 0px 1px 3px 1px rgba(60, 64, 67, 0.15);\n",
              "      fill: #174EA6;\n",
              "    }\n",
              "\n",
              "    [theme=dark] .colab-df-convert {\n",
              "      background-color: #3B4455;\n",
              "      fill: #D2E3FC;\n",
              "    }\n",
              "\n",
              "    [theme=dark] .colab-df-convert:hover {\n",
              "      background-color: #434B5C;\n",
              "      box-shadow: 0px 1px 3px 1px rgba(0, 0, 0, 0.15);\n",
              "      filter: drop-shadow(0px 1px 2px rgba(0, 0, 0, 0.3));\n",
              "      fill: #FFFFFF;\n",
              "    }\n",
              "  </style>\n",
              "\n",
              "      <script>\n",
              "        const buttonEl =\n",
              "          document.querySelector('#df-a0cdc390-673c-4c83-8c1e-3a320b12bd00 button.colab-df-convert');\n",
              "        buttonEl.style.display =\n",
              "          google.colab.kernel.accessAllowed ? 'block' : 'none';\n",
              "\n",
              "        async function convertToInteractive(key) {\n",
              "          const element = document.querySelector('#df-a0cdc390-673c-4c83-8c1e-3a320b12bd00');\n",
              "          const dataTable =\n",
              "            await google.colab.kernel.invokeFunction('convertToInteractive',\n",
              "                                                     [key], {});\n",
              "          if (!dataTable) return;\n",
              "\n",
              "          const docLinkHtml = 'Like what you see? Visit the ' +\n",
              "            '<a target=\"_blank\" href=https://colab.research.google.com/notebooks/data_table.ipynb>data table notebook</a>'\n",
              "            + ' to learn more about interactive tables.';\n",
              "          element.innerHTML = '';\n",
              "          dataTable['output_type'] = 'display_data';\n",
              "          await google.colab.output.renderOutput(dataTable, element);\n",
              "          const docLink = document.createElement('div');\n",
              "          docLink.innerHTML = docLinkHtml;\n",
              "          element.appendChild(docLink);\n",
              "        }\n",
              "      </script>\n",
              "    </div>\n",
              "  </div>\n",
              "  "
            ]
          },
          "metadata": {},
          "execution_count": 19
        }
      ]
    },
    {
      "cell_type": "code",
      "source": [
        "df[\"Artist\"].value_counts()"
      ],
      "metadata": {
        "colab": {
          "base_uri": "https://localhost:8080/"
        },
        "id": "VExh4IdAo50l",
        "outputId": "d5f0b67f-c704-4be5-b350-90fc7c3b36f6"
      },
      "execution_count": 20,
      "outputs": [
        {
          "output_type": "execute_result",
          "data": {
            "text/plain": [
              "ՌՈՒԲԵՆ ՀԱԽՎԵՐԴՅԱՆ     85\n",
              "ԿՈՄԻՏԱՍ               64\n",
              "ԱՐԹՈՒՐ ՄԵՍՉՅԱՆ        50\n",
              "Harout Pamboukjian    40\n",
              "Misho                 29\n",
              "Լիլիթ Հովհաննիսյան    27\n",
              "Սիրուշո               27\n",
              "Հայկ Հակոբյան         25\n",
              "Arsen Safaryan        24\n",
              "Razmik Amyan          23\n",
              "Silva Hakobyan        20\n",
              "Միհրան Ծառուկյան      19\n",
              "Aram MP3              18\n",
              "HT Hayko              16\n",
              "ՍԱՅԱԹ-ՆՈՎԱ            16\n",
              "Mi Qani Hogi          16\n",
              "Անդրե                 12\n",
              "Empyray               11\n",
              "Arame                 11\n",
              " Lav Eli              10\n",
              "Name: Artist, dtype: int64"
            ]
          },
          "metadata": {},
          "execution_count": 20
        }
      ]
    },
    {
      "cell_type": "code",
      "source": [
        "def preprocessing_func(df):\n",
        "    \"\"\"\n",
        "    Perform preprocessing steps on a DataFrame.\n",
        "\n",
        "    Args:\n",
        "        df (pandas.DataFrame): The DataFrame to be preprocessed.\n",
        "\n",
        "    Returns:\n",
        "        pandas.DataFrame: The preprocessed DataFrame.\n",
        "\n",
        "    \"\"\"\n",
        "    # Drop rows with any NaN values\n",
        "    df.dropna(how='any', inplace=True)\n",
        "    df = df[df['Song'] != 'Տնից Պախել Եմ (Tnits Paxhel Em)']\n",
        "\n",
        "    # After dropping the rows, you can reset the index if needed\n",
        "    df.reset_index(drop=True, inplace=True)\n",
        "\n",
        "    # Replace newline, carriage return, and tab characters with a space\n",
        "    df['Translated_Lyrics'] = df['Translated_Lyrics'].str.replace(r'\\n|\\r|\\t', ' ', regex=True)\n",
        "    df['Translated_Lyrics'] = df['Translated_Lyrics'].astype(str)\n",
        "\n",
        "    # Rename columns\n",
        "    df.rename(columns={'Artist': 'artist', 'Translated_Lyrics': 'text', 'Song': 'song'}, inplace=True)\n",
        "\n",
        "    return df"
      ],
      "metadata": {
        "id": "QUdWhAcskAcO"
      },
      "execution_count": 21,
      "outputs": []
    },
    {
      "cell_type": "code",
      "source": [
        "def stem_from_tokens(df, column_name):\n",
        "    \"\"\"\n",
        "    Apply stemming to tokens in a DataFrame column.\n",
        "\n",
        "    Args:\n",
        "        df (pandas.DataFrame): The DataFrame containing the column with tokens.\n",
        "        column_name (str): The name of the column containing the tokens.\n",
        "\n",
        "    Returns:\n",
        "        pandas.DataFrame: The DataFrame with an additional column containing the stemmed tokens.\n",
        "\n",
        "    \"\"\"\n",
        "    # Initialize the stemmer\n",
        "    stemmer = nltk.stem.porter.PorterStemmer()\n",
        "    token_to_stem = {}\n",
        "    token_count = 0  # Initialize word count\n",
        "\n",
        "    # Iterate through all songs\n",
        "    for lst in df[column_name]:\n",
        "        # Iterate through all tokens of a song\n",
        "        for token in lst:\n",
        "            token_count += 1\n",
        "            # Check if token is in the dictionary\n",
        "            if token not in token_to_stem:\n",
        "                # Add token to the dictionary with its stem\n",
        "                token_to_stem[token] = stemmer.stem(token)\n",
        "\n",
        "    # Map the tokens to their stems in a new column\n",
        "    df['stems'] = df[column_name].map(lambda lst: [token_to_stem[token] for token in lst])\n",
        "    df['stems_str'] = df['stems'].map(lambda lst: ' '.join(lst))\n",
        "\n",
        "    return df"
      ],
      "metadata": {
        "id": "1t9ZHLXgZfkK"
      },
      "execution_count": 22,
      "outputs": []
    },
    {
      "cell_type": "code",
      "source": [
        "def encode_labels(df, label_column):\n",
        "    \"\"\"\n",
        "    Encode labels in a DataFrame column using LabelEncoder.\n",
        "\n",
        "    Args:\n",
        "        df (pandas.DataFrame): The DataFrame containing the label column.\n",
        "        label_column (str): The name of the column containing the labels.\n",
        "\n",
        "    Returns:\n",
        "        pandas.DataFrame: The DataFrame with an additional column containing the encoded labels.\n",
        "\n",
        "    \"\"\"\n",
        "    label_encoder = LabelEncoder()\n",
        "    df['target'] = label_encoder.fit_transform(df[label_column])\n",
        "    return df,label_encoder"
      ],
      "metadata": {
        "id": "PlqJNvIpaQtu"
      },
      "execution_count": 23,
      "outputs": []
    },
    {
      "cell_type": "code",
      "source": [
        "def make_bached_dataset(batch_size, df):\n",
        "    \"\"\"\n",
        "    Create batched TensorFlow datasets for training and testing.\n",
        "\n",
        "    Args:\n",
        "        batch_size (int): The batch size for the datasets.\n",
        "        df (pandas.DataFrame): The DataFrame containing the dataset.\n",
        "\n",
        "    Returns:\n",
        "        tuple: A tuple containing the training and testing datasets.\n",
        "               Each dataset is a TensorFlow dataset object.\n",
        "\n",
        "    \"\"\"\n",
        "    random.seed(42)\n",
        "    \n",
        "    targets = df['target'].to_numpy()\n",
        "\n",
        "    train_idx, valid_idx = train_test_split(\n",
        "        np.arange(len(targets)),\n",
        "        test_size=0.2,\n",
        "        shuffle=True,\n",
        "        stratify=targets\n",
        "    )\n",
        "\n",
        "    train = df.iloc[train_idx]\n",
        "    test = df.iloc[valid_idx]\n",
        "\n",
        "    X_train = train[\"stems_str\"]\n",
        "    y_train = train[\"target\"]\n",
        "    X_test = test[\"stems_str\"]\n",
        "    y_test = test[\"target\"]\n",
        "\n",
        "    # Create TensorFlow datasets from X_train and y_train\n",
        "    train_dataset = tf.data.Dataset.from_tensor_slices((X_train, y_train))\n",
        "    test_dataset = tf.data.Dataset.from_tensor_slices((X_test, y_test))\n",
        "\n",
        "    # Batch the datasets\n",
        "    train_dataset = train_dataset.batch(batch_size)\n",
        "    test_dataset = test_dataset.batch(batch_size)\n",
        "\n",
        "    return train_dataset, test_dataset, y_test"
      ],
      "metadata": {
        "id": "eaS7ws0IadK9"
      },
      "execution_count": 24,
      "outputs": []
    },
    {
      "cell_type": "code",
      "source": [
        "def make_vectorized_dataset(max_tokens, train_dataset, test_dataset):\n",
        "    \"\"\"\n",
        "    Create a vectorized dataset using TextVectorization.\n",
        "\n",
        "    Args:\n",
        "        max_tokens (int): The maximum number of tokens to consider in the vectorization process.\n",
        "        train_dataset (tf.data.Dataset): The training dataset.\n",
        "        test_dataset (tf.data.Dataset): The testing dataset.\n",
        "\n",
        "    Returns:\n",
        "        tuple: A tuple containing the vectorized training and testing datasets.\n",
        "\n",
        "    \"\"\"\n",
        "    text_vectorization = TextVectorization(\n",
        "        max_tokens=max_tokens,\n",
        "        output_mode=\"multi_hot\"\n",
        "    )\n",
        "\n",
        "    text_only_train_ds = train_dataset.map(lambda x, y: x)\n",
        "    text_vectorization.adapt(text_only_train_ds)\n",
        "\n",
        "    train_ds = train_dataset.map(\n",
        "        lambda x, y: (text_vectorization(x), y),\n",
        "        num_parallel_calls=4\n",
        "    )\n",
        "\n",
        "    test_ds = test_dataset.map(\n",
        "        lambda x, y: (text_vectorization(x), y),\n",
        "        num_parallel_calls=4\n",
        "    )\n",
        "\n",
        "    return train_ds, test_ds"
      ],
      "metadata": {
        "id": "Mr1FntYCb605"
      },
      "execution_count": 25,
      "outputs": []
    },
    {
      "cell_type": "code",
      "source": [
        "def get_model(max_tokens):\n",
        "    \"\"\"\n",
        "    Create a neural network model.\n",
        "\n",
        "    Args:\n",
        "        max_tokens (int): The number of input tokens.\n",
        "\n",
        "    Returns:\n",
        "        tensorflow.keras.Model: The compiled neural network model.\n",
        "\n",
        "    \"\"\"\n",
        "\n",
        "    random.seed(42)\n",
        "\n",
        "    inputs = keras.Input(shape=(max_tokens,))\n",
        "    features = layers.Dense(256, activation=\"relu\")(inputs)\n",
        "    features = layers.Dense(256, activation=\"relu\")(features)\n",
        "    features = layers.BatchNormalization()(features)\n",
        "    features = layers.Dense(128, activation=\"relu\")(features)\n",
        "    features = layers.Dense(128, activation=\"relu\")(features)\n",
        "    features = layers.BatchNormalization()(features)\n",
        "    features = layers.Dense(64, activation=\"relu\")(features)\n",
        "    features = layers.BatchNormalization()(features)\n",
        "    outputs = layers.Dense(20, activation=\"softmax\")(features)\n",
        "    model = keras.Model(inputs=inputs, outputs=outputs)\n",
        "\n",
        "\n",
        "    # inputs = keras.Input(shape=(1,max_tokens))\n",
        "    # x = layers.SimpleRNN(16, return_sequences=True)(inputs)\n",
        "    # x = layers.SimpleRNN(16, return_sequences=True)(x)\n",
        "    # outputs = layers.SimpleRNN(20)(x)\n",
        "\n",
        "    model.compile(\n",
        "        optimizer=\"rmsprop\",\n",
        "        loss=\"sparse_categorical_crossentropy\",\n",
        "        metrics=[\"accuracy\"]\n",
        "    )\n",
        "\n",
        "    return model"
      ],
      "metadata": {
        "id": "gP7MqXHSfS3J"
      },
      "execution_count": 26,
      "outputs": []
    },
    {
      "cell_type": "code",
      "source": [
        "def model_fit(model, train_ds, test_ds, path):\n",
        "    \"\"\"\n",
        "    Fit a neural network model to the training dataset and evaluate it on the testing dataset.\n",
        "\n",
        "    Args:\n",
        "        train_ds (tf.data.Dataset): The training dataset.\n",
        "        test_ds (tf.data.Dataset): The testing dataset.\n",
        "        path (str): The path to save the best model checkpoint.\n",
        "\n",
        "    Returns:\n",
        "        tuple: A tuple containing the trained model and the accuracy string.\n",
        "\n",
        "    \"\"\"\n",
        "    \n",
        "    callbacks = [\n",
        "        keras.callbacks.ModelCheckpoint(path, save_best_only=True)\n",
        "    ]\n",
        "\n",
        "    model.fit(\n",
        "        train_ds.cache(),\n",
        "        validation_data=test_ds.cache(),\n",
        "        epochs=5,\n",
        "        callbacks=callbacks\n",
        "    )\n",
        "\n",
        "    model = keras.models.load_model(path)\n",
        "    accuracy = f\"Test acc: {model.evaluate(test_ds)[1]:.3f}\"\n",
        "    return model, accuracy"
      ],
      "metadata": {
        "id": "F_dV5lqofn6S"
      },
      "execution_count": 27,
      "outputs": []
    },
    {
      "cell_type": "code",
      "source": [
        "def model_predict(model, test_ds):\n",
        "    \"\"\"\n",
        "    Make predictions using a trained neural network model.\n",
        "\n",
        "    Args:\n",
        "        model (tensorflow.keras.Model): The trained model.\n",
        "        test_ds (tf.data.Dataset): The dataset to make predictions on.\n",
        "\n",
        "    Returns:\n",
        "        numpy.ndarray: The predicted labels.\n",
        "\n",
        "    \"\"\"\n",
        "    y_pred = np.argmax(model.predict(test_ds), axis=1)\n",
        "    return y_pred"
      ],
      "metadata": {
        "id": "glhOSjgWiKU3"
      },
      "execution_count": 28,
      "outputs": []
    },
    {
      "cell_type": "code",
      "source": [
        "def tokenize_column(df, column_name, language='en'):\n",
        "    \"\"\"\n",
        "    Tokenizes a specified column of a DataFrame based on the specified language.\n",
        "\n",
        "    Args:\n",
        "        df (DataFrame): The DataFrame to process.\n",
        "        column_name (str): The name of the column to tokenize.\n",
        "        language (str): The language of the column content ('en' for English, 'hy' for Armenian).\n",
        "\n",
        "    Returns:\n",
        "        DataFrame: The input DataFrame with a new column containing the tokenized values.\n",
        "\n",
        "    Raises:\n",
        "        ValueError: If the specified column_name does not exist in the DataFrame or the language is not supported.\n",
        "\n",
        "    Example:\n",
        "        df = pd.DataFrame({'lyrics': ['This is a sentence.', 'Այս հանդիպումը մի հատված է.']})\n",
        "        tokenize_column(df, 'lyrics', 'en')\n",
        "        # Resulting DataFrame:\n",
        "        #                       lyrics              tokens_en\n",
        "        # 0         This is a sentence.   [This, is, a, sentence, .]\n",
        "        # 1  Այս հանդիպումը մի հատված է:  [Այս, հանդիպումը, մի, հատված, է, :]\n",
        "    \"\"\"\n",
        "    if column_name not in df.columns:\n",
        "        raise ValueError(f\"Column '{column_name}' does not exist in the DataFrame.\")\n",
        "\n",
        "    if language not in ['en', 'hy']:\n",
        "        raise ValueError(\"Unsupported language. Choose 'en' for English or 'hy' for Armenian.\")\n",
        "        \n",
        "    tokenizer = nltk.tokenize.RegexpTokenizer(r'\\w+')\n",
        "\n",
        "    if language == 'en':\n",
        "        df['tokens_en'] = df[column_name].map(tokenizer.tokenize)\n",
        "    elif language == 'hy':\n",
        "        df['tokens_hy'] = df[column_name].map(tokenizer.tokenize)\n",
        "\n",
        "    return df"
      ],
      "metadata": {
        "id": "aQkwYV06uox3"
      },
      "execution_count": 29,
      "outputs": []
    },
    {
      "cell_type": "code",
      "source": [
        "#Preprocess the data\n",
        "df = preprocessing_func(df)"
      ],
      "metadata": {
        "id": "1po2h4P3NRMn",
        "colab": {
          "base_uri": "https://localhost:8080/"
        },
        "outputId": "ddd134f7-ddb3-4165-c450-be624fb74ea3"
      },
      "execution_count": 30,
      "outputs": [
        {
          "output_type": "stream",
          "name": "stderr",
          "text": [
            "<ipython-input-21-7afd08a2cfd1>:20: SettingWithCopyWarning: \n",
            "A value is trying to be set on a copy of a slice from a DataFrame.\n",
            "Try using .loc[row_indexer,col_indexer] = value instead\n",
            "\n",
            "See the caveats in the documentation: https://pandas.pydata.org/pandas-docs/stable/user_guide/indexing.html#returning-a-view-versus-a-copy\n",
            "  df['Translated_Lyrics'] = df['Translated_Lyrics'].str.replace(r'\\n|\\r|\\t', ' ', regex=True)\n",
            "<ipython-input-21-7afd08a2cfd1>:21: SettingWithCopyWarning: \n",
            "A value is trying to be set on a copy of a slice from a DataFrame.\n",
            "Try using .loc[row_indexer,col_indexer] = value instead\n",
            "\n",
            "See the caveats in the documentation: https://pandas.pydata.org/pandas-docs/stable/user_guide/indexing.html#returning-a-view-versus-a-copy\n",
            "  df['Translated_Lyrics'] = df['Translated_Lyrics'].astype(str)\n",
            "<ipython-input-21-7afd08a2cfd1>:24: SettingWithCopyWarning: \n",
            "A value is trying to be set on a copy of a slice from a DataFrame\n",
            "\n",
            "See the caveats in the documentation: https://pandas.pydata.org/pandas-docs/stable/user_guide/indexing.html#returning-a-view-versus-a-copy\n",
            "  df.rename(columns={'Artist': 'artist', 'Translated_Lyrics': 'text', 'Song': 'song'}, inplace=True)\n"
          ]
        }
      ]
    },
    {
      "cell_type": "code",
      "source": [
        "#Tokenize text column\n",
        "df = tokenize_column(df, 'text' , language='en')"
      ],
      "metadata": {
        "id": "wHPbp0CwNRMo"
      },
      "execution_count": 31,
      "outputs": []
    },
    {
      "cell_type": "code",
      "source": [
        "#Stemming\n",
        "df = stem_from_tokens(df,'tokens_en')"
      ],
      "metadata": {
        "id": "hErHV3umNRMp"
      },
      "execution_count": 32,
      "outputs": []
    },
    {
      "cell_type": "code",
      "source": [
        "#Drop unnecessary columns\n",
        "df.drop([\"text\", \"tokens_en\", \"song\", \"stems\"], axis=1, inplace=True)"
      ],
      "metadata": {
        "id": "aysvGmioNRMp"
      },
      "execution_count": 33,
      "outputs": []
    },
    {
      "cell_type": "code",
      "source": [
        "#Encode the target\n",
        "df, encoder = encode_labels(df, 'artist')"
      ],
      "metadata": {
        "id": "KVVaJN4tNRMp"
      },
      "execution_count": 34,
      "outputs": []
    },
    {
      "cell_type": "code",
      "source": [
        "#Make a dataset\n",
        "batch_size = 8\n",
        "train_dataset, test_dataset, y_test = make_bached_dataset(batch_size, df)"
      ],
      "metadata": {
        "id": "bh90PL4aNRMq"
      },
      "execution_count": 35,
      "outputs": []
    },
    {
      "cell_type": "code",
      "source": [
        "#Vectorize text data\n",
        "max_tokens = 5000\n",
        "train_ds, test_ds = make_vectorized_dataset(max_tokens, train_dataset, test_dataset)"
      ],
      "metadata": {
        "id": "4hXMZaFzNRMq"
      },
      "execution_count": 36,
      "outputs": []
    },
    {
      "cell_type": "code",
      "source": [
        "#Build a model\n",
        "model = get_model(max_tokens)"
      ],
      "metadata": {
        "id": "7X4FiVshNRMq"
      },
      "execution_count": 37,
      "outputs": []
    },
    {
      "cell_type": "code",
      "source": [
        "#Fit the model to data and load the best model\n",
        "path = 'dense_layers.keras'\n",
        "best_model, accuracy = model_fit(model,train_ds, test_ds, path)"
      ],
      "metadata": {
        "id": "OavbbPHmNRMr",
        "colab": {
          "base_uri": "https://localhost:8080/"
        },
        "outputId": "1bed21e6-5ed2-495b-a76f-e632b95b9c9b"
      },
      "execution_count": 38,
      "outputs": [
        {
          "output_type": "stream",
          "name": "stdout",
          "text": [
            "Epoch 1/5\n",
            "51/51 [==============================] - 4s 36ms/step - loss: 3.3434 - accuracy: 0.0817 - val_loss: 2.9287 - val_accuracy: 0.1188\n",
            "Epoch 2/5\n",
            "51/51 [==============================] - 1s 29ms/step - loss: 2.0154 - accuracy: 0.3960 - val_loss: 2.8384 - val_accuracy: 0.1782\n",
            "Epoch 3/5\n",
            "51/51 [==============================] - 1s 20ms/step - loss: 1.3198 - accuracy: 0.6361 - val_loss: 2.8162 - val_accuracy: 0.1980\n",
            "Epoch 4/5\n",
            "51/51 [==============================] - 1s 20ms/step - loss: 0.9431 - accuracy: 0.7475 - val_loss: 2.6456 - val_accuracy: 0.2079\n",
            "Epoch 5/5\n",
            "51/51 [==============================] - 1s 20ms/step - loss: 0.6030 - accuracy: 0.8886 - val_loss: 2.4204 - val_accuracy: 0.3366\n",
            "13/13 [==============================] - 0s 4ms/step - loss: 2.4204 - accuracy: 0.3366\n"
          ]
        }
      ]
    },
    {
      "cell_type": "code",
      "source": [
        "#Make predictions\n",
        "y_pred = model_predict(best_model, test_ds)"
      ],
      "metadata": {
        "colab": {
          "base_uri": "https://localhost:8080/"
        },
        "id": "5PB4qMVQNRMr",
        "outputId": "3502dbe3-b6d6-4489-9eb4-6d4b5912a79e"
      },
      "execution_count": 39,
      "outputs": [
        {
          "output_type": "stream",
          "name": "stdout",
          "text": [
            "13/13 [==============================] - 0s 6ms/step\n"
          ]
        }
      ]
    },
    {
      "cell_type": "code",
      "source": [
        "#Test accuracy\n",
        "accuracy"
      ],
      "metadata": {
        "colab": {
          "base_uri": "https://localhost:8080/",
          "height": 36
        },
        "id": "IBvzWen8PWV6",
        "outputId": "6ca32c8d-f332-4059-ef18-c617e81029da"
      },
      "execution_count": 40,
      "outputs": [
        {
          "output_type": "execute_result",
          "data": {
            "text/plain": [
              "'Test acc: 0.337'"
            ],
            "application/vnd.google.colaboratory.intrinsic+json": {
              "type": "string"
            }
          },
          "metadata": {},
          "execution_count": 40
        }
      ]
    },
    {
      "cell_type": "code",
      "source": [
        "from sklearn.metrics import confusion_matrix\n",
        "import seaborn as sns\n",
        "import matplotlib.pyplot as plt\n",
        "\n",
        "# y_test1 = encoder.inverse_transform(y_test)\n",
        "# y_pred1 = encoder.inverse_transform(y_pred)\n",
        "\n",
        "\n",
        "conf_matrix = confusion_matrix(y_test, y_pred)\n",
        "plt.figure(figsize=(10,10))\n",
        "sns.heatmap(conf_matrix, annot=True, fmt=\"d\")\n",
        "\n",
        "plt.ylabel(\"Actual\")\n",
        "plt.xlabel(\"Predicted\")\n",
        "plt.show()"
      ],
      "metadata": {
        "colab": {
          "base_uri": "https://localhost:8080/",
          "height": 855
        },
        "id": "PtIwFswPNRMs",
        "outputId": "7a4b7945-8948-4463-b1a7-e4931bf3264c"
      },
      "execution_count": 41,
      "outputs": [
        {
          "output_type": "display_data",
          "data": {
            "text/plain": [
              "<Figure size 1000x1000 with 2 Axes>"
            ],
            "image/png": "[encoded data removed]"
          },
          "metadata": {}
        }
      ]
    },
    {
      "cell_type": "code",
      "source": [
        "# Compute F1 score\n",
        "f1 = f1_score(y_test, y_pred, average='weighted') \n",
        "\n",
        "print(\"F1 Score:\", f1)"
      ],
      "metadata": {
        "colab": {
          "base_uri": "https://localhost:8080/"
        },
        "id": "qiVmeHMuNRMs",
        "outputId": "ee66ae56-14fb-4346-868a-5e9acb3dd068"
      },
      "execution_count": 42,
      "outputs": [
        {
          "output_type": "stream",
          "name": "stdout",
          "text": [
            "F1 Score: 0.29555889654899553\n"
          ]
        }
      ]
    },
    {
      "cell_type": "code",
      "source": [
        "# Save the model to a file\n",
        "filename = 'model.pkl'\n",
        "with open(filename, 'wb') as file:\n",
        "    pickle.dump(model, file)\n",
        "# Load the saved model from file\n",
        "with open(filename, 'rb') as file:\n",
        "    loaded_model = pickle.load(file)"
      ],
      "metadata": {
        "id": "VfSKxidcoW9I"
      },
      "execution_count": 43,
      "outputs": []
    }
  ]
}