{
 "cells": [
  {
   "cell_type": "markdown",
   "metadata": {
    "id": "cMNXmcIt2Lm0"
   },
   "source": [
    "**<h1>Group Project</h1>**\n",
    "\n",
    "**<h1>Lyrics to singer classification</h1>**\n",
    "---\n",
    "\n",
    "> \n",
    "\n",
    "   **<h2>Մասնակիցներ</h2>**\n",
    "\n",
    "\n",
    "*   Հրանուշ Սահրադյան\n",
    "*   Հասմիկ Մնացականյան\n",
    "*   Մերի Վարդանյան\n",
    "*   Արմեն Մանուկյան\n",
    "\n",
    "\n",
    ">\n",
    "\n",
    "\n",
    "\n",
    "\n",
    "\n",
    "\n",
    "**<h2>Purpose of the project</h2>**\n",
    "\n",
    "Նախագծի նպատակն է համացանցից հավաքել (web scraping-ի միջոցով) 20 տարբեր հայ երգիչների երգերի բառեր, դրանք մշակելով ստանալ տվյալների բազմություն, բաժանել մի քանի մասի (train, val, test) և այդ տվյալների բազմության վրա ստանալ այնպիսի մոդել, որի միջոցով հնարավոր կլինի ինչ֊որ ճշտությամբ գուշակել, թե որ երգիչներին են պատկանում մոդելի կողմից չտեսնված երգերի բառերը։\n",
    "\n",
    "\n",
    "\n",
    "\n",
    "\n",
    "\n",
    "\n",
    "\n",
    "\n"
   ]
  },
  {
   "cell_type": "markdown",
   "metadata": {
    "id": "56qMrdER-wb7"
   },
   "source": [
    "**<h2>Contents</h2>**\n",
    "\n",
    "\n",
    "1.   [Data Cleaning and Preprocessing](#preproc)\n",
    "3.   [Feature Selection/Extraction](#fenigine)\n",
    "4.   [EDA](#eda)\n"
   ]
  },
  {
   "cell_type": "markdown",
   "metadata": {},
   "source": [
    "**Note**: Data collection part you can see in the notebook \"Data collection\""
   ]
  },
  {
   "cell_type": "code",
   "execution_count": 6,
   "metadata": {
    "id": "MK5kRFNWAnVh"
   },
   "outputs": [],
   "source": [
    "import pandas as pd\n",
    "import plotly.express as px\n",
    "import plotly.graph_objects as go\n",
    "import numpy as np\n",
    "import re\n",
    "import random\n",
    "import nltk\n",
    "from scipy import sparse\n",
    "from scipy.sparse import csr_matrix, vstack\n",
    "from textblob import TextBlob\n",
    "import pickle\n",
    "from datetime import datetime\n",
    "\n",
    "from sklearn.feature_extraction.text import TfidfTransformer, CountVectorizer\n",
    "from sklearn.metrics.pairwise import cosine_similarity\n",
    "from sklearn.linear_model import LogisticRegression\n",
    "from sklearn.metrics import accuracy_score, confusion_matrix\n",
    "from sklearn.pipeline import Pipeline\n",
    "from sklearn.preprocessing import StandardScaler\n",
    "import time \n",
    "import glob\n",
    "import requests\n",
    "import nltk\n",
    "from langdetect import detect_langs"
   ]
  },
  {
   "cell_type": "markdown",
   "metadata": {
    "id": "euCqqVsB9HjK"
   },
   "source": [
    " <a name=\"preproc\"></a>\n",
    "\n",
    "## Data Cleaning and Preprocessing"
   ]
  },
  {
   "cell_type": "markdown",
   "metadata": {
    "id": "GxQFNB_b9Hxc"
   },
   "source": [
    "Data cleaning and preprocessing for a dataset on Armenian artists and their song lyrics typically involve several steps to ensure the data is accurate, consistent, and ready for analysis or modeling. Here's an overview of the potential steps involved:\n",
    "\n",
    "**Handling Missing Values:** Identify any missing values in the dataset, such as empty cells or null values. Depending on the context, you can choose to either remove rows or columns with missing values, or impute the missing values using techniques like mean, median, or mode imputation. Consider the impact of missing values on variables like artist names, song titles, and lyrics, and handle them accordingly.\n",
    "\n",
    "**Removing Duplicate Entries:** Check for and remove any duplicate entries in the dataset. Duplicates can arise from data collection or merging processes and can introduce bias or affect analysis results. Identify duplicate rows or combinations of variables and remove them to maintain data integrity.\n",
    "\n",
    "**Cleaning and Standardizing Textual Data:** Perform text cleaning and preprocessing on variables like artist names, song titles, and lyrics. This may involve steps such as removing special characters, punctuation, or unnecessary whitespace, converting text to lowercase or uppercase consistently, and handling encoding issues if any.\n",
    "\n",
    "**Language Detection:** Since you are interested in Armenian lyrics, you can apply language detection techniques to identify whether the lyrics are in Armenian or another language. This step ensures that you are working with the desired language and can filter out any non-Armenian lyrics if needed.\n",
    "\n",
    "**Dealing with Stop Words and Noise:** In the lyrics column, consider removing common stop words (e.g., \"the,\" \"and,\" \"is\") that do not carry substantial meaning. Additionally, address any noise or irrelevant text that may be present in the lyrics, such as ad-libs or non-lyrical portions.\n",
    "\n",
    "**Tokenization and Lemmatization:** Split the lyrics into individual words or tokens using tokenization techniques. This allows for further analysis or modeling on a word-level basis. Additionally, consider applying lemmatization to reduce words to their base or root form, improving consistency and reducing dimensionality.\n",
    "\n",
    "**Handling Non-Textual Data:** If your dataset contains non-textual data, such as artist metadata or genre information, ensure appropriate cleaning and preprocessing. This may involve transforming categorical variables using techniques like one-hot encoding or label encoding to make them compatible with analysis or modeling techniques.\n",
    "\n",
    "**Data Validation and Sanity Checks:** Validate the dataset against predefined constraints or business rules to ensure data integrity. Perform sanity checks to identify any inconsistencies, outliers, or unexpected patterns. This step helps ensure the dataset aligns with domain knowledge and meets your expectations.\n"
   ]
  },
  {
   "cell_type": "code",
   "execution_count": 10,
   "metadata": {
    "id": "xFJ2ODlSKdFV"
   },
   "outputs": [],
   "source": [
    "df=pd.read_csv(\"FinalData.csv\")"
   ]
  },
  {
   "cell_type": "markdown",
   "metadata": {
    "id": "OooW7rnGSH--"
   },
   "source": [
    "Let's see what we have in our dataset."
   ]
  },
  {
   "cell_type": "code",
   "execution_count": 11,
   "metadata": {
    "colab": {
     "base_uri": "https://localhost:8080/"
    },
    "id": "rHlFW94Auxfg",
    "outputId": "0dd5e174-f2a1-4fe3-98e6-938ca1e64813"
   },
   "outputs": [
    {
     "data": {
      "text/plain": [
       "(1038, 3)"
      ]
     },
     "execution_count": 11,
     "metadata": {},
     "output_type": "execute_result"
    }
   ],
   "source": [
    "df.shape"
   ]
  },
  {
   "cell_type": "code",
   "execution_count": 12,
   "metadata": {
    "colab": {
     "base_uri": "https://localhost:8080/",
     "height": 833
    },
    "id": "i8pyTVmjKdOH",
    "outputId": "f39f14e8-f2ca-41a1-a2b5-dc7da591cfa9"
   },
   "outputs": [
    {
     "data": {
      "text/html": [
       "<div>\n",
       "<style scoped>\n",
       "    .dataframe tbody tr th:only-of-type {\n",
       "        vertical-align: middle;\n",
       "    }\n",
       "\n",
       "    .dataframe tbody tr th {\n",
       "        vertical-align: top;\n",
       "    }\n",
       "\n",
       "    .dataframe thead th {\n",
       "        text-align: right;\n",
       "    }\n",
       "</style>\n",
       "<table border=\"1\" class=\"dataframe\">\n",
       "  <thead>\n",
       "    <tr style=\"text-align: right;\">\n",
       "      <th></th>\n",
       "      <th>Song</th>\n",
       "      <th>Lyrics</th>\n",
       "    </tr>\n",
       "    <tr>\n",
       "      <th>Artist</th>\n",
       "      <th></th>\n",
       "      <th></th>\n",
       "    </tr>\n",
       "  </thead>\n",
       "  <tbody>\n",
       "    <tr>\n",
       "      <th>Armenchik</th>\n",
       "      <td>26</td>\n",
       "      <td>26</td>\n",
       "    </tr>\n",
       "    <tr>\n",
       "      <th>Lav Eli</th>\n",
       "      <td>20</td>\n",
       "      <td>20</td>\n",
       "    </tr>\n",
       "    <tr>\n",
       "      <th>Aram MP3</th>\n",
       "      <td>32</td>\n",
       "      <td>32</td>\n",
       "    </tr>\n",
       "    <tr>\n",
       "      <th>Arame</th>\n",
       "      <td>38</td>\n",
       "      <td>38</td>\n",
       "    </tr>\n",
       "    <tr>\n",
       "      <th>Arsen Safaryan</th>\n",
       "      <td>28</td>\n",
       "      <td>28</td>\n",
       "    </tr>\n",
       "    <tr>\n",
       "      <th>Empyray</th>\n",
       "      <td>22</td>\n",
       "      <td>22</td>\n",
       "    </tr>\n",
       "    <tr>\n",
       "      <th>Forsh</th>\n",
       "      <td>22</td>\n",
       "      <td>22</td>\n",
       "    </tr>\n",
       "    <tr>\n",
       "      <th>Gor Sujyan</th>\n",
       "      <td>10</td>\n",
       "      <td>10</td>\n",
       "    </tr>\n",
       "    <tr>\n",
       "      <th>HT Hayko</th>\n",
       "      <td>32</td>\n",
       "      <td>32</td>\n",
       "    </tr>\n",
       "    <tr>\n",
       "      <th>Harout Pamboukjian</th>\n",
       "      <td>135</td>\n",
       "      <td>135</td>\n",
       "    </tr>\n",
       "    <tr>\n",
       "      <th>Mi Qani Hogi</th>\n",
       "      <td>16</td>\n",
       "      <td>16</td>\n",
       "    </tr>\n",
       "    <tr>\n",
       "      <th>Misho</th>\n",
       "      <td>32</td>\n",
       "      <td>32</td>\n",
       "    </tr>\n",
       "    <tr>\n",
       "      <th>Razmik Amyan</th>\n",
       "      <td>46</td>\n",
       "      <td>46</td>\n",
       "    </tr>\n",
       "    <tr>\n",
       "      <th>Silva Hakobyan</th>\n",
       "      <td>48</td>\n",
       "      <td>48</td>\n",
       "    </tr>\n",
       "    <tr>\n",
       "      <th>ԱՐԹՈՒՐ ՄԵՍՉՅԱՆ</th>\n",
       "      <td>50</td>\n",
       "      <td>50</td>\n",
       "    </tr>\n",
       "    <tr>\n",
       "      <th>Անդրե</th>\n",
       "      <td>28</td>\n",
       "      <td>28</td>\n",
       "    </tr>\n",
       "    <tr>\n",
       "      <th>Լիլիթ Հովհաննիսյան</th>\n",
       "      <td>62</td>\n",
       "      <td>62</td>\n",
       "    </tr>\n",
       "    <tr>\n",
       "      <th>ԿՈՄԻՏԱՍ</th>\n",
       "      <td>64</td>\n",
       "      <td>64</td>\n",
       "    </tr>\n",
       "    <tr>\n",
       "      <th>Հայկ Հակոբյան</th>\n",
       "      <td>71</td>\n",
       "      <td>71</td>\n",
       "    </tr>\n",
       "    <tr>\n",
       "      <th>Միհրան Ծառուկյան</th>\n",
       "      <td>60</td>\n",
       "      <td>60</td>\n",
       "    </tr>\n",
       "    <tr>\n",
       "      <th>Ներսիկ Իսպիրյան</th>\n",
       "      <td>14</td>\n",
       "      <td>14</td>\n",
       "    </tr>\n",
       "    <tr>\n",
       "      <th>ՌՈՒԲԵՆ ՀԱԽՎԵՐԴՅԱՆ</th>\n",
       "      <td>86</td>\n",
       "      <td>86</td>\n",
       "    </tr>\n",
       "    <tr>\n",
       "      <th>ՍԱՅԱԹ-ՆՈՎԱ</th>\n",
       "      <td>16</td>\n",
       "      <td>16</td>\n",
       "    </tr>\n",
       "    <tr>\n",
       "      <th>Սիրուշո</th>\n",
       "      <td>80</td>\n",
       "      <td>80</td>\n",
       "    </tr>\n",
       "  </tbody>\n",
       "</table>\n",
       "</div>"
      ],
      "text/plain": [
       "                    Song  Lyrics\n",
       "Artist                          \n",
       " Armenchik            26      26\n",
       " Lav Eli              20      20\n",
       "Aram MP3              32      32\n",
       "Arame                 38      38\n",
       "Arsen Safaryan        28      28\n",
       "Empyray               22      22\n",
       "Forsh                 22      22\n",
       "Gor Sujyan            10      10\n",
       "HT Hayko              32      32\n",
       "Harout Pamboukjian   135     135\n",
       "Mi Qani Hogi          16      16\n",
       "Misho                 32      32\n",
       "Razmik Amyan          46      46\n",
       "Silva Hakobyan        48      48\n",
       "ԱՐԹՈՒՐ ՄԵՍՉՅԱՆ        50      50\n",
       "Անդրե                 28      28\n",
       "Լիլիթ Հովհաննիսյան    62      62\n",
       "ԿՈՄԻՏԱՍ               64      64\n",
       "Հայկ Հակոբյան         71      71\n",
       "Միհրան Ծառուկյան      60      60\n",
       "Ներսիկ Իսպիրյան       14      14\n",
       "ՌՈՒԲԵՆ ՀԱԽՎԵՐԴՅԱՆ     86      86\n",
       "ՍԱՅԱԹ-ՆՈՎԱ            16      16\n",
       "Սիրուշո               80      80"
      ]
     },
     "execution_count": 12,
     "metadata": {},
     "output_type": "execute_result"
    }
   ],
   "source": [
    "df.groupby('Artist').count()"
   ]
  },
  {
   "cell_type": "code",
   "execution_count": 13,
   "metadata": {
    "colab": {
     "base_uri": "https://localhost:8080/"
    },
    "id": "0BAttwQ7fqfX",
    "outputId": "cec4a489-8142-481e-87ab-bfc65e8463c2"
   },
   "outputs": [
    {
     "name": "stdout",
     "output_type": "stream",
     "text": [
      "\n",
      "[Verse 1: Ֆելո (3.33)]\n",
      "\n",
      "Մեզ թվումա, որ մեզ թվումա\n",
      "\n",
      "Որ մեկը մեզ հետևումա, մեկը մեր հետևումա\n",
      "\n",
      "Մեր մտքերը գողանումա, տանում\n",
      "\n",
      "Ես լավանում եմ, դու՝ վատանում\n",
      "\n",
      "Մենք որոշում ենք, հետո փոշմանում\n",
      "\n",
      "Ասում ենք երկար ու երկար չենք անում\n",
      "\n",
      "Ու եթե մի 10 հոգի էս պահին ներս գային\n",
      "\n",
      "Լավ կլիներ մեր ռիթմերը զգային\n",
      "\n",
      "Էս պահին, տես գահին\n",
      "\n",
      "Մեջը կորած ասեղ, եթե գտնես քեզ պահի\n",
      "\n",
      "Մատդ ծակի կասես, հանրագիտարանը բաց\n",
      "\n",
      "Ու «Ա» տառից սկսի էս պահին\n",
      "\n",
      "Ինչ կա շատ, հավասար կիսի\n",
      "\n",
      "Անցնում էր լիմուզինը, դե սպանի\n",
      "\n",
      "Մի գնդակով 2 ճագար չես սպանի\n",
      "\n",
      "Ու եթե հոգի կա օդում մի քանի\n",
      "\n",
      "Ուրեմն Էս պահին արթնացի մի քնի\n",
      "\n",
      "\n",
      "[Hook: Ռոլանդ (Ռեինկարնացիա)]\n",
      "\n",
      "Էս պահին չեմ ուզում էլ նայեմ ժամին\n",
      "\n",
      "Ինձ թողեք մենակ ես սիրում եմ քամին\n",
      "\n",
      "Ու ոչ մեկ չգիտի, որ քամին գույն ունի\n",
      "\n",
      "Ու նայում է հեռվից էս պահին\n",
      "\n",
      "Էս պահին չեմ ուզում էլ նայեմ ժամին\n",
      "\n",
      "Ինձ թողեք մենակ ես սիրում եմ քամին\n",
      "\n",
      "Ու ոչ մեկ չգիտի, որ քամին գույն ունի\n",
      "\n",
      "Ու նայում է հեռվից էս պահին\n",
      "\n"
     ]
    }
   ],
   "source": [
    "print(df['Lyrics'].iloc[1033])"
   ]
  },
  {
   "cell_type": "markdown",
   "metadata": {
    "id": "6c7gWk9x08gJ"
   },
   "source": [
    "It looks like the texts are formated in different styles: the first example includes text in round brackets which says how often parts of the text shall be repeated e.g. \"(repeat previous line 3 times)\"."
   ]
  },
  {
   "cell_type": "markdown",
   "metadata": {
    "id": "xqhniKfP0xlk"
   },
   "source": [
    "Looks like the text in round brackets does mostly not belong to the lyrics of the song and should be removed."
   ]
  },
  {
   "cell_type": "code",
   "execution_count": 14,
   "metadata": {
    "colab": {
     "base_uri": "https://localhost:8080/"
    },
    "id": "OZQtthPWzus4",
    "outputId": "ae4ff33c-dc42-41ad-eae7-d4e3c4cfdf9f"
   },
   "outputs": [
    {
     "name": "stdout",
     "output_type": "stream",
     "text": [
      "Number of round brackets: 1177\n"
     ]
    }
   ],
   "source": [
    "text_in_round_brackets = sum(list(df['Lyrics'].map(lambda s: re.findall(r'\\((.*?)\\)',s))), [])\n",
    "print('Number of round brackets: {}'.format(len(text_in_round_brackets)))"
   ]
  },
  {
   "cell_type": "code",
   "execution_count": 15,
   "metadata": {
    "colab": {
     "base_uri": "https://localhost:8080/"
    },
    "id": "MHO6zjRVz50M",
    "outputId": "8cf23069-d2b1-45f9-c41c-9182c2c241ac"
   },
   "outputs": [
    {
     "data": {
      "text/plain": [
       "['Տուն 2',\n",
       " 'Կրկներգ',\n",
       " 'Կրկներգ',\n",
       " 'Անցում',\n",
       " '3',\n",
       " 'Կրկներգ',\n",
       " 'Անցում',\n",
       " 'Կրկներգ',\n",
       " 'Տուն 1',\n",
       " 'Աշխարհից քեզ թաքցրել է',\n",
       " 'x2',\n",
       " 'Բարև',\n",
       " 'Կրկներգ',\n",
       " 'Կրկներգ',\n",
       " 'Ser',\n",
       " 'Տուն 1',\n",
       " 'x2',\n",
       " '2x',\n",
       " 'Куплет 1',\n",
       " 'Տուն 1']"
      ]
     },
     "execution_count": 15,
     "metadata": {},
     "output_type": "execute_result"
    }
   ],
   "source": [
    "random.seed(0)\n",
    "random.choices(text_in_round_brackets, k=20)"
   ]
  },
  {
   "cell_type": "markdown",
   "metadata": {
    "id": "TKVwQT8uldZp"
   },
   "source": [
    "Removeing round/square brackest and text within."
   ]
  },
  {
   "cell_type": "code",
   "execution_count": 16,
   "metadata": {
    "id": "I51y84vjlSjk"
   },
   "outputs": [],
   "source": [
    "df['Lyrics'] = df['Lyrics'].map(lambda s: re.sub(r'\\((.*?)\\)', '', s))\n",
    "df['Lyrics'] = df['Lyrics'].map(lambda s: re.sub(r'\\[(.*?)\\]', '', s))"
   ]
  },
  {
   "cell_type": "markdown",
   "metadata": {
    "id": "ECmQ9H47nab8"
   },
   "source": [
    "As we can see all the songs written in Armenian within our dataset, so let's just remove any non-Armenian words present in the lyrics."
   ]
  },
  {
   "cell_type": "code",
   "execution_count": 17,
   "metadata": {
    "id": "uRIstfOEWENW"
   },
   "outputs": [],
   "source": [
    "armenian_pattern = re.compile(r'[Ա-Ֆա-ֆև\\s]+')\n",
    "df['Lyrics'] = df['Lyrics'].apply(lambda x: ''.join(armenian_pattern.findall(x)))\n",
    "\n",
    "df = df[df['Lyrics'].str.strip().astype(bool)]\n",
    "\n",
    "df.reset_index(drop=True, inplace=True)\n"
   ]
  },
  {
   "cell_type": "markdown",
   "metadata": {
    "id": "LR8VycalnzyE"
   },
   "source": [
    "Let's get rid of duplicate songs too."
   ]
  },
  {
   "cell_type": "code",
   "execution_count": 18,
   "metadata": {
    "colab": {
     "base_uri": "https://localhost:8080/"
    },
    "id": "2a19an9qKdIF",
    "outputId": "72115eb0-6eba-4359-a199-f862b1be251c"
   },
   "outputs": [
    {
     "name": "stdout",
     "output_type": "stream",
     "text": [
      "Duplicate values removed.\n"
     ]
    }
   ],
   "source": [
    "duplicates = df.duplicated(subset='Song')\n",
    "\n",
    "# Check if there are any duplicates\n",
    "if duplicates.any():\n",
    "    # Remove the duplicate rows from the DataFrame\n",
    "    df = df.drop_duplicates(subset='Song', keep='first').reset_index(drop=True)\n",
    "    print(\"Duplicate values removed.\")\n",
    "else:\n",
    "    print(\"No duplicate values found in the 'Song' column.\")\n"
   ]
  },
  {
   "cell_type": "markdown",
   "metadata": {
    "id": "iwWnp8wWn9Dq"
   },
   "source": [
    "In order to classify the 20 Armenian artists with the most songs in our dataset, we will keep only the records of those 20 artists in our dataframe."
   ]
  },
  {
   "cell_type": "code",
   "execution_count": 19,
   "metadata": {
    "id": "gOeOYV4e3Wc5"
   },
   "outputs": [],
   "source": [
    "artist_counts = df.groupby('Artist').count()\n",
    "top_artists = artist_counts.nlargest(20, 'Song').index\n",
    "df = df[df['Artist'].isin(top_artists)].reset_index(drop=True)"
   ]
  },
  {
   "cell_type": "markdown",
   "metadata": {
    "id": "_PckSVoGYxHX"
   },
   "source": [
    "What we have after removing non armenian and duplicate songs for top 20 Artists in our dataset."
   ]
  },
  {
   "cell_type": "code",
   "execution_count": 20,
   "metadata": {
    "colab": {
     "base_uri": "https://localhost:8080/",
     "height": 708
    },
    "id": "zx-A3ZGEWFlf",
    "outputId": "661f22fd-ea77-4d45-e296-7e250d68efa5"
   },
   "outputs": [
    {
     "data": {
      "text/html": [
       "<div>\n",
       "<style scoped>\n",
       "    .dataframe tbody tr th:only-of-type {\n",
       "        vertical-align: middle;\n",
       "    }\n",
       "\n",
       "    .dataframe tbody tr th {\n",
       "        vertical-align: top;\n",
       "    }\n",
       "\n",
       "    .dataframe thead th {\n",
       "        text-align: right;\n",
       "    }\n",
       "</style>\n",
       "<table border=\"1\" class=\"dataframe\">\n",
       "  <thead>\n",
       "    <tr style=\"text-align: right;\">\n",
       "      <th></th>\n",
       "      <th>Song</th>\n",
       "      <th>Lyrics</th>\n",
       "    </tr>\n",
       "    <tr>\n",
       "      <th>Artist</th>\n",
       "      <th></th>\n",
       "      <th></th>\n",
       "    </tr>\n",
       "  </thead>\n",
       "  <tbody>\n",
       "    <tr>\n",
       "      <th>Lav Eli</th>\n",
       "      <td>10</td>\n",
       "      <td>10</td>\n",
       "    </tr>\n",
       "    <tr>\n",
       "      <th>Aram MP3</th>\n",
       "      <td>18</td>\n",
       "      <td>18</td>\n",
       "    </tr>\n",
       "    <tr>\n",
       "      <th>Arame</th>\n",
       "      <td>11</td>\n",
       "      <td>11</td>\n",
       "    </tr>\n",
       "    <tr>\n",
       "      <th>Arsen Safaryan</th>\n",
       "      <td>24</td>\n",
       "      <td>24</td>\n",
       "    </tr>\n",
       "    <tr>\n",
       "      <th>Empyray</th>\n",
       "      <td>11</td>\n",
       "      <td>11</td>\n",
       "    </tr>\n",
       "    <tr>\n",
       "      <th>HT Hayko</th>\n",
       "      <td>16</td>\n",
       "      <td>16</td>\n",
       "    </tr>\n",
       "    <tr>\n",
       "      <th>Harout Pamboukjian</th>\n",
       "      <td>40</td>\n",
       "      <td>40</td>\n",
       "    </tr>\n",
       "    <tr>\n",
       "      <th>Mi Qani Hogi</th>\n",
       "      <td>16</td>\n",
       "      <td>16</td>\n",
       "    </tr>\n",
       "    <tr>\n",
       "      <th>Misho</th>\n",
       "      <td>29</td>\n",
       "      <td>29</td>\n",
       "    </tr>\n",
       "    <tr>\n",
       "      <th>Razmik Amyan</th>\n",
       "      <td>23</td>\n",
       "      <td>23</td>\n",
       "    </tr>\n",
       "    <tr>\n",
       "      <th>Silva Hakobyan</th>\n",
       "      <td>20</td>\n",
       "      <td>20</td>\n",
       "    </tr>\n",
       "    <tr>\n",
       "      <th>ԱՐԹՈՒՐ ՄԵՍՉՅԱՆ</th>\n",
       "      <td>50</td>\n",
       "      <td>50</td>\n",
       "    </tr>\n",
       "    <tr>\n",
       "      <th>Անդրե</th>\n",
       "      <td>12</td>\n",
       "      <td>12</td>\n",
       "    </tr>\n",
       "    <tr>\n",
       "      <th>Լիլիթ Հովհաննիսյան</th>\n",
       "      <td>27</td>\n",
       "      <td>27</td>\n",
       "    </tr>\n",
       "    <tr>\n",
       "      <th>ԿՈՄԻՏԱՍ</th>\n",
       "      <td>64</td>\n",
       "      <td>64</td>\n",
       "    </tr>\n",
       "    <tr>\n",
       "      <th>Հայկ Հակոբյան</th>\n",
       "      <td>25</td>\n",
       "      <td>25</td>\n",
       "    </tr>\n",
       "    <tr>\n",
       "      <th>Միհրան Ծառուկյան</th>\n",
       "      <td>19</td>\n",
       "      <td>19</td>\n",
       "    </tr>\n",
       "    <tr>\n",
       "      <th>ՌՈՒԲԵՆ ՀԱԽՎԵՐԴՅԱՆ</th>\n",
       "      <td>85</td>\n",
       "      <td>85</td>\n",
       "    </tr>\n",
       "    <tr>\n",
       "      <th>ՍԱՅԱԹ-ՆՈՎԱ</th>\n",
       "      <td>16</td>\n",
       "      <td>16</td>\n",
       "    </tr>\n",
       "    <tr>\n",
       "      <th>Սիրուշո</th>\n",
       "      <td>27</td>\n",
       "      <td>27</td>\n",
       "    </tr>\n",
       "  </tbody>\n",
       "</table>\n",
       "</div>"
      ],
      "text/plain": [
       "                    Song  Lyrics\n",
       "Artist                          \n",
       " Lav Eli              10      10\n",
       "Aram MP3              18      18\n",
       "Arame                 11      11\n",
       "Arsen Safaryan        24      24\n",
       "Empyray               11      11\n",
       "HT Hayko              16      16\n",
       "Harout Pamboukjian    40      40\n",
       "Mi Qani Hogi          16      16\n",
       "Misho                 29      29\n",
       "Razmik Amyan          23      23\n",
       "Silva Hakobyan        20      20\n",
       "ԱՐԹՈՒՐ ՄԵՍՉՅԱՆ        50      50\n",
       "Անդրե                 12      12\n",
       "Լիլիթ Հովհաննիսյան    27      27\n",
       "ԿՈՄԻՏԱՍ               64      64\n",
       "Հայկ Հակոբյան         25      25\n",
       "Միհրան Ծառուկյան      19      19\n",
       "ՌՈՒԲԵՆ ՀԱԽՎԵՐԴՅԱՆ     85      85\n",
       "ՍԱՅԱԹ-ՆՈՎԱ            16      16\n",
       "Սիրուշո               27      27"
      ]
     },
     "execution_count": 20,
     "metadata": {},
     "output_type": "execute_result"
    }
   ],
   "source": [
    "df.groupby('Artist').count()"
   ]
  },
  {
   "cell_type": "code",
   "execution_count": 21,
   "metadata": {
    "colab": {
     "base_uri": "https://localhost:8080/"
    },
    "id": "u_EFY3F-r54B",
    "outputId": "f89eda89-f84a-4367-b1b2-80ad96716fc9"
   },
   "outputs": [
    {
     "data": {
      "text/plain": [
       "(543, 3)"
      ]
     },
     "execution_count": 21,
     "metadata": {},
     "output_type": "execute_result"
    }
   ],
   "source": [
    "df.shape"
   ]
  },
  {
   "cell_type": "markdown",
   "metadata": {
    "id": "k7a8h45ySael"
   },
   "source": [
    "<a name=\"fenigine\"> </a>\n",
    "\n",
    "## Feature Selection/Extraction\n",
    "\n",
    "### Translating the obtained data to English "
   ]
  },
  {
   "cell_type": "code",
   "execution_count": 93,
   "metadata": {
    "id": "BC3-0LEFgCrk"
   },
   "outputs": [],
   "source": [
    "df=pd.read_csv(\"Datasets/FinalData1.csv\")"
   ]
  },
  {
   "cell_type": "code",
   "execution_count": 94,
   "metadata": {
    "id": "oJ0GmlcUigNN"
   },
   "outputs": [],
   "source": [
    "df=df.dropna()"
   ]
  },
  {
   "cell_type": "code",
   "execution_count": 95,
   "metadata": {
    "colab": {
     "base_uri": "https://localhost:8080/",
     "height": 708
    },
    "id": "9U1j7FRUi2fM",
    "outputId": "f7b76e9c-1785-4184-93bb-8a5d22dc2a10"
   },
   "outputs": [
    {
     "data": {
      "text/html": [
       "<div>\n",
       "<style scoped>\n",
       "    .dataframe tbody tr th:only-of-type {\n",
       "        vertical-align: middle;\n",
       "    }\n",
       "\n",
       "    .dataframe tbody tr th {\n",
       "        vertical-align: top;\n",
       "    }\n",
       "\n",
       "    .dataframe thead th {\n",
       "        text-align: right;\n",
       "    }\n",
       "</style>\n",
       "<table border=\"1\" class=\"dataframe\">\n",
       "  <thead>\n",
       "    <tr style=\"text-align: right;\">\n",
       "      <th></th>\n",
       "      <th>Song</th>\n",
       "      <th>Lyrics</th>\n",
       "      <th>Translated_Lyrics</th>\n",
       "    </tr>\n",
       "    <tr>\n",
       "      <th>Artist</th>\n",
       "      <th></th>\n",
       "      <th></th>\n",
       "      <th></th>\n",
       "    </tr>\n",
       "  </thead>\n",
       "  <tbody>\n",
       "    <tr>\n",
       "      <th>Lav Eli</th>\n",
       "      <td>9</td>\n",
       "      <td>9</td>\n",
       "      <td>9</td>\n",
       "    </tr>\n",
       "    <tr>\n",
       "      <th>Aram MP3</th>\n",
       "      <td>17</td>\n",
       "      <td>17</td>\n",
       "      <td>17</td>\n",
       "    </tr>\n",
       "    <tr>\n",
       "      <th>Arame</th>\n",
       "      <td>9</td>\n",
       "      <td>9</td>\n",
       "      <td>9</td>\n",
       "    </tr>\n",
       "    <tr>\n",
       "      <th>Arsen Safaryan</th>\n",
       "      <td>23</td>\n",
       "      <td>23</td>\n",
       "      <td>23</td>\n",
       "    </tr>\n",
       "    <tr>\n",
       "      <th>Empyray</th>\n",
       "      <td>10</td>\n",
       "      <td>10</td>\n",
       "      <td>10</td>\n",
       "    </tr>\n",
       "    <tr>\n",
       "      <th>HT Hayko</th>\n",
       "      <td>16</td>\n",
       "      <td>16</td>\n",
       "      <td>16</td>\n",
       "    </tr>\n",
       "    <tr>\n",
       "      <th>Harout Pamboukjian</th>\n",
       "      <td>32</td>\n",
       "      <td>32</td>\n",
       "      <td>32</td>\n",
       "    </tr>\n",
       "    <tr>\n",
       "      <th>Mi Qani Hogi</th>\n",
       "      <td>15</td>\n",
       "      <td>15</td>\n",
       "      <td>15</td>\n",
       "    </tr>\n",
       "    <tr>\n",
       "      <th>Misho</th>\n",
       "      <td>26</td>\n",
       "      <td>26</td>\n",
       "      <td>26</td>\n",
       "    </tr>\n",
       "    <tr>\n",
       "      <th>Razmik Amyan</th>\n",
       "      <td>18</td>\n",
       "      <td>18</td>\n",
       "      <td>18</td>\n",
       "    </tr>\n",
       "    <tr>\n",
       "      <th>Silva Hakobyan</th>\n",
       "      <td>20</td>\n",
       "      <td>20</td>\n",
       "      <td>20</td>\n",
       "    </tr>\n",
       "    <tr>\n",
       "      <th>ԱՐԹՈՒՐ ՄԵՍՉՅԱՆ</th>\n",
       "      <td>50</td>\n",
       "      <td>50</td>\n",
       "      <td>50</td>\n",
       "    </tr>\n",
       "    <tr>\n",
       "      <th>Անդրե</th>\n",
       "      <td>12</td>\n",
       "      <td>12</td>\n",
       "      <td>12</td>\n",
       "    </tr>\n",
       "    <tr>\n",
       "      <th>Լիլիթ Հովհաննիսյան</th>\n",
       "      <td>24</td>\n",
       "      <td>24</td>\n",
       "      <td>24</td>\n",
       "    </tr>\n",
       "    <tr>\n",
       "      <th>ԿՈՄԻՏԱՍ</th>\n",
       "      <td>62</td>\n",
       "      <td>62</td>\n",
       "      <td>62</td>\n",
       "    </tr>\n",
       "    <tr>\n",
       "      <th>Հայկ Հակոբյան</th>\n",
       "      <td>23</td>\n",
       "      <td>23</td>\n",
       "      <td>23</td>\n",
       "    </tr>\n",
       "    <tr>\n",
       "      <th>Միհրան Ծառուկյան</th>\n",
       "      <td>18</td>\n",
       "      <td>18</td>\n",
       "      <td>18</td>\n",
       "    </tr>\n",
       "    <tr>\n",
       "      <th>ՌՈՒԲԵՆ ՀԱԽՎԵՐԴՅԱՆ</th>\n",
       "      <td>81</td>\n",
       "      <td>81</td>\n",
       "      <td>81</td>\n",
       "    </tr>\n",
       "    <tr>\n",
       "      <th>ՍԱՅԱԹ-ՆՈՎԱ</th>\n",
       "      <td>16</td>\n",
       "      <td>16</td>\n",
       "      <td>16</td>\n",
       "    </tr>\n",
       "    <tr>\n",
       "      <th>Սիրուշո</th>\n",
       "      <td>25</td>\n",
       "      <td>25</td>\n",
       "      <td>25</td>\n",
       "    </tr>\n",
       "  </tbody>\n",
       "</table>\n",
       "</div>"
      ],
      "text/plain": [
       "                    Song  Lyrics  Translated_Lyrics\n",
       "Artist                                             \n",
       " Lav Eli               9       9                  9\n",
       "Aram MP3              17      17                 17\n",
       "Arame                  9       9                  9\n",
       "Arsen Safaryan        23      23                 23\n",
       "Empyray               10      10                 10\n",
       "HT Hayko              16      16                 16\n",
       "Harout Pamboukjian    32      32                 32\n",
       "Mi Qani Hogi          15      15                 15\n",
       "Misho                 26      26                 26\n",
       "Razmik Amyan          18      18                 18\n",
       "Silva Hakobyan        20      20                 20\n",
       "ԱՐԹՈՒՐ ՄԵՍՉՅԱՆ        50      50                 50\n",
       "Անդրե                 12      12                 12\n",
       "Լիլիթ Հովհաննիսյան    24      24                 24\n",
       "ԿՈՄԻՏԱՍ               62      62                 62\n",
       "Հայկ Հակոբյան         23      23                 23\n",
       "Միհրան Ծառուկյան      18      18                 18\n",
       "ՌՈՒԲԵՆ ՀԱԽՎԵՐԴՅԱՆ     81      81                 81\n",
       "ՍԱՅԱԹ-ՆՈՎԱ            16      16                 16\n",
       "Սիրուշո               25      25                 25"
      ]
     },
     "execution_count": 95,
     "metadata": {},
     "output_type": "execute_result"
    }
   ],
   "source": [
    "df.groupby('Artist').count()"
   ]
  },
  {
   "cell_type": "code",
   "execution_count": 96,
   "metadata": {
    "id": "wwhOqePX8H3C"
   },
   "outputs": [],
   "source": [
    "df['lines'] = df['Lyrics'].map(lambda t: len(re.findall(r'\\n', t)))\n",
    "df['Lyrics'] = df['Lyrics'].map(lambda s: re.sub(r'\\n|\\n', ' ', s))\n",
    "df['Translated_Lyrics']=df['Translated_Lyrics'].map(lambda s: re.sub(r'\\n|\\n', ' ', s))"
   ]
  },
  {
   "cell_type": "markdown",
   "metadata": {
    "id": "5XABV65kqzWx"
   },
   "source": [
    "#### Tokenization\n",
    "A very common way to analyse text is to seperate it into a list of words which makes it much easier to do further analysis. I'm using nltk.tokenize to do that. Furthermore, all punctuations are removed as well. Below is an example how the text is converted."
   ]
  },
  {
   "cell_type": "code",
   "execution_count": 97,
   "metadata": {
    "id": "3RKhJ5ti64eC"
   },
   "outputs": [],
   "source": [
    "tokenizer = nltk.tokenize.RegexpTokenizer(r'\\w+')\n",
    "df['tokens_hy'] = df['Lyrics'].map(tokenizer.tokenize)\n",
    "df['tokens_en'] = df['Translated_Lyrics'].map(tokenizer.tokenize)"
   ]
  },
  {
   "cell_type": "code",
   "execution_count": 98,
   "metadata": {},
   "outputs": [],
   "source": [
    "df['tokens_hy'] = df['tokens_hy'].apply(lambda tokens: [token.lower() for token in tokens])\n",
    "df['tokens_en'] = df['tokens_en'].apply(lambda tokens: [token.lower() for token in tokens])"
   ]
  },
  {
   "cell_type": "code",
   "execution_count": 99,
   "metadata": {},
   "outputs": [
    {
     "data": {
      "text/html": [
       "<div>\n",
       "<style scoped>\n",
       "    .dataframe tbody tr th:only-of-type {\n",
       "        vertical-align: middle;\n",
       "    }\n",
       "\n",
       "    .dataframe tbody tr th {\n",
       "        vertical-align: top;\n",
       "    }\n",
       "\n",
       "    .dataframe thead th {\n",
       "        text-align: right;\n",
       "    }\n",
       "</style>\n",
       "<table border=\"1\" class=\"dataframe\">\n",
       "  <thead>\n",
       "    <tr style=\"text-align: right;\">\n",
       "      <th></th>\n",
       "      <th>tokens_hy</th>\n",
       "      <th>tokens_en</th>\n",
       "    </tr>\n",
       "  </thead>\n",
       "  <tbody>\n",
       "    <tr>\n",
       "      <th>0</th>\n",
       "      <td>[ահա, և, վերջ, վերջ, հարաժամ, և, հարատև, իբրև,...</td>\n",
       "      <td>[here, is, an, end, end, of, paragraphs, and, ...</td>\n",
       "    </tr>\n",
       "    <tr>\n",
       "      <th>1</th>\n",
       "      <td>[մեծածավալ, և, հիասքանչ, տաճարների, եվ, ոսկեզա...</td>\n",
       "      <td>[large, scale, and, wonderful, temples, and, t...</td>\n",
       "    </tr>\n",
       "    <tr>\n",
       "      <th>2</th>\n",
       "      <td>[երբ, անառակ, որդու, նման, դառնաս, թողած, քաղա...</td>\n",
       "      <td>[when, like, a, prodigal, son, become, your, o...</td>\n",
       "    </tr>\n",
       "    <tr>\n",
       "      <th>3</th>\n",
       "      <td>[սիրտս, կարյունի, աշխարհի, ցավով, որքան, տառապ...</td>\n",
       "      <td>[my, heart, with, kariy, s, world, pain, how, ...</td>\n",
       "    </tr>\n",
       "    <tr>\n",
       "      <th>4</th>\n",
       "      <td>[առաջ, գիտեի, թե, մարդիկ, ինչու, կգային, աշխար...</td>\n",
       "      <td>[i, was, known, before, what, people, would, b...</td>\n",
       "    </tr>\n",
       "    <tr>\n",
       "      <th>...</th>\n",
       "      <td>...</td>\n",
       "      <td>...</td>\n",
       "    </tr>\n",
       "    <tr>\n",
       "      <th>537</th>\n",
       "      <td>[մի, քանի, հոգի, քեզ, տանող, այս, ճանապարհը, ո...</td>\n",
       "      <td>[several, people, what, will, this, way, to, y...</td>\n",
       "    </tr>\n",
       "    <tr>\n",
       "      <th>538</th>\n",
       "      <td>[մեզ, թվումա, որ, մեզ, թվումա, որ, մեկը, մեզ, ...</td>\n",
       "      <td>[it, seems, to, us, seems, to, be, that, one, ...</td>\n",
       "    </tr>\n",
       "    <tr>\n",
       "      <th>539</th>\n",
       "      <td>[մի, քանի, հոգի, մքհ, գտածդ, ալիք, էր, ծովը, չ...</td>\n",
       "      <td>[several, people, icf, did, you, find, a, wave...</td>\n",
       "    </tr>\n",
       "    <tr>\n",
       "      <th>541</th>\n",
       "      <td>[մեկը, դուրը, տեղը, մեկը, մեկը, բոլորը, մեկը, ...</td>\n",
       "      <td>[one, like, one, one, all, one, one, holiday, ...</td>\n",
       "    </tr>\n",
       "    <tr>\n",
       "      <th>542</th>\n",
       "      <td>[թարմացրու, քեզ, դու, իմացի, բախտը, քո, կողքին...</td>\n",
       "      <td>[refresh, you, you, are, lucky, enough, to, be...</td>\n",
       "    </tr>\n",
       "  </tbody>\n",
       "</table>\n",
       "<p>506 rows × 2 columns</p>\n",
       "</div>"
      ],
      "text/plain": [
       "                                             tokens_hy  \\\n",
       "0    [ահա, և, վերջ, վերջ, հարաժամ, և, հարատև, իբրև,...   \n",
       "1    [մեծածավալ, և, հիասքանչ, տաճարների, եվ, ոսկեզա...   \n",
       "2    [երբ, անառակ, որդու, նման, դառնաս, թողած, քաղա...   \n",
       "3    [սիրտս, կարյունի, աշխարհի, ցավով, որքան, տառապ...   \n",
       "4    [առաջ, գիտեի, թե, մարդիկ, ինչու, կգային, աշխար...   \n",
       "..                                                 ...   \n",
       "537  [մի, քանի, հոգի, քեզ, տանող, այս, ճանապարհը, ո...   \n",
       "538  [մեզ, թվումա, որ, մեզ, թվումա, որ, մեկը, մեզ, ...   \n",
       "539  [մի, քանի, հոգի, մքհ, գտածդ, ալիք, էր, ծովը, չ...   \n",
       "541  [մեկը, դուրը, տեղը, մեկը, մեկը, բոլորը, մեկը, ...   \n",
       "542  [թարմացրու, քեզ, դու, իմացի, բախտը, քո, կողքին...   \n",
       "\n",
       "                                             tokens_en  \n",
       "0    [here, is, an, end, end, of, paragraphs, and, ...  \n",
       "1    [large, scale, and, wonderful, temples, and, t...  \n",
       "2    [when, like, a, prodigal, son, become, your, o...  \n",
       "3    [my, heart, with, kariy, s, world, pain, how, ...  \n",
       "4    [i, was, known, before, what, people, would, b...  \n",
       "..                                                 ...  \n",
       "537  [several, people, what, will, this, way, to, y...  \n",
       "538  [it, seems, to, us, seems, to, be, that, one, ...  \n",
       "539  [several, people, icf, did, you, find, a, wave...  \n",
       "541  [one, like, one, one, all, one, one, holiday, ...  \n",
       "542  [refresh, you, you, are, lucky, enough, to, be...  \n",
       "\n",
       "[506 rows x 2 columns]"
      ]
     },
     "execution_count": 99,
     "metadata": {},
     "output_type": "execute_result"
    }
   ],
   "source": [
    "df[['tokens_hy','tokens_en']]"
   ]
  },
  {
   "cell_type": "markdown",
   "metadata": {},
   "source": [
    "Now we can remove stop words from tokens."
   ]
  },
  {
   "cell_type": "code",
   "execution_count": 101,
   "metadata": {},
   "outputs": [
    {
     "name": "stdout",
     "output_type": "stream",
     "text": [
      "                       Song                                          tokens_en\n",
      "0               ԱՀԱ ԵՎ ՎԵՐՋ  [end, end, paragraphs, lasting, last, closed, ...\n",
      "1                 ԱՄԵՆԸ ՁԵԶ  [large, scale, wonderful, temples, prayer, gol...\n",
      "2    ԱՆԱՌԱԿ ՈՐԴՈՒ ՎԵՐԱԴԱՐՁԸ  [like, prodigal, son, become, city, seek, door...\n",
      "3             ԱՇԽԱՐՀԻ ՑԱՎՈՎ  [heart, kariy, world, pain, much, suffering, g...\n",
      "4                ԱՌԱՋ ԳԻՏԵԻ  [known, people, would, world, sun, would, pour...\n",
      "..                      ...                                                ...\n",
      "537                Chanapar  [several, people, way, perhaps, ask, one, day,...\n",
      "538                Es Pahin  [seems, us, seems, one, watching, us, one, tho...\n",
      "539                   Rhyme  [several, people, icf, find, wave, sea, scream...\n",
      "541           Yes Qo Nmanei  [one, like, one, one, one, one, holiday, home,...\n",
      "542             Lav Jamanak  [refresh, lucky, enough, side, employe, well, ...\n",
      "\n",
      "[506 rows x 2 columns]\n"
     ]
    },
    {
     "name": "stderr",
     "output_type": "stream",
     "text": [
      "[nltk_data] Downloading package stopwords to\n",
      "[nltk_data]     C:\\Users\\User\\AppData\\Roaming\\nltk_data...\n",
      "[nltk_data]   Package stopwords is already up-to-date!\n"
     ]
    }
   ],
   "source": [
    "from nltk.corpus import stopwords\n",
    "\n",
    "# Download the list of English stopwords if not already downloaded\n",
    "nltk.download('stopwords')\n",
    "\n",
    "# Get the English stopwords\n",
    "stop_words = set(stopwords.words('english'))\n",
    "\n",
    "# Function to remove stop words from a list of words\n",
    "def remove_stop_words(word_list):\n",
    "    filtered_words = [word for word in word_list if word not in stop_words]\n",
    "    return filtered_words\n",
    "\n",
    "\n",
    "df['tokens_en'] = df['tokens_en'].apply(remove_stop_words)\n",
    "\n",
    "print(df[['Song','tokens_en']])"
   ]
  },
  {
   "cell_type": "code",
   "execution_count": 102,
   "metadata": {},
   "outputs": [
    {
     "name": "stdout",
     "output_type": "stream",
     "text": [
      "                       Song                                          tokens_hy\n",
      "0               ԱՀԱ ԵՎ ՎԵՐՋ  [վերջ, վերջ, հարաժամ, հարատև, իբրև, վերջին, փա...\n",
      "1                 ԱՄԵՆԸ ՁԵԶ  [մեծածավալ, հիասքանչ, տաճարների, եվ, ոսկեզարդ,...\n",
      "2    ԱՆԱՌԱԿ ՈՐԴՈՒ ՎԵՐԱԴԱՐՁԸ  [երբ, անառակ, որդու, նման, դառնաս, թողած, քաղա...\n",
      "3             ԱՇԽԱՐՀԻ ՑԱՎՈՎ  [սիրտս, կարյունի, աշխարհի, ցավով, որքան, տառապ...\n",
      "4                ԱՌԱՋ ԳԻՏԵԻ  [առաջ, գիտեի, մարդիկ, ինչու, կգային, աշխարհ, ա...\n",
      "..                      ...                                                ...\n",
      "537                Chanapar  [քանի, հոգի, քեզ, տանող, ճանապարհը, ուր, կհասց...\n",
      "538                Es Pahin  [մեզ, թվումա, մեզ, թվումա, մեկը, մեզ, հետևումա...\n",
      "539                   Rhyme  [քանի, հոգի, մքհ, գտածդ, ալիք, էր, ծովը, չար, ...\n",
      "541           Yes Qo Nmanei  [մեկը, դուրը, տեղը, մեկը, մեկը, բոլորը, մեկը, ...\n",
      "542             Lav Jamanak  [թարմացրու, քեզ, իմացի, բախտը, քո, կողքինա, էղ...\n",
      "\n",
      "[506 rows x 2 columns]\n"
     ]
    }
   ],
   "source": [
    "armenian_stop_words = [\n",
    "    'այդ', 'այլ', 'այն', 'այս', 'դու', 'դուք', 'եմ', 'ես', 'են', 'ենք', 'եք', 'է',\n",
    "    'էի', 'էին', 'էինք', 'էիր', 'էիք', 'էս', 'ըստ', 'թե', 'ի', 'ին', 'իսկ', 'իր', 'կամ',\n",
    "    'համար', 'հետ', 'հետո', 'մենք', 'մեջ', 'մի', 'նա', 'նաև', 'նրա', 'որ', 'որը', 'որոնք',\n",
    "    'որպես', 'ու', 'ում', 'պիտի', 'վրա', 'և','մի', 'ահա'\n",
    "]\n",
    "def remove_armenian_stopwords(word_list):\n",
    "    filtered_words = [word for word in word_list if word not in armenian_stop_words]\n",
    "    return filtered_words\n",
    "\n",
    "df['tokens_hy'] = df['tokens_hy'].apply(remove_armenian_stopwords)\n",
    "\n",
    "print(df[['Song','tokens_hy']])"
   ]
  },
  {
   "cell_type": "markdown",
   "metadata": {
    "id": "CWOV7rTUrOB5"
   },
   "source": [
    "#### Stemming\n",
    "Stemming is a simple method to convert words to a common base form. For example converting plural to singular or past tense to present tense. This helps to treat words with the same meaning in the same way.\n",
    "\n",
    "In contrast to lemmatization it uses a very simple method and does not always find the grammatically correct from. However, as stemming is much faster than lemmatization I'm using it here.\n",
    "\n",
    "Below is an example how different forms of the word \"make\" are converted. In this case stemming failes to correctly convert the past tense."
   ]
  },
  {
   "cell_type": "code",
   "execution_count": 103,
   "metadata": {
    "id": "0gUusMiub06F"
   },
   "outputs": [],
   "source": [
    "stemmer = nltk.stem.porter.PorterStemmer()"
   ]
  },
  {
   "cell_type": "code",
   "execution_count": 104,
   "metadata": {
    "colab": {
     "base_uri": "https://localhost:8080/"
    },
    "id": "xuh4Ym9fw3t9",
    "outputId": "f6563d4e-44f8-4014-b133-4e0b4e6f632e"
   },
   "outputs": [
    {
     "name": "stdout",
     "output_type": "stream",
     "text": [
      "Number of tokens: 42931\n",
      "Number of unique tokens: 7113\n",
      "Number of unique stems: 5713\n"
     ]
    }
   ],
   "source": [
    "# create dictionary to map tokens their stem\n",
    "token_to_stem = {}\n",
    "# initialise word count\n",
    "token_count = 0\n",
    "# iterate through all songs\n",
    "for lst in df['tokens_en']:\n",
    "    # iterate through all tokens of song\n",
    "    for token in lst:\n",
    "        token_count += 1\n",
    "        # check if token is in dictionary\n",
    "        if token not in token_to_stem:\n",
    "            # add token to dictionary\n",
    "            token_to_stem[token] = stemmer.stem(token)\n",
    "            \n",
    "df['stems_en'] = df['tokens_en'].map(lambda lst: [token_to_stem[token] for token in lst])\n",
    "\n",
    "print('Number of tokens: {}'.format(token_count))\n",
    "print('Number of unique tokens: {}'.format(len(token_to_stem.keys())))\n",
    "print('Number of unique stems: {}'.format(len(set(token_to_stem.values()))))"
   ]
  },
  {
   "cell_type": "code",
   "execution_count": 105,
   "metadata": {
    "id": "0mUPYy7kxEG_"
   },
   "outputs": [],
   "source": [
    "df['n_stems_en'] = df['stems_en'].map(len)"
   ]
  },
  {
   "cell_type": "code",
   "execution_count": 106,
   "metadata": {},
   "outputs": [],
   "source": [
    "df['n_tokens_hy'] = df['tokens_hy'].map(len)"
   ]
  },
  {
   "cell_type": "markdown",
   "metadata": {},
   "source": [
    "In this section we have used TFIDF to analyse word frequencies in more detail. TFIDF means term frequency - inverse document frequency. Term frequency means how often a word appears in a specific text (in this case song lyrics). Inverse document frequency is the inverse frequency of the same word in the whole document (in this case all song lyrics).\n",
    "\n",
    "The idea of TFIDF is to find out if a specific word appears unusually often in the text. If this is the case, this word gets a high value, if the word appears more often in other texts, its value will be low.\n",
    "\n",
    "This method is very common to cluster texts with similar topics."
   ]
  },
  {
   "cell_type": "code",
   "execution_count": 107,
   "metadata": {},
   "outputs": [
    {
     "data": {
      "text/plain": [
       "TfidfTransformer()"
      ]
     },
     "execution_count": 107,
     "metadata": {},
     "output_type": "execute_result"
    }
   ],
   "source": [
    "cv = CountVectorizer()\n",
    "\n",
    "# generate word counts\n",
    "df['stems_en_str'] = df['stems_en'].apply(lambda tokens: ' '.join(tokens))\n",
    "stem_count_vector = cv.fit_transform(df['stems_en_str'])\n",
    "\n",
    "# compute idf\n",
    "tfidf_transformer=TfidfTransformer(smooth_idf=True,use_idf=True)\n",
    "tfidf_transformer.fit(stem_count_vector)"
   ]
  },
  {
   "cell_type": "markdown",
   "metadata": {},
   "source": [
    "Below are the words with the lowest values. These words apear many times in almost each song. Thus, these words are not usefull to characterise a song."
   ]
  },
  {
   "cell_type": "code",
   "execution_count": 109,
   "metadata": {},
   "outputs": [
    {
     "name": "stderr",
     "output_type": "stream",
     "text": [
      "C:\\Users\\User\\anaconda3\\lib\\site-packages\\sklearn\\utils\\deprecation.py:87: FutureWarning:\n",
      "\n",
      "Function get_feature_names is deprecated; get_feature_names is deprecated in 1.0 and will be removed in 1.2. Please use get_feature_names_out instead.\n",
      "\n"
     ]
    },
    {
     "data": {
      "text/html": [
       "<div>\n",
       "<style scoped>\n",
       "    .dataframe tbody tr th:only-of-type {\n",
       "        vertical-align: middle;\n",
       "    }\n",
       "\n",
       "    .dataframe tbody tr th {\n",
       "        vertical-align: top;\n",
       "    }\n",
       "\n",
       "    .dataframe thead th {\n",
       "        text-align: right;\n",
       "    }\n",
       "</style>\n",
       "<table border=\"1\" class=\"dataframe\">\n",
       "  <thead>\n",
       "    <tr style=\"text-align: right;\">\n",
       "      <th></th>\n",
       "      <th>stem</th>\n",
       "      <th>weight</th>\n",
       "    </tr>\n",
       "  </thead>\n",
       "  <tbody>\n",
       "    <tr>\n",
       "      <th>2997</th>\n",
       "      <td>love</td>\n",
       "      <td>1.626392</td>\n",
       "    </tr>\n",
       "    <tr>\n",
       "      <th>2170</th>\n",
       "      <td>heart</td>\n",
       "      <td>1.862535</td>\n",
       "    </tr>\n",
       "    <tr>\n",
       "      <th>2911</th>\n",
       "      <td>life</td>\n",
       "      <td>2.019025</td>\n",
       "    </tr>\n",
       "    <tr>\n",
       "      <th>3585</th>\n",
       "      <td>one</td>\n",
       "      <td>2.058027</td>\n",
       "    </tr>\n",
       "    <tr>\n",
       "      <th>2923</th>\n",
       "      <td>like</td>\n",
       "      <td>2.063725</td>\n",
       "    </tr>\n",
       "  </tbody>\n",
       "</table>\n",
       "</div>"
      ],
      "text/plain": [
       "       stem    weight\n",
       "2997   love  1.626392\n",
       "2170  heart  1.862535\n",
       "2911   life  2.019025\n",
       "3585    one  2.058027\n",
       "2923   like  2.063725"
      ]
     },
     "execution_count": 109,
     "metadata": {},
     "output_type": "execute_result"
    }
   ],
   "source": [
    "tfidf_df = pd.DataFrame({'stem': cv.get_feature_names(), 'weight': tfidf_transformer.idf_})\n",
    " \n",
    "# get lowest weights\n",
    "tfidf_df.sort_values('weight').head()"
   ]
  },
  {
   "cell_type": "code",
   "execution_count": 110,
   "metadata": {},
   "outputs": [
    {
     "data": {
      "text/html": [
       "<div>\n",
       "<style scoped>\n",
       "    .dataframe tbody tr th:only-of-type {\n",
       "        vertical-align: middle;\n",
       "    }\n",
       "\n",
       "    .dataframe tbody tr th {\n",
       "        vertical-align: top;\n",
       "    }\n",
       "\n",
       "    .dataframe thead th {\n",
       "        text-align: right;\n",
       "    }\n",
       "</style>\n",
       "<table border=\"1\" class=\"dataframe\">\n",
       "  <thead>\n",
       "    <tr style=\"text-align: right;\">\n",
       "      <th></th>\n",
       "      <th>stem</th>\n",
       "      <th>weight</th>\n",
       "    </tr>\n",
       "  </thead>\n",
       "  <tbody>\n",
       "    <tr>\n",
       "      <th>0</th>\n",
       "      <td>aa</td>\n",
       "      <td>6.535364</td>\n",
       "    </tr>\n",
       "    <tr>\n",
       "      <th>3277</th>\n",
       "      <td>mitk</td>\n",
       "      <td>6.535364</td>\n",
       "    </tr>\n",
       "    <tr>\n",
       "      <th>3254</th>\n",
       "      <td>minuo</td>\n",
       "      <td>6.535364</td>\n",
       "    </tr>\n",
       "    <tr>\n",
       "      <th>3256</th>\n",
       "      <td>miqi</td>\n",
       "      <td>6.535364</td>\n",
       "    </tr>\n",
       "    <tr>\n",
       "      <th>3258</th>\n",
       "      <td>miroyan</td>\n",
       "      <td>6.535364</td>\n",
       "    </tr>\n",
       "  </tbody>\n",
       "</table>\n",
       "</div>"
      ],
      "text/plain": [
       "         stem    weight\n",
       "0          aa  6.535364\n",
       "3277     mitk  6.535364\n",
       "3254    minuo  6.535364\n",
       "3256     miqi  6.535364\n",
       "3258  miroyan  6.535364"
      ]
     },
     "execution_count": 110,
     "metadata": {},
     "output_type": "execute_result"
    }
   ],
   "source": [
    "# get highest weights\n",
    "tfidf_df.sort_values('weight', ascending=False).head()"
   ]
  },
  {
   "cell_type": "markdown",
   "metadata": {},
   "source": [
    "On the other hand, these are words with the highest values.\n",
    "\n",
    "Next we calculate an TFIDF vector for each song. Every element of this vector represents one word. Its value is calculated by multiplying its frequency with the corresponding weight which was calculated above. This value is normalised by the total number of words of the song. Words which don't appear in the text get a value of 0.\n",
    "\n",
    "The TFIDF score is the sum of the TFIDF vector elements. The higher the score the more unusal the words of this song are compared to other songs."
   ]
  },
  {
   "cell_type": "code",
   "execution_count": 111,
   "metadata": {},
   "outputs": [],
   "source": [
    "# assign tf idf scores to each song\n",
    "tf_idf_vector = tfidf_transformer.transform(stem_count_vector)\n",
    "\n",
    "# attach count vectors to dataframe\n",
    "tf_idf_vector_lst = [-1] * len(df)\n",
    "for i in range(len(df)):\n",
    "    tf_idf_vector_lst[i] = tf_idf_vector[i]\n",
    "df['tf_idf_vector'] = tf_idf_vector_lst    \n",
    "\n",
    "df['tf_idf_score'] = df['tf_idf_vector'].map(lambda vec: np.sum(vec.todense()))"
   ]
  },
  {
   "cell_type": "code",
   "execution_count": 112,
   "metadata": {},
   "outputs": [
    {
     "data": {
      "text/html": [
       "<div>\n",
       "<style scoped>\n",
       "    .dataframe tbody tr th:only-of-type {\n",
       "        vertical-align: middle;\n",
       "    }\n",
       "\n",
       "    .dataframe tbody tr th {\n",
       "        vertical-align: top;\n",
       "    }\n",
       "\n",
       "    .dataframe thead th {\n",
       "        text-align: right;\n",
       "    }\n",
       "</style>\n",
       "<table border=\"1\" class=\"dataframe\">\n",
       "  <thead>\n",
       "    <tr style=\"text-align: right;\">\n",
       "      <th></th>\n",
       "      <th>Song</th>\n",
       "      <th>tf_idf_score</th>\n",
       "    </tr>\n",
       "  </thead>\n",
       "  <tbody>\n",
       "    <tr>\n",
       "      <th>0</th>\n",
       "      <td>ԱՀԱ ԵՎ ՎԵՐՋ</td>\n",
       "      <td>6.884464</td>\n",
       "    </tr>\n",
       "    <tr>\n",
       "      <th>1</th>\n",
       "      <td>ԱՄԵՆԸ ՁԵԶ</td>\n",
       "      <td>6.910089</td>\n",
       "    </tr>\n",
       "    <tr>\n",
       "      <th>2</th>\n",
       "      <td>ԱՆԱՌԱԿ ՈՐԴՈՒ ՎԵՐԱԴԱՐՁԸ</td>\n",
       "      <td>5.229593</td>\n",
       "    </tr>\n",
       "    <tr>\n",
       "      <th>3</th>\n",
       "      <td>ԱՇԽԱՐՀԻ ՑԱՎՈՎ</td>\n",
       "      <td>7.552990</td>\n",
       "    </tr>\n",
       "    <tr>\n",
       "      <th>4</th>\n",
       "      <td>ԱՌԱՋ ԳԻՏԵԻ</td>\n",
       "      <td>5.688084</td>\n",
       "    </tr>\n",
       "    <tr>\n",
       "      <th>...</th>\n",
       "      <td>...</td>\n",
       "      <td>...</td>\n",
       "    </tr>\n",
       "    <tr>\n",
       "      <th>537</th>\n",
       "      <td>Chanapar</td>\n",
       "      <td>6.020993</td>\n",
       "    </tr>\n",
       "    <tr>\n",
       "      <th>538</th>\n",
       "      <td>Es Pahin</td>\n",
       "      <td>5.540190</td>\n",
       "    </tr>\n",
       "    <tr>\n",
       "      <th>539</th>\n",
       "      <td>Rhyme</td>\n",
       "      <td>7.086607</td>\n",
       "    </tr>\n",
       "    <tr>\n",
       "      <th>541</th>\n",
       "      <td>Yes Qo Nmanei</td>\n",
       "      <td>3.609549</td>\n",
       "    </tr>\n",
       "    <tr>\n",
       "      <th>542</th>\n",
       "      <td>Lav Jamanak</td>\n",
       "      <td>5.784678</td>\n",
       "    </tr>\n",
       "  </tbody>\n",
       "</table>\n",
       "<p>506 rows × 2 columns</p>\n",
       "</div>"
      ],
      "text/plain": [
       "                       Song  tf_idf_score\n",
       "0               ԱՀԱ ԵՎ ՎԵՐՋ      6.884464\n",
       "1                 ԱՄԵՆԸ ՁԵԶ      6.910089\n",
       "2    ԱՆԱՌԱԿ ՈՐԴՈՒ ՎԵՐԱԴԱՐՁԸ      5.229593\n",
       "3             ԱՇԽԱՐՀԻ ՑԱՎՈՎ      7.552990\n",
       "4                ԱՌԱՋ ԳԻՏԵԻ      5.688084\n",
       "..                      ...           ...\n",
       "537                Chanapar      6.020993\n",
       "538                Es Pahin      5.540190\n",
       "539                   Rhyme      7.086607\n",
       "541           Yes Qo Nmanei      3.609549\n",
       "542             Lav Jamanak      5.784678\n",
       "\n",
       "[506 rows x 2 columns]"
      ]
     },
     "execution_count": 112,
     "metadata": {},
     "output_type": "execute_result"
    }
   ],
   "source": [
    "df[['Song','tf_idf_score']]"
   ]
  },
  {
   "cell_type": "code",
   "execution_count": 113,
   "metadata": {},
   "outputs": [
    {
     "data": {
      "application/vnd.plotly.v1+json": {
       "config": {
        "plotlyServerURL": "https://plot.ly"
       },
       "data": [
        {
         "alignmentgroup": "True",
         "hovertemplate": "Artist=%{x}<br>tf_idf_score=%{y}<extra></extra>",
         "legendgroup": "",
         "marker": {
          "color": "#636efa"
         },
         "name": "",
         "notched": false,
         "offsetgroup": "",
         "orientation": "v",
         "showlegend": false,
         "type": "box",
         "x": [
          "ԱՐԹՈՒՐ ՄԵՍՉՅԱՆ",
          "ԱՐԹՈՒՐ ՄԵՍՉՅԱՆ",
          "ԱՐԹՈՒՐ ՄԵՍՉՅԱՆ",
          "ԱՐԹՈՒՐ ՄԵՍՉՅԱՆ",
          "ԱՐԹՈՒՐ ՄԵՍՉՅԱՆ",
          "ԱՐԹՈՒՐ ՄԵՍՉՅԱՆ",
          "ԱՐԹՈՒՐ ՄԵՍՉՅԱՆ",
          "ԱՐԹՈՒՐ ՄԵՍՉՅԱՆ",
          "ԱՐԹՈՒՐ ՄԵՍՉՅԱՆ",
          "ԱՐԹՈՒՐ ՄԵՍՉՅԱՆ",
          "ԱՐԹՈՒՐ ՄԵՍՉՅԱՆ",
          "ԱՐԹՈՒՐ ՄԵՍՉՅԱՆ",
          "ԱՐԹՈՒՐ ՄԵՍՉՅԱՆ",
          "ԱՐԹՈՒՐ ՄԵՍՉՅԱՆ",
          "ԱՐԹՈՒՐ ՄԵՍՉՅԱՆ",
          "ԱՐԹՈՒՐ ՄԵՍՉՅԱՆ",
          "ԱՐԹՈՒՐ ՄԵՍՉՅԱՆ",
          "ԱՐԹՈՒՐ ՄԵՍՉՅԱՆ",
          "ԱՐԹՈՒՐ ՄԵՍՉՅԱՆ",
          "ԱՐԹՈՒՐ ՄԵՍՉՅԱՆ",
          "ԱՐԹՈՒՐ ՄԵՍՉՅԱՆ",
          "ԱՐԹՈՒՐ ՄԵՍՉՅԱՆ",
          "ԱՐԹՈՒՐ ՄԵՍՉՅԱՆ",
          "ԱՐԹՈՒՐ ՄԵՍՉՅԱՆ",
          "ԱՐԹՈՒՐ ՄԵՍՉՅԱՆ",
          "ԱՐԹՈՒՐ ՄԵՍՉՅԱՆ",
          "ԱՐԹՈՒՐ ՄԵՍՉՅԱՆ",
          "ԱՐԹՈՒՐ ՄԵՍՉՅԱՆ",
          "ԱՐԹՈՒՐ ՄԵՍՉՅԱՆ",
          "ԱՐԹՈՒՐ ՄԵՍՉՅԱՆ",
          "ԱՐԹՈՒՐ ՄԵՍՉՅԱՆ",
          "ԱՐԹՈՒՐ ՄԵՍՉՅԱՆ",
          "ԱՐԹՈՒՐ ՄԵՍՉՅԱՆ",
          "ԱՐԹՈՒՐ ՄԵՍՉՅԱՆ",
          "ԱՐԹՈՒՐ ՄԵՍՉՅԱՆ",
          "ԱՐԹՈՒՐ ՄԵՍՉՅԱՆ",
          "ԱՐԹՈՒՐ ՄԵՍՉՅԱՆ",
          "ԱՐԹՈՒՐ ՄԵՍՉՅԱՆ",
          "ԱՐԹՈՒՐ ՄԵՍՉՅԱՆ",
          "ԱՐԹՈՒՐ ՄԵՍՉՅԱՆ",
          "ԱՐԹՈՒՐ ՄԵՍՉՅԱՆ",
          "ԱՐԹՈՒՐ ՄԵՍՉՅԱՆ",
          "ԱՐԹՈՒՐ ՄԵՍՉՅԱՆ",
          "ԱՐԹՈՒՐ ՄԵՍՉՅԱՆ",
          "ԱՐԹՈՒՐ ՄԵՍՉՅԱՆ",
          "ԱՐԹՈՒՐ ՄԵՍՉՅԱՆ",
          "ԱՐԹՈՒՐ ՄԵՍՉՅԱՆ",
          "ԱՐԹՈՒՐ ՄԵՍՉՅԱՆ",
          "ԱՐԹՈՒՐ ՄԵՍՉՅԱՆ",
          "ԱՐԹՈՒՐ ՄԵՍՉՅԱՆ",
          "ՌՈՒԲԵՆ ՀԱԽՎԵՐԴՅԱՆ",
          "ՌՈՒԲԵՆ ՀԱԽՎԵՐԴՅԱՆ",
          "ՌՈՒԲԵՆ ՀԱԽՎԵՐԴՅԱՆ",
          "ՌՈՒԲԵՆ ՀԱԽՎԵՐԴՅԱՆ",
          "ՌՈՒԲԵՆ ՀԱԽՎԵՐԴՅԱՆ",
          "ՌՈՒԲԵՆ ՀԱԽՎԵՐԴՅԱՆ",
          "ՌՈՒԲԵՆ ՀԱԽՎԵՐԴՅԱՆ",
          "ՌՈՒԲԵՆ ՀԱԽՎԵՐԴՅԱՆ",
          "ՌՈՒԲԵՆ ՀԱԽՎԵՐԴՅԱՆ",
          "ՌՈՒԲԵՆ ՀԱԽՎԵՐԴՅԱՆ",
          "ՌՈՒԲԵՆ ՀԱԽՎԵՐԴՅԱՆ",
          "ՌՈՒԲԵՆ ՀԱԽՎԵՐԴՅԱՆ",
          "ՌՈՒԲԵՆ ՀԱԽՎԵՐԴՅԱՆ",
          "ՌՈՒԲԵՆ ՀԱԽՎԵՐԴՅԱՆ",
          "ՌՈՒԲԵՆ ՀԱԽՎԵՐԴՅԱՆ",
          "ՌՈՒԲԵՆ ՀԱԽՎԵՐԴՅԱՆ",
          "ՌՈՒԲԵՆ ՀԱԽՎԵՐԴՅԱՆ",
          "ՌՈՒԲԵՆ ՀԱԽՎԵՐԴՅԱՆ",
          "ՌՈՒԲԵՆ ՀԱԽՎԵՐԴՅԱՆ",
          "ՌՈՒԲԵՆ ՀԱԽՎԵՐԴՅԱՆ",
          "ՌՈՒԲԵՆ ՀԱԽՎԵՐԴՅԱՆ",
          "ՌՈՒԲԵՆ ՀԱԽՎԵՐԴՅԱՆ",
          "ՌՈՒԲԵՆ ՀԱԽՎԵՐԴՅԱՆ",
          "ՌՈՒԲԵՆ ՀԱԽՎԵՐԴՅԱՆ",
          "ՌՈՒԲԵՆ ՀԱԽՎԵՐԴՅԱՆ",
          "ՌՈՒԲԵՆ ՀԱԽՎԵՐԴՅԱՆ",
          "ՌՈՒԲԵՆ ՀԱԽՎԵՐԴՅԱՆ",
          "ՌՈՒԲԵՆ ՀԱԽՎԵՐԴՅԱՆ",
          "ՌՈՒԲԵՆ ՀԱԽՎԵՐԴՅԱՆ",
          "ՌՈՒԲԵՆ ՀԱԽՎԵՐԴՅԱՆ",
          "ՌՈՒԲԵՆ ՀԱԽՎԵՐԴՅԱՆ",
          "ՌՈՒԲԵՆ ՀԱԽՎԵՐԴՅԱՆ",
          "ՌՈՒԲԵՆ ՀԱԽՎԵՐԴՅԱՆ",
          "ՌՈՒԲԵՆ ՀԱԽՎԵՐԴՅԱՆ",
          "ՌՈՒԲԵՆ ՀԱԽՎԵՐԴՅԱՆ",
          "ՌՈՒԲԵՆ ՀԱԽՎԵՐԴՅԱՆ",
          "ՌՈՒԲԵՆ ՀԱԽՎԵՐԴՅԱՆ",
          "ՌՈՒԲԵՆ ՀԱԽՎԵՐԴՅԱՆ",
          "ՌՈՒԲԵՆ ՀԱԽՎԵՐԴՅԱՆ",
          "ՌՈՒԲԵՆ ՀԱԽՎԵՐԴՅԱՆ",
          "ՌՈՒԲԵՆ ՀԱԽՎԵՐԴՅԱՆ",
          "ՌՈՒԲԵՆ ՀԱԽՎԵՐԴՅԱՆ",
          "ՌՈՒԲԵՆ ՀԱԽՎԵՐԴՅԱՆ",
          "ՌՈՒԲԵՆ ՀԱԽՎԵՐԴՅԱՆ",
          "ՌՈՒԲԵՆ ՀԱԽՎԵՐԴՅԱՆ",
          "ՌՈՒԲԵՆ ՀԱԽՎԵՐԴՅԱՆ",
          "ՌՈՒԲԵՆ ՀԱԽՎԵՐԴՅԱՆ",
          "ՌՈՒԲԵՆ ՀԱԽՎԵՐԴՅԱՆ",
          "ՌՈՒԲԵՆ ՀԱԽՎԵՐԴՅԱՆ",
          "ՌՈՒԲԵՆ ՀԱԽՎԵՐԴՅԱՆ",
          "ՌՈՒԲԵՆ ՀԱԽՎԵՐԴՅԱՆ",
          "ՌՈՒԲԵՆ ՀԱԽՎԵՐԴՅԱՆ",
          "ՌՈՒԲԵՆ ՀԱԽՎԵՐԴՅԱՆ",
          "ՌՈՒԲԵՆ ՀԱԽՎԵՐԴՅԱՆ",
          "ՌՈՒԲԵՆ ՀԱԽՎԵՐԴՅԱՆ",
          "ՌՈՒԲԵՆ ՀԱԽՎԵՐԴՅԱՆ",
          "ՌՈՒԲԵՆ ՀԱԽՎԵՐԴՅԱՆ",
          "ՌՈՒԲԵՆ ՀԱԽՎԵՐԴՅԱՆ",
          "ՌՈՒԲԵՆ ՀԱԽՎԵՐԴՅԱՆ",
          "ՌՈՒԲԵՆ ՀԱԽՎԵՐԴՅԱՆ",
          "ՌՈՒԲԵՆ ՀԱԽՎԵՐԴՅԱՆ",
          "ՌՈՒԲԵՆ ՀԱԽՎԵՐԴՅԱՆ",
          "ՌՈՒԲԵՆ ՀԱԽՎԵՐԴՅԱՆ",
          "ՌՈՒԲԵՆ ՀԱԽՎԵՐԴՅԱՆ",
          "ՌՈՒԲԵՆ ՀԱԽՎԵՐԴՅԱՆ",
          "ՌՈՒԲԵՆ ՀԱԽՎԵՐԴՅԱՆ",
          "ՌՈՒԲԵՆ ՀԱԽՎԵՐԴՅԱՆ",
          "ՌՈՒԲԵՆ ՀԱԽՎԵՐԴՅԱՆ",
          "ՌՈՒԲԵՆ ՀԱԽՎԵՐԴՅԱՆ",
          "ՌՈՒԲԵՆ ՀԱԽՎԵՐԴՅԱՆ",
          "ՌՈՒԲԵՆ ՀԱԽՎԵՐԴՅԱՆ",
          "ՌՈՒԲԵՆ ՀԱԽՎԵՐԴՅԱՆ",
          "ՌՈՒԲԵՆ ՀԱԽՎԵՐԴՅԱՆ",
          "ՌՈՒԲԵՆ ՀԱԽՎԵՐԴՅԱՆ",
          "ՌՈՒԲԵՆ ՀԱԽՎԵՐԴՅԱՆ",
          "ՌՈՒԲԵՆ ՀԱԽՎԵՐԴՅԱՆ",
          "ՌՈՒԲԵՆ ՀԱԽՎԵՐԴՅԱՆ",
          "ՌՈՒԲԵՆ ՀԱԽՎԵՐԴՅԱՆ",
          "ՌՈՒԲԵՆ ՀԱԽՎԵՐԴՅԱՆ",
          "ՌՈՒԲԵՆ ՀԱԽՎԵՐԴՅԱՆ",
          "ՌՈՒԲԵՆ ՀԱԽՎԵՐԴՅԱՆ",
          "ՍԱՅԱԹ-ՆՈՎԱ",
          "ՍԱՅԱԹ-ՆՈՎԱ",
          "ՍԱՅԱԹ-ՆՈՎԱ",
          "ՍԱՅԱԹ-ՆՈՎԱ",
          "ՍԱՅԱԹ-ՆՈՎԱ",
          "ՍԱՅԱԹ-ՆՈՎԱ",
          "ՍԱՅԱԹ-ՆՈՎԱ",
          "ՍԱՅԱԹ-ՆՈՎԱ",
          "ՍԱՅԱԹ-ՆՈՎԱ",
          "ՍԱՅԱԹ-ՆՈՎԱ",
          "ՍԱՅԱԹ-ՆՈՎԱ",
          "ՍԱՅԱԹ-ՆՈՎԱ",
          "ՍԱՅԱԹ-ՆՈՎԱ",
          "ՍԱՅԱԹ-ՆՈՎԱ",
          "ՍԱՅԱԹ-ՆՈՎԱ",
          "ՍԱՅԱԹ-ՆՈՎԱ",
          "ԿՈՄԻՏԱՍ",
          "ԿՈՄԻՏԱՍ",
          "ԿՈՄԻՏԱՍ",
          "ԿՈՄԻՏԱՍ",
          "ԿՈՄԻՏԱՍ",
          "ԿՈՄԻՏԱՍ",
          "ԿՈՄԻՏԱՍ",
          "ԿՈՄԻՏԱՍ",
          "ԿՈՄԻՏԱՍ",
          "ԿՈՄԻՏԱՍ",
          "ԿՈՄԻՏԱՍ",
          "ԿՈՄԻՏԱՍ",
          "ԿՈՄԻՏԱՍ",
          "ԿՈՄԻՏԱՍ",
          "ԿՈՄԻՏԱՍ",
          "ԿՈՄԻՏԱՍ",
          "ԿՈՄԻՏԱՍ",
          "ԿՈՄԻՏԱՍ",
          "ԿՈՄԻՏԱՍ",
          "ԿՈՄԻՏԱՍ",
          "ԿՈՄԻՏԱՍ",
          "ԿՈՄԻՏԱՍ",
          "ԿՈՄԻՏԱՍ",
          "ԿՈՄԻՏԱՍ",
          "ԿՈՄԻՏԱՍ",
          "ԿՈՄԻՏԱՍ",
          "ԿՈՄԻՏԱՍ",
          "ԿՈՄԻՏԱՍ",
          "ԿՈՄԻՏԱՍ",
          "ԿՈՄԻՏԱՍ",
          "ԿՈՄԻՏԱՍ",
          "ԿՈՄԻՏԱՍ",
          "ԿՈՄԻՏԱՍ",
          "ԿՈՄԻՏԱՍ",
          "ԿՈՄԻՏԱՍ",
          "ԿՈՄԻՏԱՍ",
          "ԿՈՄԻՏԱՍ",
          "ԿՈՄԻՏԱՍ",
          "ԿՈՄԻՏԱՍ",
          "ԿՈՄԻՏԱՍ",
          "ԿՈՄԻՏԱՍ",
          "ԿՈՄԻՏԱՍ",
          "ԿՈՄԻՏԱՍ",
          "ԿՈՄԻՏԱՍ",
          "ԿՈՄԻՏԱՍ",
          "ԿՈՄԻՏԱՍ",
          "ԿՈՄԻՏԱՍ",
          "ԿՈՄԻՏԱՍ",
          "ԿՈՄԻՏԱՍ",
          "ԿՈՄԻՏԱՍ",
          "ԿՈՄԻՏԱՍ",
          "ԿՈՄԻՏԱՍ",
          "ԿՈՄԻՏԱՍ",
          "ԿՈՄԻՏԱՍ",
          "ԿՈՄԻՏԱՍ",
          "ԿՈՄԻՏԱՍ",
          "ԿՈՄԻՏԱՍ",
          "ԿՈՄԻՏԱՍ",
          "ԿՈՄԻՏԱՍ",
          "ԿՈՄԻՏԱՍ",
          "ԿՈՄԻՏԱՍ",
          "ԿՈՄԻՏԱՍ",
          "HT Hayko",
          "HT Hayko",
          "HT Hayko",
          "HT Hayko",
          "HT Hayko",
          "HT Hayko",
          "HT Hayko",
          "HT Hayko",
          "HT Hayko",
          "HT Hayko",
          "HT Hayko",
          "HT Hayko",
          "HT Hayko",
          "HT Hayko",
          "HT Hayko",
          "HT Hayko",
          "Empyray",
          "Empyray",
          "Empyray",
          "Empyray",
          "Empyray",
          "Empyray",
          "Empyray",
          "Empyray",
          "Empyray",
          "Empyray",
          " Lav Eli",
          " Lav Eli",
          " Lav Eli",
          " Lav Eli",
          " Lav Eli",
          " Lav Eli",
          " Lav Eli",
          " Lav Eli",
          " Lav Eli",
          "Silva Hakobyan",
          "Silva Hakobyan",
          "Silva Hakobyan",
          "Silva Hakobyan",
          "Silva Hakobyan",
          "Silva Hakobyan",
          "Silva Hakobyan",
          "Silva Hakobyan",
          "Silva Hakobyan",
          "Silva Hakobyan",
          "Silva Hakobyan",
          "Silva Hakobyan",
          "Silva Hakobyan",
          "Silva Hakobyan",
          "Silva Hakobyan",
          "Silva Hakobyan",
          "Silva Hakobyan",
          "Silva Hakobyan",
          "Silva Hakobyan",
          "Silva Hakobyan",
          "Անդրե",
          "Անդրե",
          "Անդրե",
          "Անդրե",
          "Անդրե",
          "Անդրե",
          "Անդրե",
          "Անդրե",
          "Անդրե",
          "Անդրե",
          "Անդրե",
          "Անդրե",
          "Լիլիթ Հովհաննիսյան",
          "Լիլիթ Հովհաննիսյան",
          "Լիլիթ Հովհաննիսյան",
          "Լիլիթ Հովհաննիսյան",
          "Լիլիթ Հովհաննիսյան",
          "Լիլիթ Հովհաննիսյան",
          "Լիլիթ Հովհաննիսյան",
          "Լիլիթ Հովհաննիսյան",
          "Լիլիթ Հովհաննիսյան",
          "Լիլիթ Հովհաննիսյան",
          "Լիլիթ Հովհաննիսյան",
          "Լիլիթ Հովհաննիսյան",
          "Լիլիթ Հովհաննիսյան",
          "Լիլիթ Հովհաննիսյան",
          "Լիլիթ Հովհաննիսյան",
          "Լիլիթ Հովհաննիսյան",
          "Լիլիթ Հովհաննիսյան",
          "Լիլիթ Հովհաննիսյան",
          "Լիլիթ Հովհաննիսյան",
          "Լիլիթ Հովհաննիսյան",
          "Լիլիթ Հովհաննիսյան",
          "Լիլիթ Հովհաննիսյան",
          "Լիլիթ Հովհաննիսյան",
          "Լիլիթ Հովհաննիսյան",
          "Սիրուշո",
          "Սիրուշո",
          "Սիրուշո",
          "Սիրուշո",
          "Սիրուշո",
          "Սիրուշո",
          "Սիրուշո",
          "Սիրուշո",
          "Սիրուշո",
          "Սիրուշո",
          "Սիրուշո",
          "Սիրուշո",
          "Սիրուշո",
          "Սիրուշո",
          "Սիրուշո",
          "Սիրուշո",
          "Սիրուշո",
          "Սիրուշո",
          "Սիրուշո",
          "Սիրուշո",
          "Սիրուշո",
          "Սիրուշո",
          "Սիրուշո",
          "Սիրուշո",
          "Սիրուշո",
          "Միհրան Ծառուկյան",
          "Միհրան Ծառուկյան",
          "Միհրան Ծառուկյան",
          "Միհրան Ծառուկյան",
          "Միհրան Ծառուկյան",
          "Միհրան Ծառուկյան",
          "Միհրան Ծառուկյան",
          "Միհրան Ծառուկյան",
          "Միհրան Ծառուկյան",
          "Միհրան Ծառուկյան",
          "Միհրան Ծառուկյան",
          "Միհրան Ծառուկյան",
          "Միհրան Ծառուկյան",
          "Միհրան Ծառուկյան",
          "Միհրան Ծառուկյան",
          "Միհրան Ծառուկյան",
          "Միհրան Ծառուկյան",
          "Միհրան Ծառուկյան",
          "Arame",
          "Arame",
          "Arame",
          "Arame",
          "Arame",
          "Arame",
          "Arame",
          "Arame",
          "Arame",
          "Razmik Amyan",
          "Razmik Amyan",
          "Razmik Amyan",
          "Razmik Amyan",
          "Razmik Amyan",
          "Razmik Amyan",
          "Razmik Amyan",
          "Razmik Amyan",
          "Razmik Amyan",
          "Razmik Amyan",
          "Razmik Amyan",
          "Razmik Amyan",
          "Razmik Amyan",
          "Razmik Amyan",
          "Razmik Amyan",
          "Razmik Amyan",
          "Razmik Amyan",
          "Razmik Amyan",
          "Harout Pamboukjian",
          "Harout Pamboukjian",
          "Harout Pamboukjian",
          "Harout Pamboukjian",
          "Harout Pamboukjian",
          "Harout Pamboukjian",
          "Harout Pamboukjian",
          "Harout Pamboukjian",
          "Harout Pamboukjian",
          "Harout Pamboukjian",
          "Harout Pamboukjian",
          "Harout Pamboukjian",
          "Harout Pamboukjian",
          "Harout Pamboukjian",
          "Harout Pamboukjian",
          "Harout Pamboukjian",
          "Harout Pamboukjian",
          "Harout Pamboukjian",
          "Harout Pamboukjian",
          "Harout Pamboukjian",
          "Harout Pamboukjian",
          "Harout Pamboukjian",
          "Harout Pamboukjian",
          "Harout Pamboukjian",
          "Harout Pamboukjian",
          "Harout Pamboukjian",
          "Harout Pamboukjian",
          "Harout Pamboukjian",
          "Harout Pamboukjian",
          "Harout Pamboukjian",
          "Harout Pamboukjian",
          "Harout Pamboukjian",
          "Հայկ Հակոբյան",
          "Հայկ Հակոբյան",
          "Հայկ Հակոբյան",
          "Հայկ Հակոբյան",
          "Հայկ Հակոբյան",
          "Հայկ Հակոբյան",
          "Հայկ Հակոբյան",
          "Հայկ Հակոբյան",
          "Հայկ Հակոբյան",
          "Հայկ Հակոբյան",
          "Հայկ Հակոբյան",
          "Հայկ Հակոբյան",
          "Հայկ Հակոբյան",
          "Հայկ Հակոբյան",
          "Հայկ Հակոբյան",
          "Հայկ Հակոբյան",
          "Հայկ Հակոբյան",
          "Հայկ Հակոբյան",
          "Հայկ Հակոբյան",
          "Հայկ Հակոբյան",
          "Հայկ Հակոբյան",
          "Հայկ Հակոբյան",
          "Հայկ Հակոբյան",
          "Aram MP3",
          "Aram MP3",
          "Arsen Safaryan",
          "Arsen Safaryan",
          "Arsen Safaryan",
          "Arsen Safaryan",
          "Arsen Safaryan",
          "Arsen Safaryan",
          "Arsen Safaryan",
          "Arsen Safaryan",
          "Arsen Safaryan",
          "Arsen Safaryan",
          "Arsen Safaryan",
          "Arsen Safaryan",
          "Arsen Safaryan",
          "Arsen Safaryan",
          "Arsen Safaryan",
          "Arsen Safaryan",
          "Arsen Safaryan",
          "Arsen Safaryan",
          "Arsen Safaryan",
          "Arsen Safaryan",
          "Arsen Safaryan",
          "Arsen Safaryan",
          "Arsen Safaryan",
          "Aram MP3",
          "Aram MP3",
          "Aram MP3",
          "Aram MP3",
          "Aram MP3",
          "Aram MP3",
          "Aram MP3",
          "Aram MP3",
          "Aram MP3",
          "Aram MP3",
          "Aram MP3",
          "Aram MP3",
          "Aram MP3",
          "Aram MP3",
          "Aram MP3",
          "Misho",
          "Misho",
          "Misho",
          "Misho",
          "Misho",
          "Misho",
          "Misho",
          "Misho",
          "Misho",
          "Misho",
          "Misho",
          "Misho",
          "Misho",
          "Misho",
          "Misho",
          "Misho",
          "Misho",
          "Misho",
          "Misho",
          "Misho",
          "Misho",
          "Misho",
          "Misho",
          "Misho",
          "Misho",
          "Misho",
          "Mi Qani Hogi",
          "Mi Qani Hogi",
          "Mi Qani Hogi",
          "Mi Qani Hogi",
          "Mi Qani Hogi",
          "Mi Qani Hogi",
          "Mi Qani Hogi",
          "Mi Qani Hogi",
          "Mi Qani Hogi",
          "Mi Qani Hogi",
          "Mi Qani Hogi",
          "Mi Qani Hogi",
          "Mi Qani Hogi",
          "Mi Qani Hogi",
          "Mi Qani Hogi"
         ],
         "x0": " ",
         "xaxis": "x",
         "y": [
          6.8844643179713785,
          6.910088966403411,
          5.229592666304081,
          7.552990240245455,
          5.688084416217024,
          4.75918183064435,
          4.837785364680641,
          6.388194779504157,
          6.307857740605618,
          6.675176069786671,
          5.365295499813843,
          5.875559915380966,
          5.984104253996149,
          7.010844932555271,
          5.052568691773676,
          5.365961656343249,
          6.407768341834981,
          6.446718989612874,
          7.702196603781276,
          7.437682981145146,
          8.088593338382132,
          7.043639412213432,
          9.700301372347838,
          8.601577878011172,
          6.348465304981676,
          6.462241061117492,
          6.970328447974025,
          8.336408666805035,
          6.340634822943118,
          8.803715190424148,
          6.174069899107426,
          7.094484200079245,
          5.677410121033997,
          7.714668856131522,
          4.160104961127553,
          5.872351250197992,
          8.574571842022326,
          4.843226505793968,
          2.7305450696674014,
          5.6984220196317,
          7.5297305771533765,
          8.293347618551154,
          7.2560028897321125,
          6.13403153769301,
          6.811803251118814,
          5.194537570558696,
          6.558478767590904,
          8.33676502331698,
          7.683098088285351,
          6.969663815540271,
          8.225584749320864,
          4.567675820599121,
          8.91056745821255,
          5.4788282836417475,
          8.458604284870304,
          7.7581236980901105,
          4.7611728429692945,
          5.048691753013861,
          3.566492606733717,
          4.782956789286057,
          7.568109997033914,
          5.6894172463945925,
          8.367109190859667,
          7.545529457036964,
          4.1648379408302745,
          4.961188789820955,
          6.124407317002153,
          6.182786691919262,
          4.171739030600262,
          6.118478647656663,
          5.057224435953469,
          6.41604877747985,
          7.266421011672474,
          4.453257006967572,
          7.252420129457411,
          6.541650693455461,
          6.122774148190652,
          6.514377234195181,
          7.928497759053119,
          4.403908619232123,
          4.169900517162855,
          5.318569455058601,
          5.8431085049436735,
          5.654564321326425,
          5.197572084270291,
          5.0787500690689225,
          7.081164280370134,
          5.938493707569247,
          8.169442735444658,
          4.57117786445809,
          8.36390991239051,
          4.842342593025122,
          4.3922448028944086,
          6.5513711732249185,
          5.521861338389439,
          5.7924625516454515,
          7.001645998309249,
          7.106697743457584,
          6.392938138396586,
          5.837168208956415,
          5.324790363245791,
          5.519288044134597,
          6.955457363879923,
          5.348054515406448,
          5.004711856541336,
          5.765771955372546,
          6.419797953442319,
          8.052582318528756,
          5.802962458865081,
          5.19014450749982,
          4.864575481549347,
          6.285213667163157,
          7.190549280418857,
          4.9484830317025885,
          9.009882247894456,
          7.228667046750202,
          7.839574199791418,
          3.900067692332797,
          5.594228059281104,
          5.814436573035119,
          4.763120826461604,
          3.4726107917257845,
          3.883762069492887,
          3.829557767026615,
          4.471852754356001,
          4.231161054225078,
          2.732385343624692,
          5.641849481047062,
          5.151934775182834,
          6.46018624657952,
          5.414497254445177,
          7.133126314982953,
          9.255003972403541,
          8.130989664451509,
          7.983127705796611,
          9.01919082641082,
          6.851920303295878,
          8.600998097035824,
          7.6450214027062575,
          7.154345914142664,
          7.2990253058172625,
          9.35187505113236,
          4.279063723515422,
          9.148115860297162,
          7.692212497036865,
          8.579297929849076,
          4.818879546753232,
          3.742864954771899,
          4.084798583815816,
          5.475333367436713,
          3.265191479056324,
          7.325824112715093,
          5.905562072777892,
          3.1031751628223265,
          6.611876391861426,
          6.217286522853652,
          2.93403257008168,
          2.280713439314373,
          3.2620958189133793,
          5.180710712903017,
          6.188708112867254,
          3.3968052172739243,
          2.7243481062932,
          2.933291462334549,
          3.265524301917022,
          3.695710749372073,
          3.398024409934032,
          4.106826868926474,
          3.350245080008842,
          4.689525134568629,
          5.7670980178908255,
          5.204597646444513,
          4.75673227713081,
          4.374140695125849,
          3.482874416372537,
          4.567252028153545,
          4.215248805135084,
          3.994841665299531,
          2.9124554202192208,
          4.696563378772158,
          4.073258156928823,
          3.774746687035661,
          3.510298382192817,
          5.172222957192666,
          5.14498353493105,
          4.732731520884606,
          3.529452846840442,
          8.574808097914753,
          3.9277662232661035,
          5.330228209497163,
          4.044767205569179,
          4.134058405811402,
          4.0458561420879295,
          3.685755333025859,
          3.0339814951590336,
          3.341521600682836,
          3.355473373220626,
          4.363413685170785,
          4.957847910112041,
          5.1226156577193205,
          5.385447043109365,
          5.373797083425455,
          3.197019156935381,
          6.566453075228556,
          4.907283019541338,
          3.0549165968906276,
          3.803438310958421,
          3.520890300073769,
          6.888780992321115,
          9.968863230217032,
          7.174606242813487,
          8.208199933227117,
          4.834395839225108,
          8.101818221331953,
          10.641182283235423,
          10.357196200690709,
          10.10787049481521,
          12.501960731370637,
          8.32850968162586,
          8.884939320853725,
          7.352535921275725,
          7.432001688572251,
          7.830184028402842,
          4.032799361991654,
          4.546370380275157,
          4.927969566274928,
          6.6549420881302055,
          4.4778649623896065,
          4.81204382829912,
          4.702171140695851,
          5.630931312873502,
          6.132280756391113,
          4.911455713805797,
          4.162671726745799,
          4.315159315920624,
          3.735389998407074,
          6.04422258591071,
          9.47972868398556,
          5.5579709146704355,
          2.5396772391558313,
          6.947344027980927,
          4.615136902033561,
          4.555990476929939,
          4.165579988602727,
          4.9579854238008565,
          4.456462715494764,
          5.887174844938615,
          5.615295473940314,
          5.299052343437074,
          4.892898461601067,
          4.6517388537167115,
          4.313112790676169,
          6.051206693512502,
          6.405842139613057,
          5.255403827029188,
          6.115378048185056,
          5.6219944291825925,
          5.615295473940314,
          5.253868434921241,
          5.015735040536102,
          3.5973210648745795,
          5.588760219425211,
          5.298631579781466,
          6.043575555153685,
          4.115296362821315,
          5.4319124726101915,
          4.325428803020758,
          4.536732585524289,
          5.507739609171624,
          6.04659694663455,
          3.553278990128808,
          4.046019673402372,
          4.773468596039064,
          4.4348681922122,
          6.652631727380358,
          6.098287436795303,
          5.929007300473655,
          5.566724478846886,
          4.565793764032415,
          4.510614757761591,
          6.259072156668325,
          7.056899063693008,
          4.930346158632469,
          5.836554233003876,
          5.912666588386591,
          6.258527101719704,
          6.559284555972648,
          3.8660000800212253,
          2.4966885478549,
          7.26582071915239,
          5.159716253910608,
          6.491144310909478,
          4.265324814587687,
          4.010260490166138,
          3.809450996171206,
          4.464023071864322,
          5.481311863478931,
          5.862901097288084,
          5.301397202025332,
          4.43136600368306,
          5.204834872660244,
          3.983630725707629,
          1.7129241926558607,
          3.6884553702636786,
          3.009589903661482,
          5.417599801097407,
          6.416052038300859,
          6.9921249340043605,
          4.740626222830373,
          1.5623320712176794,
          4.321627565809607,
          3.3852858774399395,
          4.9672534770257135,
          5.3643449831074825,
          4.313605670399502,
          3.3147439708197113,
          4.858004005365386,
          4.910045985896306,
          3.5072007034119896,
          5.652199740902467,
          5.542025274026136,
          6.680634959011805,
          3.691766496370888,
          4.385996097859593,
          2.6563556010549956,
          4.879880460640803,
          4.70684745088491,
          3.649374965636027,
          5.270843007988643,
          4.2512487705329285,
          6.011078990789565,
          5.067762719664689,
          4.858352287401293,
          4.910204564787303,
          5.67980531325682,
          5.3742094081172,
          3.7241634131823127,
          4.738958003863713,
          6.200023641113511,
          5.615932389106374,
          5.9852977006664485,
          7.256583618918408,
          5.4095241366275175,
          4.295405071037603,
          4.783960985887534,
          3.8470888561722147,
          5.955081512302585,
          4.8184893963685465,
          6.2735107606706535,
          4.691426854234313,
          5.758836067137969,
          2.2637645980677696,
          4.4935835027822595,
          5.046283022854809,
          5.97088691446778,
          4.68600690441523,
          4.72688827743114,
          6.639105405955673,
          5.167717805612733,
          5.72129215995262,
          4.530253651661945,
          5.723342748292332,
          2.1362878385696726,
          5.154984300901558,
          4.445514696136278,
          5.674283740423551,
          5.499363678926879,
          4.486330016594359,
          4.855131039629085,
          5.325549227888969,
          5.014866244670128,
          6.323910576817402,
          4.762572888407634,
          3.988471140062229,
          2.893601442450043,
          3.7921759671269486,
          3.086489119381281,
          5.205800604386148,
          6.573363666252688,
          3.71177825989533,
          6.039939231824038,
          2.747762012545007,
          2.7948258492779927,
          5.618086798274716,
          4.182161353568873,
          6.87187914662379,
          4.7915590387184785,
          6.852054667201926,
          5.303172338431177,
          7.931196053629087,
          6.9323459395988145,
          3.041728972709969,
          5.402316199700232,
          7.360403536850835,
          5.222503665156177,
          8.155127032606188,
          5.1362775678175465,
          7.032936091457447,
          6.077680008169333,
          5.247087440604382,
          5.77747491287006,
          7.069450859131106,
          2.46405640721108,
          4.810741009378186,
          5.471141209169755,
          4.942017731026623,
          5.796278849289633,
          6.147170774661032,
          4.675082901069276,
          5.8031793959544675,
          6.5463359676355575,
          6.328279382106046,
          4.825950496053865,
          5.308889625033432,
          2.598253143772324,
          6.428147804691083,
          3.6908603190592046,
          3.7379524296179705,
          4.672896481016546,
          5.317011494998168,
          5.30846471443449,
          5.520148832956258,
          5.2378909613845455,
          4.829061943138614,
          6.199254390667415,
          6.441528517220471,
          4.325864416262623,
          6.75976297709902,
          6.074607827729625,
          7.135918775794759,
          5.397311752209625,
          7.222536246228394,
          4.2919831587590584,
          4.7832332726617075,
          6.2107776420563585,
          6.829359637826215,
          6.3695941526515165,
          5.389564333435946,
          6.819785169017366,
          7.266535668926272,
          6.494923855034799,
          3.9480161662161386,
          4.757136644931864,
          4.233177960566635,
          6.46468217986072,
          5.57965167174633,
          5.744896765156147,
          4.163010110466953,
          6.778482311792276,
          6.066900966551821,
          3.922852470512947,
          1.797956543048584,
          4.9911460042764775,
          3.38913686765952,
          3.7569146567080134,
          5.280308726349546,
          5.638285027077499,
          6.310754800487302,
          3.1968782651119225,
          5.279860491171215,
          4.119081589103217,
          4.875630357562865,
          3.8498403763373834,
          2.9732941788213343,
          5.529227646167536,
          5.31362581712682,
          6.7052345478852775,
          6.603677222763022,
          9.763338738435028,
          10.706584046280746,
          6.657710242454261,
          1.705194285839207,
          6.265444055761673,
          6.606609313009876,
          7.5902243092261825,
          9.274506176552425,
          7.841000193461861,
          8.632443370789181,
          4.224561033661315,
          9.21353687077491,
          2.7969347550677788,
          8.62387090222677,
          8.345273017395172,
          6.996497047188642,
          7.5098111048608125,
          5.381018117196042,
          8.748191494299292,
          3.8860880974281633,
          4.937518436415977,
          9.02416494002681,
          7.456944635301165,
          6.276149390461061,
          6.750539343977724,
          6.47402945004118,
          7.529234743824406,
          6.409759103374249,
          7.858506093446322,
          6.685389256500446,
          6.663975750370354,
          4.308604642716741,
          5.735476553033809,
          6.0209925017075285,
          5.540190227475017,
          7.0866066767960145,
          3.6095490554609384,
          5.784678435393498
         ],
         "y0": " ",
         "yaxis": "y"
        }
       ],
       "layout": {
        "boxmode": "group",
        "legend": {
         "tracegroupgap": 0
        },
        "template": {
         "data": {
          "bar": [
           {
            "error_x": {
             "color": "#2a3f5f"
            },
            "error_y": {
             "color": "#2a3f5f"
            },
            "marker": {
             "line": {
              "color": "#E5ECF6",
              "width": 0.5
             },
             "pattern": {
              "fillmode": "overlay",
              "size": 10,
              "solidity": 0.2
             }
            },
            "type": "bar"
           }
          ],
          "barpolar": [
           {
            "marker": {
             "line": {
              "color": "#E5ECF6",
              "width": 0.5
             },
             "pattern": {
              "fillmode": "overlay",
              "size": 10,
              "solidity": 0.2
             }
            },
            "type": "barpolar"
           }
          ],
          "carpet": [
           {
            "aaxis": {
             "endlinecolor": "#2a3f5f",
             "gridcolor": "white",
             "linecolor": "white",
             "minorgridcolor": "white",
             "startlinecolor": "#2a3f5f"
            },
            "baxis": {
             "endlinecolor": "#2a3f5f",
             "gridcolor": "white",
             "linecolor": "white",
             "minorgridcolor": "white",
             "startlinecolor": "#2a3f5f"
            },
            "type": "carpet"
           }
          ],
          "choropleth": [
           {
            "colorbar": {
             "outlinewidth": 0,
             "ticks": ""
            },
            "type": "choropleth"
           }
          ],
          "contour": [
           {
            "colorbar": {
             "outlinewidth": 0,
             "ticks": ""
            },
            "colorscale": [
             [
              0,
              "#0d0887"
             ],
             [
              0.1111111111111111,
              "#46039f"
             ],
             [
              0.2222222222222222,
              "#7201a8"
             ],
             [
              0.3333333333333333,
              "#9c179e"
             ],
             [
              0.4444444444444444,
              "#bd3786"
             ],
             [
              0.5555555555555556,
              "#d8576b"
             ],
             [
              0.6666666666666666,
              "#ed7953"
             ],
             [
              0.7777777777777778,
              "#fb9f3a"
             ],
             [
              0.8888888888888888,
              "#fdca26"
             ],
             [
              1,
              "#f0f921"
             ]
            ],
            "type": "contour"
           }
          ],
          "contourcarpet": [
           {
            "colorbar": {
             "outlinewidth": 0,
             "ticks": ""
            },
            "type": "contourcarpet"
           }
          ],
          "heatmap": [
           {
            "colorbar": {
             "outlinewidth": 0,
             "ticks": ""
            },
            "colorscale": [
             [
              0,
              "#0d0887"
             ],
             [
              0.1111111111111111,
              "#46039f"
             ],
             [
              0.2222222222222222,
              "#7201a8"
             ],
             [
              0.3333333333333333,
              "#9c179e"
             ],
             [
              0.4444444444444444,
              "#bd3786"
             ],
             [
              0.5555555555555556,
              "#d8576b"
             ],
             [
              0.6666666666666666,
              "#ed7953"
             ],
             [
              0.7777777777777778,
              "#fb9f3a"
             ],
             [
              0.8888888888888888,
              "#fdca26"
             ],
             [
              1,
              "#f0f921"
             ]
            ],
            "type": "heatmap"
           }
          ],
          "heatmapgl": [
           {
            "colorbar": {
             "outlinewidth": 0,
             "ticks": ""
            },
            "colorscale": [
             [
              0,
              "#0d0887"
             ],
             [
              0.1111111111111111,
              "#46039f"
             ],
             [
              0.2222222222222222,
              "#7201a8"
             ],
             [
              0.3333333333333333,
              "#9c179e"
             ],
             [
              0.4444444444444444,
              "#bd3786"
             ],
             [
              0.5555555555555556,
              "#d8576b"
             ],
             [
              0.6666666666666666,
              "#ed7953"
             ],
             [
              0.7777777777777778,
              "#fb9f3a"
             ],
             [
              0.8888888888888888,
              "#fdca26"
             ],
             [
              1,
              "#f0f921"
             ]
            ],
            "type": "heatmapgl"
           }
          ],
          "histogram": [
           {
            "marker": {
             "pattern": {
              "fillmode": "overlay",
              "size": 10,
              "solidity": 0.2
             }
            },
            "type": "histogram"
           }
          ],
          "histogram2d": [
           {
            "colorbar": {
             "outlinewidth": 0,
             "ticks": ""
            },
            "colorscale": [
             [
              0,
              "#0d0887"
             ],
             [
              0.1111111111111111,
              "#46039f"
             ],
             [
              0.2222222222222222,
              "#7201a8"
             ],
             [
              0.3333333333333333,
              "#9c179e"
             ],
             [
              0.4444444444444444,
              "#bd3786"
             ],
             [
              0.5555555555555556,
              "#d8576b"
             ],
             [
              0.6666666666666666,
              "#ed7953"
             ],
             [
              0.7777777777777778,
              "#fb9f3a"
             ],
             [
              0.8888888888888888,
              "#fdca26"
             ],
             [
              1,
              "#f0f921"
             ]
            ],
            "type": "histogram2d"
           }
          ],
          "histogram2dcontour": [
           {
            "colorbar": {
             "outlinewidth": 0,
             "ticks": ""
            },
            "colorscale": [
             [
              0,
              "#0d0887"
             ],
             [
              0.1111111111111111,
              "#46039f"
             ],
             [
              0.2222222222222222,
              "#7201a8"
             ],
             [
              0.3333333333333333,
              "#9c179e"
             ],
             [
              0.4444444444444444,
              "#bd3786"
             ],
             [
              0.5555555555555556,
              "#d8576b"
             ],
             [
              0.6666666666666666,
              "#ed7953"
             ],
             [
              0.7777777777777778,
              "#fb9f3a"
             ],
             [
              0.8888888888888888,
              "#fdca26"
             ],
             [
              1,
              "#f0f921"
             ]
            ],
            "type": "histogram2dcontour"
           }
          ],
          "mesh3d": [
           {
            "colorbar": {
             "outlinewidth": 0,
             "ticks": ""
            },
            "type": "mesh3d"
           }
          ],
          "parcoords": [
           {
            "line": {
             "colorbar": {
              "outlinewidth": 0,
              "ticks": ""
             }
            },
            "type": "parcoords"
           }
          ],
          "pie": [
           {
            "automargin": true,
            "type": "pie"
           }
          ],
          "scatter": [
           {
            "fillpattern": {
             "fillmode": "overlay",
             "size": 10,
             "solidity": 0.2
            },
            "type": "scatter"
           }
          ],
          "scatter3d": [
           {
            "line": {
             "colorbar": {
              "outlinewidth": 0,
              "ticks": ""
             }
            },
            "marker": {
             "colorbar": {
              "outlinewidth": 0,
              "ticks": ""
             }
            },
            "type": "scatter3d"
           }
          ],
          "scattercarpet": [
           {
            "marker": {
             "colorbar": {
              "outlinewidth": 0,
              "ticks": ""
             }
            },
            "type": "scattercarpet"
           }
          ],
          "scattergeo": [
           {
            "marker": {
             "colorbar": {
              "outlinewidth": 0,
              "ticks": ""
             }
            },
            "type": "scattergeo"
           }
          ],
          "scattergl": [
           {
            "marker": {
             "colorbar": {
              "outlinewidth": 0,
              "ticks": ""
             }
            },
            "type": "scattergl"
           }
          ],
          "scattermapbox": [
           {
            "marker": {
             "colorbar": {
              "outlinewidth": 0,
              "ticks": ""
             }
            },
            "type": "scattermapbox"
           }
          ],
          "scatterpolar": [
           {
            "marker": {
             "colorbar": {
              "outlinewidth": 0,
              "ticks": ""
             }
            },
            "type": "scatterpolar"
           }
          ],
          "scatterpolargl": [
           {
            "marker": {
             "colorbar": {
              "outlinewidth": 0,
              "ticks": ""
             }
            },
            "type": "scatterpolargl"
           }
          ],
          "scatterternary": [
           {
            "marker": {
             "colorbar": {
              "outlinewidth": 0,
              "ticks": ""
             }
            },
            "type": "scatterternary"
           }
          ],
          "surface": [
           {
            "colorbar": {
             "outlinewidth": 0,
             "ticks": ""
            },
            "colorscale": [
             [
              0,
              "#0d0887"
             ],
             [
              0.1111111111111111,
              "#46039f"
             ],
             [
              0.2222222222222222,
              "#7201a8"
             ],
             [
              0.3333333333333333,
              "#9c179e"
             ],
             [
              0.4444444444444444,
              "#bd3786"
             ],
             [
              0.5555555555555556,
              "#d8576b"
             ],
             [
              0.6666666666666666,
              "#ed7953"
             ],
             [
              0.7777777777777778,
              "#fb9f3a"
             ],
             [
              0.8888888888888888,
              "#fdca26"
             ],
             [
              1,
              "#f0f921"
             ]
            ],
            "type": "surface"
           }
          ],
          "table": [
           {
            "cells": {
             "fill": {
              "color": "#EBF0F8"
             },
             "line": {
              "color": "white"
             }
            },
            "header": {
             "fill": {
              "color": "#C8D4E3"
             },
             "line": {
              "color": "white"
             }
            },
            "type": "table"
           }
          ]
         },
         "layout": {
          "annotationdefaults": {
           "arrowcolor": "#2a3f5f",
           "arrowhead": 0,
           "arrowwidth": 1
          },
          "autotypenumbers": "strict",
          "coloraxis": {
           "colorbar": {
            "outlinewidth": 0,
            "ticks": ""
           }
          },
          "colorscale": {
           "diverging": [
            [
             0,
             "#8e0152"
            ],
            [
             0.1,
             "#c51b7d"
            ],
            [
             0.2,
             "#de77ae"
            ],
            [
             0.3,
             "#f1b6da"
            ],
            [
             0.4,
             "#fde0ef"
            ],
            [
             0.5,
             "#f7f7f7"
            ],
            [
             0.6,
             "#e6f5d0"
            ],
            [
             0.7,
             "#b8e186"
            ],
            [
             0.8,
             "#7fbc41"
            ],
            [
             0.9,
             "#4d9221"
            ],
            [
             1,
             "#276419"
            ]
           ],
           "sequential": [
            [
             0,
             "#0d0887"
            ],
            [
             0.1111111111111111,
             "#46039f"
            ],
            [
             0.2222222222222222,
             "#7201a8"
            ],
            [
             0.3333333333333333,
             "#9c179e"
            ],
            [
             0.4444444444444444,
             "#bd3786"
            ],
            [
             0.5555555555555556,
             "#d8576b"
            ],
            [
             0.6666666666666666,
             "#ed7953"
            ],
            [
             0.7777777777777778,
             "#fb9f3a"
            ],
            [
             0.8888888888888888,
             "#fdca26"
            ],
            [
             1,
             "#f0f921"
            ]
           ],
           "sequentialminus": [
            [
             0,
             "#0d0887"
            ],
            [
             0.1111111111111111,
             "#46039f"
            ],
            [
             0.2222222222222222,
             "#7201a8"
            ],
            [
             0.3333333333333333,
             "#9c179e"
            ],
            [
             0.4444444444444444,
             "#bd3786"
            ],
            [
             0.5555555555555556,
             "#d8576b"
            ],
            [
             0.6666666666666666,
             "#ed7953"
            ],
            [
             0.7777777777777778,
             "#fb9f3a"
            ],
            [
             0.8888888888888888,
             "#fdca26"
            ],
            [
             1,
             "#f0f921"
            ]
           ]
          },
          "colorway": [
           "#636efa",
           "#EF553B",
           "#00cc96",
           "#ab63fa",
           "#FFA15A",
           "#19d3f3",
           "#FF6692",
           "#B6E880",
           "#FF97FF",
           "#FECB52"
          ],
          "font": {
           "color": "#2a3f5f"
          },
          "geo": {
           "bgcolor": "white",
           "lakecolor": "white",
           "landcolor": "#E5ECF6",
           "showlakes": true,
           "showland": true,
           "subunitcolor": "white"
          },
          "hoverlabel": {
           "align": "left"
          },
          "hovermode": "closest",
          "mapbox": {
           "style": "light"
          },
          "paper_bgcolor": "white",
          "plot_bgcolor": "#E5ECF6",
          "polar": {
           "angularaxis": {
            "gridcolor": "white",
            "linecolor": "white",
            "ticks": ""
           },
           "bgcolor": "#E5ECF6",
           "radialaxis": {
            "gridcolor": "white",
            "linecolor": "white",
            "ticks": ""
           }
          },
          "scene": {
           "xaxis": {
            "backgroundcolor": "#E5ECF6",
            "gridcolor": "white",
            "gridwidth": 2,
            "linecolor": "white",
            "showbackground": true,
            "ticks": "",
            "zerolinecolor": "white"
           },
           "yaxis": {
            "backgroundcolor": "#E5ECF6",
            "gridcolor": "white",
            "gridwidth": 2,
            "linecolor": "white",
            "showbackground": true,
            "ticks": "",
            "zerolinecolor": "white"
           },
           "zaxis": {
            "backgroundcolor": "#E5ECF6",
            "gridcolor": "white",
            "gridwidth": 2,
            "linecolor": "white",
            "showbackground": true,
            "ticks": "",
            "zerolinecolor": "white"
           }
          },
          "shapedefaults": {
           "line": {
            "color": "#2a3f5f"
           }
          },
          "ternary": {
           "aaxis": {
            "gridcolor": "white",
            "linecolor": "white",
            "ticks": ""
           },
           "baxis": {
            "gridcolor": "white",
            "linecolor": "white",
            "ticks": ""
           },
           "bgcolor": "#E5ECF6",
           "caxis": {
            "gridcolor": "white",
            "linecolor": "white",
            "ticks": ""
           }
          },
          "title": {
           "x": 0.05
          },
          "xaxis": {
           "automargin": true,
           "gridcolor": "white",
           "linecolor": "white",
           "ticks": "",
           "title": {
            "standoff": 15
           },
           "zerolinecolor": "white",
           "zerolinewidth": 2
          },
          "yaxis": {
           "automargin": true,
           "gridcolor": "white",
           "linecolor": "white",
           "ticks": "",
           "title": {
            "standoff": 15
           },
           "zerolinecolor": "white",
           "zerolinewidth": 2
          }
         }
        },
        "title": {
         "text": "TFIDF scores of songs per artist"
        },
        "xaxis": {
         "anchor": "y",
         "domain": [
          0,
          1
         ],
         "title": {
          "text": "Artist"
         }
        },
        "yaxis": {
         "anchor": "x",
         "domain": [
          0,
          1
         ],
         "title": {
          "text": "tf_idf_score"
         }
        }
       }
      },
      "text/html": [
       "<div>                            <div id=\"6ff5c647-f704-4c37-892c-d35730784183\" class=\"plotly-graph-div\" style=\"height:525px; width:100%;\"></div>            <script type=\"text/javascript\">                require([\"plotly\"], function(Plotly) {                    window.PLOTLYENV=window.PLOTLYENV || {};                                    if (document.getElementById(\"6ff5c647-f704-4c37-892c-d35730784183\")) {                    Plotly.newPlot(                        \"6ff5c647-f704-4c37-892c-d35730784183\",                        [{\"alignmentgroup\":\"True\",\"hovertemplate\":\"Artist=%{x}<br>tf_idf_score=%{y}<extra></extra>\",\"legendgroup\":\"\",\"marker\":{\"color\":\"#636efa\"},\"name\":\"\",\"notched\":false,\"offsetgroup\":\"\",\"orientation\":\"v\",\"showlegend\":false,\"x\":[\"\\u0531\\u0550\\u0539\\u0548\\u0552\\u0550 \\u0544\\u0535\\u054d\\u0549\\u0545\\u0531\\u0546\",\"\\u0531\\u0550\\u0539\\u0548\\u0552\\u0550 \\u0544\\u0535\\u054d\\u0549\\u0545\\u0531\\u0546\",\"\\u0531\\u0550\\u0539\\u0548\\u0552\\u0550 \\u0544\\u0535\\u054d\\u0549\\u0545\\u0531\\u0546\",\"\\u0531\\u0550\\u0539\\u0548\\u0552\\u0550 \\u0544\\u0535\\u054d\\u0549\\u0545\\u0531\\u0546\",\"\\u0531\\u0550\\u0539\\u0548\\u0552\\u0550 \\u0544\\u0535\\u054d\\u0549\\u0545\\u0531\\u0546\",\"\\u0531\\u0550\\u0539\\u0548\\u0552\\u0550 \\u0544\\u0535\\u054d\\u0549\\u0545\\u0531\\u0546\",\"\\u0531\\u0550\\u0539\\u0548\\u0552\\u0550 \\u0544\\u0535\\u054d\\u0549\\u0545\\u0531\\u0546\",\"\\u0531\\u0550\\u0539\\u0548\\u0552\\u0550 \\u0544\\u0535\\u054d\\u0549\\u0545\\u0531\\u0546\",\"\\u0531\\u0550\\u0539\\u0548\\u0552\\u0550 \\u0544\\u0535\\u054d\\u0549\\u0545\\u0531\\u0546\",\"\\u0531\\u0550\\u0539\\u0548\\u0552\\u0550 \\u0544\\u0535\\u054d\\u0549\\u0545\\u0531\\u0546\",\"\\u0531\\u0550\\u0539\\u0548\\u0552\\u0550 \\u0544\\u0535\\u054d\\u0549\\u0545\\u0531\\u0546\",\"\\u0531\\u0550\\u0539\\u0548\\u0552\\u0550 \\u0544\\u0535\\u054d\\u0549\\u0545\\u0531\\u0546\",\"\\u0531\\u0550\\u0539\\u0548\\u0552\\u0550 \\u0544\\u0535\\u054d\\u0549\\u0545\\u0531\\u0546\",\"\\u0531\\u0550\\u0539\\u0548\\u0552\\u0550 \\u0544\\u0535\\u054d\\u0549\\u0545\\u0531\\u0546\",\"\\u0531\\u0550\\u0539\\u0548\\u0552\\u0550 \\u0544\\u0535\\u054d\\u0549\\u0545\\u0531\\u0546\",\"\\u0531\\u0550\\u0539\\u0548\\u0552\\u0550 \\u0544\\u0535\\u054d\\u0549\\u0545\\u0531\\u0546\",\"\\u0531\\u0550\\u0539\\u0548\\u0552\\u0550 \\u0544\\u0535\\u054d\\u0549\\u0545\\u0531\\u0546\",\"\\u0531\\u0550\\u0539\\u0548\\u0552\\u0550 \\u0544\\u0535\\u054d\\u0549\\u0545\\u0531\\u0546\",\"\\u0531\\u0550\\u0539\\u0548\\u0552\\u0550 \\u0544\\u0535\\u054d\\u0549\\u0545\\u0531\\u0546\",\"\\u0531\\u0550\\u0539\\u0548\\u0552\\u0550 \\u0544\\u0535\\u054d\\u0549\\u0545\\u0531\\u0546\",\"\\u0531\\u0550\\u0539\\u0548\\u0552\\u0550 \\u0544\\u0535\\u054d\\u0549\\u0545\\u0531\\u0546\",\"\\u0531\\u0550\\u0539\\u0548\\u0552\\u0550 \\u0544\\u0535\\u054d\\u0549\\u0545\\u0531\\u0546\",\"\\u0531\\u0550\\u0539\\u0548\\u0552\\u0550 \\u0544\\u0535\\u054d\\u0549\\u0545\\u0531\\u0546\",\"\\u0531\\u0550\\u0539\\u0548\\u0552\\u0550 \\u0544\\u0535\\u054d\\u0549\\u0545\\u0531\\u0546\",\"\\u0531\\u0550\\u0539\\u0548\\u0552\\u0550 \\u0544\\u0535\\u054d\\u0549\\u0545\\u0531\\u0546\",\"\\u0531\\u0550\\u0539\\u0548\\u0552\\u0550 \\u0544\\u0535\\u054d\\u0549\\u0545\\u0531\\u0546\",\"\\u0531\\u0550\\u0539\\u0548\\u0552\\u0550 \\u0544\\u0535\\u054d\\u0549\\u0545\\u0531\\u0546\",\"\\u0531\\u0550\\u0539\\u0548\\u0552\\u0550 \\u0544\\u0535\\u054d\\u0549\\u0545\\u0531\\u0546\",\"\\u0531\\u0550\\u0539\\u0548\\u0552\\u0550 \\u0544\\u0535\\u054d\\u0549\\u0545\\u0531\\u0546\",\"\\u0531\\u0550\\u0539\\u0548\\u0552\\u0550 \\u0544\\u0535\\u054d\\u0549\\u0545\\u0531\\u0546\",\"\\u0531\\u0550\\u0539\\u0548\\u0552\\u0550 \\u0544\\u0535\\u054d\\u0549\\u0545\\u0531\\u0546\",\"\\u0531\\u0550\\u0539\\u0548\\u0552\\u0550 \\u0544\\u0535\\u054d\\u0549\\u0545\\u0531\\u0546\",\"\\u0531\\u0550\\u0539\\u0548\\u0552\\u0550 \\u0544\\u0535\\u054d\\u0549\\u0545\\u0531\\u0546\",\"\\u0531\\u0550\\u0539\\u0548\\u0552\\u0550 \\u0544\\u0535\\u054d\\u0549\\u0545\\u0531\\u0546\",\"\\u0531\\u0550\\u0539\\u0548\\u0552\\u0550 \\u0544\\u0535\\u054d\\u0549\\u0545\\u0531\\u0546\",\"\\u0531\\u0550\\u0539\\u0548\\u0552\\u0550 \\u0544\\u0535\\u054d\\u0549\\u0545\\u0531\\u0546\",\"\\u0531\\u0550\\u0539\\u0548\\u0552\\u0550 \\u0544\\u0535\\u054d\\u0549\\u0545\\u0531\\u0546\",\"\\u0531\\u0550\\u0539\\u0548\\u0552\\u0550 \\u0544\\u0535\\u054d\\u0549\\u0545\\u0531\\u0546\",\"\\u0531\\u0550\\u0539\\u0548\\u0552\\u0550 \\u0544\\u0535\\u054d\\u0549\\u0545\\u0531\\u0546\",\"\\u0531\\u0550\\u0539\\u0548\\u0552\\u0550 \\u0544\\u0535\\u054d\\u0549\\u0545\\u0531\\u0546\",\"\\u0531\\u0550\\u0539\\u0548\\u0552\\u0550 \\u0544\\u0535\\u054d\\u0549\\u0545\\u0531\\u0546\",\"\\u0531\\u0550\\u0539\\u0548\\u0552\\u0550 \\u0544\\u0535\\u054d\\u0549\\u0545\\u0531\\u0546\",\"\\u0531\\u0550\\u0539\\u0548\\u0552\\u0550 \\u0544\\u0535\\u054d\\u0549\\u0545\\u0531\\u0546\",\"\\u0531\\u0550\\u0539\\u0548\\u0552\\u0550 \\u0544\\u0535\\u054d\\u0549\\u0545\\u0531\\u0546\",\"\\u0531\\u0550\\u0539\\u0548\\u0552\\u0550 \\u0544\\u0535\\u054d\\u0549\\u0545\\u0531\\u0546\",\"\\u0531\\u0550\\u0539\\u0548\\u0552\\u0550 \\u0544\\u0535\\u054d\\u0549\\u0545\\u0531\\u0546\",\"\\u0531\\u0550\\u0539\\u0548\\u0552\\u0550 \\u0544\\u0535\\u054d\\u0549\\u0545\\u0531\\u0546\",\"\\u0531\\u0550\\u0539\\u0548\\u0552\\u0550 \\u0544\\u0535\\u054d\\u0549\\u0545\\u0531\\u0546\",\"\\u0531\\u0550\\u0539\\u0548\\u0552\\u0550 \\u0544\\u0535\\u054d\\u0549\\u0545\\u0531\\u0546\",\"\\u0531\\u0550\\u0539\\u0548\\u0552\\u0550 \\u0544\\u0535\\u054d\\u0549\\u0545\\u0531\\u0546\",\"\\u054c\\u0548\\u0552\\u0532\\u0535\\u0546 \\u0540\\u0531\\u053d\\u054e\\u0535\\u0550\\u0534\\u0545\\u0531\\u0546\",\"\\u054c\\u0548\\u0552\\u0532\\u0535\\u0546 \\u0540\\u0531\\u053d\\u054e\\u0535\\u0550\\u0534\\u0545\\u0531\\u0546\",\"\\u054c\\u0548\\u0552\\u0532\\u0535\\u0546 \\u0540\\u0531\\u053d\\u054e\\u0535\\u0550\\u0534\\u0545\\u0531\\u0546\",\"\\u054c\\u0548\\u0552\\u0532\\u0535\\u0546 \\u0540\\u0531\\u053d\\u054e\\u0535\\u0550\\u0534\\u0545\\u0531\\u0546\",\"\\u054c\\u0548\\u0552\\u0532\\u0535\\u0546 \\u0540\\u0531\\u053d\\u054e\\u0535\\u0550\\u0534\\u0545\\u0531\\u0546\",\"\\u054c\\u0548\\u0552\\u0532\\u0535\\u0546 \\u0540\\u0531\\u053d\\u054e\\u0535\\u0550\\u0534\\u0545\\u0531\\u0546\",\"\\u054c\\u0548\\u0552\\u0532\\u0535\\u0546 \\u0540\\u0531\\u053d\\u054e\\u0535\\u0550\\u0534\\u0545\\u0531\\u0546\",\"\\u054c\\u0548\\u0552\\u0532\\u0535\\u0546 \\u0540\\u0531\\u053d\\u054e\\u0535\\u0550\\u0534\\u0545\\u0531\\u0546\",\"\\u054c\\u0548\\u0552\\u0532\\u0535\\u0546 \\u0540\\u0531\\u053d\\u054e\\u0535\\u0550\\u0534\\u0545\\u0531\\u0546\",\"\\u054c\\u0548\\u0552\\u0532\\u0535\\u0546 \\u0540\\u0531\\u053d\\u054e\\u0535\\u0550\\u0534\\u0545\\u0531\\u0546\",\"\\u054c\\u0548\\u0552\\u0532\\u0535\\u0546 \\u0540\\u0531\\u053d\\u054e\\u0535\\u0550\\u0534\\u0545\\u0531\\u0546\",\"\\u054c\\u0548\\u0552\\u0532\\u0535\\u0546 \\u0540\\u0531\\u053d\\u054e\\u0535\\u0550\\u0534\\u0545\\u0531\\u0546\",\"\\u054c\\u0548\\u0552\\u0532\\u0535\\u0546 \\u0540\\u0531\\u053d\\u054e\\u0535\\u0550\\u0534\\u0545\\u0531\\u0546\",\"\\u054c\\u0548\\u0552\\u0532\\u0535\\u0546 \\u0540\\u0531\\u053d\\u054e\\u0535\\u0550\\u0534\\u0545\\u0531\\u0546\",\"\\u054c\\u0548\\u0552\\u0532\\u0535\\u0546 \\u0540\\u0531\\u053d\\u054e\\u0535\\u0550\\u0534\\u0545\\u0531\\u0546\",\"\\u054c\\u0548\\u0552\\u0532\\u0535\\u0546 \\u0540\\u0531\\u053d\\u054e\\u0535\\u0550\\u0534\\u0545\\u0531\\u0546\",\"\\u054c\\u0548\\u0552\\u0532\\u0535\\u0546 \\u0540\\u0531\\u053d\\u054e\\u0535\\u0550\\u0534\\u0545\\u0531\\u0546\",\"\\u054c\\u0548\\u0552\\u0532\\u0535\\u0546 \\u0540\\u0531\\u053d\\u054e\\u0535\\u0550\\u0534\\u0545\\u0531\\u0546\",\"\\u054c\\u0548\\u0552\\u0532\\u0535\\u0546 \\u0540\\u0531\\u053d\\u054e\\u0535\\u0550\\u0534\\u0545\\u0531\\u0546\",\"\\u054c\\u0548\\u0552\\u0532\\u0535\\u0546 \\u0540\\u0531\\u053d\\u054e\\u0535\\u0550\\u0534\\u0545\\u0531\\u0546\",\"\\u054c\\u0548\\u0552\\u0532\\u0535\\u0546 \\u0540\\u0531\\u053d\\u054e\\u0535\\u0550\\u0534\\u0545\\u0531\\u0546\",\"\\u054c\\u0548\\u0552\\u0532\\u0535\\u0546 \\u0540\\u0531\\u053d\\u054e\\u0535\\u0550\\u0534\\u0545\\u0531\\u0546\",\"\\u054c\\u0548\\u0552\\u0532\\u0535\\u0546 \\u0540\\u0531\\u053d\\u054e\\u0535\\u0550\\u0534\\u0545\\u0531\\u0546\",\"\\u054c\\u0548\\u0552\\u0532\\u0535\\u0546 \\u0540\\u0531\\u053d\\u054e\\u0535\\u0550\\u0534\\u0545\\u0531\\u0546\",\"\\u054c\\u0548\\u0552\\u0532\\u0535\\u0546 \\u0540\\u0531\\u053d\\u054e\\u0535\\u0550\\u0534\\u0545\\u0531\\u0546\",\"\\u054c\\u0548\\u0552\\u0532\\u0535\\u0546 \\u0540\\u0531\\u053d\\u054e\\u0535\\u0550\\u0534\\u0545\\u0531\\u0546\",\"\\u054c\\u0548\\u0552\\u0532\\u0535\\u0546 \\u0540\\u0531\\u053d\\u054e\\u0535\\u0550\\u0534\\u0545\\u0531\\u0546\",\"\\u054c\\u0548\\u0552\\u0532\\u0535\\u0546 \\u0540\\u0531\\u053d\\u054e\\u0535\\u0550\\u0534\\u0545\\u0531\\u0546\",\"\\u054c\\u0548\\u0552\\u0532\\u0535\\u0546 \\u0540\\u0531\\u053d\\u054e\\u0535\\u0550\\u0534\\u0545\\u0531\\u0546\",\"\\u054c\\u0548\\u0552\\u0532\\u0535\\u0546 \\u0540\\u0531\\u053d\\u054e\\u0535\\u0550\\u0534\\u0545\\u0531\\u0546\",\"\\u054c\\u0548\\u0552\\u0532\\u0535\\u0546 \\u0540\\u0531\\u053d\\u054e\\u0535\\u0550\\u0534\\u0545\\u0531\\u0546\",\"\\u054c\\u0548\\u0552\\u0532\\u0535\\u0546 \\u0540\\u0531\\u053d\\u054e\\u0535\\u0550\\u0534\\u0545\\u0531\\u0546\",\"\\u054c\\u0548\\u0552\\u0532\\u0535\\u0546 \\u0540\\u0531\\u053d\\u054e\\u0535\\u0550\\u0534\\u0545\\u0531\\u0546\",\"\\u054c\\u0548\\u0552\\u0532\\u0535\\u0546 \\u0540\\u0531\\u053d\\u054e\\u0535\\u0550\\u0534\\u0545\\u0531\\u0546\",\"\\u054c\\u0548\\u0552\\u0532\\u0535\\u0546 \\u0540\\u0531\\u053d\\u054e\\u0535\\u0550\\u0534\\u0545\\u0531\\u0546\",\"\\u054c\\u0548\\u0552\\u0532\\u0535\\u0546 \\u0540\\u0531\\u053d\\u054e\\u0535\\u0550\\u0534\\u0545\\u0531\\u0546\",\"\\u054c\\u0548\\u0552\\u0532\\u0535\\u0546 \\u0540\\u0531\\u053d\\u054e\\u0535\\u0550\\u0534\\u0545\\u0531\\u0546\",\"\\u054c\\u0548\\u0552\\u0532\\u0535\\u0546 \\u0540\\u0531\\u053d\\u054e\\u0535\\u0550\\u0534\\u0545\\u0531\\u0546\",\"\\u054c\\u0548\\u0552\\u0532\\u0535\\u0546 \\u0540\\u0531\\u053d\\u054e\\u0535\\u0550\\u0534\\u0545\\u0531\\u0546\",\"\\u054c\\u0548\\u0552\\u0532\\u0535\\u0546 \\u0540\\u0531\\u053d\\u054e\\u0535\\u0550\\u0534\\u0545\\u0531\\u0546\",\"\\u054c\\u0548\\u0552\\u0532\\u0535\\u0546 \\u0540\\u0531\\u053d\\u054e\\u0535\\u0550\\u0534\\u0545\\u0531\\u0546\",\"\\u054c\\u0548\\u0552\\u0532\\u0535\\u0546 \\u0540\\u0531\\u053d\\u054e\\u0535\\u0550\\u0534\\u0545\\u0531\\u0546\",\"\\u054c\\u0548\\u0552\\u0532\\u0535\\u0546 \\u0540\\u0531\\u053d\\u054e\\u0535\\u0550\\u0534\\u0545\\u0531\\u0546\",\"\\u054c\\u0548\\u0552\\u0532\\u0535\\u0546 \\u0540\\u0531\\u053d\\u054e\\u0535\\u0550\\u0534\\u0545\\u0531\\u0546\",\"\\u054c\\u0548\\u0552\\u0532\\u0535\\u0546 \\u0540\\u0531\\u053d\\u054e\\u0535\\u0550\\u0534\\u0545\\u0531\\u0546\",\"\\u054c\\u0548\\u0552\\u0532\\u0535\\u0546 \\u0540\\u0531\\u053d\\u054e\\u0535\\u0550\\u0534\\u0545\\u0531\\u0546\",\"\\u054c\\u0548\\u0552\\u0532\\u0535\\u0546 \\u0540\\u0531\\u053d\\u054e\\u0535\\u0550\\u0534\\u0545\\u0531\\u0546\",\"\\u054c\\u0548\\u0552\\u0532\\u0535\\u0546 \\u0540\\u0531\\u053d\\u054e\\u0535\\u0550\\u0534\\u0545\\u0531\\u0546\",\"\\u054c\\u0548\\u0552\\u0532\\u0535\\u0546 \\u0540\\u0531\\u053d\\u054e\\u0535\\u0550\\u0534\\u0545\\u0531\\u0546\",\"\\u054c\\u0548\\u0552\\u0532\\u0535\\u0546 \\u0540\\u0531\\u053d\\u054e\\u0535\\u0550\\u0534\\u0545\\u0531\\u0546\",\"\\u054c\\u0548\\u0552\\u0532\\u0535\\u0546 \\u0540\\u0531\\u053d\\u054e\\u0535\\u0550\\u0534\\u0545\\u0531\\u0546\",\"\\u054c\\u0548\\u0552\\u0532\\u0535\\u0546 \\u0540\\u0531\\u053d\\u054e\\u0535\\u0550\\u0534\\u0545\\u0531\\u0546\",\"\\u054c\\u0548\\u0552\\u0532\\u0535\\u0546 \\u0540\\u0531\\u053d\\u054e\\u0535\\u0550\\u0534\\u0545\\u0531\\u0546\",\"\\u054c\\u0548\\u0552\\u0532\\u0535\\u0546 \\u0540\\u0531\\u053d\\u054e\\u0535\\u0550\\u0534\\u0545\\u0531\\u0546\",\"\\u054c\\u0548\\u0552\\u0532\\u0535\\u0546 \\u0540\\u0531\\u053d\\u054e\\u0535\\u0550\\u0534\\u0545\\u0531\\u0546\",\"\\u054c\\u0548\\u0552\\u0532\\u0535\\u0546 \\u0540\\u0531\\u053d\\u054e\\u0535\\u0550\\u0534\\u0545\\u0531\\u0546\",\"\\u054c\\u0548\\u0552\\u0532\\u0535\\u0546 \\u0540\\u0531\\u053d\\u054e\\u0535\\u0550\\u0534\\u0545\\u0531\\u0546\",\"\\u054c\\u0548\\u0552\\u0532\\u0535\\u0546 \\u0540\\u0531\\u053d\\u054e\\u0535\\u0550\\u0534\\u0545\\u0531\\u0546\",\"\\u054c\\u0548\\u0552\\u0532\\u0535\\u0546 \\u0540\\u0531\\u053d\\u054e\\u0535\\u0550\\u0534\\u0545\\u0531\\u0546\",\"\\u054c\\u0548\\u0552\\u0532\\u0535\\u0546 \\u0540\\u0531\\u053d\\u054e\\u0535\\u0550\\u0534\\u0545\\u0531\\u0546\",\"\\u054c\\u0548\\u0552\\u0532\\u0535\\u0546 \\u0540\\u0531\\u053d\\u054e\\u0535\\u0550\\u0534\\u0545\\u0531\\u0546\",\"\\u054c\\u0548\\u0552\\u0532\\u0535\\u0546 \\u0540\\u0531\\u053d\\u054e\\u0535\\u0550\\u0534\\u0545\\u0531\\u0546\",\"\\u054c\\u0548\\u0552\\u0532\\u0535\\u0546 \\u0540\\u0531\\u053d\\u054e\\u0535\\u0550\\u0534\\u0545\\u0531\\u0546\",\"\\u054c\\u0548\\u0552\\u0532\\u0535\\u0546 \\u0540\\u0531\\u053d\\u054e\\u0535\\u0550\\u0534\\u0545\\u0531\\u0546\",\"\\u054c\\u0548\\u0552\\u0532\\u0535\\u0546 \\u0540\\u0531\\u053d\\u054e\\u0535\\u0550\\u0534\\u0545\\u0531\\u0546\",\"\\u054c\\u0548\\u0552\\u0532\\u0535\\u0546 \\u0540\\u0531\\u053d\\u054e\\u0535\\u0550\\u0534\\u0545\\u0531\\u0546\",\"\\u054c\\u0548\\u0552\\u0532\\u0535\\u0546 \\u0540\\u0531\\u053d\\u054e\\u0535\\u0550\\u0534\\u0545\\u0531\\u0546\",\"\\u054c\\u0548\\u0552\\u0532\\u0535\\u0546 \\u0540\\u0531\\u053d\\u054e\\u0535\\u0550\\u0534\\u0545\\u0531\\u0546\",\"\\u054c\\u0548\\u0552\\u0532\\u0535\\u0546 \\u0540\\u0531\\u053d\\u054e\\u0535\\u0550\\u0534\\u0545\\u0531\\u0546\",\"\\u054c\\u0548\\u0552\\u0532\\u0535\\u0546 \\u0540\\u0531\\u053d\\u054e\\u0535\\u0550\\u0534\\u0545\\u0531\\u0546\",\"\\u054c\\u0548\\u0552\\u0532\\u0535\\u0546 \\u0540\\u0531\\u053d\\u054e\\u0535\\u0550\\u0534\\u0545\\u0531\\u0546\",\"\\u054c\\u0548\\u0552\\u0532\\u0535\\u0546 \\u0540\\u0531\\u053d\\u054e\\u0535\\u0550\\u0534\\u0545\\u0531\\u0546\",\"\\u054c\\u0548\\u0552\\u0532\\u0535\\u0546 \\u0540\\u0531\\u053d\\u054e\\u0535\\u0550\\u0534\\u0545\\u0531\\u0546\",\"\\u054c\\u0548\\u0552\\u0532\\u0535\\u0546 \\u0540\\u0531\\u053d\\u054e\\u0535\\u0550\\u0534\\u0545\\u0531\\u0546\",\"\\u054c\\u0548\\u0552\\u0532\\u0535\\u0546 \\u0540\\u0531\\u053d\\u054e\\u0535\\u0550\\u0534\\u0545\\u0531\\u0546\",\"\\u054c\\u0548\\u0552\\u0532\\u0535\\u0546 \\u0540\\u0531\\u053d\\u054e\\u0535\\u0550\\u0534\\u0545\\u0531\\u0546\",\"\\u054c\\u0548\\u0552\\u0532\\u0535\\u0546 \\u0540\\u0531\\u053d\\u054e\\u0535\\u0550\\u0534\\u0545\\u0531\\u0546\",\"\\u054c\\u0548\\u0552\\u0532\\u0535\\u0546 \\u0540\\u0531\\u053d\\u054e\\u0535\\u0550\\u0534\\u0545\\u0531\\u0546\",\"\\u054c\\u0548\\u0552\\u0532\\u0535\\u0546 \\u0540\\u0531\\u053d\\u054e\\u0535\\u0550\\u0534\\u0545\\u0531\\u0546\",\"\\u054c\\u0548\\u0552\\u0532\\u0535\\u0546 \\u0540\\u0531\\u053d\\u054e\\u0535\\u0550\\u0534\\u0545\\u0531\\u0546\",\"\\u054c\\u0548\\u0552\\u0532\\u0535\\u0546 \\u0540\\u0531\\u053d\\u054e\\u0535\\u0550\\u0534\\u0545\\u0531\\u0546\",\"\\u054d\\u0531\\u0545\\u0531\\u0539-\\u0546\\u0548\\u054e\\u0531\",\"\\u054d\\u0531\\u0545\\u0531\\u0539-\\u0546\\u0548\\u054e\\u0531\",\"\\u054d\\u0531\\u0545\\u0531\\u0539-\\u0546\\u0548\\u054e\\u0531\",\"\\u054d\\u0531\\u0545\\u0531\\u0539-\\u0546\\u0548\\u054e\\u0531\",\"\\u054d\\u0531\\u0545\\u0531\\u0539-\\u0546\\u0548\\u054e\\u0531\",\"\\u054d\\u0531\\u0545\\u0531\\u0539-\\u0546\\u0548\\u054e\\u0531\",\"\\u054d\\u0531\\u0545\\u0531\\u0539-\\u0546\\u0548\\u054e\\u0531\",\"\\u054d\\u0531\\u0545\\u0531\\u0539-\\u0546\\u0548\\u054e\\u0531\",\"\\u054d\\u0531\\u0545\\u0531\\u0539-\\u0546\\u0548\\u054e\\u0531\",\"\\u054d\\u0531\\u0545\\u0531\\u0539-\\u0546\\u0548\\u054e\\u0531\",\"\\u054d\\u0531\\u0545\\u0531\\u0539-\\u0546\\u0548\\u054e\\u0531\",\"\\u054d\\u0531\\u0545\\u0531\\u0539-\\u0546\\u0548\\u054e\\u0531\",\"\\u054d\\u0531\\u0545\\u0531\\u0539-\\u0546\\u0548\\u054e\\u0531\",\"\\u054d\\u0531\\u0545\\u0531\\u0539-\\u0546\\u0548\\u054e\\u0531\",\"\\u054d\\u0531\\u0545\\u0531\\u0539-\\u0546\\u0548\\u054e\\u0531\",\"\\u054d\\u0531\\u0545\\u0531\\u0539-\\u0546\\u0548\\u054e\\u0531\",\"\\u053f\\u0548\\u0544\\u053b\\u054f\\u0531\\u054d\",\"\\u053f\\u0548\\u0544\\u053b\\u054f\\u0531\\u054d\",\"\\u053f\\u0548\\u0544\\u053b\\u054f\\u0531\\u054d\",\"\\u053f\\u0548\\u0544\\u053b\\u054f\\u0531\\u054d\",\"\\u053f\\u0548\\u0544\\u053b\\u054f\\u0531\\u054d\",\"\\u053f\\u0548\\u0544\\u053b\\u054f\\u0531\\u054d\",\"\\u053f\\u0548\\u0544\\u053b\\u054f\\u0531\\u054d\",\"\\u053f\\u0548\\u0544\\u053b\\u054f\\u0531\\u054d\",\"\\u053f\\u0548\\u0544\\u053b\\u054f\\u0531\\u054d\",\"\\u053f\\u0548\\u0544\\u053b\\u054f\\u0531\\u054d\",\"\\u053f\\u0548\\u0544\\u053b\\u054f\\u0531\\u054d\",\"\\u053f\\u0548\\u0544\\u053b\\u054f\\u0531\\u054d\",\"\\u053f\\u0548\\u0544\\u053b\\u054f\\u0531\\u054d\",\"\\u053f\\u0548\\u0544\\u053b\\u054f\\u0531\\u054d\",\"\\u053f\\u0548\\u0544\\u053b\\u054f\\u0531\\u054d\",\"\\u053f\\u0548\\u0544\\u053b\\u054f\\u0531\\u054d\",\"\\u053f\\u0548\\u0544\\u053b\\u054f\\u0531\\u054d\",\"\\u053f\\u0548\\u0544\\u053b\\u054f\\u0531\\u054d\",\"\\u053f\\u0548\\u0544\\u053b\\u054f\\u0531\\u054d\",\"\\u053f\\u0548\\u0544\\u053b\\u054f\\u0531\\u054d\",\"\\u053f\\u0548\\u0544\\u053b\\u054f\\u0531\\u054d\",\"\\u053f\\u0548\\u0544\\u053b\\u054f\\u0531\\u054d\",\"\\u053f\\u0548\\u0544\\u053b\\u054f\\u0531\\u054d\",\"\\u053f\\u0548\\u0544\\u053b\\u054f\\u0531\\u054d\",\"\\u053f\\u0548\\u0544\\u053b\\u054f\\u0531\\u054d\",\"\\u053f\\u0548\\u0544\\u053b\\u054f\\u0531\\u054d\",\"\\u053f\\u0548\\u0544\\u053b\\u054f\\u0531\\u054d\",\"\\u053f\\u0548\\u0544\\u053b\\u054f\\u0531\\u054d\",\"\\u053f\\u0548\\u0544\\u053b\\u054f\\u0531\\u054d\",\"\\u053f\\u0548\\u0544\\u053b\\u054f\\u0531\\u054d\",\"\\u053f\\u0548\\u0544\\u053b\\u054f\\u0531\\u054d\",\"\\u053f\\u0548\\u0544\\u053b\\u054f\\u0531\\u054d\",\"\\u053f\\u0548\\u0544\\u053b\\u054f\\u0531\\u054d\",\"\\u053f\\u0548\\u0544\\u053b\\u054f\\u0531\\u054d\",\"\\u053f\\u0548\\u0544\\u053b\\u054f\\u0531\\u054d\",\"\\u053f\\u0548\\u0544\\u053b\\u054f\\u0531\\u054d\",\"\\u053f\\u0548\\u0544\\u053b\\u054f\\u0531\\u054d\",\"\\u053f\\u0548\\u0544\\u053b\\u054f\\u0531\\u054d\",\"\\u053f\\u0548\\u0544\\u053b\\u054f\\u0531\\u054d\",\"\\u053f\\u0548\\u0544\\u053b\\u054f\\u0531\\u054d\",\"\\u053f\\u0548\\u0544\\u053b\\u054f\\u0531\\u054d\",\"\\u053f\\u0548\\u0544\\u053b\\u054f\\u0531\\u054d\",\"\\u053f\\u0548\\u0544\\u053b\\u054f\\u0531\\u054d\",\"\\u053f\\u0548\\u0544\\u053b\\u054f\\u0531\\u054d\",\"\\u053f\\u0548\\u0544\\u053b\\u054f\\u0531\\u054d\",\"\\u053f\\u0548\\u0544\\u053b\\u054f\\u0531\\u054d\",\"\\u053f\\u0548\\u0544\\u053b\\u054f\\u0531\\u054d\",\"\\u053f\\u0548\\u0544\\u053b\\u054f\\u0531\\u054d\",\"\\u053f\\u0548\\u0544\\u053b\\u054f\\u0531\\u054d\",\"\\u053f\\u0548\\u0544\\u053b\\u054f\\u0531\\u054d\",\"\\u053f\\u0548\\u0544\\u053b\\u054f\\u0531\\u054d\",\"\\u053f\\u0548\\u0544\\u053b\\u054f\\u0531\\u054d\",\"\\u053f\\u0548\\u0544\\u053b\\u054f\\u0531\\u054d\",\"\\u053f\\u0548\\u0544\\u053b\\u054f\\u0531\\u054d\",\"\\u053f\\u0548\\u0544\\u053b\\u054f\\u0531\\u054d\",\"\\u053f\\u0548\\u0544\\u053b\\u054f\\u0531\\u054d\",\"\\u053f\\u0548\\u0544\\u053b\\u054f\\u0531\\u054d\",\"\\u053f\\u0548\\u0544\\u053b\\u054f\\u0531\\u054d\",\"\\u053f\\u0548\\u0544\\u053b\\u054f\\u0531\\u054d\",\"\\u053f\\u0548\\u0544\\u053b\\u054f\\u0531\\u054d\",\"\\u053f\\u0548\\u0544\\u053b\\u054f\\u0531\\u054d\",\"\\u053f\\u0548\\u0544\\u053b\\u054f\\u0531\\u054d\",\"HT Hayko\",\"HT Hayko\",\"HT Hayko\",\"HT Hayko\",\"HT Hayko\",\"HT Hayko\",\"HT Hayko\",\"HT Hayko\",\"HT Hayko\",\"HT Hayko\",\"HT Hayko\",\"HT Hayko\",\"HT Hayko\",\"HT Hayko\",\"HT Hayko\",\"HT Hayko\",\"Empyray\",\"Empyray\",\"Empyray\",\"Empyray\",\"Empyray\",\"Empyray\",\"Empyray\",\"Empyray\",\"Empyray\",\"Empyray\",\" Lav Eli\",\" Lav Eli\",\" Lav Eli\",\" Lav Eli\",\" Lav Eli\",\" Lav Eli\",\" Lav Eli\",\" Lav Eli\",\" Lav Eli\",\"Silva Hakobyan\",\"Silva Hakobyan\",\"Silva Hakobyan\",\"Silva Hakobyan\",\"Silva Hakobyan\",\"Silva Hakobyan\",\"Silva Hakobyan\",\"Silva Hakobyan\",\"Silva Hakobyan\",\"Silva Hakobyan\",\"Silva Hakobyan\",\"Silva Hakobyan\",\"Silva Hakobyan\",\"Silva Hakobyan\",\"Silva Hakobyan\",\"Silva Hakobyan\",\"Silva Hakobyan\",\"Silva Hakobyan\",\"Silva Hakobyan\",\"Silva Hakobyan\",\"\\u0531\\u0576\\u0564\\u0580\\u0565\",\"\\u0531\\u0576\\u0564\\u0580\\u0565\",\"\\u0531\\u0576\\u0564\\u0580\\u0565\",\"\\u0531\\u0576\\u0564\\u0580\\u0565\",\"\\u0531\\u0576\\u0564\\u0580\\u0565\",\"\\u0531\\u0576\\u0564\\u0580\\u0565\",\"\\u0531\\u0576\\u0564\\u0580\\u0565\",\"\\u0531\\u0576\\u0564\\u0580\\u0565\",\"\\u0531\\u0576\\u0564\\u0580\\u0565\",\"\\u0531\\u0576\\u0564\\u0580\\u0565\",\"\\u0531\\u0576\\u0564\\u0580\\u0565\",\"\\u0531\\u0576\\u0564\\u0580\\u0565\",\"\\u053c\\u056b\\u056c\\u056b\\u0569 \\u0540\\u0578\\u057e\\u0570\\u0561\\u0576\\u0576\\u056b\\u057d\\u0575\\u0561\\u0576\",\"\\u053c\\u056b\\u056c\\u056b\\u0569 \\u0540\\u0578\\u057e\\u0570\\u0561\\u0576\\u0576\\u056b\\u057d\\u0575\\u0561\\u0576\",\"\\u053c\\u056b\\u056c\\u056b\\u0569 \\u0540\\u0578\\u057e\\u0570\\u0561\\u0576\\u0576\\u056b\\u057d\\u0575\\u0561\\u0576\",\"\\u053c\\u056b\\u056c\\u056b\\u0569 \\u0540\\u0578\\u057e\\u0570\\u0561\\u0576\\u0576\\u056b\\u057d\\u0575\\u0561\\u0576\",\"\\u053c\\u056b\\u056c\\u056b\\u0569 \\u0540\\u0578\\u057e\\u0570\\u0561\\u0576\\u0576\\u056b\\u057d\\u0575\\u0561\\u0576\",\"\\u053c\\u056b\\u056c\\u056b\\u0569 \\u0540\\u0578\\u057e\\u0570\\u0561\\u0576\\u0576\\u056b\\u057d\\u0575\\u0561\\u0576\",\"\\u053c\\u056b\\u056c\\u056b\\u0569 \\u0540\\u0578\\u057e\\u0570\\u0561\\u0576\\u0576\\u056b\\u057d\\u0575\\u0561\\u0576\",\"\\u053c\\u056b\\u056c\\u056b\\u0569 \\u0540\\u0578\\u057e\\u0570\\u0561\\u0576\\u0576\\u056b\\u057d\\u0575\\u0561\\u0576\",\"\\u053c\\u056b\\u056c\\u056b\\u0569 \\u0540\\u0578\\u057e\\u0570\\u0561\\u0576\\u0576\\u056b\\u057d\\u0575\\u0561\\u0576\",\"\\u053c\\u056b\\u056c\\u056b\\u0569 \\u0540\\u0578\\u057e\\u0570\\u0561\\u0576\\u0576\\u056b\\u057d\\u0575\\u0561\\u0576\",\"\\u053c\\u056b\\u056c\\u056b\\u0569 \\u0540\\u0578\\u057e\\u0570\\u0561\\u0576\\u0576\\u056b\\u057d\\u0575\\u0561\\u0576\",\"\\u053c\\u056b\\u056c\\u056b\\u0569 \\u0540\\u0578\\u057e\\u0570\\u0561\\u0576\\u0576\\u056b\\u057d\\u0575\\u0561\\u0576\",\"\\u053c\\u056b\\u056c\\u056b\\u0569 \\u0540\\u0578\\u057e\\u0570\\u0561\\u0576\\u0576\\u056b\\u057d\\u0575\\u0561\\u0576\",\"\\u053c\\u056b\\u056c\\u056b\\u0569 \\u0540\\u0578\\u057e\\u0570\\u0561\\u0576\\u0576\\u056b\\u057d\\u0575\\u0561\\u0576\",\"\\u053c\\u056b\\u056c\\u056b\\u0569 \\u0540\\u0578\\u057e\\u0570\\u0561\\u0576\\u0576\\u056b\\u057d\\u0575\\u0561\\u0576\",\"\\u053c\\u056b\\u056c\\u056b\\u0569 \\u0540\\u0578\\u057e\\u0570\\u0561\\u0576\\u0576\\u056b\\u057d\\u0575\\u0561\\u0576\",\"\\u053c\\u056b\\u056c\\u056b\\u0569 \\u0540\\u0578\\u057e\\u0570\\u0561\\u0576\\u0576\\u056b\\u057d\\u0575\\u0561\\u0576\",\"\\u053c\\u056b\\u056c\\u056b\\u0569 \\u0540\\u0578\\u057e\\u0570\\u0561\\u0576\\u0576\\u056b\\u057d\\u0575\\u0561\\u0576\",\"\\u053c\\u056b\\u056c\\u056b\\u0569 \\u0540\\u0578\\u057e\\u0570\\u0561\\u0576\\u0576\\u056b\\u057d\\u0575\\u0561\\u0576\",\"\\u053c\\u056b\\u056c\\u056b\\u0569 \\u0540\\u0578\\u057e\\u0570\\u0561\\u0576\\u0576\\u056b\\u057d\\u0575\\u0561\\u0576\",\"\\u053c\\u056b\\u056c\\u056b\\u0569 \\u0540\\u0578\\u057e\\u0570\\u0561\\u0576\\u0576\\u056b\\u057d\\u0575\\u0561\\u0576\",\"\\u053c\\u056b\\u056c\\u056b\\u0569 \\u0540\\u0578\\u057e\\u0570\\u0561\\u0576\\u0576\\u056b\\u057d\\u0575\\u0561\\u0576\",\"\\u053c\\u056b\\u056c\\u056b\\u0569 \\u0540\\u0578\\u057e\\u0570\\u0561\\u0576\\u0576\\u056b\\u057d\\u0575\\u0561\\u0576\",\"\\u053c\\u056b\\u056c\\u056b\\u0569 \\u0540\\u0578\\u057e\\u0570\\u0561\\u0576\\u0576\\u056b\\u057d\\u0575\\u0561\\u0576\",\"\\u054d\\u056b\\u0580\\u0578\\u0582\\u0577\\u0578\",\"\\u054d\\u056b\\u0580\\u0578\\u0582\\u0577\\u0578\",\"\\u054d\\u056b\\u0580\\u0578\\u0582\\u0577\\u0578\",\"\\u054d\\u056b\\u0580\\u0578\\u0582\\u0577\\u0578\",\"\\u054d\\u056b\\u0580\\u0578\\u0582\\u0577\\u0578\",\"\\u054d\\u056b\\u0580\\u0578\\u0582\\u0577\\u0578\",\"\\u054d\\u056b\\u0580\\u0578\\u0582\\u0577\\u0578\",\"\\u054d\\u056b\\u0580\\u0578\\u0582\\u0577\\u0578\",\"\\u054d\\u056b\\u0580\\u0578\\u0582\\u0577\\u0578\",\"\\u054d\\u056b\\u0580\\u0578\\u0582\\u0577\\u0578\",\"\\u054d\\u056b\\u0580\\u0578\\u0582\\u0577\\u0578\",\"\\u054d\\u056b\\u0580\\u0578\\u0582\\u0577\\u0578\",\"\\u054d\\u056b\\u0580\\u0578\\u0582\\u0577\\u0578\",\"\\u054d\\u056b\\u0580\\u0578\\u0582\\u0577\\u0578\",\"\\u054d\\u056b\\u0580\\u0578\\u0582\\u0577\\u0578\",\"\\u054d\\u056b\\u0580\\u0578\\u0582\\u0577\\u0578\",\"\\u054d\\u056b\\u0580\\u0578\\u0582\\u0577\\u0578\",\"\\u054d\\u056b\\u0580\\u0578\\u0582\\u0577\\u0578\",\"\\u054d\\u056b\\u0580\\u0578\\u0582\\u0577\\u0578\",\"\\u054d\\u056b\\u0580\\u0578\\u0582\\u0577\\u0578\",\"\\u054d\\u056b\\u0580\\u0578\\u0582\\u0577\\u0578\",\"\\u054d\\u056b\\u0580\\u0578\\u0582\\u0577\\u0578\",\"\\u054d\\u056b\\u0580\\u0578\\u0582\\u0577\\u0578\",\"\\u054d\\u056b\\u0580\\u0578\\u0582\\u0577\\u0578\",\"\\u054d\\u056b\\u0580\\u0578\\u0582\\u0577\\u0578\",\"\\u0544\\u056b\\u0570\\u0580\\u0561\\u0576 \\u053e\\u0561\\u057c\\u0578\\u0582\\u056f\\u0575\\u0561\\u0576\",\"\\u0544\\u056b\\u0570\\u0580\\u0561\\u0576 \\u053e\\u0561\\u057c\\u0578\\u0582\\u056f\\u0575\\u0561\\u0576\",\"\\u0544\\u056b\\u0570\\u0580\\u0561\\u0576 \\u053e\\u0561\\u057c\\u0578\\u0582\\u056f\\u0575\\u0561\\u0576\",\"\\u0544\\u056b\\u0570\\u0580\\u0561\\u0576 \\u053e\\u0561\\u057c\\u0578\\u0582\\u056f\\u0575\\u0561\\u0576\",\"\\u0544\\u056b\\u0570\\u0580\\u0561\\u0576 \\u053e\\u0561\\u057c\\u0578\\u0582\\u056f\\u0575\\u0561\\u0576\",\"\\u0544\\u056b\\u0570\\u0580\\u0561\\u0576 \\u053e\\u0561\\u057c\\u0578\\u0582\\u056f\\u0575\\u0561\\u0576\",\"\\u0544\\u056b\\u0570\\u0580\\u0561\\u0576 \\u053e\\u0561\\u057c\\u0578\\u0582\\u056f\\u0575\\u0561\\u0576\",\"\\u0544\\u056b\\u0570\\u0580\\u0561\\u0576 \\u053e\\u0561\\u057c\\u0578\\u0582\\u056f\\u0575\\u0561\\u0576\",\"\\u0544\\u056b\\u0570\\u0580\\u0561\\u0576 \\u053e\\u0561\\u057c\\u0578\\u0582\\u056f\\u0575\\u0561\\u0576\",\"\\u0544\\u056b\\u0570\\u0580\\u0561\\u0576 \\u053e\\u0561\\u057c\\u0578\\u0582\\u056f\\u0575\\u0561\\u0576\",\"\\u0544\\u056b\\u0570\\u0580\\u0561\\u0576 \\u053e\\u0561\\u057c\\u0578\\u0582\\u056f\\u0575\\u0561\\u0576\",\"\\u0544\\u056b\\u0570\\u0580\\u0561\\u0576 \\u053e\\u0561\\u057c\\u0578\\u0582\\u056f\\u0575\\u0561\\u0576\",\"\\u0544\\u056b\\u0570\\u0580\\u0561\\u0576 \\u053e\\u0561\\u057c\\u0578\\u0582\\u056f\\u0575\\u0561\\u0576\",\"\\u0544\\u056b\\u0570\\u0580\\u0561\\u0576 \\u053e\\u0561\\u057c\\u0578\\u0582\\u056f\\u0575\\u0561\\u0576\",\"\\u0544\\u056b\\u0570\\u0580\\u0561\\u0576 \\u053e\\u0561\\u057c\\u0578\\u0582\\u056f\\u0575\\u0561\\u0576\",\"\\u0544\\u056b\\u0570\\u0580\\u0561\\u0576 \\u053e\\u0561\\u057c\\u0578\\u0582\\u056f\\u0575\\u0561\\u0576\",\"\\u0544\\u056b\\u0570\\u0580\\u0561\\u0576 \\u053e\\u0561\\u057c\\u0578\\u0582\\u056f\\u0575\\u0561\\u0576\",\"\\u0544\\u056b\\u0570\\u0580\\u0561\\u0576 \\u053e\\u0561\\u057c\\u0578\\u0582\\u056f\\u0575\\u0561\\u0576\",\"Arame\",\"Arame\",\"Arame\",\"Arame\",\"Arame\",\"Arame\",\"Arame\",\"Arame\",\"Arame\",\"Razmik Amyan\",\"Razmik Amyan\",\"Razmik Amyan\",\"Razmik Amyan\",\"Razmik Amyan\",\"Razmik Amyan\",\"Razmik Amyan\",\"Razmik Amyan\",\"Razmik Amyan\",\"Razmik Amyan\",\"Razmik Amyan\",\"Razmik Amyan\",\"Razmik Amyan\",\"Razmik Amyan\",\"Razmik Amyan\",\"Razmik Amyan\",\"Razmik Amyan\",\"Razmik Amyan\",\"Harout Pamboukjian\",\"Harout Pamboukjian\",\"Harout Pamboukjian\",\"Harout Pamboukjian\",\"Harout Pamboukjian\",\"Harout Pamboukjian\",\"Harout Pamboukjian\",\"Harout Pamboukjian\",\"Harout Pamboukjian\",\"Harout Pamboukjian\",\"Harout Pamboukjian\",\"Harout Pamboukjian\",\"Harout Pamboukjian\",\"Harout Pamboukjian\",\"Harout Pamboukjian\",\"Harout Pamboukjian\",\"Harout Pamboukjian\",\"Harout Pamboukjian\",\"Harout Pamboukjian\",\"Harout Pamboukjian\",\"Harout Pamboukjian\",\"Harout Pamboukjian\",\"Harout Pamboukjian\",\"Harout Pamboukjian\",\"Harout Pamboukjian\",\"Harout Pamboukjian\",\"Harout Pamboukjian\",\"Harout Pamboukjian\",\"Harout Pamboukjian\",\"Harout Pamboukjian\",\"Harout Pamboukjian\",\"Harout Pamboukjian\",\"\\u0540\\u0561\\u0575\\u056f \\u0540\\u0561\\u056f\\u0578\\u0562\\u0575\\u0561\\u0576\",\"\\u0540\\u0561\\u0575\\u056f \\u0540\\u0561\\u056f\\u0578\\u0562\\u0575\\u0561\\u0576\",\"\\u0540\\u0561\\u0575\\u056f \\u0540\\u0561\\u056f\\u0578\\u0562\\u0575\\u0561\\u0576\",\"\\u0540\\u0561\\u0575\\u056f \\u0540\\u0561\\u056f\\u0578\\u0562\\u0575\\u0561\\u0576\",\"\\u0540\\u0561\\u0575\\u056f \\u0540\\u0561\\u056f\\u0578\\u0562\\u0575\\u0561\\u0576\",\"\\u0540\\u0561\\u0575\\u056f \\u0540\\u0561\\u056f\\u0578\\u0562\\u0575\\u0561\\u0576\",\"\\u0540\\u0561\\u0575\\u056f \\u0540\\u0561\\u056f\\u0578\\u0562\\u0575\\u0561\\u0576\",\"\\u0540\\u0561\\u0575\\u056f \\u0540\\u0561\\u056f\\u0578\\u0562\\u0575\\u0561\\u0576\",\"\\u0540\\u0561\\u0575\\u056f \\u0540\\u0561\\u056f\\u0578\\u0562\\u0575\\u0561\\u0576\",\"\\u0540\\u0561\\u0575\\u056f \\u0540\\u0561\\u056f\\u0578\\u0562\\u0575\\u0561\\u0576\",\"\\u0540\\u0561\\u0575\\u056f \\u0540\\u0561\\u056f\\u0578\\u0562\\u0575\\u0561\\u0576\",\"\\u0540\\u0561\\u0575\\u056f \\u0540\\u0561\\u056f\\u0578\\u0562\\u0575\\u0561\\u0576\",\"\\u0540\\u0561\\u0575\\u056f \\u0540\\u0561\\u056f\\u0578\\u0562\\u0575\\u0561\\u0576\",\"\\u0540\\u0561\\u0575\\u056f \\u0540\\u0561\\u056f\\u0578\\u0562\\u0575\\u0561\\u0576\",\"\\u0540\\u0561\\u0575\\u056f \\u0540\\u0561\\u056f\\u0578\\u0562\\u0575\\u0561\\u0576\",\"\\u0540\\u0561\\u0575\\u056f \\u0540\\u0561\\u056f\\u0578\\u0562\\u0575\\u0561\\u0576\",\"\\u0540\\u0561\\u0575\\u056f \\u0540\\u0561\\u056f\\u0578\\u0562\\u0575\\u0561\\u0576\",\"\\u0540\\u0561\\u0575\\u056f \\u0540\\u0561\\u056f\\u0578\\u0562\\u0575\\u0561\\u0576\",\"\\u0540\\u0561\\u0575\\u056f \\u0540\\u0561\\u056f\\u0578\\u0562\\u0575\\u0561\\u0576\",\"\\u0540\\u0561\\u0575\\u056f \\u0540\\u0561\\u056f\\u0578\\u0562\\u0575\\u0561\\u0576\",\"\\u0540\\u0561\\u0575\\u056f \\u0540\\u0561\\u056f\\u0578\\u0562\\u0575\\u0561\\u0576\",\"\\u0540\\u0561\\u0575\\u056f \\u0540\\u0561\\u056f\\u0578\\u0562\\u0575\\u0561\\u0576\",\"\\u0540\\u0561\\u0575\\u056f \\u0540\\u0561\\u056f\\u0578\\u0562\\u0575\\u0561\\u0576\",\"Aram MP3\",\"Aram MP3\",\"Arsen Safaryan\",\"Arsen Safaryan\",\"Arsen Safaryan\",\"Arsen Safaryan\",\"Arsen Safaryan\",\"Arsen Safaryan\",\"Arsen Safaryan\",\"Arsen Safaryan\",\"Arsen Safaryan\",\"Arsen Safaryan\",\"Arsen Safaryan\",\"Arsen Safaryan\",\"Arsen Safaryan\",\"Arsen Safaryan\",\"Arsen Safaryan\",\"Arsen Safaryan\",\"Arsen Safaryan\",\"Arsen Safaryan\",\"Arsen Safaryan\",\"Arsen Safaryan\",\"Arsen Safaryan\",\"Arsen Safaryan\",\"Arsen Safaryan\",\"Aram MP3\",\"Aram MP3\",\"Aram MP3\",\"Aram MP3\",\"Aram MP3\",\"Aram MP3\",\"Aram MP3\",\"Aram MP3\",\"Aram MP3\",\"Aram MP3\",\"Aram MP3\",\"Aram MP3\",\"Aram MP3\",\"Aram MP3\",\"Aram MP3\",\"Misho\",\"Misho\",\"Misho\",\"Misho\",\"Misho\",\"Misho\",\"Misho\",\"Misho\",\"Misho\",\"Misho\",\"Misho\",\"Misho\",\"Misho\",\"Misho\",\"Misho\",\"Misho\",\"Misho\",\"Misho\",\"Misho\",\"Misho\",\"Misho\",\"Misho\",\"Misho\",\"Misho\",\"Misho\",\"Misho\",\"Mi Qani Hogi\",\"Mi Qani Hogi\",\"Mi Qani Hogi\",\"Mi Qani Hogi\",\"Mi Qani Hogi\",\"Mi Qani Hogi\",\"Mi Qani Hogi\",\"Mi Qani Hogi\",\"Mi Qani Hogi\",\"Mi Qani Hogi\",\"Mi Qani Hogi\",\"Mi Qani Hogi\",\"Mi Qani Hogi\",\"Mi Qani Hogi\",\"Mi Qani Hogi\"],\"x0\":\" \",\"xaxis\":\"x\",\"y\":[6.8844643179713785,6.910088966403411,5.229592666304081,7.552990240245455,5.688084416217024,4.75918183064435,4.837785364680641,6.388194779504157,6.307857740605618,6.675176069786671,5.365295499813843,5.875559915380966,5.984104253996149,7.010844932555271,5.052568691773676,5.365961656343249,6.407768341834981,6.446718989612874,7.702196603781276,7.437682981145146,8.088593338382132,7.043639412213432,9.700301372347838,8.601577878011172,6.348465304981676,6.462241061117492,6.970328447974025,8.336408666805035,6.340634822943118,8.803715190424148,6.174069899107426,7.094484200079245,5.677410121033997,7.714668856131522,4.160104961127553,5.872351250197992,8.574571842022326,4.843226505793968,2.7305450696674014,5.6984220196317,7.5297305771533765,8.293347618551154,7.2560028897321125,6.13403153769301,6.811803251118814,5.194537570558696,6.558478767590904,8.33676502331698,7.683098088285351,6.969663815540271,8.225584749320864,4.567675820599121,8.91056745821255,5.4788282836417475,8.458604284870304,7.7581236980901105,4.7611728429692945,5.048691753013861,3.566492606733717,4.782956789286057,7.568109997033914,5.6894172463945925,8.367109190859667,7.545529457036964,4.1648379408302745,4.961188789820955,6.124407317002153,6.182786691919262,4.171739030600262,6.118478647656663,5.057224435953469,6.41604877747985,7.266421011672474,4.453257006967572,7.252420129457411,6.541650693455461,6.122774148190652,6.514377234195181,7.928497759053119,4.403908619232123,4.169900517162855,5.318569455058601,5.8431085049436735,5.654564321326425,5.197572084270291,5.0787500690689225,7.081164280370134,5.938493707569247,8.169442735444658,4.57117786445809,8.36390991239051,4.842342593025122,4.3922448028944086,6.5513711732249185,5.521861338389439,5.7924625516454515,7.001645998309249,7.106697743457584,6.392938138396586,5.837168208956415,5.324790363245791,5.519288044134597,6.955457363879923,5.348054515406448,5.004711856541336,5.765771955372546,6.419797953442319,8.052582318528756,5.802962458865081,5.19014450749982,4.864575481549347,6.285213667163157,7.190549280418857,4.9484830317025885,9.009882247894456,7.228667046750202,7.839574199791418,3.900067692332797,5.594228059281104,5.814436573035119,4.763120826461604,3.4726107917257845,3.883762069492887,3.829557767026615,4.471852754356001,4.231161054225078,2.732385343624692,5.641849481047062,5.151934775182834,6.46018624657952,5.414497254445177,7.133126314982953,9.255003972403541,8.130989664451509,7.983127705796611,9.01919082641082,6.851920303295878,8.600998097035824,7.6450214027062575,7.154345914142664,7.2990253058172625,9.35187505113236,4.279063723515422,9.148115860297162,7.692212497036865,8.579297929849076,4.818879546753232,3.742864954771899,4.084798583815816,5.475333367436713,3.265191479056324,7.325824112715093,5.905562072777892,3.1031751628223265,6.611876391861426,6.217286522853652,2.93403257008168,2.280713439314373,3.2620958189133793,5.180710712903017,6.188708112867254,3.3968052172739243,2.7243481062932,2.933291462334549,3.265524301917022,3.695710749372073,3.398024409934032,4.106826868926474,3.350245080008842,4.689525134568629,5.7670980178908255,5.204597646444513,4.75673227713081,4.374140695125849,3.482874416372537,4.567252028153545,4.215248805135084,3.994841665299531,2.9124554202192208,4.696563378772158,4.073258156928823,3.774746687035661,3.510298382192817,5.172222957192666,5.14498353493105,4.732731520884606,3.529452846840442,8.574808097914753,3.9277662232661035,5.330228209497163,4.044767205569179,4.134058405811402,4.0458561420879295,3.685755333025859,3.0339814951590336,3.341521600682836,3.355473373220626,4.363413685170785,4.957847910112041,5.1226156577193205,5.385447043109365,5.373797083425455,3.197019156935381,6.566453075228556,4.907283019541338,3.0549165968906276,3.803438310958421,3.520890300073769,6.888780992321115,9.968863230217032,7.174606242813487,8.208199933227117,4.834395839225108,8.101818221331953,10.641182283235423,10.357196200690709,10.10787049481521,12.501960731370637,8.32850968162586,8.884939320853725,7.352535921275725,7.432001688572251,7.830184028402842,4.032799361991654,4.546370380275157,4.927969566274928,6.6549420881302055,4.4778649623896065,4.81204382829912,4.702171140695851,5.630931312873502,6.132280756391113,4.911455713805797,4.162671726745799,4.315159315920624,3.735389998407074,6.04422258591071,9.47972868398556,5.5579709146704355,2.5396772391558313,6.947344027980927,4.615136902033561,4.555990476929939,4.165579988602727,4.9579854238008565,4.456462715494764,5.887174844938615,5.615295473940314,5.299052343437074,4.892898461601067,4.6517388537167115,4.313112790676169,6.051206693512502,6.405842139613057,5.255403827029188,6.115378048185056,5.6219944291825925,5.615295473940314,5.253868434921241,5.015735040536102,3.5973210648745795,5.588760219425211,5.298631579781466,6.043575555153685,4.115296362821315,5.4319124726101915,4.325428803020758,4.536732585524289,5.507739609171624,6.04659694663455,3.553278990128808,4.046019673402372,4.773468596039064,4.4348681922122,6.652631727380358,6.098287436795303,5.929007300473655,5.566724478846886,4.565793764032415,4.510614757761591,6.259072156668325,7.056899063693008,4.930346158632469,5.836554233003876,5.912666588386591,6.258527101719704,6.559284555972648,3.8660000800212253,2.4966885478549,7.26582071915239,5.159716253910608,6.491144310909478,4.265324814587687,4.010260490166138,3.809450996171206,4.464023071864322,5.481311863478931,5.862901097288084,5.301397202025332,4.43136600368306,5.204834872660244,3.983630725707629,1.7129241926558607,3.6884553702636786,3.009589903661482,5.417599801097407,6.416052038300859,6.9921249340043605,4.740626222830373,1.5623320712176794,4.321627565809607,3.3852858774399395,4.9672534770257135,5.3643449831074825,4.313605670399502,3.3147439708197113,4.858004005365386,4.910045985896306,3.5072007034119896,5.652199740902467,5.542025274026136,6.680634959011805,3.691766496370888,4.385996097859593,2.6563556010549956,4.879880460640803,4.70684745088491,3.649374965636027,5.270843007988643,4.2512487705329285,6.011078990789565,5.067762719664689,4.858352287401293,4.910204564787303,5.67980531325682,5.3742094081172,3.7241634131823127,4.738958003863713,6.200023641113511,5.615932389106374,5.9852977006664485,7.256583618918408,5.4095241366275175,4.295405071037603,4.783960985887534,3.8470888561722147,5.955081512302585,4.8184893963685465,6.2735107606706535,4.691426854234313,5.758836067137969,2.2637645980677696,4.4935835027822595,5.046283022854809,5.97088691446778,4.68600690441523,4.72688827743114,6.639105405955673,5.167717805612733,5.72129215995262,4.530253651661945,5.723342748292332,2.1362878385696726,5.154984300901558,4.445514696136278,5.674283740423551,5.499363678926879,4.486330016594359,4.855131039629085,5.325549227888969,5.014866244670128,6.323910576817402,4.762572888407634,3.988471140062229,2.893601442450043,3.7921759671269486,3.086489119381281,5.205800604386148,6.573363666252688,3.71177825989533,6.039939231824038,2.747762012545007,2.7948258492779927,5.618086798274716,4.182161353568873,6.87187914662379,4.7915590387184785,6.852054667201926,5.303172338431177,7.931196053629087,6.9323459395988145,3.041728972709969,5.402316199700232,7.360403536850835,5.222503665156177,8.155127032606188,5.1362775678175465,7.032936091457447,6.077680008169333,5.247087440604382,5.77747491287006,7.069450859131106,2.46405640721108,4.810741009378186,5.471141209169755,4.942017731026623,5.796278849289633,6.147170774661032,4.675082901069276,5.8031793959544675,6.5463359676355575,6.328279382106046,4.825950496053865,5.308889625033432,2.598253143772324,6.428147804691083,3.6908603190592046,3.7379524296179705,4.672896481016546,5.317011494998168,5.30846471443449,5.520148832956258,5.2378909613845455,4.829061943138614,6.199254390667415,6.441528517220471,4.325864416262623,6.75976297709902,6.074607827729625,7.135918775794759,5.397311752209625,7.222536246228394,4.2919831587590584,4.7832332726617075,6.2107776420563585,6.829359637826215,6.3695941526515165,5.389564333435946,6.819785169017366,7.266535668926272,6.494923855034799,3.9480161662161386,4.757136644931864,4.233177960566635,6.46468217986072,5.57965167174633,5.744896765156147,4.163010110466953,6.778482311792276,6.066900966551821,3.922852470512947,1.797956543048584,4.9911460042764775,3.38913686765952,3.7569146567080134,5.280308726349546,5.638285027077499,6.310754800487302,3.1968782651119225,5.279860491171215,4.119081589103217,4.875630357562865,3.8498403763373834,2.9732941788213343,5.529227646167536,5.31362581712682,6.7052345478852775,6.603677222763022,9.763338738435028,10.706584046280746,6.657710242454261,1.705194285839207,6.265444055761673,6.606609313009876,7.5902243092261825,9.274506176552425,7.841000193461861,8.632443370789181,4.224561033661315,9.21353687077491,2.7969347550677788,8.62387090222677,8.345273017395172,6.996497047188642,7.5098111048608125,5.381018117196042,8.748191494299292,3.8860880974281633,4.937518436415977,9.02416494002681,7.456944635301165,6.276149390461061,6.750539343977724,6.47402945004118,7.529234743824406,6.409759103374249,7.858506093446322,6.685389256500446,6.663975750370354,4.308604642716741,5.735476553033809,6.0209925017075285,5.540190227475017,7.0866066767960145,3.6095490554609384,5.784678435393498],\"y0\":\" \",\"yaxis\":\"y\",\"type\":\"box\"}],                        {\"template\":{\"data\":{\"histogram2dcontour\":[{\"type\":\"histogram2dcontour\",\"colorbar\":{\"outlinewidth\":0,\"ticks\":\"\"},\"colorscale\":[[0.0,\"#0d0887\"],[0.1111111111111111,\"#46039f\"],[0.2222222222222222,\"#7201a8\"],[0.3333333333333333,\"#9c179e\"],[0.4444444444444444,\"#bd3786\"],[0.5555555555555556,\"#d8576b\"],[0.6666666666666666,\"#ed7953\"],[0.7777777777777778,\"#fb9f3a\"],[0.8888888888888888,\"#fdca26\"],[1.0,\"#f0f921\"]]}],\"choropleth\":[{\"type\":\"choropleth\",\"colorbar\":{\"outlinewidth\":0,\"ticks\":\"\"}}],\"histogram2d\":[{\"type\":\"histogram2d\",\"colorbar\":{\"outlinewidth\":0,\"ticks\":\"\"},\"colorscale\":[[0.0,\"#0d0887\"],[0.1111111111111111,\"#46039f\"],[0.2222222222222222,\"#7201a8\"],[0.3333333333333333,\"#9c179e\"],[0.4444444444444444,\"#bd3786\"],[0.5555555555555556,\"#d8576b\"],[0.6666666666666666,\"#ed7953\"],[0.7777777777777778,\"#fb9f3a\"],[0.8888888888888888,\"#fdca26\"],[1.0,\"#f0f921\"]]}],\"heatmap\":[{\"type\":\"heatmap\",\"colorbar\":{\"outlinewidth\":0,\"ticks\":\"\"},\"colorscale\":[[0.0,\"#0d0887\"],[0.1111111111111111,\"#46039f\"],[0.2222222222222222,\"#7201a8\"],[0.3333333333333333,\"#9c179e\"],[0.4444444444444444,\"#bd3786\"],[0.5555555555555556,\"#d8576b\"],[0.6666666666666666,\"#ed7953\"],[0.7777777777777778,\"#fb9f3a\"],[0.8888888888888888,\"#fdca26\"],[1.0,\"#f0f921\"]]}],\"heatmapgl\":[{\"type\":\"heatmapgl\",\"colorbar\":{\"outlinewidth\":0,\"ticks\":\"\"},\"colorscale\":[[0.0,\"#0d0887\"],[0.1111111111111111,\"#46039f\"],[0.2222222222222222,\"#7201a8\"],[0.3333333333333333,\"#9c179e\"],[0.4444444444444444,\"#bd3786\"],[0.5555555555555556,\"#d8576b\"],[0.6666666666666666,\"#ed7953\"],[0.7777777777777778,\"#fb9f3a\"],[0.8888888888888888,\"#fdca26\"],[1.0,\"#f0f921\"]]}],\"contourcarpet\":[{\"type\":\"contourcarpet\",\"colorbar\":{\"outlinewidth\":0,\"ticks\":\"\"}}],\"contour\":[{\"type\":\"contour\",\"colorbar\":{\"outlinewidth\":0,\"ticks\":\"\"},\"colorscale\":[[0.0,\"#0d0887\"],[0.1111111111111111,\"#46039f\"],[0.2222222222222222,\"#7201a8\"],[0.3333333333333333,\"#9c179e\"],[0.4444444444444444,\"#bd3786\"],[0.5555555555555556,\"#d8576b\"],[0.6666666666666666,\"#ed7953\"],[0.7777777777777778,\"#fb9f3a\"],[0.8888888888888888,\"#fdca26\"],[1.0,\"#f0f921\"]]}],\"surface\":[{\"type\":\"surface\",\"colorbar\":{\"outlinewidth\":0,\"ticks\":\"\"},\"colorscale\":[[0.0,\"#0d0887\"],[0.1111111111111111,\"#46039f\"],[0.2222222222222222,\"#7201a8\"],[0.3333333333333333,\"#9c179e\"],[0.4444444444444444,\"#bd3786\"],[0.5555555555555556,\"#d8576b\"],[0.6666666666666666,\"#ed7953\"],[0.7777777777777778,\"#fb9f3a\"],[0.8888888888888888,\"#fdca26\"],[1.0,\"#f0f921\"]]}],\"mesh3d\":[{\"type\":\"mesh3d\",\"colorbar\":{\"outlinewidth\":0,\"ticks\":\"\"}}],\"scatter\":[{\"fillpattern\":{\"fillmode\":\"overlay\",\"size\":10,\"solidity\":0.2},\"type\":\"scatter\"}],\"parcoords\":[{\"type\":\"parcoords\",\"line\":{\"colorbar\":{\"outlinewidth\":0,\"ticks\":\"\"}}}],\"scatterpolargl\":[{\"type\":\"scatterpolargl\",\"marker\":{\"colorbar\":{\"outlinewidth\":0,\"ticks\":\"\"}}}],\"bar\":[{\"error_x\":{\"color\":\"#2a3f5f\"},\"error_y\":{\"color\":\"#2a3f5f\"},\"marker\":{\"line\":{\"color\":\"#E5ECF6\",\"width\":0.5},\"pattern\":{\"fillmode\":\"overlay\",\"size\":10,\"solidity\":0.2}},\"type\":\"bar\"}],\"scattergeo\":[{\"type\":\"scattergeo\",\"marker\":{\"colorbar\":{\"outlinewidth\":0,\"ticks\":\"\"}}}],\"scatterpolar\":[{\"type\":\"scatterpolar\",\"marker\":{\"colorbar\":{\"outlinewidth\":0,\"ticks\":\"\"}}}],\"histogram\":[{\"marker\":{\"pattern\":{\"fillmode\":\"overlay\",\"size\":10,\"solidity\":0.2}},\"type\":\"histogram\"}],\"scattergl\":[{\"type\":\"scattergl\",\"marker\":{\"colorbar\":{\"outlinewidth\":0,\"ticks\":\"\"}}}],\"scatter3d\":[{\"type\":\"scatter3d\",\"line\":{\"colorbar\":{\"outlinewidth\":0,\"ticks\":\"\"}},\"marker\":{\"colorbar\":{\"outlinewidth\":0,\"ticks\":\"\"}}}],\"scattermapbox\":[{\"type\":\"scattermapbox\",\"marker\":{\"colorbar\":{\"outlinewidth\":0,\"ticks\":\"\"}}}],\"scatterternary\":[{\"type\":\"scatterternary\",\"marker\":{\"colorbar\":{\"outlinewidth\":0,\"ticks\":\"\"}}}],\"scattercarpet\":[{\"type\":\"scattercarpet\",\"marker\":{\"colorbar\":{\"outlinewidth\":0,\"ticks\":\"\"}}}],\"carpet\":[{\"aaxis\":{\"endlinecolor\":\"#2a3f5f\",\"gridcolor\":\"white\",\"linecolor\":\"white\",\"minorgridcolor\":\"white\",\"startlinecolor\":\"#2a3f5f\"},\"baxis\":{\"endlinecolor\":\"#2a3f5f\",\"gridcolor\":\"white\",\"linecolor\":\"white\",\"minorgridcolor\":\"white\",\"startlinecolor\":\"#2a3f5f\"},\"type\":\"carpet\"}],\"table\":[{\"cells\":{\"fill\":{\"color\":\"#EBF0F8\"},\"line\":{\"color\":\"white\"}},\"header\":{\"fill\":{\"color\":\"#C8D4E3\"},\"line\":{\"color\":\"white\"}},\"type\":\"table\"}],\"barpolar\":[{\"marker\":{\"line\":{\"color\":\"#E5ECF6\",\"width\":0.5},\"pattern\":{\"fillmode\":\"overlay\",\"size\":10,\"solidity\":0.2}},\"type\":\"barpolar\"}],\"pie\":[{\"automargin\":true,\"type\":\"pie\"}]},\"layout\":{\"autotypenumbers\":\"strict\",\"colorway\":[\"#636efa\",\"#EF553B\",\"#00cc96\",\"#ab63fa\",\"#FFA15A\",\"#19d3f3\",\"#FF6692\",\"#B6E880\",\"#FF97FF\",\"#FECB52\"],\"font\":{\"color\":\"#2a3f5f\"},\"hovermode\":\"closest\",\"hoverlabel\":{\"align\":\"left\"},\"paper_bgcolor\":\"white\",\"plot_bgcolor\":\"#E5ECF6\",\"polar\":{\"bgcolor\":\"#E5ECF6\",\"angularaxis\":{\"gridcolor\":\"white\",\"linecolor\":\"white\",\"ticks\":\"\"},\"radialaxis\":{\"gridcolor\":\"white\",\"linecolor\":\"white\",\"ticks\":\"\"}},\"ternary\":{\"bgcolor\":\"#E5ECF6\",\"aaxis\":{\"gridcolor\":\"white\",\"linecolor\":\"white\",\"ticks\":\"\"},\"baxis\":{\"gridcolor\":\"white\",\"linecolor\":\"white\",\"ticks\":\"\"},\"caxis\":{\"gridcolor\":\"white\",\"linecolor\":\"white\",\"ticks\":\"\"}},\"coloraxis\":{\"colorbar\":{\"outlinewidth\":0,\"ticks\":\"\"}},\"colorscale\":{\"sequential\":[[0.0,\"#0d0887\"],[0.1111111111111111,\"#46039f\"],[0.2222222222222222,\"#7201a8\"],[0.3333333333333333,\"#9c179e\"],[0.4444444444444444,\"#bd3786\"],[0.5555555555555556,\"#d8576b\"],[0.6666666666666666,\"#ed7953\"],[0.7777777777777778,\"#fb9f3a\"],[0.8888888888888888,\"#fdca26\"],[1.0,\"#f0f921\"]],\"sequentialminus\":[[0.0,\"#0d0887\"],[0.1111111111111111,\"#46039f\"],[0.2222222222222222,\"#7201a8\"],[0.3333333333333333,\"#9c179e\"],[0.4444444444444444,\"#bd3786\"],[0.5555555555555556,\"#d8576b\"],[0.6666666666666666,\"#ed7953\"],[0.7777777777777778,\"#fb9f3a\"],[0.8888888888888888,\"#fdca26\"],[1.0,\"#f0f921\"]],\"diverging\":[[0,\"#8e0152\"],[0.1,\"#c51b7d\"],[0.2,\"#de77ae\"],[0.3,\"#f1b6da\"],[0.4,\"#fde0ef\"],[0.5,\"#f7f7f7\"],[0.6,\"#e6f5d0\"],[0.7,\"#b8e186\"],[0.8,\"#7fbc41\"],[0.9,\"#4d9221\"],[1,\"#276419\"]]},\"xaxis\":{\"gridcolor\":\"white\",\"linecolor\":\"white\",\"ticks\":\"\",\"title\":{\"standoff\":15},\"zerolinecolor\":\"white\",\"automargin\":true,\"zerolinewidth\":2},\"yaxis\":{\"gridcolor\":\"white\",\"linecolor\":\"white\",\"ticks\":\"\",\"title\":{\"standoff\":15},\"zerolinecolor\":\"white\",\"automargin\":true,\"zerolinewidth\":2},\"scene\":{\"xaxis\":{\"backgroundcolor\":\"#E5ECF6\",\"gridcolor\":\"white\",\"linecolor\":\"white\",\"showbackground\":true,\"ticks\":\"\",\"zerolinecolor\":\"white\",\"gridwidth\":2},\"yaxis\":{\"backgroundcolor\":\"#E5ECF6\",\"gridcolor\":\"white\",\"linecolor\":\"white\",\"showbackground\":true,\"ticks\":\"\",\"zerolinecolor\":\"white\",\"gridwidth\":2},\"zaxis\":{\"backgroundcolor\":\"#E5ECF6\",\"gridcolor\":\"white\",\"linecolor\":\"white\",\"showbackground\":true,\"ticks\":\"\",\"zerolinecolor\":\"white\",\"gridwidth\":2}},\"shapedefaults\":{\"line\":{\"color\":\"#2a3f5f\"}},\"annotationdefaults\":{\"arrowcolor\":\"#2a3f5f\",\"arrowhead\":0,\"arrowwidth\":1},\"geo\":{\"bgcolor\":\"white\",\"landcolor\":\"#E5ECF6\",\"subunitcolor\":\"white\",\"showland\":true,\"showlakes\":true,\"lakecolor\":\"white\"},\"title\":{\"x\":0.05},\"mapbox\":{\"style\":\"light\"}}},\"xaxis\":{\"anchor\":\"y\",\"domain\":[0.0,1.0],\"title\":{\"text\":\"Artist\"}},\"yaxis\":{\"anchor\":\"x\",\"domain\":[0.0,1.0],\"title\":{\"text\":\"tf_idf_score\"}},\"legend\":{\"tracegroupgap\":0},\"title\":{\"text\":\"TFIDF scores of songs per artist\"},\"boxmode\":\"group\"},                        {\"responsive\": true}                    ).then(function(){\n",
       "                            \n",
       "var gd = document.getElementById('6ff5c647-f704-4c37-892c-d35730784183');\n",
       "var x = new MutationObserver(function (mutations, observer) {{\n",
       "        var display = window.getComputedStyle(gd).display;\n",
       "        if (!display || display === 'none') {{\n",
       "            console.log([gd, 'removed!']);\n",
       "            Plotly.purge(gd);\n",
       "            observer.disconnect();\n",
       "        }}\n",
       "}});\n",
       "\n",
       "// Listen for the removal of the full notebook cells\n",
       "var notebookContainer = gd.closest('#notebook-container');\n",
       "if (notebookContainer) {{\n",
       "    x.observe(notebookContainer, {childList: true});\n",
       "}}\n",
       "\n",
       "// Listen for the clearing of the current output cell\n",
       "var outputEl = gd.closest('.output');\n",
       "if (outputEl) {{\n",
       "    x.observe(outputEl, {childList: true});\n",
       "}}\n",
       "\n",
       "                        })                };                });            </script>        </div>"
      ]
     },
     "metadata": {},
     "output_type": "display_data"
    }
   ],
   "source": [
    "fig = px.box(df, x='Artist', y='tf_idf_score', title='TFIDF scores of songs per artist')\n",
    "fig.show()"
   ]
  },
  {
   "cell_type": "code",
   "execution_count": 114,
   "metadata": {},
   "outputs": [],
   "source": [
    "# caclculate mean vector\n",
    "def get_mean_vector(vec_lst):\n",
    "    return csr_matrix(vstack(vec_lst).mean(axis=0))"
   ]
  },
  {
   "cell_type": "code",
   "execution_count": 115,
   "metadata": {},
   "outputs": [],
   "source": [
    "# calculate mean vector over all songs of same artist\n",
    "artist_df = df.groupby('Artist').agg({'tf_idf_vector': get_mean_vector, 'Song': len}).reset_index()\\\n",
    "                   .rename(columns={'Song': 'songs'})\n",
    "\n",
    "# get selected artists\n",
    "artist_filter_df = artist_df.loc[artist_df['Artist'].isin(df['Artist'])]"
   ]
  },
  {
   "cell_type": "code",
   "execution_count": 117,
   "metadata": {},
   "outputs": [
    {
     "data": {
      "application/vnd.plotly.v1+json": {
       "config": {
        "plotlyServerURL": "https://plot.ly"
       },
       "data": [
        {
         "colorscale": [
          [
           0,
           "rgb(23, 28, 66)"
          ],
          [
           0.09090909090909091,
           "rgb(41, 58, 143)"
          ],
          [
           0.18181818181818182,
           "rgb(11, 102, 189)"
          ],
          [
           0.2727272727272727,
           "rgb(69, 144, 185)"
          ],
          [
           0.36363636363636365,
           "rgb(142, 181, 194)"
          ],
          [
           0.45454545454545453,
           "rgb(210, 216, 219)"
          ],
          [
           0.5454545454545454,
           "rgb(230, 210, 204)"
          ],
          [
           0.6363636363636364,
           "rgb(213, 157, 137)"
          ],
          [
           0.7272727272727273,
           "rgb(196, 101, 72)"
          ],
          [
           0.8181818181818182,
           "rgb(172, 43, 36)"
          ],
          [
           0.9090909090909091,
           "rgb(120, 14, 40)"
          ],
          [
           1,
           "rgb(60, 9, 17)"
          ]
         ],
         "type": "heatmap",
         "x": [
          " Lav Eli",
          "Aram MP3",
          "Arame",
          "Arsen Safaryan",
          "Empyray",
          "HT Hayko",
          "Harout Pamboukjian",
          "Mi Qani Hogi",
          "Misho",
          "Razmik Amyan",
          "Silva Hakobyan",
          "ԱՐԹՈՒՐ ՄԵՍՉՅԱՆ",
          "Անդրե",
          "Լիլիթ Հովհաննիսյան",
          "ԿՈՄԻՏԱՍ",
          "Հայկ Հակոբյան",
          "Միհրան Ծառուկյան",
          "ՌՈՒԲԵՆ ՀԱԽՎԵՐԴՅԱՆ",
          "ՍԱՅԱԹ-ՆՈՎԱ",
          "Սիրուշո"
         ],
         "y": [
          "Սիրուշո",
          "ՍԱՅԱԹ-ՆՈՎԱ",
          "ՌՈՒԲԵՆ ՀԱԽՎԵՐԴՅԱՆ",
          "Միհրան Ծառուկյան",
          "Հայկ Հակոբյան",
          "ԿՈՄԻՏԱՍ",
          "Լիլիթ Հովհաննիսյան",
          "Անդրե",
          "ԱՐԹՈՒՐ ՄԵՍՉՅԱՆ",
          "Silva Hakobyan",
          "Razmik Amyan",
          "Misho",
          "Mi Qani Hogi",
          "Harout Pamboukjian",
          "HT Hayko",
          "Empyray",
          "Arsen Safaryan",
          "Arame",
          "Aram MP3",
          " Lav Eli"
         ],
         "z": [
          [
           0.21179150269484334,
           0.3523463333757719,
           0.38764805020437126,
           0.49173411455101107,
           0.27192552439688267,
           0.351871539928181,
           0.3803229920819556,
           0.30379489995545134,
           0.3061651195639324,
           0.4736673112265236,
           0.42205450715467696,
           0.4144295630619315,
           0.4134766805164318,
           0.4411003991801283,
           0.2948548708698202,
           0.47982469637413744,
           0.49945990259019285,
           0.45012729287268405,
           0.16916461073269629,
           0.9999999999999998
          ],
          [
           0.1288332080452768,
           0.15707891894961287,
           0.16944236308617885,
           0.1855557489332091,
           0.10396526739280716,
           0.14842965297548083,
           0.18715350927088167,
           0.138593105562317,
           0.16037719625654584,
           0.21639043111684472,
           0.1662033212822699,
           0.16023610991412543,
           0.15003159649676323,
           0.17020355177254576,
           0.2234936404197653,
           0.1955008335129922,
           0.18810363529176358,
           0.1772512937112753,
           0.9999999999999967,
           0.16916461073269629
          ],
          [
           0.33961598817188865,
           0.43686641184508834,
           0.3871897567324405,
           0.5592509519143234,
           0.3663868889524793,
           0.4419848075379263,
           0.4264483124068983,
           0.420636899974333,
           0.4202735363881703,
           0.47880395981224866,
           0.446794384156284,
           0.5651724987581302,
           0.3873338512523402,
           0.4916421420492072,
           0.31715720808033343,
           0.4718710490023982,
           0.4779150391289917,
           0.9999999999999977,
           0.1772512937112753,
           0.45012729287268405
          ],
          [
           0.2688998273547941,
           0.4378056638832132,
           0.5240467180953721,
           0.6312681205423306,
           0.296622921502317,
           0.3727345543373523,
           0.41565796304595237,
           0.31685508526503203,
           0.32312371812892293,
           0.6428436215044161,
           0.5134588204188963,
           0.40088804358768426,
           0.4997301397406253,
           0.5580518101076593,
           0.25757583182452454,
           0.6473090719854823,
           0.9999999999999996,
           0.4779150391289917,
           0.18810363529176358,
           0.49945990259019285
          ],
          [
           0.24689135435625092,
           0.4555794352754341,
           0.5522406102299184,
           0.6944934986195467,
           0.348782696602971,
           0.38218381914556665,
           0.43389087932043297,
           0.31056701338268455,
           0.32948485183373255,
           0.7297137077439328,
           0.5510136093401229,
           0.44022393817843714,
           0.5234665810609294,
           0.5837178274998167,
           0.24864716126171205,
           1.0000000000000004,
           0.6473090719854823,
           0.4718710490023982,
           0.1955008335129922,
           0.47982469637413744
          ],
          [
           0.17377871071526385,
           0.2873661989438761,
           0.3563309048427744,
           0.2554290271221767,
           0.14706783529025502,
           0.20541741688657517,
           0.38797092800330224,
           0.2170591464254951,
           0.22374712280366596,
           0.261888740375829,
           0.29031129003869494,
           0.23919619379365212,
           0.25776557108698406,
           0.29243452306221407,
           0.9999999999999981,
           0.24864716126171205,
           0.25757583182452454,
           0.31715720808033343,
           0.2234936404197653,
           0.2948548708698202
          ],
          [
           0.291593879782727,
           0.45132066455484265,
           0.4578802157914495,
           0.5567175240986026,
           0.3216365181775803,
           0.42093783367503634,
           0.41280103506987,
           0.39040667807352697,
           0.3984740082728068,
           0.5804171053928406,
           0.5701862821065374,
           0.4033415280496153,
           0.4162746552092695,
           0.9999999999999996,
           0.29243452306221407,
           0.5837178274998167,
           0.5580518101076593,
           0.4916421420492072,
           0.17020355177254576,
           0.4411003991801283
          ],
          [
           0.19167942046476433,
           0.31842039709467207,
           0.40303038340003844,
           0.4897407283185488,
           0.2339541942017868,
           0.29652416117777886,
           0.3960779836054752,
           0.2663043918790666,
           0.251302658712077,
           0.49485942614966155,
           0.40181048604087444,
           0.34938343152982126,
           1.0000000000000016,
           0.4162746552092695,
           0.25776557108698406,
           0.5234665810609294,
           0.4997301397406253,
           0.3873338512523402,
           0.15003159649676323,
           0.4134766805164318
          ],
          [
           0.32708416525680784,
           0.34405071824518035,
           0.36952229532189157,
           0.49215888165114313,
           0.39400686027041393,
           0.39709267287312344,
           0.36309174223155827,
           0.3753477725270915,
           0.3886926718743746,
           0.4097487356520115,
           0.412451655249342,
           0.9999999999999996,
           0.34938343152982126,
           0.4033415280496153,
           0.23919619379365212,
           0.44022393817843714,
           0.40088804358768426,
           0.5651724987581302,
           0.16023610991412543,
           0.4144295630619315
          ],
          [
           0.23533743400940418,
           0.40273515220225403,
           0.44673985147705925,
           0.5523432112352014,
           0.24366549261825768,
           0.35153595257040254,
           0.4037864181012483,
           0.3324281611474575,
           0.35936165119224417,
           0.5655493904206922,
           1.0000000000000002,
           0.412451655249342,
           0.40181048604087444,
           0.5701862821065374,
           0.29031129003869494,
           0.5510136093401229,
           0.5134588204188963,
           0.446794384156284,
           0.1662033212822699,
           0.42205450715467696
          ],
          [
           0.2317268292388271,
           0.4570003043797392,
           0.5512177333857146,
           0.6784137857369473,
           0.3246329897525487,
           0.39020643856651477,
           0.4368595967879575,
           0.3360983896140897,
           0.349582400931303,
           1.000000000000001,
           0.5655493904206922,
           0.4097487356520115,
           0.49485942614966155,
           0.5804171053928406,
           0.261888740375829,
           0.7297137077439328,
           0.6428436215044161,
           0.47880395981224866,
           0.21639043111684472,
           0.4736673112265236
          ],
          [
           0.25688134082649455,
           0.32774234014194,
           0.23975669831460727,
           0.33381003002566695,
           0.2466383966981683,
           0.4694759943472144,
           0.25807588590066693,
           0.4681109983687561,
           0.9999999999999978,
           0.349582400931303,
           0.35936165119224417,
           0.3886926718743746,
           0.251302658712077,
           0.3984740082728068,
           0.22374712280366596,
           0.32948485183373255,
           0.32312371812892293,
           0.4202735363881703,
           0.16037719625654584,
           0.3061651195639324
          ],
          [
           0.24875245654902234,
           0.31725879135764445,
           0.2551581936084563,
           0.3370797759662353,
           0.2539951065468013,
           0.4757064374353235,
           0.2733958893223184,
           0.9999999999999992,
           0.4681109983687561,
           0.3360983896140897,
           0.3324281611474575,
           0.3753477725270915,
           0.2663043918790666,
           0.39040667807352697,
           0.2170591464254951,
           0.31056701338268455,
           0.31685508526503203,
           0.420636899974333,
           0.138593105562317,
           0.30379489995545134
          ],
          [
           0.23678353496111676,
           0.347887965083671,
           0.3917774583599208,
           0.4453603951591063,
           0.23464758364807153,
           0.31287639832060826,
           0.9999999999999968,
           0.2733958893223184,
           0.25807588590066693,
           0.4368595967879575,
           0.4037864181012483,
           0.36309174223155827,
           0.3960779836054752,
           0.41280103506987,
           0.38797092800330224,
           0.43389087932043297,
           0.41565796304595237,
           0.4264483124068983,
           0.18715350927088167,
           0.3803229920819556
          ],
          [
           0.30312746873942276,
           0.34746640443093735,
           0.28867094407123095,
           0.3911321679356778,
           0.25210465901189794,
           0.9999999999999967,
           0.31287639832060826,
           0.4757064374353235,
           0.4694759943472144,
           0.39020643856651477,
           0.35153595257040254,
           0.39709267287312344,
           0.29652416117777886,
           0.42093783367503634,
           0.20541741688657517,
           0.38218381914556665,
           0.3727345543373523,
           0.4419848075379263,
           0.14842965297548083,
           0.351871539928181
          ],
          [
           0.20697596771532298,
           0.22417919694655145,
           0.20588644163802053,
           0.3747268602023504,
           0.9999999999999999,
           0.25210465901189794,
           0.23464758364807153,
           0.2539951065468013,
           0.2466383966981683,
           0.3246329897525487,
           0.24366549261825768,
           0.39400686027041393,
           0.2339541942017868,
           0.3216365181775803,
           0.14706783529025502,
           0.348782696602971,
           0.296622921502317,
           0.3663868889524793,
           0.10396526739280716,
           0.27192552439688267
          ],
          [
           0.2466348563936513,
           0.4584392954535913,
           0.5032884667352545,
           0.9999999999999992,
           0.3747268602023504,
           0.3911321679356778,
           0.4453603951591063,
           0.3370797759662353,
           0.33381003002566695,
           0.6784137857369473,
           0.5523432112352014,
           0.49215888165114313,
           0.4897407283185488,
           0.5567175240986026,
           0.2554290271221767,
           0.6944934986195467,
           0.6312681205423306,
           0.5592509519143234,
           0.1855557489332091,
           0.49173411455101107
          ],
          [
           0.23631570924004552,
           0.34623002932634594,
           1.0000000000000004,
           0.5032884667352545,
           0.20588644163802053,
           0.28867094407123095,
           0.3917774583599208,
           0.2551581936084563,
           0.23975669831460727,
           0.5512177333857146,
           0.44673985147705925,
           0.36952229532189157,
           0.40303038340003844,
           0.4578802157914495,
           0.3563309048427744,
           0.5522406102299184,
           0.5240467180953721,
           0.3871897567324405,
           0.16944236308617885,
           0.38764805020437126
          ],
          [
           0.23479844359525995,
           1.0000000000000002,
           0.34623002932634594,
           0.4584392954535913,
           0.22417919694655145,
           0.34746640443093735,
           0.347887965083671,
           0.31725879135764445,
           0.32774234014194,
           0.4570003043797392,
           0.40273515220225403,
           0.34405071824518035,
           0.31842039709467207,
           0.45132066455484265,
           0.2873661989438761,
           0.4555794352754341,
           0.4378056638832132,
           0.43686641184508834,
           0.15707891894961287,
           0.3523463333757719
          ],
          [
           0.9999999999999991,
           0.23479844359525995,
           0.23631570924004552,
           0.2466348563936513,
           0.20697596771532298,
           0.30312746873942276,
           0.23678353496111676,
           0.24875245654902234,
           0.25688134082649455,
           0.2317268292388271,
           0.23533743400940418,
           0.32708416525680784,
           0.19167942046476433,
           0.291593879782727,
           0.17377871071526385,
           0.24689135435625092,
           0.2688998273547941,
           0.33961598817188865,
           0.1288332080452768,
           0.21179150269484334
          ]
         ],
         "zmax": 1.1,
         "zmin": 0.5
        }
       ],
       "layout": {
        "template": {
         "data": {
          "bar": [
           {
            "error_x": {
             "color": "#2a3f5f"
            },
            "error_y": {
             "color": "#2a3f5f"
            },
            "marker": {
             "line": {
              "color": "#E5ECF6",
              "width": 0.5
             },
             "pattern": {
              "fillmode": "overlay",
              "size": 10,
              "solidity": 0.2
             }
            },
            "type": "bar"
           }
          ],
          "barpolar": [
           {
            "marker": {
             "line": {
              "color": "#E5ECF6",
              "width": 0.5
             },
             "pattern": {
              "fillmode": "overlay",
              "size": 10,
              "solidity": 0.2
             }
            },
            "type": "barpolar"
           }
          ],
          "carpet": [
           {
            "aaxis": {
             "endlinecolor": "#2a3f5f",
             "gridcolor": "white",
             "linecolor": "white",
             "minorgridcolor": "white",
             "startlinecolor": "#2a3f5f"
            },
            "baxis": {
             "endlinecolor": "#2a3f5f",
             "gridcolor": "white",
             "linecolor": "white",
             "minorgridcolor": "white",
             "startlinecolor": "#2a3f5f"
            },
            "type": "carpet"
           }
          ],
          "choropleth": [
           {
            "colorbar": {
             "outlinewidth": 0,
             "ticks": ""
            },
            "type": "choropleth"
           }
          ],
          "contour": [
           {
            "colorbar": {
             "outlinewidth": 0,
             "ticks": ""
            },
            "colorscale": [
             [
              0,
              "#0d0887"
             ],
             [
              0.1111111111111111,
              "#46039f"
             ],
             [
              0.2222222222222222,
              "#7201a8"
             ],
             [
              0.3333333333333333,
              "#9c179e"
             ],
             [
              0.4444444444444444,
              "#bd3786"
             ],
             [
              0.5555555555555556,
              "#d8576b"
             ],
             [
              0.6666666666666666,
              "#ed7953"
             ],
             [
              0.7777777777777778,
              "#fb9f3a"
             ],
             [
              0.8888888888888888,
              "#fdca26"
             ],
             [
              1,
              "#f0f921"
             ]
            ],
            "type": "contour"
           }
          ],
          "contourcarpet": [
           {
            "colorbar": {
             "outlinewidth": 0,
             "ticks": ""
            },
            "type": "contourcarpet"
           }
          ],
          "heatmap": [
           {
            "colorbar": {
             "outlinewidth": 0,
             "ticks": ""
            },
            "colorscale": [
             [
              0,
              "#0d0887"
             ],
             [
              0.1111111111111111,
              "#46039f"
             ],
             [
              0.2222222222222222,
              "#7201a8"
             ],
             [
              0.3333333333333333,
              "#9c179e"
             ],
             [
              0.4444444444444444,
              "#bd3786"
             ],
             [
              0.5555555555555556,
              "#d8576b"
             ],
             [
              0.6666666666666666,
              "#ed7953"
             ],
             [
              0.7777777777777778,
              "#fb9f3a"
             ],
             [
              0.8888888888888888,
              "#fdca26"
             ],
             [
              1,
              "#f0f921"
             ]
            ],
            "type": "heatmap"
           }
          ],
          "heatmapgl": [
           {
            "colorbar": {
             "outlinewidth": 0,
             "ticks": ""
            },
            "colorscale": [
             [
              0,
              "#0d0887"
             ],
             [
              0.1111111111111111,
              "#46039f"
             ],
             [
              0.2222222222222222,
              "#7201a8"
             ],
             [
              0.3333333333333333,
              "#9c179e"
             ],
             [
              0.4444444444444444,
              "#bd3786"
             ],
             [
              0.5555555555555556,
              "#d8576b"
             ],
             [
              0.6666666666666666,
              "#ed7953"
             ],
             [
              0.7777777777777778,
              "#fb9f3a"
             ],
             [
              0.8888888888888888,
              "#fdca26"
             ],
             [
              1,
              "#f0f921"
             ]
            ],
            "type": "heatmapgl"
           }
          ],
          "histogram": [
           {
            "marker": {
             "pattern": {
              "fillmode": "overlay",
              "size": 10,
              "solidity": 0.2
             }
            },
            "type": "histogram"
           }
          ],
          "histogram2d": [
           {
            "colorbar": {
             "outlinewidth": 0,
             "ticks": ""
            },
            "colorscale": [
             [
              0,
              "#0d0887"
             ],
             [
              0.1111111111111111,
              "#46039f"
             ],
             [
              0.2222222222222222,
              "#7201a8"
             ],
             [
              0.3333333333333333,
              "#9c179e"
             ],
             [
              0.4444444444444444,
              "#bd3786"
             ],
             [
              0.5555555555555556,
              "#d8576b"
             ],
             [
              0.6666666666666666,
              "#ed7953"
             ],
             [
              0.7777777777777778,
              "#fb9f3a"
             ],
             [
              0.8888888888888888,
              "#fdca26"
             ],
             [
              1,
              "#f0f921"
             ]
            ],
            "type": "histogram2d"
           }
          ],
          "histogram2dcontour": [
           {
            "colorbar": {
             "outlinewidth": 0,
             "ticks": ""
            },
            "colorscale": [
             [
              0,
              "#0d0887"
             ],
             [
              0.1111111111111111,
              "#46039f"
             ],
             [
              0.2222222222222222,
              "#7201a8"
             ],
             [
              0.3333333333333333,
              "#9c179e"
             ],
             [
              0.4444444444444444,
              "#bd3786"
             ],
             [
              0.5555555555555556,
              "#d8576b"
             ],
             [
              0.6666666666666666,
              "#ed7953"
             ],
             [
              0.7777777777777778,
              "#fb9f3a"
             ],
             [
              0.8888888888888888,
              "#fdca26"
             ],
             [
              1,
              "#f0f921"
             ]
            ],
            "type": "histogram2dcontour"
           }
          ],
          "mesh3d": [
           {
            "colorbar": {
             "outlinewidth": 0,
             "ticks": ""
            },
            "type": "mesh3d"
           }
          ],
          "parcoords": [
           {
            "line": {
             "colorbar": {
              "outlinewidth": 0,
              "ticks": ""
             }
            },
            "type": "parcoords"
           }
          ],
          "pie": [
           {
            "automargin": true,
            "type": "pie"
           }
          ],
          "scatter": [
           {
            "fillpattern": {
             "fillmode": "overlay",
             "size": 10,
             "solidity": 0.2
            },
            "type": "scatter"
           }
          ],
          "scatter3d": [
           {
            "line": {
             "colorbar": {
              "outlinewidth": 0,
              "ticks": ""
             }
            },
            "marker": {
             "colorbar": {
              "outlinewidth": 0,
              "ticks": ""
             }
            },
            "type": "scatter3d"
           }
          ],
          "scattercarpet": [
           {
            "marker": {
             "colorbar": {
              "outlinewidth": 0,
              "ticks": ""
             }
            },
            "type": "scattercarpet"
           }
          ],
          "scattergeo": [
           {
            "marker": {
             "colorbar": {
              "outlinewidth": 0,
              "ticks": ""
             }
            },
            "type": "scattergeo"
           }
          ],
          "scattergl": [
           {
            "marker": {
             "colorbar": {
              "outlinewidth": 0,
              "ticks": ""
             }
            },
            "type": "scattergl"
           }
          ],
          "scattermapbox": [
           {
            "marker": {
             "colorbar": {
              "outlinewidth": 0,
              "ticks": ""
             }
            },
            "type": "scattermapbox"
           }
          ],
          "scatterpolar": [
           {
            "marker": {
             "colorbar": {
              "outlinewidth": 0,
              "ticks": ""
             }
            },
            "type": "scatterpolar"
           }
          ],
          "scatterpolargl": [
           {
            "marker": {
             "colorbar": {
              "outlinewidth": 0,
              "ticks": ""
             }
            },
            "type": "scatterpolargl"
           }
          ],
          "scatterternary": [
           {
            "marker": {
             "colorbar": {
              "outlinewidth": 0,
              "ticks": ""
             }
            },
            "type": "scatterternary"
           }
          ],
          "surface": [
           {
            "colorbar": {
             "outlinewidth": 0,
             "ticks": ""
            },
            "colorscale": [
             [
              0,
              "#0d0887"
             ],
             [
              0.1111111111111111,
              "#46039f"
             ],
             [
              0.2222222222222222,
              "#7201a8"
             ],
             [
              0.3333333333333333,
              "#9c179e"
             ],
             [
              0.4444444444444444,
              "#bd3786"
             ],
             [
              0.5555555555555556,
              "#d8576b"
             ],
             [
              0.6666666666666666,
              "#ed7953"
             ],
             [
              0.7777777777777778,
              "#fb9f3a"
             ],
             [
              0.8888888888888888,
              "#fdca26"
             ],
             [
              1,
              "#f0f921"
             ]
            ],
            "type": "surface"
           }
          ],
          "table": [
           {
            "cells": {
             "fill": {
              "color": "#EBF0F8"
             },
             "line": {
              "color": "white"
             }
            },
            "header": {
             "fill": {
              "color": "#C8D4E3"
             },
             "line": {
              "color": "white"
             }
            },
            "type": "table"
           }
          ]
         },
         "layout": {
          "annotationdefaults": {
           "arrowcolor": "#2a3f5f",
           "arrowhead": 0,
           "arrowwidth": 1
          },
          "autotypenumbers": "strict",
          "coloraxis": {
           "colorbar": {
            "outlinewidth": 0,
            "ticks": ""
           }
          },
          "colorscale": {
           "diverging": [
            [
             0,
             "#8e0152"
            ],
            [
             0.1,
             "#c51b7d"
            ],
            [
             0.2,
             "#de77ae"
            ],
            [
             0.3,
             "#f1b6da"
            ],
            [
             0.4,
             "#fde0ef"
            ],
            [
             0.5,
             "#f7f7f7"
            ],
            [
             0.6,
             "#e6f5d0"
            ],
            [
             0.7,
             "#b8e186"
            ],
            [
             0.8,
             "#7fbc41"
            ],
            [
             0.9,
             "#4d9221"
            ],
            [
             1,
             "#276419"
            ]
           ],
           "sequential": [
            [
             0,
             "#0d0887"
            ],
            [
             0.1111111111111111,
             "#46039f"
            ],
            [
             0.2222222222222222,
             "#7201a8"
            ],
            [
             0.3333333333333333,
             "#9c179e"
            ],
            [
             0.4444444444444444,
             "#bd3786"
            ],
            [
             0.5555555555555556,
             "#d8576b"
            ],
            [
             0.6666666666666666,
             "#ed7953"
            ],
            [
             0.7777777777777778,
             "#fb9f3a"
            ],
            [
             0.8888888888888888,
             "#fdca26"
            ],
            [
             1,
             "#f0f921"
            ]
           ],
           "sequentialminus": [
            [
             0,
             "#0d0887"
            ],
            [
             0.1111111111111111,
             "#46039f"
            ],
            [
             0.2222222222222222,
             "#7201a8"
            ],
            [
             0.3333333333333333,
             "#9c179e"
            ],
            [
             0.4444444444444444,
             "#bd3786"
            ],
            [
             0.5555555555555556,
             "#d8576b"
            ],
            [
             0.6666666666666666,
             "#ed7953"
            ],
            [
             0.7777777777777778,
             "#fb9f3a"
            ],
            [
             0.8888888888888888,
             "#fdca26"
            ],
            [
             1,
             "#f0f921"
            ]
           ]
          },
          "colorway": [
           "#636efa",
           "#EF553B",
           "#00cc96",
           "#ab63fa",
           "#FFA15A",
           "#19d3f3",
           "#FF6692",
           "#B6E880",
           "#FF97FF",
           "#FECB52"
          ],
          "font": {
           "color": "#2a3f5f"
          },
          "geo": {
           "bgcolor": "white",
           "lakecolor": "white",
           "landcolor": "#E5ECF6",
           "showlakes": true,
           "showland": true,
           "subunitcolor": "white"
          },
          "hoverlabel": {
           "align": "left"
          },
          "hovermode": "closest",
          "mapbox": {
           "style": "light"
          },
          "paper_bgcolor": "white",
          "plot_bgcolor": "#E5ECF6",
          "polar": {
           "angularaxis": {
            "gridcolor": "white",
            "linecolor": "white",
            "ticks": ""
           },
           "bgcolor": "#E5ECF6",
           "radialaxis": {
            "gridcolor": "white",
            "linecolor": "white",
            "ticks": ""
           }
          },
          "scene": {
           "xaxis": {
            "backgroundcolor": "#E5ECF6",
            "gridcolor": "white",
            "gridwidth": 2,
            "linecolor": "white",
            "showbackground": true,
            "ticks": "",
            "zerolinecolor": "white"
           },
           "yaxis": {
            "backgroundcolor": "#E5ECF6",
            "gridcolor": "white",
            "gridwidth": 2,
            "linecolor": "white",
            "showbackground": true,
            "ticks": "",
            "zerolinecolor": "white"
           },
           "zaxis": {
            "backgroundcolor": "#E5ECF6",
            "gridcolor": "white",
            "gridwidth": 2,
            "linecolor": "white",
            "showbackground": true,
            "ticks": "",
            "zerolinecolor": "white"
           }
          },
          "shapedefaults": {
           "line": {
            "color": "#2a3f5f"
           }
          },
          "ternary": {
           "aaxis": {
            "gridcolor": "white",
            "linecolor": "white",
            "ticks": ""
           },
           "baxis": {
            "gridcolor": "white",
            "linecolor": "white",
            "ticks": ""
           },
           "bgcolor": "#E5ECF6",
           "caxis": {
            "gridcolor": "white",
            "linecolor": "white",
            "ticks": ""
           }
          },
          "title": {
           "x": 0.05
          },
          "xaxis": {
           "automargin": true,
           "gridcolor": "white",
           "linecolor": "white",
           "ticks": "",
           "title": {
            "standoff": 15
           },
           "zerolinecolor": "white",
           "zerolinewidth": 2
          },
          "yaxis": {
           "automargin": true,
           "gridcolor": "white",
           "linecolor": "white",
           "ticks": "",
           "title": {
            "standoff": 15
           },
           "zerolinecolor": "white",
           "zerolinewidth": 2
          }
         }
        }
       }
      },
      "text/html": [
       "<div>                            <div id=\"30f509b3-080d-405e-a855-f18cc2a0890f\" class=\"plotly-graph-div\" style=\"height:525px; width:100%;\"></div>            <script type=\"text/javascript\">                require([\"plotly\"], function(Plotly) {                    window.PLOTLYENV=window.PLOTLYENV || {};                                    if (document.getElementById(\"30f509b3-080d-405e-a855-f18cc2a0890f\")) {                    Plotly.newPlot(                        \"30f509b3-080d-405e-a855-f18cc2a0890f\",                        [{\"colorscale\":[[0.0,\"rgb(23, 28, 66)\"],[0.09090909090909091,\"rgb(41, 58, 143)\"],[0.18181818181818182,\"rgb(11, 102, 189)\"],[0.2727272727272727,\"rgb(69, 144, 185)\"],[0.36363636363636365,\"rgb(142, 181, 194)\"],[0.45454545454545453,\"rgb(210, 216, 219)\"],[0.5454545454545454,\"rgb(230, 210, 204)\"],[0.6363636363636364,\"rgb(213, 157, 137)\"],[0.7272727272727273,\"rgb(196, 101, 72)\"],[0.8181818181818182,\"rgb(172, 43, 36)\"],[0.9090909090909091,\"rgb(120, 14, 40)\"],[1.0,\"rgb(60, 9, 17)\"]],\"x\":[\" Lav Eli\",\"Aram MP3\",\"Arame\",\"Arsen Safaryan\",\"Empyray\",\"HT Hayko\",\"Harout Pamboukjian\",\"Mi Qani Hogi\",\"Misho\",\"Razmik Amyan\",\"Silva Hakobyan\",\"\\u0531\\u0550\\u0539\\u0548\\u0552\\u0550 \\u0544\\u0535\\u054d\\u0549\\u0545\\u0531\\u0546\",\"\\u0531\\u0576\\u0564\\u0580\\u0565\",\"\\u053c\\u056b\\u056c\\u056b\\u0569 \\u0540\\u0578\\u057e\\u0570\\u0561\\u0576\\u0576\\u056b\\u057d\\u0575\\u0561\\u0576\",\"\\u053f\\u0548\\u0544\\u053b\\u054f\\u0531\\u054d\",\"\\u0540\\u0561\\u0575\\u056f \\u0540\\u0561\\u056f\\u0578\\u0562\\u0575\\u0561\\u0576\",\"\\u0544\\u056b\\u0570\\u0580\\u0561\\u0576 \\u053e\\u0561\\u057c\\u0578\\u0582\\u056f\\u0575\\u0561\\u0576\",\"\\u054c\\u0548\\u0552\\u0532\\u0535\\u0546 \\u0540\\u0531\\u053d\\u054e\\u0535\\u0550\\u0534\\u0545\\u0531\\u0546\",\"\\u054d\\u0531\\u0545\\u0531\\u0539-\\u0546\\u0548\\u054e\\u0531\",\"\\u054d\\u056b\\u0580\\u0578\\u0582\\u0577\\u0578\"],\"y\":[\"\\u054d\\u056b\\u0580\\u0578\\u0582\\u0577\\u0578\",\"\\u054d\\u0531\\u0545\\u0531\\u0539-\\u0546\\u0548\\u054e\\u0531\",\"\\u054c\\u0548\\u0552\\u0532\\u0535\\u0546 \\u0540\\u0531\\u053d\\u054e\\u0535\\u0550\\u0534\\u0545\\u0531\\u0546\",\"\\u0544\\u056b\\u0570\\u0580\\u0561\\u0576 \\u053e\\u0561\\u057c\\u0578\\u0582\\u056f\\u0575\\u0561\\u0576\",\"\\u0540\\u0561\\u0575\\u056f \\u0540\\u0561\\u056f\\u0578\\u0562\\u0575\\u0561\\u0576\",\"\\u053f\\u0548\\u0544\\u053b\\u054f\\u0531\\u054d\",\"\\u053c\\u056b\\u056c\\u056b\\u0569 \\u0540\\u0578\\u057e\\u0570\\u0561\\u0576\\u0576\\u056b\\u057d\\u0575\\u0561\\u0576\",\"\\u0531\\u0576\\u0564\\u0580\\u0565\",\"\\u0531\\u0550\\u0539\\u0548\\u0552\\u0550 \\u0544\\u0535\\u054d\\u0549\\u0545\\u0531\\u0546\",\"Silva Hakobyan\",\"Razmik Amyan\",\"Misho\",\"Mi Qani Hogi\",\"Harout Pamboukjian\",\"HT Hayko\",\"Empyray\",\"Arsen Safaryan\",\"Arame\",\"Aram MP3\",\" Lav Eli\"],\"z\":[[0.21179150269484334,0.3523463333757719,0.38764805020437126,0.49173411455101107,0.27192552439688267,0.351871539928181,0.3803229920819556,0.30379489995545134,0.3061651195639324,0.4736673112265236,0.42205450715467696,0.4144295630619315,0.4134766805164318,0.4411003991801283,0.2948548708698202,0.47982469637413744,0.49945990259019285,0.45012729287268405,0.16916461073269629,0.9999999999999998],[0.1288332080452768,0.15707891894961287,0.16944236308617885,0.1855557489332091,0.10396526739280716,0.14842965297548083,0.18715350927088167,0.138593105562317,0.16037719625654584,0.21639043111684472,0.1662033212822699,0.16023610991412543,0.15003159649676323,0.17020355177254576,0.2234936404197653,0.1955008335129922,0.18810363529176358,0.1772512937112753,0.9999999999999967,0.16916461073269629],[0.33961598817188865,0.43686641184508834,0.3871897567324405,0.5592509519143234,0.3663868889524793,0.4419848075379263,0.4264483124068983,0.420636899974333,0.4202735363881703,0.47880395981224866,0.446794384156284,0.5651724987581302,0.3873338512523402,0.4916421420492072,0.31715720808033343,0.4718710490023982,0.4779150391289917,0.9999999999999977,0.1772512937112753,0.45012729287268405],[0.2688998273547941,0.4378056638832132,0.5240467180953721,0.6312681205423306,0.296622921502317,0.3727345543373523,0.41565796304595237,0.31685508526503203,0.32312371812892293,0.6428436215044161,0.5134588204188963,0.40088804358768426,0.4997301397406253,0.5580518101076593,0.25757583182452454,0.6473090719854823,0.9999999999999996,0.4779150391289917,0.18810363529176358,0.49945990259019285],[0.24689135435625092,0.4555794352754341,0.5522406102299184,0.6944934986195467,0.348782696602971,0.38218381914556665,0.43389087932043297,0.31056701338268455,0.32948485183373255,0.7297137077439328,0.5510136093401229,0.44022393817843714,0.5234665810609294,0.5837178274998167,0.24864716126171205,1.0000000000000004,0.6473090719854823,0.4718710490023982,0.1955008335129922,0.47982469637413744],[0.17377871071526385,0.2873661989438761,0.3563309048427744,0.2554290271221767,0.14706783529025502,0.20541741688657517,0.38797092800330224,0.2170591464254951,0.22374712280366596,0.261888740375829,0.29031129003869494,0.23919619379365212,0.25776557108698406,0.29243452306221407,0.9999999999999981,0.24864716126171205,0.25757583182452454,0.31715720808033343,0.2234936404197653,0.2948548708698202],[0.291593879782727,0.45132066455484265,0.4578802157914495,0.5567175240986026,0.3216365181775803,0.42093783367503634,0.41280103506987,0.39040667807352697,0.3984740082728068,0.5804171053928406,0.5701862821065374,0.4033415280496153,0.4162746552092695,0.9999999999999996,0.29243452306221407,0.5837178274998167,0.5580518101076593,0.4916421420492072,0.17020355177254576,0.4411003991801283],[0.19167942046476433,0.31842039709467207,0.40303038340003844,0.4897407283185488,0.2339541942017868,0.29652416117777886,0.3960779836054752,0.2663043918790666,0.251302658712077,0.49485942614966155,0.40181048604087444,0.34938343152982126,1.0000000000000016,0.4162746552092695,0.25776557108698406,0.5234665810609294,0.4997301397406253,0.3873338512523402,0.15003159649676323,0.4134766805164318],[0.32708416525680784,0.34405071824518035,0.36952229532189157,0.49215888165114313,0.39400686027041393,0.39709267287312344,0.36309174223155827,0.3753477725270915,0.3886926718743746,0.4097487356520115,0.412451655249342,0.9999999999999996,0.34938343152982126,0.4033415280496153,0.23919619379365212,0.44022393817843714,0.40088804358768426,0.5651724987581302,0.16023610991412543,0.4144295630619315],[0.23533743400940418,0.40273515220225403,0.44673985147705925,0.5523432112352014,0.24366549261825768,0.35153595257040254,0.4037864181012483,0.3324281611474575,0.35936165119224417,0.5655493904206922,1.0000000000000002,0.412451655249342,0.40181048604087444,0.5701862821065374,0.29031129003869494,0.5510136093401229,0.5134588204188963,0.446794384156284,0.1662033212822699,0.42205450715467696],[0.2317268292388271,0.4570003043797392,0.5512177333857146,0.6784137857369473,0.3246329897525487,0.39020643856651477,0.4368595967879575,0.3360983896140897,0.349582400931303,1.000000000000001,0.5655493904206922,0.4097487356520115,0.49485942614966155,0.5804171053928406,0.261888740375829,0.7297137077439328,0.6428436215044161,0.47880395981224866,0.21639043111684472,0.4736673112265236],[0.25688134082649455,0.32774234014194,0.23975669831460727,0.33381003002566695,0.2466383966981683,0.4694759943472144,0.25807588590066693,0.4681109983687561,0.9999999999999978,0.349582400931303,0.35936165119224417,0.3886926718743746,0.251302658712077,0.3984740082728068,0.22374712280366596,0.32948485183373255,0.32312371812892293,0.4202735363881703,0.16037719625654584,0.3061651195639324],[0.24875245654902234,0.31725879135764445,0.2551581936084563,0.3370797759662353,0.2539951065468013,0.4757064374353235,0.2733958893223184,0.9999999999999992,0.4681109983687561,0.3360983896140897,0.3324281611474575,0.3753477725270915,0.2663043918790666,0.39040667807352697,0.2170591464254951,0.31056701338268455,0.31685508526503203,0.420636899974333,0.138593105562317,0.30379489995545134],[0.23678353496111676,0.347887965083671,0.3917774583599208,0.4453603951591063,0.23464758364807153,0.31287639832060826,0.9999999999999968,0.2733958893223184,0.25807588590066693,0.4368595967879575,0.4037864181012483,0.36309174223155827,0.3960779836054752,0.41280103506987,0.38797092800330224,0.43389087932043297,0.41565796304595237,0.4264483124068983,0.18715350927088167,0.3803229920819556],[0.30312746873942276,0.34746640443093735,0.28867094407123095,0.3911321679356778,0.25210465901189794,0.9999999999999967,0.31287639832060826,0.4757064374353235,0.4694759943472144,0.39020643856651477,0.35153595257040254,0.39709267287312344,0.29652416117777886,0.42093783367503634,0.20541741688657517,0.38218381914556665,0.3727345543373523,0.4419848075379263,0.14842965297548083,0.351871539928181],[0.20697596771532298,0.22417919694655145,0.20588644163802053,0.3747268602023504,0.9999999999999999,0.25210465901189794,0.23464758364807153,0.2539951065468013,0.2466383966981683,0.3246329897525487,0.24366549261825768,0.39400686027041393,0.2339541942017868,0.3216365181775803,0.14706783529025502,0.348782696602971,0.296622921502317,0.3663868889524793,0.10396526739280716,0.27192552439688267],[0.2466348563936513,0.4584392954535913,0.5032884667352545,0.9999999999999992,0.3747268602023504,0.3911321679356778,0.4453603951591063,0.3370797759662353,0.33381003002566695,0.6784137857369473,0.5523432112352014,0.49215888165114313,0.4897407283185488,0.5567175240986026,0.2554290271221767,0.6944934986195467,0.6312681205423306,0.5592509519143234,0.1855557489332091,0.49173411455101107],[0.23631570924004552,0.34623002932634594,1.0000000000000004,0.5032884667352545,0.20588644163802053,0.28867094407123095,0.3917774583599208,0.2551581936084563,0.23975669831460727,0.5512177333857146,0.44673985147705925,0.36952229532189157,0.40303038340003844,0.4578802157914495,0.3563309048427744,0.5522406102299184,0.5240467180953721,0.3871897567324405,0.16944236308617885,0.38764805020437126],[0.23479844359525995,1.0000000000000002,0.34623002932634594,0.4584392954535913,0.22417919694655145,0.34746640443093735,0.347887965083671,0.31725879135764445,0.32774234014194,0.4570003043797392,0.40273515220225403,0.34405071824518035,0.31842039709467207,0.45132066455484265,0.2873661989438761,0.4555794352754341,0.4378056638832132,0.43686641184508834,0.15707891894961287,0.3523463333757719],[0.9999999999999991,0.23479844359525995,0.23631570924004552,0.2466348563936513,0.20697596771532298,0.30312746873942276,0.23678353496111676,0.24875245654902234,0.25688134082649455,0.2317268292388271,0.23533743400940418,0.32708416525680784,0.19167942046476433,0.291593879782727,0.17377871071526385,0.24689135435625092,0.2688998273547941,0.33961598817188865,0.1288332080452768,0.21179150269484334]],\"zmax\":1.1,\"zmin\":0.5,\"type\":\"heatmap\"}],                        {\"template\":{\"data\":{\"histogram2dcontour\":[{\"type\":\"histogram2dcontour\",\"colorbar\":{\"outlinewidth\":0,\"ticks\":\"\"},\"colorscale\":[[0.0,\"#0d0887\"],[0.1111111111111111,\"#46039f\"],[0.2222222222222222,\"#7201a8\"],[0.3333333333333333,\"#9c179e\"],[0.4444444444444444,\"#bd3786\"],[0.5555555555555556,\"#d8576b\"],[0.6666666666666666,\"#ed7953\"],[0.7777777777777778,\"#fb9f3a\"],[0.8888888888888888,\"#fdca26\"],[1.0,\"#f0f921\"]]}],\"choropleth\":[{\"type\":\"choropleth\",\"colorbar\":{\"outlinewidth\":0,\"ticks\":\"\"}}],\"histogram2d\":[{\"type\":\"histogram2d\",\"colorbar\":{\"outlinewidth\":0,\"ticks\":\"\"},\"colorscale\":[[0.0,\"#0d0887\"],[0.1111111111111111,\"#46039f\"],[0.2222222222222222,\"#7201a8\"],[0.3333333333333333,\"#9c179e\"],[0.4444444444444444,\"#bd3786\"],[0.5555555555555556,\"#d8576b\"],[0.6666666666666666,\"#ed7953\"],[0.7777777777777778,\"#fb9f3a\"],[0.8888888888888888,\"#fdca26\"],[1.0,\"#f0f921\"]]}],\"heatmap\":[{\"type\":\"heatmap\",\"colorbar\":{\"outlinewidth\":0,\"ticks\":\"\"},\"colorscale\":[[0.0,\"#0d0887\"],[0.1111111111111111,\"#46039f\"],[0.2222222222222222,\"#7201a8\"],[0.3333333333333333,\"#9c179e\"],[0.4444444444444444,\"#bd3786\"],[0.5555555555555556,\"#d8576b\"],[0.6666666666666666,\"#ed7953\"],[0.7777777777777778,\"#fb9f3a\"],[0.8888888888888888,\"#fdca26\"],[1.0,\"#f0f921\"]]}],\"heatmapgl\":[{\"type\":\"heatmapgl\",\"colorbar\":{\"outlinewidth\":0,\"ticks\":\"\"},\"colorscale\":[[0.0,\"#0d0887\"],[0.1111111111111111,\"#46039f\"],[0.2222222222222222,\"#7201a8\"],[0.3333333333333333,\"#9c179e\"],[0.4444444444444444,\"#bd3786\"],[0.5555555555555556,\"#d8576b\"],[0.6666666666666666,\"#ed7953\"],[0.7777777777777778,\"#fb9f3a\"],[0.8888888888888888,\"#fdca26\"],[1.0,\"#f0f921\"]]}],\"contourcarpet\":[{\"type\":\"contourcarpet\",\"colorbar\":{\"outlinewidth\":0,\"ticks\":\"\"}}],\"contour\":[{\"type\":\"contour\",\"colorbar\":{\"outlinewidth\":0,\"ticks\":\"\"},\"colorscale\":[[0.0,\"#0d0887\"],[0.1111111111111111,\"#46039f\"],[0.2222222222222222,\"#7201a8\"],[0.3333333333333333,\"#9c179e\"],[0.4444444444444444,\"#bd3786\"],[0.5555555555555556,\"#d8576b\"],[0.6666666666666666,\"#ed7953\"],[0.7777777777777778,\"#fb9f3a\"],[0.8888888888888888,\"#fdca26\"],[1.0,\"#f0f921\"]]}],\"surface\":[{\"type\":\"surface\",\"colorbar\":{\"outlinewidth\":0,\"ticks\":\"\"},\"colorscale\":[[0.0,\"#0d0887\"],[0.1111111111111111,\"#46039f\"],[0.2222222222222222,\"#7201a8\"],[0.3333333333333333,\"#9c179e\"],[0.4444444444444444,\"#bd3786\"],[0.5555555555555556,\"#d8576b\"],[0.6666666666666666,\"#ed7953\"],[0.7777777777777778,\"#fb9f3a\"],[0.8888888888888888,\"#fdca26\"],[1.0,\"#f0f921\"]]}],\"mesh3d\":[{\"type\":\"mesh3d\",\"colorbar\":{\"outlinewidth\":0,\"ticks\":\"\"}}],\"scatter\":[{\"fillpattern\":{\"fillmode\":\"overlay\",\"size\":10,\"solidity\":0.2},\"type\":\"scatter\"}],\"parcoords\":[{\"type\":\"parcoords\",\"line\":{\"colorbar\":{\"outlinewidth\":0,\"ticks\":\"\"}}}],\"scatterpolargl\":[{\"type\":\"scatterpolargl\",\"marker\":{\"colorbar\":{\"outlinewidth\":0,\"ticks\":\"\"}}}],\"bar\":[{\"error_x\":{\"color\":\"#2a3f5f\"},\"error_y\":{\"color\":\"#2a3f5f\"},\"marker\":{\"line\":{\"color\":\"#E5ECF6\",\"width\":0.5},\"pattern\":{\"fillmode\":\"overlay\",\"size\":10,\"solidity\":0.2}},\"type\":\"bar\"}],\"scattergeo\":[{\"type\":\"scattergeo\",\"marker\":{\"colorbar\":{\"outlinewidth\":0,\"ticks\":\"\"}}}],\"scatterpolar\":[{\"type\":\"scatterpolar\",\"marker\":{\"colorbar\":{\"outlinewidth\":0,\"ticks\":\"\"}}}],\"histogram\":[{\"marker\":{\"pattern\":{\"fillmode\":\"overlay\",\"size\":10,\"solidity\":0.2}},\"type\":\"histogram\"}],\"scattergl\":[{\"type\":\"scattergl\",\"marker\":{\"colorbar\":{\"outlinewidth\":0,\"ticks\":\"\"}}}],\"scatter3d\":[{\"type\":\"scatter3d\",\"line\":{\"colorbar\":{\"outlinewidth\":0,\"ticks\":\"\"}},\"marker\":{\"colorbar\":{\"outlinewidth\":0,\"ticks\":\"\"}}}],\"scattermapbox\":[{\"type\":\"scattermapbox\",\"marker\":{\"colorbar\":{\"outlinewidth\":0,\"ticks\":\"\"}}}],\"scatterternary\":[{\"type\":\"scatterternary\",\"marker\":{\"colorbar\":{\"outlinewidth\":0,\"ticks\":\"\"}}}],\"scattercarpet\":[{\"type\":\"scattercarpet\",\"marker\":{\"colorbar\":{\"outlinewidth\":0,\"ticks\":\"\"}}}],\"carpet\":[{\"aaxis\":{\"endlinecolor\":\"#2a3f5f\",\"gridcolor\":\"white\",\"linecolor\":\"white\",\"minorgridcolor\":\"white\",\"startlinecolor\":\"#2a3f5f\"},\"baxis\":{\"endlinecolor\":\"#2a3f5f\",\"gridcolor\":\"white\",\"linecolor\":\"white\",\"minorgridcolor\":\"white\",\"startlinecolor\":\"#2a3f5f\"},\"type\":\"carpet\"}],\"table\":[{\"cells\":{\"fill\":{\"color\":\"#EBF0F8\"},\"line\":{\"color\":\"white\"}},\"header\":{\"fill\":{\"color\":\"#C8D4E3\"},\"line\":{\"color\":\"white\"}},\"type\":\"table\"}],\"barpolar\":[{\"marker\":{\"line\":{\"color\":\"#E5ECF6\",\"width\":0.5},\"pattern\":{\"fillmode\":\"overlay\",\"size\":10,\"solidity\":0.2}},\"type\":\"barpolar\"}],\"pie\":[{\"automargin\":true,\"type\":\"pie\"}]},\"layout\":{\"autotypenumbers\":\"strict\",\"colorway\":[\"#636efa\",\"#EF553B\",\"#00cc96\",\"#ab63fa\",\"#FFA15A\",\"#19d3f3\",\"#FF6692\",\"#B6E880\",\"#FF97FF\",\"#FECB52\"],\"font\":{\"color\":\"#2a3f5f\"},\"hovermode\":\"closest\",\"hoverlabel\":{\"align\":\"left\"},\"paper_bgcolor\":\"white\",\"plot_bgcolor\":\"#E5ECF6\",\"polar\":{\"bgcolor\":\"#E5ECF6\",\"angularaxis\":{\"gridcolor\":\"white\",\"linecolor\":\"white\",\"ticks\":\"\"},\"radialaxis\":{\"gridcolor\":\"white\",\"linecolor\":\"white\",\"ticks\":\"\"}},\"ternary\":{\"bgcolor\":\"#E5ECF6\",\"aaxis\":{\"gridcolor\":\"white\",\"linecolor\":\"white\",\"ticks\":\"\"},\"baxis\":{\"gridcolor\":\"white\",\"linecolor\":\"white\",\"ticks\":\"\"},\"caxis\":{\"gridcolor\":\"white\",\"linecolor\":\"white\",\"ticks\":\"\"}},\"coloraxis\":{\"colorbar\":{\"outlinewidth\":0,\"ticks\":\"\"}},\"colorscale\":{\"sequential\":[[0.0,\"#0d0887\"],[0.1111111111111111,\"#46039f\"],[0.2222222222222222,\"#7201a8\"],[0.3333333333333333,\"#9c179e\"],[0.4444444444444444,\"#bd3786\"],[0.5555555555555556,\"#d8576b\"],[0.6666666666666666,\"#ed7953\"],[0.7777777777777778,\"#fb9f3a\"],[0.8888888888888888,\"#fdca26\"],[1.0,\"#f0f921\"]],\"sequentialminus\":[[0.0,\"#0d0887\"],[0.1111111111111111,\"#46039f\"],[0.2222222222222222,\"#7201a8\"],[0.3333333333333333,\"#9c179e\"],[0.4444444444444444,\"#bd3786\"],[0.5555555555555556,\"#d8576b\"],[0.6666666666666666,\"#ed7953\"],[0.7777777777777778,\"#fb9f3a\"],[0.8888888888888888,\"#fdca26\"],[1.0,\"#f0f921\"]],\"diverging\":[[0,\"#8e0152\"],[0.1,\"#c51b7d\"],[0.2,\"#de77ae\"],[0.3,\"#f1b6da\"],[0.4,\"#fde0ef\"],[0.5,\"#f7f7f7\"],[0.6,\"#e6f5d0\"],[0.7,\"#b8e186\"],[0.8,\"#7fbc41\"],[0.9,\"#4d9221\"],[1,\"#276419\"]]},\"xaxis\":{\"gridcolor\":\"white\",\"linecolor\":\"white\",\"ticks\":\"\",\"title\":{\"standoff\":15},\"zerolinecolor\":\"white\",\"automargin\":true,\"zerolinewidth\":2},\"yaxis\":{\"gridcolor\":\"white\",\"linecolor\":\"white\",\"ticks\":\"\",\"title\":{\"standoff\":15},\"zerolinecolor\":\"white\",\"automargin\":true,\"zerolinewidth\":2},\"scene\":{\"xaxis\":{\"backgroundcolor\":\"#E5ECF6\",\"gridcolor\":\"white\",\"linecolor\":\"white\",\"showbackground\":true,\"ticks\":\"\",\"zerolinecolor\":\"white\",\"gridwidth\":2},\"yaxis\":{\"backgroundcolor\":\"#E5ECF6\",\"gridcolor\":\"white\",\"linecolor\":\"white\",\"showbackground\":true,\"ticks\":\"\",\"zerolinecolor\":\"white\",\"gridwidth\":2},\"zaxis\":{\"backgroundcolor\":\"#E5ECF6\",\"gridcolor\":\"white\",\"linecolor\":\"white\",\"showbackground\":true,\"ticks\":\"\",\"zerolinecolor\":\"white\",\"gridwidth\":2}},\"shapedefaults\":{\"line\":{\"color\":\"#2a3f5f\"}},\"annotationdefaults\":{\"arrowcolor\":\"#2a3f5f\",\"arrowhead\":0,\"arrowwidth\":1},\"geo\":{\"bgcolor\":\"white\",\"landcolor\":\"#E5ECF6\",\"subunitcolor\":\"white\",\"showland\":true,\"showlakes\":true,\"lakecolor\":\"white\"},\"title\":{\"x\":0.05},\"mapbox\":{\"style\":\"light\"}}}},                        {\"responsive\": true}                    ).then(function(){\n",
       "                            \n",
       "var gd = document.getElementById('30f509b3-080d-405e-a855-f18cc2a0890f');\n",
       "var x = new MutationObserver(function (mutations, observer) {{\n",
       "        var display = window.getComputedStyle(gd).display;\n",
       "        if (!display || display === 'none') {{\n",
       "            console.log([gd, 'removed!']);\n",
       "            Plotly.purge(gd);\n",
       "            observer.disconnect();\n",
       "        }}\n",
       "}});\n",
       "\n",
       "// Listen for the removal of the full notebook cells\n",
       "var notebookContainer = gd.closest('#notebook-container');\n",
       "if (notebookContainer) {{\n",
       "    x.observe(notebookContainer, {childList: true});\n",
       "}}\n",
       "\n",
       "// Listen for the clearing of the current output cell\n",
       "var outputEl = gd.closest('.output');\n",
       "if (outputEl) {{\n",
       "    x.observe(outputEl, {childList: true});\n",
       "}}\n",
       "\n",
       "                        })                };                });            </script>        </div>"
      ]
     },
     "metadata": {},
     "output_type": "display_data"
    }
   ],
   "source": [
    "similarity_matrix = cosine_similarity(vstack(artist_filter_df['tf_idf_vector']), \n",
    "                                      vstack(artist_filter_df['tf_idf_vector']))\n",
    "artist_names = artist_filter_df['Artist'].tolist()\n",
    "fig = go.Figure(data=go.Heatmap(z=np.flipud(similarity_matrix), x=artist_names, y=list(reversed(artist_names)), \n",
    "                                colorscale='balance', zmin=0.5, zmax=1.1))\n",
    "fig.show()"
   ]
  },
  {
   "cell_type": "markdown",
   "metadata": {},
   "source": [
    "This matrix visualises the similarity between TFIDF artist vectors. Again, a value of 1 (red) means that the vectors are identical which only appears when comparing vectors of the same artist. "
   ]
  },
  {
   "cell_type": "code",
   "execution_count": 118,
   "metadata": {},
   "outputs": [],
   "source": [
    "artist_song_filter_df = pd.merge(artist_filter_df[['Artist', 'tf_idf_vector', 'songs']].assign(key = 0), \n",
    "                                 df[['Artist', 'tf_idf_vector', 'Song']].assign(key = 0), on='key', \n",
    "                                 suffixes=['_artist', '_song']).drop('key', axis=1).reset_index(drop=True)\n",
    "artist_song_filter_df['same_artist'] = artist_song_filter_df['Artist_artist'] == artist_song_filter_df['Artist_song']"
   ]
  },
  {
   "cell_type": "code",
   "execution_count": 119,
   "metadata": {},
   "outputs": [],
   "source": [
    "artist_song_filter_df['vector_similarity'] = \\\n",
    "    artist_song_filter_df.apply(lambda row: tf_idf_vector_similarity(row['tf_idf_vector_artist'], \n",
    "                                                                     row['tf_idf_vector_song'], \n",
    "                                                                     row['songs'], row['same_artist']), axis=1)"
   ]
  },
  {
   "cell_type": "code",
   "execution_count": 120,
   "metadata": {},
   "outputs": [],
   "source": [
    "# calculate similarity of artist tf idf vector and song vector\n",
    "def tf_idf_vector_similarity(artist_vector, song_vector, songs, same_artist):\n",
    "    # check if song is from same artist\n",
    "    if same_artist:\n",
    "        # deduct song vector from artist vector\n",
    "        artist_vector = (songs * artist_vector - song_vector) / (songs - 1)\n",
    "    # calculate similarity\n",
    "    return cosine_similarity(artist_vector, song_vector)[0][0]"
   ]
  },
  {
   "cell_type": "code",
   "execution_count": 123,
   "metadata": {},
   "outputs": [
    {
     "data": {
      "text/html": [
       "<div>\n",
       "<style scoped>\n",
       "    .dataframe tbody tr th:only-of-type {\n",
       "        vertical-align: middle;\n",
       "    }\n",
       "\n",
       "    .dataframe tbody tr th {\n",
       "        vertical-align: top;\n",
       "    }\n",
       "\n",
       "    .dataframe thead th {\n",
       "        text-align: right;\n",
       "    }\n",
       "</style>\n",
       "<table border=\"1\" class=\"dataframe\">\n",
       "  <thead>\n",
       "    <tr style=\"text-align: right;\">\n",
       "      <th></th>\n",
       "      <th>Artist_artist</th>\n",
       "      <th>tf_idf_vector_artist</th>\n",
       "      <th>songs</th>\n",
       "      <th>Artist_song</th>\n",
       "      <th>tf_idf_vector_song</th>\n",
       "      <th>Song</th>\n",
       "      <th>same_artist</th>\n",
       "      <th>vector_similarity</th>\n",
       "    </tr>\n",
       "  </thead>\n",
       "  <tbody>\n",
       "    <tr>\n",
       "      <th>0</th>\n",
       "      <td>Lav Eli</td>\n",
       "      <td>(0, 13)\\t0.008058963183187651\\n  (0, 35)\\t0....</td>\n",
       "      <td>9</td>\n",
       "      <td>ԱՐԹՈՒՐ ՄԵՍՉՅԱՆ</td>\n",
       "      <td>(0, 5479)\\t0.11005738196398157\\n  (0, 5442)\\...</td>\n",
       "      <td>ԱՀԱ ԵՎ ՎԵՐՋ</td>\n",
       "      <td>False</td>\n",
       "      <td>0.048038</td>\n",
       "    </tr>\n",
       "    <tr>\n",
       "      <th>1</th>\n",
       "      <td>Lav Eli</td>\n",
       "      <td>(0, 13)\\t0.008058963183187651\\n  (0, 35)\\t0....</td>\n",
       "      <td>9</td>\n",
       "      <td>ԱՐԹՈՒՐ ՄԵՍՉՅԱՆ</td>\n",
       "      <td>(0, 5608)\\t0.4442211403251251\\n  (0, 5598)\\t...</td>\n",
       "      <td>ԱՄԵՆԸ ՁԵԶ</td>\n",
       "      <td>False</td>\n",
       "      <td>0.065338</td>\n",
       "    </tr>\n",
       "    <tr>\n",
       "      <th>2</th>\n",
       "      <td>Lav Eli</td>\n",
       "      <td>(0, 13)\\t0.008058963183187651\\n  (0, 35)\\t0....</td>\n",
       "      <td>9</td>\n",
       "      <td>ԱՐԹՈՒՐ ՄԵՍՉՅԱՆ</td>\n",
       "      <td>(0, 5592)\\t0.04700184112461394\\n  (0, 5560)\\...</td>\n",
       "      <td>ԱՆԱՌԱԿ ՈՐԴՈՒ ՎԵՐԱԴԱՐՁԸ</td>\n",
       "      <td>False</td>\n",
       "      <td>0.107104</td>\n",
       "    </tr>\n",
       "    <tr>\n",
       "      <th>3</th>\n",
       "      <td>Lav Eli</td>\n",
       "      <td>(0, 13)\\t0.008058963183187651\\n  (0, 35)\\t0....</td>\n",
       "      <td>9</td>\n",
       "      <td>ԱՐԹՈՒՐ ՄԵՍՉՅԱՆ</td>\n",
       "      <td>(0, 5598)\\t0.1254228041125505\\n  (0, 5596)\\t...</td>\n",
       "      <td>ԱՇԽԱՐՀԻ ՑԱՎՈՎ</td>\n",
       "      <td>False</td>\n",
       "      <td>0.119493</td>\n",
       "    </tr>\n",
       "    <tr>\n",
       "      <th>4</th>\n",
       "      <td>Lav Eli</td>\n",
       "      <td>(0, 13)\\t0.008058963183187651\\n  (0, 35)\\t0....</td>\n",
       "      <td>9</td>\n",
       "      <td>ԱՐԹՈՒՐ ՄԵՍՉՅԱՆ</td>\n",
       "      <td>(0, 5606)\\t0.3117304454751323\\n  (0, 5598)\\t...</td>\n",
       "      <td>ԱՌԱՋ ԳԻՏԵԻ</td>\n",
       "      <td>False</td>\n",
       "      <td>0.038385</td>\n",
       "    </tr>\n",
       "    <tr>\n",
       "      <th>...</th>\n",
       "      <td>...</td>\n",
       "      <td>...</td>\n",
       "      <td>...</td>\n",
       "      <td>...</td>\n",
       "      <td>...</td>\n",
       "      <td>...</td>\n",
       "      <td>...</td>\n",
       "      <td>...</td>\n",
       "    </tr>\n",
       "    <tr>\n",
       "      <th>10115</th>\n",
       "      <td>Սիրուշո</td>\n",
       "      <td>(0, 16)\\t0.009400112578014947\\n  (0, 20)\\t0....</td>\n",
       "      <td>25</td>\n",
       "      <td>Mi Qani Hogi</td>\n",
       "      <td>(0, 5592)\\t0.13102268244712828\\n  (0, 5576)\\...</td>\n",
       "      <td>Chanapar</td>\n",
       "      <td>False</td>\n",
       "      <td>0.159536</td>\n",
       "    </tr>\n",
       "    <tr>\n",
       "      <th>10116</th>\n",
       "      <td>Սիրուշո</td>\n",
       "      <td>(0, 16)\\t0.009400112578014947\\n  (0, 20)\\t0....</td>\n",
       "      <td>25</td>\n",
       "      <td>Mi Qani Hogi</td>\n",
       "      <td>(0, 5606)\\t0.05878063769938822\\n  (0, 5601)\\...</td>\n",
       "      <td>Es Pahin</td>\n",
       "      <td>False</td>\n",
       "      <td>0.123196</td>\n",
       "    </tr>\n",
       "    <tr>\n",
       "      <th>10117</th>\n",
       "      <td>Սիրուշո</td>\n",
       "      <td>(0, 16)\\t0.009400112578014947\\n  (0, 20)\\t0....</td>\n",
       "      <td>25</td>\n",
       "      <td>Mi Qani Hogi</td>\n",
       "      <td>(0, 5577)\\t0.06282260991068256\\n  (0, 5539)\\...</td>\n",
       "      <td>Rhyme</td>\n",
       "      <td>False</td>\n",
       "      <td>0.122112</td>\n",
       "    </tr>\n",
       "    <tr>\n",
       "      <th>10118</th>\n",
       "      <td>Սիրուշո</td>\n",
       "      <td>(0, 16)\\t0.009400112578014947\\n  (0, 20)\\t0....</td>\n",
       "      <td>25</td>\n",
       "      <td>Mi Qani Hogi</td>\n",
       "      <td>(0, 5585)\\t0.29894116594775483\\n  (0, 4972)\\...</td>\n",
       "      <td>Yes Qo Nmanei</td>\n",
       "      <td>False</td>\n",
       "      <td>0.075869</td>\n",
       "    </tr>\n",
       "    <tr>\n",
       "      <th>10119</th>\n",
       "      <td>Սիրուշո</td>\n",
       "      <td>(0, 16)\\t0.009400112578014947\\n  (0, 20)\\t0....</td>\n",
       "      <td>25</td>\n",
       "      <td>Mi Qani Hogi</td>\n",
       "      <td>(0, 5580)\\t0.09309999845497852\\n  (0, 5557)\\...</td>\n",
       "      <td>Lav Jamanak</td>\n",
       "      <td>False</td>\n",
       "      <td>0.112848</td>\n",
       "    </tr>\n",
       "  </tbody>\n",
       "</table>\n",
       "<p>10120 rows × 8 columns</p>\n",
       "</div>"
      ],
      "text/plain": [
       "      Artist_artist                               tf_idf_vector_artist  songs  \\\n",
       "0           Lav Eli    (0, 13)\\t0.008058963183187651\\n  (0, 35)\\t0....      9   \n",
       "1           Lav Eli    (0, 13)\\t0.008058963183187651\\n  (0, 35)\\t0....      9   \n",
       "2           Lav Eli    (0, 13)\\t0.008058963183187651\\n  (0, 35)\\t0....      9   \n",
       "3           Lav Eli    (0, 13)\\t0.008058963183187651\\n  (0, 35)\\t0....      9   \n",
       "4           Lav Eli    (0, 13)\\t0.008058963183187651\\n  (0, 35)\\t0....      9   \n",
       "...             ...                                                ...    ...   \n",
       "10115       Սիրուշո    (0, 16)\\t0.009400112578014947\\n  (0, 20)\\t0....     25   \n",
       "10116       Սիրուշո    (0, 16)\\t0.009400112578014947\\n  (0, 20)\\t0....     25   \n",
       "10117       Սիրուշո    (0, 16)\\t0.009400112578014947\\n  (0, 20)\\t0....     25   \n",
       "10118       Սիրուշո    (0, 16)\\t0.009400112578014947\\n  (0, 20)\\t0....     25   \n",
       "10119       Սիրուշո    (0, 16)\\t0.009400112578014947\\n  (0, 20)\\t0....     25   \n",
       "\n",
       "          Artist_song                                 tf_idf_vector_song  \\\n",
       "0      ԱՐԹՈՒՐ ՄԵՍՉՅԱՆ    (0, 5479)\\t0.11005738196398157\\n  (0, 5442)\\...   \n",
       "1      ԱՐԹՈՒՐ ՄԵՍՉՅԱՆ    (0, 5608)\\t0.4442211403251251\\n  (0, 5598)\\t...   \n",
       "2      ԱՐԹՈՒՐ ՄԵՍՉՅԱՆ    (0, 5592)\\t0.04700184112461394\\n  (0, 5560)\\...   \n",
       "3      ԱՐԹՈՒՐ ՄԵՍՉՅԱՆ    (0, 5598)\\t0.1254228041125505\\n  (0, 5596)\\t...   \n",
       "4      ԱՐԹՈՒՐ ՄԵՍՉՅԱՆ    (0, 5606)\\t0.3117304454751323\\n  (0, 5598)\\t...   \n",
       "...               ...                                                ...   \n",
       "10115    Mi Qani Hogi    (0, 5592)\\t0.13102268244712828\\n  (0, 5576)\\...   \n",
       "10116    Mi Qani Hogi    (0, 5606)\\t0.05878063769938822\\n  (0, 5601)\\...   \n",
       "10117    Mi Qani Hogi    (0, 5577)\\t0.06282260991068256\\n  (0, 5539)\\...   \n",
       "10118    Mi Qani Hogi    (0, 5585)\\t0.29894116594775483\\n  (0, 4972)\\...   \n",
       "10119    Mi Qani Hogi    (0, 5580)\\t0.09309999845497852\\n  (0, 5557)\\...   \n",
       "\n",
       "                         Song  same_artist  vector_similarity  \n",
       "0                 ԱՀԱ ԵՎ ՎԵՐՋ        False           0.048038  \n",
       "1                   ԱՄԵՆԸ ՁԵԶ        False           0.065338  \n",
       "2      ԱՆԱՌԱԿ ՈՐԴՈՒ ՎԵՐԱԴԱՐՁԸ        False           0.107104  \n",
       "3               ԱՇԽԱՐՀԻ ՑԱՎՈՎ        False           0.119493  \n",
       "4                  ԱՌԱՋ ԳԻՏԵԻ        False           0.038385  \n",
       "...                       ...          ...                ...  \n",
       "10115                Chanapar        False           0.159536  \n",
       "10116                Es Pahin        False           0.123196  \n",
       "10117                   Rhyme        False           0.122112  \n",
       "10118           Yes Qo Nmanei        False           0.075869  \n",
       "10119             Lav Jamanak        False           0.112848  \n",
       "\n",
       "[10120 rows x 8 columns]"
      ]
     },
     "execution_count": 123,
     "metadata": {},
     "output_type": "execute_result"
    }
   ],
   "source": [
    "artist_song_filter_df"
   ]
  },
  {
   "cell_type": "code",
   "execution_count": 26,
   "metadata": {
    "colab": {
     "base_uri": "https://localhost:8080/"
    },
    "id": "Wfj7k7_CxSCU",
    "outputId": "850b73b7-326c-45d6-d9b6-cd3a6879c898"
   },
   "outputs": [
    {
     "name": "stdout",
     "output_type": "stream",
     "text": [
      "<class 'pandas.core.frame.DataFrame'>\n",
      "Int64Index: 506 entries, 0 to 542\n",
      "Data columns (total 13 columns):\n",
      " #   Column             Non-Null Count  Dtype  \n",
      "---  ------             --------------  -----  \n",
      " 0   Artist             506 non-null    object \n",
      " 1   Song               506 non-null    object \n",
      " 2   Lyrics             506 non-null    object \n",
      " 3   Translated_Lyrics  506 non-null    object \n",
      " 4   lines              506 non-null    int64  \n",
      " 5   tokens_hy          506 non-null    object \n",
      " 6   tokens_en          506 non-null    object \n",
      " 7   stems_en           506 non-null    object \n",
      " 8   n_stems_en         506 non-null    int64  \n",
      " 9   n_tokens_hy        506 non-null    int64  \n",
      " 10  stems_en_str       506 non-null    object \n",
      " 11  tf_idf_vector      506 non-null    object \n",
      " 12  tf_idf_score       506 non-null    float64\n",
      "dtypes: float64(1), int64(3), object(9)\n",
      "memory usage: 55.3+ KB\n"
     ]
    }
   ],
   "source": [
    "df.info()"
   ]
  },
  {
   "cell_type": "markdown",
   "metadata": {
    "id": "X86IVikPxSUS"
   },
   "source": [
    "<a name=\"eda\"></a>\n",
    "# EDA\n",
    "#### Number of songs, artists, and words"
   ]
  },
  {
   "cell_type": "code",
   "execution_count": 27,
   "metadata": {
    "colab": {
     "base_uri": "https://localhost:8080/",
     "height": 542
    },
    "id": "H4tHDeHSxWby",
    "outputId": "a7d1c8e1-9184-43e8-9b10-5bb00bed14a5"
   },
   "outputs": [
    {
     "data": {
      "application/vnd.plotly.v1+json": {
       "config": {
        "plotlyServerURL": "https://plot.ly"
       },
       "data": [
        {
         "alignmentgroup": "True",
         "bingroup": "x",
         "hovertemplate": "Songs=%{x}<br>count=%{y}<extra></extra>",
         "legendgroup": "",
         "marker": {
          "color": "#636efa",
          "pattern": {
           "shape": ""
          }
         },
         "name": "",
         "offsetgroup": "",
         "orientation": "v",
         "showlegend": false,
         "type": "histogram",
         "x": [
          9,
          17,
          9,
          23,
          10,
          16,
          32,
          15,
          26,
          18,
          20,
          50,
          12,
          24,
          62,
          23,
          18,
          81,
          16,
          25
         ],
         "xaxis": "x",
         "yaxis": "y"
        }
       ],
       "layout": {
        "barmode": "relative",
        "legend": {
         "tracegroupgap": 0
        },
        "template": {
         "data": {
          "bar": [
           {
            "error_x": {
             "color": "#2a3f5f"
            },
            "error_y": {
             "color": "#2a3f5f"
            },
            "marker": {
             "line": {
              "color": "#E5ECF6",
              "width": 0.5
             },
             "pattern": {
              "fillmode": "overlay",
              "size": 10,
              "solidity": 0.2
             }
            },
            "type": "bar"
           }
          ],
          "barpolar": [
           {
            "marker": {
             "line": {
              "color": "#E5ECF6",
              "width": 0.5
             },
             "pattern": {
              "fillmode": "overlay",
              "size": 10,
              "solidity": 0.2
             }
            },
            "type": "barpolar"
           }
          ],
          "carpet": [
           {
            "aaxis": {
             "endlinecolor": "#2a3f5f",
             "gridcolor": "white",
             "linecolor": "white",
             "minorgridcolor": "white",
             "startlinecolor": "#2a3f5f"
            },
            "baxis": {
             "endlinecolor": "#2a3f5f",
             "gridcolor": "white",
             "linecolor": "white",
             "minorgridcolor": "white",
             "startlinecolor": "#2a3f5f"
            },
            "type": "carpet"
           }
          ],
          "choropleth": [
           {
            "colorbar": {
             "outlinewidth": 0,
             "ticks": ""
            },
            "type": "choropleth"
           }
          ],
          "contour": [
           {
            "colorbar": {
             "outlinewidth": 0,
             "ticks": ""
            },
            "colorscale": [
             [
              0,
              "#0d0887"
             ],
             [
              0.1111111111111111,
              "#46039f"
             ],
             [
              0.2222222222222222,
              "#7201a8"
             ],
             [
              0.3333333333333333,
              "#9c179e"
             ],
             [
              0.4444444444444444,
              "#bd3786"
             ],
             [
              0.5555555555555556,
              "#d8576b"
             ],
             [
              0.6666666666666666,
              "#ed7953"
             ],
             [
              0.7777777777777778,
              "#fb9f3a"
             ],
             [
              0.8888888888888888,
              "#fdca26"
             ],
             [
              1,
              "#f0f921"
             ]
            ],
            "type": "contour"
           }
          ],
          "contourcarpet": [
           {
            "colorbar": {
             "outlinewidth": 0,
             "ticks": ""
            },
            "type": "contourcarpet"
           }
          ],
          "heatmap": [
           {
            "colorbar": {
             "outlinewidth": 0,
             "ticks": ""
            },
            "colorscale": [
             [
              0,
              "#0d0887"
             ],
             [
              0.1111111111111111,
              "#46039f"
             ],
             [
              0.2222222222222222,
              "#7201a8"
             ],
             [
              0.3333333333333333,
              "#9c179e"
             ],
             [
              0.4444444444444444,
              "#bd3786"
             ],
             [
              0.5555555555555556,
              "#d8576b"
             ],
             [
              0.6666666666666666,
              "#ed7953"
             ],
             [
              0.7777777777777778,
              "#fb9f3a"
             ],
             [
              0.8888888888888888,
              "#fdca26"
             ],
             [
              1,
              "#f0f921"
             ]
            ],
            "type": "heatmap"
           }
          ],
          "heatmapgl": [
           {
            "colorbar": {
             "outlinewidth": 0,
             "ticks": ""
            },
            "colorscale": [
             [
              0,
              "#0d0887"
             ],
             [
              0.1111111111111111,
              "#46039f"
             ],
             [
              0.2222222222222222,
              "#7201a8"
             ],
             [
              0.3333333333333333,
              "#9c179e"
             ],
             [
              0.4444444444444444,
              "#bd3786"
             ],
             [
              0.5555555555555556,
              "#d8576b"
             ],
             [
              0.6666666666666666,
              "#ed7953"
             ],
             [
              0.7777777777777778,
              "#fb9f3a"
             ],
             [
              0.8888888888888888,
              "#fdca26"
             ],
             [
              1,
              "#f0f921"
             ]
            ],
            "type": "heatmapgl"
           }
          ],
          "histogram": [
           {
            "marker": {
             "pattern": {
              "fillmode": "overlay",
              "size": 10,
              "solidity": 0.2
             }
            },
            "type": "histogram"
           }
          ],
          "histogram2d": [
           {
            "colorbar": {
             "outlinewidth": 0,
             "ticks": ""
            },
            "colorscale": [
             [
              0,
              "#0d0887"
             ],
             [
              0.1111111111111111,
              "#46039f"
             ],
             [
              0.2222222222222222,
              "#7201a8"
             ],
             [
              0.3333333333333333,
              "#9c179e"
             ],
             [
              0.4444444444444444,
              "#bd3786"
             ],
             [
              0.5555555555555556,
              "#d8576b"
             ],
             [
              0.6666666666666666,
              "#ed7953"
             ],
             [
              0.7777777777777778,
              "#fb9f3a"
             ],
             [
              0.8888888888888888,
              "#fdca26"
             ],
             [
              1,
              "#f0f921"
             ]
            ],
            "type": "histogram2d"
           }
          ],
          "histogram2dcontour": [
           {
            "colorbar": {
             "outlinewidth": 0,
             "ticks": ""
            },
            "colorscale": [
             [
              0,
              "#0d0887"
             ],
             [
              0.1111111111111111,
              "#46039f"
             ],
             [
              0.2222222222222222,
              "#7201a8"
             ],
             [
              0.3333333333333333,
              "#9c179e"
             ],
             [
              0.4444444444444444,
              "#bd3786"
             ],
             [
              0.5555555555555556,
              "#d8576b"
             ],
             [
              0.6666666666666666,
              "#ed7953"
             ],
             [
              0.7777777777777778,
              "#fb9f3a"
             ],
             [
              0.8888888888888888,
              "#fdca26"
             ],
             [
              1,
              "#f0f921"
             ]
            ],
            "type": "histogram2dcontour"
           }
          ],
          "mesh3d": [
           {
            "colorbar": {
             "outlinewidth": 0,
             "ticks": ""
            },
            "type": "mesh3d"
           }
          ],
          "parcoords": [
           {
            "line": {
             "colorbar": {
              "outlinewidth": 0,
              "ticks": ""
             }
            },
            "type": "parcoords"
           }
          ],
          "pie": [
           {
            "automargin": true,
            "type": "pie"
           }
          ],
          "scatter": [
           {
            "fillpattern": {
             "fillmode": "overlay",
             "size": 10,
             "solidity": 0.2
            },
            "type": "scatter"
           }
          ],
          "scatter3d": [
           {
            "line": {
             "colorbar": {
              "outlinewidth": 0,
              "ticks": ""
             }
            },
            "marker": {
             "colorbar": {
              "outlinewidth": 0,
              "ticks": ""
             }
            },
            "type": "scatter3d"
           }
          ],
          "scattercarpet": [
           {
            "marker": {
             "colorbar": {
              "outlinewidth": 0,
              "ticks": ""
             }
            },
            "type": "scattercarpet"
           }
          ],
          "scattergeo": [
           {
            "marker": {
             "colorbar": {
              "outlinewidth": 0,
              "ticks": ""
             }
            },
            "type": "scattergeo"
           }
          ],
          "scattergl": [
           {
            "marker": {
             "colorbar": {
              "outlinewidth": 0,
              "ticks": ""
             }
            },
            "type": "scattergl"
           }
          ],
          "scattermapbox": [
           {
            "marker": {
             "colorbar": {
              "outlinewidth": 0,
              "ticks": ""
             }
            },
            "type": "scattermapbox"
           }
          ],
          "scatterpolar": [
           {
            "marker": {
             "colorbar": {
              "outlinewidth": 0,
              "ticks": ""
             }
            },
            "type": "scatterpolar"
           }
          ],
          "scatterpolargl": [
           {
            "marker": {
             "colorbar": {
              "outlinewidth": 0,
              "ticks": ""
             }
            },
            "type": "scatterpolargl"
           }
          ],
          "scatterternary": [
           {
            "marker": {
             "colorbar": {
              "outlinewidth": 0,
              "ticks": ""
             }
            },
            "type": "scatterternary"
           }
          ],
          "surface": [
           {
            "colorbar": {
             "outlinewidth": 0,
             "ticks": ""
            },
            "colorscale": [
             [
              0,
              "#0d0887"
             ],
             [
              0.1111111111111111,
              "#46039f"
             ],
             [
              0.2222222222222222,
              "#7201a8"
             ],
             [
              0.3333333333333333,
              "#9c179e"
             ],
             [
              0.4444444444444444,
              "#bd3786"
             ],
             [
              0.5555555555555556,
              "#d8576b"
             ],
             [
              0.6666666666666666,
              "#ed7953"
             ],
             [
              0.7777777777777778,
              "#fb9f3a"
             ],
             [
              0.8888888888888888,
              "#fdca26"
             ],
             [
              1,
              "#f0f921"
             ]
            ],
            "type": "surface"
           }
          ],
          "table": [
           {
            "cells": {
             "fill": {
              "color": "#EBF0F8"
             },
             "line": {
              "color": "white"
             }
            },
            "header": {
             "fill": {
              "color": "#C8D4E3"
             },
             "line": {
              "color": "white"
             }
            },
            "type": "table"
           }
          ]
         },
         "layout": {
          "annotationdefaults": {
           "arrowcolor": "#2a3f5f",
           "arrowhead": 0,
           "arrowwidth": 1
          },
          "autotypenumbers": "strict",
          "coloraxis": {
           "colorbar": {
            "outlinewidth": 0,
            "ticks": ""
           }
          },
          "colorscale": {
           "diverging": [
            [
             0,
             "#8e0152"
            ],
            [
             0.1,
             "#c51b7d"
            ],
            [
             0.2,
             "#de77ae"
            ],
            [
             0.3,
             "#f1b6da"
            ],
            [
             0.4,
             "#fde0ef"
            ],
            [
             0.5,
             "#f7f7f7"
            ],
            [
             0.6,
             "#e6f5d0"
            ],
            [
             0.7,
             "#b8e186"
            ],
            [
             0.8,
             "#7fbc41"
            ],
            [
             0.9,
             "#4d9221"
            ],
            [
             1,
             "#276419"
            ]
           ],
           "sequential": [
            [
             0,
             "#0d0887"
            ],
            [
             0.1111111111111111,
             "#46039f"
            ],
            [
             0.2222222222222222,
             "#7201a8"
            ],
            [
             0.3333333333333333,
             "#9c179e"
            ],
            [
             0.4444444444444444,
             "#bd3786"
            ],
            [
             0.5555555555555556,
             "#d8576b"
            ],
            [
             0.6666666666666666,
             "#ed7953"
            ],
            [
             0.7777777777777778,
             "#fb9f3a"
            ],
            [
             0.8888888888888888,
             "#fdca26"
            ],
            [
             1,
             "#f0f921"
            ]
           ],
           "sequentialminus": [
            [
             0,
             "#0d0887"
            ],
            [
             0.1111111111111111,
             "#46039f"
            ],
            [
             0.2222222222222222,
             "#7201a8"
            ],
            [
             0.3333333333333333,
             "#9c179e"
            ],
            [
             0.4444444444444444,
             "#bd3786"
            ],
            [
             0.5555555555555556,
             "#d8576b"
            ],
            [
             0.6666666666666666,
             "#ed7953"
            ],
            [
             0.7777777777777778,
             "#fb9f3a"
            ],
            [
             0.8888888888888888,
             "#fdca26"
            ],
            [
             1,
             "#f0f921"
            ]
           ]
          },
          "colorway": [
           "#636efa",
           "#EF553B",
           "#00cc96",
           "#ab63fa",
           "#FFA15A",
           "#19d3f3",
           "#FF6692",
           "#B6E880",
           "#FF97FF",
           "#FECB52"
          ],
          "font": {
           "color": "#2a3f5f"
          },
          "geo": {
           "bgcolor": "white",
           "lakecolor": "white",
           "landcolor": "#E5ECF6",
           "showlakes": true,
           "showland": true,
           "subunitcolor": "white"
          },
          "hoverlabel": {
           "align": "left"
          },
          "hovermode": "closest",
          "mapbox": {
           "style": "light"
          },
          "paper_bgcolor": "white",
          "plot_bgcolor": "#E5ECF6",
          "polar": {
           "angularaxis": {
            "gridcolor": "white",
            "linecolor": "white",
            "ticks": ""
           },
           "bgcolor": "#E5ECF6",
           "radialaxis": {
            "gridcolor": "white",
            "linecolor": "white",
            "ticks": ""
           }
          },
          "scene": {
           "xaxis": {
            "backgroundcolor": "#E5ECF6",
            "gridcolor": "white",
            "gridwidth": 2,
            "linecolor": "white",
            "showbackground": true,
            "ticks": "",
            "zerolinecolor": "white"
           },
           "yaxis": {
            "backgroundcolor": "#E5ECF6",
            "gridcolor": "white",
            "gridwidth": 2,
            "linecolor": "white",
            "showbackground": true,
            "ticks": "",
            "zerolinecolor": "white"
           },
           "zaxis": {
            "backgroundcolor": "#E5ECF6",
            "gridcolor": "white",
            "gridwidth": 2,
            "linecolor": "white",
            "showbackground": true,
            "ticks": "",
            "zerolinecolor": "white"
           }
          },
          "shapedefaults": {
           "line": {
            "color": "#2a3f5f"
           }
          },
          "ternary": {
           "aaxis": {
            "gridcolor": "white",
            "linecolor": "white",
            "ticks": ""
           },
           "baxis": {
            "gridcolor": "white",
            "linecolor": "white",
            "ticks": ""
           },
           "bgcolor": "#E5ECF6",
           "caxis": {
            "gridcolor": "white",
            "linecolor": "white",
            "ticks": ""
           }
          },
          "title": {
           "x": 0.05
          },
          "xaxis": {
           "automargin": true,
           "gridcolor": "white",
           "linecolor": "white",
           "ticks": "",
           "title": {
            "standoff": 15
           },
           "zerolinecolor": "white",
           "zerolinewidth": 2
          },
          "yaxis": {
           "automargin": true,
           "gridcolor": "white",
           "linecolor": "white",
           "ticks": "",
           "title": {
            "standoff": 15
           },
           "zerolinecolor": "white",
           "zerolinewidth": 2
          }
         }
        },
        "title": {
         "text": "Songs per artist"
        },
        "xaxis": {
         "anchor": "y",
         "domain": [
          0,
          1
         ],
         "title": {
          "text": "Songs"
         }
        },
        "yaxis": {
         "anchor": "x",
         "domain": [
          0,
          1
         ],
         "title": {
          "text": "count"
         }
        }
       }
      },
      "text/html": [
       "<div>                            <div id=\"2da45a2b-74a5-4259-ab81-959801e9a234\" class=\"plotly-graph-div\" style=\"height:525px; width:100%;\"></div>            <script type=\"text/javascript\">                require([\"plotly\"], function(Plotly) {                    window.PLOTLYENV=window.PLOTLYENV || {};                                    if (document.getElementById(\"2da45a2b-74a5-4259-ab81-959801e9a234\")) {                    Plotly.newPlot(                        \"2da45a2b-74a5-4259-ab81-959801e9a234\",                        [{\"alignmentgroup\":\"True\",\"bingroup\":\"x\",\"hovertemplate\":\"Songs=%{x}<br>count=%{y}<extra></extra>\",\"legendgroup\":\"\",\"marker\":{\"color\":\"#636efa\",\"pattern\":{\"shape\":\"\"}},\"name\":\"\",\"offsetgroup\":\"\",\"orientation\":\"v\",\"showlegend\":false,\"x\":[9,17,9,23,10,16,32,15,26,18,20,50,12,24,62,23,18,81,16,25],\"xaxis\":\"x\",\"yaxis\":\"y\",\"type\":\"histogram\"}],                        {\"template\":{\"data\":{\"histogram2dcontour\":[{\"type\":\"histogram2dcontour\",\"colorbar\":{\"outlinewidth\":0,\"ticks\":\"\"},\"colorscale\":[[0.0,\"#0d0887\"],[0.1111111111111111,\"#46039f\"],[0.2222222222222222,\"#7201a8\"],[0.3333333333333333,\"#9c179e\"],[0.4444444444444444,\"#bd3786\"],[0.5555555555555556,\"#d8576b\"],[0.6666666666666666,\"#ed7953\"],[0.7777777777777778,\"#fb9f3a\"],[0.8888888888888888,\"#fdca26\"],[1.0,\"#f0f921\"]]}],\"choropleth\":[{\"type\":\"choropleth\",\"colorbar\":{\"outlinewidth\":0,\"ticks\":\"\"}}],\"histogram2d\":[{\"type\":\"histogram2d\",\"colorbar\":{\"outlinewidth\":0,\"ticks\":\"\"},\"colorscale\":[[0.0,\"#0d0887\"],[0.1111111111111111,\"#46039f\"],[0.2222222222222222,\"#7201a8\"],[0.3333333333333333,\"#9c179e\"],[0.4444444444444444,\"#bd3786\"],[0.5555555555555556,\"#d8576b\"],[0.6666666666666666,\"#ed7953\"],[0.7777777777777778,\"#fb9f3a\"],[0.8888888888888888,\"#fdca26\"],[1.0,\"#f0f921\"]]}],\"heatmap\":[{\"type\":\"heatmap\",\"colorbar\":{\"outlinewidth\":0,\"ticks\":\"\"},\"colorscale\":[[0.0,\"#0d0887\"],[0.1111111111111111,\"#46039f\"],[0.2222222222222222,\"#7201a8\"],[0.3333333333333333,\"#9c179e\"],[0.4444444444444444,\"#bd3786\"],[0.5555555555555556,\"#d8576b\"],[0.6666666666666666,\"#ed7953\"],[0.7777777777777778,\"#fb9f3a\"],[0.8888888888888888,\"#fdca26\"],[1.0,\"#f0f921\"]]}],\"heatmapgl\":[{\"type\":\"heatmapgl\",\"colorbar\":{\"outlinewidth\":0,\"ticks\":\"\"},\"colorscale\":[[0.0,\"#0d0887\"],[0.1111111111111111,\"#46039f\"],[0.2222222222222222,\"#7201a8\"],[0.3333333333333333,\"#9c179e\"],[0.4444444444444444,\"#bd3786\"],[0.5555555555555556,\"#d8576b\"],[0.6666666666666666,\"#ed7953\"],[0.7777777777777778,\"#fb9f3a\"],[0.8888888888888888,\"#fdca26\"],[1.0,\"#f0f921\"]]}],\"contourcarpet\":[{\"type\":\"contourcarpet\",\"colorbar\":{\"outlinewidth\":0,\"ticks\":\"\"}}],\"contour\":[{\"type\":\"contour\",\"colorbar\":{\"outlinewidth\":0,\"ticks\":\"\"},\"colorscale\":[[0.0,\"#0d0887\"],[0.1111111111111111,\"#46039f\"],[0.2222222222222222,\"#7201a8\"],[0.3333333333333333,\"#9c179e\"],[0.4444444444444444,\"#bd3786\"],[0.5555555555555556,\"#d8576b\"],[0.6666666666666666,\"#ed7953\"],[0.7777777777777778,\"#fb9f3a\"],[0.8888888888888888,\"#fdca26\"],[1.0,\"#f0f921\"]]}],\"surface\":[{\"type\":\"surface\",\"colorbar\":{\"outlinewidth\":0,\"ticks\":\"\"},\"colorscale\":[[0.0,\"#0d0887\"],[0.1111111111111111,\"#46039f\"],[0.2222222222222222,\"#7201a8\"],[0.3333333333333333,\"#9c179e\"],[0.4444444444444444,\"#bd3786\"],[0.5555555555555556,\"#d8576b\"],[0.6666666666666666,\"#ed7953\"],[0.7777777777777778,\"#fb9f3a\"],[0.8888888888888888,\"#fdca26\"],[1.0,\"#f0f921\"]]}],\"mesh3d\":[{\"type\":\"mesh3d\",\"colorbar\":{\"outlinewidth\":0,\"ticks\":\"\"}}],\"scatter\":[{\"fillpattern\":{\"fillmode\":\"overlay\",\"size\":10,\"solidity\":0.2},\"type\":\"scatter\"}],\"parcoords\":[{\"type\":\"parcoords\",\"line\":{\"colorbar\":{\"outlinewidth\":0,\"ticks\":\"\"}}}],\"scatterpolargl\":[{\"type\":\"scatterpolargl\",\"marker\":{\"colorbar\":{\"outlinewidth\":0,\"ticks\":\"\"}}}],\"bar\":[{\"error_x\":{\"color\":\"#2a3f5f\"},\"error_y\":{\"color\":\"#2a3f5f\"},\"marker\":{\"line\":{\"color\":\"#E5ECF6\",\"width\":0.5},\"pattern\":{\"fillmode\":\"overlay\",\"size\":10,\"solidity\":0.2}},\"type\":\"bar\"}],\"scattergeo\":[{\"type\":\"scattergeo\",\"marker\":{\"colorbar\":{\"outlinewidth\":0,\"ticks\":\"\"}}}],\"scatterpolar\":[{\"type\":\"scatterpolar\",\"marker\":{\"colorbar\":{\"outlinewidth\":0,\"ticks\":\"\"}}}],\"histogram\":[{\"marker\":{\"pattern\":{\"fillmode\":\"overlay\",\"size\":10,\"solidity\":0.2}},\"type\":\"histogram\"}],\"scattergl\":[{\"type\":\"scattergl\",\"marker\":{\"colorbar\":{\"outlinewidth\":0,\"ticks\":\"\"}}}],\"scatter3d\":[{\"type\":\"scatter3d\",\"line\":{\"colorbar\":{\"outlinewidth\":0,\"ticks\":\"\"}},\"marker\":{\"colorbar\":{\"outlinewidth\":0,\"ticks\":\"\"}}}],\"scattermapbox\":[{\"type\":\"scattermapbox\",\"marker\":{\"colorbar\":{\"outlinewidth\":0,\"ticks\":\"\"}}}],\"scatterternary\":[{\"type\":\"scatterternary\",\"marker\":{\"colorbar\":{\"outlinewidth\":0,\"ticks\":\"\"}}}],\"scattercarpet\":[{\"type\":\"scattercarpet\",\"marker\":{\"colorbar\":{\"outlinewidth\":0,\"ticks\":\"\"}}}],\"carpet\":[{\"aaxis\":{\"endlinecolor\":\"#2a3f5f\",\"gridcolor\":\"white\",\"linecolor\":\"white\",\"minorgridcolor\":\"white\",\"startlinecolor\":\"#2a3f5f\"},\"baxis\":{\"endlinecolor\":\"#2a3f5f\",\"gridcolor\":\"white\",\"linecolor\":\"white\",\"minorgridcolor\":\"white\",\"startlinecolor\":\"#2a3f5f\"},\"type\":\"carpet\"}],\"table\":[{\"cells\":{\"fill\":{\"color\":\"#EBF0F8\"},\"line\":{\"color\":\"white\"}},\"header\":{\"fill\":{\"color\":\"#C8D4E3\"},\"line\":{\"color\":\"white\"}},\"type\":\"table\"}],\"barpolar\":[{\"marker\":{\"line\":{\"color\":\"#E5ECF6\",\"width\":0.5},\"pattern\":{\"fillmode\":\"overlay\",\"size\":10,\"solidity\":0.2}},\"type\":\"barpolar\"}],\"pie\":[{\"automargin\":true,\"type\":\"pie\"}]},\"layout\":{\"autotypenumbers\":\"strict\",\"colorway\":[\"#636efa\",\"#EF553B\",\"#00cc96\",\"#ab63fa\",\"#FFA15A\",\"#19d3f3\",\"#FF6692\",\"#B6E880\",\"#FF97FF\",\"#FECB52\"],\"font\":{\"color\":\"#2a3f5f\"},\"hovermode\":\"closest\",\"hoverlabel\":{\"align\":\"left\"},\"paper_bgcolor\":\"white\",\"plot_bgcolor\":\"#E5ECF6\",\"polar\":{\"bgcolor\":\"#E5ECF6\",\"angularaxis\":{\"gridcolor\":\"white\",\"linecolor\":\"white\",\"ticks\":\"\"},\"radialaxis\":{\"gridcolor\":\"white\",\"linecolor\":\"white\",\"ticks\":\"\"}},\"ternary\":{\"bgcolor\":\"#E5ECF6\",\"aaxis\":{\"gridcolor\":\"white\",\"linecolor\":\"white\",\"ticks\":\"\"},\"baxis\":{\"gridcolor\":\"white\",\"linecolor\":\"white\",\"ticks\":\"\"},\"caxis\":{\"gridcolor\":\"white\",\"linecolor\":\"white\",\"ticks\":\"\"}},\"coloraxis\":{\"colorbar\":{\"outlinewidth\":0,\"ticks\":\"\"}},\"colorscale\":{\"sequential\":[[0.0,\"#0d0887\"],[0.1111111111111111,\"#46039f\"],[0.2222222222222222,\"#7201a8\"],[0.3333333333333333,\"#9c179e\"],[0.4444444444444444,\"#bd3786\"],[0.5555555555555556,\"#d8576b\"],[0.6666666666666666,\"#ed7953\"],[0.7777777777777778,\"#fb9f3a\"],[0.8888888888888888,\"#fdca26\"],[1.0,\"#f0f921\"]],\"sequentialminus\":[[0.0,\"#0d0887\"],[0.1111111111111111,\"#46039f\"],[0.2222222222222222,\"#7201a8\"],[0.3333333333333333,\"#9c179e\"],[0.4444444444444444,\"#bd3786\"],[0.5555555555555556,\"#d8576b\"],[0.6666666666666666,\"#ed7953\"],[0.7777777777777778,\"#fb9f3a\"],[0.8888888888888888,\"#fdca26\"],[1.0,\"#f0f921\"]],\"diverging\":[[0,\"#8e0152\"],[0.1,\"#c51b7d\"],[0.2,\"#de77ae\"],[0.3,\"#f1b6da\"],[0.4,\"#fde0ef\"],[0.5,\"#f7f7f7\"],[0.6,\"#e6f5d0\"],[0.7,\"#b8e186\"],[0.8,\"#7fbc41\"],[0.9,\"#4d9221\"],[1,\"#276419\"]]},\"xaxis\":{\"gridcolor\":\"white\",\"linecolor\":\"white\",\"ticks\":\"\",\"title\":{\"standoff\":15},\"zerolinecolor\":\"white\",\"automargin\":true,\"zerolinewidth\":2},\"yaxis\":{\"gridcolor\":\"white\",\"linecolor\":\"white\",\"ticks\":\"\",\"title\":{\"standoff\":15},\"zerolinecolor\":\"white\",\"automargin\":true,\"zerolinewidth\":2},\"scene\":{\"xaxis\":{\"backgroundcolor\":\"#E5ECF6\",\"gridcolor\":\"white\",\"linecolor\":\"white\",\"showbackground\":true,\"ticks\":\"\",\"zerolinecolor\":\"white\",\"gridwidth\":2},\"yaxis\":{\"backgroundcolor\":\"#E5ECF6\",\"gridcolor\":\"white\",\"linecolor\":\"white\",\"showbackground\":true,\"ticks\":\"\",\"zerolinecolor\":\"white\",\"gridwidth\":2},\"zaxis\":{\"backgroundcolor\":\"#E5ECF6\",\"gridcolor\":\"white\",\"linecolor\":\"white\",\"showbackground\":true,\"ticks\":\"\",\"zerolinecolor\":\"white\",\"gridwidth\":2}},\"shapedefaults\":{\"line\":{\"color\":\"#2a3f5f\"}},\"annotationdefaults\":{\"arrowcolor\":\"#2a3f5f\",\"arrowhead\":0,\"arrowwidth\":1},\"geo\":{\"bgcolor\":\"white\",\"landcolor\":\"#E5ECF6\",\"subunitcolor\":\"white\",\"showland\":true,\"showlakes\":true,\"lakecolor\":\"white\"},\"title\":{\"x\":0.05},\"mapbox\":{\"style\":\"light\"}}},\"xaxis\":{\"anchor\":\"y\",\"domain\":[0.0,1.0],\"title\":{\"text\":\"Songs\"}},\"yaxis\":{\"anchor\":\"x\",\"domain\":[0.0,1.0],\"title\":{\"text\":\"count\"}},\"legend\":{\"tracegroupgap\":0},\"title\":{\"text\":\"Songs per artist\"},\"barmode\":\"relative\"},                        {\"responsive\": true}                    ).then(function(){\n",
       "                            \n",
       "var gd = document.getElementById('2da45a2b-74a5-4259-ab81-959801e9a234');\n",
       "var x = new MutationObserver(function (mutations, observer) {{\n",
       "        var display = window.getComputedStyle(gd).display;\n",
       "        if (!display || display === 'none') {{\n",
       "            console.log([gd, 'removed!']);\n",
       "            Plotly.purge(gd);\n",
       "            observer.disconnect();\n",
       "        }}\n",
       "}});\n",
       "\n",
       "// Listen for the removal of the full notebook cells\n",
       "var notebookContainer = gd.closest('#notebook-container');\n",
       "if (notebookContainer) {{\n",
       "    x.observe(notebookContainer, {childList: true});\n",
       "}}\n",
       "\n",
       "// Listen for the clearing of the current output cell\n",
       "var outputEl = gd.closest('.output');\n",
       "if (outputEl) {{\n",
       "    x.observe(outputEl, {childList: true});\n",
       "}}\n",
       "\n",
       "                        })                };                });            </script>        </div>"
      ]
     },
     "metadata": {},
     "output_type": "display_data"
    }
   ],
   "source": [
    "song_count_df = df.groupby('Artist')[['Song']].count()\n",
    "fig = px.histogram(song_count_df, x='Song', title='Songs per artist', labels={'Song': 'Songs'})\n",
    "fig.show()"
   ]
  },
  {
   "cell_type": "code",
   "execution_count": 28,
   "metadata": {
    "colab": {
     "base_uri": "https://localhost:8080/",
     "height": 542
    },
    "id": "N8YAT_jBxrLk",
    "outputId": "32046b0f-82cf-4017-fc3a-73ae8295ee71"
   },
   "outputs": [
    {
     "data": {
      "application/vnd.plotly.v1+json": {
       "config": {
        "plotlyServerURL": "https://plot.ly"
       },
       "data": [
        {
         "alignmentgroup": "True",
         "bingroup": "x",
         "hovertemplate": "n_stems_en=%{x}<br>count=%{y}<extra></extra>",
         "legendgroup": "",
         "marker": {
          "color": "#636efa",
          "pattern": {
           "shape": ""
          }
         },
         "name": "",
         "offsetgroup": "",
         "orientation": "v",
         "showlegend": false,
         "type": "histogram",
         "x": [
          128,
          84,
          76,
          71,
          69,
          44,
          60,
          132,
          44,
          105,
          41,
          62,
          91,
          111,
          52,
          58,
          64,
          95,
          106,
          88,
          106,
          57,
          130,
          149,
          55,
          84,
          95,
          182,
          199,
          116,
          108,
          113,
          52,
          118,
          20,
          73,
          108,
          61,
          69,
          58,
          99,
          89,
          138,
          85,
          69,
          84,
          70,
          161,
          195,
          61,
          124,
          78,
          113,
          94,
          156,
          120,
          64,
          57,
          54,
          68,
          103,
          53,
          146,
          135,
          91,
          118,
          95,
          105,
          28,
          60,
          63,
          66,
          90,
          58,
          105,
          92,
          64,
          64,
          113,
          56,
          54,
          94,
          89,
          68,
          79,
          77,
          112,
          99,
          153,
          113,
          116,
          54,
          60,
          124,
          55,
          50,
          148,
          113,
          67,
          109,
          83,
          67,
          93,
          96,
          50,
          68,
          80,
          124,
          84,
          44,
          54,
          115,
          88,
          172,
          117,
          134,
          139,
          64,
          104,
          44,
          59,
          22,
          18,
          19,
          34,
          25,
          25,
          48,
          46,
          92,
          67,
          123,
          108,
          102,
          95,
          103,
          53,
          100,
          114,
          64,
          89,
          118,
          34,
          104,
          77,
          89,
          65,
          79,
          61,
          42,
          69,
          73,
          43,
          65,
          76,
          54,
          43,
          87,
          64,
          148,
          63,
          70,
          47,
          53,
          42,
          46,
          35,
          37,
          47,
          38,
          93,
          64,
          35,
          70,
          72,
          59,
          45,
          96,
          58,
          35,
          26,
          47,
          31,
          42,
          54,
          43,
          45,
          93,
          72,
          52,
          38,
          36,
          37,
          45,
          33,
          60,
          40,
          53,
          49,
          35,
          60,
          48,
          62,
          88,
          55,
          60,
          40,
          68,
          99,
          271,
          210,
          244,
          175,
          138,
          297,
          278,
          269,
          275,
          151,
          224,
          117,
          151,
          162,
          110,
          91,
          103,
          54,
          79,
          78,
          71,
          93,
          75,
          51,
          48,
          61,
          73,
          94,
          167,
          63,
          8,
          67,
          64,
          77,
          94,
          79,
          175,
          119,
          85,
          86,
          88,
          52,
          105,
          51,
          50,
          38,
          74,
          66,
          85,
          93,
          67,
          111,
          72,
          57,
          67,
          154,
          81,
          38,
          78,
          60,
          135,
          34,
          140,
          52,
          49,
          114,
          74,
          116,
          100,
          78,
          114,
          140,
          126,
          120,
          66,
          134,
          86,
          85,
          137,
          12,
          91,
          43,
          142,
          92,
          136,
          46,
          131,
          111,
          43,
          97,
          105,
          90,
          57,
          79,
          118,
          30,
          95,
          79,
          81,
          67,
          4,
          67,
          174,
          62,
          107,
          40,
          47,
          76,
          117,
          90,
          65,
          84,
          89,
          68,
          59,
          13,
          171,
          93,
          122,
          81,
          76,
          126,
          170,
          124,
          99,
          166,
          115,
          97,
          66,
          74,
          74,
          72,
          85,
          141,
          112,
          80,
          155,
          57,
          134,
          114,
          76,
          67,
          136,
          54,
          99,
          121,
          65,
          42,
          110,
          73,
          102,
          73,
          79,
          152,
          58,
          65,
          50,
          90,
          45,
          60,
          129,
          71,
          67,
          90,
          67,
          76,
          39,
          113,
          34,
          139,
          31,
          91,
          38,
          62,
          62,
          136,
          101,
          63,
          95,
          82,
          107,
          68,
          30,
          49,
          108,
          31,
          145,
          114,
          73,
          65,
          64,
          76,
          83,
          7,
          37,
          46,
          37,
          65,
          62,
          54,
          77,
          61,
          72,
          62,
          48,
          42,
          67,
          35,
          71,
          68,
          58,
          57,
          77,
          47,
          50,
          70,
          115,
          114,
          84,
          74,
          91,
          54,
          100,
          47,
          74,
          96,
          81,
          72,
          40,
          82,
          107,
          70,
          59,
          122,
          44,
          62,
          72,
          73,
          35,
          66,
          78,
          183,
          84,
          88,
          71,
          142,
          151,
          93,
          60,
          147,
          105,
          88,
          140,
          69,
          94,
          55,
          137,
          78,
          61,
          129,
          164,
          66,
          6,
          48,
          73,
          68,
          96,
          77,
          111,
          71,
          119,
          110,
          109,
          108,
          88,
          92,
          69,
          147,
          94,
          87,
          174,
          70,
          44,
          89,
          64,
          99,
          84,
          105,
          103,
          60,
          102,
          75,
          100,
          81,
          85,
          34,
          76
         ],
         "xaxis": "x",
         "yaxis": "y"
        }
       ],
       "layout": {
        "barmode": "relative",
        "legend": {
         "tracegroupgap": 0
        },
        "template": {
         "data": {
          "bar": [
           {
            "error_x": {
             "color": "#2a3f5f"
            },
            "error_y": {
             "color": "#2a3f5f"
            },
            "marker": {
             "line": {
              "color": "#E5ECF6",
              "width": 0.5
             },
             "pattern": {
              "fillmode": "overlay",
              "size": 10,
              "solidity": 0.2
             }
            },
            "type": "bar"
           }
          ],
          "barpolar": [
           {
            "marker": {
             "line": {
              "color": "#E5ECF6",
              "width": 0.5
             },
             "pattern": {
              "fillmode": "overlay",
              "size": 10,
              "solidity": 0.2
             }
            },
            "type": "barpolar"
           }
          ],
          "carpet": [
           {
            "aaxis": {
             "endlinecolor": "#2a3f5f",
             "gridcolor": "white",
             "linecolor": "white",
             "minorgridcolor": "white",
             "startlinecolor": "#2a3f5f"
            },
            "baxis": {
             "endlinecolor": "#2a3f5f",
             "gridcolor": "white",
             "linecolor": "white",
             "minorgridcolor": "white",
             "startlinecolor": "#2a3f5f"
            },
            "type": "carpet"
           }
          ],
          "choropleth": [
           {
            "colorbar": {
             "outlinewidth": 0,
             "ticks": ""
            },
            "type": "choropleth"
           }
          ],
          "contour": [
           {
            "colorbar": {
             "outlinewidth": 0,
             "ticks": ""
            },
            "colorscale": [
             [
              0,
              "#0d0887"
             ],
             [
              0.1111111111111111,
              "#46039f"
             ],
             [
              0.2222222222222222,
              "#7201a8"
             ],
             [
              0.3333333333333333,
              "#9c179e"
             ],
             [
              0.4444444444444444,
              "#bd3786"
             ],
             [
              0.5555555555555556,
              "#d8576b"
             ],
             [
              0.6666666666666666,
              "#ed7953"
             ],
             [
              0.7777777777777778,
              "#fb9f3a"
             ],
             [
              0.8888888888888888,
              "#fdca26"
             ],
             [
              1,
              "#f0f921"
             ]
            ],
            "type": "contour"
           }
          ],
          "contourcarpet": [
           {
            "colorbar": {
             "outlinewidth": 0,
             "ticks": ""
            },
            "type": "contourcarpet"
           }
          ],
          "heatmap": [
           {
            "colorbar": {
             "outlinewidth": 0,
             "ticks": ""
            },
            "colorscale": [
             [
              0,
              "#0d0887"
             ],
             [
              0.1111111111111111,
              "#46039f"
             ],
             [
              0.2222222222222222,
              "#7201a8"
             ],
             [
              0.3333333333333333,
              "#9c179e"
             ],
             [
              0.4444444444444444,
              "#bd3786"
             ],
             [
              0.5555555555555556,
              "#d8576b"
             ],
             [
              0.6666666666666666,
              "#ed7953"
             ],
             [
              0.7777777777777778,
              "#fb9f3a"
             ],
             [
              0.8888888888888888,
              "#fdca26"
             ],
             [
              1,
              "#f0f921"
             ]
            ],
            "type": "heatmap"
           }
          ],
          "heatmapgl": [
           {
            "colorbar": {
             "outlinewidth": 0,
             "ticks": ""
            },
            "colorscale": [
             [
              0,
              "#0d0887"
             ],
             [
              0.1111111111111111,
              "#46039f"
             ],
             [
              0.2222222222222222,
              "#7201a8"
             ],
             [
              0.3333333333333333,
              "#9c179e"
             ],
             [
              0.4444444444444444,
              "#bd3786"
             ],
             [
              0.5555555555555556,
              "#d8576b"
             ],
             [
              0.6666666666666666,
              "#ed7953"
             ],
             [
              0.7777777777777778,
              "#fb9f3a"
             ],
             [
              0.8888888888888888,
              "#fdca26"
             ],
             [
              1,
              "#f0f921"
             ]
            ],
            "type": "heatmapgl"
           }
          ],
          "histogram": [
           {
            "marker": {
             "pattern": {
              "fillmode": "overlay",
              "size": 10,
              "solidity": 0.2
             }
            },
            "type": "histogram"
           }
          ],
          "histogram2d": [
           {
            "colorbar": {
             "outlinewidth": 0,
             "ticks": ""
            },
            "colorscale": [
             [
              0,
              "#0d0887"
             ],
             [
              0.1111111111111111,
              "#46039f"
             ],
             [
              0.2222222222222222,
              "#7201a8"
             ],
             [
              0.3333333333333333,
              "#9c179e"
             ],
             [
              0.4444444444444444,
              "#bd3786"
             ],
             [
              0.5555555555555556,
              "#d8576b"
             ],
             [
              0.6666666666666666,
              "#ed7953"
             ],
             [
              0.7777777777777778,
              "#fb9f3a"
             ],
             [
              0.8888888888888888,
              "#fdca26"
             ],
             [
              1,
              "#f0f921"
             ]
            ],
            "type": "histogram2d"
           }
          ],
          "histogram2dcontour": [
           {
            "colorbar": {
             "outlinewidth": 0,
             "ticks": ""
            },
            "colorscale": [
             [
              0,
              "#0d0887"
             ],
             [
              0.1111111111111111,
              "#46039f"
             ],
             [
              0.2222222222222222,
              "#7201a8"
             ],
             [
              0.3333333333333333,
              "#9c179e"
             ],
             [
              0.4444444444444444,
              "#bd3786"
             ],
             [
              0.5555555555555556,
              "#d8576b"
             ],
             [
              0.6666666666666666,
              "#ed7953"
             ],
             [
              0.7777777777777778,
              "#fb9f3a"
             ],
             [
              0.8888888888888888,
              "#fdca26"
             ],
             [
              1,
              "#f0f921"
             ]
            ],
            "type": "histogram2dcontour"
           }
          ],
          "mesh3d": [
           {
            "colorbar": {
             "outlinewidth": 0,
             "ticks": ""
            },
            "type": "mesh3d"
           }
          ],
          "parcoords": [
           {
            "line": {
             "colorbar": {
              "outlinewidth": 0,
              "ticks": ""
             }
            },
            "type": "parcoords"
           }
          ],
          "pie": [
           {
            "automargin": true,
            "type": "pie"
           }
          ],
          "scatter": [
           {
            "fillpattern": {
             "fillmode": "overlay",
             "size": 10,
             "solidity": 0.2
            },
            "type": "scatter"
           }
          ],
          "scatter3d": [
           {
            "line": {
             "colorbar": {
              "outlinewidth": 0,
              "ticks": ""
             }
            },
            "marker": {
             "colorbar": {
              "outlinewidth": 0,
              "ticks": ""
             }
            },
            "type": "scatter3d"
           }
          ],
          "scattercarpet": [
           {
            "marker": {
             "colorbar": {
              "outlinewidth": 0,
              "ticks": ""
             }
            },
            "type": "scattercarpet"
           }
          ],
          "scattergeo": [
           {
            "marker": {
             "colorbar": {
              "outlinewidth": 0,
              "ticks": ""
             }
            },
            "type": "scattergeo"
           }
          ],
          "scattergl": [
           {
            "marker": {
             "colorbar": {
              "outlinewidth": 0,
              "ticks": ""
             }
            },
            "type": "scattergl"
           }
          ],
          "scattermapbox": [
           {
            "marker": {
             "colorbar": {
              "outlinewidth": 0,
              "ticks": ""
             }
            },
            "type": "scattermapbox"
           }
          ],
          "scatterpolar": [
           {
            "marker": {
             "colorbar": {
              "outlinewidth": 0,
              "ticks": ""
             }
            },
            "type": "scatterpolar"
           }
          ],
          "scatterpolargl": [
           {
            "marker": {
             "colorbar": {
              "outlinewidth": 0,
              "ticks": ""
             }
            },
            "type": "scatterpolargl"
           }
          ],
          "scatterternary": [
           {
            "marker": {
             "colorbar": {
              "outlinewidth": 0,
              "ticks": ""
             }
            },
            "type": "scatterternary"
           }
          ],
          "surface": [
           {
            "colorbar": {
             "outlinewidth": 0,
             "ticks": ""
            },
            "colorscale": [
             [
              0,
              "#0d0887"
             ],
             [
              0.1111111111111111,
              "#46039f"
             ],
             [
              0.2222222222222222,
              "#7201a8"
             ],
             [
              0.3333333333333333,
              "#9c179e"
             ],
             [
              0.4444444444444444,
              "#bd3786"
             ],
             [
              0.5555555555555556,
              "#d8576b"
             ],
             [
              0.6666666666666666,
              "#ed7953"
             ],
             [
              0.7777777777777778,
              "#fb9f3a"
             ],
             [
              0.8888888888888888,
              "#fdca26"
             ],
             [
              1,
              "#f0f921"
             ]
            ],
            "type": "surface"
           }
          ],
          "table": [
           {
            "cells": {
             "fill": {
              "color": "#EBF0F8"
             },
             "line": {
              "color": "white"
             }
            },
            "header": {
             "fill": {
              "color": "#C8D4E3"
             },
             "line": {
              "color": "white"
             }
            },
            "type": "table"
           }
          ]
         },
         "layout": {
          "annotationdefaults": {
           "arrowcolor": "#2a3f5f",
           "arrowhead": 0,
           "arrowwidth": 1
          },
          "autotypenumbers": "strict",
          "coloraxis": {
           "colorbar": {
            "outlinewidth": 0,
            "ticks": ""
           }
          },
          "colorscale": {
           "diverging": [
            [
             0,
             "#8e0152"
            ],
            [
             0.1,
             "#c51b7d"
            ],
            [
             0.2,
             "#de77ae"
            ],
            [
             0.3,
             "#f1b6da"
            ],
            [
             0.4,
             "#fde0ef"
            ],
            [
             0.5,
             "#f7f7f7"
            ],
            [
             0.6,
             "#e6f5d0"
            ],
            [
             0.7,
             "#b8e186"
            ],
            [
             0.8,
             "#7fbc41"
            ],
            [
             0.9,
             "#4d9221"
            ],
            [
             1,
             "#276419"
            ]
           ],
           "sequential": [
            [
             0,
             "#0d0887"
            ],
            [
             0.1111111111111111,
             "#46039f"
            ],
            [
             0.2222222222222222,
             "#7201a8"
            ],
            [
             0.3333333333333333,
             "#9c179e"
            ],
            [
             0.4444444444444444,
             "#bd3786"
            ],
            [
             0.5555555555555556,
             "#d8576b"
            ],
            [
             0.6666666666666666,
             "#ed7953"
            ],
            [
             0.7777777777777778,
             "#fb9f3a"
            ],
            [
             0.8888888888888888,
             "#fdca26"
            ],
            [
             1,
             "#f0f921"
            ]
           ],
           "sequentialminus": [
            [
             0,
             "#0d0887"
            ],
            [
             0.1111111111111111,
             "#46039f"
            ],
            [
             0.2222222222222222,
             "#7201a8"
            ],
            [
             0.3333333333333333,
             "#9c179e"
            ],
            [
             0.4444444444444444,
             "#bd3786"
            ],
            [
             0.5555555555555556,
             "#d8576b"
            ],
            [
             0.6666666666666666,
             "#ed7953"
            ],
            [
             0.7777777777777778,
             "#fb9f3a"
            ],
            [
             0.8888888888888888,
             "#fdca26"
            ],
            [
             1,
             "#f0f921"
            ]
           ]
          },
          "colorway": [
           "#636efa",
           "#EF553B",
           "#00cc96",
           "#ab63fa",
           "#FFA15A",
           "#19d3f3",
           "#FF6692",
           "#B6E880",
           "#FF97FF",
           "#FECB52"
          ],
          "font": {
           "color": "#2a3f5f"
          },
          "geo": {
           "bgcolor": "white",
           "lakecolor": "white",
           "landcolor": "#E5ECF6",
           "showlakes": true,
           "showland": true,
           "subunitcolor": "white"
          },
          "hoverlabel": {
           "align": "left"
          },
          "hovermode": "closest",
          "mapbox": {
           "style": "light"
          },
          "paper_bgcolor": "white",
          "plot_bgcolor": "#E5ECF6",
          "polar": {
           "angularaxis": {
            "gridcolor": "white",
            "linecolor": "white",
            "ticks": ""
           },
           "bgcolor": "#E5ECF6",
           "radialaxis": {
            "gridcolor": "white",
            "linecolor": "white",
            "ticks": ""
           }
          },
          "scene": {
           "xaxis": {
            "backgroundcolor": "#E5ECF6",
            "gridcolor": "white",
            "gridwidth": 2,
            "linecolor": "white",
            "showbackground": true,
            "ticks": "",
            "zerolinecolor": "white"
           },
           "yaxis": {
            "backgroundcolor": "#E5ECF6",
            "gridcolor": "white",
            "gridwidth": 2,
            "linecolor": "white",
            "showbackground": true,
            "ticks": "",
            "zerolinecolor": "white"
           },
           "zaxis": {
            "backgroundcolor": "#E5ECF6",
            "gridcolor": "white",
            "gridwidth": 2,
            "linecolor": "white",
            "showbackground": true,
            "ticks": "",
            "zerolinecolor": "white"
           }
          },
          "shapedefaults": {
           "line": {
            "color": "#2a3f5f"
           }
          },
          "ternary": {
           "aaxis": {
            "gridcolor": "white",
            "linecolor": "white",
            "ticks": ""
           },
           "baxis": {
            "gridcolor": "white",
            "linecolor": "white",
            "ticks": ""
           },
           "bgcolor": "#E5ECF6",
           "caxis": {
            "gridcolor": "white",
            "linecolor": "white",
            "ticks": ""
           }
          },
          "title": {
           "x": 0.05
          },
          "xaxis": {
           "automargin": true,
           "gridcolor": "white",
           "linecolor": "white",
           "ticks": "",
           "title": {
            "standoff": 15
           },
           "zerolinecolor": "white",
           "zerolinewidth": 2
          },
          "yaxis": {
           "automargin": true,
           "gridcolor": "white",
           "linecolor": "white",
           "ticks": "",
           "title": {
            "standoff": 15
           },
           "zerolinecolor": "white",
           "zerolinewidth": 2
          }
         }
        },
        "title": {
         "text": "Words per song"
        },
        "xaxis": {
         "anchor": "y",
         "domain": [
          0,
          1
         ],
         "title": {
          "text": "n_stems_en"
         }
        },
        "yaxis": {
         "anchor": "x",
         "domain": [
          0,
          1
         ],
         "title": {
          "text": "count"
         }
        }
       }
      },
      "text/html": [
       "<div>                            <div id=\"cbda358e-b249-48ad-b82e-540ffdfee979\" class=\"plotly-graph-div\" style=\"height:525px; width:100%;\"></div>            <script type=\"text/javascript\">                require([\"plotly\"], function(Plotly) {                    window.PLOTLYENV=window.PLOTLYENV || {};                                    if (document.getElementById(\"cbda358e-b249-48ad-b82e-540ffdfee979\")) {                    Plotly.newPlot(                        \"cbda358e-b249-48ad-b82e-540ffdfee979\",                        [{\"alignmentgroup\":\"True\",\"bingroup\":\"x\",\"hovertemplate\":\"n_stems_en=%{x}<br>count=%{y}<extra></extra>\",\"legendgroup\":\"\",\"marker\":{\"color\":\"#636efa\",\"pattern\":{\"shape\":\"\"}},\"name\":\"\",\"offsetgroup\":\"\",\"orientation\":\"v\",\"showlegend\":false,\"x\":[128,84,76,71,69,44,60,132,44,105,41,62,91,111,52,58,64,95,106,88,106,57,130,149,55,84,95,182,199,116,108,113,52,118,20,73,108,61,69,58,99,89,138,85,69,84,70,161,195,61,124,78,113,94,156,120,64,57,54,68,103,53,146,135,91,118,95,105,28,60,63,66,90,58,105,92,64,64,113,56,54,94,89,68,79,77,112,99,153,113,116,54,60,124,55,50,148,113,67,109,83,67,93,96,50,68,80,124,84,44,54,115,88,172,117,134,139,64,104,44,59,22,18,19,34,25,25,48,46,92,67,123,108,102,95,103,53,100,114,64,89,118,34,104,77,89,65,79,61,42,69,73,43,65,76,54,43,87,64,148,63,70,47,53,42,46,35,37,47,38,93,64,35,70,72,59,45,96,58,35,26,47,31,42,54,43,45,93,72,52,38,36,37,45,33,60,40,53,49,35,60,48,62,88,55,60,40,68,99,271,210,244,175,138,297,278,269,275,151,224,117,151,162,110,91,103,54,79,78,71,93,75,51,48,61,73,94,167,63,8,67,64,77,94,79,175,119,85,86,88,52,105,51,50,38,74,66,85,93,67,111,72,57,67,154,81,38,78,60,135,34,140,52,49,114,74,116,100,78,114,140,126,120,66,134,86,85,137,12,91,43,142,92,136,46,131,111,43,97,105,90,57,79,118,30,95,79,81,67,4,67,174,62,107,40,47,76,117,90,65,84,89,68,59,13,171,93,122,81,76,126,170,124,99,166,115,97,66,74,74,72,85,141,112,80,155,57,134,114,76,67,136,54,99,121,65,42,110,73,102,73,79,152,58,65,50,90,45,60,129,71,67,90,67,76,39,113,34,139,31,91,38,62,62,136,101,63,95,82,107,68,30,49,108,31,145,114,73,65,64,76,83,7,37,46,37,65,62,54,77,61,72,62,48,42,67,35,71,68,58,57,77,47,50,70,115,114,84,74,91,54,100,47,74,96,81,72,40,82,107,70,59,122,44,62,72,73,35,66,78,183,84,88,71,142,151,93,60,147,105,88,140,69,94,55,137,78,61,129,164,66,6,48,73,68,96,77,111,71,119,110,109,108,88,92,69,147,94,87,174,70,44,89,64,99,84,105,103,60,102,75,100,81,85,34,76],\"xaxis\":\"x\",\"yaxis\":\"y\",\"type\":\"histogram\"}],                        {\"template\":{\"data\":{\"histogram2dcontour\":[{\"type\":\"histogram2dcontour\",\"colorbar\":{\"outlinewidth\":0,\"ticks\":\"\"},\"colorscale\":[[0.0,\"#0d0887\"],[0.1111111111111111,\"#46039f\"],[0.2222222222222222,\"#7201a8\"],[0.3333333333333333,\"#9c179e\"],[0.4444444444444444,\"#bd3786\"],[0.5555555555555556,\"#d8576b\"],[0.6666666666666666,\"#ed7953\"],[0.7777777777777778,\"#fb9f3a\"],[0.8888888888888888,\"#fdca26\"],[1.0,\"#f0f921\"]]}],\"choropleth\":[{\"type\":\"choropleth\",\"colorbar\":{\"outlinewidth\":0,\"ticks\":\"\"}}],\"histogram2d\":[{\"type\":\"histogram2d\",\"colorbar\":{\"outlinewidth\":0,\"ticks\":\"\"},\"colorscale\":[[0.0,\"#0d0887\"],[0.1111111111111111,\"#46039f\"],[0.2222222222222222,\"#7201a8\"],[0.3333333333333333,\"#9c179e\"],[0.4444444444444444,\"#bd3786\"],[0.5555555555555556,\"#d8576b\"],[0.6666666666666666,\"#ed7953\"],[0.7777777777777778,\"#fb9f3a\"],[0.8888888888888888,\"#fdca26\"],[1.0,\"#f0f921\"]]}],\"heatmap\":[{\"type\":\"heatmap\",\"colorbar\":{\"outlinewidth\":0,\"ticks\":\"\"},\"colorscale\":[[0.0,\"#0d0887\"],[0.1111111111111111,\"#46039f\"],[0.2222222222222222,\"#7201a8\"],[0.3333333333333333,\"#9c179e\"],[0.4444444444444444,\"#bd3786\"],[0.5555555555555556,\"#d8576b\"],[0.6666666666666666,\"#ed7953\"],[0.7777777777777778,\"#fb9f3a\"],[0.8888888888888888,\"#fdca26\"],[1.0,\"#f0f921\"]]}],\"heatmapgl\":[{\"type\":\"heatmapgl\",\"colorbar\":{\"outlinewidth\":0,\"ticks\":\"\"},\"colorscale\":[[0.0,\"#0d0887\"],[0.1111111111111111,\"#46039f\"],[0.2222222222222222,\"#7201a8\"],[0.3333333333333333,\"#9c179e\"],[0.4444444444444444,\"#bd3786\"],[0.5555555555555556,\"#d8576b\"],[0.6666666666666666,\"#ed7953\"],[0.7777777777777778,\"#fb9f3a\"],[0.8888888888888888,\"#fdca26\"],[1.0,\"#f0f921\"]]}],\"contourcarpet\":[{\"type\":\"contourcarpet\",\"colorbar\":{\"outlinewidth\":0,\"ticks\":\"\"}}],\"contour\":[{\"type\":\"contour\",\"colorbar\":{\"outlinewidth\":0,\"ticks\":\"\"},\"colorscale\":[[0.0,\"#0d0887\"],[0.1111111111111111,\"#46039f\"],[0.2222222222222222,\"#7201a8\"],[0.3333333333333333,\"#9c179e\"],[0.4444444444444444,\"#bd3786\"],[0.5555555555555556,\"#d8576b\"],[0.6666666666666666,\"#ed7953\"],[0.7777777777777778,\"#fb9f3a\"],[0.8888888888888888,\"#fdca26\"],[1.0,\"#f0f921\"]]}],\"surface\":[{\"type\":\"surface\",\"colorbar\":{\"outlinewidth\":0,\"ticks\":\"\"},\"colorscale\":[[0.0,\"#0d0887\"],[0.1111111111111111,\"#46039f\"],[0.2222222222222222,\"#7201a8\"],[0.3333333333333333,\"#9c179e\"],[0.4444444444444444,\"#bd3786\"],[0.5555555555555556,\"#d8576b\"],[0.6666666666666666,\"#ed7953\"],[0.7777777777777778,\"#fb9f3a\"],[0.8888888888888888,\"#fdca26\"],[1.0,\"#f0f921\"]]}],\"mesh3d\":[{\"type\":\"mesh3d\",\"colorbar\":{\"outlinewidth\":0,\"ticks\":\"\"}}],\"scatter\":[{\"fillpattern\":{\"fillmode\":\"overlay\",\"size\":10,\"solidity\":0.2},\"type\":\"scatter\"}],\"parcoords\":[{\"type\":\"parcoords\",\"line\":{\"colorbar\":{\"outlinewidth\":0,\"ticks\":\"\"}}}],\"scatterpolargl\":[{\"type\":\"scatterpolargl\",\"marker\":{\"colorbar\":{\"outlinewidth\":0,\"ticks\":\"\"}}}],\"bar\":[{\"error_x\":{\"color\":\"#2a3f5f\"},\"error_y\":{\"color\":\"#2a3f5f\"},\"marker\":{\"line\":{\"color\":\"#E5ECF6\",\"width\":0.5},\"pattern\":{\"fillmode\":\"overlay\",\"size\":10,\"solidity\":0.2}},\"type\":\"bar\"}],\"scattergeo\":[{\"type\":\"scattergeo\",\"marker\":{\"colorbar\":{\"outlinewidth\":0,\"ticks\":\"\"}}}],\"scatterpolar\":[{\"type\":\"scatterpolar\",\"marker\":{\"colorbar\":{\"outlinewidth\":0,\"ticks\":\"\"}}}],\"histogram\":[{\"marker\":{\"pattern\":{\"fillmode\":\"overlay\",\"size\":10,\"solidity\":0.2}},\"type\":\"histogram\"}],\"scattergl\":[{\"type\":\"scattergl\",\"marker\":{\"colorbar\":{\"outlinewidth\":0,\"ticks\":\"\"}}}],\"scatter3d\":[{\"type\":\"scatter3d\",\"line\":{\"colorbar\":{\"outlinewidth\":0,\"ticks\":\"\"}},\"marker\":{\"colorbar\":{\"outlinewidth\":0,\"ticks\":\"\"}}}],\"scattermapbox\":[{\"type\":\"scattermapbox\",\"marker\":{\"colorbar\":{\"outlinewidth\":0,\"ticks\":\"\"}}}],\"scatterternary\":[{\"type\":\"scatterternary\",\"marker\":{\"colorbar\":{\"outlinewidth\":0,\"ticks\":\"\"}}}],\"scattercarpet\":[{\"type\":\"scattercarpet\",\"marker\":{\"colorbar\":{\"outlinewidth\":0,\"ticks\":\"\"}}}],\"carpet\":[{\"aaxis\":{\"endlinecolor\":\"#2a3f5f\",\"gridcolor\":\"white\",\"linecolor\":\"white\",\"minorgridcolor\":\"white\",\"startlinecolor\":\"#2a3f5f\"},\"baxis\":{\"endlinecolor\":\"#2a3f5f\",\"gridcolor\":\"white\",\"linecolor\":\"white\",\"minorgridcolor\":\"white\",\"startlinecolor\":\"#2a3f5f\"},\"type\":\"carpet\"}],\"table\":[{\"cells\":{\"fill\":{\"color\":\"#EBF0F8\"},\"line\":{\"color\":\"white\"}},\"header\":{\"fill\":{\"color\":\"#C8D4E3\"},\"line\":{\"color\":\"white\"}},\"type\":\"table\"}],\"barpolar\":[{\"marker\":{\"line\":{\"color\":\"#E5ECF6\",\"width\":0.5},\"pattern\":{\"fillmode\":\"overlay\",\"size\":10,\"solidity\":0.2}},\"type\":\"barpolar\"}],\"pie\":[{\"automargin\":true,\"type\":\"pie\"}]},\"layout\":{\"autotypenumbers\":\"strict\",\"colorway\":[\"#636efa\",\"#EF553B\",\"#00cc96\",\"#ab63fa\",\"#FFA15A\",\"#19d3f3\",\"#FF6692\",\"#B6E880\",\"#FF97FF\",\"#FECB52\"],\"font\":{\"color\":\"#2a3f5f\"},\"hovermode\":\"closest\",\"hoverlabel\":{\"align\":\"left\"},\"paper_bgcolor\":\"white\",\"plot_bgcolor\":\"#E5ECF6\",\"polar\":{\"bgcolor\":\"#E5ECF6\",\"angularaxis\":{\"gridcolor\":\"white\",\"linecolor\":\"white\",\"ticks\":\"\"},\"radialaxis\":{\"gridcolor\":\"white\",\"linecolor\":\"white\",\"ticks\":\"\"}},\"ternary\":{\"bgcolor\":\"#E5ECF6\",\"aaxis\":{\"gridcolor\":\"white\",\"linecolor\":\"white\",\"ticks\":\"\"},\"baxis\":{\"gridcolor\":\"white\",\"linecolor\":\"white\",\"ticks\":\"\"},\"caxis\":{\"gridcolor\":\"white\",\"linecolor\":\"white\",\"ticks\":\"\"}},\"coloraxis\":{\"colorbar\":{\"outlinewidth\":0,\"ticks\":\"\"}},\"colorscale\":{\"sequential\":[[0.0,\"#0d0887\"],[0.1111111111111111,\"#46039f\"],[0.2222222222222222,\"#7201a8\"],[0.3333333333333333,\"#9c179e\"],[0.4444444444444444,\"#bd3786\"],[0.5555555555555556,\"#d8576b\"],[0.6666666666666666,\"#ed7953\"],[0.7777777777777778,\"#fb9f3a\"],[0.8888888888888888,\"#fdca26\"],[1.0,\"#f0f921\"]],\"sequentialminus\":[[0.0,\"#0d0887\"],[0.1111111111111111,\"#46039f\"],[0.2222222222222222,\"#7201a8\"],[0.3333333333333333,\"#9c179e\"],[0.4444444444444444,\"#bd3786\"],[0.5555555555555556,\"#d8576b\"],[0.6666666666666666,\"#ed7953\"],[0.7777777777777778,\"#fb9f3a\"],[0.8888888888888888,\"#fdca26\"],[1.0,\"#f0f921\"]],\"diverging\":[[0,\"#8e0152\"],[0.1,\"#c51b7d\"],[0.2,\"#de77ae\"],[0.3,\"#f1b6da\"],[0.4,\"#fde0ef\"],[0.5,\"#f7f7f7\"],[0.6,\"#e6f5d0\"],[0.7,\"#b8e186\"],[0.8,\"#7fbc41\"],[0.9,\"#4d9221\"],[1,\"#276419\"]]},\"xaxis\":{\"gridcolor\":\"white\",\"linecolor\":\"white\",\"ticks\":\"\",\"title\":{\"standoff\":15},\"zerolinecolor\":\"white\",\"automargin\":true,\"zerolinewidth\":2},\"yaxis\":{\"gridcolor\":\"white\",\"linecolor\":\"white\",\"ticks\":\"\",\"title\":{\"standoff\":15},\"zerolinecolor\":\"white\",\"automargin\":true,\"zerolinewidth\":2},\"scene\":{\"xaxis\":{\"backgroundcolor\":\"#E5ECF6\",\"gridcolor\":\"white\",\"linecolor\":\"white\",\"showbackground\":true,\"ticks\":\"\",\"zerolinecolor\":\"white\",\"gridwidth\":2},\"yaxis\":{\"backgroundcolor\":\"#E5ECF6\",\"gridcolor\":\"white\",\"linecolor\":\"white\",\"showbackground\":true,\"ticks\":\"\",\"zerolinecolor\":\"white\",\"gridwidth\":2},\"zaxis\":{\"backgroundcolor\":\"#E5ECF6\",\"gridcolor\":\"white\",\"linecolor\":\"white\",\"showbackground\":true,\"ticks\":\"\",\"zerolinecolor\":\"white\",\"gridwidth\":2}},\"shapedefaults\":{\"line\":{\"color\":\"#2a3f5f\"}},\"annotationdefaults\":{\"arrowcolor\":\"#2a3f5f\",\"arrowhead\":0,\"arrowwidth\":1},\"geo\":{\"bgcolor\":\"white\",\"landcolor\":\"#E5ECF6\",\"subunitcolor\":\"white\",\"showland\":true,\"showlakes\":true,\"lakecolor\":\"white\"},\"title\":{\"x\":0.05},\"mapbox\":{\"style\":\"light\"}}},\"xaxis\":{\"anchor\":\"y\",\"domain\":[0.0,1.0],\"title\":{\"text\":\"n_stems_en\"}},\"yaxis\":{\"anchor\":\"x\",\"domain\":[0.0,1.0],\"title\":{\"text\":\"count\"}},\"legend\":{\"tracegroupgap\":0},\"title\":{\"text\":\"Words per song\"},\"barmode\":\"relative\"},                        {\"responsive\": true}                    ).then(function(){\n",
       "                            \n",
       "var gd = document.getElementById('cbda358e-b249-48ad-b82e-540ffdfee979');\n",
       "var x = new MutationObserver(function (mutations, observer) {{\n",
       "        var display = window.getComputedStyle(gd).display;\n",
       "        if (!display || display === 'none') {{\n",
       "            console.log([gd, 'removed!']);\n",
       "            Plotly.purge(gd);\n",
       "            observer.disconnect();\n",
       "        }}\n",
       "}});\n",
       "\n",
       "// Listen for the removal of the full notebook cells\n",
       "var notebookContainer = gd.closest('#notebook-container');\n",
       "if (notebookContainer) {{\n",
       "    x.observe(notebookContainer, {childList: true});\n",
       "}}\n",
       "\n",
       "// Listen for the clearing of the current output cell\n",
       "var outputEl = gd.closest('.output');\n",
       "if (outputEl) {{\n",
       "    x.observe(outputEl, {childList: true});\n",
       "}}\n",
       "\n",
       "                        })                };                });            </script>        </div>"
      ]
     },
     "metadata": {},
     "output_type": "display_data"
    }
   ],
   "source": [
    "# words per song\n",
    "fig = px.histogram(df, x='n_stems_en', title='Words per song')\n",
    "fig.show()"
   ]
  },
  {
   "cell_type": "code",
   "execution_count": 29,
   "metadata": {
    "colab": {
     "base_uri": "https://localhost:8080/",
     "height": 542
    },
    "id": "wWHivYRwyJ30",
    "outputId": "5224fc3a-9bd8-4981-ba0f-d81fa8169cae"
   },
   "outputs": [
    {
     "data": {
      "application/vnd.plotly.v1+json": {
       "config": {
        "plotlyServerURL": "https://plot.ly"
       },
       "data": [
        {
         "name": "English",
         "nbinsx": 20,
         "type": "histogram",
         "x": [
          128,
          84,
          76,
          71,
          69,
          44,
          60,
          132,
          44,
          105,
          41,
          62,
          91,
          111,
          52,
          58,
          64,
          95,
          106,
          88,
          106,
          57,
          130,
          149,
          55,
          84,
          95,
          182,
          199,
          116,
          108,
          113,
          52,
          118,
          20,
          73,
          108,
          61,
          69,
          58,
          99,
          89,
          138,
          85,
          69,
          84,
          70,
          161,
          195,
          61,
          124,
          78,
          113,
          94,
          156,
          120,
          64,
          57,
          54,
          68,
          103,
          53,
          146,
          135,
          91,
          118,
          95,
          105,
          28,
          60,
          63,
          66,
          90,
          58,
          105,
          92,
          64,
          64,
          113,
          56,
          54,
          94,
          89,
          68,
          79,
          77,
          112,
          99,
          153,
          113,
          116,
          54,
          60,
          124,
          55,
          50,
          148,
          113,
          67,
          109,
          83,
          67,
          93,
          96,
          50,
          68,
          80,
          124,
          84,
          44,
          54,
          115,
          88,
          172,
          117,
          134,
          139,
          64,
          104,
          44,
          59,
          22,
          18,
          19,
          34,
          25,
          25,
          48,
          46,
          92,
          67,
          123,
          108,
          102,
          95,
          103,
          53,
          100,
          114,
          64,
          89,
          118,
          34,
          104,
          77,
          89,
          65,
          79,
          61,
          42,
          69,
          73,
          43,
          65,
          76,
          54,
          43,
          87,
          64,
          148,
          63,
          70,
          47,
          53,
          42,
          46,
          35,
          37,
          47,
          38,
          93,
          64,
          35,
          70,
          72,
          59,
          45,
          96,
          58,
          35,
          26,
          47,
          31,
          42,
          54,
          43,
          45,
          93,
          72,
          52,
          38,
          36,
          37,
          45,
          33,
          60,
          40,
          53,
          49,
          35,
          60,
          48,
          62,
          88,
          55,
          60,
          40,
          68,
          99,
          271,
          210,
          244,
          175,
          138,
          297,
          278,
          269,
          275,
          151,
          224,
          117,
          151,
          162,
          110,
          91,
          103,
          54,
          79,
          78,
          71,
          93,
          75,
          51,
          48,
          61,
          73,
          94,
          167,
          63,
          8,
          67,
          64,
          77,
          94,
          79,
          175,
          119,
          85,
          86,
          88,
          52,
          105,
          51,
          50,
          38,
          74,
          66,
          85,
          93,
          67,
          111,
          72,
          57,
          67,
          154,
          81,
          38,
          78,
          60,
          135,
          34,
          140,
          52,
          49,
          114,
          74,
          116,
          100,
          78,
          114,
          140,
          126,
          120,
          66,
          134,
          86,
          85,
          137,
          12,
          91,
          43,
          142,
          92,
          136,
          46,
          131,
          111,
          43,
          97,
          105,
          90,
          57,
          79,
          118,
          30,
          95,
          79,
          81,
          67,
          4,
          67,
          174,
          62,
          107,
          40,
          47,
          76,
          117,
          90,
          65,
          84,
          89,
          68,
          59,
          13,
          171,
          93,
          122,
          81,
          76,
          126,
          170,
          124,
          99,
          166,
          115,
          97,
          66,
          74,
          74,
          72,
          85,
          141,
          112,
          80,
          155,
          57,
          134,
          114,
          76,
          67,
          136,
          54,
          99,
          121,
          65,
          42,
          110,
          73,
          102,
          73,
          79,
          152,
          58,
          65,
          50,
          90,
          45,
          60,
          129,
          71,
          67,
          90,
          67,
          76,
          39,
          113,
          34,
          139,
          31,
          91,
          38,
          62,
          62,
          136,
          101,
          63,
          95,
          82,
          107,
          68,
          30,
          49,
          108,
          31,
          145,
          114,
          73,
          65,
          64,
          76,
          83,
          7,
          37,
          46,
          37,
          65,
          62,
          54,
          77,
          61,
          72,
          62,
          48,
          42,
          67,
          35,
          71,
          68,
          58,
          57,
          77,
          47,
          50,
          70,
          115,
          114,
          84,
          74,
          91,
          54,
          100,
          47,
          74,
          96,
          81,
          72,
          40,
          82,
          107,
          70,
          59,
          122,
          44,
          62,
          72,
          73,
          35,
          66,
          78,
          183,
          84,
          88,
          71,
          142,
          151,
          93,
          60,
          147,
          105,
          88,
          140,
          69,
          94,
          55,
          137,
          78,
          61,
          129,
          164,
          66,
          6,
          48,
          73,
          68,
          96,
          77,
          111,
          71,
          119,
          110,
          109,
          108,
          88,
          92,
          69,
          147,
          94,
          87,
          174,
          70,
          44,
          89,
          64,
          99,
          84,
          105,
          103,
          60,
          102,
          75,
          100,
          81,
          85,
          34,
          76
         ],
         "xaxis": "x",
         "yaxis": "y"
        },
        {
         "name": "Armenian",
         "nbinsx": 20,
         "type": "histogram",
         "x": [
          170,
          130,
          97,
          90,
          92,
          52,
          71,
          162,
          55,
          134,
          53,
          90,
          109,
          141,
          74,
          70,
          86,
          134,
          166,
          123,
          141,
          93,
          170,
          180,
          85,
          117,
          113,
          258,
          290,
          157,
          129,
          154,
          72,
          150,
          24,
          97,
          140,
          79,
          100,
          69,
          141,
          135,
          177,
          116,
          90,
          114,
          96,
          227,
          233,
          80,
          164,
          102,
          136,
          127,
          203,
          150,
          94,
          98,
          72,
          101,
          145,
          86,
          174,
          181,
          117,
          127,
          136,
          150,
          39,
          79,
          82,
          99,
          118,
          88,
          145,
          131,
          101,
          94,
          136,
          72,
          85,
          113,
          138,
          111,
          90,
          118,
          153,
          136,
          232,
          129,
          165,
          70,
          79,
          176,
          92,
          77,
          227,
          169,
          106,
          148,
          114,
          88,
          126,
          136,
          70,
          110,
          109,
          174,
          137,
          66,
          70,
          152,
          135,
          240,
          164,
          182,
          183,
          74,
          121,
          52,
          66,
          21,
          25,
          22,
          39,
          37,
          28,
          62,
          53,
          132,
          77,
          154,
          166,
          159,
          144,
          158,
          72,
          155,
          166,
          94,
          115,
          167,
          44,
          178,
          109,
          109,
          94,
          103,
          99,
          58,
          77,
          92,
          56,
          67,
          93,
          62,
          49,
          113,
          70,
          195,
          91,
          96,
          56,
          62,
          60,
          61,
          51,
          58,
          55,
          51,
          115,
          77,
          50,
          79,
          92,
          74,
          67,
          118,
          74,
          39,
          34,
          59,
          44,
          50,
          92,
          53,
          61,
          122,
          105,
          60,
          63,
          45,
          52,
          61,
          45,
          90,
          48,
          70,
          65,
          62,
          93,
          58,
          87,
          99,
          75,
          74,
          59,
          90,
          132,
          409,
          310,
          348,
          288,
          211,
          486,
          427,
          383,
          425,
          241,
          386,
          167,
          271,
          239,
          178,
          156,
          137,
          68,
          94,
          107,
          111,
          132,
          88,
          66,
          68,
          70,
          125,
          147,
          219,
          90,
          8,
          110,
          104,
          97,
          151,
          110,
          190,
          174,
          113,
          106,
          132,
          69,
          124,
          66,
          81,
          63,
          115,
          111,
          113,
          120,
          102,
          152,
          106,
          76,
          131,
          233,
          118,
          51,
          125,
          84,
          179,
          44,
          146,
          77,
          72,
          164,
          105,
          191,
          156,
          141,
          214,
          210,
          180,
          203,
          135,
          194,
          140,
          138,
          186,
          26,
          174,
          56,
          215,
          127,
          171,
          138,
          184,
          177,
          69,
          173,
          185,
          105,
          90,
          97,
          133,
          40,
          114,
          106,
          107,
          73,
          6,
          118,
          225,
          102,
          140,
          48,
          72,
          125,
          138,
          131,
          88,
          112,
          126,
          80,
          91,
          18,
          265,
          135,
          173,
          101,
          99,
          177,
          227,
          181,
          149,
          223,
          165,
          164,
          78,
          115,
          104,
          85,
          107,
          214,
          162,
          117,
          273,
          75,
          166,
          170,
          111,
          104,
          175,
          108,
          163,
          198,
          78,
          72,
          148,
          96,
          156,
          90,
          135,
          182,
          91,
          91,
          73,
          128,
          82,
          113,
          170,
          91,
          79,
          105,
          91,
          103,
          58,
          154,
          49,
          153,
          40,
          114,
          54,
          67,
          82,
          153,
          114,
          105,
          117,
          117,
          149,
          82,
          58,
          71,
          158,
          39,
          188,
          165,
          88,
          92,
          73,
          116,
          105,
          8,
          55,
          65,
          56,
          103,
          73,
          69,
          117,
          79,
          103,
          86,
          65,
          54,
          75,
          50,
          93,
          100,
          85,
          86,
          96,
          70,
          75,
          95,
          149,
          139,
          119,
          100,
          129,
          75,
          149,
          72,
          89,
          163,
          114,
          103,
          61,
          125,
          149,
          118,
          100,
          215,
          70,
          95,
          97,
          107,
          48,
          111,
          88,
          212,
          97,
          134,
          105,
          196,
          208,
          128,
          88,
          184,
          136,
          108,
          183,
          108,
          109,
          80,
          211,
          131,
          100,
          208,
          254,
          105,
          6,
          81,
          107,
          127,
          140,
          120,
          185,
          124,
          176,
          181,
          161,
          177,
          130,
          144,
          89,
          255,
          143,
          139,
          254,
          149,
          68,
          153,
          110,
          155,
          137,
          141,
          163,
          89,
          181,
          114,
          145,
          115,
          137,
          52,
          104
         ],
         "xaxis": "x2",
         "yaxis": "y2"
        }
       ],
       "layout": {
        "barmode": "overlay",
        "template": {
         "data": {
          "bar": [
           {
            "error_x": {
             "color": "#2a3f5f"
            },
            "error_y": {
             "color": "#2a3f5f"
            },
            "marker": {
             "line": {
              "color": "#E5ECF6",
              "width": 0.5
             },
             "pattern": {
              "fillmode": "overlay",
              "size": 10,
              "solidity": 0.2
             }
            },
            "type": "bar"
           }
          ],
          "barpolar": [
           {
            "marker": {
             "line": {
              "color": "#E5ECF6",
              "width": 0.5
             },
             "pattern": {
              "fillmode": "overlay",
              "size": 10,
              "solidity": 0.2
             }
            },
            "type": "barpolar"
           }
          ],
          "carpet": [
           {
            "aaxis": {
             "endlinecolor": "#2a3f5f",
             "gridcolor": "white",
             "linecolor": "white",
             "minorgridcolor": "white",
             "startlinecolor": "#2a3f5f"
            },
            "baxis": {
             "endlinecolor": "#2a3f5f",
             "gridcolor": "white",
             "linecolor": "white",
             "minorgridcolor": "white",
             "startlinecolor": "#2a3f5f"
            },
            "type": "carpet"
           }
          ],
          "choropleth": [
           {
            "colorbar": {
             "outlinewidth": 0,
             "ticks": ""
            },
            "type": "choropleth"
           }
          ],
          "contour": [
           {
            "colorbar": {
             "outlinewidth": 0,
             "ticks": ""
            },
            "colorscale": [
             [
              0,
              "#0d0887"
             ],
             [
              0.1111111111111111,
              "#46039f"
             ],
             [
              0.2222222222222222,
              "#7201a8"
             ],
             [
              0.3333333333333333,
              "#9c179e"
             ],
             [
              0.4444444444444444,
              "#bd3786"
             ],
             [
              0.5555555555555556,
              "#d8576b"
             ],
             [
              0.6666666666666666,
              "#ed7953"
             ],
             [
              0.7777777777777778,
              "#fb9f3a"
             ],
             [
              0.8888888888888888,
              "#fdca26"
             ],
             [
              1,
              "#f0f921"
             ]
            ],
            "type": "contour"
           }
          ],
          "contourcarpet": [
           {
            "colorbar": {
             "outlinewidth": 0,
             "ticks": ""
            },
            "type": "contourcarpet"
           }
          ],
          "heatmap": [
           {
            "colorbar": {
             "outlinewidth": 0,
             "ticks": ""
            },
            "colorscale": [
             [
              0,
              "#0d0887"
             ],
             [
              0.1111111111111111,
              "#46039f"
             ],
             [
              0.2222222222222222,
              "#7201a8"
             ],
             [
              0.3333333333333333,
              "#9c179e"
             ],
             [
              0.4444444444444444,
              "#bd3786"
             ],
             [
              0.5555555555555556,
              "#d8576b"
             ],
             [
              0.6666666666666666,
              "#ed7953"
             ],
             [
              0.7777777777777778,
              "#fb9f3a"
             ],
             [
              0.8888888888888888,
              "#fdca26"
             ],
             [
              1,
              "#f0f921"
             ]
            ],
            "type": "heatmap"
           }
          ],
          "heatmapgl": [
           {
            "colorbar": {
             "outlinewidth": 0,
             "ticks": ""
            },
            "colorscale": [
             [
              0,
              "#0d0887"
             ],
             [
              0.1111111111111111,
              "#46039f"
             ],
             [
              0.2222222222222222,
              "#7201a8"
             ],
             [
              0.3333333333333333,
              "#9c179e"
             ],
             [
              0.4444444444444444,
              "#bd3786"
             ],
             [
              0.5555555555555556,
              "#d8576b"
             ],
             [
              0.6666666666666666,
              "#ed7953"
             ],
             [
              0.7777777777777778,
              "#fb9f3a"
             ],
             [
              0.8888888888888888,
              "#fdca26"
             ],
             [
              1,
              "#f0f921"
             ]
            ],
            "type": "heatmapgl"
           }
          ],
          "histogram": [
           {
            "marker": {
             "pattern": {
              "fillmode": "overlay",
              "size": 10,
              "solidity": 0.2
             }
            },
            "type": "histogram"
           }
          ],
          "histogram2d": [
           {
            "colorbar": {
             "outlinewidth": 0,
             "ticks": ""
            },
            "colorscale": [
             [
              0,
              "#0d0887"
             ],
             [
              0.1111111111111111,
              "#46039f"
             ],
             [
              0.2222222222222222,
              "#7201a8"
             ],
             [
              0.3333333333333333,
              "#9c179e"
             ],
             [
              0.4444444444444444,
              "#bd3786"
             ],
             [
              0.5555555555555556,
              "#d8576b"
             ],
             [
              0.6666666666666666,
              "#ed7953"
             ],
             [
              0.7777777777777778,
              "#fb9f3a"
             ],
             [
              0.8888888888888888,
              "#fdca26"
             ],
             [
              1,
              "#f0f921"
             ]
            ],
            "type": "histogram2d"
           }
          ],
          "histogram2dcontour": [
           {
            "colorbar": {
             "outlinewidth": 0,
             "ticks": ""
            },
            "colorscale": [
             [
              0,
              "#0d0887"
             ],
             [
              0.1111111111111111,
              "#46039f"
             ],
             [
              0.2222222222222222,
              "#7201a8"
             ],
             [
              0.3333333333333333,
              "#9c179e"
             ],
             [
              0.4444444444444444,
              "#bd3786"
             ],
             [
              0.5555555555555556,
              "#d8576b"
             ],
             [
              0.6666666666666666,
              "#ed7953"
             ],
             [
              0.7777777777777778,
              "#fb9f3a"
             ],
             [
              0.8888888888888888,
              "#fdca26"
             ],
             [
              1,
              "#f0f921"
             ]
            ],
            "type": "histogram2dcontour"
           }
          ],
          "mesh3d": [
           {
            "colorbar": {
             "outlinewidth": 0,
             "ticks": ""
            },
            "type": "mesh3d"
           }
          ],
          "parcoords": [
           {
            "line": {
             "colorbar": {
              "outlinewidth": 0,
              "ticks": ""
             }
            },
            "type": "parcoords"
           }
          ],
          "pie": [
           {
            "automargin": true,
            "type": "pie"
           }
          ],
          "scatter": [
           {
            "fillpattern": {
             "fillmode": "overlay",
             "size": 10,
             "solidity": 0.2
            },
            "type": "scatter"
           }
          ],
          "scatter3d": [
           {
            "line": {
             "colorbar": {
              "outlinewidth": 0,
              "ticks": ""
             }
            },
            "marker": {
             "colorbar": {
              "outlinewidth": 0,
              "ticks": ""
             }
            },
            "type": "scatter3d"
           }
          ],
          "scattercarpet": [
           {
            "marker": {
             "colorbar": {
              "outlinewidth": 0,
              "ticks": ""
             }
            },
            "type": "scattercarpet"
           }
          ],
          "scattergeo": [
           {
            "marker": {
             "colorbar": {
              "outlinewidth": 0,
              "ticks": ""
             }
            },
            "type": "scattergeo"
           }
          ],
          "scattergl": [
           {
            "marker": {
             "colorbar": {
              "outlinewidth": 0,
              "ticks": ""
             }
            },
            "type": "scattergl"
           }
          ],
          "scattermapbox": [
           {
            "marker": {
             "colorbar": {
              "outlinewidth": 0,
              "ticks": ""
             }
            },
            "type": "scattermapbox"
           }
          ],
          "scatterpolar": [
           {
            "marker": {
             "colorbar": {
              "outlinewidth": 0,
              "ticks": ""
             }
            },
            "type": "scatterpolar"
           }
          ],
          "scatterpolargl": [
           {
            "marker": {
             "colorbar": {
              "outlinewidth": 0,
              "ticks": ""
             }
            },
            "type": "scatterpolargl"
           }
          ],
          "scatterternary": [
           {
            "marker": {
             "colorbar": {
              "outlinewidth": 0,
              "ticks": ""
             }
            },
            "type": "scatterternary"
           }
          ],
          "surface": [
           {
            "colorbar": {
             "outlinewidth": 0,
             "ticks": ""
            },
            "colorscale": [
             [
              0,
              "#0d0887"
             ],
             [
              0.1111111111111111,
              "#46039f"
             ],
             [
              0.2222222222222222,
              "#7201a8"
             ],
             [
              0.3333333333333333,
              "#9c179e"
             ],
             [
              0.4444444444444444,
              "#bd3786"
             ],
             [
              0.5555555555555556,
              "#d8576b"
             ],
             [
              0.6666666666666666,
              "#ed7953"
             ],
             [
              0.7777777777777778,
              "#fb9f3a"
             ],
             [
              0.8888888888888888,
              "#fdca26"
             ],
             [
              1,
              "#f0f921"
             ]
            ],
            "type": "surface"
           }
          ],
          "table": [
           {
            "cells": {
             "fill": {
              "color": "#EBF0F8"
             },
             "line": {
              "color": "white"
             }
            },
            "header": {
             "fill": {
              "color": "#C8D4E3"
             },
             "line": {
              "color": "white"
             }
            },
            "type": "table"
           }
          ]
         },
         "layout": {
          "annotationdefaults": {
           "arrowcolor": "#2a3f5f",
           "arrowhead": 0,
           "arrowwidth": 1
          },
          "autotypenumbers": "strict",
          "coloraxis": {
           "colorbar": {
            "outlinewidth": 0,
            "ticks": ""
           }
          },
          "colorscale": {
           "diverging": [
            [
             0,
             "#8e0152"
            ],
            [
             0.1,
             "#c51b7d"
            ],
            [
             0.2,
             "#de77ae"
            ],
            [
             0.3,
             "#f1b6da"
            ],
            [
             0.4,
             "#fde0ef"
            ],
            [
             0.5,
             "#f7f7f7"
            ],
            [
             0.6,
             "#e6f5d0"
            ],
            [
             0.7,
             "#b8e186"
            ],
            [
             0.8,
             "#7fbc41"
            ],
            [
             0.9,
             "#4d9221"
            ],
            [
             1,
             "#276419"
            ]
           ],
           "sequential": [
            [
             0,
             "#0d0887"
            ],
            [
             0.1111111111111111,
             "#46039f"
            ],
            [
             0.2222222222222222,
             "#7201a8"
            ],
            [
             0.3333333333333333,
             "#9c179e"
            ],
            [
             0.4444444444444444,
             "#bd3786"
            ],
            [
             0.5555555555555556,
             "#d8576b"
            ],
            [
             0.6666666666666666,
             "#ed7953"
            ],
            [
             0.7777777777777778,
             "#fb9f3a"
            ],
            [
             0.8888888888888888,
             "#fdca26"
            ],
            [
             1,
             "#f0f921"
            ]
           ],
           "sequentialminus": [
            [
             0,
             "#0d0887"
            ],
            [
             0.1111111111111111,
             "#46039f"
            ],
            [
             0.2222222222222222,
             "#7201a8"
            ],
            [
             0.3333333333333333,
             "#9c179e"
            ],
            [
             0.4444444444444444,
             "#bd3786"
            ],
            [
             0.5555555555555556,
             "#d8576b"
            ],
            [
             0.6666666666666666,
             "#ed7953"
            ],
            [
             0.7777777777777778,
             "#fb9f3a"
            ],
            [
             0.8888888888888888,
             "#fdca26"
            ],
            [
             1,
             "#f0f921"
            ]
           ]
          },
          "colorway": [
           "#636efa",
           "#EF553B",
           "#00cc96",
           "#ab63fa",
           "#FFA15A",
           "#19d3f3",
           "#FF6692",
           "#B6E880",
           "#FF97FF",
           "#FECB52"
          ],
          "font": {
           "color": "#2a3f5f"
          },
          "geo": {
           "bgcolor": "white",
           "lakecolor": "white",
           "landcolor": "#E5ECF6",
           "showlakes": true,
           "showland": true,
           "subunitcolor": "white"
          },
          "hoverlabel": {
           "align": "left"
          },
          "hovermode": "closest",
          "mapbox": {
           "style": "light"
          },
          "paper_bgcolor": "white",
          "plot_bgcolor": "#E5ECF6",
          "polar": {
           "angularaxis": {
            "gridcolor": "white",
            "linecolor": "white",
            "ticks": ""
           },
           "bgcolor": "#E5ECF6",
           "radialaxis": {
            "gridcolor": "white",
            "linecolor": "white",
            "ticks": ""
           }
          },
          "scene": {
           "xaxis": {
            "backgroundcolor": "#E5ECF6",
            "gridcolor": "white",
            "gridwidth": 2,
            "linecolor": "white",
            "showbackground": true,
            "ticks": "",
            "zerolinecolor": "white"
           },
           "yaxis": {
            "backgroundcolor": "#E5ECF6",
            "gridcolor": "white",
            "gridwidth": 2,
            "linecolor": "white",
            "showbackground": true,
            "ticks": "",
            "zerolinecolor": "white"
           },
           "zaxis": {
            "backgroundcolor": "#E5ECF6",
            "gridcolor": "white",
            "gridwidth": 2,
            "linecolor": "white",
            "showbackground": true,
            "ticks": "",
            "zerolinecolor": "white"
           }
          },
          "shapedefaults": {
           "line": {
            "color": "#2a3f5f"
           }
          },
          "ternary": {
           "aaxis": {
            "gridcolor": "white",
            "linecolor": "white",
            "ticks": ""
           },
           "baxis": {
            "gridcolor": "white",
            "linecolor": "white",
            "ticks": ""
           },
           "bgcolor": "#E5ECF6",
           "caxis": {
            "gridcolor": "white",
            "linecolor": "white",
            "ticks": ""
           }
          },
          "title": {
           "x": 0.05
          },
          "xaxis": {
           "automargin": true,
           "gridcolor": "white",
           "linecolor": "white",
           "ticks": "",
           "title": {
            "standoff": 15
           },
           "zerolinecolor": "white",
           "zerolinewidth": 2
          },
          "yaxis": {
           "automargin": true,
           "gridcolor": "white",
           "linecolor": "white",
           "ticks": "",
           "title": {
            "standoff": 15
           },
           "zerolinecolor": "white",
           "zerolinewidth": 2
          }
         }
        },
        "title": {
         "text": "Words per Song"
        },
        "xaxis": {
         "anchor": "y",
         "domain": [
          0,
          0.45
         ],
         "title": {
          "text": "Number of Words"
         }
        },
        "xaxis2": {
         "anchor": "y2",
         "domain": [
          0.55,
          1
         ]
        },
        "yaxis": {
         "anchor": "x",
         "domain": [
          0,
          1
         ],
         "title": {
          "text": "Count"
         }
        },
        "yaxis2": {
         "anchor": "x2",
         "domain": [
          0,
          1
         ]
        }
       }
      },
      "text/html": [
       "<div>                            <div id=\"05679ff7-bd0e-47ba-9e70-dda75ecad156\" class=\"plotly-graph-div\" style=\"height:525px; width:100%;\"></div>            <script type=\"text/javascript\">                require([\"plotly\"], function(Plotly) {                    window.PLOTLYENV=window.PLOTLYENV || {};                                    if (document.getElementById(\"05679ff7-bd0e-47ba-9e70-dda75ecad156\")) {                    Plotly.newPlot(                        \"05679ff7-bd0e-47ba-9e70-dda75ecad156\",                        [{\"name\":\"English\",\"nbinsx\":20,\"x\":[128,84,76,71,69,44,60,132,44,105,41,62,91,111,52,58,64,95,106,88,106,57,130,149,55,84,95,182,199,116,108,113,52,118,20,73,108,61,69,58,99,89,138,85,69,84,70,161,195,61,124,78,113,94,156,120,64,57,54,68,103,53,146,135,91,118,95,105,28,60,63,66,90,58,105,92,64,64,113,56,54,94,89,68,79,77,112,99,153,113,116,54,60,124,55,50,148,113,67,109,83,67,93,96,50,68,80,124,84,44,54,115,88,172,117,134,139,64,104,44,59,22,18,19,34,25,25,48,46,92,67,123,108,102,95,103,53,100,114,64,89,118,34,104,77,89,65,79,61,42,69,73,43,65,76,54,43,87,64,148,63,70,47,53,42,46,35,37,47,38,93,64,35,70,72,59,45,96,58,35,26,47,31,42,54,43,45,93,72,52,38,36,37,45,33,60,40,53,49,35,60,48,62,88,55,60,40,68,99,271,210,244,175,138,297,278,269,275,151,224,117,151,162,110,91,103,54,79,78,71,93,75,51,48,61,73,94,167,63,8,67,64,77,94,79,175,119,85,86,88,52,105,51,50,38,74,66,85,93,67,111,72,57,67,154,81,38,78,60,135,34,140,52,49,114,74,116,100,78,114,140,126,120,66,134,86,85,137,12,91,43,142,92,136,46,131,111,43,97,105,90,57,79,118,30,95,79,81,67,4,67,174,62,107,40,47,76,117,90,65,84,89,68,59,13,171,93,122,81,76,126,170,124,99,166,115,97,66,74,74,72,85,141,112,80,155,57,134,114,76,67,136,54,99,121,65,42,110,73,102,73,79,152,58,65,50,90,45,60,129,71,67,90,67,76,39,113,34,139,31,91,38,62,62,136,101,63,95,82,107,68,30,49,108,31,145,114,73,65,64,76,83,7,37,46,37,65,62,54,77,61,72,62,48,42,67,35,71,68,58,57,77,47,50,70,115,114,84,74,91,54,100,47,74,96,81,72,40,82,107,70,59,122,44,62,72,73,35,66,78,183,84,88,71,142,151,93,60,147,105,88,140,69,94,55,137,78,61,129,164,66,6,48,73,68,96,77,111,71,119,110,109,108,88,92,69,147,94,87,174,70,44,89,64,99,84,105,103,60,102,75,100,81,85,34,76],\"type\":\"histogram\",\"xaxis\":\"x\",\"yaxis\":\"y\"},{\"name\":\"Armenian\",\"nbinsx\":20,\"x\":[170,130,97,90,92,52,71,162,55,134,53,90,109,141,74,70,86,134,166,123,141,93,170,180,85,117,113,258,290,157,129,154,72,150,24,97,140,79,100,69,141,135,177,116,90,114,96,227,233,80,164,102,136,127,203,150,94,98,72,101,145,86,174,181,117,127,136,150,39,79,82,99,118,88,145,131,101,94,136,72,85,113,138,111,90,118,153,136,232,129,165,70,79,176,92,77,227,169,106,148,114,88,126,136,70,110,109,174,137,66,70,152,135,240,164,182,183,74,121,52,66,21,25,22,39,37,28,62,53,132,77,154,166,159,144,158,72,155,166,94,115,167,44,178,109,109,94,103,99,58,77,92,56,67,93,62,49,113,70,195,91,96,56,62,60,61,51,58,55,51,115,77,50,79,92,74,67,118,74,39,34,59,44,50,92,53,61,122,105,60,63,45,52,61,45,90,48,70,65,62,93,58,87,99,75,74,59,90,132,409,310,348,288,211,486,427,383,425,241,386,167,271,239,178,156,137,68,94,107,111,132,88,66,68,70,125,147,219,90,8,110,104,97,151,110,190,174,113,106,132,69,124,66,81,63,115,111,113,120,102,152,106,76,131,233,118,51,125,84,179,44,146,77,72,164,105,191,156,141,214,210,180,203,135,194,140,138,186,26,174,56,215,127,171,138,184,177,69,173,185,105,90,97,133,40,114,106,107,73,6,118,225,102,140,48,72,125,138,131,88,112,126,80,91,18,265,135,173,101,99,177,227,181,149,223,165,164,78,115,104,85,107,214,162,117,273,75,166,170,111,104,175,108,163,198,78,72,148,96,156,90,135,182,91,91,73,128,82,113,170,91,79,105,91,103,58,154,49,153,40,114,54,67,82,153,114,105,117,117,149,82,58,71,158,39,188,165,88,92,73,116,105,8,55,65,56,103,73,69,117,79,103,86,65,54,75,50,93,100,85,86,96,70,75,95,149,139,119,100,129,75,149,72,89,163,114,103,61,125,149,118,100,215,70,95,97,107,48,111,88,212,97,134,105,196,208,128,88,184,136,108,183,108,109,80,211,131,100,208,254,105,6,81,107,127,140,120,185,124,176,181,161,177,130,144,89,255,143,139,254,149,68,153,110,155,137,141,163,89,181,114,145,115,137,52,104],\"type\":\"histogram\",\"xaxis\":\"x2\",\"yaxis\":\"y2\"}],                        {\"template\":{\"data\":{\"histogram2dcontour\":[{\"type\":\"histogram2dcontour\",\"colorbar\":{\"outlinewidth\":0,\"ticks\":\"\"},\"colorscale\":[[0.0,\"#0d0887\"],[0.1111111111111111,\"#46039f\"],[0.2222222222222222,\"#7201a8\"],[0.3333333333333333,\"#9c179e\"],[0.4444444444444444,\"#bd3786\"],[0.5555555555555556,\"#d8576b\"],[0.6666666666666666,\"#ed7953\"],[0.7777777777777778,\"#fb9f3a\"],[0.8888888888888888,\"#fdca26\"],[1.0,\"#f0f921\"]]}],\"choropleth\":[{\"type\":\"choropleth\",\"colorbar\":{\"outlinewidth\":0,\"ticks\":\"\"}}],\"histogram2d\":[{\"type\":\"histogram2d\",\"colorbar\":{\"outlinewidth\":0,\"ticks\":\"\"},\"colorscale\":[[0.0,\"#0d0887\"],[0.1111111111111111,\"#46039f\"],[0.2222222222222222,\"#7201a8\"],[0.3333333333333333,\"#9c179e\"],[0.4444444444444444,\"#bd3786\"],[0.5555555555555556,\"#d8576b\"],[0.6666666666666666,\"#ed7953\"],[0.7777777777777778,\"#fb9f3a\"],[0.8888888888888888,\"#fdca26\"],[1.0,\"#f0f921\"]]}],\"heatmap\":[{\"type\":\"heatmap\",\"colorbar\":{\"outlinewidth\":0,\"ticks\":\"\"},\"colorscale\":[[0.0,\"#0d0887\"],[0.1111111111111111,\"#46039f\"],[0.2222222222222222,\"#7201a8\"],[0.3333333333333333,\"#9c179e\"],[0.4444444444444444,\"#bd3786\"],[0.5555555555555556,\"#d8576b\"],[0.6666666666666666,\"#ed7953\"],[0.7777777777777778,\"#fb9f3a\"],[0.8888888888888888,\"#fdca26\"],[1.0,\"#f0f921\"]]}],\"heatmapgl\":[{\"type\":\"heatmapgl\",\"colorbar\":{\"outlinewidth\":0,\"ticks\":\"\"},\"colorscale\":[[0.0,\"#0d0887\"],[0.1111111111111111,\"#46039f\"],[0.2222222222222222,\"#7201a8\"],[0.3333333333333333,\"#9c179e\"],[0.4444444444444444,\"#bd3786\"],[0.5555555555555556,\"#d8576b\"],[0.6666666666666666,\"#ed7953\"],[0.7777777777777778,\"#fb9f3a\"],[0.8888888888888888,\"#fdca26\"],[1.0,\"#f0f921\"]]}],\"contourcarpet\":[{\"type\":\"contourcarpet\",\"colorbar\":{\"outlinewidth\":0,\"ticks\":\"\"}}],\"contour\":[{\"type\":\"contour\",\"colorbar\":{\"outlinewidth\":0,\"ticks\":\"\"},\"colorscale\":[[0.0,\"#0d0887\"],[0.1111111111111111,\"#46039f\"],[0.2222222222222222,\"#7201a8\"],[0.3333333333333333,\"#9c179e\"],[0.4444444444444444,\"#bd3786\"],[0.5555555555555556,\"#d8576b\"],[0.6666666666666666,\"#ed7953\"],[0.7777777777777778,\"#fb9f3a\"],[0.8888888888888888,\"#fdca26\"],[1.0,\"#f0f921\"]]}],\"surface\":[{\"type\":\"surface\",\"colorbar\":{\"outlinewidth\":0,\"ticks\":\"\"},\"colorscale\":[[0.0,\"#0d0887\"],[0.1111111111111111,\"#46039f\"],[0.2222222222222222,\"#7201a8\"],[0.3333333333333333,\"#9c179e\"],[0.4444444444444444,\"#bd3786\"],[0.5555555555555556,\"#d8576b\"],[0.6666666666666666,\"#ed7953\"],[0.7777777777777778,\"#fb9f3a\"],[0.8888888888888888,\"#fdca26\"],[1.0,\"#f0f921\"]]}],\"mesh3d\":[{\"type\":\"mesh3d\",\"colorbar\":{\"outlinewidth\":0,\"ticks\":\"\"}}],\"scatter\":[{\"fillpattern\":{\"fillmode\":\"overlay\",\"size\":10,\"solidity\":0.2},\"type\":\"scatter\"}],\"parcoords\":[{\"type\":\"parcoords\",\"line\":{\"colorbar\":{\"outlinewidth\":0,\"ticks\":\"\"}}}],\"scatterpolargl\":[{\"type\":\"scatterpolargl\",\"marker\":{\"colorbar\":{\"outlinewidth\":0,\"ticks\":\"\"}}}],\"bar\":[{\"error_x\":{\"color\":\"#2a3f5f\"},\"error_y\":{\"color\":\"#2a3f5f\"},\"marker\":{\"line\":{\"color\":\"#E5ECF6\",\"width\":0.5},\"pattern\":{\"fillmode\":\"overlay\",\"size\":10,\"solidity\":0.2}},\"type\":\"bar\"}],\"scattergeo\":[{\"type\":\"scattergeo\",\"marker\":{\"colorbar\":{\"outlinewidth\":0,\"ticks\":\"\"}}}],\"scatterpolar\":[{\"type\":\"scatterpolar\",\"marker\":{\"colorbar\":{\"outlinewidth\":0,\"ticks\":\"\"}}}],\"histogram\":[{\"marker\":{\"pattern\":{\"fillmode\":\"overlay\",\"size\":10,\"solidity\":0.2}},\"type\":\"histogram\"}],\"scattergl\":[{\"type\":\"scattergl\",\"marker\":{\"colorbar\":{\"outlinewidth\":0,\"ticks\":\"\"}}}],\"scatter3d\":[{\"type\":\"scatter3d\",\"line\":{\"colorbar\":{\"outlinewidth\":0,\"ticks\":\"\"}},\"marker\":{\"colorbar\":{\"outlinewidth\":0,\"ticks\":\"\"}}}],\"scattermapbox\":[{\"type\":\"scattermapbox\",\"marker\":{\"colorbar\":{\"outlinewidth\":0,\"ticks\":\"\"}}}],\"scatterternary\":[{\"type\":\"scatterternary\",\"marker\":{\"colorbar\":{\"outlinewidth\":0,\"ticks\":\"\"}}}],\"scattercarpet\":[{\"type\":\"scattercarpet\",\"marker\":{\"colorbar\":{\"outlinewidth\":0,\"ticks\":\"\"}}}],\"carpet\":[{\"aaxis\":{\"endlinecolor\":\"#2a3f5f\",\"gridcolor\":\"white\",\"linecolor\":\"white\",\"minorgridcolor\":\"white\",\"startlinecolor\":\"#2a3f5f\"},\"baxis\":{\"endlinecolor\":\"#2a3f5f\",\"gridcolor\":\"white\",\"linecolor\":\"white\",\"minorgridcolor\":\"white\",\"startlinecolor\":\"#2a3f5f\"},\"type\":\"carpet\"}],\"table\":[{\"cells\":{\"fill\":{\"color\":\"#EBF0F8\"},\"line\":{\"color\":\"white\"}},\"header\":{\"fill\":{\"color\":\"#C8D4E3\"},\"line\":{\"color\":\"white\"}},\"type\":\"table\"}],\"barpolar\":[{\"marker\":{\"line\":{\"color\":\"#E5ECF6\",\"width\":0.5},\"pattern\":{\"fillmode\":\"overlay\",\"size\":10,\"solidity\":0.2}},\"type\":\"barpolar\"}],\"pie\":[{\"automargin\":true,\"type\":\"pie\"}]},\"layout\":{\"autotypenumbers\":\"strict\",\"colorway\":[\"#636efa\",\"#EF553B\",\"#00cc96\",\"#ab63fa\",\"#FFA15A\",\"#19d3f3\",\"#FF6692\",\"#B6E880\",\"#FF97FF\",\"#FECB52\"],\"font\":{\"color\":\"#2a3f5f\"},\"hovermode\":\"closest\",\"hoverlabel\":{\"align\":\"left\"},\"paper_bgcolor\":\"white\",\"plot_bgcolor\":\"#E5ECF6\",\"polar\":{\"bgcolor\":\"#E5ECF6\",\"angularaxis\":{\"gridcolor\":\"white\",\"linecolor\":\"white\",\"ticks\":\"\"},\"radialaxis\":{\"gridcolor\":\"white\",\"linecolor\":\"white\",\"ticks\":\"\"}},\"ternary\":{\"bgcolor\":\"#E5ECF6\",\"aaxis\":{\"gridcolor\":\"white\",\"linecolor\":\"white\",\"ticks\":\"\"},\"baxis\":{\"gridcolor\":\"white\",\"linecolor\":\"white\",\"ticks\":\"\"},\"caxis\":{\"gridcolor\":\"white\",\"linecolor\":\"white\",\"ticks\":\"\"}},\"coloraxis\":{\"colorbar\":{\"outlinewidth\":0,\"ticks\":\"\"}},\"colorscale\":{\"sequential\":[[0.0,\"#0d0887\"],[0.1111111111111111,\"#46039f\"],[0.2222222222222222,\"#7201a8\"],[0.3333333333333333,\"#9c179e\"],[0.4444444444444444,\"#bd3786\"],[0.5555555555555556,\"#d8576b\"],[0.6666666666666666,\"#ed7953\"],[0.7777777777777778,\"#fb9f3a\"],[0.8888888888888888,\"#fdca26\"],[1.0,\"#f0f921\"]],\"sequentialminus\":[[0.0,\"#0d0887\"],[0.1111111111111111,\"#46039f\"],[0.2222222222222222,\"#7201a8\"],[0.3333333333333333,\"#9c179e\"],[0.4444444444444444,\"#bd3786\"],[0.5555555555555556,\"#d8576b\"],[0.6666666666666666,\"#ed7953\"],[0.7777777777777778,\"#fb9f3a\"],[0.8888888888888888,\"#fdca26\"],[1.0,\"#f0f921\"]],\"diverging\":[[0,\"#8e0152\"],[0.1,\"#c51b7d\"],[0.2,\"#de77ae\"],[0.3,\"#f1b6da\"],[0.4,\"#fde0ef\"],[0.5,\"#f7f7f7\"],[0.6,\"#e6f5d0\"],[0.7,\"#b8e186\"],[0.8,\"#7fbc41\"],[0.9,\"#4d9221\"],[1,\"#276419\"]]},\"xaxis\":{\"gridcolor\":\"white\",\"linecolor\":\"white\",\"ticks\":\"\",\"title\":{\"standoff\":15},\"zerolinecolor\":\"white\",\"automargin\":true,\"zerolinewidth\":2},\"yaxis\":{\"gridcolor\":\"white\",\"linecolor\":\"white\",\"ticks\":\"\",\"title\":{\"standoff\":15},\"zerolinecolor\":\"white\",\"automargin\":true,\"zerolinewidth\":2},\"scene\":{\"xaxis\":{\"backgroundcolor\":\"#E5ECF6\",\"gridcolor\":\"white\",\"linecolor\":\"white\",\"showbackground\":true,\"ticks\":\"\",\"zerolinecolor\":\"white\",\"gridwidth\":2},\"yaxis\":{\"backgroundcolor\":\"#E5ECF6\",\"gridcolor\":\"white\",\"linecolor\":\"white\",\"showbackground\":true,\"ticks\":\"\",\"zerolinecolor\":\"white\",\"gridwidth\":2},\"zaxis\":{\"backgroundcolor\":\"#E5ECF6\",\"gridcolor\":\"white\",\"linecolor\":\"white\",\"showbackground\":true,\"ticks\":\"\",\"zerolinecolor\":\"white\",\"gridwidth\":2}},\"shapedefaults\":{\"line\":{\"color\":\"#2a3f5f\"}},\"annotationdefaults\":{\"arrowcolor\":\"#2a3f5f\",\"arrowhead\":0,\"arrowwidth\":1},\"geo\":{\"bgcolor\":\"white\",\"landcolor\":\"#E5ECF6\",\"subunitcolor\":\"white\",\"showland\":true,\"showlakes\":true,\"lakecolor\":\"white\"},\"title\":{\"x\":0.05},\"mapbox\":{\"style\":\"light\"}}},\"xaxis\":{\"anchor\":\"y\",\"domain\":[0.0,0.45],\"title\":{\"text\":\"Number of Words\"}},\"yaxis\":{\"anchor\":\"x\",\"domain\":[0.0,1.0],\"title\":{\"text\":\"Count\"}},\"xaxis2\":{\"anchor\":\"y2\",\"domain\":[0.55,1.0]},\"yaxis2\":{\"anchor\":\"x2\",\"domain\":[0.0,1.0]},\"title\":{\"text\":\"Words per Song\"},\"barmode\":\"overlay\"},                        {\"responsive\": true}                    ).then(function(){\n",
       "                            \n",
       "var gd = document.getElementById('05679ff7-bd0e-47ba-9e70-dda75ecad156');\n",
       "var x = new MutationObserver(function (mutations, observer) {{\n",
       "        var display = window.getComputedStyle(gd).display;\n",
       "        if (!display || display === 'none') {{\n",
       "            console.log([gd, 'removed!']);\n",
       "            Plotly.purge(gd);\n",
       "            observer.disconnect();\n",
       "        }}\n",
       "}});\n",
       "\n",
       "// Listen for the removal of the full notebook cells\n",
       "var notebookContainer = gd.closest('#notebook-container');\n",
       "if (notebookContainer) {{\n",
       "    x.observe(notebookContainer, {childList: true});\n",
       "}}\n",
       "\n",
       "// Listen for the clearing of the current output cell\n",
       "var outputEl = gd.closest('.output');\n",
       "if (outputEl) {{\n",
       "    x.observe(outputEl, {childList: true});\n",
       "}}\n",
       "\n",
       "                        })                };                });            </script>        </div>"
      ]
     },
     "metadata": {},
     "output_type": "display_data"
    }
   ],
   "source": [
    "from plotly.subplots import make_subplots\n",
    "\n",
    "# Create two subplots\n",
    "fig = make_subplots(rows=1, cols=2)\n",
    "\n",
    "# Plot for n_tokens_en\n",
    "fig.add_trace(\n",
    "    go.Histogram(x=df['n_stems_en'], nbinsx=20, name='English'),\n",
    "    row=1, col=1\n",
    ")\n",
    "\n",
    "# Plot for n_tokens_hy\n",
    "fig.add_trace(\n",
    "    go.Histogram(x=df['n_tokens_hy'], nbinsx=20, name='Armenian'),\n",
    "    row=1, col=2\n",
    ")\n",
    "\n",
    "# Update layout\n",
    "fig.update_layout(\n",
    "    title='Words per Song',\n",
    "    xaxis=dict(title='Number of Words'),\n",
    "    yaxis=dict(title='Count'),\n",
    "    barmode='overlay'\n",
    ")\n",
    "\n",
    "# Show the plot\n",
    "fig.show()\n"
   ]
  },
  {
   "cell_type": "code",
   "execution_count": 30,
   "metadata": {},
   "outputs": [
    {
     "data": {
      "application/vnd.plotly.v1+json": {
       "config": {
        "plotlyServerURL": "https://plot.ly"
       },
       "data": [
        {
         "alignmentgroup": "True",
         "hovertemplate": "Artist=%{x}<br>n_tokens_hy=%{y}<extra></extra>",
         "legendgroup": "",
         "marker": {
          "color": "#636efa"
         },
         "name": "",
         "notched": false,
         "offsetgroup": "",
         "orientation": "v",
         "showlegend": false,
         "type": "box",
         "x": [
          "ԱՐԹՈՒՐ ՄԵՍՉՅԱՆ",
          "ԱՐԹՈՒՐ ՄԵՍՉՅԱՆ",
          "ԱՐԹՈՒՐ ՄԵՍՉՅԱՆ",
          "ԱՐԹՈՒՐ ՄԵՍՉՅԱՆ",
          "ԱՐԹՈՒՐ ՄԵՍՉՅԱՆ",
          "ԱՐԹՈՒՐ ՄԵՍՉՅԱՆ",
          "ԱՐԹՈՒՐ ՄԵՍՉՅԱՆ",
          "ԱՐԹՈՒՐ ՄԵՍՉՅԱՆ",
          "ԱՐԹՈՒՐ ՄԵՍՉՅԱՆ",
          "ԱՐԹՈՒՐ ՄԵՍՉՅԱՆ",
          "ԱՐԹՈՒՐ ՄԵՍՉՅԱՆ",
          "ԱՐԹՈՒՐ ՄԵՍՉՅԱՆ",
          "ԱՐԹՈՒՐ ՄԵՍՉՅԱՆ",
          "ԱՐԹՈՒՐ ՄԵՍՉՅԱՆ",
          "ԱՐԹՈՒՐ ՄԵՍՉՅԱՆ",
          "ԱՐԹՈՒՐ ՄԵՍՉՅԱՆ",
          "ԱՐԹՈՒՐ ՄԵՍՉՅԱՆ",
          "ԱՐԹՈՒՐ ՄԵՍՉՅԱՆ",
          "ԱՐԹՈՒՐ ՄԵՍՉՅԱՆ",
          "ԱՐԹՈՒՐ ՄԵՍՉՅԱՆ",
          "ԱՐԹՈՒՐ ՄԵՍՉՅԱՆ",
          "ԱՐԹՈՒՐ ՄԵՍՉՅԱՆ",
          "ԱՐԹՈՒՐ ՄԵՍՉՅԱՆ",
          "ԱՐԹՈՒՐ ՄԵՍՉՅԱՆ",
          "ԱՐԹՈՒՐ ՄԵՍՉՅԱՆ",
          "ԱՐԹՈՒՐ ՄԵՍՉՅԱՆ",
          "ԱՐԹՈՒՐ ՄԵՍՉՅԱՆ",
          "ԱՐԹՈՒՐ ՄԵՍՉՅԱՆ",
          "ԱՐԹՈՒՐ ՄԵՍՉՅԱՆ",
          "ԱՐԹՈՒՐ ՄԵՍՉՅԱՆ",
          "ԱՐԹՈՒՐ ՄԵՍՉՅԱՆ",
          "ԱՐԹՈՒՐ ՄԵՍՉՅԱՆ",
          "ԱՐԹՈՒՐ ՄԵՍՉՅԱՆ",
          "ԱՐԹՈՒՐ ՄԵՍՉՅԱՆ",
          "ԱՐԹՈՒՐ ՄԵՍՉՅԱՆ",
          "ԱՐԹՈՒՐ ՄԵՍՉՅԱՆ",
          "ԱՐԹՈՒՐ ՄԵՍՉՅԱՆ",
          "ԱՐԹՈՒՐ ՄԵՍՉՅԱՆ",
          "ԱՐԹՈՒՐ ՄԵՍՉՅԱՆ",
          "ԱՐԹՈՒՐ ՄԵՍՉՅԱՆ",
          "ԱՐԹՈՒՐ ՄԵՍՉՅԱՆ",
          "ԱՐԹՈՒՐ ՄԵՍՉՅԱՆ",
          "ԱՐԹՈՒՐ ՄԵՍՉՅԱՆ",
          "ԱՐԹՈՒՐ ՄԵՍՉՅԱՆ",
          "ԱՐԹՈՒՐ ՄԵՍՉՅԱՆ",
          "ԱՐԹՈՒՐ ՄԵՍՉՅԱՆ",
          "ԱՐԹՈՒՐ ՄԵՍՉՅԱՆ",
          "ԱՐԹՈՒՐ ՄԵՍՉՅԱՆ",
          "ԱՐԹՈՒՐ ՄԵՍՉՅԱՆ",
          "ԱՐԹՈՒՐ ՄԵՍՉՅԱՆ",
          "ՌՈՒԲԵՆ ՀԱԽՎԵՐԴՅԱՆ",
          "ՌՈՒԲԵՆ ՀԱԽՎԵՐԴՅԱՆ",
          "ՌՈՒԲԵՆ ՀԱԽՎԵՐԴՅԱՆ",
          "ՌՈՒԲԵՆ ՀԱԽՎԵՐԴՅԱՆ",
          "ՌՈՒԲԵՆ ՀԱԽՎԵՐԴՅԱՆ",
          "ՌՈՒԲԵՆ ՀԱԽՎԵՐԴՅԱՆ",
          "ՌՈՒԲԵՆ ՀԱԽՎԵՐԴՅԱՆ",
          "ՌՈՒԲԵՆ ՀԱԽՎԵՐԴՅԱՆ",
          "ՌՈՒԲԵՆ ՀԱԽՎԵՐԴՅԱՆ",
          "ՌՈՒԲԵՆ ՀԱԽՎԵՐԴՅԱՆ",
          "ՌՈՒԲԵՆ ՀԱԽՎԵՐԴՅԱՆ",
          "ՌՈՒԲԵՆ ՀԱԽՎԵՐԴՅԱՆ",
          "ՌՈՒԲԵՆ ՀԱԽՎԵՐԴՅԱՆ",
          "ՌՈՒԲԵՆ ՀԱԽՎԵՐԴՅԱՆ",
          "ՌՈՒԲԵՆ ՀԱԽՎԵՐԴՅԱՆ",
          "ՌՈՒԲԵՆ ՀԱԽՎԵՐԴՅԱՆ",
          "ՌՈՒԲԵՆ ՀԱԽՎԵՐԴՅԱՆ",
          "ՌՈՒԲԵՆ ՀԱԽՎԵՐԴՅԱՆ",
          "ՌՈՒԲԵՆ ՀԱԽՎԵՐԴՅԱՆ",
          "ՌՈՒԲԵՆ ՀԱԽՎԵՐԴՅԱՆ",
          "ՌՈՒԲԵՆ ՀԱԽՎԵՐԴՅԱՆ",
          "ՌՈՒԲԵՆ ՀԱԽՎԵՐԴՅԱՆ",
          "ՌՈՒԲԵՆ ՀԱԽՎԵՐԴՅԱՆ",
          "ՌՈՒԲԵՆ ՀԱԽՎԵՐԴՅԱՆ",
          "ՌՈՒԲԵՆ ՀԱԽՎԵՐԴՅԱՆ",
          "ՌՈՒԲԵՆ ՀԱԽՎԵՐԴՅԱՆ",
          "ՌՈՒԲԵՆ ՀԱԽՎԵՐԴՅԱՆ",
          "ՌՈՒԲԵՆ ՀԱԽՎԵՐԴՅԱՆ",
          "ՌՈՒԲԵՆ ՀԱԽՎԵՐԴՅԱՆ",
          "ՌՈՒԲԵՆ ՀԱԽՎԵՐԴՅԱՆ",
          "ՌՈՒԲԵՆ ՀԱԽՎԵՐԴՅԱՆ",
          "ՌՈՒԲԵՆ ՀԱԽՎԵՐԴՅԱՆ",
          "ՌՈՒԲԵՆ ՀԱԽՎԵՐԴՅԱՆ",
          "ՌՈՒԲԵՆ ՀԱԽՎԵՐԴՅԱՆ",
          "ՌՈՒԲԵՆ ՀԱԽՎԵՐԴՅԱՆ",
          "ՌՈՒԲԵՆ ՀԱԽՎԵՐԴՅԱՆ",
          "ՌՈՒԲԵՆ ՀԱԽՎԵՐԴՅԱՆ",
          "ՌՈՒԲԵՆ ՀԱԽՎԵՐԴՅԱՆ",
          "ՌՈՒԲԵՆ ՀԱԽՎԵՐԴՅԱՆ",
          "ՌՈՒԲԵՆ ՀԱԽՎԵՐԴՅԱՆ",
          "ՌՈՒԲԵՆ ՀԱԽՎԵՐԴՅԱՆ",
          "ՌՈՒԲԵՆ ՀԱԽՎԵՐԴՅԱՆ",
          "ՌՈՒԲԵՆ ՀԱԽՎԵՐԴՅԱՆ",
          "ՌՈՒԲԵՆ ՀԱԽՎԵՐԴՅԱՆ",
          "ՌՈՒԲԵՆ ՀԱԽՎԵՐԴՅԱՆ",
          "ՌՈՒԲԵՆ ՀԱԽՎԵՐԴՅԱՆ",
          "ՌՈՒԲԵՆ ՀԱԽՎԵՐԴՅԱՆ",
          "ՌՈՒԲԵՆ ՀԱԽՎԵՐԴՅԱՆ",
          "ՌՈՒԲԵՆ ՀԱԽՎԵՐԴՅԱՆ",
          "ՌՈՒԲԵՆ ՀԱԽՎԵՐԴՅԱՆ",
          "ՌՈՒԲԵՆ ՀԱԽՎԵՐԴՅԱՆ",
          "ՌՈՒԲԵՆ ՀԱԽՎԵՐԴՅԱՆ",
          "ՌՈՒԲԵՆ ՀԱԽՎԵՐԴՅԱՆ",
          "ՌՈՒԲԵՆ ՀԱԽՎԵՐԴՅԱՆ",
          "ՌՈՒԲԵՆ ՀԱԽՎԵՐԴՅԱՆ",
          "ՌՈՒԲԵՆ ՀԱԽՎԵՐԴՅԱՆ",
          "ՌՈՒԲԵՆ ՀԱԽՎԵՐԴՅԱՆ",
          "ՌՈՒԲԵՆ ՀԱԽՎԵՐԴՅԱՆ",
          "ՌՈՒԲԵՆ ՀԱԽՎԵՐԴՅԱՆ",
          "ՌՈՒԲԵՆ ՀԱԽՎԵՐԴՅԱՆ",
          "ՌՈՒԲԵՆ ՀԱԽՎԵՐԴՅԱՆ",
          "ՌՈՒԲԵՆ ՀԱԽՎԵՐԴՅԱՆ",
          "ՌՈՒԲԵՆ ՀԱԽՎԵՐԴՅԱՆ",
          "ՌՈՒԲԵՆ ՀԱԽՎԵՐԴՅԱՆ",
          "ՌՈՒԲԵՆ ՀԱԽՎԵՐԴՅԱՆ",
          "ՌՈՒԲԵՆ ՀԱԽՎԵՐԴՅԱՆ",
          "ՌՈՒԲԵՆ ՀԱԽՎԵՐԴՅԱՆ",
          "ՌՈՒԲԵՆ ՀԱԽՎԵՐԴՅԱՆ",
          "ՌՈՒԲԵՆ ՀԱԽՎԵՐԴՅԱՆ",
          "ՌՈՒԲԵՆ ՀԱԽՎԵՐԴՅԱՆ",
          "ՌՈՒԲԵՆ ՀԱԽՎԵՐԴՅԱՆ",
          "ՌՈՒԲԵՆ ՀԱԽՎԵՐԴՅԱՆ",
          "ՌՈՒԲԵՆ ՀԱԽՎԵՐԴՅԱՆ",
          "ՌՈՒԲԵՆ ՀԱԽՎԵՐԴՅԱՆ",
          "ՌՈՒԲԵՆ ՀԱԽՎԵՐԴՅԱՆ",
          "ՌՈՒԲԵՆ ՀԱԽՎԵՐԴՅԱՆ",
          "ՌՈՒԲԵՆ ՀԱԽՎԵՐԴՅԱՆ",
          "ՌՈՒԲԵՆ ՀԱԽՎԵՐԴՅԱՆ",
          "ՌՈՒԲԵՆ ՀԱԽՎԵՐԴՅԱՆ",
          "ՌՈՒԲԵՆ ՀԱԽՎԵՐԴՅԱՆ",
          "ՌՈՒԲԵՆ ՀԱԽՎԵՐԴՅԱՆ",
          "ՍԱՅԱԹ-ՆՈՎԱ",
          "ՍԱՅԱԹ-ՆՈՎԱ",
          "ՍԱՅԱԹ-ՆՈՎԱ",
          "ՍԱՅԱԹ-ՆՈՎԱ",
          "ՍԱՅԱԹ-ՆՈՎԱ",
          "ՍԱՅԱԹ-ՆՈՎԱ",
          "ՍԱՅԱԹ-ՆՈՎԱ",
          "ՍԱՅԱԹ-ՆՈՎԱ",
          "ՍԱՅԱԹ-ՆՈՎԱ",
          "ՍԱՅԱԹ-ՆՈՎԱ",
          "ՍԱՅԱԹ-ՆՈՎԱ",
          "ՍԱՅԱԹ-ՆՈՎԱ",
          "ՍԱՅԱԹ-ՆՈՎԱ",
          "ՍԱՅԱԹ-ՆՈՎԱ",
          "ՍԱՅԱԹ-ՆՈՎԱ",
          "ՍԱՅԱԹ-ՆՈՎԱ",
          "ԿՈՄԻՏԱՍ",
          "ԿՈՄԻՏԱՍ",
          "ԿՈՄԻՏԱՍ",
          "ԿՈՄԻՏԱՍ",
          "ԿՈՄԻՏԱՍ",
          "ԿՈՄԻՏԱՍ",
          "ԿՈՄԻՏԱՍ",
          "ԿՈՄԻՏԱՍ",
          "ԿՈՄԻՏԱՍ",
          "ԿՈՄԻՏԱՍ",
          "ԿՈՄԻՏԱՍ",
          "ԿՈՄԻՏԱՍ",
          "ԿՈՄԻՏԱՍ",
          "ԿՈՄԻՏԱՍ",
          "ԿՈՄԻՏԱՍ",
          "ԿՈՄԻՏԱՍ",
          "ԿՈՄԻՏԱՍ",
          "ԿՈՄԻՏԱՍ",
          "ԿՈՄԻՏԱՍ",
          "ԿՈՄԻՏԱՍ",
          "ԿՈՄԻՏԱՍ",
          "ԿՈՄԻՏԱՍ",
          "ԿՈՄԻՏԱՍ",
          "ԿՈՄԻՏԱՍ",
          "ԿՈՄԻՏԱՍ",
          "ԿՈՄԻՏԱՍ",
          "ԿՈՄԻՏԱՍ",
          "ԿՈՄԻՏԱՍ",
          "ԿՈՄԻՏԱՍ",
          "ԿՈՄԻՏԱՍ",
          "ԿՈՄԻՏԱՍ",
          "ԿՈՄԻՏԱՍ",
          "ԿՈՄԻՏԱՍ",
          "ԿՈՄԻՏԱՍ",
          "ԿՈՄԻՏԱՍ",
          "ԿՈՄԻՏԱՍ",
          "ԿՈՄԻՏԱՍ",
          "ԿՈՄԻՏԱՍ",
          "ԿՈՄԻՏԱՍ",
          "ԿՈՄԻՏԱՍ",
          "ԿՈՄԻՏԱՍ",
          "ԿՈՄԻՏԱՍ",
          "ԿՈՄԻՏԱՍ",
          "ԿՈՄԻՏԱՍ",
          "ԿՈՄԻՏԱՍ",
          "ԿՈՄԻՏԱՍ",
          "ԿՈՄԻՏԱՍ",
          "ԿՈՄԻՏԱՍ",
          "ԿՈՄԻՏԱՍ",
          "ԿՈՄԻՏԱՍ",
          "ԿՈՄԻՏԱՍ",
          "ԿՈՄԻՏԱՍ",
          "ԿՈՄԻՏԱՍ",
          "ԿՈՄԻՏԱՍ",
          "ԿՈՄԻՏԱՍ",
          "ԿՈՄԻՏԱՍ",
          "ԿՈՄԻՏԱՍ",
          "ԿՈՄԻՏԱՍ",
          "ԿՈՄԻՏԱՍ",
          "ԿՈՄԻՏԱՍ",
          "ԿՈՄԻՏԱՍ",
          "ԿՈՄԻՏԱՍ",
          "HT Hayko",
          "HT Hayko",
          "HT Hayko",
          "HT Hayko",
          "HT Hayko",
          "HT Hayko",
          "HT Hayko",
          "HT Hayko",
          "HT Hayko",
          "HT Hayko",
          "HT Hayko",
          "HT Hayko",
          "HT Hayko",
          "HT Hayko",
          "HT Hayko",
          "HT Hayko",
          "Empyray",
          "Empyray",
          "Empyray",
          "Empyray",
          "Empyray",
          "Empyray",
          "Empyray",
          "Empyray",
          "Empyray",
          "Empyray",
          " Lav Eli",
          " Lav Eli",
          " Lav Eli",
          " Lav Eli",
          " Lav Eli",
          " Lav Eli",
          " Lav Eli",
          " Lav Eli",
          " Lav Eli",
          "Silva Hakobyan",
          "Silva Hakobyan",
          "Silva Hakobyan",
          "Silva Hakobyan",
          "Silva Hakobyan",
          "Silva Hakobyan",
          "Silva Hakobyan",
          "Silva Hakobyan",
          "Silva Hakobyan",
          "Silva Hakobyan",
          "Silva Hakobyan",
          "Silva Hakobyan",
          "Silva Hakobyan",
          "Silva Hakobyan",
          "Silva Hakobyan",
          "Silva Hakobyan",
          "Silva Hakobyan",
          "Silva Hakobyan",
          "Silva Hakobyan",
          "Silva Hakobyan",
          "Անդրե",
          "Անդրե",
          "Անդրե",
          "Անդրե",
          "Անդրե",
          "Անդրե",
          "Անդրե",
          "Անդրե",
          "Անդրե",
          "Անդրե",
          "Անդրե",
          "Անդրե",
          "Լիլիթ Հովհաննիսյան",
          "Լիլիթ Հովհաննիսյան",
          "Լիլիթ Հովհաննիսյան",
          "Լիլիթ Հովհաննիսյան",
          "Լիլիթ Հովհաննիսյան",
          "Լիլիթ Հովհաննիսյան",
          "Լիլիթ Հովհաննիսյան",
          "Լիլիթ Հովհաննիսյան",
          "Լիլիթ Հովհաննիսյան",
          "Լիլիթ Հովհաննիսյան",
          "Լիլիթ Հովհաննիսյան",
          "Լիլիթ Հովհաննիսյան",
          "Լիլիթ Հովհաննիսյան",
          "Լիլիթ Հովհաննիսյան",
          "Լիլիթ Հովհաննիսյան",
          "Լիլիթ Հովհաննիսյան",
          "Լիլիթ Հովհաննիսյան",
          "Լիլիթ Հովհաննիսյան",
          "Լիլիթ Հովհաննիսյան",
          "Լիլիթ Հովհաննիսյան",
          "Լիլիթ Հովհաննիսյան",
          "Լիլիթ Հովհաննիսյան",
          "Լիլիթ Հովհաննիսյան",
          "Լիլիթ Հովհաննիսյան",
          "Սիրուշո",
          "Սիրուշո",
          "Սիրուշո",
          "Սիրուշո",
          "Սիրուշո",
          "Սիրուշո",
          "Սիրուշո",
          "Սիրուշո",
          "Սիրուշո",
          "Սիրուշո",
          "Սիրուշո",
          "Սիրուշո",
          "Սիրուշո",
          "Սիրուշո",
          "Սիրուշո",
          "Սիրուշո",
          "Սիրուշո",
          "Սիրուշո",
          "Սիրուշո",
          "Սիրուշո",
          "Սիրուշո",
          "Սիրուշո",
          "Սիրուշո",
          "Սիրուշո",
          "Սիրուշո",
          "Միհրան Ծառուկյան",
          "Միհրան Ծառուկյան",
          "Միհրան Ծառուկյան",
          "Միհրան Ծառուկյան",
          "Միհրան Ծառուկյան",
          "Միհրան Ծառուկյան",
          "Միհրան Ծառուկյան",
          "Միհրան Ծառուկյան",
          "Միհրան Ծառուկյան",
          "Միհրան Ծառուկյան",
          "Միհրան Ծառուկյան",
          "Միհրան Ծառուկյան",
          "Միհրան Ծառուկյան",
          "Միհրան Ծառուկյան",
          "Միհրան Ծառուկյան",
          "Միհրան Ծառուկյան",
          "Միհրան Ծառուկյան",
          "Միհրան Ծառուկյան",
          "Arame",
          "Arame",
          "Arame",
          "Arame",
          "Arame",
          "Arame",
          "Arame",
          "Arame",
          "Arame",
          "Razmik Amyan",
          "Razmik Amyan",
          "Razmik Amyan",
          "Razmik Amyan",
          "Razmik Amyan",
          "Razmik Amyan",
          "Razmik Amyan",
          "Razmik Amyan",
          "Razmik Amyan",
          "Razmik Amyan",
          "Razmik Amyan",
          "Razmik Amyan",
          "Razmik Amyan",
          "Razmik Amyan",
          "Razmik Amyan",
          "Razmik Amyan",
          "Razmik Amyan",
          "Razmik Amyan",
          "Harout Pamboukjian",
          "Harout Pamboukjian",
          "Harout Pamboukjian",
          "Harout Pamboukjian",
          "Harout Pamboukjian",
          "Harout Pamboukjian",
          "Harout Pamboukjian",
          "Harout Pamboukjian",
          "Harout Pamboukjian",
          "Harout Pamboukjian",
          "Harout Pamboukjian",
          "Harout Pamboukjian",
          "Harout Pamboukjian",
          "Harout Pamboukjian",
          "Harout Pamboukjian",
          "Harout Pamboukjian",
          "Harout Pamboukjian",
          "Harout Pamboukjian",
          "Harout Pamboukjian",
          "Harout Pamboukjian",
          "Harout Pamboukjian",
          "Harout Pamboukjian",
          "Harout Pamboukjian",
          "Harout Pamboukjian",
          "Harout Pamboukjian",
          "Harout Pamboukjian",
          "Harout Pamboukjian",
          "Harout Pamboukjian",
          "Harout Pamboukjian",
          "Harout Pamboukjian",
          "Harout Pamboukjian",
          "Harout Pamboukjian",
          "Հայկ Հակոբյան",
          "Հայկ Հակոբյան",
          "Հայկ Հակոբյան",
          "Հայկ Հակոբյան",
          "Հայկ Հակոբյան",
          "Հայկ Հակոբյան",
          "Հայկ Հակոբյան",
          "Հայկ Հակոբյան",
          "Հայկ Հակոբյան",
          "Հայկ Հակոբյան",
          "Հայկ Հակոբյան",
          "Հայկ Հակոբյան",
          "Հայկ Հակոբյան",
          "Հայկ Հակոբյան",
          "Հայկ Հակոբյան",
          "Հայկ Հակոբյան",
          "Հայկ Հակոբյան",
          "Հայկ Հակոբյան",
          "Հայկ Հակոբյան",
          "Հայկ Հակոբյան",
          "Հայկ Հակոբյան",
          "Հայկ Հակոբյան",
          "Հայկ Հակոբյան",
          "Aram MP3",
          "Aram MP3",
          "Arsen Safaryan",
          "Arsen Safaryan",
          "Arsen Safaryan",
          "Arsen Safaryan",
          "Arsen Safaryan",
          "Arsen Safaryan",
          "Arsen Safaryan",
          "Arsen Safaryan",
          "Arsen Safaryan",
          "Arsen Safaryan",
          "Arsen Safaryan",
          "Arsen Safaryan",
          "Arsen Safaryan",
          "Arsen Safaryan",
          "Arsen Safaryan",
          "Arsen Safaryan",
          "Arsen Safaryan",
          "Arsen Safaryan",
          "Arsen Safaryan",
          "Arsen Safaryan",
          "Arsen Safaryan",
          "Arsen Safaryan",
          "Arsen Safaryan",
          "Aram MP3",
          "Aram MP3",
          "Aram MP3",
          "Aram MP3",
          "Aram MP3",
          "Aram MP3",
          "Aram MP3",
          "Aram MP3",
          "Aram MP3",
          "Aram MP3",
          "Aram MP3",
          "Aram MP3",
          "Aram MP3",
          "Aram MP3",
          "Aram MP3",
          "Misho",
          "Misho",
          "Misho",
          "Misho",
          "Misho",
          "Misho",
          "Misho",
          "Misho",
          "Misho",
          "Misho",
          "Misho",
          "Misho",
          "Misho",
          "Misho",
          "Misho",
          "Misho",
          "Misho",
          "Misho",
          "Misho",
          "Misho",
          "Misho",
          "Misho",
          "Misho",
          "Misho",
          "Misho",
          "Misho",
          "Mi Qani Hogi",
          "Mi Qani Hogi",
          "Mi Qani Hogi",
          "Mi Qani Hogi",
          "Mi Qani Hogi",
          "Mi Qani Hogi",
          "Mi Qani Hogi",
          "Mi Qani Hogi",
          "Mi Qani Hogi",
          "Mi Qani Hogi",
          "Mi Qani Hogi",
          "Mi Qani Hogi",
          "Mi Qani Hogi",
          "Mi Qani Hogi",
          "Mi Qani Hogi"
         ],
         "x0": " ",
         "xaxis": "x",
         "y": [
          170,
          130,
          97,
          90,
          92,
          52,
          71,
          162,
          55,
          134,
          53,
          90,
          109,
          141,
          74,
          70,
          86,
          134,
          166,
          123,
          141,
          93,
          170,
          180,
          85,
          117,
          113,
          258,
          290,
          157,
          129,
          154,
          72,
          150,
          24,
          97,
          140,
          79,
          100,
          69,
          141,
          135,
          177,
          116,
          90,
          114,
          96,
          227,
          233,
          80,
          164,
          102,
          136,
          127,
          203,
          150,
          94,
          98,
          72,
          101,
          145,
          86,
          174,
          181,
          117,
          127,
          136,
          150,
          39,
          79,
          82,
          99,
          118,
          88,
          145,
          131,
          101,
          94,
          136,
          72,
          85,
          113,
          138,
          111,
          90,
          118,
          153,
          136,
          232,
          129,
          165,
          70,
          79,
          176,
          92,
          77,
          227,
          169,
          106,
          148,
          114,
          88,
          126,
          136,
          70,
          110,
          109,
          174,
          137,
          66,
          70,
          152,
          135,
          240,
          164,
          182,
          183,
          74,
          121,
          52,
          66,
          21,
          25,
          22,
          39,
          37,
          28,
          62,
          53,
          132,
          77,
          154,
          166,
          159,
          144,
          158,
          72,
          155,
          166,
          94,
          115,
          167,
          44,
          178,
          109,
          109,
          94,
          103,
          99,
          58,
          77,
          92,
          56,
          67,
          93,
          62,
          49,
          113,
          70,
          195,
          91,
          96,
          56,
          62,
          60,
          61,
          51,
          58,
          55,
          51,
          115,
          77,
          50,
          79,
          92,
          74,
          67,
          118,
          74,
          39,
          34,
          59,
          44,
          50,
          92,
          53,
          61,
          122,
          105,
          60,
          63,
          45,
          52,
          61,
          45,
          90,
          48,
          70,
          65,
          62,
          93,
          58,
          87,
          99,
          75,
          74,
          59,
          90,
          132,
          409,
          310,
          348,
          288,
          211,
          486,
          427,
          383,
          425,
          241,
          386,
          167,
          271,
          239,
          178,
          156,
          137,
          68,
          94,
          107,
          111,
          132,
          88,
          66,
          68,
          70,
          125,
          147,
          219,
          90,
          8,
          110,
          104,
          97,
          151,
          110,
          190,
          174,
          113,
          106,
          132,
          69,
          124,
          66,
          81,
          63,
          115,
          111,
          113,
          120,
          102,
          152,
          106,
          76,
          131,
          233,
          118,
          51,
          125,
          84,
          179,
          44,
          146,
          77,
          72,
          164,
          105,
          191,
          156,
          141,
          214,
          210,
          180,
          203,
          135,
          194,
          140,
          138,
          186,
          26,
          174,
          56,
          215,
          127,
          171,
          138,
          184,
          177,
          69,
          173,
          185,
          105,
          90,
          97,
          133,
          40,
          114,
          106,
          107,
          73,
          6,
          118,
          225,
          102,
          140,
          48,
          72,
          125,
          138,
          131,
          88,
          112,
          126,
          80,
          91,
          18,
          265,
          135,
          173,
          101,
          99,
          177,
          227,
          181,
          149,
          223,
          165,
          164,
          78,
          115,
          104,
          85,
          107,
          214,
          162,
          117,
          273,
          75,
          166,
          170,
          111,
          104,
          175,
          108,
          163,
          198,
          78,
          72,
          148,
          96,
          156,
          90,
          135,
          182,
          91,
          91,
          73,
          128,
          82,
          113,
          170,
          91,
          79,
          105,
          91,
          103,
          58,
          154,
          49,
          153,
          40,
          114,
          54,
          67,
          82,
          153,
          114,
          105,
          117,
          117,
          149,
          82,
          58,
          71,
          158,
          39,
          188,
          165,
          88,
          92,
          73,
          116,
          105,
          8,
          55,
          65,
          56,
          103,
          73,
          69,
          117,
          79,
          103,
          86,
          65,
          54,
          75,
          50,
          93,
          100,
          85,
          86,
          96,
          70,
          75,
          95,
          149,
          139,
          119,
          100,
          129,
          75,
          149,
          72,
          89,
          163,
          114,
          103,
          61,
          125,
          149,
          118,
          100,
          215,
          70,
          95,
          97,
          107,
          48,
          111,
          88,
          212,
          97,
          134,
          105,
          196,
          208,
          128,
          88,
          184,
          136,
          108,
          183,
          108,
          109,
          80,
          211,
          131,
          100,
          208,
          254,
          105,
          6,
          81,
          107,
          127,
          140,
          120,
          185,
          124,
          176,
          181,
          161,
          177,
          130,
          144,
          89,
          255,
          143,
          139,
          254,
          149,
          68,
          153,
          110,
          155,
          137,
          141,
          163,
          89,
          181,
          114,
          145,
          115,
          137,
          52,
          104
         ],
         "y0": " ",
         "yaxis": "y"
        }
       ],
       "layout": {
        "boxmode": "group",
        "legend": {
         "tracegroupgap": 0
        },
        "template": {
         "data": {
          "bar": [
           {
            "error_x": {
             "color": "#2a3f5f"
            },
            "error_y": {
             "color": "#2a3f5f"
            },
            "marker": {
             "line": {
              "color": "#E5ECF6",
              "width": 0.5
             },
             "pattern": {
              "fillmode": "overlay",
              "size": 10,
              "solidity": 0.2
             }
            },
            "type": "bar"
           }
          ],
          "barpolar": [
           {
            "marker": {
             "line": {
              "color": "#E5ECF6",
              "width": 0.5
             },
             "pattern": {
              "fillmode": "overlay",
              "size": 10,
              "solidity": 0.2
             }
            },
            "type": "barpolar"
           }
          ],
          "carpet": [
           {
            "aaxis": {
             "endlinecolor": "#2a3f5f",
             "gridcolor": "white",
             "linecolor": "white",
             "minorgridcolor": "white",
             "startlinecolor": "#2a3f5f"
            },
            "baxis": {
             "endlinecolor": "#2a3f5f",
             "gridcolor": "white",
             "linecolor": "white",
             "minorgridcolor": "white",
             "startlinecolor": "#2a3f5f"
            },
            "type": "carpet"
           }
          ],
          "choropleth": [
           {
            "colorbar": {
             "outlinewidth": 0,
             "ticks": ""
            },
            "type": "choropleth"
           }
          ],
          "contour": [
           {
            "colorbar": {
             "outlinewidth": 0,
             "ticks": ""
            },
            "colorscale": [
             [
              0,
              "#0d0887"
             ],
             [
              0.1111111111111111,
              "#46039f"
             ],
             [
              0.2222222222222222,
              "#7201a8"
             ],
             [
              0.3333333333333333,
              "#9c179e"
             ],
             [
              0.4444444444444444,
              "#bd3786"
             ],
             [
              0.5555555555555556,
              "#d8576b"
             ],
             [
              0.6666666666666666,
              "#ed7953"
             ],
             [
              0.7777777777777778,
              "#fb9f3a"
             ],
             [
              0.8888888888888888,
              "#fdca26"
             ],
             [
              1,
              "#f0f921"
             ]
            ],
            "type": "contour"
           }
          ],
          "contourcarpet": [
           {
            "colorbar": {
             "outlinewidth": 0,
             "ticks": ""
            },
            "type": "contourcarpet"
           }
          ],
          "heatmap": [
           {
            "colorbar": {
             "outlinewidth": 0,
             "ticks": ""
            },
            "colorscale": [
             [
              0,
              "#0d0887"
             ],
             [
              0.1111111111111111,
              "#46039f"
             ],
             [
              0.2222222222222222,
              "#7201a8"
             ],
             [
              0.3333333333333333,
              "#9c179e"
             ],
             [
              0.4444444444444444,
              "#bd3786"
             ],
             [
              0.5555555555555556,
              "#d8576b"
             ],
             [
              0.6666666666666666,
              "#ed7953"
             ],
             [
              0.7777777777777778,
              "#fb9f3a"
             ],
             [
              0.8888888888888888,
              "#fdca26"
             ],
             [
              1,
              "#f0f921"
             ]
            ],
            "type": "heatmap"
           }
          ],
          "heatmapgl": [
           {
            "colorbar": {
             "outlinewidth": 0,
             "ticks": ""
            },
            "colorscale": [
             [
              0,
              "#0d0887"
             ],
             [
              0.1111111111111111,
              "#46039f"
             ],
             [
              0.2222222222222222,
              "#7201a8"
             ],
             [
              0.3333333333333333,
              "#9c179e"
             ],
             [
              0.4444444444444444,
              "#bd3786"
             ],
             [
              0.5555555555555556,
              "#d8576b"
             ],
             [
              0.6666666666666666,
              "#ed7953"
             ],
             [
              0.7777777777777778,
              "#fb9f3a"
             ],
             [
              0.8888888888888888,
              "#fdca26"
             ],
             [
              1,
              "#f0f921"
             ]
            ],
            "type": "heatmapgl"
           }
          ],
          "histogram": [
           {
            "marker": {
             "pattern": {
              "fillmode": "overlay",
              "size": 10,
              "solidity": 0.2
             }
            },
            "type": "histogram"
           }
          ],
          "histogram2d": [
           {
            "colorbar": {
             "outlinewidth": 0,
             "ticks": ""
            },
            "colorscale": [
             [
              0,
              "#0d0887"
             ],
             [
              0.1111111111111111,
              "#46039f"
             ],
             [
              0.2222222222222222,
              "#7201a8"
             ],
             [
              0.3333333333333333,
              "#9c179e"
             ],
             [
              0.4444444444444444,
              "#bd3786"
             ],
             [
              0.5555555555555556,
              "#d8576b"
             ],
             [
              0.6666666666666666,
              "#ed7953"
             ],
             [
              0.7777777777777778,
              "#fb9f3a"
             ],
             [
              0.8888888888888888,
              "#fdca26"
             ],
             [
              1,
              "#f0f921"
             ]
            ],
            "type": "histogram2d"
           }
          ],
          "histogram2dcontour": [
           {
            "colorbar": {
             "outlinewidth": 0,
             "ticks": ""
            },
            "colorscale": [
             [
              0,
              "#0d0887"
             ],
             [
              0.1111111111111111,
              "#46039f"
             ],
             [
              0.2222222222222222,
              "#7201a8"
             ],
             [
              0.3333333333333333,
              "#9c179e"
             ],
             [
              0.4444444444444444,
              "#bd3786"
             ],
             [
              0.5555555555555556,
              "#d8576b"
             ],
             [
              0.6666666666666666,
              "#ed7953"
             ],
             [
              0.7777777777777778,
              "#fb9f3a"
             ],
             [
              0.8888888888888888,
              "#fdca26"
             ],
             [
              1,
              "#f0f921"
             ]
            ],
            "type": "histogram2dcontour"
           }
          ],
          "mesh3d": [
           {
            "colorbar": {
             "outlinewidth": 0,
             "ticks": ""
            },
            "type": "mesh3d"
           }
          ],
          "parcoords": [
           {
            "line": {
             "colorbar": {
              "outlinewidth": 0,
              "ticks": ""
             }
            },
            "type": "parcoords"
           }
          ],
          "pie": [
           {
            "automargin": true,
            "type": "pie"
           }
          ],
          "scatter": [
           {
            "fillpattern": {
             "fillmode": "overlay",
             "size": 10,
             "solidity": 0.2
            },
            "type": "scatter"
           }
          ],
          "scatter3d": [
           {
            "line": {
             "colorbar": {
              "outlinewidth": 0,
              "ticks": ""
             }
            },
            "marker": {
             "colorbar": {
              "outlinewidth": 0,
              "ticks": ""
             }
            },
            "type": "scatter3d"
           }
          ],
          "scattercarpet": [
           {
            "marker": {
             "colorbar": {
              "outlinewidth": 0,
              "ticks": ""
             }
            },
            "type": "scattercarpet"
           }
          ],
          "scattergeo": [
           {
            "marker": {
             "colorbar": {
              "outlinewidth": 0,
              "ticks": ""
             }
            },
            "type": "scattergeo"
           }
          ],
          "scattergl": [
           {
            "marker": {
             "colorbar": {
              "outlinewidth": 0,
              "ticks": ""
             }
            },
            "type": "scattergl"
           }
          ],
          "scattermapbox": [
           {
            "marker": {
             "colorbar": {
              "outlinewidth": 0,
              "ticks": ""
             }
            },
            "type": "scattermapbox"
           }
          ],
          "scatterpolar": [
           {
            "marker": {
             "colorbar": {
              "outlinewidth": 0,
              "ticks": ""
             }
            },
            "type": "scatterpolar"
           }
          ],
          "scatterpolargl": [
           {
            "marker": {
             "colorbar": {
              "outlinewidth": 0,
              "ticks": ""
             }
            },
            "type": "scatterpolargl"
           }
          ],
          "scatterternary": [
           {
            "marker": {
             "colorbar": {
              "outlinewidth": 0,
              "ticks": ""
             }
            },
            "type": "scatterternary"
           }
          ],
          "surface": [
           {
            "colorbar": {
             "outlinewidth": 0,
             "ticks": ""
            },
            "colorscale": [
             [
              0,
              "#0d0887"
             ],
             [
              0.1111111111111111,
              "#46039f"
             ],
             [
              0.2222222222222222,
              "#7201a8"
             ],
             [
              0.3333333333333333,
              "#9c179e"
             ],
             [
              0.4444444444444444,
              "#bd3786"
             ],
             [
              0.5555555555555556,
              "#d8576b"
             ],
             [
              0.6666666666666666,
              "#ed7953"
             ],
             [
              0.7777777777777778,
              "#fb9f3a"
             ],
             [
              0.8888888888888888,
              "#fdca26"
             ],
             [
              1,
              "#f0f921"
             ]
            ],
            "type": "surface"
           }
          ],
          "table": [
           {
            "cells": {
             "fill": {
              "color": "#EBF0F8"
             },
             "line": {
              "color": "white"
             }
            },
            "header": {
             "fill": {
              "color": "#C8D4E3"
             },
             "line": {
              "color": "white"
             }
            },
            "type": "table"
           }
          ]
         },
         "layout": {
          "annotationdefaults": {
           "arrowcolor": "#2a3f5f",
           "arrowhead": 0,
           "arrowwidth": 1
          },
          "autotypenumbers": "strict",
          "coloraxis": {
           "colorbar": {
            "outlinewidth": 0,
            "ticks": ""
           }
          },
          "colorscale": {
           "diverging": [
            [
             0,
             "#8e0152"
            ],
            [
             0.1,
             "#c51b7d"
            ],
            [
             0.2,
             "#de77ae"
            ],
            [
             0.3,
             "#f1b6da"
            ],
            [
             0.4,
             "#fde0ef"
            ],
            [
             0.5,
             "#f7f7f7"
            ],
            [
             0.6,
             "#e6f5d0"
            ],
            [
             0.7,
             "#b8e186"
            ],
            [
             0.8,
             "#7fbc41"
            ],
            [
             0.9,
             "#4d9221"
            ],
            [
             1,
             "#276419"
            ]
           ],
           "sequential": [
            [
             0,
             "#0d0887"
            ],
            [
             0.1111111111111111,
             "#46039f"
            ],
            [
             0.2222222222222222,
             "#7201a8"
            ],
            [
             0.3333333333333333,
             "#9c179e"
            ],
            [
             0.4444444444444444,
             "#bd3786"
            ],
            [
             0.5555555555555556,
             "#d8576b"
            ],
            [
             0.6666666666666666,
             "#ed7953"
            ],
            [
             0.7777777777777778,
             "#fb9f3a"
            ],
            [
             0.8888888888888888,
             "#fdca26"
            ],
            [
             1,
             "#f0f921"
            ]
           ],
           "sequentialminus": [
            [
             0,
             "#0d0887"
            ],
            [
             0.1111111111111111,
             "#46039f"
            ],
            [
             0.2222222222222222,
             "#7201a8"
            ],
            [
             0.3333333333333333,
             "#9c179e"
            ],
            [
             0.4444444444444444,
             "#bd3786"
            ],
            [
             0.5555555555555556,
             "#d8576b"
            ],
            [
             0.6666666666666666,
             "#ed7953"
            ],
            [
             0.7777777777777778,
             "#fb9f3a"
            ],
            [
             0.8888888888888888,
             "#fdca26"
            ],
            [
             1,
             "#f0f921"
            ]
           ]
          },
          "colorway": [
           "#636efa",
           "#EF553B",
           "#00cc96",
           "#ab63fa",
           "#FFA15A",
           "#19d3f3",
           "#FF6692",
           "#B6E880",
           "#FF97FF",
           "#FECB52"
          ],
          "font": {
           "color": "#2a3f5f"
          },
          "geo": {
           "bgcolor": "white",
           "lakecolor": "white",
           "landcolor": "#E5ECF6",
           "showlakes": true,
           "showland": true,
           "subunitcolor": "white"
          },
          "hoverlabel": {
           "align": "left"
          },
          "hovermode": "closest",
          "mapbox": {
           "style": "light"
          },
          "paper_bgcolor": "white",
          "plot_bgcolor": "#E5ECF6",
          "polar": {
           "angularaxis": {
            "gridcolor": "white",
            "linecolor": "white",
            "ticks": ""
           },
           "bgcolor": "#E5ECF6",
           "radialaxis": {
            "gridcolor": "white",
            "linecolor": "white",
            "ticks": ""
           }
          },
          "scene": {
           "xaxis": {
            "backgroundcolor": "#E5ECF6",
            "gridcolor": "white",
            "gridwidth": 2,
            "linecolor": "white",
            "showbackground": true,
            "ticks": "",
            "zerolinecolor": "white"
           },
           "yaxis": {
            "backgroundcolor": "#E5ECF6",
            "gridcolor": "white",
            "gridwidth": 2,
            "linecolor": "white",
            "showbackground": true,
            "ticks": "",
            "zerolinecolor": "white"
           },
           "zaxis": {
            "backgroundcolor": "#E5ECF6",
            "gridcolor": "white",
            "gridwidth": 2,
            "linecolor": "white",
            "showbackground": true,
            "ticks": "",
            "zerolinecolor": "white"
           }
          },
          "shapedefaults": {
           "line": {
            "color": "#2a3f5f"
           }
          },
          "ternary": {
           "aaxis": {
            "gridcolor": "white",
            "linecolor": "white",
            "ticks": ""
           },
           "baxis": {
            "gridcolor": "white",
            "linecolor": "white",
            "ticks": ""
           },
           "bgcolor": "#E5ECF6",
           "caxis": {
            "gridcolor": "white",
            "linecolor": "white",
            "ticks": ""
           }
          },
          "title": {
           "x": 0.05
          },
          "xaxis": {
           "automargin": true,
           "gridcolor": "white",
           "linecolor": "white",
           "ticks": "",
           "title": {
            "standoff": 15
           },
           "zerolinecolor": "white",
           "zerolinewidth": 2
          },
          "yaxis": {
           "automargin": true,
           "gridcolor": "white",
           "linecolor": "white",
           "ticks": "",
           "title": {
            "standoff": 15
           },
           "zerolinecolor": "white",
           "zerolinewidth": 2
          }
         }
        },
        "title": {
         "text": "Word count(hy) per song by artist"
        },
        "xaxis": {
         "anchor": "y",
         "domain": [
          0,
          1
         ],
         "title": {
          "text": "Artist"
         }
        },
        "yaxis": {
         "anchor": "x",
         "domain": [
          0,
          1
         ],
         "title": {
          "text": "n_tokens_hy"
         }
        }
       }
      },
      "text/html": [
       "<div>                            <div id=\"4b1f183a-b84b-41ea-b0a9-aa53f99b1ea9\" class=\"plotly-graph-div\" style=\"height:525px; width:100%;\"></div>            <script type=\"text/javascript\">                require([\"plotly\"], function(Plotly) {                    window.PLOTLYENV=window.PLOTLYENV || {};                                    if (document.getElementById(\"4b1f183a-b84b-41ea-b0a9-aa53f99b1ea9\")) {                    Plotly.newPlot(                        \"4b1f183a-b84b-41ea-b0a9-aa53f99b1ea9\",                        [{\"alignmentgroup\":\"True\",\"hovertemplate\":\"Artist=%{x}<br>n_tokens_hy=%{y}<extra></extra>\",\"legendgroup\":\"\",\"marker\":{\"color\":\"#636efa\"},\"name\":\"\",\"notched\":false,\"offsetgroup\":\"\",\"orientation\":\"v\",\"showlegend\":false,\"x\":[\"\\u0531\\u0550\\u0539\\u0548\\u0552\\u0550 \\u0544\\u0535\\u054d\\u0549\\u0545\\u0531\\u0546\",\"\\u0531\\u0550\\u0539\\u0548\\u0552\\u0550 \\u0544\\u0535\\u054d\\u0549\\u0545\\u0531\\u0546\",\"\\u0531\\u0550\\u0539\\u0548\\u0552\\u0550 \\u0544\\u0535\\u054d\\u0549\\u0545\\u0531\\u0546\",\"\\u0531\\u0550\\u0539\\u0548\\u0552\\u0550 \\u0544\\u0535\\u054d\\u0549\\u0545\\u0531\\u0546\",\"\\u0531\\u0550\\u0539\\u0548\\u0552\\u0550 \\u0544\\u0535\\u054d\\u0549\\u0545\\u0531\\u0546\",\"\\u0531\\u0550\\u0539\\u0548\\u0552\\u0550 \\u0544\\u0535\\u054d\\u0549\\u0545\\u0531\\u0546\",\"\\u0531\\u0550\\u0539\\u0548\\u0552\\u0550 \\u0544\\u0535\\u054d\\u0549\\u0545\\u0531\\u0546\",\"\\u0531\\u0550\\u0539\\u0548\\u0552\\u0550 \\u0544\\u0535\\u054d\\u0549\\u0545\\u0531\\u0546\",\"\\u0531\\u0550\\u0539\\u0548\\u0552\\u0550 \\u0544\\u0535\\u054d\\u0549\\u0545\\u0531\\u0546\",\"\\u0531\\u0550\\u0539\\u0548\\u0552\\u0550 \\u0544\\u0535\\u054d\\u0549\\u0545\\u0531\\u0546\",\"\\u0531\\u0550\\u0539\\u0548\\u0552\\u0550 \\u0544\\u0535\\u054d\\u0549\\u0545\\u0531\\u0546\",\"\\u0531\\u0550\\u0539\\u0548\\u0552\\u0550 \\u0544\\u0535\\u054d\\u0549\\u0545\\u0531\\u0546\",\"\\u0531\\u0550\\u0539\\u0548\\u0552\\u0550 \\u0544\\u0535\\u054d\\u0549\\u0545\\u0531\\u0546\",\"\\u0531\\u0550\\u0539\\u0548\\u0552\\u0550 \\u0544\\u0535\\u054d\\u0549\\u0545\\u0531\\u0546\",\"\\u0531\\u0550\\u0539\\u0548\\u0552\\u0550 \\u0544\\u0535\\u054d\\u0549\\u0545\\u0531\\u0546\",\"\\u0531\\u0550\\u0539\\u0548\\u0552\\u0550 \\u0544\\u0535\\u054d\\u0549\\u0545\\u0531\\u0546\",\"\\u0531\\u0550\\u0539\\u0548\\u0552\\u0550 \\u0544\\u0535\\u054d\\u0549\\u0545\\u0531\\u0546\",\"\\u0531\\u0550\\u0539\\u0548\\u0552\\u0550 \\u0544\\u0535\\u054d\\u0549\\u0545\\u0531\\u0546\",\"\\u0531\\u0550\\u0539\\u0548\\u0552\\u0550 \\u0544\\u0535\\u054d\\u0549\\u0545\\u0531\\u0546\",\"\\u0531\\u0550\\u0539\\u0548\\u0552\\u0550 \\u0544\\u0535\\u054d\\u0549\\u0545\\u0531\\u0546\",\"\\u0531\\u0550\\u0539\\u0548\\u0552\\u0550 \\u0544\\u0535\\u054d\\u0549\\u0545\\u0531\\u0546\",\"\\u0531\\u0550\\u0539\\u0548\\u0552\\u0550 \\u0544\\u0535\\u054d\\u0549\\u0545\\u0531\\u0546\",\"\\u0531\\u0550\\u0539\\u0548\\u0552\\u0550 \\u0544\\u0535\\u054d\\u0549\\u0545\\u0531\\u0546\",\"\\u0531\\u0550\\u0539\\u0548\\u0552\\u0550 \\u0544\\u0535\\u054d\\u0549\\u0545\\u0531\\u0546\",\"\\u0531\\u0550\\u0539\\u0548\\u0552\\u0550 \\u0544\\u0535\\u054d\\u0549\\u0545\\u0531\\u0546\",\"\\u0531\\u0550\\u0539\\u0548\\u0552\\u0550 \\u0544\\u0535\\u054d\\u0549\\u0545\\u0531\\u0546\",\"\\u0531\\u0550\\u0539\\u0548\\u0552\\u0550 \\u0544\\u0535\\u054d\\u0549\\u0545\\u0531\\u0546\",\"\\u0531\\u0550\\u0539\\u0548\\u0552\\u0550 \\u0544\\u0535\\u054d\\u0549\\u0545\\u0531\\u0546\",\"\\u0531\\u0550\\u0539\\u0548\\u0552\\u0550 \\u0544\\u0535\\u054d\\u0549\\u0545\\u0531\\u0546\",\"\\u0531\\u0550\\u0539\\u0548\\u0552\\u0550 \\u0544\\u0535\\u054d\\u0549\\u0545\\u0531\\u0546\",\"\\u0531\\u0550\\u0539\\u0548\\u0552\\u0550 \\u0544\\u0535\\u054d\\u0549\\u0545\\u0531\\u0546\",\"\\u0531\\u0550\\u0539\\u0548\\u0552\\u0550 \\u0544\\u0535\\u054d\\u0549\\u0545\\u0531\\u0546\",\"\\u0531\\u0550\\u0539\\u0548\\u0552\\u0550 \\u0544\\u0535\\u054d\\u0549\\u0545\\u0531\\u0546\",\"\\u0531\\u0550\\u0539\\u0548\\u0552\\u0550 \\u0544\\u0535\\u054d\\u0549\\u0545\\u0531\\u0546\",\"\\u0531\\u0550\\u0539\\u0548\\u0552\\u0550 \\u0544\\u0535\\u054d\\u0549\\u0545\\u0531\\u0546\",\"\\u0531\\u0550\\u0539\\u0548\\u0552\\u0550 \\u0544\\u0535\\u054d\\u0549\\u0545\\u0531\\u0546\",\"\\u0531\\u0550\\u0539\\u0548\\u0552\\u0550 \\u0544\\u0535\\u054d\\u0549\\u0545\\u0531\\u0546\",\"\\u0531\\u0550\\u0539\\u0548\\u0552\\u0550 \\u0544\\u0535\\u054d\\u0549\\u0545\\u0531\\u0546\",\"\\u0531\\u0550\\u0539\\u0548\\u0552\\u0550 \\u0544\\u0535\\u054d\\u0549\\u0545\\u0531\\u0546\",\"\\u0531\\u0550\\u0539\\u0548\\u0552\\u0550 \\u0544\\u0535\\u054d\\u0549\\u0545\\u0531\\u0546\",\"\\u0531\\u0550\\u0539\\u0548\\u0552\\u0550 \\u0544\\u0535\\u054d\\u0549\\u0545\\u0531\\u0546\",\"\\u0531\\u0550\\u0539\\u0548\\u0552\\u0550 \\u0544\\u0535\\u054d\\u0549\\u0545\\u0531\\u0546\",\"\\u0531\\u0550\\u0539\\u0548\\u0552\\u0550 \\u0544\\u0535\\u054d\\u0549\\u0545\\u0531\\u0546\",\"\\u0531\\u0550\\u0539\\u0548\\u0552\\u0550 \\u0544\\u0535\\u054d\\u0549\\u0545\\u0531\\u0546\",\"\\u0531\\u0550\\u0539\\u0548\\u0552\\u0550 \\u0544\\u0535\\u054d\\u0549\\u0545\\u0531\\u0546\",\"\\u0531\\u0550\\u0539\\u0548\\u0552\\u0550 \\u0544\\u0535\\u054d\\u0549\\u0545\\u0531\\u0546\",\"\\u0531\\u0550\\u0539\\u0548\\u0552\\u0550 \\u0544\\u0535\\u054d\\u0549\\u0545\\u0531\\u0546\",\"\\u0531\\u0550\\u0539\\u0548\\u0552\\u0550 \\u0544\\u0535\\u054d\\u0549\\u0545\\u0531\\u0546\",\"\\u0531\\u0550\\u0539\\u0548\\u0552\\u0550 \\u0544\\u0535\\u054d\\u0549\\u0545\\u0531\\u0546\",\"\\u0531\\u0550\\u0539\\u0548\\u0552\\u0550 \\u0544\\u0535\\u054d\\u0549\\u0545\\u0531\\u0546\",\"\\u054c\\u0548\\u0552\\u0532\\u0535\\u0546 \\u0540\\u0531\\u053d\\u054e\\u0535\\u0550\\u0534\\u0545\\u0531\\u0546\",\"\\u054c\\u0548\\u0552\\u0532\\u0535\\u0546 \\u0540\\u0531\\u053d\\u054e\\u0535\\u0550\\u0534\\u0545\\u0531\\u0546\",\"\\u054c\\u0548\\u0552\\u0532\\u0535\\u0546 \\u0540\\u0531\\u053d\\u054e\\u0535\\u0550\\u0534\\u0545\\u0531\\u0546\",\"\\u054c\\u0548\\u0552\\u0532\\u0535\\u0546 \\u0540\\u0531\\u053d\\u054e\\u0535\\u0550\\u0534\\u0545\\u0531\\u0546\",\"\\u054c\\u0548\\u0552\\u0532\\u0535\\u0546 \\u0540\\u0531\\u053d\\u054e\\u0535\\u0550\\u0534\\u0545\\u0531\\u0546\",\"\\u054c\\u0548\\u0552\\u0532\\u0535\\u0546 \\u0540\\u0531\\u053d\\u054e\\u0535\\u0550\\u0534\\u0545\\u0531\\u0546\",\"\\u054c\\u0548\\u0552\\u0532\\u0535\\u0546 \\u0540\\u0531\\u053d\\u054e\\u0535\\u0550\\u0534\\u0545\\u0531\\u0546\",\"\\u054c\\u0548\\u0552\\u0532\\u0535\\u0546 \\u0540\\u0531\\u053d\\u054e\\u0535\\u0550\\u0534\\u0545\\u0531\\u0546\",\"\\u054c\\u0548\\u0552\\u0532\\u0535\\u0546 \\u0540\\u0531\\u053d\\u054e\\u0535\\u0550\\u0534\\u0545\\u0531\\u0546\",\"\\u054c\\u0548\\u0552\\u0532\\u0535\\u0546 \\u0540\\u0531\\u053d\\u054e\\u0535\\u0550\\u0534\\u0545\\u0531\\u0546\",\"\\u054c\\u0548\\u0552\\u0532\\u0535\\u0546 \\u0540\\u0531\\u053d\\u054e\\u0535\\u0550\\u0534\\u0545\\u0531\\u0546\",\"\\u054c\\u0548\\u0552\\u0532\\u0535\\u0546 \\u0540\\u0531\\u053d\\u054e\\u0535\\u0550\\u0534\\u0545\\u0531\\u0546\",\"\\u054c\\u0548\\u0552\\u0532\\u0535\\u0546 \\u0540\\u0531\\u053d\\u054e\\u0535\\u0550\\u0534\\u0545\\u0531\\u0546\",\"\\u054c\\u0548\\u0552\\u0532\\u0535\\u0546 \\u0540\\u0531\\u053d\\u054e\\u0535\\u0550\\u0534\\u0545\\u0531\\u0546\",\"\\u054c\\u0548\\u0552\\u0532\\u0535\\u0546 \\u0540\\u0531\\u053d\\u054e\\u0535\\u0550\\u0534\\u0545\\u0531\\u0546\",\"\\u054c\\u0548\\u0552\\u0532\\u0535\\u0546 \\u0540\\u0531\\u053d\\u054e\\u0535\\u0550\\u0534\\u0545\\u0531\\u0546\",\"\\u054c\\u0548\\u0552\\u0532\\u0535\\u0546 \\u0540\\u0531\\u053d\\u054e\\u0535\\u0550\\u0534\\u0545\\u0531\\u0546\",\"\\u054c\\u0548\\u0552\\u0532\\u0535\\u0546 \\u0540\\u0531\\u053d\\u054e\\u0535\\u0550\\u0534\\u0545\\u0531\\u0546\",\"\\u054c\\u0548\\u0552\\u0532\\u0535\\u0546 \\u0540\\u0531\\u053d\\u054e\\u0535\\u0550\\u0534\\u0545\\u0531\\u0546\",\"\\u054c\\u0548\\u0552\\u0532\\u0535\\u0546 \\u0540\\u0531\\u053d\\u054e\\u0535\\u0550\\u0534\\u0545\\u0531\\u0546\",\"\\u054c\\u0548\\u0552\\u0532\\u0535\\u0546 \\u0540\\u0531\\u053d\\u054e\\u0535\\u0550\\u0534\\u0545\\u0531\\u0546\",\"\\u054c\\u0548\\u0552\\u0532\\u0535\\u0546 \\u0540\\u0531\\u053d\\u054e\\u0535\\u0550\\u0534\\u0545\\u0531\\u0546\",\"\\u054c\\u0548\\u0552\\u0532\\u0535\\u0546 \\u0540\\u0531\\u053d\\u054e\\u0535\\u0550\\u0534\\u0545\\u0531\\u0546\",\"\\u054c\\u0548\\u0552\\u0532\\u0535\\u0546 \\u0540\\u0531\\u053d\\u054e\\u0535\\u0550\\u0534\\u0545\\u0531\\u0546\",\"\\u054c\\u0548\\u0552\\u0532\\u0535\\u0546 \\u0540\\u0531\\u053d\\u054e\\u0535\\u0550\\u0534\\u0545\\u0531\\u0546\",\"\\u054c\\u0548\\u0552\\u0532\\u0535\\u0546 \\u0540\\u0531\\u053d\\u054e\\u0535\\u0550\\u0534\\u0545\\u0531\\u0546\",\"\\u054c\\u0548\\u0552\\u0532\\u0535\\u0546 \\u0540\\u0531\\u053d\\u054e\\u0535\\u0550\\u0534\\u0545\\u0531\\u0546\",\"\\u054c\\u0548\\u0552\\u0532\\u0535\\u0546 \\u0540\\u0531\\u053d\\u054e\\u0535\\u0550\\u0534\\u0545\\u0531\\u0546\",\"\\u054c\\u0548\\u0552\\u0532\\u0535\\u0546 \\u0540\\u0531\\u053d\\u054e\\u0535\\u0550\\u0534\\u0545\\u0531\\u0546\",\"\\u054c\\u0548\\u0552\\u0532\\u0535\\u0546 \\u0540\\u0531\\u053d\\u054e\\u0535\\u0550\\u0534\\u0545\\u0531\\u0546\",\"\\u054c\\u0548\\u0552\\u0532\\u0535\\u0546 \\u0540\\u0531\\u053d\\u054e\\u0535\\u0550\\u0534\\u0545\\u0531\\u0546\",\"\\u054c\\u0548\\u0552\\u0532\\u0535\\u0546 \\u0540\\u0531\\u053d\\u054e\\u0535\\u0550\\u0534\\u0545\\u0531\\u0546\",\"\\u054c\\u0548\\u0552\\u0532\\u0535\\u0546 \\u0540\\u0531\\u053d\\u054e\\u0535\\u0550\\u0534\\u0545\\u0531\\u0546\",\"\\u054c\\u0548\\u0552\\u0532\\u0535\\u0546 \\u0540\\u0531\\u053d\\u054e\\u0535\\u0550\\u0534\\u0545\\u0531\\u0546\",\"\\u054c\\u0548\\u0552\\u0532\\u0535\\u0546 \\u0540\\u0531\\u053d\\u054e\\u0535\\u0550\\u0534\\u0545\\u0531\\u0546\",\"\\u054c\\u0548\\u0552\\u0532\\u0535\\u0546 \\u0540\\u0531\\u053d\\u054e\\u0535\\u0550\\u0534\\u0545\\u0531\\u0546\",\"\\u054c\\u0548\\u0552\\u0532\\u0535\\u0546 \\u0540\\u0531\\u053d\\u054e\\u0535\\u0550\\u0534\\u0545\\u0531\\u0546\",\"\\u054c\\u0548\\u0552\\u0532\\u0535\\u0546 \\u0540\\u0531\\u053d\\u054e\\u0535\\u0550\\u0534\\u0545\\u0531\\u0546\",\"\\u054c\\u0548\\u0552\\u0532\\u0535\\u0546 \\u0540\\u0531\\u053d\\u054e\\u0535\\u0550\\u0534\\u0545\\u0531\\u0546\",\"\\u054c\\u0548\\u0552\\u0532\\u0535\\u0546 \\u0540\\u0531\\u053d\\u054e\\u0535\\u0550\\u0534\\u0545\\u0531\\u0546\",\"\\u054c\\u0548\\u0552\\u0532\\u0535\\u0546 \\u0540\\u0531\\u053d\\u054e\\u0535\\u0550\\u0534\\u0545\\u0531\\u0546\",\"\\u054c\\u0548\\u0552\\u0532\\u0535\\u0546 \\u0540\\u0531\\u053d\\u054e\\u0535\\u0550\\u0534\\u0545\\u0531\\u0546\",\"\\u054c\\u0548\\u0552\\u0532\\u0535\\u0546 \\u0540\\u0531\\u053d\\u054e\\u0535\\u0550\\u0534\\u0545\\u0531\\u0546\",\"\\u054c\\u0548\\u0552\\u0532\\u0535\\u0546 \\u0540\\u0531\\u053d\\u054e\\u0535\\u0550\\u0534\\u0545\\u0531\\u0546\",\"\\u054c\\u0548\\u0552\\u0532\\u0535\\u0546 \\u0540\\u0531\\u053d\\u054e\\u0535\\u0550\\u0534\\u0545\\u0531\\u0546\",\"\\u054c\\u0548\\u0552\\u0532\\u0535\\u0546 \\u0540\\u0531\\u053d\\u054e\\u0535\\u0550\\u0534\\u0545\\u0531\\u0546\",\"\\u054c\\u0548\\u0552\\u0532\\u0535\\u0546 \\u0540\\u0531\\u053d\\u054e\\u0535\\u0550\\u0534\\u0545\\u0531\\u0546\",\"\\u054c\\u0548\\u0552\\u0532\\u0535\\u0546 \\u0540\\u0531\\u053d\\u054e\\u0535\\u0550\\u0534\\u0545\\u0531\\u0546\",\"\\u054c\\u0548\\u0552\\u0532\\u0535\\u0546 \\u0540\\u0531\\u053d\\u054e\\u0535\\u0550\\u0534\\u0545\\u0531\\u0546\",\"\\u054c\\u0548\\u0552\\u0532\\u0535\\u0546 \\u0540\\u0531\\u053d\\u054e\\u0535\\u0550\\u0534\\u0545\\u0531\\u0546\",\"\\u054c\\u0548\\u0552\\u0532\\u0535\\u0546 \\u0540\\u0531\\u053d\\u054e\\u0535\\u0550\\u0534\\u0545\\u0531\\u0546\",\"\\u054c\\u0548\\u0552\\u0532\\u0535\\u0546 \\u0540\\u0531\\u053d\\u054e\\u0535\\u0550\\u0534\\u0545\\u0531\\u0546\",\"\\u054c\\u0548\\u0552\\u0532\\u0535\\u0546 \\u0540\\u0531\\u053d\\u054e\\u0535\\u0550\\u0534\\u0545\\u0531\\u0546\",\"\\u054c\\u0548\\u0552\\u0532\\u0535\\u0546 \\u0540\\u0531\\u053d\\u054e\\u0535\\u0550\\u0534\\u0545\\u0531\\u0546\",\"\\u054c\\u0548\\u0552\\u0532\\u0535\\u0546 \\u0540\\u0531\\u053d\\u054e\\u0535\\u0550\\u0534\\u0545\\u0531\\u0546\",\"\\u054c\\u0548\\u0552\\u0532\\u0535\\u0546 \\u0540\\u0531\\u053d\\u054e\\u0535\\u0550\\u0534\\u0545\\u0531\\u0546\",\"\\u054c\\u0548\\u0552\\u0532\\u0535\\u0546 \\u0540\\u0531\\u053d\\u054e\\u0535\\u0550\\u0534\\u0545\\u0531\\u0546\",\"\\u054c\\u0548\\u0552\\u0532\\u0535\\u0546 \\u0540\\u0531\\u053d\\u054e\\u0535\\u0550\\u0534\\u0545\\u0531\\u0546\",\"\\u054c\\u0548\\u0552\\u0532\\u0535\\u0546 \\u0540\\u0531\\u053d\\u054e\\u0535\\u0550\\u0534\\u0545\\u0531\\u0546\",\"\\u054c\\u0548\\u0552\\u0532\\u0535\\u0546 \\u0540\\u0531\\u053d\\u054e\\u0535\\u0550\\u0534\\u0545\\u0531\\u0546\",\"\\u054c\\u0548\\u0552\\u0532\\u0535\\u0546 \\u0540\\u0531\\u053d\\u054e\\u0535\\u0550\\u0534\\u0545\\u0531\\u0546\",\"\\u054c\\u0548\\u0552\\u0532\\u0535\\u0546 \\u0540\\u0531\\u053d\\u054e\\u0535\\u0550\\u0534\\u0545\\u0531\\u0546\",\"\\u054c\\u0548\\u0552\\u0532\\u0535\\u0546 \\u0540\\u0531\\u053d\\u054e\\u0535\\u0550\\u0534\\u0545\\u0531\\u0546\",\"\\u054c\\u0548\\u0552\\u0532\\u0535\\u0546 \\u0540\\u0531\\u053d\\u054e\\u0535\\u0550\\u0534\\u0545\\u0531\\u0546\",\"\\u054c\\u0548\\u0552\\u0532\\u0535\\u0546 \\u0540\\u0531\\u053d\\u054e\\u0535\\u0550\\u0534\\u0545\\u0531\\u0546\",\"\\u054c\\u0548\\u0552\\u0532\\u0535\\u0546 \\u0540\\u0531\\u053d\\u054e\\u0535\\u0550\\u0534\\u0545\\u0531\\u0546\",\"\\u054c\\u0548\\u0552\\u0532\\u0535\\u0546 \\u0540\\u0531\\u053d\\u054e\\u0535\\u0550\\u0534\\u0545\\u0531\\u0546\",\"\\u054c\\u0548\\u0552\\u0532\\u0535\\u0546 \\u0540\\u0531\\u053d\\u054e\\u0535\\u0550\\u0534\\u0545\\u0531\\u0546\",\"\\u054c\\u0548\\u0552\\u0532\\u0535\\u0546 \\u0540\\u0531\\u053d\\u054e\\u0535\\u0550\\u0534\\u0545\\u0531\\u0546\",\"\\u054c\\u0548\\u0552\\u0532\\u0535\\u0546 \\u0540\\u0531\\u053d\\u054e\\u0535\\u0550\\u0534\\u0545\\u0531\\u0546\",\"\\u054c\\u0548\\u0552\\u0532\\u0535\\u0546 \\u0540\\u0531\\u053d\\u054e\\u0535\\u0550\\u0534\\u0545\\u0531\\u0546\",\"\\u054c\\u0548\\u0552\\u0532\\u0535\\u0546 \\u0540\\u0531\\u053d\\u054e\\u0535\\u0550\\u0534\\u0545\\u0531\\u0546\",\"\\u054c\\u0548\\u0552\\u0532\\u0535\\u0546 \\u0540\\u0531\\u053d\\u054e\\u0535\\u0550\\u0534\\u0545\\u0531\\u0546\",\"\\u054c\\u0548\\u0552\\u0532\\u0535\\u0546 \\u0540\\u0531\\u053d\\u054e\\u0535\\u0550\\u0534\\u0545\\u0531\\u0546\",\"\\u054c\\u0548\\u0552\\u0532\\u0535\\u0546 \\u0540\\u0531\\u053d\\u054e\\u0535\\u0550\\u0534\\u0545\\u0531\\u0546\",\"\\u054c\\u0548\\u0552\\u0532\\u0535\\u0546 \\u0540\\u0531\\u053d\\u054e\\u0535\\u0550\\u0534\\u0545\\u0531\\u0546\",\"\\u054c\\u0548\\u0552\\u0532\\u0535\\u0546 \\u0540\\u0531\\u053d\\u054e\\u0535\\u0550\\u0534\\u0545\\u0531\\u0546\",\"\\u054c\\u0548\\u0552\\u0532\\u0535\\u0546 \\u0540\\u0531\\u053d\\u054e\\u0535\\u0550\\u0534\\u0545\\u0531\\u0546\",\"\\u054c\\u0548\\u0552\\u0532\\u0535\\u0546 \\u0540\\u0531\\u053d\\u054e\\u0535\\u0550\\u0534\\u0545\\u0531\\u0546\",\"\\u054c\\u0548\\u0552\\u0532\\u0535\\u0546 \\u0540\\u0531\\u053d\\u054e\\u0535\\u0550\\u0534\\u0545\\u0531\\u0546\",\"\\u054c\\u0548\\u0552\\u0532\\u0535\\u0546 \\u0540\\u0531\\u053d\\u054e\\u0535\\u0550\\u0534\\u0545\\u0531\\u0546\",\"\\u054d\\u0531\\u0545\\u0531\\u0539-\\u0546\\u0548\\u054e\\u0531\",\"\\u054d\\u0531\\u0545\\u0531\\u0539-\\u0546\\u0548\\u054e\\u0531\",\"\\u054d\\u0531\\u0545\\u0531\\u0539-\\u0546\\u0548\\u054e\\u0531\",\"\\u054d\\u0531\\u0545\\u0531\\u0539-\\u0546\\u0548\\u054e\\u0531\",\"\\u054d\\u0531\\u0545\\u0531\\u0539-\\u0546\\u0548\\u054e\\u0531\",\"\\u054d\\u0531\\u0545\\u0531\\u0539-\\u0546\\u0548\\u054e\\u0531\",\"\\u054d\\u0531\\u0545\\u0531\\u0539-\\u0546\\u0548\\u054e\\u0531\",\"\\u054d\\u0531\\u0545\\u0531\\u0539-\\u0546\\u0548\\u054e\\u0531\",\"\\u054d\\u0531\\u0545\\u0531\\u0539-\\u0546\\u0548\\u054e\\u0531\",\"\\u054d\\u0531\\u0545\\u0531\\u0539-\\u0546\\u0548\\u054e\\u0531\",\"\\u054d\\u0531\\u0545\\u0531\\u0539-\\u0546\\u0548\\u054e\\u0531\",\"\\u054d\\u0531\\u0545\\u0531\\u0539-\\u0546\\u0548\\u054e\\u0531\",\"\\u054d\\u0531\\u0545\\u0531\\u0539-\\u0546\\u0548\\u054e\\u0531\",\"\\u054d\\u0531\\u0545\\u0531\\u0539-\\u0546\\u0548\\u054e\\u0531\",\"\\u054d\\u0531\\u0545\\u0531\\u0539-\\u0546\\u0548\\u054e\\u0531\",\"\\u054d\\u0531\\u0545\\u0531\\u0539-\\u0546\\u0548\\u054e\\u0531\",\"\\u053f\\u0548\\u0544\\u053b\\u054f\\u0531\\u054d\",\"\\u053f\\u0548\\u0544\\u053b\\u054f\\u0531\\u054d\",\"\\u053f\\u0548\\u0544\\u053b\\u054f\\u0531\\u054d\",\"\\u053f\\u0548\\u0544\\u053b\\u054f\\u0531\\u054d\",\"\\u053f\\u0548\\u0544\\u053b\\u054f\\u0531\\u054d\",\"\\u053f\\u0548\\u0544\\u053b\\u054f\\u0531\\u054d\",\"\\u053f\\u0548\\u0544\\u053b\\u054f\\u0531\\u054d\",\"\\u053f\\u0548\\u0544\\u053b\\u054f\\u0531\\u054d\",\"\\u053f\\u0548\\u0544\\u053b\\u054f\\u0531\\u054d\",\"\\u053f\\u0548\\u0544\\u053b\\u054f\\u0531\\u054d\",\"\\u053f\\u0548\\u0544\\u053b\\u054f\\u0531\\u054d\",\"\\u053f\\u0548\\u0544\\u053b\\u054f\\u0531\\u054d\",\"\\u053f\\u0548\\u0544\\u053b\\u054f\\u0531\\u054d\",\"\\u053f\\u0548\\u0544\\u053b\\u054f\\u0531\\u054d\",\"\\u053f\\u0548\\u0544\\u053b\\u054f\\u0531\\u054d\",\"\\u053f\\u0548\\u0544\\u053b\\u054f\\u0531\\u054d\",\"\\u053f\\u0548\\u0544\\u053b\\u054f\\u0531\\u054d\",\"\\u053f\\u0548\\u0544\\u053b\\u054f\\u0531\\u054d\",\"\\u053f\\u0548\\u0544\\u053b\\u054f\\u0531\\u054d\",\"\\u053f\\u0548\\u0544\\u053b\\u054f\\u0531\\u054d\",\"\\u053f\\u0548\\u0544\\u053b\\u054f\\u0531\\u054d\",\"\\u053f\\u0548\\u0544\\u053b\\u054f\\u0531\\u054d\",\"\\u053f\\u0548\\u0544\\u053b\\u054f\\u0531\\u054d\",\"\\u053f\\u0548\\u0544\\u053b\\u054f\\u0531\\u054d\",\"\\u053f\\u0548\\u0544\\u053b\\u054f\\u0531\\u054d\",\"\\u053f\\u0548\\u0544\\u053b\\u054f\\u0531\\u054d\",\"\\u053f\\u0548\\u0544\\u053b\\u054f\\u0531\\u054d\",\"\\u053f\\u0548\\u0544\\u053b\\u054f\\u0531\\u054d\",\"\\u053f\\u0548\\u0544\\u053b\\u054f\\u0531\\u054d\",\"\\u053f\\u0548\\u0544\\u053b\\u054f\\u0531\\u054d\",\"\\u053f\\u0548\\u0544\\u053b\\u054f\\u0531\\u054d\",\"\\u053f\\u0548\\u0544\\u053b\\u054f\\u0531\\u054d\",\"\\u053f\\u0548\\u0544\\u053b\\u054f\\u0531\\u054d\",\"\\u053f\\u0548\\u0544\\u053b\\u054f\\u0531\\u054d\",\"\\u053f\\u0548\\u0544\\u053b\\u054f\\u0531\\u054d\",\"\\u053f\\u0548\\u0544\\u053b\\u054f\\u0531\\u054d\",\"\\u053f\\u0548\\u0544\\u053b\\u054f\\u0531\\u054d\",\"\\u053f\\u0548\\u0544\\u053b\\u054f\\u0531\\u054d\",\"\\u053f\\u0548\\u0544\\u053b\\u054f\\u0531\\u054d\",\"\\u053f\\u0548\\u0544\\u053b\\u054f\\u0531\\u054d\",\"\\u053f\\u0548\\u0544\\u053b\\u054f\\u0531\\u054d\",\"\\u053f\\u0548\\u0544\\u053b\\u054f\\u0531\\u054d\",\"\\u053f\\u0548\\u0544\\u053b\\u054f\\u0531\\u054d\",\"\\u053f\\u0548\\u0544\\u053b\\u054f\\u0531\\u054d\",\"\\u053f\\u0548\\u0544\\u053b\\u054f\\u0531\\u054d\",\"\\u053f\\u0548\\u0544\\u053b\\u054f\\u0531\\u054d\",\"\\u053f\\u0548\\u0544\\u053b\\u054f\\u0531\\u054d\",\"\\u053f\\u0548\\u0544\\u053b\\u054f\\u0531\\u054d\",\"\\u053f\\u0548\\u0544\\u053b\\u054f\\u0531\\u054d\",\"\\u053f\\u0548\\u0544\\u053b\\u054f\\u0531\\u054d\",\"\\u053f\\u0548\\u0544\\u053b\\u054f\\u0531\\u054d\",\"\\u053f\\u0548\\u0544\\u053b\\u054f\\u0531\\u054d\",\"\\u053f\\u0548\\u0544\\u053b\\u054f\\u0531\\u054d\",\"\\u053f\\u0548\\u0544\\u053b\\u054f\\u0531\\u054d\",\"\\u053f\\u0548\\u0544\\u053b\\u054f\\u0531\\u054d\",\"\\u053f\\u0548\\u0544\\u053b\\u054f\\u0531\\u054d\",\"\\u053f\\u0548\\u0544\\u053b\\u054f\\u0531\\u054d\",\"\\u053f\\u0548\\u0544\\u053b\\u054f\\u0531\\u054d\",\"\\u053f\\u0548\\u0544\\u053b\\u054f\\u0531\\u054d\",\"\\u053f\\u0548\\u0544\\u053b\\u054f\\u0531\\u054d\",\"\\u053f\\u0548\\u0544\\u053b\\u054f\\u0531\\u054d\",\"\\u053f\\u0548\\u0544\\u053b\\u054f\\u0531\\u054d\",\"HT Hayko\",\"HT Hayko\",\"HT Hayko\",\"HT Hayko\",\"HT Hayko\",\"HT Hayko\",\"HT Hayko\",\"HT Hayko\",\"HT Hayko\",\"HT Hayko\",\"HT Hayko\",\"HT Hayko\",\"HT Hayko\",\"HT Hayko\",\"HT Hayko\",\"HT Hayko\",\"Empyray\",\"Empyray\",\"Empyray\",\"Empyray\",\"Empyray\",\"Empyray\",\"Empyray\",\"Empyray\",\"Empyray\",\"Empyray\",\" Lav Eli\",\" Lav Eli\",\" Lav Eli\",\" Lav Eli\",\" Lav Eli\",\" Lav Eli\",\" Lav Eli\",\" Lav Eli\",\" Lav Eli\",\"Silva Hakobyan\",\"Silva Hakobyan\",\"Silva Hakobyan\",\"Silva Hakobyan\",\"Silva Hakobyan\",\"Silva Hakobyan\",\"Silva Hakobyan\",\"Silva Hakobyan\",\"Silva Hakobyan\",\"Silva Hakobyan\",\"Silva Hakobyan\",\"Silva Hakobyan\",\"Silva Hakobyan\",\"Silva Hakobyan\",\"Silva Hakobyan\",\"Silva Hakobyan\",\"Silva Hakobyan\",\"Silva Hakobyan\",\"Silva Hakobyan\",\"Silva Hakobyan\",\"\\u0531\\u0576\\u0564\\u0580\\u0565\",\"\\u0531\\u0576\\u0564\\u0580\\u0565\",\"\\u0531\\u0576\\u0564\\u0580\\u0565\",\"\\u0531\\u0576\\u0564\\u0580\\u0565\",\"\\u0531\\u0576\\u0564\\u0580\\u0565\",\"\\u0531\\u0576\\u0564\\u0580\\u0565\",\"\\u0531\\u0576\\u0564\\u0580\\u0565\",\"\\u0531\\u0576\\u0564\\u0580\\u0565\",\"\\u0531\\u0576\\u0564\\u0580\\u0565\",\"\\u0531\\u0576\\u0564\\u0580\\u0565\",\"\\u0531\\u0576\\u0564\\u0580\\u0565\",\"\\u0531\\u0576\\u0564\\u0580\\u0565\",\"\\u053c\\u056b\\u056c\\u056b\\u0569 \\u0540\\u0578\\u057e\\u0570\\u0561\\u0576\\u0576\\u056b\\u057d\\u0575\\u0561\\u0576\",\"\\u053c\\u056b\\u056c\\u056b\\u0569 \\u0540\\u0578\\u057e\\u0570\\u0561\\u0576\\u0576\\u056b\\u057d\\u0575\\u0561\\u0576\",\"\\u053c\\u056b\\u056c\\u056b\\u0569 \\u0540\\u0578\\u057e\\u0570\\u0561\\u0576\\u0576\\u056b\\u057d\\u0575\\u0561\\u0576\",\"\\u053c\\u056b\\u056c\\u056b\\u0569 \\u0540\\u0578\\u057e\\u0570\\u0561\\u0576\\u0576\\u056b\\u057d\\u0575\\u0561\\u0576\",\"\\u053c\\u056b\\u056c\\u056b\\u0569 \\u0540\\u0578\\u057e\\u0570\\u0561\\u0576\\u0576\\u056b\\u057d\\u0575\\u0561\\u0576\",\"\\u053c\\u056b\\u056c\\u056b\\u0569 \\u0540\\u0578\\u057e\\u0570\\u0561\\u0576\\u0576\\u056b\\u057d\\u0575\\u0561\\u0576\",\"\\u053c\\u056b\\u056c\\u056b\\u0569 \\u0540\\u0578\\u057e\\u0570\\u0561\\u0576\\u0576\\u056b\\u057d\\u0575\\u0561\\u0576\",\"\\u053c\\u056b\\u056c\\u056b\\u0569 \\u0540\\u0578\\u057e\\u0570\\u0561\\u0576\\u0576\\u056b\\u057d\\u0575\\u0561\\u0576\",\"\\u053c\\u056b\\u056c\\u056b\\u0569 \\u0540\\u0578\\u057e\\u0570\\u0561\\u0576\\u0576\\u056b\\u057d\\u0575\\u0561\\u0576\",\"\\u053c\\u056b\\u056c\\u056b\\u0569 \\u0540\\u0578\\u057e\\u0570\\u0561\\u0576\\u0576\\u056b\\u057d\\u0575\\u0561\\u0576\",\"\\u053c\\u056b\\u056c\\u056b\\u0569 \\u0540\\u0578\\u057e\\u0570\\u0561\\u0576\\u0576\\u056b\\u057d\\u0575\\u0561\\u0576\",\"\\u053c\\u056b\\u056c\\u056b\\u0569 \\u0540\\u0578\\u057e\\u0570\\u0561\\u0576\\u0576\\u056b\\u057d\\u0575\\u0561\\u0576\",\"\\u053c\\u056b\\u056c\\u056b\\u0569 \\u0540\\u0578\\u057e\\u0570\\u0561\\u0576\\u0576\\u056b\\u057d\\u0575\\u0561\\u0576\",\"\\u053c\\u056b\\u056c\\u056b\\u0569 \\u0540\\u0578\\u057e\\u0570\\u0561\\u0576\\u0576\\u056b\\u057d\\u0575\\u0561\\u0576\",\"\\u053c\\u056b\\u056c\\u056b\\u0569 \\u0540\\u0578\\u057e\\u0570\\u0561\\u0576\\u0576\\u056b\\u057d\\u0575\\u0561\\u0576\",\"\\u053c\\u056b\\u056c\\u056b\\u0569 \\u0540\\u0578\\u057e\\u0570\\u0561\\u0576\\u0576\\u056b\\u057d\\u0575\\u0561\\u0576\",\"\\u053c\\u056b\\u056c\\u056b\\u0569 \\u0540\\u0578\\u057e\\u0570\\u0561\\u0576\\u0576\\u056b\\u057d\\u0575\\u0561\\u0576\",\"\\u053c\\u056b\\u056c\\u056b\\u0569 \\u0540\\u0578\\u057e\\u0570\\u0561\\u0576\\u0576\\u056b\\u057d\\u0575\\u0561\\u0576\",\"\\u053c\\u056b\\u056c\\u056b\\u0569 \\u0540\\u0578\\u057e\\u0570\\u0561\\u0576\\u0576\\u056b\\u057d\\u0575\\u0561\\u0576\",\"\\u053c\\u056b\\u056c\\u056b\\u0569 \\u0540\\u0578\\u057e\\u0570\\u0561\\u0576\\u0576\\u056b\\u057d\\u0575\\u0561\\u0576\",\"\\u053c\\u056b\\u056c\\u056b\\u0569 \\u0540\\u0578\\u057e\\u0570\\u0561\\u0576\\u0576\\u056b\\u057d\\u0575\\u0561\\u0576\",\"\\u053c\\u056b\\u056c\\u056b\\u0569 \\u0540\\u0578\\u057e\\u0570\\u0561\\u0576\\u0576\\u056b\\u057d\\u0575\\u0561\\u0576\",\"\\u053c\\u056b\\u056c\\u056b\\u0569 \\u0540\\u0578\\u057e\\u0570\\u0561\\u0576\\u0576\\u056b\\u057d\\u0575\\u0561\\u0576\",\"\\u053c\\u056b\\u056c\\u056b\\u0569 \\u0540\\u0578\\u057e\\u0570\\u0561\\u0576\\u0576\\u056b\\u057d\\u0575\\u0561\\u0576\",\"\\u054d\\u056b\\u0580\\u0578\\u0582\\u0577\\u0578\",\"\\u054d\\u056b\\u0580\\u0578\\u0582\\u0577\\u0578\",\"\\u054d\\u056b\\u0580\\u0578\\u0582\\u0577\\u0578\",\"\\u054d\\u056b\\u0580\\u0578\\u0582\\u0577\\u0578\",\"\\u054d\\u056b\\u0580\\u0578\\u0582\\u0577\\u0578\",\"\\u054d\\u056b\\u0580\\u0578\\u0582\\u0577\\u0578\",\"\\u054d\\u056b\\u0580\\u0578\\u0582\\u0577\\u0578\",\"\\u054d\\u056b\\u0580\\u0578\\u0582\\u0577\\u0578\",\"\\u054d\\u056b\\u0580\\u0578\\u0582\\u0577\\u0578\",\"\\u054d\\u056b\\u0580\\u0578\\u0582\\u0577\\u0578\",\"\\u054d\\u056b\\u0580\\u0578\\u0582\\u0577\\u0578\",\"\\u054d\\u056b\\u0580\\u0578\\u0582\\u0577\\u0578\",\"\\u054d\\u056b\\u0580\\u0578\\u0582\\u0577\\u0578\",\"\\u054d\\u056b\\u0580\\u0578\\u0582\\u0577\\u0578\",\"\\u054d\\u056b\\u0580\\u0578\\u0582\\u0577\\u0578\",\"\\u054d\\u056b\\u0580\\u0578\\u0582\\u0577\\u0578\",\"\\u054d\\u056b\\u0580\\u0578\\u0582\\u0577\\u0578\",\"\\u054d\\u056b\\u0580\\u0578\\u0582\\u0577\\u0578\",\"\\u054d\\u056b\\u0580\\u0578\\u0582\\u0577\\u0578\",\"\\u054d\\u056b\\u0580\\u0578\\u0582\\u0577\\u0578\",\"\\u054d\\u056b\\u0580\\u0578\\u0582\\u0577\\u0578\",\"\\u054d\\u056b\\u0580\\u0578\\u0582\\u0577\\u0578\",\"\\u054d\\u056b\\u0580\\u0578\\u0582\\u0577\\u0578\",\"\\u054d\\u056b\\u0580\\u0578\\u0582\\u0577\\u0578\",\"\\u054d\\u056b\\u0580\\u0578\\u0582\\u0577\\u0578\",\"\\u0544\\u056b\\u0570\\u0580\\u0561\\u0576 \\u053e\\u0561\\u057c\\u0578\\u0582\\u056f\\u0575\\u0561\\u0576\",\"\\u0544\\u056b\\u0570\\u0580\\u0561\\u0576 \\u053e\\u0561\\u057c\\u0578\\u0582\\u056f\\u0575\\u0561\\u0576\",\"\\u0544\\u056b\\u0570\\u0580\\u0561\\u0576 \\u053e\\u0561\\u057c\\u0578\\u0582\\u056f\\u0575\\u0561\\u0576\",\"\\u0544\\u056b\\u0570\\u0580\\u0561\\u0576 \\u053e\\u0561\\u057c\\u0578\\u0582\\u056f\\u0575\\u0561\\u0576\",\"\\u0544\\u056b\\u0570\\u0580\\u0561\\u0576 \\u053e\\u0561\\u057c\\u0578\\u0582\\u056f\\u0575\\u0561\\u0576\",\"\\u0544\\u056b\\u0570\\u0580\\u0561\\u0576 \\u053e\\u0561\\u057c\\u0578\\u0582\\u056f\\u0575\\u0561\\u0576\",\"\\u0544\\u056b\\u0570\\u0580\\u0561\\u0576 \\u053e\\u0561\\u057c\\u0578\\u0582\\u056f\\u0575\\u0561\\u0576\",\"\\u0544\\u056b\\u0570\\u0580\\u0561\\u0576 \\u053e\\u0561\\u057c\\u0578\\u0582\\u056f\\u0575\\u0561\\u0576\",\"\\u0544\\u056b\\u0570\\u0580\\u0561\\u0576 \\u053e\\u0561\\u057c\\u0578\\u0582\\u056f\\u0575\\u0561\\u0576\",\"\\u0544\\u056b\\u0570\\u0580\\u0561\\u0576 \\u053e\\u0561\\u057c\\u0578\\u0582\\u056f\\u0575\\u0561\\u0576\",\"\\u0544\\u056b\\u0570\\u0580\\u0561\\u0576 \\u053e\\u0561\\u057c\\u0578\\u0582\\u056f\\u0575\\u0561\\u0576\",\"\\u0544\\u056b\\u0570\\u0580\\u0561\\u0576 \\u053e\\u0561\\u057c\\u0578\\u0582\\u056f\\u0575\\u0561\\u0576\",\"\\u0544\\u056b\\u0570\\u0580\\u0561\\u0576 \\u053e\\u0561\\u057c\\u0578\\u0582\\u056f\\u0575\\u0561\\u0576\",\"\\u0544\\u056b\\u0570\\u0580\\u0561\\u0576 \\u053e\\u0561\\u057c\\u0578\\u0582\\u056f\\u0575\\u0561\\u0576\",\"\\u0544\\u056b\\u0570\\u0580\\u0561\\u0576 \\u053e\\u0561\\u057c\\u0578\\u0582\\u056f\\u0575\\u0561\\u0576\",\"\\u0544\\u056b\\u0570\\u0580\\u0561\\u0576 \\u053e\\u0561\\u057c\\u0578\\u0582\\u056f\\u0575\\u0561\\u0576\",\"\\u0544\\u056b\\u0570\\u0580\\u0561\\u0576 \\u053e\\u0561\\u057c\\u0578\\u0582\\u056f\\u0575\\u0561\\u0576\",\"\\u0544\\u056b\\u0570\\u0580\\u0561\\u0576 \\u053e\\u0561\\u057c\\u0578\\u0582\\u056f\\u0575\\u0561\\u0576\",\"Arame\",\"Arame\",\"Arame\",\"Arame\",\"Arame\",\"Arame\",\"Arame\",\"Arame\",\"Arame\",\"Razmik Amyan\",\"Razmik Amyan\",\"Razmik Amyan\",\"Razmik Amyan\",\"Razmik Amyan\",\"Razmik Amyan\",\"Razmik Amyan\",\"Razmik Amyan\",\"Razmik Amyan\",\"Razmik Amyan\",\"Razmik Amyan\",\"Razmik Amyan\",\"Razmik Amyan\",\"Razmik Amyan\",\"Razmik Amyan\",\"Razmik Amyan\",\"Razmik Amyan\",\"Razmik Amyan\",\"Harout Pamboukjian\",\"Harout Pamboukjian\",\"Harout Pamboukjian\",\"Harout Pamboukjian\",\"Harout Pamboukjian\",\"Harout Pamboukjian\",\"Harout Pamboukjian\",\"Harout Pamboukjian\",\"Harout Pamboukjian\",\"Harout Pamboukjian\",\"Harout Pamboukjian\",\"Harout Pamboukjian\",\"Harout Pamboukjian\",\"Harout Pamboukjian\",\"Harout Pamboukjian\",\"Harout Pamboukjian\",\"Harout Pamboukjian\",\"Harout Pamboukjian\",\"Harout Pamboukjian\",\"Harout Pamboukjian\",\"Harout Pamboukjian\",\"Harout Pamboukjian\",\"Harout Pamboukjian\",\"Harout Pamboukjian\",\"Harout Pamboukjian\",\"Harout Pamboukjian\",\"Harout Pamboukjian\",\"Harout Pamboukjian\",\"Harout Pamboukjian\",\"Harout Pamboukjian\",\"Harout Pamboukjian\",\"Harout Pamboukjian\",\"\\u0540\\u0561\\u0575\\u056f \\u0540\\u0561\\u056f\\u0578\\u0562\\u0575\\u0561\\u0576\",\"\\u0540\\u0561\\u0575\\u056f \\u0540\\u0561\\u056f\\u0578\\u0562\\u0575\\u0561\\u0576\",\"\\u0540\\u0561\\u0575\\u056f \\u0540\\u0561\\u056f\\u0578\\u0562\\u0575\\u0561\\u0576\",\"\\u0540\\u0561\\u0575\\u056f \\u0540\\u0561\\u056f\\u0578\\u0562\\u0575\\u0561\\u0576\",\"\\u0540\\u0561\\u0575\\u056f \\u0540\\u0561\\u056f\\u0578\\u0562\\u0575\\u0561\\u0576\",\"\\u0540\\u0561\\u0575\\u056f \\u0540\\u0561\\u056f\\u0578\\u0562\\u0575\\u0561\\u0576\",\"\\u0540\\u0561\\u0575\\u056f \\u0540\\u0561\\u056f\\u0578\\u0562\\u0575\\u0561\\u0576\",\"\\u0540\\u0561\\u0575\\u056f \\u0540\\u0561\\u056f\\u0578\\u0562\\u0575\\u0561\\u0576\",\"\\u0540\\u0561\\u0575\\u056f \\u0540\\u0561\\u056f\\u0578\\u0562\\u0575\\u0561\\u0576\",\"\\u0540\\u0561\\u0575\\u056f \\u0540\\u0561\\u056f\\u0578\\u0562\\u0575\\u0561\\u0576\",\"\\u0540\\u0561\\u0575\\u056f \\u0540\\u0561\\u056f\\u0578\\u0562\\u0575\\u0561\\u0576\",\"\\u0540\\u0561\\u0575\\u056f \\u0540\\u0561\\u056f\\u0578\\u0562\\u0575\\u0561\\u0576\",\"\\u0540\\u0561\\u0575\\u056f \\u0540\\u0561\\u056f\\u0578\\u0562\\u0575\\u0561\\u0576\",\"\\u0540\\u0561\\u0575\\u056f \\u0540\\u0561\\u056f\\u0578\\u0562\\u0575\\u0561\\u0576\",\"\\u0540\\u0561\\u0575\\u056f \\u0540\\u0561\\u056f\\u0578\\u0562\\u0575\\u0561\\u0576\",\"\\u0540\\u0561\\u0575\\u056f \\u0540\\u0561\\u056f\\u0578\\u0562\\u0575\\u0561\\u0576\",\"\\u0540\\u0561\\u0575\\u056f \\u0540\\u0561\\u056f\\u0578\\u0562\\u0575\\u0561\\u0576\",\"\\u0540\\u0561\\u0575\\u056f \\u0540\\u0561\\u056f\\u0578\\u0562\\u0575\\u0561\\u0576\",\"\\u0540\\u0561\\u0575\\u056f \\u0540\\u0561\\u056f\\u0578\\u0562\\u0575\\u0561\\u0576\",\"\\u0540\\u0561\\u0575\\u056f \\u0540\\u0561\\u056f\\u0578\\u0562\\u0575\\u0561\\u0576\",\"\\u0540\\u0561\\u0575\\u056f \\u0540\\u0561\\u056f\\u0578\\u0562\\u0575\\u0561\\u0576\",\"\\u0540\\u0561\\u0575\\u056f \\u0540\\u0561\\u056f\\u0578\\u0562\\u0575\\u0561\\u0576\",\"\\u0540\\u0561\\u0575\\u056f \\u0540\\u0561\\u056f\\u0578\\u0562\\u0575\\u0561\\u0576\",\"Aram MP3\",\"Aram MP3\",\"Arsen Safaryan\",\"Arsen Safaryan\",\"Arsen Safaryan\",\"Arsen Safaryan\",\"Arsen Safaryan\",\"Arsen Safaryan\",\"Arsen Safaryan\",\"Arsen Safaryan\",\"Arsen Safaryan\",\"Arsen Safaryan\",\"Arsen Safaryan\",\"Arsen Safaryan\",\"Arsen Safaryan\",\"Arsen Safaryan\",\"Arsen Safaryan\",\"Arsen Safaryan\",\"Arsen Safaryan\",\"Arsen Safaryan\",\"Arsen Safaryan\",\"Arsen Safaryan\",\"Arsen Safaryan\",\"Arsen Safaryan\",\"Arsen Safaryan\",\"Aram MP3\",\"Aram MP3\",\"Aram MP3\",\"Aram MP3\",\"Aram MP3\",\"Aram MP3\",\"Aram MP3\",\"Aram MP3\",\"Aram MP3\",\"Aram MP3\",\"Aram MP3\",\"Aram MP3\",\"Aram MP3\",\"Aram MP3\",\"Aram MP3\",\"Misho\",\"Misho\",\"Misho\",\"Misho\",\"Misho\",\"Misho\",\"Misho\",\"Misho\",\"Misho\",\"Misho\",\"Misho\",\"Misho\",\"Misho\",\"Misho\",\"Misho\",\"Misho\",\"Misho\",\"Misho\",\"Misho\",\"Misho\",\"Misho\",\"Misho\",\"Misho\",\"Misho\",\"Misho\",\"Misho\",\"Mi Qani Hogi\",\"Mi Qani Hogi\",\"Mi Qani Hogi\",\"Mi Qani Hogi\",\"Mi Qani Hogi\",\"Mi Qani Hogi\",\"Mi Qani Hogi\",\"Mi Qani Hogi\",\"Mi Qani Hogi\",\"Mi Qani Hogi\",\"Mi Qani Hogi\",\"Mi Qani Hogi\",\"Mi Qani Hogi\",\"Mi Qani Hogi\",\"Mi Qani Hogi\"],\"x0\":\" \",\"xaxis\":\"x\",\"y\":[170,130,97,90,92,52,71,162,55,134,53,90,109,141,74,70,86,134,166,123,141,93,170,180,85,117,113,258,290,157,129,154,72,150,24,97,140,79,100,69,141,135,177,116,90,114,96,227,233,80,164,102,136,127,203,150,94,98,72,101,145,86,174,181,117,127,136,150,39,79,82,99,118,88,145,131,101,94,136,72,85,113,138,111,90,118,153,136,232,129,165,70,79,176,92,77,227,169,106,148,114,88,126,136,70,110,109,174,137,66,70,152,135,240,164,182,183,74,121,52,66,21,25,22,39,37,28,62,53,132,77,154,166,159,144,158,72,155,166,94,115,167,44,178,109,109,94,103,99,58,77,92,56,67,93,62,49,113,70,195,91,96,56,62,60,61,51,58,55,51,115,77,50,79,92,74,67,118,74,39,34,59,44,50,92,53,61,122,105,60,63,45,52,61,45,90,48,70,65,62,93,58,87,99,75,74,59,90,132,409,310,348,288,211,486,427,383,425,241,386,167,271,239,178,156,137,68,94,107,111,132,88,66,68,70,125,147,219,90,8,110,104,97,151,110,190,174,113,106,132,69,124,66,81,63,115,111,113,120,102,152,106,76,131,233,118,51,125,84,179,44,146,77,72,164,105,191,156,141,214,210,180,203,135,194,140,138,186,26,174,56,215,127,171,138,184,177,69,173,185,105,90,97,133,40,114,106,107,73,6,118,225,102,140,48,72,125,138,131,88,112,126,80,91,18,265,135,173,101,99,177,227,181,149,223,165,164,78,115,104,85,107,214,162,117,273,75,166,170,111,104,175,108,163,198,78,72,148,96,156,90,135,182,91,91,73,128,82,113,170,91,79,105,91,103,58,154,49,153,40,114,54,67,82,153,114,105,117,117,149,82,58,71,158,39,188,165,88,92,73,116,105,8,55,65,56,103,73,69,117,79,103,86,65,54,75,50,93,100,85,86,96,70,75,95,149,139,119,100,129,75,149,72,89,163,114,103,61,125,149,118,100,215,70,95,97,107,48,111,88,212,97,134,105,196,208,128,88,184,136,108,183,108,109,80,211,131,100,208,254,105,6,81,107,127,140,120,185,124,176,181,161,177,130,144,89,255,143,139,254,149,68,153,110,155,137,141,163,89,181,114,145,115,137,52,104],\"y0\":\" \",\"yaxis\":\"y\",\"type\":\"box\"}],                        {\"template\":{\"data\":{\"histogram2dcontour\":[{\"type\":\"histogram2dcontour\",\"colorbar\":{\"outlinewidth\":0,\"ticks\":\"\"},\"colorscale\":[[0.0,\"#0d0887\"],[0.1111111111111111,\"#46039f\"],[0.2222222222222222,\"#7201a8\"],[0.3333333333333333,\"#9c179e\"],[0.4444444444444444,\"#bd3786\"],[0.5555555555555556,\"#d8576b\"],[0.6666666666666666,\"#ed7953\"],[0.7777777777777778,\"#fb9f3a\"],[0.8888888888888888,\"#fdca26\"],[1.0,\"#f0f921\"]]}],\"choropleth\":[{\"type\":\"choropleth\",\"colorbar\":{\"outlinewidth\":0,\"ticks\":\"\"}}],\"histogram2d\":[{\"type\":\"histogram2d\",\"colorbar\":{\"outlinewidth\":0,\"ticks\":\"\"},\"colorscale\":[[0.0,\"#0d0887\"],[0.1111111111111111,\"#46039f\"],[0.2222222222222222,\"#7201a8\"],[0.3333333333333333,\"#9c179e\"],[0.4444444444444444,\"#bd3786\"],[0.5555555555555556,\"#d8576b\"],[0.6666666666666666,\"#ed7953\"],[0.7777777777777778,\"#fb9f3a\"],[0.8888888888888888,\"#fdca26\"],[1.0,\"#f0f921\"]]}],\"heatmap\":[{\"type\":\"heatmap\",\"colorbar\":{\"outlinewidth\":0,\"ticks\":\"\"},\"colorscale\":[[0.0,\"#0d0887\"],[0.1111111111111111,\"#46039f\"],[0.2222222222222222,\"#7201a8\"],[0.3333333333333333,\"#9c179e\"],[0.4444444444444444,\"#bd3786\"],[0.5555555555555556,\"#d8576b\"],[0.6666666666666666,\"#ed7953\"],[0.7777777777777778,\"#fb9f3a\"],[0.8888888888888888,\"#fdca26\"],[1.0,\"#f0f921\"]]}],\"heatmapgl\":[{\"type\":\"heatmapgl\",\"colorbar\":{\"outlinewidth\":0,\"ticks\":\"\"},\"colorscale\":[[0.0,\"#0d0887\"],[0.1111111111111111,\"#46039f\"],[0.2222222222222222,\"#7201a8\"],[0.3333333333333333,\"#9c179e\"],[0.4444444444444444,\"#bd3786\"],[0.5555555555555556,\"#d8576b\"],[0.6666666666666666,\"#ed7953\"],[0.7777777777777778,\"#fb9f3a\"],[0.8888888888888888,\"#fdca26\"],[1.0,\"#f0f921\"]]}],\"contourcarpet\":[{\"type\":\"contourcarpet\",\"colorbar\":{\"outlinewidth\":0,\"ticks\":\"\"}}],\"contour\":[{\"type\":\"contour\",\"colorbar\":{\"outlinewidth\":0,\"ticks\":\"\"},\"colorscale\":[[0.0,\"#0d0887\"],[0.1111111111111111,\"#46039f\"],[0.2222222222222222,\"#7201a8\"],[0.3333333333333333,\"#9c179e\"],[0.4444444444444444,\"#bd3786\"],[0.5555555555555556,\"#d8576b\"],[0.6666666666666666,\"#ed7953\"],[0.7777777777777778,\"#fb9f3a\"],[0.8888888888888888,\"#fdca26\"],[1.0,\"#f0f921\"]]}],\"surface\":[{\"type\":\"surface\",\"colorbar\":{\"outlinewidth\":0,\"ticks\":\"\"},\"colorscale\":[[0.0,\"#0d0887\"],[0.1111111111111111,\"#46039f\"],[0.2222222222222222,\"#7201a8\"],[0.3333333333333333,\"#9c179e\"],[0.4444444444444444,\"#bd3786\"],[0.5555555555555556,\"#d8576b\"],[0.6666666666666666,\"#ed7953\"],[0.7777777777777778,\"#fb9f3a\"],[0.8888888888888888,\"#fdca26\"],[1.0,\"#f0f921\"]]}],\"mesh3d\":[{\"type\":\"mesh3d\",\"colorbar\":{\"outlinewidth\":0,\"ticks\":\"\"}}],\"scatter\":[{\"fillpattern\":{\"fillmode\":\"overlay\",\"size\":10,\"solidity\":0.2},\"type\":\"scatter\"}],\"parcoords\":[{\"type\":\"parcoords\",\"line\":{\"colorbar\":{\"outlinewidth\":0,\"ticks\":\"\"}}}],\"scatterpolargl\":[{\"type\":\"scatterpolargl\",\"marker\":{\"colorbar\":{\"outlinewidth\":0,\"ticks\":\"\"}}}],\"bar\":[{\"error_x\":{\"color\":\"#2a3f5f\"},\"error_y\":{\"color\":\"#2a3f5f\"},\"marker\":{\"line\":{\"color\":\"#E5ECF6\",\"width\":0.5},\"pattern\":{\"fillmode\":\"overlay\",\"size\":10,\"solidity\":0.2}},\"type\":\"bar\"}],\"scattergeo\":[{\"type\":\"scattergeo\",\"marker\":{\"colorbar\":{\"outlinewidth\":0,\"ticks\":\"\"}}}],\"scatterpolar\":[{\"type\":\"scatterpolar\",\"marker\":{\"colorbar\":{\"outlinewidth\":0,\"ticks\":\"\"}}}],\"histogram\":[{\"marker\":{\"pattern\":{\"fillmode\":\"overlay\",\"size\":10,\"solidity\":0.2}},\"type\":\"histogram\"}],\"scattergl\":[{\"type\":\"scattergl\",\"marker\":{\"colorbar\":{\"outlinewidth\":0,\"ticks\":\"\"}}}],\"scatter3d\":[{\"type\":\"scatter3d\",\"line\":{\"colorbar\":{\"outlinewidth\":0,\"ticks\":\"\"}},\"marker\":{\"colorbar\":{\"outlinewidth\":0,\"ticks\":\"\"}}}],\"scattermapbox\":[{\"type\":\"scattermapbox\",\"marker\":{\"colorbar\":{\"outlinewidth\":0,\"ticks\":\"\"}}}],\"scatterternary\":[{\"type\":\"scatterternary\",\"marker\":{\"colorbar\":{\"outlinewidth\":0,\"ticks\":\"\"}}}],\"scattercarpet\":[{\"type\":\"scattercarpet\",\"marker\":{\"colorbar\":{\"outlinewidth\":0,\"ticks\":\"\"}}}],\"carpet\":[{\"aaxis\":{\"endlinecolor\":\"#2a3f5f\",\"gridcolor\":\"white\",\"linecolor\":\"white\",\"minorgridcolor\":\"white\",\"startlinecolor\":\"#2a3f5f\"},\"baxis\":{\"endlinecolor\":\"#2a3f5f\",\"gridcolor\":\"white\",\"linecolor\":\"white\",\"minorgridcolor\":\"white\",\"startlinecolor\":\"#2a3f5f\"},\"type\":\"carpet\"}],\"table\":[{\"cells\":{\"fill\":{\"color\":\"#EBF0F8\"},\"line\":{\"color\":\"white\"}},\"header\":{\"fill\":{\"color\":\"#C8D4E3\"},\"line\":{\"color\":\"white\"}},\"type\":\"table\"}],\"barpolar\":[{\"marker\":{\"line\":{\"color\":\"#E5ECF6\",\"width\":0.5},\"pattern\":{\"fillmode\":\"overlay\",\"size\":10,\"solidity\":0.2}},\"type\":\"barpolar\"}],\"pie\":[{\"automargin\":true,\"type\":\"pie\"}]},\"layout\":{\"autotypenumbers\":\"strict\",\"colorway\":[\"#636efa\",\"#EF553B\",\"#00cc96\",\"#ab63fa\",\"#FFA15A\",\"#19d3f3\",\"#FF6692\",\"#B6E880\",\"#FF97FF\",\"#FECB52\"],\"font\":{\"color\":\"#2a3f5f\"},\"hovermode\":\"closest\",\"hoverlabel\":{\"align\":\"left\"},\"paper_bgcolor\":\"white\",\"plot_bgcolor\":\"#E5ECF6\",\"polar\":{\"bgcolor\":\"#E5ECF6\",\"angularaxis\":{\"gridcolor\":\"white\",\"linecolor\":\"white\",\"ticks\":\"\"},\"radialaxis\":{\"gridcolor\":\"white\",\"linecolor\":\"white\",\"ticks\":\"\"}},\"ternary\":{\"bgcolor\":\"#E5ECF6\",\"aaxis\":{\"gridcolor\":\"white\",\"linecolor\":\"white\",\"ticks\":\"\"},\"baxis\":{\"gridcolor\":\"white\",\"linecolor\":\"white\",\"ticks\":\"\"},\"caxis\":{\"gridcolor\":\"white\",\"linecolor\":\"white\",\"ticks\":\"\"}},\"coloraxis\":{\"colorbar\":{\"outlinewidth\":0,\"ticks\":\"\"}},\"colorscale\":{\"sequential\":[[0.0,\"#0d0887\"],[0.1111111111111111,\"#46039f\"],[0.2222222222222222,\"#7201a8\"],[0.3333333333333333,\"#9c179e\"],[0.4444444444444444,\"#bd3786\"],[0.5555555555555556,\"#d8576b\"],[0.6666666666666666,\"#ed7953\"],[0.7777777777777778,\"#fb9f3a\"],[0.8888888888888888,\"#fdca26\"],[1.0,\"#f0f921\"]],\"sequentialminus\":[[0.0,\"#0d0887\"],[0.1111111111111111,\"#46039f\"],[0.2222222222222222,\"#7201a8\"],[0.3333333333333333,\"#9c179e\"],[0.4444444444444444,\"#bd3786\"],[0.5555555555555556,\"#d8576b\"],[0.6666666666666666,\"#ed7953\"],[0.7777777777777778,\"#fb9f3a\"],[0.8888888888888888,\"#fdca26\"],[1.0,\"#f0f921\"]],\"diverging\":[[0,\"#8e0152\"],[0.1,\"#c51b7d\"],[0.2,\"#de77ae\"],[0.3,\"#f1b6da\"],[0.4,\"#fde0ef\"],[0.5,\"#f7f7f7\"],[0.6,\"#e6f5d0\"],[0.7,\"#b8e186\"],[0.8,\"#7fbc41\"],[0.9,\"#4d9221\"],[1,\"#276419\"]]},\"xaxis\":{\"gridcolor\":\"white\",\"linecolor\":\"white\",\"ticks\":\"\",\"title\":{\"standoff\":15},\"zerolinecolor\":\"white\",\"automargin\":true,\"zerolinewidth\":2},\"yaxis\":{\"gridcolor\":\"white\",\"linecolor\":\"white\",\"ticks\":\"\",\"title\":{\"standoff\":15},\"zerolinecolor\":\"white\",\"automargin\":true,\"zerolinewidth\":2},\"scene\":{\"xaxis\":{\"backgroundcolor\":\"#E5ECF6\",\"gridcolor\":\"white\",\"linecolor\":\"white\",\"showbackground\":true,\"ticks\":\"\",\"zerolinecolor\":\"white\",\"gridwidth\":2},\"yaxis\":{\"backgroundcolor\":\"#E5ECF6\",\"gridcolor\":\"white\",\"linecolor\":\"white\",\"showbackground\":true,\"ticks\":\"\",\"zerolinecolor\":\"white\",\"gridwidth\":2},\"zaxis\":{\"backgroundcolor\":\"#E5ECF6\",\"gridcolor\":\"white\",\"linecolor\":\"white\",\"showbackground\":true,\"ticks\":\"\",\"zerolinecolor\":\"white\",\"gridwidth\":2}},\"shapedefaults\":{\"line\":{\"color\":\"#2a3f5f\"}},\"annotationdefaults\":{\"arrowcolor\":\"#2a3f5f\",\"arrowhead\":0,\"arrowwidth\":1},\"geo\":{\"bgcolor\":\"white\",\"landcolor\":\"#E5ECF6\",\"subunitcolor\":\"white\",\"showland\":true,\"showlakes\":true,\"lakecolor\":\"white\"},\"title\":{\"x\":0.05},\"mapbox\":{\"style\":\"light\"}}},\"xaxis\":{\"anchor\":\"y\",\"domain\":[0.0,1.0],\"title\":{\"text\":\"Artist\"}},\"yaxis\":{\"anchor\":\"x\",\"domain\":[0.0,1.0],\"title\":{\"text\":\"n_tokens_hy\"}},\"legend\":{\"tracegroupgap\":0},\"title\":{\"text\":\"Word count(hy) per song by artist\"},\"boxmode\":\"group\"},                        {\"responsive\": true}                    ).then(function(){\n",
       "                            \n",
       "var gd = document.getElementById('4b1f183a-b84b-41ea-b0a9-aa53f99b1ea9');\n",
       "var x = new MutationObserver(function (mutations, observer) {{\n",
       "        var display = window.getComputedStyle(gd).display;\n",
       "        if (!display || display === 'none') {{\n",
       "            console.log([gd, 'removed!']);\n",
       "            Plotly.purge(gd);\n",
       "            observer.disconnect();\n",
       "        }}\n",
       "}});\n",
       "\n",
       "// Listen for the removal of the full notebook cells\n",
       "var notebookContainer = gd.closest('#notebook-container');\n",
       "if (notebookContainer) {{\n",
       "    x.observe(notebookContainer, {childList: true});\n",
       "}}\n",
       "\n",
       "// Listen for the clearing of the current output cell\n",
       "var outputEl = gd.closest('.output');\n",
       "if (outputEl) {{\n",
       "    x.observe(outputEl, {childList: true});\n",
       "}}\n",
       "\n",
       "                        })                };                });            </script>        </div>"
      ]
     },
     "metadata": {},
     "output_type": "display_data"
    }
   ],
   "source": [
    "fig = px.box(df, x='Artist', y='n_tokens_hy', title='Word count(hy) per song by artist')\n",
    "fig.show()"
   ]
  },
  {
   "cell_type": "markdown",
   "metadata": {
    "id": "Twxi2kLuztNX"
   },
   "source": [
    "Next I check the ratio of unique words over all words. This ratio is 1 if all words of a song are different, the more repeated words appearing in a song the lower this ratio becomes."
   ]
  },
  {
   "cell_type": "code",
   "execution_count": 31,
   "metadata": {
    "id": "eAtq2Howyg55"
   },
   "outputs": [],
   "source": [
    "df['n_unique_stems_en'] = df['stems_en'].map(lambda lst: len(set(lst)))\n",
    "\n",
    "df['unique_stems_ratio_en'] = df['n_unique_stems_en'] / df['n_stems_en']\n",
    "\n",
    "df['n_unique_tokens_hy'] = df['tokens_hy'].map(lambda lst: len(set(lst)))\n",
    "\n",
    "df['unique_tokens_ratio_hy'] = df['n_unique_tokens_hy'] / df['n_tokens_hy']"
   ]
  },
  {
   "cell_type": "code",
   "execution_count": 32,
   "metadata": {
    "id": "ai-Wumds16Uc"
   },
   "outputs": [
    {
     "data": {
      "application/vnd.plotly.v1+json": {
       "config": {
        "plotlyServerURL": "https://plot.ly"
       },
       "data": [
        {
         "alignmentgroup": "True",
         "hovertemplate": "Artist=%{x}<br>unique_stems_ratio_en=%{y}<extra></extra>",
         "legendgroup": "",
         "marker": {
          "color": "#636efa"
         },
         "name": "",
         "notched": false,
         "offsetgroup": "",
         "orientation": "v",
         "showlegend": false,
         "type": "box",
         "x": [
          "ԱՐԹՈՒՐ ՄԵՍՉՅԱՆ",
          "ԱՐԹՈՒՐ ՄԵՍՉՅԱՆ",
          "ԱՐԹՈՒՐ ՄԵՍՉՅԱՆ",
          "ԱՐԹՈՒՐ ՄԵՍՉՅԱՆ",
          "ԱՐԹՈՒՐ ՄԵՍՉՅԱՆ",
          "ԱՐԹՈՒՐ ՄԵՍՉՅԱՆ",
          "ԱՐԹՈՒՐ ՄԵՍՉՅԱՆ",
          "ԱՐԹՈՒՐ ՄԵՍՉՅԱՆ",
          "ԱՐԹՈՒՐ ՄԵՍՉՅԱՆ",
          "ԱՐԹՈՒՐ ՄԵՍՉՅԱՆ",
          "ԱՐԹՈՒՐ ՄԵՍՉՅԱՆ",
          "ԱՐԹՈՒՐ ՄԵՍՉՅԱՆ",
          "ԱՐԹՈՒՐ ՄԵՍՉՅԱՆ",
          "ԱՐԹՈՒՐ ՄԵՍՉՅԱՆ",
          "ԱՐԹՈՒՐ ՄԵՍՉՅԱՆ",
          "ԱՐԹՈՒՐ ՄԵՍՉՅԱՆ",
          "ԱՐԹՈՒՐ ՄԵՍՉՅԱՆ",
          "ԱՐԹՈՒՐ ՄԵՍՉՅԱՆ",
          "ԱՐԹՈՒՐ ՄԵՍՉՅԱՆ",
          "ԱՐԹՈՒՐ ՄԵՍՉՅԱՆ",
          "ԱՐԹՈՒՐ ՄԵՍՉՅԱՆ",
          "ԱՐԹՈՒՐ ՄԵՍՉՅԱՆ",
          "ԱՐԹՈՒՐ ՄԵՍՉՅԱՆ",
          "ԱՐԹՈՒՐ ՄԵՍՉՅԱՆ",
          "ԱՐԹՈՒՐ ՄԵՍՉՅԱՆ",
          "ԱՐԹՈՒՐ ՄԵՍՉՅԱՆ",
          "ԱՐԹՈՒՐ ՄԵՍՉՅԱՆ",
          "ԱՐԹՈՒՐ ՄԵՍՉՅԱՆ",
          "ԱՐԹՈՒՐ ՄԵՍՉՅԱՆ",
          "ԱՐԹՈՒՐ ՄԵՍՉՅԱՆ",
          "ԱՐԹՈՒՐ ՄԵՍՉՅԱՆ",
          "ԱՐԹՈՒՐ ՄԵՍՉՅԱՆ",
          "ԱՐԹՈՒՐ ՄԵՍՉՅԱՆ",
          "ԱՐԹՈՒՐ ՄԵՍՉՅԱՆ",
          "ԱՐԹՈՒՐ ՄԵՍՉՅԱՆ",
          "ԱՐԹՈՒՐ ՄԵՍՉՅԱՆ",
          "ԱՐԹՈՒՐ ՄԵՍՉՅԱՆ",
          "ԱՐԹՈՒՐ ՄԵՍՉՅԱՆ",
          "ԱՐԹՈՒՐ ՄԵՍՉՅԱՆ",
          "ԱՐԹՈՒՐ ՄԵՍՉՅԱՆ",
          "ԱՐԹՈՒՐ ՄԵՍՉՅԱՆ",
          "ԱՐԹՈՒՐ ՄԵՍՉՅԱՆ",
          "ԱՐԹՈՒՐ ՄԵՍՉՅԱՆ",
          "ԱՐԹՈՒՐ ՄԵՍՉՅԱՆ",
          "ԱՐԹՈՒՐ ՄԵՍՉՅԱՆ",
          "ԱՐԹՈՒՐ ՄԵՍՉՅԱՆ",
          "ԱՐԹՈՒՐ ՄԵՍՉՅԱՆ",
          "ԱՐԹՈՒՐ ՄԵՍՉՅԱՆ",
          "ԱՐԹՈՒՐ ՄԵՍՉՅԱՆ",
          "ԱՐԹՈՒՐ ՄԵՍՉՅԱՆ",
          "ՌՈՒԲԵՆ ՀԱԽՎԵՐԴՅԱՆ",
          "ՌՈՒԲԵՆ ՀԱԽՎԵՐԴՅԱՆ",
          "ՌՈՒԲԵՆ ՀԱԽՎԵՐԴՅԱՆ",
          "ՌՈՒԲԵՆ ՀԱԽՎԵՐԴՅԱՆ",
          "ՌՈՒԲԵՆ ՀԱԽՎԵՐԴՅԱՆ",
          "ՌՈՒԲԵՆ ՀԱԽՎԵՐԴՅԱՆ",
          "ՌՈՒԲԵՆ ՀԱԽՎԵՐԴՅԱՆ",
          "ՌՈՒԲԵՆ ՀԱԽՎԵՐԴՅԱՆ",
          "ՌՈՒԲԵՆ ՀԱԽՎԵՐԴՅԱՆ",
          "ՌՈՒԲԵՆ ՀԱԽՎԵՐԴՅԱՆ",
          "ՌՈՒԲԵՆ ՀԱԽՎԵՐԴՅԱՆ",
          "ՌՈՒԲԵՆ ՀԱԽՎԵՐԴՅԱՆ",
          "ՌՈՒԲԵՆ ՀԱԽՎԵՐԴՅԱՆ",
          "ՌՈՒԲԵՆ ՀԱԽՎԵՐԴՅԱՆ",
          "ՌՈՒԲԵՆ ՀԱԽՎԵՐԴՅԱՆ",
          "ՌՈՒԲԵՆ ՀԱԽՎԵՐԴՅԱՆ",
          "ՌՈՒԲԵՆ ՀԱԽՎԵՐԴՅԱՆ",
          "ՌՈՒԲԵՆ ՀԱԽՎԵՐԴՅԱՆ",
          "ՌՈՒԲԵՆ ՀԱԽՎԵՐԴՅԱՆ",
          "ՌՈՒԲԵՆ ՀԱԽՎԵՐԴՅԱՆ",
          "ՌՈՒԲԵՆ ՀԱԽՎԵՐԴՅԱՆ",
          "ՌՈՒԲԵՆ ՀԱԽՎԵՐԴՅԱՆ",
          "ՌՈՒԲԵՆ ՀԱԽՎԵՐԴՅԱՆ",
          "ՌՈՒԲԵՆ ՀԱԽՎԵՐԴՅԱՆ",
          "ՌՈՒԲԵՆ ՀԱԽՎԵՐԴՅԱՆ",
          "ՌՈՒԲԵՆ ՀԱԽՎԵՐԴՅԱՆ",
          "ՌՈՒԲԵՆ ՀԱԽՎԵՐԴՅԱՆ",
          "ՌՈՒԲԵՆ ՀԱԽՎԵՐԴՅԱՆ",
          "ՌՈՒԲԵՆ ՀԱԽՎԵՐԴՅԱՆ",
          "ՌՈՒԲԵՆ ՀԱԽՎԵՐԴՅԱՆ",
          "ՌՈՒԲԵՆ ՀԱԽՎԵՐԴՅԱՆ",
          "ՌՈՒԲԵՆ ՀԱԽՎԵՐԴՅԱՆ",
          "ՌՈՒԲԵՆ ՀԱԽՎԵՐԴՅԱՆ",
          "ՌՈՒԲԵՆ ՀԱԽՎԵՐԴՅԱՆ",
          "ՌՈՒԲԵՆ ՀԱԽՎԵՐԴՅԱՆ",
          "ՌՈՒԲԵՆ ՀԱԽՎԵՐԴՅԱՆ",
          "ՌՈՒԲԵՆ ՀԱԽՎԵՐԴՅԱՆ",
          "ՌՈՒԲԵՆ ՀԱԽՎԵՐԴՅԱՆ",
          "ՌՈՒԲԵՆ ՀԱԽՎԵՐԴՅԱՆ",
          "ՌՈՒԲԵՆ ՀԱԽՎԵՐԴՅԱՆ",
          "ՌՈՒԲԵՆ ՀԱԽՎԵՐԴՅԱՆ",
          "ՌՈՒԲԵՆ ՀԱԽՎԵՐԴՅԱՆ",
          "ՌՈՒԲԵՆ ՀԱԽՎԵՐԴՅԱՆ",
          "ՌՈՒԲԵՆ ՀԱԽՎԵՐԴՅԱՆ",
          "ՌՈՒԲԵՆ ՀԱԽՎԵՐԴՅԱՆ",
          "ՌՈՒԲԵՆ ՀԱԽՎԵՐԴՅԱՆ",
          "ՌՈՒԲԵՆ ՀԱԽՎԵՐԴՅԱՆ",
          "ՌՈՒԲԵՆ ՀԱԽՎԵՐԴՅԱՆ",
          "ՌՈՒԲԵՆ ՀԱԽՎԵՐԴՅԱՆ",
          "ՌՈՒԲԵՆ ՀԱԽՎԵՐԴՅԱՆ",
          "ՌՈՒԲԵՆ ՀԱԽՎԵՐԴՅԱՆ",
          "ՌՈՒԲԵՆ ՀԱԽՎԵՐԴՅԱՆ",
          "ՌՈՒԲԵՆ ՀԱԽՎԵՐԴՅԱՆ",
          "ՌՈՒԲԵՆ ՀԱԽՎԵՐԴՅԱՆ",
          "ՌՈՒԲԵՆ ՀԱԽՎԵՐԴՅԱՆ",
          "ՌՈՒԲԵՆ ՀԱԽՎԵՐԴՅԱՆ",
          "ՌՈՒԲԵՆ ՀԱԽՎԵՐԴՅԱՆ",
          "ՌՈՒԲԵՆ ՀԱԽՎԵՐԴՅԱՆ",
          "ՌՈՒԲԵՆ ՀԱԽՎԵՐԴՅԱՆ",
          "ՌՈՒԲԵՆ ՀԱԽՎԵՐԴՅԱՆ",
          "ՌՈՒԲԵՆ ՀԱԽՎԵՐԴՅԱՆ",
          "ՌՈՒԲԵՆ ՀԱԽՎԵՐԴՅԱՆ",
          "ՌՈՒԲԵՆ ՀԱԽՎԵՐԴՅԱՆ",
          "ՌՈՒԲԵՆ ՀԱԽՎԵՐԴՅԱՆ",
          "ՌՈՒԲԵՆ ՀԱԽՎԵՐԴՅԱՆ",
          "ՌՈՒԲԵՆ ՀԱԽՎԵՐԴՅԱՆ",
          "ՌՈՒԲԵՆ ՀԱԽՎԵՐԴՅԱՆ",
          "ՌՈՒԲԵՆ ՀԱԽՎԵՐԴՅԱՆ",
          "ՌՈՒԲԵՆ ՀԱԽՎԵՐԴՅԱՆ",
          "ՌՈՒԲԵՆ ՀԱԽՎԵՐԴՅԱՆ",
          "ՌՈՒԲԵՆ ՀԱԽՎԵՐԴՅԱՆ",
          "ՌՈՒԲԵՆ ՀԱԽՎԵՐԴՅԱՆ",
          "ՌՈՒԲԵՆ ՀԱԽՎԵՐԴՅԱՆ",
          "ՌՈՒԲԵՆ ՀԱԽՎԵՐԴՅԱՆ",
          "ՌՈՒԲԵՆ ՀԱԽՎԵՐԴՅԱՆ",
          "ՌՈՒԲԵՆ ՀԱԽՎԵՐԴՅԱՆ",
          "ՌՈՒԲԵՆ ՀԱԽՎԵՐԴՅԱՆ",
          "ՌՈՒԲԵՆ ՀԱԽՎԵՐԴՅԱՆ",
          "ՌՈՒԲԵՆ ՀԱԽՎԵՐԴՅԱՆ",
          "ՌՈՒԲԵՆ ՀԱԽՎԵՐԴՅԱՆ",
          "ՌՈՒԲԵՆ ՀԱԽՎԵՐԴՅԱՆ",
          "ՍԱՅԱԹ-ՆՈՎԱ",
          "ՍԱՅԱԹ-ՆՈՎԱ",
          "ՍԱՅԱԹ-ՆՈՎԱ",
          "ՍԱՅԱԹ-ՆՈՎԱ",
          "ՍԱՅԱԹ-ՆՈՎԱ",
          "ՍԱՅԱԹ-ՆՈՎԱ",
          "ՍԱՅԱԹ-ՆՈՎԱ",
          "ՍԱՅԱԹ-ՆՈՎԱ",
          "ՍԱՅԱԹ-ՆՈՎԱ",
          "ՍԱՅԱԹ-ՆՈՎԱ",
          "ՍԱՅԱԹ-ՆՈՎԱ",
          "ՍԱՅԱԹ-ՆՈՎԱ",
          "ՍԱՅԱԹ-ՆՈՎԱ",
          "ՍԱՅԱԹ-ՆՈՎԱ",
          "ՍԱՅԱԹ-ՆՈՎԱ",
          "ՍԱՅԱԹ-ՆՈՎԱ",
          "ԿՈՄԻՏԱՍ",
          "ԿՈՄԻՏԱՍ",
          "ԿՈՄԻՏԱՍ",
          "ԿՈՄԻՏԱՍ",
          "ԿՈՄԻՏԱՍ",
          "ԿՈՄԻՏԱՍ",
          "ԿՈՄԻՏԱՍ",
          "ԿՈՄԻՏԱՍ",
          "ԿՈՄԻՏԱՍ",
          "ԿՈՄԻՏԱՍ",
          "ԿՈՄԻՏԱՍ",
          "ԿՈՄԻՏԱՍ",
          "ԿՈՄԻՏԱՍ",
          "ԿՈՄԻՏԱՍ",
          "ԿՈՄԻՏԱՍ",
          "ԿՈՄԻՏԱՍ",
          "ԿՈՄԻՏԱՍ",
          "ԿՈՄԻՏԱՍ",
          "ԿՈՄԻՏԱՍ",
          "ԿՈՄԻՏԱՍ",
          "ԿՈՄԻՏԱՍ",
          "ԿՈՄԻՏԱՍ",
          "ԿՈՄԻՏԱՍ",
          "ԿՈՄԻՏԱՍ",
          "ԿՈՄԻՏԱՍ",
          "ԿՈՄԻՏԱՍ",
          "ԿՈՄԻՏԱՍ",
          "ԿՈՄԻՏԱՍ",
          "ԿՈՄԻՏԱՍ",
          "ԿՈՄԻՏԱՍ",
          "ԿՈՄԻՏԱՍ",
          "ԿՈՄԻՏԱՍ",
          "ԿՈՄԻՏԱՍ",
          "ԿՈՄԻՏԱՍ",
          "ԿՈՄԻՏԱՍ",
          "ԿՈՄԻՏԱՍ",
          "ԿՈՄԻՏԱՍ",
          "ԿՈՄԻՏԱՍ",
          "ԿՈՄԻՏԱՍ",
          "ԿՈՄԻՏԱՍ",
          "ԿՈՄԻՏԱՍ",
          "ԿՈՄԻՏԱՍ",
          "ԿՈՄԻՏԱՍ",
          "ԿՈՄԻՏԱՍ",
          "ԿՈՄԻՏԱՍ",
          "ԿՈՄԻՏԱՍ",
          "ԿՈՄԻՏԱՍ",
          "ԿՈՄԻՏԱՍ",
          "ԿՈՄԻՏԱՍ",
          "ԿՈՄԻՏԱՍ",
          "ԿՈՄԻՏԱՍ",
          "ԿՈՄԻՏԱՍ",
          "ԿՈՄԻՏԱՍ",
          "ԿՈՄԻՏԱՍ",
          "ԿՈՄԻՏԱՍ",
          "ԿՈՄԻՏԱՍ",
          "ԿՈՄԻՏԱՍ",
          "ԿՈՄԻՏԱՍ",
          "ԿՈՄԻՏԱՍ",
          "ԿՈՄԻՏԱՍ",
          "ԿՈՄԻՏԱՍ",
          "ԿՈՄԻՏԱՍ",
          "HT Hayko",
          "HT Hayko",
          "HT Hayko",
          "HT Hayko",
          "HT Hayko",
          "HT Hayko",
          "HT Hayko",
          "HT Hayko",
          "HT Hayko",
          "HT Hayko",
          "HT Hayko",
          "HT Hayko",
          "HT Hayko",
          "HT Hayko",
          "HT Hayko",
          "HT Hayko",
          "Empyray",
          "Empyray",
          "Empyray",
          "Empyray",
          "Empyray",
          "Empyray",
          "Empyray",
          "Empyray",
          "Empyray",
          "Empyray",
          " Lav Eli",
          " Lav Eli",
          " Lav Eli",
          " Lav Eli",
          " Lav Eli",
          " Lav Eli",
          " Lav Eli",
          " Lav Eli",
          " Lav Eli",
          "Silva Hakobyan",
          "Silva Hakobyan",
          "Silva Hakobyan",
          "Silva Hakobyan",
          "Silva Hakobyan",
          "Silva Hakobyan",
          "Silva Hakobyan",
          "Silva Hakobyan",
          "Silva Hakobyan",
          "Silva Hakobyan",
          "Silva Hakobyan",
          "Silva Hakobyan",
          "Silva Hakobyan",
          "Silva Hakobyan",
          "Silva Hakobyan",
          "Silva Hakobyan",
          "Silva Hakobyan",
          "Silva Hakobyan",
          "Silva Hakobyan",
          "Silva Hakobyan",
          "Անդրե",
          "Անդրե",
          "Անդրե",
          "Անդրե",
          "Անդրե",
          "Անդրե",
          "Անդրե",
          "Անդրե",
          "Անդրե",
          "Անդրե",
          "Անդրե",
          "Անդրե",
          "Լիլիթ Հովհաննիսյան",
          "Լիլիթ Հովհաննիսյան",
          "Լիլիթ Հովհաննիսյան",
          "Լիլիթ Հովհաննիսյան",
          "Լիլիթ Հովհաննիսյան",
          "Լիլիթ Հովհաննիսյան",
          "Լիլիթ Հովհաննիսյան",
          "Լիլիթ Հովհաննիսյան",
          "Լիլիթ Հովհաննիսյան",
          "Լիլիթ Հովհաննիսյան",
          "Լիլիթ Հովհաննիսյան",
          "Լիլիթ Հովհաննիսյան",
          "Լիլիթ Հովհաննիսյան",
          "Լիլիթ Հովհաննիսյան",
          "Լիլիթ Հովհաննիսյան",
          "Լիլիթ Հովհաննիսյան",
          "Լիլիթ Հովհաննիսյան",
          "Լիլիթ Հովհաննիսյան",
          "Լիլիթ Հովհաննիսյան",
          "Լիլիթ Հովհաննիսյան",
          "Լիլիթ Հովհաննիսյան",
          "Լիլիթ Հովհաննիսյան",
          "Լիլիթ Հովհաննիսյան",
          "Լիլիթ Հովհաննիսյան",
          "Սիրուշո",
          "Սիրուշո",
          "Սիրուշո",
          "Սիրուշո",
          "Սիրուշո",
          "Սիրուշո",
          "Սիրուշո",
          "Սիրուշո",
          "Սիրուշո",
          "Սիրուշո",
          "Սիրուշո",
          "Սիրուշո",
          "Սիրուշո",
          "Սիրուշո",
          "Սիրուշո",
          "Սիրուշո",
          "Սիրուշո",
          "Սիրուշո",
          "Սիրուշո",
          "Սիրուշո",
          "Սիրուշո",
          "Սիրուշո",
          "Սիրուշո",
          "Սիրուշո",
          "Սիրուշո",
          "Միհրան Ծառուկյան",
          "Միհրան Ծառուկյան",
          "Միհրան Ծառուկյան",
          "Միհրան Ծառուկյան",
          "Միհրան Ծառուկյան",
          "Միհրան Ծառուկյան",
          "Միհրան Ծառուկյան",
          "Միհրան Ծառուկյան",
          "Միհրան Ծառուկյան",
          "Միհրան Ծառուկյան",
          "Միհրան Ծառուկյան",
          "Միհրան Ծառուկյան",
          "Միհրան Ծառուկյան",
          "Միհրան Ծառուկյան",
          "Միհրան Ծառուկյան",
          "Միհրան Ծառուկյան",
          "Միհրան Ծառուկյան",
          "Միհրան Ծառուկյան",
          "Arame",
          "Arame",
          "Arame",
          "Arame",
          "Arame",
          "Arame",
          "Arame",
          "Arame",
          "Arame",
          "Razmik Amyan",
          "Razmik Amyan",
          "Razmik Amyan",
          "Razmik Amyan",
          "Razmik Amyan",
          "Razmik Amyan",
          "Razmik Amyan",
          "Razmik Amyan",
          "Razmik Amyan",
          "Razmik Amyan",
          "Razmik Amyan",
          "Razmik Amyan",
          "Razmik Amyan",
          "Razmik Amyan",
          "Razmik Amyan",
          "Razmik Amyan",
          "Razmik Amyan",
          "Razmik Amyan",
          "Harout Pamboukjian",
          "Harout Pamboukjian",
          "Harout Pamboukjian",
          "Harout Pamboukjian",
          "Harout Pamboukjian",
          "Harout Pamboukjian",
          "Harout Pamboukjian",
          "Harout Pamboukjian",
          "Harout Pamboukjian",
          "Harout Pamboukjian",
          "Harout Pamboukjian",
          "Harout Pamboukjian",
          "Harout Pamboukjian",
          "Harout Pamboukjian",
          "Harout Pamboukjian",
          "Harout Pamboukjian",
          "Harout Pamboukjian",
          "Harout Pamboukjian",
          "Harout Pamboukjian",
          "Harout Pamboukjian",
          "Harout Pamboukjian",
          "Harout Pamboukjian",
          "Harout Pamboukjian",
          "Harout Pamboukjian",
          "Harout Pamboukjian",
          "Harout Pamboukjian",
          "Harout Pamboukjian",
          "Harout Pamboukjian",
          "Harout Pamboukjian",
          "Harout Pamboukjian",
          "Harout Pamboukjian",
          "Harout Pamboukjian",
          "Հայկ Հակոբյան",
          "Հայկ Հակոբյան",
          "Հայկ Հակոբյան",
          "Հայկ Հակոբյան",
          "Հայկ Հակոբյան",
          "Հայկ Հակոբյան",
          "Հայկ Հակոբյան",
          "Հայկ Հակոբյան",
          "Հայկ Հակոբյան",
          "Հայկ Հակոբյան",
          "Հայկ Հակոբյան",
          "Հայկ Հակոբյան",
          "Հայկ Հակոբյան",
          "Հայկ Հակոբյան",
          "Հայկ Հակոբյան",
          "Հայկ Հակոբյան",
          "Հայկ Հակոբյան",
          "Հայկ Հակոբյան",
          "Հայկ Հակոբյան",
          "Հայկ Հակոբյան",
          "Հայկ Հակոբյան",
          "Հայկ Հակոբյան",
          "Հայկ Հակոբյան",
          "Aram MP3",
          "Aram MP3",
          "Arsen Safaryan",
          "Arsen Safaryan",
          "Arsen Safaryan",
          "Arsen Safaryan",
          "Arsen Safaryan",
          "Arsen Safaryan",
          "Arsen Safaryan",
          "Arsen Safaryan",
          "Arsen Safaryan",
          "Arsen Safaryan",
          "Arsen Safaryan",
          "Arsen Safaryan",
          "Arsen Safaryan",
          "Arsen Safaryan",
          "Arsen Safaryan",
          "Arsen Safaryan",
          "Arsen Safaryan",
          "Arsen Safaryan",
          "Arsen Safaryan",
          "Arsen Safaryan",
          "Arsen Safaryan",
          "Arsen Safaryan",
          "Arsen Safaryan",
          "Aram MP3",
          "Aram MP3",
          "Aram MP3",
          "Aram MP3",
          "Aram MP3",
          "Aram MP3",
          "Aram MP3",
          "Aram MP3",
          "Aram MP3",
          "Aram MP3",
          "Aram MP3",
          "Aram MP3",
          "Aram MP3",
          "Aram MP3",
          "Aram MP3",
          "Misho",
          "Misho",
          "Misho",
          "Misho",
          "Misho",
          "Misho",
          "Misho",
          "Misho",
          "Misho",
          "Misho",
          "Misho",
          "Misho",
          "Misho",
          "Misho",
          "Misho",
          "Misho",
          "Misho",
          "Misho",
          "Misho",
          "Misho",
          "Misho",
          "Misho",
          "Misho",
          "Misho",
          "Misho",
          "Misho",
          "Mi Qani Hogi",
          "Mi Qani Hogi",
          "Mi Qani Hogi",
          "Mi Qani Hogi",
          "Mi Qani Hogi",
          "Mi Qani Hogi",
          "Mi Qani Hogi",
          "Mi Qani Hogi",
          "Mi Qani Hogi",
          "Mi Qani Hogi",
          "Mi Qani Hogi",
          "Mi Qani Hogi",
          "Mi Qani Hogi",
          "Mi Qani Hogi",
          "Mi Qani Hogi"
         ],
         "x0": " ",
         "xaxis": "x",
         "y": [
          0.5,
          0.7380952380952381,
          0.6578947368421053,
          0.9014084507042254,
          0.7246376811594203,
          0.7045454545454546,
          0.6833333333333333,
          0.6287878787878788,
          0.9772727272727273,
          0.580952380952381,
          0.8536585365853658,
          0.7096774193548387,
          0.5384615384615384,
          0.7747747747747747,
          0.7692307692307693,
          0.6896551724137931,
          0.8125,
          0.7684210526315789,
          0.7264150943396226,
          0.7840909090909091,
          0.8018867924528302,
          0.9298245614035088,
          0.8461538461538461,
          0.7651006711409396,
          0.8909090909090909,
          0.6547619047619048,
          0.6526315789473685,
          0.5274725274725275,
          0.2914572864321608,
          0.8362068965517241,
          0.6574074074074074,
          0.6371681415929203,
          0.8076923076923077,
          0.6101694915254238,
          0.95,
          0.7123287671232876,
          0.8055555555555556,
          0.639344262295082,
          0.5217391304347826,
          0.6896551724137931,
          0.696969696969697,
          0.8539325842696629,
          0.6376811594202898,
          0.5647058823529412,
          0.7971014492753623,
          0.6309523809523809,
          0.7714285714285715,
          0.6521739130434783,
          0.6153846153846154,
          0.8852459016393442,
          0.782258064516129,
          0.5,
          0.831858407079646,
          0.6808510638297872,
          0.7051282051282052,
          0.6916666666666667,
          0.640625,
          0.543859649122807,
          0.5555555555555556,
          0.5441176470588235,
          0.6893203883495146,
          0.7735849056603774,
          0.7191780821917808,
          0.5407407407407407,
          0.5274725274725275,
          0.4576271186440678,
          0.6105263157894737,
          0.580952380952381,
          0.75,
          0.7666666666666667,
          0.6825396825396826,
          0.7272727272727273,
          0.7222222222222222,
          0.5689655172413793,
          0.7142857142857143,
          0.5869565217391305,
          0.734375,
          0.796875,
          0.7168141592920354,
          0.4642857142857143,
          0.4074074074074074,
          0.46808510638297873,
          0.5393258426966292,
          0.5588235294117647,
          0.4936708860759494,
          0.5454545454545454,
          0.6875,
          0.46464646464646464,
          0.6666666666666666,
          0.48672566371681414,
          0.7155172413793104,
          0.5925925925925926,
          0.43333333333333335,
          0.5645161290322581,
          0.6909090909090909,
          0.8,
          0.5337837837837838,
          0.6460176991150443,
          0.7164179104477612,
          0.5229357798165137,
          0.4457831325301205,
          0.6119402985074627,
          0.6989247311827957,
          0.5625,
          0.66,
          0.7058823529411765,
          0.625,
          0.7258064516129032,
          0.6547619047619048,
          0.7954545454545454,
          0.7222222222222222,
          0.6086956521739131,
          0.7613636363636364,
          0.47093023255813954,
          0.8376068376068376,
          0.5447761194029851,
          0.6906474820143885,
          0.515625,
          0.5576923076923077,
          0.8636363636363636,
          0.5254237288135594,
          0.6818181818181818,
          0.9444444444444444,
          0.8947368421052632,
          0.7647058823529411,
          0.88,
          0.4,
          0.8125,
          0.7391304347826086,
          0.5760869565217391,
          0.6119402985074627,
          0.6991869918699187,
          0.8888888888888888,
          0.9117647058823529,
          0.8631578947368421,
          0.8543689320388349,
          0.9622641509433962,
          0.91,
          0.7105263157894737,
          0.859375,
          0.7415730337078652,
          0.8559322033898306,
          0.6470588235294118,
          0.8557692307692307,
          0.8831168831168831,
          0.9325842696629213,
          0.6307692307692307,
          0.6582278481012658,
          0.6721311475409836,
          0.8095238095238095,
          0.4492753623188406,
          0.863013698630137,
          0.8837209302325582,
          0.36923076923076925,
          0.7894736842105263,
          0.8518518518518519,
          0.5116279069767442,
          0.2988505747126437,
          0.53125,
          0.4391891891891892,
          0.746031746031746,
          0.4857142857142857,
          0.3617021276595745,
          0.5849056603773585,
          0.5,
          0.6304347826086957,
          0.6,
          0.6216216216216216,
          0.48936170212765956,
          0.7368421052631579,
          0.6559139784946236,
          0.734375,
          0.8571428571428571,
          0.7142857142857143,
          0.4583333333333333,
          0.4915254237288136,
          0.6444444444444445,
          0.4479166666666667,
          0.5172413793103449,
          0.7714285714285715,
          0.7692307692307693,
          0.6808510638297872,
          0.7741935483870968,
          0.8095238095238095,
          0.7037037037037037,
          0.7441860465116279,
          0.4666666666666667,
          0.8817204301075269,
          0.5833333333333334,
          0.8269230769230769,
          0.5526315789473685,
          0.7222222222222222,
          0.7297297297297297,
          0.5111111111111111,
          0.48484848484848486,
          0.6166666666666667,
          0.7,
          0.5094339622641509,
          0.6938775510204082,
          0.8857142857142857,
          0.55,
          0.75,
          0.43548387096774194,
          0.75,
          0.6363636363636364,
          0.38333333333333336,
          0.6,
          0.4264705882352941,
          0.7070707070707071,
          0.6051660516605166,
          0.6285714285714286,
          0.7295081967213115,
          0.56,
          0.7028985507246377,
          0.6363636363636364,
          0.6438848920863309,
          0.6505576208178439,
          0.7527272727272727,
          0.6490066225165563,
          0.6830357142857143,
          0.5982905982905983,
          0.6158940397350994,
          0.5679012345679012,
          0.5181818181818182,
          0.3956043956043956,
          0.4368932038834951,
          0.9444444444444444,
          0.3924050632911392,
          0.38461538461538464,
          0.43661971830985913,
          0.5053763440860215,
          0.7066666666666667,
          0.6862745098039216,
          0.4791666666666667,
          0.5573770491803278,
          0.4657534246575342,
          0.6063829787234043,
          0.7485029940119761,
          0.6666666666666666,
          0.875,
          0.8507462686567164,
          0.453125,
          0.7532467532467533,
          0.4148936170212766,
          0.5443037974683544,
          0.32571428571428573,
          0.5042016806722689,
          0.47058823529411764,
          0.47674418604651164,
          0.45454545454545453,
          0.5576923076923077,
          0.38095238095238093,
          0.803921568627451,
          0.92,
          0.868421052631579,
          0.6756756756756757,
          0.6060606060606061,
          0.47058823529411764,
          0.4838709677419355,
          0.5223880597014925,
          0.3963963963963964,
          0.5972222222222222,
          0.7368421052631579,
          0.6716417910447762,
          0.2922077922077922,
          0.4567901234567901,
          0.6052631578947368,
          0.48717948717948717,
          0.7166666666666667,
          0.45185185185185184,
          0.4411764705882353,
          0.22857142857142856,
          0.5961538461538461,
          0.5102040816326531,
          0.6228070175438597,
          0.6216216216216216,
          0.49137931034482757,
          0.45,
          0.38461538461538464,
          0.2982456140350877,
          0.45,
          0.5555555555555556,
          0.375,
          0.6818181818181818,
          0.44776119402985076,
          0.5697674418604651,
          0.6352941176470588,
          0.24817518248175183,
          0.75,
          0.7252747252747253,
          0.7209302325581395,
          0.4295774647887324,
          0.391304347826087,
          0.3235294117647059,
          0.43478260869565216,
          0.3511450381679389,
          0.4594594594594595,
          0.8837209302325582,
          0.4845360824742268,
          0.37142857142857144,
          0.6222222222222222,
          0.5614035087719298,
          0.16455696202531644,
          0.4067796610169492,
          0.36666666666666664,
          0.5368421052631579,
          0.6329113924050633,
          0.7283950617283951,
          0.582089552238806,
          0.75,
          0.4925373134328358,
          0.27011494252873564,
          0.5806451612903226,
          0.4766355140186916,
          0.8,
          0.2978723404255319,
          0.4473684210526316,
          0.3418803418803419,
          0.32222222222222224,
          0.6153846153846154,
          0.47619047619047616,
          0.651685393258427,
          0.39705882352941174,
          0.4915254237288136,
          0.6153846153846154,
          0.32748538011695905,
          0.44086021505376344,
          0.26229508196721313,
          0.49382716049382713,
          0.3815789473684211,
          0.42063492063492064,
          0.3235294117647059,
          0.3387096774193548,
          0.3838383838383838,
          0.24096385542168675,
          0.4434782608695652,
          0.29896907216494845,
          0.6060606060606061,
          0.6891891891891891,
          0.6351351351351351,
          0.6388888888888888,
          0.7647058823529411,
          0.3404255319148936,
          0.2857142857142857,
          0.425,
          0.33548387096774196,
          0.8245614035087719,
          0.3582089552238806,
          0.4649122807017544,
          0.39473684210526316,
          0.6417910447761194,
          0.34558823529411764,
          0.5555555555555556,
          0.42424242424242425,
          0.5206611570247934,
          0.5230769230769231,
          0.6904761904761905,
          0.5727272727272728,
          0.4931506849315068,
          0.49019607843137253,
          0.4520547945205479,
          0.5443037974683544,
          0.19736842105263158,
          0.5862068965517241,
          0.47692307692307695,
          0.76,
          0.4666666666666667,
          0.5777777777777777,
          0.5333333333333333,
          0.3798449612403101,
          0.4647887323943662,
          0.7611940298507462,
          0.5555555555555556,
          0.31343283582089554,
          0.3815789473684211,
          0.48717948717948717,
          0.24778761061946902,
          0.8823529411764706,
          0.5683453237410072,
          0.6129032258064516,
          0.6263736263736264,
          0.3157894736842105,
          0.27419354838709675,
          0.7258064516129032,
          0.3014705882352941,
          0.6633663366336634,
          0.5714285714285714,
          0.6210526315789474,
          0.47560975609756095,
          0.7289719626168224,
          0.8382352941176471,
          0.5333333333333333,
          0.7551020408163265,
          0.7037037037037037,
          0.967741935483871,
          0.6206896551724138,
          0.5701754385964912,
          0.8493150684931506,
          0.8153846153846154,
          0.671875,
          0.5657894736842105,
          0.7349397590361446,
          1,
          0.7567567567567568,
          0.782608695652174,
          0.7837837837837838,
          0.6615384615384615,
          0.7096774193548387,
          0.5740740740740741,
          0.6493506493506493,
          0.8360655737704918,
          0.7222222222222222,
          0.5806451612903226,
          0.7916666666666666,
          0.3333333333333333,
          0.746268656716418,
          0.6857142857142857,
          0.5915492957746479,
          0.5735294117647058,
          0.6724137931034483,
          0.5964912280701754,
          0.5454545454545454,
          0.8085106382978723,
          0.6,
          0.7571428571428571,
          0.5130434782608696,
          0.39473684210526316,
          0.7142857142857143,
          0.7837837837837838,
          0.7142857142857143,
          0.8333333333333334,
          0.66,
          0.7872340425531915,
          0.581081081081081,
          0.5625,
          0.6666666666666666,
          0.6944444444444444,
          0.825,
          0.7682926829268293,
          0.6822429906542056,
          0.7142857142857143,
          0.4406779661016949,
          0.3770491803278688,
          0.5454545454545454,
          0.7580645161290323,
          0.6111111111111112,
          0.547945205479452,
          0.6285714285714286,
          0.803030303030303,
          0.6282051282051282,
          0.25136612021857924,
          0.2261904761904762,
          0.48863636363636365,
          0.5633802816901409,
          0.2676056338028169,
          0.39072847682119205,
          0.46236559139784944,
          0.7666666666666667,
          0.2585034013605442,
          0.4857142857142857,
          0.4659090909090909,
          0.39285714285714285,
          0.391304347826087,
          0.26595744680851063,
          0.6727272727272727,
          0.7007299270072993,
          0.7307692307692307,
          0.8852459016393442,
          0.8217054263565892,
          0.8353658536585366,
          0.8484848484848485,
          0.5,
          0.9166666666666666,
          0.726027397260274,
          0.9264705882352942,
          0.9583333333333334,
          0.9090909090909091,
          0.8558558558558559,
          0.5633802816901409,
          0.8235294117647058,
          0.5454545454545454,
          0.8623853211009175,
          0.7870370370370371,
          0.8181818181818182,
          0.7717391304347826,
          0.7246376811594203,
          0.7074829931972789,
          0.6170212765957447,
          0.5632183908045977,
          0.7988505747126436,
          0.8857142857142857,
          0.9772727272727273,
          0.6741573033707865,
          0.796875,
          0.7474747474747475,
          0.7619047619047619,
          0.7428571428571429,
          0.5922330097087378,
          0.85,
          0.5784313725490197,
          0.68,
          0.51,
          0.5925925925925926,
          0.7529411764705882,
          0.47058823529411764,
          0.6052631578947368
         ],
         "y0": " ",
         "yaxis": "y"
        }
       ],
       "layout": {
        "boxmode": "group",
        "legend": {
         "tracegroupgap": 0
        },
        "template": {
         "data": {
          "bar": [
           {
            "error_x": {
             "color": "#2a3f5f"
            },
            "error_y": {
             "color": "#2a3f5f"
            },
            "marker": {
             "line": {
              "color": "#E5ECF6",
              "width": 0.5
             },
             "pattern": {
              "fillmode": "overlay",
              "size": 10,
              "solidity": 0.2
             }
            },
            "type": "bar"
           }
          ],
          "barpolar": [
           {
            "marker": {
             "line": {
              "color": "#E5ECF6",
              "width": 0.5
             },
             "pattern": {
              "fillmode": "overlay",
              "size": 10,
              "solidity": 0.2
             }
            },
            "type": "barpolar"
           }
          ],
          "carpet": [
           {
            "aaxis": {
             "endlinecolor": "#2a3f5f",
             "gridcolor": "white",
             "linecolor": "white",
             "minorgridcolor": "white",
             "startlinecolor": "#2a3f5f"
            },
            "baxis": {
             "endlinecolor": "#2a3f5f",
             "gridcolor": "white",
             "linecolor": "white",
             "minorgridcolor": "white",
             "startlinecolor": "#2a3f5f"
            },
            "type": "carpet"
           }
          ],
          "choropleth": [
           {
            "colorbar": {
             "outlinewidth": 0,
             "ticks": ""
            },
            "type": "choropleth"
           }
          ],
          "contour": [
           {
            "colorbar": {
             "outlinewidth": 0,
             "ticks": ""
            },
            "colorscale": [
             [
              0,
              "#0d0887"
             ],
             [
              0.1111111111111111,
              "#46039f"
             ],
             [
              0.2222222222222222,
              "#7201a8"
             ],
             [
              0.3333333333333333,
              "#9c179e"
             ],
             [
              0.4444444444444444,
              "#bd3786"
             ],
             [
              0.5555555555555556,
              "#d8576b"
             ],
             [
              0.6666666666666666,
              "#ed7953"
             ],
             [
              0.7777777777777778,
              "#fb9f3a"
             ],
             [
              0.8888888888888888,
              "#fdca26"
             ],
             [
              1,
              "#f0f921"
             ]
            ],
            "type": "contour"
           }
          ],
          "contourcarpet": [
           {
            "colorbar": {
             "outlinewidth": 0,
             "ticks": ""
            },
            "type": "contourcarpet"
           }
          ],
          "heatmap": [
           {
            "colorbar": {
             "outlinewidth": 0,
             "ticks": ""
            },
            "colorscale": [
             [
              0,
              "#0d0887"
             ],
             [
              0.1111111111111111,
              "#46039f"
             ],
             [
              0.2222222222222222,
              "#7201a8"
             ],
             [
              0.3333333333333333,
              "#9c179e"
             ],
             [
              0.4444444444444444,
              "#bd3786"
             ],
             [
              0.5555555555555556,
              "#d8576b"
             ],
             [
              0.6666666666666666,
              "#ed7953"
             ],
             [
              0.7777777777777778,
              "#fb9f3a"
             ],
             [
              0.8888888888888888,
              "#fdca26"
             ],
             [
              1,
              "#f0f921"
             ]
            ],
            "type": "heatmap"
           }
          ],
          "heatmapgl": [
           {
            "colorbar": {
             "outlinewidth": 0,
             "ticks": ""
            },
            "colorscale": [
             [
              0,
              "#0d0887"
             ],
             [
              0.1111111111111111,
              "#46039f"
             ],
             [
              0.2222222222222222,
              "#7201a8"
             ],
             [
              0.3333333333333333,
              "#9c179e"
             ],
             [
              0.4444444444444444,
              "#bd3786"
             ],
             [
              0.5555555555555556,
              "#d8576b"
             ],
             [
              0.6666666666666666,
              "#ed7953"
             ],
             [
              0.7777777777777778,
              "#fb9f3a"
             ],
             [
              0.8888888888888888,
              "#fdca26"
             ],
             [
              1,
              "#f0f921"
             ]
            ],
            "type": "heatmapgl"
           }
          ],
          "histogram": [
           {
            "marker": {
             "pattern": {
              "fillmode": "overlay",
              "size": 10,
              "solidity": 0.2
             }
            },
            "type": "histogram"
           }
          ],
          "histogram2d": [
           {
            "colorbar": {
             "outlinewidth": 0,
             "ticks": ""
            },
            "colorscale": [
             [
              0,
              "#0d0887"
             ],
             [
              0.1111111111111111,
              "#46039f"
             ],
             [
              0.2222222222222222,
              "#7201a8"
             ],
             [
              0.3333333333333333,
              "#9c179e"
             ],
             [
              0.4444444444444444,
              "#bd3786"
             ],
             [
              0.5555555555555556,
              "#d8576b"
             ],
             [
              0.6666666666666666,
              "#ed7953"
             ],
             [
              0.7777777777777778,
              "#fb9f3a"
             ],
             [
              0.8888888888888888,
              "#fdca26"
             ],
             [
              1,
              "#f0f921"
             ]
            ],
            "type": "histogram2d"
           }
          ],
          "histogram2dcontour": [
           {
            "colorbar": {
             "outlinewidth": 0,
             "ticks": ""
            },
            "colorscale": [
             [
              0,
              "#0d0887"
             ],
             [
              0.1111111111111111,
              "#46039f"
             ],
             [
              0.2222222222222222,
              "#7201a8"
             ],
             [
              0.3333333333333333,
              "#9c179e"
             ],
             [
              0.4444444444444444,
              "#bd3786"
             ],
             [
              0.5555555555555556,
              "#d8576b"
             ],
             [
              0.6666666666666666,
              "#ed7953"
             ],
             [
              0.7777777777777778,
              "#fb9f3a"
             ],
             [
              0.8888888888888888,
              "#fdca26"
             ],
             [
              1,
              "#f0f921"
             ]
            ],
            "type": "histogram2dcontour"
           }
          ],
          "mesh3d": [
           {
            "colorbar": {
             "outlinewidth": 0,
             "ticks": ""
            },
            "type": "mesh3d"
           }
          ],
          "parcoords": [
           {
            "line": {
             "colorbar": {
              "outlinewidth": 0,
              "ticks": ""
             }
            },
            "type": "parcoords"
           }
          ],
          "pie": [
           {
            "automargin": true,
            "type": "pie"
           }
          ],
          "scatter": [
           {
            "fillpattern": {
             "fillmode": "overlay",
             "size": 10,
             "solidity": 0.2
            },
            "type": "scatter"
           }
          ],
          "scatter3d": [
           {
            "line": {
             "colorbar": {
              "outlinewidth": 0,
              "ticks": ""
             }
            },
            "marker": {
             "colorbar": {
              "outlinewidth": 0,
              "ticks": ""
             }
            },
            "type": "scatter3d"
           }
          ],
          "scattercarpet": [
           {
            "marker": {
             "colorbar": {
              "outlinewidth": 0,
              "ticks": ""
             }
            },
            "type": "scattercarpet"
           }
          ],
          "scattergeo": [
           {
            "marker": {
             "colorbar": {
              "outlinewidth": 0,
              "ticks": ""
             }
            },
            "type": "scattergeo"
           }
          ],
          "scattergl": [
           {
            "marker": {
             "colorbar": {
              "outlinewidth": 0,
              "ticks": ""
             }
            },
            "type": "scattergl"
           }
          ],
          "scattermapbox": [
           {
            "marker": {
             "colorbar": {
              "outlinewidth": 0,
              "ticks": ""
             }
            },
            "type": "scattermapbox"
           }
          ],
          "scatterpolar": [
           {
            "marker": {
             "colorbar": {
              "outlinewidth": 0,
              "ticks": ""
             }
            },
            "type": "scatterpolar"
           }
          ],
          "scatterpolargl": [
           {
            "marker": {
             "colorbar": {
              "outlinewidth": 0,
              "ticks": ""
             }
            },
            "type": "scatterpolargl"
           }
          ],
          "scatterternary": [
           {
            "marker": {
             "colorbar": {
              "outlinewidth": 0,
              "ticks": ""
             }
            },
            "type": "scatterternary"
           }
          ],
          "surface": [
           {
            "colorbar": {
             "outlinewidth": 0,
             "ticks": ""
            },
            "colorscale": [
             [
              0,
              "#0d0887"
             ],
             [
              0.1111111111111111,
              "#46039f"
             ],
             [
              0.2222222222222222,
              "#7201a8"
             ],
             [
              0.3333333333333333,
              "#9c179e"
             ],
             [
              0.4444444444444444,
              "#bd3786"
             ],
             [
              0.5555555555555556,
              "#d8576b"
             ],
             [
              0.6666666666666666,
              "#ed7953"
             ],
             [
              0.7777777777777778,
              "#fb9f3a"
             ],
             [
              0.8888888888888888,
              "#fdca26"
             ],
             [
              1,
              "#f0f921"
             ]
            ],
            "type": "surface"
           }
          ],
          "table": [
           {
            "cells": {
             "fill": {
              "color": "#EBF0F8"
             },
             "line": {
              "color": "white"
             }
            },
            "header": {
             "fill": {
              "color": "#C8D4E3"
             },
             "line": {
              "color": "white"
             }
            },
            "type": "table"
           }
          ]
         },
         "layout": {
          "annotationdefaults": {
           "arrowcolor": "#2a3f5f",
           "arrowhead": 0,
           "arrowwidth": 1
          },
          "autotypenumbers": "strict",
          "coloraxis": {
           "colorbar": {
            "outlinewidth": 0,
            "ticks": ""
           }
          },
          "colorscale": {
           "diverging": [
            [
             0,
             "#8e0152"
            ],
            [
             0.1,
             "#c51b7d"
            ],
            [
             0.2,
             "#de77ae"
            ],
            [
             0.3,
             "#f1b6da"
            ],
            [
             0.4,
             "#fde0ef"
            ],
            [
             0.5,
             "#f7f7f7"
            ],
            [
             0.6,
             "#e6f5d0"
            ],
            [
             0.7,
             "#b8e186"
            ],
            [
             0.8,
             "#7fbc41"
            ],
            [
             0.9,
             "#4d9221"
            ],
            [
             1,
             "#276419"
            ]
           ],
           "sequential": [
            [
             0,
             "#0d0887"
            ],
            [
             0.1111111111111111,
             "#46039f"
            ],
            [
             0.2222222222222222,
             "#7201a8"
            ],
            [
             0.3333333333333333,
             "#9c179e"
            ],
            [
             0.4444444444444444,
             "#bd3786"
            ],
            [
             0.5555555555555556,
             "#d8576b"
            ],
            [
             0.6666666666666666,
             "#ed7953"
            ],
            [
             0.7777777777777778,
             "#fb9f3a"
            ],
            [
             0.8888888888888888,
             "#fdca26"
            ],
            [
             1,
             "#f0f921"
            ]
           ],
           "sequentialminus": [
            [
             0,
             "#0d0887"
            ],
            [
             0.1111111111111111,
             "#46039f"
            ],
            [
             0.2222222222222222,
             "#7201a8"
            ],
            [
             0.3333333333333333,
             "#9c179e"
            ],
            [
             0.4444444444444444,
             "#bd3786"
            ],
            [
             0.5555555555555556,
             "#d8576b"
            ],
            [
             0.6666666666666666,
             "#ed7953"
            ],
            [
             0.7777777777777778,
             "#fb9f3a"
            ],
            [
             0.8888888888888888,
             "#fdca26"
            ],
            [
             1,
             "#f0f921"
            ]
           ]
          },
          "colorway": [
           "#636efa",
           "#EF553B",
           "#00cc96",
           "#ab63fa",
           "#FFA15A",
           "#19d3f3",
           "#FF6692",
           "#B6E880",
           "#FF97FF",
           "#FECB52"
          ],
          "font": {
           "color": "#2a3f5f"
          },
          "geo": {
           "bgcolor": "white",
           "lakecolor": "white",
           "landcolor": "#E5ECF6",
           "showlakes": true,
           "showland": true,
           "subunitcolor": "white"
          },
          "hoverlabel": {
           "align": "left"
          },
          "hovermode": "closest",
          "mapbox": {
           "style": "light"
          },
          "paper_bgcolor": "white",
          "plot_bgcolor": "#E5ECF6",
          "polar": {
           "angularaxis": {
            "gridcolor": "white",
            "linecolor": "white",
            "ticks": ""
           },
           "bgcolor": "#E5ECF6",
           "radialaxis": {
            "gridcolor": "white",
            "linecolor": "white",
            "ticks": ""
           }
          },
          "scene": {
           "xaxis": {
            "backgroundcolor": "#E5ECF6",
            "gridcolor": "white",
            "gridwidth": 2,
            "linecolor": "white",
            "showbackground": true,
            "ticks": "",
            "zerolinecolor": "white"
           },
           "yaxis": {
            "backgroundcolor": "#E5ECF6",
            "gridcolor": "white",
            "gridwidth": 2,
            "linecolor": "white",
            "showbackground": true,
            "ticks": "",
            "zerolinecolor": "white"
           },
           "zaxis": {
            "backgroundcolor": "#E5ECF6",
            "gridcolor": "white",
            "gridwidth": 2,
            "linecolor": "white",
            "showbackground": true,
            "ticks": "",
            "zerolinecolor": "white"
           }
          },
          "shapedefaults": {
           "line": {
            "color": "#2a3f5f"
           }
          },
          "ternary": {
           "aaxis": {
            "gridcolor": "white",
            "linecolor": "white",
            "ticks": ""
           },
           "baxis": {
            "gridcolor": "white",
            "linecolor": "white",
            "ticks": ""
           },
           "bgcolor": "#E5ECF6",
           "caxis": {
            "gridcolor": "white",
            "linecolor": "white",
            "ticks": ""
           }
          },
          "title": {
           "x": 0.05
          },
          "xaxis": {
           "automargin": true,
           "gridcolor": "white",
           "linecolor": "white",
           "ticks": "",
           "title": {
            "standoff": 15
           },
           "zerolinecolor": "white",
           "zerolinewidth": 2
          },
          "yaxis": {
           "automargin": true,
           "gridcolor": "white",
           "linecolor": "white",
           "ticks": "",
           "title": {
            "standoff": 15
           },
           "zerolinecolor": "white",
           "zerolinewidth": 2
          }
         }
        },
        "title": {
         "text": "Ratio of unique words to all words"
        },
        "xaxis": {
         "anchor": "y",
         "domain": [
          0,
          1
         ],
         "title": {
          "text": "Artist"
         }
        },
        "yaxis": {
         "anchor": "x",
         "domain": [
          0,
          1
         ],
         "title": {
          "text": "unique_stems_ratio_en"
         }
        }
       }
      },
      "text/html": [
       "<div>                            <div id=\"4fd0073b-ff78-4a0c-8b04-80a9587311ec\" class=\"plotly-graph-div\" style=\"height:525px; width:100%;\"></div>            <script type=\"text/javascript\">                require([\"plotly\"], function(Plotly) {                    window.PLOTLYENV=window.PLOTLYENV || {};                                    if (document.getElementById(\"4fd0073b-ff78-4a0c-8b04-80a9587311ec\")) {                    Plotly.newPlot(                        \"4fd0073b-ff78-4a0c-8b04-80a9587311ec\",                        [{\"alignmentgroup\":\"True\",\"hovertemplate\":\"Artist=%{x}<br>unique_stems_ratio_en=%{y}<extra></extra>\",\"legendgroup\":\"\",\"marker\":{\"color\":\"#636efa\"},\"name\":\"\",\"notched\":false,\"offsetgroup\":\"\",\"orientation\":\"v\",\"showlegend\":false,\"x\":[\"\\u0531\\u0550\\u0539\\u0548\\u0552\\u0550 \\u0544\\u0535\\u054d\\u0549\\u0545\\u0531\\u0546\",\"\\u0531\\u0550\\u0539\\u0548\\u0552\\u0550 \\u0544\\u0535\\u054d\\u0549\\u0545\\u0531\\u0546\",\"\\u0531\\u0550\\u0539\\u0548\\u0552\\u0550 \\u0544\\u0535\\u054d\\u0549\\u0545\\u0531\\u0546\",\"\\u0531\\u0550\\u0539\\u0548\\u0552\\u0550 \\u0544\\u0535\\u054d\\u0549\\u0545\\u0531\\u0546\",\"\\u0531\\u0550\\u0539\\u0548\\u0552\\u0550 \\u0544\\u0535\\u054d\\u0549\\u0545\\u0531\\u0546\",\"\\u0531\\u0550\\u0539\\u0548\\u0552\\u0550 \\u0544\\u0535\\u054d\\u0549\\u0545\\u0531\\u0546\",\"\\u0531\\u0550\\u0539\\u0548\\u0552\\u0550 \\u0544\\u0535\\u054d\\u0549\\u0545\\u0531\\u0546\",\"\\u0531\\u0550\\u0539\\u0548\\u0552\\u0550 \\u0544\\u0535\\u054d\\u0549\\u0545\\u0531\\u0546\",\"\\u0531\\u0550\\u0539\\u0548\\u0552\\u0550 \\u0544\\u0535\\u054d\\u0549\\u0545\\u0531\\u0546\",\"\\u0531\\u0550\\u0539\\u0548\\u0552\\u0550 \\u0544\\u0535\\u054d\\u0549\\u0545\\u0531\\u0546\",\"\\u0531\\u0550\\u0539\\u0548\\u0552\\u0550 \\u0544\\u0535\\u054d\\u0549\\u0545\\u0531\\u0546\",\"\\u0531\\u0550\\u0539\\u0548\\u0552\\u0550 \\u0544\\u0535\\u054d\\u0549\\u0545\\u0531\\u0546\",\"\\u0531\\u0550\\u0539\\u0548\\u0552\\u0550 \\u0544\\u0535\\u054d\\u0549\\u0545\\u0531\\u0546\",\"\\u0531\\u0550\\u0539\\u0548\\u0552\\u0550 \\u0544\\u0535\\u054d\\u0549\\u0545\\u0531\\u0546\",\"\\u0531\\u0550\\u0539\\u0548\\u0552\\u0550 \\u0544\\u0535\\u054d\\u0549\\u0545\\u0531\\u0546\",\"\\u0531\\u0550\\u0539\\u0548\\u0552\\u0550 \\u0544\\u0535\\u054d\\u0549\\u0545\\u0531\\u0546\",\"\\u0531\\u0550\\u0539\\u0548\\u0552\\u0550 \\u0544\\u0535\\u054d\\u0549\\u0545\\u0531\\u0546\",\"\\u0531\\u0550\\u0539\\u0548\\u0552\\u0550 \\u0544\\u0535\\u054d\\u0549\\u0545\\u0531\\u0546\",\"\\u0531\\u0550\\u0539\\u0548\\u0552\\u0550 \\u0544\\u0535\\u054d\\u0549\\u0545\\u0531\\u0546\",\"\\u0531\\u0550\\u0539\\u0548\\u0552\\u0550 \\u0544\\u0535\\u054d\\u0549\\u0545\\u0531\\u0546\",\"\\u0531\\u0550\\u0539\\u0548\\u0552\\u0550 \\u0544\\u0535\\u054d\\u0549\\u0545\\u0531\\u0546\",\"\\u0531\\u0550\\u0539\\u0548\\u0552\\u0550 \\u0544\\u0535\\u054d\\u0549\\u0545\\u0531\\u0546\",\"\\u0531\\u0550\\u0539\\u0548\\u0552\\u0550 \\u0544\\u0535\\u054d\\u0549\\u0545\\u0531\\u0546\",\"\\u0531\\u0550\\u0539\\u0548\\u0552\\u0550 \\u0544\\u0535\\u054d\\u0549\\u0545\\u0531\\u0546\",\"\\u0531\\u0550\\u0539\\u0548\\u0552\\u0550 \\u0544\\u0535\\u054d\\u0549\\u0545\\u0531\\u0546\",\"\\u0531\\u0550\\u0539\\u0548\\u0552\\u0550 \\u0544\\u0535\\u054d\\u0549\\u0545\\u0531\\u0546\",\"\\u0531\\u0550\\u0539\\u0548\\u0552\\u0550 \\u0544\\u0535\\u054d\\u0549\\u0545\\u0531\\u0546\",\"\\u0531\\u0550\\u0539\\u0548\\u0552\\u0550 \\u0544\\u0535\\u054d\\u0549\\u0545\\u0531\\u0546\",\"\\u0531\\u0550\\u0539\\u0548\\u0552\\u0550 \\u0544\\u0535\\u054d\\u0549\\u0545\\u0531\\u0546\",\"\\u0531\\u0550\\u0539\\u0548\\u0552\\u0550 \\u0544\\u0535\\u054d\\u0549\\u0545\\u0531\\u0546\",\"\\u0531\\u0550\\u0539\\u0548\\u0552\\u0550 \\u0544\\u0535\\u054d\\u0549\\u0545\\u0531\\u0546\",\"\\u0531\\u0550\\u0539\\u0548\\u0552\\u0550 \\u0544\\u0535\\u054d\\u0549\\u0545\\u0531\\u0546\",\"\\u0531\\u0550\\u0539\\u0548\\u0552\\u0550 \\u0544\\u0535\\u054d\\u0549\\u0545\\u0531\\u0546\",\"\\u0531\\u0550\\u0539\\u0548\\u0552\\u0550 \\u0544\\u0535\\u054d\\u0549\\u0545\\u0531\\u0546\",\"\\u0531\\u0550\\u0539\\u0548\\u0552\\u0550 \\u0544\\u0535\\u054d\\u0549\\u0545\\u0531\\u0546\",\"\\u0531\\u0550\\u0539\\u0548\\u0552\\u0550 \\u0544\\u0535\\u054d\\u0549\\u0545\\u0531\\u0546\",\"\\u0531\\u0550\\u0539\\u0548\\u0552\\u0550 \\u0544\\u0535\\u054d\\u0549\\u0545\\u0531\\u0546\",\"\\u0531\\u0550\\u0539\\u0548\\u0552\\u0550 \\u0544\\u0535\\u054d\\u0549\\u0545\\u0531\\u0546\",\"\\u0531\\u0550\\u0539\\u0548\\u0552\\u0550 \\u0544\\u0535\\u054d\\u0549\\u0545\\u0531\\u0546\",\"\\u0531\\u0550\\u0539\\u0548\\u0552\\u0550 \\u0544\\u0535\\u054d\\u0549\\u0545\\u0531\\u0546\",\"\\u0531\\u0550\\u0539\\u0548\\u0552\\u0550 \\u0544\\u0535\\u054d\\u0549\\u0545\\u0531\\u0546\",\"\\u0531\\u0550\\u0539\\u0548\\u0552\\u0550 \\u0544\\u0535\\u054d\\u0549\\u0545\\u0531\\u0546\",\"\\u0531\\u0550\\u0539\\u0548\\u0552\\u0550 \\u0544\\u0535\\u054d\\u0549\\u0545\\u0531\\u0546\",\"\\u0531\\u0550\\u0539\\u0548\\u0552\\u0550 \\u0544\\u0535\\u054d\\u0549\\u0545\\u0531\\u0546\",\"\\u0531\\u0550\\u0539\\u0548\\u0552\\u0550 \\u0544\\u0535\\u054d\\u0549\\u0545\\u0531\\u0546\",\"\\u0531\\u0550\\u0539\\u0548\\u0552\\u0550 \\u0544\\u0535\\u054d\\u0549\\u0545\\u0531\\u0546\",\"\\u0531\\u0550\\u0539\\u0548\\u0552\\u0550 \\u0544\\u0535\\u054d\\u0549\\u0545\\u0531\\u0546\",\"\\u0531\\u0550\\u0539\\u0548\\u0552\\u0550 \\u0544\\u0535\\u054d\\u0549\\u0545\\u0531\\u0546\",\"\\u0531\\u0550\\u0539\\u0548\\u0552\\u0550 \\u0544\\u0535\\u054d\\u0549\\u0545\\u0531\\u0546\",\"\\u0531\\u0550\\u0539\\u0548\\u0552\\u0550 \\u0544\\u0535\\u054d\\u0549\\u0545\\u0531\\u0546\",\"\\u054c\\u0548\\u0552\\u0532\\u0535\\u0546 \\u0540\\u0531\\u053d\\u054e\\u0535\\u0550\\u0534\\u0545\\u0531\\u0546\",\"\\u054c\\u0548\\u0552\\u0532\\u0535\\u0546 \\u0540\\u0531\\u053d\\u054e\\u0535\\u0550\\u0534\\u0545\\u0531\\u0546\",\"\\u054c\\u0548\\u0552\\u0532\\u0535\\u0546 \\u0540\\u0531\\u053d\\u054e\\u0535\\u0550\\u0534\\u0545\\u0531\\u0546\",\"\\u054c\\u0548\\u0552\\u0532\\u0535\\u0546 \\u0540\\u0531\\u053d\\u054e\\u0535\\u0550\\u0534\\u0545\\u0531\\u0546\",\"\\u054c\\u0548\\u0552\\u0532\\u0535\\u0546 \\u0540\\u0531\\u053d\\u054e\\u0535\\u0550\\u0534\\u0545\\u0531\\u0546\",\"\\u054c\\u0548\\u0552\\u0532\\u0535\\u0546 \\u0540\\u0531\\u053d\\u054e\\u0535\\u0550\\u0534\\u0545\\u0531\\u0546\",\"\\u054c\\u0548\\u0552\\u0532\\u0535\\u0546 \\u0540\\u0531\\u053d\\u054e\\u0535\\u0550\\u0534\\u0545\\u0531\\u0546\",\"\\u054c\\u0548\\u0552\\u0532\\u0535\\u0546 \\u0540\\u0531\\u053d\\u054e\\u0535\\u0550\\u0534\\u0545\\u0531\\u0546\",\"\\u054c\\u0548\\u0552\\u0532\\u0535\\u0546 \\u0540\\u0531\\u053d\\u054e\\u0535\\u0550\\u0534\\u0545\\u0531\\u0546\",\"\\u054c\\u0548\\u0552\\u0532\\u0535\\u0546 \\u0540\\u0531\\u053d\\u054e\\u0535\\u0550\\u0534\\u0545\\u0531\\u0546\",\"\\u054c\\u0548\\u0552\\u0532\\u0535\\u0546 \\u0540\\u0531\\u053d\\u054e\\u0535\\u0550\\u0534\\u0545\\u0531\\u0546\",\"\\u054c\\u0548\\u0552\\u0532\\u0535\\u0546 \\u0540\\u0531\\u053d\\u054e\\u0535\\u0550\\u0534\\u0545\\u0531\\u0546\",\"\\u054c\\u0548\\u0552\\u0532\\u0535\\u0546 \\u0540\\u0531\\u053d\\u054e\\u0535\\u0550\\u0534\\u0545\\u0531\\u0546\",\"\\u054c\\u0548\\u0552\\u0532\\u0535\\u0546 \\u0540\\u0531\\u053d\\u054e\\u0535\\u0550\\u0534\\u0545\\u0531\\u0546\",\"\\u054c\\u0548\\u0552\\u0532\\u0535\\u0546 \\u0540\\u0531\\u053d\\u054e\\u0535\\u0550\\u0534\\u0545\\u0531\\u0546\",\"\\u054c\\u0548\\u0552\\u0532\\u0535\\u0546 \\u0540\\u0531\\u053d\\u054e\\u0535\\u0550\\u0534\\u0545\\u0531\\u0546\",\"\\u054c\\u0548\\u0552\\u0532\\u0535\\u0546 \\u0540\\u0531\\u053d\\u054e\\u0535\\u0550\\u0534\\u0545\\u0531\\u0546\",\"\\u054c\\u0548\\u0552\\u0532\\u0535\\u0546 \\u0540\\u0531\\u053d\\u054e\\u0535\\u0550\\u0534\\u0545\\u0531\\u0546\",\"\\u054c\\u0548\\u0552\\u0532\\u0535\\u0546 \\u0540\\u0531\\u053d\\u054e\\u0535\\u0550\\u0534\\u0545\\u0531\\u0546\",\"\\u054c\\u0548\\u0552\\u0532\\u0535\\u0546 \\u0540\\u0531\\u053d\\u054e\\u0535\\u0550\\u0534\\u0545\\u0531\\u0546\",\"\\u054c\\u0548\\u0552\\u0532\\u0535\\u0546 \\u0540\\u0531\\u053d\\u054e\\u0535\\u0550\\u0534\\u0545\\u0531\\u0546\",\"\\u054c\\u0548\\u0552\\u0532\\u0535\\u0546 \\u0540\\u0531\\u053d\\u054e\\u0535\\u0550\\u0534\\u0545\\u0531\\u0546\",\"\\u054c\\u0548\\u0552\\u0532\\u0535\\u0546 \\u0540\\u0531\\u053d\\u054e\\u0535\\u0550\\u0534\\u0545\\u0531\\u0546\",\"\\u054c\\u0548\\u0552\\u0532\\u0535\\u0546 \\u0540\\u0531\\u053d\\u054e\\u0535\\u0550\\u0534\\u0545\\u0531\\u0546\",\"\\u054c\\u0548\\u0552\\u0532\\u0535\\u0546 \\u0540\\u0531\\u053d\\u054e\\u0535\\u0550\\u0534\\u0545\\u0531\\u0546\",\"\\u054c\\u0548\\u0552\\u0532\\u0535\\u0546 \\u0540\\u0531\\u053d\\u054e\\u0535\\u0550\\u0534\\u0545\\u0531\\u0546\",\"\\u054c\\u0548\\u0552\\u0532\\u0535\\u0546 \\u0540\\u0531\\u053d\\u054e\\u0535\\u0550\\u0534\\u0545\\u0531\\u0546\",\"\\u054c\\u0548\\u0552\\u0532\\u0535\\u0546 \\u0540\\u0531\\u053d\\u054e\\u0535\\u0550\\u0534\\u0545\\u0531\\u0546\",\"\\u054c\\u0548\\u0552\\u0532\\u0535\\u0546 \\u0540\\u0531\\u053d\\u054e\\u0535\\u0550\\u0534\\u0545\\u0531\\u0546\",\"\\u054c\\u0548\\u0552\\u0532\\u0535\\u0546 \\u0540\\u0531\\u053d\\u054e\\u0535\\u0550\\u0534\\u0545\\u0531\\u0546\",\"\\u054c\\u0548\\u0552\\u0532\\u0535\\u0546 \\u0540\\u0531\\u053d\\u054e\\u0535\\u0550\\u0534\\u0545\\u0531\\u0546\",\"\\u054c\\u0548\\u0552\\u0532\\u0535\\u0546 \\u0540\\u0531\\u053d\\u054e\\u0535\\u0550\\u0534\\u0545\\u0531\\u0546\",\"\\u054c\\u0548\\u0552\\u0532\\u0535\\u0546 \\u0540\\u0531\\u053d\\u054e\\u0535\\u0550\\u0534\\u0545\\u0531\\u0546\",\"\\u054c\\u0548\\u0552\\u0532\\u0535\\u0546 \\u0540\\u0531\\u053d\\u054e\\u0535\\u0550\\u0534\\u0545\\u0531\\u0546\",\"\\u054c\\u0548\\u0552\\u0532\\u0535\\u0546 \\u0540\\u0531\\u053d\\u054e\\u0535\\u0550\\u0534\\u0545\\u0531\\u0546\",\"\\u054c\\u0548\\u0552\\u0532\\u0535\\u0546 \\u0540\\u0531\\u053d\\u054e\\u0535\\u0550\\u0534\\u0545\\u0531\\u0546\",\"\\u054c\\u0548\\u0552\\u0532\\u0535\\u0546 \\u0540\\u0531\\u053d\\u054e\\u0535\\u0550\\u0534\\u0545\\u0531\\u0546\",\"\\u054c\\u0548\\u0552\\u0532\\u0535\\u0546 \\u0540\\u0531\\u053d\\u054e\\u0535\\u0550\\u0534\\u0545\\u0531\\u0546\",\"\\u054c\\u0548\\u0552\\u0532\\u0535\\u0546 \\u0540\\u0531\\u053d\\u054e\\u0535\\u0550\\u0534\\u0545\\u0531\\u0546\",\"\\u054c\\u0548\\u0552\\u0532\\u0535\\u0546 \\u0540\\u0531\\u053d\\u054e\\u0535\\u0550\\u0534\\u0545\\u0531\\u0546\",\"\\u054c\\u0548\\u0552\\u0532\\u0535\\u0546 \\u0540\\u0531\\u053d\\u054e\\u0535\\u0550\\u0534\\u0545\\u0531\\u0546\",\"\\u054c\\u0548\\u0552\\u0532\\u0535\\u0546 \\u0540\\u0531\\u053d\\u054e\\u0535\\u0550\\u0534\\u0545\\u0531\\u0546\",\"\\u054c\\u0548\\u0552\\u0532\\u0535\\u0546 \\u0540\\u0531\\u053d\\u054e\\u0535\\u0550\\u0534\\u0545\\u0531\\u0546\",\"\\u054c\\u0548\\u0552\\u0532\\u0535\\u0546 \\u0540\\u0531\\u053d\\u054e\\u0535\\u0550\\u0534\\u0545\\u0531\\u0546\",\"\\u054c\\u0548\\u0552\\u0532\\u0535\\u0546 \\u0540\\u0531\\u053d\\u054e\\u0535\\u0550\\u0534\\u0545\\u0531\\u0546\",\"\\u054c\\u0548\\u0552\\u0532\\u0535\\u0546 \\u0540\\u0531\\u053d\\u054e\\u0535\\u0550\\u0534\\u0545\\u0531\\u0546\",\"\\u054c\\u0548\\u0552\\u0532\\u0535\\u0546 \\u0540\\u0531\\u053d\\u054e\\u0535\\u0550\\u0534\\u0545\\u0531\\u0546\",\"\\u054c\\u0548\\u0552\\u0532\\u0535\\u0546 \\u0540\\u0531\\u053d\\u054e\\u0535\\u0550\\u0534\\u0545\\u0531\\u0546\",\"\\u054c\\u0548\\u0552\\u0532\\u0535\\u0546 \\u0540\\u0531\\u053d\\u054e\\u0535\\u0550\\u0534\\u0545\\u0531\\u0546\",\"\\u054c\\u0548\\u0552\\u0532\\u0535\\u0546 \\u0540\\u0531\\u053d\\u054e\\u0535\\u0550\\u0534\\u0545\\u0531\\u0546\",\"\\u054c\\u0548\\u0552\\u0532\\u0535\\u0546 \\u0540\\u0531\\u053d\\u054e\\u0535\\u0550\\u0534\\u0545\\u0531\\u0546\",\"\\u054c\\u0548\\u0552\\u0532\\u0535\\u0546 \\u0540\\u0531\\u053d\\u054e\\u0535\\u0550\\u0534\\u0545\\u0531\\u0546\",\"\\u054c\\u0548\\u0552\\u0532\\u0535\\u0546 \\u0540\\u0531\\u053d\\u054e\\u0535\\u0550\\u0534\\u0545\\u0531\\u0546\",\"\\u054c\\u0548\\u0552\\u0532\\u0535\\u0546 \\u0540\\u0531\\u053d\\u054e\\u0535\\u0550\\u0534\\u0545\\u0531\\u0546\",\"\\u054c\\u0548\\u0552\\u0532\\u0535\\u0546 \\u0540\\u0531\\u053d\\u054e\\u0535\\u0550\\u0534\\u0545\\u0531\\u0546\",\"\\u054c\\u0548\\u0552\\u0532\\u0535\\u0546 \\u0540\\u0531\\u053d\\u054e\\u0535\\u0550\\u0534\\u0545\\u0531\\u0546\",\"\\u054c\\u0548\\u0552\\u0532\\u0535\\u0546 \\u0540\\u0531\\u053d\\u054e\\u0535\\u0550\\u0534\\u0545\\u0531\\u0546\",\"\\u054c\\u0548\\u0552\\u0532\\u0535\\u0546 \\u0540\\u0531\\u053d\\u054e\\u0535\\u0550\\u0534\\u0545\\u0531\\u0546\",\"\\u054c\\u0548\\u0552\\u0532\\u0535\\u0546 \\u0540\\u0531\\u053d\\u054e\\u0535\\u0550\\u0534\\u0545\\u0531\\u0546\",\"\\u054c\\u0548\\u0552\\u0532\\u0535\\u0546 \\u0540\\u0531\\u053d\\u054e\\u0535\\u0550\\u0534\\u0545\\u0531\\u0546\",\"\\u054c\\u0548\\u0552\\u0532\\u0535\\u0546 \\u0540\\u0531\\u053d\\u054e\\u0535\\u0550\\u0534\\u0545\\u0531\\u0546\",\"\\u054c\\u0548\\u0552\\u0532\\u0535\\u0546 \\u0540\\u0531\\u053d\\u054e\\u0535\\u0550\\u0534\\u0545\\u0531\\u0546\",\"\\u054c\\u0548\\u0552\\u0532\\u0535\\u0546 \\u0540\\u0531\\u053d\\u054e\\u0535\\u0550\\u0534\\u0545\\u0531\\u0546\",\"\\u054c\\u0548\\u0552\\u0532\\u0535\\u0546 \\u0540\\u0531\\u053d\\u054e\\u0535\\u0550\\u0534\\u0545\\u0531\\u0546\",\"\\u054c\\u0548\\u0552\\u0532\\u0535\\u0546 \\u0540\\u0531\\u053d\\u054e\\u0535\\u0550\\u0534\\u0545\\u0531\\u0546\",\"\\u054c\\u0548\\u0552\\u0532\\u0535\\u0546 \\u0540\\u0531\\u053d\\u054e\\u0535\\u0550\\u0534\\u0545\\u0531\\u0546\",\"\\u054c\\u0548\\u0552\\u0532\\u0535\\u0546 \\u0540\\u0531\\u053d\\u054e\\u0535\\u0550\\u0534\\u0545\\u0531\\u0546\",\"\\u054c\\u0548\\u0552\\u0532\\u0535\\u0546 \\u0540\\u0531\\u053d\\u054e\\u0535\\u0550\\u0534\\u0545\\u0531\\u0546\",\"\\u054c\\u0548\\u0552\\u0532\\u0535\\u0546 \\u0540\\u0531\\u053d\\u054e\\u0535\\u0550\\u0534\\u0545\\u0531\\u0546\",\"\\u054c\\u0548\\u0552\\u0532\\u0535\\u0546 \\u0540\\u0531\\u053d\\u054e\\u0535\\u0550\\u0534\\u0545\\u0531\\u0546\",\"\\u054c\\u0548\\u0552\\u0532\\u0535\\u0546 \\u0540\\u0531\\u053d\\u054e\\u0535\\u0550\\u0534\\u0545\\u0531\\u0546\",\"\\u054c\\u0548\\u0552\\u0532\\u0535\\u0546 \\u0540\\u0531\\u053d\\u054e\\u0535\\u0550\\u0534\\u0545\\u0531\\u0546\",\"\\u054c\\u0548\\u0552\\u0532\\u0535\\u0546 \\u0540\\u0531\\u053d\\u054e\\u0535\\u0550\\u0534\\u0545\\u0531\\u0546\",\"\\u054c\\u0548\\u0552\\u0532\\u0535\\u0546 \\u0540\\u0531\\u053d\\u054e\\u0535\\u0550\\u0534\\u0545\\u0531\\u0546\",\"\\u054c\\u0548\\u0552\\u0532\\u0535\\u0546 \\u0540\\u0531\\u053d\\u054e\\u0535\\u0550\\u0534\\u0545\\u0531\\u0546\",\"\\u054c\\u0548\\u0552\\u0532\\u0535\\u0546 \\u0540\\u0531\\u053d\\u054e\\u0535\\u0550\\u0534\\u0545\\u0531\\u0546\",\"\\u054c\\u0548\\u0552\\u0532\\u0535\\u0546 \\u0540\\u0531\\u053d\\u054e\\u0535\\u0550\\u0534\\u0545\\u0531\\u0546\",\"\\u054c\\u0548\\u0552\\u0532\\u0535\\u0546 \\u0540\\u0531\\u053d\\u054e\\u0535\\u0550\\u0534\\u0545\\u0531\\u0546\",\"\\u054c\\u0548\\u0552\\u0532\\u0535\\u0546 \\u0540\\u0531\\u053d\\u054e\\u0535\\u0550\\u0534\\u0545\\u0531\\u0546\",\"\\u054c\\u0548\\u0552\\u0532\\u0535\\u0546 \\u0540\\u0531\\u053d\\u054e\\u0535\\u0550\\u0534\\u0545\\u0531\\u0546\",\"\\u054c\\u0548\\u0552\\u0532\\u0535\\u0546 \\u0540\\u0531\\u053d\\u054e\\u0535\\u0550\\u0534\\u0545\\u0531\\u0546\",\"\\u054d\\u0531\\u0545\\u0531\\u0539-\\u0546\\u0548\\u054e\\u0531\",\"\\u054d\\u0531\\u0545\\u0531\\u0539-\\u0546\\u0548\\u054e\\u0531\",\"\\u054d\\u0531\\u0545\\u0531\\u0539-\\u0546\\u0548\\u054e\\u0531\",\"\\u054d\\u0531\\u0545\\u0531\\u0539-\\u0546\\u0548\\u054e\\u0531\",\"\\u054d\\u0531\\u0545\\u0531\\u0539-\\u0546\\u0548\\u054e\\u0531\",\"\\u054d\\u0531\\u0545\\u0531\\u0539-\\u0546\\u0548\\u054e\\u0531\",\"\\u054d\\u0531\\u0545\\u0531\\u0539-\\u0546\\u0548\\u054e\\u0531\",\"\\u054d\\u0531\\u0545\\u0531\\u0539-\\u0546\\u0548\\u054e\\u0531\",\"\\u054d\\u0531\\u0545\\u0531\\u0539-\\u0546\\u0548\\u054e\\u0531\",\"\\u054d\\u0531\\u0545\\u0531\\u0539-\\u0546\\u0548\\u054e\\u0531\",\"\\u054d\\u0531\\u0545\\u0531\\u0539-\\u0546\\u0548\\u054e\\u0531\",\"\\u054d\\u0531\\u0545\\u0531\\u0539-\\u0546\\u0548\\u054e\\u0531\",\"\\u054d\\u0531\\u0545\\u0531\\u0539-\\u0546\\u0548\\u054e\\u0531\",\"\\u054d\\u0531\\u0545\\u0531\\u0539-\\u0546\\u0548\\u054e\\u0531\",\"\\u054d\\u0531\\u0545\\u0531\\u0539-\\u0546\\u0548\\u054e\\u0531\",\"\\u054d\\u0531\\u0545\\u0531\\u0539-\\u0546\\u0548\\u054e\\u0531\",\"\\u053f\\u0548\\u0544\\u053b\\u054f\\u0531\\u054d\",\"\\u053f\\u0548\\u0544\\u053b\\u054f\\u0531\\u054d\",\"\\u053f\\u0548\\u0544\\u053b\\u054f\\u0531\\u054d\",\"\\u053f\\u0548\\u0544\\u053b\\u054f\\u0531\\u054d\",\"\\u053f\\u0548\\u0544\\u053b\\u054f\\u0531\\u054d\",\"\\u053f\\u0548\\u0544\\u053b\\u054f\\u0531\\u054d\",\"\\u053f\\u0548\\u0544\\u053b\\u054f\\u0531\\u054d\",\"\\u053f\\u0548\\u0544\\u053b\\u054f\\u0531\\u054d\",\"\\u053f\\u0548\\u0544\\u053b\\u054f\\u0531\\u054d\",\"\\u053f\\u0548\\u0544\\u053b\\u054f\\u0531\\u054d\",\"\\u053f\\u0548\\u0544\\u053b\\u054f\\u0531\\u054d\",\"\\u053f\\u0548\\u0544\\u053b\\u054f\\u0531\\u054d\",\"\\u053f\\u0548\\u0544\\u053b\\u054f\\u0531\\u054d\",\"\\u053f\\u0548\\u0544\\u053b\\u054f\\u0531\\u054d\",\"\\u053f\\u0548\\u0544\\u053b\\u054f\\u0531\\u054d\",\"\\u053f\\u0548\\u0544\\u053b\\u054f\\u0531\\u054d\",\"\\u053f\\u0548\\u0544\\u053b\\u054f\\u0531\\u054d\",\"\\u053f\\u0548\\u0544\\u053b\\u054f\\u0531\\u054d\",\"\\u053f\\u0548\\u0544\\u053b\\u054f\\u0531\\u054d\",\"\\u053f\\u0548\\u0544\\u053b\\u054f\\u0531\\u054d\",\"\\u053f\\u0548\\u0544\\u053b\\u054f\\u0531\\u054d\",\"\\u053f\\u0548\\u0544\\u053b\\u054f\\u0531\\u054d\",\"\\u053f\\u0548\\u0544\\u053b\\u054f\\u0531\\u054d\",\"\\u053f\\u0548\\u0544\\u053b\\u054f\\u0531\\u054d\",\"\\u053f\\u0548\\u0544\\u053b\\u054f\\u0531\\u054d\",\"\\u053f\\u0548\\u0544\\u053b\\u054f\\u0531\\u054d\",\"\\u053f\\u0548\\u0544\\u053b\\u054f\\u0531\\u054d\",\"\\u053f\\u0548\\u0544\\u053b\\u054f\\u0531\\u054d\",\"\\u053f\\u0548\\u0544\\u053b\\u054f\\u0531\\u054d\",\"\\u053f\\u0548\\u0544\\u053b\\u054f\\u0531\\u054d\",\"\\u053f\\u0548\\u0544\\u053b\\u054f\\u0531\\u054d\",\"\\u053f\\u0548\\u0544\\u053b\\u054f\\u0531\\u054d\",\"\\u053f\\u0548\\u0544\\u053b\\u054f\\u0531\\u054d\",\"\\u053f\\u0548\\u0544\\u053b\\u054f\\u0531\\u054d\",\"\\u053f\\u0548\\u0544\\u053b\\u054f\\u0531\\u054d\",\"\\u053f\\u0548\\u0544\\u053b\\u054f\\u0531\\u054d\",\"\\u053f\\u0548\\u0544\\u053b\\u054f\\u0531\\u054d\",\"\\u053f\\u0548\\u0544\\u053b\\u054f\\u0531\\u054d\",\"\\u053f\\u0548\\u0544\\u053b\\u054f\\u0531\\u054d\",\"\\u053f\\u0548\\u0544\\u053b\\u054f\\u0531\\u054d\",\"\\u053f\\u0548\\u0544\\u053b\\u054f\\u0531\\u054d\",\"\\u053f\\u0548\\u0544\\u053b\\u054f\\u0531\\u054d\",\"\\u053f\\u0548\\u0544\\u053b\\u054f\\u0531\\u054d\",\"\\u053f\\u0548\\u0544\\u053b\\u054f\\u0531\\u054d\",\"\\u053f\\u0548\\u0544\\u053b\\u054f\\u0531\\u054d\",\"\\u053f\\u0548\\u0544\\u053b\\u054f\\u0531\\u054d\",\"\\u053f\\u0548\\u0544\\u053b\\u054f\\u0531\\u054d\",\"\\u053f\\u0548\\u0544\\u053b\\u054f\\u0531\\u054d\",\"\\u053f\\u0548\\u0544\\u053b\\u054f\\u0531\\u054d\",\"\\u053f\\u0548\\u0544\\u053b\\u054f\\u0531\\u054d\",\"\\u053f\\u0548\\u0544\\u053b\\u054f\\u0531\\u054d\",\"\\u053f\\u0548\\u0544\\u053b\\u054f\\u0531\\u054d\",\"\\u053f\\u0548\\u0544\\u053b\\u054f\\u0531\\u054d\",\"\\u053f\\u0548\\u0544\\u053b\\u054f\\u0531\\u054d\",\"\\u053f\\u0548\\u0544\\u053b\\u054f\\u0531\\u054d\",\"\\u053f\\u0548\\u0544\\u053b\\u054f\\u0531\\u054d\",\"\\u053f\\u0548\\u0544\\u053b\\u054f\\u0531\\u054d\",\"\\u053f\\u0548\\u0544\\u053b\\u054f\\u0531\\u054d\",\"\\u053f\\u0548\\u0544\\u053b\\u054f\\u0531\\u054d\",\"\\u053f\\u0548\\u0544\\u053b\\u054f\\u0531\\u054d\",\"\\u053f\\u0548\\u0544\\u053b\\u054f\\u0531\\u054d\",\"\\u053f\\u0548\\u0544\\u053b\\u054f\\u0531\\u054d\",\"HT Hayko\",\"HT Hayko\",\"HT Hayko\",\"HT Hayko\",\"HT Hayko\",\"HT Hayko\",\"HT Hayko\",\"HT Hayko\",\"HT Hayko\",\"HT Hayko\",\"HT Hayko\",\"HT Hayko\",\"HT Hayko\",\"HT Hayko\",\"HT Hayko\",\"HT Hayko\",\"Empyray\",\"Empyray\",\"Empyray\",\"Empyray\",\"Empyray\",\"Empyray\",\"Empyray\",\"Empyray\",\"Empyray\",\"Empyray\",\" Lav Eli\",\" Lav Eli\",\" Lav Eli\",\" Lav Eli\",\" Lav Eli\",\" Lav Eli\",\" Lav Eli\",\" Lav Eli\",\" Lav Eli\",\"Silva Hakobyan\",\"Silva Hakobyan\",\"Silva Hakobyan\",\"Silva Hakobyan\",\"Silva Hakobyan\",\"Silva Hakobyan\",\"Silva Hakobyan\",\"Silva Hakobyan\",\"Silva Hakobyan\",\"Silva Hakobyan\",\"Silva Hakobyan\",\"Silva Hakobyan\",\"Silva Hakobyan\",\"Silva Hakobyan\",\"Silva Hakobyan\",\"Silva Hakobyan\",\"Silva Hakobyan\",\"Silva Hakobyan\",\"Silva Hakobyan\",\"Silva Hakobyan\",\"\\u0531\\u0576\\u0564\\u0580\\u0565\",\"\\u0531\\u0576\\u0564\\u0580\\u0565\",\"\\u0531\\u0576\\u0564\\u0580\\u0565\",\"\\u0531\\u0576\\u0564\\u0580\\u0565\",\"\\u0531\\u0576\\u0564\\u0580\\u0565\",\"\\u0531\\u0576\\u0564\\u0580\\u0565\",\"\\u0531\\u0576\\u0564\\u0580\\u0565\",\"\\u0531\\u0576\\u0564\\u0580\\u0565\",\"\\u0531\\u0576\\u0564\\u0580\\u0565\",\"\\u0531\\u0576\\u0564\\u0580\\u0565\",\"\\u0531\\u0576\\u0564\\u0580\\u0565\",\"\\u0531\\u0576\\u0564\\u0580\\u0565\",\"\\u053c\\u056b\\u056c\\u056b\\u0569 \\u0540\\u0578\\u057e\\u0570\\u0561\\u0576\\u0576\\u056b\\u057d\\u0575\\u0561\\u0576\",\"\\u053c\\u056b\\u056c\\u056b\\u0569 \\u0540\\u0578\\u057e\\u0570\\u0561\\u0576\\u0576\\u056b\\u057d\\u0575\\u0561\\u0576\",\"\\u053c\\u056b\\u056c\\u056b\\u0569 \\u0540\\u0578\\u057e\\u0570\\u0561\\u0576\\u0576\\u056b\\u057d\\u0575\\u0561\\u0576\",\"\\u053c\\u056b\\u056c\\u056b\\u0569 \\u0540\\u0578\\u057e\\u0570\\u0561\\u0576\\u0576\\u056b\\u057d\\u0575\\u0561\\u0576\",\"\\u053c\\u056b\\u056c\\u056b\\u0569 \\u0540\\u0578\\u057e\\u0570\\u0561\\u0576\\u0576\\u056b\\u057d\\u0575\\u0561\\u0576\",\"\\u053c\\u056b\\u056c\\u056b\\u0569 \\u0540\\u0578\\u057e\\u0570\\u0561\\u0576\\u0576\\u056b\\u057d\\u0575\\u0561\\u0576\",\"\\u053c\\u056b\\u056c\\u056b\\u0569 \\u0540\\u0578\\u057e\\u0570\\u0561\\u0576\\u0576\\u056b\\u057d\\u0575\\u0561\\u0576\",\"\\u053c\\u056b\\u056c\\u056b\\u0569 \\u0540\\u0578\\u057e\\u0570\\u0561\\u0576\\u0576\\u056b\\u057d\\u0575\\u0561\\u0576\",\"\\u053c\\u056b\\u056c\\u056b\\u0569 \\u0540\\u0578\\u057e\\u0570\\u0561\\u0576\\u0576\\u056b\\u057d\\u0575\\u0561\\u0576\",\"\\u053c\\u056b\\u056c\\u056b\\u0569 \\u0540\\u0578\\u057e\\u0570\\u0561\\u0576\\u0576\\u056b\\u057d\\u0575\\u0561\\u0576\",\"\\u053c\\u056b\\u056c\\u056b\\u0569 \\u0540\\u0578\\u057e\\u0570\\u0561\\u0576\\u0576\\u056b\\u057d\\u0575\\u0561\\u0576\",\"\\u053c\\u056b\\u056c\\u056b\\u0569 \\u0540\\u0578\\u057e\\u0570\\u0561\\u0576\\u0576\\u056b\\u057d\\u0575\\u0561\\u0576\",\"\\u053c\\u056b\\u056c\\u056b\\u0569 \\u0540\\u0578\\u057e\\u0570\\u0561\\u0576\\u0576\\u056b\\u057d\\u0575\\u0561\\u0576\",\"\\u053c\\u056b\\u056c\\u056b\\u0569 \\u0540\\u0578\\u057e\\u0570\\u0561\\u0576\\u0576\\u056b\\u057d\\u0575\\u0561\\u0576\",\"\\u053c\\u056b\\u056c\\u056b\\u0569 \\u0540\\u0578\\u057e\\u0570\\u0561\\u0576\\u0576\\u056b\\u057d\\u0575\\u0561\\u0576\",\"\\u053c\\u056b\\u056c\\u056b\\u0569 \\u0540\\u0578\\u057e\\u0570\\u0561\\u0576\\u0576\\u056b\\u057d\\u0575\\u0561\\u0576\",\"\\u053c\\u056b\\u056c\\u056b\\u0569 \\u0540\\u0578\\u057e\\u0570\\u0561\\u0576\\u0576\\u056b\\u057d\\u0575\\u0561\\u0576\",\"\\u053c\\u056b\\u056c\\u056b\\u0569 \\u0540\\u0578\\u057e\\u0570\\u0561\\u0576\\u0576\\u056b\\u057d\\u0575\\u0561\\u0576\",\"\\u053c\\u056b\\u056c\\u056b\\u0569 \\u0540\\u0578\\u057e\\u0570\\u0561\\u0576\\u0576\\u056b\\u057d\\u0575\\u0561\\u0576\",\"\\u053c\\u056b\\u056c\\u056b\\u0569 \\u0540\\u0578\\u057e\\u0570\\u0561\\u0576\\u0576\\u056b\\u057d\\u0575\\u0561\\u0576\",\"\\u053c\\u056b\\u056c\\u056b\\u0569 \\u0540\\u0578\\u057e\\u0570\\u0561\\u0576\\u0576\\u056b\\u057d\\u0575\\u0561\\u0576\",\"\\u053c\\u056b\\u056c\\u056b\\u0569 \\u0540\\u0578\\u057e\\u0570\\u0561\\u0576\\u0576\\u056b\\u057d\\u0575\\u0561\\u0576\",\"\\u053c\\u056b\\u056c\\u056b\\u0569 \\u0540\\u0578\\u057e\\u0570\\u0561\\u0576\\u0576\\u056b\\u057d\\u0575\\u0561\\u0576\",\"\\u053c\\u056b\\u056c\\u056b\\u0569 \\u0540\\u0578\\u057e\\u0570\\u0561\\u0576\\u0576\\u056b\\u057d\\u0575\\u0561\\u0576\",\"\\u054d\\u056b\\u0580\\u0578\\u0582\\u0577\\u0578\",\"\\u054d\\u056b\\u0580\\u0578\\u0582\\u0577\\u0578\",\"\\u054d\\u056b\\u0580\\u0578\\u0582\\u0577\\u0578\",\"\\u054d\\u056b\\u0580\\u0578\\u0582\\u0577\\u0578\",\"\\u054d\\u056b\\u0580\\u0578\\u0582\\u0577\\u0578\",\"\\u054d\\u056b\\u0580\\u0578\\u0582\\u0577\\u0578\",\"\\u054d\\u056b\\u0580\\u0578\\u0582\\u0577\\u0578\",\"\\u054d\\u056b\\u0580\\u0578\\u0582\\u0577\\u0578\",\"\\u054d\\u056b\\u0580\\u0578\\u0582\\u0577\\u0578\",\"\\u054d\\u056b\\u0580\\u0578\\u0582\\u0577\\u0578\",\"\\u054d\\u056b\\u0580\\u0578\\u0582\\u0577\\u0578\",\"\\u054d\\u056b\\u0580\\u0578\\u0582\\u0577\\u0578\",\"\\u054d\\u056b\\u0580\\u0578\\u0582\\u0577\\u0578\",\"\\u054d\\u056b\\u0580\\u0578\\u0582\\u0577\\u0578\",\"\\u054d\\u056b\\u0580\\u0578\\u0582\\u0577\\u0578\",\"\\u054d\\u056b\\u0580\\u0578\\u0582\\u0577\\u0578\",\"\\u054d\\u056b\\u0580\\u0578\\u0582\\u0577\\u0578\",\"\\u054d\\u056b\\u0580\\u0578\\u0582\\u0577\\u0578\",\"\\u054d\\u056b\\u0580\\u0578\\u0582\\u0577\\u0578\",\"\\u054d\\u056b\\u0580\\u0578\\u0582\\u0577\\u0578\",\"\\u054d\\u056b\\u0580\\u0578\\u0582\\u0577\\u0578\",\"\\u054d\\u056b\\u0580\\u0578\\u0582\\u0577\\u0578\",\"\\u054d\\u056b\\u0580\\u0578\\u0582\\u0577\\u0578\",\"\\u054d\\u056b\\u0580\\u0578\\u0582\\u0577\\u0578\",\"\\u054d\\u056b\\u0580\\u0578\\u0582\\u0577\\u0578\",\"\\u0544\\u056b\\u0570\\u0580\\u0561\\u0576 \\u053e\\u0561\\u057c\\u0578\\u0582\\u056f\\u0575\\u0561\\u0576\",\"\\u0544\\u056b\\u0570\\u0580\\u0561\\u0576 \\u053e\\u0561\\u057c\\u0578\\u0582\\u056f\\u0575\\u0561\\u0576\",\"\\u0544\\u056b\\u0570\\u0580\\u0561\\u0576 \\u053e\\u0561\\u057c\\u0578\\u0582\\u056f\\u0575\\u0561\\u0576\",\"\\u0544\\u056b\\u0570\\u0580\\u0561\\u0576 \\u053e\\u0561\\u057c\\u0578\\u0582\\u056f\\u0575\\u0561\\u0576\",\"\\u0544\\u056b\\u0570\\u0580\\u0561\\u0576 \\u053e\\u0561\\u057c\\u0578\\u0582\\u056f\\u0575\\u0561\\u0576\",\"\\u0544\\u056b\\u0570\\u0580\\u0561\\u0576 \\u053e\\u0561\\u057c\\u0578\\u0582\\u056f\\u0575\\u0561\\u0576\",\"\\u0544\\u056b\\u0570\\u0580\\u0561\\u0576 \\u053e\\u0561\\u057c\\u0578\\u0582\\u056f\\u0575\\u0561\\u0576\",\"\\u0544\\u056b\\u0570\\u0580\\u0561\\u0576 \\u053e\\u0561\\u057c\\u0578\\u0582\\u056f\\u0575\\u0561\\u0576\",\"\\u0544\\u056b\\u0570\\u0580\\u0561\\u0576 \\u053e\\u0561\\u057c\\u0578\\u0582\\u056f\\u0575\\u0561\\u0576\",\"\\u0544\\u056b\\u0570\\u0580\\u0561\\u0576 \\u053e\\u0561\\u057c\\u0578\\u0582\\u056f\\u0575\\u0561\\u0576\",\"\\u0544\\u056b\\u0570\\u0580\\u0561\\u0576 \\u053e\\u0561\\u057c\\u0578\\u0582\\u056f\\u0575\\u0561\\u0576\",\"\\u0544\\u056b\\u0570\\u0580\\u0561\\u0576 \\u053e\\u0561\\u057c\\u0578\\u0582\\u056f\\u0575\\u0561\\u0576\",\"\\u0544\\u056b\\u0570\\u0580\\u0561\\u0576 \\u053e\\u0561\\u057c\\u0578\\u0582\\u056f\\u0575\\u0561\\u0576\",\"\\u0544\\u056b\\u0570\\u0580\\u0561\\u0576 \\u053e\\u0561\\u057c\\u0578\\u0582\\u056f\\u0575\\u0561\\u0576\",\"\\u0544\\u056b\\u0570\\u0580\\u0561\\u0576 \\u053e\\u0561\\u057c\\u0578\\u0582\\u056f\\u0575\\u0561\\u0576\",\"\\u0544\\u056b\\u0570\\u0580\\u0561\\u0576 \\u053e\\u0561\\u057c\\u0578\\u0582\\u056f\\u0575\\u0561\\u0576\",\"\\u0544\\u056b\\u0570\\u0580\\u0561\\u0576 \\u053e\\u0561\\u057c\\u0578\\u0582\\u056f\\u0575\\u0561\\u0576\",\"\\u0544\\u056b\\u0570\\u0580\\u0561\\u0576 \\u053e\\u0561\\u057c\\u0578\\u0582\\u056f\\u0575\\u0561\\u0576\",\"Arame\",\"Arame\",\"Arame\",\"Arame\",\"Arame\",\"Arame\",\"Arame\",\"Arame\",\"Arame\",\"Razmik Amyan\",\"Razmik Amyan\",\"Razmik Amyan\",\"Razmik Amyan\",\"Razmik Amyan\",\"Razmik Amyan\",\"Razmik Amyan\",\"Razmik Amyan\",\"Razmik Amyan\",\"Razmik Amyan\",\"Razmik Amyan\",\"Razmik Amyan\",\"Razmik Amyan\",\"Razmik Amyan\",\"Razmik Amyan\",\"Razmik Amyan\",\"Razmik Amyan\",\"Razmik Amyan\",\"Harout Pamboukjian\",\"Harout Pamboukjian\",\"Harout Pamboukjian\",\"Harout Pamboukjian\",\"Harout Pamboukjian\",\"Harout Pamboukjian\",\"Harout Pamboukjian\",\"Harout Pamboukjian\",\"Harout Pamboukjian\",\"Harout Pamboukjian\",\"Harout Pamboukjian\",\"Harout Pamboukjian\",\"Harout Pamboukjian\",\"Harout Pamboukjian\",\"Harout Pamboukjian\",\"Harout Pamboukjian\",\"Harout Pamboukjian\",\"Harout Pamboukjian\",\"Harout Pamboukjian\",\"Harout Pamboukjian\",\"Harout Pamboukjian\",\"Harout Pamboukjian\",\"Harout Pamboukjian\",\"Harout Pamboukjian\",\"Harout Pamboukjian\",\"Harout Pamboukjian\",\"Harout Pamboukjian\",\"Harout Pamboukjian\",\"Harout Pamboukjian\",\"Harout Pamboukjian\",\"Harout Pamboukjian\",\"Harout Pamboukjian\",\"\\u0540\\u0561\\u0575\\u056f \\u0540\\u0561\\u056f\\u0578\\u0562\\u0575\\u0561\\u0576\",\"\\u0540\\u0561\\u0575\\u056f \\u0540\\u0561\\u056f\\u0578\\u0562\\u0575\\u0561\\u0576\",\"\\u0540\\u0561\\u0575\\u056f \\u0540\\u0561\\u056f\\u0578\\u0562\\u0575\\u0561\\u0576\",\"\\u0540\\u0561\\u0575\\u056f \\u0540\\u0561\\u056f\\u0578\\u0562\\u0575\\u0561\\u0576\",\"\\u0540\\u0561\\u0575\\u056f \\u0540\\u0561\\u056f\\u0578\\u0562\\u0575\\u0561\\u0576\",\"\\u0540\\u0561\\u0575\\u056f \\u0540\\u0561\\u056f\\u0578\\u0562\\u0575\\u0561\\u0576\",\"\\u0540\\u0561\\u0575\\u056f \\u0540\\u0561\\u056f\\u0578\\u0562\\u0575\\u0561\\u0576\",\"\\u0540\\u0561\\u0575\\u056f \\u0540\\u0561\\u056f\\u0578\\u0562\\u0575\\u0561\\u0576\",\"\\u0540\\u0561\\u0575\\u056f \\u0540\\u0561\\u056f\\u0578\\u0562\\u0575\\u0561\\u0576\",\"\\u0540\\u0561\\u0575\\u056f \\u0540\\u0561\\u056f\\u0578\\u0562\\u0575\\u0561\\u0576\",\"\\u0540\\u0561\\u0575\\u056f \\u0540\\u0561\\u056f\\u0578\\u0562\\u0575\\u0561\\u0576\",\"\\u0540\\u0561\\u0575\\u056f \\u0540\\u0561\\u056f\\u0578\\u0562\\u0575\\u0561\\u0576\",\"\\u0540\\u0561\\u0575\\u056f \\u0540\\u0561\\u056f\\u0578\\u0562\\u0575\\u0561\\u0576\",\"\\u0540\\u0561\\u0575\\u056f \\u0540\\u0561\\u056f\\u0578\\u0562\\u0575\\u0561\\u0576\",\"\\u0540\\u0561\\u0575\\u056f \\u0540\\u0561\\u056f\\u0578\\u0562\\u0575\\u0561\\u0576\",\"\\u0540\\u0561\\u0575\\u056f \\u0540\\u0561\\u056f\\u0578\\u0562\\u0575\\u0561\\u0576\",\"\\u0540\\u0561\\u0575\\u056f \\u0540\\u0561\\u056f\\u0578\\u0562\\u0575\\u0561\\u0576\",\"\\u0540\\u0561\\u0575\\u056f \\u0540\\u0561\\u056f\\u0578\\u0562\\u0575\\u0561\\u0576\",\"\\u0540\\u0561\\u0575\\u056f \\u0540\\u0561\\u056f\\u0578\\u0562\\u0575\\u0561\\u0576\",\"\\u0540\\u0561\\u0575\\u056f \\u0540\\u0561\\u056f\\u0578\\u0562\\u0575\\u0561\\u0576\",\"\\u0540\\u0561\\u0575\\u056f \\u0540\\u0561\\u056f\\u0578\\u0562\\u0575\\u0561\\u0576\",\"\\u0540\\u0561\\u0575\\u056f \\u0540\\u0561\\u056f\\u0578\\u0562\\u0575\\u0561\\u0576\",\"\\u0540\\u0561\\u0575\\u056f \\u0540\\u0561\\u056f\\u0578\\u0562\\u0575\\u0561\\u0576\",\"Aram MP3\",\"Aram MP3\",\"Arsen Safaryan\",\"Arsen Safaryan\",\"Arsen Safaryan\",\"Arsen Safaryan\",\"Arsen Safaryan\",\"Arsen Safaryan\",\"Arsen Safaryan\",\"Arsen Safaryan\",\"Arsen Safaryan\",\"Arsen Safaryan\",\"Arsen Safaryan\",\"Arsen Safaryan\",\"Arsen Safaryan\",\"Arsen Safaryan\",\"Arsen Safaryan\",\"Arsen Safaryan\",\"Arsen Safaryan\",\"Arsen Safaryan\",\"Arsen Safaryan\",\"Arsen Safaryan\",\"Arsen Safaryan\",\"Arsen Safaryan\",\"Arsen Safaryan\",\"Aram MP3\",\"Aram MP3\",\"Aram MP3\",\"Aram MP3\",\"Aram MP3\",\"Aram MP3\",\"Aram MP3\",\"Aram MP3\",\"Aram MP3\",\"Aram MP3\",\"Aram MP3\",\"Aram MP3\",\"Aram MP3\",\"Aram MP3\",\"Aram MP3\",\"Misho\",\"Misho\",\"Misho\",\"Misho\",\"Misho\",\"Misho\",\"Misho\",\"Misho\",\"Misho\",\"Misho\",\"Misho\",\"Misho\",\"Misho\",\"Misho\",\"Misho\",\"Misho\",\"Misho\",\"Misho\",\"Misho\",\"Misho\",\"Misho\",\"Misho\",\"Misho\",\"Misho\",\"Misho\",\"Misho\",\"Mi Qani Hogi\",\"Mi Qani Hogi\",\"Mi Qani Hogi\",\"Mi Qani Hogi\",\"Mi Qani Hogi\",\"Mi Qani Hogi\",\"Mi Qani Hogi\",\"Mi Qani Hogi\",\"Mi Qani Hogi\",\"Mi Qani Hogi\",\"Mi Qani Hogi\",\"Mi Qani Hogi\",\"Mi Qani Hogi\",\"Mi Qani Hogi\",\"Mi Qani Hogi\"],\"x0\":\" \",\"xaxis\":\"x\",\"y\":[0.5,0.7380952380952381,0.6578947368421053,0.9014084507042254,0.7246376811594203,0.7045454545454546,0.6833333333333333,0.6287878787878788,0.9772727272727273,0.580952380952381,0.8536585365853658,0.7096774193548387,0.5384615384615384,0.7747747747747747,0.7692307692307693,0.6896551724137931,0.8125,0.7684210526315789,0.7264150943396226,0.7840909090909091,0.8018867924528302,0.9298245614035088,0.8461538461538461,0.7651006711409396,0.8909090909090909,0.6547619047619048,0.6526315789473685,0.5274725274725275,0.2914572864321608,0.8362068965517241,0.6574074074074074,0.6371681415929203,0.8076923076923077,0.6101694915254238,0.95,0.7123287671232876,0.8055555555555556,0.639344262295082,0.5217391304347826,0.6896551724137931,0.696969696969697,0.8539325842696629,0.6376811594202898,0.5647058823529412,0.7971014492753623,0.6309523809523809,0.7714285714285715,0.6521739130434783,0.6153846153846154,0.8852459016393442,0.782258064516129,0.5,0.831858407079646,0.6808510638297872,0.7051282051282052,0.6916666666666667,0.640625,0.543859649122807,0.5555555555555556,0.5441176470588235,0.6893203883495146,0.7735849056603774,0.7191780821917808,0.5407407407407407,0.5274725274725275,0.4576271186440678,0.6105263157894737,0.580952380952381,0.75,0.7666666666666667,0.6825396825396826,0.7272727272727273,0.7222222222222222,0.5689655172413793,0.7142857142857143,0.5869565217391305,0.734375,0.796875,0.7168141592920354,0.4642857142857143,0.4074074074074074,0.46808510638297873,0.5393258426966292,0.5588235294117647,0.4936708860759494,0.5454545454545454,0.6875,0.46464646464646464,0.6666666666666666,0.48672566371681414,0.7155172413793104,0.5925925925925926,0.43333333333333335,0.5645161290322581,0.6909090909090909,0.8,0.5337837837837838,0.6460176991150443,0.7164179104477612,0.5229357798165137,0.4457831325301205,0.6119402985074627,0.6989247311827957,0.5625,0.66,0.7058823529411765,0.625,0.7258064516129032,0.6547619047619048,0.7954545454545454,0.7222222222222222,0.6086956521739131,0.7613636363636364,0.47093023255813954,0.8376068376068376,0.5447761194029851,0.6906474820143885,0.515625,0.5576923076923077,0.8636363636363636,0.5254237288135594,0.6818181818181818,0.9444444444444444,0.8947368421052632,0.7647058823529411,0.88,0.4,0.8125,0.7391304347826086,0.5760869565217391,0.6119402985074627,0.6991869918699187,0.8888888888888888,0.9117647058823529,0.8631578947368421,0.8543689320388349,0.9622641509433962,0.91,0.7105263157894737,0.859375,0.7415730337078652,0.8559322033898306,0.6470588235294118,0.8557692307692307,0.8831168831168831,0.9325842696629213,0.6307692307692307,0.6582278481012658,0.6721311475409836,0.8095238095238095,0.4492753623188406,0.863013698630137,0.8837209302325582,0.36923076923076925,0.7894736842105263,0.8518518518518519,0.5116279069767442,0.2988505747126437,0.53125,0.4391891891891892,0.746031746031746,0.4857142857142857,0.3617021276595745,0.5849056603773585,0.5,0.6304347826086957,0.6,0.6216216216216216,0.48936170212765956,0.7368421052631579,0.6559139784946236,0.734375,0.8571428571428571,0.7142857142857143,0.4583333333333333,0.4915254237288136,0.6444444444444445,0.4479166666666667,0.5172413793103449,0.7714285714285715,0.7692307692307693,0.6808510638297872,0.7741935483870968,0.8095238095238095,0.7037037037037037,0.7441860465116279,0.4666666666666667,0.8817204301075269,0.5833333333333334,0.8269230769230769,0.5526315789473685,0.7222222222222222,0.7297297297297297,0.5111111111111111,0.48484848484848486,0.6166666666666667,0.7,0.5094339622641509,0.6938775510204082,0.8857142857142857,0.55,0.75,0.43548387096774194,0.75,0.6363636363636364,0.38333333333333336,0.6,0.4264705882352941,0.7070707070707071,0.6051660516605166,0.6285714285714286,0.7295081967213115,0.56,0.7028985507246377,0.6363636363636364,0.6438848920863309,0.6505576208178439,0.7527272727272727,0.6490066225165563,0.6830357142857143,0.5982905982905983,0.6158940397350994,0.5679012345679012,0.5181818181818182,0.3956043956043956,0.4368932038834951,0.9444444444444444,0.3924050632911392,0.38461538461538464,0.43661971830985913,0.5053763440860215,0.7066666666666667,0.6862745098039216,0.4791666666666667,0.5573770491803278,0.4657534246575342,0.6063829787234043,0.7485029940119761,0.6666666666666666,0.875,0.8507462686567164,0.453125,0.7532467532467533,0.4148936170212766,0.5443037974683544,0.32571428571428573,0.5042016806722689,0.47058823529411764,0.47674418604651164,0.45454545454545453,0.5576923076923077,0.38095238095238093,0.803921568627451,0.92,0.868421052631579,0.6756756756756757,0.6060606060606061,0.47058823529411764,0.4838709677419355,0.5223880597014925,0.3963963963963964,0.5972222222222222,0.7368421052631579,0.6716417910447762,0.2922077922077922,0.4567901234567901,0.6052631578947368,0.48717948717948717,0.7166666666666667,0.45185185185185184,0.4411764705882353,0.22857142857142856,0.5961538461538461,0.5102040816326531,0.6228070175438597,0.6216216216216216,0.49137931034482757,0.45,0.38461538461538464,0.2982456140350877,0.45,0.5555555555555556,0.375,0.6818181818181818,0.44776119402985076,0.5697674418604651,0.6352941176470588,0.24817518248175183,0.75,0.7252747252747253,0.7209302325581395,0.4295774647887324,0.391304347826087,0.3235294117647059,0.43478260869565216,0.3511450381679389,0.4594594594594595,0.8837209302325582,0.4845360824742268,0.37142857142857144,0.6222222222222222,0.5614035087719298,0.16455696202531644,0.4067796610169492,0.36666666666666664,0.5368421052631579,0.6329113924050633,0.7283950617283951,0.582089552238806,0.75,0.4925373134328358,0.27011494252873564,0.5806451612903226,0.4766355140186916,0.8,0.2978723404255319,0.4473684210526316,0.3418803418803419,0.32222222222222224,0.6153846153846154,0.47619047619047616,0.651685393258427,0.39705882352941174,0.4915254237288136,0.6153846153846154,0.32748538011695905,0.44086021505376344,0.26229508196721313,0.49382716049382713,0.3815789473684211,0.42063492063492064,0.3235294117647059,0.3387096774193548,0.3838383838383838,0.24096385542168675,0.4434782608695652,0.29896907216494845,0.6060606060606061,0.6891891891891891,0.6351351351351351,0.6388888888888888,0.7647058823529411,0.3404255319148936,0.2857142857142857,0.425,0.33548387096774196,0.8245614035087719,0.3582089552238806,0.4649122807017544,0.39473684210526316,0.6417910447761194,0.34558823529411764,0.5555555555555556,0.42424242424242425,0.5206611570247934,0.5230769230769231,0.6904761904761905,0.5727272727272728,0.4931506849315068,0.49019607843137253,0.4520547945205479,0.5443037974683544,0.19736842105263158,0.5862068965517241,0.47692307692307695,0.76,0.4666666666666667,0.5777777777777777,0.5333333333333333,0.3798449612403101,0.4647887323943662,0.7611940298507462,0.5555555555555556,0.31343283582089554,0.3815789473684211,0.48717948717948717,0.24778761061946902,0.8823529411764706,0.5683453237410072,0.6129032258064516,0.6263736263736264,0.3157894736842105,0.27419354838709675,0.7258064516129032,0.3014705882352941,0.6633663366336634,0.5714285714285714,0.6210526315789474,0.47560975609756095,0.7289719626168224,0.8382352941176471,0.5333333333333333,0.7551020408163265,0.7037037037037037,0.967741935483871,0.6206896551724138,0.5701754385964912,0.8493150684931506,0.8153846153846154,0.671875,0.5657894736842105,0.7349397590361446,1.0,0.7567567567567568,0.782608695652174,0.7837837837837838,0.6615384615384615,0.7096774193548387,0.5740740740740741,0.6493506493506493,0.8360655737704918,0.7222222222222222,0.5806451612903226,0.7916666666666666,0.3333333333333333,0.746268656716418,0.6857142857142857,0.5915492957746479,0.5735294117647058,0.6724137931034483,0.5964912280701754,0.5454545454545454,0.8085106382978723,0.6,0.7571428571428571,0.5130434782608696,0.39473684210526316,0.7142857142857143,0.7837837837837838,0.7142857142857143,0.8333333333333334,0.66,0.7872340425531915,0.581081081081081,0.5625,0.6666666666666666,0.6944444444444444,0.825,0.7682926829268293,0.6822429906542056,0.7142857142857143,0.4406779661016949,0.3770491803278688,0.5454545454545454,0.7580645161290323,0.6111111111111112,0.547945205479452,0.6285714285714286,0.803030303030303,0.6282051282051282,0.25136612021857924,0.2261904761904762,0.48863636363636365,0.5633802816901409,0.2676056338028169,0.39072847682119205,0.46236559139784944,0.7666666666666667,0.2585034013605442,0.4857142857142857,0.4659090909090909,0.39285714285714285,0.391304347826087,0.26595744680851063,0.6727272727272727,0.7007299270072993,0.7307692307692307,0.8852459016393442,0.8217054263565892,0.8353658536585366,0.8484848484848485,0.5,0.9166666666666666,0.726027397260274,0.9264705882352942,0.9583333333333334,0.9090909090909091,0.8558558558558559,0.5633802816901409,0.8235294117647058,0.5454545454545454,0.8623853211009175,0.7870370370370371,0.8181818181818182,0.7717391304347826,0.7246376811594203,0.7074829931972789,0.6170212765957447,0.5632183908045977,0.7988505747126436,0.8857142857142857,0.9772727272727273,0.6741573033707865,0.796875,0.7474747474747475,0.7619047619047619,0.7428571428571429,0.5922330097087378,0.85,0.5784313725490197,0.68,0.51,0.5925925925925926,0.7529411764705882,0.47058823529411764,0.6052631578947368],\"y0\":\" \",\"yaxis\":\"y\",\"type\":\"box\"}],                        {\"template\":{\"data\":{\"histogram2dcontour\":[{\"type\":\"histogram2dcontour\",\"colorbar\":{\"outlinewidth\":0,\"ticks\":\"\"},\"colorscale\":[[0.0,\"#0d0887\"],[0.1111111111111111,\"#46039f\"],[0.2222222222222222,\"#7201a8\"],[0.3333333333333333,\"#9c179e\"],[0.4444444444444444,\"#bd3786\"],[0.5555555555555556,\"#d8576b\"],[0.6666666666666666,\"#ed7953\"],[0.7777777777777778,\"#fb9f3a\"],[0.8888888888888888,\"#fdca26\"],[1.0,\"#f0f921\"]]}],\"choropleth\":[{\"type\":\"choropleth\",\"colorbar\":{\"outlinewidth\":0,\"ticks\":\"\"}}],\"histogram2d\":[{\"type\":\"histogram2d\",\"colorbar\":{\"outlinewidth\":0,\"ticks\":\"\"},\"colorscale\":[[0.0,\"#0d0887\"],[0.1111111111111111,\"#46039f\"],[0.2222222222222222,\"#7201a8\"],[0.3333333333333333,\"#9c179e\"],[0.4444444444444444,\"#bd3786\"],[0.5555555555555556,\"#d8576b\"],[0.6666666666666666,\"#ed7953\"],[0.7777777777777778,\"#fb9f3a\"],[0.8888888888888888,\"#fdca26\"],[1.0,\"#f0f921\"]]}],\"heatmap\":[{\"type\":\"heatmap\",\"colorbar\":{\"outlinewidth\":0,\"ticks\":\"\"},\"colorscale\":[[0.0,\"#0d0887\"],[0.1111111111111111,\"#46039f\"],[0.2222222222222222,\"#7201a8\"],[0.3333333333333333,\"#9c179e\"],[0.4444444444444444,\"#bd3786\"],[0.5555555555555556,\"#d8576b\"],[0.6666666666666666,\"#ed7953\"],[0.7777777777777778,\"#fb9f3a\"],[0.8888888888888888,\"#fdca26\"],[1.0,\"#f0f921\"]]}],\"heatmapgl\":[{\"type\":\"heatmapgl\",\"colorbar\":{\"outlinewidth\":0,\"ticks\":\"\"},\"colorscale\":[[0.0,\"#0d0887\"],[0.1111111111111111,\"#46039f\"],[0.2222222222222222,\"#7201a8\"],[0.3333333333333333,\"#9c179e\"],[0.4444444444444444,\"#bd3786\"],[0.5555555555555556,\"#d8576b\"],[0.6666666666666666,\"#ed7953\"],[0.7777777777777778,\"#fb9f3a\"],[0.8888888888888888,\"#fdca26\"],[1.0,\"#f0f921\"]]}],\"contourcarpet\":[{\"type\":\"contourcarpet\",\"colorbar\":{\"outlinewidth\":0,\"ticks\":\"\"}}],\"contour\":[{\"type\":\"contour\",\"colorbar\":{\"outlinewidth\":0,\"ticks\":\"\"},\"colorscale\":[[0.0,\"#0d0887\"],[0.1111111111111111,\"#46039f\"],[0.2222222222222222,\"#7201a8\"],[0.3333333333333333,\"#9c179e\"],[0.4444444444444444,\"#bd3786\"],[0.5555555555555556,\"#d8576b\"],[0.6666666666666666,\"#ed7953\"],[0.7777777777777778,\"#fb9f3a\"],[0.8888888888888888,\"#fdca26\"],[1.0,\"#f0f921\"]]}],\"surface\":[{\"type\":\"surface\",\"colorbar\":{\"outlinewidth\":0,\"ticks\":\"\"},\"colorscale\":[[0.0,\"#0d0887\"],[0.1111111111111111,\"#46039f\"],[0.2222222222222222,\"#7201a8\"],[0.3333333333333333,\"#9c179e\"],[0.4444444444444444,\"#bd3786\"],[0.5555555555555556,\"#d8576b\"],[0.6666666666666666,\"#ed7953\"],[0.7777777777777778,\"#fb9f3a\"],[0.8888888888888888,\"#fdca26\"],[1.0,\"#f0f921\"]]}],\"mesh3d\":[{\"type\":\"mesh3d\",\"colorbar\":{\"outlinewidth\":0,\"ticks\":\"\"}}],\"scatter\":[{\"fillpattern\":{\"fillmode\":\"overlay\",\"size\":10,\"solidity\":0.2},\"type\":\"scatter\"}],\"parcoords\":[{\"type\":\"parcoords\",\"line\":{\"colorbar\":{\"outlinewidth\":0,\"ticks\":\"\"}}}],\"scatterpolargl\":[{\"type\":\"scatterpolargl\",\"marker\":{\"colorbar\":{\"outlinewidth\":0,\"ticks\":\"\"}}}],\"bar\":[{\"error_x\":{\"color\":\"#2a3f5f\"},\"error_y\":{\"color\":\"#2a3f5f\"},\"marker\":{\"line\":{\"color\":\"#E5ECF6\",\"width\":0.5},\"pattern\":{\"fillmode\":\"overlay\",\"size\":10,\"solidity\":0.2}},\"type\":\"bar\"}],\"scattergeo\":[{\"type\":\"scattergeo\",\"marker\":{\"colorbar\":{\"outlinewidth\":0,\"ticks\":\"\"}}}],\"scatterpolar\":[{\"type\":\"scatterpolar\",\"marker\":{\"colorbar\":{\"outlinewidth\":0,\"ticks\":\"\"}}}],\"histogram\":[{\"marker\":{\"pattern\":{\"fillmode\":\"overlay\",\"size\":10,\"solidity\":0.2}},\"type\":\"histogram\"}],\"scattergl\":[{\"type\":\"scattergl\",\"marker\":{\"colorbar\":{\"outlinewidth\":0,\"ticks\":\"\"}}}],\"scatter3d\":[{\"type\":\"scatter3d\",\"line\":{\"colorbar\":{\"outlinewidth\":0,\"ticks\":\"\"}},\"marker\":{\"colorbar\":{\"outlinewidth\":0,\"ticks\":\"\"}}}],\"scattermapbox\":[{\"type\":\"scattermapbox\",\"marker\":{\"colorbar\":{\"outlinewidth\":0,\"ticks\":\"\"}}}],\"scatterternary\":[{\"type\":\"scatterternary\",\"marker\":{\"colorbar\":{\"outlinewidth\":0,\"ticks\":\"\"}}}],\"scattercarpet\":[{\"type\":\"scattercarpet\",\"marker\":{\"colorbar\":{\"outlinewidth\":0,\"ticks\":\"\"}}}],\"carpet\":[{\"aaxis\":{\"endlinecolor\":\"#2a3f5f\",\"gridcolor\":\"white\",\"linecolor\":\"white\",\"minorgridcolor\":\"white\",\"startlinecolor\":\"#2a3f5f\"},\"baxis\":{\"endlinecolor\":\"#2a3f5f\",\"gridcolor\":\"white\",\"linecolor\":\"white\",\"minorgridcolor\":\"white\",\"startlinecolor\":\"#2a3f5f\"},\"type\":\"carpet\"}],\"table\":[{\"cells\":{\"fill\":{\"color\":\"#EBF0F8\"},\"line\":{\"color\":\"white\"}},\"header\":{\"fill\":{\"color\":\"#C8D4E3\"},\"line\":{\"color\":\"white\"}},\"type\":\"table\"}],\"barpolar\":[{\"marker\":{\"line\":{\"color\":\"#E5ECF6\",\"width\":0.5},\"pattern\":{\"fillmode\":\"overlay\",\"size\":10,\"solidity\":0.2}},\"type\":\"barpolar\"}],\"pie\":[{\"automargin\":true,\"type\":\"pie\"}]},\"layout\":{\"autotypenumbers\":\"strict\",\"colorway\":[\"#636efa\",\"#EF553B\",\"#00cc96\",\"#ab63fa\",\"#FFA15A\",\"#19d3f3\",\"#FF6692\",\"#B6E880\",\"#FF97FF\",\"#FECB52\"],\"font\":{\"color\":\"#2a3f5f\"},\"hovermode\":\"closest\",\"hoverlabel\":{\"align\":\"left\"},\"paper_bgcolor\":\"white\",\"plot_bgcolor\":\"#E5ECF6\",\"polar\":{\"bgcolor\":\"#E5ECF6\",\"angularaxis\":{\"gridcolor\":\"white\",\"linecolor\":\"white\",\"ticks\":\"\"},\"radialaxis\":{\"gridcolor\":\"white\",\"linecolor\":\"white\",\"ticks\":\"\"}},\"ternary\":{\"bgcolor\":\"#E5ECF6\",\"aaxis\":{\"gridcolor\":\"white\",\"linecolor\":\"white\",\"ticks\":\"\"},\"baxis\":{\"gridcolor\":\"white\",\"linecolor\":\"white\",\"ticks\":\"\"},\"caxis\":{\"gridcolor\":\"white\",\"linecolor\":\"white\",\"ticks\":\"\"}},\"coloraxis\":{\"colorbar\":{\"outlinewidth\":0,\"ticks\":\"\"}},\"colorscale\":{\"sequential\":[[0.0,\"#0d0887\"],[0.1111111111111111,\"#46039f\"],[0.2222222222222222,\"#7201a8\"],[0.3333333333333333,\"#9c179e\"],[0.4444444444444444,\"#bd3786\"],[0.5555555555555556,\"#d8576b\"],[0.6666666666666666,\"#ed7953\"],[0.7777777777777778,\"#fb9f3a\"],[0.8888888888888888,\"#fdca26\"],[1.0,\"#f0f921\"]],\"sequentialminus\":[[0.0,\"#0d0887\"],[0.1111111111111111,\"#46039f\"],[0.2222222222222222,\"#7201a8\"],[0.3333333333333333,\"#9c179e\"],[0.4444444444444444,\"#bd3786\"],[0.5555555555555556,\"#d8576b\"],[0.6666666666666666,\"#ed7953\"],[0.7777777777777778,\"#fb9f3a\"],[0.8888888888888888,\"#fdca26\"],[1.0,\"#f0f921\"]],\"diverging\":[[0,\"#8e0152\"],[0.1,\"#c51b7d\"],[0.2,\"#de77ae\"],[0.3,\"#f1b6da\"],[0.4,\"#fde0ef\"],[0.5,\"#f7f7f7\"],[0.6,\"#e6f5d0\"],[0.7,\"#b8e186\"],[0.8,\"#7fbc41\"],[0.9,\"#4d9221\"],[1,\"#276419\"]]},\"xaxis\":{\"gridcolor\":\"white\",\"linecolor\":\"white\",\"ticks\":\"\",\"title\":{\"standoff\":15},\"zerolinecolor\":\"white\",\"automargin\":true,\"zerolinewidth\":2},\"yaxis\":{\"gridcolor\":\"white\",\"linecolor\":\"white\",\"ticks\":\"\",\"title\":{\"standoff\":15},\"zerolinecolor\":\"white\",\"automargin\":true,\"zerolinewidth\":2},\"scene\":{\"xaxis\":{\"backgroundcolor\":\"#E5ECF6\",\"gridcolor\":\"white\",\"linecolor\":\"white\",\"showbackground\":true,\"ticks\":\"\",\"zerolinecolor\":\"white\",\"gridwidth\":2},\"yaxis\":{\"backgroundcolor\":\"#E5ECF6\",\"gridcolor\":\"white\",\"linecolor\":\"white\",\"showbackground\":true,\"ticks\":\"\",\"zerolinecolor\":\"white\",\"gridwidth\":2},\"zaxis\":{\"backgroundcolor\":\"#E5ECF6\",\"gridcolor\":\"white\",\"linecolor\":\"white\",\"showbackground\":true,\"ticks\":\"\",\"zerolinecolor\":\"white\",\"gridwidth\":2}},\"shapedefaults\":{\"line\":{\"color\":\"#2a3f5f\"}},\"annotationdefaults\":{\"arrowcolor\":\"#2a3f5f\",\"arrowhead\":0,\"arrowwidth\":1},\"geo\":{\"bgcolor\":\"white\",\"landcolor\":\"#E5ECF6\",\"subunitcolor\":\"white\",\"showland\":true,\"showlakes\":true,\"lakecolor\":\"white\"},\"title\":{\"x\":0.05},\"mapbox\":{\"style\":\"light\"}}},\"xaxis\":{\"anchor\":\"y\",\"domain\":[0.0,1.0],\"title\":{\"text\":\"Artist\"}},\"yaxis\":{\"anchor\":\"x\",\"domain\":[0.0,1.0],\"title\":{\"text\":\"unique_stems_ratio_en\"}},\"legend\":{\"tracegroupgap\":0},\"title\":{\"text\":\"Ratio of unique words to all words\"},\"boxmode\":\"group\"},                        {\"responsive\": true}                    ).then(function(){\n",
       "                            \n",
       "var gd = document.getElementById('4fd0073b-ff78-4a0c-8b04-80a9587311ec');\n",
       "var x = new MutationObserver(function (mutations, observer) {{\n",
       "        var display = window.getComputedStyle(gd).display;\n",
       "        if (!display || display === 'none') {{\n",
       "            console.log([gd, 'removed!']);\n",
       "            Plotly.purge(gd);\n",
       "            observer.disconnect();\n",
       "        }}\n",
       "}});\n",
       "\n",
       "// Listen for the removal of the full notebook cells\n",
       "var notebookContainer = gd.closest('#notebook-container');\n",
       "if (notebookContainer) {{\n",
       "    x.observe(notebookContainer, {childList: true});\n",
       "}}\n",
       "\n",
       "// Listen for the clearing of the current output cell\n",
       "var outputEl = gd.closest('.output');\n",
       "if (outputEl) {{\n",
       "    x.observe(outputEl, {childList: true});\n",
       "}}\n",
       "\n",
       "                        })                };                });            </script>        </div>"
      ]
     },
     "metadata": {},
     "output_type": "display_data"
    }
   ],
   "source": [
    "fig = px.box(df, x='Artist', y='unique_stems_ratio_en', title='Ratio of unique words to all words')\n",
    "fig.show()"
   ]
  },
  {
   "cell_type": "code",
   "execution_count": 33,
   "metadata": {},
   "outputs": [
    {
     "data": {
      "application/vnd.plotly.v1+json": {
       "config": {
        "plotlyServerURL": "https://plot.ly"
       },
       "data": [
        {
         "alignmentgroup": "True",
         "hovertemplate": "Artist=%{x}<br>unique_tokens_ratio_hy=%{y}<extra></extra>",
         "legendgroup": "",
         "marker": {
          "color": "#636efa"
         },
         "name": "",
         "notched": false,
         "offsetgroup": "",
         "orientation": "v",
         "showlegend": false,
         "type": "box",
         "x": [
          "ԱՐԹՈՒՐ ՄԵՍՉՅԱՆ",
          "ԱՐԹՈՒՐ ՄԵՍՉՅԱՆ",
          "ԱՐԹՈՒՐ ՄԵՍՉՅԱՆ",
          "ԱՐԹՈՒՐ ՄԵՍՉՅԱՆ",
          "ԱՐԹՈՒՐ ՄԵՍՉՅԱՆ",
          "ԱՐԹՈՒՐ ՄԵՍՉՅԱՆ",
          "ԱՐԹՈՒՐ ՄԵՍՉՅԱՆ",
          "ԱՐԹՈՒՐ ՄԵՍՉՅԱՆ",
          "ԱՐԹՈՒՐ ՄԵՍՉՅԱՆ",
          "ԱՐԹՈՒՐ ՄԵՍՉՅԱՆ",
          "ԱՐԹՈՒՐ ՄԵՍՉՅԱՆ",
          "ԱՐԹՈՒՐ ՄԵՍՉՅԱՆ",
          "ԱՐԹՈՒՐ ՄԵՍՉՅԱՆ",
          "ԱՐԹՈՒՐ ՄԵՍՉՅԱՆ",
          "ԱՐԹՈՒՐ ՄԵՍՉՅԱՆ",
          "ԱՐԹՈՒՐ ՄԵՍՉՅԱՆ",
          "ԱՐԹՈՒՐ ՄԵՍՉՅԱՆ",
          "ԱՐԹՈՒՐ ՄԵՍՉՅԱՆ",
          "ԱՐԹՈՒՐ ՄԵՍՉՅԱՆ",
          "ԱՐԹՈՒՐ ՄԵՍՉՅԱՆ",
          "ԱՐԹՈՒՐ ՄԵՍՉՅԱՆ",
          "ԱՐԹՈՒՐ ՄԵՍՉՅԱՆ",
          "ԱՐԹՈՒՐ ՄԵՍՉՅԱՆ",
          "ԱՐԹՈՒՐ ՄԵՍՉՅԱՆ",
          "ԱՐԹՈՒՐ ՄԵՍՉՅԱՆ",
          "ԱՐԹՈՒՐ ՄԵՍՉՅԱՆ",
          "ԱՐԹՈՒՐ ՄԵՍՉՅԱՆ",
          "ԱՐԹՈՒՐ ՄԵՍՉՅԱՆ",
          "ԱՐԹՈՒՐ ՄԵՍՉՅԱՆ",
          "ԱՐԹՈՒՐ ՄԵՍՉՅԱՆ",
          "ԱՐԹՈՒՐ ՄԵՍՉՅԱՆ",
          "ԱՐԹՈՒՐ ՄԵՍՉՅԱՆ",
          "ԱՐԹՈՒՐ ՄԵՍՉՅԱՆ",
          "ԱՐԹՈՒՐ ՄԵՍՉՅԱՆ",
          "ԱՐԹՈՒՐ ՄԵՍՉՅԱՆ",
          "ԱՐԹՈՒՐ ՄԵՍՉՅԱՆ",
          "ԱՐԹՈՒՐ ՄԵՍՉՅԱՆ",
          "ԱՐԹՈՒՐ ՄԵՍՉՅԱՆ",
          "ԱՐԹՈՒՐ ՄԵՍՉՅԱՆ",
          "ԱՐԹՈՒՐ ՄԵՍՉՅԱՆ",
          "ԱՐԹՈՒՐ ՄԵՍՉՅԱՆ",
          "ԱՐԹՈՒՐ ՄԵՍՉՅԱՆ",
          "ԱՐԹՈՒՐ ՄԵՍՉՅԱՆ",
          "ԱՐԹՈՒՐ ՄԵՍՉՅԱՆ",
          "ԱՐԹՈՒՐ ՄԵՍՉՅԱՆ",
          "ԱՐԹՈՒՐ ՄԵՍՉՅԱՆ",
          "ԱՐԹՈՒՐ ՄԵՍՉՅԱՆ",
          "ԱՐԹՈՒՐ ՄԵՍՉՅԱՆ",
          "ԱՐԹՈՒՐ ՄԵՍՉՅԱՆ",
          "ԱՐԹՈՒՐ ՄԵՍՉՅԱՆ",
          "ՌՈՒԲԵՆ ՀԱԽՎԵՐԴՅԱՆ",
          "ՌՈՒԲԵՆ ՀԱԽՎԵՐԴՅԱՆ",
          "ՌՈՒԲԵՆ ՀԱԽՎԵՐԴՅԱՆ",
          "ՌՈՒԲԵՆ ՀԱԽՎԵՐԴՅԱՆ",
          "ՌՈՒԲԵՆ ՀԱԽՎԵՐԴՅԱՆ",
          "ՌՈՒԲԵՆ ՀԱԽՎԵՐԴՅԱՆ",
          "ՌՈՒԲԵՆ ՀԱԽՎԵՐԴՅԱՆ",
          "ՌՈՒԲԵՆ ՀԱԽՎԵՐԴՅԱՆ",
          "ՌՈՒԲԵՆ ՀԱԽՎԵՐԴՅԱՆ",
          "ՌՈՒԲԵՆ ՀԱԽՎԵՐԴՅԱՆ",
          "ՌՈՒԲԵՆ ՀԱԽՎԵՐԴՅԱՆ",
          "ՌՈՒԲԵՆ ՀԱԽՎԵՐԴՅԱՆ",
          "ՌՈՒԲԵՆ ՀԱԽՎԵՐԴՅԱՆ",
          "ՌՈՒԲԵՆ ՀԱԽՎԵՐԴՅԱՆ",
          "ՌՈՒԲԵՆ ՀԱԽՎԵՐԴՅԱՆ",
          "ՌՈՒԲԵՆ ՀԱԽՎԵՐԴՅԱՆ",
          "ՌՈՒԲԵՆ ՀԱԽՎԵՐԴՅԱՆ",
          "ՌՈՒԲԵՆ ՀԱԽՎԵՐԴՅԱՆ",
          "ՌՈՒԲԵՆ ՀԱԽՎԵՐԴՅԱՆ",
          "ՌՈՒԲԵՆ ՀԱԽՎԵՐԴՅԱՆ",
          "ՌՈՒԲԵՆ ՀԱԽՎԵՐԴՅԱՆ",
          "ՌՈՒԲԵՆ ՀԱԽՎԵՐԴՅԱՆ",
          "ՌՈՒԲԵՆ ՀԱԽՎԵՐԴՅԱՆ",
          "ՌՈՒԲԵՆ ՀԱԽՎԵՐԴՅԱՆ",
          "ՌՈՒԲԵՆ ՀԱԽՎԵՐԴՅԱՆ",
          "ՌՈՒԲԵՆ ՀԱԽՎԵՐԴՅԱՆ",
          "ՌՈՒԲԵՆ ՀԱԽՎԵՐԴՅԱՆ",
          "ՌՈՒԲԵՆ ՀԱԽՎԵՐԴՅԱՆ",
          "ՌՈՒԲԵՆ ՀԱԽՎԵՐԴՅԱՆ",
          "ՌՈՒԲԵՆ ՀԱԽՎԵՐԴՅԱՆ",
          "ՌՈՒԲԵՆ ՀԱԽՎԵՐԴՅԱՆ",
          "ՌՈՒԲԵՆ ՀԱԽՎԵՐԴՅԱՆ",
          "ՌՈՒԲԵՆ ՀԱԽՎԵՐԴՅԱՆ",
          "ՌՈՒԲԵՆ ՀԱԽՎԵՐԴՅԱՆ",
          "ՌՈՒԲԵՆ ՀԱԽՎԵՐԴՅԱՆ",
          "ՌՈՒԲԵՆ ՀԱԽՎԵՐԴՅԱՆ",
          "ՌՈՒԲԵՆ ՀԱԽՎԵՐԴՅԱՆ",
          "ՌՈՒԲԵՆ ՀԱԽՎԵՐԴՅԱՆ",
          "ՌՈՒԲԵՆ ՀԱԽՎԵՐԴՅԱՆ",
          "ՌՈՒԲԵՆ ՀԱԽՎԵՐԴՅԱՆ",
          "ՌՈՒԲԵՆ ՀԱԽՎԵՐԴՅԱՆ",
          "ՌՈՒԲԵՆ ՀԱԽՎԵՐԴՅԱՆ",
          "ՌՈՒԲԵՆ ՀԱԽՎԵՐԴՅԱՆ",
          "ՌՈՒԲԵՆ ՀԱԽՎԵՐԴՅԱՆ",
          "ՌՈՒԲԵՆ ՀԱԽՎԵՐԴՅԱՆ",
          "ՌՈՒԲԵՆ ՀԱԽՎԵՐԴՅԱՆ",
          "ՌՈՒԲԵՆ ՀԱԽՎԵՐԴՅԱՆ",
          "ՌՈՒԲԵՆ ՀԱԽՎԵՐԴՅԱՆ",
          "ՌՈՒԲԵՆ ՀԱԽՎԵՐԴՅԱՆ",
          "ՌՈՒԲԵՆ ՀԱԽՎԵՐԴՅԱՆ",
          "ՌՈՒԲԵՆ ՀԱԽՎԵՐԴՅԱՆ",
          "ՌՈՒԲԵՆ ՀԱԽՎԵՐԴՅԱՆ",
          "ՌՈՒԲԵՆ ՀԱԽՎԵՐԴՅԱՆ",
          "ՌՈՒԲԵՆ ՀԱԽՎԵՐԴՅԱՆ",
          "ՌՈՒԲԵՆ ՀԱԽՎԵՐԴՅԱՆ",
          "ՌՈՒԲԵՆ ՀԱԽՎԵՐԴՅԱՆ",
          "ՌՈՒԲԵՆ ՀԱԽՎԵՐԴՅԱՆ",
          "ՌՈՒԲԵՆ ՀԱԽՎԵՐԴՅԱՆ",
          "ՌՈՒԲԵՆ ՀԱԽՎԵՐԴՅԱՆ",
          "ՌՈՒԲԵՆ ՀԱԽՎԵՐԴՅԱՆ",
          "ՌՈՒԲԵՆ ՀԱԽՎԵՐԴՅԱՆ",
          "ՌՈՒԲԵՆ ՀԱԽՎԵՐԴՅԱՆ",
          "ՌՈՒԲԵՆ ՀԱԽՎԵՐԴՅԱՆ",
          "ՌՈՒԲԵՆ ՀԱԽՎԵՐԴՅԱՆ",
          "ՌՈՒԲԵՆ ՀԱԽՎԵՐԴՅԱՆ",
          "ՌՈՒԲԵՆ ՀԱԽՎԵՐԴՅԱՆ",
          "ՌՈՒԲԵՆ ՀԱԽՎԵՐԴՅԱՆ",
          "ՌՈՒԲԵՆ ՀԱԽՎԵՐԴՅԱՆ",
          "ՌՈՒԲԵՆ ՀԱԽՎԵՐԴՅԱՆ",
          "ՌՈՒԲԵՆ ՀԱԽՎԵՐԴՅԱՆ",
          "ՌՈՒԲԵՆ ՀԱԽՎԵՐԴՅԱՆ",
          "ՌՈՒԲԵՆ ՀԱԽՎԵՐԴՅԱՆ",
          "ՌՈՒԲԵՆ ՀԱԽՎԵՐԴՅԱՆ",
          "ՌՈՒԲԵՆ ՀԱԽՎԵՐԴՅԱՆ",
          "ՌՈՒԲԵՆ ՀԱԽՎԵՐԴՅԱՆ",
          "ՌՈՒԲԵՆ ՀԱԽՎԵՐԴՅԱՆ",
          "ՌՈՒԲԵՆ ՀԱԽՎԵՐԴՅԱՆ",
          "ՌՈՒԲԵՆ ՀԱԽՎԵՐԴՅԱՆ",
          "ՌՈՒԲԵՆ ՀԱԽՎԵՐԴՅԱՆ",
          "ՌՈՒԲԵՆ ՀԱԽՎԵՐԴՅԱՆ",
          "ՌՈՒԲԵՆ ՀԱԽՎԵՐԴՅԱՆ",
          "ՍԱՅԱԹ-ՆՈՎԱ",
          "ՍԱՅԱԹ-ՆՈՎԱ",
          "ՍԱՅԱԹ-ՆՈՎԱ",
          "ՍԱՅԱԹ-ՆՈՎԱ",
          "ՍԱՅԱԹ-ՆՈՎԱ",
          "ՍԱՅԱԹ-ՆՈՎԱ",
          "ՍԱՅԱԹ-ՆՈՎԱ",
          "ՍԱՅԱԹ-ՆՈՎԱ",
          "ՍԱՅԱԹ-ՆՈՎԱ",
          "ՍԱՅԱԹ-ՆՈՎԱ",
          "ՍԱՅԱԹ-ՆՈՎԱ",
          "ՍԱՅԱԹ-ՆՈՎԱ",
          "ՍԱՅԱԹ-ՆՈՎԱ",
          "ՍԱՅԱԹ-ՆՈՎԱ",
          "ՍԱՅԱԹ-ՆՈՎԱ",
          "ՍԱՅԱԹ-ՆՈՎԱ",
          "ԿՈՄԻՏԱՍ",
          "ԿՈՄԻՏԱՍ",
          "ԿՈՄԻՏԱՍ",
          "ԿՈՄԻՏԱՍ",
          "ԿՈՄԻՏԱՍ",
          "ԿՈՄԻՏԱՍ",
          "ԿՈՄԻՏԱՍ",
          "ԿՈՄԻՏԱՍ",
          "ԿՈՄԻՏԱՍ",
          "ԿՈՄԻՏԱՍ",
          "ԿՈՄԻՏԱՍ",
          "ԿՈՄԻՏԱՍ",
          "ԿՈՄԻՏԱՍ",
          "ԿՈՄԻՏԱՍ",
          "ԿՈՄԻՏԱՍ",
          "ԿՈՄԻՏԱՍ",
          "ԿՈՄԻՏԱՍ",
          "ԿՈՄԻՏԱՍ",
          "ԿՈՄԻՏԱՍ",
          "ԿՈՄԻՏԱՍ",
          "ԿՈՄԻՏԱՍ",
          "ԿՈՄԻՏԱՍ",
          "ԿՈՄԻՏԱՍ",
          "ԿՈՄԻՏԱՍ",
          "ԿՈՄԻՏԱՍ",
          "ԿՈՄԻՏԱՍ",
          "ԿՈՄԻՏԱՍ",
          "ԿՈՄԻՏԱՍ",
          "ԿՈՄԻՏԱՍ",
          "ԿՈՄԻՏԱՍ",
          "ԿՈՄԻՏԱՍ",
          "ԿՈՄԻՏԱՍ",
          "ԿՈՄԻՏԱՍ",
          "ԿՈՄԻՏԱՍ",
          "ԿՈՄԻՏԱՍ",
          "ԿՈՄԻՏԱՍ",
          "ԿՈՄԻՏԱՍ",
          "ԿՈՄԻՏԱՍ",
          "ԿՈՄԻՏԱՍ",
          "ԿՈՄԻՏԱՍ",
          "ԿՈՄԻՏԱՍ",
          "ԿՈՄԻՏԱՍ",
          "ԿՈՄԻՏԱՍ",
          "ԿՈՄԻՏԱՍ",
          "ԿՈՄԻՏԱՍ",
          "ԿՈՄԻՏԱՍ",
          "ԿՈՄԻՏԱՍ",
          "ԿՈՄԻՏԱՍ",
          "ԿՈՄԻՏԱՍ",
          "ԿՈՄԻՏԱՍ",
          "ԿՈՄԻՏԱՍ",
          "ԿՈՄԻՏԱՍ",
          "ԿՈՄԻՏԱՍ",
          "ԿՈՄԻՏԱՍ",
          "ԿՈՄԻՏԱՍ",
          "ԿՈՄԻՏԱՍ",
          "ԿՈՄԻՏԱՍ",
          "ԿՈՄԻՏԱՍ",
          "ԿՈՄԻՏԱՍ",
          "ԿՈՄԻՏԱՍ",
          "ԿՈՄԻՏԱՍ",
          "ԿՈՄԻՏԱՍ",
          "HT Hayko",
          "HT Hayko",
          "HT Hayko",
          "HT Hayko",
          "HT Hayko",
          "HT Hayko",
          "HT Hayko",
          "HT Hayko",
          "HT Hayko",
          "HT Hayko",
          "HT Hayko",
          "HT Hayko",
          "HT Hayko",
          "HT Hayko",
          "HT Hayko",
          "HT Hayko",
          "Empyray",
          "Empyray",
          "Empyray",
          "Empyray",
          "Empyray",
          "Empyray",
          "Empyray",
          "Empyray",
          "Empyray",
          "Empyray",
          " Lav Eli",
          " Lav Eli",
          " Lav Eli",
          " Lav Eli",
          " Lav Eli",
          " Lav Eli",
          " Lav Eli",
          " Lav Eli",
          " Lav Eli",
          "Silva Hakobyan",
          "Silva Hakobyan",
          "Silva Hakobyan",
          "Silva Hakobyan",
          "Silva Hakobyan",
          "Silva Hakobyan",
          "Silva Hakobyan",
          "Silva Hakobyan",
          "Silva Hakobyan",
          "Silva Hakobyan",
          "Silva Hakobyan",
          "Silva Hakobyan",
          "Silva Hakobyan",
          "Silva Hakobyan",
          "Silva Hakobyan",
          "Silva Hakobyan",
          "Silva Hakobyan",
          "Silva Hakobyan",
          "Silva Hakobyan",
          "Silva Hakobyan",
          "Անդրե",
          "Անդրե",
          "Անդրե",
          "Անդրե",
          "Անդրե",
          "Անդրե",
          "Անդրե",
          "Անդրե",
          "Անդրե",
          "Անդրե",
          "Անդրե",
          "Անդրե",
          "Լիլիթ Հովհաննիսյան",
          "Լիլիթ Հովհաննիսյան",
          "Լիլիթ Հովհաննիսյան",
          "Լիլիթ Հովհաննիսյան",
          "Լիլիթ Հովհաննիսյան",
          "Լիլիթ Հովհաննիսյան",
          "Լիլիթ Հովհաննիսյան",
          "Լիլիթ Հովհաննիսյան",
          "Լիլիթ Հովհաննիսյան",
          "Լիլիթ Հովհաննիսյան",
          "Լիլիթ Հովհաննիսյան",
          "Լիլիթ Հովհաննիսյան",
          "Լիլիթ Հովհաննիսյան",
          "Լիլիթ Հովհաննիսյան",
          "Լիլիթ Հովհաննիսյան",
          "Լիլիթ Հովհաննիսյան",
          "Լիլիթ Հովհաննիսյան",
          "Լիլիթ Հովհաննիսյան",
          "Լիլիթ Հովհաննիսյան",
          "Լիլիթ Հովհաննիսյան",
          "Լիլիթ Հովհաննիսյան",
          "Լիլիթ Հովհաննիսյան",
          "Լիլիթ Հովհաննիսյան",
          "Լիլիթ Հովհաննիսյան",
          "Սիրուշո",
          "Սիրուշո",
          "Սիրուշո",
          "Սիրուշո",
          "Սիրուշո",
          "Սիրուշո",
          "Սիրուշո",
          "Սիրուշո",
          "Սիրուշո",
          "Սիրուշո",
          "Սիրուշո",
          "Սիրուշո",
          "Սիրուշո",
          "Սիրուշո",
          "Սիրուշո",
          "Սիրուշո",
          "Սիրուշո",
          "Սիրուշո",
          "Սիրուշո",
          "Սիրուշո",
          "Սիրուշո",
          "Սիրուշո",
          "Սիրուշո",
          "Սիրուշո",
          "Սիրուշո",
          "Միհրան Ծառուկյան",
          "Միհրան Ծառուկյան",
          "Միհրան Ծառուկյան",
          "Միհրան Ծառուկյան",
          "Միհրան Ծառուկյան",
          "Միհրան Ծառուկյան",
          "Միհրան Ծառուկյան",
          "Միհրան Ծառուկյան",
          "Միհրան Ծառուկյան",
          "Միհրան Ծառուկյան",
          "Միհրան Ծառուկյան",
          "Միհրան Ծառուկյան",
          "Միհրան Ծառուկյան",
          "Միհրան Ծառուկյան",
          "Միհրան Ծառուկյան",
          "Միհրան Ծառուկյան",
          "Միհրան Ծառուկյան",
          "Միհրան Ծառուկյան",
          "Arame",
          "Arame",
          "Arame",
          "Arame",
          "Arame",
          "Arame",
          "Arame",
          "Arame",
          "Arame",
          "Razmik Amyan",
          "Razmik Amyan",
          "Razmik Amyan",
          "Razmik Amyan",
          "Razmik Amyan",
          "Razmik Amyan",
          "Razmik Amyan",
          "Razmik Amyan",
          "Razmik Amyan",
          "Razmik Amyan",
          "Razmik Amyan",
          "Razmik Amyan",
          "Razmik Amyan",
          "Razmik Amyan",
          "Razmik Amyan",
          "Razmik Amyan",
          "Razmik Amyan",
          "Razmik Amyan",
          "Harout Pamboukjian",
          "Harout Pamboukjian",
          "Harout Pamboukjian",
          "Harout Pamboukjian",
          "Harout Pamboukjian",
          "Harout Pamboukjian",
          "Harout Pamboukjian",
          "Harout Pamboukjian",
          "Harout Pamboukjian",
          "Harout Pamboukjian",
          "Harout Pamboukjian",
          "Harout Pamboukjian",
          "Harout Pamboukjian",
          "Harout Pamboukjian",
          "Harout Pamboukjian",
          "Harout Pamboukjian",
          "Harout Pamboukjian",
          "Harout Pamboukjian",
          "Harout Pamboukjian",
          "Harout Pamboukjian",
          "Harout Pamboukjian",
          "Harout Pamboukjian",
          "Harout Pamboukjian",
          "Harout Pamboukjian",
          "Harout Pamboukjian",
          "Harout Pamboukjian",
          "Harout Pamboukjian",
          "Harout Pamboukjian",
          "Harout Pamboukjian",
          "Harout Pamboukjian",
          "Harout Pamboukjian",
          "Harout Pamboukjian",
          "Հայկ Հակոբյան",
          "Հայկ Հակոբյան",
          "Հայկ Հակոբյան",
          "Հայկ Հակոբյան",
          "Հայկ Հակոբյան",
          "Հայկ Հակոբյան",
          "Հայկ Հակոբյան",
          "Հայկ Հակոբյան",
          "Հայկ Հակոբյան",
          "Հայկ Հակոբյան",
          "Հայկ Հակոբյան",
          "Հայկ Հակոբյան",
          "Հայկ Հակոբյան",
          "Հայկ Հակոբյան",
          "Հայկ Հակոբյան",
          "Հայկ Հակոբյան",
          "Հայկ Հակոբյան",
          "Հայկ Հակոբյան",
          "Հայկ Հակոբյան",
          "Հայկ Հակոբյան",
          "Հայկ Հակոբյան",
          "Հայկ Հակոբյան",
          "Հայկ Հակոբյան",
          "Aram MP3",
          "Aram MP3",
          "Arsen Safaryan",
          "Arsen Safaryan",
          "Arsen Safaryan",
          "Arsen Safaryan",
          "Arsen Safaryan",
          "Arsen Safaryan",
          "Arsen Safaryan",
          "Arsen Safaryan",
          "Arsen Safaryan",
          "Arsen Safaryan",
          "Arsen Safaryan",
          "Arsen Safaryan",
          "Arsen Safaryan",
          "Arsen Safaryan",
          "Arsen Safaryan",
          "Arsen Safaryan",
          "Arsen Safaryan",
          "Arsen Safaryan",
          "Arsen Safaryan",
          "Arsen Safaryan",
          "Arsen Safaryan",
          "Arsen Safaryan",
          "Arsen Safaryan",
          "Aram MP3",
          "Aram MP3",
          "Aram MP3",
          "Aram MP3",
          "Aram MP3",
          "Aram MP3",
          "Aram MP3",
          "Aram MP3",
          "Aram MP3",
          "Aram MP3",
          "Aram MP3",
          "Aram MP3",
          "Aram MP3",
          "Aram MP3",
          "Aram MP3",
          "Misho",
          "Misho",
          "Misho",
          "Misho",
          "Misho",
          "Misho",
          "Misho",
          "Misho",
          "Misho",
          "Misho",
          "Misho",
          "Misho",
          "Misho",
          "Misho",
          "Misho",
          "Misho",
          "Misho",
          "Misho",
          "Misho",
          "Misho",
          "Misho",
          "Misho",
          "Misho",
          "Misho",
          "Misho",
          "Misho",
          "Mi Qani Hogi",
          "Mi Qani Hogi",
          "Mi Qani Hogi",
          "Mi Qani Hogi",
          "Mi Qani Hogi",
          "Mi Qani Hogi",
          "Mi Qani Hogi",
          "Mi Qani Hogi",
          "Mi Qani Hogi",
          "Mi Qani Hogi",
          "Mi Qani Hogi",
          "Mi Qani Hogi",
          "Mi Qani Hogi",
          "Mi Qani Hogi",
          "Mi Qani Hogi"
         ],
         "x0": " ",
         "xaxis": "x",
         "y": [
          0.5,
          0.6384615384615384,
          0.711340206185567,
          0.8777777777777778,
          0.6956521739130435,
          0.8653846153846154,
          0.6901408450704225,
          0.6604938271604939,
          0.9636363636363636,
          0.5895522388059702,
          0.8679245283018868,
          0.6222222222222222,
          0.5321100917431193,
          0.8156028368794326,
          0.8243243243243243,
          0.7142857142857143,
          0.7674418604651163,
          0.8283582089552238,
          0.6445783132530121,
          0.7073170731707317,
          0.8368794326241135,
          0.8064516129032258,
          0.8470588235294118,
          0.8111111111111111,
          0.8,
          0.6581196581196581,
          0.6814159292035398,
          0.49224806201550386,
          0.2793103448275862,
          0.7898089171974523,
          0.6356589147286822,
          0.6558441558441559,
          0.7222222222222222,
          0.66,
          1,
          0.7010309278350515,
          0.8071428571428572,
          0.6708860759493671,
          0.37,
          0.6666666666666666,
          0.7092198581560284,
          0.837037037037037,
          0.632768361581921,
          0.5258620689655172,
          0.8333333333333334,
          0.6228070175438597,
          0.7083333333333334,
          0.6519823788546255,
          0.6952789699570815,
          0.9,
          0.7804878048780488,
          0.5392156862745098,
          0.8455882352941176,
          0.6850393700787402,
          0.6502463054187192,
          0.76,
          0.6595744680851063,
          0.4897959183673469,
          0.5416666666666666,
          0.46534653465346537,
          0.7103448275862069,
          0.6744186046511628,
          0.8103448275862069,
          0.585635359116022,
          0.5641025641025641,
          0.5433070866141733,
          0.5661764705882353,
          0.58,
          0.7948717948717948,
          0.810126582278481,
          0.6829268292682927,
          0.6868686868686869,
          0.7542372881355932,
          0.4772727272727273,
          0.6206896551724138,
          0.5725190839694656,
          0.6237623762376238,
          0.723404255319149,
          0.75,
          0.5,
          0.35294117647058826,
          0.5486725663716814,
          0.5217391304347826,
          0.5135135135135135,
          0.5666666666666667,
          0.5932203389830508,
          0.6797385620915033,
          0.4485294117647059,
          0.6810344827586207,
          0.5581395348837209,
          0.6484848484848484,
          0.6142857142857143,
          0.5316455696202531,
          0.5568181818181818,
          0.5543478260869565,
          0.7662337662337663,
          0.5022026431718062,
          0.6272189349112426,
          0.6037735849056604,
          0.5,
          0.45614035087719296,
          0.7272727272727273,
          0.7222222222222222,
          0.5588235294117647,
          0.6428571428571429,
          0.5727272727272728,
          0.6330275229357798,
          0.7471264367816092,
          0.635036496350365,
          0.7878787878787878,
          0.7428571428571429,
          0.618421052631579,
          0.7037037037037037,
          0.4583333333333333,
          0.8109756097560976,
          0.6208791208791209,
          0.8142076502732241,
          0.5945945945945946,
          0.6363636363636364,
          0.9038461538461539,
          0.5303030303030303,
          0.8095238095238095,
          0.88,
          0.9545454545454546,
          0.7692307692307693,
          0.8378378378378378,
          0.4642857142857143,
          0.7741935483870968,
          0.7547169811320755,
          0.5606060606060606,
          0.6233766233766234,
          0.6688311688311688,
          0.7771084337349398,
          0.7484276729559748,
          0.7777777777777778,
          0.7531645569620253,
          0.8194444444444444,
          0.7935483870967742,
          0.536144578313253,
          0.6170212765957447,
          0.7478260869565218,
          0.7604790419161677,
          0.5454545454545454,
          0.7134831460674157,
          0.7706422018348624,
          0.7981651376146789,
          0.5425531914893617,
          0.6407766990291263,
          0.6868686868686869,
          0.8793103448275862,
          0.4675324675324675,
          0.9782608695652174,
          0.7678571428571429,
          0.31343283582089554,
          0.8709677419354839,
          0.9032258064516129,
          0.4489795918367347,
          0.3274336283185841,
          0.6,
          0.3230769230769231,
          0.7362637362637363,
          0.4166666666666667,
          0.42857142857142855,
          0.5645161290322581,
          0.36666666666666664,
          0.639344262295082,
          0.5490196078431373,
          0.5172413793103449,
          0.6,
          0.7254901960784313,
          0.6086956521739131,
          0.8181818181818182,
          0.78,
          0.6582278481012658,
          0.44565217391304346,
          0.4864864864864865,
          0.5373134328358209,
          0.4322033898305085,
          0.4864864864864865,
          0.8717948717948718,
          0.6176470588235294,
          0.6779661016949152,
          0.7045454545454546,
          0.82,
          0.6413043478260869,
          0.7547169811320755,
          0.39344262295081966,
          0.7622950819672131,
          0.580952380952381,
          0.8166666666666667,
          0.4444444444444444,
          0.8,
          0.7307692307692307,
          0.6065573770491803,
          0.4888888888888889,
          0.5666666666666667,
          0.6666666666666666,
          0.4857142857142857,
          0.6615384615384615,
          0.6935483870967742,
          0.3655913978494624,
          0.7241379310344828,
          0.42528735632183906,
          0.7474747474747475,
          0.44,
          0.3783783783783784,
          0.4745762711864407,
          0.4222222222222222,
          0.7121212121212122,
          0.6136919315403423,
          0.6096774193548387,
          0.7557471264367817,
          0.46875,
          0.6919431279620853,
          0.5679012345679012,
          0.5597189695550351,
          0.6240208877284595,
          0.6705882352941176,
          0.5850622406639004,
          0.5544041450777202,
          0.6287425149700598,
          0.5129151291512916,
          0.5983263598326359,
          0.4943820224719101,
          0.391025641025641,
          0.40145985401459855,
          0.8529411764705882,
          0.35106382978723405,
          0.37383177570093457,
          0.3963963963963964,
          0.5,
          0.6818181818181818,
          0.7272727272727273,
          0.4264705882352941,
          0.5285714285714286,
          0.44,
          0.48299319727891155,
          0.726027397260274,
          0.6777777777777778,
          1,
          0.7454545454545455,
          0.46153846153846156,
          0.6804123711340206,
          0.37748344370860926,
          0.5727272727272728,
          0.3157894736842105,
          0.45977011494252873,
          0.4424778761061947,
          0.5094339622641509,
          0.4393939393939394,
          0.5652173913043478,
          0.3951612903225806,
          0.8939393939393939,
          0.8395061728395061,
          0.7777777777777778,
          0.6608695652173913,
          0.5405405405405406,
          0.4424778761061947,
          0.45,
          0.5294117647058824,
          0.4342105263157895,
          0.5660377358490566,
          0.7631578947368421,
          0.5419847328244275,
          0.2446351931330472,
          0.4491525423728814,
          0.6470588235294118,
          0.392,
          0.75,
          0.4860335195530726,
          0.4090909090909091,
          0.2328767123287671,
          0.6623376623376623,
          0.6666666666666666,
          0.5487804878048781,
          0.6095238095238096,
          0.450261780104712,
          0.41025641025641024,
          0.3404255319148936,
          0.24766355140186916,
          0.38095238095238093,
          0.45555555555555555,
          0.3842364532019704,
          0.5333333333333333,
          0.4020618556701031,
          0.55,
          0.6086956521739131,
          0.24193548387096775,
          0.6153846153846154,
          0.764367816091954,
          0.6785714285714286,
          0.4325581395348837,
          0.41732283464566927,
          0.3333333333333333,
          0.18115942028985507,
          0.2717391304347826,
          0.4350282485875706,
          0.8115942028985508,
          0.3930635838150289,
          0.35135135135135137,
          0.6095238095238096,
          0.5222222222222223,
          0.15463917525773196,
          0.40601503759398494,
          0.4,
          0.5526315789473685,
          0.6320754716981132,
          0.7289719626168224,
          0.6027397260273972,
          0.6666666666666666,
          0.4745762711864407,
          0.20444444444444446,
          0.6176470588235294,
          0.4714285714285714,
          0.8958333333333334,
          0.2638888888888889,
          0.464,
          0.3115942028985507,
          0.3053435114503817,
          0.6363636363636364,
          0.4375,
          0.5238095238095238,
          0.425,
          0.4945054945054945,
          0.6111111111111112,
          0.32452830188679244,
          0.5037037037037037,
          0.24855491329479767,
          0.5148514851485149,
          0.3838383838383838,
          0.4519774011299435,
          0.3303964757709251,
          0.3867403314917127,
          0.3624161073825503,
          0.27802690582959644,
          0.4727272727272727,
          0.2865853658536585,
          0.6025641025641025,
          0.6695652173913044,
          0.6826923076923077,
          0.7529411764705882,
          0.8037383177570093,
          0.32242990654205606,
          0.2839506172839506,
          0.48717948717948717,
          0.304029304029304,
          0.8933333333333333,
          0.3855421686746988,
          0.43529411764705883,
          0.4144144144144144,
          0.5576923076923077,
          0.3314285714285714,
          0.5185185185185185,
          0.4601226993865031,
          0.4696969696969697,
          0.5897435897435898,
          0.5972222222222222,
          0.6013513513513513,
          0.6145833333333334,
          0.5064102564102564,
          0.5,
          0.4888888888888889,
          0.19230769230769232,
          0.5604395604395604,
          0.6043956043956044,
          0.8493150684931506,
          0.5078125,
          0.45121951219512196,
          0.4778761061946903,
          0.4,
          0.5164835164835165,
          0.8354430379746836,
          0.6095238095238096,
          0.31868131868131866,
          0.46601941747572817,
          0.4827586206896552,
          0.2597402597402597,
          0.9387755102040817,
          0.6209150326797386,
          0.65,
          0.6052631578947368,
          0.3148148148148148,
          0.29850746268656714,
          0.6219512195121951,
          0.3006535947712418,
          0.7017543859649122,
          0.5523809523809524,
          0.6666666666666666,
          0.48717948717948717,
          0.7449664429530202,
          0.9146341463414634,
          0.5172413793103449,
          0.7323943661971831,
          0.7025316455696202,
          0.8974358974358975,
          0.6968085106382979,
          0.5515151515151515,
          0.9431818181818182,
          0.8369565217391305,
          0.6986301369863014,
          0.5086206896551724,
          0.8095238095238095,
          1,
          0.7454545454545455,
          0.8461538461538461,
          0.8035714285714286,
          0.7281553398058253,
          0.7808219178082192,
          0.6811594202898551,
          0.6495726495726496,
          0.8227848101265823,
          0.7864077669902912,
          0.5930232558139535,
          0.8,
          0.4074074074074074,
          0.8266666666666667,
          0.68,
          0.7096774193548387,
          0.6,
          0.6941176470588235,
          0.5930232558139535,
          0.53125,
          0.8,
          0.7733333333333333,
          0.7368421052631579,
          0.4966442953020134,
          0.37410071942446044,
          0.6722689075630253,
          0.75,
          0.6511627906976745,
          0.8133333333333334,
          0.5637583892617449,
          0.7638888888888888,
          0.5955056179775281,
          0.4049079754601227,
          0.6578947368421053,
          0.7669902912621359,
          0.8032786885245902,
          0.816,
          0.5906040268456376,
          0.6440677966101694,
          0.4,
          0.3209302325581395,
          0.5857142857142857,
          0.7789473684210526,
          0.6804123711340206,
          0.5887850467289719,
          0.7291666666666666,
          0.7567567567567568,
          0.7045454545454546,
          0.33962264150943394,
          0.27835051546391754,
          0.4253731343283582,
          0.6857142857142857,
          0.23979591836734693,
          0.4230769230769231,
          0.4765625,
          0.7386363636363636,
          0.33152173913043476,
          0.5294117647058824,
          0.4722222222222222,
          0.41530054644808745,
          0.42592592592592593,
          0.30275229357798167,
          0.675,
          0.5924170616113744,
          0.7251908396946565,
          0.86,
          0.7932692307692307,
          0.7637795275590551,
          0.7714285714285715,
          0.5,
          0.9012345679012346,
          0.6822429906542056,
          0.889763779527559,
          0.7857142857142857,
          0.8416666666666667,
          0.7837837837837838,
          0.5403225806451613,
          0.7727272727272727,
          0.4696132596685083,
          0.8509316770186336,
          0.7288135593220338,
          0.7076923076923077,
          0.6597222222222222,
          0.7752808988764045,
          0.6392156862745098,
          0.5594405594405595,
          0.5683453237410072,
          0.7992125984251969,
          0.6442953020134228,
          0.9411764705882353,
          0.5882352941176471,
          0.7454545454545455,
          0.7032258064516129,
          0.7299270072992701,
          0.7659574468085106,
          0.6380368098159509,
          0.7752808988764045,
          0.56353591160221,
          0.6578947368421053,
          0.4689655172413793,
          0.6608695652173913,
          0.6788321167883211,
          0.4807692307692308,
          0.6634615384615384
         ],
         "y0": " ",
         "yaxis": "y"
        }
       ],
       "layout": {
        "boxmode": "group",
        "legend": {
         "tracegroupgap": 0
        },
        "template": {
         "data": {
          "bar": [
           {
            "error_x": {
             "color": "#2a3f5f"
            },
            "error_y": {
             "color": "#2a3f5f"
            },
            "marker": {
             "line": {
              "color": "#E5ECF6",
              "width": 0.5
             },
             "pattern": {
              "fillmode": "overlay",
              "size": 10,
              "solidity": 0.2
             }
            },
            "type": "bar"
           }
          ],
          "barpolar": [
           {
            "marker": {
             "line": {
              "color": "#E5ECF6",
              "width": 0.5
             },
             "pattern": {
              "fillmode": "overlay",
              "size": 10,
              "solidity": 0.2
             }
            },
            "type": "barpolar"
           }
          ],
          "carpet": [
           {
            "aaxis": {
             "endlinecolor": "#2a3f5f",
             "gridcolor": "white",
             "linecolor": "white",
             "minorgridcolor": "white",
             "startlinecolor": "#2a3f5f"
            },
            "baxis": {
             "endlinecolor": "#2a3f5f",
             "gridcolor": "white",
             "linecolor": "white",
             "minorgridcolor": "white",
             "startlinecolor": "#2a3f5f"
            },
            "type": "carpet"
           }
          ],
          "choropleth": [
           {
            "colorbar": {
             "outlinewidth": 0,
             "ticks": ""
            },
            "type": "choropleth"
           }
          ],
          "contour": [
           {
            "colorbar": {
             "outlinewidth": 0,
             "ticks": ""
            },
            "colorscale": [
             [
              0,
              "#0d0887"
             ],
             [
              0.1111111111111111,
              "#46039f"
             ],
             [
              0.2222222222222222,
              "#7201a8"
             ],
             [
              0.3333333333333333,
              "#9c179e"
             ],
             [
              0.4444444444444444,
              "#bd3786"
             ],
             [
              0.5555555555555556,
              "#d8576b"
             ],
             [
              0.6666666666666666,
              "#ed7953"
             ],
             [
              0.7777777777777778,
              "#fb9f3a"
             ],
             [
              0.8888888888888888,
              "#fdca26"
             ],
             [
              1,
              "#f0f921"
             ]
            ],
            "type": "contour"
           }
          ],
          "contourcarpet": [
           {
            "colorbar": {
             "outlinewidth": 0,
             "ticks": ""
            },
            "type": "contourcarpet"
           }
          ],
          "heatmap": [
           {
            "colorbar": {
             "outlinewidth": 0,
             "ticks": ""
            },
            "colorscale": [
             [
              0,
              "#0d0887"
             ],
             [
              0.1111111111111111,
              "#46039f"
             ],
             [
              0.2222222222222222,
              "#7201a8"
             ],
             [
              0.3333333333333333,
              "#9c179e"
             ],
             [
              0.4444444444444444,
              "#bd3786"
             ],
             [
              0.5555555555555556,
              "#d8576b"
             ],
             [
              0.6666666666666666,
              "#ed7953"
             ],
             [
              0.7777777777777778,
              "#fb9f3a"
             ],
             [
              0.8888888888888888,
              "#fdca26"
             ],
             [
              1,
              "#f0f921"
             ]
            ],
            "type": "heatmap"
           }
          ],
          "heatmapgl": [
           {
            "colorbar": {
             "outlinewidth": 0,
             "ticks": ""
            },
            "colorscale": [
             [
              0,
              "#0d0887"
             ],
             [
              0.1111111111111111,
              "#46039f"
             ],
             [
              0.2222222222222222,
              "#7201a8"
             ],
             [
              0.3333333333333333,
              "#9c179e"
             ],
             [
              0.4444444444444444,
              "#bd3786"
             ],
             [
              0.5555555555555556,
              "#d8576b"
             ],
             [
              0.6666666666666666,
              "#ed7953"
             ],
             [
              0.7777777777777778,
              "#fb9f3a"
             ],
             [
              0.8888888888888888,
              "#fdca26"
             ],
             [
              1,
              "#f0f921"
             ]
            ],
            "type": "heatmapgl"
           }
          ],
          "histogram": [
           {
            "marker": {
             "pattern": {
              "fillmode": "overlay",
              "size": 10,
              "solidity": 0.2
             }
            },
            "type": "histogram"
           }
          ],
          "histogram2d": [
           {
            "colorbar": {
             "outlinewidth": 0,
             "ticks": ""
            },
            "colorscale": [
             [
              0,
              "#0d0887"
             ],
             [
              0.1111111111111111,
              "#46039f"
             ],
             [
              0.2222222222222222,
              "#7201a8"
             ],
             [
              0.3333333333333333,
              "#9c179e"
             ],
             [
              0.4444444444444444,
              "#bd3786"
             ],
             [
              0.5555555555555556,
              "#d8576b"
             ],
             [
              0.6666666666666666,
              "#ed7953"
             ],
             [
              0.7777777777777778,
              "#fb9f3a"
             ],
             [
              0.8888888888888888,
              "#fdca26"
             ],
             [
              1,
              "#f0f921"
             ]
            ],
            "type": "histogram2d"
           }
          ],
          "histogram2dcontour": [
           {
            "colorbar": {
             "outlinewidth": 0,
             "ticks": ""
            },
            "colorscale": [
             [
              0,
              "#0d0887"
             ],
             [
              0.1111111111111111,
              "#46039f"
             ],
             [
              0.2222222222222222,
              "#7201a8"
             ],
             [
              0.3333333333333333,
              "#9c179e"
             ],
             [
              0.4444444444444444,
              "#bd3786"
             ],
             [
              0.5555555555555556,
              "#d8576b"
             ],
             [
              0.6666666666666666,
              "#ed7953"
             ],
             [
              0.7777777777777778,
              "#fb9f3a"
             ],
             [
              0.8888888888888888,
              "#fdca26"
             ],
             [
              1,
              "#f0f921"
             ]
            ],
            "type": "histogram2dcontour"
           }
          ],
          "mesh3d": [
           {
            "colorbar": {
             "outlinewidth": 0,
             "ticks": ""
            },
            "type": "mesh3d"
           }
          ],
          "parcoords": [
           {
            "line": {
             "colorbar": {
              "outlinewidth": 0,
              "ticks": ""
             }
            },
            "type": "parcoords"
           }
          ],
          "pie": [
           {
            "automargin": true,
            "type": "pie"
           }
          ],
          "scatter": [
           {
            "fillpattern": {
             "fillmode": "overlay",
             "size": 10,
             "solidity": 0.2
            },
            "type": "scatter"
           }
          ],
          "scatter3d": [
           {
            "line": {
             "colorbar": {
              "outlinewidth": 0,
              "ticks": ""
             }
            },
            "marker": {
             "colorbar": {
              "outlinewidth": 0,
              "ticks": ""
             }
            },
            "type": "scatter3d"
           }
          ],
          "scattercarpet": [
           {
            "marker": {
             "colorbar": {
              "outlinewidth": 0,
              "ticks": ""
             }
            },
            "type": "scattercarpet"
           }
          ],
          "scattergeo": [
           {
            "marker": {
             "colorbar": {
              "outlinewidth": 0,
              "ticks": ""
             }
            },
            "type": "scattergeo"
           }
          ],
          "scattergl": [
           {
            "marker": {
             "colorbar": {
              "outlinewidth": 0,
              "ticks": ""
             }
            },
            "type": "scattergl"
           }
          ],
          "scattermapbox": [
           {
            "marker": {
             "colorbar": {
              "outlinewidth": 0,
              "ticks": ""
             }
            },
            "type": "scattermapbox"
           }
          ],
          "scatterpolar": [
           {
            "marker": {
             "colorbar": {
              "outlinewidth": 0,
              "ticks": ""
             }
            },
            "type": "scatterpolar"
           }
          ],
          "scatterpolargl": [
           {
            "marker": {
             "colorbar": {
              "outlinewidth": 0,
              "ticks": ""
             }
            },
            "type": "scatterpolargl"
           }
          ],
          "scatterternary": [
           {
            "marker": {
             "colorbar": {
              "outlinewidth": 0,
              "ticks": ""
             }
            },
            "type": "scatterternary"
           }
          ],
          "surface": [
           {
            "colorbar": {
             "outlinewidth": 0,
             "ticks": ""
            },
            "colorscale": [
             [
              0,
              "#0d0887"
             ],
             [
              0.1111111111111111,
              "#46039f"
             ],
             [
              0.2222222222222222,
              "#7201a8"
             ],
             [
              0.3333333333333333,
              "#9c179e"
             ],
             [
              0.4444444444444444,
              "#bd3786"
             ],
             [
              0.5555555555555556,
              "#d8576b"
             ],
             [
              0.6666666666666666,
              "#ed7953"
             ],
             [
              0.7777777777777778,
              "#fb9f3a"
             ],
             [
              0.8888888888888888,
              "#fdca26"
             ],
             [
              1,
              "#f0f921"
             ]
            ],
            "type": "surface"
           }
          ],
          "table": [
           {
            "cells": {
             "fill": {
              "color": "#EBF0F8"
             },
             "line": {
              "color": "white"
             }
            },
            "header": {
             "fill": {
              "color": "#C8D4E3"
             },
             "line": {
              "color": "white"
             }
            },
            "type": "table"
           }
          ]
         },
         "layout": {
          "annotationdefaults": {
           "arrowcolor": "#2a3f5f",
           "arrowhead": 0,
           "arrowwidth": 1
          },
          "autotypenumbers": "strict",
          "coloraxis": {
           "colorbar": {
            "outlinewidth": 0,
            "ticks": ""
           }
          },
          "colorscale": {
           "diverging": [
            [
             0,
             "#8e0152"
            ],
            [
             0.1,
             "#c51b7d"
            ],
            [
             0.2,
             "#de77ae"
            ],
            [
             0.3,
             "#f1b6da"
            ],
            [
             0.4,
             "#fde0ef"
            ],
            [
             0.5,
             "#f7f7f7"
            ],
            [
             0.6,
             "#e6f5d0"
            ],
            [
             0.7,
             "#b8e186"
            ],
            [
             0.8,
             "#7fbc41"
            ],
            [
             0.9,
             "#4d9221"
            ],
            [
             1,
             "#276419"
            ]
           ],
           "sequential": [
            [
             0,
             "#0d0887"
            ],
            [
             0.1111111111111111,
             "#46039f"
            ],
            [
             0.2222222222222222,
             "#7201a8"
            ],
            [
             0.3333333333333333,
             "#9c179e"
            ],
            [
             0.4444444444444444,
             "#bd3786"
            ],
            [
             0.5555555555555556,
             "#d8576b"
            ],
            [
             0.6666666666666666,
             "#ed7953"
            ],
            [
             0.7777777777777778,
             "#fb9f3a"
            ],
            [
             0.8888888888888888,
             "#fdca26"
            ],
            [
             1,
             "#f0f921"
            ]
           ],
           "sequentialminus": [
            [
             0,
             "#0d0887"
            ],
            [
             0.1111111111111111,
             "#46039f"
            ],
            [
             0.2222222222222222,
             "#7201a8"
            ],
            [
             0.3333333333333333,
             "#9c179e"
            ],
            [
             0.4444444444444444,
             "#bd3786"
            ],
            [
             0.5555555555555556,
             "#d8576b"
            ],
            [
             0.6666666666666666,
             "#ed7953"
            ],
            [
             0.7777777777777778,
             "#fb9f3a"
            ],
            [
             0.8888888888888888,
             "#fdca26"
            ],
            [
             1,
             "#f0f921"
            ]
           ]
          },
          "colorway": [
           "#636efa",
           "#EF553B",
           "#00cc96",
           "#ab63fa",
           "#FFA15A",
           "#19d3f3",
           "#FF6692",
           "#B6E880",
           "#FF97FF",
           "#FECB52"
          ],
          "font": {
           "color": "#2a3f5f"
          },
          "geo": {
           "bgcolor": "white",
           "lakecolor": "white",
           "landcolor": "#E5ECF6",
           "showlakes": true,
           "showland": true,
           "subunitcolor": "white"
          },
          "hoverlabel": {
           "align": "left"
          },
          "hovermode": "closest",
          "mapbox": {
           "style": "light"
          },
          "paper_bgcolor": "white",
          "plot_bgcolor": "#E5ECF6",
          "polar": {
           "angularaxis": {
            "gridcolor": "white",
            "linecolor": "white",
            "ticks": ""
           },
           "bgcolor": "#E5ECF6",
           "radialaxis": {
            "gridcolor": "white",
            "linecolor": "white",
            "ticks": ""
           }
          },
          "scene": {
           "xaxis": {
            "backgroundcolor": "#E5ECF6",
            "gridcolor": "white",
            "gridwidth": 2,
            "linecolor": "white",
            "showbackground": true,
            "ticks": "",
            "zerolinecolor": "white"
           },
           "yaxis": {
            "backgroundcolor": "#E5ECF6",
            "gridcolor": "white",
            "gridwidth": 2,
            "linecolor": "white",
            "showbackground": true,
            "ticks": "",
            "zerolinecolor": "white"
           },
           "zaxis": {
            "backgroundcolor": "#E5ECF6",
            "gridcolor": "white",
            "gridwidth": 2,
            "linecolor": "white",
            "showbackground": true,
            "ticks": "",
            "zerolinecolor": "white"
           }
          },
          "shapedefaults": {
           "line": {
            "color": "#2a3f5f"
           }
          },
          "ternary": {
           "aaxis": {
            "gridcolor": "white",
            "linecolor": "white",
            "ticks": ""
           },
           "baxis": {
            "gridcolor": "white",
            "linecolor": "white",
            "ticks": ""
           },
           "bgcolor": "#E5ECF6",
           "caxis": {
            "gridcolor": "white",
            "linecolor": "white",
            "ticks": ""
           }
          },
          "title": {
           "x": 0.05
          },
          "xaxis": {
           "automargin": true,
           "gridcolor": "white",
           "linecolor": "white",
           "ticks": "",
           "title": {
            "standoff": 15
           },
           "zerolinecolor": "white",
           "zerolinewidth": 2
          },
          "yaxis": {
           "automargin": true,
           "gridcolor": "white",
           "linecolor": "white",
           "ticks": "",
           "title": {
            "standoff": 15
           },
           "zerolinecolor": "white",
           "zerolinewidth": 2
          }
         }
        },
        "title": {
         "text": "Ratio of unique words to all words(hy)"
        },
        "xaxis": {
         "anchor": "y",
         "domain": [
          0,
          1
         ],
         "title": {
          "text": "Artist"
         }
        },
        "yaxis": {
         "anchor": "x",
         "domain": [
          0,
          1
         ],
         "title": {
          "text": "unique_tokens_ratio_hy"
         }
        }
       }
      },
      "text/html": [
       "<div>                            <div id=\"a101c034-7335-47ba-9698-67d91952d665\" class=\"plotly-graph-div\" style=\"height:525px; width:100%;\"></div>            <script type=\"text/javascript\">                require([\"plotly\"], function(Plotly) {                    window.PLOTLYENV=window.PLOTLYENV || {};                                    if (document.getElementById(\"a101c034-7335-47ba-9698-67d91952d665\")) {                    Plotly.newPlot(                        \"a101c034-7335-47ba-9698-67d91952d665\",                        [{\"alignmentgroup\":\"True\",\"hovertemplate\":\"Artist=%{x}<br>unique_tokens_ratio_hy=%{y}<extra></extra>\",\"legendgroup\":\"\",\"marker\":{\"color\":\"#636efa\"},\"name\":\"\",\"notched\":false,\"offsetgroup\":\"\",\"orientation\":\"v\",\"showlegend\":false,\"x\":[\"\\u0531\\u0550\\u0539\\u0548\\u0552\\u0550 \\u0544\\u0535\\u054d\\u0549\\u0545\\u0531\\u0546\",\"\\u0531\\u0550\\u0539\\u0548\\u0552\\u0550 \\u0544\\u0535\\u054d\\u0549\\u0545\\u0531\\u0546\",\"\\u0531\\u0550\\u0539\\u0548\\u0552\\u0550 \\u0544\\u0535\\u054d\\u0549\\u0545\\u0531\\u0546\",\"\\u0531\\u0550\\u0539\\u0548\\u0552\\u0550 \\u0544\\u0535\\u054d\\u0549\\u0545\\u0531\\u0546\",\"\\u0531\\u0550\\u0539\\u0548\\u0552\\u0550 \\u0544\\u0535\\u054d\\u0549\\u0545\\u0531\\u0546\",\"\\u0531\\u0550\\u0539\\u0548\\u0552\\u0550 \\u0544\\u0535\\u054d\\u0549\\u0545\\u0531\\u0546\",\"\\u0531\\u0550\\u0539\\u0548\\u0552\\u0550 \\u0544\\u0535\\u054d\\u0549\\u0545\\u0531\\u0546\",\"\\u0531\\u0550\\u0539\\u0548\\u0552\\u0550 \\u0544\\u0535\\u054d\\u0549\\u0545\\u0531\\u0546\",\"\\u0531\\u0550\\u0539\\u0548\\u0552\\u0550 \\u0544\\u0535\\u054d\\u0549\\u0545\\u0531\\u0546\",\"\\u0531\\u0550\\u0539\\u0548\\u0552\\u0550 \\u0544\\u0535\\u054d\\u0549\\u0545\\u0531\\u0546\",\"\\u0531\\u0550\\u0539\\u0548\\u0552\\u0550 \\u0544\\u0535\\u054d\\u0549\\u0545\\u0531\\u0546\",\"\\u0531\\u0550\\u0539\\u0548\\u0552\\u0550 \\u0544\\u0535\\u054d\\u0549\\u0545\\u0531\\u0546\",\"\\u0531\\u0550\\u0539\\u0548\\u0552\\u0550 \\u0544\\u0535\\u054d\\u0549\\u0545\\u0531\\u0546\",\"\\u0531\\u0550\\u0539\\u0548\\u0552\\u0550 \\u0544\\u0535\\u054d\\u0549\\u0545\\u0531\\u0546\",\"\\u0531\\u0550\\u0539\\u0548\\u0552\\u0550 \\u0544\\u0535\\u054d\\u0549\\u0545\\u0531\\u0546\",\"\\u0531\\u0550\\u0539\\u0548\\u0552\\u0550 \\u0544\\u0535\\u054d\\u0549\\u0545\\u0531\\u0546\",\"\\u0531\\u0550\\u0539\\u0548\\u0552\\u0550 \\u0544\\u0535\\u054d\\u0549\\u0545\\u0531\\u0546\",\"\\u0531\\u0550\\u0539\\u0548\\u0552\\u0550 \\u0544\\u0535\\u054d\\u0549\\u0545\\u0531\\u0546\",\"\\u0531\\u0550\\u0539\\u0548\\u0552\\u0550 \\u0544\\u0535\\u054d\\u0549\\u0545\\u0531\\u0546\",\"\\u0531\\u0550\\u0539\\u0548\\u0552\\u0550 \\u0544\\u0535\\u054d\\u0549\\u0545\\u0531\\u0546\",\"\\u0531\\u0550\\u0539\\u0548\\u0552\\u0550 \\u0544\\u0535\\u054d\\u0549\\u0545\\u0531\\u0546\",\"\\u0531\\u0550\\u0539\\u0548\\u0552\\u0550 \\u0544\\u0535\\u054d\\u0549\\u0545\\u0531\\u0546\",\"\\u0531\\u0550\\u0539\\u0548\\u0552\\u0550 \\u0544\\u0535\\u054d\\u0549\\u0545\\u0531\\u0546\",\"\\u0531\\u0550\\u0539\\u0548\\u0552\\u0550 \\u0544\\u0535\\u054d\\u0549\\u0545\\u0531\\u0546\",\"\\u0531\\u0550\\u0539\\u0548\\u0552\\u0550 \\u0544\\u0535\\u054d\\u0549\\u0545\\u0531\\u0546\",\"\\u0531\\u0550\\u0539\\u0548\\u0552\\u0550 \\u0544\\u0535\\u054d\\u0549\\u0545\\u0531\\u0546\",\"\\u0531\\u0550\\u0539\\u0548\\u0552\\u0550 \\u0544\\u0535\\u054d\\u0549\\u0545\\u0531\\u0546\",\"\\u0531\\u0550\\u0539\\u0548\\u0552\\u0550 \\u0544\\u0535\\u054d\\u0549\\u0545\\u0531\\u0546\",\"\\u0531\\u0550\\u0539\\u0548\\u0552\\u0550 \\u0544\\u0535\\u054d\\u0549\\u0545\\u0531\\u0546\",\"\\u0531\\u0550\\u0539\\u0548\\u0552\\u0550 \\u0544\\u0535\\u054d\\u0549\\u0545\\u0531\\u0546\",\"\\u0531\\u0550\\u0539\\u0548\\u0552\\u0550 \\u0544\\u0535\\u054d\\u0549\\u0545\\u0531\\u0546\",\"\\u0531\\u0550\\u0539\\u0548\\u0552\\u0550 \\u0544\\u0535\\u054d\\u0549\\u0545\\u0531\\u0546\",\"\\u0531\\u0550\\u0539\\u0548\\u0552\\u0550 \\u0544\\u0535\\u054d\\u0549\\u0545\\u0531\\u0546\",\"\\u0531\\u0550\\u0539\\u0548\\u0552\\u0550 \\u0544\\u0535\\u054d\\u0549\\u0545\\u0531\\u0546\",\"\\u0531\\u0550\\u0539\\u0548\\u0552\\u0550 \\u0544\\u0535\\u054d\\u0549\\u0545\\u0531\\u0546\",\"\\u0531\\u0550\\u0539\\u0548\\u0552\\u0550 \\u0544\\u0535\\u054d\\u0549\\u0545\\u0531\\u0546\",\"\\u0531\\u0550\\u0539\\u0548\\u0552\\u0550 \\u0544\\u0535\\u054d\\u0549\\u0545\\u0531\\u0546\",\"\\u0531\\u0550\\u0539\\u0548\\u0552\\u0550 \\u0544\\u0535\\u054d\\u0549\\u0545\\u0531\\u0546\",\"\\u0531\\u0550\\u0539\\u0548\\u0552\\u0550 \\u0544\\u0535\\u054d\\u0549\\u0545\\u0531\\u0546\",\"\\u0531\\u0550\\u0539\\u0548\\u0552\\u0550 \\u0544\\u0535\\u054d\\u0549\\u0545\\u0531\\u0546\",\"\\u0531\\u0550\\u0539\\u0548\\u0552\\u0550 \\u0544\\u0535\\u054d\\u0549\\u0545\\u0531\\u0546\",\"\\u0531\\u0550\\u0539\\u0548\\u0552\\u0550 \\u0544\\u0535\\u054d\\u0549\\u0545\\u0531\\u0546\",\"\\u0531\\u0550\\u0539\\u0548\\u0552\\u0550 \\u0544\\u0535\\u054d\\u0549\\u0545\\u0531\\u0546\",\"\\u0531\\u0550\\u0539\\u0548\\u0552\\u0550 \\u0544\\u0535\\u054d\\u0549\\u0545\\u0531\\u0546\",\"\\u0531\\u0550\\u0539\\u0548\\u0552\\u0550 \\u0544\\u0535\\u054d\\u0549\\u0545\\u0531\\u0546\",\"\\u0531\\u0550\\u0539\\u0548\\u0552\\u0550 \\u0544\\u0535\\u054d\\u0549\\u0545\\u0531\\u0546\",\"\\u0531\\u0550\\u0539\\u0548\\u0552\\u0550 \\u0544\\u0535\\u054d\\u0549\\u0545\\u0531\\u0546\",\"\\u0531\\u0550\\u0539\\u0548\\u0552\\u0550 \\u0544\\u0535\\u054d\\u0549\\u0545\\u0531\\u0546\",\"\\u0531\\u0550\\u0539\\u0548\\u0552\\u0550 \\u0544\\u0535\\u054d\\u0549\\u0545\\u0531\\u0546\",\"\\u0531\\u0550\\u0539\\u0548\\u0552\\u0550 \\u0544\\u0535\\u054d\\u0549\\u0545\\u0531\\u0546\",\"\\u054c\\u0548\\u0552\\u0532\\u0535\\u0546 \\u0540\\u0531\\u053d\\u054e\\u0535\\u0550\\u0534\\u0545\\u0531\\u0546\",\"\\u054c\\u0548\\u0552\\u0532\\u0535\\u0546 \\u0540\\u0531\\u053d\\u054e\\u0535\\u0550\\u0534\\u0545\\u0531\\u0546\",\"\\u054c\\u0548\\u0552\\u0532\\u0535\\u0546 \\u0540\\u0531\\u053d\\u054e\\u0535\\u0550\\u0534\\u0545\\u0531\\u0546\",\"\\u054c\\u0548\\u0552\\u0532\\u0535\\u0546 \\u0540\\u0531\\u053d\\u054e\\u0535\\u0550\\u0534\\u0545\\u0531\\u0546\",\"\\u054c\\u0548\\u0552\\u0532\\u0535\\u0546 \\u0540\\u0531\\u053d\\u054e\\u0535\\u0550\\u0534\\u0545\\u0531\\u0546\",\"\\u054c\\u0548\\u0552\\u0532\\u0535\\u0546 \\u0540\\u0531\\u053d\\u054e\\u0535\\u0550\\u0534\\u0545\\u0531\\u0546\",\"\\u054c\\u0548\\u0552\\u0532\\u0535\\u0546 \\u0540\\u0531\\u053d\\u054e\\u0535\\u0550\\u0534\\u0545\\u0531\\u0546\",\"\\u054c\\u0548\\u0552\\u0532\\u0535\\u0546 \\u0540\\u0531\\u053d\\u054e\\u0535\\u0550\\u0534\\u0545\\u0531\\u0546\",\"\\u054c\\u0548\\u0552\\u0532\\u0535\\u0546 \\u0540\\u0531\\u053d\\u054e\\u0535\\u0550\\u0534\\u0545\\u0531\\u0546\",\"\\u054c\\u0548\\u0552\\u0532\\u0535\\u0546 \\u0540\\u0531\\u053d\\u054e\\u0535\\u0550\\u0534\\u0545\\u0531\\u0546\",\"\\u054c\\u0548\\u0552\\u0532\\u0535\\u0546 \\u0540\\u0531\\u053d\\u054e\\u0535\\u0550\\u0534\\u0545\\u0531\\u0546\",\"\\u054c\\u0548\\u0552\\u0532\\u0535\\u0546 \\u0540\\u0531\\u053d\\u054e\\u0535\\u0550\\u0534\\u0545\\u0531\\u0546\",\"\\u054c\\u0548\\u0552\\u0532\\u0535\\u0546 \\u0540\\u0531\\u053d\\u054e\\u0535\\u0550\\u0534\\u0545\\u0531\\u0546\",\"\\u054c\\u0548\\u0552\\u0532\\u0535\\u0546 \\u0540\\u0531\\u053d\\u054e\\u0535\\u0550\\u0534\\u0545\\u0531\\u0546\",\"\\u054c\\u0548\\u0552\\u0532\\u0535\\u0546 \\u0540\\u0531\\u053d\\u054e\\u0535\\u0550\\u0534\\u0545\\u0531\\u0546\",\"\\u054c\\u0548\\u0552\\u0532\\u0535\\u0546 \\u0540\\u0531\\u053d\\u054e\\u0535\\u0550\\u0534\\u0545\\u0531\\u0546\",\"\\u054c\\u0548\\u0552\\u0532\\u0535\\u0546 \\u0540\\u0531\\u053d\\u054e\\u0535\\u0550\\u0534\\u0545\\u0531\\u0546\",\"\\u054c\\u0548\\u0552\\u0532\\u0535\\u0546 \\u0540\\u0531\\u053d\\u054e\\u0535\\u0550\\u0534\\u0545\\u0531\\u0546\",\"\\u054c\\u0548\\u0552\\u0532\\u0535\\u0546 \\u0540\\u0531\\u053d\\u054e\\u0535\\u0550\\u0534\\u0545\\u0531\\u0546\",\"\\u054c\\u0548\\u0552\\u0532\\u0535\\u0546 \\u0540\\u0531\\u053d\\u054e\\u0535\\u0550\\u0534\\u0545\\u0531\\u0546\",\"\\u054c\\u0548\\u0552\\u0532\\u0535\\u0546 \\u0540\\u0531\\u053d\\u054e\\u0535\\u0550\\u0534\\u0545\\u0531\\u0546\",\"\\u054c\\u0548\\u0552\\u0532\\u0535\\u0546 \\u0540\\u0531\\u053d\\u054e\\u0535\\u0550\\u0534\\u0545\\u0531\\u0546\",\"\\u054c\\u0548\\u0552\\u0532\\u0535\\u0546 \\u0540\\u0531\\u053d\\u054e\\u0535\\u0550\\u0534\\u0545\\u0531\\u0546\",\"\\u054c\\u0548\\u0552\\u0532\\u0535\\u0546 \\u0540\\u0531\\u053d\\u054e\\u0535\\u0550\\u0534\\u0545\\u0531\\u0546\",\"\\u054c\\u0548\\u0552\\u0532\\u0535\\u0546 \\u0540\\u0531\\u053d\\u054e\\u0535\\u0550\\u0534\\u0545\\u0531\\u0546\",\"\\u054c\\u0548\\u0552\\u0532\\u0535\\u0546 \\u0540\\u0531\\u053d\\u054e\\u0535\\u0550\\u0534\\u0545\\u0531\\u0546\",\"\\u054c\\u0548\\u0552\\u0532\\u0535\\u0546 \\u0540\\u0531\\u053d\\u054e\\u0535\\u0550\\u0534\\u0545\\u0531\\u0546\",\"\\u054c\\u0548\\u0552\\u0532\\u0535\\u0546 \\u0540\\u0531\\u053d\\u054e\\u0535\\u0550\\u0534\\u0545\\u0531\\u0546\",\"\\u054c\\u0548\\u0552\\u0532\\u0535\\u0546 \\u0540\\u0531\\u053d\\u054e\\u0535\\u0550\\u0534\\u0545\\u0531\\u0546\",\"\\u054c\\u0548\\u0552\\u0532\\u0535\\u0546 \\u0540\\u0531\\u053d\\u054e\\u0535\\u0550\\u0534\\u0545\\u0531\\u0546\",\"\\u054c\\u0548\\u0552\\u0532\\u0535\\u0546 \\u0540\\u0531\\u053d\\u054e\\u0535\\u0550\\u0534\\u0545\\u0531\\u0546\",\"\\u054c\\u0548\\u0552\\u0532\\u0535\\u0546 \\u0540\\u0531\\u053d\\u054e\\u0535\\u0550\\u0534\\u0545\\u0531\\u0546\",\"\\u054c\\u0548\\u0552\\u0532\\u0535\\u0546 \\u0540\\u0531\\u053d\\u054e\\u0535\\u0550\\u0534\\u0545\\u0531\\u0546\",\"\\u054c\\u0548\\u0552\\u0532\\u0535\\u0546 \\u0540\\u0531\\u053d\\u054e\\u0535\\u0550\\u0534\\u0545\\u0531\\u0546\",\"\\u054c\\u0548\\u0552\\u0532\\u0535\\u0546 \\u0540\\u0531\\u053d\\u054e\\u0535\\u0550\\u0534\\u0545\\u0531\\u0546\",\"\\u054c\\u0548\\u0552\\u0532\\u0535\\u0546 \\u0540\\u0531\\u053d\\u054e\\u0535\\u0550\\u0534\\u0545\\u0531\\u0546\",\"\\u054c\\u0548\\u0552\\u0532\\u0535\\u0546 \\u0540\\u0531\\u053d\\u054e\\u0535\\u0550\\u0534\\u0545\\u0531\\u0546\",\"\\u054c\\u0548\\u0552\\u0532\\u0535\\u0546 \\u0540\\u0531\\u053d\\u054e\\u0535\\u0550\\u0534\\u0545\\u0531\\u0546\",\"\\u054c\\u0548\\u0552\\u0532\\u0535\\u0546 \\u0540\\u0531\\u053d\\u054e\\u0535\\u0550\\u0534\\u0545\\u0531\\u0546\",\"\\u054c\\u0548\\u0552\\u0532\\u0535\\u0546 \\u0540\\u0531\\u053d\\u054e\\u0535\\u0550\\u0534\\u0545\\u0531\\u0546\",\"\\u054c\\u0548\\u0552\\u0532\\u0535\\u0546 \\u0540\\u0531\\u053d\\u054e\\u0535\\u0550\\u0534\\u0545\\u0531\\u0546\",\"\\u054c\\u0548\\u0552\\u0532\\u0535\\u0546 \\u0540\\u0531\\u053d\\u054e\\u0535\\u0550\\u0534\\u0545\\u0531\\u0546\",\"\\u054c\\u0548\\u0552\\u0532\\u0535\\u0546 \\u0540\\u0531\\u053d\\u054e\\u0535\\u0550\\u0534\\u0545\\u0531\\u0546\",\"\\u054c\\u0548\\u0552\\u0532\\u0535\\u0546 \\u0540\\u0531\\u053d\\u054e\\u0535\\u0550\\u0534\\u0545\\u0531\\u0546\",\"\\u054c\\u0548\\u0552\\u0532\\u0535\\u0546 \\u0540\\u0531\\u053d\\u054e\\u0535\\u0550\\u0534\\u0545\\u0531\\u0546\",\"\\u054c\\u0548\\u0552\\u0532\\u0535\\u0546 \\u0540\\u0531\\u053d\\u054e\\u0535\\u0550\\u0534\\u0545\\u0531\\u0546\",\"\\u054c\\u0548\\u0552\\u0532\\u0535\\u0546 \\u0540\\u0531\\u053d\\u054e\\u0535\\u0550\\u0534\\u0545\\u0531\\u0546\",\"\\u054c\\u0548\\u0552\\u0532\\u0535\\u0546 \\u0540\\u0531\\u053d\\u054e\\u0535\\u0550\\u0534\\u0545\\u0531\\u0546\",\"\\u054c\\u0548\\u0552\\u0532\\u0535\\u0546 \\u0540\\u0531\\u053d\\u054e\\u0535\\u0550\\u0534\\u0545\\u0531\\u0546\",\"\\u054c\\u0548\\u0552\\u0532\\u0535\\u0546 \\u0540\\u0531\\u053d\\u054e\\u0535\\u0550\\u0534\\u0545\\u0531\\u0546\",\"\\u054c\\u0548\\u0552\\u0532\\u0535\\u0546 \\u0540\\u0531\\u053d\\u054e\\u0535\\u0550\\u0534\\u0545\\u0531\\u0546\",\"\\u054c\\u0548\\u0552\\u0532\\u0535\\u0546 \\u0540\\u0531\\u053d\\u054e\\u0535\\u0550\\u0534\\u0545\\u0531\\u0546\",\"\\u054c\\u0548\\u0552\\u0532\\u0535\\u0546 \\u0540\\u0531\\u053d\\u054e\\u0535\\u0550\\u0534\\u0545\\u0531\\u0546\",\"\\u054c\\u0548\\u0552\\u0532\\u0535\\u0546 \\u0540\\u0531\\u053d\\u054e\\u0535\\u0550\\u0534\\u0545\\u0531\\u0546\",\"\\u054c\\u0548\\u0552\\u0532\\u0535\\u0546 \\u0540\\u0531\\u053d\\u054e\\u0535\\u0550\\u0534\\u0545\\u0531\\u0546\",\"\\u054c\\u0548\\u0552\\u0532\\u0535\\u0546 \\u0540\\u0531\\u053d\\u054e\\u0535\\u0550\\u0534\\u0545\\u0531\\u0546\",\"\\u054c\\u0548\\u0552\\u0532\\u0535\\u0546 \\u0540\\u0531\\u053d\\u054e\\u0535\\u0550\\u0534\\u0545\\u0531\\u0546\",\"\\u054c\\u0548\\u0552\\u0532\\u0535\\u0546 \\u0540\\u0531\\u053d\\u054e\\u0535\\u0550\\u0534\\u0545\\u0531\\u0546\",\"\\u054c\\u0548\\u0552\\u0532\\u0535\\u0546 \\u0540\\u0531\\u053d\\u054e\\u0535\\u0550\\u0534\\u0545\\u0531\\u0546\",\"\\u054c\\u0548\\u0552\\u0532\\u0535\\u0546 \\u0540\\u0531\\u053d\\u054e\\u0535\\u0550\\u0534\\u0545\\u0531\\u0546\",\"\\u054c\\u0548\\u0552\\u0532\\u0535\\u0546 \\u0540\\u0531\\u053d\\u054e\\u0535\\u0550\\u0534\\u0545\\u0531\\u0546\",\"\\u054c\\u0548\\u0552\\u0532\\u0535\\u0546 \\u0540\\u0531\\u053d\\u054e\\u0535\\u0550\\u0534\\u0545\\u0531\\u0546\",\"\\u054c\\u0548\\u0552\\u0532\\u0535\\u0546 \\u0540\\u0531\\u053d\\u054e\\u0535\\u0550\\u0534\\u0545\\u0531\\u0546\",\"\\u054c\\u0548\\u0552\\u0532\\u0535\\u0546 \\u0540\\u0531\\u053d\\u054e\\u0535\\u0550\\u0534\\u0545\\u0531\\u0546\",\"\\u054c\\u0548\\u0552\\u0532\\u0535\\u0546 \\u0540\\u0531\\u053d\\u054e\\u0535\\u0550\\u0534\\u0545\\u0531\\u0546\",\"\\u054c\\u0548\\u0552\\u0532\\u0535\\u0546 \\u0540\\u0531\\u053d\\u054e\\u0535\\u0550\\u0534\\u0545\\u0531\\u0546\",\"\\u054c\\u0548\\u0552\\u0532\\u0535\\u0546 \\u0540\\u0531\\u053d\\u054e\\u0535\\u0550\\u0534\\u0545\\u0531\\u0546\",\"\\u054c\\u0548\\u0552\\u0532\\u0535\\u0546 \\u0540\\u0531\\u053d\\u054e\\u0535\\u0550\\u0534\\u0545\\u0531\\u0546\",\"\\u054c\\u0548\\u0552\\u0532\\u0535\\u0546 \\u0540\\u0531\\u053d\\u054e\\u0535\\u0550\\u0534\\u0545\\u0531\\u0546\",\"\\u054c\\u0548\\u0552\\u0532\\u0535\\u0546 \\u0540\\u0531\\u053d\\u054e\\u0535\\u0550\\u0534\\u0545\\u0531\\u0546\",\"\\u054c\\u0548\\u0552\\u0532\\u0535\\u0546 \\u0540\\u0531\\u053d\\u054e\\u0535\\u0550\\u0534\\u0545\\u0531\\u0546\",\"\\u054c\\u0548\\u0552\\u0532\\u0535\\u0546 \\u0540\\u0531\\u053d\\u054e\\u0535\\u0550\\u0534\\u0545\\u0531\\u0546\",\"\\u054c\\u0548\\u0552\\u0532\\u0535\\u0546 \\u0540\\u0531\\u053d\\u054e\\u0535\\u0550\\u0534\\u0545\\u0531\\u0546\",\"\\u054c\\u0548\\u0552\\u0532\\u0535\\u0546 \\u0540\\u0531\\u053d\\u054e\\u0535\\u0550\\u0534\\u0545\\u0531\\u0546\",\"\\u054c\\u0548\\u0552\\u0532\\u0535\\u0546 \\u0540\\u0531\\u053d\\u054e\\u0535\\u0550\\u0534\\u0545\\u0531\\u0546\",\"\\u054c\\u0548\\u0552\\u0532\\u0535\\u0546 \\u0540\\u0531\\u053d\\u054e\\u0535\\u0550\\u0534\\u0545\\u0531\\u0546\",\"\\u054c\\u0548\\u0552\\u0532\\u0535\\u0546 \\u0540\\u0531\\u053d\\u054e\\u0535\\u0550\\u0534\\u0545\\u0531\\u0546\",\"\\u054c\\u0548\\u0552\\u0532\\u0535\\u0546 \\u0540\\u0531\\u053d\\u054e\\u0535\\u0550\\u0534\\u0545\\u0531\\u0546\",\"\\u054c\\u0548\\u0552\\u0532\\u0535\\u0546 \\u0540\\u0531\\u053d\\u054e\\u0535\\u0550\\u0534\\u0545\\u0531\\u0546\",\"\\u054c\\u0548\\u0552\\u0532\\u0535\\u0546 \\u0540\\u0531\\u053d\\u054e\\u0535\\u0550\\u0534\\u0545\\u0531\\u0546\",\"\\u054c\\u0548\\u0552\\u0532\\u0535\\u0546 \\u0540\\u0531\\u053d\\u054e\\u0535\\u0550\\u0534\\u0545\\u0531\\u0546\",\"\\u054d\\u0531\\u0545\\u0531\\u0539-\\u0546\\u0548\\u054e\\u0531\",\"\\u054d\\u0531\\u0545\\u0531\\u0539-\\u0546\\u0548\\u054e\\u0531\",\"\\u054d\\u0531\\u0545\\u0531\\u0539-\\u0546\\u0548\\u054e\\u0531\",\"\\u054d\\u0531\\u0545\\u0531\\u0539-\\u0546\\u0548\\u054e\\u0531\",\"\\u054d\\u0531\\u0545\\u0531\\u0539-\\u0546\\u0548\\u054e\\u0531\",\"\\u054d\\u0531\\u0545\\u0531\\u0539-\\u0546\\u0548\\u054e\\u0531\",\"\\u054d\\u0531\\u0545\\u0531\\u0539-\\u0546\\u0548\\u054e\\u0531\",\"\\u054d\\u0531\\u0545\\u0531\\u0539-\\u0546\\u0548\\u054e\\u0531\",\"\\u054d\\u0531\\u0545\\u0531\\u0539-\\u0546\\u0548\\u054e\\u0531\",\"\\u054d\\u0531\\u0545\\u0531\\u0539-\\u0546\\u0548\\u054e\\u0531\",\"\\u054d\\u0531\\u0545\\u0531\\u0539-\\u0546\\u0548\\u054e\\u0531\",\"\\u054d\\u0531\\u0545\\u0531\\u0539-\\u0546\\u0548\\u054e\\u0531\",\"\\u054d\\u0531\\u0545\\u0531\\u0539-\\u0546\\u0548\\u054e\\u0531\",\"\\u054d\\u0531\\u0545\\u0531\\u0539-\\u0546\\u0548\\u054e\\u0531\",\"\\u054d\\u0531\\u0545\\u0531\\u0539-\\u0546\\u0548\\u054e\\u0531\",\"\\u054d\\u0531\\u0545\\u0531\\u0539-\\u0546\\u0548\\u054e\\u0531\",\"\\u053f\\u0548\\u0544\\u053b\\u054f\\u0531\\u054d\",\"\\u053f\\u0548\\u0544\\u053b\\u054f\\u0531\\u054d\",\"\\u053f\\u0548\\u0544\\u053b\\u054f\\u0531\\u054d\",\"\\u053f\\u0548\\u0544\\u053b\\u054f\\u0531\\u054d\",\"\\u053f\\u0548\\u0544\\u053b\\u054f\\u0531\\u054d\",\"\\u053f\\u0548\\u0544\\u053b\\u054f\\u0531\\u054d\",\"\\u053f\\u0548\\u0544\\u053b\\u054f\\u0531\\u054d\",\"\\u053f\\u0548\\u0544\\u053b\\u054f\\u0531\\u054d\",\"\\u053f\\u0548\\u0544\\u053b\\u054f\\u0531\\u054d\",\"\\u053f\\u0548\\u0544\\u053b\\u054f\\u0531\\u054d\",\"\\u053f\\u0548\\u0544\\u053b\\u054f\\u0531\\u054d\",\"\\u053f\\u0548\\u0544\\u053b\\u054f\\u0531\\u054d\",\"\\u053f\\u0548\\u0544\\u053b\\u054f\\u0531\\u054d\",\"\\u053f\\u0548\\u0544\\u053b\\u054f\\u0531\\u054d\",\"\\u053f\\u0548\\u0544\\u053b\\u054f\\u0531\\u054d\",\"\\u053f\\u0548\\u0544\\u053b\\u054f\\u0531\\u054d\",\"\\u053f\\u0548\\u0544\\u053b\\u054f\\u0531\\u054d\",\"\\u053f\\u0548\\u0544\\u053b\\u054f\\u0531\\u054d\",\"\\u053f\\u0548\\u0544\\u053b\\u054f\\u0531\\u054d\",\"\\u053f\\u0548\\u0544\\u053b\\u054f\\u0531\\u054d\",\"\\u053f\\u0548\\u0544\\u053b\\u054f\\u0531\\u054d\",\"\\u053f\\u0548\\u0544\\u053b\\u054f\\u0531\\u054d\",\"\\u053f\\u0548\\u0544\\u053b\\u054f\\u0531\\u054d\",\"\\u053f\\u0548\\u0544\\u053b\\u054f\\u0531\\u054d\",\"\\u053f\\u0548\\u0544\\u053b\\u054f\\u0531\\u054d\",\"\\u053f\\u0548\\u0544\\u053b\\u054f\\u0531\\u054d\",\"\\u053f\\u0548\\u0544\\u053b\\u054f\\u0531\\u054d\",\"\\u053f\\u0548\\u0544\\u053b\\u054f\\u0531\\u054d\",\"\\u053f\\u0548\\u0544\\u053b\\u054f\\u0531\\u054d\",\"\\u053f\\u0548\\u0544\\u053b\\u054f\\u0531\\u054d\",\"\\u053f\\u0548\\u0544\\u053b\\u054f\\u0531\\u054d\",\"\\u053f\\u0548\\u0544\\u053b\\u054f\\u0531\\u054d\",\"\\u053f\\u0548\\u0544\\u053b\\u054f\\u0531\\u054d\",\"\\u053f\\u0548\\u0544\\u053b\\u054f\\u0531\\u054d\",\"\\u053f\\u0548\\u0544\\u053b\\u054f\\u0531\\u054d\",\"\\u053f\\u0548\\u0544\\u053b\\u054f\\u0531\\u054d\",\"\\u053f\\u0548\\u0544\\u053b\\u054f\\u0531\\u054d\",\"\\u053f\\u0548\\u0544\\u053b\\u054f\\u0531\\u054d\",\"\\u053f\\u0548\\u0544\\u053b\\u054f\\u0531\\u054d\",\"\\u053f\\u0548\\u0544\\u053b\\u054f\\u0531\\u054d\",\"\\u053f\\u0548\\u0544\\u053b\\u054f\\u0531\\u054d\",\"\\u053f\\u0548\\u0544\\u053b\\u054f\\u0531\\u054d\",\"\\u053f\\u0548\\u0544\\u053b\\u054f\\u0531\\u054d\",\"\\u053f\\u0548\\u0544\\u053b\\u054f\\u0531\\u054d\",\"\\u053f\\u0548\\u0544\\u053b\\u054f\\u0531\\u054d\",\"\\u053f\\u0548\\u0544\\u053b\\u054f\\u0531\\u054d\",\"\\u053f\\u0548\\u0544\\u053b\\u054f\\u0531\\u054d\",\"\\u053f\\u0548\\u0544\\u053b\\u054f\\u0531\\u054d\",\"\\u053f\\u0548\\u0544\\u053b\\u054f\\u0531\\u054d\",\"\\u053f\\u0548\\u0544\\u053b\\u054f\\u0531\\u054d\",\"\\u053f\\u0548\\u0544\\u053b\\u054f\\u0531\\u054d\",\"\\u053f\\u0548\\u0544\\u053b\\u054f\\u0531\\u054d\",\"\\u053f\\u0548\\u0544\\u053b\\u054f\\u0531\\u054d\",\"\\u053f\\u0548\\u0544\\u053b\\u054f\\u0531\\u054d\",\"\\u053f\\u0548\\u0544\\u053b\\u054f\\u0531\\u054d\",\"\\u053f\\u0548\\u0544\\u053b\\u054f\\u0531\\u054d\",\"\\u053f\\u0548\\u0544\\u053b\\u054f\\u0531\\u054d\",\"\\u053f\\u0548\\u0544\\u053b\\u054f\\u0531\\u054d\",\"\\u053f\\u0548\\u0544\\u053b\\u054f\\u0531\\u054d\",\"\\u053f\\u0548\\u0544\\u053b\\u054f\\u0531\\u054d\",\"\\u053f\\u0548\\u0544\\u053b\\u054f\\u0531\\u054d\",\"\\u053f\\u0548\\u0544\\u053b\\u054f\\u0531\\u054d\",\"HT Hayko\",\"HT Hayko\",\"HT Hayko\",\"HT Hayko\",\"HT Hayko\",\"HT Hayko\",\"HT Hayko\",\"HT Hayko\",\"HT Hayko\",\"HT Hayko\",\"HT Hayko\",\"HT Hayko\",\"HT Hayko\",\"HT Hayko\",\"HT Hayko\",\"HT Hayko\",\"Empyray\",\"Empyray\",\"Empyray\",\"Empyray\",\"Empyray\",\"Empyray\",\"Empyray\",\"Empyray\",\"Empyray\",\"Empyray\",\" Lav Eli\",\" Lav Eli\",\" Lav Eli\",\" Lav Eli\",\" Lav Eli\",\" Lav Eli\",\" Lav Eli\",\" Lav Eli\",\" Lav Eli\",\"Silva Hakobyan\",\"Silva Hakobyan\",\"Silva Hakobyan\",\"Silva Hakobyan\",\"Silva Hakobyan\",\"Silva Hakobyan\",\"Silva Hakobyan\",\"Silva Hakobyan\",\"Silva Hakobyan\",\"Silva Hakobyan\",\"Silva Hakobyan\",\"Silva Hakobyan\",\"Silva Hakobyan\",\"Silva Hakobyan\",\"Silva Hakobyan\",\"Silva Hakobyan\",\"Silva Hakobyan\",\"Silva Hakobyan\",\"Silva Hakobyan\",\"Silva Hakobyan\",\"\\u0531\\u0576\\u0564\\u0580\\u0565\",\"\\u0531\\u0576\\u0564\\u0580\\u0565\",\"\\u0531\\u0576\\u0564\\u0580\\u0565\",\"\\u0531\\u0576\\u0564\\u0580\\u0565\",\"\\u0531\\u0576\\u0564\\u0580\\u0565\",\"\\u0531\\u0576\\u0564\\u0580\\u0565\",\"\\u0531\\u0576\\u0564\\u0580\\u0565\",\"\\u0531\\u0576\\u0564\\u0580\\u0565\",\"\\u0531\\u0576\\u0564\\u0580\\u0565\",\"\\u0531\\u0576\\u0564\\u0580\\u0565\",\"\\u0531\\u0576\\u0564\\u0580\\u0565\",\"\\u0531\\u0576\\u0564\\u0580\\u0565\",\"\\u053c\\u056b\\u056c\\u056b\\u0569 \\u0540\\u0578\\u057e\\u0570\\u0561\\u0576\\u0576\\u056b\\u057d\\u0575\\u0561\\u0576\",\"\\u053c\\u056b\\u056c\\u056b\\u0569 \\u0540\\u0578\\u057e\\u0570\\u0561\\u0576\\u0576\\u056b\\u057d\\u0575\\u0561\\u0576\",\"\\u053c\\u056b\\u056c\\u056b\\u0569 \\u0540\\u0578\\u057e\\u0570\\u0561\\u0576\\u0576\\u056b\\u057d\\u0575\\u0561\\u0576\",\"\\u053c\\u056b\\u056c\\u056b\\u0569 \\u0540\\u0578\\u057e\\u0570\\u0561\\u0576\\u0576\\u056b\\u057d\\u0575\\u0561\\u0576\",\"\\u053c\\u056b\\u056c\\u056b\\u0569 \\u0540\\u0578\\u057e\\u0570\\u0561\\u0576\\u0576\\u056b\\u057d\\u0575\\u0561\\u0576\",\"\\u053c\\u056b\\u056c\\u056b\\u0569 \\u0540\\u0578\\u057e\\u0570\\u0561\\u0576\\u0576\\u056b\\u057d\\u0575\\u0561\\u0576\",\"\\u053c\\u056b\\u056c\\u056b\\u0569 \\u0540\\u0578\\u057e\\u0570\\u0561\\u0576\\u0576\\u056b\\u057d\\u0575\\u0561\\u0576\",\"\\u053c\\u056b\\u056c\\u056b\\u0569 \\u0540\\u0578\\u057e\\u0570\\u0561\\u0576\\u0576\\u056b\\u057d\\u0575\\u0561\\u0576\",\"\\u053c\\u056b\\u056c\\u056b\\u0569 \\u0540\\u0578\\u057e\\u0570\\u0561\\u0576\\u0576\\u056b\\u057d\\u0575\\u0561\\u0576\",\"\\u053c\\u056b\\u056c\\u056b\\u0569 \\u0540\\u0578\\u057e\\u0570\\u0561\\u0576\\u0576\\u056b\\u057d\\u0575\\u0561\\u0576\",\"\\u053c\\u056b\\u056c\\u056b\\u0569 \\u0540\\u0578\\u057e\\u0570\\u0561\\u0576\\u0576\\u056b\\u057d\\u0575\\u0561\\u0576\",\"\\u053c\\u056b\\u056c\\u056b\\u0569 \\u0540\\u0578\\u057e\\u0570\\u0561\\u0576\\u0576\\u056b\\u057d\\u0575\\u0561\\u0576\",\"\\u053c\\u056b\\u056c\\u056b\\u0569 \\u0540\\u0578\\u057e\\u0570\\u0561\\u0576\\u0576\\u056b\\u057d\\u0575\\u0561\\u0576\",\"\\u053c\\u056b\\u056c\\u056b\\u0569 \\u0540\\u0578\\u057e\\u0570\\u0561\\u0576\\u0576\\u056b\\u057d\\u0575\\u0561\\u0576\",\"\\u053c\\u056b\\u056c\\u056b\\u0569 \\u0540\\u0578\\u057e\\u0570\\u0561\\u0576\\u0576\\u056b\\u057d\\u0575\\u0561\\u0576\",\"\\u053c\\u056b\\u056c\\u056b\\u0569 \\u0540\\u0578\\u057e\\u0570\\u0561\\u0576\\u0576\\u056b\\u057d\\u0575\\u0561\\u0576\",\"\\u053c\\u056b\\u056c\\u056b\\u0569 \\u0540\\u0578\\u057e\\u0570\\u0561\\u0576\\u0576\\u056b\\u057d\\u0575\\u0561\\u0576\",\"\\u053c\\u056b\\u056c\\u056b\\u0569 \\u0540\\u0578\\u057e\\u0570\\u0561\\u0576\\u0576\\u056b\\u057d\\u0575\\u0561\\u0576\",\"\\u053c\\u056b\\u056c\\u056b\\u0569 \\u0540\\u0578\\u057e\\u0570\\u0561\\u0576\\u0576\\u056b\\u057d\\u0575\\u0561\\u0576\",\"\\u053c\\u056b\\u056c\\u056b\\u0569 \\u0540\\u0578\\u057e\\u0570\\u0561\\u0576\\u0576\\u056b\\u057d\\u0575\\u0561\\u0576\",\"\\u053c\\u056b\\u056c\\u056b\\u0569 \\u0540\\u0578\\u057e\\u0570\\u0561\\u0576\\u0576\\u056b\\u057d\\u0575\\u0561\\u0576\",\"\\u053c\\u056b\\u056c\\u056b\\u0569 \\u0540\\u0578\\u057e\\u0570\\u0561\\u0576\\u0576\\u056b\\u057d\\u0575\\u0561\\u0576\",\"\\u053c\\u056b\\u056c\\u056b\\u0569 \\u0540\\u0578\\u057e\\u0570\\u0561\\u0576\\u0576\\u056b\\u057d\\u0575\\u0561\\u0576\",\"\\u053c\\u056b\\u056c\\u056b\\u0569 \\u0540\\u0578\\u057e\\u0570\\u0561\\u0576\\u0576\\u056b\\u057d\\u0575\\u0561\\u0576\",\"\\u054d\\u056b\\u0580\\u0578\\u0582\\u0577\\u0578\",\"\\u054d\\u056b\\u0580\\u0578\\u0582\\u0577\\u0578\",\"\\u054d\\u056b\\u0580\\u0578\\u0582\\u0577\\u0578\",\"\\u054d\\u056b\\u0580\\u0578\\u0582\\u0577\\u0578\",\"\\u054d\\u056b\\u0580\\u0578\\u0582\\u0577\\u0578\",\"\\u054d\\u056b\\u0580\\u0578\\u0582\\u0577\\u0578\",\"\\u054d\\u056b\\u0580\\u0578\\u0582\\u0577\\u0578\",\"\\u054d\\u056b\\u0580\\u0578\\u0582\\u0577\\u0578\",\"\\u054d\\u056b\\u0580\\u0578\\u0582\\u0577\\u0578\",\"\\u054d\\u056b\\u0580\\u0578\\u0582\\u0577\\u0578\",\"\\u054d\\u056b\\u0580\\u0578\\u0582\\u0577\\u0578\",\"\\u054d\\u056b\\u0580\\u0578\\u0582\\u0577\\u0578\",\"\\u054d\\u056b\\u0580\\u0578\\u0582\\u0577\\u0578\",\"\\u054d\\u056b\\u0580\\u0578\\u0582\\u0577\\u0578\",\"\\u054d\\u056b\\u0580\\u0578\\u0582\\u0577\\u0578\",\"\\u054d\\u056b\\u0580\\u0578\\u0582\\u0577\\u0578\",\"\\u054d\\u056b\\u0580\\u0578\\u0582\\u0577\\u0578\",\"\\u054d\\u056b\\u0580\\u0578\\u0582\\u0577\\u0578\",\"\\u054d\\u056b\\u0580\\u0578\\u0582\\u0577\\u0578\",\"\\u054d\\u056b\\u0580\\u0578\\u0582\\u0577\\u0578\",\"\\u054d\\u056b\\u0580\\u0578\\u0582\\u0577\\u0578\",\"\\u054d\\u056b\\u0580\\u0578\\u0582\\u0577\\u0578\",\"\\u054d\\u056b\\u0580\\u0578\\u0582\\u0577\\u0578\",\"\\u054d\\u056b\\u0580\\u0578\\u0582\\u0577\\u0578\",\"\\u054d\\u056b\\u0580\\u0578\\u0582\\u0577\\u0578\",\"\\u0544\\u056b\\u0570\\u0580\\u0561\\u0576 \\u053e\\u0561\\u057c\\u0578\\u0582\\u056f\\u0575\\u0561\\u0576\",\"\\u0544\\u056b\\u0570\\u0580\\u0561\\u0576 \\u053e\\u0561\\u057c\\u0578\\u0582\\u056f\\u0575\\u0561\\u0576\",\"\\u0544\\u056b\\u0570\\u0580\\u0561\\u0576 \\u053e\\u0561\\u057c\\u0578\\u0582\\u056f\\u0575\\u0561\\u0576\",\"\\u0544\\u056b\\u0570\\u0580\\u0561\\u0576 \\u053e\\u0561\\u057c\\u0578\\u0582\\u056f\\u0575\\u0561\\u0576\",\"\\u0544\\u056b\\u0570\\u0580\\u0561\\u0576 \\u053e\\u0561\\u057c\\u0578\\u0582\\u056f\\u0575\\u0561\\u0576\",\"\\u0544\\u056b\\u0570\\u0580\\u0561\\u0576 \\u053e\\u0561\\u057c\\u0578\\u0582\\u056f\\u0575\\u0561\\u0576\",\"\\u0544\\u056b\\u0570\\u0580\\u0561\\u0576 \\u053e\\u0561\\u057c\\u0578\\u0582\\u056f\\u0575\\u0561\\u0576\",\"\\u0544\\u056b\\u0570\\u0580\\u0561\\u0576 \\u053e\\u0561\\u057c\\u0578\\u0582\\u056f\\u0575\\u0561\\u0576\",\"\\u0544\\u056b\\u0570\\u0580\\u0561\\u0576 \\u053e\\u0561\\u057c\\u0578\\u0582\\u056f\\u0575\\u0561\\u0576\",\"\\u0544\\u056b\\u0570\\u0580\\u0561\\u0576 \\u053e\\u0561\\u057c\\u0578\\u0582\\u056f\\u0575\\u0561\\u0576\",\"\\u0544\\u056b\\u0570\\u0580\\u0561\\u0576 \\u053e\\u0561\\u057c\\u0578\\u0582\\u056f\\u0575\\u0561\\u0576\",\"\\u0544\\u056b\\u0570\\u0580\\u0561\\u0576 \\u053e\\u0561\\u057c\\u0578\\u0582\\u056f\\u0575\\u0561\\u0576\",\"\\u0544\\u056b\\u0570\\u0580\\u0561\\u0576 \\u053e\\u0561\\u057c\\u0578\\u0582\\u056f\\u0575\\u0561\\u0576\",\"\\u0544\\u056b\\u0570\\u0580\\u0561\\u0576 \\u053e\\u0561\\u057c\\u0578\\u0582\\u056f\\u0575\\u0561\\u0576\",\"\\u0544\\u056b\\u0570\\u0580\\u0561\\u0576 \\u053e\\u0561\\u057c\\u0578\\u0582\\u056f\\u0575\\u0561\\u0576\",\"\\u0544\\u056b\\u0570\\u0580\\u0561\\u0576 \\u053e\\u0561\\u057c\\u0578\\u0582\\u056f\\u0575\\u0561\\u0576\",\"\\u0544\\u056b\\u0570\\u0580\\u0561\\u0576 \\u053e\\u0561\\u057c\\u0578\\u0582\\u056f\\u0575\\u0561\\u0576\",\"\\u0544\\u056b\\u0570\\u0580\\u0561\\u0576 \\u053e\\u0561\\u057c\\u0578\\u0582\\u056f\\u0575\\u0561\\u0576\",\"Arame\",\"Arame\",\"Arame\",\"Arame\",\"Arame\",\"Arame\",\"Arame\",\"Arame\",\"Arame\",\"Razmik Amyan\",\"Razmik Amyan\",\"Razmik Amyan\",\"Razmik Amyan\",\"Razmik Amyan\",\"Razmik Amyan\",\"Razmik Amyan\",\"Razmik Amyan\",\"Razmik Amyan\",\"Razmik Amyan\",\"Razmik Amyan\",\"Razmik Amyan\",\"Razmik Amyan\",\"Razmik Amyan\",\"Razmik Amyan\",\"Razmik Amyan\",\"Razmik Amyan\",\"Razmik Amyan\",\"Harout Pamboukjian\",\"Harout Pamboukjian\",\"Harout Pamboukjian\",\"Harout Pamboukjian\",\"Harout Pamboukjian\",\"Harout Pamboukjian\",\"Harout Pamboukjian\",\"Harout Pamboukjian\",\"Harout Pamboukjian\",\"Harout Pamboukjian\",\"Harout Pamboukjian\",\"Harout Pamboukjian\",\"Harout Pamboukjian\",\"Harout Pamboukjian\",\"Harout Pamboukjian\",\"Harout Pamboukjian\",\"Harout Pamboukjian\",\"Harout Pamboukjian\",\"Harout Pamboukjian\",\"Harout Pamboukjian\",\"Harout Pamboukjian\",\"Harout Pamboukjian\",\"Harout Pamboukjian\",\"Harout Pamboukjian\",\"Harout Pamboukjian\",\"Harout Pamboukjian\",\"Harout Pamboukjian\",\"Harout Pamboukjian\",\"Harout Pamboukjian\",\"Harout Pamboukjian\",\"Harout Pamboukjian\",\"Harout Pamboukjian\",\"\\u0540\\u0561\\u0575\\u056f \\u0540\\u0561\\u056f\\u0578\\u0562\\u0575\\u0561\\u0576\",\"\\u0540\\u0561\\u0575\\u056f \\u0540\\u0561\\u056f\\u0578\\u0562\\u0575\\u0561\\u0576\",\"\\u0540\\u0561\\u0575\\u056f \\u0540\\u0561\\u056f\\u0578\\u0562\\u0575\\u0561\\u0576\",\"\\u0540\\u0561\\u0575\\u056f \\u0540\\u0561\\u056f\\u0578\\u0562\\u0575\\u0561\\u0576\",\"\\u0540\\u0561\\u0575\\u056f \\u0540\\u0561\\u056f\\u0578\\u0562\\u0575\\u0561\\u0576\",\"\\u0540\\u0561\\u0575\\u056f \\u0540\\u0561\\u056f\\u0578\\u0562\\u0575\\u0561\\u0576\",\"\\u0540\\u0561\\u0575\\u056f \\u0540\\u0561\\u056f\\u0578\\u0562\\u0575\\u0561\\u0576\",\"\\u0540\\u0561\\u0575\\u056f \\u0540\\u0561\\u056f\\u0578\\u0562\\u0575\\u0561\\u0576\",\"\\u0540\\u0561\\u0575\\u056f \\u0540\\u0561\\u056f\\u0578\\u0562\\u0575\\u0561\\u0576\",\"\\u0540\\u0561\\u0575\\u056f \\u0540\\u0561\\u056f\\u0578\\u0562\\u0575\\u0561\\u0576\",\"\\u0540\\u0561\\u0575\\u056f \\u0540\\u0561\\u056f\\u0578\\u0562\\u0575\\u0561\\u0576\",\"\\u0540\\u0561\\u0575\\u056f \\u0540\\u0561\\u056f\\u0578\\u0562\\u0575\\u0561\\u0576\",\"\\u0540\\u0561\\u0575\\u056f \\u0540\\u0561\\u056f\\u0578\\u0562\\u0575\\u0561\\u0576\",\"\\u0540\\u0561\\u0575\\u056f \\u0540\\u0561\\u056f\\u0578\\u0562\\u0575\\u0561\\u0576\",\"\\u0540\\u0561\\u0575\\u056f \\u0540\\u0561\\u056f\\u0578\\u0562\\u0575\\u0561\\u0576\",\"\\u0540\\u0561\\u0575\\u056f \\u0540\\u0561\\u056f\\u0578\\u0562\\u0575\\u0561\\u0576\",\"\\u0540\\u0561\\u0575\\u056f \\u0540\\u0561\\u056f\\u0578\\u0562\\u0575\\u0561\\u0576\",\"\\u0540\\u0561\\u0575\\u056f \\u0540\\u0561\\u056f\\u0578\\u0562\\u0575\\u0561\\u0576\",\"\\u0540\\u0561\\u0575\\u056f \\u0540\\u0561\\u056f\\u0578\\u0562\\u0575\\u0561\\u0576\",\"\\u0540\\u0561\\u0575\\u056f \\u0540\\u0561\\u056f\\u0578\\u0562\\u0575\\u0561\\u0576\",\"\\u0540\\u0561\\u0575\\u056f \\u0540\\u0561\\u056f\\u0578\\u0562\\u0575\\u0561\\u0576\",\"\\u0540\\u0561\\u0575\\u056f \\u0540\\u0561\\u056f\\u0578\\u0562\\u0575\\u0561\\u0576\",\"\\u0540\\u0561\\u0575\\u056f \\u0540\\u0561\\u056f\\u0578\\u0562\\u0575\\u0561\\u0576\",\"Aram MP3\",\"Aram MP3\",\"Arsen Safaryan\",\"Arsen Safaryan\",\"Arsen Safaryan\",\"Arsen Safaryan\",\"Arsen Safaryan\",\"Arsen Safaryan\",\"Arsen Safaryan\",\"Arsen Safaryan\",\"Arsen Safaryan\",\"Arsen Safaryan\",\"Arsen Safaryan\",\"Arsen Safaryan\",\"Arsen Safaryan\",\"Arsen Safaryan\",\"Arsen Safaryan\",\"Arsen Safaryan\",\"Arsen Safaryan\",\"Arsen Safaryan\",\"Arsen Safaryan\",\"Arsen Safaryan\",\"Arsen Safaryan\",\"Arsen Safaryan\",\"Arsen Safaryan\",\"Aram MP3\",\"Aram MP3\",\"Aram MP3\",\"Aram MP3\",\"Aram MP3\",\"Aram MP3\",\"Aram MP3\",\"Aram MP3\",\"Aram MP3\",\"Aram MP3\",\"Aram MP3\",\"Aram MP3\",\"Aram MP3\",\"Aram MP3\",\"Aram MP3\",\"Misho\",\"Misho\",\"Misho\",\"Misho\",\"Misho\",\"Misho\",\"Misho\",\"Misho\",\"Misho\",\"Misho\",\"Misho\",\"Misho\",\"Misho\",\"Misho\",\"Misho\",\"Misho\",\"Misho\",\"Misho\",\"Misho\",\"Misho\",\"Misho\",\"Misho\",\"Misho\",\"Misho\",\"Misho\",\"Misho\",\"Mi Qani Hogi\",\"Mi Qani Hogi\",\"Mi Qani Hogi\",\"Mi Qani Hogi\",\"Mi Qani Hogi\",\"Mi Qani Hogi\",\"Mi Qani Hogi\",\"Mi Qani Hogi\",\"Mi Qani Hogi\",\"Mi Qani Hogi\",\"Mi Qani Hogi\",\"Mi Qani Hogi\",\"Mi Qani Hogi\",\"Mi Qani Hogi\",\"Mi Qani Hogi\"],\"x0\":\" \",\"xaxis\":\"x\",\"y\":[0.5,0.6384615384615384,0.711340206185567,0.8777777777777778,0.6956521739130435,0.8653846153846154,0.6901408450704225,0.6604938271604939,0.9636363636363636,0.5895522388059702,0.8679245283018868,0.6222222222222222,0.5321100917431193,0.8156028368794326,0.8243243243243243,0.7142857142857143,0.7674418604651163,0.8283582089552238,0.6445783132530121,0.7073170731707317,0.8368794326241135,0.8064516129032258,0.8470588235294118,0.8111111111111111,0.8,0.6581196581196581,0.6814159292035398,0.49224806201550386,0.2793103448275862,0.7898089171974523,0.6356589147286822,0.6558441558441559,0.7222222222222222,0.66,1.0,0.7010309278350515,0.8071428571428572,0.6708860759493671,0.37,0.6666666666666666,0.7092198581560284,0.837037037037037,0.632768361581921,0.5258620689655172,0.8333333333333334,0.6228070175438597,0.7083333333333334,0.6519823788546255,0.6952789699570815,0.9,0.7804878048780488,0.5392156862745098,0.8455882352941176,0.6850393700787402,0.6502463054187192,0.76,0.6595744680851063,0.4897959183673469,0.5416666666666666,0.46534653465346537,0.7103448275862069,0.6744186046511628,0.8103448275862069,0.585635359116022,0.5641025641025641,0.5433070866141733,0.5661764705882353,0.58,0.7948717948717948,0.810126582278481,0.6829268292682927,0.6868686868686869,0.7542372881355932,0.4772727272727273,0.6206896551724138,0.5725190839694656,0.6237623762376238,0.723404255319149,0.75,0.5,0.35294117647058826,0.5486725663716814,0.5217391304347826,0.5135135135135135,0.5666666666666667,0.5932203389830508,0.6797385620915033,0.4485294117647059,0.6810344827586207,0.5581395348837209,0.6484848484848484,0.6142857142857143,0.5316455696202531,0.5568181818181818,0.5543478260869565,0.7662337662337663,0.5022026431718062,0.6272189349112426,0.6037735849056604,0.5,0.45614035087719296,0.7272727272727273,0.7222222222222222,0.5588235294117647,0.6428571428571429,0.5727272727272728,0.6330275229357798,0.7471264367816092,0.635036496350365,0.7878787878787878,0.7428571428571429,0.618421052631579,0.7037037037037037,0.4583333333333333,0.8109756097560976,0.6208791208791209,0.8142076502732241,0.5945945945945946,0.6363636363636364,0.9038461538461539,0.5303030303030303,0.8095238095238095,0.88,0.9545454545454546,0.7692307692307693,0.8378378378378378,0.4642857142857143,0.7741935483870968,0.7547169811320755,0.5606060606060606,0.6233766233766234,0.6688311688311688,0.7771084337349398,0.7484276729559748,0.7777777777777778,0.7531645569620253,0.8194444444444444,0.7935483870967742,0.536144578313253,0.6170212765957447,0.7478260869565218,0.7604790419161677,0.5454545454545454,0.7134831460674157,0.7706422018348624,0.7981651376146789,0.5425531914893617,0.6407766990291263,0.6868686868686869,0.8793103448275862,0.4675324675324675,0.9782608695652174,0.7678571428571429,0.31343283582089554,0.8709677419354839,0.9032258064516129,0.4489795918367347,0.3274336283185841,0.6,0.3230769230769231,0.7362637362637363,0.4166666666666667,0.42857142857142855,0.5645161290322581,0.36666666666666664,0.639344262295082,0.5490196078431373,0.5172413793103449,0.6,0.7254901960784313,0.6086956521739131,0.8181818181818182,0.78,0.6582278481012658,0.44565217391304346,0.4864864864864865,0.5373134328358209,0.4322033898305085,0.4864864864864865,0.8717948717948718,0.6176470588235294,0.6779661016949152,0.7045454545454546,0.82,0.6413043478260869,0.7547169811320755,0.39344262295081966,0.7622950819672131,0.580952380952381,0.8166666666666667,0.4444444444444444,0.8,0.7307692307692307,0.6065573770491803,0.4888888888888889,0.5666666666666667,0.6666666666666666,0.4857142857142857,0.6615384615384615,0.6935483870967742,0.3655913978494624,0.7241379310344828,0.42528735632183906,0.7474747474747475,0.44,0.3783783783783784,0.4745762711864407,0.4222222222222222,0.7121212121212122,0.6136919315403423,0.6096774193548387,0.7557471264367817,0.46875,0.6919431279620853,0.5679012345679012,0.5597189695550351,0.6240208877284595,0.6705882352941176,0.5850622406639004,0.5544041450777202,0.6287425149700598,0.5129151291512916,0.5983263598326359,0.4943820224719101,0.391025641025641,0.40145985401459855,0.8529411764705882,0.35106382978723405,0.37383177570093457,0.3963963963963964,0.5,0.6818181818181818,0.7272727272727273,0.4264705882352941,0.5285714285714286,0.44,0.48299319727891155,0.726027397260274,0.6777777777777778,1.0,0.7454545454545455,0.46153846153846156,0.6804123711340206,0.37748344370860926,0.5727272727272728,0.3157894736842105,0.45977011494252873,0.4424778761061947,0.5094339622641509,0.4393939393939394,0.5652173913043478,0.3951612903225806,0.8939393939393939,0.8395061728395061,0.7777777777777778,0.6608695652173913,0.5405405405405406,0.4424778761061947,0.45,0.5294117647058824,0.4342105263157895,0.5660377358490566,0.7631578947368421,0.5419847328244275,0.2446351931330472,0.4491525423728814,0.6470588235294118,0.392,0.75,0.4860335195530726,0.4090909090909091,0.2328767123287671,0.6623376623376623,0.6666666666666666,0.5487804878048781,0.6095238095238096,0.450261780104712,0.41025641025641024,0.3404255319148936,0.24766355140186916,0.38095238095238093,0.45555555555555555,0.3842364532019704,0.5333333333333333,0.4020618556701031,0.55,0.6086956521739131,0.24193548387096775,0.6153846153846154,0.764367816091954,0.6785714285714286,0.4325581395348837,0.41732283464566927,0.3333333333333333,0.18115942028985507,0.2717391304347826,0.4350282485875706,0.8115942028985508,0.3930635838150289,0.35135135135135137,0.6095238095238096,0.5222222222222223,0.15463917525773196,0.40601503759398494,0.4,0.5526315789473685,0.6320754716981132,0.7289719626168224,0.6027397260273972,0.6666666666666666,0.4745762711864407,0.20444444444444446,0.6176470588235294,0.4714285714285714,0.8958333333333334,0.2638888888888889,0.464,0.3115942028985507,0.3053435114503817,0.6363636363636364,0.4375,0.5238095238095238,0.425,0.4945054945054945,0.6111111111111112,0.32452830188679244,0.5037037037037037,0.24855491329479767,0.5148514851485149,0.3838383838383838,0.4519774011299435,0.3303964757709251,0.3867403314917127,0.3624161073825503,0.27802690582959644,0.4727272727272727,0.2865853658536585,0.6025641025641025,0.6695652173913044,0.6826923076923077,0.7529411764705882,0.8037383177570093,0.32242990654205606,0.2839506172839506,0.48717948717948717,0.304029304029304,0.8933333333333333,0.3855421686746988,0.43529411764705883,0.4144144144144144,0.5576923076923077,0.3314285714285714,0.5185185185185185,0.4601226993865031,0.4696969696969697,0.5897435897435898,0.5972222222222222,0.6013513513513513,0.6145833333333334,0.5064102564102564,0.5,0.4888888888888889,0.19230769230769232,0.5604395604395604,0.6043956043956044,0.8493150684931506,0.5078125,0.45121951219512196,0.4778761061946903,0.4,0.5164835164835165,0.8354430379746836,0.6095238095238096,0.31868131868131866,0.46601941747572817,0.4827586206896552,0.2597402597402597,0.9387755102040817,0.6209150326797386,0.65,0.6052631578947368,0.3148148148148148,0.29850746268656714,0.6219512195121951,0.3006535947712418,0.7017543859649122,0.5523809523809524,0.6666666666666666,0.48717948717948717,0.7449664429530202,0.9146341463414634,0.5172413793103449,0.7323943661971831,0.7025316455696202,0.8974358974358975,0.6968085106382979,0.5515151515151515,0.9431818181818182,0.8369565217391305,0.6986301369863014,0.5086206896551724,0.8095238095238095,1.0,0.7454545454545455,0.8461538461538461,0.8035714285714286,0.7281553398058253,0.7808219178082192,0.6811594202898551,0.6495726495726496,0.8227848101265823,0.7864077669902912,0.5930232558139535,0.8,0.4074074074074074,0.8266666666666667,0.68,0.7096774193548387,0.6,0.6941176470588235,0.5930232558139535,0.53125,0.8,0.7733333333333333,0.7368421052631579,0.4966442953020134,0.37410071942446044,0.6722689075630253,0.75,0.6511627906976745,0.8133333333333334,0.5637583892617449,0.7638888888888888,0.5955056179775281,0.4049079754601227,0.6578947368421053,0.7669902912621359,0.8032786885245902,0.816,0.5906040268456376,0.6440677966101694,0.4,0.3209302325581395,0.5857142857142857,0.7789473684210526,0.6804123711340206,0.5887850467289719,0.7291666666666666,0.7567567567567568,0.7045454545454546,0.33962264150943394,0.27835051546391754,0.4253731343283582,0.6857142857142857,0.23979591836734693,0.4230769230769231,0.4765625,0.7386363636363636,0.33152173913043476,0.5294117647058824,0.4722222222222222,0.41530054644808745,0.42592592592592593,0.30275229357798167,0.675,0.5924170616113744,0.7251908396946565,0.86,0.7932692307692307,0.7637795275590551,0.7714285714285715,0.5,0.9012345679012346,0.6822429906542056,0.889763779527559,0.7857142857142857,0.8416666666666667,0.7837837837837838,0.5403225806451613,0.7727272727272727,0.4696132596685083,0.8509316770186336,0.7288135593220338,0.7076923076923077,0.6597222222222222,0.7752808988764045,0.6392156862745098,0.5594405594405595,0.5683453237410072,0.7992125984251969,0.6442953020134228,0.9411764705882353,0.5882352941176471,0.7454545454545455,0.7032258064516129,0.7299270072992701,0.7659574468085106,0.6380368098159509,0.7752808988764045,0.56353591160221,0.6578947368421053,0.4689655172413793,0.6608695652173913,0.6788321167883211,0.4807692307692308,0.6634615384615384],\"y0\":\" \",\"yaxis\":\"y\",\"type\":\"box\"}],                        {\"template\":{\"data\":{\"histogram2dcontour\":[{\"type\":\"histogram2dcontour\",\"colorbar\":{\"outlinewidth\":0,\"ticks\":\"\"},\"colorscale\":[[0.0,\"#0d0887\"],[0.1111111111111111,\"#46039f\"],[0.2222222222222222,\"#7201a8\"],[0.3333333333333333,\"#9c179e\"],[0.4444444444444444,\"#bd3786\"],[0.5555555555555556,\"#d8576b\"],[0.6666666666666666,\"#ed7953\"],[0.7777777777777778,\"#fb9f3a\"],[0.8888888888888888,\"#fdca26\"],[1.0,\"#f0f921\"]]}],\"choropleth\":[{\"type\":\"choropleth\",\"colorbar\":{\"outlinewidth\":0,\"ticks\":\"\"}}],\"histogram2d\":[{\"type\":\"histogram2d\",\"colorbar\":{\"outlinewidth\":0,\"ticks\":\"\"},\"colorscale\":[[0.0,\"#0d0887\"],[0.1111111111111111,\"#46039f\"],[0.2222222222222222,\"#7201a8\"],[0.3333333333333333,\"#9c179e\"],[0.4444444444444444,\"#bd3786\"],[0.5555555555555556,\"#d8576b\"],[0.6666666666666666,\"#ed7953\"],[0.7777777777777778,\"#fb9f3a\"],[0.8888888888888888,\"#fdca26\"],[1.0,\"#f0f921\"]]}],\"heatmap\":[{\"type\":\"heatmap\",\"colorbar\":{\"outlinewidth\":0,\"ticks\":\"\"},\"colorscale\":[[0.0,\"#0d0887\"],[0.1111111111111111,\"#46039f\"],[0.2222222222222222,\"#7201a8\"],[0.3333333333333333,\"#9c179e\"],[0.4444444444444444,\"#bd3786\"],[0.5555555555555556,\"#d8576b\"],[0.6666666666666666,\"#ed7953\"],[0.7777777777777778,\"#fb9f3a\"],[0.8888888888888888,\"#fdca26\"],[1.0,\"#f0f921\"]]}],\"heatmapgl\":[{\"type\":\"heatmapgl\",\"colorbar\":{\"outlinewidth\":0,\"ticks\":\"\"},\"colorscale\":[[0.0,\"#0d0887\"],[0.1111111111111111,\"#46039f\"],[0.2222222222222222,\"#7201a8\"],[0.3333333333333333,\"#9c179e\"],[0.4444444444444444,\"#bd3786\"],[0.5555555555555556,\"#d8576b\"],[0.6666666666666666,\"#ed7953\"],[0.7777777777777778,\"#fb9f3a\"],[0.8888888888888888,\"#fdca26\"],[1.0,\"#f0f921\"]]}],\"contourcarpet\":[{\"type\":\"contourcarpet\",\"colorbar\":{\"outlinewidth\":0,\"ticks\":\"\"}}],\"contour\":[{\"type\":\"contour\",\"colorbar\":{\"outlinewidth\":0,\"ticks\":\"\"},\"colorscale\":[[0.0,\"#0d0887\"],[0.1111111111111111,\"#46039f\"],[0.2222222222222222,\"#7201a8\"],[0.3333333333333333,\"#9c179e\"],[0.4444444444444444,\"#bd3786\"],[0.5555555555555556,\"#d8576b\"],[0.6666666666666666,\"#ed7953\"],[0.7777777777777778,\"#fb9f3a\"],[0.8888888888888888,\"#fdca26\"],[1.0,\"#f0f921\"]]}],\"surface\":[{\"type\":\"surface\",\"colorbar\":{\"outlinewidth\":0,\"ticks\":\"\"},\"colorscale\":[[0.0,\"#0d0887\"],[0.1111111111111111,\"#46039f\"],[0.2222222222222222,\"#7201a8\"],[0.3333333333333333,\"#9c179e\"],[0.4444444444444444,\"#bd3786\"],[0.5555555555555556,\"#d8576b\"],[0.6666666666666666,\"#ed7953\"],[0.7777777777777778,\"#fb9f3a\"],[0.8888888888888888,\"#fdca26\"],[1.0,\"#f0f921\"]]}],\"mesh3d\":[{\"type\":\"mesh3d\",\"colorbar\":{\"outlinewidth\":0,\"ticks\":\"\"}}],\"scatter\":[{\"fillpattern\":{\"fillmode\":\"overlay\",\"size\":10,\"solidity\":0.2},\"type\":\"scatter\"}],\"parcoords\":[{\"type\":\"parcoords\",\"line\":{\"colorbar\":{\"outlinewidth\":0,\"ticks\":\"\"}}}],\"scatterpolargl\":[{\"type\":\"scatterpolargl\",\"marker\":{\"colorbar\":{\"outlinewidth\":0,\"ticks\":\"\"}}}],\"bar\":[{\"error_x\":{\"color\":\"#2a3f5f\"},\"error_y\":{\"color\":\"#2a3f5f\"},\"marker\":{\"line\":{\"color\":\"#E5ECF6\",\"width\":0.5},\"pattern\":{\"fillmode\":\"overlay\",\"size\":10,\"solidity\":0.2}},\"type\":\"bar\"}],\"scattergeo\":[{\"type\":\"scattergeo\",\"marker\":{\"colorbar\":{\"outlinewidth\":0,\"ticks\":\"\"}}}],\"scatterpolar\":[{\"type\":\"scatterpolar\",\"marker\":{\"colorbar\":{\"outlinewidth\":0,\"ticks\":\"\"}}}],\"histogram\":[{\"marker\":{\"pattern\":{\"fillmode\":\"overlay\",\"size\":10,\"solidity\":0.2}},\"type\":\"histogram\"}],\"scattergl\":[{\"type\":\"scattergl\",\"marker\":{\"colorbar\":{\"outlinewidth\":0,\"ticks\":\"\"}}}],\"scatter3d\":[{\"type\":\"scatter3d\",\"line\":{\"colorbar\":{\"outlinewidth\":0,\"ticks\":\"\"}},\"marker\":{\"colorbar\":{\"outlinewidth\":0,\"ticks\":\"\"}}}],\"scattermapbox\":[{\"type\":\"scattermapbox\",\"marker\":{\"colorbar\":{\"outlinewidth\":0,\"ticks\":\"\"}}}],\"scatterternary\":[{\"type\":\"scatterternary\",\"marker\":{\"colorbar\":{\"outlinewidth\":0,\"ticks\":\"\"}}}],\"scattercarpet\":[{\"type\":\"scattercarpet\",\"marker\":{\"colorbar\":{\"outlinewidth\":0,\"ticks\":\"\"}}}],\"carpet\":[{\"aaxis\":{\"endlinecolor\":\"#2a3f5f\",\"gridcolor\":\"white\",\"linecolor\":\"white\",\"minorgridcolor\":\"white\",\"startlinecolor\":\"#2a3f5f\"},\"baxis\":{\"endlinecolor\":\"#2a3f5f\",\"gridcolor\":\"white\",\"linecolor\":\"white\",\"minorgridcolor\":\"white\",\"startlinecolor\":\"#2a3f5f\"},\"type\":\"carpet\"}],\"table\":[{\"cells\":{\"fill\":{\"color\":\"#EBF0F8\"},\"line\":{\"color\":\"white\"}},\"header\":{\"fill\":{\"color\":\"#C8D4E3\"},\"line\":{\"color\":\"white\"}},\"type\":\"table\"}],\"barpolar\":[{\"marker\":{\"line\":{\"color\":\"#E5ECF6\",\"width\":0.5},\"pattern\":{\"fillmode\":\"overlay\",\"size\":10,\"solidity\":0.2}},\"type\":\"barpolar\"}],\"pie\":[{\"automargin\":true,\"type\":\"pie\"}]},\"layout\":{\"autotypenumbers\":\"strict\",\"colorway\":[\"#636efa\",\"#EF553B\",\"#00cc96\",\"#ab63fa\",\"#FFA15A\",\"#19d3f3\",\"#FF6692\",\"#B6E880\",\"#FF97FF\",\"#FECB52\"],\"font\":{\"color\":\"#2a3f5f\"},\"hovermode\":\"closest\",\"hoverlabel\":{\"align\":\"left\"},\"paper_bgcolor\":\"white\",\"plot_bgcolor\":\"#E5ECF6\",\"polar\":{\"bgcolor\":\"#E5ECF6\",\"angularaxis\":{\"gridcolor\":\"white\",\"linecolor\":\"white\",\"ticks\":\"\"},\"radialaxis\":{\"gridcolor\":\"white\",\"linecolor\":\"white\",\"ticks\":\"\"}},\"ternary\":{\"bgcolor\":\"#E5ECF6\",\"aaxis\":{\"gridcolor\":\"white\",\"linecolor\":\"white\",\"ticks\":\"\"},\"baxis\":{\"gridcolor\":\"white\",\"linecolor\":\"white\",\"ticks\":\"\"},\"caxis\":{\"gridcolor\":\"white\",\"linecolor\":\"white\",\"ticks\":\"\"}},\"coloraxis\":{\"colorbar\":{\"outlinewidth\":0,\"ticks\":\"\"}},\"colorscale\":{\"sequential\":[[0.0,\"#0d0887\"],[0.1111111111111111,\"#46039f\"],[0.2222222222222222,\"#7201a8\"],[0.3333333333333333,\"#9c179e\"],[0.4444444444444444,\"#bd3786\"],[0.5555555555555556,\"#d8576b\"],[0.6666666666666666,\"#ed7953\"],[0.7777777777777778,\"#fb9f3a\"],[0.8888888888888888,\"#fdca26\"],[1.0,\"#f0f921\"]],\"sequentialminus\":[[0.0,\"#0d0887\"],[0.1111111111111111,\"#46039f\"],[0.2222222222222222,\"#7201a8\"],[0.3333333333333333,\"#9c179e\"],[0.4444444444444444,\"#bd3786\"],[0.5555555555555556,\"#d8576b\"],[0.6666666666666666,\"#ed7953\"],[0.7777777777777778,\"#fb9f3a\"],[0.8888888888888888,\"#fdca26\"],[1.0,\"#f0f921\"]],\"diverging\":[[0,\"#8e0152\"],[0.1,\"#c51b7d\"],[0.2,\"#de77ae\"],[0.3,\"#f1b6da\"],[0.4,\"#fde0ef\"],[0.5,\"#f7f7f7\"],[0.6,\"#e6f5d0\"],[0.7,\"#b8e186\"],[0.8,\"#7fbc41\"],[0.9,\"#4d9221\"],[1,\"#276419\"]]},\"xaxis\":{\"gridcolor\":\"white\",\"linecolor\":\"white\",\"ticks\":\"\",\"title\":{\"standoff\":15},\"zerolinecolor\":\"white\",\"automargin\":true,\"zerolinewidth\":2},\"yaxis\":{\"gridcolor\":\"white\",\"linecolor\":\"white\",\"ticks\":\"\",\"title\":{\"standoff\":15},\"zerolinecolor\":\"white\",\"automargin\":true,\"zerolinewidth\":2},\"scene\":{\"xaxis\":{\"backgroundcolor\":\"#E5ECF6\",\"gridcolor\":\"white\",\"linecolor\":\"white\",\"showbackground\":true,\"ticks\":\"\",\"zerolinecolor\":\"white\",\"gridwidth\":2},\"yaxis\":{\"backgroundcolor\":\"#E5ECF6\",\"gridcolor\":\"white\",\"linecolor\":\"white\",\"showbackground\":true,\"ticks\":\"\",\"zerolinecolor\":\"white\",\"gridwidth\":2},\"zaxis\":{\"backgroundcolor\":\"#E5ECF6\",\"gridcolor\":\"white\",\"linecolor\":\"white\",\"showbackground\":true,\"ticks\":\"\",\"zerolinecolor\":\"white\",\"gridwidth\":2}},\"shapedefaults\":{\"line\":{\"color\":\"#2a3f5f\"}},\"annotationdefaults\":{\"arrowcolor\":\"#2a3f5f\",\"arrowhead\":0,\"arrowwidth\":1},\"geo\":{\"bgcolor\":\"white\",\"landcolor\":\"#E5ECF6\",\"subunitcolor\":\"white\",\"showland\":true,\"showlakes\":true,\"lakecolor\":\"white\"},\"title\":{\"x\":0.05},\"mapbox\":{\"style\":\"light\"}}},\"xaxis\":{\"anchor\":\"y\",\"domain\":[0.0,1.0],\"title\":{\"text\":\"Artist\"}},\"yaxis\":{\"anchor\":\"x\",\"domain\":[0.0,1.0],\"title\":{\"text\":\"unique_tokens_ratio_hy\"}},\"legend\":{\"tracegroupgap\":0},\"title\":{\"text\":\"Ratio of unique words to all words(hy)\"},\"boxmode\":\"group\"},                        {\"responsive\": true}                    ).then(function(){\n",
       "                            \n",
       "var gd = document.getElementById('a101c034-7335-47ba-9698-67d91952d665');\n",
       "var x = new MutationObserver(function (mutations, observer) {{\n",
       "        var display = window.getComputedStyle(gd).display;\n",
       "        if (!display || display === 'none') {{\n",
       "            console.log([gd, 'removed!']);\n",
       "            Plotly.purge(gd);\n",
       "            observer.disconnect();\n",
       "        }}\n",
       "}});\n",
       "\n",
       "// Listen for the removal of the full notebook cells\n",
       "var notebookContainer = gd.closest('#notebook-container');\n",
       "if (notebookContainer) {{\n",
       "    x.observe(notebookContainer, {childList: true});\n",
       "}}\n",
       "\n",
       "// Listen for the clearing of the current output cell\n",
       "var outputEl = gd.closest('.output');\n",
       "if (outputEl) {{\n",
       "    x.observe(outputEl, {childList: true});\n",
       "}}\n",
       "\n",
       "                        })                };                });            </script>        </div>"
      ]
     },
     "metadata": {},
     "output_type": "display_data"
    }
   ],
   "source": [
    "fig = px.box(df, x='Artist', y='unique_tokens_ratio_hy', title='Ratio of unique words to all words(hy)')\n",
    "fig.show()"
   ]
  },
  {
   "cell_type": "markdown",
   "metadata": {
    "id": "cFIMWVoq1_E_"
   },
   "source": [
    "Adding sentiment of each song as new feature.\n",
    "The TextBlob library is used to calculate the sentiment polarity of each song's translated lyrics. The sentiment polarity ranges from -1 to 1, where values closer to 1 indicate a positive sentiment and values closer to -1 indicate a negative sentiment."
   ]
  },
  {
   "cell_type": "code",
   "execution_count": 34,
   "metadata": {
    "id": "_HiNyzcW16j-"
   },
   "outputs": [
    {
     "name": "stdout",
     "output_type": "stream",
     "text": [
      "                       Song  sentiment\n",
      "0               ԱՀԱ ԵՎ ՎԵՐՋ  -0.193333\n",
      "1                 ԱՄԵՆԸ ՁԵԶ   0.258333\n",
      "2    ԱՆԱՌԱԿ ՈՐԴՈՒ ՎԵՐԱԴԱՐՁԸ  -0.012500\n",
      "3             ԱՇԽԱՐՀԻ ՑԱՎՈՎ   0.060173\n",
      "4                ԱՌԱՋ ԳԻՏԵԻ   0.118182\n",
      "..                      ...        ...\n",
      "537                Chanapar  -0.016875\n",
      "538                Es Pahin   0.133333\n",
      "539                   Rhyme   0.060014\n",
      "541           Yes Qo Nmanei  -0.187500\n",
      "542             Lav Jamanak   0.306000\n",
      "\n",
      "[506 rows x 2 columns]\n"
     ]
    }
   ],
   "source": [
    "df['sentiment'] = df['Translated_Lyrics'].apply(lambda text: TextBlob(text).sentiment.polarity)\n",
    "\n",
    "\n",
    "print(df[['Song','sentiment']])"
   ]
  },
  {
   "cell_type": "code",
   "execution_count": 35,
   "metadata": {
    "id": "8KtYPOuR16qO"
   },
   "outputs": [
    {
     "data": {
      "application/vnd.plotly.v1+json": {
       "config": {
        "plotlyServerURL": "https://plot.ly"
       },
       "data": [
        {
         "alignmentgroup": "True",
         "hovertemplate": "Artist=%{x}<br>sentiment=%{y}<extra></extra>",
         "legendgroup": "",
         "marker": {
          "color": "#636efa"
         },
         "name": "",
         "notched": false,
         "offsetgroup": "",
         "orientation": "v",
         "showlegend": false,
         "type": "box",
         "x": [
          "ԱՐԹՈՒՐ ՄԵՍՉՅԱՆ",
          "ԱՐԹՈՒՐ ՄԵՍՉՅԱՆ",
          "ԱՐԹՈՒՐ ՄԵՍՉՅԱՆ",
          "ԱՐԹՈՒՐ ՄԵՍՉՅԱՆ",
          "ԱՐԹՈՒՐ ՄԵՍՉՅԱՆ",
          "ԱՐԹՈՒՐ ՄԵՍՉՅԱՆ",
          "ԱՐԹՈՒՐ ՄԵՍՉՅԱՆ",
          "ԱՐԹՈՒՐ ՄԵՍՉՅԱՆ",
          "ԱՐԹՈՒՐ ՄԵՍՉՅԱՆ",
          "ԱՐԹՈՒՐ ՄԵՍՉՅԱՆ",
          "ԱՐԹՈՒՐ ՄԵՍՉՅԱՆ",
          "ԱՐԹՈՒՐ ՄԵՍՉՅԱՆ",
          "ԱՐԹՈՒՐ ՄԵՍՉՅԱՆ",
          "ԱՐԹՈՒՐ ՄԵՍՉՅԱՆ",
          "ԱՐԹՈՒՐ ՄԵՍՉՅԱՆ",
          "ԱՐԹՈՒՐ ՄԵՍՉՅԱՆ",
          "ԱՐԹՈՒՐ ՄԵՍՉՅԱՆ",
          "ԱՐԹՈՒՐ ՄԵՍՉՅԱՆ",
          "ԱՐԹՈՒՐ ՄԵՍՉՅԱՆ",
          "ԱՐԹՈՒՐ ՄԵՍՉՅԱՆ",
          "ԱՐԹՈՒՐ ՄԵՍՉՅԱՆ",
          "ԱՐԹՈՒՐ ՄԵՍՉՅԱՆ",
          "ԱՐԹՈՒՐ ՄԵՍՉՅԱՆ",
          "ԱՐԹՈՒՐ ՄԵՍՉՅԱՆ",
          "ԱՐԹՈՒՐ ՄԵՍՉՅԱՆ",
          "ԱՐԹՈՒՐ ՄԵՍՉՅԱՆ",
          "ԱՐԹՈՒՐ ՄԵՍՉՅԱՆ",
          "ԱՐԹՈՒՐ ՄԵՍՉՅԱՆ",
          "ԱՐԹՈՒՐ ՄԵՍՉՅԱՆ",
          "ԱՐԹՈՒՐ ՄԵՍՉՅԱՆ",
          "ԱՐԹՈՒՐ ՄԵՍՉՅԱՆ",
          "ԱՐԹՈՒՐ ՄԵՍՉՅԱՆ",
          "ԱՐԹՈՒՐ ՄԵՍՉՅԱՆ",
          "ԱՐԹՈՒՐ ՄԵՍՉՅԱՆ",
          "ԱՐԹՈՒՐ ՄԵՍՉՅԱՆ",
          "ԱՐԹՈՒՐ ՄԵՍՉՅԱՆ",
          "ԱՐԹՈՒՐ ՄԵՍՉՅԱՆ",
          "ԱՐԹՈՒՐ ՄԵՍՉՅԱՆ",
          "ԱՐԹՈՒՐ ՄԵՍՉՅԱՆ",
          "ԱՐԹՈՒՐ ՄԵՍՉՅԱՆ",
          "ԱՐԹՈՒՐ ՄԵՍՉՅԱՆ",
          "ԱՐԹՈՒՐ ՄԵՍՉՅԱՆ",
          "ԱՐԹՈՒՐ ՄԵՍՉՅԱՆ",
          "ԱՐԹՈՒՐ ՄԵՍՉՅԱՆ",
          "ԱՐԹՈՒՐ ՄԵՍՉՅԱՆ",
          "ԱՐԹՈՒՐ ՄԵՍՉՅԱՆ",
          "ԱՐԹՈՒՐ ՄԵՍՉՅԱՆ",
          "ԱՐԹՈՒՐ ՄԵՍՉՅԱՆ",
          "ԱՐԹՈՒՐ ՄԵՍՉՅԱՆ",
          "ԱՐԹՈՒՐ ՄԵՍՉՅԱՆ",
          "ՌՈՒԲԵՆ ՀԱԽՎԵՐԴՅԱՆ",
          "ՌՈՒԲԵՆ ՀԱԽՎԵՐԴՅԱՆ",
          "ՌՈՒԲԵՆ ՀԱԽՎԵՐԴՅԱՆ",
          "ՌՈՒԲԵՆ ՀԱԽՎԵՐԴՅԱՆ",
          "ՌՈՒԲԵՆ ՀԱԽՎԵՐԴՅԱՆ",
          "ՌՈՒԲԵՆ ՀԱԽՎԵՐԴՅԱՆ",
          "ՌՈՒԲԵՆ ՀԱԽՎԵՐԴՅԱՆ",
          "ՌՈՒԲԵՆ ՀԱԽՎԵՐԴՅԱՆ",
          "ՌՈՒԲԵՆ ՀԱԽՎԵՐԴՅԱՆ",
          "ՌՈՒԲԵՆ ՀԱԽՎԵՐԴՅԱՆ",
          "ՌՈՒԲԵՆ ՀԱԽՎԵՐԴՅԱՆ",
          "ՌՈՒԲԵՆ ՀԱԽՎԵՐԴՅԱՆ",
          "ՌՈՒԲԵՆ ՀԱԽՎԵՐԴՅԱՆ",
          "ՌՈՒԲԵՆ ՀԱԽՎԵՐԴՅԱՆ",
          "ՌՈՒԲԵՆ ՀԱԽՎԵՐԴՅԱՆ",
          "ՌՈՒԲԵՆ ՀԱԽՎԵՐԴՅԱՆ",
          "ՌՈՒԲԵՆ ՀԱԽՎԵՐԴՅԱՆ",
          "ՌՈՒԲԵՆ ՀԱԽՎԵՐԴՅԱՆ",
          "ՌՈՒԲԵՆ ՀԱԽՎԵՐԴՅԱՆ",
          "ՌՈՒԲԵՆ ՀԱԽՎԵՐԴՅԱՆ",
          "ՌՈՒԲԵՆ ՀԱԽՎԵՐԴՅԱՆ",
          "ՌՈՒԲԵՆ ՀԱԽՎԵՐԴՅԱՆ",
          "ՌՈՒԲԵՆ ՀԱԽՎԵՐԴՅԱՆ",
          "ՌՈՒԲԵՆ ՀԱԽՎԵՐԴՅԱՆ",
          "ՌՈՒԲԵՆ ՀԱԽՎԵՐԴՅԱՆ",
          "ՌՈՒԲԵՆ ՀԱԽՎԵՐԴՅԱՆ",
          "ՌՈՒԲԵՆ ՀԱԽՎԵՐԴՅԱՆ",
          "ՌՈՒԲԵՆ ՀԱԽՎԵՐԴՅԱՆ",
          "ՌՈՒԲԵՆ ՀԱԽՎԵՐԴՅԱՆ",
          "ՌՈՒԲԵՆ ՀԱԽՎԵՐԴՅԱՆ",
          "ՌՈՒԲԵՆ ՀԱԽՎԵՐԴՅԱՆ",
          "ՌՈՒԲԵՆ ՀԱԽՎԵՐԴՅԱՆ",
          "ՌՈՒԲԵՆ ՀԱԽՎԵՐԴՅԱՆ",
          "ՌՈՒԲԵՆ ՀԱԽՎԵՐԴՅԱՆ",
          "ՌՈՒԲԵՆ ՀԱԽՎԵՐԴՅԱՆ",
          "ՌՈՒԲԵՆ ՀԱԽՎԵՐԴՅԱՆ",
          "ՌՈՒԲԵՆ ՀԱԽՎԵՐԴՅԱՆ",
          "ՌՈՒԲԵՆ ՀԱԽՎԵՐԴՅԱՆ",
          "ՌՈՒԲԵՆ ՀԱԽՎԵՐԴՅԱՆ",
          "ՌՈՒԲԵՆ ՀԱԽՎԵՐԴՅԱՆ",
          "ՌՈՒԲԵՆ ՀԱԽՎԵՐԴՅԱՆ",
          "ՌՈՒԲԵՆ ՀԱԽՎԵՐԴՅԱՆ",
          "ՌՈՒԲԵՆ ՀԱԽՎԵՐԴՅԱՆ",
          "ՌՈՒԲԵՆ ՀԱԽՎԵՐԴՅԱՆ",
          "ՌՈՒԲԵՆ ՀԱԽՎԵՐԴՅԱՆ",
          "ՌՈՒԲԵՆ ՀԱԽՎԵՐԴՅԱՆ",
          "ՌՈՒԲԵՆ ՀԱԽՎԵՐԴՅԱՆ",
          "ՌՈՒԲԵՆ ՀԱԽՎԵՐԴՅԱՆ",
          "ՌՈՒԲԵՆ ՀԱԽՎԵՐԴՅԱՆ",
          "ՌՈՒԲԵՆ ՀԱԽՎԵՐԴՅԱՆ",
          "ՌՈՒԲԵՆ ՀԱԽՎԵՐԴՅԱՆ",
          "ՌՈՒԲԵՆ ՀԱԽՎԵՐԴՅԱՆ",
          "ՌՈՒԲԵՆ ՀԱԽՎԵՐԴՅԱՆ",
          "ՌՈՒԲԵՆ ՀԱԽՎԵՐԴՅԱՆ",
          "ՌՈՒԲԵՆ ՀԱԽՎԵՐԴՅԱՆ",
          "ՌՈՒԲԵՆ ՀԱԽՎԵՐԴՅԱՆ",
          "ՌՈՒԲԵՆ ՀԱԽՎԵՐԴՅԱՆ",
          "ՌՈՒԲԵՆ ՀԱԽՎԵՐԴՅԱՆ",
          "ՌՈՒԲԵՆ ՀԱԽՎԵՐԴՅԱՆ",
          "ՌՈՒԲԵՆ ՀԱԽՎԵՐԴՅԱՆ",
          "ՌՈՒԲԵՆ ՀԱԽՎԵՐԴՅԱՆ",
          "ՌՈՒԲԵՆ ՀԱԽՎԵՐԴՅԱՆ",
          "ՌՈՒԲԵՆ ՀԱԽՎԵՐԴՅԱՆ",
          "ՌՈՒԲԵՆ ՀԱԽՎԵՐԴՅԱՆ",
          "ՌՈՒԲԵՆ ՀԱԽՎԵՐԴՅԱՆ",
          "ՌՈՒԲԵՆ ՀԱԽՎԵՐԴՅԱՆ",
          "ՌՈՒԲԵՆ ՀԱԽՎԵՐԴՅԱՆ",
          "ՌՈՒԲԵՆ ՀԱԽՎԵՐԴՅԱՆ",
          "ՌՈՒԲԵՆ ՀԱԽՎԵՐԴՅԱՆ",
          "ՌՈՒԲԵՆ ՀԱԽՎԵՐԴՅԱՆ",
          "ՌՈՒԲԵՆ ՀԱԽՎԵՐԴՅԱՆ",
          "ՌՈՒԲԵՆ ՀԱԽՎԵՐԴՅԱՆ",
          "ՌՈՒԲԵՆ ՀԱԽՎԵՐԴՅԱՆ",
          "ՌՈՒԲԵՆ ՀԱԽՎԵՐԴՅԱՆ",
          "ՌՈՒԲԵՆ ՀԱԽՎԵՐԴՅԱՆ",
          "ՌՈՒԲԵՆ ՀԱԽՎԵՐԴՅԱՆ",
          "ՌՈՒԲԵՆ ՀԱԽՎԵՐԴՅԱՆ",
          "ՌՈՒԲԵՆ ՀԱԽՎԵՐԴՅԱՆ",
          "ՌՈՒԲԵՆ ՀԱԽՎԵՐԴՅԱՆ",
          "ՌՈՒԲԵՆ ՀԱԽՎԵՐԴՅԱՆ",
          "ՌՈՒԲԵՆ ՀԱԽՎԵՐԴՅԱՆ",
          "ՍԱՅԱԹ-ՆՈՎԱ",
          "ՍԱՅԱԹ-ՆՈՎԱ",
          "ՍԱՅԱԹ-ՆՈՎԱ",
          "ՍԱՅԱԹ-ՆՈՎԱ",
          "ՍԱՅԱԹ-ՆՈՎԱ",
          "ՍԱՅԱԹ-ՆՈՎԱ",
          "ՍԱՅԱԹ-ՆՈՎԱ",
          "ՍԱՅԱԹ-ՆՈՎԱ",
          "ՍԱՅԱԹ-ՆՈՎԱ",
          "ՍԱՅԱԹ-ՆՈՎԱ",
          "ՍԱՅԱԹ-ՆՈՎԱ",
          "ՍԱՅԱԹ-ՆՈՎԱ",
          "ՍԱՅԱԹ-ՆՈՎԱ",
          "ՍԱՅԱԹ-ՆՈՎԱ",
          "ՍԱՅԱԹ-ՆՈՎԱ",
          "ՍԱՅԱԹ-ՆՈՎԱ",
          "ԿՈՄԻՏԱՍ",
          "ԿՈՄԻՏԱՍ",
          "ԿՈՄԻՏԱՍ",
          "ԿՈՄԻՏԱՍ",
          "ԿՈՄԻՏԱՍ",
          "ԿՈՄԻՏԱՍ",
          "ԿՈՄԻՏԱՍ",
          "ԿՈՄԻՏԱՍ",
          "ԿՈՄԻՏԱՍ",
          "ԿՈՄԻՏԱՍ",
          "ԿՈՄԻՏԱՍ",
          "ԿՈՄԻՏԱՍ",
          "ԿՈՄԻՏԱՍ",
          "ԿՈՄԻՏԱՍ",
          "ԿՈՄԻՏԱՍ",
          "ԿՈՄԻՏԱՍ",
          "ԿՈՄԻՏԱՍ",
          "ԿՈՄԻՏԱՍ",
          "ԿՈՄԻՏԱՍ",
          "ԿՈՄԻՏԱՍ",
          "ԿՈՄԻՏԱՍ",
          "ԿՈՄԻՏԱՍ",
          "ԿՈՄԻՏԱՍ",
          "ԿՈՄԻՏԱՍ",
          "ԿՈՄԻՏԱՍ",
          "ԿՈՄԻՏԱՍ",
          "ԿՈՄԻՏԱՍ",
          "ԿՈՄԻՏԱՍ",
          "ԿՈՄԻՏԱՍ",
          "ԿՈՄԻՏԱՍ",
          "ԿՈՄԻՏԱՍ",
          "ԿՈՄԻՏԱՍ",
          "ԿՈՄԻՏԱՍ",
          "ԿՈՄԻՏԱՍ",
          "ԿՈՄԻՏԱՍ",
          "ԿՈՄԻՏԱՍ",
          "ԿՈՄԻՏԱՍ",
          "ԿՈՄԻՏԱՍ",
          "ԿՈՄԻՏԱՍ",
          "ԿՈՄԻՏԱՍ",
          "ԿՈՄԻՏԱՍ",
          "ԿՈՄԻՏԱՍ",
          "ԿՈՄԻՏԱՍ",
          "ԿՈՄԻՏԱՍ",
          "ԿՈՄԻՏԱՍ",
          "ԿՈՄԻՏԱՍ",
          "ԿՈՄԻՏԱՍ",
          "ԿՈՄԻՏԱՍ",
          "ԿՈՄԻՏԱՍ",
          "ԿՈՄԻՏԱՍ",
          "ԿՈՄԻՏԱՍ",
          "ԿՈՄԻՏԱՍ",
          "ԿՈՄԻՏԱՍ",
          "ԿՈՄԻՏԱՍ",
          "ԿՈՄԻՏԱՍ",
          "ԿՈՄԻՏԱՍ",
          "ԿՈՄԻՏԱՍ",
          "ԿՈՄԻՏԱՍ",
          "ԿՈՄԻՏԱՍ",
          "ԿՈՄԻՏԱՍ",
          "ԿՈՄԻՏԱՍ",
          "ԿՈՄԻՏԱՍ",
          "HT Hayko",
          "HT Hayko",
          "HT Hayko",
          "HT Hayko",
          "HT Hayko",
          "HT Hayko",
          "HT Hayko",
          "HT Hayko",
          "HT Hayko",
          "HT Hayko",
          "HT Hayko",
          "HT Hayko",
          "HT Hayko",
          "HT Hayko",
          "HT Hayko",
          "HT Hayko",
          "Empyray",
          "Empyray",
          "Empyray",
          "Empyray",
          "Empyray",
          "Empyray",
          "Empyray",
          "Empyray",
          "Empyray",
          "Empyray",
          " Lav Eli",
          " Lav Eli",
          " Lav Eli",
          " Lav Eli",
          " Lav Eli",
          " Lav Eli",
          " Lav Eli",
          " Lav Eli",
          " Lav Eli",
          "Silva Hakobyan",
          "Silva Hakobyan",
          "Silva Hakobyan",
          "Silva Hakobyan",
          "Silva Hakobyan",
          "Silva Hakobyan",
          "Silva Hakobyan",
          "Silva Hakobyan",
          "Silva Hakobyan",
          "Silva Hakobyan",
          "Silva Hakobyan",
          "Silva Hakobyan",
          "Silva Hakobyan",
          "Silva Hakobyan",
          "Silva Hakobyan",
          "Silva Hakobyan",
          "Silva Hakobyan",
          "Silva Hakobyan",
          "Silva Hakobyan",
          "Silva Hakobyan",
          "Անդրե",
          "Անդրե",
          "Անդրե",
          "Անդրե",
          "Անդրե",
          "Անդրե",
          "Անդրե",
          "Անդրե",
          "Անդրե",
          "Անդրե",
          "Անդրե",
          "Անդրե",
          "Լիլիթ Հովհաննիսյան",
          "Լիլիթ Հովհաննիսյան",
          "Լիլիթ Հովհաննիսյան",
          "Լիլիթ Հովհաննիսյան",
          "Լիլիթ Հովհաննիսյան",
          "Լիլիթ Հովհաննիսյան",
          "Լիլիթ Հովհաննիսյան",
          "Լիլիթ Հովհաննիսյան",
          "Լիլիթ Հովհաննիսյան",
          "Լիլիթ Հովհաննիսյան",
          "Լիլիթ Հովհաննիսյան",
          "Լիլիթ Հովհաննիսյան",
          "Լիլիթ Հովհաննիսյան",
          "Լիլիթ Հովհաննիսյան",
          "Լիլիթ Հովհաննիսյան",
          "Լիլիթ Հովհաննիսյան",
          "Լիլիթ Հովհաննիսյան",
          "Լիլիթ Հովհաննիսյան",
          "Լիլիթ Հովհաննիսյան",
          "Լիլիթ Հովհաննիսյան",
          "Լիլիթ Հովհաննիսյան",
          "Լիլիթ Հովհաննիսյան",
          "Լիլիթ Հովհաննիսյան",
          "Լիլիթ Հովհաննիսյան",
          "Սիրուշո",
          "Սիրուշո",
          "Սիրուշո",
          "Սիրուշո",
          "Սիրուշո",
          "Սիրուշո",
          "Սիրուշո",
          "Սիրուշո",
          "Սիրուշո",
          "Սիրուշո",
          "Սիրուշո",
          "Սիրուշո",
          "Սիրուշո",
          "Սիրուշո",
          "Սիրուշո",
          "Սիրուշո",
          "Սիրուշո",
          "Սիրուշո",
          "Սիրուշո",
          "Սիրուշո",
          "Սիրուշո",
          "Սիրուշո",
          "Սիրուշո",
          "Սիրուշո",
          "Սիրուշո",
          "Միհրան Ծառուկյան",
          "Միհրան Ծառուկյան",
          "Միհրան Ծառուկյան",
          "Միհրան Ծառուկյան",
          "Միհրան Ծառուկյան",
          "Միհրան Ծառուկյան",
          "Միհրան Ծառուկյան",
          "Միհրան Ծառուկյան",
          "Միհրան Ծառուկյան",
          "Միհրան Ծառուկյան",
          "Միհրան Ծառուկյան",
          "Միհրան Ծառուկյան",
          "Միհրան Ծառուկյան",
          "Միհրան Ծառուկյան",
          "Միհրան Ծառուկյան",
          "Միհրան Ծառուկյան",
          "Միհրան Ծառուկյան",
          "Միհրան Ծառուկյան",
          "Arame",
          "Arame",
          "Arame",
          "Arame",
          "Arame",
          "Arame",
          "Arame",
          "Arame",
          "Arame",
          "Razmik Amyan",
          "Razmik Amyan",
          "Razmik Amyan",
          "Razmik Amyan",
          "Razmik Amyan",
          "Razmik Amyan",
          "Razmik Amyan",
          "Razmik Amyan",
          "Razmik Amyan",
          "Razmik Amyan",
          "Razmik Amyan",
          "Razmik Amyan",
          "Razmik Amyan",
          "Razmik Amyan",
          "Razmik Amyan",
          "Razmik Amyan",
          "Razmik Amyan",
          "Razmik Amyan",
          "Harout Pamboukjian",
          "Harout Pamboukjian",
          "Harout Pamboukjian",
          "Harout Pamboukjian",
          "Harout Pamboukjian",
          "Harout Pamboukjian",
          "Harout Pamboukjian",
          "Harout Pamboukjian",
          "Harout Pamboukjian",
          "Harout Pamboukjian",
          "Harout Pamboukjian",
          "Harout Pamboukjian",
          "Harout Pamboukjian",
          "Harout Pamboukjian",
          "Harout Pamboukjian",
          "Harout Pamboukjian",
          "Harout Pamboukjian",
          "Harout Pamboukjian",
          "Harout Pamboukjian",
          "Harout Pamboukjian",
          "Harout Pamboukjian",
          "Harout Pamboukjian",
          "Harout Pamboukjian",
          "Harout Pamboukjian",
          "Harout Pamboukjian",
          "Harout Pamboukjian",
          "Harout Pamboukjian",
          "Harout Pamboukjian",
          "Harout Pamboukjian",
          "Harout Pamboukjian",
          "Harout Pamboukjian",
          "Harout Pamboukjian",
          "Հայկ Հակոբյան",
          "Հայկ Հակոբյան",
          "Հայկ Հակոբյան",
          "Հայկ Հակոբյան",
          "Հայկ Հակոբյան",
          "Հայկ Հակոբյան",
          "Հայկ Հակոբյան",
          "Հայկ Հակոբյան",
          "Հայկ Հակոբյան",
          "Հայկ Հակոբյան",
          "Հայկ Հակոբյան",
          "Հայկ Հակոբյան",
          "Հայկ Հակոբյան",
          "Հայկ Հակոբյան",
          "Հայկ Հակոբյան",
          "Հայկ Հակոբյան",
          "Հայկ Հակոբյան",
          "Հայկ Հակոբյան",
          "Հայկ Հակոբյան",
          "Հայկ Հակոբյան",
          "Հայկ Հակոբյան",
          "Հայկ Հակոբյան",
          "Հայկ Հակոբյան",
          "Aram MP3",
          "Aram MP3",
          "Arsen Safaryan",
          "Arsen Safaryan",
          "Arsen Safaryan",
          "Arsen Safaryan",
          "Arsen Safaryan",
          "Arsen Safaryan",
          "Arsen Safaryan",
          "Arsen Safaryan",
          "Arsen Safaryan",
          "Arsen Safaryan",
          "Arsen Safaryan",
          "Arsen Safaryan",
          "Arsen Safaryan",
          "Arsen Safaryan",
          "Arsen Safaryan",
          "Arsen Safaryan",
          "Arsen Safaryan",
          "Arsen Safaryan",
          "Arsen Safaryan",
          "Arsen Safaryan",
          "Arsen Safaryan",
          "Arsen Safaryan",
          "Arsen Safaryan",
          "Aram MP3",
          "Aram MP3",
          "Aram MP3",
          "Aram MP3",
          "Aram MP3",
          "Aram MP3",
          "Aram MP3",
          "Aram MP3",
          "Aram MP3",
          "Aram MP3",
          "Aram MP3",
          "Aram MP3",
          "Aram MP3",
          "Aram MP3",
          "Aram MP3",
          "Misho",
          "Misho",
          "Misho",
          "Misho",
          "Misho",
          "Misho",
          "Misho",
          "Misho",
          "Misho",
          "Misho",
          "Misho",
          "Misho",
          "Misho",
          "Misho",
          "Misho",
          "Misho",
          "Misho",
          "Misho",
          "Misho",
          "Misho",
          "Misho",
          "Misho",
          "Misho",
          "Misho",
          "Misho",
          "Misho",
          "Mi Qani Hogi",
          "Mi Qani Hogi",
          "Mi Qani Hogi",
          "Mi Qani Hogi",
          "Mi Qani Hogi",
          "Mi Qani Hogi",
          "Mi Qani Hogi",
          "Mi Qani Hogi",
          "Mi Qani Hogi",
          "Mi Qani Hogi",
          "Mi Qani Hogi",
          "Mi Qani Hogi",
          "Mi Qani Hogi",
          "Mi Qani Hogi",
          "Mi Qani Hogi"
         ],
         "x0": " ",
         "xaxis": "x",
         "y": [
          -0.19333333333333333,
          0.25833333333333336,
          -0.012500000000000006,
          0.060173160173160184,
          0.11818181818181821,
          0.028571428571428577,
          0.17363636363636362,
          0.19094460227272725,
          0.08996212121212122,
          -0.2026315789473684,
          0.23333333333333336,
          -0.43333333333333335,
          0.034375,
          -0.23641304347826086,
          -0.4263888888888889,
          -0.056730769230769224,
          0.16152597402597402,
          0.07433035714285714,
          0.05733333333333333,
          -0.14660339660339664,
          0.03201714110805021,
          -0.15,
          -0.09528985507246378,
          -0.1386868686868687,
          0.03928571428571429,
          -0.08676470588235295,
          -0.17,
          -0.04738562091503269,
          -0.0818181818181818,
          -0.016488413547237082,
          0.0553030303030303,
          -0.1700292397660819,
          -0.003921568627450976,
          -0.0794871794871795,
          -0.16666666666666666,
          0.03916666666666667,
          -0.30757575757575756,
          0.13409090909090907,
          -0.06764705882352941,
          0.06666666666666667,
          -0.14017649017649017,
          0.04199735449735449,
          -0.10476190476190476,
          0.4558823529411765,
          -0.10555555555555556,
          0.16022727272727275,
          -0.23166666666666666,
          -0.11466666666666667,
          0.0776199494949495,
          -0.041666666666666664,
          0.13864594218042495,
          0.18333333333333335,
          0.10701010101010101,
          -0.07719298245614035,
          -0.006208333333333338,
          0.005050505050505045,
          -0.18333333333333332,
          0.09,
          -0.21145833333333333,
          -0.0025000000000000187,
          0.1157863636363636,
          0.08538720538720536,
          -0.08834776334776333,
          -0.03861111111111111,
          0.004999999999999993,
          -0.03139393939393941,
          0.10392156862745097,
          -0.015316962730755845,
          0.38,
          -0.03611111111111114,
          0.02962962962962963,
          0.1417989417989418,
          0.2147727272727273,
          0.18580246913580248,
          0.20315789473684212,
          -0.049999999999999996,
          0.02622549019607843,
          0.15052083333333335,
          -0.026543898809523805,
          0.3350000000000001,
          0.35000000000000003,
          -0.0030303030303030234,
          0.012500000000000008,
          0.07306547619047618,
          -0.052213064713064715,
          -0.06845238095238096,
          0.11651515151515152,
          0.23939393939393944,
          0.053574203574203574,
          0.1275862068965517,
          0.13000000000000003,
          0.030000000000000006,
          -0.01111111111111111,
          -0.05457589285714286,
          0.0915909090909091,
          0.12499999999999999,
          0.05068870523415978,
          -0.19409523809523813,
          -0.08666666666666667,
          0.15823863636363636,
          0.16153846153846152,
          0.041540404040404044,
          -0.15497685185185187,
          0.003454715219421096,
          0.15999999999999998,
          -0.1541005291005291,
          0.06952720482132246,
          -0.09591489428445951,
          -0.012500000000000004,
          0.11608391608391609,
          0.23839285714285716,
          -0.00749999999999999,
          -0.010030864197530855,
          0.3427272727272727,
          0.030782312925170047,
          -0.03558201058201059,
          -0.0859848484848485,
          0.33254545454545464,
          0.11511656746031747,
          0.06344696969696971,
          0.01875,
          -0.11111111111111112,
          0,
          0.41,
          0.13333333333333333,
          0.1,
          0.5833333333333334,
          0.10988636363636364,
          0.21515151515151512,
          -0.013333333333333338,
          0.4693993506493507,
          0.02272727272727272,
          0.375,
          -0.07500000000000001,
          0.12065527065527062,
          0.5041666666666667,
          0.2,
          0.004761904761904761,
          0.31666666666666665,
          -0.05,
          0.35882352941176465,
          0.017592592592592587,
          0,
          0.17230392156862745,
          0.1375,
          0.06999999999999999,
          0.007142857142857125,
          0.3446363636363637,
          0.07777777777777779,
          0.075,
          0.175,
          -0.010858585858585864,
          0.12200000000000003,
          0.25,
          0.2431372549019608,
          0.13263888888888892,
          0.4083333333333333,
          0.3611111111111111,
          0.5681818181818181,
          0.19814814814814813,
          -0.032407407407407406,
          0.425,
          0.85,
          0.35625,
          0.033333333333333326,
          0.18333333333333335,
          -0.4,
          0.35833333333333334,
          0.09999999999999999,
          0.425,
          0.29074074074074074,
          0.22307692307692312,
          0.04000000000000001,
          -0.07142857142857142,
          0.2125,
          0.03308080808080809,
          0.15666666666666668,
          0,
          0.005555555555555551,
          0.42083333333333334,
          0,
          0.36666666666666664,
          0,
          0.06666666666666668,
          -0.05111111111111111,
          0.18095238095238095,
          0.39999999999999997,
          -0.012500000000000011,
          0,
          0.175,
          0.05238095238095238,
          0.2636363636363636,
          -0.06666666666666668,
          0.4555555555555555,
          -0.009259259259259259,
          -0.007499999999999995,
          0.025,
          0.6,
          -0.25,
          0.3111111111111111,
          -0.30000000000000004,
          0.28863636363636364,
          0.3,
          0.33251748251748253,
          -0.08095238095238094,
          0.09999999999999998,
          0.3,
          0.03444444444444443,
          0.13932291666666669,
          -0.0922997835497836,
          0.03280228758169934,
          0.01587388801674515,
          -0.18411564625850335,
          0.16063041125541125,
          0.05241649690179101,
          -0.02876984126984128,
          0.059819549663299665,
          0.1628257575757576,
          0.1678030303030303,
          0.030369543650793644,
          0.06355194805194804,
          0.11674025974025977,
          0.0920386904761905,
          -0.16336580086580085,
          -0.03752164502164504,
          -0.027160493827160504,
          -0.015384615384615392,
          0.118,
          0.11428571428571425,
          -0.08484848484848485,
          0.026818181818181817,
          -0.038095238095238085,
          0.135,
          0.28113636363636363,
          0.19583333333333333,
          -0.15634502923976606,
          -0.09795918367346938,
          -0.023275862068965508,
          0.23583333333333334,
          0,
          -0.06000000000000001,
          0.3928571428571429,
          0.175,
          0.22008928571428565,
          0.1485275689223058,
          -0.1380952380952381,
          0.16292929292929292,
          -0.10111111111111111,
          0.06875000000000002,
          -0.10340909090909091,
          0.36520979020979016,
          0.3743801652892561,
          0.11435574229691878,
          0.13267045454545456,
          0.042658730158730174,
          0.16027462121212122,
          0.2772727272727273,
          -0.10111111111111111,
          -0.006578947368421076,
          -0.2904306220095693,
          -0.002083333333333321,
          0.25937499999999997,
          0.32272727272727275,
          0.25055658627087196,
          0.4378378378378379,
          0.3254166666666667,
          0.35,
          0.16945454545454544,
          0.26111111111111107,
          0.13118686868686869,
          0.6,
          0.03333333333333331,
          0.40606060606060607,
          0.3785714285714286,
          0.18,
          -0.14,
          0.09578787878787878,
          0.3101449275362319,
          0.09523809523809523,
          0.33412698412698405,
          0.16954887218045114,
          -0.18583959899749372,
          0.024089635854341734,
          -0.07686868686868685,
          0.0369047619047619,
          0.01818181818181817,
          0.11888053467000835,
          0.09527914614121512,
          0,
          0.1971645021645022,
          -0.31136363636363634,
          0.36470588235294116,
          0.45909090909090905,
          -0.03492822966507177,
          0.18787878787878795,
          0.35324675324675325,
          0.26666233766233766,
          0.2527777777777778,
          0.07200000000000002,
          -0.10140291806958474,
          0.3703703703703704,
          0.12152777777777779,
          0.5,
          0.35,
          0,
          0.19515151515151516,
          0.2,
          0.2294893378226711,
          0.1215909090909091,
          0,
          -0.19999999999999998,
          -0.11111111111111116,
          0.1625,
          0.28463636363636363,
          0.4675324675324675,
          -0.1457142857142857,
          0.21555555555555553,
          0.26363636363636367,
          0.2259090909090909,
          0.014393939393939395,
          0.284090909090909,
          0.21176470588235294,
          0.24687499999999996,
          0.31242424242424244,
          0.43333333333333335,
          0.4309259259259259,
          0.08818958818958822,
          -0.2545454545454545,
          0.4811118705855548,
          0.17368421052631577,
          0.30735294117647055,
          0.46758620689655195,
          0.18741258741258743,
          0.5235294117647059,
          0.085,
          0.07723214285714286,
          0.348,
          0.28238636363636366,
          0.4451704545454545,
          0.08827160493827162,
          0.15347222222222223,
          0.3530681818181817,
          0.26831818181818184,
          0.3666666666666666,
          0.3465298142717497,
          0.020370370370370372,
          0.08240740740740742,
          -0.0625,
          0.23522727272727273,
          -0.24615384615384614,
          0.23484848484848483,
          0.3,
          0.32659932659932667,
          0.463478945297127,
          0.19193548387096773,
          0.3,
          0.2857142857142857,
          0.05519480519480519,
          0.23452380952380952,
          0.3585660660660661,
          0.03265306122448979,
          0.0840232683982684,
          0.12499999999999999,
          0.3081818181818182,
          0.18589285714285714,
          0.0803030303030303,
          -0.3097222222222222,
          0.45083333333333325,
          0.12045454545454547,
          0.1605855855855856,
          0.1875,
          0.506060606060606,
          0.7999999999999999,
          -0.18333333333333332,
          0.25416666666666665,
          0.34285714285714286,
          -0.009090909090909082,
          0.005555555555555551,
          0.2789930555555556,
          0.47000000000000003,
          0.18076923076923077,
          0.475,
          -0.28,
          0.3952380952380953,
          -0.07499999999999998,
          0.38927981109799287,
          0.028571428571428574,
          0.19000000000000003,
          0.13365384615384615,
          -0.2333874458874459,
          0.23626033057851242,
          0.3592592592592593,
          -0.15555555555555556,
          0.21368686868686868,
          0.225,
          -0.12980769230769232,
          0.03642857142857143,
          0.26354166666666673,
          0.29500000000000004,
          0.06071428571428572,
          0.04615384615384616,
          0.12954545454545455,
          0.5,
          0.21250000000000002,
          0.25833333333333336,
          0.4089285714285715,
          0.15657894736842107,
          0.10999999999999999,
          0.3147727272727273,
          0.30043859649122806,
          0.18081918081918083,
          0.22925000000000004,
          0.03888888888888889,
          0.322979797979798,
          0.3833333333333333,
          0.27556818181818177,
          0.10142045454545454,
          0.23195045695045696,
          0.280976430976431,
          0.3443333333333334,
          0.19027777777777777,
          0.2982456140350877,
          0.2152529761904762,
          0.37213695395513574,
          0.1857142857142857,
          -0.08,
          -0.125,
          0.22870370370370374,
          0.0987603305785124,
          0.1181547619047619,
          0.1948717948717949,
          0.09749999999999999,
          0.07478354978354979,
          0.048226010101010096,
          0.0775,
          0.17007575757575757,
          0.2874999999999999,
          0.06439393939393939,
          0.054000000000000006,
          0.07387766554433221,
          0.09999999999999999,
          0.22727272727272727,
          0.2556277056277057,
          0.16,
          0.03314393939393939,
          0.3464545454545454,
          0.2689393939393939,
          0.5296296296296297,
          0.26071428571428573,
          0.37,
          0.198754734848485,
          0.1787878787878788,
          0.15476190476190474,
          0.08928571428571429,
          -0.05679012345679012,
          -0.07848639455782314,
          0.11666666666666665,
          0.32689393939393935,
          0.21305785123966955,
          0.25394570707070707,
          -0.09812834224598932,
          -0.03333333333333333,
          0.4666666666666667,
          -0.00454545454545455,
          0.1480316558441558,
          0.13739669421487602,
          -0.18461538461538465,
          0.1644412878787879,
          0.24147186147186145,
          0.08125000000000002,
          0.010866477272727274,
          0,
          -0.125,
          0.06233766233766234,
          0.07074675324675325,
          0.07896825396825397,
          0.01877828054298643,
          0.060767195767195775,
          -0.10580357142857141,
          0.029707792207792214,
          0.15470328282828283,
          0.13447802197802197,
          0.01670274170274171,
          0.18000000000000002,
          -0.1499278499278499,
          0,
          -0.06043859649122806,
          -0.13703703703703704,
          0.2389610389610389,
          0.06316964285714291,
          -0.0287878787878788,
          0.14833333333333334,
          0.04047619047619047,
          0.1,
          0.060256410256410216,
          0.30892857142857144,
          0.03636363636363637,
          0.02781818181818182,
          -0.16199589883800408,
          0.02342592592592593,
          -0.5,
          -0.016874999999999998,
          0.13333333333333333,
          0.06001420454545455,
          -0.1875,
          0.306
         ],
         "y0": " ",
         "yaxis": "y"
        }
       ],
       "layout": {
        "boxmode": "group",
        "legend": {
         "tracegroupgap": 0
        },
        "template": {
         "data": {
          "bar": [
           {
            "error_x": {
             "color": "#2a3f5f"
            },
            "error_y": {
             "color": "#2a3f5f"
            },
            "marker": {
             "line": {
              "color": "#E5ECF6",
              "width": 0.5
             },
             "pattern": {
              "fillmode": "overlay",
              "size": 10,
              "solidity": 0.2
             }
            },
            "type": "bar"
           }
          ],
          "barpolar": [
           {
            "marker": {
             "line": {
              "color": "#E5ECF6",
              "width": 0.5
             },
             "pattern": {
              "fillmode": "overlay",
              "size": 10,
              "solidity": 0.2
             }
            },
            "type": "barpolar"
           }
          ],
          "carpet": [
           {
            "aaxis": {
             "endlinecolor": "#2a3f5f",
             "gridcolor": "white",
             "linecolor": "white",
             "minorgridcolor": "white",
             "startlinecolor": "#2a3f5f"
            },
            "baxis": {
             "endlinecolor": "#2a3f5f",
             "gridcolor": "white",
             "linecolor": "white",
             "minorgridcolor": "white",
             "startlinecolor": "#2a3f5f"
            },
            "type": "carpet"
           }
          ],
          "choropleth": [
           {
            "colorbar": {
             "outlinewidth": 0,
             "ticks": ""
            },
            "type": "choropleth"
           }
          ],
          "contour": [
           {
            "colorbar": {
             "outlinewidth": 0,
             "ticks": ""
            },
            "colorscale": [
             [
              0,
              "#0d0887"
             ],
             [
              0.1111111111111111,
              "#46039f"
             ],
             [
              0.2222222222222222,
              "#7201a8"
             ],
             [
              0.3333333333333333,
              "#9c179e"
             ],
             [
              0.4444444444444444,
              "#bd3786"
             ],
             [
              0.5555555555555556,
              "#d8576b"
             ],
             [
              0.6666666666666666,
              "#ed7953"
             ],
             [
              0.7777777777777778,
              "#fb9f3a"
             ],
             [
              0.8888888888888888,
              "#fdca26"
             ],
             [
              1,
              "#f0f921"
             ]
            ],
            "type": "contour"
           }
          ],
          "contourcarpet": [
           {
            "colorbar": {
             "outlinewidth": 0,
             "ticks": ""
            },
            "type": "contourcarpet"
           }
          ],
          "heatmap": [
           {
            "colorbar": {
             "outlinewidth": 0,
             "ticks": ""
            },
            "colorscale": [
             [
              0,
              "#0d0887"
             ],
             [
              0.1111111111111111,
              "#46039f"
             ],
             [
              0.2222222222222222,
              "#7201a8"
             ],
             [
              0.3333333333333333,
              "#9c179e"
             ],
             [
              0.4444444444444444,
              "#bd3786"
             ],
             [
              0.5555555555555556,
              "#d8576b"
             ],
             [
              0.6666666666666666,
              "#ed7953"
             ],
             [
              0.7777777777777778,
              "#fb9f3a"
             ],
             [
              0.8888888888888888,
              "#fdca26"
             ],
             [
              1,
              "#f0f921"
             ]
            ],
            "type": "heatmap"
           }
          ],
          "heatmapgl": [
           {
            "colorbar": {
             "outlinewidth": 0,
             "ticks": ""
            },
            "colorscale": [
             [
              0,
              "#0d0887"
             ],
             [
              0.1111111111111111,
              "#46039f"
             ],
             [
              0.2222222222222222,
              "#7201a8"
             ],
             [
              0.3333333333333333,
              "#9c179e"
             ],
             [
              0.4444444444444444,
              "#bd3786"
             ],
             [
              0.5555555555555556,
              "#d8576b"
             ],
             [
              0.6666666666666666,
              "#ed7953"
             ],
             [
              0.7777777777777778,
              "#fb9f3a"
             ],
             [
              0.8888888888888888,
              "#fdca26"
             ],
             [
              1,
              "#f0f921"
             ]
            ],
            "type": "heatmapgl"
           }
          ],
          "histogram": [
           {
            "marker": {
             "pattern": {
              "fillmode": "overlay",
              "size": 10,
              "solidity": 0.2
             }
            },
            "type": "histogram"
           }
          ],
          "histogram2d": [
           {
            "colorbar": {
             "outlinewidth": 0,
             "ticks": ""
            },
            "colorscale": [
             [
              0,
              "#0d0887"
             ],
             [
              0.1111111111111111,
              "#46039f"
             ],
             [
              0.2222222222222222,
              "#7201a8"
             ],
             [
              0.3333333333333333,
              "#9c179e"
             ],
             [
              0.4444444444444444,
              "#bd3786"
             ],
             [
              0.5555555555555556,
              "#d8576b"
             ],
             [
              0.6666666666666666,
              "#ed7953"
             ],
             [
              0.7777777777777778,
              "#fb9f3a"
             ],
             [
              0.8888888888888888,
              "#fdca26"
             ],
             [
              1,
              "#f0f921"
             ]
            ],
            "type": "histogram2d"
           }
          ],
          "histogram2dcontour": [
           {
            "colorbar": {
             "outlinewidth": 0,
             "ticks": ""
            },
            "colorscale": [
             [
              0,
              "#0d0887"
             ],
             [
              0.1111111111111111,
              "#46039f"
             ],
             [
              0.2222222222222222,
              "#7201a8"
             ],
             [
              0.3333333333333333,
              "#9c179e"
             ],
             [
              0.4444444444444444,
              "#bd3786"
             ],
             [
              0.5555555555555556,
              "#d8576b"
             ],
             [
              0.6666666666666666,
              "#ed7953"
             ],
             [
              0.7777777777777778,
              "#fb9f3a"
             ],
             [
              0.8888888888888888,
              "#fdca26"
             ],
             [
              1,
              "#f0f921"
             ]
            ],
            "type": "histogram2dcontour"
           }
          ],
          "mesh3d": [
           {
            "colorbar": {
             "outlinewidth": 0,
             "ticks": ""
            },
            "type": "mesh3d"
           }
          ],
          "parcoords": [
           {
            "line": {
             "colorbar": {
              "outlinewidth": 0,
              "ticks": ""
             }
            },
            "type": "parcoords"
           }
          ],
          "pie": [
           {
            "automargin": true,
            "type": "pie"
           }
          ],
          "scatter": [
           {
            "fillpattern": {
             "fillmode": "overlay",
             "size": 10,
             "solidity": 0.2
            },
            "type": "scatter"
           }
          ],
          "scatter3d": [
           {
            "line": {
             "colorbar": {
              "outlinewidth": 0,
              "ticks": ""
             }
            },
            "marker": {
             "colorbar": {
              "outlinewidth": 0,
              "ticks": ""
             }
            },
            "type": "scatter3d"
           }
          ],
          "scattercarpet": [
           {
            "marker": {
             "colorbar": {
              "outlinewidth": 0,
              "ticks": ""
             }
            },
            "type": "scattercarpet"
           }
          ],
          "scattergeo": [
           {
            "marker": {
             "colorbar": {
              "outlinewidth": 0,
              "ticks": ""
             }
            },
            "type": "scattergeo"
           }
          ],
          "scattergl": [
           {
            "marker": {
             "colorbar": {
              "outlinewidth": 0,
              "ticks": ""
             }
            },
            "type": "scattergl"
           }
          ],
          "scattermapbox": [
           {
            "marker": {
             "colorbar": {
              "outlinewidth": 0,
              "ticks": ""
             }
            },
            "type": "scattermapbox"
           }
          ],
          "scatterpolar": [
           {
            "marker": {
             "colorbar": {
              "outlinewidth": 0,
              "ticks": ""
             }
            },
            "type": "scatterpolar"
           }
          ],
          "scatterpolargl": [
           {
            "marker": {
             "colorbar": {
              "outlinewidth": 0,
              "ticks": ""
             }
            },
            "type": "scatterpolargl"
           }
          ],
          "scatterternary": [
           {
            "marker": {
             "colorbar": {
              "outlinewidth": 0,
              "ticks": ""
             }
            },
            "type": "scatterternary"
           }
          ],
          "surface": [
           {
            "colorbar": {
             "outlinewidth": 0,
             "ticks": ""
            },
            "colorscale": [
             [
              0,
              "#0d0887"
             ],
             [
              0.1111111111111111,
              "#46039f"
             ],
             [
              0.2222222222222222,
              "#7201a8"
             ],
             [
              0.3333333333333333,
              "#9c179e"
             ],
             [
              0.4444444444444444,
              "#bd3786"
             ],
             [
              0.5555555555555556,
              "#d8576b"
             ],
             [
              0.6666666666666666,
              "#ed7953"
             ],
             [
              0.7777777777777778,
              "#fb9f3a"
             ],
             [
              0.8888888888888888,
              "#fdca26"
             ],
             [
              1,
              "#f0f921"
             ]
            ],
            "type": "surface"
           }
          ],
          "table": [
           {
            "cells": {
             "fill": {
              "color": "#EBF0F8"
             },
             "line": {
              "color": "white"
             }
            },
            "header": {
             "fill": {
              "color": "#C8D4E3"
             },
             "line": {
              "color": "white"
             }
            },
            "type": "table"
           }
          ]
         },
         "layout": {
          "annotationdefaults": {
           "arrowcolor": "#2a3f5f",
           "arrowhead": 0,
           "arrowwidth": 1
          },
          "autotypenumbers": "strict",
          "coloraxis": {
           "colorbar": {
            "outlinewidth": 0,
            "ticks": ""
           }
          },
          "colorscale": {
           "diverging": [
            [
             0,
             "#8e0152"
            ],
            [
             0.1,
             "#c51b7d"
            ],
            [
             0.2,
             "#de77ae"
            ],
            [
             0.3,
             "#f1b6da"
            ],
            [
             0.4,
             "#fde0ef"
            ],
            [
             0.5,
             "#f7f7f7"
            ],
            [
             0.6,
             "#e6f5d0"
            ],
            [
             0.7,
             "#b8e186"
            ],
            [
             0.8,
             "#7fbc41"
            ],
            [
             0.9,
             "#4d9221"
            ],
            [
             1,
             "#276419"
            ]
           ],
           "sequential": [
            [
             0,
             "#0d0887"
            ],
            [
             0.1111111111111111,
             "#46039f"
            ],
            [
             0.2222222222222222,
             "#7201a8"
            ],
            [
             0.3333333333333333,
             "#9c179e"
            ],
            [
             0.4444444444444444,
             "#bd3786"
            ],
            [
             0.5555555555555556,
             "#d8576b"
            ],
            [
             0.6666666666666666,
             "#ed7953"
            ],
            [
             0.7777777777777778,
             "#fb9f3a"
            ],
            [
             0.8888888888888888,
             "#fdca26"
            ],
            [
             1,
             "#f0f921"
            ]
           ],
           "sequentialminus": [
            [
             0,
             "#0d0887"
            ],
            [
             0.1111111111111111,
             "#46039f"
            ],
            [
             0.2222222222222222,
             "#7201a8"
            ],
            [
             0.3333333333333333,
             "#9c179e"
            ],
            [
             0.4444444444444444,
             "#bd3786"
            ],
            [
             0.5555555555555556,
             "#d8576b"
            ],
            [
             0.6666666666666666,
             "#ed7953"
            ],
            [
             0.7777777777777778,
             "#fb9f3a"
            ],
            [
             0.8888888888888888,
             "#fdca26"
            ],
            [
             1,
             "#f0f921"
            ]
           ]
          },
          "colorway": [
           "#636efa",
           "#EF553B",
           "#00cc96",
           "#ab63fa",
           "#FFA15A",
           "#19d3f3",
           "#FF6692",
           "#B6E880",
           "#FF97FF",
           "#FECB52"
          ],
          "font": {
           "color": "#2a3f5f"
          },
          "geo": {
           "bgcolor": "white",
           "lakecolor": "white",
           "landcolor": "#E5ECF6",
           "showlakes": true,
           "showland": true,
           "subunitcolor": "white"
          },
          "hoverlabel": {
           "align": "left"
          },
          "hovermode": "closest",
          "mapbox": {
           "style": "light"
          },
          "paper_bgcolor": "white",
          "plot_bgcolor": "#E5ECF6",
          "polar": {
           "angularaxis": {
            "gridcolor": "white",
            "linecolor": "white",
            "ticks": ""
           },
           "bgcolor": "#E5ECF6",
           "radialaxis": {
            "gridcolor": "white",
            "linecolor": "white",
            "ticks": ""
           }
          },
          "scene": {
           "xaxis": {
            "backgroundcolor": "#E5ECF6",
            "gridcolor": "white",
            "gridwidth": 2,
            "linecolor": "white",
            "showbackground": true,
            "ticks": "",
            "zerolinecolor": "white"
           },
           "yaxis": {
            "backgroundcolor": "#E5ECF6",
            "gridcolor": "white",
            "gridwidth": 2,
            "linecolor": "white",
            "showbackground": true,
            "ticks": "",
            "zerolinecolor": "white"
           },
           "zaxis": {
            "backgroundcolor": "#E5ECF6",
            "gridcolor": "white",
            "gridwidth": 2,
            "linecolor": "white",
            "showbackground": true,
            "ticks": "",
            "zerolinecolor": "white"
           }
          },
          "shapedefaults": {
           "line": {
            "color": "#2a3f5f"
           }
          },
          "ternary": {
           "aaxis": {
            "gridcolor": "white",
            "linecolor": "white",
            "ticks": ""
           },
           "baxis": {
            "gridcolor": "white",
            "linecolor": "white",
            "ticks": ""
           },
           "bgcolor": "#E5ECF6",
           "caxis": {
            "gridcolor": "white",
            "linecolor": "white",
            "ticks": ""
           }
          },
          "title": {
           "x": 0.05
          },
          "xaxis": {
           "automargin": true,
           "gridcolor": "white",
           "linecolor": "white",
           "ticks": "",
           "title": {
            "standoff": 15
           },
           "zerolinecolor": "white",
           "zerolinewidth": 2
          },
          "yaxis": {
           "automargin": true,
           "gridcolor": "white",
           "linecolor": "white",
           "ticks": "",
           "title": {
            "standoff": 15
           },
           "zerolinecolor": "white",
           "zerolinewidth": 2
          }
         }
        },
        "title": {
         "text": "Sentiment by artist"
        },
        "xaxis": {
         "anchor": "y",
         "domain": [
          0,
          1
         ],
         "title": {
          "text": "Artist"
         }
        },
        "yaxis": {
         "anchor": "x",
         "domain": [
          0,
          1
         ],
         "title": {
          "text": "sentiment"
         }
        }
       }
      },
      "text/html": [
       "<div>                            <div id=\"9774123c-8e3f-41a6-bbf5-6df874c1faac\" class=\"plotly-graph-div\" style=\"height:525px; width:100%;\"></div>            <script type=\"text/javascript\">                require([\"plotly\"], function(Plotly) {                    window.PLOTLYENV=window.PLOTLYENV || {};                                    if (document.getElementById(\"9774123c-8e3f-41a6-bbf5-6df874c1faac\")) {                    Plotly.newPlot(                        \"9774123c-8e3f-41a6-bbf5-6df874c1faac\",                        [{\"alignmentgroup\":\"True\",\"hovertemplate\":\"Artist=%{x}<br>sentiment=%{y}<extra></extra>\",\"legendgroup\":\"\",\"marker\":{\"color\":\"#636efa\"},\"name\":\"\",\"notched\":false,\"offsetgroup\":\"\",\"orientation\":\"v\",\"showlegend\":false,\"x\":[\"\\u0531\\u0550\\u0539\\u0548\\u0552\\u0550 \\u0544\\u0535\\u054d\\u0549\\u0545\\u0531\\u0546\",\"\\u0531\\u0550\\u0539\\u0548\\u0552\\u0550 \\u0544\\u0535\\u054d\\u0549\\u0545\\u0531\\u0546\",\"\\u0531\\u0550\\u0539\\u0548\\u0552\\u0550 \\u0544\\u0535\\u054d\\u0549\\u0545\\u0531\\u0546\",\"\\u0531\\u0550\\u0539\\u0548\\u0552\\u0550 \\u0544\\u0535\\u054d\\u0549\\u0545\\u0531\\u0546\",\"\\u0531\\u0550\\u0539\\u0548\\u0552\\u0550 \\u0544\\u0535\\u054d\\u0549\\u0545\\u0531\\u0546\",\"\\u0531\\u0550\\u0539\\u0548\\u0552\\u0550 \\u0544\\u0535\\u054d\\u0549\\u0545\\u0531\\u0546\",\"\\u0531\\u0550\\u0539\\u0548\\u0552\\u0550 \\u0544\\u0535\\u054d\\u0549\\u0545\\u0531\\u0546\",\"\\u0531\\u0550\\u0539\\u0548\\u0552\\u0550 \\u0544\\u0535\\u054d\\u0549\\u0545\\u0531\\u0546\",\"\\u0531\\u0550\\u0539\\u0548\\u0552\\u0550 \\u0544\\u0535\\u054d\\u0549\\u0545\\u0531\\u0546\",\"\\u0531\\u0550\\u0539\\u0548\\u0552\\u0550 \\u0544\\u0535\\u054d\\u0549\\u0545\\u0531\\u0546\",\"\\u0531\\u0550\\u0539\\u0548\\u0552\\u0550 \\u0544\\u0535\\u054d\\u0549\\u0545\\u0531\\u0546\",\"\\u0531\\u0550\\u0539\\u0548\\u0552\\u0550 \\u0544\\u0535\\u054d\\u0549\\u0545\\u0531\\u0546\",\"\\u0531\\u0550\\u0539\\u0548\\u0552\\u0550 \\u0544\\u0535\\u054d\\u0549\\u0545\\u0531\\u0546\",\"\\u0531\\u0550\\u0539\\u0548\\u0552\\u0550 \\u0544\\u0535\\u054d\\u0549\\u0545\\u0531\\u0546\",\"\\u0531\\u0550\\u0539\\u0548\\u0552\\u0550 \\u0544\\u0535\\u054d\\u0549\\u0545\\u0531\\u0546\",\"\\u0531\\u0550\\u0539\\u0548\\u0552\\u0550 \\u0544\\u0535\\u054d\\u0549\\u0545\\u0531\\u0546\",\"\\u0531\\u0550\\u0539\\u0548\\u0552\\u0550 \\u0544\\u0535\\u054d\\u0549\\u0545\\u0531\\u0546\",\"\\u0531\\u0550\\u0539\\u0548\\u0552\\u0550 \\u0544\\u0535\\u054d\\u0549\\u0545\\u0531\\u0546\",\"\\u0531\\u0550\\u0539\\u0548\\u0552\\u0550 \\u0544\\u0535\\u054d\\u0549\\u0545\\u0531\\u0546\",\"\\u0531\\u0550\\u0539\\u0548\\u0552\\u0550 \\u0544\\u0535\\u054d\\u0549\\u0545\\u0531\\u0546\",\"\\u0531\\u0550\\u0539\\u0548\\u0552\\u0550 \\u0544\\u0535\\u054d\\u0549\\u0545\\u0531\\u0546\",\"\\u0531\\u0550\\u0539\\u0548\\u0552\\u0550 \\u0544\\u0535\\u054d\\u0549\\u0545\\u0531\\u0546\",\"\\u0531\\u0550\\u0539\\u0548\\u0552\\u0550 \\u0544\\u0535\\u054d\\u0549\\u0545\\u0531\\u0546\",\"\\u0531\\u0550\\u0539\\u0548\\u0552\\u0550 \\u0544\\u0535\\u054d\\u0549\\u0545\\u0531\\u0546\",\"\\u0531\\u0550\\u0539\\u0548\\u0552\\u0550 \\u0544\\u0535\\u054d\\u0549\\u0545\\u0531\\u0546\",\"\\u0531\\u0550\\u0539\\u0548\\u0552\\u0550 \\u0544\\u0535\\u054d\\u0549\\u0545\\u0531\\u0546\",\"\\u0531\\u0550\\u0539\\u0548\\u0552\\u0550 \\u0544\\u0535\\u054d\\u0549\\u0545\\u0531\\u0546\",\"\\u0531\\u0550\\u0539\\u0548\\u0552\\u0550 \\u0544\\u0535\\u054d\\u0549\\u0545\\u0531\\u0546\",\"\\u0531\\u0550\\u0539\\u0548\\u0552\\u0550 \\u0544\\u0535\\u054d\\u0549\\u0545\\u0531\\u0546\",\"\\u0531\\u0550\\u0539\\u0548\\u0552\\u0550 \\u0544\\u0535\\u054d\\u0549\\u0545\\u0531\\u0546\",\"\\u0531\\u0550\\u0539\\u0548\\u0552\\u0550 \\u0544\\u0535\\u054d\\u0549\\u0545\\u0531\\u0546\",\"\\u0531\\u0550\\u0539\\u0548\\u0552\\u0550 \\u0544\\u0535\\u054d\\u0549\\u0545\\u0531\\u0546\",\"\\u0531\\u0550\\u0539\\u0548\\u0552\\u0550 \\u0544\\u0535\\u054d\\u0549\\u0545\\u0531\\u0546\",\"\\u0531\\u0550\\u0539\\u0548\\u0552\\u0550 \\u0544\\u0535\\u054d\\u0549\\u0545\\u0531\\u0546\",\"\\u0531\\u0550\\u0539\\u0548\\u0552\\u0550 \\u0544\\u0535\\u054d\\u0549\\u0545\\u0531\\u0546\",\"\\u0531\\u0550\\u0539\\u0548\\u0552\\u0550 \\u0544\\u0535\\u054d\\u0549\\u0545\\u0531\\u0546\",\"\\u0531\\u0550\\u0539\\u0548\\u0552\\u0550 \\u0544\\u0535\\u054d\\u0549\\u0545\\u0531\\u0546\",\"\\u0531\\u0550\\u0539\\u0548\\u0552\\u0550 \\u0544\\u0535\\u054d\\u0549\\u0545\\u0531\\u0546\",\"\\u0531\\u0550\\u0539\\u0548\\u0552\\u0550 \\u0544\\u0535\\u054d\\u0549\\u0545\\u0531\\u0546\",\"\\u0531\\u0550\\u0539\\u0548\\u0552\\u0550 \\u0544\\u0535\\u054d\\u0549\\u0545\\u0531\\u0546\",\"\\u0531\\u0550\\u0539\\u0548\\u0552\\u0550 \\u0544\\u0535\\u054d\\u0549\\u0545\\u0531\\u0546\",\"\\u0531\\u0550\\u0539\\u0548\\u0552\\u0550 \\u0544\\u0535\\u054d\\u0549\\u0545\\u0531\\u0546\",\"\\u0531\\u0550\\u0539\\u0548\\u0552\\u0550 \\u0544\\u0535\\u054d\\u0549\\u0545\\u0531\\u0546\",\"\\u0531\\u0550\\u0539\\u0548\\u0552\\u0550 \\u0544\\u0535\\u054d\\u0549\\u0545\\u0531\\u0546\",\"\\u0531\\u0550\\u0539\\u0548\\u0552\\u0550 \\u0544\\u0535\\u054d\\u0549\\u0545\\u0531\\u0546\",\"\\u0531\\u0550\\u0539\\u0548\\u0552\\u0550 \\u0544\\u0535\\u054d\\u0549\\u0545\\u0531\\u0546\",\"\\u0531\\u0550\\u0539\\u0548\\u0552\\u0550 \\u0544\\u0535\\u054d\\u0549\\u0545\\u0531\\u0546\",\"\\u0531\\u0550\\u0539\\u0548\\u0552\\u0550 \\u0544\\u0535\\u054d\\u0549\\u0545\\u0531\\u0546\",\"\\u0531\\u0550\\u0539\\u0548\\u0552\\u0550 \\u0544\\u0535\\u054d\\u0549\\u0545\\u0531\\u0546\",\"\\u0531\\u0550\\u0539\\u0548\\u0552\\u0550 \\u0544\\u0535\\u054d\\u0549\\u0545\\u0531\\u0546\",\"\\u054c\\u0548\\u0552\\u0532\\u0535\\u0546 \\u0540\\u0531\\u053d\\u054e\\u0535\\u0550\\u0534\\u0545\\u0531\\u0546\",\"\\u054c\\u0548\\u0552\\u0532\\u0535\\u0546 \\u0540\\u0531\\u053d\\u054e\\u0535\\u0550\\u0534\\u0545\\u0531\\u0546\",\"\\u054c\\u0548\\u0552\\u0532\\u0535\\u0546 \\u0540\\u0531\\u053d\\u054e\\u0535\\u0550\\u0534\\u0545\\u0531\\u0546\",\"\\u054c\\u0548\\u0552\\u0532\\u0535\\u0546 \\u0540\\u0531\\u053d\\u054e\\u0535\\u0550\\u0534\\u0545\\u0531\\u0546\",\"\\u054c\\u0548\\u0552\\u0532\\u0535\\u0546 \\u0540\\u0531\\u053d\\u054e\\u0535\\u0550\\u0534\\u0545\\u0531\\u0546\",\"\\u054c\\u0548\\u0552\\u0532\\u0535\\u0546 \\u0540\\u0531\\u053d\\u054e\\u0535\\u0550\\u0534\\u0545\\u0531\\u0546\",\"\\u054c\\u0548\\u0552\\u0532\\u0535\\u0546 \\u0540\\u0531\\u053d\\u054e\\u0535\\u0550\\u0534\\u0545\\u0531\\u0546\",\"\\u054c\\u0548\\u0552\\u0532\\u0535\\u0546 \\u0540\\u0531\\u053d\\u054e\\u0535\\u0550\\u0534\\u0545\\u0531\\u0546\",\"\\u054c\\u0548\\u0552\\u0532\\u0535\\u0546 \\u0540\\u0531\\u053d\\u054e\\u0535\\u0550\\u0534\\u0545\\u0531\\u0546\",\"\\u054c\\u0548\\u0552\\u0532\\u0535\\u0546 \\u0540\\u0531\\u053d\\u054e\\u0535\\u0550\\u0534\\u0545\\u0531\\u0546\",\"\\u054c\\u0548\\u0552\\u0532\\u0535\\u0546 \\u0540\\u0531\\u053d\\u054e\\u0535\\u0550\\u0534\\u0545\\u0531\\u0546\",\"\\u054c\\u0548\\u0552\\u0532\\u0535\\u0546 \\u0540\\u0531\\u053d\\u054e\\u0535\\u0550\\u0534\\u0545\\u0531\\u0546\",\"\\u054c\\u0548\\u0552\\u0532\\u0535\\u0546 \\u0540\\u0531\\u053d\\u054e\\u0535\\u0550\\u0534\\u0545\\u0531\\u0546\",\"\\u054c\\u0548\\u0552\\u0532\\u0535\\u0546 \\u0540\\u0531\\u053d\\u054e\\u0535\\u0550\\u0534\\u0545\\u0531\\u0546\",\"\\u054c\\u0548\\u0552\\u0532\\u0535\\u0546 \\u0540\\u0531\\u053d\\u054e\\u0535\\u0550\\u0534\\u0545\\u0531\\u0546\",\"\\u054c\\u0548\\u0552\\u0532\\u0535\\u0546 \\u0540\\u0531\\u053d\\u054e\\u0535\\u0550\\u0534\\u0545\\u0531\\u0546\",\"\\u054c\\u0548\\u0552\\u0532\\u0535\\u0546 \\u0540\\u0531\\u053d\\u054e\\u0535\\u0550\\u0534\\u0545\\u0531\\u0546\",\"\\u054c\\u0548\\u0552\\u0532\\u0535\\u0546 \\u0540\\u0531\\u053d\\u054e\\u0535\\u0550\\u0534\\u0545\\u0531\\u0546\",\"\\u054c\\u0548\\u0552\\u0532\\u0535\\u0546 \\u0540\\u0531\\u053d\\u054e\\u0535\\u0550\\u0534\\u0545\\u0531\\u0546\",\"\\u054c\\u0548\\u0552\\u0532\\u0535\\u0546 \\u0540\\u0531\\u053d\\u054e\\u0535\\u0550\\u0534\\u0545\\u0531\\u0546\",\"\\u054c\\u0548\\u0552\\u0532\\u0535\\u0546 \\u0540\\u0531\\u053d\\u054e\\u0535\\u0550\\u0534\\u0545\\u0531\\u0546\",\"\\u054c\\u0548\\u0552\\u0532\\u0535\\u0546 \\u0540\\u0531\\u053d\\u054e\\u0535\\u0550\\u0534\\u0545\\u0531\\u0546\",\"\\u054c\\u0548\\u0552\\u0532\\u0535\\u0546 \\u0540\\u0531\\u053d\\u054e\\u0535\\u0550\\u0534\\u0545\\u0531\\u0546\",\"\\u054c\\u0548\\u0552\\u0532\\u0535\\u0546 \\u0540\\u0531\\u053d\\u054e\\u0535\\u0550\\u0534\\u0545\\u0531\\u0546\",\"\\u054c\\u0548\\u0552\\u0532\\u0535\\u0546 \\u0540\\u0531\\u053d\\u054e\\u0535\\u0550\\u0534\\u0545\\u0531\\u0546\",\"\\u054c\\u0548\\u0552\\u0532\\u0535\\u0546 \\u0540\\u0531\\u053d\\u054e\\u0535\\u0550\\u0534\\u0545\\u0531\\u0546\",\"\\u054c\\u0548\\u0552\\u0532\\u0535\\u0546 \\u0540\\u0531\\u053d\\u054e\\u0535\\u0550\\u0534\\u0545\\u0531\\u0546\",\"\\u054c\\u0548\\u0552\\u0532\\u0535\\u0546 \\u0540\\u0531\\u053d\\u054e\\u0535\\u0550\\u0534\\u0545\\u0531\\u0546\",\"\\u054c\\u0548\\u0552\\u0532\\u0535\\u0546 \\u0540\\u0531\\u053d\\u054e\\u0535\\u0550\\u0534\\u0545\\u0531\\u0546\",\"\\u054c\\u0548\\u0552\\u0532\\u0535\\u0546 \\u0540\\u0531\\u053d\\u054e\\u0535\\u0550\\u0534\\u0545\\u0531\\u0546\",\"\\u054c\\u0548\\u0552\\u0532\\u0535\\u0546 \\u0540\\u0531\\u053d\\u054e\\u0535\\u0550\\u0534\\u0545\\u0531\\u0546\",\"\\u054c\\u0548\\u0552\\u0532\\u0535\\u0546 \\u0540\\u0531\\u053d\\u054e\\u0535\\u0550\\u0534\\u0545\\u0531\\u0546\",\"\\u054c\\u0548\\u0552\\u0532\\u0535\\u0546 \\u0540\\u0531\\u053d\\u054e\\u0535\\u0550\\u0534\\u0545\\u0531\\u0546\",\"\\u054c\\u0548\\u0552\\u0532\\u0535\\u0546 \\u0540\\u0531\\u053d\\u054e\\u0535\\u0550\\u0534\\u0545\\u0531\\u0546\",\"\\u054c\\u0548\\u0552\\u0532\\u0535\\u0546 \\u0540\\u0531\\u053d\\u054e\\u0535\\u0550\\u0534\\u0545\\u0531\\u0546\",\"\\u054c\\u0548\\u0552\\u0532\\u0535\\u0546 \\u0540\\u0531\\u053d\\u054e\\u0535\\u0550\\u0534\\u0545\\u0531\\u0546\",\"\\u054c\\u0548\\u0552\\u0532\\u0535\\u0546 \\u0540\\u0531\\u053d\\u054e\\u0535\\u0550\\u0534\\u0545\\u0531\\u0546\",\"\\u054c\\u0548\\u0552\\u0532\\u0535\\u0546 \\u0540\\u0531\\u053d\\u054e\\u0535\\u0550\\u0534\\u0545\\u0531\\u0546\",\"\\u054c\\u0548\\u0552\\u0532\\u0535\\u0546 \\u0540\\u0531\\u053d\\u054e\\u0535\\u0550\\u0534\\u0545\\u0531\\u0546\",\"\\u054c\\u0548\\u0552\\u0532\\u0535\\u0546 \\u0540\\u0531\\u053d\\u054e\\u0535\\u0550\\u0534\\u0545\\u0531\\u0546\",\"\\u054c\\u0548\\u0552\\u0532\\u0535\\u0546 \\u0540\\u0531\\u053d\\u054e\\u0535\\u0550\\u0534\\u0545\\u0531\\u0546\",\"\\u054c\\u0548\\u0552\\u0532\\u0535\\u0546 \\u0540\\u0531\\u053d\\u054e\\u0535\\u0550\\u0534\\u0545\\u0531\\u0546\",\"\\u054c\\u0548\\u0552\\u0532\\u0535\\u0546 \\u0540\\u0531\\u053d\\u054e\\u0535\\u0550\\u0534\\u0545\\u0531\\u0546\",\"\\u054c\\u0548\\u0552\\u0532\\u0535\\u0546 \\u0540\\u0531\\u053d\\u054e\\u0535\\u0550\\u0534\\u0545\\u0531\\u0546\",\"\\u054c\\u0548\\u0552\\u0532\\u0535\\u0546 \\u0540\\u0531\\u053d\\u054e\\u0535\\u0550\\u0534\\u0545\\u0531\\u0546\",\"\\u054c\\u0548\\u0552\\u0532\\u0535\\u0546 \\u0540\\u0531\\u053d\\u054e\\u0535\\u0550\\u0534\\u0545\\u0531\\u0546\",\"\\u054c\\u0548\\u0552\\u0532\\u0535\\u0546 \\u0540\\u0531\\u053d\\u054e\\u0535\\u0550\\u0534\\u0545\\u0531\\u0546\",\"\\u054c\\u0548\\u0552\\u0532\\u0535\\u0546 \\u0540\\u0531\\u053d\\u054e\\u0535\\u0550\\u0534\\u0545\\u0531\\u0546\",\"\\u054c\\u0548\\u0552\\u0532\\u0535\\u0546 \\u0540\\u0531\\u053d\\u054e\\u0535\\u0550\\u0534\\u0545\\u0531\\u0546\",\"\\u054c\\u0548\\u0552\\u0532\\u0535\\u0546 \\u0540\\u0531\\u053d\\u054e\\u0535\\u0550\\u0534\\u0545\\u0531\\u0546\",\"\\u054c\\u0548\\u0552\\u0532\\u0535\\u0546 \\u0540\\u0531\\u053d\\u054e\\u0535\\u0550\\u0534\\u0545\\u0531\\u0546\",\"\\u054c\\u0548\\u0552\\u0532\\u0535\\u0546 \\u0540\\u0531\\u053d\\u054e\\u0535\\u0550\\u0534\\u0545\\u0531\\u0546\",\"\\u054c\\u0548\\u0552\\u0532\\u0535\\u0546 \\u0540\\u0531\\u053d\\u054e\\u0535\\u0550\\u0534\\u0545\\u0531\\u0546\",\"\\u054c\\u0548\\u0552\\u0532\\u0535\\u0546 \\u0540\\u0531\\u053d\\u054e\\u0535\\u0550\\u0534\\u0545\\u0531\\u0546\",\"\\u054c\\u0548\\u0552\\u0532\\u0535\\u0546 \\u0540\\u0531\\u053d\\u054e\\u0535\\u0550\\u0534\\u0545\\u0531\\u0546\",\"\\u054c\\u0548\\u0552\\u0532\\u0535\\u0546 \\u0540\\u0531\\u053d\\u054e\\u0535\\u0550\\u0534\\u0545\\u0531\\u0546\",\"\\u054c\\u0548\\u0552\\u0532\\u0535\\u0546 \\u0540\\u0531\\u053d\\u054e\\u0535\\u0550\\u0534\\u0545\\u0531\\u0546\",\"\\u054c\\u0548\\u0552\\u0532\\u0535\\u0546 \\u0540\\u0531\\u053d\\u054e\\u0535\\u0550\\u0534\\u0545\\u0531\\u0546\",\"\\u054c\\u0548\\u0552\\u0532\\u0535\\u0546 \\u0540\\u0531\\u053d\\u054e\\u0535\\u0550\\u0534\\u0545\\u0531\\u0546\",\"\\u054c\\u0548\\u0552\\u0532\\u0535\\u0546 \\u0540\\u0531\\u053d\\u054e\\u0535\\u0550\\u0534\\u0545\\u0531\\u0546\",\"\\u054c\\u0548\\u0552\\u0532\\u0535\\u0546 \\u0540\\u0531\\u053d\\u054e\\u0535\\u0550\\u0534\\u0545\\u0531\\u0546\",\"\\u054c\\u0548\\u0552\\u0532\\u0535\\u0546 \\u0540\\u0531\\u053d\\u054e\\u0535\\u0550\\u0534\\u0545\\u0531\\u0546\",\"\\u054c\\u0548\\u0552\\u0532\\u0535\\u0546 \\u0540\\u0531\\u053d\\u054e\\u0535\\u0550\\u0534\\u0545\\u0531\\u0546\",\"\\u054c\\u0548\\u0552\\u0532\\u0535\\u0546 \\u0540\\u0531\\u053d\\u054e\\u0535\\u0550\\u0534\\u0545\\u0531\\u0546\",\"\\u054c\\u0548\\u0552\\u0532\\u0535\\u0546 \\u0540\\u0531\\u053d\\u054e\\u0535\\u0550\\u0534\\u0545\\u0531\\u0546\",\"\\u054c\\u0548\\u0552\\u0532\\u0535\\u0546 \\u0540\\u0531\\u053d\\u054e\\u0535\\u0550\\u0534\\u0545\\u0531\\u0546\",\"\\u054c\\u0548\\u0552\\u0532\\u0535\\u0546 \\u0540\\u0531\\u053d\\u054e\\u0535\\u0550\\u0534\\u0545\\u0531\\u0546\",\"\\u054c\\u0548\\u0552\\u0532\\u0535\\u0546 \\u0540\\u0531\\u053d\\u054e\\u0535\\u0550\\u0534\\u0545\\u0531\\u0546\",\"\\u054c\\u0548\\u0552\\u0532\\u0535\\u0546 \\u0540\\u0531\\u053d\\u054e\\u0535\\u0550\\u0534\\u0545\\u0531\\u0546\",\"\\u054c\\u0548\\u0552\\u0532\\u0535\\u0546 \\u0540\\u0531\\u053d\\u054e\\u0535\\u0550\\u0534\\u0545\\u0531\\u0546\",\"\\u054c\\u0548\\u0552\\u0532\\u0535\\u0546 \\u0540\\u0531\\u053d\\u054e\\u0535\\u0550\\u0534\\u0545\\u0531\\u0546\",\"\\u054c\\u0548\\u0552\\u0532\\u0535\\u0546 \\u0540\\u0531\\u053d\\u054e\\u0535\\u0550\\u0534\\u0545\\u0531\\u0546\",\"\\u054c\\u0548\\u0552\\u0532\\u0535\\u0546 \\u0540\\u0531\\u053d\\u054e\\u0535\\u0550\\u0534\\u0545\\u0531\\u0546\",\"\\u054c\\u0548\\u0552\\u0532\\u0535\\u0546 \\u0540\\u0531\\u053d\\u054e\\u0535\\u0550\\u0534\\u0545\\u0531\\u0546\",\"\\u054c\\u0548\\u0552\\u0532\\u0535\\u0546 \\u0540\\u0531\\u053d\\u054e\\u0535\\u0550\\u0534\\u0545\\u0531\\u0546\",\"\\u054c\\u0548\\u0552\\u0532\\u0535\\u0546 \\u0540\\u0531\\u053d\\u054e\\u0535\\u0550\\u0534\\u0545\\u0531\\u0546\",\"\\u054c\\u0548\\u0552\\u0532\\u0535\\u0546 \\u0540\\u0531\\u053d\\u054e\\u0535\\u0550\\u0534\\u0545\\u0531\\u0546\",\"\\u054c\\u0548\\u0552\\u0532\\u0535\\u0546 \\u0540\\u0531\\u053d\\u054e\\u0535\\u0550\\u0534\\u0545\\u0531\\u0546\",\"\\u054c\\u0548\\u0552\\u0532\\u0535\\u0546 \\u0540\\u0531\\u053d\\u054e\\u0535\\u0550\\u0534\\u0545\\u0531\\u0546\",\"\\u054c\\u0548\\u0552\\u0532\\u0535\\u0546 \\u0540\\u0531\\u053d\\u054e\\u0535\\u0550\\u0534\\u0545\\u0531\\u0546\",\"\\u054c\\u0548\\u0552\\u0532\\u0535\\u0546 \\u0540\\u0531\\u053d\\u054e\\u0535\\u0550\\u0534\\u0545\\u0531\\u0546\",\"\\u054d\\u0531\\u0545\\u0531\\u0539-\\u0546\\u0548\\u054e\\u0531\",\"\\u054d\\u0531\\u0545\\u0531\\u0539-\\u0546\\u0548\\u054e\\u0531\",\"\\u054d\\u0531\\u0545\\u0531\\u0539-\\u0546\\u0548\\u054e\\u0531\",\"\\u054d\\u0531\\u0545\\u0531\\u0539-\\u0546\\u0548\\u054e\\u0531\",\"\\u054d\\u0531\\u0545\\u0531\\u0539-\\u0546\\u0548\\u054e\\u0531\",\"\\u054d\\u0531\\u0545\\u0531\\u0539-\\u0546\\u0548\\u054e\\u0531\",\"\\u054d\\u0531\\u0545\\u0531\\u0539-\\u0546\\u0548\\u054e\\u0531\",\"\\u054d\\u0531\\u0545\\u0531\\u0539-\\u0546\\u0548\\u054e\\u0531\",\"\\u054d\\u0531\\u0545\\u0531\\u0539-\\u0546\\u0548\\u054e\\u0531\",\"\\u054d\\u0531\\u0545\\u0531\\u0539-\\u0546\\u0548\\u054e\\u0531\",\"\\u054d\\u0531\\u0545\\u0531\\u0539-\\u0546\\u0548\\u054e\\u0531\",\"\\u054d\\u0531\\u0545\\u0531\\u0539-\\u0546\\u0548\\u054e\\u0531\",\"\\u054d\\u0531\\u0545\\u0531\\u0539-\\u0546\\u0548\\u054e\\u0531\",\"\\u054d\\u0531\\u0545\\u0531\\u0539-\\u0546\\u0548\\u054e\\u0531\",\"\\u054d\\u0531\\u0545\\u0531\\u0539-\\u0546\\u0548\\u054e\\u0531\",\"\\u054d\\u0531\\u0545\\u0531\\u0539-\\u0546\\u0548\\u054e\\u0531\",\"\\u053f\\u0548\\u0544\\u053b\\u054f\\u0531\\u054d\",\"\\u053f\\u0548\\u0544\\u053b\\u054f\\u0531\\u054d\",\"\\u053f\\u0548\\u0544\\u053b\\u054f\\u0531\\u054d\",\"\\u053f\\u0548\\u0544\\u053b\\u054f\\u0531\\u054d\",\"\\u053f\\u0548\\u0544\\u053b\\u054f\\u0531\\u054d\",\"\\u053f\\u0548\\u0544\\u053b\\u054f\\u0531\\u054d\",\"\\u053f\\u0548\\u0544\\u053b\\u054f\\u0531\\u054d\",\"\\u053f\\u0548\\u0544\\u053b\\u054f\\u0531\\u054d\",\"\\u053f\\u0548\\u0544\\u053b\\u054f\\u0531\\u054d\",\"\\u053f\\u0548\\u0544\\u053b\\u054f\\u0531\\u054d\",\"\\u053f\\u0548\\u0544\\u053b\\u054f\\u0531\\u054d\",\"\\u053f\\u0548\\u0544\\u053b\\u054f\\u0531\\u054d\",\"\\u053f\\u0548\\u0544\\u053b\\u054f\\u0531\\u054d\",\"\\u053f\\u0548\\u0544\\u053b\\u054f\\u0531\\u054d\",\"\\u053f\\u0548\\u0544\\u053b\\u054f\\u0531\\u054d\",\"\\u053f\\u0548\\u0544\\u053b\\u054f\\u0531\\u054d\",\"\\u053f\\u0548\\u0544\\u053b\\u054f\\u0531\\u054d\",\"\\u053f\\u0548\\u0544\\u053b\\u054f\\u0531\\u054d\",\"\\u053f\\u0548\\u0544\\u053b\\u054f\\u0531\\u054d\",\"\\u053f\\u0548\\u0544\\u053b\\u054f\\u0531\\u054d\",\"\\u053f\\u0548\\u0544\\u053b\\u054f\\u0531\\u054d\",\"\\u053f\\u0548\\u0544\\u053b\\u054f\\u0531\\u054d\",\"\\u053f\\u0548\\u0544\\u053b\\u054f\\u0531\\u054d\",\"\\u053f\\u0548\\u0544\\u053b\\u054f\\u0531\\u054d\",\"\\u053f\\u0548\\u0544\\u053b\\u054f\\u0531\\u054d\",\"\\u053f\\u0548\\u0544\\u053b\\u054f\\u0531\\u054d\",\"\\u053f\\u0548\\u0544\\u053b\\u054f\\u0531\\u054d\",\"\\u053f\\u0548\\u0544\\u053b\\u054f\\u0531\\u054d\",\"\\u053f\\u0548\\u0544\\u053b\\u054f\\u0531\\u054d\",\"\\u053f\\u0548\\u0544\\u053b\\u054f\\u0531\\u054d\",\"\\u053f\\u0548\\u0544\\u053b\\u054f\\u0531\\u054d\",\"\\u053f\\u0548\\u0544\\u053b\\u054f\\u0531\\u054d\",\"\\u053f\\u0548\\u0544\\u053b\\u054f\\u0531\\u054d\",\"\\u053f\\u0548\\u0544\\u053b\\u054f\\u0531\\u054d\",\"\\u053f\\u0548\\u0544\\u053b\\u054f\\u0531\\u054d\",\"\\u053f\\u0548\\u0544\\u053b\\u054f\\u0531\\u054d\",\"\\u053f\\u0548\\u0544\\u053b\\u054f\\u0531\\u054d\",\"\\u053f\\u0548\\u0544\\u053b\\u054f\\u0531\\u054d\",\"\\u053f\\u0548\\u0544\\u053b\\u054f\\u0531\\u054d\",\"\\u053f\\u0548\\u0544\\u053b\\u054f\\u0531\\u054d\",\"\\u053f\\u0548\\u0544\\u053b\\u054f\\u0531\\u054d\",\"\\u053f\\u0548\\u0544\\u053b\\u054f\\u0531\\u054d\",\"\\u053f\\u0548\\u0544\\u053b\\u054f\\u0531\\u054d\",\"\\u053f\\u0548\\u0544\\u053b\\u054f\\u0531\\u054d\",\"\\u053f\\u0548\\u0544\\u053b\\u054f\\u0531\\u054d\",\"\\u053f\\u0548\\u0544\\u053b\\u054f\\u0531\\u054d\",\"\\u053f\\u0548\\u0544\\u053b\\u054f\\u0531\\u054d\",\"\\u053f\\u0548\\u0544\\u053b\\u054f\\u0531\\u054d\",\"\\u053f\\u0548\\u0544\\u053b\\u054f\\u0531\\u054d\",\"\\u053f\\u0548\\u0544\\u053b\\u054f\\u0531\\u054d\",\"\\u053f\\u0548\\u0544\\u053b\\u054f\\u0531\\u054d\",\"\\u053f\\u0548\\u0544\\u053b\\u054f\\u0531\\u054d\",\"\\u053f\\u0548\\u0544\\u053b\\u054f\\u0531\\u054d\",\"\\u053f\\u0548\\u0544\\u053b\\u054f\\u0531\\u054d\",\"\\u053f\\u0548\\u0544\\u053b\\u054f\\u0531\\u054d\",\"\\u053f\\u0548\\u0544\\u053b\\u054f\\u0531\\u054d\",\"\\u053f\\u0548\\u0544\\u053b\\u054f\\u0531\\u054d\",\"\\u053f\\u0548\\u0544\\u053b\\u054f\\u0531\\u054d\",\"\\u053f\\u0548\\u0544\\u053b\\u054f\\u0531\\u054d\",\"\\u053f\\u0548\\u0544\\u053b\\u054f\\u0531\\u054d\",\"\\u053f\\u0548\\u0544\\u053b\\u054f\\u0531\\u054d\",\"\\u053f\\u0548\\u0544\\u053b\\u054f\\u0531\\u054d\",\"HT Hayko\",\"HT Hayko\",\"HT Hayko\",\"HT Hayko\",\"HT Hayko\",\"HT Hayko\",\"HT Hayko\",\"HT Hayko\",\"HT Hayko\",\"HT Hayko\",\"HT Hayko\",\"HT Hayko\",\"HT Hayko\",\"HT Hayko\",\"HT Hayko\",\"HT Hayko\",\"Empyray\",\"Empyray\",\"Empyray\",\"Empyray\",\"Empyray\",\"Empyray\",\"Empyray\",\"Empyray\",\"Empyray\",\"Empyray\",\" Lav Eli\",\" Lav Eli\",\" Lav Eli\",\" Lav Eli\",\" Lav Eli\",\" Lav Eli\",\" Lav Eli\",\" Lav Eli\",\" Lav Eli\",\"Silva Hakobyan\",\"Silva Hakobyan\",\"Silva Hakobyan\",\"Silva Hakobyan\",\"Silva Hakobyan\",\"Silva Hakobyan\",\"Silva Hakobyan\",\"Silva Hakobyan\",\"Silva Hakobyan\",\"Silva Hakobyan\",\"Silva Hakobyan\",\"Silva Hakobyan\",\"Silva Hakobyan\",\"Silva Hakobyan\",\"Silva Hakobyan\",\"Silva Hakobyan\",\"Silva Hakobyan\",\"Silva Hakobyan\",\"Silva Hakobyan\",\"Silva Hakobyan\",\"\\u0531\\u0576\\u0564\\u0580\\u0565\",\"\\u0531\\u0576\\u0564\\u0580\\u0565\",\"\\u0531\\u0576\\u0564\\u0580\\u0565\",\"\\u0531\\u0576\\u0564\\u0580\\u0565\",\"\\u0531\\u0576\\u0564\\u0580\\u0565\",\"\\u0531\\u0576\\u0564\\u0580\\u0565\",\"\\u0531\\u0576\\u0564\\u0580\\u0565\",\"\\u0531\\u0576\\u0564\\u0580\\u0565\",\"\\u0531\\u0576\\u0564\\u0580\\u0565\",\"\\u0531\\u0576\\u0564\\u0580\\u0565\",\"\\u0531\\u0576\\u0564\\u0580\\u0565\",\"\\u0531\\u0576\\u0564\\u0580\\u0565\",\"\\u053c\\u056b\\u056c\\u056b\\u0569 \\u0540\\u0578\\u057e\\u0570\\u0561\\u0576\\u0576\\u056b\\u057d\\u0575\\u0561\\u0576\",\"\\u053c\\u056b\\u056c\\u056b\\u0569 \\u0540\\u0578\\u057e\\u0570\\u0561\\u0576\\u0576\\u056b\\u057d\\u0575\\u0561\\u0576\",\"\\u053c\\u056b\\u056c\\u056b\\u0569 \\u0540\\u0578\\u057e\\u0570\\u0561\\u0576\\u0576\\u056b\\u057d\\u0575\\u0561\\u0576\",\"\\u053c\\u056b\\u056c\\u056b\\u0569 \\u0540\\u0578\\u057e\\u0570\\u0561\\u0576\\u0576\\u056b\\u057d\\u0575\\u0561\\u0576\",\"\\u053c\\u056b\\u056c\\u056b\\u0569 \\u0540\\u0578\\u057e\\u0570\\u0561\\u0576\\u0576\\u056b\\u057d\\u0575\\u0561\\u0576\",\"\\u053c\\u056b\\u056c\\u056b\\u0569 \\u0540\\u0578\\u057e\\u0570\\u0561\\u0576\\u0576\\u056b\\u057d\\u0575\\u0561\\u0576\",\"\\u053c\\u056b\\u056c\\u056b\\u0569 \\u0540\\u0578\\u057e\\u0570\\u0561\\u0576\\u0576\\u056b\\u057d\\u0575\\u0561\\u0576\",\"\\u053c\\u056b\\u056c\\u056b\\u0569 \\u0540\\u0578\\u057e\\u0570\\u0561\\u0576\\u0576\\u056b\\u057d\\u0575\\u0561\\u0576\",\"\\u053c\\u056b\\u056c\\u056b\\u0569 \\u0540\\u0578\\u057e\\u0570\\u0561\\u0576\\u0576\\u056b\\u057d\\u0575\\u0561\\u0576\",\"\\u053c\\u056b\\u056c\\u056b\\u0569 \\u0540\\u0578\\u057e\\u0570\\u0561\\u0576\\u0576\\u056b\\u057d\\u0575\\u0561\\u0576\",\"\\u053c\\u056b\\u056c\\u056b\\u0569 \\u0540\\u0578\\u057e\\u0570\\u0561\\u0576\\u0576\\u056b\\u057d\\u0575\\u0561\\u0576\",\"\\u053c\\u056b\\u056c\\u056b\\u0569 \\u0540\\u0578\\u057e\\u0570\\u0561\\u0576\\u0576\\u056b\\u057d\\u0575\\u0561\\u0576\",\"\\u053c\\u056b\\u056c\\u056b\\u0569 \\u0540\\u0578\\u057e\\u0570\\u0561\\u0576\\u0576\\u056b\\u057d\\u0575\\u0561\\u0576\",\"\\u053c\\u056b\\u056c\\u056b\\u0569 \\u0540\\u0578\\u057e\\u0570\\u0561\\u0576\\u0576\\u056b\\u057d\\u0575\\u0561\\u0576\",\"\\u053c\\u056b\\u056c\\u056b\\u0569 \\u0540\\u0578\\u057e\\u0570\\u0561\\u0576\\u0576\\u056b\\u057d\\u0575\\u0561\\u0576\",\"\\u053c\\u056b\\u056c\\u056b\\u0569 \\u0540\\u0578\\u057e\\u0570\\u0561\\u0576\\u0576\\u056b\\u057d\\u0575\\u0561\\u0576\",\"\\u053c\\u056b\\u056c\\u056b\\u0569 \\u0540\\u0578\\u057e\\u0570\\u0561\\u0576\\u0576\\u056b\\u057d\\u0575\\u0561\\u0576\",\"\\u053c\\u056b\\u056c\\u056b\\u0569 \\u0540\\u0578\\u057e\\u0570\\u0561\\u0576\\u0576\\u056b\\u057d\\u0575\\u0561\\u0576\",\"\\u053c\\u056b\\u056c\\u056b\\u0569 \\u0540\\u0578\\u057e\\u0570\\u0561\\u0576\\u0576\\u056b\\u057d\\u0575\\u0561\\u0576\",\"\\u053c\\u056b\\u056c\\u056b\\u0569 \\u0540\\u0578\\u057e\\u0570\\u0561\\u0576\\u0576\\u056b\\u057d\\u0575\\u0561\\u0576\",\"\\u053c\\u056b\\u056c\\u056b\\u0569 \\u0540\\u0578\\u057e\\u0570\\u0561\\u0576\\u0576\\u056b\\u057d\\u0575\\u0561\\u0576\",\"\\u053c\\u056b\\u056c\\u056b\\u0569 \\u0540\\u0578\\u057e\\u0570\\u0561\\u0576\\u0576\\u056b\\u057d\\u0575\\u0561\\u0576\",\"\\u053c\\u056b\\u056c\\u056b\\u0569 \\u0540\\u0578\\u057e\\u0570\\u0561\\u0576\\u0576\\u056b\\u057d\\u0575\\u0561\\u0576\",\"\\u053c\\u056b\\u056c\\u056b\\u0569 \\u0540\\u0578\\u057e\\u0570\\u0561\\u0576\\u0576\\u056b\\u057d\\u0575\\u0561\\u0576\",\"\\u054d\\u056b\\u0580\\u0578\\u0582\\u0577\\u0578\",\"\\u054d\\u056b\\u0580\\u0578\\u0582\\u0577\\u0578\",\"\\u054d\\u056b\\u0580\\u0578\\u0582\\u0577\\u0578\",\"\\u054d\\u056b\\u0580\\u0578\\u0582\\u0577\\u0578\",\"\\u054d\\u056b\\u0580\\u0578\\u0582\\u0577\\u0578\",\"\\u054d\\u056b\\u0580\\u0578\\u0582\\u0577\\u0578\",\"\\u054d\\u056b\\u0580\\u0578\\u0582\\u0577\\u0578\",\"\\u054d\\u056b\\u0580\\u0578\\u0582\\u0577\\u0578\",\"\\u054d\\u056b\\u0580\\u0578\\u0582\\u0577\\u0578\",\"\\u054d\\u056b\\u0580\\u0578\\u0582\\u0577\\u0578\",\"\\u054d\\u056b\\u0580\\u0578\\u0582\\u0577\\u0578\",\"\\u054d\\u056b\\u0580\\u0578\\u0582\\u0577\\u0578\",\"\\u054d\\u056b\\u0580\\u0578\\u0582\\u0577\\u0578\",\"\\u054d\\u056b\\u0580\\u0578\\u0582\\u0577\\u0578\",\"\\u054d\\u056b\\u0580\\u0578\\u0582\\u0577\\u0578\",\"\\u054d\\u056b\\u0580\\u0578\\u0582\\u0577\\u0578\",\"\\u054d\\u056b\\u0580\\u0578\\u0582\\u0577\\u0578\",\"\\u054d\\u056b\\u0580\\u0578\\u0582\\u0577\\u0578\",\"\\u054d\\u056b\\u0580\\u0578\\u0582\\u0577\\u0578\",\"\\u054d\\u056b\\u0580\\u0578\\u0582\\u0577\\u0578\",\"\\u054d\\u056b\\u0580\\u0578\\u0582\\u0577\\u0578\",\"\\u054d\\u056b\\u0580\\u0578\\u0582\\u0577\\u0578\",\"\\u054d\\u056b\\u0580\\u0578\\u0582\\u0577\\u0578\",\"\\u054d\\u056b\\u0580\\u0578\\u0582\\u0577\\u0578\",\"\\u054d\\u056b\\u0580\\u0578\\u0582\\u0577\\u0578\",\"\\u0544\\u056b\\u0570\\u0580\\u0561\\u0576 \\u053e\\u0561\\u057c\\u0578\\u0582\\u056f\\u0575\\u0561\\u0576\",\"\\u0544\\u056b\\u0570\\u0580\\u0561\\u0576 \\u053e\\u0561\\u057c\\u0578\\u0582\\u056f\\u0575\\u0561\\u0576\",\"\\u0544\\u056b\\u0570\\u0580\\u0561\\u0576 \\u053e\\u0561\\u057c\\u0578\\u0582\\u056f\\u0575\\u0561\\u0576\",\"\\u0544\\u056b\\u0570\\u0580\\u0561\\u0576 \\u053e\\u0561\\u057c\\u0578\\u0582\\u056f\\u0575\\u0561\\u0576\",\"\\u0544\\u056b\\u0570\\u0580\\u0561\\u0576 \\u053e\\u0561\\u057c\\u0578\\u0582\\u056f\\u0575\\u0561\\u0576\",\"\\u0544\\u056b\\u0570\\u0580\\u0561\\u0576 \\u053e\\u0561\\u057c\\u0578\\u0582\\u056f\\u0575\\u0561\\u0576\",\"\\u0544\\u056b\\u0570\\u0580\\u0561\\u0576 \\u053e\\u0561\\u057c\\u0578\\u0582\\u056f\\u0575\\u0561\\u0576\",\"\\u0544\\u056b\\u0570\\u0580\\u0561\\u0576 \\u053e\\u0561\\u057c\\u0578\\u0582\\u056f\\u0575\\u0561\\u0576\",\"\\u0544\\u056b\\u0570\\u0580\\u0561\\u0576 \\u053e\\u0561\\u057c\\u0578\\u0582\\u056f\\u0575\\u0561\\u0576\",\"\\u0544\\u056b\\u0570\\u0580\\u0561\\u0576 \\u053e\\u0561\\u057c\\u0578\\u0582\\u056f\\u0575\\u0561\\u0576\",\"\\u0544\\u056b\\u0570\\u0580\\u0561\\u0576 \\u053e\\u0561\\u057c\\u0578\\u0582\\u056f\\u0575\\u0561\\u0576\",\"\\u0544\\u056b\\u0570\\u0580\\u0561\\u0576 \\u053e\\u0561\\u057c\\u0578\\u0582\\u056f\\u0575\\u0561\\u0576\",\"\\u0544\\u056b\\u0570\\u0580\\u0561\\u0576 \\u053e\\u0561\\u057c\\u0578\\u0582\\u056f\\u0575\\u0561\\u0576\",\"\\u0544\\u056b\\u0570\\u0580\\u0561\\u0576 \\u053e\\u0561\\u057c\\u0578\\u0582\\u056f\\u0575\\u0561\\u0576\",\"\\u0544\\u056b\\u0570\\u0580\\u0561\\u0576 \\u053e\\u0561\\u057c\\u0578\\u0582\\u056f\\u0575\\u0561\\u0576\",\"\\u0544\\u056b\\u0570\\u0580\\u0561\\u0576 \\u053e\\u0561\\u057c\\u0578\\u0582\\u056f\\u0575\\u0561\\u0576\",\"\\u0544\\u056b\\u0570\\u0580\\u0561\\u0576 \\u053e\\u0561\\u057c\\u0578\\u0582\\u056f\\u0575\\u0561\\u0576\",\"\\u0544\\u056b\\u0570\\u0580\\u0561\\u0576 \\u053e\\u0561\\u057c\\u0578\\u0582\\u056f\\u0575\\u0561\\u0576\",\"Arame\",\"Arame\",\"Arame\",\"Arame\",\"Arame\",\"Arame\",\"Arame\",\"Arame\",\"Arame\",\"Razmik Amyan\",\"Razmik Amyan\",\"Razmik Amyan\",\"Razmik Amyan\",\"Razmik Amyan\",\"Razmik Amyan\",\"Razmik Amyan\",\"Razmik Amyan\",\"Razmik Amyan\",\"Razmik Amyan\",\"Razmik Amyan\",\"Razmik Amyan\",\"Razmik Amyan\",\"Razmik Amyan\",\"Razmik Amyan\",\"Razmik Amyan\",\"Razmik Amyan\",\"Razmik Amyan\",\"Harout Pamboukjian\",\"Harout Pamboukjian\",\"Harout Pamboukjian\",\"Harout Pamboukjian\",\"Harout Pamboukjian\",\"Harout Pamboukjian\",\"Harout Pamboukjian\",\"Harout Pamboukjian\",\"Harout Pamboukjian\",\"Harout Pamboukjian\",\"Harout Pamboukjian\",\"Harout Pamboukjian\",\"Harout Pamboukjian\",\"Harout Pamboukjian\",\"Harout Pamboukjian\",\"Harout Pamboukjian\",\"Harout Pamboukjian\",\"Harout Pamboukjian\",\"Harout Pamboukjian\",\"Harout Pamboukjian\",\"Harout Pamboukjian\",\"Harout Pamboukjian\",\"Harout Pamboukjian\",\"Harout Pamboukjian\",\"Harout Pamboukjian\",\"Harout Pamboukjian\",\"Harout Pamboukjian\",\"Harout Pamboukjian\",\"Harout Pamboukjian\",\"Harout Pamboukjian\",\"Harout Pamboukjian\",\"Harout Pamboukjian\",\"\\u0540\\u0561\\u0575\\u056f \\u0540\\u0561\\u056f\\u0578\\u0562\\u0575\\u0561\\u0576\",\"\\u0540\\u0561\\u0575\\u056f \\u0540\\u0561\\u056f\\u0578\\u0562\\u0575\\u0561\\u0576\",\"\\u0540\\u0561\\u0575\\u056f \\u0540\\u0561\\u056f\\u0578\\u0562\\u0575\\u0561\\u0576\",\"\\u0540\\u0561\\u0575\\u056f \\u0540\\u0561\\u056f\\u0578\\u0562\\u0575\\u0561\\u0576\",\"\\u0540\\u0561\\u0575\\u056f \\u0540\\u0561\\u056f\\u0578\\u0562\\u0575\\u0561\\u0576\",\"\\u0540\\u0561\\u0575\\u056f \\u0540\\u0561\\u056f\\u0578\\u0562\\u0575\\u0561\\u0576\",\"\\u0540\\u0561\\u0575\\u056f \\u0540\\u0561\\u056f\\u0578\\u0562\\u0575\\u0561\\u0576\",\"\\u0540\\u0561\\u0575\\u056f \\u0540\\u0561\\u056f\\u0578\\u0562\\u0575\\u0561\\u0576\",\"\\u0540\\u0561\\u0575\\u056f \\u0540\\u0561\\u056f\\u0578\\u0562\\u0575\\u0561\\u0576\",\"\\u0540\\u0561\\u0575\\u056f \\u0540\\u0561\\u056f\\u0578\\u0562\\u0575\\u0561\\u0576\",\"\\u0540\\u0561\\u0575\\u056f \\u0540\\u0561\\u056f\\u0578\\u0562\\u0575\\u0561\\u0576\",\"\\u0540\\u0561\\u0575\\u056f \\u0540\\u0561\\u056f\\u0578\\u0562\\u0575\\u0561\\u0576\",\"\\u0540\\u0561\\u0575\\u056f \\u0540\\u0561\\u056f\\u0578\\u0562\\u0575\\u0561\\u0576\",\"\\u0540\\u0561\\u0575\\u056f \\u0540\\u0561\\u056f\\u0578\\u0562\\u0575\\u0561\\u0576\",\"\\u0540\\u0561\\u0575\\u056f \\u0540\\u0561\\u056f\\u0578\\u0562\\u0575\\u0561\\u0576\",\"\\u0540\\u0561\\u0575\\u056f \\u0540\\u0561\\u056f\\u0578\\u0562\\u0575\\u0561\\u0576\",\"\\u0540\\u0561\\u0575\\u056f \\u0540\\u0561\\u056f\\u0578\\u0562\\u0575\\u0561\\u0576\",\"\\u0540\\u0561\\u0575\\u056f \\u0540\\u0561\\u056f\\u0578\\u0562\\u0575\\u0561\\u0576\",\"\\u0540\\u0561\\u0575\\u056f \\u0540\\u0561\\u056f\\u0578\\u0562\\u0575\\u0561\\u0576\",\"\\u0540\\u0561\\u0575\\u056f \\u0540\\u0561\\u056f\\u0578\\u0562\\u0575\\u0561\\u0576\",\"\\u0540\\u0561\\u0575\\u056f \\u0540\\u0561\\u056f\\u0578\\u0562\\u0575\\u0561\\u0576\",\"\\u0540\\u0561\\u0575\\u056f \\u0540\\u0561\\u056f\\u0578\\u0562\\u0575\\u0561\\u0576\",\"\\u0540\\u0561\\u0575\\u056f \\u0540\\u0561\\u056f\\u0578\\u0562\\u0575\\u0561\\u0576\",\"Aram MP3\",\"Aram MP3\",\"Arsen Safaryan\",\"Arsen Safaryan\",\"Arsen Safaryan\",\"Arsen Safaryan\",\"Arsen Safaryan\",\"Arsen Safaryan\",\"Arsen Safaryan\",\"Arsen Safaryan\",\"Arsen Safaryan\",\"Arsen Safaryan\",\"Arsen Safaryan\",\"Arsen Safaryan\",\"Arsen Safaryan\",\"Arsen Safaryan\",\"Arsen Safaryan\",\"Arsen Safaryan\",\"Arsen Safaryan\",\"Arsen Safaryan\",\"Arsen Safaryan\",\"Arsen Safaryan\",\"Arsen Safaryan\",\"Arsen Safaryan\",\"Arsen Safaryan\",\"Aram MP3\",\"Aram MP3\",\"Aram MP3\",\"Aram MP3\",\"Aram MP3\",\"Aram MP3\",\"Aram MP3\",\"Aram MP3\",\"Aram MP3\",\"Aram MP3\",\"Aram MP3\",\"Aram MP3\",\"Aram MP3\",\"Aram MP3\",\"Aram MP3\",\"Misho\",\"Misho\",\"Misho\",\"Misho\",\"Misho\",\"Misho\",\"Misho\",\"Misho\",\"Misho\",\"Misho\",\"Misho\",\"Misho\",\"Misho\",\"Misho\",\"Misho\",\"Misho\",\"Misho\",\"Misho\",\"Misho\",\"Misho\",\"Misho\",\"Misho\",\"Misho\",\"Misho\",\"Misho\",\"Misho\",\"Mi Qani Hogi\",\"Mi Qani Hogi\",\"Mi Qani Hogi\",\"Mi Qani Hogi\",\"Mi Qani Hogi\",\"Mi Qani Hogi\",\"Mi Qani Hogi\",\"Mi Qani Hogi\",\"Mi Qani Hogi\",\"Mi Qani Hogi\",\"Mi Qani Hogi\",\"Mi Qani Hogi\",\"Mi Qani Hogi\",\"Mi Qani Hogi\",\"Mi Qani Hogi\"],\"x0\":\" \",\"xaxis\":\"x\",\"y\":[-0.19333333333333333,0.25833333333333336,-0.012500000000000006,0.060173160173160184,0.11818181818181821,0.028571428571428577,0.17363636363636362,0.19094460227272725,0.08996212121212122,-0.2026315789473684,0.23333333333333336,-0.43333333333333335,0.034375,-0.23641304347826086,-0.4263888888888889,-0.056730769230769224,0.16152597402597402,0.07433035714285714,0.05733333333333333,-0.14660339660339664,0.03201714110805021,-0.15,-0.09528985507246378,-0.1386868686868687,0.03928571428571429,-0.08676470588235295,-0.17,-0.04738562091503269,-0.0818181818181818,-0.016488413547237082,0.0553030303030303,-0.1700292397660819,-0.003921568627450976,-0.0794871794871795,-0.16666666666666666,0.03916666666666667,-0.30757575757575756,0.13409090909090907,-0.06764705882352941,0.06666666666666667,-0.14017649017649017,0.04199735449735449,-0.10476190476190476,0.4558823529411765,-0.10555555555555556,0.16022727272727275,-0.23166666666666666,-0.11466666666666667,0.0776199494949495,-0.041666666666666664,0.13864594218042495,0.18333333333333335,0.10701010101010101,-0.07719298245614035,-0.006208333333333338,0.005050505050505045,-0.18333333333333332,0.09,-0.21145833333333333,-0.0025000000000000187,0.1157863636363636,0.08538720538720536,-0.08834776334776333,-0.03861111111111111,0.004999999999999993,-0.03139393939393941,0.10392156862745097,-0.015316962730755845,0.38,-0.03611111111111114,0.02962962962962963,0.1417989417989418,0.2147727272727273,0.18580246913580248,0.20315789473684212,-0.049999999999999996,0.02622549019607843,0.15052083333333335,-0.026543898809523805,0.3350000000000001,0.35000000000000003,-0.0030303030303030234,0.012500000000000008,0.07306547619047618,-0.052213064713064715,-0.06845238095238096,0.11651515151515152,0.23939393939393944,0.053574203574203574,0.1275862068965517,0.13000000000000003,0.030000000000000006,-0.01111111111111111,-0.05457589285714286,0.0915909090909091,0.12499999999999999,0.05068870523415978,-0.19409523809523813,-0.08666666666666667,0.15823863636363636,0.16153846153846152,0.041540404040404044,-0.15497685185185187,0.003454715219421096,0.15999999999999998,-0.1541005291005291,0.06952720482132246,-0.09591489428445951,-0.012500000000000004,0.11608391608391609,0.23839285714285716,-0.00749999999999999,-0.010030864197530855,0.3427272727272727,0.030782312925170047,-0.03558201058201059,-0.0859848484848485,0.33254545454545464,0.11511656746031747,0.06344696969696971,0.01875,-0.11111111111111112,0.0,0.41,0.13333333333333333,0.1,0.5833333333333334,0.10988636363636364,0.21515151515151512,-0.013333333333333338,0.4693993506493507,0.02272727272727272,0.375,-0.07500000000000001,0.12065527065527062,0.5041666666666667,0.2,0.004761904761904761,0.31666666666666665,-0.05,0.35882352941176465,0.017592592592592587,0.0,0.17230392156862745,0.1375,0.06999999999999999,0.007142857142857125,0.3446363636363637,0.07777777777777779,0.075,0.175,-0.010858585858585864,0.12200000000000003,0.25,0.2431372549019608,0.13263888888888892,0.4083333333333333,0.3611111111111111,0.5681818181818181,0.19814814814814813,-0.032407407407407406,0.425,0.85,0.35625,0.033333333333333326,0.18333333333333335,-0.4,0.35833333333333334,0.09999999999999999,0.425,0.29074074074074074,0.22307692307692312,0.04000000000000001,-0.07142857142857142,0.2125,0.03308080808080809,0.15666666666666668,0.0,0.005555555555555551,0.42083333333333334,0.0,0.36666666666666664,0.0,0.06666666666666668,-0.05111111111111111,0.18095238095238095,0.39999999999999997,-0.012500000000000011,0.0,0.175,0.05238095238095238,0.2636363636363636,-0.06666666666666668,0.4555555555555555,-0.009259259259259259,-0.007499999999999995,0.025,0.6,-0.25,0.3111111111111111,-0.30000000000000004,0.28863636363636364,0.3,0.33251748251748253,-0.08095238095238094,0.09999999999999998,0.3,0.03444444444444443,0.13932291666666669,-0.0922997835497836,0.03280228758169934,0.01587388801674515,-0.18411564625850335,0.16063041125541125,0.05241649690179101,-0.02876984126984128,0.059819549663299665,0.1628257575757576,0.1678030303030303,0.030369543650793644,0.06355194805194804,0.11674025974025977,0.0920386904761905,-0.16336580086580085,-0.03752164502164504,-0.027160493827160504,-0.015384615384615392,0.118,0.11428571428571425,-0.08484848484848485,0.026818181818181817,-0.038095238095238085,0.135,0.28113636363636363,0.19583333333333333,-0.15634502923976606,-0.09795918367346938,-0.023275862068965508,0.23583333333333334,0.0,-0.06000000000000001,0.3928571428571429,0.175,0.22008928571428565,0.1485275689223058,-0.1380952380952381,0.16292929292929292,-0.10111111111111111,0.06875000000000002,-0.10340909090909091,0.36520979020979016,0.3743801652892561,0.11435574229691878,0.13267045454545456,0.042658730158730174,0.16027462121212122,0.2772727272727273,-0.10111111111111111,-0.006578947368421076,-0.2904306220095693,-0.002083333333333321,0.25937499999999997,0.32272727272727275,0.25055658627087196,0.4378378378378379,0.3254166666666667,0.35,0.16945454545454544,0.26111111111111107,0.13118686868686869,0.6,0.03333333333333331,0.40606060606060607,0.3785714285714286,0.18,-0.14,0.09578787878787878,0.3101449275362319,0.09523809523809523,0.33412698412698405,0.16954887218045114,-0.18583959899749372,0.024089635854341734,-0.07686868686868685,0.0369047619047619,0.01818181818181817,0.11888053467000835,0.09527914614121512,0.0,0.1971645021645022,-0.31136363636363634,0.36470588235294116,0.45909090909090905,-0.03492822966507177,0.18787878787878795,0.35324675324675325,0.26666233766233766,0.2527777777777778,0.07200000000000002,-0.10140291806958474,0.3703703703703704,0.12152777777777779,0.5,0.35,0.0,0.19515151515151516,0.2,0.2294893378226711,0.1215909090909091,0.0,-0.19999999999999998,-0.11111111111111116,0.1625,0.28463636363636363,0.4675324675324675,-0.1457142857142857,0.21555555555555553,0.26363636363636367,0.2259090909090909,0.014393939393939395,0.284090909090909,0.21176470588235294,0.24687499999999996,0.31242424242424244,0.43333333333333335,0.4309259259259259,0.08818958818958822,-0.2545454545454545,0.4811118705855548,0.17368421052631577,0.30735294117647055,0.46758620689655195,0.18741258741258743,0.5235294117647059,0.085,0.07723214285714286,0.348,0.28238636363636366,0.4451704545454545,0.08827160493827162,0.15347222222222223,0.3530681818181817,0.26831818181818184,0.3666666666666666,0.3465298142717497,0.020370370370370372,0.08240740740740742,-0.0625,0.23522727272727273,-0.24615384615384614,0.23484848484848483,0.3,0.32659932659932667,0.463478945297127,0.19193548387096773,0.3,0.2857142857142857,0.05519480519480519,0.23452380952380952,0.3585660660660661,0.03265306122448979,0.0840232683982684,0.12499999999999999,0.3081818181818182,0.18589285714285714,0.0803030303030303,-0.3097222222222222,0.45083333333333325,0.12045454545454547,0.1605855855855856,0.1875,0.506060606060606,0.7999999999999999,-0.18333333333333332,0.25416666666666665,0.34285714285714286,-0.009090909090909082,0.005555555555555551,0.2789930555555556,0.47000000000000003,0.18076923076923077,0.475,-0.28,0.3952380952380953,-0.07499999999999998,0.38927981109799287,0.028571428571428574,0.19000000000000003,0.13365384615384615,-0.2333874458874459,0.23626033057851242,0.3592592592592593,-0.15555555555555556,0.21368686868686868,0.225,-0.12980769230769232,0.03642857142857143,0.26354166666666673,0.29500000000000004,0.06071428571428572,0.04615384615384616,0.12954545454545455,0.5,0.21250000000000002,0.25833333333333336,0.4089285714285715,0.15657894736842107,0.10999999999999999,0.3147727272727273,0.30043859649122806,0.18081918081918083,0.22925000000000004,0.03888888888888889,0.322979797979798,0.3833333333333333,0.27556818181818177,0.10142045454545454,0.23195045695045696,0.280976430976431,0.3443333333333334,0.19027777777777777,0.2982456140350877,0.2152529761904762,0.37213695395513574,0.1857142857142857,-0.08,-0.125,0.22870370370370374,0.0987603305785124,0.1181547619047619,0.1948717948717949,0.09749999999999999,0.07478354978354979,0.048226010101010096,0.0775,0.17007575757575757,0.2874999999999999,0.06439393939393939,0.054000000000000006,0.07387766554433221,0.09999999999999999,0.22727272727272727,0.2556277056277057,0.16,0.03314393939393939,0.3464545454545454,0.2689393939393939,0.5296296296296297,0.26071428571428573,0.37,0.198754734848485,0.1787878787878788,0.15476190476190474,0.08928571428571429,-0.05679012345679012,-0.07848639455782314,0.11666666666666665,0.32689393939393935,0.21305785123966955,0.25394570707070707,-0.09812834224598932,-0.03333333333333333,0.4666666666666667,-0.00454545454545455,0.1480316558441558,0.13739669421487602,-0.18461538461538465,0.1644412878787879,0.24147186147186145,0.08125000000000002,0.010866477272727274,0.0,-0.125,0.06233766233766234,0.07074675324675325,0.07896825396825397,0.01877828054298643,0.060767195767195775,-0.10580357142857141,0.029707792207792214,0.15470328282828283,0.13447802197802197,0.01670274170274171,0.18000000000000002,-0.1499278499278499,0.0,-0.06043859649122806,-0.13703703703703704,0.2389610389610389,0.06316964285714291,-0.0287878787878788,0.14833333333333334,0.04047619047619047,0.1,0.060256410256410216,0.30892857142857144,0.03636363636363637,0.02781818181818182,-0.16199589883800408,0.02342592592592593,-0.5,-0.016874999999999998,0.13333333333333333,0.06001420454545455,-0.1875,0.306],\"y0\":\" \",\"yaxis\":\"y\",\"type\":\"box\"}],                        {\"template\":{\"data\":{\"histogram2dcontour\":[{\"type\":\"histogram2dcontour\",\"colorbar\":{\"outlinewidth\":0,\"ticks\":\"\"},\"colorscale\":[[0.0,\"#0d0887\"],[0.1111111111111111,\"#46039f\"],[0.2222222222222222,\"#7201a8\"],[0.3333333333333333,\"#9c179e\"],[0.4444444444444444,\"#bd3786\"],[0.5555555555555556,\"#d8576b\"],[0.6666666666666666,\"#ed7953\"],[0.7777777777777778,\"#fb9f3a\"],[0.8888888888888888,\"#fdca26\"],[1.0,\"#f0f921\"]]}],\"choropleth\":[{\"type\":\"choropleth\",\"colorbar\":{\"outlinewidth\":0,\"ticks\":\"\"}}],\"histogram2d\":[{\"type\":\"histogram2d\",\"colorbar\":{\"outlinewidth\":0,\"ticks\":\"\"},\"colorscale\":[[0.0,\"#0d0887\"],[0.1111111111111111,\"#46039f\"],[0.2222222222222222,\"#7201a8\"],[0.3333333333333333,\"#9c179e\"],[0.4444444444444444,\"#bd3786\"],[0.5555555555555556,\"#d8576b\"],[0.6666666666666666,\"#ed7953\"],[0.7777777777777778,\"#fb9f3a\"],[0.8888888888888888,\"#fdca26\"],[1.0,\"#f0f921\"]]}],\"heatmap\":[{\"type\":\"heatmap\",\"colorbar\":{\"outlinewidth\":0,\"ticks\":\"\"},\"colorscale\":[[0.0,\"#0d0887\"],[0.1111111111111111,\"#46039f\"],[0.2222222222222222,\"#7201a8\"],[0.3333333333333333,\"#9c179e\"],[0.4444444444444444,\"#bd3786\"],[0.5555555555555556,\"#d8576b\"],[0.6666666666666666,\"#ed7953\"],[0.7777777777777778,\"#fb9f3a\"],[0.8888888888888888,\"#fdca26\"],[1.0,\"#f0f921\"]]}],\"heatmapgl\":[{\"type\":\"heatmapgl\",\"colorbar\":{\"outlinewidth\":0,\"ticks\":\"\"},\"colorscale\":[[0.0,\"#0d0887\"],[0.1111111111111111,\"#46039f\"],[0.2222222222222222,\"#7201a8\"],[0.3333333333333333,\"#9c179e\"],[0.4444444444444444,\"#bd3786\"],[0.5555555555555556,\"#d8576b\"],[0.6666666666666666,\"#ed7953\"],[0.7777777777777778,\"#fb9f3a\"],[0.8888888888888888,\"#fdca26\"],[1.0,\"#f0f921\"]]}],\"contourcarpet\":[{\"type\":\"contourcarpet\",\"colorbar\":{\"outlinewidth\":0,\"ticks\":\"\"}}],\"contour\":[{\"type\":\"contour\",\"colorbar\":{\"outlinewidth\":0,\"ticks\":\"\"},\"colorscale\":[[0.0,\"#0d0887\"],[0.1111111111111111,\"#46039f\"],[0.2222222222222222,\"#7201a8\"],[0.3333333333333333,\"#9c179e\"],[0.4444444444444444,\"#bd3786\"],[0.5555555555555556,\"#d8576b\"],[0.6666666666666666,\"#ed7953\"],[0.7777777777777778,\"#fb9f3a\"],[0.8888888888888888,\"#fdca26\"],[1.0,\"#f0f921\"]]}],\"surface\":[{\"type\":\"surface\",\"colorbar\":{\"outlinewidth\":0,\"ticks\":\"\"},\"colorscale\":[[0.0,\"#0d0887\"],[0.1111111111111111,\"#46039f\"],[0.2222222222222222,\"#7201a8\"],[0.3333333333333333,\"#9c179e\"],[0.4444444444444444,\"#bd3786\"],[0.5555555555555556,\"#d8576b\"],[0.6666666666666666,\"#ed7953\"],[0.7777777777777778,\"#fb9f3a\"],[0.8888888888888888,\"#fdca26\"],[1.0,\"#f0f921\"]]}],\"mesh3d\":[{\"type\":\"mesh3d\",\"colorbar\":{\"outlinewidth\":0,\"ticks\":\"\"}}],\"scatter\":[{\"fillpattern\":{\"fillmode\":\"overlay\",\"size\":10,\"solidity\":0.2},\"type\":\"scatter\"}],\"parcoords\":[{\"type\":\"parcoords\",\"line\":{\"colorbar\":{\"outlinewidth\":0,\"ticks\":\"\"}}}],\"scatterpolargl\":[{\"type\":\"scatterpolargl\",\"marker\":{\"colorbar\":{\"outlinewidth\":0,\"ticks\":\"\"}}}],\"bar\":[{\"error_x\":{\"color\":\"#2a3f5f\"},\"error_y\":{\"color\":\"#2a3f5f\"},\"marker\":{\"line\":{\"color\":\"#E5ECF6\",\"width\":0.5},\"pattern\":{\"fillmode\":\"overlay\",\"size\":10,\"solidity\":0.2}},\"type\":\"bar\"}],\"scattergeo\":[{\"type\":\"scattergeo\",\"marker\":{\"colorbar\":{\"outlinewidth\":0,\"ticks\":\"\"}}}],\"scatterpolar\":[{\"type\":\"scatterpolar\",\"marker\":{\"colorbar\":{\"outlinewidth\":0,\"ticks\":\"\"}}}],\"histogram\":[{\"marker\":{\"pattern\":{\"fillmode\":\"overlay\",\"size\":10,\"solidity\":0.2}},\"type\":\"histogram\"}],\"scattergl\":[{\"type\":\"scattergl\",\"marker\":{\"colorbar\":{\"outlinewidth\":0,\"ticks\":\"\"}}}],\"scatter3d\":[{\"type\":\"scatter3d\",\"line\":{\"colorbar\":{\"outlinewidth\":0,\"ticks\":\"\"}},\"marker\":{\"colorbar\":{\"outlinewidth\":0,\"ticks\":\"\"}}}],\"scattermapbox\":[{\"type\":\"scattermapbox\",\"marker\":{\"colorbar\":{\"outlinewidth\":0,\"ticks\":\"\"}}}],\"scatterternary\":[{\"type\":\"scatterternary\",\"marker\":{\"colorbar\":{\"outlinewidth\":0,\"ticks\":\"\"}}}],\"scattercarpet\":[{\"type\":\"scattercarpet\",\"marker\":{\"colorbar\":{\"outlinewidth\":0,\"ticks\":\"\"}}}],\"carpet\":[{\"aaxis\":{\"endlinecolor\":\"#2a3f5f\",\"gridcolor\":\"white\",\"linecolor\":\"white\",\"minorgridcolor\":\"white\",\"startlinecolor\":\"#2a3f5f\"},\"baxis\":{\"endlinecolor\":\"#2a3f5f\",\"gridcolor\":\"white\",\"linecolor\":\"white\",\"minorgridcolor\":\"white\",\"startlinecolor\":\"#2a3f5f\"},\"type\":\"carpet\"}],\"table\":[{\"cells\":{\"fill\":{\"color\":\"#EBF0F8\"},\"line\":{\"color\":\"white\"}},\"header\":{\"fill\":{\"color\":\"#C8D4E3\"},\"line\":{\"color\":\"white\"}},\"type\":\"table\"}],\"barpolar\":[{\"marker\":{\"line\":{\"color\":\"#E5ECF6\",\"width\":0.5},\"pattern\":{\"fillmode\":\"overlay\",\"size\":10,\"solidity\":0.2}},\"type\":\"barpolar\"}],\"pie\":[{\"automargin\":true,\"type\":\"pie\"}]},\"layout\":{\"autotypenumbers\":\"strict\",\"colorway\":[\"#636efa\",\"#EF553B\",\"#00cc96\",\"#ab63fa\",\"#FFA15A\",\"#19d3f3\",\"#FF6692\",\"#B6E880\",\"#FF97FF\",\"#FECB52\"],\"font\":{\"color\":\"#2a3f5f\"},\"hovermode\":\"closest\",\"hoverlabel\":{\"align\":\"left\"},\"paper_bgcolor\":\"white\",\"plot_bgcolor\":\"#E5ECF6\",\"polar\":{\"bgcolor\":\"#E5ECF6\",\"angularaxis\":{\"gridcolor\":\"white\",\"linecolor\":\"white\",\"ticks\":\"\"},\"radialaxis\":{\"gridcolor\":\"white\",\"linecolor\":\"white\",\"ticks\":\"\"}},\"ternary\":{\"bgcolor\":\"#E5ECF6\",\"aaxis\":{\"gridcolor\":\"white\",\"linecolor\":\"white\",\"ticks\":\"\"},\"baxis\":{\"gridcolor\":\"white\",\"linecolor\":\"white\",\"ticks\":\"\"},\"caxis\":{\"gridcolor\":\"white\",\"linecolor\":\"white\",\"ticks\":\"\"}},\"coloraxis\":{\"colorbar\":{\"outlinewidth\":0,\"ticks\":\"\"}},\"colorscale\":{\"sequential\":[[0.0,\"#0d0887\"],[0.1111111111111111,\"#46039f\"],[0.2222222222222222,\"#7201a8\"],[0.3333333333333333,\"#9c179e\"],[0.4444444444444444,\"#bd3786\"],[0.5555555555555556,\"#d8576b\"],[0.6666666666666666,\"#ed7953\"],[0.7777777777777778,\"#fb9f3a\"],[0.8888888888888888,\"#fdca26\"],[1.0,\"#f0f921\"]],\"sequentialminus\":[[0.0,\"#0d0887\"],[0.1111111111111111,\"#46039f\"],[0.2222222222222222,\"#7201a8\"],[0.3333333333333333,\"#9c179e\"],[0.4444444444444444,\"#bd3786\"],[0.5555555555555556,\"#d8576b\"],[0.6666666666666666,\"#ed7953\"],[0.7777777777777778,\"#fb9f3a\"],[0.8888888888888888,\"#fdca26\"],[1.0,\"#f0f921\"]],\"diverging\":[[0,\"#8e0152\"],[0.1,\"#c51b7d\"],[0.2,\"#de77ae\"],[0.3,\"#f1b6da\"],[0.4,\"#fde0ef\"],[0.5,\"#f7f7f7\"],[0.6,\"#e6f5d0\"],[0.7,\"#b8e186\"],[0.8,\"#7fbc41\"],[0.9,\"#4d9221\"],[1,\"#276419\"]]},\"xaxis\":{\"gridcolor\":\"white\",\"linecolor\":\"white\",\"ticks\":\"\",\"title\":{\"standoff\":15},\"zerolinecolor\":\"white\",\"automargin\":true,\"zerolinewidth\":2},\"yaxis\":{\"gridcolor\":\"white\",\"linecolor\":\"white\",\"ticks\":\"\",\"title\":{\"standoff\":15},\"zerolinecolor\":\"white\",\"automargin\":true,\"zerolinewidth\":2},\"scene\":{\"xaxis\":{\"backgroundcolor\":\"#E5ECF6\",\"gridcolor\":\"white\",\"linecolor\":\"white\",\"showbackground\":true,\"ticks\":\"\",\"zerolinecolor\":\"white\",\"gridwidth\":2},\"yaxis\":{\"backgroundcolor\":\"#E5ECF6\",\"gridcolor\":\"white\",\"linecolor\":\"white\",\"showbackground\":true,\"ticks\":\"\",\"zerolinecolor\":\"white\",\"gridwidth\":2},\"zaxis\":{\"backgroundcolor\":\"#E5ECF6\",\"gridcolor\":\"white\",\"linecolor\":\"white\",\"showbackground\":true,\"ticks\":\"\",\"zerolinecolor\":\"white\",\"gridwidth\":2}},\"shapedefaults\":{\"line\":{\"color\":\"#2a3f5f\"}},\"annotationdefaults\":{\"arrowcolor\":\"#2a3f5f\",\"arrowhead\":0,\"arrowwidth\":1},\"geo\":{\"bgcolor\":\"white\",\"landcolor\":\"#E5ECF6\",\"subunitcolor\":\"white\",\"showland\":true,\"showlakes\":true,\"lakecolor\":\"white\"},\"title\":{\"x\":0.05},\"mapbox\":{\"style\":\"light\"}}},\"xaxis\":{\"anchor\":\"y\",\"domain\":[0.0,1.0],\"title\":{\"text\":\"Artist\"}},\"yaxis\":{\"anchor\":\"x\",\"domain\":[0.0,1.0],\"title\":{\"text\":\"sentiment\"}},\"legend\":{\"tracegroupgap\":0},\"title\":{\"text\":\"Sentiment by artist\"},\"boxmode\":\"group\"},                        {\"responsive\": true}                    ).then(function(){\n",
       "                            \n",
       "var gd = document.getElementById('9774123c-8e3f-41a6-bbf5-6df874c1faac');\n",
       "var x = new MutationObserver(function (mutations, observer) {{\n",
       "        var display = window.getComputedStyle(gd).display;\n",
       "        if (!display || display === 'none') {{\n",
       "            console.log([gd, 'removed!']);\n",
       "            Plotly.purge(gd);\n",
       "            observer.disconnect();\n",
       "        }}\n",
       "}});\n",
       "\n",
       "// Listen for the removal of the full notebook cells\n",
       "var notebookContainer = gd.closest('#notebook-container');\n",
       "if (notebookContainer) {{\n",
       "    x.observe(notebookContainer, {childList: true});\n",
       "}}\n",
       "\n",
       "// Listen for the clearing of the current output cell\n",
       "var outputEl = gd.closest('.output');\n",
       "if (outputEl) {{\n",
       "    x.observe(outputEl, {childList: true});\n",
       "}}\n",
       "\n",
       "                        })                };                });            </script>        </div>"
      ]
     },
     "metadata": {},
     "output_type": "display_data"
    }
   ],
   "source": [
    "fig = px.box(df, x='Artist', y='sentiment', title='Sentiment by artist')\n",
    "fig.show()"
   ]
  },
  {
   "cell_type": "markdown",
   "metadata": {
    "id": "yi8PlNQg16s4"
   },
   "source": [
    "Now our dataset is ready for models."
   ]
  },
  {
   "cell_type": "code",
   "execution_count": 36,
   "metadata": {
    "id": "nC6E_5xP16u_",
    "scrolled": false
   },
   "outputs": [
    {
     "name": "stdout",
     "output_type": "stream",
     "text": [
      "<class 'pandas.core.frame.DataFrame'>\n",
      "Int64Index: 506 entries, 0 to 542\n",
      "Data columns (total 18 columns):\n",
      " #   Column                  Non-Null Count  Dtype  \n",
      "---  ------                  --------------  -----  \n",
      " 0   Artist                  506 non-null    object \n",
      " 1   Song                    506 non-null    object \n",
      " 2   Lyrics                  506 non-null    object \n",
      " 3   Translated_Lyrics       506 non-null    object \n",
      " 4   lines                   506 non-null    int64  \n",
      " 5   tokens_hy               506 non-null    object \n",
      " 6   tokens_en               506 non-null    object \n",
      " 7   stems_en                506 non-null    object \n",
      " 8   n_stems_en              506 non-null    int64  \n",
      " 9   n_tokens_hy             506 non-null    int64  \n",
      " 10  stems_en_str            506 non-null    object \n",
      " 11  tf_idf_vector           506 non-null    object \n",
      " 12  tf_idf_score            506 non-null    float64\n",
      " 13  n_unique_stems_en       506 non-null    int64  \n",
      " 14  unique_stems_ratio_en   506 non-null    float64\n",
      " 15  n_unique_tokens_hy      506 non-null    int64  \n",
      " 16  unique_tokens_ratio_hy  506 non-null    float64\n",
      " 17  sentiment               506 non-null    float64\n",
      "dtypes: float64(4), int64(5), object(9)\n",
      "memory usage: 75.1+ KB\n"
     ]
    }
   ],
   "source": [
    "df.info()"
   ]
  },
  {
   "cell_type": "code",
   "execution_count": null,
   "metadata": {},
   "outputs": [],
   "source": [
    "feature = ['n_stems_diff', 'n_stems_diff_std',\n",
    "       'unique_stems_ratio_diff', 'unique_stems_ratio_diff_std',\n",
    "       'stems_per_line_diff', 'stems_per_line_diff_std', 'tf_idf_score_diff',\n",
    "       'tf_idf_score_diff_std', 'polarity_diff', 'polarity_diff_std',\n",
    "       'vector_similarity']\n",
    "df_lst = []\n",
    "for f in feature:\n",
    "    df = artist_song_feature['train'][['same_artist']]\n",
    "    df['feature'] = f\n",
    "    df['value'] = artist_song_feature['train'][f]\n",
    "    df_lst.append(df)\n",
    "feature_df = pd.concat(df_lst)\n",
    "feature_df.head()"
   ]
  },
  {
   "cell_type": "markdown",
   "metadata": {},
   "source": [
    "<a name=\"models\"></a>\n",
    "\n",
    "# Models"
   ]
  },
  {
   "cell_type": "markdown",
   "metadata": {},
   "source": [
    "Train/Test split."
   ]
  },
  {
   "cell_type": "code",
   "execution_count": 37,
   "metadata": {},
   "outputs": [
    {
     "name": "stdout",
     "output_type": "stream",
     "text": [
      "Train set shape: (404, 8) (404,)\n",
      "Test set shape: (102, 8) (102,)\n"
     ]
    }
   ],
   "source": [
    "from sklearn.model_selection import train_test_split\n",
    "\n",
    "features = df[['n_stems_en', 'n_tokens_hy', 'n_unique_stems_en', 'unique_stems_ratio_en', 'n_unique_tokens_hy', 'unique_tokens_ratio_hy', 'sentiment', 'tf_idf_score']]\n",
    "target = df['Artist']\n",
    "\n",
    "# Split the data into train and test sets\n",
    "train_X, test_X, train_y, test_y = train_test_split(features, target, test_size=0.1, random_state=42)\n",
    "\n",
    "print(\"Train set shape:\", train_X.shape, train_y.shape)\n",
    "print(\"Test set shape:\", test_X.shape, test_y.shape)"
   ]
  },
  {
   "cell_type": "markdown",
   "metadata": {},
   "source": [
    "### SVM"
   ]
  },
  {
   "cell_type": "code",
   "execution_count": 40,
   "metadata": {},
   "outputs": [],
   "source": [
    "from sklearn.svm import SVC\n",
    "from sklearn.model_selection import GridSearchCV\n",
    "from sklearn.preprocessing import LabelEncoder\n",
    "from sklearn.metrics import accuracy_score, classification_report"
   ]
  },
  {
   "cell_type": "code",
   "execution_count": 41,
   "metadata": {},
   "outputs": [],
   "source": [
    "label_encoder = LabelEncoder()\n",
    "train_y_encoded = label_encoder.fit_transform(train_y)\n",
    "test_y_encoded = label_encoder.transform(test_y)"
   ]
  },
  {
   "cell_type": "markdown",
   "metadata": {},
   "source": [
    "We are going to use grid search to find best parameters for SVM classifier."
   ]
  },
  {
   "cell_type": "code",
   "execution_count": 43,
   "metadata": {},
   "outputs": [
    {
     "name": "stdout",
     "output_type": "stream",
     "text": [
      "Accuracy: 0.28431372549019607\n"
     ]
    }
   ],
   "source": [
    "# Define the SVM classifier\n",
    "svm = SVC()\n",
    "\n",
    "# Define the hyperparameters for grid search\n",
    "param_grid = {\n",
    "    'C': [0.1, 1, 10],\n",
    "    'kernel': ['linear', 'rbf','poly']    \n",
    "}\n",
    "\n",
    "grid_search = GridSearchCV(svm, param_grid, cv=5)\n",
    "grid_search.fit(train_X, train_y_encoded)\n",
    "\n",
    "best_params = grid_search.best_params_\n",
    "best_model = grid_search.best_estimator_\n",
    "\n",
    "best_model.fit(train_X, train_y_encoded)\n",
    "\n",
    "# Predict the target variable for the test set\n",
    "predictions_encoded = best_model.predict(test_X)\n",
    "predictions = label_encoder.inverse_transform(predictions_encoded)\n",
    "\n",
    "# Calculate the accuracy of the model\n",
    "accuracy = accuracy_score(test_y, predictions)\n",
    "print(\"Accuracy:\", accuracy)\n"
   ]
  },
  {
   "cell_type": "code",
   "execution_count": 44,
   "metadata": {},
   "outputs": [
    {
     "name": "stdout",
     "output_type": "stream",
     "text": [
      "Classification Report:\n",
      "                    precision    recall  f1-score     support\n",
      "Aram MP3             0.000000  0.000000  0.000000    4.000000\n",
      "Arame                0.000000  0.000000  0.000000    2.000000\n",
      "Arsen Safaryan       0.000000  0.000000  0.000000    4.000000\n",
      "Empyray              0.000000  0.000000  0.000000    2.000000\n",
      "HT Hayko             0.750000  1.000000  0.857143    3.000000\n",
      "Harout Pamboukjian   0.000000  0.000000  0.000000    8.000000\n",
      "Mi Qani Hogi         0.250000  0.200000  0.222222    5.000000\n",
      "Misho                0.666667  0.250000  0.363636    8.000000\n",
      "Razmik Amyan         0.000000  0.000000  0.000000    3.000000\n",
      "Silva Hakobyan       0.000000  0.000000  0.000000    2.000000\n",
      "ԱՐԹՈՒՐ ՄԵՍՉՅԱՆ       0.176471  0.300000  0.222222   10.000000\n",
      "Անդրե                0.000000  0.000000  0.000000    3.000000\n",
      "Լիլիթ Հովհաննիսյան   0.166667  0.333333  0.222222    3.000000\n",
      "ԿՈՄԻՏԱՍ              0.285714  0.750000  0.413793    8.000000\n",
      "Հայկ Հակոբյան        0.200000  0.166667  0.181818    6.000000\n",
      "Միհրան Ծառուկյան     0.000000  0.000000  0.000000    1.000000\n",
      "ՌՈՒԲԵՆ ՀԱԽՎԵՐԴՅԱՆ    0.294118  0.500000  0.370370   20.000000\n",
      "ՍԱՅԱԹ-ՆՈՎԱ           1.000000  0.500000  0.666667    4.000000\n",
      "Սիրուշո              0.000000  0.000000  0.000000    6.000000\n",
      "accuracy             0.284314  0.284314  0.284314    0.284314\n",
      "macro avg            0.199455  0.210526  0.185268  102.000000\n",
      "weighted avg         0.239864  0.284314  0.234861  102.000000\n"
     ]
    },
    {
     "name": "stderr",
     "output_type": "stream",
     "text": [
      "C:\\Users\\User\\anaconda3\\lib\\site-packages\\sklearn\\metrics\\_classification.py:1318: UndefinedMetricWarning:\n",
      "\n",
      "Precision and F-score are ill-defined and being set to 0.0 in labels with no predicted samples. Use `zero_division` parameter to control this behavior.\n",
      "\n",
      "C:\\Users\\User\\anaconda3\\lib\\site-packages\\sklearn\\metrics\\_classification.py:1318: UndefinedMetricWarning:\n",
      "\n",
      "Precision and F-score are ill-defined and being set to 0.0 in labels with no predicted samples. Use `zero_division` parameter to control this behavior.\n",
      "\n",
      "C:\\Users\\User\\anaconda3\\lib\\site-packages\\sklearn\\metrics\\_classification.py:1318: UndefinedMetricWarning:\n",
      "\n",
      "Precision and F-score are ill-defined and being set to 0.0 in labels with no predicted samples. Use `zero_division` parameter to control this behavior.\n",
      "\n"
     ]
    }
   ],
   "source": [
    "report = classification_report(test_y, predictions, output_dict=True)\n",
    "report_df = pd.DataFrame(report).transpose()\n",
    "print(\"Classification Report:\")\n",
    "print(report_df)"
   ]
  },
  {
   "cell_type": "code",
   "execution_count": null,
   "metadata": {},
   "outputs": [],
   "source": []
  }
 ],
 "metadata": {
  "colab": {
   "provenance": []
  },
  "kernelspec": {
   "display_name": "Python 3 (ipykernel)",
   "language": "python",
   "name": "python3"
  },
  "language_info": {
   "codemirror_mode": {
    "name": "ipython",
    "version": 3
   },
   "file_extension": ".py",
   "mimetype": "text/x-python",
   "name": "python",
   "nbconvert_exporter": "python",
   "pygments_lexer": "ipython3",
   "version": "3.9.13"
  }
 },
 "nbformat": 4,
 "nbformat_minor": 1
}
